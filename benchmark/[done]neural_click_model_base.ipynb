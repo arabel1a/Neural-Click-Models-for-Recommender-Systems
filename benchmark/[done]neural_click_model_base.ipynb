{
 "cells": [
  {
   "cell_type": "code",
   "execution_count": 1,
   "id": "5c383908",
   "metadata": {},
   "outputs": [
    {
     "data": {
      "text/plain": [
       "<torch._C.Generator at 0x7f683c37abf0>"
      ]
     },
     "execution_count": 1,
     "metadata": {},
     "output_type": "execute_result"
    }
   ],
   "source": [
    "import torch\n",
    "import random\n",
    "import datetime\n",
    "import pandas as pd\n",
    "import numpy as np\n",
    "import os\n",
    "\n",
    "from torch.utils.data import Dataset\n",
    "from src.datasets import RL4RS, ContentWise, DummyData\n",
    "from src.utils import train, get_dummy_data, get_train_val_test_tmatrix_tnumitems, fit_treshold\n",
    "from src.embeddings import RecsysEmbedding\n",
    "from sklearn.linear_model import LogisticRegression\n",
    "\n",
    "experiment_name = 'NeuralClickModel'\n",
    "device = 'cuda:0'\n",
    "seed = 7331\n",
    "pkl_path = '../pkl/'\n",
    "\n",
    "\n",
    "random.seed(seed)\n",
    "np.random.seed(seed)\n",
    "torch.manual_seed(seed)"
   ]
  },
  {
   "cell_type": "code",
   "execution_count": 2,
   "id": "8d7ef1f9",
   "metadata": {},
   "outputs": [],
   "source": [
    "def flatten(true, pred, mask, to_cpu=True):\n",
    "    mask = mask.flatten()\n",
    "    nnz_idx = mask.nonzero()[:, 0]\n",
    "    true, pred = [x.flatten()[nnz_idx] for x in [true, pred]]\n",
    "    if to_cpu:\n",
    "        true, pred = [x.cpu().numpy() for x in [true, pred]]\n",
    "    return true, pred"
   ]
  },
  {
   "cell_type": "markdown",
   "id": "0bca4881",
   "metadata": {},
   "source": [
    "# Модель"
   ]
  },
  {
   "cell_type": "code",
   "execution_count": 3,
   "id": "fac4ae1a",
   "metadata": {},
   "outputs": [],
   "source": [
    "import torch.nn as nn\n",
    "import torch.nn.functional as F\n",
    "\n",
    "class NeuralClickModel(nn.Module):\n",
    "    def __init__(self, embedding, readout=False):\n",
    "        super().__init__()\n",
    "        \n",
    "        self.embedding = embedding\n",
    "        \n",
    "        self.emb_dim = embedding.embedding_dim\n",
    "        self.rnn_layer = nn.GRU(\n",
    "            input_size=self.emb_dim * 2, \n",
    "            hidden_size=self.emb_dim, \n",
    "            batch_first=True\n",
    "        )\n",
    "        self.out_layer = nn.Linear(self.emb_dim, 1)\n",
    "        \n",
    "        self.thr = -1.5\n",
    "        self.readout = readout\n",
    "        self.readout_mode = 'threshold' # ['soft' ,'threshold', 'sample', 'diff_sample']\n",
    "        \n",
    "        self.calibration = False\n",
    "        self.w = 1\n",
    "        self.b = 0\n",
    "\n",
    "    def forward(self, batch):\n",
    "        item_embs, user_embs = self.embedding(batch)\n",
    "        shp = item_embs.shape\n",
    "        max_sequence = item_embs.size(1)\n",
    "        # ilya format:\n",
    "        # 'items': (batch, slate, 2*embedding_dim ) 2, нужно для readout, по умолчанию ноли на половине эмбеддинга\n",
    "        # 'clicks': (batch, slate)\n",
    "        # 'users': (1, batch, embedding_dim), \n",
    "        # 'mask': (batch, slate)\n",
    "        \n",
    "        x = {}\n",
    "        x['items'] = torch.cat(\n",
    "            [\n",
    "                item_embs.flatten(0,1),\n",
    "                torch.zeros_like(item_embs.flatten(0,1)),\n",
    "            ],\n",
    "            dim = -1\n",
    "        )\n",
    "                \n",
    "        if self.training:\n",
    "            indices = (batch['length'] - 1)\n",
    "        else:\n",
    "            indices = (batch['in_length'] - 1)\n",
    "        indices[indices<0] = 0\n",
    "        indices = indices[:, None, None].repeat(1, 1, user_embs.size(-1))\n",
    "        user_embs = user_embs.gather(1, indices).squeeze(-2).unsqueeze(0)\n",
    "        x['users'] = user_embs.repeat_interleave(max_sequence, 1)\n",
    "        x['clicks'] = (batch['responses'].flatten(0,1) > 0 ).int().clone()\n",
    "        x['mask'] = batch['slates_mask'].flatten(0,1).clone()\n",
    "        \n",
    "        items = x['items']\n",
    "        h = x['users']\n",
    "        \n",
    "        if self.readout:\n",
    "            res = []\n",
    "            seq_len = items.shape[1]\n",
    "            for i in range(seq_len):\n",
    "#                 print(items[:,[i],:])\n",
    "                output, h = self.rnn_layer(items[:,[i],:], h)\n",
    "                y = self.out_layer(output)[:, :, 0]\n",
    "                \n",
    "                # readout\n",
    "                if i + 1 < seq_len:\n",
    "                    if self.readout_mode == 'threshold':\n",
    "                        items[:, [i+1], self.emb_dim:] *= (y.detach()[:, :, None] > self.thr).to(torch.float32)\n",
    "                    elif self.readout_mode == 'soft':\n",
    "                        items[:, [i+1], self.emb_dim:] *= torch.sigmoid(y)[:, :, None]\n",
    "                    elif self.readout_mode == 'diff_sample' or self.readout_mode == 'sample':\n",
    "                        eps = 1e-8\n",
    "                        gumbel_sample = -( (torch.rand_like(y) + eps).log() / (torch.rand_like(y) + eps).log() + eps).log()\n",
    "                        T = 0.3\n",
    "                        bernoulli_sample = torch.sigmoid( (nn.LogSigmoid()(self.w * y + self.b) + gumbel_sample) / T )\n",
    "                        if self.readout_mode == 'sample':\n",
    "                            bernoulli_sample = bernoulli_sample.detach()\n",
    "                        items[:, [i+1], self.emb_dim:] *= bernoulli_sample[:, :, None]\n",
    "                    else:\n",
    "                        raise\n",
    "                    \n",
    "                res.append(y)\n",
    "        \n",
    "            y = torch.cat(res, axis=1)\n",
    "            \n",
    "        else:\n",
    "            items[:, 1:, self.emb_dim:] *= x['clicks'][:, :-1, None]\n",
    "            rnn_out, _ = self.rnn_layer(items, h)\n",
    "            y = self.out_layer(rnn_out)[:, :, 0]\n",
    "        \n",
    "        \n",
    "        if self.calibration and self.training:\n",
    "            clicks_flat, logits_flat = flatten(x['clicks'], y.detach(), x['mask'])\n",
    "            logreg = LogisticRegression()\n",
    "            logreg.fit(logits_flat[:, None], clicks_flat)\n",
    "            γ = 0.3\n",
    "            self.w = (1 - γ) * self.w + γ * logreg.coef_[0, 0]\n",
    "            self.b = (1 - γ) * self.b + γ * logreg.intercept_[0]\n",
    "            y = self.w * y + self.b\n",
    "        else:\n",
    "            y = self.w * y + self.b\n",
    "            \n",
    "        return y.reshape(shp[:-1])"
   ]
  },
  {
   "cell_type": "markdown",
   "id": "b7f10395",
   "metadata": {},
   "source": [
    "# Игрушечный датасет: проверим, что сходится к идеальным метрикам"
   ]
  },
  {
   "cell_type": "code",
   "execution_count": 4,
   "id": "e3b0c48a",
   "metadata": {},
   "outputs": [
    {
     "name": "stdout",
     "output_type": "stream",
     "text": [
      "biulding affinity matrix...\n"
     ]
    },
    {
     "name": "stderr",
     "output_type": "stream",
     "text": [
      "3it [00:00, 3043.03it/s]\n"
     ]
    },
    {
     "name": "stdout",
     "output_type": "stream",
     "text": [
      "Test before learning: {'f1': 0.0, 'roc-auc': 0.3333333134651184, 'accuracy': 0.75}\n"
     ]
    },
    {
     "data": {
      "application/vnd.jupyter.widget-view+json": {
       "model_id": "3df332073c1941bf94bfda1914028bd8",
       "version_major": 2,
       "version_minor": 0
      },
      "text/plain": [
       "train:   0%|          | 0/5000 [00:00<?, ?it/s]"
      ]
     },
     "metadata": {},
     "output_type": "display_data"
    },
    {
     "name": "stdout",
     "output_type": "stream",
     "text": [
      "Val update: epoch: 0 |accuracy: 0.25 | f1: 0.4000000059604645 | auc: 0.3333333134651184 | treshold: 0.01\n",
      "Test: accuracy: 0.25 | f1: 0.4000000059604645 | auc: 0.3333333134651184 | \n",
      "Val update: epoch: 41 |accuracy: 0.25 | f1: 0.4000000059604645 | auc: 0.6666666269302368 | treshold: 0.01\n",
      "Test: accuracy: 0.25 | f1: 0.4000000059604645 | auc: 0.6666666269302368 | \n",
      "Val update: epoch: 44 |accuracy: 0.25 | f1: 0.4000000059604645 | auc: 1.0 | treshold: 0.01\n",
      "Test: accuracy: 0.25 | f1: 0.4000000059604645 | auc: 1.0 | \n",
      "Val update: epoch: 84 |accuracy: 0.75 | f1: 0.6666666865348816 | auc: 1.0 | treshold: 0.36000000000000004\n",
      "Test: accuracy: 0.75 | f1: 0.6666666865348816 | auc: 1.0 | \n",
      "Val update: epoch: 117 |accuracy: 1.0 | f1: 1.0 | auc: 1.0 | treshold: 0.38\n",
      "Test: accuracy: 1.0 | f1: 1.0 | auc: 1.0 | \n"
     ]
    },
    {
     "data": {
      "text/plain": [
       "(NeuralClickModel(\n",
       "   (embedding): RecsysEmbedding()\n",
       "   (rnn_layer): GRU(4, 2, batch_first=True)\n",
       "   (out_layer): Linear(in_features=2, out_features=1, bias=True)\n",
       " ),\n",
       " {'f1': 1.0, 'roc-auc': 1.0, 'accuracy': 1.0})"
      ]
     },
     "execution_count": 4,
     "metadata": {},
     "output_type": "execute_result"
    }
   ],
   "source": [
    "d = DummyData()\n",
    "dummy_loader, dummy_matrix = get_dummy_data(d)\n",
    "\n",
    "model = NeuralClickModel(\n",
    "    RecsysEmbedding(d.n_items, dummy_matrix, embeddings='svd', embedding_dim = 2),\n",
    "    readout=False\n",
    ").to('cpu')\n",
    "\n",
    "train(\n",
    "    model, \n",
    "    dummy_loader, dummy_loader, dummy_loader,\n",
    "    device=device, lr=1e-3, num_epochs=5000, dummy=True,\n",
    "    silent=True,\n",
    ")\n"
   ]
  },
  {
   "cell_type": "markdown",
   "id": "d75e3124",
   "metadata": {},
   "source": [
    "# ContentWise"
   ]
  },
  {
   "cell_type": "code",
   "execution_count": 5,
   "id": "cdd02bb7",
   "metadata": {},
   "outputs": [
    {
     "name": "stdout",
     "output_type": "stream",
     "text": [
      "20216 data points among 108 batches\n"
     ]
    }
   ],
   "source": [
    "content_wise_results = []\n",
    "dataset = ContentWise.load(os.path.join(pkl_path, 'cw.pkl'))\n",
    "(\n",
    "    train_loader, \n",
    "    val_loader, \n",
    "    test_loader, \n",
    "    train_user_item_matrix, \n",
    "    train_num_items \n",
    ") = get_train_val_test_tmatrix_tnumitems(dataset, batch_size=150)\n",
    "\n",
    "print(f\"{len(dataset)} data points among {len(train_loader)} batches\")"
   ]
  },
  {
   "cell_type": "code",
   "execution_count": 6,
   "id": "54fb5b28",
   "metadata": {},
   "outputs": [
    {
     "name": "stdout",
     "output_type": "stream",
     "text": [
      "\n",
      "Evaluating NeuralClickModel with svd embeddings\n",
      "Test before learning: {'f1': 0.17558717727661133, 'roc-auc': 0.4699956774711609, 'accuracy': 0.11125952005386353}\n"
     ]
    },
    {
     "data": {
      "application/vnd.jupyter.widget-view+json": {
       "model_id": "bc6bdd3bbebb4f9cb48a3ea0611a9b12",
       "version_major": 2,
       "version_minor": 0
      },
      "text/plain": [
       "train:   0%|          | 0/5000 [00:00<?, ?it/s]"
      ]
     },
     "metadata": {},
     "output_type": "display_data"
    },
    {
     "name": "stdout",
     "output_type": "stream",
     "text": [
      "Val update: epoch: 0 |accuracy: 0.42929893732070923 | f1: 0.20975828170776367 | auc: 0.6129906177520752 | treshold: 0.09\n",
      "Test: accuracy: 0.4240484833717346 | f1: 0.2058972269296646 | auc: 0.6036361455917358 | \n",
      "Val update: epoch: 1 |accuracy: 0.6956035494804382 | f1: 0.22938480973243713 | auc: 0.6154359579086304 | treshold: 0.13\n",
      "Test: accuracy: 0.6944913268089294 | f1: 0.22248786687850952 | auc: 0.6070038676261902 | \n",
      "Val update: epoch: 2 |accuracy: 0.7702124118804932 | f1: 0.23237289488315582 | auc: 0.6272104382514954 | treshold: 0.12\n",
      "Test: accuracy: 0.7689383625984192 | f1: 0.2237672656774521 | auc: 0.616296648979187 | \n",
      "Val update: epoch: 3 |accuracy: 0.7970297932624817 | f1: 0.24255739152431488 | auc: 0.6442034244537354 | treshold: 0.12\n",
      "Test: accuracy: 0.7981329560279846 | f1: 0.23128947615623474 | auc: 0.632957398891449 | \n",
      "Val update: epoch: 4 |accuracy: 0.7935561537742615 | f1: 0.24502098560333252 | auc: 0.6525763273239136 | treshold: 0.13\n",
      "Test: accuracy: 0.7948450446128845 | f1: 0.2356029599905014 | auc: 0.6424660086631775 | \n",
      "Val update: epoch: 5 |accuracy: 0.7555967569351196 | f1: 0.24491837620735168 | auc: 0.6579521894454956 | treshold: 0.12\n",
      "Test: accuracy: 0.756696879863739 | f1: 0.23711340129375458 | auc: 0.6475433111190796 | \n",
      "Val update: epoch: 6 |accuracy: 0.7870799899101257 | f1: 0.24695470929145813 | auc: 0.6590126156806946 | treshold: 0.14\n",
      "Test: accuracy: 0.7892380356788635 | f1: 0.24358636140823364 | auc: 0.6493368148803711 | \n",
      "Val update: epoch: 7 |accuracy: 0.6823273301124573 | f1: 0.2401689887046814 | auc: 0.6595280170440674 | treshold: 0.13\n",
      "Test: accuracy: 0.6810609102249146 | f1: 0.23265177011489868 | auc: 0.6463932991027832 | \n",
      "Val update: epoch: 10 |accuracy: 0.8273207545280457 | f1: 0.2428036630153656 | auc: 0.6601235270500183 | treshold: 0.13\n",
      "Test: accuracy: 0.8322007060050964 | f1: 0.23521541059017181 | auc: 0.6489080190658569 | \n",
      "Val update: epoch: 11 |accuracy: 0.8710498809814453 | f1: 0.22871731221675873 | auc: 0.661077618598938 | treshold: 0.13\n",
      "Test: accuracy: 0.8730056285858154 | f1: 0.2130252867937088 | auc: 0.6459215879440308 | \n",
      "Val update: epoch: 12 |accuracy: 0.868238627910614 | f1: 0.24032586812973022 | auc: 0.6629867553710938 | treshold: 0.13\n",
      "Test: accuracy: 0.8701434135437012 | f1: 0.2219681590795517 | auc: 0.6489248275756836 | \n",
      "Val update: epoch: 14 |accuracy: 0.8240973949432373 | f1: 0.2611437439918518 | auc: 0.6668680906295776 | treshold: 0.14\n",
      "Test: accuracy: 0.8268285393714905 | f1: 0.25073033571243286 | auc: 0.6540763974189758 | \n",
      "Val update: epoch: 17 |accuracy: 0.8742585182189941 | f1: 0.2568072974681854 | auc: 0.6710662841796875 | treshold: 0.14\n",
      "Test: accuracy: 0.8770127296447754 | f1: 0.24696683883666992 | auc: 0.6591915488243103 | \n",
      "Val update: epoch: 22 |accuracy: 0.8775261044502258 | f1: 0.2634327709674835 | auc: 0.6739085912704468 | treshold: 0.14\n",
      "Test: accuracy: 0.8779961466789246 | f1: 0.24805499613285065 | auc: 0.6608503460884094 | \n",
      "Val update: epoch: 26 |accuracy: 0.8856508135795593 | f1: 0.25016888976097107 | auc: 0.6756662726402283 | treshold: 0.16\n",
      "Test: accuracy: 0.8871259093284607 | f1: 0.23801030218601227 | auc: 0.6601663827896118 | \n",
      "Val update: epoch: 34 |accuracy: 0.8795425295829773 | f1: 0.27485379576683044 | auc: 0.6821429133415222 | treshold: 0.16\n",
      "Test: accuracy: 0.88173907995224 | f1: 0.2637302279472351 | auc: 0.6682602763175964 | \n",
      "Val update: epoch: 45 |accuracy: 0.8878880143165588 | f1: 0.2638445794582367 | auc: 0.6842769384384155 | treshold: 0.16\n",
      "Test: accuracy: 0.8900908827781677 | f1: 0.2496993988752365 | auc: 0.6724574565887451 | \n",
      "\n",
      "Evaluating NeuralClickModel with neural embeddings\n",
      "Test before learning: {'f1': 0.15869271755218506, 'roc-auc': 0.4950113296508789, 'accuracy': 0.5601872801780701}\n"
     ]
    },
    {
     "data": {
      "application/vnd.jupyter.widget-view+json": {
       "model_id": "bc7cf83e15f64d04b56a4ca48343e5f4",
       "version_major": 2,
       "version_minor": 0
      },
      "text/plain": [
       "train:   0%|          | 0/5000 [00:00<?, ?it/s]"
      ]
     },
     "metadata": {},
     "output_type": "display_data"
    },
    {
     "name": "stdout",
     "output_type": "stream",
     "text": [
      "Val update: epoch: 0 |accuracy: 0.204942524433136 | f1: 0.1885562390089035 | auc: 0.6216684579849243 | treshold: 0.09999999999999999\n",
      "Test: accuracy: 0.20665208995342255 | f1: 0.18880383670330048 | auc: 0.6129509210586548 | \n",
      "Val update: epoch: 1 |accuracy: 0.7687110900878906 | f1: 0.25610679388046265 | auc: 0.661481499671936 | treshold: 0.15000000000000002\n",
      "Test: accuracy: 0.7629056572914124 | f1: 0.2408234179019928 | auc: 0.6526389122009277 | \n",
      "Val update: epoch: 2 |accuracy: 0.7808392643928528 | f1: 0.2747199237346649 | auc: 0.6948072910308838 | treshold: 0.14\n",
      "Test: accuracy: 0.7776130437850952 | f1: 0.26767846941947937 | auc: 0.6832988262176514 | \n",
      "Val update: epoch: 3 |accuracy: 0.8075683116912842 | f1: 0.29739895462989807 | auc: 0.7154268026351929 | treshold: 0.15000000000000002\n",
      "Test: accuracy: 0.8043124079704285 | f1: 0.2838418483734131 | auc: 0.7015383243560791 | \n",
      "Val update: epoch: 4 |accuracy: 0.8339146971702576 | f1: 0.303112655878067 | auc: 0.7200019359588623 | treshold: 0.16\n",
      "Test: accuracy: 0.8328758478164673 | f1: 0.289352148771286 | auc: 0.7100395560264587 | \n",
      "Val update: epoch: 6 |accuracy: 0.819637656211853 | f1: 0.3126542568206787 | auc: 0.727918267250061 | treshold: 0.17\n",
      "Test: accuracy: 0.8194307684898376 | f1: 0.3028448522090912 | auc: 0.7176080942153931 | \n",
      "Val update: epoch: 17 |accuracy: 0.861585795879364 | f1: 0.3096461594104767 | auc: 0.7282671928405762 | treshold: 0.22\n",
      "Test: accuracy: 0.8606613874435425 | f1: 0.2975952625274658 | auc: 0.7197078466415405 | \n"
     ]
    }
   ],
   "source": [
    "for embeddings in ['svd', 'neural']:\n",
    "    print(f\"\\nEvaluating {experiment_name} with {embeddings} embeddings\")\n",
    "    model = NeuralClickModel(\n",
    "        RecsysEmbedding(train_num_items, train_user_item_matrix, embeddings=embeddings).to('cpu'),\n",
    "    ).to(device)\n",
    "\n",
    "    _, metrics = train(\n",
    "        model, \n",
    "        train_loader, val_loader, test_loader, \n",
    "        device=device, lr=1e-3, num_epochs=5000, early_stopping=7,\n",
    "       silent=True, \n",
    "    )\n",
    "    \n",
    "    metrics['embeddings'] = embeddings\n",
    "    content_wise_results.append(metrics)"
   ]
  },
  {
   "cell_type": "code",
   "execution_count": 7,
   "id": "dbbe3795-c4a1-46a1-9096-06f0ef40c314",
   "metadata": {},
   "outputs": [],
   "source": [
    "pd.DataFrame(content_wise_results).to_csv(f'results/cw_{experiment_name}.csv')\n",
    "del dataset, train_loader, val_loader, test_loader, train_user_item_matrix, train_num_items"
   ]
  },
  {
   "cell_type": "markdown",
   "id": "75c75010",
   "metadata": {},
   "source": [
    "# RL4RS"
   ]
  },
  {
   "cell_type": "code",
   "execution_count": 8,
   "id": "e63efbd3",
   "metadata": {},
   "outputs": [
    {
     "name": "stdout",
     "output_type": "stream",
     "text": [
      "45942 data points among 106 batches\n"
     ]
    }
   ],
   "source": [
    "rl4rs_results = []\n",
    "dataset = RL4RS.load(os.path.join(pkl_path, 'rl4rs.pkl'))\n",
    "(\n",
    "    train_loader, \n",
    "    val_loader, \n",
    "    test_loader, \n",
    "    train_user_item_matrix, \n",
    "    train_num_items \n",
    ") = get_train_val_test_tmatrix_tnumitems(dataset, batch_size=350)\n",
    "\n",
    "print(f\"{len(dataset)} data points among {len(train_loader)} batches\")"
   ]
  },
  {
   "cell_type": "code",
   "execution_count": 9,
   "id": "44ccc886",
   "metadata": {},
   "outputs": [
    {
     "name": "stdout",
     "output_type": "stream",
     "text": [
      "\n",
      "Evaluating NeuralClickModel with explicit embeddings\n",
      "Test before learning: {'f1': 0.40662556886672974, 'roc-auc': 0.4045509099960327, 'accuracy': 0.3970983028411865}\n"
     ]
    },
    {
     "data": {
      "application/vnd.jupyter.widget-view+json": {
       "model_id": "0f7dd68dfe0449238ac71c0c9af322ab",
       "version_major": 2,
       "version_minor": 0
      },
      "text/plain": [
       "train:   0%|          | 0/5000 [00:00<?, ?it/s]"
      ]
     },
     "metadata": {},
     "output_type": "display_data"
    },
    {
     "name": "stdout",
     "output_type": "stream",
     "text": [
      "Val update: epoch: 0 |accuracy: 0.7775601148605347 | f1: 0.8413024544715881 | auc: 0.8329609632492065 | treshold: 0.41000000000000003\n",
      "Test: accuracy: 0.7776568531990051 | f1: 0.8435452580451965 | auc: 0.8343753218650818 | \n",
      "Val update: epoch: 1 |accuracy: 0.7975378632545471 | f1: 0.8494938611984253 | auc: 0.8610242605209351 | treshold: 0.38\n",
      "Test: accuracy: 0.8009430766105652 | f1: 0.8541408181190491 | auc: 0.8659748435020447 | \n",
      "Val update: epoch: 2 |accuracy: 0.7991583347320557 | f1: 0.8379138112068176 | auc: 0.875579833984375 | treshold: 0.42000000000000004\n",
      "Test: accuracy: 0.8076411485671997 | f1: 0.847251296043396 | auc: 0.8831859230995178 | \n",
      "Val update: epoch: 3 |accuracy: 0.798747181892395 | f1: 0.8300206065177917 | auc: 0.8897788524627686 | treshold: 0.47000000000000003\n",
      "Test: accuracy: 0.8094305396080017 | f1: 0.841908872127533 | auc: 0.8978234529495239 | \n",
      "Val update: epoch: 4 |accuracy: 0.822763979434967 | f1: 0.854157567024231 | auc: 0.8998100161552429 | treshold: 0.45\n",
      "Test: accuracy: 0.8304437398910522 | f1: 0.8627089858055115 | auc: 0.9087238311767578 | \n",
      "Val update: epoch: 5 |accuracy: 0.8353891372680664 | f1: 0.876371443271637 | auc: 0.9059751033782959 | treshold: 0.39\n",
      "Test: accuracy: 0.8455325961112976 | f1: 0.8853059411048889 | auc: 0.9142135977745056 | \n",
      "Val update: epoch: 6 |accuracy: 0.832704484462738 | f1: 0.863755464553833 | auc: 0.9082423448562622 | treshold: 0.38\n",
      "Test: accuracy: 0.8394631743431091 | f1: 0.8711449503898621 | auc: 0.9153940677642822 | \n",
      "Val update: epoch: 7 |accuracy: 0.8393073081970215 | f1: 0.8780156373977661 | auc: 0.9096081256866455 | treshold: 0.39\n",
      "Test: accuracy: 0.8491839170455933 | f1: 0.8867091536521912 | auc: 0.9169304370880127 | \n",
      "Val update: epoch: 11 |accuracy: 0.8357277512550354 | f1: 0.8657813668251038 | auc: 0.9116610288619995 | treshold: 0.34\n",
      "Test: accuracy: 0.8422923684120178 | f1: 0.8729001879692078 | auc: 0.9178029298782349 | \n",
      "Val update: epoch: 12 |accuracy: 0.8441203236579895 | f1: 0.8802111148834229 | auc: 0.9123227596282959 | treshold: 0.35000000000000003\n",
      "Test: accuracy: 0.851432740688324 | f1: 0.8872495293617249 | auc: 0.9192201495170593 | \n",
      "Val update: epoch: 17 |accuracy: 0.8444347977638245 | f1: 0.8752714991569519 | auc: 0.913135290145874 | treshold: 0.37\n",
      "Test: accuracy: 0.8485068082809448 | f1: 0.880084216594696 | auc: 0.9190462827682495 | \n",
      "Val update: epoch: 23 |accuracy: 0.8445315361022949 | f1: 0.8775805830955505 | auc: 0.913712739944458 | treshold: 0.3\n",
      "Test: accuracy: 0.8514085412025452 | f1: 0.8843903541564941 | auc: 0.9194204807281494 | \n",
      "Val update: epoch: 25 |accuracy: 0.8453054428100586 | f1: 0.878656804561615 | auc: 0.9140284061431885 | treshold: 0.35000000000000003\n",
      "Test: accuracy: 0.8529561161994934 | f1: 0.8861342668533325 | auc: 0.9199016094207764 | \n"
     ]
    },
    {
     "name": "stderr",
     "output_type": "stream",
     "text": [
      "/opt/conda/envs/myenv/lib/python3.10/site-packages/torchmetrics/utilities/prints.py:43: UserWarning: No negative samples in targets, false positive value should be meaningless. Returning zero tensor in false positive score\n",
      "  warnings.warn(*args, **kwargs)  # noqa: B028\n"
     ]
    },
    {
     "name": "stdout",
     "output_type": "stream",
     "text": [
      "Val update: epoch: 28 |accuracy: 0.8433705568313599 | f1: 0.8735946416854858 | auc: 0.9146061539649963 | treshold: 0.34\n",
      "Test: accuracy: 0.8491355180740356 | f1: 0.8796373009681702 | auc: 0.9195199012756348 | \n",
      "Val update: epoch: 29 |accuracy: 0.8451119661331177 | f1: 0.8778235912322998 | auc: 0.9146206378936768 | treshold: 0.36000000000000004\n",
      "Test: accuracy: 0.8517228960990906 | f1: 0.884437084197998 | auc: 0.9188379049301147 | \n",
      "\n",
      "Evaluating NeuralClickModel with neural embeddings\n",
      "Test before learning: {'f1': 0.5460179448127747, 'roc-auc': 0.45969700813293457, 'accuracy': 0.475661963224411}\n"
     ]
    },
    {
     "data": {
      "application/vnd.jupyter.widget-view+json": {
       "model_id": "fa6ab24a6e48407e957550ba38aff0b2",
       "version_major": 2,
       "version_minor": 0
      },
      "text/plain": [
       "train:   0%|          | 0/5000 [00:00<?, ?it/s]"
      ]
     },
     "metadata": {},
     "output_type": "display_data"
    },
    {
     "name": "stdout",
     "output_type": "stream",
     "text": [
      "Val update: epoch: 0 |accuracy: 0.777003824710846 | f1: 0.8242805600166321 | auc: 0.8374440670013428 | treshold: 0.43\n",
      "Test: accuracy: 0.7823963165283203 | f1: 0.8315014839172363 | auc: 0.8420712947845459 | \n",
      "Val update: epoch: 1 |accuracy: 0.7937164306640625 | f1: 0.8306763768196106 | auc: 0.8745828866958618 | treshold: 0.4\n",
      "Test: accuracy: 0.7969048619270325 | f1: 0.8362799882888794 | auc: 0.8789252042770386 | \n",
      "Val update: epoch: 2 |accuracy: 0.8099936842918396 | f1: 0.8615341186523438 | auc: 0.8964874744415283 | treshold: 0.4\n",
      "Test: accuracy: 0.8164671659469604 | f1: 0.8681879639625549 | auc: 0.9027137756347656 | \n",
      "Val update: epoch: 3 |accuracy: 0.8263435363769531 | f1: 0.8629457354545593 | auc: 0.8991527557373047 | treshold: 0.37\n",
      "Test: accuracy: 0.8331277966499329 | f1: 0.8702892661094666 | auc: 0.9059569835662842 | \n",
      "Val update: epoch: 5 |accuracy: 0.8200551271438599 | f1: 0.8520050644874573 | auc: 0.8992465734481812 | treshold: 0.4\n",
      "Test: accuracy: 0.8273001909255981 | f1: 0.8603495955467224 | auc: 0.9054516553878784 | \n",
      "Val update: epoch: 6 |accuracy: 0.8277221322059631 | f1: 0.8640000224113464 | auc: 0.900747537612915 | treshold: 0.4\n",
      "Test: accuracy: 0.8350380659103394 | f1: 0.8718439936637878 | auc: 0.905198872089386 | \n",
      "Val update: epoch: 7 |accuracy: 0.831519365310669 | f1: 0.8628416061401367 | auc: 0.909026563167572 | treshold: 0.35000000000000003\n",
      "Test: accuracy: 0.8395841121673584 | f1: 0.8715535998344421 | auc: 0.9140175580978394 | \n",
      "Val update: epoch: 9 |accuracy: 0.838726818561554 | f1: 0.8754063844680786 | auc: 0.9100241661071777 | treshold: 0.41000000000000003\n",
      "Test: accuracy: 0.8451940417289734 | f1: 0.8819777369499207 | auc: 0.9137201309204102 | \n",
      "Val update: epoch: 10 |accuracy: 0.8470227122306824 | f1: 0.8823627829551697 | auc: 0.9169384241104126 | treshold: 0.4\n",
      "Test: accuracy: 0.8518437743186951 | f1: 0.8874354958534241 | auc: 0.9207131266593933 | \n",
      "Val update: epoch: 11 |accuracy: 0.849005937576294 | f1: 0.8822630643844604 | auc: 0.9194207787513733 | treshold: 0.38\n",
      "Test: accuracy: 0.8541893362998962 | f1: 0.8877638578414917 | auc: 0.9230749607086182 | \n",
      "\n",
      "Evaluating NeuralClickModel with svd embeddings\n",
      "Test before learning: {'f1': 0.11069431155920029, 'roc-auc': 0.35949140787124634, 'accuracy': 0.3694112002849579}\n"
     ]
    },
    {
     "data": {
      "application/vnd.jupyter.widget-view+json": {
       "model_id": "7dbc1b52714f453ba44deb126e2a29f2",
       "version_major": 2,
       "version_minor": 0
      },
      "text/plain": [
       "train:   0%|          | 0/5000 [00:00<?, ?it/s]"
      ]
     },
     "metadata": {},
     "output_type": "display_data"
    },
    {
     "name": "stdout",
     "output_type": "stream",
     "text": [
      "Val update: epoch: 0 |accuracy: 0.7014946937561035 | f1: 0.7966386675834656 | auc: 0.7258546948432922 | treshold: 0.34\n",
      "Test: accuracy: 0.7065650820732117 | f1: 0.8019648194313049 | auc: 0.722306489944458 | \n",
      "Val update: epoch: 1 |accuracy: 0.7291152477264404 | f1: 0.80112224817276 | auc: 0.7620196342468262 | treshold: 0.33\n",
      "Test: accuracy: 0.732607901096344 | f1: 0.8059114813804626 | auc: 0.7602242827415466 | \n",
      "Val update: epoch: 2 |accuracy: 0.7455376386642456 | f1: 0.8166530132293701 | auc: 0.7819826006889343 | treshold: 0.36000000000000004\n",
      "Test: accuracy: 0.7490509152412415 | f1: 0.821407675743103 | auc: 0.7805108428001404 | \n",
      "Val update: epoch: 3 |accuracy: 0.7546558380126953 | f1: 0.8142192363739014 | auc: 0.7934654951095581 | treshold: 0.36000000000000004\n",
      "Test: accuracy: 0.7563051581382751 | f1: 0.8177247047424316 | auc: 0.7927939891815186 | \n",
      "Val update: epoch: 4 |accuracy: 0.7501088380813599 | f1: 0.827725350856781 | auc: 0.8100123405456543 | treshold: 0.38\n",
      "Test: accuracy: 0.7549510598182678 | f1: 0.8332949280738831 | auc: 0.8112564086914062 | \n",
      "Val update: epoch: 5 |accuracy: 0.7515116333961487 | f1: 0.8289320468902588 | auc: 0.8165046572685242 | treshold: 0.42000000000000004\n",
      "Test: accuracy: 0.7555071711540222 | f1: 0.8342920541763306 | auc: 0.8196572661399841 | \n",
      "Val update: epoch: 6 |accuracy: 0.7723358869552612 | f1: 0.8313958644866943 | auc: 0.824548065662384 | treshold: 0.4\n",
      "Test: accuracy: 0.7783581018447876 | f1: 0.8382394313812256 | auc: 0.8282516002655029 | \n",
      "Val update: epoch: 7 |accuracy: 0.7757703065872192 | f1: 0.8301112055778503 | auc: 0.8309236764907837 | treshold: 0.43\n",
      "Test: accuracy: 0.7807278633117676 | f1: 0.8365949392318726 | auc: 0.8367023468017578 | \n",
      "Val update: epoch: 8 |accuracy: 0.761573076248169 | f1: 0.8325576782226562 | auc: 0.8336265087127686 | treshold: 0.42000000000000004\n",
      "Test: accuracy: 0.7681537866592407 | f1: 0.8396226167678833 | auc: 0.8413828611373901 | \n",
      "Val update: epoch: 9 |accuracy: 0.7691433429718018 | f1: 0.8355076313018799 | auc: 0.8420312404632568 | treshold: 0.4\n",
      "Test: accuracy: 0.7758674621582031 | f1: 0.8425647616386414 | auc: 0.8500491976737976 | \n",
      "Val update: epoch: 10 |accuracy: 0.780244767665863 | f1: 0.8285854458808899 | auc: 0.8452830910682678 | treshold: 0.41000000000000003\n",
      "Test: accuracy: 0.7894813418388367 | f1: 0.838729977607727 | auc: 0.8539645671844482 | \n",
      "Val update: epoch: 11 |accuracy: 0.7840420007705688 | f1: 0.8308741450309753 | auc: 0.8504923582077026 | treshold: 0.43\n",
      "Test: accuracy: 0.792842447757721 | f1: 0.8406524658203125 | auc: 0.8593230247497559 | \n",
      "Val update: epoch: 12 |accuracy: 0.7781405448913574 | f1: 0.8400885462760925 | auc: 0.8548965454101562 | treshold: 0.42000000000000004\n",
      "Test: accuracy: 0.7859025597572327 | f1: 0.8477857112884521 | auc: 0.8629088401794434 | \n",
      "Val update: epoch: 13 |accuracy: 0.7730131149291992 | f1: 0.8399802446365356 | auc: 0.858461856842041 | treshold: 0.4\n",
      "Test: accuracy: 0.7808729410171509 | f1: 0.8477026224136353 | auc: 0.8671971559524536 | \n",
      "Val update: epoch: 14 |accuracy: 0.7924829721450806 | f1: 0.8468950986862183 | auc: 0.8633345365524292 | treshold: 0.41000000000000003\n",
      "Test: accuracy: 0.7993229627609253 | f1: 0.8540475964546204 | auc: 0.872154712677002 | \n",
      "Val update: epoch: 15 |accuracy: 0.7961108684539795 | f1: 0.8400865197181702 | auc: 0.8639588356018066 | treshold: 0.44\n",
      "Test: accuracy: 0.8060693740844727 | f1: 0.8505738377571106 | auc: 0.8736306428909302 | \n",
      "Val update: epoch: 16 |accuracy: 0.7970057725906372 | f1: 0.8390882015228271 | auc: 0.8653948307037354 | treshold: 0.42000000000000004\n",
      "Test: accuracy: 0.8066014051437378 | f1: 0.8491171002388 | auc: 0.8749698996543884 | \n",
      "Val update: epoch: 17 |accuracy: 0.803753674030304 | f1: 0.8478814959526062 | auc: 0.8698883652687073 | treshold: 0.44\n",
      "Test: accuracy: 0.8129125833511353 | f1: 0.8569685816764832 | auc: 0.8794541358947754 | \n",
      "Val update: epoch: 18 |accuracy: 0.8046969771385193 | f1: 0.8512864112854004 | auc: 0.8722001314163208 | treshold: 0.43\n",
      "Test: accuracy: 0.8117035627365112 | f1: 0.8585699200630188 | auc: 0.8812577724456787 | \n",
      "Val update: epoch: 19 |accuracy: 0.7860978245735168 | f1: 0.8484474420547485 | auc: 0.8734685182571411 | treshold: 0.4\n",
      "Test: accuracy: 0.793592095375061 | f1: 0.8556352257728577 | auc: 0.8833723068237305 | \n",
      "Val update: epoch: 20 |accuracy: 0.806293249130249 | f1: 0.8459600210189819 | auc: 0.8746001720428467 | treshold: 0.44\n",
      "Test: accuracy: 0.811969518661499 | f1: 0.8526100516319275 | auc: 0.8835210204124451 | \n",
      "Val update: epoch: 21 |accuracy: 0.8057611584663391 | f1: 0.8526232838630676 | auc: 0.8754304051399231 | treshold: 0.43\n",
      "Test: accuracy: 0.8129125833511353 | f1: 0.8601637482643127 | auc: 0.8850828409194946 | \n",
      "Val update: epoch: 22 |accuracy: 0.8063415884971619 | f1: 0.8583658933639526 | auc: 0.8791385889053345 | treshold: 0.42000000000000004\n",
      "Test: accuracy: 0.8133478164672852 | f1: 0.8651915192604065 | auc: 0.8882555365562439 | \n",
      "Val update: epoch: 23 |accuracy: 0.8077443838119507 | f1: 0.8586517572402954 | auc: 0.8812441825866699 | treshold: 0.4\n",
      "Test: accuracy: 0.8151130676269531 | f1: 0.8656049966812134 | auc: 0.8905969858169556 | \n",
      "Val update: epoch: 26 |accuracy: 0.8180477023124695 | f1: 0.8567893505096436 | auc: 0.8839845657348633 | treshold: 0.41000000000000003\n",
      "Test: accuracy: 0.8235763311386108 | f1: 0.8627539277076721 | auc: 0.8929731845855713 | \n",
      "Val update: epoch: 27 |accuracy: 0.8089537024497986 | f1: 0.8615012168884277 | auc: 0.887009859085083 | treshold: 0.38\n",
      "Test: accuracy: 0.8167089819908142 | f1: 0.8684530258178711 | auc: 0.895696222782135 | \n",
      "Val update: epoch: 29 |accuracy: 0.8193537592887878 | f1: 0.8649733066558838 | auc: 0.8871748447418213 | treshold: 0.43\n",
      "Test: accuracy: 0.8272034525871277 | f1: 0.8721508383750916 | auc: 0.8968687653541565 | \n",
      "Val update: epoch: 31 |accuracy: 0.8240700364112854 | f1: 0.8668497204780579 | auc: 0.8886662721633911 | treshold: 0.44\n",
      "Test: accuracy: 0.8317252993583679 | f1: 0.8739425539970398 | auc: 0.8986301422119141 | \n",
      "Val update: epoch: 32 |accuracy: 0.823296070098877 | f1: 0.8595864176750183 | auc: 0.8901081085205078 | treshold: 0.4\n",
      "Test: accuracy: 0.830105185508728 | f1: 0.8668158054351807 | auc: 0.8998475074768066 | \n",
      "Val update: epoch: 34 |accuracy: 0.8262709975242615 | f1: 0.8632981181144714 | auc: 0.8907336592674255 | treshold: 0.39\n",
      "Test: accuracy: 0.832692563533783 | f1: 0.8698971271514893 | auc: 0.9000847935676575 | \n",
      "Val update: epoch: 36 |accuracy: 0.8224737644195557 | f1: 0.8569591045379639 | auc: 0.8912961483001709 | treshold: 0.4\n",
      "Test: accuracy: 0.8292588591575623 | f1: 0.8643237352371216 | auc: 0.9011160135269165 | \n",
      "Val update: epoch: 37 |accuracy: 0.8209500312805176 | f1: 0.8671130537986755 | auc: 0.8926926851272583 | treshold: 0.4\n",
      "Test: accuracy: 0.832692563533783 | f1: 0.8770851492881775 | auc: 0.9017153978347778 | \n",
      "Val update: epoch: 39 |accuracy: 0.8306728601455688 | f1: 0.8694646954536438 | auc: 0.8944569826126099 | treshold: 0.38\n",
      "Test: accuracy: 0.8357635140419006 | f1: 0.8749539852142334 | auc: 0.903347909450531 | \n",
      "Val update: epoch: 42 |accuracy: 0.831519365310669 | f1: 0.8719485402107239 | auc: 0.8948575854301453 | treshold: 0.42000000000000004\n",
      "Test: accuracy: 0.8383266925811768 | f1: 0.8787933588027954 | auc: 0.9033690094947815 | \n",
      "Val update: epoch: 46 |accuracy: 0.8262951970100403 | f1: 0.8596882224082947 | auc: 0.8963093757629395 | treshold: 0.41000000000000003\n",
      "Test: accuracy: 0.8309757113456726 | f1: 0.8653490543365479 | auc: 0.9042619466781616 | \n",
      "Val update: epoch: 47 |accuracy: 0.8290039896965027 | f1: 0.8706833720207214 | auc: 0.8971170783042908 | treshold: 0.39\n",
      "Test: accuracy: 0.8369725346565247 | f1: 0.8781492710113525 | auc: 0.9052271842956543 | \n",
      "Val update: epoch: 52 |accuracy: 0.8321481943130493 | f1: 0.8668916821479797 | auc: 0.9003675580024719 | treshold: 0.38\n",
      "Test: accuracy: 0.8377221822738647 | f1: 0.8730107545852661 | auc: 0.9074969291687012 | \n",
      "Val update: epoch: 53 |accuracy: 0.8305519223213196 | f1: 0.8633455634117126 | auc: 0.9017956852912903 | treshold: 0.4\n",
      "Test: accuracy: 0.8338532447814941 | f1: 0.8678526878356934 | auc: 0.9081233143806458 | \n",
      "Val update: epoch: 57 |accuracy: 0.837831974029541 | f1: 0.8732059001922607 | auc: 0.9043101668357849 | treshold: 0.38\n",
      "Test: accuracy: 0.8428484797477722 | f1: 0.8786798119544983 | auc: 0.9100175499916077 | \n",
      "Val update: epoch: 60 |accuracy: 0.8377352356910706 | f1: 0.8719387650489807 | auc: 0.9052115678787231 | treshold: 0.39\n",
      "Test: accuracy: 0.8409382104873657 | f1: 0.8760318160057068 | auc: 0.9106655716896057 | \n",
      "Val update: epoch: 65 |accuracy: 0.8386542797088623 | f1: 0.8752967715263367 | auc: 0.9057573080062866 | treshold: 0.4\n",
      "Test: accuracy: 0.8436948657035828 | f1: 0.8805969953536987 | auc: 0.9116175174713135 | \n",
      "Val update: epoch: 66 |accuracy: 0.8351714611053467 | f1: 0.8689448237419128 | auc: 0.9058448076248169 | treshold: 0.4\n",
      "Test: accuracy: 0.8398984670639038 | f1: 0.8746379017829895 | auc: 0.9108914136886597 | \n",
      "Val update: epoch: 70 |accuracy: 0.8381463885307312 | f1: 0.8721485733985901 | auc: 0.9076846837997437 | treshold: 0.41000000000000003\n",
      "Test: accuracy: 0.8432595729827881 | f1: 0.8778778314590454 | auc: 0.912512481212616 | \n",
      "Val update: epoch: 84 |accuracy: 0.8401780128479004 | f1: 0.8741141557693481 | auc: 0.9087247848510742 | treshold: 0.39\n",
      "Test: accuracy: 0.8466448783874512 | f1: 0.8807939291000366 | auc: 0.9136948585510254 | \n",
      "Val update: epoch: 85 |accuracy: 0.83954918384552 | f1: 0.8728241920471191 | auc: 0.9090712070465088 | treshold: 0.38\n",
      "Test: accuracy: 0.8463063836097717 | f1: 0.8798442482948303 | auc: 0.9140364527702332 | \n"
     ]
    }
   ],
   "source": [
    "for embeddings in ['explicit', 'neural', 'svd',  ]:\n",
    "    print(f\"\\nEvaluating {experiment_name} with {embeddings} embeddings\")\n",
    "\n",
    "    model = NeuralClickModel(\n",
    "        RecsysEmbedding(\n",
    "            train_num_items, \n",
    "            train_user_item_matrix, \n",
    "            embeddings=embeddings,\n",
    "            embedding_dim=40\n",
    "        ),\n",
    "    ).to(device)\n",
    "\n",
    "    best_model, metrics = train(\n",
    "        model, \n",
    "        train_loader, val_loader, test_loader, \n",
    "        device=device, lr=1e-3, num_epochs=5000, early_stopping=7,\n",
    "        silent=True\n",
    "    )\n",
    "    \n",
    "    metrics['embeddings'] = embeddings\n",
    "    rl4rs_results.append(metrics)"
   ]
  },
  {
   "cell_type": "code",
   "execution_count": 10,
   "id": "14b3763b-7bb9-4a41-94af-c0b1b7b2db3b",
   "metadata": {},
   "outputs": [],
   "source": [
    "pd.DataFrame(rl4rs_results).to_csv(f'results/rl4rs_{experiment_name}.csv')\n",
    "del dataset, train_loader, val_loader, test_loader, train_user_item_matrix, train_num_items"
   ]
  },
  {
   "cell_type": "code",
   "execution_count": 11,
   "id": "5734cd9c-c5e5-4699-a62c-217607a9f32c",
   "metadata": {},
   "outputs": [
    {
     "data": {
      "text/plain": [
       "[{'f1': 0.884437084197998,\n",
       "  'roc-auc': 0.9188379049301147,\n",
       "  'accuracy': 0.8517228960990906,\n",
       "  'embeddings': 'explicit'},\n",
       " {'f1': 0.8877638578414917,\n",
       "  'roc-auc': 0.9230749607086182,\n",
       "  'accuracy': 0.8541893362998962,\n",
       "  'embeddings': 'neural'},\n",
       " {'f1': 0.8798442482948303,\n",
       "  'roc-auc': 0.9140364527702332,\n",
       "  'accuracy': 0.8463063836097717,\n",
       "  'embeddings': 'svd'}]"
      ]
     },
     "execution_count": 11,
     "metadata": {},
     "output_type": "execute_result"
    }
   ],
   "source": [
    "rl4rs_results"
   ]
  }
 ],
 "metadata": {
  "kernelspec": {
   "display_name": "Python 3 (ipykernel)",
   "language": "python",
   "name": "python3"
  },
  "language_info": {
   "codemirror_mode": {
    "name": "ipython",
    "version": 3
   },
   "file_extension": ".py",
   "mimetype": "text/x-python",
   "name": "python",
   "nbconvert_exporter": "python",
   "pygments_lexer": "ipython3",
   "version": "3.10.13"
  }
 },
 "nbformat": 4,
 "nbformat_minor": 5
}
