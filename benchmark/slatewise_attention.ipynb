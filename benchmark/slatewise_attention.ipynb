{
 "cells": [
  {
   "cell_type": "code",
   "execution_count": 4,
   "id": "4945fa9f",
   "metadata": {},
   "outputs": [
    {
     "data": {
      "text/plain": [
       "<torch._C.Generator at 0x7fd3486c6d70>"
      ]
     },
     "execution_count": 4,
     "metadata": {},
     "output_type": "execute_result"
    }
   ],
   "source": [
    "import os\n",
    "import torch\n",
    "import random\n",
    "import datetime\n",
    "import pandas as pd\n",
    "import numpy as np\n",
    "\n",
    "from torch.utils.data import Dataset\n",
    "from src.datasets import RL4RS, ContentWise, DummyData, OpenCDP\n",
    "from src.utils import train, get_dummy_data, get_train_val_test_tmatrix_tnumitems, get_svd_encoder\n",
    "from src.embeddings import RecsysEmbedding\n",
    "\n",
    "experiment_name = 'SlatewiseAttention'\n",
    "device = 'cuda:2'\n",
    "seed = 123\n",
    "pkl_path = '../pkl/'\n",
    "\n",
    "random.seed(seed)\n",
    "np.random.seed(seed)\n",
    "torch.manual_seed(seed)"
   ]
  },
  {
   "cell_type": "code",
   "execution_count": 5,
   "id": "524f1440",
   "metadata": {},
   "outputs": [
    {
     "data": {
      "text/plain": [
       "'1.12.1'"
      ]
     },
     "execution_count": 5,
     "metadata": {},
     "output_type": "execute_result"
    }
   ],
   "source": [
    "torch.__version__"
   ]
  },
  {
   "cell_type": "markdown",
   "id": "20c87c94",
   "metadata": {},
   "source": [
    "# Модель"
   ]
  },
  {
   "cell_type": "code",
   "execution_count": 7,
   "id": "f7e63c6a",
   "metadata": {},
   "outputs": [],
   "source": [
    "import torch.nn.functional as F\n",
    "torch.autograd.set_detect_anomaly(True)\n",
    "\n",
    "class SlatewiseAttention(torch.nn.Module):\n",
    "    \"\"\"\n",
    "    No recurrent dependency, just slate-wise attention.\n",
    "    \"\"\"\n",
    "    def __init__(self, embedding, nheads=2, output_dim=1):\n",
    "        super().__init__()\n",
    "        self.embedding_dim = embedding.embedding_dim\n",
    "        self.embedding = embedding\n",
    "        self.attention= torch.nn.MultiheadAttention(\n",
    "            2 * embedding.embedding_dim,\n",
    "            num_heads=nheads,\n",
    "            batch_first=True\n",
    "        )\n",
    "        \n",
    "        self.out_layer = torch.nn.Linear(2 * embedding.embedding_dim, output_dim)\n",
    "\n",
    "    def forward(self, batch):\n",
    "        item_embs, user_embs = self.embedding(batch)\n",
    "        shp = item_embs.shape\n",
    "        \n",
    "        # let model attent to first padd token if slate is empty to avoid NaN gradients\n",
    "        # (anyway they does not contrinute into metrics computation)\n",
    "        key_padding_mask = batch['slates_mask'].clone()\n",
    "        key_padding_mask[:,:, 0] = True \n",
    "        \n",
    "        # repeating user embedding for each item embeding\n",
    "        features = torch.cat(\n",
    "            [\n",
    "                item_embs,\n",
    "                user_embs[:, :, None, :].repeat(1, 1, shp[-2], 1).reshape(shp)\n",
    "            ],\n",
    "            dim = -1\n",
    "        )\n",
    "        \n",
    "        # all recomendations in session are scored independently\n",
    "        features = features.flatten(0,1)\n",
    "        \n",
    "        features, attn_map = self.attention(\n",
    "            features, features, features,\n",
    "            key_padding_mask=~key_padding_mask.flatten(0, 1)\n",
    "        )\n",
    "        \n",
    "        # transforming back to sequence shape\n",
    "        shp = list(shp)\n",
    "        shp[-1] *= 2\n",
    "        return self.out_layer(features.reshape(shp)).squeeze(-1)"
   ]
  },
  {
   "cell_type": "markdown",
   "id": "4fecc3ce",
   "metadata": {},
   "source": [
    "# Игрушечный датасет: проверим, что сходится к идеальным метрикам"
   ]
  },
  {
   "cell_type": "code",
   "execution_count": 4,
   "id": "5d7b6f2b",
   "metadata": {},
   "outputs": [
    {
     "name": "stdout",
     "output_type": "stream",
     "text": [
      "biulding affinity matrix...\n"
     ]
    },
    {
     "name": "stderr",
     "output_type": "stream",
     "text": [
      "3it [00:00, 2656.30it/s]\n"
     ]
    },
    {
     "name": "stdout",
     "output_type": "stream",
     "text": [
      "Test before learning: {'f1': 0.0, 'roc-auc': 0.6666666269302368, 'accuracy': 0.75}\n"
     ]
    },
    {
     "name": "stderr",
     "output_type": "stream",
     "text": [
      "train... loss:0.6512969136238098:   0%|                                                                                                    | 1/5000 [00:00<25:00,  3.33it/s]"
     ]
    },
    {
     "name": "stdout",
     "output_type": "stream",
     "text": [
      "Val update: epoch: 0 |accuracy: 0.75 | f1: 0.6666666865348816 | auc: 1.0 | treshold: 0.49\n",
      "Test: accuracy: 0.75 | f1: 0.6666666865348816 | auc: 1.0 | \n"
     ]
    },
    {
     "name": "stderr",
     "output_type": "stream",
     "text": [
      "train... loss:0.5778844356536865:   0%|                                                                                                    | 4/5000 [00:01<25:29,  3.27it/s]"
     ]
    },
    {
     "name": "stdout",
     "output_type": "stream",
     "text": [
      "Val update: epoch: 4 |accuracy: 1.0 | f1: 1.0 | auc: 1.0 | treshold: 0.51\n",
      "Test: accuracy: 1.0 | f1: 1.0 | auc: 1.0 | \n"
     ]
    },
    {
     "name": "stderr",
     "output_type": "stream",
     "text": [
      "\n"
     ]
    },
    {
     "data": {
      "text/plain": [
       "(AttentionResponseModel(\n",
       "   (embedding): RecsysEmbedding(\n",
       "     (item_embeddings): Embedding(5, 32)\n",
       "   )\n",
       "   (attention): MultiheadAttention(\n",
       "     (out_proj): NonDynamicallyQuantizableLinear(in_features=64, out_features=64, bias=True)\n",
       "   )\n",
       "   (out_layer): Linear(in_features=64, out_features=1, bias=True)\n",
       " ),\n",
       " {'f1': 1.0, 'roc-auc': 1.0, 'accuracy': 1.0})"
      ]
     },
     "execution_count": 4,
     "metadata": {},
     "output_type": "execute_result"
    }
   ],
   "source": [
    "d = DummyData()\n",
    "dummy_loader, dummy_matrix = get_dummy_data(d)\n",
    "\n",
    "model = SlatewiseAttention(\n",
    "    RecsysEmbedding(d.n_items, dummy_matrix, embeddings='neural').to('cpu'),\n",
    "    output_dim=1\n",
    ").to('cpu')\n",
    "\n",
    "train(\n",
    "    model, \n",
    "    dummy_loader, dummy_loader, dummy_loader,\n",
    "    device=device, lr=1e-3, num_epochs=5000, dummy=True,\n",
    "    silent=True,\n",
    ")\n"
   ]
  },
  {
   "cell_type": "markdown",
   "id": "83a07300",
   "metadata": {},
   "source": [
    "# ContentWise"
   ]
  },
  {
   "cell_type": "code",
   "execution_count": 5,
   "id": "a85c6e1d",
   "metadata": {},
   "outputs": [
    {
     "name": "stdout",
     "output_type": "stream",
     "text": [
      "20216 data points among 108 batches\n"
     ]
    }
   ],
   "source": [
    "content_wise_results = []\n",
    "dataset = ContentWise.load(os.path.join(pkl_path, 'cw.pkl'))\n",
    "(\n",
    "    train_loader, \n",
    "    val_loader, \n",
    "    test_loader, \n",
    "    train_user_item_matrix, \n",
    "    train_num_items \n",
    ") = get_train_val_test_tmatrix_tnumitems(dataset, batch_size=150)\n",
    "\n",
    "print(f\"{len(dataset)} data points among {len(train_loader)} batches\")"
   ]
  },
  {
   "cell_type": "code",
   "execution_count": 6,
   "id": "a2f92842-6ea6-4275-ae6f-4ef429d9450e",
   "metadata": {},
   "outputs": [
    {
     "name": "stdout",
     "output_type": "stream",
     "text": [
      "\n",
      "Evaluating InSlateAttention with svd embeddings\n",
      "Test before learning: {'f1': 0.0, 'roc-auc': 0.5051510334014893, 'accuracy': 0.9024072885513306}\n"
     ]
    },
    {
     "name": "stderr",
     "output_type": "stream",
     "text": [
      "train... loss:34.84859919548035:   0%|                                                                                                  | 2/5000 [00:43<29:10:16, 21.01s/it]"
     ]
    },
    {
     "name": "stdout",
     "output_type": "stream",
     "text": [
      "Val update: epoch: 1 |accuracy: 0.10118760168552399 | f1: 0.1837790310382843 | auc: 0.5508664846420288 | treshold: 0.03\n",
      "Test: accuracy: 0.09759270399808884 | f1: 0.17783045768737793 | auc: 0.5630419850349426 | \n"
     ]
    },
    {
     "name": "stderr",
     "output_type": "stream",
     "text": [
      "train... loss:34.23224067687988:   0%|                                                                                                  | 3/5000 [01:00<26:11:48, 18.87s/it]"
     ]
    },
    {
     "name": "stdout",
     "output_type": "stream",
     "text": [
      "Val update: epoch: 2 |accuracy: 0.3530762791633606 | f1: 0.18742883205413818 | auc: 0.5674441456794739 | treshold: 0.05\n",
      "Test: accuracy: 0.35824429988861084 | f1: 0.18344460427761078 | auc: 0.570885419845581 | \n"
     ]
    },
    {
     "name": "stderr",
     "output_type": "stream",
     "text": [
      "train... loss:33.61080226302147:   0%|                                                                                                  | 4/5000 [01:16<24:53:57, 17.94s/it]"
     ]
    },
    {
     "name": "stdout",
     "output_type": "stream",
     "text": [
      "Val update: epoch: 3 |accuracy: 0.8025957942008972 | f1: 0.21223998069763184 | auc: 0.5865711569786072 | treshold: 0.09999999999999999\n",
      "Test: accuracy: 0.8009997606277466 | f1: 0.20533473789691925 | auc: 0.5892939567565918 | \n"
     ]
    },
    {
     "name": "stderr",
     "output_type": "stream",
     "text": [
      "train... loss:33.33596828579903:   0%|                                                                                                  | 5/5000 [01:33<24:10:02, 17.42s/it]"
     ]
    },
    {
     "name": "stdout",
     "output_type": "stream",
     "text": [
      "Val update: epoch: 4 |accuracy: 0.14192251861095428 | f1: 0.1889433115720749 | auc: 0.5970646142959595 | treshold: 0.09\n",
      "Test: accuracy: 0.1653974950313568 | f1: 0.18588802218437195 | auc: 0.5990718603134155 | \n"
     ]
    },
    {
     "name": "stderr",
     "output_type": "stream",
     "text": [
      "train... loss:33.25465872883797:   0%|                                                                                                  | 6/5000 [01:49<23:38:59, 17.05s/it]"
     ]
    },
    {
     "name": "stdout",
     "output_type": "stream",
     "text": [
      "Val update: epoch: 5 |accuracy: 0.8943400382995605 | f1: 0.15328732132911682 | auc: 0.6134291887283325 | treshold: 0.16\n",
      "Test: accuracy: 0.8978323936462402 | f1: 0.14127764105796814 | auc: 0.6141409873962402 | \n"
     ]
    },
    {
     "name": "stderr",
     "output_type": "stream",
     "text": [
      "train... loss:33.08049148321152:   0%|▏                                                                                                 | 7/5000 [02:06<23:24:12, 16.87s/it]"
     ]
    },
    {
     "name": "stdout",
     "output_type": "stream",
     "text": [
      "Val update: epoch: 6 |accuracy: 0.6819322109222412 | f1: 0.22001555562019348 | auc: 0.6203793287277222 | treshold: 0.16\n",
      "Test: accuracy: 0.6887615919113159 | f1: 0.21372129023075104 | auc: 0.619840681552887 | \n"
     ]
    },
    {
     "name": "stderr",
     "output_type": "stream",
     "text": [
      "train... loss:32.85233870148659:   0%|▏                                                                                                 | 8/5000 [02:22<23:06:16, 16.66s/it]"
     ]
    },
    {
     "name": "stdout",
     "output_type": "stream",
     "text": [
      "Val update: epoch: 7 |accuracy: 0.8965460062026978 | f1: 0.14101116359233856 | auc: 0.6266806125640869 | treshold: 0.15000000000000002\n",
      "Test: accuracy: 0.9004048705101013 | f1: 0.12416452169418335 | auc: 0.6283661127090454 | \n"
     ]
    },
    {
     "name": "stderr",
     "output_type": "stream",
     "text": [
      "train... loss:32.71534305810928:   0%|▏                                                                                                 | 9/5000 [02:38<22:59:23, 16.58s/it]"
     ]
    },
    {
     "name": "stdout",
     "output_type": "stream",
     "text": [
      "Val update: epoch: 8 |accuracy: 0.7881965637207031 | f1: 0.24161437153816223 | auc: 0.6314365863800049 | treshold: 0.15000000000000002\n",
      "Test: accuracy: 0.7927708029747009 | f1: 0.23601680994033813 | auc: 0.6312583684921265 | \n"
     ]
    },
    {
     "name": "stderr",
     "output_type": "stream",
     "text": [
      "train... loss:32.43543699383736:   0%|▏                                                                                                | 10/5000 [02:55<22:57:19, 16.56s/it]"
     ]
    },
    {
     "name": "stdout",
     "output_type": "stream",
     "text": [
      "Val update: epoch: 9 |accuracy: 0.8880394101142883 | f1: 0.20748662948608398 | auc: 0.6399675607681274 | treshold: 0.15000000000000002\n",
      "Test: accuracy: 0.892102837562561 | f1: 0.19882787764072418 | auc: 0.6419378519058228 | \n"
     ]
    },
    {
     "name": "stderr",
     "output_type": "stream",
     "text": [
      "train... loss:32.366972237825394:   0%|▏                                                                                               | 12/5000 [03:27<22:40:38, 16.37s/it]"
     ]
    },
    {
     "name": "stdout",
     "output_type": "stream",
     "text": [
      "Val update: epoch: 11 |accuracy: 0.8900792002677917 | f1: 0.20639249682426453 | auc: 0.644461989402771 | treshold: 0.14\n",
      "Test: accuracy: 0.8937398791313171 | f1: 0.19986793398857117 | auc: 0.6493659615516663 | \n"
     ]
    },
    {
     "name": "stderr",
     "output_type": "stream",
     "text": [
      "train... loss:32.14096385240555:   0%|▎                                                                                                | 13/5000 [03:43<22:38:32, 16.34s/it]"
     ]
    },
    {
     "name": "stdout",
     "output_type": "stream",
     "text": [
      "Val update: epoch: 12 |accuracy: 0.8170554637908936 | f1: 0.25663065910339355 | auc: 0.6450619697570801 | treshold: 0.15000000000000002\n",
      "Test: accuracy: 0.8166975975036621 | f1: 0.24899694323539734 | auc: 0.6507843732833862 | \n"
     ]
    },
    {
     "name": "stderr",
     "output_type": "stream",
     "text": [
      "train... loss:32.182848036289215:   0%|▎                                                                                               | 14/5000 [04:00<22:38:41, 16.35s/it]"
     ]
    },
    {
     "name": "stdout",
     "output_type": "stream",
     "text": [
      "Val update: epoch: 13 |accuracy: 0.8445243835449219 | f1: 0.2634216248989105 | auc: 0.6451199054718018 | treshold: 0.15000000000000002\n",
      "Test: accuracy: 0.8490433692932129 | f1: 0.25483405590057373 | auc: 0.651947021484375 | \n"
     ]
    },
    {
     "name": "stderr",
     "output_type": "stream",
     "text": [
      "train... loss:31.783682942390442:   0%|▍                                                                                               | 22/5000 [06:07<22:02:38, 15.94s/it]"
     ]
    },
    {
     "name": "stdout",
     "output_type": "stream",
     "text": [
      "Val update: epoch: 21 |accuracy: 0.8530762791633606 | f1: 0.27193769812583923 | auc: 0.653393030166626 | treshold: 0.15000000000000002\n",
      "Test: accuracy: 0.8557376265525818 | f1: 0.26034173369407654 | auc: 0.6599545478820801 | \n"
     ]
    },
    {
     "name": "stderr",
     "output_type": "stream",
     "text": [
      "train... loss:31.58680960536003:   0%|▍                                                                                                | 23/5000 [06:23<22:04:45, 15.97s/it]"
     ]
    },
    {
     "name": "stdout",
     "output_type": "stream",
     "text": [
      "Val update: epoch: 22 |accuracy: 0.8882358074188232 | f1: 0.23386846482753754 | auc: 0.6581146121025085 | treshold: 0.15000000000000002\n",
      "Test: accuracy: 0.8912112712860107 | f1: 0.22492970526218414 | auc: 0.6642422676086426 | \n"
     ]
    },
    {
     "name": "stderr",
     "output_type": "stream",
     "text": [
      "train... loss:31.569136202335358:   1%|▌                                                                                               | 30/5000 [08:14<22:07:30, 16.03s/it]"
     ]
    },
    {
     "name": "stdout",
     "output_type": "stream",
     "text": [
      "Val update: epoch: 29 |accuracy: 0.8783089518547058 | f1: 0.26339858770370483 | auc: 0.6595332622528076 | treshold: 0.14\n",
      "Test: accuracy: 0.8810091018676758 | f1: 0.25098904967308044 | auc: 0.666301429271698 | \n"
     ]
    },
    {
     "name": "stderr",
     "output_type": "stream",
     "text": [
      "train... loss:31.389383047819138:   1%|▋                                                                                               | 35/5000 [09:34<22:00:13, 15.95s/it]"
     ]
    },
    {
     "name": "stdout",
     "output_type": "stream",
     "text": [
      "Val update: epoch: 34 |accuracy: 0.8639399409294128 | f1: 0.27769312262535095 | auc: 0.6601594686508179 | treshold: 0.15000000000000002\n",
      "Test: accuracy: 0.8659982085227966 | f1: 0.26691189408302307 | auc: 0.6686941981315613 | \n"
     ]
    },
    {
     "name": "stderr",
     "output_type": "stream",
     "text": [
      "train... loss:31.262256294488907:   1%|▋                                                                                               | 36/5000 [09:50<22:06:16, 16.03s/it]"
     ]
    },
    {
     "name": "stdout",
     "output_type": "stream",
     "text": [
      "Val update: epoch: 35 |accuracy: 0.8792457580566406 | f1: 0.27226370573043823 | auc: 0.6627569794654846 | treshold: 0.15000000000000002\n",
      "Test: accuracy: 0.8820468783378601 | f1: 0.2585446536540985 | auc: 0.6697695851325989 | \n"
     ]
    },
    {
     "name": "stderr",
     "output_type": "stream",
     "text": [
      "train... loss:31.362353205680847:   1%|▋                                                                                               | 37/5000 [10:06<22:08:39, 16.06s/it]"
     ]
    },
    {
     "name": "stdout",
     "output_type": "stream",
     "text": [
      "Val update: epoch: 36 |accuracy: 0.8672791123390198 | f1: 0.28011801838874817 | auc: 0.6629543900489807 | treshold: 0.15000000000000002\n",
      "Test: accuracy: 0.8693745732307434 | f1: 0.2693156599998474 | auc: 0.6717542409896851 | \n"
     ]
    },
    {
     "name": "stderr",
     "output_type": "stream",
     "text": [
      "train... loss:31.365327656269073:   1%|▊                                                                                               | 42/5000 [11:41<23:00:14, 16.70s/it]\n"
     ]
    },
    {
     "name": "stdout",
     "output_type": "stream",
     "text": [
      "\n",
      "Evaluating InSlateAttention with neural embeddings\n",
      "Test before learning: {'f1': 0.16758416593074799, 'roc-auc': 0.490964412689209, 'accuracy': 0.2905418276786804}\n"
     ]
    },
    {
     "name": "stderr",
     "output_type": "stream",
     "text": [
      "train... loss:44.690868228673935:   0%|                                                                                                 | 1/5000 [00:19<26:47:48, 19.30s/it]"
     ]
    },
    {
     "name": "stdout",
     "output_type": "stream",
     "text": [
      "Val update: epoch: 0 |accuracy: 0.10117249190807343 | f1: 0.18373171985149384 | auc: 0.5803326964378357 | treshold: 0.01\n",
      "Test: accuracy: 0.09759270399808884 | f1: 0.17783045768737793 | auc: 0.5878407955169678 | \n"
     ]
    },
    {
     "name": "stderr",
     "output_type": "stream",
     "text": [
      "train... loss:35.138178646564484:   0%|                                                                                                 | 2/5000 [00:38<26:59:12, 19.44s/it]"
     ]
    },
    {
     "name": "stdout",
     "output_type": "stream",
     "text": [
      "Val update: epoch: 1 |accuracy: 0.861099362373352 | f1: 0.18058650195598602 | auc: 0.6122152209281921 | treshold: 0.12\n",
      "Test: accuracy: 0.8664805293083191 | f1: 0.18284283578395844 | auc: 0.6238062381744385 | \n"
     ]
    },
    {
     "name": "stderr",
     "output_type": "stream",
     "text": [
      "train... loss:33.68019413948059:   0%|                                                                                                  | 3/5000 [00:58<26:55:50, 19.40s/it]"
     ]
    },
    {
     "name": "stdout",
     "output_type": "stream",
     "text": [
      "Val update: epoch: 2 |accuracy: 0.8806055784225464 | f1: 0.19547954201698303 | auc: 0.6667634844779968 | treshold: 0.15000000000000002\n",
      "Test: accuracy: 0.8840200304985046 | f1: 0.1905539184808731 | auc: 0.6701942682266235 | \n"
     ]
    },
    {
     "name": "stderr",
     "output_type": "stream",
     "text": [
      "train... loss:32.500014662742615:   0%|                                                                                                 | 4/5000 [01:17<26:56:02, 19.41s/it]"
     ]
    },
    {
     "name": "stdout",
     "output_type": "stream",
     "text": [
      "Val update: epoch: 3 |accuracy: 0.886996865272522 | f1: 0.20613522827625275 | auc: 0.6881085634231567 | treshold: 0.18000000000000002\n",
      "Test: accuracy: 0.8892087936401367 | f1: 0.2005905956029892 | auc: 0.6924453973770142 | \n"
     ]
    },
    {
     "name": "stderr",
     "output_type": "stream",
     "text": [
      "train... loss:31.754016041755676:   0%|                                                                                                 | 6/5000 [01:55<26:35:11, 19.17s/it]"
     ]
    },
    {
     "name": "stdout",
     "output_type": "stream",
     "text": [
      "Val update: epoch: 5 |accuracy: 0.7005469799041748 | f1: 0.2770746052265167 | auc: 0.7027769684791565 | treshold: 0.17\n",
      "Test: accuracy: 0.7148808240890503 | f1: 0.27711692452430725 | auc: 0.7055357694625854 | \n"
     ]
    },
    {
     "name": "stderr",
     "output_type": "stream",
     "text": [
      "train... loss:31.228968799114227:   0%|▏                                                                                                | 7/5000 [02:14<26:40:27, 19.23s/it]"
     ]
    },
    {
     "name": "stdout",
     "output_type": "stream",
     "text": [
      "Val update: epoch: 6 |accuracy: 0.6979783773422241 | f1: 0.2828543782234192 | auc: 0.712679386138916 | treshold: 0.17\n",
      "Test: accuracy: 0.7080111503601074 | f1: 0.27899086475372314 | auc: 0.7151081562042236 | \n"
     ]
    },
    {
     "name": "stderr",
     "output_type": "stream",
     "text": [
      "train... loss:30.846127718687057:   0%|▏                                                                                                | 8/5000 [02:34<26:43:13, 19.27s/it]"
     ]
    },
    {
     "name": "stdout",
     "output_type": "stream",
     "text": [
      "Val update: epoch: 7 |accuracy: 0.8657228350639343 | f1: 0.2918160855770111 | auc: 0.7249306440353394 | treshold: 0.19\n",
      "Test: accuracy: 0.8679860234260559 | f1: 0.2791700065135956 | auc: 0.727722704410553 | \n"
     ]
    },
    {
     "name": "stderr",
     "output_type": "stream",
     "text": [
      "train... loss:30.432022392749786:   0%|▏                                                                                                | 9/5000 [02:53<26:49:03, 19.34s/it]"
     ]
    },
    {
     "name": "stdout",
     "output_type": "stream",
     "text": [
      "Val update: epoch: 8 |accuracy: 0.8528798222541809 | f1: 0.3030563294887543 | auc: 0.7279099225997925 | treshold: 0.19\n",
      "Test: accuracy: 0.8499642014503479 | f1: 0.287301242351532 | auc: 0.7267143130302429 | \n"
     ]
    },
    {
     "name": "stderr",
     "output_type": "stream",
     "text": [
      "train... loss:29.87561932206154:   0%|▎                                                                                                | 13/5000 [04:09<26:36:25, 19.21s/it]"
     ]
    },
    {
     "name": "stdout",
     "output_type": "stream",
     "text": [
      "Val update: epoch: 12 |accuracy: 0.86782306432724 | f1: 0.29678457975387573 | auc: 0.7323074340820312 | treshold: 0.18000000000000002\n",
      "Test: accuracy: 0.8696084022521973 | f1: 0.29450374841690063 | auc: 0.7374197840690613 | \n"
     ]
    },
    {
     "name": "stderr",
     "output_type": "stream",
     "text": [
      "train... loss:29.135505095124245:   0%|▎                                                                                               | 15/5000 [04:47<26:29:17, 19.13s/it]"
     ]
    },
    {
     "name": "stdout",
     "output_type": "stream",
     "text": [
      "Val update: epoch: 14 |accuracy: 0.7887706756591797 | f1: 0.32359203696250916 | auc: 0.7400069236755371 | treshold: 0.19\n",
      "Test: accuracy: 0.7925223112106323 | f1: 0.3175808787345886 | auc: 0.7431254386901855 | \n"
     ]
    },
    {
     "name": "stderr",
     "output_type": "stream",
     "text": [
      "train... loss:28.742792055010796:   0%|▎                                                                                               | 16/5000 [05:07<26:38:38, 19.25s/it]"
     ]
    },
    {
     "name": "stdout",
     "output_type": "stream",
     "text": [
      "Val update: epoch: 15 |accuracy: 0.8699988126754761 | f1: 0.317576140165329 | auc: 0.7409647703170776 | treshold: 0.2\n",
      "Test: accuracy: 0.870368480682373 | f1: 0.3120006322860718 | auc: 0.745903491973877 | \n"
     ]
    },
    {
     "name": "stderr",
     "output_type": "stream",
     "text": [
      "train... loss:26.536381095647812:   1%|█                                                                                               | 54/5000 [17:19<26:27:00, 19.25s/it]\n"
     ]
    }
   ],
   "source": [
    "for embeddings in ['svd', 'neural']:\n",
    "    print(f\"\\nEvaluating {experiment_name} with {embeddings} embeddings\")\n",
    "    \n",
    "    model = SlatewiseAttention(\n",
    "        RecsysEmbedding(train_num_items, train_user_item_matrix, embeddings=embeddings),\n",
    "        output_dim=1\n",
    "    ).to(device)\n",
    "\n",
    "    _, metrics = train(\n",
    "        model, \n",
    "        train_loader, val_loader, test_loader, \n",
    "        device=device, lr=1e-3, num_epochs=5000, early_stopping=7,\n",
    "       silent=True, \n",
    "    )\n",
    "    \n",
    "    metrics['embeddings'] = embeddings\n",
    "    content_wise_results.append(metrics)"
   ]
  },
  {
   "cell_type": "code",
   "execution_count": 7,
   "id": "2522ab19-c02d-4a5f-8a99-884c124f5138",
   "metadata": {},
   "outputs": [],
   "source": [
    "pd.DataFrame(content_wise_results).to_csv(f'results/cw_{experiment_name}.csv')\n",
    "del dataset, train_loader, val_loader, test_loader, train_user_item_matrix, train_num_items"
   ]
  },
  {
   "cell_type": "markdown",
   "id": "9f1ee60f",
   "metadata": {},
   "source": [
    "# RL4RS"
   ]
  },
  {
   "cell_type": "code",
   "execution_count": 8,
   "id": "3f5653bd",
   "metadata": {},
   "outputs": [
    {
     "name": "stdout",
     "output_type": "stream",
     "text": [
      "45942 data points among 106 batches\n"
     ]
    }
   ],
   "source": [
    "rl4rs_results = []\n",
    "dataset = RL4RS.load(os.path.join(pkl_path, 'rl4rs.pkl'))\n",
    "(\n",
    "    train_loader, \n",
    "    val_loader, \n",
    "    test_loader, \n",
    "    train_user_item_matrix, \n",
    "    train_num_items \n",
    ") = get_train_val_test_tmatrix_tnumitems(dataset, batch_size=350)\n",
    "\n",
    "print(f\"{len(dataset)} data points among {len(train_loader)} batches\")"
   ]
  },
  {
   "cell_type": "code",
   "execution_count": null,
   "id": "c3951d43-fb42-4aca-b71b-0f6ed7eb6a91",
   "metadata": {},
   "outputs": [
    {
     "name": "stdout",
     "output_type": "stream",
     "text": [
      "\n",
      "Evaluating InSlateAttention with neural embeddings\n",
      "Test before learning: {'f1': 0.33810919523239136, 'roc-auc': 0.4917644262313843, 'accuracy': 0.399008572101593}\n"
     ]
    },
    {
     "name": "stderr",
     "output_type": "stream",
     "text": [
      "train... loss:60.48253154754639:   0%|                                                                                                  | 1/5000 [00:34<48:35:52, 35.00s/it]"
     ]
    },
    {
     "name": "stdout",
     "output_type": "stream",
     "text": [
      "Val update: epoch: 0 |accuracy: 0.7631693482398987 | f1: 0.835533618927002 | auc: 0.8511934280395508 | treshold: 0.4\n",
      "Test: accuracy: 0.7645750045776367 | f1: 0.8382186889648438 | auc: 0.8485265374183655 | \n"
     ]
    },
    {
     "name": "stderr",
     "output_type": "stream",
     "text": [
      "train... loss:50.49661287665367:   0%|                                                                                                  | 2/5000 [00:43<27:12:14, 19.59s/it]"
     ]
    },
    {
     "name": "stdout",
     "output_type": "stream",
     "text": [
      "Val update: epoch: 1 |accuracy: 0.8056644201278687 | f1: 0.8610029816627502 | auc: 0.8920264840126038 | treshold: 0.45\n",
      "Test: accuracy: 0.8073751926422119 | f1: 0.8635164499282837 | auc: 0.891636848449707 | \n"
     ]
    },
    {
     "name": "stderr",
     "output_type": "stream",
     "text": [
      "train... loss:47.04846891760826:   0%|                                                                                                  | 3/5000 [00:52<20:20:59, 14.66s/it]"
     ]
    },
    {
     "name": "stdout",
     "output_type": "stream",
     "text": [
      "Val update: epoch: 2 |accuracy: 0.823296070098877 | f1: 0.871364176273346 | auc: 0.9062120914459229 | treshold: 0.48000000000000004\n",
      "Test: accuracy: 0.8246161341667175 | f1: 0.8738499283790588 | auc: 0.9068302512168884 | \n"
     ]
    },
    {
     "name": "stderr",
     "output_type": "stream",
     "text": [
      "train... loss:44.76063749194145:   0%|                                                                                                  | 4/5000 [01:01<17:09:56, 12.37s/it]"
     ]
    },
    {
     "name": "stdout",
     "output_type": "stream",
     "text": [
      "Val update: epoch: 3 |accuracy: 0.8276737928390503 | f1: 0.874606192111969 | auc: 0.911374568939209 | treshold: 0.48000000000000004\n",
      "Test: accuracy: 0.8292105197906494 | f1: 0.8769104480743408 | auc: 0.9121794700622559 | \n"
     ]
    },
    {
     "name": "stderr",
     "output_type": "stream",
     "text": [
      "train... loss:44.27298390865326:   0%|                                                                                                  | 5/5000 [01:10<15:21:44, 11.07s/it]"
     ]
    },
    {
     "name": "stdout",
     "output_type": "stream",
     "text": [
      "Val update: epoch: 4 |accuracy: 0.8382914662361145 | f1: 0.8779080510139465 | auc: 0.9154095649719238 | treshold: 0.51\n",
      "Test: accuracy: 0.8401160836219788 | f1: 0.880477249622345 | auc: 0.91665118932724 | \n"
     ]
    },
    {
     "name": "stderr",
     "output_type": "stream",
     "text": [
      "train... loss:42.94543990492821:   0%|▏                                                                                                 | 7/5000 [01:27<13:29:32,  9.73s/it]"
     ]
    },
    {
     "name": "stdout",
     "output_type": "stream",
     "text": [
      "Val update: epoch: 6 |accuracy: 0.8410729169845581 | f1: 0.8802943825721741 | auc: 0.9188512563705444 | treshold: 0.49\n",
      "Test: accuracy: 0.8431144952774048 | f1: 0.8831833004951477 | auc: 0.920581579208374 | \n"
     ]
    },
    {
     "name": "stderr",
     "output_type": "stream",
     "text": [
      "train... loss:42.02724754810333:   0%|▏                                                                                                 | 8/5000 [01:36<13:04:20,  9.43s/it]"
     ]
    },
    {
     "name": "stdout",
     "output_type": "stream",
     "text": [
      "Val update: epoch: 7 |accuracy: 0.8373724222183228 | f1: 0.8802791833877563 | auc: 0.9196680188179016 | treshold: 0.47000000000000003\n",
      "Test: accuracy: 0.8416152596473694 | f1: 0.8845123052597046 | auc: 0.9219919443130493 | \n"
     ]
    },
    {
     "name": "stderr",
     "output_type": "stream",
     "text": [
      "train... loss:41.961572021245956:   0%|▏                                                                                                | 9/5000 [01:45<12:47:51,  9.23s/it]"
     ]
    },
    {
     "name": "stdout",
     "output_type": "stream",
     "text": [
      "Val update: epoch: 8 |accuracy: 0.8372998833656311 | f1: 0.8810538649559021 | auc: 0.9219172596931458 | treshold: 0.5\n",
      "Test: accuracy: 0.839874267578125 | f1: 0.8840280175209045 | auc: 0.9232969284057617 | \n"
     ]
    },
    {
     "name": "stderr",
     "output_type": "stream",
     "text": [
      "train... loss:41.54958125948906:   0%|▏                                                                                                | 11/5000 [02:01<12:17:46,  8.87s/it]"
     ]
    },
    {
     "name": "stdout",
     "output_type": "stream",
     "text": [
      "Val update: epoch: 10 |accuracy: 0.8338654041290283 | f1: 0.8796453475952148 | auc: 0.9221371412277222 | treshold: 0.49\n",
      "Test: accuracy: 0.8364647626876831 | f1: 0.8828004598617554 | auc: 0.9241470098495483 | \n"
     ]
    },
    {
     "name": "stderr",
     "output_type": "stream",
     "text": [
      "train... loss:41.07312375307083:   0%|▎                                                                                                | 13/5000 [02:18<12:03:09,  8.70s/it]"
     ]
    },
    {
     "name": "stdout",
     "output_type": "stream",
     "text": [
      "Val update: epoch: 12 |accuracy: 0.8372998833656311 | f1: 0.8813266158103943 | auc: 0.9238764047622681 | treshold: 0.5\n",
      "Test: accuracy: 0.8388828635215759 | f1: 0.8836177587509155 | auc: 0.924927830696106 | \n"
     ]
    },
    {
     "name": "stderr",
     "output_type": "stream",
     "text": [
      "train... loss:40.298206120729446:   0%|▎                                                                                               | 16/5000 [02:44<11:48:04,  8.52s/it]"
     ]
    },
    {
     "name": "stdout",
     "output_type": "stream",
     "text": [
      "Val update: epoch: 15 |accuracy: 0.847095251083374 | f1: 0.882350742816925 | auc: 0.9248855113983154 | treshold: 0.52\n",
      "Test: accuracy: 0.8488211631774902 | f1: 0.8850143551826477 | auc: 0.9252389669418335 | \n"
     ]
    },
    {
     "name": "stderr",
     "output_type": "stream",
     "text": [
      "train... loss:40.581655621528625:   0%|▎                                                                                               | 18/5000 [03:01<11:55:59,  8.62s/it]"
     ]
    },
    {
     "name": "stdout",
     "output_type": "stream",
     "text": [
      "Val update: epoch: 17 |accuracy: 0.8480626940727234 | f1: 0.885748565196991 | auc: 0.9262652397155762 | treshold: 0.49\n",
      "Test: accuracy: 0.8511425256729126 | f1: 0.8890930414199829 | auc: 0.9277279376983643 | \n"
     ]
    },
    {
     "name": "stderr",
     "output_type": "stream",
     "text": [
      "train... loss:40.16831234097481:   0%|▍                                                                                                | 21/5000 [03:27<11:55:51,  8.63s/it]"
     ]
    },
    {
     "name": "stdout",
     "output_type": "stream",
     "text": [
      "Val update: epoch: 20 |accuracy: 0.8444347977638245 | f1: 0.8844619989395142 | auc: 0.9266633987426758 | treshold: 0.5\n",
      "Test: accuracy: 0.847249448299408 | f1: 0.8876917958259583 | auc: 0.9277548789978027 | \n"
     ]
    },
    {
     "name": "stderr",
     "output_type": "stream",
     "text": [
      "train... loss:39.86307726055384:   0%|▍                                                                                                | 21/5000 [03:34<11:55:51,  8.63s/it]"
     ]
    }
   ],
   "source": [
    "for embeddings in ['neural','explicit', 'svd',  ]:\n",
    "    print(f\"\\nEvaluating {experiment_name} with {embeddings} embeddings\")\n",
    "\n",
    "    model = SlatewiseAttention(\n",
    "        RecsysEmbedding(\n",
    "            train_num_items, \n",
    "            train_user_item_matrix, \n",
    "            embeddings=embeddings,\n",
    "            embedding_dim=40\n",
    "        ),\n",
    "        output_dim=1\n",
    "    ).to(device)\n",
    "\n",
    "    best_model, metrics = train(\n",
    "        model, \n",
    "        train_loader, val_loader, test_loader, \n",
    "        device=device, lr=1e-3, num_epochs=5000, early_stopping=7,\n",
    "        silent=True\n",
    "    )\n",
    "    \n",
    "    metrics['embeddings'] = embeddings\n",
    "    rl4rs_results.append(metrics)"
   ]
  },
  {
   "cell_type": "code",
   "execution_count": null,
   "id": "2e6fde63-9cc6-4eda-b0a5-a75ca1083c47",
   "metadata": {},
   "outputs": [],
   "source": [
    "pd.DataFrame(rl4rs_results).to_csv(f'results/rl4rs_{experiment_name}.csv')\n",
    "del dataset, train_loader, val_loader, test_loader, train_user_item_matrix, train_num_items"
   ]
  },
  {
   "cell_type": "markdown",
   "id": "e21e5900-91e5-484e-be29-5324ac09623d",
   "metadata": {},
   "source": [
    "# OpenCDP"
   ]
  },
  {
   "cell_type": "code",
   "execution_count": 9,
   "id": "91a39b4d-0f89-40bc-aaac-a4a2cdca1989",
   "metadata": {},
   "outputs": [
    {
     "name": "stdout",
     "output_type": "stream",
     "text": [
      "\n",
      " == cosmetics_10_8.pkl ==\n",
      "115256 data points among 116 batches\n",
      "\n",
      "Evaluating InSlateAttention with neural embeddings\n",
      "Test before learning: {'f1': 0.11245217174291611, 'roc-auc': 0.4997224807739258, 'accuracy': 0.4523639678955078}\n"
     ]
    },
    {
     "name": "stderr",
     "output_type": "stream",
     "text": [
      "train... loss:79.81531691551208:   0%|                                                                                              | 1/5000 [24:27<2037:45:35, 1467.48s/it]"
     ]
    },
    {
     "name": "stdout",
     "output_type": "stream",
     "text": [
      "Val update: epoch: 0 |accuracy: 0.5685881972312927 | f1: 0.68681401014328 | auc: 0.592437744140625 | treshold: 0.41000000000000003\n",
      "Test: accuracy: 0.5776675939559937 | f1: 0.6960759162902832 | auc: 0.5892422199249268 | \n"
     ]
    },
    {
     "name": "stderr",
     "output_type": "stream",
     "text": [
      "train... loss:77.37363070249557:   0%|                                                                                                | 2/5000 [24:54<860:56:33, 620.13s/it]"
     ]
    },
    {
     "name": "stdout",
     "output_type": "stream",
     "text": [
      "Val update: epoch: 1 |accuracy: 0.5456679463386536 | f1: 0.6963627338409424 | auc: 0.6210092306137085 | treshold: 0.38\n",
      "Test: accuracy: 0.5544227361679077 | f1: 0.7044934034347534 | auc: 0.6194785237312317 | \n"
     ]
    },
    {
     "name": "stderr",
     "output_type": "stream",
     "text": [
      "train... loss:75.3888972401619:   0%|                                                                                                 | 3/5000 [25:21<484:47:53, 349.26s/it]"
     ]
    },
    {
     "name": "stdout",
     "output_type": "stream",
     "text": [
      "Val update: epoch: 2 |accuracy: 0.5771948099136353 | f1: 0.7000147104263306 | auc: 0.6340777277946472 | treshold: 0.39\n",
      "Test: accuracy: 0.5833004117012024 | f1: 0.7074180841445923 | auc: 0.6301222443580627 | \n"
     ]
    },
    {
     "name": "stderr",
     "output_type": "stream",
     "text": [
      "train... loss:73.3003779053688:   0%|                                                                                                 | 4/5000 [25:48<308:00:53, 221.95s/it]"
     ]
    },
    {
     "name": "stdout",
     "output_type": "stream",
     "text": [
      "Val update: epoch: 3 |accuracy: 0.6109461784362793 | f1: 0.6827266812324524 | auc: 0.6468228101730347 | treshold: 0.41000000000000003\n",
      "Test: accuracy: 0.6140987277030945 | f1: 0.6899988055229187 | auc: 0.6461015939712524 | \n"
     ]
    },
    {
     "name": "stderr",
     "output_type": "stream",
     "text": [
      "train... loss:71.41992980241776:   0%|                                                                                                | 5/5000 [26:14<210:09:43, 151.47s/it]"
     ]
    },
    {
     "name": "stdout",
     "output_type": "stream",
     "text": [
      "Val update: epoch: 4 |accuracy: 0.5948529243469238 | f1: 0.7036166191101074 | auc: 0.6514890193939209 | treshold: 0.39\n",
      "Test: accuracy: 0.597929060459137 | f1: 0.7092095017433167 | auc: 0.6503699421882629 | \n"
     ]
    },
    {
     "name": "stderr",
     "output_type": "stream",
     "text": [
      "train... loss:69.57704120874405:   0%|                                                                                                | 6/5000 [26:41<151:19:25, 109.08s/it]"
     ]
    },
    {
     "name": "stdout",
     "output_type": "stream",
     "text": [
      "Val update: epoch: 5 |accuracy: 0.6012043356895447 | f1: 0.7039266228675842 | auc: 0.6549184322357178 | treshold: 0.4\n",
      "Test: accuracy: 0.6049662828445435 | f1: 0.7095484733581543 | auc: 0.6542097330093384 | \n"
     ]
    },
    {
     "name": "stderr",
     "output_type": "stream",
     "text": [
      "train... loss:36.67236390709877:   2%|█▍                                                                                               | 75/5000 [56:12<61:30:28, 44.96s/it]\n"
     ]
    },
    {
     "name": "stdout",
     "output_type": "stream",
     "text": [
      "{'f1': 0.7095484733581543, 'roc-auc': 0.6542097330093384, 'accuracy': 0.6049662828445435}\n",
      "\n",
      "Evaluating InSlateAttention with svd embeddings\n",
      "Test before learning: {'f1': 0.023109329864382744, 'roc-auc': 0.49826547503471375, 'accuracy': 0.45959097146987915}\n"
     ]
    },
    {
     "name": "stderr",
     "output_type": "stream",
     "text": [
      "train... loss:80.24630618095398:   0%|                                                                                                  | 1/5000 [00:22<31:54:52, 22.98s/it]"
     ]
    },
    {
     "name": "stdout",
     "output_type": "stream",
     "text": [
      "Val update: epoch: 0 |accuracy: 0.5277566909790039 | f1: 0.6908910274505615 | auc: 0.5481300354003906 | treshold: 0.42000000000000004\n",
      "Test: accuracy: 0.5376685261726379 | f1: 0.6993295550346375 | auc: 0.5366241335868835 | \n"
     ]
    },
    {
     "name": "stderr",
     "output_type": "stream",
     "text": [
      "train... loss:81.06808531284332:   0%|                                                                                                  | 2/5000 [00:46<32:12:49, 23.20s/it]"
     ]
    },
    {
     "name": "stdout",
     "output_type": "stream",
     "text": [
      "Val update: epoch: 1 |accuracy: 0.5277566909790039 | f1: 0.6908910274505615 | auc: 0.5558068752288818 | treshold: 0.29000000000000004\n",
      "Test: accuracy: 0.5376685261726379 | f1: 0.6993295550346375 | auc: 0.5461565256118774 | \n"
     ]
    },
    {
     "name": "stderr",
     "output_type": "stream",
     "text": [
      "train... loss:80.15985888242722:   0%|                                                                                                  | 3/5000 [01:09<32:29:05, 23.40s/it]"
     ]
    },
    {
     "name": "stdout",
     "output_type": "stream",
     "text": [
      "Val update: epoch: 2 |accuracy: 0.5297510623931885 | f1: 0.6909644603729248 | auc: 0.5572705864906311 | treshold: 0.36000000000000004\n",
      "Test: accuracy: 0.5400446653366089 | f1: 0.6995472311973572 | auc: 0.5451644659042358 | \n"
     ]
    },
    {
     "name": "stderr",
     "output_type": "stream",
     "text": [
      "train... loss:80.21260297298431:   0%|                                                                                                  | 4/5000 [01:33<32:27:37, 23.39s/it]"
     ]
    },
    {
     "name": "stdout",
     "output_type": "stream",
     "text": [
      "Val update: epoch: 3 |accuracy: 0.5279561281204224 | f1: 0.6909501552581787 | auc: 0.5573779344558716 | treshold: 0.31\n",
      "Test: accuracy: 0.5379570126533508 | f1: 0.6994073390960693 | auc: 0.5419036149978638 | \n"
     ]
    },
    {
     "name": "stderr",
     "output_type": "stream",
     "text": [
      "train... loss:80.12691277265549:   0%|                                                                                                  | 6/5000 [02:19<32:18:13, 23.29s/it]"
     ]
    },
    {
     "name": "stdout",
     "output_type": "stream",
     "text": [
      "Val update: epoch: 5 |accuracy: 0.5277566909790039 | f1: 0.6908910274505615 | auc: 0.5637187957763672 | treshold: 0.3\n",
      "Test: accuracy: 0.5377900004386902 | f1: 0.6993640065193176 | auc: 0.5515444874763489 | \n"
     ]
    },
    {
     "name": "stderr",
     "output_type": "stream",
     "text": [
      "train... loss:79.78688246011734:   0%|▏                                                                                                 | 8/5000 [03:04<31:59:40, 23.07s/it]"
     ]
    },
    {
     "name": "stdout",
     "output_type": "stream",
     "text": [
      "Val update: epoch: 7 |accuracy: 0.5280635356903076 | f1: 0.6910111904144287 | auc: 0.5644035339355469 | treshold: 0.24000000000000002\n",
      "Test: accuracy: 0.5381012558937073 | f1: 0.6994403004646301 | auc: 0.5513840913772583 | \n"
     ]
    },
    {
     "name": "stderr",
     "output_type": "stream",
     "text": [
      "train... loss:79.97238540649414:   0%|▏                                                                                                | 11/5000 [04:12<31:43:40, 22.89s/it]"
     ]
    },
    {
     "name": "stdout",
     "output_type": "stream",
     "text": [
      "Val update: epoch: 10 |accuracy: 0.5304644703865051 | f1: 0.6913103461265564 | auc: 0.5657612085342407 | treshold: 0.33\n",
      "Test: accuracy: 0.5407050848007202 | f1: 0.6996793150901794 | auc: 0.5560122132301331 | \n"
     ]
    },
    {
     "name": "stderr",
     "output_type": "stream",
     "text": [
      "train... loss:79.66665530204773:   0%|▏                                                                                                | 12/5000 [04:36<31:57:26, 23.06s/it]"
     ]
    },
    {
     "name": "stdout",
     "output_type": "stream",
     "text": [
      "Val update: epoch: 11 |accuracy: 0.5287538766860962 | f1: 0.6911746859550476 | auc: 0.5659795999526978 | treshold: 0.26\n",
      "Test: accuracy: 0.5390046238899231 | f1: 0.6996617317199707 | auc: 0.5552930235862732 | \n"
     ]
    },
    {
     "name": "stderr",
     "output_type": "stream",
     "text": [
      "train... loss:79.60950720310211:   0%|▎                                                                                                | 13/5000 [05:00<32:23:40, 23.38s/it]"
     ]
    },
    {
     "name": "stdout",
     "output_type": "stream",
     "text": [
      "Val update: epoch: 12 |accuracy: 0.5309783816337585 | f1: 0.6905574202537537 | auc: 0.5664740800857544 | treshold: 0.36000000000000004\n",
      "Test: accuracy: 0.541745126247406 | f1: 0.6994927525520325 | auc: 0.5551465749740601 | \n"
     ]
    },
    {
     "name": "stderr",
     "output_type": "stream",
     "text": [
      "train... loss:79.80489885807037:   0%|▎                                                                                                | 16/5000 [06:07<31:43:10, 22.91s/it]"
     ]
    },
    {
     "name": "stdout",
     "output_type": "stream",
     "text": [
      "Val update: epoch: 15 |accuracy: 0.5302420258522034 | f1: 0.6913462281227112 | auc: 0.5669937133789062 | treshold: 0.32\n",
      "Test: accuracy: 0.5402875542640686 | f1: 0.6997089385986328 | auc: 0.5572974681854248 | \n"
     ]
    },
    {
     "name": "stderr",
     "output_type": "stream",
     "text": [
      "train... loss:79.94142001867294:   0%|▎                                                                                                | 18/5000 [06:53<31:51:01, 23.02s/it]"
     ]
    },
    {
     "name": "stdout",
     "output_type": "stream",
     "text": [
      "Val update: epoch: 17 |accuracy: 0.5277566909790039 | f1: 0.6908910274505615 | auc: 0.5679447650909424 | treshold: 0.16\n",
      "Test: accuracy: 0.5376685261726379 | f1: 0.6993295550346375 | auc: 0.5571074485778809 | \n"
     ]
    },
    {
     "name": "stderr",
     "output_type": "stream",
     "text": [
      "train... loss:79.54666870832443:   0%|▍                                                                                                | 20/5000 [07:39<31:42:07, 22.92s/it]"
     ]
    },
    {
     "name": "stdout",
     "output_type": "stream",
     "text": [
      "Val update: epoch: 19 |accuracy: 0.5289456248283386 | f1: 0.6912243366241455 | auc: 0.5688362121582031 | treshold: 0.29000000000000004\n",
      "Test: accuracy: 0.5392551422119141 | f1: 0.6997789144515991 | auc: 0.5583868622779846 | \n"
     ]
    },
    {
     "name": "stderr",
     "output_type": "stream",
     "text": [
      "train... loss:79.6792961359024:   0%|▍                                                                                                 | 21/5000 [08:03<32:06:35, 23.22s/it]"
     ]
    },
    {
     "name": "stdout",
     "output_type": "stream",
     "text": [
      "Val update: epoch: 20 |accuracy: 0.5300655961036682 | f1: 0.6914153695106506 | auc: 0.5694363117218018 | treshold: 0.26\n",
      "Test: accuracy: 0.5402116775512695 | f1: 0.6997694969177246 | auc: 0.5596996545791626 | \n"
     ]
    },
    {
     "name": "stderr",
     "output_type": "stream",
     "text": [
      "train... loss:79.61772972345352:   0%|▍                                                                                                | 25/5000 [09:33<31:39:14, 22.91s/it]"
     ]
    },
    {
     "name": "stdout",
     "output_type": "stream",
     "text": [
      "Val update: epoch: 24 |accuracy: 0.5290684103965759 | f1: 0.6912364363670349 | auc: 0.5695172548294067 | treshold: 0.33\n",
      "Test: accuracy: 0.5394524931907654 | f1: 0.6998302936553955 | auc: 0.5595229864120483 | \n"
     ]
    },
    {
     "name": "stderr",
     "output_type": "stream",
     "text": [
      "train... loss:79.63290458917618:   1%|▌                                                                                                | 29/5000 [11:04<31:37:16, 22.90s/it]"
     ]
    },
    {
     "name": "stdout",
     "output_type": "stream",
     "text": [
      "Val update: epoch: 28 |accuracy: 0.5300962924957275 | f1: 0.6908156871795654 | auc: 0.5695942640304565 | treshold: 0.3\n",
      "Test: accuracy: 0.5408720970153809 | f1: 0.6996364593505859 | auc: 0.5599599480628967 | \n"
     ]
    },
    {
     "name": "stderr",
     "output_type": "stream",
     "text": [
      "train... loss:79.61851954460144:   1%|▌                                                                                                | 30/5000 [11:27<31:58:09, 23.16s/it]"
     ]
    },
    {
     "name": "stdout",
     "output_type": "stream",
     "text": [
      "Val update: epoch: 29 |accuracy: 0.5289226174354553 | f1: 0.6911641955375671 | auc: 0.569830060005188 | treshold: 0.23\n",
      "Test: accuracy: 0.5393614172935486 | f1: 0.6997471451759338 | auc: 0.5600025057792664 | \n"
     ]
    },
    {
     "name": "stderr",
     "output_type": "stream",
     "text": [
      "train... loss:79.42923599481583:   1%|▌                                                                                                | 32/5000 [12:12<31:41:43, 22.97s/it]"
     ]
    },
    {
     "name": "stdout",
     "output_type": "stream",
     "text": [
      "Val update: epoch: 31 |accuracy: 0.5279484391212463 | f1: 0.6909653544425964 | auc: 0.5703308582305908 | treshold: 0.29000000000000004\n",
      "Test: accuracy: 0.5384656190872192 | f1: 0.6996210217475891 | auc: 0.5618335008621216 | \n"
     ]
    },
    {
     "name": "stderr",
     "output_type": "stream",
     "text": [
      "train... loss:79.41200757026672:   1%|▋                                                                                                | 35/5000 [13:21<31:32:17, 22.87s/it]"
     ]
    },
    {
     "name": "stdout",
     "output_type": "stream",
     "text": [
      "Val update: epoch: 34 |accuracy: 0.5309093594551086 | f1: 0.6914160847663879 | auc: 0.5710265636444092 | treshold: 0.28\n",
      "Test: accuracy: 0.5412288904190063 | f1: 0.7000263333320618 | auc: 0.5614200830459595 | \n"
     ]
    },
    {
     "name": "stderr",
     "output_type": "stream",
     "text": [
      "train... loss:79.45019179582596:   1%|▋                                                                                                | 37/5000 [14:07<31:48:30, 23.07s/it]"
     ]
    },
    {
     "name": "stdout",
     "output_type": "stream",
     "text": [
      "Val update: epoch: 36 |accuracy: 0.5299504995346069 | f1: 0.6912542581558228 | auc: 0.5715627670288086 | treshold: 0.27\n",
      "Test: accuracy: 0.5402420163154602 | f1: 0.6998428702354431 | auc: 0.560980498790741 | \n"
     ]
    },
    {
     "name": "stderr",
     "output_type": "stream",
     "text": [
      "train... loss:79.48044675588608:   1%|▊                                                                                                | 41/5000 [16:00<32:16:20, 23.43s/it]"
     ]
    },
    {
     "name": "stdout",
     "output_type": "stream",
     "text": [
      "Val update: epoch: 41 |accuracy: 0.5281785726547241 | f1: 0.6910384297370911 | auc: 0.5725988149642944 | treshold: 0.25\n",
      "Test: accuracy: 0.5386326313018799 | f1: 0.6996733546257019 | auc: 0.5622959136962891 | \n",
      "{'f1': 0.6996733546257019, 'roc-auc': 0.5622959136962891, 'accuracy': 0.5386326313018799}\n",
      "\n",
      " == cosmetics_10_24.pkl ==\n"
     ]
    },
    {
     "name": "stderr",
     "output_type": "stream",
     "text": [
      "\n"
     ]
    },
    {
     "name": "stdout",
     "output_type": "stream",
     "text": [
      "115190 data points among 116 batches\n",
      "\n",
      "Evaluating InSlateAttention with neural embeddings\n",
      "Test before learning: {'f1': 0.679352879524231, 'roc-auc': 0.49938809871673584, 'accuracy': 0.5464158058166504}\n"
     ]
    },
    {
     "name": "stderr",
     "output_type": "stream",
     "text": [
      "train... loss:79.70024472475052:   0%|                                                                                              | 1/5000 [32:14<2686:43:30, 1934.83s/it]"
     ]
    },
    {
     "name": "stdout",
     "output_type": "stream",
     "text": [
      "Val update: epoch: 0 |accuracy: 0.5670308470726013 | f1: 0.6927831172943115 | auc: 0.58315110206604 | treshold: 0.35000000000000003\n",
      "Test: accuracy: 0.5733725428581238 | f1: 0.6979891657829285 | auc: 0.5910458564758301 | \n"
     ]
    },
    {
     "name": "stderr",
     "output_type": "stream",
     "text": [
      "train... loss:77.1090596318245:   0%|                                                                                                | 2/5000 [32:40<1126:58:08, 811.74s/it]"
     ]
    },
    {
     "name": "stdout",
     "output_type": "stream",
     "text": [
      "Val update: epoch: 1 |accuracy: 0.549053966999054 | f1: 0.7018550634384155 | auc: 0.6053131818771362 | treshold: 0.35000000000000003\n",
      "Test: accuracy: 0.5524383783340454 | f1: 0.7038629055023193 | auc: 0.6127896308898926 | \n"
     ]
    },
    {
     "name": "stderr",
     "output_type": "stream",
     "text": [
      "train... loss:75.15729492902756:   0%|                                                                                                | 3/5000 [33:06<628:31:57, 452.82s/it]"
     ]
    },
    {
     "name": "stdout",
     "output_type": "stream",
     "text": [
      "Val update: epoch: 2 |accuracy: 0.5552137494087219 | f1: 0.7036796808242798 | auc: 0.62369304895401 | treshold: 0.37\n",
      "Test: accuracy: 0.5577901005744934 | f1: 0.7052450776100159 | auc: 0.6320608854293823 | \n"
     ]
    },
    {
     "name": "stderr",
     "output_type": "stream",
     "text": [
      "train... loss:72.69749689102173:   0%|                                                                                                | 4/5000 [33:32<394:43:28, 284.43s/it]"
     ]
    },
    {
     "name": "stdout",
     "output_type": "stream",
     "text": [
      "Val update: epoch: 3 |accuracy: 0.571782112121582 | f1: 0.7054170966148376 | auc: 0.6285368204116821 | treshold: 0.39\n",
      "Test: accuracy: 0.576406717300415 | f1: 0.7084081172943115 | auc: 0.6358647346496582 | \n"
     ]
    },
    {
     "name": "stderr",
     "output_type": "stream",
     "text": [
      "train... loss:71.06633478403091:   0%|                                                                                                | 5/5000 [33:57<265:06:09, 191.06s/it]"
     ]
    },
    {
     "name": "stdout",
     "output_type": "stream",
     "text": [
      "Val update: epoch: 4 |accuracy: 0.5883884429931641 | f1: 0.7074935436248779 | auc: 0.6405870914459229 | treshold: 0.39\n",
      "Test: accuracy: 0.5915012955665588 | f1: 0.709675669670105 | auc: 0.6453784704208374 | \n"
     ]
    },
    {
     "name": "stderr",
     "output_type": "stream",
     "text": [
      "train... loss:69.40096116065979:   0%|                                                                                                | 6/5000 [34:23<187:07:33, 134.89s/it]"
     ]
    },
    {
     "name": "stdout",
     "output_type": "stream",
     "text": [
      "Val update: epoch: 5 |accuracy: 0.6040583252906799 | f1: 0.7059448957443237 | auc: 0.6442409753799438 | treshold: 0.4\n",
      "Test: accuracy: 0.6035769581794739 | f1: 0.7065098285675049 | auc: 0.6474668979644775 | \n"
     ]
    },
    {
     "name": "stderr",
     "output_type": "stream",
     "text": [
      "train... loss:67.77817112207413:   0%|▏                                                                                                | 7/5000 [34:49<137:42:06, 99.28s/it]"
     ]
    },
    {
     "name": "stdout",
     "output_type": "stream",
     "text": [
      "Val update: epoch: 6 |accuracy: 0.607477068901062 | f1: 0.7054911851882935 | auc: 0.6458362936973572 | treshold: 0.41000000000000003\n",
      "Test: accuracy: 0.6075412034988403 | f1: 0.7064659595489502 | auc: 0.6485956907272339 | \n"
     ]
    },
    {
     "name": "stderr",
     "output_type": "stream",
     "text": [
      "train... loss:66.56428474187851:   0%|▏                                                                                                | 8/5000 [35:15<105:21:04, 75.97s/it]"
     ]
    },
    {
     "name": "stdout",
     "output_type": "stream",
     "text": [
      "Val update: epoch: 7 |accuracy: 0.6082537174224854 | f1: 0.7078198790550232 | auc: 0.6522530913352966 | treshold: 0.41000000000000003\n",
      "Test: accuracy: 0.6079528331756592 | f1: 0.7084760069847107 | auc: 0.6544979810714722 | \n"
     ]
    },
    {
     "name": "stderr",
     "output_type": "stream",
     "text": [
      "train... loss:65.45907527208328:   0%|▏                                                                                                 | 9/5000 [35:41<83:35:43, 60.30s/it]"
     ]
    },
    {
     "name": "stdout",
     "output_type": "stream",
     "text": [
      "Val update: epoch: 8 |accuracy: 0.61628657579422 | f1: 0.7027211785316467 | auc: 0.6528044939041138 | treshold: 0.41000000000000003\n",
      "Test: accuracy: 0.6143184900283813 | f1: 0.7032594680786133 | auc: 0.65406733751297 | \n"
     ]
    },
    {
     "name": "stderr",
     "output_type": "stream",
     "text": [
      "train... loss:64.5211825966835:   0%|▏                                                                                                 | 10/5000 [36:07<68:42:48, 49.57s/it]"
     ]
    },
    {
     "name": "stdout",
     "output_type": "stream",
     "text": [
      "Val update: epoch: 9 |accuracy: 0.6178170442581177 | f1: 0.7010233402252197 | auc: 0.6536597013473511 | treshold: 0.41000000000000003\n",
      "Test: accuracy: 0.6172306537628174 | f1: 0.702272891998291 | auc: 0.6546362638473511 | \n"
     ]
    },
    {
     "name": "stderr",
     "output_type": "stream",
     "text": [
      "train... loss:62.27064323425293:   0%|▎                                                                                                | 13/5000 [37:22<46:15:27, 33.39s/it]"
     ]
    },
    {
     "name": "stdout",
     "output_type": "stream",
     "text": [
      "Val update: epoch: 12 |accuracy: 0.6188068389892578 | f1: 0.7014989256858826 | auc: 0.65406733751297 | treshold: 0.4\n",
      "Test: accuracy: 0.6151723265647888 | f1: 0.7001491189002991 | auc: 0.6546956300735474 | \n"
     ]
    },
    {
     "name": "stderr",
     "output_type": "stream",
     "text": [
      "train... loss:36.00454577803612:   2%|█▌                                                                                             | 82/5000 [1:05:53<65:52:23, 48.22s/it]\n"
     ]
    },
    {
     "name": "stdout",
     "output_type": "stream",
     "text": [
      "{'f1': 0.7001491189002991, 'roc-auc': 0.6546956300735474, 'accuracy': 0.6151723265647888}\n",
      "\n",
      "Evaluating InSlateAttention with svd embeddings\n",
      "Test before learning: {'f1': 0.0, 'roc-auc': 0.5161278247833252, 'accuracy': 0.46152791380882263}\n"
     ]
    },
    {
     "name": "stderr",
     "output_type": "stream",
     "text": [
      "train... loss:80.29182189702988:   0%|                                                                                                  | 1/5000 [00:22<30:50:18, 22.21s/it]"
     ]
    },
    {
     "name": "stdout",
     "output_type": "stream",
     "text": [
      "Val update: epoch: 0 |accuracy: 0.5365820527076721 | f1: 0.698388934135437 | auc: 0.5472548007965088 | treshold: 0.47000000000000003\n",
      "Test: accuracy: 0.5385940670967102 | f1: 0.7000584602355957 | auc: 0.5360596776008606 | \n"
     ]
    },
    {
     "name": "stderr",
     "output_type": "stream",
     "text": [
      "train... loss:80.92794680595398:   0%|                                                                                                  | 2/5000 [00:44<31:05:47, 22.40s/it]"
     ]
    },
    {
     "name": "stdout",
     "output_type": "stream",
     "text": [
      "Val update: epoch: 1 |accuracy: 0.5372977256774902 | f1: 0.6984931826591492 | auc: 0.5502595901489258 | treshold: 0.31\n",
      "Test: accuracy: 0.5396460890769958 | f1: 0.7002313137054443 | auc: 0.540257453918457 | \n"
     ]
    },
    {
     "name": "stderr",
     "output_type": "stream",
     "text": [
      "train... loss:80.11401319503784:   0%|                                                                                                  | 3/5000 [01:07<31:04:26, 22.39s/it]"
     ]
    },
    {
     "name": "stdout",
     "output_type": "stream",
     "text": [
      "Val update: epoch: 2 |accuracy: 0.5383180379867554 | f1: 0.6985777616500854 | auc: 0.5522308945655823 | treshold: 0.41000000000000003\n",
      "Test: accuracy: 0.5403474569320679 | f1: 0.7000805735588074 | auc: 0.5384662747383118 | \n"
     ]
    },
    {
     "name": "stderr",
     "output_type": "stream",
     "text": [
      "train... loss:80.32722741365433:   0%|                                                                                                  | 6/5000 [02:12<30:34:17, 22.04s/it]"
     ]
    },
    {
     "name": "stdout",
     "output_type": "stream",
     "text": [
      "Val update: epoch: 5 |accuracy: 0.5365515947341919 | f1: 0.6983840465545654 | auc: 0.5551654100418091 | treshold: 0.22\n",
      "Test: accuracy: 0.5384721159934998 | f1: 0.7000089287757874 | auc: 0.5420362949371338 | \n"
     ]
    },
    {
     "name": "stderr",
     "output_type": "stream",
     "text": [
      "train... loss:79.85807341337204:   0%|▏                                                                                                 | 8/5000 [02:56<30:26:40, 21.96s/it]"
     ]
    },
    {
     "name": "stdout",
     "output_type": "stream",
     "text": [
      "Val update: epoch: 7 |accuracy: 0.5365515947341919 | f1: 0.6983691453933716 | auc: 0.5566596984863281 | treshold: 0.26\n",
      "Test: accuracy: 0.5387465357780457 | f1: 0.700127899646759 | auc: 0.5437055826187134 | \n"
     ]
    },
    {
     "name": "stderr",
     "output_type": "stream",
     "text": [
      "train... loss:79.68977600336075:   0%|▎                                                                                                | 13/5000 [04:44<30:25:38, 21.96s/it]"
     ]
    },
    {
     "name": "stdout",
     "output_type": "stream",
     "text": [
      "Val update: epoch: 12 |accuracy: 0.5371150374412537 | f1: 0.6984817981719971 | auc: 0.5576807260513306 | treshold: 0.34\n",
      "Test: accuracy: 0.5393640398979187 | f1: 0.7002455592155457 | auc: 0.5451358556747437 | \n"
     ]
    },
    {
     "name": "stderr",
     "output_type": "stream",
     "text": [
      "train... loss:80.02976775169373:   0%|▎                                                                                                | 15/5000 [05:28<30:32:19, 22.05s/it]"
     ]
    },
    {
     "name": "stdout",
     "output_type": "stream",
     "text": [
      "Val update: epoch: 14 |accuracy: 0.5365515947341919 | f1: 0.6983840465545654 | auc: 0.5577603578567505 | treshold: 0.28\n",
      "Test: accuracy: 0.5387236475944519 | f1: 0.7001174688339233 | auc: 0.545411229133606 | \n"
     ]
    },
    {
     "name": "stderr",
     "output_type": "stream",
     "text": [
      "train... loss:79.67944759130478:   0%|▎                                                                                                | 17/5000 [06:12<30:36:08, 22.11s/it]"
     ]
    },
    {
     "name": "stdout",
     "output_type": "stream",
     "text": [
      "Val update: epoch: 16 |accuracy: 0.5366353392601013 | f1: 0.6983952522277832 | auc: 0.5583056211471558 | treshold: 0.21000000000000002\n",
      "Test: accuracy: 0.5389218926429749 | f1: 0.7001898288726807 | auc: 0.5461550951004028 | \n"
     ]
    },
    {
     "name": "stderr",
     "output_type": "stream",
     "text": [
      "train... loss:79.89541292190552:   0%|▎                                                                                                | 18/5000 [06:35<30:51:57, 22.30s/it]"
     ]
    },
    {
     "name": "stdout",
     "output_type": "stream",
     "text": [
      "Val update: epoch: 17 |accuracy: 0.5365744233131409 | f1: 0.698352575302124 | auc: 0.5590499639511108 | treshold: 0.31\n",
      "Test: accuracy: 0.5387694239616394 | f1: 0.7001293897628784 | auc: 0.5470232963562012 | \n"
     ]
    },
    {
     "name": "stderr",
     "output_type": "stream",
     "text": [
      "train... loss:79.56227838993073:   0%|▍                                                                                                | 20/5000 [07:19<30:33:05, 22.09s/it]"
     ]
    },
    {
     "name": "stdout",
     "output_type": "stream",
     "text": [
      "Val update: epoch: 19 |accuracy: 0.5369018316268921 | f1: 0.6983728408813477 | auc: 0.5596836805343628 | treshold: 0.24000000000000002\n",
      "Test: accuracy: 0.5391963124275208 | f1: 0.7002316117286682 | auc: 0.5476027131080627 | \n"
     ]
    },
    {
     "name": "stderr",
     "output_type": "stream",
     "text": [
      "train... loss:79.67562246322632:   0%|▍                                                                                                | 23/5000 [08:25<30:35:20, 22.13s/it]"
     ]
    },
    {
     "name": "stdout",
     "output_type": "stream",
     "text": [
      "Val update: epoch: 22 |accuracy: 0.5367571711540222 | f1: 0.6984267234802246 | auc: 0.5621125102043152 | treshold: 0.29000000000000004\n",
      "Test: accuracy: 0.5389981269836426 | f1: 0.7002186179161072 | auc: 0.5495015382766724 | \n"
     ]
    },
    {
     "name": "stderr",
     "output_type": "stream",
     "text": [
      "train... loss:79.63612961769104:   1%|▌                                                                                                | 28/5000 [10:13<30:16:38, 21.92s/it]"
     ]
    },
    {
     "name": "stdout",
     "output_type": "stream",
     "text": [
      "Val update: epoch: 27 |accuracy: 0.5366886258125305 | f1: 0.6984164714813232 | auc: 0.5623654127120972 | treshold: 0.24000000000000002\n",
      "Test: accuracy: 0.5389066338539124 | f1: 0.700191855430603 | auc: 0.5503265857696533 | \n"
     ]
    },
    {
     "name": "stderr",
     "output_type": "stream",
     "text": [
      "train... loss:79.42902505397797:   1%|▌                                                                                                | 29/5000 [10:36<30:44:48, 22.27s/it]"
     ]
    },
    {
     "name": "stdout",
     "output_type": "stream",
     "text": [
      "Val update: epoch: 28 |accuracy: 0.5381657481193542 | f1: 0.6977692246437073 | auc: 0.5631835460662842 | treshold: 0.33\n",
      "Test: accuracy: 0.5413385629653931 | f1: 0.6999451518058777 | auc: 0.550979495048523 | \n"
     ]
    },
    {
     "name": "stderr",
     "output_type": "stream",
     "text": [
      "train... loss:79.44893050193787:   1%|▌                                                                                                | 32/5000 [11:42<30:38:07, 22.20s/it]"
     ]
    },
    {
     "name": "stdout",
     "output_type": "stream",
     "text": [
      "Val update: epoch: 31 |accuracy: 0.5367723703384399 | f1: 0.6983708143234253 | auc: 0.5637804269790649 | treshold: 0.33\n",
      "Test: accuracy: 0.5389371514320374 | f1: 0.7000957131385803 | auc: 0.5500466823577881 | \n"
     ]
    },
    {
     "name": "stderr",
     "output_type": "stream",
     "text": [
      "train... loss:79.28377270698547:   1%|▋                                                                                                | 34/5000 [12:27<30:51:50, 22.37s/it]"
     ]
    },
    {
     "name": "stdout",
     "output_type": "stream",
     "text": [
      "Val update: epoch: 33 |accuracy: 0.539048969745636 | f1: 0.6978473663330078 | auc: 0.5643066167831421 | treshold: 0.33\n",
      "Test: accuracy: 0.5420780181884766 | f1: 0.6997265815734863 | auc: 0.5516726970672607 | \n"
     ]
    },
    {
     "name": "stderr",
     "output_type": "stream",
     "text": [
      "train... loss:79.3139317035675:   1%|▋                                                                                                 | 36/5000 [13:11<30:37:59, 22.22s/it]"
     ]
    },
    {
     "name": "stdout",
     "output_type": "stream",
     "text": [
      "Val update: epoch: 35 |accuracy: 0.5372901558876038 | f1: 0.6979231834411621 | auc: 0.5651043653488159 | treshold: 0.3\n",
      "Test: accuracy: 0.5403856039047241 | f1: 0.7002113461494446 | auc: 0.5512434840202332 | \n"
     ]
    },
    {
     "name": "stderr",
     "output_type": "stream",
     "text": [
      "train... loss:79.59966522455215:   1%|▋                                                                                                | 38/5000 [13:56<30:50:35, 22.38s/it]"
     ]
    },
    {
     "name": "stdout",
     "output_type": "stream",
     "text": [
      "Val update: epoch: 37 |accuracy: 0.537617564201355 | f1: 0.69855797290802 | auc: 0.5651846528053284 | treshold: 0.33\n",
      "Test: accuracy: 0.5400348901748657 | f1: 0.7004413604736328 | auc: 0.5512100458145142 | \n"
     ]
    },
    {
     "name": "stderr",
     "output_type": "stream",
     "text": [
      "train... loss:79.58483678102493:   1%|▊                                                                                                | 40/5000 [14:39<30:32:08, 22.16s/it]"
     ]
    },
    {
     "name": "stdout",
     "output_type": "stream",
     "text": [
      "Val update: epoch: 39 |accuracy: 0.538135290145874 | f1: 0.6985183954238892 | auc: 0.5652370452880859 | treshold: 0.32\n",
      "Test: accuracy: 0.5403703451156616 | f1: 0.7002490758895874 | auc: 0.5522392392158508 | \n"
     ]
    },
    {
     "name": "stderr",
     "output_type": "stream",
     "text": [
      "train... loss:79.43281692266464:   1%|▊                                                                                                | 40/5000 [15:01<31:02:17, 22.53s/it]\n"
     ]
    },
    {
     "name": "stdout",
     "output_type": "stream",
     "text": [
      "{'f1': 0.7002490758895874, 'roc-auc': 0.5522392392158508, 'accuracy': 0.5403703451156616}\n",
      "\n",
      " == cosmetics_5_8.pkl ==\n",
      "121483 data points among 123 batches\n",
      "\n",
      "Evaluating InSlateAttention with neural embeddings\n",
      "Test before learning: {'f1': 0.33673277497291565, 'roc-auc': 0.4970051646232605, 'accuracy': 0.4777992367744446}\n"
     ]
    },
    {
     "name": "stderr",
     "output_type": "stream",
     "text": [
      "train... loss:84.75498175621033:   0%|                                                                                            | 1/5000 [1:01:11<5098:18:02, 3671.51s/it]"
     ]
    },
    {
     "name": "stdout",
     "output_type": "stream",
     "text": [
      "Val update: epoch: 0 |accuracy: 0.5309434533119202 | f1: 0.6825879216194153 | auc: 0.583867073059082 | treshold: 0.36000000000000004\n",
      "Test: accuracy: 0.5322496891021729 | f1: 0.6841356158256531 | auc: 0.586066484451294 | \n"
     ]
    },
    {
     "name": "stderr",
     "output_type": "stream",
     "text": [
      "train... loss:82.66279649734497:   0%|                                                                                            | 2/5000 [1:01:35<2118:20:25, 1525.82s/it]"
     ]
    },
    {
     "name": "stdout",
     "output_type": "stream",
     "text": [
      "Val update: epoch: 1 |accuracy: 0.5744917392730713 | f1: 0.6745349168777466 | auc: 0.6194030046463013 | treshold: 0.41000000000000003\n",
      "Test: accuracy: 0.578268826007843 | f1: 0.6778355836868286 | auc: 0.6240893602371216 | \n"
     ]
    },
    {
     "name": "stderr",
     "output_type": "stream",
     "text": [
      "train... loss:80.05457228422165:   0%|                                                                                             | 3/5000 [1:01:59<1165:59:21, 840.02s/it]"
     ]
    },
    {
     "name": "stdout",
     "output_type": "stream",
     "text": [
      "Val update: epoch: 2 |accuracy: 0.5892583727836609 | f1: 0.6781975626945496 | auc: 0.6446345448493958 | treshold: 0.42000000000000004\n",
      "Test: accuracy: 0.5949059128761292 | f1: 0.6836867332458496 | auc: 0.6491260528564453 | \n"
     ]
    },
    {
     "name": "stderr",
     "output_type": "stream",
     "text": [
      "train... loss:77.54648911952972:   0%|                                                                                              | 4/5000 [1:02:23<718:36:05, 517.81s/it]"
     ]
    },
    {
     "name": "stdout",
     "output_type": "stream",
     "text": [
      "Val update: epoch: 3 |accuracy: 0.5906832814216614 | f1: 0.6923105120658875 | auc: 0.6599481105804443 | treshold: 0.41000000000000003\n",
      "Test: accuracy: 0.5904157757759094 | f1: 0.693268895149231 | auc: 0.6558845043182373 | \n"
     ]
    },
    {
     "name": "stderr",
     "output_type": "stream",
     "text": [
      "train... loss:75.39407360553741:   0%|                                                                                              | 5/5000 [1:02:46<471:12:20, 339.61s/it]"
     ]
    },
    {
     "name": "stdout",
     "output_type": "stream",
     "text": [
      "Val update: epoch: 4 |accuracy: 0.5965684652328491 | f1: 0.6937711238861084 | auc: 0.664952278137207 | treshold: 0.43\n",
      "Test: accuracy: 0.5961902141571045 | f1: 0.6950114965438843 | auc: 0.6638442873954773 | \n"
     ]
    },
    {
     "name": "stderr",
     "output_type": "stream",
     "text": [
      "train... loss:73.82200139760971:   0%|                                                                                              | 6/5000 [1:03:10<322:12:36, 232.27s/it]"
     ]
    },
    {
     "name": "stdout",
     "output_type": "stream",
     "text": [
      "Val update: epoch: 5 |accuracy: 0.5977884531021118 | f1: 0.6954709887504578 | auc: 0.6691011190414429 | treshold: 0.44\n",
      "Test: accuracy: 0.5970823764801025 | f1: 0.6960476636886597 | auc: 0.6669975519180298 | \n"
     ]
    },
    {
     "name": "stderr",
     "output_type": "stream",
     "text": [
      "train... loss:72.28310507535934:   0%|▏                                                                                             | 7/5000 [1:03:34<227:40:40, 164.16s/it]"
     ]
    },
    {
     "name": "stdout",
     "output_type": "stream",
     "text": [
      "Val update: epoch: 6 |accuracy: 0.6249011754989624 | f1: 0.6861253976821899 | auc: 0.6763514280319214 | treshold: 0.42000000000000004\n",
      "Test: accuracy: 0.6205527186393738 | f1: 0.6844456791877747 | auc: 0.6717153787612915 | \n"
     ]
    },
    {
     "name": "stderr",
     "output_type": "stream",
     "text": [
      "train... loss:68.05443423986435:   0%|▏                                                                                              | 11/5000 [1:05:06<75:55:41, 54.79s/it]"
     ]
    },
    {
     "name": "stdout",
     "output_type": "stream",
     "text": [
      "Val update: epoch: 10 |accuracy: 0.6217975616455078 | f1: 0.6955141425132751 | auc: 0.6774784326553345 | treshold: 0.43\n",
      "Test: accuracy: 0.6134939789772034 | f1: 0.6910732388496399 | auc: 0.6724057197570801 | \n"
     ]
    },
    {
     "name": "stderr",
     "output_type": "stream",
     "text": [
      "train... loss:44.438952535390854:   2%|█▌                                                                                            | 83/5000 [1:31:54<90:45:11, 66.45s/it]\n"
     ]
    },
    {
     "name": "stdout",
     "output_type": "stream",
     "text": [
      "{'f1': 0.6910732388496399, 'roc-auc': 0.6724057197570801, 'accuracy': 0.6134939789772034}\n",
      "\n",
      "Evaluating InSlateAttention with svd embeddings\n",
      "Test before learning: {'f1': 0.6555759906768799, 'roc-auc': 0.5020119547843933, 'accuracy': 0.5152988433837891}\n"
     ]
    },
    {
     "name": "stderr",
     "output_type": "stream",
     "text": [
      "train... loss:85.03368479013443:   0%|                                                                                                  | 1/5000 [00:20<28:03:42, 20.21s/it]"
     ]
    },
    {
     "name": "stdout",
     "output_type": "stream",
     "text": [
      "Val update: epoch: 0 |accuracy: 0.5186753869056702 | f1: 0.6809922456741333 | auc: 0.5627644062042236 | treshold: 0.48000000000000004\n",
      "Test: accuracy: 0.5199360847473145 | f1: 0.6826033592224121 | auc: 0.5602381825447083 | \n"
     ]
    },
    {
     "name": "stderr",
     "output_type": "stream",
     "text": [
      "train... loss:85.96646583080292:   0%|                                                                                                  | 2/5000 [00:40<28:09:26, 20.28s/it]"
     ]
    },
    {
     "name": "stdout",
     "output_type": "stream",
     "text": [
      "Val update: epoch: 1 |accuracy: 0.5157962441444397 | f1: 0.6805244088172913 | auc: 0.5680787563323975 | treshold: 0.28\n",
      "Test: accuracy: 0.5182498097419739 | f1: 0.6826240420341492 | auc: 0.5659172534942627 | \n"
     ]
    },
    {
     "name": "stderr",
     "output_type": "stream",
     "text": [
      "train... loss:84.32657891511917:   0%|▎                                                                                                | 15/5000 [04:52<27:22:08, 19.76s/it]"
     ]
    },
    {
     "name": "stdout",
     "output_type": "stream",
     "text": [
      "Val update: epoch: 14 |accuracy: 0.5191243290901184 | f1: 0.6810628771781921 | auc: 0.568300187587738 | treshold: 0.35000000000000003\n",
      "Test: accuracy: 0.5202988386154175 | f1: 0.6826642751693726 | auc: 0.566169798374176 | \n"
     ]
    },
    {
     "name": "stderr",
     "output_type": "stream",
     "text": [
      "train... loss:84.28047811985016:   0%|▎                                                                                                | 18/5000 [05:51<27:24:58, 19.81s/it]"
     ]
    },
    {
     "name": "stdout",
     "output_type": "stream",
     "text": [
      "Val update: epoch: 17 |accuracy: 0.521222710609436 | f1: 0.6804752349853516 | auc: 0.5685262084007263 | treshold: 0.32\n",
      "Test: accuracy: 0.5223870277404785 | f1: 0.6822092533111572 | auc: 0.565812349319458 | \n"
     ]
    },
    {
     "name": "stderr",
     "output_type": "stream",
     "text": [
      "train... loss:84.28794413805008:   0%|▍                                                                                                | 20/5000 [06:49<28:17:38, 20.45s/it]\n"
     ]
    },
    {
     "name": "stdout",
     "output_type": "stream",
     "text": [
      "{'f1': 0.6822092533111572, 'roc-auc': 0.565812349319458, 'accuracy': 0.5223870277404785}\n",
      "\n",
      " == cosmetics_20_8.pkl ==\n",
      "89073 data points among 90 batches\n",
      "\n",
      "Evaluating InSlateAttention with neural embeddings\n",
      "Test before learning: {'f1': 0.17385423183441162, 'roc-auc': 0.4921839237213135, 'accuracy': 0.4568772315979004}\n"
     ]
    },
    {
     "name": "stderr",
     "output_type": "stream",
     "text": [
      "train... loss:62.14815264940262:   0%|                                                                                               | 1/5000 [13:53<1157:16:40, 833.41s/it]"
     ]
    },
    {
     "name": "stdout",
     "output_type": "stream",
     "text": [
      "Val update: epoch: 0 |accuracy: 0.5488011240959167 | f1: 0.6882558465003967 | auc: 0.5609673261642456 | treshold: 0.46\n",
      "Test: accuracy: 0.5529721975326538 | f1: 0.6938442587852478 | auc: 0.5638098120689392 | \n"
     ]
    },
    {
     "name": "stderr",
     "output_type": "stream",
     "text": [
      "train... loss:59.90039926767349:   0%|                                                                                                | 2/5000 [14:21<499:09:57, 359.54s/it]"
     ]
    },
    {
     "name": "stdout",
     "output_type": "stream",
     "text": [
      "Val update: epoch: 1 |accuracy: 0.5847843885421753 | f1: 0.685753345489502 | auc: 0.6298477053642273 | treshold: 0.38\n",
      "Test: accuracy: 0.5891724228858948 | f1: 0.6930062174797058 | auc: 0.6293032765388489 | \n"
     ]
    },
    {
     "name": "stderr",
     "output_type": "stream",
     "text": [
      "train... loss:58.05700671672821:   0%|                                                                                                | 3/5000 [14:49<289:02:08, 208.23s/it]"
     ]
    },
    {
     "name": "stdout",
     "output_type": "stream",
     "text": [
      "Val update: epoch: 2 |accuracy: 0.5553094744682312 | f1: 0.6968281865119934 | auc: 0.630513608455658 | treshold: 0.38\n",
      "Test: accuracy: 0.5587918162345886 | f1: 0.7019200325012207 | auc: 0.6293706893920898 | \n"
     ]
    },
    {
     "name": "stderr",
     "output_type": "stream",
     "text": [
      "train... loss:57.27556389570236:   0%|                                                                                                | 4/5000 [15:16<189:49:55, 136.79s/it]"
     ]
    },
    {
     "name": "stdout",
     "output_type": "stream",
     "text": [
      "Val update: epoch: 3 |accuracy: 0.5428266525268555 | f1: 0.6941814422607422 | auc: 0.6355745792388916 | treshold: 0.37\n",
      "Test: accuracy: 0.5478137731552124 | f1: 0.7000816464424133 | auc: 0.6354211568832397 | \n"
     ]
    },
    {
     "name": "stderr",
     "output_type": "stream",
     "text": [
      "train... loss:56.30251008272171:   0%|                                                                                                 | 5/5000 [15:44<135:11:04, 97.43s/it]"
     ]
    },
    {
     "name": "stdout",
     "output_type": "stream",
     "text": [
      "Val update: epoch: 4 |accuracy: 0.5946831703186035 | f1: 0.6918902397155762 | auc: 0.6423763632774353 | treshold: 0.37\n",
      "Test: accuracy: 0.5968901515007019 | f1: 0.6975365877151489 | auc: 0.641313910484314 | \n"
     ]
    },
    {
     "name": "stderr",
     "output_type": "stream",
     "text": [
      "train... loss:55.01922130584717:   0%|                                                                                                 | 6/5000 [16:11<102:13:03, 73.69s/it]"
     ]
    },
    {
     "name": "stdout",
     "output_type": "stream",
     "text": [
      "Val update: epoch: 5 |accuracy: 0.6086539030075073 | f1: 0.6872790455818176 | auc: 0.6503002047538757 | treshold: 0.4\n",
      "Test: accuracy: 0.6088086366653442 | f1: 0.6919683218002319 | auc: 0.6471074223518372 | \n"
     ]
    },
    {
     "name": "stderr",
     "output_type": "stream",
     "text": [
      "train... loss:53.386828899383545:   0%|▏                                                                                                | 7/5000 [16:39<81:17:25, 58.61s/it]"
     ]
    },
    {
     "name": "stdout",
     "output_type": "stream",
     "text": [
      "Val update: epoch: 6 |accuracy: 0.5933769345283508 | f1: 0.6999694108963013 | auc: 0.6530842185020447 | treshold: 0.39\n",
      "Test: accuracy: 0.5935385823249817 | f1: 0.7030061483383179 | auc: 0.6482073664665222 | \n"
     ]
    },
    {
     "name": "stderr",
     "output_type": "stream",
     "text": [
      "train... loss:51.33655405044556:   0%|▏                                                                                                 | 9/5000 [17:33<58:02:07, 41.86s/it]"
     ]
    },
    {
     "name": "stdout",
     "output_type": "stream",
     "text": [
      "Val update: epoch: 8 |accuracy: 0.6105905175209045 | f1: 0.6858397126197815 | auc: 0.6536276340484619 | treshold: 0.38\n",
      "Test: accuracy: 0.6121088862419128 | f1: 0.6920835375785828 | auc: 0.647763729095459 | \n"
     ]
    },
    {
     "name": "stderr",
     "output_type": "stream",
     "text": [
      "train... loss:49.32946527004242:   0%|▏                                                                                                | 11/5000 [18:27<47:27:16, 34.24s/it]"
     ]
    },
    {
     "name": "stdout",
     "output_type": "stream",
     "text": [
      "Val update: epoch: 10 |accuracy: 0.6090173721313477 | f1: 0.6967487931251526 | auc: 0.656333327293396 | treshold: 0.4\n",
      "Test: accuracy: 0.6072468757629395 | f1: 0.7001066207885742 | auc: 0.6490708589553833 | \n"
     ]
    },
    {
     "name": "stderr",
     "output_type": "stream",
     "text": [
      "train... loss:48.766504645347595:   0%|▏                                                                                               | 12/5000 [18:55<44:52:38, 32.39s/it]"
     ]
    },
    {
     "name": "stdout",
     "output_type": "stream",
     "text": [
      "Val update: epoch: 11 |accuracy: 0.616604745388031 | f1: 0.6840959787368774 | auc: 0.6563704013824463 | treshold: 0.4\n",
      "Test: accuracy: 0.6136080026626587 | f1: 0.6861315369606018 | auc: 0.6490240097045898 | \n"
     ]
    },
    {
     "name": "stderr",
     "output_type": "stream",
     "text": [
      "train... loss:25.453066527843475:   2%|█▋                                                                                              | 87/5000 [52:21<49:16:42, 36.11s/it]\n"
     ]
    },
    {
     "name": "stdout",
     "output_type": "stream",
     "text": [
      "{'f1': 0.6861315369606018, 'roc-auc': 0.6490240097045898, 'accuracy': 0.6136080026626587}\n",
      "\n",
      "Evaluating InSlateAttention with svd embeddings\n",
      "Test before learning: {'f1': 8.566136239096522e-05, 'roc-auc': 0.48214441537857056, 'accuracy': 0.4677242040634155}\n"
     ]
    },
    {
     "name": "stderr",
     "output_type": "stream",
     "text": [
      "train... loss:62.843078553676605:   0%|                                                                                                 | 2/5000 [00:45<31:53:12, 22.97s/it]"
     ]
    },
    {
     "name": "stdout",
     "output_type": "stream",
     "text": [
      "Val update: epoch: 1 |accuracy: 0.5242387056350708 | f1: 0.687403678894043 | auc: 0.5422424674034119 | treshold: 0.35000000000000003\n",
      "Test: accuracy: 0.5326291918754578 | f1: 0.6947668790817261 | auc: 0.5450319051742554 | \n"
     ]
    },
    {
     "name": "stderr",
     "output_type": "stream",
     "text": [
      "train... loss:62.537368297576904:   0%|                                                                                                 | 3/5000 [01:08<32:01:29, 23.07s/it]"
     ]
    },
    {
     "name": "stdout",
     "output_type": "stream",
     "text": [
      "Val update: epoch: 2 |accuracy: 0.5236878395080566 | f1: 0.6872856020927429 | auc: 0.5478724837303162 | treshold: 0.38\n",
      "Test: accuracy: 0.5322245359420776 | f1: 0.6946673393249512 | auc: 0.5472305417060852 | \n"
     ]
    },
    {
     "name": "stderr",
     "output_type": "stream",
     "text": [
      "train... loss:62.30008786916733:   0%|                                                                                                  | 4/5000 [01:31<31:54:08, 22.99s/it]"
     ]
    },
    {
     "name": "stdout",
     "output_type": "stream",
     "text": [
      "Val update: epoch: 3 |accuracy: 0.5236764550209045 | f1: 0.6872944831848145 | auc: 0.5525214672088623 | treshold: 0.36000000000000004\n",
      "Test: accuracy: 0.5323385000228882 | f1: 0.6947417855262756 | auc: 0.5506572127342224 | \n"
     ]
    },
    {
     "name": "stderr",
     "output_type": "stream",
     "text": [
      "train... loss:62.16045045852661:   0%|                                                                                                  | 5/5000 [01:55<32:03:37, 23.11s/it]"
     ]
    },
    {
     "name": "stdout",
     "output_type": "stream",
     "text": [
      "Val update: epoch: 4 |accuracy: 0.5234947204589844 | f1: 0.687228798866272 | auc: 0.5609439015388489 | treshold: 0.25\n",
      "Test: accuracy: 0.5322074294090271 | f1: 0.6946936845779419 | auc: 0.5565521121025085 | \n"
     ]
    },
    {
     "name": "stderr",
     "output_type": "stream",
     "text": [
      "train... loss:62.240553975105286:   0%|                                                                                                 | 6/5000 [02:18<32:11:55, 23.21s/it]"
     ]
    },
    {
     "name": "stdout",
     "output_type": "stream",
     "text": [
      "Val update: epoch: 5 |accuracy: 0.5284810662269592 | f1: 0.6851187348365784 | auc: 0.5627669095993042 | treshold: 0.34\n",
      "Test: accuracy: 0.5375140309333801 | f1: 0.6925027370452881 | auc: 0.558951735496521 | \n"
     ]
    },
    {
     "name": "stderr",
     "output_type": "stream",
     "text": [
      "train... loss:61.902734100818634:   0%|▏                                                                                                | 8/5000 [03:04<32:03:59, 23.12s/it]"
     ]
    },
    {
     "name": "stdout",
     "output_type": "stream",
     "text": [
      "Val update: epoch: 7 |accuracy: 0.5252950191497803 | f1: 0.6876548528671265 | auc: 0.5697383880615234 | treshold: 0.32\n",
      "Test: accuracy: 0.534350574016571 | f1: 0.6952739953994751 | auc: 0.5632506608963013 | \n"
     ]
    },
    {
     "name": "stderr",
     "output_type": "stream",
     "text": [
      "train... loss:61.9437940120697:   0%|▏                                                                                                 | 12/5000 [04:35<31:42:53, 22.89s/it]"
     ]
    },
    {
     "name": "stdout",
     "output_type": "stream",
     "text": [
      "Val update: epoch: 11 |accuracy: 0.526090145111084 | f1: 0.6876761317253113 | auc: 0.570240318775177 | treshold: 0.24000000000000002\n",
      "Test: accuracy: 0.5356615781784058 | f1: 0.6953842639923096 | auc: 0.5635202527046204 | \n"
     ]
    },
    {
     "name": "stderr",
     "output_type": "stream",
     "text": [
      "train... loss:62.00792223215103:   0%|▎                                                                                                | 13/5000 [04:57<31:41:05, 22.87s/it]"
     ]
    },
    {
     "name": "stdout",
     "output_type": "stream",
     "text": [
      "Val update: epoch: 12 |accuracy: 0.5234947204589844 | f1: 0.687228798866272 | auc: 0.5722911357879639 | treshold: 0.23\n",
      "Test: accuracy: 0.5322074294090271 | f1: 0.6946936845779419 | auc: 0.5635197162628174 | \n"
     ]
    },
    {
     "name": "stderr",
     "output_type": "stream",
     "text": [
      "train... loss:61.92210304737091:   0%|▎                                                                                                | 14/5000 [05:21<31:57:24, 23.07s/it]"
     ]
    },
    {
     "name": "stdout",
     "output_type": "stream",
     "text": [
      "Val update: epoch: 13 |accuracy: 0.5248066186904907 | f1: 0.6875296235084534 | auc: 0.5748322606086731 | treshold: 0.25\n",
      "Test: accuracy: 0.5336893796920776 | f1: 0.6950073838233948 | auc: 0.5656558871269226 | \n"
     ]
    },
    {
     "name": "stderr",
     "output_type": "stream",
     "text": [
      "train... loss:62.49250304698944:   0%|▎                                                                                                | 14/5000 [05:43<34:01:22, 24.57s/it]\n"
     ]
    },
    {
     "name": "stdout",
     "output_type": "stream",
     "text": [
      "{'f1': 0.6950073838233948, 'roc-auc': 0.5656558871269226, 'accuracy': 0.5336893796920776}\n",
      "\n",
      " == cosmetics_10_4.pkl ==\n",
      "115287 data points among 116 batches\n",
      "\n",
      "Evaluating InSlateAttention with neural embeddings\n",
      "Test before learning: {'f1': 0.687821090221405, 'roc-auc': 0.4946531653404236, 'accuracy': 0.5391674637794495}\n"
     ]
    },
    {
     "name": "stderr",
     "output_type": "stream",
     "text": [
      "train... loss:79.99002104997635:   0%|                                                                                              | 1/5000 [32:02<2669:39:33, 1922.54s/it]"
     ]
    },
    {
     "name": "stdout",
     "output_type": "stream",
     "text": [
      "Val update: epoch: 0 |accuracy: 0.5390543937683105 | f1: 0.7005007863044739 | auc: 0.5439622402191162 | treshold: 0.33\n",
      "Test: accuracy: 0.5293436646461487 | f1: 0.6922494769096375 | auc: 0.551993191242218 | \n"
     ]
    },
    {
     "name": "stderr",
     "output_type": "stream",
     "text": [
      "train... loss:77.99656975269318:   0%|                                                                                               | 2/5000 [32:28<1120:12:31, 806.87s/it]"
     ]
    },
    {
     "name": "stdout",
     "output_type": "stream",
     "text": [
      "Val update: epoch: 1 |accuracy: 0.5392861366271973 | f1: 0.7005888223648071 | auc: 0.605797529220581 | treshold: 0.33\n",
      "Test: accuracy: 0.5297119617462158 | f1: 0.6923224329948425 | auc: 0.6134693622589111 | \n"
     ]
    },
    {
     "name": "stderr",
     "output_type": "stream",
     "text": [
      "train... loss:75.45614206790924:   0%|                                                                                                | 3/5000 [32:54<624:54:55, 450.21s/it]"
     ]
    },
    {
     "name": "stdout",
     "output_type": "stream",
     "text": [
      "Val update: epoch: 2 |accuracy: 0.560919463634491 | f1: 0.7068259716033936 | auc: 0.6351066827774048 | treshold: 0.37\n",
      "Test: accuracy: 0.554147481918335 | f1: 0.6999838352203369 | auc: 0.6424404978752136 | \n"
     ]
    },
    {
     "name": "stderr",
     "output_type": "stream",
     "text": [
      "train... loss:73.04648530483246:   0%|                                                                                                | 4/5000 [33:20<392:18:44, 282.69s/it]"
     ]
    },
    {
     "name": "stdout",
     "output_type": "stream",
     "text": [
      "Val update: epoch: 3 |accuracy: 0.5954625010490417 | f1: 0.7088715434074402 | auc: 0.6482285261154175 | treshold: 0.39\n",
      "Test: accuracy: 0.5938862562179565 | f1: 0.7053781151771545 | auc: 0.6537917852401733 | \n"
     ]
    },
    {
     "name": "stderr",
     "output_type": "stream",
     "text": [
      "train... loss:71.09612393379211:   0%|                                                                                                | 5/5000 [33:46<263:59:48, 190.27s/it]"
     ]
    },
    {
     "name": "stdout",
     "output_type": "stream",
     "text": [
      "Val update: epoch: 4 |accuracy: 0.6206017732620239 | f1: 0.6949732899665833 | auc: 0.6539756059646606 | treshold: 0.4\n",
      "Test: accuracy: 0.6171717643737793 | f1: 0.6897148489952087 | auc: 0.6582561731338501 | \n"
     ]
    },
    {
     "name": "stderr",
     "output_type": "stream",
     "text": [
      "train... loss:69.41351103782654:   0%|                                                                                                | 6/5000 [34:12<186:38:45, 134.55s/it]"
     ]
    },
    {
     "name": "stdout",
     "output_type": "stream",
     "text": [
      "Val update: epoch: 5 |accuracy: 0.599073052406311 | f1: 0.7107369303703308 | auc: 0.6557474136352539 | treshold: 0.39\n",
      "Test: accuracy: 0.5974189043045044 | f1: 0.7067737579345703 | auc: 0.6598260402679443 | \n"
     ]
    },
    {
     "name": "stderr",
     "output_type": "stream",
     "text": [
      "train... loss:67.7584782242775:   0%|▏                                                                                                 | 7/5000 [34:39<137:46:10, 99.33s/it]"
     ]
    },
    {
     "name": "stdout",
     "output_type": "stream",
     "text": [
      "Val update: epoch: 6 |accuracy: 0.6091422438621521 | f1: 0.7094181776046753 | auc: 0.6567612886428833 | treshold: 0.4\n",
      "Test: accuracy: 0.6048600673675537 | f1: 0.7038170099258423 | auc: 0.6600388288497925 | \n"
     ]
    },
    {
     "name": "stderr",
     "output_type": "stream",
     "text": [
      "train... loss:67.1144307255745:   0%|▏                                                                                                 | 8/5000 [35:06<105:48:09, 76.30s/it]"
     ]
    },
    {
     "name": "stdout",
     "output_type": "stream",
     "text": [
      "Val update: epoch: 7 |accuracy: 0.6045374870300293 | f1: 0.7128286361694336 | auc: 0.6610903143882751 | treshold: 0.39\n",
      "Test: accuracy: 0.5977120399475098 | f1: 0.7060038447380066 | auc: 0.6645496487617493 | \n"
     ]
    },
    {
     "name": "stderr",
     "output_type": "stream",
     "text": [
      "train... loss:65.92792481184006:   0%|▏                                                                                                 | 9/5000 [35:34<84:35:43, 61.02s/it]"
     ]
    },
    {
     "name": "stdout",
     "output_type": "stream",
     "text": [
      "Val update: epoch: 8 |accuracy: 0.6120874881744385 | f1: 0.7110618948936462 | auc: 0.6616177558898926 | treshold: 0.41000000000000003\n",
      "Test: accuracy: 0.6069270372390747 | f1: 0.7052550911903381 | auc: 0.6644339561462402 | \n"
     ]
    },
    {
     "name": "stderr",
     "output_type": "stream",
     "text": [
      "train... loss:38.55487731099129:   1%|█▎                                                                                             | 68/5000 [1:00:59<73:43:32, 53.81s/it]\n"
     ]
    },
    {
     "name": "stdout",
     "output_type": "stream",
     "text": [
      "{'f1': 0.7052550911903381, 'roc-auc': 0.6644339561462402, 'accuracy': 0.6069270372390747}\n",
      "\n",
      "Evaluating InSlateAttention with svd embeddings\n",
      "Test before learning: {'f1': 0.6922494769096375, 'roc-auc': 0.5238800048828125, 'accuracy': 0.5293436646461487}\n"
     ]
    },
    {
     "name": "stderr",
     "output_type": "stream",
     "text": [
      "train... loss:80.03883546590805:   0%|                                                                                                  | 1/5000 [00:23<32:03:57, 23.09s/it]"
     ]
    },
    {
     "name": "stdout",
     "output_type": "stream",
     "text": [
      "Val update: epoch: 0 |accuracy: 0.5408858060836792 | f1: 0.7008931636810303 | auc: 0.5401437282562256 | treshold: 0.47000000000000003\n",
      "Test: accuracy: 0.5307416915893555 | f1: 0.6924774646759033 | auc: 0.5534536838531494 | \n"
     ]
    },
    {
     "name": "stderr",
     "output_type": "stream",
     "text": [
      "train... loss:80.51567846536636:   0%|                                                                                                  | 2/5000 [00:46<32:10:21, 23.17s/it]"
     ]
    },
    {
     "name": "stdout",
     "output_type": "stream",
     "text": [
      "Val update: epoch: 1 |accuracy: 0.5391291379928589 | f1: 0.7005115151405334 | auc: 0.5447046160697937 | treshold: 0.4\n",
      "Test: accuracy: 0.5294639468193054 | f1: 0.6922796964645386 | auc: 0.5571407079696655 | \n"
     ]
    },
    {
     "name": "stderr",
     "output_type": "stream",
     "text": [
      "train... loss:80.46123915910721:   0%|                                                                                                  | 3/5000 [01:09<32:20:57, 23.31s/it]"
     ]
    },
    {
     "name": "stdout",
     "output_type": "stream",
     "text": [
      "Val update: epoch: 2 |accuracy: 0.5390543937683105 | f1: 0.7005007863044739 | auc: 0.5447754859924316 | treshold: 0.28\n",
      "Test: accuracy: 0.5294263362884521 | f1: 0.6922869086265564 | auc: 0.5582483410835266 | \n"
     ]
    },
    {
     "name": "stderr",
     "output_type": "stream",
     "text": [
      "train... loss:80.3171084523201:   0%|                                                                                                   | 4/5000 [01:33<32:24:48, 23.36s/it]"
     ]
    },
    {
     "name": "stdout",
     "output_type": "stream",
     "text": [
      "Val update: epoch: 3 |accuracy: 0.5390543937683105 | f1: 0.7005007863044739 | auc: 0.5489081144332886 | treshold: 0.33\n",
      "Test: accuracy: 0.5294414162635803 | f1: 0.6922816038131714 | auc: 0.5633511543273926 | \n"
     ]
    },
    {
     "name": "stderr",
     "output_type": "stream",
     "text": [
      "train... loss:80.01191401481628:   0%|                                                                                                  | 5/5000 [01:57<32:37:59, 23.52s/it]"
     ]
    },
    {
     "name": "stdout",
     "output_type": "stream",
     "text": [
      "Val update: epoch: 4 |accuracy: 0.5418501496315002 | f1: 0.700592577457428 | auc: 0.5520244836807251 | treshold: 0.34\n",
      "Test: accuracy: 0.5318841934204102 | f1: 0.6922773122787476 | auc: 0.5647338032722473 | \n"
     ]
    },
    {
     "name": "stderr",
     "output_type": "stream",
     "text": [
      "train... loss:80.09215664863586:   0%|                                                                                                  | 6/5000 [02:20<32:38:26, 23.53s/it]"
     ]
    },
    {
     "name": "stdout",
     "output_type": "stream",
     "text": [
      "Val update: epoch: 5 |accuracy: 0.5391365885734558 | f1: 0.7005236148834229 | auc: 0.5521419644355774 | treshold: 0.27\n",
      "Test: accuracy: 0.5293286442756653 | f1: 0.6921670436859131 | auc: 0.5641621351242065 | \n"
     ]
    },
    {
     "name": "stderr",
     "output_type": "stream",
     "text": [
      "train... loss:80.01554149389267:   0%|▏                                                                                                 | 7/5000 [02:44<32:43:57, 23.60s/it]"
     ]
    },
    {
     "name": "stdout",
     "output_type": "stream",
     "text": [
      "Val update: epoch: 6 |accuracy: 0.5390543937683105 | f1: 0.7005007863044739 | auc: 0.553754448890686 | treshold: 0.32\n",
      "Test: accuracy: 0.5294414162635803 | f1: 0.6922816038131714 | auc: 0.5660480260848999 | \n"
     ]
    },
    {
     "name": "stderr",
     "output_type": "stream",
     "text": [
      "train... loss:79.97199529409409:   0%|▏                                                                                                 | 8/5000 [03:07<32:42:34, 23.59s/it]"
     ]
    },
    {
     "name": "stdout",
     "output_type": "stream",
     "text": [
      "Val update: epoch: 7 |accuracy: 0.5414314866065979 | f1: 0.7006611824035645 | auc: 0.5539108514785767 | treshold: 0.26\n",
      "Test: accuracy: 0.5312603116035461 | f1: 0.6924582719802856 | auc: 0.5662871599197388 | \n"
     ]
    },
    {
     "name": "stderr",
     "output_type": "stream",
     "text": [
      "train... loss:79.92875182628632:   0%|▏                                                                                                | 12/5000 [04:37<31:28:15, 22.71s/it]"
     ]
    },
    {
     "name": "stdout",
     "output_type": "stream",
     "text": [
      "Val update: epoch: 11 |accuracy: 0.5395552515983582 | f1: 0.7006648182868958 | auc: 0.5549027323722839 | treshold: 0.21000000000000002\n",
      "Test: accuracy: 0.5295841693878174 | f1: 0.6922494173049927 | auc: 0.5670201778411865 | \n"
     ]
    },
    {
     "name": "stderr",
     "output_type": "stream",
     "text": [
      "train... loss:79.70834940671921:   0%|▎                                                                                                | 15/5000 [05:44<31:30:28, 22.75s/it]"
     ]
    },
    {
     "name": "stdout",
     "output_type": "stream",
     "text": [
      "Val update: epoch: 14 |accuracy: 0.5390693545341492 | f1: 0.7004988193511963 | auc: 0.5556831359863281 | treshold: 0.27\n",
      "Test: accuracy: 0.5294864773750305 | f1: 0.6922808289527893 | auc: 0.5661394000053406 | \n"
     ]
    },
    {
     "name": "stderr",
     "output_type": "stream",
     "text": [
      "train... loss:79.77865540981293:   0%|▎                                                                                                | 16/5000 [06:08<31:47:46, 22.97s/it]"
     ]
    },
    {
     "name": "stdout",
     "output_type": "stream",
     "text": [
      "Val update: epoch: 15 |accuracy: 0.539435625076294 | f1: 0.7005521059036255 | auc: 0.5567531585693359 | treshold: 0.3\n",
      "Test: accuracy: 0.5296593904495239 | f1: 0.6922471523284912 | auc: 0.5689394474029541 | \n"
     ]
    },
    {
     "name": "stderr",
     "output_type": "stream",
     "text": [
      "train... loss:79.86329346895218:   0%|▎                                                                                                | 17/5000 [06:31<32:04:38, 23.17s/it]"
     ]
    },
    {
     "name": "stdout",
     "output_type": "stream",
     "text": [
      "Val update: epoch: 16 |accuracy: 0.5393907427787781 | f1: 0.7005928158760071 | auc: 0.557921290397644 | treshold: 0.29000000000000004\n",
      "Test: accuracy: 0.5295090079307556 | f1: 0.6922335624694824 | auc: 0.5719370245933533 | \n"
     ]
    },
    {
     "name": "stderr",
     "output_type": "stream",
     "text": [
      "train... loss:79.67342060804367:   0%|▍                                                                                                | 20/5000 [07:41<32:11:36, 23.27s/it]"
     ]
    },
    {
     "name": "stdout",
     "output_type": "stream",
     "text": [
      "Val update: epoch: 19 |accuracy: 0.5406690239906311 | f1: 0.7009398341178894 | auc: 0.5585159659385681 | treshold: 0.26\n",
      "Test: accuracy: 0.5301103591918945 | f1: 0.6923697590827942 | auc: 0.5732772946357727 | \n"
     ]
    },
    {
     "name": "stderr",
     "output_type": "stream",
     "text": [
      "train... loss:79.60877084732056:   0%|▍                                                                                                | 22/5000 [08:28<32:27:28, 23.47s/it]"
     ]
    },
    {
     "name": "stdout",
     "output_type": "stream",
     "text": [
      "Val update: epoch: 21 |accuracy: 0.5423210859298706 | f1: 0.7003836631774902 | auc: 0.5593141317367554 | treshold: 0.31\n",
      "Test: accuracy: 0.5327184796333313 | f1: 0.6923773288726807 | auc: 0.5729622840881348 | \n"
     ]
    },
    {
     "name": "stderr",
     "output_type": "stream",
     "text": [
      "train... loss:79.7460777759552:   0%|▍                                                                                                 | 25/5000 [09:38<32:24:23, 23.45s/it]"
     ]
    },
    {
     "name": "stdout",
     "output_type": "stream",
     "text": [
      "Val update: epoch: 24 |accuracy: 0.5390543937683105 | f1: 0.7005007863044739 | auc: 0.5598587989807129 | treshold: 0.16\n",
      "Test: accuracy: 0.5294414162635803 | f1: 0.6922664642333984 | auc: 0.5738992094993591 | \n"
     ]
    },
    {
     "name": "stderr",
     "output_type": "stream",
     "text": [
      "train... loss:79.43913108110428:   1%|▌                                                                                                | 28/5000 [10:47<32:22:03, 23.44s/it]"
     ]
    },
    {
     "name": "stdout",
     "output_type": "stream",
     "text": [
      "Val update: epoch: 27 |accuracy: 0.5390917658805847 | f1: 0.7005003094673157 | auc: 0.5601280927658081 | treshold: 0.23\n",
      "Test: accuracy: 0.5294939875602722 | f1: 0.6922842264175415 | auc: 0.5749844312667847 | \n"
     ]
    },
    {
     "name": "stderr",
     "output_type": "stream",
     "text": [
      "train... loss:79.55144602060318:   1%|▌                                                                                                | 29/5000 [11:12<32:43:54, 23.70s/it]"
     ]
    },
    {
     "name": "stdout",
     "output_type": "stream",
     "text": [
      "Val update: epoch: 28 |accuracy: 0.5418800115585327 | f1: 0.7011114954948425 | auc: 0.5609585046768188 | treshold: 0.32\n",
      "Test: accuracy: 0.5313204526901245 | f1: 0.6925674676895142 | auc: 0.5771192312240601 | \n"
     ]
    },
    {
     "name": "stderr",
     "output_type": "stream",
     "text": [
      "train... loss:79.32117301225662:   1%|▋                                                                                                | 33/5000 [12:44<32:28:34, 23.54s/it]"
     ]
    },
    {
     "name": "stdout",
     "output_type": "stream",
     "text": [
      "Val update: epoch: 32 |accuracy: 0.5410502552986145 | f1: 0.7008779644966125 | auc: 0.5615135431289673 | treshold: 0.3\n",
      "Test: accuracy: 0.5307943224906921 | f1: 0.6925013065338135 | auc: 0.5759339332580566 | \n"
     ]
    },
    {
     "name": "stderr",
     "output_type": "stream",
     "text": [
      "train... loss:79.50349831581116:   1%|▋                                                                                                | 34/5000 [13:09<32:43:44, 23.73s/it]"
     ]
    },
    {
     "name": "stdout",
     "output_type": "stream",
     "text": [
      "Val update: epoch: 33 |accuracy: 0.5402504205703735 | f1: 0.7007983326911926 | auc: 0.5622282028198242 | treshold: 0.33\n",
      "Test: accuracy: 0.5300577282905579 | f1: 0.6923580169677734 | auc: 0.5777420997619629 | \n"
     ]
    },
    {
     "name": "stderr",
     "output_type": "stream",
     "text": [
      "train... loss:79.51328790187836:   1%|▊                                                                                                | 39/5000 [15:27<32:47:02, 23.79s/it]"
     ]
    },
    {
     "name": "stdout",
     "output_type": "stream",
     "text": [
      "Val update: epoch: 39 |accuracy: 0.5391141772270203 | f1: 0.7005134224891663 | auc: 0.5630025267601013 | treshold: 0.27\n",
      "Test: accuracy: 0.5294338464736938 | f1: 0.6922600269317627 | auc: 0.5782642364501953 | \n",
      "{'f1': 0.6922600269317627, 'roc-auc': 0.5782642364501953, 'accuracy': 0.5294338464736938}\n",
      "\n",
      " == cosmetics_5_24.pkl ==\n"
     ]
    },
    {
     "name": "stderr",
     "output_type": "stream",
     "text": [
      "\n"
     ]
    },
    {
     "name": "stdout",
     "output_type": "stream",
     "text": [
      "121463 data points among 122 batches\n",
      "\n",
      "Evaluating InSlateAttention with neural embeddings\n",
      "Test before learning: {'f1': 0.657209575176239, 'roc-auc': 0.5028528571128845, 'accuracy': 0.5198055505752563}\n"
     ]
    },
    {
     "name": "stderr",
     "output_type": "stream",
     "text": [
      "train... loss:84.07680714130402:   0%|                                                                                            | 1/5000 [1:00:51<5070:20:36, 3651.38s/it]"
     ]
    },
    {
     "name": "stdout",
     "output_type": "stream",
     "text": [
      "Val update: epoch: 0 |accuracy: 0.5536169409751892 | f1: 0.6737141013145447 | auc: 0.5793619751930237 | treshold: 0.39\n",
      "Test: accuracy: 0.5479437708854675 | f1: 0.6681939959526062 | auc: 0.5800765752792358 | \n"
     ]
    },
    {
     "name": "stderr",
     "output_type": "stream",
     "text": [
      "train... loss:82.09037792682648:   0%|                                                                                            | 2/5000 [1:01:14<2105:57:46, 1516.90s/it]"
     ]
    },
    {
     "name": "stdout",
     "output_type": "stream",
     "text": [
      "Val update: epoch: 1 |accuracy: 0.522152841091156 | f1: 0.682824969291687 | auc: 0.6176567673683167 | treshold: 0.38\n",
      "Test: accuracy: 0.5150669813156128 | f1: 0.6761170029640198 | auc: 0.6144610643386841 | \n"
     ]
    },
    {
     "name": "stderr",
     "output_type": "stream",
     "text": [
      "train... loss:79.45505487918854:   0%|                                                                                             | 3/5000 [1:01:37<1158:57:57, 834.96s/it]"
     ]
    },
    {
     "name": "stdout",
     "output_type": "stream",
     "text": [
      "Val update: epoch: 2 |accuracy: 0.5541571378707886 | f1: 0.6903451681137085 | auc: 0.6455511450767517 | treshold: 0.41000000000000003\n",
      "Test: accuracy: 0.5458346009254456 | f1: 0.6831624507904053 | auc: 0.6435246467590332 | \n"
     ]
    },
    {
     "name": "stderr",
     "output_type": "stream",
     "text": [
      "train... loss:77.1524218916893:   0%|                                                                                               | 4/5000 [1:02:00<713:58:07, 514.47s/it]"
     ]
    },
    {
     "name": "stdout",
     "output_type": "stream",
     "text": [
      "Val update: epoch: 3 |accuracy: 0.582038938999176 | f1: 0.6941905617713928 | auc: 0.6572717428207397 | treshold: 0.42000000000000004\n",
      "Test: accuracy: 0.5755996704101562 | f1: 0.6870418787002563 | auc: 0.6573581099510193 | \n"
     ]
    },
    {
     "name": "stderr",
     "output_type": "stream",
     "text": [
      "train... loss:74.98303937911987:   0%|                                                                                              | 5/5000 [1:02:23<467:59:16, 337.29s/it]"
     ]
    },
    {
     "name": "stdout",
     "output_type": "stream",
     "text": [
      "Val update: epoch: 4 |accuracy: 0.6161187291145325 | f1: 0.6941050291061401 | auc: 0.6726855039596558 | treshold: 0.42000000000000004\n",
      "Test: accuracy: 0.6074360609054565 | f1: 0.6845957040786743 | auc: 0.6676715016365051 | \n"
     ]
    },
    {
     "name": "stderr",
     "output_type": "stream",
     "text": [
      "train... loss:72.90181052684784:   0%|                                                                                              | 6/5000 [1:02:46<319:34:44, 230.37s/it]"
     ]
    },
    {
     "name": "stdout",
     "output_type": "stream",
     "text": [
      "Val update: epoch: 5 |accuracy: 0.6218050122261047 | f1: 0.6919074058532715 | auc: 0.6774252653121948 | treshold: 0.43\n",
      "Test: accuracy: 0.616449773311615 | f1: 0.6852383613586426 | auc: 0.6749628782272339 | \n"
     ]
    },
    {
     "name": "stderr",
     "output_type": "stream",
     "text": [
      "train... loss:71.40088492631912:   0%|▏                                                                                             | 7/5000 [1:03:09<225:30:46, 162.60s/it]"
     ]
    },
    {
     "name": "stdout",
     "output_type": "stream",
     "text": [
      "Val update: epoch: 6 |accuracy: 0.6247903108596802 | f1: 0.6917237043380737 | auc: 0.6782373189926147 | treshold: 0.43\n",
      "Test: accuracy: 0.6186913847923279 | f1: 0.6845535635948181 | auc: 0.6757342219352722 | \n"
     ]
    },
    {
     "name": "stderr",
     "output_type": "stream",
     "text": [
      "train... loss:67.79667764902115:   0%|▏                                                                                              | 11/5000 [1:04:38<74:33:39, 53.80s/it]"
     ]
    },
    {
     "name": "stdout",
     "output_type": "stream",
     "text": [
      "Val update: epoch: 10 |accuracy: 0.622705340385437 | f1: 0.6992922425270081 | auc: 0.6819917559623718 | treshold: 0.44\n",
      "Test: accuracy: 0.6132339835166931 | f1: 0.6884229183197021 | auc: 0.6760226488113403 | \n"
     ]
    },
    {
     "name": "stderr",
     "output_type": "stream",
     "text": [
      "train... loss:44.16438728570938:   1%|█▏                                                                                            | 65/5000 [1:24:41<107:10:21, 78.18s/it]\n"
     ]
    },
    {
     "name": "stdout",
     "output_type": "stream",
     "text": [
      "{'f1': 0.6884229183197021, 'roc-auc': 0.6760226488113403, 'accuracy': 0.6132339835166931}\n",
      "\n",
      "Evaluating InSlateAttention with svd embeddings\n",
      "Test before learning: {'f1': 0.6737664937973022, 'roc-auc': 0.5201365947723389, 'accuracy': 0.5080300569534302}\n"
     ]
    },
    {
     "name": "stderr",
     "output_type": "stream",
     "text": [
      "train... loss:84.24065977334976:   0%|                                                                                                  | 1/5000 [00:20<28:23:12, 20.44s/it]"
     ]
    },
    {
     "name": "stdout",
     "output_type": "stream",
     "text": [
      "Val update: epoch: 0 |accuracy: 0.5180018544197083 | f1: 0.6809847950935364 | auc: 0.5581531524658203 | treshold: 0.31\n",
      "Test: accuracy: 0.5098554491996765 | f1: 0.6740098595619202 | auc: 0.5710593461990356 | \n"
     ]
    },
    {
     "name": "stderr",
     "output_type": "stream",
     "text": [
      "train... loss:84.50584900379181:   0%|                                                                                                  | 3/5000 [00:59<27:44:28, 19.99s/it]"
     ]
    },
    {
     "name": "stdout",
     "output_type": "stream",
     "text": [
      "Val update: epoch: 2 |accuracy: 0.5170257091522217 | f1: 0.6811327338218689 | auc: 0.5618730783462524 | treshold: 0.34\n",
      "Test: accuracy: 0.5086069703102112 | f1: 0.673893392086029 | auc: 0.5765808820724487 | \n"
     ]
    },
    {
     "name": "stderr",
     "output_type": "stream",
     "text": [
      "train... loss:83.92866688966751:   0%|                                                                                                  | 5/5000 [01:39<27:42:09, 19.97s/it]"
     ]
    },
    {
     "name": "stdout",
     "output_type": "stream",
     "text": [
      "Val update: epoch: 4 |accuracy: 0.5193096995353699 | f1: 0.6799189448356628 | auc: 0.5622137784957886 | treshold: 0.32\n",
      "Test: accuracy: 0.5119457244873047 | f1: 0.672982931137085 | auc: 0.5760306119918823 | \n"
     ]
    },
    {
     "name": "stderr",
     "output_type": "stream",
     "text": [
      "train... loss:83.9468241930008:   0%|▏                                                                                                  | 7/5000 [02:19<27:39:28, 19.94s/it]"
     ]
    },
    {
     "name": "stdout",
     "output_type": "stream",
     "text": [
      "Val update: epoch: 6 |accuracy: 0.5172436833381653 | f1: 0.6811749339103699 | auc: 0.5636280179023743 | treshold: 0.24000000000000002\n",
      "Test: accuracy: 0.5088434219360352 | f1: 0.673909068107605 | auc: 0.577745795249939 | \n"
     ]
    },
    {
     "name": "stderr",
     "output_type": "stream",
     "text": [
      "train... loss:84.40516573190689:   0%|▏                                                                                                 | 9/5000 [02:58<27:28:49, 19.82s/it]"
     ]
    },
    {
     "name": "stdout",
     "output_type": "stream",
     "text": [
      "Val update: epoch: 8 |accuracy: 0.5177270174026489 | f1: 0.6813285946846008 | auc: 0.5638198852539062 | treshold: 0.25\n",
      "Test: accuracy: 0.5094676613807678 | f1: 0.6741557717323303 | auc: 0.5775341987609863 | \n"
     ]
    },
    {
     "name": "stderr",
     "output_type": "stream",
     "text": [
      "train... loss:83.91213017702103:   0%|▏                                                                                                | 11/5000 [03:37<27:28:25, 19.82s/it]"
     ]
    },
    {
     "name": "stdout",
     "output_type": "stream",
     "text": [
      "Val update: epoch: 10 |accuracy: 0.5174806118011475 | f1: 0.6812695860862732 | auc: 0.5642931461334229 | treshold: 0.32\n",
      "Test: accuracy: 0.5088907480239868 | f1: 0.6739711761474609 | auc: 0.577872097492218 | \n"
     ]
    },
    {
     "name": "stderr",
     "output_type": "stream",
     "text": [
      "train... loss:83.58127325773239:   0%|▏                                                                                                | 12/5000 [03:58<27:40:46, 19.98s/it]"
     ]
    },
    {
     "name": "stdout",
     "output_type": "stream",
     "text": [
      "Val update: epoch: 11 |accuracy: 0.5194897651672363 | f1: 0.6797822117805481 | auc: 0.5647589564323425 | treshold: 0.39\n",
      "Test: accuracy: 0.51311856508255 | f1: 0.6734086871147156 | auc: 0.5785022974014282 | \n"
     ]
    },
    {
     "name": "stderr",
     "output_type": "stream",
     "text": [
      "train... loss:83.57200396060944:   0%|▎                                                                                                | 14/5000 [04:37<27:32:58, 19.89s/it]"
     ]
    },
    {
     "name": "stdout",
     "output_type": "stream",
     "text": [
      "Val update: epoch: 13 |accuracy: 0.519906759262085 | f1: 0.679099440574646 | auc: 0.5673697590827942 | treshold: 0.41000000000000003\n",
      "Test: accuracy: 0.5142630338668823 | f1: 0.67327880859375 | auc: 0.5797058939933777 | \n"
     ]
    },
    {
     "name": "stderr",
     "output_type": "stream",
     "text": [
      "train... loss:83.895332634449:   0%|▍                                                                                                  | 20/5000 [06:51<28:28:56, 20.59s/it]\n"
     ]
    },
    {
     "name": "stdout",
     "output_type": "stream",
     "text": [
      "{'f1': 0.67327880859375, 'roc-auc': 0.5797058939933777, 'accuracy': 0.5142630338668823}\n",
      "\n",
      " == cosmetics_20_4.pkl ==\n",
      "89272 data points among 89 batches\n",
      "\n",
      "Evaluating InSlateAttention with neural embeddings\n",
      "Test before learning: {'f1': 0.6866888403892517, 'roc-auc': 0.515755295753479, 'accuracy': 0.5400288105010986}\n"
     ]
    },
    {
     "name": "stderr",
     "output_type": "stream",
     "text": [
      "train... loss:59.73859113454819:   0%|                                                                                                | 2/5000 [14:45<512:57:54, 369.48s/it]"
     ]
    },
    {
     "name": "stdout",
     "output_type": "stream",
     "text": [
      "Val update: epoch: 1 |accuracy: 0.5489406585693359 | f1: 0.698927104473114 | auc: 0.6344913840293884 | treshold: 0.3\n",
      "Test: accuracy: 0.5376642346382141 | f1: 0.6923753619194031 | auc: 0.6164738535881042 | \n"
     ]
    },
    {
     "name": "stderr",
     "output_type": "stream",
     "text": [
      "train... loss:57.808345317840576:   0%|                                                                                               | 3/5000 [15:12<295:33:51, 212.93s/it]"
     ]
    },
    {
     "name": "stdout",
     "output_type": "stream",
     "text": [
      "Val update: epoch: 2 |accuracy: 0.6000521183013916 | f1: 0.6988304853439331 | auc: 0.6467142105102539 | treshold: 0.38\n",
      "Test: accuracy: 0.5874572396278381 | f1: 0.6910164952278137 | auc: 0.6290531158447266 | \n"
     ]
    },
    {
     "name": "stderr",
     "output_type": "stream",
     "text": [
      "train... loss:55.81935524940491:   0%|                                                                                                | 4/5000 [15:39<193:30:44, 139.44s/it]"
     ]
    },
    {
     "name": "stdout",
     "output_type": "stream",
     "text": [
      "Val update: epoch: 3 |accuracy: 0.5885689854621887 | f1: 0.7049199938774109 | auc: 0.6481940150260925 | treshold: 0.36000000000000004\n",
      "Test: accuracy: 0.573859453201294 | f1: 0.696238100528717 | auc: 0.6307138800621033 | \n"
     ]
    },
    {
     "name": "stderr",
     "output_type": "stream",
     "text": [
      "train... loss:54.05755192041397:   0%|                                                                                                 | 5/5000 [16:05<137:01:42, 98.76s/it]"
     ]
    },
    {
     "name": "stdout",
     "output_type": "stream",
     "text": [
      "Val update: epoch: 4 |accuracy: 0.601643443107605 | f1: 0.7050496935844421 | auc: 0.6598639488220215 | treshold: 0.39\n",
      "Test: accuracy: 0.5869330167770386 | f1: 0.6958780288696289 | auc: 0.6418113708496094 | \n"
     ]
    },
    {
     "name": "stderr",
     "output_type": "stream",
     "text": [
      "train... loss:50.16037732362747:   0%|▏                                                                                                 | 8/5000 [17:23<66:41:12, 48.09s/it]"
     ]
    },
    {
     "name": "stdout",
     "output_type": "stream",
     "text": [
      "Val update: epoch: 7 |accuracy: 0.6208449006080627 | f1: 0.6914785504341125 | auc: 0.6627899408340454 | treshold: 0.4\n",
      "Test: accuracy: 0.6112561225891113 | f1: 0.6852071285247803 | auc: 0.6500737071037292 | \n"
     ]
    },
    {
     "name": "stderr",
     "output_type": "stream",
     "text": [
      "train... loss:22.889043018221855:   2%|█▋                                                                                              | 90/5000 [53:27<48:36:33, 35.64s/it]\n"
     ]
    },
    {
     "name": "stdout",
     "output_type": "stream",
     "text": [
      "{'f1': 0.6852071285247803, 'roc-auc': 0.6500737071037292, 'accuracy': 0.6112561225891113}\n",
      "\n",
      "Evaluating InSlateAttention with svd embeddings\n",
      "Test before learning: {'f1': 0.0, 'roc-auc': 0.5007096529006958, 'accuracy': 0.47469937801361084}\n"
     ]
    },
    {
     "name": "stderr",
     "output_type": "stream",
     "text": [
      "train... loss:61.58874601125717:   0%|                                                                                                  | 1/5000 [00:23<32:47:55, 23.62s/it]"
     ]
    },
    {
     "name": "stdout",
     "output_type": "stream",
     "text": [
      "Val update: epoch: 0 |accuracy: 0.5280647277832031 | f1: 0.6911548972129822 | auc: 0.49960070848464966 | treshold: 0.48000000000000004\n",
      "Test: accuracy: 0.5253006219863892 | f1: 0.6887830495834351 | auc: 0.4873867630958557 | \n"
     ]
    },
    {
     "name": "stderr",
     "output_type": "stream",
     "text": [
      "train... loss:62.2287495136261:   0%|                                                                                                   | 2/5000 [00:47<33:07:29, 23.86s/it]"
     ]
    },
    {
     "name": "stdout",
     "output_type": "stream",
     "text": [
      "Val update: epoch: 1 |accuracy: 0.5280647277832031 | f1: 0.6911548972129822 | auc: 0.5286751985549927 | treshold: 0.38\n",
      "Test: accuracy: 0.5253006219863892 | f1: 0.6887830495834351 | auc: 0.5090361833572388 | \n"
     ]
    },
    {
     "name": "stderr",
     "output_type": "stream",
     "text": [
      "train... loss:61.64881306886673:   0%|                                                                                                  | 4/5000 [01:34<32:57:34, 23.75s/it]"
     ]
    },
    {
     "name": "stdout",
     "output_type": "stream",
     "text": [
      "Val update: epoch: 3 |accuracy: 0.5298113226890564 | f1: 0.6915469169616699 | auc: 0.5480992197990417 | treshold: 0.45\n",
      "Test: accuracy: 0.5275396108627319 | f1: 0.6894593834877014 | auc: 0.5448546409606934 | \n"
     ]
    },
    {
     "name": "stderr",
     "output_type": "stream",
     "text": [
      "train... loss:61.774117946624756:   0%|                                                                                                 | 5/5000 [01:58<33:13:39, 23.95s/it]"
     ]
    },
    {
     "name": "stdout",
     "output_type": "stream",
     "text": [
      "Val update: epoch: 4 |accuracy: 0.5283308625221252 | f1: 0.6912304759025574 | auc: 0.5542906522750854 | treshold: 0.35000000000000003\n",
      "Test: accuracy: 0.5261306762695312 | f1: 0.6890935301780701 | auc: 0.5476675629615784 | \n"
     ]
    },
    {
     "name": "stderr",
     "output_type": "stream",
     "text": [
      "train... loss:61.36514204740524:   0%|                                                                                                  | 6/5000 [02:23<33:35:34, 24.22s/it]"
     ]
    },
    {
     "name": "stdout",
     "output_type": "stream",
     "text": [
      "Val update: epoch: 5 |accuracy: 0.5301384329795837 | f1: 0.6915966272354126 | auc: 0.5595375299453735 | treshold: 0.33\n",
      "Test: accuracy: 0.527954638004303 | f1: 0.6894646286964417 | auc: 0.5498528480529785 | \n"
     ]
    },
    {
     "name": "stderr",
     "output_type": "stream",
     "text": [
      "train... loss:61.63109624385834:   0%|▏                                                                                                 | 7/5000 [02:47<33:33:04, 24.19s/it]"
     ]
    },
    {
     "name": "stdout",
     "output_type": "stream",
     "text": [
      "Val update: epoch: 6 |accuracy: 0.5294120907783508 | f1: 0.6914421319961548 | auc: 0.5620926022529602 | treshold: 0.37\n",
      "Test: accuracy: 0.5273594260215759 | f1: 0.689384400844574 | auc: 0.5510382652282715 | \n"
     ]
    },
    {
     "name": "stderr",
     "output_type": "stream",
     "text": [
      "train... loss:61.49565941095352:   0%|▏                                                                                                 | 9/5000 [03:35<33:16:28, 24.00s/it]"
     ]
    },
    {
     "name": "stdout",
     "output_type": "stream",
     "text": [
      "Val update: epoch: 8 |accuracy: 0.5280647277832031 | f1: 0.6911548972129822 | auc: 0.5715506076812744 | treshold: 0.19\n",
      "Test: accuracy: 0.5253006219863892 | f1: 0.6887830495834351 | auc: 0.5525095462799072 | \n"
     ]
    },
    {
     "name": "stderr",
     "output_type": "stream",
     "text": [
      "train... loss:61.24365055561066:   0%|▏                                                                                                | 11/5000 [04:23<33:16:35, 24.01s/it]"
     ]
    },
    {
     "name": "stdout",
     "output_type": "stream",
     "text": [
      "Val update: epoch: 10 |accuracy: 0.5292401909828186 | f1: 0.6907684206962585 | auc: 0.5723039507865906 | treshold: 0.33\n",
      "Test: accuracy: 0.5284843444824219 | f1: 0.689584493637085 | auc: 0.554741382598877 | \n"
     ]
    },
    {
     "name": "stderr",
     "output_type": "stream",
     "text": [
      "train... loss:61.08209413290024:   0%|▎                                                                                                | 13/5000 [05:09<32:45:59, 23.65s/it]"
     ]
    },
    {
     "name": "stdout",
     "output_type": "stream",
     "text": [
      "Val update: epoch: 12 |accuracy: 0.5281866788864136 | f1: 0.6912100911140442 | auc: 0.5724166631698608 | treshold: 0.26\n",
      "Test: accuracy: 0.5252187252044678 | f1: 0.6887059807777405 | auc: 0.547788143157959 | \n"
     ]
    },
    {
     "name": "stderr",
     "output_type": "stream",
     "text": [
      "train... loss:61.417877554893494:   0%|▎                                                                                               | 14/5000 [05:33<32:46:19, 23.66s/it]"
     ]
    },
    {
     "name": "stdout",
     "output_type": "stream",
     "text": [
      "Val update: epoch: 13 |accuracy: 0.5297059416770935 | f1: 0.6890995502471924 | auc: 0.5770037174224854 | treshold: 0.35000000000000003\n",
      "Test: accuracy: 0.5299588441848755 | f1: 0.6890212893486023 | auc: 0.5577701330184937 | \n"
     ]
    },
    {
     "name": "stderr",
     "output_type": "stream",
     "text": [
      "train... loss:61.32970052957535:   0%|▎                                                                                                | 15/5000 [05:57<32:58:19, 23.81s/it]"
     ]
    },
    {
     "name": "stdout",
     "output_type": "stream",
     "text": [
      "Val update: epoch: 14 |accuracy: 0.5280647277832031 | f1: 0.6911548972129822 | auc: 0.5777482390403748 | treshold: 0.29000000000000004\n",
      "Test: accuracy: 0.5253006219863892 | f1: 0.6887830495834351 | auc: 0.5585753917694092 | \n"
     ]
    },
    {
     "name": "stderr",
     "output_type": "stream",
     "text": [
      "train... loss:61.15995645523071:   0%|▎                                                                                                | 18/5000 [07:06<32:18:54, 23.35s/it]"
     ]
    },
    {
     "name": "stdout",
     "output_type": "stream",
     "text": [
      "Val update: epoch: 17 |accuracy: 0.5285027623176575 | f1: 0.6912813782691956 | auc: 0.5794610977172852 | treshold: 0.25\n",
      "Test: accuracy: 0.5258085131645203 | f1: 0.6889501214027405 | auc: 0.558754563331604 | \n"
     ]
    },
    {
     "name": "stderr",
     "output_type": "stream",
     "text": [
      "train... loss:60.95076811313629:   0%|▎                                                                                                | 19/5000 [07:30<32:35:38, 23.56s/it]"
     ]
    },
    {
     "name": "stdout",
     "output_type": "stream",
     "text": [
      "Val update: epoch: 18 |accuracy: 0.5285692811012268 | f1: 0.6913428902626038 | auc: 0.5813637971878052 | treshold: 0.3\n",
      "Test: accuracy: 0.5255900621414185 | f1: 0.6888536214828491 | auc: 0.5596235990524292 | \n"
     ]
    },
    {
     "name": "stderr",
     "output_type": "stream",
     "text": [
      "train... loss:60.980944097042084:   0%|▍                                                                                               | 25/5000 [10:11<33:48:11, 24.46s/it]"
     ]
    },
    {
     "name": "stdout",
     "output_type": "stream",
     "text": [
      "Val update: epoch: 25 |accuracy: 0.529938817024231 | f1: 0.6884518265724182 | auc: 0.5834354162216187 | treshold: 0.33\n",
      "Test: accuracy: 0.5306141376495361 | f1: 0.6887058019638062 | auc: 0.562440037727356 | \n",
      "{'f1': 0.6887058019638062, 'roc-auc': 0.562440037727356, 'accuracy': 0.5306141376495361}\n",
      "\n",
      " == cosmetics_20_1.pkl ==\n"
     ]
    },
    {
     "name": "stderr",
     "output_type": "stream",
     "text": [
      "\n"
     ]
    },
    {
     "name": "stdout",
     "output_type": "stream",
     "text": [
      "93094 data points among 93 batches\n",
      "\n",
      "Evaluating InSlateAttention with neural embeddings\n",
      "Test before learning: {'f1': 0.6832995414733887, 'roc-auc': 0.5003466010093689, 'accuracy': 0.5374177098274231}\n"
     ]
    },
    {
     "name": "stderr",
     "output_type": "stream",
     "text": [
      "train:   0%|                                                                                                                                       | 0/5000 [14:36<?, ?it/s]\n"
     ]
    },
    {
     "ename": "RuntimeError",
     "evalue": "CUDA out of memory. Tried to allocate 994.00 MiB (GPU 2; 10.91 GiB total capacity; 7.20 GiB already allocated; 499.94 MiB free; 9.75 GiB reserved in total by PyTorch) If reserved memory is >> allocated memory try setting max_split_size_mb to avoid fragmentation.  See documentation for Memory Management and PYTORCH_CUDA_ALLOC_CONF",
     "output_type": "error",
     "traceback": [
      "\u001b[0;31m---------------------------------------------------------------------------\u001b[0m",
      "\u001b[0;31mRuntimeError\u001b[0m                              Traceback (most recent call last)",
      "Cell \u001b[0;32mIn[9], line 25\u001b[0m\n\u001b[1;32m     18\u001b[0m \u001b[38;5;28mprint\u001b[39m(\u001b[38;5;124mf\u001b[39m\u001b[38;5;124m\"\u001b[39m\u001b[38;5;130;01m\\n\u001b[39;00m\u001b[38;5;124mEvaluating \u001b[39m\u001b[38;5;132;01m{\u001b[39;00mexperiment_name\u001b[38;5;132;01m}\u001b[39;00m\u001b[38;5;124m with \u001b[39m\u001b[38;5;132;01m{\u001b[39;00membeddings\u001b[38;5;132;01m}\u001b[39;00m\u001b[38;5;124m embeddings\u001b[39m\u001b[38;5;124m\"\u001b[39m)\n\u001b[1;32m     20\u001b[0m model \u001b[38;5;241m=\u001b[39m AttentionResponseModel(\n\u001b[1;32m     21\u001b[0m     RecsysEmbedding(train_num_items, train_user_item_matrix, embeddings\u001b[38;5;241m=\u001b[39membeddings),\n\u001b[1;32m     22\u001b[0m     output_dim\u001b[38;5;241m=\u001b[39m\u001b[38;5;241m1\u001b[39m\n\u001b[1;32m     23\u001b[0m )\u001b[38;5;241m.\u001b[39mto(device)\n\u001b[0;32m---> 25\u001b[0m best_model, metrics \u001b[38;5;241m=\u001b[39m \u001b[43mtrain\u001b[49m\u001b[43m(\u001b[49m\n\u001b[1;32m     26\u001b[0m \u001b[43m    \u001b[49m\u001b[43mmodel\u001b[49m\u001b[43m,\u001b[49m\u001b[43m \u001b[49m\n\u001b[1;32m     27\u001b[0m \u001b[43m    \u001b[49m\u001b[43mtrain_loader\u001b[49m\u001b[43m,\u001b[49m\u001b[43m \u001b[49m\u001b[43mval_loader\u001b[49m\u001b[43m,\u001b[49m\u001b[43m \u001b[49m\u001b[43mtest_loader\u001b[49m\u001b[43m,\u001b[49m\u001b[43m \u001b[49m\n\u001b[1;32m     28\u001b[0m \u001b[43m    \u001b[49m\u001b[43mdevice\u001b[49m\u001b[38;5;241;43m=\u001b[39;49m\u001b[43mdevice\u001b[49m\u001b[43m,\u001b[49m\u001b[43m \u001b[49m\u001b[43mlr\u001b[49m\u001b[38;5;241;43m=\u001b[39;49m\u001b[38;5;241;43m1e-3\u001b[39;49m\u001b[43m,\u001b[49m\u001b[43m \u001b[49m\u001b[43mnum_epochs\u001b[49m\u001b[38;5;241;43m=\u001b[39;49m\u001b[38;5;241;43m5000\u001b[39;49m\u001b[43m,\u001b[49m\u001b[43m \u001b[49m\u001b[43mearly_stopping\u001b[49m\u001b[38;5;241;43m=\u001b[39;49m\u001b[38;5;241;43m7\u001b[39;49m\u001b[43m,\u001b[49m\n\u001b[1;32m     29\u001b[0m \u001b[43m    \u001b[49m\u001b[43msilent\u001b[49m\u001b[38;5;241;43m=\u001b[39;49m\u001b[38;5;28;43;01mTrue\u001b[39;49;00m\n\u001b[1;32m     30\u001b[0m \u001b[43m\u001b[49m\u001b[43m)\u001b[49m\n\u001b[1;32m     32\u001b[0m \u001b[38;5;28mprint\u001b[39m(metrics)\n\u001b[1;32m     33\u001b[0m metrics[\u001b[38;5;124m'\u001b[39m\u001b[38;5;124membeddings\u001b[39m\u001b[38;5;124m'\u001b[39m] \u001b[38;5;241m=\u001b[39m embeddings\n",
      "File \u001b[0;32m~/benchmark/src/utils.py:279\u001b[0m, in \u001b[0;36mtrain\u001b[0;34m(model, train_loader, val_loader, test_loader, device, lr, num_epochs, silent, early_stopping, debug, **kwargs)\u001b[0m\n\u001b[1;32m    277\u001b[0m \u001b[38;5;28;01mfor\u001b[39;00m batch \u001b[38;5;129;01min\u001b[39;00m tqdm(train_loader, desc\u001b[38;5;241m=\u001b[39m\u001b[38;5;124mf\u001b[39m\u001b[38;5;124m'\u001b[39m\u001b[38;5;124mepoch \u001b[39m\u001b[38;5;132;01m{\u001b[39;00mepoch\u001b[38;5;132;01m}\u001b[39;00m\u001b[38;5;124m'\u001b[39m, disable\u001b[38;5;241m=\u001b[39msilent):\n\u001b[1;32m    278\u001b[0m     batch \u001b[38;5;241m=\u001b[39m {k:v\u001b[38;5;241m.\u001b[39mto(device) \u001b[38;5;28;01mfor\u001b[39;00m k, v \u001b[38;5;129;01min\u001b[39;00m batch\u001b[38;5;241m.\u001b[39mitems()}\n\u001b[0;32m--> 279\u001b[0m     raw_scores \u001b[38;5;241m=\u001b[39m \u001b[43mmodel\u001b[49m\u001b[43m(\u001b[49m\u001b[43mbatch\u001b[49m\u001b[43m)\u001b[49m\n\u001b[1;32m    280\u001b[0m     prediction_scores \u001b[38;5;241m=\u001b[39m torch\u001b[38;5;241m.\u001b[39msigmoid(raw_scores)\n\u001b[1;32m    281\u001b[0m     corrects \u001b[38;5;241m=\u001b[39m (batch[\u001b[38;5;124m'\u001b[39m\u001b[38;5;124mresponses\u001b[39m\u001b[38;5;124m'\u001b[39m] \u001b[38;5;241m>\u001b[39m \u001b[38;5;241m0\u001b[39m)\u001b[38;5;241m.\u001b[39mfloat()\n",
      "File \u001b[0;32m/opt/conda/envs/myenv/lib/python3.10/site-packages/torch/nn/modules/module.py:1130\u001b[0m, in \u001b[0;36mModule._call_impl\u001b[0;34m(self, *input, **kwargs)\u001b[0m\n\u001b[1;32m   1126\u001b[0m \u001b[38;5;66;03m# If we don't have any hooks, we want to skip the rest of the logic in\u001b[39;00m\n\u001b[1;32m   1127\u001b[0m \u001b[38;5;66;03m# this function, and just call forward.\u001b[39;00m\n\u001b[1;32m   1128\u001b[0m \u001b[38;5;28;01mif\u001b[39;00m \u001b[38;5;129;01mnot\u001b[39;00m (\u001b[38;5;28mself\u001b[39m\u001b[38;5;241m.\u001b[39m_backward_hooks \u001b[38;5;129;01mor\u001b[39;00m \u001b[38;5;28mself\u001b[39m\u001b[38;5;241m.\u001b[39m_forward_hooks \u001b[38;5;129;01mor\u001b[39;00m \u001b[38;5;28mself\u001b[39m\u001b[38;5;241m.\u001b[39m_forward_pre_hooks \u001b[38;5;129;01mor\u001b[39;00m _global_backward_hooks\n\u001b[1;32m   1129\u001b[0m         \u001b[38;5;129;01mor\u001b[39;00m _global_forward_hooks \u001b[38;5;129;01mor\u001b[39;00m _global_forward_pre_hooks):\n\u001b[0;32m-> 1130\u001b[0m     \u001b[38;5;28;01mreturn\u001b[39;00m \u001b[43mforward_call\u001b[49m\u001b[43m(\u001b[49m\u001b[38;5;241;43m*\u001b[39;49m\u001b[38;5;28;43minput\u001b[39;49m\u001b[43m,\u001b[49m\u001b[43m \u001b[49m\u001b[38;5;241;43m*\u001b[39;49m\u001b[38;5;241;43m*\u001b[39;49m\u001b[43mkwargs\u001b[49m\u001b[43m)\u001b[49m\n\u001b[1;32m   1131\u001b[0m \u001b[38;5;66;03m# Do not call functions when jit is used\u001b[39;00m\n\u001b[1;32m   1132\u001b[0m full_backward_hooks, non_full_backward_hooks \u001b[38;5;241m=\u001b[39m [], []\n",
      "Cell \u001b[0;32mIn[7], line 41\u001b[0m, in \u001b[0;36mAttentionResponseModel.forward\u001b[0;34m(self, batch)\u001b[0m\n\u001b[1;32m     38\u001b[0m \u001b[38;5;66;03m# all recomendations in session are scored independently\u001b[39;00m\n\u001b[1;32m     39\u001b[0m features \u001b[38;5;241m=\u001b[39m features\u001b[38;5;241m.\u001b[39mflatten(\u001b[38;5;241m0\u001b[39m,\u001b[38;5;241m1\u001b[39m)\n\u001b[0;32m---> 41\u001b[0m features, attn_map \u001b[38;5;241m=\u001b[39m \u001b[38;5;28;43mself\u001b[39;49m\u001b[38;5;241;43m.\u001b[39;49m\u001b[43mattention\u001b[49m\u001b[43m(\u001b[49m\n\u001b[1;32m     42\u001b[0m \u001b[43m    \u001b[49m\u001b[43mfeatures\u001b[49m\u001b[43m,\u001b[49m\u001b[43m \u001b[49m\u001b[43mfeatures\u001b[49m\u001b[43m,\u001b[49m\u001b[43m \u001b[49m\u001b[43mfeatures\u001b[49m\u001b[43m,\u001b[49m\n\u001b[1;32m     43\u001b[0m \u001b[43m    \u001b[49m\u001b[43mkey_padding_mask\u001b[49m\u001b[38;5;241;43m=\u001b[39;49m\u001b[38;5;241;43m~\u001b[39;49m\u001b[43mkey_padding_mask\u001b[49m\u001b[38;5;241;43m.\u001b[39;49m\u001b[43mflatten\u001b[49m\u001b[43m(\u001b[49m\u001b[38;5;241;43m0\u001b[39;49m\u001b[43m,\u001b[49m\u001b[43m \u001b[49m\u001b[38;5;241;43m1\u001b[39;49m\u001b[43m)\u001b[49m\n\u001b[1;32m     44\u001b[0m \u001b[43m\u001b[49m\u001b[43m)\u001b[49m\n\u001b[1;32m     46\u001b[0m \u001b[38;5;66;03m# transforming back to sequence shape\u001b[39;00m\n\u001b[1;32m     47\u001b[0m shp \u001b[38;5;241m=\u001b[39m \u001b[38;5;28mlist\u001b[39m(shp)\n",
      "File \u001b[0;32m/opt/conda/envs/myenv/lib/python3.10/site-packages/torch/nn/modules/module.py:1130\u001b[0m, in \u001b[0;36mModule._call_impl\u001b[0;34m(self, *input, **kwargs)\u001b[0m\n\u001b[1;32m   1126\u001b[0m \u001b[38;5;66;03m# If we don't have any hooks, we want to skip the rest of the logic in\u001b[39;00m\n\u001b[1;32m   1127\u001b[0m \u001b[38;5;66;03m# this function, and just call forward.\u001b[39;00m\n\u001b[1;32m   1128\u001b[0m \u001b[38;5;28;01mif\u001b[39;00m \u001b[38;5;129;01mnot\u001b[39;00m (\u001b[38;5;28mself\u001b[39m\u001b[38;5;241m.\u001b[39m_backward_hooks \u001b[38;5;129;01mor\u001b[39;00m \u001b[38;5;28mself\u001b[39m\u001b[38;5;241m.\u001b[39m_forward_hooks \u001b[38;5;129;01mor\u001b[39;00m \u001b[38;5;28mself\u001b[39m\u001b[38;5;241m.\u001b[39m_forward_pre_hooks \u001b[38;5;129;01mor\u001b[39;00m _global_backward_hooks\n\u001b[1;32m   1129\u001b[0m         \u001b[38;5;129;01mor\u001b[39;00m _global_forward_hooks \u001b[38;5;129;01mor\u001b[39;00m _global_forward_pre_hooks):\n\u001b[0;32m-> 1130\u001b[0m     \u001b[38;5;28;01mreturn\u001b[39;00m \u001b[43mforward_call\u001b[49m\u001b[43m(\u001b[49m\u001b[38;5;241;43m*\u001b[39;49m\u001b[38;5;28;43minput\u001b[39;49m\u001b[43m,\u001b[49m\u001b[43m \u001b[49m\u001b[38;5;241;43m*\u001b[39;49m\u001b[38;5;241;43m*\u001b[39;49m\u001b[43mkwargs\u001b[49m\u001b[43m)\u001b[49m\n\u001b[1;32m   1131\u001b[0m \u001b[38;5;66;03m# Do not call functions when jit is used\u001b[39;00m\n\u001b[1;32m   1132\u001b[0m full_backward_hooks, non_full_backward_hooks \u001b[38;5;241m=\u001b[39m [], []\n",
      "File \u001b[0;32m/opt/conda/envs/myenv/lib/python3.10/site-packages/torch/nn/modules/activation.py:1153\u001b[0m, in \u001b[0;36mMultiheadAttention.forward\u001b[0;34m(self, query, key, value, key_padding_mask, need_weights, attn_mask, average_attn_weights)\u001b[0m\n\u001b[1;32m   1142\u001b[0m     attn_output, attn_output_weights \u001b[38;5;241m=\u001b[39m F\u001b[38;5;241m.\u001b[39mmulti_head_attention_forward(\n\u001b[1;32m   1143\u001b[0m         query, key, value, \u001b[38;5;28mself\u001b[39m\u001b[38;5;241m.\u001b[39membed_dim, \u001b[38;5;28mself\u001b[39m\u001b[38;5;241m.\u001b[39mnum_heads,\n\u001b[1;32m   1144\u001b[0m         \u001b[38;5;28mself\u001b[39m\u001b[38;5;241m.\u001b[39min_proj_weight, \u001b[38;5;28mself\u001b[39m\u001b[38;5;241m.\u001b[39min_proj_bias,\n\u001b[0;32m   (...)\u001b[0m\n\u001b[1;32m   1150\u001b[0m         q_proj_weight\u001b[38;5;241m=\u001b[39m\u001b[38;5;28mself\u001b[39m\u001b[38;5;241m.\u001b[39mq_proj_weight, k_proj_weight\u001b[38;5;241m=\u001b[39m\u001b[38;5;28mself\u001b[39m\u001b[38;5;241m.\u001b[39mk_proj_weight,\n\u001b[1;32m   1151\u001b[0m         v_proj_weight\u001b[38;5;241m=\u001b[39m\u001b[38;5;28mself\u001b[39m\u001b[38;5;241m.\u001b[39mv_proj_weight, average_attn_weights\u001b[38;5;241m=\u001b[39maverage_attn_weights)\n\u001b[1;32m   1152\u001b[0m \u001b[38;5;28;01melse\u001b[39;00m:\n\u001b[0;32m-> 1153\u001b[0m     attn_output, attn_output_weights \u001b[38;5;241m=\u001b[39m \u001b[43mF\u001b[49m\u001b[38;5;241;43m.\u001b[39;49m\u001b[43mmulti_head_attention_forward\u001b[49m\u001b[43m(\u001b[49m\n\u001b[1;32m   1154\u001b[0m \u001b[43m        \u001b[49m\u001b[43mquery\u001b[49m\u001b[43m,\u001b[49m\u001b[43m \u001b[49m\u001b[43mkey\u001b[49m\u001b[43m,\u001b[49m\u001b[43m \u001b[49m\u001b[43mvalue\u001b[49m\u001b[43m,\u001b[49m\u001b[43m \u001b[49m\u001b[38;5;28;43mself\u001b[39;49m\u001b[38;5;241;43m.\u001b[39;49m\u001b[43membed_dim\u001b[49m\u001b[43m,\u001b[49m\u001b[43m \u001b[49m\u001b[38;5;28;43mself\u001b[39;49m\u001b[38;5;241;43m.\u001b[39;49m\u001b[43mnum_heads\u001b[49m\u001b[43m,\u001b[49m\n\u001b[1;32m   1155\u001b[0m \u001b[43m        \u001b[49m\u001b[38;5;28;43mself\u001b[39;49m\u001b[38;5;241;43m.\u001b[39;49m\u001b[43min_proj_weight\u001b[49m\u001b[43m,\u001b[49m\u001b[43m \u001b[49m\u001b[38;5;28;43mself\u001b[39;49m\u001b[38;5;241;43m.\u001b[39;49m\u001b[43min_proj_bias\u001b[49m\u001b[43m,\u001b[49m\n\u001b[1;32m   1156\u001b[0m \u001b[43m        \u001b[49m\u001b[38;5;28;43mself\u001b[39;49m\u001b[38;5;241;43m.\u001b[39;49m\u001b[43mbias_k\u001b[49m\u001b[43m,\u001b[49m\u001b[43m \u001b[49m\u001b[38;5;28;43mself\u001b[39;49m\u001b[38;5;241;43m.\u001b[39;49m\u001b[43mbias_v\u001b[49m\u001b[43m,\u001b[49m\u001b[43m \u001b[49m\u001b[38;5;28;43mself\u001b[39;49m\u001b[38;5;241;43m.\u001b[39;49m\u001b[43madd_zero_attn\u001b[49m\u001b[43m,\u001b[49m\n\u001b[1;32m   1157\u001b[0m \u001b[43m        \u001b[49m\u001b[38;5;28;43mself\u001b[39;49m\u001b[38;5;241;43m.\u001b[39;49m\u001b[43mdropout\u001b[49m\u001b[43m,\u001b[49m\u001b[43m \u001b[49m\u001b[38;5;28;43mself\u001b[39;49m\u001b[38;5;241;43m.\u001b[39;49m\u001b[43mout_proj\u001b[49m\u001b[38;5;241;43m.\u001b[39;49m\u001b[43mweight\u001b[49m\u001b[43m,\u001b[49m\u001b[43m \u001b[49m\u001b[38;5;28;43mself\u001b[39;49m\u001b[38;5;241;43m.\u001b[39;49m\u001b[43mout_proj\u001b[49m\u001b[38;5;241;43m.\u001b[39;49m\u001b[43mbias\u001b[49m\u001b[43m,\u001b[49m\n\u001b[1;32m   1158\u001b[0m \u001b[43m        \u001b[49m\u001b[43mtraining\u001b[49m\u001b[38;5;241;43m=\u001b[39;49m\u001b[38;5;28;43mself\u001b[39;49m\u001b[38;5;241;43m.\u001b[39;49m\u001b[43mtraining\u001b[49m\u001b[43m,\u001b[49m\n\u001b[1;32m   1159\u001b[0m \u001b[43m        \u001b[49m\u001b[43mkey_padding_mask\u001b[49m\u001b[38;5;241;43m=\u001b[39;49m\u001b[43mkey_padding_mask\u001b[49m\u001b[43m,\u001b[49m\u001b[43m \u001b[49m\u001b[43mneed_weights\u001b[49m\u001b[38;5;241;43m=\u001b[39;49m\u001b[43mneed_weights\u001b[49m\u001b[43m,\u001b[49m\n\u001b[1;32m   1160\u001b[0m \u001b[43m        \u001b[49m\u001b[43mattn_mask\u001b[49m\u001b[38;5;241;43m=\u001b[39;49m\u001b[43mattn_mask\u001b[49m\u001b[43m,\u001b[49m\u001b[43m \u001b[49m\u001b[43maverage_attn_weights\u001b[49m\u001b[38;5;241;43m=\u001b[39;49m\u001b[43maverage_attn_weights\u001b[49m\u001b[43m)\u001b[49m\n\u001b[1;32m   1161\u001b[0m \u001b[38;5;28;01mif\u001b[39;00m \u001b[38;5;28mself\u001b[39m\u001b[38;5;241m.\u001b[39mbatch_first \u001b[38;5;129;01mand\u001b[39;00m is_batched:\n\u001b[1;32m   1162\u001b[0m     \u001b[38;5;28;01mreturn\u001b[39;00m attn_output\u001b[38;5;241m.\u001b[39mtranspose(\u001b[38;5;241m1\u001b[39m, \u001b[38;5;241m0\u001b[39m), attn_output_weights\n",
      "File \u001b[0;32m/opt/conda/envs/myenv/lib/python3.10/site-packages/torch/nn/functional.py:5179\u001b[0m, in \u001b[0;36mmulti_head_attention_forward\u001b[0;34m(query, key, value, embed_dim_to_check, num_heads, in_proj_weight, in_proj_bias, bias_k, bias_v, add_zero_attn, dropout_p, out_proj_weight, out_proj_bias, training, key_padding_mask, need_weights, attn_mask, use_separate_proj_weight, q_proj_weight, k_proj_weight, v_proj_weight, static_k, static_v, average_attn_weights)\u001b[0m\n\u001b[1;32m   5174\u001b[0m     dropout_p \u001b[38;5;241m=\u001b[39m \u001b[38;5;241m0.0\u001b[39m\n\u001b[1;32m   5176\u001b[0m \u001b[38;5;66;03m#\u001b[39;00m\n\u001b[1;32m   5177\u001b[0m \u001b[38;5;66;03m# (deep breath) calculate attention and out projection\u001b[39;00m\n\u001b[1;32m   5178\u001b[0m \u001b[38;5;66;03m#\u001b[39;00m\n\u001b[0;32m-> 5179\u001b[0m attn_output, attn_output_weights \u001b[38;5;241m=\u001b[39m \u001b[43m_scaled_dot_product_attention\u001b[49m\u001b[43m(\u001b[49m\u001b[43mq\u001b[49m\u001b[43m,\u001b[49m\u001b[43m \u001b[49m\u001b[43mk\u001b[49m\u001b[43m,\u001b[49m\u001b[43m \u001b[49m\u001b[43mv\u001b[49m\u001b[43m,\u001b[49m\u001b[43m \u001b[49m\u001b[43mattn_mask\u001b[49m\u001b[43m,\u001b[49m\u001b[43m \u001b[49m\u001b[43mdropout_p\u001b[49m\u001b[43m)\u001b[49m\n\u001b[1;32m   5180\u001b[0m attn_output \u001b[38;5;241m=\u001b[39m attn_output\u001b[38;5;241m.\u001b[39mtranspose(\u001b[38;5;241m0\u001b[39m, \u001b[38;5;241m1\u001b[39m)\u001b[38;5;241m.\u001b[39mcontiguous()\u001b[38;5;241m.\u001b[39mview(tgt_len \u001b[38;5;241m*\u001b[39m bsz, embed_dim)\n\u001b[1;32m   5181\u001b[0m attn_output \u001b[38;5;241m=\u001b[39m linear(attn_output, out_proj_weight, out_proj_bias)\n",
      "File \u001b[0;32m/opt/conda/envs/myenv/lib/python3.10/site-packages/torch/nn/functional.py:4860\u001b[0m, in \u001b[0;36m_scaled_dot_product_attention\u001b[0;34m(q, k, v, attn_mask, dropout_p)\u001b[0m\n\u001b[1;32m   4858\u001b[0m     attn \u001b[38;5;241m=\u001b[39m dropout(attn, p\u001b[38;5;241m=\u001b[39mdropout_p)\n\u001b[1;32m   4859\u001b[0m \u001b[38;5;66;03m# (B, Nt, Ns) x (B, Ns, E) -> (B, Nt, E)\u001b[39;00m\n\u001b[0;32m-> 4860\u001b[0m output \u001b[38;5;241m=\u001b[39m \u001b[43mtorch\u001b[49m\u001b[38;5;241;43m.\u001b[39;49m\u001b[43mbmm\u001b[49m\u001b[43m(\u001b[49m\u001b[43mattn\u001b[49m\u001b[43m,\u001b[49m\u001b[43m \u001b[49m\u001b[43mv\u001b[49m\u001b[43m)\u001b[49m\n\u001b[1;32m   4861\u001b[0m \u001b[38;5;28;01mreturn\u001b[39;00m output, attn\n",
      "\u001b[0;31mRuntimeError\u001b[0m: CUDA out of memory. Tried to allocate 994.00 MiB (GPU 2; 10.91 GiB total capacity; 7.20 GiB already allocated; 499.94 MiB free; 9.75 GiB reserved in total by PyTorch) If reserved memory is >> allocated memory try setting max_split_size_mb to avoid fragmentation.  See documentation for Memory Management and PYTORCH_CUDA_ALLOC_CONF"
     ]
    }
   ],
   "source": [
    "for group in ['cosmetics', 'multi']:\n",
    "    for filename in os.listdir(pkl_path):    \n",
    "        result = []\n",
    "        if not filename.startswith(group):\n",
    "            continue\n",
    "        print(f\"\\n == {filename} ==\")\n",
    "        dataset = OpenCDP.load(os.path.join(pkl_path, filename))\n",
    "        (\n",
    "            train_loader, \n",
    "            val_loader,\n",
    "            test_loader, \n",
    "            train_user_item_matrix, \n",
    "            train_num_items\n",
    "        ) = get_train_val_test_tmatrix_tnumitems(dataset, batch_size=800)\n",
    "    \n",
    "        print(f\"{len(dataset)} data points among {len(train_loader)} batches\")\n",
    "        for embeddings in ['neural', 'svd']:\n",
    "            print(f\"\\nEvaluating {experiment_name} with {embeddings} embeddings\")\n",
    "\n",
    "            model = SlatewiseAttention(\n",
    "                RecsysEmbedding(train_num_items, train_user_item_matrix, embeddings=embeddings),\n",
    "                output_dim=1\n",
    "            ).to(device)\n",
    "\n",
    "            best_model, metrics = train(\n",
    "                model, \n",
    "                train_loader, val_loader, test_loader, \n",
    "                device=device, lr=1e-3, num_epochs=5000, early_stopping=7,\n",
    "                silent=True\n",
    "            )\n",
    "            \n",
    "            print(metrics)\n",
    "            metrics['embeddings'] = embeddings\n",
    "            result.append(metrics)\n",
    "        pd.DataFrame(result).to_csv(f'results/{filename}_{experiment_name}.csv')\n",
    "        del dataset, train_loader, val_loader, test_loader, train_user_item_matrix, train_num_items"
   ]
  }
 ],
 "metadata": {
  "kernelspec": {
   "display_name": "Python 3 (ipykernel)",
   "language": "python",
   "name": "python3"
  },
  "language_info": {
   "codemirror_mode": {
    "name": "ipython",
    "version": 3
   },
   "file_extension": ".py",
   "mimetype": "text/x-python",
   "name": "python",
   "nbconvert_exporter": "python",
   "pygments_lexer": "ipython3",
   "version": "3.10.13"
  }
 },
 "nbformat": 4,
 "nbformat_minor": 5
}
