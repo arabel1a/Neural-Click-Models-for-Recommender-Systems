{
 "cells": [
  {
   "cell_type": "code",
   "execution_count": 1,
   "metadata": {},
   "outputs": [
    {
     "data": {
      "text/plain": [
       "<torch._C.Generator at 0x7ff7b80c6190>"
      ]
     },
     "execution_count": 1,
     "metadata": {},
     "output_type": "execute_result"
    }
   ],
   "source": [
    "import torch\n",
    "import random\n",
    "import datetime\n",
    "import pandas as pd\n",
    "import numpy as np\n",
    "import os\n",
    "\n",
    "from torch.utils.data import Dataset\n",
    "from src.datasets import RL4RS, ContentWise, DummyData\n",
    "from src.utils import train, get_dummy_data, get_train_val_test_tmatrix_tnumitems\n",
    "from src.embeddings import RecsysEmbedding\n",
    "\n",
    "experiment_name = 'LogReg'\n",
    "device = 'cuda:0'\n",
    "seed = 7331\n",
    "pkl_path = '../data/'\n",
    "\n",
    "\n",
    "random.seed(seed)\n",
    "np.random.seed(seed)\n",
    "torch.manual_seed(seed)"
   ]
  },
  {
   "cell_type": "markdown",
   "metadata": {},
   "source": [
    "# Модель"
   ]
  },
  {
   "cell_type": "code",
   "execution_count": 2,
   "metadata": {},
   "outputs": [
    {
     "name": "stderr",
     "output_type": "stream",
     "text": [
      "3it [00:00, 4016.25it/s]"
     ]
    },
    {
     "name": "stdout",
     "output_type": "stream",
     "text": [
      "biulding affinity matrix...\n"
     ]
    },
    {
     "name": "stderr",
     "output_type": "stream",
     "text": [
      "\n"
     ]
    },
    {
     "data": {
      "text/plain": [
       "tensor([[[ 0.6851, -0.5144, -0.0075],\n",
       "         [-0.3600, -0.8669,  0.0244]],\n",
       "\n",
       "        [[ 0.3116,  0.3116,  0.3769],\n",
       "         [ 0.3769,  0.3769,  0.3769]]], grad_fn=<SqueezeBackward1>)"
      ]
     },
     "execution_count": 2,
     "metadata": {},
     "output_type": "execute_result"
    }
   ],
   "source": [
    "class LogisticRegression(torch.nn.Module):\n",
    "    def __init__(self, embedding, output_dim=1):\n",
    "        super().__init__()\n",
    "        self.embedding = embedding\n",
    "        self.linear = torch.nn.Linear(2 * embedding.embedding_dim, output_dim)\n",
    "    \n",
    "    def forward(self, batch):\n",
    "        item_embs, user_embs = self.embedding(batch)\n",
    "\n",
    "        features = torch.cat(\n",
    "            [\n",
    "                item_embs,\n",
    "                user_embs[:, :, None, :].repeat(1, 1, item_embs.size(-2), 1)\n",
    "            ],\n",
    "            dim = -1\n",
    "        )\n",
    "        return self.linear(features).squeeze(-1)\n",
    "    \n",
    "\n",
    "d = DummyData()\n",
    "dummy_loader, dummy_matrix = get_dummy_data(d)\n",
    "emb = RecsysEmbedding(d.n_items, dummy_matrix, embeddings='explicit')\n",
    "\n",
    "for batch in dummy_loader:\n",
    "    break\n",
    "\n",
    "    \n",
    "model = LogisticRegression(\n",
    "    RecsysEmbedding(d.n_items, dummy_matrix, embeddings='neural'),\n",
    "    output_dim=1\n",
    ").to('cpu')\n",
    "\n",
    "model(batch)\n"
   ]
  },
  {
   "cell_type": "markdown",
   "metadata": {},
   "source": [
    "# Игрушечный датасет: проверим, что сходится к идеальным метрикам"
   ]
  },
  {
   "cell_type": "code",
   "execution_count": 3,
   "metadata": {},
   "outputs": [
    {
     "name": "stderr",
     "output_type": "stream",
     "text": [
      "3it [00:00, 2544.57it/s]"
     ]
    },
    {
     "name": "stdout",
     "output_type": "stream",
     "text": [
      "biulding affinity matrix...\n",
      "\n",
      "Evaluating LogReg with explicit embeddings\n"
     ]
    },
    {
     "name": "stderr",
     "output_type": "stream",
     "text": [
      "\n",
      "train... loss:0.6516387462615967:   0%|                                                                                      | 0/5000 [00:00<?, ?it/s]"
     ]
    },
    {
     "name": "stdout",
     "output_type": "stream",
     "text": [
      "Test before learning: {'f1': 0.0, 'roc-auc': 1.0, 'accuracy': 0.75}\n"
     ]
    },
    {
     "name": "stderr",
     "output_type": "stream",
     "text": [
      "train... loss:0.6474779844284058:   0%|                                                                              | 1/5000 [00:00<20:40,  4.03it/s]"
     ]
    },
    {
     "name": "stdout",
     "output_type": "stream",
     "text": [
      "Test update: epoch: 0 |accuracy: 0.75 | f1: 0.6666666865348816 | auc: 1.0 | treshold: 0.4\n"
     ]
    },
    {
     "name": "stderr",
     "output_type": "stream",
     "text": [
      "train... loss:0.6474779844284058:   0%|                                                                              | 1/5000 [00:00<41:11,  2.02it/s]\n",
      "train:   0%|                                                                                                                 | 0/5000 [00:00<?, ?it/s]"
     ]
    },
    {
     "name": "stdout",
     "output_type": "stream",
     "text": [
      "Test update: epoch: 1 |accuracy: 1.0 | f1: 1.0 | auc: 1.0 | treshold: 0.41000000000000003\n",
      "\n",
      "Evaluating LogReg with neural embeddings\n",
      "Test before learning: {'f1': 0.0, 'roc-auc': 0.6666666269302368, 'accuracy': 0.5}\n"
     ]
    },
    {
     "name": "stderr",
     "output_type": "stream",
     "text": [
      "train... loss:0.7850385904312134:   0%|                                                                              | 2/5000 [00:00<18:35,  4.48it/s]"
     ]
    },
    {
     "name": "stdout",
     "output_type": "stream",
     "text": [
      "Test update: epoch: 0 |accuracy: 0.75 | f1: 0.6666666865348816 | auc: 0.6666666269302368 | treshold: 0.44\n"
     ]
    },
    {
     "name": "stderr",
     "output_type": "stream",
     "text": [
      "train... loss:0.5095469355583191:   1%|▊                                                                            | 51/5000 [00:08<15:08,  5.45it/s]"
     ]
    },
    {
     "name": "stdout",
     "output_type": "stream",
     "text": [
      "Test update: epoch: 49 |accuracy: 0.75 | f1: 0.6666666865348816 | auc: 1.0 | treshold: 0.3\n"
     ]
    },
    {
     "name": "stderr",
     "output_type": "stream",
     "text": [
      "train... loss:0.5002313852310181:   1%|▊                                                                            | 52/5000 [00:09<14:40,  5.62it/s]\n",
      "train:   0%|                                                                                                                 | 0/5000 [00:00<?, ?it/s]"
     ]
    },
    {
     "name": "stdout",
     "output_type": "stream",
     "text": [
      "Test update: epoch: 52 |accuracy: 1.0 | f1: 1.0 | auc: 1.0 | treshold: 0.52\n",
      "\n",
      "Evaluating LogReg with svd embeddings\n",
      "Test before learning: {'f1': 0.0, 'roc-auc': 0.3333333134651184, 'accuracy': 0.75}\n"
     ]
    },
    {
     "name": "stderr",
     "output_type": "stream",
     "text": [
      "train... loss:0.7651770710945129:   0%|                                                                              | 2/5000 [00:00<18:16,  4.56it/s]"
     ]
    },
    {
     "name": "stdout",
     "output_type": "stream",
     "text": [
      "Test update: epoch: 0 |accuracy: 0.5 | f1: 0.5 | auc: 0.3333333134651184 | treshold: 0.31\n"
     ]
    },
    {
     "name": "stderr",
     "output_type": "stream",
     "text": [
      "train... loss:0.7317358255386353:   0%|                                                                              | 5/5000 [00:01<17:22,  4.79it/s]"
     ]
    },
    {
     "name": "stdout",
     "output_type": "stream",
     "text": [
      "Test update: epoch: 4 |accuracy: 0.25 | f1: 0.4000000059604645 | auc: 1.0 | treshold: 0.33\n"
     ]
    },
    {
     "name": "stderr",
     "output_type": "stream",
     "text": [
      "train... loss:0.723713219165802:   0%|                                                                               | 6/5000 [00:01<18:18,  4.55it/s]"
     ]
    },
    {
     "name": "stdout",
     "output_type": "stream",
     "text": [
      "Test update: epoch: 5 |accuracy: 0.5 | f1: 0.5 | auc: 1.0 | treshold: 0.34\n"
     ]
    },
    {
     "name": "stderr",
     "output_type": "stream",
     "text": [
      "\r",
      "train... loss:0.723713219165802:   0%|                                                                               | 6/5000 [00:01<20:32,  4.05it/s]"
     ]
    },
    {
     "name": "stdout",
     "output_type": "stream",
     "text": [
      "Test update: epoch: 6 |accuracy: 1.0 | f1: 1.0 | auc: 1.0 | treshold: 0.42000000000000004\n"
     ]
    },
    {
     "name": "stderr",
     "output_type": "stream",
     "text": [
      "\n"
     ]
    }
   ],
   "source": [
    "d = DummyData()\n",
    "dummy_loader, dummy_svd = get_dummy_data(d)\n",
    "\n",
    "for embeddings in ['explicit', 'neural', 'svd']:\n",
    "    print(f\"\\nEvaluating {experiment_name} with {embeddings} embeddings\")\n",
    "    model = LogisticRegression(\n",
    "        RecsysEmbedding(d.n_items, dummy_matrix, embeddings='neural'),\n",
    "        output_dim=1\n",
    "    ).to('cpu')\n",
    "\n",
    "    _, metrics = train(model, \n",
    "       dummy_loader, dummy_loader, dummy_loader, encoder=dummy_svd if embeddings == 'svd' else None,\n",
    "       device=device, lr=1e-3, num_epochs=5000, \n",
    "       silent=True\n",
    "    )\n"
   ]
  },
  {
   "cell_type": "markdown",
   "metadata": {},
   "source": [
    "# ContentWise"
   ]
  },
  {
   "cell_type": "code",
   "execution_count": 4,
   "metadata": {},
   "outputs": [
    {
     "data": {
      "text/plain": [
       "(108, 20216)"
      ]
     },
     "execution_count": 4,
     "metadata": {},
     "output_type": "execute_result"
    }
   ],
   "source": [
    "content_wise_results = []\n",
    "c = ContentWise.load(os.path.join(pkl_path, 'cw.pkl'))\n",
    "c_train_loader, c_val_loader, c_test_loader, c_train_user_item_matrix, train_num_items = get_train_val_test_tmatrix_tnumitems(c, batch_size=150)\n",
    "len(c_train_loader), len(c)"
   ]
  },
  {
   "cell_type": "code",
   "execution_count": 5,
   "metadata": {},
   "outputs": [
    {
     "name": "stdout",
     "output_type": "stream",
     "text": [
      "\n",
      "Evaluating LogReg with svd embeddings\n"
     ]
    },
    {
     "name": "stderr",
     "output_type": "stream",
     "text": [
      "\r",
      "train:   0%|                                                                                                                 | 0/5000 [00:00<?, ?it/s]"
     ]
    },
    {
     "name": "stdout",
     "output_type": "stream",
     "text": [
      "Test before learning: {'f1': 0.18089768290519714, 'roc-auc': 0.5208644270896912, 'accuracy': 0.4691844880580902}\n"
     ]
    },
    {
     "name": "stderr",
     "output_type": "stream",
     "text": [
      "train... loss:41.33676525950432:   0%|                                                                            | 2/5000 [00:24<20:00:56, 14.42s/it]"
     ]
    },
    {
     "name": "stdout",
     "output_type": "stream",
     "text": [
      "Test update: epoch: 1 |accuracy: 0.44251054525375366 | f1: 0.20086047053337097 | auc: 0.5975727438926697 | treshold: 0.06999999999999999\n"
     ]
    },
    {
     "name": "stderr",
     "output_type": "stream",
     "text": [
      "train... loss:33.688323616981506:   0%|                                                                           | 3/5000 [00:30<16:36:23, 11.96s/it]"
     ]
    },
    {
     "name": "stdout",
     "output_type": "stream",
     "text": [
      "Test update: epoch: 2 |accuracy: 0.7762067914009094 | f1: 0.23358693718910217 | auc: 0.6562141180038452 | treshold: 0.13\n"
     ]
    },
    {
     "name": "stderr",
     "output_type": "stream",
     "text": [
      "train... loss:32.36844781041145:   0%|                                                                            | 4/5000 [00:36<14:12:09, 10.23s/it]"
     ]
    },
    {
     "name": "stdout",
     "output_type": "stream",
     "text": [
      "Test update: epoch: 3 |accuracy: 0.8108843564987183 | f1: 0.22322939336299896 | auc: 0.6679483652114868 | treshold: 0.12\n"
     ]
    },
    {
     "name": "stderr",
     "output_type": "stream",
     "text": [
      "train... loss:32.2694146335125:   0%|                                                                             | 5/5000 [00:42<12:33:14,  9.05s/it]"
     ]
    },
    {
     "name": "stdout",
     "output_type": "stream",
     "text": [
      "Test update: epoch: 4 |accuracy: 0.7854904532432556 | f1: 0.25207754969596863 | auc: 0.6760475635528564 | treshold: 0.13\n"
     ]
    },
    {
     "name": "stderr",
     "output_type": "stream",
     "text": [
      "train... loss:32.04609149694443:   0%|                                                                            | 7/5000 [00:54<10:26:27,  7.53s/it]"
     ]
    },
    {
     "name": "stdout",
     "output_type": "stream",
     "text": [
      "Test update: epoch: 6 |accuracy: 0.5508834719657898 | f1: 0.23768854141235352 | auc: 0.6744518280029297 | treshold: 0.11\n"
     ]
    },
    {
     "name": "stderr",
     "output_type": "stream",
     "text": [
      "train... loss:31.84813329577446:   0%|▏                                                                           | 10/5000 [01:12<9:03:58,  6.54s/it]"
     ]
    },
    {
     "name": "stdout",
     "output_type": "stream",
     "text": [
      "Test update: epoch: 9 |accuracy: 0.8018214106559753 | f1: 0.2495821714401245 | auc: 0.6790965795516968 | treshold: 0.15000000000000002\n"
     ]
    },
    {
     "name": "stderr",
     "output_type": "stream",
     "text": [
      "train... loss:31.52680078148842:   0%|▏                                                                           | 13/5000 [01:30<8:38:07,  6.23s/it]"
     ]
    },
    {
     "name": "stdout",
     "output_type": "stream",
     "text": [
      "Test update: epoch: 12 |accuracy: 0.808957040309906 | f1: 0.25343528389930725 | auc: 0.6853609085083008 | treshold: 0.15000000000000002\n"
     ]
    },
    {
     "name": "stderr",
     "output_type": "stream",
     "text": [
      "train... loss:31.45141550898552:   0%|▏                                                                           | 16/5000 [01:48<8:26:36,  6.10s/it]"
     ]
    },
    {
     "name": "stdout",
     "output_type": "stream",
     "text": [
      "Test update: epoch: 15 |accuracy: 0.8425605893135071 | f1: 0.2411176562309265 | auc: 0.6896426677703857 | treshold: 0.16\n"
     ]
    },
    {
     "name": "stderr",
     "output_type": "stream",
     "text": [
      "train... loss:31.314603865146637:   1%|▍                                                                          | 26/5000 [02:53<9:14:06,  6.68s/it]\n"
     ]
    },
    {
     "name": "stdout",
     "output_type": "stream",
     "text": [
      "\n",
      "Evaluating LogReg with neural embeddings\n"
     ]
    },
    {
     "name": "stderr",
     "output_type": "stream",
     "text": [
      "\r",
      "train:   0%|                                                                                                                 | 0/5000 [00:00<?, ?it/s]"
     ]
    },
    {
     "name": "stdout",
     "output_type": "stream",
     "text": [
      "Test before learning: {'f1': 0.17145304381847382, 'roc-auc': 0.5063667297363281, 'accuracy': 0.48766350746154785}\n"
     ]
    },
    {
     "name": "stderr",
     "output_type": "stream",
     "text": [
      "train... loss:41.69384032487869:   0%|                                                                             | 2/5000 [00:12<8:20:59,  6.01s/it]"
     ]
    },
    {
     "name": "stdout",
     "output_type": "stream",
     "text": [
      "Test update: epoch: 1 |accuracy: 0.35934028029441833 | f1: 0.19311802089214325 | auc: 0.581449031829834 | treshold: 0.060000000000000005\n"
     ]
    },
    {
     "name": "stderr",
     "output_type": "stream",
     "text": [
      "train... loss:33.47247260808945:   0%|                                                                             | 3/5000 [00:18<8:26:59,  6.09s/it]"
     ]
    },
    {
     "name": "stdout",
     "output_type": "stream",
     "text": [
      "Test update: epoch: 2 |accuracy: 0.7383954524993896 | f1: 0.2495885193347931 | auc: 0.6600985527038574 | treshold: 0.12\n"
     ]
    },
    {
     "name": "stderr",
     "output_type": "stream",
     "text": [
      "train... loss:32.14786794781685:   0%|                                                                             | 4/5000 [00:24<8:32:52,  6.16s/it]"
     ]
    },
    {
     "name": "stdout",
     "output_type": "stream",
     "text": [
      "Test update: epoch: 3 |accuracy: 0.7909782528877258 | f1: 0.242252916097641 | auc: 0.6731433868408203 | treshold: 0.13\n"
     ]
    },
    {
     "name": "stderr",
     "output_type": "stream",
     "text": [
      "train... loss:32.07998004555702:   0%|                                                                             | 6/5000 [00:37<8:35:05,  6.19s/it]"
     ]
    },
    {
     "name": "stdout",
     "output_type": "stream",
     "text": [
      "Test update: epoch: 5 |accuracy: 0.7263752818107605 | f1: 0.2548281252384186 | auc: 0.6783126592636108 | treshold: 0.13\n"
     ]
    },
    {
     "name": "stderr",
     "output_type": "stream",
     "text": [
      "train... loss:31.867884039878845:   0%|                                                                            | 7/5000 [00:43<8:39:16,  6.24s/it]"
     ]
    },
    {
     "name": "stdout",
     "output_type": "stream",
     "text": [
      "Test update: epoch: 6 |accuracy: 0.603466272354126 | f1: 0.24656155705451965 | auc: 0.6795464754104614 | treshold: 0.12\n"
     ]
    },
    {
     "name": "stderr",
     "output_type": "stream",
     "text": [
      "train... loss:31.742525190114975:   0%|▏                                                                          | 10/5000 [01:01<8:30:39,  6.14s/it]"
     ]
    },
    {
     "name": "stdout",
     "output_type": "stream",
     "text": [
      "Test update: epoch: 9 |accuracy: 0.8095014095306396 | f1: 0.23969465494155884 | auc: 0.6825439929962158 | treshold: 0.14\n"
     ]
    },
    {
     "name": "stderr",
     "output_type": "stream",
     "text": [
      "train... loss:31.41856551170349:   0%|▏                                                                           | 12/5000 [01:13<8:30:57,  6.15s/it]"
     ]
    },
    {
     "name": "stdout",
     "output_type": "stream",
     "text": [
      "Test update: epoch: 11 |accuracy: 0.7334667444229126 | f1: 0.2627980709075928 | auc: 0.687035322189331 | treshold: 0.12\n"
     ]
    },
    {
     "name": "stderr",
     "output_type": "stream",
     "text": [
      "train... loss:31.257891476154327:   0%|▎                                                                          | 24/5000 [02:25<8:23:03,  6.07s/it]"
     ]
    },
    {
     "name": "stdout",
     "output_type": "stream",
     "text": [
      "Test update: epoch: 23 |accuracy: 0.7932145595550537 | f1: 0.2644057273864746 | auc: 0.6885620355606079 | treshold: 0.14\n"
     ]
    },
    {
     "name": "stderr",
     "output_type": "stream",
     "text": [
      "train... loss:31.247106552124023:   0%|▎                                                                          | 24/5000 [02:31<8:43:06,  6.31s/it]\n"
     ]
    }
   ],
   "source": [
    "for embeddings in ['svd', 'neural']:\n",
    "    print(f\"\\nEvaluating {experiment_name} with {embeddings} embeddings\")\n",
    "    model = LogisticRegression(\n",
    "        RecsysEmbedding(train_num_items, c_train_user_item_matrix, embeddings='neural').to('cpu'),\n",
    "        output_dim=1\n",
    "    ).to(device)\n",
    "\n",
    "    _, metrics = train(model, \n",
    "       c_train_loader, c_val_loader, c_test_loader, device=device, lr=1e-3, num_epochs=5000, early_stopping=7,\n",
    "       silent=True, \n",
    "    )\n",
    "    \n",
    "    metrics['embeddings'] = embeddings\n",
    "    content_wise_results.append(metrics)\n",
    "    \n",
    "pd.DataFrame(content_wise_results).to_csv(f'results/cw_{experiment_name}.csv')"
   ]
  },
  {
   "cell_type": "markdown",
   "metadata": {},
   "source": [
    "# RL4RS"
   ]
  },
  {
   "cell_type": "code",
   "execution_count": 6,
   "metadata": {},
   "outputs": [
    {
     "data": {
      "text/plain": [
       "(2, 45942)"
      ]
     },
     "execution_count": 6,
     "metadata": {},
     "output_type": "execute_result"
    }
   ],
   "source": [
    "rl4rs_results = []\n",
    "r = RL4RS.load(os.path.join(pkl_path, 'rl4rs.pkl'))\n",
    "r_train_loader, r_val_loader, r_test_loader, r_train_user_item_matrix, train_num_items = get_train_val_test_tmatrix_tnumitems(r, batch_size=20000)\n",
    "len(r_train_loader), len(r)"
   ]
  },
  {
   "cell_type": "code",
   "execution_count": 7,
   "metadata": {},
   "outputs": [
    {
     "name": "stdout",
     "output_type": "stream",
     "text": [
      "\n",
      "Evaluating LogReg with neural embeddings\n"
     ]
    },
    {
     "name": "stderr",
     "output_type": "stream",
     "text": [
      "\r",
      "train:   0%|                                                                                                                 | 0/5000 [00:00<?, ?it/s]"
     ]
    },
    {
     "name": "stdout",
     "output_type": "stream",
     "text": [
      "Test before learning: {'f1': 0.5323517322540283, 'roc-auc': 0.5173546075820923, 'accuracy': 0.49771490693092346}\n"
     ]
    },
    {
     "name": "stderr",
     "output_type": "stream",
     "text": [
      "train... loss:1.4511416554450989:   0%|                                                                           | 1/5000 [00:36<50:51:24, 36.62s/it]"
     ]
    },
    {
     "name": "stdout",
     "output_type": "stream",
     "text": [
      "Test update: epoch: 0 |accuracy: 0.6395599246025085 | f1: 0.7801215648651123 | auc: 0.5230585336685181 | treshold: 0.17\n"
     ]
    },
    {
     "name": "stderr",
     "output_type": "stream",
     "text": [
      "train... loss:1.4425002932548523:   0%|                                                                           | 2/5000 [00:42<37:52:58, 27.29s/it]"
     ]
    },
    {
     "name": "stdout",
     "output_type": "stream",
     "text": [
      "Test update: epoch: 1 |accuracy: 0.6396324634552002 | f1: 0.7801820039749146 | auc: 0.528762936592102 | treshold: 0.17\n"
     ]
    },
    {
     "name": "stderr",
     "output_type": "stream",
     "text": [
      "train... loss:1.4339596629142761:   0%|                                                                           | 3/5000 [00:47<28:49:44, 20.77s/it]"
     ]
    },
    {
     "name": "stdout",
     "output_type": "stream",
     "text": [
      "Test update: epoch: 2 |accuracy: 0.6396324634552002 | f1: 0.7801949977874756 | auc: 0.5348157286643982 | treshold: 0.17\n"
     ]
    },
    {
     "name": "stderr",
     "output_type": "stream",
     "text": [
      "train... loss:1.4253607988357544:   0%|                                                                           | 4/5000 [00:53<22:28:08, 16.19s/it]"
     ]
    },
    {
     "name": "stdout",
     "output_type": "stream",
     "text": [
      "Test update: epoch: 3 |accuracy: 0.6397050023078918 | f1: 0.7801905870437622 | auc: 0.5411945581436157 | treshold: 0.18000000000000002\n"
     ]
    },
    {
     "name": "stderr",
     "output_type": "stream",
     "text": [
      "train... loss:1.4170976281166077:   0%|                                                                           | 5/5000 [00:58<18:00:26, 12.98s/it]"
     ]
    },
    {
     "name": "stdout",
     "output_type": "stream",
     "text": [
      "Test update: epoch: 4 |accuracy: 0.639680802822113 | f1: 0.7801985740661621 | auc: 0.5478324294090271 | treshold: 0.18000000000000002\n"
     ]
    },
    {
     "name": "stderr",
     "output_type": "stream",
     "text": [
      "train... loss:1.408791422843933:   0%|                                                                            | 6/5000 [01:04<14:58:58, 10.80s/it]"
     ]
    },
    {
     "name": "stdout",
     "output_type": "stream",
     "text": [
      "Test update: epoch: 5 |accuracy: 0.6397050023078918 | f1: 0.78022301197052 | auc: 0.5547246932983398 | treshold: 0.18000000000000002\n"
     ]
    },
    {
     "name": "stderr",
     "output_type": "stream",
     "text": [
      "train... loss:1.4007408618927002:   0%|                                                                           | 7/5000 [01:09<12:47:42,  9.23s/it]"
     ]
    },
    {
     "name": "stdout",
     "output_type": "stream",
     "text": [
      "Test update: epoch: 6 |accuracy: 0.6397533416748047 | f1: 0.7802655100822449 | auc: 0.5617932081222534 | treshold: 0.18000000000000002\n"
     ]
    },
    {
     "name": "stderr",
     "output_type": "stream",
     "text": [
      "train... loss:1.3929815292358398:   0%|                                                                           | 8/5000 [01:15<11:15:08,  8.11s/it]"
     ]
    },
    {
     "name": "stdout",
     "output_type": "stream",
     "text": [
      "Test update: epoch: 7 |accuracy: 0.6397292017936707 | f1: 0.7802280187606812 | auc: 0.5690090656280518 | treshold: 0.19\n"
     ]
    },
    {
     "name": "stderr",
     "output_type": "stream",
     "text": [
      "train... loss:1.385286033153534:   0%|▏                                                                           | 9/5000 [01:21<10:12:32,  7.36s/it]"
     ]
    },
    {
     "name": "stdout",
     "output_type": "stream",
     "text": [
      "Test update: epoch: 8 |accuracy: 0.6424374580383301 | f1: 0.7807286977767944 | auc: 0.5762936472892761 | treshold: 0.27\n"
     ]
    },
    {
     "name": "stderr",
     "output_type": "stream",
     "text": [
      "train... loss:1.3777587413787842:   0%|▏                                                                          | 10/5000 [01:26<9:26:19,  6.81s/it]"
     ]
    },
    {
     "name": "stdout",
     "output_type": "stream",
     "text": [
      "Test update: epoch: 9 |accuracy: 0.6425341367721558 | f1: 0.7808529734611511 | auc: 0.5835882425308228 | treshold: 0.27\n"
     ]
    },
    {
     "name": "stderr",
     "output_type": "stream",
     "text": [
      "train... loss:1.3704294562339783:   0%|▏                                                                          | 11/5000 [01:32<8:56:29,  6.45s/it]"
     ]
    },
    {
     "name": "stdout",
     "output_type": "stream",
     "text": [
      "Test update: epoch: 10 |accuracy: 0.6435981392860413 | f1: 0.7812458276748657 | auc: 0.5908666253089905 | treshold: 0.28\n"
     ]
    },
    {
     "name": "stderr",
     "output_type": "stream",
     "text": [
      "train... loss:1.363337516784668:   0%|▏                                                                           | 12/5000 [01:37<8:33:19,  6.17s/it]"
     ]
    },
    {
     "name": "stdout",
     "output_type": "stream",
     "text": [
      "Test update: epoch: 11 |accuracy: 0.6439608335494995 | f1: 0.7814781665802002 | auc: 0.5981144905090332 | treshold: 0.28\n"
     ]
    },
    {
     "name": "stderr",
     "output_type": "stream",
     "text": [
      "train... loss:1.3564044833183289:   0%|▏                                                                          | 13/5000 [01:43<8:24:54,  6.07s/it]"
     ]
    },
    {
     "name": "stdout",
     "output_type": "stream",
     "text": [
      "Test update: epoch: 12 |accuracy: 0.645048975944519 | f1: 0.7818967700004578 | auc: 0.6052329540252686 | treshold: 0.29000000000000004\n"
     ]
    },
    {
     "name": "stderr",
     "output_type": "stream",
     "text": [
      "train... loss:1.3494710326194763:   0%|▏                                                                          | 14/5000 [01:49<8:12:59,  5.93s/it]"
     ]
    },
    {
     "name": "stdout",
     "output_type": "stream",
     "text": [
      "Test update: epoch: 13 |accuracy: 0.645048975944519 | f1: 0.7819356918334961 | auc: 0.6122398376464844 | treshold: 0.29000000000000004\n"
     ]
    },
    {
     "name": "stderr",
     "output_type": "stream",
     "text": [
      "train... loss:1.3428122997283936:   0%|▏                                                                          | 15/5000 [01:54<8:05:07,  5.84s/it]"
     ]
    },
    {
     "name": "stdout",
     "output_type": "stream",
     "text": [
      "Test update: epoch: 14 |accuracy: 0.646233856678009 | f1: 0.7823046445846558 | auc: 0.6189922094345093 | treshold: 0.3\n"
     ]
    },
    {
     "name": "stderr",
     "output_type": "stream",
     "text": [
      "train... loss:1.3362376689910889:   0%|▏                                                                          | 16/5000 [02:00<7:58:59,  5.77s/it]"
     ]
    },
    {
     "name": "stdout",
     "output_type": "stream",
     "text": [
      "Test update: epoch: 15 |accuracy: 0.6464030742645264 | f1: 0.7824508547782898 | auc: 0.6254984140396118 | treshold: 0.3\n"
     ]
    },
    {
     "name": "stderr",
     "output_type": "stream",
     "text": [
      "train... loss:1.3298511505126953:   0%|▎                                                                          | 17/5000 [02:05<7:54:31,  5.71s/it]"
     ]
    },
    {
     "name": "stdout",
     "output_type": "stream",
     "text": [
      "Test update: epoch: 16 |accuracy: 0.6463547348976135 | f1: 0.7824729084968567 | auc: 0.6317377090454102 | treshold: 0.3\n"
     ]
    },
    {
     "name": "stderr",
     "output_type": "stream",
     "text": [
      "train... loss:1.323495090007782:   0%|▎                                                                           | 18/5000 [02:11<7:51:00,  5.67s/it]"
     ]
    },
    {
     "name": "stdout",
     "output_type": "stream",
     "text": [
      "Test update: epoch: 17 |accuracy: 0.6472010612487793 | f1: 0.7826540470123291 | auc: 0.6377558708190918 | treshold: 0.31\n"
     ]
    },
    {
     "name": "stderr",
     "output_type": "stream",
     "text": [
      "train... loss:1.317286729812622:   0%|▎                                                                           | 19/5000 [02:17<7:51:53,  5.68s/it]"
     ]
    },
    {
     "name": "stdout",
     "output_type": "stream",
     "text": [
      "Test update: epoch: 18 |accuracy: 0.6473945379257202 | f1: 0.7827926278114319 | auc: 0.6435455083847046 | treshold: 0.31\n"
     ]
    },
    {
     "name": "stderr",
     "output_type": "stream",
     "text": [
      "train... loss:1.3110536336898804:   0%|▎                                                                          | 20/5000 [02:23<7:59:49,  5.78s/it]"
     ]
    },
    {
     "name": "stdout",
     "output_type": "stream",
     "text": [
      "Test update: epoch: 19 |accuracy: 0.648482620716095 | f1: 0.7830266356468201 | auc: 0.6491055488586426 | treshold: 0.32\n"
     ]
    },
    {
     "name": "stderr",
     "output_type": "stream",
     "text": [
      "train... loss:1.304885983467102:   0%|▎                                                                           | 21/5000 [02:28<7:57:22,  5.75s/it]"
     ]
    },
    {
     "name": "stdout",
     "output_type": "stream",
     "text": [
      "Test update: epoch: 20 |accuracy: 0.6483134031295776 | f1: 0.7830030918121338 | auc: 0.6544636487960815 | treshold: 0.32\n"
     ]
    },
    {
     "name": "stderr",
     "output_type": "stream",
     "text": [
      "train... loss:1.299096941947937:   0%|▎                                                                           | 22/5000 [02:34<7:52:59,  5.70s/it]"
     ]
    },
    {
     "name": "stdout",
     "output_type": "stream",
     "text": [
      "Test update: epoch: 21 |accuracy: 0.6515294313430786 | f1: 0.7836608290672302 | auc: 0.659623384475708 | treshold: 0.34\n"
     ]
    },
    {
     "name": "stderr",
     "output_type": "stream",
     "text": [
      "train... loss:1.2930657863616943:   0%|▎                                                                          | 23/5000 [02:40<7:50:38,  5.67s/it]"
     ]
    },
    {
     "name": "stdout",
     "output_type": "stream",
     "text": [
      "Test update: epoch: 22 |accuracy: 0.6521581411361694 | f1: 0.7841418981552124 | auc: 0.6646237373352051 | treshold: 0.34\n"
     ]
    },
    {
     "name": "stderr",
     "output_type": "stream",
     "text": [
      "train... loss:1.2873476147651672:   0%|▎                                                                          | 24/5000 [02:45<7:51:40,  5.69s/it]"
     ]
    },
    {
     "name": "stdout",
     "output_type": "stream",
     "text": [
      "Test update: epoch: 23 |accuracy: 0.652448296546936 | f1: 0.7843284606933594 | auc: 0.6694819927215576 | treshold: 0.34\n"
     ]
    },
    {
     "name": "stderr",
     "output_type": "stream",
     "text": [
      "train... loss:1.2815982699394226:   0%|▍                                                                          | 25/5000 [02:51<7:51:44,  5.69s/it]"
     ]
    },
    {
     "name": "stdout",
     "output_type": "stream",
     "text": [
      "Test update: epoch: 24 |accuracy: 0.6531012058258057 | f1: 0.7847691178321838 | auc: 0.6741594076156616 | treshold: 0.34\n"
     ]
    },
    {
     "name": "stderr",
     "output_type": "stream",
     "text": [
      "train... loss:1.275989830493927:   1%|▍                                                                           | 26/5000 [02:57<7:59:22,  5.78s/it]"
     ]
    },
    {
     "name": "stdout",
     "output_type": "stream",
     "text": [
      "Test update: epoch: 25 |accuracy: 0.6587595343589783 | f1: 0.7863436937332153 | auc: 0.6787101030349731 | treshold: 0.36000000000000004\n"
     ]
    },
    {
     "name": "stderr",
     "output_type": "stream",
     "text": [
      "train... loss:1.2703381776809692:   1%|▍                                                                          | 27/5000 [03:03<7:53:54,  5.72s/it]"
     ]
    },
    {
     "name": "stdout",
     "output_type": "stream",
     "text": [
      "Test update: epoch: 26 |accuracy: 0.6592915058135986 | f1: 0.786702573299408 | auc: 0.6831248998641968 | treshold: 0.36000000000000004\n"
     ]
    },
    {
     "name": "stderr",
     "output_type": "stream",
     "text": [
      "train... loss:1.2648270726203918:   1%|▍                                                                          | 28/5000 [03:08<7:49:31,  5.67s/it]"
     ]
    },
    {
     "name": "stdout",
     "output_type": "stream",
     "text": [
      "Test update: epoch: 27 |accuracy: 0.6597992777824402 | f1: 0.7870817184448242 | auc: 0.6873995661735535 | treshold: 0.36000000000000004\n"
     ]
    },
    {
     "name": "stderr",
     "output_type": "stream",
     "text": [
      "train... loss:1.2592140436172485:   1%|▍                                                                          | 29/5000 [03:14<7:50:01,  5.67s/it]"
     ]
    },
    {
     "name": "stdout",
     "output_type": "stream",
     "text": [
      "Test update: epoch: 28 |accuracy: 0.6602587103843689 | f1: 0.7874304056167603 | auc: 0.6915556192398071 | treshold: 0.36000000000000004\n"
     ]
    },
    {
     "name": "stderr",
     "output_type": "stream",
     "text": [
      "train... loss:1.25367671251297:   1%|▍                                                                            | 30/5000 [03:19<7:48:30,  5.66s/it]"
     ]
    },
    {
     "name": "stdout",
     "output_type": "stream",
     "text": [
      "Test update: epoch: 29 |accuracy: 0.6621931791305542 | f1: 0.7876189351081848 | auc: 0.6955667734146118 | treshold: 0.37\n"
     ]
    },
    {
     "name": "stderr",
     "output_type": "stream",
     "text": [
      "train... loss:1.2482882738113403:   1%|▍                                                                          | 31/5000 [03:25<7:49:43,  5.67s/it]"
     ]
    },
    {
     "name": "stdout",
     "output_type": "stream",
     "text": [
      "Test update: epoch: 30 |accuracy: 0.662797749042511 | f1: 0.7879893779754639 | auc: 0.6994743347167969 | treshold: 0.37\n"
     ]
    },
    {
     "name": "stderr",
     "output_type": "stream",
     "text": [
      "train... loss:1.2431327104568481:   1%|▍                                                                          | 32/5000 [03:31<7:48:50,  5.66s/it]"
     ]
    },
    {
     "name": "stdout",
     "output_type": "stream",
     "text": [
      "Test update: epoch: 31 |accuracy: 0.6629669666290283 | f1: 0.7881247997283936 | auc: 0.7032698392868042 | treshold: 0.37\n"
     ]
    },
    {
     "name": "stderr",
     "output_type": "stream",
     "text": [
      "train... loss:1.2377418875694275:   1%|▍                                                                          | 33/5000 [03:36<7:47:53,  5.65s/it]"
     ]
    },
    {
     "name": "stdout",
     "output_type": "stream",
     "text": [
      "Test update: epoch: 32 |accuracy: 0.6661105155944824 | f1: 0.7889846563339233 | auc: 0.7069413065910339 | treshold: 0.38\n"
     ]
    },
    {
     "name": "stderr",
     "output_type": "stream",
     "text": [
      "train... loss:1.232401728630066:   1%|▌                                                                           | 34/5000 [03:42<7:46:39,  5.64s/it]"
     ]
    },
    {
     "name": "stdout",
     "output_type": "stream",
     "text": [
      "Test update: epoch: 33 |accuracy: 0.6672469973564148 | f1: 0.789667546749115 | auc: 0.7105106711387634 | treshold: 0.38\n"
     ]
    },
    {
     "name": "stderr",
     "output_type": "stream",
     "text": [
      "train... loss:1.2272766828536987:   1%|▌                                                                          | 35/5000 [03:48<7:48:27,  5.66s/it]"
     ]
    },
    {
     "name": "stdout",
     "output_type": "stream",
     "text": [
      "Test update: epoch: 34 |accuracy: 0.6678273677825928 | f1: 0.7900279760360718 | auc: 0.7139929533004761 | treshold: 0.38\n"
     ]
    },
    {
     "name": "stderr",
     "output_type": "stream",
     "text": [
      "train... loss:1.2222092747688293:   1%|▌                                                                          | 36/5000 [03:54<7:52:57,  5.72s/it]"
     ]
    },
    {
     "name": "stdout",
     "output_type": "stream",
     "text": [
      "Test update: epoch: 35 |accuracy: 0.6701728701591492 | f1: 0.7903924584388733 | auc: 0.7173912525177002 | treshold: 0.39\n"
     ]
    },
    {
     "name": "stderr",
     "output_type": "stream",
     "text": [
      "train... loss:1.2170093655586243:   1%|▌                                                                          | 37/5000 [03:59<7:51:14,  5.70s/it]"
     ]
    },
    {
     "name": "stdout",
     "output_type": "stream",
     "text": [
      "Test update: epoch: 36 |accuracy: 0.6732196807861328 | f1: 0.7910507917404175 | auc: 0.7207134962081909 | treshold: 0.4\n"
     ]
    },
    {
     "name": "stderr",
     "output_type": "stream",
     "text": [
      "train... loss:1.211781919002533:   1%|▌                                                                           | 38/5000 [04:05<7:50:39,  5.69s/it]"
     ]
    },
    {
     "name": "stdout",
     "output_type": "stream",
     "text": [
      "Test update: epoch: 37 |accuracy: 0.6741869449615479 | f1: 0.7916756868362427 | auc: 0.7240029573440552 | treshold: 0.4\n"
     ]
    },
    {
     "name": "stderr",
     "output_type": "stream",
     "text": [
      "train... loss:1.206621766090393:   1%|▌                                                                           | 39/5000 [04:11<7:52:48,  5.72s/it]"
     ]
    },
    {
     "name": "stdout",
     "output_type": "stream",
     "text": [
      "Test update: epoch: 38 |accuracy: 0.6747914552688599 | f1: 0.7920911312103271 | auc: 0.7272524833679199 | treshold: 0.4\n"
     ]
    },
    {
     "name": "stderr",
     "output_type": "stream",
     "text": [
      "train... loss:1.2016683220863342:   1%|▌                                                                          | 40/5000 [04:17<7:55:47,  5.76s/it]"
     ]
    },
    {
     "name": "stdout",
     "output_type": "stream",
     "text": [
      "Test update: epoch: 39 |accuracy: 0.6806915998458862 | f1: 0.79308021068573 | auc: 0.7304944396018982 | treshold: 0.42000000000000004\n"
     ]
    },
    {
     "name": "stderr",
     "output_type": "stream",
     "text": [
      "train... loss:1.1966418623924255:   1%|▌                                                                          | 41/5000 [04:22<7:54:38,  5.74s/it]"
     ]
    },
    {
     "name": "stdout",
     "output_type": "stream",
     "text": [
      "Test update: epoch: 40 |accuracy: 0.6819489598274231 | f1: 0.7939144372940063 | auc: 0.7337384819984436 | treshold: 0.42000000000000004\n"
     ]
    },
    {
     "name": "stderr",
     "output_type": "stream",
     "text": [
      "train... loss:1.1919479370117188:   1%|▋                                                                          | 42/5000 [04:28<7:53:21,  5.73s/it]"
     ]
    },
    {
     "name": "stdout",
     "output_type": "stream",
     "text": [
      "Test update: epoch: 41 |accuracy: 0.6834965348243713 | f1: 0.7949492931365967 | auc: 0.7369733452796936 | treshold: 0.42000000000000004\n"
     ]
    },
    {
     "name": "stderr",
     "output_type": "stream",
     "text": [
      "train... loss:1.1867802143096924:   1%|▋                                                                          | 43/5000 [04:34<7:58:07,  5.79s/it]"
     ]
    },
    {
     "name": "stdout",
     "output_type": "stream",
     "text": [
      "Test update: epoch: 42 |accuracy: 0.6846572160720825 | f1: 0.7957652807235718 | auc: 0.7402223348617554 | treshold: 0.42000000000000004\n"
     ]
    },
    {
     "name": "stderr",
     "output_type": "stream",
     "text": [
      "train... loss:1.1820023655891418:   1%|▋                                                                          | 44/5000 [04:40<7:56:11,  5.76s/it]"
     ]
    },
    {
     "name": "stdout",
     "output_type": "stream",
     "text": [
      "Test update: epoch: 43 |accuracy: 0.6937492489814758 | f1: 0.7970190048217773 | auc: 0.7434978485107422 | treshold: 0.45\n"
     ]
    },
    {
     "name": "stderr",
     "output_type": "stream",
     "text": [
      "train... loss:1.1771451234817505:   1%|▋                                                                          | 45/5000 [04:45<7:55:30,  5.76s/it]"
     ]
    },
    {
     "name": "stdout",
     "output_type": "stream",
     "text": [
      "Test update: epoch: 44 |accuracy: 0.6953451633453369 | f1: 0.7980314493179321 | auc: 0.7468173503875732 | treshold: 0.45\n"
     ]
    },
    {
     "name": "stderr",
     "output_type": "stream",
     "text": [
      "train... loss:1.17178875207901:   1%|▋                                                                            | 46/5000 [04:51<7:57:47,  5.79s/it]"
     ]
    },
    {
     "name": "stdout",
     "output_type": "stream",
     "text": [
      "Test update: epoch: 45 |accuracy: 0.6965783834457397 | f1: 0.7989940047264099 | auc: 0.7501654624938965 | treshold: 0.45\n"
     ]
    },
    {
     "name": "stderr",
     "output_type": "stream",
     "text": [
      "train... loss:1.1673232316970825:   1%|▋                                                                          | 47/5000 [04:57<7:58:20,  5.79s/it]"
     ]
    },
    {
     "name": "stdout",
     "output_type": "stream",
     "text": [
      "Test update: epoch: 46 |accuracy: 0.6980776190757751 | f1: 0.8001024723052979 | auc: 0.7535107731819153 | treshold: 0.45\n"
     ]
    },
    {
     "name": "stderr",
     "output_type": "stream",
     "text": [
      "train... loss:1.1621946096420288:   1%|▋                                                                          | 48/5000 [05:03<7:56:48,  5.78s/it]"
     ]
    },
    {
     "name": "stdout",
     "output_type": "stream",
     "text": [
      "Test update: epoch: 47 |accuracy: 0.6988514065742493 | f1: 0.8008061051368713 | auc: 0.756857693195343 | treshold: 0.45\n"
     ]
    },
    {
     "name": "stderr",
     "output_type": "stream",
     "text": [
      "train... loss:1.1576974391937256:   1%|▋                                                                          | 49/5000 [05:09<7:58:34,  5.80s/it]"
     ]
    },
    {
     "name": "stdout",
     "output_type": "stream",
     "text": [
      "Test update: epoch: 48 |accuracy: 0.7036392092704773 | f1: 0.8021502494812012 | auc: 0.7601838707923889 | treshold: 0.46\n"
     ]
    },
    {
     "name": "stderr",
     "output_type": "stream",
     "text": [
      "train... loss:1.1529450416564941:   1%|▊                                                                          | 50/5000 [05:15<8:00:26,  5.82s/it]"
     ]
    },
    {
     "name": "stdout",
     "output_type": "stream",
     "text": [
      "Test update: epoch: 49 |accuracy: 0.7056704163551331 | f1: 0.8035760521888733 | auc: 0.7635042071342468 | treshold: 0.46\n"
     ]
    },
    {
     "name": "stderr",
     "output_type": "stream",
     "text": [
      "train... loss:1.1477174162864685:   1%|▊                                                                          | 51/5000 [05:21<8:06:41,  5.90s/it]"
     ]
    },
    {
     "name": "stdout",
     "output_type": "stream",
     "text": [
      "Test update: epoch: 50 |accuracy: 0.7077257633209229 | f1: 0.804894208908081 | auc: 0.766777515411377 | treshold: 0.46\n"
     ]
    },
    {
     "name": "stderr",
     "output_type": "stream",
     "text": [
      "train... loss:1.1429526805877686:   1%|▊                                                                          | 52/5000 [05:26<8:02:30,  5.85s/it]"
     ]
    },
    {
     "name": "stdout",
     "output_type": "stream",
     "text": [
      "Test update: epoch: 51 |accuracy: 0.7089831829071045 | f1: 0.8058276176452637 | auc: 0.7700436115264893 | treshold: 0.46\n"
     ]
    },
    {
     "name": "stderr",
     "output_type": "stream",
     "text": [
      "train... loss:1.1382977366447449:   1%|▊                                                                          | 53/5000 [05:32<8:07:06,  5.91s/it]"
     ]
    },
    {
     "name": "stdout",
     "output_type": "stream",
     "text": [
      "Test update: epoch: 52 |accuracy: 0.7128279805183411 | f1: 0.8068189024925232 | auc: 0.773246705532074 | treshold: 0.47000000000000003\n"
     ]
    },
    {
     "name": "stderr",
     "output_type": "stream",
     "text": [
      "train... loss:1.1338306665420532:   1%|▊                                                                          | 54/5000 [05:38<8:03:20,  5.86s/it]"
     ]
    },
    {
     "name": "stdout",
     "output_type": "stream",
     "text": [
      "Test update: epoch: 53 |accuracy: 0.7146898508071899 | f1: 0.8080620765686035 | auc: 0.7763999700546265 | treshold: 0.47000000000000003\n"
     ]
    },
    {
     "name": "stderr",
     "output_type": "stream",
     "text": [
      "train... loss:1.1287627220153809:   1%|▊                                                                          | 55/5000 [05:44<8:00:51,  5.83s/it]"
     ]
    },
    {
     "name": "stdout",
     "output_type": "stream",
     "text": [
      "Test update: epoch: 54 |accuracy: 0.7163100242614746 | f1: 0.8091551065444946 | auc: 0.7795062065124512 | treshold: 0.47000000000000003\n"
     ]
    },
    {
     "name": "stderr",
     "output_type": "stream",
     "text": [
      "train... loss:1.1246206760406494:   1%|▊                                                                          | 56/5000 [05:50<8:01:37,  5.84s/it]"
     ]
    },
    {
     "name": "stdout",
     "output_type": "stream",
     "text": [
      "Test update: epoch: 55 |accuracy: 0.7215572595596313 | f1: 0.8111087679862976 | auc: 0.7825566530227661 | treshold: 0.48000000000000004\n"
     ]
    },
    {
     "name": "stderr",
     "output_type": "stream",
     "text": [
      "train... loss:1.1197936534881592:   1%|▊                                                                          | 57/5000 [05:56<8:02:20,  5.85s/it]"
     ]
    },
    {
     "name": "stdout",
     "output_type": "stream",
     "text": [
      "Test update: epoch: 56 |accuracy: 0.7233949899673462 | f1: 0.8123185038566589 | auc: 0.7855585813522339 | treshold: 0.48000000000000004\n"
     ]
    },
    {
     "name": "stderr",
     "output_type": "stream",
     "text": [
      "train... loss:1.1151878833770752:   1%|▊                                                                          | 58/5000 [06:01<8:00:49,  5.84s/it]"
     ]
    },
    {
     "name": "stdout",
     "output_type": "stream",
     "text": [
      "Test update: epoch: 57 |accuracy: 0.7248942255973816 | f1: 0.8132315278053284 | auc: 0.7885222434997559 | treshold: 0.48000000000000004\n"
     ]
    },
    {
     "name": "stderr",
     "output_type": "stream",
     "text": [
      "train... loss:1.1103065013885498:   1%|▉                                                                          | 59/5000 [06:07<8:00:38,  5.84s/it]"
     ]
    },
    {
     "name": "stdout",
     "output_type": "stream",
     "text": [
      "Test update: epoch: 58 |accuracy: 0.7287873029708862 | f1: 0.8144029378890991 | auc: 0.7914412617683411 | treshold: 0.49\n"
     ]
    },
    {
     "name": "stderr",
     "output_type": "stream",
     "text": [
      "train... loss:1.1054509282112122:   1%|▉                                                                          | 60/5000 [06:13<8:00:35,  5.84s/it]"
     ]
    },
    {
     "name": "stdout",
     "output_type": "stream",
     "text": [
      "Test update: epoch: 59 |accuracy: 0.7284004092216492 | f1: 0.8153785467147827 | auc: 0.7943121790885925 | treshold: 0.48000000000000004\n"
     ]
    },
    {
     "name": "stderr",
     "output_type": "stream",
     "text": [
      "train... loss:1.1009593605995178:   1%|▉                                                                          | 61/5000 [06:19<8:01:32,  5.85s/it]"
     ]
    },
    {
     "name": "stdout",
     "output_type": "stream",
     "text": [
      "Test update: epoch: 60 |accuracy: 0.7298029065132141 | f1: 0.8161868453025818 | auc: 0.797142505645752 | treshold: 0.48000000000000004\n"
     ]
    },
    {
     "name": "stderr",
     "output_type": "stream",
     "text": [
      "train... loss:1.0957570672035217:   1%|▉                                                                          | 62/5000 [06:25<8:01:04,  5.85s/it]"
     ]
    },
    {
     "name": "stdout",
     "output_type": "stream",
     "text": [
      "Test update: epoch: 61 |accuracy: 0.7345423698425293 | f1: 0.8178348541259766 | auc: 0.7999305725097656 | treshold: 0.49\n"
     ]
    },
    {
     "name": "stderr",
     "output_type": "stream",
     "text": [
      "train... loss:1.0913928151130676:   1%|▉                                                                          | 63/5000 [06:31<8:11:26,  5.97s/it]"
     ]
    },
    {
     "name": "stdout",
     "output_type": "stream",
     "text": [
      "Test update: epoch: 62 |accuracy: 0.7366703152656555 | f1: 0.819157063961029 | auc: 0.802675187587738 | treshold: 0.49\n"
     ]
    },
    {
     "name": "stderr",
     "output_type": "stream",
     "text": [
      "train... loss:1.0870711207389832:   1%|▉                                                                          | 64/5000 [06:37<8:07:47,  5.93s/it]"
     ]
    },
    {
     "name": "stdout",
     "output_type": "stream",
     "text": [
      "Test update: epoch: 63 |accuracy: 0.7412405014038086 | f1: 0.8206486105918884 | auc: 0.8053839802742004 | treshold: 0.5\n"
     ]
    },
    {
     "name": "stderr",
     "output_type": "stream",
     "text": [
      "train... loss:1.0821412801742554:   1%|▉                                                                          | 65/5000 [06:43<8:06:11,  5.91s/it]"
     ]
    },
    {
     "name": "stdout",
     "output_type": "stream",
     "text": [
      "Test update: epoch: 64 |accuracy: 0.7402974367141724 | f1: 0.8210596442222595 | auc: 0.8080611228942871 | treshold: 0.49\n"
     ]
    },
    {
     "name": "stderr",
     "output_type": "stream",
     "text": [
      "train... loss:1.0775102376937866:   1%|▉                                                                          | 66/5000 [06:49<8:04:56,  5.90s/it]"
     ]
    },
    {
     "name": "stdout",
     "output_type": "stream",
     "text": [
      "Test update: epoch: 65 |accuracy: 0.7427880764007568 | f1: 0.8225717544555664 | auc: 0.8106967806816101 | treshold: 0.49\n"
     ]
    },
    {
     "name": "stderr",
     "output_type": "stream",
     "text": [
      "train... loss:1.0729575157165527:   1%|█                                                                          | 67/5000 [06:55<8:04:19,  5.89s/it]"
     ]
    },
    {
     "name": "stdout",
     "output_type": "stream",
     "text": [
      "Test update: epoch: 66 |accuracy: 0.7472857236862183 | f1: 0.8241608738899231 | auc: 0.8132988214492798 | treshold: 0.5\n"
     ]
    },
    {
     "name": "stderr",
     "output_type": "stream",
     "text": [
      "train... loss:1.0681465864181519:   1%|█                                                                          | 68/5000 [07:00<8:03:37,  5.88s/it]"
     ]
    },
    {
     "name": "stdout",
     "output_type": "stream",
     "text": [
      "Test update: epoch: 67 |accuracy: 0.7519767880439758 | f1: 0.8257123827934265 | auc: 0.8158925175666809 | treshold: 0.51\n"
     ]
    },
    {
     "name": "stderr",
     "output_type": "stream",
     "text": [
      "train... loss:1.0636751055717468:   1%|█                                                                          | 69/5000 [07:06<8:04:49,  5.90s/it]"
     ]
    },
    {
     "name": "stdout",
     "output_type": "stream",
     "text": [
      "Test update: epoch: 68 |accuracy: 0.7536694407463074 | f1: 0.8266662359237671 | auc: 0.8184446096420288 | treshold: 0.51\n"
     ]
    },
    {
     "name": "stderr",
     "output_type": "stream",
     "text": [
      "train... loss:1.058803677558899:   1%|█                                                                           | 70/5000 [07:12<8:06:00,  5.91s/it]"
     ]
    },
    {
     "name": "stdout",
     "output_type": "stream",
     "text": [
      "Test update: epoch: 69 |accuracy: 0.7553862929344177 | f1: 0.8276954293251038 | auc: 0.8209626078605652 | treshold: 0.51\n"
     ]
    },
    {
     "name": "stderr",
     "output_type": "stream",
     "text": [
      "train... loss:1.054194986820221:   1%|█                                                                           | 71/5000 [07:18<8:04:16,  5.89s/it]"
     ]
    },
    {
     "name": "stdout",
     "output_type": "stream",
     "text": [
      "Test update: epoch: 70 |accuracy: 0.7570789456367493 | f1: 0.8286776542663574 | auc: 0.823413610458374 | treshold: 0.51\n"
     ]
    },
    {
     "name": "stderr",
     "output_type": "stream",
     "text": [
      "train... loss:1.0499697923660278:   1%|█                                                                          | 72/5000 [07:24<8:01:03,  5.86s/it]"
     ]
    },
    {
     "name": "stdout",
     "output_type": "stream",
     "text": [
      "Test update: epoch: 71 |accuracy: 0.7570306062698364 | f1: 0.8296082615852356 | auc: 0.8258082866668701 | treshold: 0.5\n"
     ]
    },
    {
     "name": "stderr",
     "output_type": "stream",
     "text": [
      "train... loss:1.0455194115638733:   1%|█                                                                          | 73/5000 [07:30<8:03:49,  5.89s/it]"
     ]
    },
    {
     "name": "stdout",
     "output_type": "stream",
     "text": [
      "Test update: epoch: 72 |accuracy: 0.7588683366775513 | f1: 0.8306213021278381 | auc: 0.8281291723251343 | treshold: 0.5\n"
     ]
    },
    {
     "name": "stderr",
     "output_type": "stream",
     "text": [
      "train... loss:1.0414575934410095:   1%|█                                                                          | 74/5000 [07:36<8:02:35,  5.88s/it]"
     ]
    },
    {
     "name": "stdout",
     "output_type": "stream",
     "text": [
      "Test update: epoch: 73 |accuracy: 0.7609720826148987 | f1: 0.8318734765052795 | auc: 0.8303878307342529 | treshold: 0.5\n"
     ]
    },
    {
     "name": "stderr",
     "output_type": "stream",
     "text": [
      "train... loss:1.0370335578918457:   2%|█▏                                                                         | 75/5000 [07:42<8:01:07,  5.86s/it]"
     ]
    },
    {
     "name": "stdout",
     "output_type": "stream",
     "text": [
      "Test update: epoch: 74 |accuracy: 0.7624712586402893 | f1: 0.8326319456100464 | auc: 0.8325611352920532 | treshold: 0.5\n"
     ]
    },
    {
     "name": "stderr",
     "output_type": "stream",
     "text": [
      "train... loss:1.0328654050827026:   2%|█▏                                                                         | 76/5000 [07:48<8:09:55,  5.97s/it]"
     ]
    },
    {
     "name": "stdout",
     "output_type": "stream",
     "text": [
      "Test update: epoch: 75 |accuracy: 0.7643573880195618 | f1: 0.83368319272995 | auc: 0.8346492052078247 | treshold: 0.5\n"
     ]
    },
    {
     "name": "stderr",
     "output_type": "stream",
     "text": [
      "train... loss:1.0285961031913757:   2%|█▏                                                                         | 77/5000 [07:54<8:07:27,  5.94s/it]"
     ]
    },
    {
     "name": "stdout",
     "output_type": "stream",
     "text": [
      "Test update: epoch: 76 |accuracy: 0.7665578722953796 | f1: 0.834900975227356 | auc: 0.8366557955741882 | treshold: 0.5\n"
     ]
    },
    {
     "name": "stderr",
     "output_type": "stream",
     "text": [
      "train... loss:1.024182915687561:   2%|█▏                                                                          | 78/5000 [07:59<8:04:54,  5.91s/it]"
     ]
    },
    {
     "name": "stdout",
     "output_type": "stream",
     "text": [
      "Test update: epoch: 77 |accuracy: 0.7681295871734619 | f1: 0.835706353187561 | auc: 0.8385857343673706 | treshold: 0.5\n"
     ]
    },
    {
     "name": "stderr",
     "output_type": "stream",
     "text": [
      "train... loss:1.020107626914978:   2%|█▏                                                                          | 79/5000 [08:05<8:00:25,  5.86s/it]"
     ]
    },
    {
     "name": "stdout",
     "output_type": "stream",
     "text": [
      "Test update: epoch: 78 |accuracy: 0.7692902684211731 | f1: 0.8362931609153748 | auc: 0.8404476642608643 | treshold: 0.5\n"
     ]
    },
    {
     "name": "stderr",
     "output_type": "stream",
     "text": [
      "train... loss:1.016474425792694:   2%|█▏                                                                          | 80/5000 [08:11<8:00:53,  5.86s/it]"
     ]
    },
    {
     "name": "stdout",
     "output_type": "stream",
     "text": [
      "Test update: epoch: 79 |accuracy: 0.7701607942581177 | f1: 0.8375074863433838 | auc: 0.8422386646270752 | treshold: 0.49\n"
     ]
    },
    {
     "name": "stderr",
     "output_type": "stream",
     "text": [
      "train... loss:1.0121545195579529:   2%|█▏                                                                         | 81/5000 [08:17<8:01:53,  5.88s/it]"
     ]
    },
    {
     "name": "stdout",
     "output_type": "stream",
     "text": [
      "Test update: epoch: 80 |accuracy: 0.7714182138442993 | f1: 0.8381307721138 | auc: 0.8439698219299316 | treshold: 0.49\n"
     ]
    },
    {
     "name": "stderr",
     "output_type": "stream",
     "text": [
      "train... loss:1.0082378387451172:   2%|█▏                                                                         | 82/5000 [08:23<8:01:59,  5.88s/it]"
     ]
    },
    {
     "name": "stdout",
     "output_type": "stream",
     "text": [
      "Test update: epoch: 81 |accuracy: 0.7728690505027771 | f1: 0.8388657569885254 | auc: 0.8456471562385559 | treshold: 0.49\n"
     ]
    },
    {
     "name": "stderr",
     "output_type": "stream",
     "text": [
      "train... loss:1.0046886205673218:   2%|█▏                                                                         | 83/5000 [08:29<8:03:07,  5.90s/it]"
     ]
    },
    {
     "name": "stdout",
     "output_type": "stream",
     "text": [
      "Test update: epoch: 82 |accuracy: 0.7756257057189941 | f1: 0.8398045897483826 | auc: 0.8472690582275391 | treshold: 0.5\n"
     ]
    },
    {
     "name": "stderr",
     "output_type": "stream",
     "text": [
      "train... loss:1.0004805326461792:   2%|█▎                                                                         | 84/5000 [08:35<8:03:19,  5.90s/it]"
     ]
    },
    {
     "name": "stdout",
     "output_type": "stream",
     "text": [
      "Test update: epoch: 83 |accuracy: 0.775456428527832 | f1: 0.8402546048164368 | auc: 0.8488569259643555 | treshold: 0.49\n"
     ]
    },
    {
     "name": "stderr",
     "output_type": "stream",
     "text": [
      "train... loss:0.9968797266483307:   2%|█▎                                                                         | 85/5000 [08:41<8:02:05,  5.89s/it]"
     ]
    },
    {
     "name": "stdout",
     "output_type": "stream",
     "text": [
      "Test update: epoch: 84 |accuracy: 0.776858925819397 | f1: 0.8410335779190063 | auc: 0.8503912687301636 | treshold: 0.49\n"
     ]
    },
    {
     "name": "stderr",
     "output_type": "stream",
     "text": [
      "train... loss:0.9929681718349457:   2%|█▎                                                                         | 86/5000 [08:46<8:01:34,  5.88s/it]"
     ]
    },
    {
     "name": "stdout",
     "output_type": "stream",
     "text": [
      "Test update: epoch: 85 |accuracy: 0.7780921459197998 | f1: 0.8416967391967773 | auc: 0.851888120174408 | treshold: 0.49\n"
     ]
    },
    {
     "name": "stderr",
     "output_type": "stream",
     "text": [
      "train... loss:0.9893913567066193:   2%|█▎                                                                         | 87/5000 [08:52<7:58:39,  5.85s/it]"
     ]
    },
    {
     "name": "stdout",
     "output_type": "stream",
     "text": [
      "Test update: epoch: 86 |accuracy: 0.7794221043586731 | f1: 0.8425068855285645 | auc: 0.8533484935760498 | treshold: 0.49\n"
     ]
    },
    {
     "name": "stderr",
     "output_type": "stream",
     "text": [
      "train... loss:0.9853789806365967:   2%|█▎                                                                         | 88/5000 [08:58<8:03:06,  5.90s/it]"
     ]
    },
    {
     "name": "stdout",
     "output_type": "stream",
     "text": [
      "Test update: epoch: 87 |accuracy: 0.7867730855941772 | f1: 0.845069944858551 | auc: 0.8547722101211548 | treshold: 0.52\n"
     ]
    },
    {
     "name": "stderr",
     "output_type": "stream",
     "text": [
      "train... loss:0.9822416305541992:   2%|█▎                                                                         | 89/5000 [09:04<8:10:17,  5.99s/it]"
     ]
    },
    {
     "name": "stdout",
     "output_type": "stream",
     "text": [
      "Test update: epoch: 88 |accuracy: 0.7874259352684021 | f1: 0.8454710245132446 | auc: 0.856177568435669 | treshold: 0.52\n"
     ]
    },
    {
     "name": "stderr",
     "output_type": "stream",
     "text": [
      "train... loss:0.9784934520721436:   2%|█▎                                                                         | 90/5000 [09:10<8:09:13,  5.98s/it]"
     ]
    },
    {
     "name": "stdout",
     "output_type": "stream",
     "text": [
      "Test update: epoch: 89 |accuracy: 0.7880304455757141 | f1: 0.8466141819953918 | auc: 0.8575526475906372 | treshold: 0.51\n"
     ]
    },
    {
     "name": "stderr",
     "output_type": "stream",
     "text": [
      "train... loss:0.9755518436431885:   2%|█▎                                                                         | 91/5000 [09:16<8:07:15,  5.96s/it]"
     ]
    },
    {
     "name": "stdout",
     "output_type": "stream",
     "text": [
      "Test update: epoch: 90 |accuracy: 0.7893120646476746 | f1: 0.8474588394165039 | auc: 0.8589261174201965 | treshold: 0.51\n"
     ]
    },
    {
     "name": "stderr",
     "output_type": "stream",
     "text": [
      "train... loss:0.9717137813568115:   2%|█▍                                                                         | 92/5000 [09:22<8:03:25,  5.91s/it]"
     ]
    },
    {
     "name": "stdout",
     "output_type": "stream",
     "text": [
      "Test update: epoch: 91 |accuracy: 0.7885382771492004 | f1: 0.8476666808128357 | auc: 0.8602889776229858 | treshold: 0.5\n"
     ]
    },
    {
     "name": "stderr",
     "output_type": "stream",
     "text": [
      "train... loss:0.9685295820236206:   2%|█▍                                                                         | 93/5000 [09:28<8:04:19,  5.92s/it]"
     ]
    },
    {
     "name": "stdout",
     "output_type": "stream",
     "text": [
      "Test update: epoch: 92 |accuracy: 0.7899649143218994 | f1: 0.8486073613166809 | auc: 0.8616490364074707 | treshold: 0.5\n"
     ]
    },
    {
     "name": "stderr",
     "output_type": "stream",
     "text": [
      "train... loss:0.9651101529598236:   2%|█▍                                                                         | 94/5000 [09:34<8:03:13,  5.91s/it]"
     ]
    },
    {
     "name": "stdout",
     "output_type": "stream",
     "text": [
      "Test update: epoch: 93 |accuracy: 0.7905936241149902 | f1: 0.8490815758705139 | auc: 0.8629976511001587 | treshold: 0.5\n"
     ]
    },
    {
     "name": "stderr",
     "output_type": "stream",
     "text": [
      "train... loss:0.9619016647338867:   2%|█▍                                                                         | 95/5000 [09:40<8:05:29,  5.94s/it]"
     ]
    },
    {
     "name": "stdout",
     "output_type": "stream",
     "text": [
      "Test update: epoch: 94 |accuracy: 0.7931810021400452 | f1: 0.8501445651054382 | auc: 0.8643491268157959 | treshold: 0.51\n"
     ]
    },
    {
     "name": "stderr",
     "output_type": "stream",
     "text": [
      "train... loss:0.9590462446212769:   2%|█▍                                                                         | 96/5000 [09:46<8:07:23,  5.96s/it]"
     ]
    },
    {
     "name": "stdout",
     "output_type": "stream",
     "text": [
      "Test update: epoch: 95 |accuracy: 0.7955507040023804 | f1: 0.8510525822639465 | auc: 0.8657028675079346 | treshold: 0.52\n"
     ]
    },
    {
     "name": "stderr",
     "output_type": "stream",
     "text": [
      "train... loss:0.9554763436317444:   2%|█▍                                                                         | 97/5000 [09:52<8:03:54,  5.92s/it]"
     ]
    },
    {
     "name": "stdout",
     "output_type": "stream",
     "text": [
      "Test update: epoch: 96 |accuracy: 0.7966147065162659 | f1: 0.8518015742301941 | auc: 0.8670664429664612 | treshold: 0.52\n"
     ]
    },
    {
     "name": "stderr",
     "output_type": "stream",
     "text": [
      "train... loss:0.9525403380393982:   2%|█▍                                                                         | 98/5000 [09:58<8:00:24,  5.88s/it]"
     ]
    },
    {
     "name": "stdout",
     "output_type": "stream",
     "text": [
      "Test update: epoch: 97 |accuracy: 0.7974610328674316 | f1: 0.8524261116981506 | auc: 0.8684322834014893 | treshold: 0.52\n"
     ]
    },
    {
     "name": "stderr",
     "output_type": "stream",
     "text": [
      "train... loss:0.9496044218540192:   2%|█▍                                                                         | 99/5000 [10:04<8:03:36,  5.92s/it]"
     ]
    },
    {
     "name": "stdout",
     "output_type": "stream",
     "text": [
      "Test update: epoch: 98 |accuracy: 0.7987183928489685 | f1: 0.8534713387489319 | auc: 0.8697916865348816 | treshold: 0.52\n"
     ]
    },
    {
     "name": "stderr",
     "output_type": "stream",
     "text": [
      "train... loss:0.9463350772857666:   2%|█▍                                                                        | 100/5000 [10:10<8:06:48,  5.96s/it]"
     ]
    },
    {
     "name": "stdout",
     "output_type": "stream",
     "text": [
      "Test update: epoch: 99 |accuracy: 0.8009672164916992 | f1: 0.8542901873588562 | auc: 0.8711555004119873 | treshold: 0.53\n"
     ]
    },
    {
     "name": "stderr",
     "output_type": "stream",
     "text": [
      "train... loss:0.9437680840492249:   2%|█▍                                                                        | 101/5000 [10:15<8:03:59,  5.93s/it]"
     ]
    },
    {
     "name": "stdout",
     "output_type": "stream",
     "text": [
      "Test update: epoch: 100 |accuracy: 0.8023213744163513 | f1: 0.8552457094192505 | auc: 0.8724992275238037 | treshold: 0.53\n"
     ]
    },
    {
     "name": "stderr",
     "output_type": "stream",
     "text": [
      "train... loss:0.9410844445228577:   2%|█▌                                                                        | 102/5000 [10:21<8:02:11,  5.91s/it]"
     ]
    },
    {
     "name": "stdout",
     "output_type": "stream",
     "text": [
      "Test update: epoch: 101 |accuracy: 0.8028291463851929 | f1: 0.8556661009788513 | auc: 0.8738404512405396 | treshold: 0.53\n"
     ]
    },
    {
     "name": "stderr",
     "output_type": "stream",
     "text": [
      "train... loss:0.9377409815788269:   2%|█▌                                                                        | 103/5000 [10:27<8:00:52,  5.89s/it]"
     ]
    },
    {
     "name": "stdout",
     "output_type": "stream",
     "text": [
      "Test update: epoch: 102 |accuracy: 0.8043525815010071 | f1: 0.8561369776725769 | auc: 0.8751505017280579 | treshold: 0.54\n"
     ]
    },
    {
     "name": "stderr",
     "output_type": "stream",
     "text": [
      "train... loss:0.9356198012828827:   2%|█▌                                                                        | 104/5000 [10:33<8:00:13,  5.89s/it]"
     ]
    },
    {
     "name": "stdout",
     "output_type": "stream",
     "text": [
      "Test update: epoch: 103 |accuracy: 0.8051263689994812 | f1: 0.8567059636116028 | auc: 0.8764379024505615 | treshold: 0.54\n"
     ]
    },
    {
     "name": "stderr",
     "output_type": "stream",
     "text": [
      "train... loss:0.9330798089504242:   2%|█▌                                                                        | 105/5000 [10:39<7:58:24,  5.86s/it]"
     ]
    },
    {
     "name": "stdout",
     "output_type": "stream",
     "text": [
      "Test update: epoch: 104 |accuracy: 0.8072300553321838 | f1: 0.8575817942619324 | auc: 0.8776953220367432 | treshold: 0.55\n"
     ]
    },
    {
     "name": "stderr",
     "output_type": "stream",
     "text": [
      "train... loss:0.9302859008312225:   2%|█▌                                                                        | 106/5000 [10:45<8:00:09,  5.89s/it]"
     ]
    },
    {
     "name": "stdout",
     "output_type": "stream",
     "text": [
      "Test update: epoch: 105 |accuracy: 0.8057066798210144 | f1: 0.8583167195320129 | auc: 0.8789158463478088 | treshold: 0.52\n"
     ]
    },
    {
     "name": "stderr",
     "output_type": "stream",
     "text": [
      "train... loss:0.9280653595924377:   2%|█▌                                                                        | 107/5000 [10:51<7:58:44,  5.87s/it]"
     ]
    },
    {
     "name": "stdout",
     "output_type": "stream",
     "text": [
      "Test update: epoch: 106 |accuracy: 0.8079313039779663 | f1: 0.8581075072288513 | auc: 0.8800885677337646 | treshold: 0.55\n"
     ]
    },
    {
     "name": "stderr",
     "output_type": "stream",
     "text": [
      "train... loss:0.9261260330677032:   2%|█▌                                                                        | 108/5000 [10:57<7:58:11,  5.86s/it]"
     ]
    },
    {
     "name": "stdout",
     "output_type": "stream",
     "text": [
      "Test update: epoch: 107 |accuracy: 0.8096965551376343 | f1: 0.8586311936378479 | auc: 0.8812187314033508 | treshold: 0.56\n"
     ]
    },
    {
     "name": "stderr",
     "output_type": "stream",
     "text": [
      "train... loss:0.9232756793498993:   2%|█▌                                                                        | 109/5000 [11:02<8:00:12,  5.89s/it]"
     ]
    },
    {
     "name": "stdout",
     "output_type": "stream",
     "text": [
      "Test update: epoch: 108 |accuracy: 0.8094305396080017 | f1: 0.8590589761734009 | auc: 0.8823009133338928 | treshold: 0.55\n"
     ]
    },
    {
     "name": "stderr",
     "output_type": "stream",
     "text": [
      "train... loss:0.9216078221797943:   2%|█▋                                                                        | 110/5000 [11:08<7:59:53,  5.89s/it]"
     ]
    },
    {
     "name": "stdout",
     "output_type": "stream",
     "text": [
      "Test update: epoch: 109 |accuracy: 0.8102285265922546 | f1: 0.8596265316009521 | auc: 0.8833432793617249 | treshold: 0.55\n"
     ]
    },
    {
     "name": "stderr",
     "output_type": "stream",
     "text": [
      "train... loss:0.9190386831760406:   2%|█▋                                                                        | 111/5000 [11:14<7:59:30,  5.88s/it]"
     ]
    },
    {
     "name": "stdout",
     "output_type": "stream",
     "text": [
      "Test update: epoch: 110 |accuracy: 0.8152339458465576 | f1: 0.8611055612564087 | auc: 0.8843325972557068 | treshold: 0.5800000000000001\n"
     ]
    },
    {
     "name": "stderr",
     "output_type": "stream",
     "text": [
      "train... loss:0.9165873527526855:   2%|█▋                                                                        | 112/5000 [11:20<8:02:19,  5.92s/it]"
     ]
    },
    {
     "name": "stdout",
     "output_type": "stream",
     "text": [
      "Test update: epoch: 111 |accuracy: 0.8156933784484863 | f1: 0.8613778352737427 | auc: 0.8852941989898682 | treshold: 0.5800000000000001\n"
     ]
    },
    {
     "name": "stderr",
     "output_type": "stream",
     "text": [
      "train... loss:0.9142250120639801:   2%|█▋                                                                        | 113/5000 [11:26<8:02:52,  5.93s/it]"
     ]
    },
    {
     "name": "stdout",
     "output_type": "stream",
     "text": [
      "Test update: epoch: 112 |accuracy: 0.8164671659469604 | f1: 0.8618945479393005 | auc: 0.8862166404724121 | treshold: 0.5800000000000001\n"
     ]
    },
    {
     "name": "stderr",
     "output_type": "stream",
     "text": [
      "train... loss:0.9121707081794739:   2%|█▋                                                                        | 114/5000 [11:32<8:00:17,  5.90s/it]"
     ]
    },
    {
     "name": "stdout",
     "output_type": "stream",
     "text": [
      "Test update: epoch: 113 |accuracy: 0.8175069689750671 | f1: 0.8626994490623474 | auc: 0.8870866298675537 | treshold: 0.5800000000000001\n"
     ]
    },
    {
     "name": "stderr",
     "output_type": "stream",
     "text": [
      "train... loss:0.9101996421813965:   2%|█▋                                                                        | 115/5000 [11:38<8:09:59,  6.02s/it]"
     ]
    },
    {
     "name": "stdout",
     "output_type": "stream",
     "text": [
      "Test update: epoch: 114 |accuracy: 0.818135678768158 | f1: 0.8631674647331238 | auc: 0.8879218697547913 | treshold: 0.5800000000000001\n"
     ]
    },
    {
     "name": "stderr",
     "output_type": "stream",
     "text": [
      "train... loss:0.9080455005168915:   2%|█▋                                                                        | 116/5000 [11:44<8:03:33,  5.94s/it]"
     ]
    },
    {
     "name": "stdout",
     "output_type": "stream",
     "text": [
      "Test update: epoch: 115 |accuracy: 0.8161044716835022 | f1: 0.8628617525100708 | auc: 0.8887129426002502 | treshold: 0.56\n"
     ]
    },
    {
     "name": "stderr",
     "output_type": "stream",
     "text": [
      "train... loss:0.9057750403881073:   2%|█▋                                                                        | 117/5000 [11:50<8:00:47,  5.91s/it]"
     ]
    },
    {
     "name": "stdout",
     "output_type": "stream",
     "text": [
      "Test update: epoch: 116 |accuracy: 0.8166606426239014 | f1: 0.8632592558860779 | auc: 0.889453649520874 | treshold: 0.56\n"
     ]
    },
    {
     "name": "stderr",
     "output_type": "stream",
     "text": [
      "train... loss:0.9042413234710693:   2%|█▋                                                                        | 118/5000 [11:56<8:03:37,  5.94s/it]"
     ]
    },
    {
     "name": "stdout",
     "output_type": "stream",
     "text": [
      "Test update: epoch: 117 |accuracy: 0.8172651529312134 | f1: 0.8642219305038452 | auc: 0.8901286721229553 | treshold: 0.55\n"
     ]
    },
    {
     "name": "stderr",
     "output_type": "stream",
     "text": [
      "train... loss:0.902145117521286:   2%|█▊                                                                         | 119/5000 [12:02<8:02:13,  5.93s/it]"
     ]
    },
    {
     "name": "stdout",
     "output_type": "stream",
     "text": [
      "Test update: epoch: 118 |accuracy: 0.8182323575019836 | f1: 0.864843487739563 | auc: 0.8907677531242371 | treshold: 0.55\n"
     ]
    },
    {
     "name": "stderr",
     "output_type": "stream",
     "text": [
      "train... loss:0.9010934829711914:   2%|█▊                                                                        | 120/5000 [12:08<8:01:33,  5.92s/it]"
     ]
    },
    {
     "name": "stdout",
     "output_type": "stream",
     "text": [
      "Test update: epoch: 119 |accuracy: 0.8183048963546753 | f1: 0.8648707270622253 | auc: 0.8913480043411255 | treshold: 0.55\n"
     ]
    },
    {
     "name": "stderr",
     "output_type": "stream",
     "text": [
      "train... loss:0.8987990021705627:   2%|█▊                                                                        | 121/5000 [12:14<8:02:02,  5.93s/it]"
     ]
    },
    {
     "name": "stdout",
     "output_type": "stream",
     "text": [
      "Test update: epoch: 120 |accuracy: 0.819949209690094 | f1: 0.8654207587242126 | auc: 0.8918807506561279 | treshold: 0.56\n"
     ]
    },
    {
     "name": "stderr",
     "output_type": "stream",
     "text": [
      "train... loss:0.8968531489372253:   2%|█▊                                                                        | 122/5000 [12:20<8:02:34,  5.94s/it]"
     ]
    },
    {
     "name": "stdout",
     "output_type": "stream",
     "text": [
      "Test update: epoch: 121 |accuracy: 0.8200701475143433 | f1: 0.8654308915138245 | auc: 0.8923676013946533 | treshold: 0.56\n"
     ]
    },
    {
     "name": "stderr",
     "output_type": "stream",
     "text": [
      "train... loss:0.8951445519924164:   2%|█▊                                                                        | 123/5000 [12:26<8:02:20,  5.93s/it]"
     ]
    },
    {
     "name": "stdout",
     "output_type": "stream",
     "text": [
      "Test update: epoch: 122 |accuracy: 0.820529580116272 | f1: 0.8657137751579285 | auc: 0.8928276300430298 | treshold: 0.56\n"
     ]
    },
    {
     "name": "stderr",
     "output_type": "stream",
     "text": [
      "train... loss:0.8940423429012299:   2%|█▊                                                                        | 124/5000 [12:32<8:05:52,  5.98s/it]"
     ]
    },
    {
     "name": "stdout",
     "output_type": "stream",
     "text": [
      "Test update: epoch: 123 |accuracy: 0.8214484453201294 | f1: 0.8663045167922974 | auc: 0.893252432346344 | treshold: 0.56\n"
     ]
    },
    {
     "name": "stderr",
     "output_type": "stream",
     "text": [
      "train... loss:0.8924883306026459:   2%|█▊                                                                        | 125/5000 [12:37<8:01:47,  5.93s/it]"
     ]
    },
    {
     "name": "stdout",
     "output_type": "stream",
     "text": [
      "Test update: epoch: 124 |accuracy: 0.8219804167747498 | f1: 0.8666690587997437 | auc: 0.893669068813324 | treshold: 0.56\n"
     ]
    },
    {
     "name": "stderr",
     "output_type": "stream",
     "text": [
      "train... loss:0.8913210332393646:   3%|█▊                                                                        | 126/5000 [12:43<8:00:31,  5.92s/it]"
     ]
    },
    {
     "name": "stdout",
     "output_type": "stream",
     "text": [
      "Test update: epoch: 125 |accuracy: 0.822343111038208 | f1: 0.8669045567512512 | auc: 0.8940694332122803 | treshold: 0.56\n"
     ]
    },
    {
     "name": "stderr",
     "output_type": "stream",
     "text": [
      "train... loss:0.8895662724971771:   3%|█▉                                                                        | 127/5000 [12:49<7:59:21,  5.90s/it]"
     ]
    },
    {
     "name": "stdout",
     "output_type": "stream",
     "text": [
      "Test update: epoch: 126 |accuracy: 0.8200459480285645 | f1: 0.8667454719543457 | auc: 0.8944815993309021 | treshold: 0.53\n"
     ]
    },
    {
     "name": "stderr",
     "output_type": "stream",
     "text": [
      "train... loss:0.8883886635303497:   3%|█▉                                                                        | 128/5000 [12:55<7:59:08,  5.90s/it]"
     ]
    },
    {
     "name": "stdout",
     "output_type": "stream",
     "text": [
      "Test update: epoch: 127 |accuracy: 0.8224640488624573 | f1: 0.8674729466438293 | auc: 0.8949117064476013 | treshold: 0.55\n"
     ]
    },
    {
     "name": "stderr",
     "output_type": "stream",
     "text": [
      "train... loss:0.8875288665294647:   3%|█▉                                                                        | 129/5000 [13:01<7:59:45,  5.91s/it]"
     ]
    },
    {
     "name": "stdout",
     "output_type": "stream",
     "text": [
      "Test update: epoch: 128 |accuracy: 0.8231652975082397 | f1: 0.8678891062736511 | auc: 0.8953561782836914 | treshold: 0.55\n"
     ]
    },
    {
     "name": "stderr",
     "output_type": "stream",
     "text": [
      "train... loss:0.8860301673412323:   3%|█▉                                                                        | 130/5000 [13:07<7:58:22,  5.89s/it]"
     ]
    },
    {
     "name": "stdout",
     "output_type": "stream",
     "text": [
      "Test update: epoch: 129 |accuracy: 0.8233345150947571 | f1: 0.8679224848747253 | auc: 0.8958190679550171 | treshold: 0.55\n"
     ]
    },
    {
     "name": "stderr",
     "output_type": "stream",
     "text": [
      "train... loss:0.8845834136009216:   3%|█▉                                                                        | 131/5000 [13:13<8:02:40,  5.95s/it]"
     ]
    },
    {
     "name": "stdout",
     "output_type": "stream",
     "text": [
      "Test update: epoch: 130 |accuracy: 0.8236247301101685 | f1: 0.868590772151947 | auc: 0.896320641040802 | treshold: 0.54\n"
     ]
    },
    {
     "name": "stderr",
     "output_type": "stream",
     "text": [
      "train... loss:0.8835174739360809:   3%|█▉                                                                        | 132/5000 [13:19<7:59:06,  5.91s/it]"
     ]
    },
    {
     "name": "stdout",
     "output_type": "stream",
     "text": [
      "Test update: epoch: 131 |accuracy: 0.8238423466682434 | f1: 0.868726909160614 | auc: 0.896837055683136 | treshold: 0.54\n"
     ]
    },
    {
     "name": "stderr",
     "output_type": "stream",
     "text": [
      "train... loss:0.8819449841976166:   3%|█▉                                                                        | 133/5000 [13:25<7:57:08,  5.88s/it]"
     ]
    },
    {
     "name": "stdout",
     "output_type": "stream",
     "text": [
      "Test update: epoch: 132 |accuracy: 0.8235037922859192 | f1: 0.8688621520996094 | auc: 0.8973746299743652 | treshold: 0.53\n"
     ]
    },
    {
     "name": "stderr",
     "output_type": "stream",
     "text": [
      "train... loss:0.8811759352684021:   3%|█▉                                                                        | 134/5000 [13:30<7:56:15,  5.87s/it]"
     ]
    },
    {
     "name": "stdout",
     "output_type": "stream",
     "text": [
      "Test update: epoch: 133 |accuracy: 0.8231410980224609 | f1: 0.8689998388290405 | auc: 0.8979320526123047 | treshold: 0.52\n"
     ]
    },
    {
     "name": "stderr",
     "output_type": "stream",
     "text": [
      "train... loss:0.8794473707675934:   3%|█▉                                                                        | 135/5000 [13:36<7:53:40,  5.84s/it]"
     ]
    },
    {
     "name": "stdout",
     "output_type": "stream",
     "text": [
      "Test update: epoch: 134 |accuracy: 0.8237940073013306 | f1: 0.8694015741348267 | auc: 0.898482084274292 | treshold: 0.52\n"
     ]
    },
    {
     "name": "stderr",
     "output_type": "stream",
     "text": [
      "train... loss:0.878302663564682:   3%|██                                                                         | 136/5000 [13:42<7:56:51,  5.88s/it]"
     ]
    },
    {
     "name": "stdout",
     "output_type": "stream",
     "text": [
      "Test update: epoch: 135 |accuracy: 0.8236488699913025 | f1: 0.8696677684783936 | auc: 0.8990249633789062 | treshold: 0.51\n"
     ]
    },
    {
     "name": "stderr",
     "output_type": "stream",
     "text": [
      "train... loss:0.8771540820598602:   3%|██                                                                        | 137/5000 [13:48<7:54:43,  5.86s/it]"
     ]
    },
    {
     "name": "stdout",
     "output_type": "stream",
     "text": [
      "Test update: epoch: 136 |accuracy: 0.8234554529190063 | f1: 0.8698272109031677 | auc: 0.8995534181594849 | treshold: 0.5\n"
     ]
    },
    {
     "name": "stderr",
     "output_type": "stream",
     "text": [
      "train... loss:0.8762390315532684:   3%|██                                                                        | 138/5000 [13:54<7:55:54,  5.87s/it]"
     ]
    },
    {
     "name": "stdout",
     "output_type": "stream",
     "text": [
      "Test update: epoch: 137 |accuracy: 0.8238423466682434 | f1: 0.870029091835022 | auc: 0.9000667333602905 | treshold: 0.5\n"
     ]
    },
    {
     "name": "stderr",
     "output_type": "stream",
     "text": [
      "train... loss:0.8754050731658936:   3%|██                                                                        | 139/5000 [14:00<7:56:39,  5.88s/it]"
     ]
    },
    {
     "name": "stdout",
     "output_type": "stream",
     "text": [
      "Test update: epoch: 138 |accuracy: 0.8244951963424683 | f1: 0.8699749112129211 | auc: 0.9005377292633057 | treshold: 0.51\n"
     ]
    },
    {
     "name": "stderr",
     "output_type": "stream",
     "text": [
      "train... loss:0.8744967579841614:   3%|██                                                                        | 140/5000 [14:06<7:57:39,  5.90s/it]"
     ]
    },
    {
     "name": "stdout",
     "output_type": "stream",
     "text": [
      "Test update: epoch: 139 |accuracy: 0.8247854113578796 | f1: 0.8701340556144714 | auc: 0.9009808301925659 | treshold: 0.51\n"
     ]
    },
    {
     "name": "stderr",
     "output_type": "stream",
     "text": [
      "train... loss:0.8740688264369965:   3%|██                                                                        | 141/5000 [14:12<8:03:52,  5.97s/it]"
     ]
    },
    {
     "name": "stdout",
     "output_type": "stream",
     "text": [
      "Test update: epoch: 140 |accuracy: 0.8269132971763611 | f1: 0.8707055449485779 | auc: 0.9013924598693848 | treshold: 0.53\n"
     ]
    },
    {
     "name": "stderr",
     "output_type": "stream",
     "text": [
      "train... loss:0.8732632994651794:   3%|██                                                                        | 142/5000 [14:18<8:03:55,  5.98s/it]"
     ]
    },
    {
     "name": "stdout",
     "output_type": "stream",
     "text": [
      "Test update: epoch: 141 |accuracy: 0.828533411026001 | f1: 0.8712623119354248 | auc: 0.9017754793167114 | treshold: 0.54\n"
     ]
    },
    {
     "name": "stderr",
     "output_type": "stream",
     "text": [
      "train... loss:0.8729895055294037:   3%|██                                                                        | 143/5000 [14:24<7:59:07,  5.92s/it]"
     ]
    },
    {
     "name": "stdout",
     "output_type": "stream",
     "text": [
      "Test update: epoch: 142 |accuracy: 0.828315794467926 | f1: 0.8715397119522095 | auc: 0.9021104574203491 | treshold: 0.53\n"
     ]
    },
    {
     "name": "stderr",
     "output_type": "stream",
     "text": [
      "train... loss:0.8724305033683777:   3%|██▏                                                                       | 144/5000 [14:30<8:05:59,  6.00s/it]"
     ]
    },
    {
     "name": "stdout",
     "output_type": "stream",
     "text": [
      "Test update: epoch: 143 |accuracy: 0.8280981779098511 | f1: 0.8713791966438293 | auc: 0.9024356007575989 | treshold: 0.53\n"
     ]
    },
    {
     "name": "stderr",
     "output_type": "stream",
     "text": [
      "train... loss:0.8717350363731384:   3%|██▏                                                                       | 145/5000 [14:36<8:03:20,  5.97s/it]"
     ]
    },
    {
     "name": "stdout",
     "output_type": "stream",
     "text": [
      "Test update: epoch: 144 |accuracy: 0.8278563618659973 | f1: 0.8716673254966736 | auc: 0.902746319770813 | treshold: 0.52\n"
     ]
    },
    {
     "name": "stderr",
     "output_type": "stream",
     "text": [
      "train... loss:0.871841162443161:   3%|██▏                                                                        | 146/5000 [14:42<8:00:45,  5.94s/it]"
     ]
    },
    {
     "name": "stdout",
     "output_type": "stream",
     "text": [
      "Test update: epoch: 145 |accuracy: 0.828533411026001 | f1: 0.8721397519111633 | auc: 0.9030569791793823 | treshold: 0.52\n"
     ]
    },
    {
     "name": "stderr",
     "output_type": "stream",
     "text": [
      "train... loss:0.8717958033084869:   3%|██▏                                                                       | 147/5000 [14:48<8:00:26,  5.94s/it]"
     ]
    },
    {
     "name": "stdout",
     "output_type": "stream",
     "text": [
      "Test update: epoch: 146 |accuracy: 0.8286784887313843 | f1: 0.872294008731842 | auc: 0.9033708572387695 | treshold: 0.52\n"
     ]
    },
    {
     "name": "stderr",
     "output_type": "stream",
     "text": [
      "train... loss:0.8714878261089325:   3%|██▏                                                                       | 148/5000 [14:54<8:00:30,  5.94s/it]"
     ]
    },
    {
     "name": "stdout",
     "output_type": "stream",
     "text": [
      "Test update: epoch: 147 |accuracy: 0.8291379809379578 | f1: 0.8722565770149231 | auc: 0.903699517250061 | treshold: 0.53\n"
     ]
    },
    {
     "name": "stderr",
     "output_type": "stream",
     "text": [
      "train... loss:0.8711654841899872:   3%|██▏                                                                       | 149/5000 [14:59<7:59:54,  5.94s/it]"
     ]
    },
    {
     "name": "stdout",
     "output_type": "stream",
     "text": [
      "Test update: epoch: 148 |accuracy: 0.8296457529067993 | f1: 0.873074471950531 | auc: 0.9040402770042419 | treshold: 0.52\n"
     ]
    },
    {
     "name": "stderr",
     "output_type": "stream",
     "text": [
      "train... loss:0.8709362149238586:   3%|██▏                                                                       | 150/5000 [15:05<7:59:38,  5.93s/it]"
     ]
    },
    {
     "name": "stdout",
     "output_type": "stream",
     "text": [
      "Test update: epoch: 149 |accuracy: 0.8293797373771667 | f1: 0.8730432987213135 | auc: 0.9044042825698853 | treshold: 0.52\n"
     ]
    },
    {
     "name": "stderr",
     "output_type": "stream",
     "text": [
      "train... loss:0.8703093528747559:   3%|██▏                                                                       | 151/5000 [15:11<8:01:46,  5.96s/it]"
     ]
    },
    {
     "name": "stdout",
     "output_type": "stream",
     "text": [
      "Test update: epoch: 150 |accuracy: 0.8301777243614197 | f1: 0.873297393321991 | auc: 0.9047971963882446 | treshold: 0.53\n"
     ]
    },
    {
     "name": "stderr",
     "output_type": "stream",
     "text": [
      "train... loss:0.8702204525470734:   3%|██▏                                                                       | 152/5000 [15:17<8:00:23,  5.95s/it]"
     ]
    },
    {
     "name": "stdout",
     "output_type": "stream",
     "text": [
      "Test update: epoch: 151 |accuracy: 0.8335388898849487 | f1: 0.8737668395042419 | auc: 0.905199408531189 | treshold: 0.5800000000000001\n"
     ]
    },
    {
     "name": "stderr",
     "output_type": "stream",
     "text": [
      "train... loss:0.8693818747997284:   3%|██▎                                                                       | 153/5000 [15:23<7:57:29,  5.91s/it]"
     ]
    },
    {
     "name": "stdout",
     "output_type": "stream",
     "text": [
      "Test update: epoch: 152 |accuracy: 0.8351831436157227 | f1: 0.8745859861373901 | auc: 0.9056276082992554 | treshold: 0.59\n"
     ]
    },
    {
     "name": "stderr",
     "output_type": "stream",
     "text": [
      "train... loss:0.8688248693943024:   3%|██▎                                                                       | 154/5000 [15:29<7:59:22,  5.94s/it]"
     ]
    },
    {
     "name": "stdout",
     "output_type": "stream",
     "text": [
      "Test update: epoch: 153 |accuracy: 0.834892988204956 | f1: 0.8746005296707153 | auc: 0.9060437679290771 | treshold: 0.59\n"
     ]
    },
    {
     "name": "stderr",
     "output_type": "stream",
     "text": [
      "train... loss:0.8683347105979919:   3%|██▎                                                                       | 155/5000 [15:35<8:00:34,  5.95s/it]"
     ]
    },
    {
     "name": "stdout",
     "output_type": "stream",
     "text": [
      "Test update: epoch: 154 |accuracy: 0.8339983224868774 | f1: 0.8745912313461304 | auc: 0.9064544439315796 | treshold: 0.5800000000000001\n"
     ]
    },
    {
     "name": "stderr",
     "output_type": "stream",
     "text": [
      "train... loss:0.867715984582901:   3%|██▎                                                                        | 156/5000 [15:41<7:59:14,  5.94s/it]"
     ]
    },
    {
     "name": "stdout",
     "output_type": "stream",
     "text": [
      "Test update: epoch: 155 |accuracy: 0.8348204493522644 | f1: 0.8749198913574219 | auc: 0.9068395495414734 | treshold: 0.59\n"
     ]
    },
    {
     "name": "stderr",
     "output_type": "stream",
     "text": [
      "train... loss:0.8681667447090149:   3%|██▎                                                                       | 157/5000 [15:47<8:02:03,  5.97s/it]"
     ]
    },
    {
     "name": "stdout",
     "output_type": "stream",
     "text": [
      "Test update: epoch: 156 |accuracy: 0.835473358631134 | f1: 0.8751101493835449 | auc: 0.9071787595748901 | treshold: 0.6\n"
     ]
    },
    {
     "name": "stderr",
     "output_type": "stream",
     "text": [
      "train... loss:0.8676212430000305:   3%|██▎                                                                       | 158/5000 [15:53<8:01:46,  5.97s/it]"
     ]
    },
    {
     "name": "stdout",
     "output_type": "stream",
     "text": [
      "Test update: epoch: 157 |accuracy: 0.834892988204956 | f1: 0.8749404549598694 | auc: 0.9074761271476746 | treshold: 0.6\n"
     ]
    },
    {
     "name": "stderr",
     "output_type": "stream",
     "text": [
      "train... loss:0.867544561624527:   3%|██▍                                                                        | 159/5000 [15:59<8:00:59,  5.96s/it]"
     ]
    },
    {
     "name": "stdout",
     "output_type": "stream",
     "text": [
      "Test update: epoch: 158 |accuracy: 0.8364405632019043 | f1: 0.8751845359802246 | auc: 0.9077092409133911 | treshold: 0.62\n"
     ]
    },
    {
     "name": "stderr",
     "output_type": "stream",
     "text": [
      "train... loss:0.8676780164241791:   3%|██▎                                                                       | 160/5000 [16:05<8:10:15,  6.08s/it]"
     ]
    },
    {
     "name": "stdout",
     "output_type": "stream",
     "text": [
      "Test update: epoch: 159 |accuracy: 0.8360536694526672 | f1: 0.8750783205032349 | auc: 0.907881498336792 | treshold: 0.62\n"
     ]
    },
    {
     "name": "stderr",
     "output_type": "stream",
     "text": [
      "train... loss:0.8672791421413422:   3%|██▍                                                                       | 161/5000 [16:11<8:04:45,  6.01s/it]"
     ]
    },
    {
     "name": "stdout",
     "output_type": "stream",
     "text": [
      "Test update: epoch: 160 |accuracy: 0.8358602523803711 | f1: 0.8750460147857666 | auc: 0.9079950451850891 | treshold: 0.62\n"
     ]
    },
    {
     "name": "stderr",
     "output_type": "stream",
     "text": [
      "train... loss:0.8729986250400543:   4%|██▊                                                                       | 186/5000 [18:26<7:22:07,  5.51s/it]"
     ]
    },
    {
     "name": "stdout",
     "output_type": "stream",
     "text": [
      "Test update: epoch: 185 |accuracy: 0.8274694681167603 | f1: 0.8730087876319885 | auc: 0.9074198603630066 | treshold: 0.41000000000000003\n"
     ]
    },
    {
     "name": "stderr",
     "output_type": "stream",
     "text": [
      "train... loss:0.8723090291023254:   4%|██▊                                                                       | 187/5000 [18:32<7:27:35,  5.58s/it]"
     ]
    },
    {
     "name": "stdout",
     "output_type": "stream",
     "text": [
      "Test update: epoch: 186 |accuracy: 0.8281949162483215 | f1: 0.8731951713562012 | auc: 0.9074865579605103 | treshold: 0.42000000000000004\n"
     ]
    },
    {
     "name": "stderr",
     "output_type": "stream",
     "text": [
      "train... loss:0.8718642890453339:   4%|██▊                                                                       | 188/5000 [18:38<7:35:53,  5.68s/it]"
     ]
    },
    {
     "name": "stdout",
     "output_type": "stream",
     "text": [
      "Test update: epoch: 187 |accuracy: 0.8312416672706604 | f1: 0.8731989860534668 | auc: 0.9075263738632202 | treshold: 0.48000000000000004\n"
     ]
    },
    {
     "name": "stderr",
     "output_type": "stream",
     "text": [
      "train... loss:0.8709671199321747:   4%|██▊                                                                       | 189/5000 [18:44<7:39:46,  5.73s/it]"
     ]
    },
    {
     "name": "stdout",
     "output_type": "stream",
     "text": [
      "Test update: epoch: 188 |accuracy: 0.8313867449760437 | f1: 0.8730173110961914 | auc: 0.9075391292572021 | treshold: 0.49\n"
     ]
    },
    {
     "name": "stderr",
     "output_type": "stream",
     "text": [
      "train... loss:0.8698135614395142:   4%|██▊                                                                       | 190/5000 [18:50<7:40:48,  5.75s/it]"
     ]
    },
    {
     "name": "stdout",
     "output_type": "stream",
     "text": [
      "Test update: epoch: 189 |accuracy: 0.8308789730072021 | f1: 0.8729241490364075 | auc: 0.9075338840484619 | treshold: 0.49\n"
     ]
    },
    {
     "name": "stderr",
     "output_type": "stream",
     "text": [
      "train... loss:0.8689109086990356:   4%|██▊                                                                       | 191/5000 [18:56<7:46:42,  5.82s/it]"
     ]
    },
    {
     "name": "stdout",
     "output_type": "stream",
     "text": [
      "Test update: epoch: 190 |accuracy: 0.8301293849945068 | f1: 0.8727147579193115 | auc: 0.907500684261322 | treshold: 0.49\n"
     ]
    },
    {
     "name": "stderr",
     "output_type": "stream",
     "text": [
      "train... loss:0.8685904741287231:   4%|██▊                                                                       | 192/5000 [19:02<7:49:22,  5.86s/it]"
     ]
    },
    {
     "name": "stdout",
     "output_type": "stream",
     "text": [
      "Test update: epoch: 191 |accuracy: 0.8300084471702576 | f1: 0.8724647164344788 | auc: 0.9074409604072571 | treshold: 0.5\n"
     ]
    },
    {
     "name": "stderr",
     "output_type": "stream",
     "text": [
      "train... loss:0.8676956295967102:   4%|██▊                                                                       | 193/5000 [19:07<7:49:10,  5.86s/it]"
     ]
    },
    {
     "name": "stdout",
     "output_type": "stream",
     "text": [
      "Test update: epoch: 192 |accuracy: 0.8295974135398865 | f1: 0.8720890283584595 | auc: 0.9073638916015625 | treshold: 0.51\n"
     ]
    },
    {
     "name": "stderr",
     "output_type": "stream",
     "text": [
      "train... loss:0.8669314384460449:   4%|██▊                                                                       | 194/5000 [19:14<7:55:46,  5.94s/it]"
     ]
    },
    {
     "name": "stdout",
     "output_type": "stream",
     "text": [
      "Test update: epoch: 193 |accuracy: 0.8291863203048706 | f1: 0.8717455267906189 | auc: 0.9072731733322144 | treshold: 0.52\n"
     ]
    },
    {
     "name": "stderr",
     "output_type": "stream",
     "text": [
      "train... loss:0.86659374833107:   4%|██▉                                                                         | 195/5000 [19:19<7:51:23,  5.89s/it]"
     ]
    },
    {
     "name": "stdout",
     "output_type": "stream",
     "text": [
      "Test update: epoch: 194 |accuracy: 0.8274936676025391 | f1: 0.8710178732872009 | auc: 0.9071629047393799 | treshold: 0.52\n"
     ]
    },
    {
     "name": "stderr",
     "output_type": "stream",
     "text": [
      "train... loss:0.8675503730773926:   4%|██▉                                                                       | 196/5000 [19:25<7:50:25,  5.88s/it]"
     ]
    },
    {
     "name": "stdout",
     "output_type": "stream",
     "text": [
      "Test update: epoch: 195 |accuracy: 0.8274211287498474 | f1: 0.8709426522254944 | auc: 0.9070465564727783 | treshold: 0.53\n"
     ]
    },
    {
     "name": "stderr",
     "output_type": "stream",
     "text": [
      "train... loss:0.8684659004211426:   4%|██▉                                                                       | 198/5000 [19:37<7:45:59,  5.82s/it]"
     ]
    },
    {
     "name": "stdout",
     "output_type": "stream",
     "text": [
      "Test update: epoch: 197 |accuracy: 0.8271793127059937 | f1: 0.8698297142982483 | auc: 0.9068557024002075 | treshold: 0.5700000000000001\n"
     ]
    },
    {
     "name": "stderr",
     "output_type": "stream",
     "text": [
      "train... loss:0.870195746421814:   4%|██▉                                                                        | 199/5000 [19:42<7:46:42,  5.83s/it]"
     ]
    },
    {
     "name": "stdout",
     "output_type": "stream",
     "text": [
      "Test update: epoch: 198 |accuracy: 0.8278321623802185 | f1: 0.8694248795509338 | auc: 0.9068011045455933 | treshold: 0.6\n"
     ]
    },
    {
     "name": "stderr",
     "output_type": "stream",
     "text": [
      "train... loss:0.8717731237411499:   4%|██▉                                                                       | 200/5000 [19:48<7:50:15,  5.88s/it]"
     ]
    },
    {
     "name": "stdout",
     "output_type": "stream",
     "text": [
      "Test update: epoch: 199 |accuracy: 0.8276387453079224 | f1: 0.8691918253898621 | auc: 0.9067865610122681 | treshold: 0.61\n"
     ]
    },
    {
     "name": "stderr",
     "output_type": "stream",
     "text": [
      "train... loss:0.8731110692024231:   4%|██▉                                                                       | 201/5000 [19:54<7:53:07,  5.92s/it]"
     ]
    },
    {
     "name": "stdout",
     "output_type": "stream",
     "text": [
      "Test update: epoch: 200 |accuracy: 0.8273727297782898 | f1: 0.86898273229599 | auc: 0.9068214893341064 | treshold: 0.62\n"
     ]
    },
    {
     "name": "stderr",
     "output_type": "stream",
     "text": [
      "train... loss:0.8748563528060913:   4%|██▉                                                                       | 202/5000 [20:00<7:54:43,  5.94s/it]"
     ]
    },
    {
     "name": "stdout",
     "output_type": "stream",
     "text": [
      "Test update: epoch: 201 |accuracy: 0.8266956806182861 | f1: 0.8690169453620911 | auc: 0.9069262742996216 | treshold: 0.62\n"
     ]
    },
    {
     "name": "stderr",
     "output_type": "stream",
     "text": [
      "train... loss:0.8765404224395752:   4%|███                                                                       | 203/5000 [20:06<7:55:09,  5.94s/it]"
     ]
    },
    {
     "name": "stdout",
     "output_type": "stream",
     "text": [
      "Test update: epoch: 202 |accuracy: 0.8279047012329102 | f1: 0.8697307705879211 | auc: 0.9071065187454224 | treshold: 0.63\n"
     ]
    },
    {
     "name": "stderr",
     "output_type": "stream",
     "text": [
      "train... loss:0.8779394924640656:   4%|███                                                                       | 204/5000 [20:12<7:57:52,  5.98s/it]"
     ]
    },
    {
     "name": "stdout",
     "output_type": "stream",
     "text": [
      "Test update: epoch: 203 |accuracy: 0.8272760510444641 | f1: 0.8696366548538208 | auc: 0.9073466062545776 | treshold: 0.63\n"
     ]
    },
    {
     "name": "stderr",
     "output_type": "stream",
     "text": [
      "train... loss:0.8787708878517151:   4%|███                                                                       | 205/5000 [20:18<7:54:35,  5.94s/it]"
     ]
    },
    {
     "name": "stdout",
     "output_type": "stream",
     "text": [
      "Test update: epoch: 204 |accuracy: 0.8271551132202148 | f1: 0.8698565363883972 | auc: 0.9076381325721741 | treshold: 0.63\n"
     ]
    },
    {
     "name": "stderr",
     "output_type": "stream",
     "text": [
      "train... loss:0.8795048892498016:   4%|███                                                                       | 206/5000 [20:24<7:52:40,  5.92s/it]"
     ]
    },
    {
     "name": "stdout",
     "output_type": "stream",
     "text": [
      "Test update: epoch: 205 |accuracy: 0.8279047012329102 | f1: 0.870672881603241 | auc: 0.9079529047012329 | treshold: 0.63\n"
     ]
    },
    {
     "name": "stderr",
     "output_type": "stream",
     "text": [
      "train... loss:0.8798205852508545:   4%|███                                                                       | 207/5000 [20:30<7:52:59,  5.92s/it]"
     ]
    },
    {
     "name": "stdout",
     "output_type": "stream",
     "text": [
      "Test update: epoch: 206 |accuracy: 0.8282432556152344 | f1: 0.8710444569587708 | auc: 0.9082785844802856 | treshold: 0.63\n"
     ]
    },
    {
     "name": "stderr",
     "output_type": "stream",
     "text": [
      "train... loss:0.879400908946991:   4%|███                                                                        | 208/5000 [20:36<7:51:16,  5.90s/it]"
     ]
    },
    {
     "name": "stdout",
     "output_type": "stream",
     "text": [
      "Test update: epoch: 207 |accuracy: 0.8290170431137085 | f1: 0.8716580271720886 | auc: 0.9086017608642578 | treshold: 0.63\n"
     ]
    },
    {
     "name": "stderr",
     "output_type": "stream",
     "text": [
      "train... loss:0.8785316050052643:   4%|███                                                                       | 209/5000 [20:42<7:51:11,  5.90s/it]"
     ]
    },
    {
     "name": "stdout",
     "output_type": "stream",
     "text": [
      "Test update: epoch: 208 |accuracy: 0.8294764757156372 | f1: 0.871954083442688 | auc: 0.9089090824127197 | treshold: 0.63\n"
     ]
    },
    {
     "name": "stderr",
     "output_type": "stream",
     "text": [
      "train... loss:0.8773876428604126:   4%|███                                                                       | 210/5000 [20:48<7:56:46,  5.97s/it]"
     ]
    },
    {
     "name": "stdout",
     "output_type": "stream",
     "text": [
      "Test update: epoch: 209 |accuracy: 0.8301777243614197 | f1: 0.872362494468689 | auc: 0.9091770052909851 | treshold: 0.63\n"
     ]
    },
    {
     "name": "stderr",
     "output_type": "stream",
     "text": [
      "train... loss:0.8762154579162598:   4%|███                                                                       | 211/5000 [20:54<7:56:41,  5.97s/it]"
     ]
    },
    {
     "name": "stdout",
     "output_type": "stream",
     "text": [
      "Test update: epoch: 210 |accuracy: 0.8305646181106567 | f1: 0.8725142478942871 | auc: 0.909409761428833 | treshold: 0.63\n"
     ]
    },
    {
     "name": "stderr",
     "output_type": "stream",
     "text": [
      "train... loss:0.8746980726718903:   4%|███▏                                                                      | 212/5000 [21:00<7:57:24,  5.98s/it]"
     ]
    },
    {
     "name": "stdout",
     "output_type": "stream",
     "text": [
      "Test update: epoch: 211 |accuracy: 0.8301777243614197 | f1: 0.8725385069847107 | auc: 0.9096057415008545 | treshold: 0.62\n"
     ]
    },
    {
     "name": "stderr",
     "output_type": "stream",
     "text": [
      "train... loss:0.872318685054779:   4%|███▏                                                                       | 213/5000 [21:06<8:01:55,  6.04s/it]"
     ]
    },
    {
     "name": "stdout",
     "output_type": "stream",
     "text": [
      "Test update: epoch: 212 |accuracy: 0.8322572708129883 | f1: 0.873192548751831 | auc: 0.9097626209259033 | treshold: 0.63\n"
     ]
    },
    {
     "name": "stderr",
     "output_type": "stream",
     "text": [
      "train... loss:0.870375245809555:   4%|███▏                                                                       | 214/5000 [21:12<7:59:59,  6.02s/it]"
     ]
    },
    {
     "name": "stdout",
     "output_type": "stream",
     "text": [
      "Test update: epoch: 213 |accuracy: 0.8324265480041504 | f1: 0.8729605674743652 | auc: 0.9098681211471558 | treshold: 0.63\n"
     ]
    },
    {
     "name": "stderr",
     "output_type": "stream",
     "text": [
      "train... loss:0.8662047684192657:   5%|███▊                                                                      | 256/5000 [25:00<7:22:10,  5.59s/it]"
     ]
    },
    {
     "name": "stdout",
     "output_type": "stream",
     "text": [
      "Test update: epoch: 255 |accuracy: 0.8349655270576477 | f1: 0.873702347278595 | auc: 0.910570502281189 | treshold: 0.67\n"
     ]
    },
    {
     "name": "stderr",
     "output_type": "stream",
     "text": [
      "train... loss:0.8671196401119232:   5%|███▊                                                                      | 257/5000 [25:06<7:33:18,  5.73s/it]"
     ]
    },
    {
     "name": "stdout",
     "output_type": "stream",
     "text": [
      "Test update: epoch: 256 |accuracy: 0.8353040814399719 | f1: 0.8742870688438416 | auc: 0.9109402298927307 | treshold: 0.67\n"
     ]
    },
    {
     "name": "stderr",
     "output_type": "stream",
     "text": [
      "train... loss:0.8683983087539673:   5%|███▊                                                                      | 258/5000 [25:13<7:41:18,  5.84s/it]"
     ]
    },
    {
     "name": "stdout",
     "output_type": "stream",
     "text": [
      "Test update: epoch: 257 |accuracy: 0.8367549180984497 | f1: 0.8735365271568298 | auc: 0.9113354682922363 | treshold: 0.7000000000000001\n"
     ]
    },
    {
     "name": "stderr",
     "output_type": "stream",
     "text": [
      "train... loss:0.8684848845005035:   5%|███▊                                                                      | 259/5000 [25:19<7:44:58,  5.88s/it]"
     ]
    },
    {
     "name": "stdout",
     "output_type": "stream",
     "text": [
      "Test update: epoch: 258 |accuracy: 0.8375529050827026 | f1: 0.8742324113845825 | auc: 0.9117279052734375 | treshold: 0.7000000000000001\n"
     ]
    },
    {
     "name": "stderr",
     "output_type": "stream",
     "text": [
      "train... loss:0.8685601949691772:   5%|███▊                                                                      | 260/5000 [25:24<7:45:36,  5.89s/it]"
     ]
    },
    {
     "name": "stdout",
     "output_type": "stream",
     "text": [
      "Test update: epoch: 259 |accuracy: 0.8371902108192444 | f1: 0.8741377592086792 | auc: 0.9121043682098389 | treshold: 0.7000000000000001\n"
     ]
    },
    {
     "name": "stderr",
     "output_type": "stream",
     "text": [
      "train... loss:0.8681594729423523:   5%|███▊                                                                      | 261/5000 [25:31<7:49:59,  5.95s/it]"
     ]
    },
    {
     "name": "stdout",
     "output_type": "stream",
     "text": [
      "Test update: epoch: 260 |accuracy: 0.8381816148757935 | f1: 0.87421053647995 | auc: 0.9124388694763184 | treshold: 0.7100000000000001\n"
     ]
    },
    {
     "name": "stderr",
     "output_type": "stream",
     "text": [
      "train... loss:0.8677761256694794:   5%|███▉                                                                      | 262/5000 [25:37<7:51:37,  5.97s/it]"
     ]
    },
    {
     "name": "stdout",
     "output_type": "stream",
     "text": [
      "Test update: epoch: 261 |accuracy: 0.8383750319480896 | f1: 0.8743278384208679 | auc: 0.9127211570739746 | treshold: 0.7100000000000001\n"
     ]
    },
    {
     "name": "stderr",
     "output_type": "stream",
     "text": [
      "train... loss:0.866113007068634:   5%|███▉                                                                       | 263/5000 [25:42<7:50:03,  5.95s/it]"
     ]
    },
    {
     "name": "stdout",
     "output_type": "stream",
     "text": [
      "Test update: epoch: 262 |accuracy: 0.8383992314338684 | f1: 0.8748759627342224 | auc: 0.9129468202590942 | treshold: 0.7000000000000001\n"
     ]
    },
    {
     "name": "stderr",
     "output_type": "stream",
     "text": [
      "train... loss:0.8643930852413177:   5%|███▉                                                                      | 264/5000 [25:48<7:51:03,  5.97s/it]"
     ]
    },
    {
     "name": "stdout",
     "output_type": "stream",
     "text": [
      "Test update: epoch: 263 |accuracy: 0.8386168479919434 | f1: 0.8748781681060791 | auc: 0.9131131172180176 | treshold: 0.7000000000000001\n"
     ]
    },
    {
     "name": "stderr",
     "output_type": "stream",
     "text": [
      "train... loss:0.8631320595741272:   5%|███▉                                                                      | 265/5000 [25:54<7:48:35,  5.94s/it]"
     ]
    },
    {
     "name": "stdout",
     "output_type": "stream",
     "text": [
      "Test update: epoch: 264 |accuracy: 0.8373594284057617 | f1: 0.8748604655265808 | auc: 0.9132052063941956 | treshold: 0.68\n"
     ]
    },
    {
     "name": "stderr",
     "output_type": "stream",
     "text": [
      "train... loss:0.8617731630802155:   5%|███▉                                                                      | 266/5000 [26:00<7:48:59,  5.94s/it]"
     ]
    },
    {
     "name": "stdout",
     "output_type": "stream",
     "text": [
      "Test update: epoch: 265 |accuracy: 0.8373594284057617 | f1: 0.8745664358139038 | auc: 0.9132413268089294 | treshold: 0.68\n"
     ]
    },
    {
     "name": "stderr",
     "output_type": "stream",
     "text": [
      "train... loss:0.858947366476059:   6%|████▊                                                                      | 322/5000 [31:09<7:32:46,  5.81s/it]\n"
     ]
    },
    {
     "name": "stdout",
     "output_type": "stream",
     "text": [
      "\n",
      "Evaluating LogReg with explicit embeddings\n"
     ]
    },
    {
     "name": "stderr",
     "output_type": "stream",
     "text": [
      "\r",
      "train:   0%|                                                                                                                 | 0/5000 [00:00<?, ?it/s]"
     ]
    },
    {
     "name": "stdout",
     "output_type": "stream",
     "text": [
      "Test before learning: {'f1': 0.5681909918785095, 'roc-auc': 0.5281449556350708, 'accuracy': 0.5097811818122864}\n"
     ]
    },
    {
     "name": "stderr",
     "output_type": "stream",
     "text": [
      "train... loss:1.3943020105361938:   0%|                                                                            | 1/5000 [00:05<7:56:14,  5.72s/it]"
     ]
    },
    {
     "name": "stdout",
     "output_type": "stream",
     "text": [
      "Test update: epoch: 0 |accuracy: 0.6415669322013855 | f1: 0.7806047797203064 | auc: 0.5341578722000122 | treshold: 0.26\n"
     ]
    },
    {
     "name": "stderr",
     "output_type": "stream",
     "text": [
      "train... loss:1.386850357055664:   0%|                                                                             | 2/5000 [00:11<7:54:33,  5.70s/it]"
     ]
    },
    {
     "name": "stdout",
     "output_type": "stream",
     "text": [
      "Test update: epoch: 1 |accuracy: 0.6416152715682983 | f1: 0.7805238962173462 | auc: 0.5401443839073181 | treshold: 0.28\n"
     ]
    },
    {
     "name": "stderr",
     "output_type": "stream",
     "text": [
      "train... loss:1.3796107769012451:   0%|                                                                            | 3/5000 [00:17<8:02:16,  5.79s/it]"
     ]
    },
    {
     "name": "stdout",
     "output_type": "stream",
     "text": [
      "Test update: epoch: 2 |accuracy: 0.64168781042099 | f1: 0.7806170582771301 | auc: 0.5464549660682678 | treshold: 0.28\n"
     ]
    },
    {
     "name": "stderr",
     "output_type": "stream",
     "text": [
      "train... loss:1.3724554777145386:   0%|                                                                            | 4/5000 [00:23<8:01:32,  5.78s/it]"
     ]
    },
    {
     "name": "stdout",
     "output_type": "stream",
     "text": [
      "Test update: epoch: 3 |accuracy: 0.6420021653175354 | f1: 0.780604898929596 | auc: 0.55311518907547 | treshold: 0.3\n"
     ]
    },
    {
     "name": "stderr",
     "output_type": "stream",
     "text": [
      "train... loss:1.3653542399406433:   0%|                                                                            | 5/5000 [00:28<7:58:20,  5.75s/it]"
     ]
    },
    {
     "name": "stdout",
     "output_type": "stream",
     "text": [
      "Test update: epoch: 4 |accuracy: 0.6424857974052429 | f1: 0.7807518243789673 | auc: 0.5601487755775452 | treshold: 0.31\n"
     ]
    },
    {
     "name": "stderr",
     "output_type": "stream",
     "text": [
      "train... loss:1.3584579229354858:   0%|                                                                            | 6/5000 [00:34<7:59:46,  5.76s/it]"
     ]
    },
    {
     "name": "stdout",
     "output_type": "stream",
     "text": [
      "Test update: epoch: 5 |accuracy: 0.6433804631233215 | f1: 0.7810570001602173 | auc: 0.5674752593040466 | treshold: 0.32\n"
     ]
    },
    {
     "name": "stderr",
     "output_type": "stream",
     "text": [
      "train... loss:1.351620614528656:   0%|                                                                             | 7/5000 [00:40<7:57:21,  5.74s/it]"
     ]
    },
    {
     "name": "stdout",
     "output_type": "stream",
     "text": [
      "Test update: epoch: 6 |accuracy: 0.6432112455368042 | f1: 0.7810278534889221 | auc: 0.5750209093093872 | treshold: 0.32\n"
     ]
    },
    {
     "name": "stderr",
     "output_type": "stream",
     "text": [
      "train... loss:1.3450106382369995:   0%|                                                                            | 8/5000 [00:45<7:56:44,  5.73s/it]"
     ]
    },
    {
     "name": "stdout",
     "output_type": "stream",
     "text": [
      "Test update: epoch: 7 |accuracy: 0.645484209060669 | f1: 0.7815670967102051 | auc: 0.5827396512031555 | treshold: 0.34\n"
     ]
    },
    {
     "name": "stderr",
     "output_type": "stream",
     "text": [
      "train... loss:1.3385375142097473:   0%|▏                                                                           | 9/5000 [00:51<7:58:20,  5.75s/it]"
     ]
    },
    {
     "name": "stdout",
     "output_type": "stream",
     "text": [
      "Test update: epoch: 8 |accuracy: 0.6470076441764832 | f1: 0.7820087671279907 | auc: 0.5905384421348572 | treshold: 0.35000000000000003\n"
     ]
    },
    {
     "name": "stderr",
     "output_type": "stream",
     "text": [
      "train... loss:1.3323172330856323:   0%|▏                                                                          | 10/5000 [00:57<7:55:11,  5.71s/it]"
     ]
    },
    {
     "name": "stdout",
     "output_type": "stream",
     "text": [
      "Test update: epoch: 9 |accuracy: 0.6471285223960876 | f1: 0.7822232842445374 | auc: 0.5983494520187378 | treshold: 0.35000000000000003\n"
     ]
    },
    {
     "name": "stderr",
     "output_type": "stream",
     "text": [
      "train... loss:1.3260602355003357:   0%|▏                                                                          | 11/5000 [01:03<7:54:43,  5.71s/it]"
     ]
    },
    {
     "name": "stdout",
     "output_type": "stream",
     "text": [
      "Test update: epoch: 10 |accuracy: 0.6526901125907898 | f1: 0.7831312417984009 | auc: 0.6061168313026428 | treshold: 0.38\n"
     ]
    },
    {
     "name": "stderr",
     "output_type": "stream",
     "text": [
      "train... loss:1.3199723362922668:   0%|▏                                                                          | 12/5000 [01:08<7:53:40,  5.70s/it]"
     ]
    },
    {
     "name": "stdout",
     "output_type": "stream",
     "text": [
      "Test update: epoch: 11 |accuracy: 0.6523032188415527 | f1: 0.7832235097885132 | auc: 0.6137968301773071 | treshold: 0.38\n"
     ]
    },
    {
     "name": "stderr",
     "output_type": "stream",
     "text": [
      "train... loss:1.3140370845794678:   0%|▏                                                                          | 13/5000 [01:14<7:54:35,  5.71s/it]"
     ]
    },
    {
     "name": "stdout",
     "output_type": "stream",
     "text": [
      "Test update: epoch: 12 |accuracy: 0.6563656330108643 | f1: 0.78467857837677 | auc: 0.6213164329528809 | treshold: 0.39\n"
     ]
    },
    {
     "name": "stderr",
     "output_type": "stream",
     "text": [
      "train... loss:1.3083246350288391:   0%|▏                                                                          | 14/5000 [01:20<7:56:19,  5.73s/it]"
     ]
    },
    {
     "name": "stdout",
     "output_type": "stream",
     "text": [
      "Test update: epoch: 13 |accuracy: 0.6594365835189819 | f1: 0.7855010628700256 | auc: 0.628680944442749 | treshold: 0.4\n"
     ]
    },
    {
     "name": "stderr",
     "output_type": "stream",
     "text": [
      "train... loss:1.3027345538139343:   0%|▏                                                                          | 15/5000 [01:26<7:58:58,  5.77s/it]"
     ]
    },
    {
     "name": "stdout",
     "output_type": "stream",
     "text": [
      "Test update: epoch: 14 |accuracy: 0.6593882441520691 | f1: 0.785751223564148 | auc: 0.6358203291893005 | treshold: 0.4\n"
     ]
    },
    {
     "name": "stderr",
     "output_type": "stream",
     "text": [
      "train... loss:1.297170877456665:   0%|▏                                                                           | 16/5000 [01:32<8:00:52,  5.79s/it]"
     ]
    },
    {
     "name": "stdout",
     "output_type": "stream",
     "text": [
      "Test update: epoch: 15 |accuracy: 0.6627010107040405 | f1: 0.7867092490196228 | auc: 0.6427038908004761 | treshold: 0.41000000000000003\n"
     ]
    },
    {
     "name": "stderr",
     "output_type": "stream",
     "text": [
      "train... loss:1.291650414466858:   0%|▎                                                                           | 17/5000 [01:37<8:00:08,  5.78s/it]"
     ]
    },
    {
     "name": "stdout",
     "output_type": "stream",
     "text": [
      "Test update: epoch: 16 |accuracy: 0.6663523316383362 | f1: 0.78768390417099 | auc: 0.6493146419525146 | treshold: 0.42000000000000004\n"
     ]
    },
    {
     "name": "stderr",
     "output_type": "stream",
     "text": [
      "train... loss:1.28633713722229:   0%|▎                                                                            | 18/5000 [01:43<7:59:55,  5.78s/it]"
     ]
    },
    {
     "name": "stdout",
     "output_type": "stream",
     "text": [
      "Test update: epoch: 17 |accuracy: 0.6659412384033203 | f1: 0.7877717018127441 | auc: 0.6556422710418701 | treshold: 0.42000000000000004\n"
     ]
    },
    {
     "name": "stderr",
     "output_type": "stream",
     "text": [
      "train... loss:1.2809635400772095:   0%|▎                                                                          | 19/5000 [01:49<8:05:32,  5.85s/it]"
     ]
    },
    {
     "name": "stdout",
     "output_type": "stream",
     "text": [
      "Test update: epoch: 18 |accuracy: 0.6766049861907959 | f1: 0.7906976938247681 | auc: 0.6616600751876831 | treshold: 0.44\n"
     ]
    },
    {
     "name": "stderr",
     "output_type": "stream",
     "text": [
      "train... loss:1.2758353352546692:   0%|▎                                                                          | 20/5000 [01:55<8:04:52,  5.84s/it]"
     ]
    },
    {
     "name": "stdout",
     "output_type": "stream",
     "text": [
      "Test update: epoch: 19 |accuracy: 0.6771611571311951 | f1: 0.7913938760757446 | auc: 0.6673794984817505 | treshold: 0.44\n"
     ]
    },
    {
     "name": "stderr",
     "output_type": "stream",
     "text": [
      "train... loss:1.2707477807998657:   0%|▎                                                                          | 21/5000 [02:01<8:02:38,  5.82s/it]"
     ]
    },
    {
     "name": "stdout",
     "output_type": "stream",
     "text": [
      "Test update: epoch: 20 |accuracy: 0.6777898669242859 | f1: 0.7920730113983154 | auc: 0.6728322505950928 | treshold: 0.44\n"
     ]
    },
    {
     "name": "stderr",
     "output_type": "stream",
     "text": [
      "train... loss:1.2655485272407532:   0%|▎                                                                          | 22/5000 [02:07<8:07:31,  5.88s/it]"
     ]
    },
    {
     "name": "stdout",
     "output_type": "stream",
     "text": [
      "Test update: epoch: 21 |accuracy: 0.6787329316139221 | f1: 0.7929110527038574 | auc: 0.6780189275741577 | treshold: 0.44\n"
     ]
    },
    {
     "name": "stderr",
     "output_type": "stream",
     "text": [
      "train... loss:1.260579764842987:   0%|▎                                                                           | 23/5000 [02:13<8:07:46,  5.88s/it]"
     ]
    },
    {
     "name": "stdout",
     "output_type": "stream",
     "text": [
      "Test update: epoch: 22 |accuracy: 0.679385781288147 | f1: 0.7935346364974976 | auc: 0.6829559803009033 | treshold: 0.44\n"
     ]
    },
    {
     "name": "stderr",
     "output_type": "stream",
     "text": [
      "train... loss:1.255617380142212:   0%|▎                                                                           | 24/5000 [02:18<8:07:24,  5.88s/it]"
     ]
    },
    {
     "name": "stdout",
     "output_type": "stream",
     "text": [
      "Test update: epoch: 23 |accuracy: 0.6846330761909485 | f1: 0.7950208783149719 | auc: 0.6876985430717468 | treshold: 0.45\n"
     ]
    },
    {
     "name": "stderr",
     "output_type": "stream",
     "text": [
      "train... loss:1.2505981922149658:   0%|▍                                                                          | 25/5000 [02:24<8:07:39,  5.88s/it]"
     ]
    },
    {
     "name": "stdout",
     "output_type": "stream",
     "text": [
      "Test update: epoch: 24 |accuracy: 0.68632572889328 | f1: 0.796217143535614 | auc: 0.6922023296356201 | treshold: 0.45\n"
     ]
    },
    {
     "name": "stderr",
     "output_type": "stream",
     "text": [
      "train... loss:1.245680570602417:   1%|▍                                                                           | 26/5000 [02:30<8:06:38,  5.87s/it]"
     ]
    },
    {
     "name": "stdout",
     "output_type": "stream",
     "text": [
      "Test update: epoch: 25 |accuracy: 0.6871720552444458 | f1: 0.7969042062759399 | auc: 0.6965434551239014 | treshold: 0.45\n"
     ]
    },
    {
     "name": "stderr",
     "output_type": "stream",
     "text": [
      "train... loss:1.2408308386802673:   1%|▍                                                                          | 27/5000 [02:36<8:01:47,  5.81s/it]"
     ]
    },
    {
     "name": "stdout",
     "output_type": "stream",
     "text": [
      "Test update: epoch: 26 |accuracy: 0.6934832334518433 | f1: 0.7968459725379944 | auc: 0.700728714466095 | treshold: 0.47000000000000003\n"
     ]
    },
    {
     "name": "stderr",
     "output_type": "stream",
     "text": [
      "train... loss:1.235694944858551:   1%|▍                                                                           | 28/5000 [02:42<8:03:09,  5.83s/it]"
     ]
    },
    {
     "name": "stdout",
     "output_type": "stream",
     "text": [
      "Test update: epoch: 27 |accuracy: 0.6957079172134399 | f1: 0.7984496355056763 | auc: 0.7047997713088989 | treshold: 0.47000000000000003\n"
     ]
    },
    {
     "name": "stderr",
     "output_type": "stream",
     "text": [
      "train... loss:1.2310715913772583:   1%|▍                                                                          | 29/5000 [02:47<8:01:48,  5.82s/it]"
     ]
    },
    {
     "name": "stdout",
     "output_type": "stream",
     "text": [
      "Test update: epoch: 28 |accuracy: 0.6972070932388306 | f1: 0.7996159195899963 | auc: 0.708740234375 | treshold: 0.47000000000000003\n"
     ]
    },
    {
     "name": "stderr",
     "output_type": "stream",
     "text": [
      "train... loss:1.2261089086532593:   1%|▍                                                                          | 30/5000 [02:53<8:00:15,  5.80s/it]"
     ]
    },
    {
     "name": "stdout",
     "output_type": "stream",
     "text": [
      "Test update: epoch: 29 |accuracy: 0.6986579895019531 | f1: 0.8007419109344482 | auc: 0.7125867605209351 | treshold: 0.47000000000000003\n"
     ]
    },
    {
     "name": "stderr",
     "output_type": "stream",
     "text": [
      "train... loss:1.2214509844779968:   1%|▍                                                                          | 31/5000 [02:59<7:59:33,  5.79s/it]"
     ]
    },
    {
     "name": "stdout",
     "output_type": "stream",
     "text": [
      "Test update: epoch: 30 |accuracy: 0.7025510668754578 | f1: 0.8012023568153381 | auc: 0.7163431644439697 | treshold: 0.48000000000000004\n"
     ]
    },
    {
     "name": "stderr",
     "output_type": "stream",
     "text": [
      "train... loss:1.2163477540016174:   1%|▍                                                                          | 32/5000 [03:05<8:02:01,  5.82s/it]"
     ]
    },
    {
     "name": "stdout",
     "output_type": "stream",
     "text": [
      "Test update: epoch: 31 |accuracy: 0.7011244297027588 | f1: 0.8025811314582825 | auc: 0.7200354337692261 | treshold: 0.47000000000000003\n"
     ]
    },
    {
     "name": "stderr",
     "output_type": "stream",
     "text": [
      "train... loss:1.211545169353485:   1%|▌                                                                           | 33/5000 [03:11<7:59:00,  5.79s/it]"
     ]
    },
    {
     "name": "stdout",
     "output_type": "stream",
     "text": [
      "Test update: epoch: 32 |accuracy: 0.7051867842674255 | f1: 0.8034119009971619 | auc: 0.7236698865890503 | treshold: 0.48000000000000004\n"
     ]
    },
    {
     "name": "stderr",
     "output_type": "stream",
     "text": [
      "train... loss:1.2065896391868591:   1%|▌                                                                          | 34/5000 [03:16<7:56:03,  5.75s/it]"
     ]
    },
    {
     "name": "stdout",
     "output_type": "stream",
     "text": [
      "Test update: epoch: 33 |accuracy: 0.7069278359413147 | f1: 0.8046484589576721 | auc: 0.7272339463233948 | treshold: 0.48000000000000004\n"
     ]
    },
    {
     "name": "stderr",
     "output_type": "stream",
     "text": [
      "train... loss:1.2020761370658875:   1%|▌                                                                          | 35/5000 [03:22<7:55:15,  5.74s/it]"
     ]
    },
    {
     "name": "stdout",
     "output_type": "stream",
     "text": [
      "Test update: epoch: 34 |accuracy: 0.7086204886436462 | f1: 0.8058455586433411 | auc: 0.7307651042938232 | treshold: 0.48000000000000004\n"
     ]
    },
    {
     "name": "stderr",
     "output_type": "stream",
     "text": [
      "train... loss:1.196559727191925:   1%|▌                                                                           | 36/5000 [03:28<7:57:13,  5.77s/it]"
     ]
    },
    {
     "name": "stdout",
     "output_type": "stream",
     "text": [
      "Test update: epoch: 35 |accuracy: 0.7098295092582703 | f1: 0.8067694902420044 | auc: 0.7342512011528015 | treshold: 0.48000000000000004\n"
     ]
    },
    {
     "name": "stderr",
     "output_type": "stream",
     "text": [
      "train... loss:1.191732406616211:   1%|▌                                                                           | 37/5000 [03:34<7:54:57,  5.74s/it]"
     ]
    },
    {
     "name": "stdout",
     "output_type": "stream",
     "text": [
      "Test update: epoch: 36 |accuracy: 0.7142062783241272 | f1: 0.807786762714386 | auc: 0.7377055287361145 | treshold: 0.49\n"
     ]
    },
    {
     "name": "stderr",
     "output_type": "stream",
     "text": [
      "train... loss:1.1872185468673706:   1%|▌                                                                          | 38/5000 [03:39<7:56:09,  5.76s/it]"
     ]
    },
    {
     "name": "stdout",
     "output_type": "stream",
     "text": [
      "Test update: epoch: 37 |accuracy: 0.7157054543495178 | f1: 0.8089317679405212 | auc: 0.7411284446716309 | treshold: 0.49\n"
     ]
    },
    {
     "name": "stderr",
     "output_type": "stream",
     "text": [
      "train... loss:1.1819477677345276:   1%|▌                                                                          | 39/5000 [03:45<7:59:07,  5.79s/it]"
     ]
    },
    {
     "name": "stdout",
     "output_type": "stream",
     "text": [
      "Test update: epoch: 38 |accuracy: 0.71662437915802 | f1: 0.8097595572471619 | auc: 0.7445407509803772 | treshold: 0.49\n"
     ]
    },
    {
     "name": "stderr",
     "output_type": "stream",
     "text": [
      "train... loss:1.177032470703125:   1%|▌                                                                           | 40/5000 [03:51<7:59:53,  5.81s/it]"
     ]
    },
    {
     "name": "stdout",
     "output_type": "stream",
     "text": [
      "Test update: epoch: 39 |accuracy: 0.7211945056915283 | f1: 0.8109959959983826 | auc: 0.7479145526885986 | treshold: 0.5\n"
     ]
    },
    {
     "name": "stderr",
     "output_type": "stream",
     "text": [
      "train... loss:1.1721796989440918:   1%|▌                                                                          | 41/5000 [03:57<8:01:33,  5.83s/it]"
     ]
    },
    {
     "name": "stdout",
     "output_type": "stream",
     "text": [
      "Test update: epoch: 40 |accuracy: 0.7227421402931213 | f1: 0.8121928572654724 | auc: 0.7512804269790649 | treshold: 0.5\n"
     ]
    },
    {
     "name": "stderr",
     "output_type": "stream",
     "text": [
      "train... loss:1.1674050092697144:   1%|▋                                                                          | 42/5000 [04:03<8:03:23,  5.85s/it]"
     ]
    },
    {
     "name": "stdout",
     "output_type": "stream",
     "text": [
      "Test update: epoch: 41 |accuracy: 0.7240478992462158 | f1: 0.813211977481842 | auc: 0.754630446434021 | treshold: 0.5\n"
     ]
    },
    {
     "name": "stderr",
     "output_type": "stream",
     "text": [
      "train... loss:1.1623497605323792:   1%|▋                                                                          | 43/5000 [04:09<8:02:52,  5.84s/it]"
     ]
    },
    {
     "name": "stdout",
     "output_type": "stream",
     "text": [
      "Test update: epoch: 42 |accuracy: 0.7255712747573853 | f1: 0.8142644166946411 | auc: 0.7579677104949951 | treshold: 0.5\n"
     ]
    },
    {
     "name": "stderr",
     "output_type": "stream",
     "text": [
      "train... loss:1.1573219895362854:   1%|▋                                                                          | 44/5000 [04:14<8:01:50,  5.83s/it]"
     ]
    },
    {
     "name": "stdout",
     "output_type": "stream",
     "text": [
      "Test update: epoch: 43 |accuracy: 0.7268286943435669 | f1: 0.8151820302009583 | auc: 0.7612859606742859 | treshold: 0.5\n"
     ]
    },
    {
     "name": "stderr",
     "output_type": "stream",
     "text": [
      "train... loss:1.1525461673736572:   1%|▋                                                                          | 45/5000 [04:20<8:02:35,  5.84s/it]"
     ]
    },
    {
     "name": "stdout",
     "output_type": "stream",
     "text": [
      "Test update: epoch: 44 |accuracy: 0.7308669090270996 | f1: 0.8163427114486694 | auc: 0.7645936012268066 | treshold: 0.51\n"
     ]
    },
    {
     "name": "stderr",
     "output_type": "stream",
     "text": [
      "train... loss:1.147362768650055:   1%|▋                                                                           | 46/5000 [04:26<8:03:38,  5.86s/it]"
     ]
    },
    {
     "name": "stdout",
     "output_type": "stream",
     "text": [
      "Test update: epoch: 45 |accuracy: 0.7329464554786682 | f1: 0.8176655173301697 | auc: 0.7678797245025635 | treshold: 0.51\n"
     ]
    },
    {
     "name": "stderr",
     "output_type": "stream",
     "text": [
      "train... loss:1.1423298716545105:   1%|▋                                                                          | 47/5000 [04:32<8:03:21,  5.86s/it]"
     ]
    },
    {
     "name": "stdout",
     "output_type": "stream",
     "text": [
      "Test update: epoch: 46 |accuracy: 0.7343730926513672 | f1: 0.8187024593353271 | auc: 0.7711454033851624 | treshold: 0.51\n"
     ]
    },
    {
     "name": "stderr",
     "output_type": "stream",
     "text": [
      "train... loss:1.1375255584716797:   1%|▋                                                                          | 48/5000 [04:38<8:04:01,  5.86s/it]"
     ]
    },
    {
     "name": "stdout",
     "output_type": "stream",
     "text": [
      "Test update: epoch: 47 |accuracy: 0.735364556312561 | f1: 0.8194535970687866 | auc: 0.7743841409683228 | treshold: 0.51\n"
     ]
    },
    {
     "name": "stderr",
     "output_type": "stream",
     "text": [
      "train... loss:1.1331984996795654:   1%|▋                                                                          | 49/5000 [04:44<8:07:04,  5.90s/it]"
     ]
    },
    {
     "name": "stdout",
     "output_type": "stream",
     "text": [
      "Test update: epoch: 48 |accuracy: 0.7459073662757874 | f1: 0.8214929103851318 | auc: 0.7776081562042236 | treshold: 0.54\n"
     ]
    },
    {
     "name": "stderr",
     "output_type": "stream",
     "text": [
      "train... loss:1.127727746963501:   1%|▊                                                                           | 50/5000 [04:50<8:04:08,  5.87s/it]"
     ]
    },
    {
     "name": "stdout",
     "output_type": "stream",
     "text": [
      "Test update: epoch: 49 |accuracy: 0.7466086149215698 | f1: 0.8222964406013489 | auc: 0.7807770371437073 | treshold: 0.54\n"
     ]
    },
    {
     "name": "stderr",
     "output_type": "stream",
     "text": [
      "train... loss:1.1227641105651855:   1%|▊                                                                          | 51/5000 [04:56<8:02:29,  5.85s/it]"
     ]
    },
    {
     "name": "stdout",
     "output_type": "stream",
     "text": [
      "Test update: epoch: 50 |accuracy: 0.7481078505516052 | f1: 0.8233957886695862 | auc: 0.7839177250862122 | treshold: 0.54\n"
     ]
    },
    {
     "name": "stderr",
     "output_type": "stream",
     "text": [
      "train... loss:1.1183093190193176:   1%|▊                                                                          | 52/5000 [05:02<8:06:17,  5.90s/it]"
     ]
    },
    {
     "name": "stdout",
     "output_type": "stream",
     "text": [
      "Test update: epoch: 51 |accuracy: 0.7494619488716125 | f1: 0.8243570923805237 | auc: 0.7870213389396667 | treshold: 0.54\n"
     ]
    },
    {
     "name": "stderr",
     "output_type": "stream",
     "text": [
      "train... loss:1.1126327514648438:   1%|▊                                                                          | 53/5000 [05:07<8:07:00,  5.91s/it]"
     ]
    },
    {
     "name": "stdout",
     "output_type": "stream",
     "text": [
      "Test update: epoch: 52 |accuracy: 0.7517349720001221 | f1: 0.8258856534957886 | auc: 0.7900755405426025 | treshold: 0.54\n"
     ]
    },
    {
     "name": "stderr",
     "output_type": "stream",
     "text": [
      "train... loss:1.1079355478286743:   1%|▊                                                                          | 54/5000 [05:13<8:06:17,  5.90s/it]"
     ]
    },
    {
     "name": "stdout",
     "output_type": "stream",
     "text": [
      "Test update: epoch: 53 |accuracy: 0.7554104924201965 | f1: 0.826759397983551 | auc: 0.7930904626846313 | treshold: 0.55\n"
     ]
    },
    {
     "name": "stderr",
     "output_type": "stream",
     "text": [
      "train... loss:1.1031842827796936:   1%|▊                                                                          | 55/5000 [05:19<8:12:16,  5.97s/it]"
     ]
    },
    {
     "name": "stdout",
     "output_type": "stream",
     "text": [
      "Test update: epoch: 54 |accuracy: 0.7572724223136902 | f1: 0.8280162811279297 | auc: 0.7960751056671143 | treshold: 0.55\n"
     ]
    },
    {
     "name": "stderr",
     "output_type": "stream",
     "text": [
      "train... loss:1.0980042815208435:   1%|▊                                                                          | 56/5000 [05:25<8:11:26,  5.96s/it]"
     ]
    },
    {
     "name": "stdout",
     "output_type": "stream",
     "text": [
      "Test update: epoch: 55 |accuracy: 0.7586990594863892 | f1: 0.8291354775428772 | auc: 0.7989888191223145 | treshold: 0.55\n"
     ]
    },
    {
     "name": "stderr",
     "output_type": "stream",
     "text": [
      "train... loss:1.0930397510528564:   1%|▊                                                                          | 57/5000 [05:31<8:09:50,  5.95s/it]"
     ]
    },
    {
     "name": "stdout",
     "output_type": "stream",
     "text": [
      "Test update: epoch: 56 |accuracy: 0.7613347768783569 | f1: 0.8308135271072388 | auc: 0.8018491864204407 | treshold: 0.55\n"
     ]
    },
    {
     "name": "stderr",
     "output_type": "stream",
     "text": [
      "train... loss:1.088045358657837:   1%|▉                                                                           | 58/5000 [05:37<8:07:02,  5.91s/it]"
     ]
    },
    {
     "name": "stdout",
     "output_type": "stream",
     "text": [
      "Test update: epoch: 57 |accuracy: 0.7628340125083923 | f1: 0.8317955732345581 | auc: 0.8046565651893616 | treshold: 0.55\n"
     ]
    },
    {
     "name": "stderr",
     "output_type": "stream",
     "text": [
      "train... loss:1.08356374502182:   1%|▉                                                                            | 59/5000 [05:43<8:08:18,  5.93s/it]"
     ]
    },
    {
     "name": "stdout",
     "output_type": "stream",
     "text": [
      "Test update: epoch: 58 |accuracy: 0.7641881108283997 | f1: 0.8326698541641235 | auc: 0.807397723197937 | treshold: 0.55\n"
     ]
    },
    {
     "name": "stderr",
     "output_type": "stream",
     "text": [
      "train... loss:1.0778746008872986:   1%|▉                                                                          | 60/5000 [05:49<8:05:12,  5.89s/it]"
     ]
    },
    {
     "name": "stdout",
     "output_type": "stream",
     "text": [
      "Test update: epoch: 59 |accuracy: 0.765518069267273 | f1: 0.833422064781189 | auc: 0.8100930452346802 | treshold: 0.55\n"
     ]
    },
    {
     "name": "stderr",
     "output_type": "stream",
     "text": [
      "train... loss:1.0736585855484009:   1%|▉                                                                          | 61/5000 [05:55<8:04:47,  5.89s/it]"
     ]
    },
    {
     "name": "stdout",
     "output_type": "stream",
     "text": [
      "Test update: epoch: 60 |accuracy: 0.7670414447784424 | f1: 0.8343421220779419 | auc: 0.8127053380012512 | treshold: 0.55\n"
     ]
    },
    {
     "name": "stderr",
     "output_type": "stream",
     "text": [
      "train... loss:1.068400263786316:   1%|▉                                                                           | 62/5000 [06:01<8:06:49,  5.92s/it]"
     ]
    },
    {
     "name": "stdout",
     "output_type": "stream",
     "text": [
      "Test update: epoch: 61 |accuracy: 0.7687582969665527 | f1: 0.8353449702262878 | auc: 0.8152494430541992 | treshold: 0.55\n"
     ]
    },
    {
     "name": "stderr",
     "output_type": "stream",
     "text": [
      "train... loss:1.063946783542633:   1%|▉                                                                           | 63/5000 [06:07<8:08:15,  5.93s/it]"
     ]
    },
    {
     "name": "stdout",
     "output_type": "stream",
     "text": [
      "Test update: epoch: 62 |accuracy: 0.7703300714492798 | f1: 0.8362922072410583 | auc: 0.8177478313446045 | treshold: 0.55\n"
     ]
    },
    {
     "name": "stderr",
     "output_type": "stream",
     "text": [
      "train... loss:1.0589691400527954:   1%|▉                                                                          | 64/5000 [06:13<8:10:06,  5.96s/it]"
     ]
    },
    {
     "name": "stdout",
     "output_type": "stream",
     "text": [
      "Test update: epoch: 63 |accuracy: 0.7716841697692871 | f1: 0.8370214104652405 | auc: 0.820173978805542 | treshold: 0.55\n"
     ]
    },
    {
     "name": "stderr",
     "output_type": "stream",
     "text": [
      "train... loss:1.0539196729660034:   1%|▉                                                                          | 65/5000 [06:19<8:16:00,  6.03s/it]"
     ]
    },
    {
     "name": "stdout",
     "output_type": "stream",
     "text": [
      "Test update: epoch: 64 |accuracy: 0.773280143737793 | f1: 0.8378808498382568 | auc: 0.8225494027137756 | treshold: 0.55\n"
     ]
    },
    {
     "name": "stderr",
     "output_type": "stream",
     "text": [
      "train... loss:1.0493201613426208:   1%|▉                                                                          | 66/5000 [06:25<8:12:59,  6.00s/it]"
     ]
    },
    {
     "name": "stdout",
     "output_type": "stream",
     "text": [
      "Test update: epoch: 65 |accuracy: 0.7725063562393188 | f1: 0.8383005261421204 | auc: 0.8248659372329712 | treshold: 0.54\n"
     ]
    },
    {
     "name": "stderr",
     "output_type": "stream",
     "text": [
      "train... loss:1.0446227192878723:   1%|█                                                                          | 67/5000 [06:31<8:07:26,  5.93s/it]"
     ]
    },
    {
     "name": "stdout",
     "output_type": "stream",
     "text": [
      "Test update: epoch: 66 |accuracy: 0.7739571928977966 | f1: 0.8390495777130127 | auc: 0.827117919921875 | treshold: 0.54\n"
     ]
    },
    {
     "name": "stderr",
     "output_type": "stream",
     "text": [
      "train... loss:1.0399643182754517:   1%|█                                                                          | 68/5000 [06:36<8:04:19,  5.89s/it]"
     ]
    },
    {
     "name": "stdout",
     "output_type": "stream",
     "text": [
      "Test update: epoch: 67 |accuracy: 0.7755289673805237 | f1: 0.8399289846420288 | auc: 0.8293170928955078 | treshold: 0.54\n"
     ]
    },
    {
     "name": "stderr",
     "output_type": "stream",
     "text": [
      "train... loss:1.0351960062980652:   1%|█                                                                          | 69/5000 [06:43<8:08:06,  5.94s/it]"
     ]
    },
    {
     "name": "stdout",
     "output_type": "stream",
     "text": [
      "Test update: epoch: 68 |accuracy: 0.7778986692428589 | f1: 0.8412958979606628 | auc: 0.8314517140388489 | treshold: 0.54\n"
     ]
    },
    {
     "name": "stderr",
     "output_type": "stream",
     "text": [
      "train... loss:1.0310420989990234:   1%|█                                                                          | 70/5000 [06:48<8:04:10,  5.89s/it]"
     ]
    },
    {
     "name": "stdout",
     "output_type": "stream",
     "text": [
      "Test update: epoch: 69 |accuracy: 0.7794704437255859 | f1: 0.8421489596366882 | auc: 0.833550214767456 | treshold: 0.54\n"
     ]
    },
    {
     "name": "stderr",
     "output_type": "stream",
     "text": [
      "train... loss:1.0265637040138245:   1%|█                                                                          | 71/5000 [06:54<8:02:05,  5.87s/it]"
     ]
    },
    {
     "name": "stdout",
     "output_type": "stream",
     "text": [
      "Test update: epoch: 70 |accuracy: 0.781042218208313 | f1: 0.8429886698722839 | auc: 0.8355989456176758 | treshold: 0.54\n"
     ]
    },
    {
     "name": "stderr",
     "output_type": "stream",
     "text": [
      "train... loss:1.022387444972992:   1%|█                                                                           | 72/5000 [07:00<8:03:08,  5.88s/it]"
     ]
    },
    {
     "name": "stdout",
     "output_type": "stream",
     "text": [
      "Test update: epoch: 71 |accuracy: 0.7817918062210083 | f1: 0.8434203267097473 | auc: 0.8375853896141052 | treshold: 0.54\n"
     ]
    },
    {
     "name": "stderr",
     "output_type": "stream",
     "text": [
      "train... loss:1.0174214839935303:   1%|█                                                                          | 73/5000 [07:06<8:01:02,  5.86s/it]"
     ]
    },
    {
     "name": "stdout",
     "output_type": "stream",
     "text": [
      "Test update: epoch: 72 |accuracy: 0.7815257906913757 | f1: 0.8439469933509827 | auc: 0.8395295143127441 | treshold: 0.53\n"
     ]
    },
    {
     "name": "stderr",
     "output_type": "stream",
     "text": [
      "train... loss:1.0135532021522522:   1%|█                                                                          | 74/5000 [07:12<8:01:02,  5.86s/it]"
     ]
    },
    {
     "name": "stdout",
     "output_type": "stream",
     "text": [
      "Test update: epoch: 73 |accuracy: 0.7823479771614075 | f1: 0.8443406820297241 | auc: 0.8414130210876465 | treshold: 0.53\n"
     ]
    },
    {
     "name": "stderr",
     "output_type": "stream",
     "text": [
      "train... loss:1.0091517567634583:   2%|█▏                                                                         | 75/5000 [07:18<8:05:02,  5.91s/it]"
     ]
    },
    {
     "name": "stdout",
     "output_type": "stream",
     "text": [
      "Test update: epoch: 74 |accuracy: 0.7835569977760315 | f1: 0.8448888063430786 | auc: 0.8432459831237793 | treshold: 0.53\n"
     ]
    },
    {
     "name": "stderr",
     "output_type": "stream",
     "text": [
      "train... loss:1.0048826336860657:   2%|█▏                                                                         | 76/5000 [07:24<8:04:39,  5.91s/it]"
     ]
    },
    {
     "name": "stdout",
     "output_type": "stream",
     "text": [
      "Test update: epoch: 75 |accuracy: 0.7846934795379639 | f1: 0.8454971313476562 | auc: 0.8450113534927368 | treshold: 0.53\n"
     ]
    },
    {
     "name": "stderr",
     "output_type": "stream",
     "text": [
      "train... loss:1.0012679994106293:   2%|█▏                                                                         | 77/5000 [07:29<8:02:02,  5.88s/it]"
     ]
    },
    {
     "name": "stdout",
     "output_type": "stream",
     "text": [
      "Test update: epoch: 76 |accuracy: 0.7858058214187622 | f1: 0.8459960222244263 | auc: 0.8467286825180054 | treshold: 0.53\n"
     ]
    },
    {
     "name": "stderr",
     "output_type": "stream",
     "text": [
      "train... loss:0.9969593286514282:   2%|█▏                                                                         | 78/5000 [07:35<8:06:36,  5.93s/it]"
     ]
    },
    {
     "name": "stdout",
     "output_type": "stream",
     "text": [
      "Test update: epoch: 77 |accuracy: 0.7869181632995605 | f1: 0.8465343117713928 | auc: 0.848395586013794 | treshold: 0.53\n"
     ]
    },
    {
     "name": "stderr",
     "output_type": "stream",
     "text": [
      "train... loss:0.9930559694766998:   2%|█▏                                                                         | 79/5000 [07:41<8:04:34,  5.91s/it]"
     ]
    },
    {
     "name": "stdout",
     "output_type": "stream",
     "text": [
      "Test update: epoch: 78 |accuracy: 0.7880788445472717 | f1: 0.8471519947052002 | auc: 0.8500083684921265 | treshold: 0.53\n"
     ]
    },
    {
     "name": "stderr",
     "output_type": "stream",
     "text": [
      "train... loss:0.9891294240951538:   2%|█▏                                                                         | 80/5000 [07:47<8:05:10,  5.92s/it]"
     ]
    },
    {
     "name": "stdout",
     "output_type": "stream",
     "text": [
      "Test update: epoch: 79 |accuracy: 0.7895538806915283 | f1: 0.8479374051094055 | auc: 0.85157710313797 | treshold: 0.53\n"
     ]
    },
    {
     "name": "stderr",
     "output_type": "stream",
     "text": [
      "train... loss:0.9859459102153778:   2%|█▏                                                                         | 81/5000 [07:53<8:05:51,  5.93s/it]"
     ]
    },
    {
     "name": "stdout",
     "output_type": "stream",
     "text": [
      "Test update: epoch: 80 |accuracy: 0.7911014556884766 | f1: 0.8488020300865173 | auc: 0.8530968427658081 | treshold: 0.53\n"
     ]
    },
    {
     "name": "stderr",
     "output_type": "stream",
     "text": [
      "train... loss:0.9819175601005554:   2%|█▏                                                                         | 82/5000 [07:59<8:04:42,  5.91s/it]"
     ]
    },
    {
     "name": "stdout",
     "output_type": "stream",
     "text": [
      "Test update: epoch: 81 |accuracy: 0.7925764918327332 | f1: 0.8496881127357483 | auc: 0.8545817136764526 | treshold: 0.53\n"
     ]
    },
    {
     "name": "stderr",
     "output_type": "stream",
     "text": [
      "train... loss:0.9781464636325836:   2%|█▏                                                                         | 83/5000 [08:05<8:05:06,  5.92s/it]"
     ]
    },
    {
     "name": "stdout",
     "output_type": "stream",
     "text": [
      "Test update: epoch: 82 |accuracy: 0.7937129735946655 | f1: 0.8503149747848511 | auc: 0.8560181856155396 | treshold: 0.53\n"
     ]
    },
    {
     "name": "stderr",
     "output_type": "stream",
     "text": [
      "train... loss:0.9742125570774078:   2%|█▎                                                                         | 84/5000 [08:11<8:02:20,  5.89s/it]"
     ]
    },
    {
     "name": "stdout",
     "output_type": "stream",
     "text": [
      "Test update: epoch: 83 |accuracy: 0.7944625616073608 | f1: 0.8507148027420044 | auc: 0.8574107885360718 | treshold: 0.53\n"
     ]
    },
    {
     "name": "stderr",
     "output_type": "stream",
     "text": [
      "train... loss:0.971341609954834:   2%|█▎                                                                          | 85/5000 [08:17<8:03:15,  5.90s/it]"
     ]
    },
    {
     "name": "stdout",
     "output_type": "stream",
     "text": [
      "Test update: epoch: 84 |accuracy: 0.7947043776512146 | f1: 0.8514331579208374 | auc: 0.8587720394134521 | treshold: 0.52\n"
     ]
    },
    {
     "name": "stderr",
     "output_type": "stream",
     "text": [
      "train... loss:0.9678277969360352:   2%|█▎                                                                         | 86/5000 [08:23<8:01:49,  5.88s/it]"
     ]
    },
    {
     "name": "stdout",
     "output_type": "stream",
     "text": [
      "Test update: epoch: 85 |accuracy: 0.7956716418266296 | f1: 0.8519465923309326 | auc: 0.8600948452949524 | treshold: 0.52\n"
     ]
    },
    {
     "name": "stderr",
     "output_type": "stream",
     "text": [
      "train... loss:0.9646508693695068:   2%|█▎                                                                         | 87/5000 [08:29<8:02:15,  5.89s/it]"
     ]
    },
    {
     "name": "stdout",
     "output_type": "stream",
     "text": [
      "Test update: epoch: 86 |accuracy: 0.795985996723175 | f1: 0.8520369529724121 | auc: 0.8613865375518799 | treshold: 0.52\n"
     ]
    },
    {
     "name": "stderr",
     "output_type": "stream",
     "text": [
      "train... loss:0.9614767134189606:   2%|█▎                                                                         | 88/5000 [08:35<8:06:28,  5.94s/it]"
     ]
    },
    {
     "name": "stdout",
     "output_type": "stream",
     "text": [
      "Test update: epoch: 87 |accuracy: 0.7963244915008545 | f1: 0.852788507938385 | auc: 0.8626461029052734 | treshold: 0.51\n"
     ]
    },
    {
     "name": "stderr",
     "output_type": "stream",
     "text": [
      "train... loss:0.9579955041408539:   2%|█▎                                                                         | 89/5000 [08:40<8:03:49,  5.91s/it]"
     ]
    },
    {
     "name": "stdout",
     "output_type": "stream",
     "text": [
      "Test update: epoch: 88 |accuracy: 0.7967355847358704 | f1: 0.8529648184776306 | auc: 0.8638853430747986 | treshold: 0.51\n"
     ]
    },
    {
     "name": "stderr",
     "output_type": "stream",
     "text": [
      "train... loss:0.9549568891525269:   2%|█▎                                                                         | 90/5000 [08:46<8:04:20,  5.92s/it]"
     ]
    },
    {
     "name": "stdout",
     "output_type": "stream",
     "text": [
      "Test update: epoch: 89 |accuracy: 0.7979446053504944 | f1: 0.8537114858627319 | auc: 0.8650939464569092 | treshold: 0.51\n"
     ]
    },
    {
     "name": "stderr",
     "output_type": "stream",
     "text": [
      "train... loss:0.9519544243812561:   2%|█▎                                                                         | 91/5000 [08:52<8:04:37,  5.92s/it]"
     ]
    },
    {
     "name": "stdout",
     "output_type": "stream",
     "text": [
      "Test update: epoch: 90 |accuracy: 0.7987183928489685 | f1: 0.854103147983551 | auc: 0.8662587404251099 | treshold: 0.51\n"
     ]
    },
    {
     "name": "stderr",
     "output_type": "stream",
     "text": [
      "train... loss:0.9490354955196381:   2%|█▍                                                                         | 92/5000 [08:58<8:02:14,  5.90s/it]"
     ]
    },
    {
     "name": "stdout",
     "output_type": "stream",
     "text": [
      "Test update: epoch: 91 |accuracy: 0.7991536855697632 | f1: 0.8543215990066528 | auc: 0.867396354675293 | treshold: 0.51\n"
     ]
    },
    {
     "name": "stderr",
     "output_type": "stream",
     "text": [
      "train... loss:0.9464035332202911:   2%|█▍                                                                         | 93/5000 [09:04<8:01:35,  5.89s/it]"
     ]
    },
    {
     "name": "stdout",
     "output_type": "stream",
     "text": [
      "Test update: epoch: 92 |accuracy: 0.8031435012817383 | f1: 0.8556380867958069 | auc: 0.8685007095336914 | treshold: 0.53\n"
     ]
    },
    {
     "name": "stderr",
     "output_type": "stream",
     "text": [
      "train... loss:0.9430278539657593:   2%|█▍                                                                         | 94/5000 [09:10<8:03:22,  5.91s/it]"
     ]
    },
    {
     "name": "stdout",
     "output_type": "stream",
     "text": [
      "Test update: epoch: 93 |accuracy: 0.80396568775177 | f1: 0.8561440706253052 | auc: 0.8695827126502991 | treshold: 0.53\n"
     ]
    },
    {
     "name": "stderr",
     "output_type": "stream",
     "text": [
      "train... loss:0.9408787488937378:   2%|█▍                                                                         | 95/5000 [09:16<8:06:16,  5.95s/it]"
     ]
    },
    {
     "name": "stdout",
     "output_type": "stream",
     "text": [
      "Test update: epoch: 94 |accuracy: 0.8037480115890503 | f1: 0.8565672039985657 | auc: 0.8706393241882324 | treshold: 0.52\n"
     ]
    },
    {
     "name": "stderr",
     "output_type": "stream",
     "text": [
      "train... loss:0.9379312098026276:   2%|█▍                                                                         | 96/5000 [09:22<8:04:22,  5.93s/it]"
     ]
    },
    {
     "name": "stdout",
     "output_type": "stream",
     "text": [
      "Test update: epoch: 95 |accuracy: 0.804570198059082 | f1: 0.8571125268936157 | auc: 0.8716708421707153 | treshold: 0.52\n"
     ]
    },
    {
     "name": "stderr",
     "output_type": "stream",
     "text": [
      "train... loss:0.9354275465011597:   2%|█▍                                                                         | 97/5000 [09:28<8:01:22,  5.89s/it]"
     ]
    },
    {
     "name": "stdout",
     "output_type": "stream",
     "text": [
      "Test update: epoch: 96 |accuracy: 0.8074960708618164 | f1: 0.8576944470405579 | auc: 0.8726849555969238 | treshold: 0.54\n"
     ]
    },
    {
     "name": "stderr",
     "output_type": "stream",
     "text": [
      "train... loss:0.9331032335758209:   2%|█▍                                                                         | 98/5000 [09:34<8:05:03,  5.94s/it]"
     ]
    },
    {
     "name": "stdout",
     "output_type": "stream",
     "text": [
      "Test update: epoch: 97 |accuracy: 0.8079071640968323 | f1: 0.8579856157302856 | auc: 0.8736726641654968 | treshold: 0.54\n"
     ]
    },
    {
     "name": "stderr",
     "output_type": "stream",
     "text": [
      "train... loss:0.9309998452663422:   2%|█▍                                                                         | 99/5000 [09:40<8:02:15,  5.90s/it]"
     ]
    },
    {
     "name": "stdout",
     "output_type": "stream",
     "text": [
      "Test update: epoch: 98 |accuracy: 0.8071575164794922 | f1: 0.8587870597839355 | auc: 0.8746469616889954 | treshold: 0.52\n"
     ]
    },
    {
     "name": "stderr",
     "output_type": "stream",
     "text": [
      "train... loss:0.9283899664878845:   2%|█▍                                                                        | 100/5000 [09:45<7:59:54,  5.88s/it]"
     ]
    },
    {
     "name": "stdout",
     "output_type": "stream",
     "text": [
      "Test update: epoch: 99 |accuracy: 0.8074477314949036 | f1: 0.8595714569091797 | auc: 0.8756210803985596 | treshold: 0.51\n"
     ]
    },
    {
     "name": "stderr",
     "output_type": "stream",
     "text": [
      "train... loss:0.9260138273239136:   2%|█▍                                                                        | 101/5000 [09:51<8:00:59,  5.89s/it]"
     ]
    },
    {
     "name": "stdout",
     "output_type": "stream",
     "text": [
      "Test update: epoch: 100 |accuracy: 0.807762086391449 | f1: 0.8597586750984192 | auc: 0.8765878677368164 | treshold: 0.51\n"
     ]
    },
    {
     "name": "stderr",
     "output_type": "stream",
     "text": [
      "train... loss:0.9239675104618073:   2%|█▌                                                                        | 102/5000 [09:58<8:10:34,  6.01s/it]"
     ]
    },
    {
     "name": "stdout",
     "output_type": "stream",
     "text": [
      "Test update: epoch: 101 |accuracy: 0.8084874749183655 | f1: 0.8602336645126343 | auc: 0.8775385618209839 | treshold: 0.51\n"
     ]
    },
    {
     "name": "stderr",
     "output_type": "stream",
     "text": [
      "train... loss:0.920989066362381:   2%|█▌                                                                         | 103/5000 [10:03<8:05:49,  5.95s/it]"
     ]
    },
    {
     "name": "stdout",
     "output_type": "stream",
     "text": [
      "Test update: epoch: 102 |accuracy: 0.8100109100341797 | f1: 0.8607137203216553 | auc: 0.8784793615341187 | treshold: 0.52\n"
     ]
    },
    {
     "name": "stderr",
     "output_type": "stream",
     "text": [
      "train... loss:0.9190756380558014:   2%|█▌                                                                        | 104/5000 [10:09<8:02:44,  5.92s/it]"
     ]
    },
    {
     "name": "stdout",
     "output_type": "stream",
     "text": [
      "Test update: epoch: 103 |accuracy: 0.8117761015892029 | f1: 0.86129230260849 | auc: 0.8794206976890564 | treshold: 0.53\n"
     ]
    },
    {
     "name": "stderr",
     "output_type": "stream",
     "text": [
      "train... loss:0.9173144102096558:   2%|█▌                                                                        | 105/5000 [10:15<8:05:12,  5.95s/it]"
     ]
    },
    {
     "name": "stdout",
     "output_type": "stream",
     "text": [
      "Test update: epoch: 104 |accuracy: 0.8123806118965149 | f1: 0.8617648482322693 | auc: 0.8803491592407227 | treshold: 0.53\n"
     ]
    },
    {
     "name": "stderr",
     "output_type": "stream",
     "text": [
      "train... loss:0.915210634469986:   2%|█▌                                                                         | 106/5000 [10:21<8:06:10,  5.96s/it]"
     ]
    },
    {
     "name": "stdout",
     "output_type": "stream",
     "text": [
      "Test update: epoch: 105 |accuracy: 0.8129609227180481 | f1: 0.8622170090675354 | auc: 0.8812684416770935 | treshold: 0.53\n"
     ]
    },
    {
     "name": "stderr",
     "output_type": "stream",
     "text": [
      "train... loss:0.9133046567440033:   2%|█▌                                                                        | 107/5000 [10:27<8:02:41,  5.92s/it]"
     ]
    },
    {
     "name": "stdout",
     "output_type": "stream",
     "text": [
      "Test update: epoch: 106 |accuracy: 0.8137347102165222 | f1: 0.8627723455429077 | auc: 0.8821742534637451 | treshold: 0.53\n"
     ]
    },
    {
     "name": "stderr",
     "output_type": "stream",
     "text": [
      "train... loss:0.9109039604663849:   2%|█▌                                                                        | 108/5000 [10:33<8:00:13,  5.89s/it]"
     ]
    },
    {
     "name": "stdout",
     "output_type": "stream",
     "text": [
      "Test update: epoch: 107 |accuracy: 0.8144118189811707 | f1: 0.8632662892341614 | auc: 0.8830686211585999 | treshold: 0.53\n"
     ]
    },
    {
     "name": "stderr",
     "output_type": "stream",
     "text": [
      "train... loss:0.9091814458370209:   2%|█▌                                                                        | 109/5000 [10:39<8:01:37,  5.91s/it]"
     ]
    },
    {
     "name": "stdout",
     "output_type": "stream",
     "text": [
      "Test update: epoch: 108 |accuracy: 0.8140007257461548 | f1: 0.8635347485542297 | auc: 0.8839232921600342 | treshold: 0.52\n"
     ]
    },
    {
     "name": "stderr",
     "output_type": "stream",
     "text": [
      "train... loss:0.9073004126548767:   2%|█▋                                                                        | 110/5000 [10:45<8:02:04,  5.92s/it]"
     ]
    },
    {
     "name": "stdout",
     "output_type": "stream",
     "text": [
      "Test update: epoch: 109 |accuracy: 0.8182565569877625 | f1: 0.864820122718811 | auc: 0.8847718238830566 | treshold: 0.55\n"
     ]
    },
    {
     "name": "stderr",
     "output_type": "stream",
     "text": [
      "train... loss:0.9058375358581543:   2%|█▋                                                                        | 111/5000 [10:51<8:00:30,  5.90s/it]"
     ]
    },
    {
     "name": "stdout",
     "output_type": "stream",
     "text": [
      "Test update: epoch: 110 |accuracy: 0.816346287727356 | f1: 0.8647156357765198 | auc: 0.8855753540992737 | treshold: 0.53\n"
     ]
    },
    {
     "name": "stderr",
     "output_type": "stream",
     "text": [
      "train... loss:0.9039007127285004:   2%|█▋                                                                        | 112/5000 [10:57<7:59:52,  5.89s/it]"
     ]
    },
    {
     "name": "stdout",
     "output_type": "stream",
     "text": [
      "Test update: epoch: 111 |accuracy: 0.8191996216773987 | f1: 0.8654707670211792 | auc: 0.8863679766654968 | treshold: 0.55\n"
     ]
    },
    {
     "name": "stderr",
     "output_type": "stream",
     "text": [
      "train... loss:0.9019670188426971:   2%|█▋                                                                        | 113/5000 [11:02<8:00:17,  5.90s/it]"
     ]
    },
    {
     "name": "stdout",
     "output_type": "stream",
     "text": [
      "Test update: epoch: 112 |accuracy: 0.8183532953262329 | f1: 0.865559458732605 | auc: 0.8871293663978577 | treshold: 0.54\n"
     ]
    },
    {
     "name": "stderr",
     "output_type": "stream",
     "text": [
      "train... loss:0.9007134437561035:   2%|█▋                                                                        | 114/5000 [11:08<8:04:37,  5.95s/it]"
     ]
    },
    {
     "name": "stdout",
     "output_type": "stream",
     "text": [
      "Test update: epoch: 113 |accuracy: 0.8189336061477661 | f1: 0.8659458160400391 | auc: 0.8878682851791382 | treshold: 0.54\n"
     ]
    },
    {
     "name": "stderr",
     "output_type": "stream",
     "text": [
      "train... loss:0.8993136286735535:   2%|█▋                                                                        | 115/5000 [11:14<8:04:27,  5.95s/it]"
     ]
    },
    {
     "name": "stdout",
     "output_type": "stream",
     "text": [
      "Test update: epoch: 114 |accuracy: 0.8192479610443115 | f1: 0.8661329746246338 | auc: 0.8885805606842041 | treshold: 0.54\n"
     ]
    },
    {
     "name": "stderr",
     "output_type": "stream",
     "text": [
      "train... loss:0.8973729610443115:   2%|█▋                                                                        | 116/5000 [11:20<8:04:44,  5.96s/it]"
     ]
    },
    {
     "name": "stdout",
     "output_type": "stream",
     "text": [
      "Test update: epoch: 115 |accuracy: 0.8202877640724182 | f1: 0.8668577671051025 | auc: 0.889275074005127 | treshold: 0.54\n"
     ]
    },
    {
     "name": "stderr",
     "output_type": "stream",
     "text": [
      "train... loss:0.8959211111068726:   2%|█▋                                                                        | 117/5000 [11:27<8:08:28,  6.00s/it]"
     ]
    },
    {
     "name": "stdout",
     "output_type": "stream",
     "text": [
      "Test update: epoch: 116 |accuracy: 0.8208439350128174 | f1: 0.8672245740890503 | auc: 0.8899377584457397 | treshold: 0.54\n"
     ]
    },
    {
     "name": "stderr",
     "output_type": "stream",
     "text": [
      "train... loss:0.8944546282291412:   2%|█▋                                                                        | 118/5000 [11:32<8:05:30,  5.97s/it]"
     ]
    },
    {
     "name": "stdout",
     "output_type": "stream",
     "text": [
      "Test update: epoch: 117 |accuracy: 0.8183290958404541 | f1: 0.8663809299468994 | auc: 0.8905807733535767 | treshold: 0.52\n"
     ]
    },
    {
     "name": "stderr",
     "output_type": "stream",
     "text": [
      "train... loss:0.8927936255931854:   2%|█▊                                                                        | 119/5000 [11:38<8:02:20,  5.93s/it]"
     ]
    },
    {
     "name": "stdout",
     "output_type": "stream",
     "text": [
      "Test update: epoch: 118 |accuracy: 0.8178938627243042 | f1: 0.8664456009864807 | auc: 0.8912075757980347 | treshold: 0.51\n"
     ]
    },
    {
     "name": "stderr",
     "output_type": "stream",
     "text": [
      "train... loss:0.8913454413414001:   2%|█▊                                                                        | 120/5000 [11:44<8:02:27,  5.93s/it]"
     ]
    },
    {
     "name": "stdout",
     "output_type": "stream",
     "text": [
      "Test update: epoch: 119 |accuracy: 0.8196107149124146 | f1: 0.8671036958694458 | auc: 0.8918204307556152 | treshold: 0.52\n"
     ]
    },
    {
     "name": "stderr",
     "output_type": "stream",
     "text": [
      "train... loss:0.8899324834346771:   2%|█▊                                                                        | 121/5000 [11:50<7:59:15,  5.89s/it]"
     ]
    },
    {
     "name": "stdout",
     "output_type": "stream",
     "text": [
      "Test update: epoch: 120 |accuracy: 0.8198283314704895 | f1: 0.8671386241912842 | auc: 0.8924295902252197 | treshold: 0.52\n"
     ]
    },
    {
     "name": "stderr",
     "output_type": "stream",
     "text": [
      "train... loss:0.8886677920818329:   2%|█▊                                                                        | 122/5000 [11:56<7:58:49,  5.89s/it]"
     ]
    },
    {
     "name": "stdout",
     "output_type": "stream",
     "text": [
      "Test update: epoch: 121 |accuracy: 0.8204811811447144 | f1: 0.8675373792648315 | auc: 0.8930283784866333 | treshold: 0.52\n"
     ]
    },
    {
     "name": "stderr",
     "output_type": "stream",
     "text": [
      "train... loss:0.8872413337230682:   2%|█▊                                                                        | 123/5000 [12:02<7:58:13,  5.88s/it]"
     ]
    },
    {
     "name": "stdout",
     "output_type": "stream",
     "text": [
      "Test update: epoch: 122 |accuracy: 0.8209406137466431 | f1: 0.867765486240387 | auc: 0.8936023712158203 | treshold: 0.52\n"
     ]
    },
    {
     "name": "stderr",
     "output_type": "stream",
     "text": [
      "train... loss:0.8861161768436432:   2%|█▊                                                                        | 124/5000 [12:08<7:58:46,  5.89s/it]"
     ]
    },
    {
     "name": "stdout",
     "output_type": "stream",
     "text": [
      "Test update: epoch: 123 |accuracy: 0.8206746578216553 | f1: 0.867958128452301 | auc: 0.8941655158996582 | treshold: 0.51\n"
     ]
    },
    {
     "name": "stderr",
     "output_type": "stream",
     "text": [
      "train... loss:0.8849100172519684:   2%|█▊                                                                        | 125/5000 [12:13<7:55:39,  5.85s/it]"
     ]
    },
    {
     "name": "stdout",
     "output_type": "stream",
     "text": [
      "Test update: epoch: 124 |accuracy: 0.8212308287620544 | f1: 0.8682292103767395 | auc: 0.8947122693061829 | treshold: 0.51\n"
     ]
    },
    {
     "name": "stderr",
     "output_type": "stream",
     "text": [
      "train... loss:0.8835883140563965:   3%|█▊                                                                        | 126/5000 [12:19<7:54:34,  5.84s/it]"
     ]
    },
    {
     "name": "stdout",
     "output_type": "stream",
     "text": [
      "Test update: epoch: 125 |accuracy: 0.8208922743797302 | f1: 0.8683550953865051 | auc: 0.8952391147613525 | treshold: 0.5\n"
     ]
    },
    {
     "name": "stderr",
     "output_type": "stream",
     "text": [
      "train... loss:0.8818712830543518:   3%|█▉                                                                        | 127/5000 [12:25<8:00:44,  5.92s/it]"
     ]
    },
    {
     "name": "stdout",
     "output_type": "stream",
     "text": [
      "Test update: epoch: 126 |accuracy: 0.8214484453201294 | f1: 0.868663489818573 | auc: 0.8957492113113403 | treshold: 0.5\n"
     ]
    },
    {
     "name": "stderr",
     "output_type": "stream",
     "text": [
      "train... loss:0.8808325529098511:   3%|█▉                                                                        | 128/5000 [12:31<7:59:44,  5.91s/it]"
     ]
    },
    {
     "name": "stdout",
     "output_type": "stream",
     "text": [
      "Test update: epoch: 127 |accuracy: 0.8245677947998047 | f1: 0.8694180846214294 | auc: 0.8962444067001343 | treshold: 0.53\n"
     ]
    },
    {
     "name": "stderr",
     "output_type": "stream",
     "text": [
      "train... loss:0.8805322349071503:   3%|█▉                                                                        | 129/5000 [12:37<7:59:58,  5.91s/it]"
     ]
    },
    {
     "name": "stdout",
     "output_type": "stream",
     "text": [
      "Test update: epoch: 128 |accuracy: 0.8267682194709778 | f1: 0.8697880506515503 | auc: 0.8967346549034119 | treshold: 0.55\n"
     ]
    },
    {
     "name": "stderr",
     "output_type": "stream",
     "text": [
      "train... loss:0.8793127536773682:   3%|█▉                                                                        | 130/5000 [12:43<8:00:47,  5.92s/it]"
     ]
    },
    {
     "name": "stdout",
     "output_type": "stream",
     "text": [
      "Test update: epoch: 129 |accuracy: 0.827130913734436 | f1: 0.8699496388435364 | auc: 0.8972110152244568 | treshold: 0.55\n"
     ]
    },
    {
     "name": "stderr",
     "output_type": "stream",
     "text": [
      "train... loss:0.8778781592845917:   3%|█▉                                                                        | 131/5000 [12:49<8:01:34,  5.93s/it]"
     ]
    },
    {
     "name": "stdout",
     "output_type": "stream",
     "text": [
      "Test update: epoch: 130 |accuracy: 0.8246161341667175 | f1: 0.8700761198997498 | auc: 0.8976867198944092 | treshold: 0.51\n"
     ]
    },
    {
     "name": "stderr",
     "output_type": "stream",
     "text": [
      "train... loss:0.8771942555904388:   3%|█▉                                                                        | 132/5000 [12:55<7:59:51,  5.91s/it]"
     ]
    },
    {
     "name": "stdout",
     "output_type": "stream",
     "text": [
      "Test update: epoch: 131 |accuracy: 0.827711284160614 | f1: 0.8707623481750488 | auc: 0.89815354347229 | treshold: 0.54\n"
     ]
    },
    {
     "name": "stderr",
     "output_type": "stream",
     "text": [
      "train... loss:0.8763053119182587:   3%|█▉                                                                        | 133/5000 [13:01<8:02:17,  5.95s/it]"
     ]
    },
    {
     "name": "stdout",
     "output_type": "stream",
     "text": [
      "Test update: epoch: 132 |accuracy: 0.8269616961479187 | f1: 0.8706996440887451 | auc: 0.8986291885375977 | treshold: 0.53\n"
     ]
    },
    {
     "name": "stderr",
     "output_type": "stream",
     "text": [
      "train... loss:0.8753153681755066:   3%|█▉                                                                        | 134/5000 [13:07<8:01:04,  5.93s/it]"
     ]
    },
    {
     "name": "stdout",
     "output_type": "stream",
     "text": [
      "Test update: epoch: 133 |accuracy: 0.8274211287498474 | f1: 0.8709566593170166 | auc: 0.8991143703460693 | treshold: 0.53\n"
     ]
    },
    {
     "name": "stderr",
     "output_type": "stream",
     "text": [
      "train... loss:0.8748559951782227:   3%|█▉                                                                        | 135/5000 [13:13<7:58:20,  5.90s/it]"
     ]
    },
    {
     "name": "stdout",
     "output_type": "stream",
     "text": [
      "Test update: epoch: 134 |accuracy: 0.8276629447937012 | f1: 0.871114194393158 | auc: 0.8996044397354126 | treshold: 0.53\n"
     ]
    },
    {
     "name": "stderr",
     "output_type": "stream",
     "text": [
      "train... loss:0.8744068443775177:   3%|██                                                                        | 136/5000 [13:18<7:55:15,  5.86s/it]"
     ]
    },
    {
     "name": "stdout",
     "output_type": "stream",
     "text": [
      "Test update: epoch: 135 |accuracy: 0.8268649578094482 | f1: 0.8710839152336121 | auc: 0.900104284286499 | treshold: 0.52\n"
     ]
    },
    {
     "name": "stderr",
     "output_type": "stream",
     "text": [
      "train... loss:0.8729687035083771:   3%|██                                                                        | 137/5000 [13:24<7:57:25,  5.89s/it]"
     ]
    },
    {
     "name": "stdout",
     "output_type": "stream",
     "text": [
      "Test update: epoch: 136 |accuracy: 0.8307580947875977 | f1: 0.8722087144851685 | auc: 0.9006257057189941 | treshold: 0.55\n"
     ]
    },
    {
     "name": "stderr",
     "output_type": "stream",
     "text": [
      "train... loss:0.8725252151489258:   3%|██                                                                        | 138/5000 [13:30<7:55:46,  5.87s/it]"
     ]
    },
    {
     "name": "stdout",
     "output_type": "stream",
     "text": [
      "Test update: epoch: 137 |accuracy: 0.8310482501983643 | f1: 0.8724976778030396 | auc: 0.9011436104774475 | treshold: 0.55\n"
     ]
    },
    {
     "name": "stderr",
     "output_type": "stream",
     "text": [
      "train... loss:0.871251106262207:   3%|██                                                                         | 139/5000 [13:36<7:59:36,  5.92s/it]"
     ]
    },
    {
     "name": "stdout",
     "output_type": "stream",
     "text": [
      "Test update: epoch: 138 |accuracy: 0.8314593434333801 | f1: 0.8728519678115845 | auc: 0.9016558527946472 | treshold: 0.55\n"
     ]
    },
    {
     "name": "stderr",
     "output_type": "stream",
     "text": [
      "train... loss:0.8700187802314758:   3%|██                                                                        | 140/5000 [13:42<7:59:47,  5.92s/it]"
     ]
    },
    {
     "name": "stdout",
     "output_type": "stream",
     "text": [
      "Test update: epoch: 139 |accuracy: 0.8312175273895264 | f1: 0.8728180527687073 | auc: 0.9021801948547363 | treshold: 0.55\n"
     ]
    },
    {
     "name": "stderr",
     "output_type": "stream",
     "text": [
      "train... loss:0.8695705831050873:   3%|██                                                                        | 141/5000 [13:48<8:01:13,  5.94s/it]"
     ]
    },
    {
     "name": "stdout",
     "output_type": "stream",
     "text": [
      "Test update: epoch: 140 |accuracy: 0.8320154547691345 | f1: 0.8730793595314026 | auc: 0.9026961326599121 | treshold: 0.56\n"
     ]
    },
    {
     "name": "stderr",
     "output_type": "stream",
     "text": [
      "train... loss:0.8682632446289062:   3%|██                                                                        | 142/5000 [13:54<8:01:14,  5.94s/it]"
     ]
    },
    {
     "name": "stdout",
     "output_type": "stream",
     "text": [
      "Test update: epoch: 141 |accuracy: 0.8313626050949097 | f1: 0.8732045888900757 | auc: 0.9031891822814941 | treshold: 0.55\n"
     ]
    },
    {
     "name": "stderr",
     "output_type": "stream",
     "text": [
      "train... loss:0.8675009608268738:   3%|██                                                                        | 143/5000 [14:00<8:00:28,  5.94s/it]"
     ]
    },
    {
     "name": "stdout",
     "output_type": "stream",
     "text": [
      "Test update: epoch: 142 |accuracy: 0.8303470015525818 | f1: 0.872681736946106 | auc: 0.9036602973937988 | treshold: 0.55\n"
     ]
    },
    {
     "name": "stderr",
     "output_type": "stream",
     "text": [
      "train... loss:0.8673691749572754:   3%|██▏                                                                       | 144/5000 [14:06<8:02:44,  5.96s/it]"
     ]
    },
    {
     "name": "stdout",
     "output_type": "stream",
     "text": [
      "Test update: epoch: 143 |accuracy: 0.8281707167625427 | f1: 0.8720746040344238 | auc: 0.9041008949279785 | treshold: 0.53\n"
     ]
    },
    {
     "name": "stderr",
     "output_type": "stream",
     "text": [
      "train... loss:0.8662569522857666:   3%|██▏                                                                       | 145/5000 [14:12<8:00:26,  5.94s/it]"
     ]
    },
    {
     "name": "stdout",
     "output_type": "stream",
     "text": [
      "Test update: epoch: 144 |accuracy: 0.8282915949821472 | f1: 0.8722726702690125 | auc: 0.9044939279556274 | treshold: 0.53\n"
     ]
    },
    {
     "name": "stderr",
     "output_type": "stream",
     "text": [
      "train... loss:0.8656950891017914:   3%|██▏                                                                       | 146/5000 [14:18<7:58:49,  5.92s/it]"
     ]
    },
    {
     "name": "stdout",
     "output_type": "stream",
     "text": [
      "Test update: epoch: 145 |accuracy: 0.8283399939537048 | f1: 0.8724371790885925 | auc: 0.9048448801040649 | treshold: 0.53\n"
     ]
    },
    {
     "name": "stderr",
     "output_type": "stream",
     "text": [
      "train... loss:0.8653552532196045:   3%|██▏                                                                       | 147/5000 [14:24<7:57:00,  5.90s/it]"
     ]
    },
    {
     "name": "stdout",
     "output_type": "stream",
     "text": [
      "Test update: epoch: 146 |accuracy: 0.8281707167625427 | f1: 0.8724877834320068 | auc: 0.9051536321640015 | treshold: 0.53\n"
     ]
    },
    {
     "name": "stderr",
     "output_type": "stream",
     "text": [
      "train... loss:0.8648782968521118:   3%|██▏                                                                       | 148/5000 [14:30<7:56:49,  5.90s/it]"
     ]
    },
    {
     "name": "stdout",
     "output_type": "stream",
     "text": [
      "Test update: epoch: 147 |accuracy: 0.8273969292640686 | f1: 0.8724765181541443 | auc: 0.905430018901825 | treshold: 0.52\n"
     ]
    },
    {
     "name": "stderr",
     "output_type": "stream",
     "text": [
      "train... loss:0.8651649653911591:   3%|██▏                                                                       | 149/5000 [14:36<7:59:35,  5.93s/it]"
     ]
    },
    {
     "name": "stdout",
     "output_type": "stream",
     "text": [
      "Test update: epoch: 148 |accuracy: 0.8279772996902466 | f1: 0.872645914554596 | auc: 0.905657172203064 | treshold: 0.53\n"
     ]
    },
    {
     "name": "stderr",
     "output_type": "stream",
     "text": [
      "train... loss:0.8644831776618958:   3%|██▏                                                                       | 150/5000 [14:41<7:58:35,  5.92s/it]"
     ]
    },
    {
     "name": "stdout",
     "output_type": "stream",
     "text": [
      "Test update: epoch: 149 |accuracy: 0.8272276520729065 | f1: 0.8722258806228638 | auc: 0.9058509469032288 | treshold: 0.53\n"
     ]
    },
    {
     "name": "stderr",
     "output_type": "stream",
     "text": [
      "train... loss:0.86529940366745:   3%|██▎                                                                         | 151/5000 [14:48<8:02:27,  5.97s/it]"
     ]
    },
    {
     "name": "stdout",
     "output_type": "stream",
     "text": [
      "Test update: epoch: 150 |accuracy: 0.827711284160614 | f1: 0.872282087802887 | auc: 0.9060364961624146 | treshold: 0.54\n"
     ]
    },
    {
     "name": "stderr",
     "output_type": "stream",
     "text": [
      "train... loss:0.8655629456043243:   3%|██▏                                                                       | 152/5000 [14:54<8:04:48,  6.00s/it]"
     ]
    },
    {
     "name": "stdout",
     "output_type": "stream",
     "text": [
      "Test update: epoch: 151 |accuracy: 0.8273727297782898 | f1: 0.8721365332603455 | auc: 0.9062050580978394 | treshold: 0.54\n"
     ]
    },
    {
     "name": "stderr",
     "output_type": "stream",
     "text": [
      "train... loss:0.8653474450111389:   3%|██▎                                                                       | 153/5000 [15:00<8:05:11,  6.01s/it]"
     ]
    },
    {
     "name": "stdout",
     "output_type": "stream",
     "text": [
      "Test update: epoch: 152 |accuracy: 0.8272034525871277 | f1: 0.8720592856407166 | auc: 0.9063708186149597 | treshold: 0.54\n"
     ]
    },
    {
     "name": "stderr",
     "output_type": "stream",
     "text": [
      "train... loss:0.8655742108821869:   3%|██▎                                                                       | 154/5000 [15:06<8:02:33,  5.97s/it]"
     ]
    },
    {
     "name": "stdout",
     "output_type": "stream",
     "text": [
      "Test update: epoch: 153 |accuracy: 0.8271551132202148 | f1: 0.8720464110374451 | auc: 0.9065417051315308 | treshold: 0.54\n"
     ]
    },
    {
     "name": "stderr",
     "output_type": "stream",
     "text": [
      "train... loss:0.8654189109802246:   3%|██▎                                                                       | 155/5000 [15:12<8:02:33,  5.98s/it]"
     ]
    },
    {
     "name": "stdout",
     "output_type": "stream",
     "text": [
      "Test update: epoch: 154 |accuracy: 0.8340950012207031 | f1: 0.8728479146957397 | auc: 0.9067270159721375 | treshold: 0.63\n"
     ]
    },
    {
     "name": "stderr",
     "output_type": "stream",
     "text": [
      "train... loss:0.8649826943874359:   3%|██▎                                                                       | 156/5000 [15:17<7:59:00,  5.93s/it]"
     ]
    },
    {
     "name": "stdout",
     "output_type": "stream",
     "text": [
      "Test update: epoch: 155 |accuracy: 0.8340708613395691 | f1: 0.8728600144386292 | auc: 0.906928300857544 | treshold: 0.63\n"
     ]
    },
    {
     "name": "stderr",
     "output_type": "stream",
     "text": [
      "train... loss:0.8647338449954987:   3%|██▎                                                                       | 157/5000 [15:23<7:58:36,  5.93s/it]"
     ]
    },
    {
     "name": "stdout",
     "output_type": "stream",
     "text": [
      "Test update: epoch: 156 |accuracy: 0.8275420069694519 | f1: 0.8722001314163208 | auc: 0.9071575999259949 | treshold: 0.54\n"
     ]
    },
    {
     "name": "stderr",
     "output_type": "stream",
     "text": [
      "train... loss:0.8644004166126251:   3%|██▎                                                                       | 158/5000 [15:29<7:58:47,  5.93s/it]"
     ]
    },
    {
     "name": "stdout",
     "output_type": "stream",
     "text": [
      "Test update: epoch: 157 |accuracy: 0.8264055252075195 | f1: 0.8720890879631042 | auc: 0.9073909521102905 | treshold: 0.52\n"
     ]
    },
    {
     "name": "stderr",
     "output_type": "stream",
     "text": [
      "train... loss:0.8639080226421356:   3%|██▎                                                                       | 159/5000 [15:35<7:58:23,  5.93s/it]"
     ]
    },
    {
     "name": "stdout",
     "output_type": "stream",
     "text": [
      "Test update: epoch: 158 |accuracy: 0.8273969292640686 | f1: 0.8722528219223022 | auc: 0.9076123237609863 | treshold: 0.53\n"
     ]
    },
    {
     "name": "stderr",
     "output_type": "stream",
     "text": [
      "train... loss:0.8634313344955444:   3%|██▎                                                                       | 160/5000 [15:41<7:57:43,  5.92s/it]"
     ]
    },
    {
     "name": "stdout",
     "output_type": "stream",
     "text": [
      "Test update: epoch: 159 |accuracy: 0.8280498385429382 | f1: 0.8726198077201843 | auc: 0.9078458547592163 | treshold: 0.53\n"
     ]
    },
    {
     "name": "stderr",
     "output_type": "stream",
     "text": [
      "train... loss:0.8626496195793152:   3%|██▍                                                                       | 161/5000 [15:47<7:57:40,  5.92s/it]"
     ]
    },
    {
     "name": "stdout",
     "output_type": "stream",
     "text": [
      "Test update: epoch: 160 |accuracy: 0.8275662064552307 | f1: 0.8724534511566162 | auc: 0.9080719351768494 | treshold: 0.52\n"
     ]
    },
    {
     "name": "stderr",
     "output_type": "stream",
     "text": [
      "train... loss:0.8616367876529694:   3%|██▍                                                                       | 162/5000 [15:53<7:57:30,  5.92s/it]"
     ]
    },
    {
     "name": "stdout",
     "output_type": "stream",
     "text": [
      "Test update: epoch: 161 |accuracy: 0.8277354836463928 | f1: 0.8727766275405884 | auc: 0.9082806706428528 | treshold: 0.51\n"
     ]
    },
    {
     "name": "stderr",
     "output_type": "stream",
     "text": [
      "train... loss:0.8617541491985321:   3%|██▍                                                                       | 163/5000 [15:59<8:00:41,  5.96s/it]"
     ]
    },
    {
     "name": "stdout",
     "output_type": "stream",
     "text": [
      "Test update: epoch: 162 |accuracy: 0.8276387453079224 | f1: 0.8728731870651245 | auc: 0.9084664583206177 | treshold: 0.5\n"
     ]
    },
    {
     "name": "stderr",
     "output_type": "stream",
     "text": [
      "train... loss:0.861190915107727:   3%|██▍                                                                        | 164/5000 [16:05<7:58:17,  5.93s/it]"
     ]
    },
    {
     "name": "stdout",
     "output_type": "stream",
     "text": [
      "Test update: epoch: 163 |accuracy: 0.8281465172767639 | f1: 0.8730099201202393 | auc: 0.9086202383041382 | treshold: 0.5\n"
     ]
    },
    {
     "name": "stderr",
     "output_type": "stream",
     "text": [
      "train... loss:0.8608125448226929:   3%|██▍                                                                       | 165/5000 [16:11<7:57:00,  5.92s/it]"
     ]
    },
    {
     "name": "stdout",
     "output_type": "stream",
     "text": [
      "Test update: epoch: 164 |accuracy: 0.828315794467926 | f1: 0.8732595443725586 | auc: 0.9087333679199219 | treshold: 0.49\n"
     ]
    },
    {
     "name": "stderr",
     "output_type": "stream",
     "text": [
      "train... loss:0.8604578077793121:   3%|██▍                                                                       | 166/5000 [16:16<7:53:57,  5.88s/it]"
     ]
    },
    {
     "name": "stdout",
     "output_type": "stream",
     "text": [
      "Test update: epoch: 165 |accuracy: 0.8332003355026245 | f1: 0.8744813799858093 | auc: 0.9088104963302612 | treshold: 0.54\n"
     ]
    },
    {
     "name": "stderr",
     "output_type": "stream",
     "text": [
      "train... loss:0.8605137765407562:   3%|██▍                                                                       | 167/5000 [16:22<7:53:08,  5.87s/it]"
     ]
    },
    {
     "name": "stdout",
     "output_type": "stream",
     "text": [
      "Test update: epoch: 166 |accuracy: 0.8326200246810913 | f1: 0.8745832443237305 | auc: 0.9088492393493652 | treshold: 0.52\n"
     ]
    },
    {
     "name": "stderr",
     "output_type": "stream",
     "text": [
      "train... loss:0.8613791167736053:   3%|██▍                                                                       | 168/5000 [16:28<7:53:33,  5.88s/it]"
     ]
    },
    {
     "name": "stdout",
     "output_type": "stream",
     "text": [
      "Test update: epoch: 167 |accuracy: 0.8325958251953125 | f1: 0.8750383853912354 | auc: 0.9088615775108337 | treshold: 0.5\n"
     ]
    },
    {
     "name": "stderr",
     "output_type": "stream",
     "text": [
      "train... loss:0.8674159348011017:   4%|██▌                                                                       | 175/5000 [17:06<7:27:23,  5.56s/it]"
     ]
    },
    {
     "name": "stdout",
     "output_type": "stream",
     "text": [
      "Test update: epoch: 174 |accuracy: 0.8345544934272766 | f1: 0.8759922981262207 | auc: 0.9088257551193237 | treshold: 0.48000000000000004\n"
     ]
    },
    {
     "name": "stderr",
     "output_type": "stream",
     "text": [
      "train... loss:0.8678275048732758:   4%|██▌                                                                       | 176/5000 [17:12<7:37:13,  5.69s/it]"
     ]
    },
    {
     "name": "stdout",
     "output_type": "stream",
     "text": [
      "Test update: epoch: 175 |accuracy: 0.8342159390449524 | f1: 0.8757656216621399 | auc: 0.908938467502594 | treshold: 0.48000000000000004\n"
     ]
    },
    {
     "name": "stderr",
     "output_type": "stream",
     "text": [
      "train... loss:0.8676605522632599:   4%|██▌                                                                       | 177/5000 [17:18<7:40:50,  5.73s/it]"
     ]
    },
    {
     "name": "stdout",
     "output_type": "stream",
     "text": [
      "Test update: epoch: 176 |accuracy: 0.8341917395591736 | f1: 0.8761134147644043 | auc: 0.9090909957885742 | treshold: 0.47000000000000003\n"
     ]
    },
    {
     "name": "stderr",
     "output_type": "stream",
     "text": [
      "train... loss:0.8668874204158783:   4%|██▋                                                                       | 178/5000 [17:24<7:45:18,  5.79s/it]"
     ]
    },
    {
     "name": "stdout",
     "output_type": "stream",
     "text": [
      "Test update: epoch: 177 |accuracy: 0.8334421515464783 | f1: 0.8760660886764526 | auc: 0.9092920422554016 | treshold: 0.46\n"
     ]
    },
    {
     "name": "stderr",
     "output_type": "stream",
     "text": [
      "train... loss:0.8657966256141663:   4%|██▋                                                                       | 179/5000 [17:30<7:44:09,  5.78s/it]"
     ]
    },
    {
     "name": "stdout",
     "output_type": "stream",
     "text": [
      "Test update: epoch: 178 |accuracy: 0.8340950012207031 | f1: 0.8762602210044861 | auc: 0.9095185399055481 | treshold: 0.47000000000000003\n"
     ]
    },
    {
     "name": "stderr",
     "output_type": "stream",
     "text": [
      "train... loss:0.8646002411842346:   4%|██▋                                                                       | 180/5000 [17:36<7:45:25,  5.79s/it]"
     ]
    },
    {
     "name": "stdout",
     "output_type": "stream",
     "text": [
      "Test update: epoch: 179 |accuracy: 0.8333454132080078 | f1: 0.8759137392044067 | auc: 0.909743070602417 | treshold: 0.47000000000000003\n"
     ]
    },
    {
     "name": "stderr",
     "output_type": "stream",
     "text": [
      "train... loss:0.8632854223251343:   4%|██▋                                                                       | 181/5000 [17:42<7:51:09,  5.87s/it]"
     ]
    },
    {
     "name": "stdout",
     "output_type": "stream",
     "text": [
      "Test update: epoch: 180 |accuracy: 0.8327892422676086 | f1: 0.8753672242164612 | auc: 0.9099547266960144 | treshold: 0.48000000000000004\n"
     ]
    },
    {
     "name": "stderr",
     "output_type": "stream",
     "text": [
      "train... loss:0.8613119721412659:   4%|██▋                                                                       | 182/5000 [17:48<7:50:50,  5.86s/it]"
     ]
    },
    {
     "name": "stdout",
     "output_type": "stream",
     "text": [
      "Test update: epoch: 181 |accuracy: 0.8336355686187744 | f1: 0.8747131824493408 | auc: 0.9101214408874512 | treshold: 0.52\n"
     ]
    },
    {
     "name": "stderr",
     "output_type": "stream",
     "text": [
      "train... loss:0.8605220317840576:   4%|██▋                                                                       | 183/5000 [17:54<7:51:22,  5.87s/it]"
     ]
    },
    {
     "name": "stdout",
     "output_type": "stream",
     "text": [
      "Test update: epoch: 182 |accuracy: 0.833103597164154 | f1: 0.8749954700469971 | auc: 0.9102224707603455 | treshold: 0.51\n"
     ]
    },
    {
     "name": "stderr",
     "output_type": "stream",
     "text": [
      "train... loss:0.8593679964542389:   4%|██▋                                                                       | 184/5000 [18:00<7:54:09,  5.91s/it]"
     ]
    },
    {
     "name": "stdout",
     "output_type": "stream",
     "text": [
      "Test update: epoch: 183 |accuracy: 0.8321605324745178 | f1: 0.8746727108955383 | auc: 0.9102568626403809 | treshold: 0.51\n"
     ]
    },
    {
     "name": "stderr",
     "output_type": "stream",
     "text": [
      "train... loss:0.8591760098934174:   4%|██▋                                                                       | 185/5000 [18:05<7:52:55,  5.89s/it]"
     ]
    },
    {
     "name": "stdout",
     "output_type": "stream",
     "text": [
      "Test update: epoch: 184 |accuracy: 0.8326200246810913 | f1: 0.8736215829849243 | auc: 0.9102156162261963 | treshold: 0.55\n"
     ]
    },
    {
     "name": "stderr",
     "output_type": "stream",
     "text": [
      "train... loss:0.8633071780204773:   4%|███                                                                       | 207/5000 [20:06<7:26:38,  5.59s/it]"
     ]
    },
    {
     "name": "stdout",
     "output_type": "stream",
     "text": [
      "Test update: epoch: 206 |accuracy: 0.8322572708129883 | f1: 0.8738383054733276 | auc: 0.9090230464935303 | treshold: 0.5800000000000001\n"
     ]
    },
    {
     "name": "stderr",
     "output_type": "stream",
     "text": [
      "train... loss:0.8612606823444366:   4%|███                                                                       | 208/5000 [20:12<7:34:20,  5.69s/it]"
     ]
    },
    {
     "name": "stdout",
     "output_type": "stream",
     "text": [
      "Test update: epoch: 207 |accuracy: 0.8320879936218262 | f1: 0.8737775683403015 | auc: 0.9092820882797241 | treshold: 0.5700000000000001\n"
     ]
    },
    {
     "name": "stderr",
     "output_type": "stream",
     "text": [
      "train... loss:0.8596161901950836:   4%|███                                                                       | 209/5000 [20:18<7:40:30,  5.77s/it]"
     ]
    },
    {
     "name": "stdout",
     "output_type": "stream",
     "text": [
      "Test update: epoch: 208 |accuracy: 0.8320154547691345 | f1: 0.873347818851471 | auc: 0.9095149636268616 | treshold: 0.5700000000000001\n"
     ]
    },
    {
     "name": "stderr",
     "output_type": "stream",
     "text": [
      "train... loss:0.8585167229175568:   4%|███                                                                       | 210/5000 [20:24<7:41:46,  5.78s/it]"
     ]
    },
    {
     "name": "stdout",
     "output_type": "stream",
     "text": [
      "Test update: epoch: 209 |accuracy: 0.8308064341545105 | f1: 0.873839259147644 | auc: 0.9097075462341309 | treshold: 0.53\n"
     ]
    },
    {
     "name": "stderr",
     "output_type": "stream",
     "text": [
      "train... loss:0.8581836521625519:   4%|███                                                                       | 211/5000 [20:30<7:46:34,  5.85s/it]"
     ]
    },
    {
     "name": "stdout",
     "output_type": "stream",
     "text": [
      "Test update: epoch: 210 |accuracy: 0.8312416672706604 | f1: 0.8741229772567749 | auc: 0.9098572134971619 | treshold: 0.52\n"
     ]
    },
    {
     "name": "stderr",
     "output_type": "stream",
     "text": [
      "train... loss:0.8576178252696991:   4%|███▏                                                                      | 212/5000 [20:36<7:48:07,  5.87s/it]"
     ]
    },
    {
     "name": "stdout",
     "output_type": "stream",
     "text": [
      "Test update: epoch: 211 |accuracy: 0.831314206123352 | f1: 0.8741475939750671 | auc: 0.9099629521369934 | treshold: 0.51\n"
     ]
    },
    {
     "name": "stderr",
     "output_type": "stream",
     "text": [
      "train... loss:0.858148843050003:   4%|███▏                                                                       | 213/5000 [20:42<7:48:14,  5.87s/it]"
     ]
    },
    {
     "name": "stdout",
     "output_type": "stream",
     "text": [
      "Test update: epoch: 212 |accuracy: 0.8322089314460754 | f1: 0.8744049668312073 | auc: 0.9100291728973389 | treshold: 0.51\n"
     ]
    },
    {
     "name": "stderr",
     "output_type": "stream",
     "text": [
      "train... loss:0.8586046099662781:   4%|███▏                                                                      | 214/5000 [20:48<7:49:40,  5.89s/it]"
     ]
    },
    {
     "name": "stdout",
     "output_type": "stream",
     "text": [
      "Test update: epoch: 213 |accuracy: 0.834723711013794 | f1: 0.8749382495880127 | auc: 0.9100640416145325 | treshold: 0.53\n"
     ]
    },
    {
     "name": "stderr",
     "output_type": "stream",
     "text": [
      "train... loss:0.8570725917816162:   5%|███▌                                                                      | 239/5000 [23:03<7:21:25,  5.56s/it]"
     ]
    },
    {
     "name": "stdout",
     "output_type": "stream",
     "text": [
      "Test update: epoch: 238 |accuracy: 0.8324265480041504 | f1: 0.8724977970123291 | auc: 0.9110393524169922 | treshold: 0.6\n"
     ]
    },
    {
     "name": "stderr",
     "output_type": "stream",
     "text": [
      "train... loss:0.8571676313877106:   5%|███▌                                                                      | 240/5000 [23:09<7:32:50,  5.71s/it]"
     ]
    },
    {
     "name": "stdout",
     "output_type": "stream",
     "text": [
      "Test update: epoch: 239 |accuracy: 0.8322331309318542 | f1: 0.8723270893096924 | auc: 0.9111320972442627 | treshold: 0.61\n"
     ]
    },
    {
     "name": "stderr",
     "output_type": "stream",
     "text": [
      "train... loss:0.8580743074417114:   5%|███▌                                                                      | 241/5000 [23:14<7:36:03,  5.75s/it]"
     ]
    },
    {
     "name": "stdout",
     "output_type": "stream",
     "text": [
      "Test update: epoch: 240 |accuracy: 0.8318703770637512 | f1: 0.8719403147697449 | auc: 0.9112056493759155 | treshold: 0.62\n"
     ]
    },
    {
     "name": "stderr",
     "output_type": "stream",
     "text": [
      "train... loss:0.8582716584205627:   5%|███▌                                                                      | 242/5000 [23:20<7:40:09,  5.80s/it]"
     ]
    },
    {
     "name": "stdout",
     "output_type": "stream",
     "text": [
      "Test update: epoch: 241 |accuracy: 0.830685555934906 | f1: 0.8724915385246277 | auc: 0.9112532138824463 | treshold: 0.6\n"
     ]
    },
    {
     "name": "stderr",
     "output_type": "stream",
     "text": [
      "train... loss:0.8594147562980652:   5%|███▌                                                                      | 243/5000 [23:26<7:43:49,  5.85s/it]"
     ]
    },
    {
     "name": "stdout",
     "output_type": "stream",
     "text": [
      "Test update: epoch: 242 |accuracy: 0.830903172492981 | f1: 0.8724673390388489 | auc: 0.9112672209739685 | treshold: 0.61\n"
     ]
    },
    {
     "name": "stderr",
     "output_type": "stream",
     "text": [
      "train... loss:0.8602371215820312:   5%|███▌                                                                      | 244/5000 [23:32<7:45:51,  5.88s/it]"
     ]
    },
    {
     "name": "stdout",
     "output_type": "stream",
     "text": [
      "Test update: epoch: 243 |accuracy: 0.8293313980102539 | f1: 0.8717613220214844 | auc: 0.9112588167190552 | treshold: 0.61\n"
     ]
    },
    {
     "name": "stderr",
     "output_type": "stream",
     "text": [
      "train... loss:0.8557296395301819:   6%|████▏                                                                     | 284/5000 [27:09<7:14:22,  5.53s/it]"
     ]
    },
    {
     "name": "stdout",
     "output_type": "stream",
     "text": [
      "Test update: epoch: 283 |accuracy: 0.8345786333084106 | f1: 0.8753257393836975 | auc: 0.9110386371612549 | treshold: 0.52\n"
     ]
    },
    {
     "name": "stderr",
     "output_type": "stream",
     "text": [
      "train... loss:0.8548424541950226:   6%|████▏                                                                     | 285/5000 [27:15<7:24:47,  5.66s/it]"
     ]
    },
    {
     "name": "stdout",
     "output_type": "stream",
     "text": [
      "Test update: epoch: 284 |accuracy: 0.8343126773834229 | f1: 0.8750866055488586 | auc: 0.9112248420715332 | treshold: 0.53\n"
     ]
    },
    {
     "name": "stderr",
     "output_type": "stream",
     "text": [
      "train... loss:0.8539393544197083:   6%|████▏                                                                     | 286/5000 [27:21<7:34:14,  5.78s/it]"
     ]
    },
    {
     "name": "stdout",
     "output_type": "stream",
     "text": [
      "Test update: epoch: 285 |accuracy: 0.8341917395591736 | f1: 0.8749566674232483 | auc: 0.9114218354225159 | treshold: 0.54\n"
     ]
    },
    {
     "name": "stderr",
     "output_type": "stream",
     "text": [
      "train... loss:0.8534521758556366:   6%|████▏                                                                     | 287/5000 [27:27<7:39:46,  5.85s/it]"
     ]
    },
    {
     "name": "stdout",
     "output_type": "stream",
     "text": [
      "Test update: epoch: 286 |accuracy: 0.8330069184303284 | f1: 0.874873161315918 | auc: 0.9115960597991943 | treshold: 0.53\n"
     ]
    },
    {
     "name": "stderr",
     "output_type": "stream",
     "text": [
      "train... loss:0.8530628085136414:   6%|████▎                                                                     | 288/5000 [27:33<7:40:04,  5.86s/it]"
     ]
    },
    {
     "name": "stdout",
     "output_type": "stream",
     "text": [
      "Test update: epoch: 287 |accuracy: 0.8331277966499329 | f1: 0.8749070763587952 | auc: 0.911765456199646 | treshold: 0.54\n"
     ]
    },
    {
     "name": "stderr",
     "output_type": "stream",
     "text": [
      "train... loss:0.8531214594841003:   6%|████▎                                                                     | 289/5000 [27:39<7:40:55,  5.87s/it]"
     ]
    },
    {
     "name": "stdout",
     "output_type": "stream",
     "text": [
      "Test update: epoch: 288 |accuracy: 0.8322814702987671 | f1: 0.8746928572654724 | auc: 0.9119115471839905 | treshold: 0.54\n"
     ]
    },
    {
     "name": "stderr",
     "output_type": "stream",
     "text": [
      "train... loss:0.8531867265701294:   6%|████▎                                                                     | 290/5000 [27:45<7:43:03,  5.90s/it]"
     ]
    },
    {
     "name": "stdout",
     "output_type": "stream",
     "text": [
      "Test update: epoch: 289 |accuracy: 0.8339983224868774 | f1: 0.8745591640472412 | auc: 0.9120486974716187 | treshold: 0.5800000000000001\n"
     ]
    },
    {
     "name": "stderr",
     "output_type": "stream",
     "text": [
      "train... loss:0.8539794981479645:   6%|████▎                                                                     | 291/5000 [27:51<7:46:39,  5.95s/it]"
     ]
    },
    {
     "name": "stdout",
     "output_type": "stream",
     "text": [
      "Test update: epoch: 290 |accuracy: 0.8337323069572449 | f1: 0.8742915391921997 | auc: 0.9121565222740173 | treshold: 0.59\n"
     ]
    },
    {
     "name": "stderr",
     "output_type": "stream",
     "text": [
      "train... loss:0.8539563119411469:   6%|████▎                                                                     | 292/5000 [27:57<7:49:09,  5.98s/it]"
     ]
    },
    {
     "name": "stdout",
     "output_type": "stream",
     "text": [
      "Test update: epoch: 291 |accuracy: 0.8335630297660828 | f1: 0.8740507364273071 | auc: 0.912246584892273 | treshold: 0.6\n"
     ]
    },
    {
     "name": "stderr",
     "output_type": "stream",
     "text": [
      "train... loss:0.8552283346652985:   6%|████▎                                                                     | 293/5000 [28:03<7:46:17,  5.94s/it]"
     ]
    },
    {
     "name": "stdout",
     "output_type": "stream",
     "text": [
      "Test update: epoch: 292 |accuracy: 0.8336355686187744 | f1: 0.8740434050559998 | auc: 0.9122886657714844 | treshold: 0.61\n"
     ]
    },
    {
     "name": "stderr",
     "output_type": "stream",
     "text": [
      "train... loss:0.8560380041599274:   6%|████▎                                                                     | 294/5000 [28:09<7:44:34,  5.92s/it]"
     ]
    },
    {
     "name": "stdout",
     "output_type": "stream",
     "text": [
      "Test update: epoch: 293 |accuracy: 0.8337565064430237 | f1: 0.87453693151474 | auc: 0.9123026728630066 | treshold: 0.61\n"
     ]
    },
    {
     "name": "stderr",
     "output_type": "stream",
     "text": [
      "train... loss:0.8542520403862:   7%|█████▎                                                                       | 344/5000 [32:41<7:26:53,  5.76s/it]"
     ]
    },
    {
     "name": "stdout",
     "output_type": "stream",
     "text": [
      "Test update: epoch: 343 |accuracy: 0.8317736387252808 | f1: 0.8747862577438354 | auc: 0.9125829935073853 | treshold: 0.55\n"
     ]
    },
    {
     "name": "stderr",
     "output_type": "stream",
     "text": [
      "train... loss:0.8547058403491974:   7%|█████                                                                     | 345/5000 [32:47<7:33:45,  5.85s/it]"
     ]
    },
    {
     "name": "stdout",
     "output_type": "stream",
     "text": [
      "Test update: epoch: 344 |accuracy: 0.8320154547691345 | f1: 0.8748310804367065 | auc: 0.9128892421722412 | treshold: 0.56\n"
     ]
    },
    {
     "name": "stderr",
     "output_type": "stream",
     "text": [
      "train... loss:0.8546022474765778:   7%|█████                                                                     | 346/5000 [32:53<7:34:05,  5.85s/it]"
     ]
    },
    {
     "name": "stdout",
     "output_type": "stream",
     "text": [
      "Test update: epoch: 345 |accuracy: 0.833297073841095 | f1: 0.8752578496932983 | auc: 0.9131721258163452 | treshold: 0.5800000000000001\n"
     ]
    },
    {
     "name": "stderr",
     "output_type": "stream",
     "text": [
      "train... loss:0.8551073372364044:   7%|█████▏                                                                    | 347/5000 [32:59<7:37:19,  5.90s/it]"
     ]
    },
    {
     "name": "stdout",
     "output_type": "stream",
     "text": [
      "Test update: epoch: 346 |accuracy: 0.8350622653961182 | f1: 0.8755178451538086 | auc: 0.9134221076965332 | treshold: 0.61\n"
     ]
    },
    {
     "name": "stderr",
     "output_type": "stream",
     "text": [
      "train... loss:0.8560987412929535:   7%|█████▏                                                                    | 348/5000 [33:05<7:37:44,  5.90s/it]"
     ]
    },
    {
     "name": "stdout",
     "output_type": "stream",
     "text": [
      "Test update: epoch: 347 |accuracy: 0.8373594284057617 | f1: 0.8763375878334045 | auc: 0.9136410355567932 | treshold: 0.63\n"
     ]
    },
    {
     "name": "stderr",
     "output_type": "stream",
     "text": [
      "train... loss:0.8565035462379456:   7%|█████▏                                                                    | 349/5000 [33:11<7:36:46,  5.89s/it]"
     ]
    },
    {
     "name": "stdout",
     "output_type": "stream",
     "text": [
      "Test update: epoch: 348 |accuracy: 0.8364647626876831 | f1: 0.875997006893158 | auc: 0.9138089418411255 | treshold: 0.63\n"
     ]
    },
    {
     "name": "stderr",
     "output_type": "stream",
     "text": [
      "train... loss:0.8575751483440399:   7%|█████▏                                                                    | 350/5000 [33:17<7:38:55,  5.92s/it]"
     ]
    },
    {
     "name": "stdout",
     "output_type": "stream",
     "text": [
      "Test update: epoch: 349 |accuracy: 0.8377947211265564 | f1: 0.8767319917678833 | auc: 0.9139072895050049 | treshold: 0.64\n"
     ]
    },
    {
     "name": "stderr",
     "output_type": "stream",
     "text": [
      "train... loss:0.858617514371872:   7%|█████▎                                                                     | 351/5000 [33:23<7:39:23,  5.93s/it]"
     ]
    },
    {
     "name": "stdout",
     "output_type": "stream",
     "text": [
      "Test update: epoch: 350 |accuracy: 0.8370209336280823 | f1: 0.8764345645904541 | auc: 0.9139516353607178 | treshold: 0.64\n"
     ]
    },
    {
     "name": "stderr",
     "output_type": "stream",
     "text": [
      "train... loss:0.8553726673126221:   7%|█████▍                                                                    | 366/5000 [34:51<7:21:18,  5.71s/it]\n"
     ]
    },
    {
     "name": "stdout",
     "output_type": "stream",
     "text": [
      "\n",
      "Evaluating LogReg with svd embeddings\n"
     ]
    },
    {
     "name": "stderr",
     "output_type": "stream",
     "text": [
      "\r",
      "train:   0%|                                                                                                                 | 0/5000 [00:00<?, ?it/s]"
     ]
    },
    {
     "name": "stdout",
     "output_type": "stream",
     "text": [
      "Test before learning: {'f1': 0.5780497789382935, 'roc-auc': 0.5401690006256104, 'accuracy': 0.5231773853302002}\n"
     ]
    },
    {
     "name": "stderr",
     "output_type": "stream",
     "text": [
      "train... loss:1.40469092130661:   0%|                                                                              | 1/5000 [00:05<8:00:25,  5.77s/it]"
     ]
    },
    {
     "name": "stdout",
     "output_type": "stream",
     "text": [
      "Test update: epoch: 0 |accuracy: 0.6397292017936707 | f1: 0.7802669405937195 | auc: 0.545425534248352 | treshold: 0.15000000000000002\n"
     ]
    },
    {
     "name": "stderr",
     "output_type": "stream",
     "text": [
      "train... loss:1.3973541259765625:   0%|                                                                            | 2/5000 [00:11<7:54:43,  5.70s/it]"
     ]
    },
    {
     "name": "stdout",
     "output_type": "stream",
     "text": [
      "Test update: epoch: 1 |accuracy: 0.6397775411605835 | f1: 0.7802899479866028 | auc: 0.5506216287612915 | treshold: 0.16\n"
     ]
    },
    {
     "name": "stderr",
     "output_type": "stream",
     "text": [
      "train... loss:1.390166699886322:   0%|                                                                             | 3/5000 [00:16<7:53:44,  5.69s/it]"
     ]
    },
    {
     "name": "stdout",
     "output_type": "stream",
     "text": [
      "Test update: epoch: 2 |accuracy: 0.6398258805274963 | f1: 0.7803129553794861 | auc: 0.5559294819831848 | treshold: 0.17\n"
     ]
    },
    {
     "name": "stderr",
     "output_type": "stream",
     "text": [
      "train... loss:1.3830321431159973:   0%|                                                                            | 4/5000 [00:22<7:50:22,  5.65s/it]"
     ]
    },
    {
     "name": "stdout",
     "output_type": "stream",
     "text": [
      "Test update: epoch: 3 |accuracy: 0.6398017406463623 | f1: 0.7803014516830444 | auc: 0.5612980127334595 | treshold: 0.17\n"
     ]
    },
    {
     "name": "stderr",
     "output_type": "stream",
     "text": [
      "train... loss:1.3759438395500183:   0%|                                                                            | 5/5000 [00:28<7:49:25,  5.64s/it]"
     ]
    },
    {
     "name": "stdout",
     "output_type": "stream",
     "text": [
      "Test update: epoch: 4 |accuracy: 0.6398017406463623 | f1: 0.7803014516830444 | auc: 0.5666545033454895 | treshold: 0.17\n"
     ]
    },
    {
     "name": "stderr",
     "output_type": "stream",
     "text": [
      "train... loss:1.369038701057434:   0%|                                                                             | 6/5000 [00:33<7:49:56,  5.65s/it]"
     ]
    },
    {
     "name": "stdout",
     "output_type": "stream",
     "text": [
      "Test update: epoch: 5 |accuracy: 0.6399226188659668 | f1: 0.7803006768226624 | auc: 0.5719884037971497 | treshold: 0.2\n"
     ]
    },
    {
     "name": "stderr",
     "output_type": "stream",
     "text": [
      "train... loss:1.3623210191726685:   0%|                                                                            | 7/5000 [00:39<7:51:51,  5.67s/it]"
     ]
    },
    {
     "name": "stdout",
     "output_type": "stream",
     "text": [
      "Test update: epoch: 6 |accuracy: 0.6400193572044373 | f1: 0.78035968542099 | auc: 0.5772489309310913 | treshold: 0.2\n"
     ]
    },
    {
     "name": "stderr",
     "output_type": "stream",
     "text": [
      "train... loss:1.3556458353996277:   0%|                                                                            | 8/5000 [00:45<7:51:07,  5.66s/it]"
     ]
    },
    {
     "name": "stdout",
     "output_type": "stream",
     "text": [
      "Test update: epoch: 7 |accuracy: 0.6401644349098206 | f1: 0.7804093360900879 | auc: 0.5824564695358276 | treshold: 0.21000000000000002\n"
     ]
    },
    {
     "name": "stderr",
     "output_type": "stream",
     "text": [
      "train... loss:1.349111020565033:   0%|▏                                                                            | 9/5000 [00:50<7:48:55,  5.64s/it]"
     ]
    },
    {
     "name": "stdout",
     "output_type": "stream",
     "text": [
      "Test update: epoch: 8 |accuracy: 0.6403820514678955 | f1: 0.7804611325263977 | auc: 0.5875902771949768 | treshold: 0.22\n"
     ]
    },
    {
     "name": "stderr",
     "output_type": "stream",
     "text": [
      "train... loss:1.342690646648407:   0%|▏                                                                           | 10/5000 [00:56<7:46:47,  5.61s/it]"
     ]
    },
    {
     "name": "stdout",
     "output_type": "stream",
     "text": [
      "Test update: epoch: 9 |accuracy: 0.6405029892921448 | f1: 0.7805511951446533 | auc: 0.5926942229270935 | treshold: 0.22\n"
     ]
    },
    {
     "name": "stderr",
     "output_type": "stream",
     "text": [
      "train... loss:1.3366005420684814:   0%|▏                                                                          | 11/5000 [01:01<7:47:20,  5.62s/it]"
     ]
    },
    {
     "name": "stdout",
     "output_type": "stream",
     "text": [
      "Test update: epoch: 10 |accuracy: 0.6406722068786621 | f1: 0.7805346250534058 | auc: 0.5977329611778259 | treshold: 0.23\n"
     ]
    },
    {
     "name": "stderr",
     "output_type": "stream",
     "text": [
      "train... loss:1.3305387496948242:   0%|▏                                                                          | 12/5000 [01:07<7:46:29,  5.61s/it]"
     ]
    },
    {
     "name": "stdout",
     "output_type": "stream",
     "text": [
      "Test update: epoch: 11 |accuracy: 0.6416152715682983 | f1: 0.780744731426239 | auc: 0.6027264595031738 | treshold: 0.25\n"
     ]
    },
    {
     "name": "stderr",
     "output_type": "stream",
     "text": [
      "train... loss:1.3246371746063232:   0%|▏                                                                          | 13/5000 [01:13<7:47:17,  5.62s/it]"
     ]
    },
    {
     "name": "stdout",
     "output_type": "stream",
     "text": [
      "Test update: epoch: 12 |accuracy: 0.6414943933486938 | f1: 0.7807388305664062 | auc: 0.6076962351799011 | treshold: 0.25\n"
     ]
    },
    {
     "name": "stderr",
     "output_type": "stream",
     "text": [
      "train... loss:1.3188250064849854:   0%|▏                                                                          | 14/5000 [01:19<7:51:56,  5.68s/it]"
     ]
    },
    {
     "name": "stdout",
     "output_type": "stream",
     "text": [
      "Test update: epoch: 13 |accuracy: 0.6437432169914246 | f1: 0.7814062237739563 | auc: 0.612629771232605 | treshold: 0.27\n"
     ]
    },
    {
     "name": "stderr",
     "output_type": "stream",
     "text": [
      "train... loss:1.313030481338501:   0%|▏                                                                           | 15/5000 [01:24<7:50:03,  5.66s/it]"
     ]
    },
    {
     "name": "stdout",
     "output_type": "stream",
     "text": [
      "Test update: epoch: 14 |accuracy: 0.6436706781387329 | f1: 0.7814233303070068 | auc: 0.6175472736358643 | treshold: 0.27\n"
     ]
    },
    {
     "name": "stderr",
     "output_type": "stream",
     "text": [
      "train... loss:1.3075529336929321:   0%|▏                                                                          | 16/5000 [01:30<7:48:31,  5.64s/it]"
     ]
    },
    {
     "name": "stdout",
     "output_type": "stream",
     "text": [
      "Test update: epoch: 15 |accuracy: 0.6448554992675781 | f1: 0.781816840171814 | auc: 0.6224567890167236 | treshold: 0.28\n"
     ]
    },
    {
     "name": "stderr",
     "output_type": "stream",
     "text": [
      "train... loss:1.301953136920929:   0%|▎                                                                           | 17/5000 [01:35<7:47:56,  5.63s/it]"
     ]
    },
    {
     "name": "stdout",
     "output_type": "stream",
     "text": [
      "Test update: epoch: 16 |accuracy: 0.6450731754302979 | f1: 0.7819731831550598 | auc: 0.6273554563522339 | treshold: 0.28\n"
     ]
    },
    {
     "name": "stderr",
     "output_type": "stream",
     "text": [
      "train... loss:1.2964786887168884:   0%|▎                                                                          | 18/5000 [01:41<7:50:10,  5.66s/it]"
     ]
    },
    {
     "name": "stdout",
     "output_type": "stream",
     "text": [
      "Test update: epoch: 17 |accuracy: 0.6451698541641235 | f1: 0.7820714712142944 | auc: 0.6322495937347412 | treshold: 0.28\n"
     ]
    },
    {
     "name": "stderr",
     "output_type": "stream",
     "text": [
      "train... loss:1.2913357019424438:   0%|▎                                                                          | 19/5000 [01:47<7:49:35,  5.66s/it]"
     ]
    },
    {
     "name": "stdout",
     "output_type": "stream",
     "text": [
      "Test update: epoch: 18 |accuracy: 0.6452423930168152 | f1: 0.7821451425552368 | auc: 0.6371368765830994 | treshold: 0.28\n"
     ]
    },
    {
     "name": "stderr",
     "output_type": "stream",
     "text": [
      "train... loss:1.2859297394752502:   0%|▎                                                                          | 20/5000 [01:52<7:50:48,  5.67s/it]"
     ]
    },
    {
     "name": "stdout",
     "output_type": "stream",
     "text": [
      "Test update: epoch: 19 |accuracy: 0.6479748487472534 | f1: 0.7825801372528076 | auc: 0.6420319676399231 | treshold: 0.31\n"
     ]
    },
    {
     "name": "stderr",
     "output_type": "stream",
     "text": [
      "train... loss:1.2807008624076843:   0%|▎                                                                          | 21/5000 [01:58<7:49:16,  5.66s/it]"
     ]
    },
    {
     "name": "stdout",
     "output_type": "stream",
     "text": [
      "Test update: epoch: 20 |accuracy: 0.6477088332176208 | f1: 0.7825554609298706 | auc: 0.6469293236732483 | treshold: 0.31\n"
     ]
    },
    {
     "name": "stderr",
     "output_type": "stream",
     "text": [
      "train... loss:1.2755316495895386:   0%|▎                                                                          | 22/5000 [02:04<7:49:15,  5.66s/it]"
     ]
    },
    {
     "name": "stdout",
     "output_type": "stream",
     "text": [
      "Test update: epoch: 21 |accuracy: 0.6588078737258911 | f1: 0.784415602684021 | auc: 0.6518104076385498 | treshold: 0.37\n"
     ]
    },
    {
     "name": "stderr",
     "output_type": "stream",
     "text": [
      "train... loss:1.2704067826271057:   0%|▎                                                                          | 23/5000 [02:09<7:48:57,  5.65s/it]"
     ]
    },
    {
     "name": "stdout",
     "output_type": "stream",
     "text": [
      "Test update: epoch: 22 |accuracy: 0.6585177183151245 | f1: 0.7844693660736084 | auc: 0.6566661596298218 | treshold: 0.37\n"
     ]
    },
    {
     "name": "stderr",
     "output_type": "stream",
     "text": [
      "train... loss:1.2653062343597412:   0%|▎                                                                          | 24/5000 [02:15<7:52:21,  5.70s/it]"
     ]
    },
    {
     "name": "stdout",
     "output_type": "stream",
     "text": [
      "Test update: epoch: 23 |accuracy: 0.6614677906036377 | f1: 0.7851772308349609 | auc: 0.6614908576011658 | treshold: 0.38\n"
     ]
    },
    {
     "name": "stderr",
     "output_type": "stream",
     "text": [
      "train... loss:1.260448694229126:   0%|▍                                                                           | 25/5000 [02:21<7:54:30,  5.72s/it]"
     ]
    },
    {
     "name": "stdout",
     "output_type": "stream",
     "text": [
      "Test update: epoch: 24 |accuracy: 0.6645145416259766 | f1: 0.7857694029808044 | auc: 0.6662660837173462 | treshold: 0.39\n"
     ]
    },
    {
     "name": "stderr",
     "output_type": "stream",
     "text": [
      "train... loss:1.2553871870040894:   1%|▍                                                                          | 26/5000 [02:27<8:04:51,  5.85s/it]"
     ]
    },
    {
     "name": "stdout",
     "output_type": "stream",
     "text": [
      "Test update: epoch: 25 |accuracy: 0.6682384014129639 | f1: 0.7866849303245544 | auc: 0.6709771752357483 | treshold: 0.4\n"
     ]
    },
    {
     "name": "stderr",
     "output_type": "stream",
     "text": [
      "train... loss:1.250318467617035:   1%|▍                                                                           | 27/5000 [02:33<8:03:13,  5.83s/it]"
     ]
    },
    {
     "name": "stdout",
     "output_type": "stream",
     "text": [
      "Test update: epoch: 26 |accuracy: 0.6670777201652527 | f1: 0.7875505089759827 | auc: 0.6756194233894348 | treshold: 0.39\n"
     ]
    },
    {
     "name": "stderr",
     "output_type": "stream",
     "text": [
      "train... loss:1.2456105947494507:   1%|▍                                                                          | 28/5000 [02:39<8:03:38,  5.84s/it]"
     ]
    },
    {
     "name": "stdout",
     "output_type": "stream",
     "text": [
      "Test update: epoch: 27 |accuracy: 0.6677789688110352 | f1: 0.78802090883255 | auc: 0.6801968812942505 | treshold: 0.39\n"
     ]
    },
    {
     "name": "stderr",
     "output_type": "stream",
     "text": [
      "train... loss:1.2405880093574524:   1%|▍                                                                          | 29/5000 [02:44<7:58:16,  5.77s/it]"
     ]
    },
    {
     "name": "stdout",
     "output_type": "stream",
     "text": [
      "Test update: epoch: 28 |accuracy: 0.6686978340148926 | f1: 0.7886006832122803 | auc: 0.6846718788146973 | treshold: 0.39\n"
     ]
    },
    {
     "name": "stderr",
     "output_type": "stream",
     "text": [
      "train... loss:1.2357819080352783:   1%|▍                                                                          | 30/5000 [02:50<7:55:51,  5.74s/it]"
     ]
    },
    {
     "name": "stdout",
     "output_type": "stream",
     "text": [
      "Test update: epoch: 29 |accuracy: 0.6694474816322327 | f1: 0.7891213297843933 | auc: 0.6890577673912048 | treshold: 0.39\n"
     ]
    },
    {
     "name": "stderr",
     "output_type": "stream",
     "text": [
      "train... loss:1.2310664653778076:   1%|▍                                                                          | 31/5000 [02:56<7:54:51,  5.73s/it]"
     ]
    },
    {
     "name": "stdout",
     "output_type": "stream",
     "text": [
      "Test update: epoch: 30 |accuracy: 0.6702696084976196 | f1: 0.7896263599395752 | auc: 0.6933332681655884 | treshold: 0.39\n"
     ]
    },
    {
     "name": "stderr",
     "output_type": "stream",
     "text": [
      "train... loss:1.2261070013046265:   1%|▍                                                                          | 32/5000 [03:01<7:52:53,  5.71s/it]"
     ]
    },
    {
     "name": "stdout",
     "output_type": "stream",
     "text": [
      "Test update: epoch: 31 |accuracy: 0.671164333820343 | f1: 0.7901744842529297 | auc: 0.6974978446960449 | treshold: 0.39\n"
     ]
    },
    {
     "name": "stderr",
     "output_type": "stream",
     "text": [
      "train... loss:1.2213794589042664:   1%|▍                                                                          | 33/5000 [03:07<7:52:09,  5.70s/it]"
     ]
    },
    {
     "name": "stdout",
     "output_type": "stream",
     "text": [
      "Test update: epoch: 32 |accuracy: 0.6720106601715088 | f1: 0.7906984090805054 | auc: 0.7015663385391235 | treshold: 0.39\n"
     ]
    },
    {
     "name": "stderr",
     "output_type": "stream",
     "text": [
      "train... loss:1.2165889143943787:   1%|▌                                                                          | 34/5000 [03:13<7:53:21,  5.72s/it]"
     ]
    },
    {
     "name": "stdout",
     "output_type": "stream",
     "text": [
      "Test update: epoch: 33 |accuracy: 0.6828194856643677 | f1: 0.7928098440170288 | auc: 0.7055391073226929 | treshold: 0.42000000000000004\n"
     ]
    },
    {
     "name": "stderr",
     "output_type": "stream",
     "text": [
      "train... loss:1.2120625376701355:   1%|▌                                                                          | 35/5000 [03:19<7:54:28,  5.73s/it]"
     ]
    },
    {
     "name": "stdout",
     "output_type": "stream",
     "text": [
      "Test update: epoch: 34 |accuracy: 0.6839801669120789 | f1: 0.7935354709625244 | auc: 0.7094427347183228 | treshold: 0.42000000000000004\n"
     ]
    },
    {
     "name": "stderr",
     "output_type": "stream",
     "text": [
      "train... loss:1.207205057144165:   1%|▌                                                                           | 36/5000 [03:24<7:53:51,  5.73s/it]"
     ]
    },
    {
     "name": "stdout",
     "output_type": "stream",
     "text": [
      "Test update: epoch: 35 |accuracy: 0.6830371022224426 | f1: 0.7945003509521484 | auc: 0.7132705450057983 | treshold: 0.41000000000000003\n"
     ]
    },
    {
     "name": "stderr",
     "output_type": "stream",
     "text": [
      "train... loss:1.2024304270744324:   1%|▌                                                                          | 37/5000 [03:30<7:54:58,  5.74s/it]"
     ]
    },
    {
     "name": "stdout",
     "output_type": "stream",
     "text": [
      "Test update: epoch: 36 |accuracy: 0.6845121383666992 | f1: 0.7954342365264893 | auc: 0.7170649766921997 | treshold: 0.41000000000000003\n"
     ]
    },
    {
     "name": "stderr",
     "output_type": "stream",
     "text": [
      "train... loss:1.1979031562805176:   1%|▌                                                                          | 38/5000 [03:36<7:57:39,  5.78s/it]"
     ]
    },
    {
     "name": "stdout",
     "output_type": "stream",
     "text": [
      "Test update: epoch: 37 |accuracy: 0.6912344098091125 | f1: 0.7965261936187744 | auc: 0.7208154797554016 | treshold: 0.43\n"
     ]
    },
    {
     "name": "stderr",
     "output_type": "stream",
     "text": [
      "train... loss:1.1931065917015076:   1%|▌                                                                          | 39/5000 [03:42<7:58:12,  5.78s/it]"
     ]
    },
    {
     "name": "stdout",
     "output_type": "stream",
     "text": [
      "Test update: epoch: 38 |accuracy: 0.6927819848060608 | f1: 0.7975008487701416 | auc: 0.7245484590530396 | treshold: 0.43\n"
     ]
    },
    {
     "name": "stderr",
     "output_type": "stream",
     "text": [
      "train... loss:1.1884015202522278:   1%|▌                                                                          | 40/5000 [03:48<8:00:19,  5.81s/it]"
     ]
    },
    {
     "name": "stdout",
     "output_type": "stream",
     "text": [
      "Test update: epoch: 39 |accuracy: 0.6942570209503174 | f1: 0.7984891533851624 | auc: 0.728287935256958 | treshold: 0.43\n"
     ]
    },
    {
     "name": "stderr",
     "output_type": "stream",
     "text": [
      "train... loss:1.184170663356781:   1%|▌                                                                           | 41/5000 [03:54<8:04:52,  5.87s/it]"
     ]
    },
    {
     "name": "stdout",
     "output_type": "stream",
     "text": [
      "Test update: epoch: 40 |accuracy: 0.6959497332572937 | f1: 0.7995919585227966 | auc: 0.7320002317428589 | treshold: 0.43\n"
     ]
    },
    {
     "name": "stderr",
     "output_type": "stream",
     "text": [
      "train... loss:1.1793811321258545:   1%|▋                                                                          | 42/5000 [03:59<8:03:22,  5.85s/it]"
     ]
    },
    {
     "name": "stdout",
     "output_type": "stream",
     "text": [
      "Test update: epoch: 41 |accuracy: 0.6975698471069336 | f1: 0.8006249070167542 | auc: 0.7357178926467896 | treshold: 0.43\n"
     ]
    },
    {
     "name": "stderr",
     "output_type": "stream",
     "text": [
      "train... loss:1.1745839715003967:   1%|▋                                                                          | 43/5000 [04:05<8:01:30,  5.83s/it]"
     ]
    },
    {
     "name": "stdout",
     "output_type": "stream",
     "text": [
      "Test update: epoch: 42 |accuracy: 0.6986579895019531 | f1: 0.8014593720436096 | auc: 0.7394294738769531 | treshold: 0.43\n"
     ]
    },
    {
     "name": "stderr",
     "output_type": "stream",
     "text": [
      "train... loss:1.1695476174354553:   1%|▋                                                                          | 44/5000 [04:11<8:00:33,  5.82s/it]"
     ]
    },
    {
     "name": "stdout",
     "output_type": "stream",
     "text": [
      "Test update: epoch: 43 |accuracy: 0.7000120878219604 | f1: 0.8023577928543091 | auc: 0.7431337833404541 | treshold: 0.43\n"
     ]
    },
    {
     "name": "stderr",
     "output_type": "stream",
     "text": [
      "train... loss:1.1655182838439941:   1%|▋                                                                          | 45/5000 [04:17<7:58:46,  5.80s/it]"
     ]
    },
    {
     "name": "stdout",
     "output_type": "stream",
     "text": [
      "Test update: epoch: 44 |accuracy: 0.7014629244804382 | f1: 0.803313672542572 | auc: 0.7468208074569702 | treshold: 0.43\n"
     ]
    },
    {
     "name": "stderr",
     "output_type": "stream",
     "text": [
      "train... loss:1.1606054306030273:   1%|▋                                                                          | 46/5000 [04:22<7:58:11,  5.79s/it]"
     ]
    },
    {
     "name": "stdout",
     "output_type": "stream",
     "text": [
      "Test update: epoch: 45 |accuracy: 0.7085479497909546 | f1: 0.804989755153656 | auc: 0.7504801154136658 | treshold: 0.45\n"
     ]
    },
    {
     "name": "stderr",
     "output_type": "stream",
     "text": [
      "train... loss:1.156207025051117:   1%|▋                                                                           | 47/5000 [04:28<7:58:26,  5.80s/it]"
     ]
    },
    {
     "name": "stdout",
     "output_type": "stream",
     "text": [
      "Test update: epoch: 46 |accuracy: 0.7097569704055786 | f1: 0.8057861328125 | auc: 0.7541157603263855 | treshold: 0.45\n"
     ]
    },
    {
     "name": "stderr",
     "output_type": "stream",
     "text": [
      "train... loss:1.1515411138534546:   1%|▋                                                                          | 48/5000 [04:34<7:55:51,  5.77s/it]"
     ]
    },
    {
     "name": "stdout",
     "output_type": "stream",
     "text": [
      "Test update: epoch: 47 |accuracy: 0.7107725739479065 | f1: 0.8065908551216125 | auc: 0.757697343826294 | treshold: 0.45\n"
     ]
    },
    {
     "name": "stderr",
     "output_type": "stream",
     "text": [
      "train... loss:1.1468165516853333:   1%|▋                                                                          | 49/5000 [04:40<7:57:00,  5.78s/it]"
     ]
    },
    {
     "name": "stdout",
     "output_type": "stream",
     "text": [
      "Test update: epoch: 48 |accuracy: 0.7120541930198669 | f1: 0.8074322938919067 | auc: 0.7612531185150146 | treshold: 0.45\n"
     ]
    },
    {
     "name": "stderr",
     "output_type": "stream",
     "text": [
      "train... loss:1.142354965209961:   1%|▊                                                                           | 50/5000 [04:46<7:59:10,  5.81s/it]"
     ]
    },
    {
     "name": "stdout",
     "output_type": "stream",
     "text": [
      "Test update: epoch: 49 |accuracy: 0.7149075269699097 | f1: 0.8080617189407349 | auc: 0.7647375464439392 | treshold: 0.46\n"
     ]
    },
    {
     "name": "stderr",
     "output_type": "stream",
     "text": [
      "train... loss:1.1378042101860046:   1%|▊                                                                          | 51/5000 [04:52<8:02:44,  5.85s/it]"
     ]
    },
    {
     "name": "stdout",
     "output_type": "stream",
     "text": [
      "Test update: epoch: 50 |accuracy: 0.718631386756897 | f1: 0.8091708421707153 | auc: 0.7681401968002319 | treshold: 0.47000000000000003\n"
     ]
    },
    {
     "name": "stderr",
     "output_type": "stream",
     "text": [
      "train... loss:1.133824110031128:   1%|▊                                                                           | 52/5000 [04:57<8:02:31,  5.85s/it]"
     ]
    },
    {
     "name": "stdout",
     "output_type": "stream",
     "text": [
      "Test update: epoch: 51 |accuracy: 0.7181477546691895 | f1: 0.8100824356079102 | auc: 0.7714500427246094 | treshold: 0.46\n"
     ]
    },
    {
     "name": "stderr",
     "output_type": "stream",
     "text": [
      "train... loss:1.1287219524383545:   1%|▊                                                                          | 53/5000 [05:03<8:03:16,  5.86s/it]"
     ]
    },
    {
     "name": "stdout",
     "output_type": "stream",
     "text": [
      "Test update: epoch: 52 |accuracy: 0.7189215421676636 | f1: 0.810542106628418 | auc: 0.7746707201004028 | treshold: 0.46\n"
     ]
    },
    {
     "name": "stderr",
     "output_type": "stream",
     "text": [
      "train... loss:1.1238903999328613:   1%|▊                                                                          | 54/5000 [05:09<8:02:57,  5.86s/it]"
     ]
    },
    {
     "name": "stdout",
     "output_type": "stream",
     "text": [
      "Test update: epoch: 53 |accuracy: 0.7248942255973816 | f1: 0.8119721412658691 | auc: 0.777795135974884 | treshold: 0.48000000000000004\n"
     ]
    },
    {
     "name": "stderr",
     "output_type": "stream",
     "text": [
      "train... loss:1.1198469996452332:   1%|▊                                                                          | 55/5000 [05:15<8:04:49,  5.88s/it]"
     ]
    },
    {
     "name": "stdout",
     "output_type": "stream",
     "text": [
      "Test update: epoch: 54 |accuracy: 0.7263208627700806 | f1: 0.8128513693809509 | auc: 0.7808071374893188 | treshold: 0.48000000000000004\n"
     ]
    },
    {
     "name": "stderr",
     "output_type": "stream",
     "text": [
      "train... loss:1.1153575778007507:   1%|▊                                                                          | 56/5000 [05:21<8:08:26,  5.93s/it]"
     ]
    },
    {
     "name": "stdout",
     "output_type": "stream",
     "text": [
      "Test update: epoch: 55 |accuracy: 0.7275057435035706 | f1: 0.8136523962020874 | auc: 0.7837226390838623 | treshold: 0.48000000000000004\n"
     ]
    },
    {
     "name": "stderr",
     "output_type": "stream",
     "text": [
      "train... loss:1.1105536818504333:   1%|▊                                                                          | 57/5000 [05:27<8:10:26,  5.95s/it]"
     ]
    },
    {
     "name": "stdout",
     "output_type": "stream",
     "text": [
      "Test update: epoch: 56 |accuracy: 0.7315197587013245 | f1: 0.814903736114502 | auc: 0.7865757346153259 | treshold: 0.49\n"
     ]
    },
    {
     "name": "stderr",
     "output_type": "stream",
     "text": [
      "train... loss:1.1065198183059692:   1%|▊                                                                          | 58/5000 [05:33<8:11:30,  5.97s/it]"
     ]
    },
    {
     "name": "stdout",
     "output_type": "stream",
     "text": [
      "Test update: epoch: 57 |accuracy: 0.7311570644378662 | f1: 0.8157685399055481 | auc: 0.7893356084823608 | treshold: 0.48000000000000004\n"
     ]
    },
    {
     "name": "stderr",
     "output_type": "stream",
     "text": [
      "train... loss:1.1017354726791382:   1%|▉                                                                          | 59/5000 [05:39<8:09:38,  5.95s/it]"
     ]
    },
    {
     "name": "stdout",
     "output_type": "stream",
     "text": [
      "Test update: epoch: 58 |accuracy: 0.7324870228767395 | f1: 0.8165735602378845 | auc: 0.7920273542404175 | treshold: 0.48000000000000004\n"
     ]
    },
    {
     "name": "stderr",
     "output_type": "stream",
     "text": [
      "train... loss:1.0976223945617676:   1%|▉                                                                          | 60/5000 [05:45<8:06:24,  5.91s/it]"
     ]
    },
    {
     "name": "stdout",
     "output_type": "stream",
     "text": [
      "Test update: epoch: 59 |accuracy: 0.7407084703445435 | f1: 0.8183127641677856 | auc: 0.7946528196334839 | treshold: 0.51\n"
     ]
    },
    {
     "name": "stderr",
     "output_type": "stream",
     "text": [
      "train... loss:1.0932918787002563:   1%|▉                                                                          | 61/5000 [05:51<8:04:28,  5.89s/it]"
     ]
    },
    {
     "name": "stdout",
     "output_type": "stream",
     "text": [
      "Test update: epoch: 60 |accuracy: 0.739983081817627 | f1: 0.819110095500946 | auc: 0.7972236275672913 | treshold: 0.5\n"
     ]
    },
    {
     "name": "stderr",
     "output_type": "stream",
     "text": [
      "train... loss:1.0889660716056824:   1%|▉                                                                          | 62/5000 [05:57<8:05:06,  5.89s/it]"
     ]
    },
    {
     "name": "stdout",
     "output_type": "stream",
     "text": [
      "Test update: epoch: 61 |accuracy: 0.7414822578430176 | f1: 0.8199653029441833 | auc: 0.799750566482544 | treshold: 0.5\n"
     ]
    },
    {
     "name": "stderr",
     "output_type": "stream",
     "text": [
      "train... loss:1.084592342376709:   1%|▉                                                                           | 63/5000 [06:03<8:05:50,  5.90s/it]"
     ]
    },
    {
     "name": "stdout",
     "output_type": "stream",
     "text": [
      "Test update: epoch: 62 |accuracy: 0.7461975812911987 | f1: 0.8217754364013672 | auc: 0.8022520542144775 | treshold: 0.51\n"
     ]
    },
    {
     "name": "stderr",
     "output_type": "stream",
     "text": [
      "train... loss:1.0800246000289917:   1%|▉                                                                          | 64/5000 [06:09<8:05:54,  5.91s/it]"
     ]
    },
    {
     "name": "stdout",
     "output_type": "stream",
     "text": [
      "Test update: epoch: 63 |accuracy: 0.745157778263092 | f1: 0.8222675919532776 | auc: 0.8047420978546143 | treshold: 0.5\n"
     ]
    },
    {
     "name": "stderr",
     "output_type": "stream",
     "text": [
      "train... loss:1.0758000016212463:   1%|▉                                                                          | 65/5000 [06:14<8:03:15,  5.88s/it]"
     ]
    },
    {
     "name": "stdout",
     "output_type": "stream",
     "text": [
      "Test update: epoch: 64 |accuracy: 0.7528956532478333 | f1: 0.8235883116722107 | auc: 0.8071945905685425 | treshold: 0.53\n"
     ]
    },
    {
     "name": "stderr",
     "output_type": "stream",
     "text": [
      "train... loss:1.0715246200561523:   1%|▉                                                                          | 66/5000 [06:20<8:04:56,  5.90s/it]"
     ]
    },
    {
     "name": "stdout",
     "output_type": "stream",
     "text": [
      "Test update: epoch: 65 |accuracy: 0.7541288733482361 | f1: 0.824447512626648 | auc: 0.809638261795044 | treshold: 0.53\n"
     ]
    },
    {
     "name": "stderr",
     "output_type": "stream",
     "text": [
      "train... loss:1.0676800608634949:   1%|█                                                                          | 67/5000 [06:26<8:06:34,  5.92s/it]"
     ]
    },
    {
     "name": "stdout",
     "output_type": "stream",
     "text": [
      "Test update: epoch: 66 |accuracy: 0.755144476890564 | f1: 0.8253053426742554 | auc: 0.8120580315589905 | treshold: 0.53\n"
     ]
    },
    {
     "name": "stderr",
     "output_type": "stream",
     "text": [
      "train... loss:1.0633167624473572:   1%|█                                                                          | 68/5000 [06:32<8:03:35,  5.88s/it]"
     ]
    },
    {
     "name": "stdout",
     "output_type": "stream",
     "text": [
      "Test update: epoch: 67 |accuracy: 0.7556281089782715 | f1: 0.8267146944999695 | auc: 0.814462423324585 | treshold: 0.52\n"
     ]
    },
    {
     "name": "stderr",
     "output_type": "stream",
     "text": [
      "train... loss:1.0590372681617737:   1%|█                                                                          | 69/5000 [06:38<8:03:52,  5.89s/it]"
     ]
    },
    {
     "name": "stdout",
     "output_type": "stream",
     "text": [
      "Test update: epoch: 68 |accuracy: 0.7570547461509705 | f1: 0.8275992274284363 | auc: 0.816859245300293 | treshold: 0.52\n"
     ]
    },
    {
     "name": "stderr",
     "output_type": "stream",
     "text": [
      "train... loss:1.0549129843711853:   1%|█                                                                          | 70/5000 [06:44<8:04:05,  5.89s/it]"
     ]
    },
    {
     "name": "stdout",
     "output_type": "stream",
     "text": [
      "Test update: epoch: 69 |accuracy: 0.7582879662513733 | f1: 0.8283771872520447 | auc: 0.8192319869995117 | treshold: 0.52\n"
     ]
    },
    {
     "name": "stderr",
     "output_type": "stream",
     "text": [
      "train... loss:1.0506359934806824:   1%|█                                                                          | 71/5000 [06:50<8:04:22,  5.90s/it]"
     ]
    },
    {
     "name": "stdout",
     "output_type": "stream",
     "text": [
      "Test update: epoch: 70 |accuracy: 0.7616974711418152 | f1: 0.8296191096305847 | auc: 0.8215561509132385 | treshold: 0.53\n"
     ]
    },
    {
     "name": "stderr",
     "output_type": "stream",
     "text": [
      "train... loss:1.0463680028915405:   1%|█                                                                          | 72/5000 [06:56<8:04:43,  5.90s/it]"
     ]
    },
    {
     "name": "stdout",
     "output_type": "stream",
     "text": [
      "Test update: epoch: 71 |accuracy: 0.7606819272041321 | f1: 0.8309332132339478 | auc: 0.823857307434082 | treshold: 0.51\n"
     ]
    },
    {
     "name": "stderr",
     "output_type": "stream",
     "text": [
      "train... loss:1.0425509214401245:   1%|█                                                                          | 73/5000 [07:02<8:04:32,  5.90s/it]"
     ]
    },
    {
     "name": "stdout",
     "output_type": "stream",
     "text": [
      "Test update: epoch: 72 |accuracy: 0.7630274295806885 | f1: 0.8313717246055603 | auc: 0.8260937333106995 | treshold: 0.52\n"
     ]
    },
    {
     "name": "stderr",
     "output_type": "stream",
     "text": [
      "train... loss:1.0385070443153381:   1%|█                                                                          | 74/5000 [07:08<8:06:03,  5.92s/it]"
     ]
    },
    {
     "name": "stdout",
     "output_type": "stream",
     "text": [
      "Test update: epoch: 73 |accuracy: 0.7648893594741821 | f1: 0.8326246738433838 | auc: 0.8282639384269714 | treshold: 0.52\n"
     ]
    },
    {
     "name": "stderr",
     "output_type": "stream",
     "text": [
      "train... loss:1.0344904065132141:   2%|█▏                                                                         | 75/5000 [07:14<8:12:45,  6.00s/it]"
     ]
    },
    {
     "name": "stdout",
     "output_type": "stream",
     "text": [
      "Test update: epoch: 74 |accuracy: 0.7704751491546631 | f1: 0.8342008590698242 | auc: 0.8303791880607605 | treshold: 0.54\n"
     ]
    },
    {
     "name": "stderr",
     "output_type": "stream",
     "text": [
      "train... loss:1.0306415557861328:   2%|█▏                                                                         | 76/5000 [07:20<8:15:31,  6.04s/it]"
     ]
    },
    {
     "name": "stdout",
     "output_type": "stream",
     "text": [
      "Test update: epoch: 75 |accuracy: 0.7727239727973938 | f1: 0.8356214761734009 | auc: 0.8324329853057861 | treshold: 0.54\n"
     ]
    },
    {
     "name": "stderr",
     "output_type": "stream",
     "text": [
      "train... loss:1.0267954468727112:   2%|█▏                                                                         | 77/5000 [07:26<8:14:03,  6.02s/it]"
     ]
    },
    {
     "name": "stdout",
     "output_type": "stream",
     "text": [
      "Test update: epoch: 76 |accuracy: 0.7729899883270264 | f1: 0.8367815017700195 | auc: 0.8344165682792664 | treshold: 0.53\n"
     ]
    },
    {
     "name": "stderr",
     "output_type": "stream",
     "text": [
      "train... loss:1.0226140022277832:   2%|█▏                                                                         | 78/5000 [07:32<8:12:40,  6.01s/it]"
     ]
    },
    {
     "name": "stdout",
     "output_type": "stream",
     "text": [
      "Test update: epoch: 77 |accuracy: 0.7751420736312866 | f1: 0.8381515741348267 | auc: 0.8363351225852966 | treshold: 0.53\n"
     ]
    },
    {
     "name": "stderr",
     "output_type": "stream",
     "text": [
      "train... loss:1.0189541578292847:   2%|█▏                                                                         | 79/5000 [07:38<8:15:00,  6.04s/it]"
     ]
    },
    {
     "name": "stdout",
     "output_type": "stream",
     "text": [
      "Test update: epoch: 78 |accuracy: 0.7763752937316895 | f1: 0.8389411568641663 | auc: 0.8381966948509216 | treshold: 0.53\n"
     ]
    },
    {
     "name": "stderr",
     "output_type": "stream",
     "text": [
      "train... loss:1.0151033401489258:   2%|█▏                                                                         | 80/5000 [07:44<8:12:05,  6.00s/it]"
     ]
    },
    {
     "name": "stdout",
     "output_type": "stream",
     "text": [
      "Test update: epoch: 79 |accuracy: 0.7797122597694397 | f1: 0.84010249376297 | auc: 0.8399893045425415 | treshold: 0.54\n"
     ]
    },
    {
     "name": "stderr",
     "output_type": "stream",
     "text": [
      "train... loss:1.0113563537597656:   2%|█▏                                                                         | 81/5000 [07:50<8:09:04,  5.97s/it]"
     ]
    },
    {
     "name": "stdout",
     "output_type": "stream",
     "text": [
      "Test update: epoch: 80 |accuracy: 0.7812598347663879 | f1: 0.8411086797714233 | auc: 0.8417370915412903 | treshold: 0.54\n"
     ]
    },
    {
     "name": "stderr",
     "output_type": "stream",
     "text": [
      "train... loss:1.0080448389053345:   2%|█▏                                                                         | 82/5000 [07:56<8:07:40,  5.95s/it]"
     ]
    },
    {
     "name": "stdout",
     "output_type": "stream",
     "text": [
      "Test update: epoch: 81 |accuracy: 0.7815499901771545 | f1: 0.8421732783317566 | auc: 0.8434479832649231 | treshold: 0.53\n"
     ]
    },
    {
     "name": "stderr",
     "output_type": "stream",
     "text": [
      "train... loss:1.0039849281311035:   2%|█▏                                                                         | 83/5000 [08:01<8:04:51,  5.92s/it]"
     ]
    },
    {
     "name": "stdout",
     "output_type": "stream",
     "text": [
      "Test update: epoch: 82 |accuracy: 0.7830008268356323 | f1: 0.843051552772522 | auc: 0.845109760761261 | treshold: 0.53\n"
     ]
    },
    {
     "name": "stderr",
     "output_type": "stream",
     "text": [
      "train... loss:1.0004678964614868:   2%|█▎                                                                         | 84/5000 [08:07<8:05:14,  5.92s/it]"
     ]
    },
    {
     "name": "stdout",
     "output_type": "stream",
     "text": [
      "Test update: epoch: 83 |accuracy: 0.7838471531867981 | f1: 0.8435624241828918 | auc: 0.8467406034469604 | treshold: 0.53\n"
     ]
    },
    {
     "name": "stderr",
     "output_type": "stream",
     "text": [
      "train... loss:0.9968727827072144:   2%|█▎                                                                         | 85/5000 [08:13<8:02:27,  5.89s/it]"
     ]
    },
    {
     "name": "stdout",
     "output_type": "stream",
     "text": [
      "Test update: epoch: 84 |accuracy: 0.7832668423652649 | f1: 0.8438963890075684 | auc: 0.8483386635780334 | treshold: 0.52\n"
     ]
    },
    {
     "name": "stderr",
     "output_type": "stream",
     "text": [
      "train... loss:0.9933078587055206:   2%|█▎                                                                         | 86/5000 [08:19<8:02:22,  5.89s/it]"
     ]
    },
    {
     "name": "stdout",
     "output_type": "stream",
     "text": [
      "Test update: epoch: 85 |accuracy: 0.7861443758010864 | f1: 0.844923734664917 | auc: 0.8498986959457397 | treshold: 0.53\n"
     ]
    },
    {
     "name": "stderr",
     "output_type": "stream",
     "text": [
      "train... loss:0.9898326098918915:   2%|█▎                                                                         | 87/5000 [08:25<8:04:58,  5.92s/it]"
     ]
    },
    {
     "name": "stdout",
     "output_type": "stream",
     "text": [
      "Test update: epoch: 86 |accuracy: 0.7859508991241455 | f1: 0.8455309867858887 | auc: 0.8514344096183777 | treshold: 0.52\n"
     ]
    },
    {
     "name": "stderr",
     "output_type": "stream",
     "text": [
      "train... loss:0.9867725670337677:   2%|█▎                                                                         | 88/5000 [08:31<8:07:15,  5.95s/it]"
     ]
    },
    {
     "name": "stdout",
     "output_type": "stream",
     "text": [
      "Test update: epoch: 87 |accuracy: 0.7884898781776428 | f1: 0.8464064598083496 | auc: 0.852922260761261 | treshold: 0.53\n"
     ]
    },
    {
     "name": "stderr",
     "output_type": "stream",
     "text": [
      "train... loss:0.9829956889152527:   2%|█▎                                                                         | 89/5000 [08:37<8:07:20,  5.95s/it]"
     ]
    },
    {
     "name": "stdout",
     "output_type": "stream",
     "text": [
      "Test update: epoch: 88 |accuracy: 0.7906661629676819 | f1: 0.8469818830490112 | auc: 0.8543841242790222 | treshold: 0.54\n"
     ]
    },
    {
     "name": "stderr",
     "output_type": "stream",
     "text": [
      "train... loss:0.9795356392860413:   2%|█▎                                                                         | 90/5000 [08:43<8:08:57,  5.98s/it]"
     ]
    },
    {
     "name": "stdout",
     "output_type": "stream",
     "text": [
      "Test update: epoch: 89 |accuracy: 0.7901825904846191 | f1: 0.8473407626152039 | auc: 0.8557953834533691 | treshold: 0.53\n"
     ]
    },
    {
     "name": "stderr",
     "output_type": "stream",
     "text": [
      "train... loss:0.9763721823692322:   2%|█▎                                                                         | 91/5000 [08:49<8:05:02,  5.93s/it]"
     ]
    },
    {
     "name": "stdout",
     "output_type": "stream",
     "text": [
      "Test update: epoch: 90 |accuracy: 0.7902792692184448 | f1: 0.8480740189552307 | auc: 0.8571839332580566 | treshold: 0.52\n"
     ]
    },
    {
     "name": "stderr",
     "output_type": "stream",
     "text": [
      "train... loss:0.9730842709541321:   2%|█▍                                                                         | 92/5000 [08:55<8:03:12,  5.91s/it]"
     ]
    },
    {
     "name": "stdout",
     "output_type": "stream",
     "text": [
      "Test update: epoch: 91 |accuracy: 0.7911739945411682 | f1: 0.8485868573188782 | auc: 0.8585335612297058 | treshold: 0.52\n"
     ]
    },
    {
     "name": "stderr",
     "output_type": "stream",
     "text": [
      "train... loss:0.9702371656894684:   2%|█▍                                                                         | 93/5000 [09:01<8:03:33,  5.91s/it]"
     ]
    },
    {
     "name": "stdout",
     "output_type": "stream",
     "text": [
      "Test update: epoch: 92 |accuracy: 0.7919235825538635 | f1: 0.8490536212921143 | auc: 0.8598637580871582 | treshold: 0.52\n"
     ]
    },
    {
     "name": "stderr",
     "output_type": "stream",
     "text": [
      "train... loss:0.9669212698936462:   2%|█▍                                                                         | 94/5000 [09:07<8:03:03,  5.91s/it]"
     ]
    },
    {
     "name": "stdout",
     "output_type": "stream",
     "text": [
      "Test update: epoch: 93 |accuracy: 0.7926973700523376 | f1: 0.8494881987571716 | auc: 0.8611721992492676 | treshold: 0.52\n"
     ]
    },
    {
     "name": "stderr",
     "output_type": "stream",
     "text": [
      "train... loss:0.9640840291976929:   2%|█▍                                                                         | 95/5000 [09:12<8:02:51,  5.91s/it]"
     ]
    },
    {
     "name": "stdout",
     "output_type": "stream",
     "text": [
      "Test update: epoch: 94 |accuracy: 0.7925280928611755 | f1: 0.849979043006897 | auc: 0.8624575138092041 | treshold: 0.51\n"
     ]
    },
    {
     "name": "stderr",
     "output_type": "stream",
     "text": [
      "train... loss:0.9612644910812378:   2%|█▍                                                                         | 96/5000 [09:18<8:00:16,  5.88s/it]"
     ]
    },
    {
     "name": "stdout",
     "output_type": "stream",
     "text": [
      "Test update: epoch: 95 |accuracy: 0.7936887741088867 | f1: 0.8506459593772888 | auc: 0.8637399077415466 | treshold: 0.51\n"
     ]
    },
    {
     "name": "stderr",
     "output_type": "stream",
     "text": [
      "train... loss:0.958545058965683:   2%|█▍                                                                          | 97/5000 [09:24<8:00:45,  5.88s/it]"
     ]
    },
    {
     "name": "stdout",
     "output_type": "stream",
     "text": [
      "Test update: epoch: 96 |accuracy: 0.7946076393127441 | f1: 0.851180911064148 | auc: 0.8650214076042175 | treshold: 0.51\n"
     ]
    },
    {
     "name": "stderr",
     "output_type": "stream",
     "text": [
      "train... loss:0.9555911421775818:   2%|█▍                                                                         | 98/5000 [09:30<8:04:46,  5.93s/it]"
     ]
    },
    {
     "name": "stdout",
     "output_type": "stream",
     "text": [
      "Test update: epoch: 97 |accuracy: 0.797412633895874 | f1: 0.8523804545402527 | auc: 0.8662901520729065 | treshold: 0.52\n"
     ]
    },
    {
     "name": "stderr",
     "output_type": "stream",
     "text": [
      "train... loss:0.9527762532234192:   2%|█▍                                                                         | 99/5000 [09:36<8:04:19,  5.93s/it]"
     ]
    },
    {
     "name": "stdout",
     "output_type": "stream",
     "text": [
      "Test update: epoch: 98 |accuracy: 0.7984040379524231 | f1: 0.8529966473579407 | auc: 0.867569088935852 | treshold: 0.52\n"
     ]
    },
    {
     "name": "stderr",
     "output_type": "stream",
     "text": [
      "train... loss:0.9503149092197418:   2%|█▍                                                                        | 100/5000 [09:42<7:59:15,  5.87s/it]"
     ]
    },
    {
     "name": "stdout",
     "output_type": "stream",
     "text": [
      "Test update: epoch: 99 |accuracy: 0.7981864213943481 | f1: 0.8533628582954407 | auc: 0.8688400983810425 | treshold: 0.51\n"
     ]
    },
    {
     "name": "stderr",
     "output_type": "stream",
     "text": [
      "train... loss:0.9471973776817322:   2%|█▍                                                                        | 101/5000 [09:48<7:55:08,  5.82s/it]"
     ]
    },
    {
     "name": "stdout",
     "output_type": "stream",
     "text": [
      "Test update: epoch: 100 |accuracy: 0.7987183928489685 | f1: 0.8536722660064697 | auc: 0.8701057434082031 | treshold: 0.51\n"
     ]
    },
    {
     "name": "stderr",
     "output_type": "stream",
     "text": [
      "train... loss:0.9441902935504913:   2%|█▌                                                                        | 102/5000 [09:53<7:53:06,  5.80s/it]"
     ]
    },
    {
     "name": "stdout",
     "output_type": "stream",
     "text": [
      "Test update: epoch: 101 |accuracy: 0.799806535243988 | f1: 0.8543788194656372 | auc: 0.8713604807853699 | treshold: 0.51\n"
     ]
    },
    {
     "name": "stderr",
     "output_type": "stream",
     "text": [
      "train... loss:0.9420306384563446:   2%|█▌                                                                        | 103/5000 [09:59<7:54:48,  5.82s/it]"
     ]
    },
    {
     "name": "stdout",
     "output_type": "stream",
     "text": [
      "Test update: epoch: 102 |accuracy: 0.8009188771247864 | f1: 0.8551114797592163 | auc: 0.8726056814193726 | treshold: 0.51\n"
     ]
    },
    {
     "name": "stderr",
     "output_type": "stream",
     "text": [
      "train... loss:0.9393929839134216:   2%|█▌                                                                        | 104/5000 [10:05<7:57:14,  5.85s/it]"
     ]
    },
    {
     "name": "stdout",
     "output_type": "stream",
     "text": [
      "Test update: epoch: 103 |accuracy: 0.8018377423286438 | f1: 0.855719268321991 | auc: 0.8738307952880859 | treshold: 0.51\n"
     ]
    },
    {
     "name": "stderr",
     "output_type": "stream",
     "text": [
      "train... loss:0.9363337755203247:   2%|█▌                                                                        | 105/5000 [10:11<7:57:50,  5.86s/it]"
     ]
    },
    {
     "name": "stdout",
     "output_type": "stream",
     "text": [
      "Test update: epoch: 104 |accuracy: 0.8042558431625366 | f1: 0.8567890524864197 | auc: 0.8750427961349487 | treshold: 0.52\n"
     ]
    },
    {
     "name": "stderr",
     "output_type": "stream",
     "text": [
      "train... loss:0.9340766966342926:   2%|█▌                                                                        | 106/5000 [10:17<8:01:31,  5.90s/it]"
     ]
    },
    {
     "name": "stdout",
     "output_type": "stream",
     "text": [
      "Test update: epoch: 105 |accuracy: 0.8043041825294495 | f1: 0.8573744893074036 | auc: 0.8762071132659912 | treshold: 0.51\n"
     ]
    },
    {
     "name": "stderr",
     "output_type": "stream",
     "text": [
      "train... loss:0.9316796958446503:   2%|█▌                                                                        | 107/5000 [10:23<8:00:48,  5.90s/it]"
     ]
    },
    {
     "name": "stdout",
     "output_type": "stream",
     "text": [
      "Test update: epoch: 106 |accuracy: 0.8048845529556274 | f1: 0.8577974438667297 | auc: 0.8773435354232788 | treshold: 0.51\n"
     ]
    },
    {
     "name": "stderr",
     "output_type": "stream",
     "text": [
      "train... loss:0.929091215133667:   2%|█▌                                                                         | 108/5000 [10:29<7:59:13,  5.88s/it]"
     ]
    },
    {
     "name": "stdout",
     "output_type": "stream",
     "text": [
      "Test update: epoch: 107 |accuracy: 0.8062145113945007 | f1: 0.8586745858192444 | auc: 0.8784367442131042 | treshold: 0.51\n"
     ]
    },
    {
     "name": "stderr",
     "output_type": "stream",
     "text": [
      "train... loss:0.926664799451828:   2%|█▋                                                                         | 109/5000 [10:35<7:58:36,  5.87s/it]"
     ]
    },
    {
     "name": "stdout",
     "output_type": "stream",
     "text": [
      "Test update: epoch: 108 |accuracy: 0.8071091771125793 | f1: 0.859289824962616 | auc: 0.8794970512390137 | treshold: 0.51\n"
     ]
    },
    {
     "name": "stderr",
     "output_type": "stream",
     "text": [
      "train... loss:0.9246424734592438:   2%|█▋                                                                        | 110/5000 [10:40<7:57:34,  5.86s/it]"
     ]
    },
    {
     "name": "stdout",
     "output_type": "stream",
     "text": [
      "Test update: epoch: 109 |accuracy: 0.8078346252441406 | f1: 0.85984867811203 | auc: 0.8804974555969238 | treshold: 0.51\n"
     ]
    },
    {
     "name": "stderr",
     "output_type": "stream",
     "text": [
      "train... loss:0.9219766557216644:   2%|█▋                                                                        | 111/5000 [10:46<7:59:51,  5.89s/it]"
     ]
    },
    {
     "name": "stdout",
     "output_type": "stream",
     "text": [
      "Test update: epoch: 110 |accuracy: 0.8096965551376343 | f1: 0.860465943813324 | auc: 0.8814610242843628 | treshold: 0.52\n"
     ]
    },
    {
     "name": "stderr",
     "output_type": "stream",
     "text": [
      "train... loss:0.9201435446739197:   2%|█▋                                                                        | 112/5000 [10:52<7:59:38,  5.89s/it]"
     ]
    },
    {
     "name": "stdout",
     "output_type": "stream",
     "text": [
      "Test update: epoch: 111 |accuracy: 0.8124773502349854 | f1: 0.8612874746322632 | auc: 0.882367730140686 | treshold: 0.54\n"
     ]
    },
    {
     "name": "stderr",
     "output_type": "stream",
     "text": [
      "train... loss:0.9182908833026886:   2%|█▋                                                                        | 113/5000 [10:58<7:57:53,  5.87s/it]"
     ]
    },
    {
     "name": "stdout",
     "output_type": "stream",
     "text": [
      "Test update: epoch: 112 |accuracy: 0.8123564124107361 | f1: 0.861724853515625 | auc: 0.8832371830940247 | treshold: 0.53\n"
     ]
    },
    {
     "name": "stderr",
     "output_type": "stream",
     "text": [
      "train... loss:0.9159810543060303:   2%|█▋                                                                        | 114/5000 [11:04<7:57:58,  5.87s/it]"
     ]
    },
    {
     "name": "stdout",
     "output_type": "stream",
     "text": [
      "Test update: epoch: 113 |accuracy: 0.8126707673072815 | f1: 0.8619639277458191 | auc: 0.884077787399292 | treshold: 0.53\n"
     ]
    },
    {
     "name": "stderr",
     "output_type": "stream",
     "text": [
      "train... loss:0.9144024848937988:   2%|█▋                                                                        | 115/5000 [11:10<7:58:22,  5.88s/it]"
     ]
    },
    {
     "name": "stdout",
     "output_type": "stream",
     "text": [
      "Test update: epoch: 114 |accuracy: 0.8126224279403687 | f1: 0.8626039624214172 | auc: 0.8848931789398193 | treshold: 0.52\n"
     ]
    },
    {
     "name": "stderr",
     "output_type": "stream",
     "text": [
      "train... loss:0.9127505421638489:   2%|█▋                                                                        | 116/5000 [11:16<7:57:37,  5.87s/it]"
     ]
    },
    {
     "name": "stdout",
     "output_type": "stream",
     "text": [
      "Test update: epoch: 115 |accuracy: 0.8131301999092102 | f1: 0.8629398345947266 | auc: 0.8856818079948425 | treshold: 0.52\n"
     ]
    },
    {
     "name": "stderr",
     "output_type": "stream",
     "text": [
      "train... loss:0.9104592502117157:   2%|█▋                                                                        | 117/5000 [11:22<7:56:53,  5.86s/it]"
     ]
    },
    {
     "name": "stdout",
     "output_type": "stream",
     "text": [
      "Test update: epoch: 116 |accuracy: 0.8135170936584473 | f1: 0.8632187843322754 | auc: 0.8864522576332092 | treshold: 0.52\n"
     ]
    },
    {
     "name": "stderr",
     "output_type": "stream",
     "text": [
      "train... loss:0.9091068506240845:   2%|█▋                                                                        | 118/5000 [11:27<7:58:36,  5.88s/it]"
     ]
    },
    {
     "name": "stdout",
     "output_type": "stream",
     "text": [
      "Test update: epoch: 117 |accuracy: 0.8140007257461548 | f1: 0.8635444641113281 | auc: 0.8872039914131165 | treshold: 0.52\n"
     ]
    },
    {
     "name": "stderr",
     "output_type": "stream",
     "text": [
      "train... loss:0.9074051380157471:   2%|█▊                                                                        | 119/5000 [11:33<8:01:52,  5.92s/it]"
     ]
    },
    {
     "name": "stdout",
     "output_type": "stream",
     "text": [
      "Test update: epoch: 118 |accuracy: 0.81755530834198 | f1: 0.8638946413993835 | auc: 0.8879411220550537 | treshold: 0.56\n"
     ]
    },
    {
     "name": "stderr",
     "output_type": "stream",
     "text": [
      "train... loss:0.9052834212779999:   2%|█▊                                                                        | 120/5000 [11:39<8:02:59,  5.94s/it]"
     ]
    },
    {
     "name": "stdout",
     "output_type": "stream",
     "text": [
      "Test update: epoch: 119 |accuracy: 0.8178213238716125 | f1: 0.8640710115432739 | auc: 0.8886744976043701 | treshold: 0.56\n"
     ]
    },
    {
     "name": "stderr",
     "output_type": "stream",
     "text": [
      "train... loss:0.9039893746376038:   2%|█▊                                                                        | 121/5000 [11:45<7:58:50,  5.89s/it]"
     ]
    },
    {
     "name": "stdout",
     "output_type": "stream",
     "text": [
      "Test update: epoch: 120 |accuracy: 0.8184016346931458 | f1: 0.8645382523536682 | auc: 0.8893961906433105 | treshold: 0.56\n"
     ]
    },
    {
     "name": "stderr",
     "output_type": "stream",
     "text": [
      "train... loss:0.9022605121135712:   2%|█▊                                                                        | 122/5000 [11:51<7:56:40,  5.86s/it]"
     ]
    },
    {
     "name": "stdout",
     "output_type": "stream",
     "text": [
      "Test update: epoch: 121 |accuracy: 0.818522572517395 | f1: 0.8646504282951355 | auc: 0.890099287033081 | treshold: 0.56\n"
     ]
    },
    {
     "name": "stderr",
     "output_type": "stream",
     "text": [
      "train... loss:0.9004833102226257:   2%|█▊                                                                        | 123/5000 [11:57<8:01:54,  5.93s/it]"
     ]
    },
    {
     "name": "stdout",
     "output_type": "stream",
     "text": [
      "Test update: epoch: 122 |accuracy: 0.8175069689750671 | f1: 0.8650272488594055 | auc: 0.8907850980758667 | treshold: 0.54\n"
     ]
    },
    {
     "name": "stderr",
     "output_type": "stream",
     "text": [
      "train... loss:0.8990041613578796:   2%|█▊                                                                        | 124/5000 [12:03<8:01:24,  5.92s/it]"
     ]
    },
    {
     "name": "stdout",
     "output_type": "stream",
     "text": [
      "Test update: epoch: 123 |accuracy: 0.8183532953262329 | f1: 0.8655883073806763 | auc: 0.8914545774459839 | treshold: 0.54\n"
     ]
    },
    {
     "name": "stderr",
     "output_type": "stream",
     "text": [
      "train... loss:0.8974631726741791:   2%|█▊                                                                        | 125/5000 [12:09<7:59:39,  5.90s/it]"
     ]
    },
    {
     "name": "stdout",
     "output_type": "stream",
     "text": [
      "Test update: epoch: 124 |accuracy: 0.8184983730316162 | f1: 0.8657004833221436 | auc: 0.8920929431915283 | treshold: 0.54\n"
     ]
    },
    {
     "name": "stderr",
     "output_type": "stream",
     "text": [
      "train... loss:0.8955195844173431:   3%|█▊                                                                        | 126/5000 [12:15<7:56:28,  5.87s/it]"
     ]
    },
    {
     "name": "stdout",
     "output_type": "stream",
     "text": [
      "Test update: epoch: 125 |accuracy: 0.8189820051193237 | f1: 0.8659864068031311 | auc: 0.8927184343338013 | treshold: 0.54\n"
     ]
    },
    {
     "name": "stderr",
     "output_type": "stream",
     "text": [
      "train... loss:0.8941435217857361:   3%|█▉                                                                        | 127/5000 [12:21<7:57:20,  5.88s/it]"
     ]
    },
    {
     "name": "stdout",
     "output_type": "stream",
     "text": [
      "Test update: epoch: 126 |accuracy: 0.8189578056335449 | f1: 0.8659132719039917 | auc: 0.8933124542236328 | treshold: 0.54\n"
     ]
    },
    {
     "name": "stderr",
     "output_type": "stream",
     "text": [
      "train... loss:0.8927185535430908:   3%|█▉                                                                        | 128/5000 [12:26<7:57:34,  5.88s/it]"
     ]
    },
    {
     "name": "stdout",
     "output_type": "stream",
     "text": [
      "Test update: epoch: 127 |accuracy: 0.8184983730316162 | f1: 0.8660933971405029 | auc: 0.8938666582107544 | treshold: 0.53\n"
     ]
    },
    {
     "name": "stderr",
     "output_type": "stream",
     "text": [
      "train... loss:0.8909034430980682:   3%|█▉                                                                        | 129/5000 [12:32<8:00:23,  5.92s/it]"
     ]
    },
    {
     "name": "stdout",
     "output_type": "stream",
     "text": [
      "Test update: epoch: 128 |accuracy: 0.8186917901039124 | f1: 0.866140604019165 | auc: 0.8943797945976257 | treshold: 0.53\n"
     ]
    },
    {
     "name": "stderr",
     "output_type": "stream",
     "text": [
      "train... loss:0.8900807499885559:   3%|█▉                                                                        | 130/5000 [12:39<8:03:42,  5.96s/it]"
     ]
    },
    {
     "name": "stdout",
     "output_type": "stream",
     "text": [
      "Test update: epoch: 129 |accuracy: 0.821738600730896 | f1: 0.8666377067565918 | auc: 0.8948483467102051 | treshold: 0.56\n"
     ]
    },
    {
     "name": "stderr",
     "output_type": "stream",
     "text": [
      "train... loss:0.8886485695838928:   3%|█▉                                                                        | 131/5000 [12:44<8:02:14,  5.94s/it]"
     ]
    },
    {
     "name": "stdout",
     "output_type": "stream",
     "text": [
      "Test update: epoch: 130 |accuracy: 0.8224398493766785 | f1: 0.8670445084571838 | auc: 0.8952963948249817 | treshold: 0.56\n"
     ]
    },
    {
     "name": "stderr",
     "output_type": "stream",
     "text": [
      "train... loss:0.8876802623271942:   3%|█▉                                                                        | 132/5000 [12:50<8:02:55,  5.95s/it]"
     ]
    },
    {
     "name": "stdout",
     "output_type": "stream",
     "text": [
      "Test update: epoch: 131 |accuracy: 0.8221496939659119 | f1: 0.8672646284103394 | auc: 0.8957125544548035 | treshold: 0.55\n"
     ]
    },
    {
     "name": "stderr",
     "output_type": "stream",
     "text": [
      "train... loss:0.8862065076828003:   3%|█▉                                                                        | 133/5000 [12:56<8:02:55,  5.95s/it]"
     ]
    },
    {
     "name": "stdout",
     "output_type": "stream",
     "text": [
      "Test update: epoch: 132 |accuracy: 0.8230202198028564 | f1: 0.8677520155906677 | auc: 0.8960870504379272 | treshold: 0.55\n"
     ]
    },
    {
     "name": "stderr",
     "output_type": "stream",
     "text": [
      "train... loss:0.8852878212928772:   3%|█▉                                                                        | 134/5000 [13:02<8:01:47,  5.94s/it]"
     ]
    },
    {
     "name": "stdout",
     "output_type": "stream",
     "text": [
      "Test update: epoch: 133 |accuracy: 0.8233345150947571 | f1: 0.8678651452064514 | auc: 0.896438717842102 | treshold: 0.55\n"
     ]
    },
    {
     "name": "stderr",
     "output_type": "stream",
     "text": [
      "train... loss:0.884025514125824:   3%|██                                                                         | 135/5000 [13:08<8:02:46,  5.95s/it]"
     ]
    },
    {
     "name": "stdout",
     "output_type": "stream",
     "text": [
      "Test update: epoch: 134 |accuracy: 0.822705864906311 | f1: 0.8677822947502136 | auc: 0.8967708349227905 | treshold: 0.54\n"
     ]
    },
    {
     "name": "stderr",
     "output_type": "stream",
     "text": [
      "train... loss:0.8832710981369019:   3%|██                                                                        | 136/5000 [13:14<7:59:05,  5.91s/it]"
     ]
    },
    {
     "name": "stdout",
     "output_type": "stream",
     "text": [
      "Test update: epoch: 135 |accuracy: 0.8234312534332275 | f1: 0.8681997060775757 | auc: 0.8970860838890076 | treshold: 0.54\n"
     ]
    },
    {
     "name": "stderr",
     "output_type": "stream",
     "text": [
      "train... loss:0.8832610249519348:   3%|██                                                                        | 137/5000 [13:20<7:56:41,  5.88s/it]"
     ]
    },
    {
     "name": "stdout",
     "output_type": "stream",
     "text": [
      "Test update: epoch: 136 |accuracy: 0.8242775797843933 | f1: 0.868644118309021 | auc: 0.8973922729492188 | treshold: 0.54\n"
     ]
    },
    {
     "name": "stderr",
     "output_type": "stream",
     "text": [
      "train... loss:0.8819049596786499:   3%|██                                                                        | 138/5000 [13:26<7:56:50,  5.88s/it]"
     ]
    },
    {
     "name": "stdout",
     "output_type": "stream",
     "text": [
      "Test update: epoch: 137 |accuracy: 0.8227784037590027 | f1: 0.8683988451957703 | auc: 0.8977000713348389 | treshold: 0.52\n"
     ]
    },
    {
     "name": "stderr",
     "output_type": "stream",
     "text": [
      "train... loss:0.8810629844665527:   3%|██                                                                        | 139/5000 [13:32<7:59:07,  5.91s/it]"
     ]
    },
    {
     "name": "stdout",
     "output_type": "stream",
     "text": [
      "Test update: epoch: 138 |accuracy: 0.8251481056213379 | f1: 0.8690676689147949 | auc: 0.8980122804641724 | treshold: 0.54\n"
     ]
    },
    {
     "name": "stderr",
     "output_type": "stream",
     "text": [
      "train... loss:0.8805839121341705:   3%|██                                                                        | 140/5000 [13:38<8:01:28,  5.94s/it]"
     ]
    },
    {
     "name": "stdout",
     "output_type": "stream",
     "text": [
      "Test update: epoch: 139 |accuracy: 0.8257526159286499 | f1: 0.8693760633468628 | auc: 0.8983417749404907 | treshold: 0.54\n"
     ]
    },
    {
     "name": "stderr",
     "output_type": "stream",
     "text": [
      "train... loss:0.8800956010818481:   3%|██                                                                        | 141/5000 [13:44<8:01:18,  5.94s/it]"
     ]
    },
    {
     "name": "stdout",
     "output_type": "stream",
     "text": [
      "Test update: epoch: 140 |accuracy: 0.8264296650886536 | f1: 0.8697797656059265 | auc: 0.8986818790435791 | treshold: 0.54\n"
     ]
    },
    {
     "name": "stderr",
     "output_type": "stream",
     "text": [
      "train... loss:0.8791269063949585:   3%|██                                                                        | 142/5000 [13:50<8:00:43,  5.94s/it]"
     ]
    },
    {
     "name": "stdout",
     "output_type": "stream",
     "text": [
      "Test update: epoch: 141 |accuracy: 0.825921893119812 | f1: 0.8698168396949768 | auc: 0.8990422487258911 | treshold: 0.53\n"
     ]
    },
    {
     "name": "stderr",
     "output_type": "stream",
     "text": [
      "train... loss:0.878331333398819:   3%|██▏                                                                        | 143/5000 [13:55<7:57:59,  5.90s/it]"
     ]
    },
    {
     "name": "stdout",
     "output_type": "stream",
     "text": [
      "Test update: epoch: 142 |accuracy: 0.8255591988563538 | f1: 0.8703497648239136 | auc: 0.8994349241256714 | treshold: 0.51\n"
     ]
    },
    {
     "name": "stderr",
     "output_type": "stream",
     "text": [
      "train... loss:0.8773325085639954:   3%|██▏                                                                       | 144/5000 [14:01<7:55:54,  5.88s/it]"
     ]
    },
    {
     "name": "stdout",
     "output_type": "stream",
     "text": [
      "Test update: epoch: 143 |accuracy: 0.8249304890632629 | f1: 0.8702462315559387 | auc: 0.8998534083366394 | treshold: 0.5\n"
     ]
    },
    {
     "name": "stderr",
     "output_type": "stream",
     "text": [
      "train... loss:0.8770956695079803:   3%|██▏                                                                       | 145/5000 [14:07<7:56:20,  5.89s/it]"
     ]
    },
    {
     "name": "stdout",
     "output_type": "stream",
     "text": [
      "Test update: epoch: 144 |accuracy: 0.8246161341667175 | f1: 0.8700528740882874 | auc: 0.9002794623374939 | treshold: 0.5\n"
     ]
    },
    {
     "name": "stderr",
     "output_type": "stream",
     "text": [
      "train... loss:0.8761462271213531:   3%|██▏                                                                       | 146/5000 [14:13<7:55:10,  5.87s/it]"
     ]
    },
    {
     "name": "stdout",
     "output_type": "stream",
     "text": [
      "Test update: epoch: 145 |accuracy: 0.8285818099975586 | f1: 0.8715505003929138 | auc: 0.9007339477539062 | treshold: 0.53\n"
     ]
    },
    {
     "name": "stderr",
     "output_type": "stream",
     "text": [
      "train... loss:0.8755525350570679:   3%|██▏                                                                       | 147/5000 [14:19<7:56:32,  5.89s/it]"
     ]
    },
    {
     "name": "stdout",
     "output_type": "stream",
     "text": [
      "Test update: epoch: 146 |accuracy: 0.83189457654953 | f1: 0.8719752430915833 | auc: 0.9012033939361572 | treshold: 0.5700000000000001\n"
     ]
    },
    {
     "name": "stderr",
     "output_type": "stream",
     "text": [
      "train... loss:0.8746831119060516:   3%|██▏                                                                       | 148/5000 [14:25<7:57:41,  5.91s/it]"
     ]
    },
    {
     "name": "stdout",
     "output_type": "stream",
     "text": [
      "Test update: epoch: 147 |accuracy: 0.8319187760353088 | f1: 0.872071385383606 | auc: 0.9016822576522827 | treshold: 0.5700000000000001\n"
     ]
    },
    {
     "name": "stderr",
     "output_type": "stream",
     "text": [
      "train... loss:0.8731249868869781:   3%|██▏                                                                       | 149/5000 [14:31<7:59:10,  5.93s/it]"
     ]
    },
    {
     "name": "stdout",
     "output_type": "stream",
     "text": [
      "Test update: epoch: 148 |accuracy: 0.8321605324745178 | f1: 0.8728265166282654 | auc: 0.9021593332290649 | treshold: 0.56\n"
     ]
    },
    {
     "name": "stderr",
     "output_type": "stream",
     "text": [
      "train... loss:0.8731883466243744:   3%|██▏                                                                       | 150/5000 [14:37<8:00:03,  5.94s/it]"
     ]
    },
    {
     "name": "stdout",
     "output_type": "stream",
     "text": [
      "Test update: epoch: 149 |accuracy: 0.8318462371826172 | f1: 0.8727259635925293 | auc: 0.9026374816894531 | treshold: 0.56\n"
     ]
    },
    {
     "name": "stderr",
     "output_type": "stream",
     "text": [
      "train... loss:0.8725009858608246:   3%|██▏                                                                       | 151/5000 [14:43<7:59:37,  5.93s/it]"
     ]
    },
    {
     "name": "stdout",
     "output_type": "stream",
     "text": [
      "Test update: epoch: 150 |accuracy: 0.8328134417533875 | f1: 0.8730770349502563 | auc: 0.9031065702438354 | treshold: 0.5700000000000001\n"
     ]
    },
    {
     "name": "stderr",
     "output_type": "stream",
     "text": [
      "train... loss:0.8715256452560425:   3%|██▏                                                                       | 152/5000 [14:49<7:58:45,  5.93s/it]"
     ]
    },
    {
     "name": "stdout",
     "output_type": "stream",
     "text": [
      "Test update: epoch: 151 |accuracy: 0.8313867449760437 | f1: 0.8731420636177063 | auc: 0.9035475254058838 | treshold: 0.55\n"
     ]
    },
    {
     "name": "stderr",
     "output_type": "stream",
     "text": [
      "train... loss:0.8708503842353821:   3%|██▎                                                                       | 153/5000 [14:54<7:55:33,  5.89s/it]"
     ]
    },
    {
     "name": "stdout",
     "output_type": "stream",
     "text": [
      "Test update: epoch: 152 |accuracy: 0.8302502632141113 | f1: 0.872904360294342 | auc: 0.9039707183837891 | treshold: 0.54\n"
     ]
    },
    {
     "name": "stderr",
     "output_type": "stream",
     "text": [
      "train... loss:0.8704379796981812:   3%|██▎                                                                       | 154/5000 [15:00<7:52:35,  5.85s/it]"
     ]
    },
    {
     "name": "stdout",
     "output_type": "stream",
     "text": [
      "Test update: epoch: 153 |accuracy: 0.8299843072891235 | f1: 0.8728916049003601 | auc: 0.9043705463409424 | treshold: 0.54\n"
     ]
    },
    {
     "name": "stderr",
     "output_type": "stream",
     "text": [
      "train... loss:0.8694367110729218:   3%|██▎                                                                       | 155/5000 [15:06<7:52:28,  5.85s/it]"
     ]
    },
    {
     "name": "stdout",
     "output_type": "stream",
     "text": [
      "Test update: epoch: 154 |accuracy: 0.8296699523925781 | f1: 0.8728611469268799 | auc: 0.9047368168830872 | treshold: 0.54\n"
     ]
    },
    {
     "name": "stderr",
     "output_type": "stream",
     "text": [
      "train... loss:0.8695672750473022:   3%|██▎                                                                       | 156/5000 [15:12<7:53:26,  5.86s/it]"
     ]
    },
    {
     "name": "stdout",
     "output_type": "stream",
     "text": [
      "Test update: epoch: 155 |accuracy: 0.8315318822860718 | f1: 0.873490571975708 | auc: 0.9050486087799072 | treshold: 0.56\n"
     ]
    },
    {
     "name": "stderr",
     "output_type": "stream",
     "text": [
      "train... loss:0.8691580295562744:   3%|██▎                                                                       | 157/5000 [15:18<7:54:44,  5.88s/it]"
     ]
    },
    {
     "name": "stdout",
     "output_type": "stream",
     "text": [
      "Test update: epoch: 156 |accuracy: 0.8290170431137085 | f1: 0.872408390045166 | auc: 0.905312180519104 | treshold: 0.55\n"
     ]
    },
    {
     "name": "stderr",
     "output_type": "stream",
     "text": [
      "train... loss:0.8690567314624786:   3%|██▎                                                                       | 158/5000 [15:24<7:58:29,  5.93s/it]"
     ]
    },
    {
     "name": "stdout",
     "output_type": "stream",
     "text": [
      "Test update: epoch: 157 |accuracy: 0.8314351439476013 | f1: 0.8733627796173096 | auc: 0.9055246710777283 | treshold: 0.5700000000000001\n"
     ]
    },
    {
     "name": "stderr",
     "output_type": "stream",
     "text": [
      "train... loss:0.8689789772033691:   3%|██▎                                                                       | 159/5000 [15:30<8:05:59,  6.02s/it]"
     ]
    },
    {
     "name": "stdout",
     "output_type": "stream",
     "text": [
      "Test update: epoch: 158 |accuracy: 0.8306613564491272 | f1: 0.8730213642120361 | auc: 0.9056891202926636 | treshold: 0.5700000000000001\n"
     ]
    },
    {
     "name": "stderr",
     "output_type": "stream",
     "text": [
      "train... loss:0.8688797652721405:   3%|██▎                                                                       | 160/5000 [15:36<8:03:48,  6.00s/it]"
     ]
    },
    {
     "name": "stdout",
     "output_type": "stream",
     "text": [
      "Test update: epoch: 159 |accuracy: 0.8305888175964355 | f1: 0.8727662563323975 | auc: 0.905819296836853 | treshold: 0.5800000000000001\n"
     ]
    },
    {
     "name": "stderr",
     "output_type": "stream",
     "text": [
      "train... loss:0.8696659505367279:   3%|██▍                                                                       | 161/5000 [15:42<8:01:25,  5.97s/it]"
     ]
    },
    {
     "name": "stdout",
     "output_type": "stream",
     "text": [
      "Test update: epoch: 160 |accuracy: 0.8273969292640686 | f1: 0.8723762035369873 | auc: 0.9059021472930908 | treshold: 0.54\n"
     ]
    },
    {
     "name": "stderr",
     "output_type": "stream",
     "text": [
      "train... loss:0.8706119656562805:   3%|██▍                                                                       | 162/5000 [15:48<7:59:48,  5.95s/it]"
     ]
    },
    {
     "name": "stdout",
     "output_type": "stream",
     "text": [
      "Test update: epoch: 161 |accuracy: 0.8277596235275269 | f1: 0.8723636865615845 | auc: 0.9059631824493408 | treshold: 0.55\n"
     ]
    },
    {
     "name": "stderr",
     "output_type": "stream",
     "text": [
      "train... loss:0.8709670007228851:   3%|██▍                                                                       | 163/5000 [15:54<8:00:33,  5.96s/it]"
     ]
    },
    {
     "name": "stdout",
     "output_type": "stream",
     "text": [
      "Test update: epoch: 162 |accuracy: 0.8274452686309814 | f1: 0.8722703456878662 | auc: 0.9059950113296509 | treshold: 0.55\n"
     ]
    },
    {
     "name": "stderr",
     "output_type": "stream",
     "text": [
      "train... loss:0.8710978925228119:   3%|██▍                                                                       | 164/5000 [16:00<7:58:36,  5.94s/it]"
     ]
    },
    {
     "name": "stdout",
     "output_type": "stream",
     "text": [
      "Test update: epoch: 163 |accuracy: 0.8277354836463928 | f1: 0.8725900650024414 | auc: 0.9060083627700806 | treshold: 0.55\n"
     ]
    },
    {
     "name": "stderr",
     "output_type": "stream",
     "text": [
      "train... loss:0.8719101846218109:   3%|██▍                                                                       | 165/5000 [16:06<7:55:59,  5.91s/it]"
     ]
    },
    {
     "name": "stdout",
     "output_type": "stream",
     "text": [
      "Test update: epoch: 164 |accuracy: 0.828533411026001 | f1: 0.8727684020996094 | auc: 0.9060211777687073 | treshold: 0.56\n"
     ]
    },
    {
     "name": "stderr",
     "output_type": "stream",
     "text": [
      "train... loss:0.8719023168087006:   3%|██▍                                                                       | 166/5000 [16:11<7:53:53,  5.88s/it]"
     ]
    },
    {
     "name": "stdout",
     "output_type": "stream",
     "text": [
      "Test update: epoch: 165 |accuracy: 0.8277838230133057 | f1: 0.8726850152015686 | auc: 0.9060302972793579 | treshold: 0.55\n"
     ]
    },
    {
     "name": "stderr",
     "output_type": "stream",
     "text": [
      "train... loss:0.8715511858463287:   3%|██▍                                                                       | 167/5000 [16:17<7:52:33,  5.87s/it]"
     ]
    },
    {
     "name": "stdout",
     "output_type": "stream",
     "text": [
      "Test update: epoch: 166 |accuracy: 0.8274936676025391 | f1: 0.8724431395530701 | auc: 0.9060537219047546 | treshold: 0.55\n"
     ]
    },
    {
     "name": "stderr",
     "output_type": "stream",
     "text": [
      "train... loss:0.8719906806945801:   3%|██▍                                                                       | 168/5000 [16:23<7:52:29,  5.87s/it]"
     ]
    },
    {
     "name": "stdout",
     "output_type": "stream",
     "text": [
      "Test update: epoch: 167 |accuracy: 0.8275662064552307 | f1: 0.8724580407142639 | auc: 0.9060918092727661 | treshold: 0.55\n"
     ]
    },
    {
     "name": "stderr",
     "output_type": "stream",
     "text": [
      "train... loss:0.871985524892807:   3%|██▌                                                                        | 169/5000 [16:29<7:55:54,  5.91s/it]"
     ]
    },
    {
     "name": "stdout",
     "output_type": "stream",
     "text": [
      "Test update: epoch: 168 |accuracy: 0.8281465172767639 | f1: 0.8727825880050659 | auc: 0.9061523675918579 | treshold: 0.55\n"
     ]
    },
    {
     "name": "stderr",
     "output_type": "stream",
     "text": [
      "train... loss:0.8708620667457581:   3%|██▌                                                                       | 170/5000 [16:35<7:57:23,  5.93s/it]"
     ]
    },
    {
     "name": "stdout",
     "output_type": "stream",
     "text": [
      "Test update: epoch: 169 |accuracy: 0.8280498385429382 | f1: 0.8726334571838379 | auc: 0.9062384366989136 | treshold: 0.55\n"
     ]
    },
    {
     "name": "stderr",
     "output_type": "stream",
     "text": [
      "train... loss:0.8706831336021423:   3%|██▌                                                                       | 171/5000 [16:41<8:00:59,  5.98s/it]"
     ]
    },
    {
     "name": "stdout",
     "output_type": "stream",
     "text": [
      "Test update: epoch: 170 |accuracy: 0.8302019238471985 | f1: 0.8731162548065186 | auc: 0.9063398838043213 | treshold: 0.5700000000000001\n"
     ]
    },
    {
     "name": "stderr",
     "output_type": "stream",
     "text": [
      "train... loss:0.869103878736496:   3%|██▌                                                                        | 172/5000 [16:47<7:59:20,  5.96s/it]"
     ]
    },
    {
     "name": "stdout",
     "output_type": "stream",
     "text": [
      "Test update: epoch: 171 |accuracy: 0.8300809860229492 | f1: 0.8728259801864624 | auc: 0.9064559936523438 | treshold: 0.5700000000000001\n"
     ]
    },
    {
     "name": "stderr",
     "output_type": "stream",
     "text": [
      "train... loss:0.8684720695018768:   3%|██▌                                                                       | 173/5000 [16:53<7:55:37,  5.91s/it]"
     ]
    },
    {
     "name": "stdout",
     "output_type": "stream",
     "text": [
      "Test update: epoch: 172 |accuracy: 0.8301777243614197 | f1: 0.8731234073638916 | auc: 0.9065772294998169 | treshold: 0.56\n"
     ]
    },
    {
     "name": "stderr",
     "output_type": "stream",
     "text": [
      "train... loss:0.8673866093158722:   3%|██▌                                                                       | 174/5000 [16:59<7:55:11,  5.91s/it]"
     ]
    },
    {
     "name": "stdout",
     "output_type": "stream",
     "text": [
      "Test update: epoch: 173 |accuracy: 0.8295732140541077 | f1: 0.8728945255279541 | auc: 0.9066879749298096 | treshold: 0.55\n"
     ]
    },
    {
     "name": "stderr",
     "output_type": "stream",
     "text": [
      "train... loss:0.8665122389793396:   4%|██▌                                                                       | 175/5000 [17:05<7:56:25,  5.92s/it]"
     ]
    },
    {
     "name": "stdout",
     "output_type": "stream",
     "text": [
      "Test update: epoch: 174 |accuracy: 0.8299117684364319 | f1: 0.8724615573883057 | auc: 0.9067877531051636 | treshold: 0.56\n"
     ]
    },
    {
     "name": "stderr",
     "output_type": "stream",
     "text": [
      "train... loss:0.8652952015399933:   4%|██▌                                                                       | 176/5000 [17:11<7:54:42,  5.90s/it]"
     ]
    },
    {
     "name": "stdout",
     "output_type": "stream",
     "text": [
      "Test update: epoch: 175 |accuracy: 0.8299359083175659 | f1: 0.8726113438606262 | auc: 0.906869649887085 | treshold: 0.55\n"
     ]
    },
    {
     "name": "stderr",
     "output_type": "stream",
     "text": [
      "train... loss:0.86436527967453:   4%|██▋                                                                         | 177/5000 [17:17<7:54:24,  5.90s/it]"
     ]
    },
    {
     "name": "stdout",
     "output_type": "stream",
     "text": [
      "Test update: epoch: 176 |accuracy: 0.8283641934394836 | f1: 0.8724573850631714 | auc: 0.9069317579269409 | treshold: 0.52\n"
     ]
    },
    {
     "name": "stderr",
     "output_type": "stream",
     "text": [
      "train... loss:0.863961786031723:   4%|██▋                                                                        | 178/5000 [17:23<7:55:42,  5.92s/it]"
     ]
    },
    {
     "name": "stdout",
     "output_type": "stream",
     "text": [
      "Test update: epoch: 177 |accuracy: 0.8285576105117798 | f1: 0.8726378083229065 | auc: 0.906969428062439 | treshold: 0.51\n"
     ]
    },
    {
     "name": "stderr",
     "output_type": "stream",
     "text": [
      "train... loss:0.8642652332782745:   4%|███                                                                       | 203/5000 [19:39<7:26:05,  5.58s/it]"
     ]
    },
    {
     "name": "stdout",
     "output_type": "stream",
     "text": [
      "Test update: epoch: 202 |accuracy: 0.8305646181106567 | f1: 0.8732338547706604 | auc: 0.9067460298538208 | treshold: 0.54\n"
     ]
    },
    {
     "name": "stderr",
     "output_type": "stream",
     "text": [
      "train... loss:0.8641852736473083:   4%|███                                                                       | 204/5000 [19:45<7:37:00,  5.72s/it]"
     ]
    },
    {
     "name": "stdout",
     "output_type": "stream",
     "text": [
      "Test update: epoch: 203 |accuracy: 0.8293555974960327 | f1: 0.8728262186050415 | auc: 0.9069575071334839 | treshold: 0.54\n"
     ]
    },
    {
     "name": "stderr",
     "output_type": "stream",
     "text": [
      "train... loss:0.8642750382423401:   4%|███                                                                       | 205/5000 [19:51<7:43:54,  5.80s/it]"
     ]
    },
    {
     "name": "stdout",
     "output_type": "stream",
     "text": [
      "Test update: epoch: 204 |accuracy: 0.8305404186248779 | f1: 0.87228924036026 | auc: 0.907189130783081 | treshold: 0.5800000000000001\n"
     ]
    },
    {
     "name": "stderr",
     "output_type": "stream",
     "text": [
      "train... loss:0.8646332621574402:   4%|███                                                                       | 206/5000 [19:57<7:45:27,  5.83s/it]"
     ]
    },
    {
     "name": "stdout",
     "output_type": "stream",
     "text": [
      "Test update: epoch: 205 |accuracy: 0.8298391699790955 | f1: 0.8717817664146423 | auc: 0.9074249863624573 | treshold: 0.59\n"
     ]
    },
    {
     "name": "stderr",
     "output_type": "stream",
     "text": [
      "train... loss:0.8652575016021729:   4%|███                                                                       | 207/5000 [20:02<7:46:08,  5.84s/it]"
     ]
    },
    {
     "name": "stdout",
     "output_type": "stream",
     "text": [
      "Test update: epoch: 206 |accuracy: 0.8300326466560364 | f1: 0.8718808889389038 | auc: 0.9076919555664062 | treshold: 0.6\n"
     ]
    },
    {
     "name": "stderr",
     "output_type": "stream",
     "text": [
      "train... loss:0.8660180270671844:   4%|███                                                                       | 208/5000 [20:08<7:46:43,  5.84s/it]"
     ]
    },
    {
     "name": "stdout",
     "output_type": "stream",
     "text": [
      "Test update: epoch: 207 |accuracy: 0.8310965895652771 | f1: 0.8724503517150879 | auc: 0.9079782962799072 | treshold: 0.61\n"
     ]
    },
    {
     "name": "stderr",
     "output_type": "stream",
     "text": [
      "train... loss:0.8668011128902435:   4%|███                                                                       | 209/5000 [20:14<7:54:50,  5.95s/it]"
     ]
    },
    {
     "name": "stdout",
     "output_type": "stream",
     "text": [
      "Test update: epoch: 208 |accuracy: 0.8310482501983643 | f1: 0.8728086948394775 | auc: 0.9082721471786499 | treshold: 0.61\n"
     ]
    },
    {
     "name": "stderr",
     "output_type": "stream",
     "text": [
      "train... loss:0.8679689466953278:   4%|███                                                                       | 210/5000 [20:20<7:53:37,  5.93s/it]"
     ]
    },
    {
     "name": "stdout",
     "output_type": "stream",
     "text": [
      "Test update: epoch: 209 |accuracy: 0.8313626050949097 | f1: 0.8734117746353149 | auc: 0.9085677862167358 | treshold: 0.61\n"
     ]
    },
    {
     "name": "stderr",
     "output_type": "stream",
     "text": [
      "train... loss:0.8682120442390442:   4%|███                                                                       | 211/5000 [20:26<7:57:05,  5.98s/it]"
     ]
    },
    {
     "name": "stdout",
     "output_type": "stream",
     "text": [
      "Test update: epoch: 210 |accuracy: 0.8303712010383606 | f1: 0.8730109930038452 | auc: 0.9088636636734009 | treshold: 0.61\n"
     ]
    },
    {
     "name": "stderr",
     "output_type": "stream",
     "text": [
      "train... loss:0.8697843551635742:   4%|███▏                                                                      | 212/5000 [20:32<7:56:22,  5.97s/it]"
     ]
    },
    {
     "name": "stdout",
     "output_type": "stream",
     "text": [
      "Test update: epoch: 211 |accuracy: 0.8307338953018188 | f1: 0.8730596303939819 | auc: 0.9091443419456482 | treshold: 0.62\n"
     ]
    },
    {
     "name": "stderr",
     "output_type": "stream",
     "text": [
      "train... loss:0.8701123893260956:   4%|███▏                                                                      | 213/5000 [20:38<7:55:05,  5.95s/it]"
     ]
    },
    {
     "name": "stdout",
     "output_type": "stream",
     "text": [
      "Test update: epoch: 212 |accuracy: 0.8311449885368347 | f1: 0.8735215663909912 | auc: 0.9094012975692749 | treshold: 0.62\n"
     ]
    },
    {
     "name": "stderr",
     "output_type": "stream",
     "text": [
      "train... loss:0.8706443607807159:   4%|███▏                                                                      | 214/5000 [20:44<7:53:16,  5.93s/it]"
     ]
    },
    {
     "name": "stdout",
     "output_type": "stream",
     "text": [
      "Test update: epoch: 213 |accuracy: 0.8304678797721863 | f1: 0.8731843829154968 | auc: 0.9096323251724243 | treshold: 0.62\n"
     ]
    },
    {
     "name": "stderr",
     "output_type": "stream",
     "text": [
      "train... loss:0.8711536228656769:   4%|███▏                                                                      | 215/5000 [20:50<7:53:42,  5.94s/it]"
     ]
    },
    {
     "name": "stdout",
     "output_type": "stream",
     "text": [
      "Test update: epoch: 214 |accuracy: 0.8304920792579651 | f1: 0.8732689619064331 | auc: 0.9098169803619385 | treshold: 0.62\n"
     ]
    },
    {
     "name": "stderr",
     "output_type": "stream",
     "text": [
      "train... loss:0.8707352578639984:   4%|███▏                                                                      | 216/5000 [20:56<7:55:40,  5.97s/it]"
     ]
    },
    {
     "name": "stdout",
     "output_type": "stream",
     "text": [
      "Test update: epoch: 215 |accuracy: 0.83189457654953 | f1: 0.8737285733222961 | auc: 0.9099534153938293 | treshold: 0.63\n"
     ]
    },
    {
     "name": "stderr",
     "output_type": "stream",
     "text": [
      "train... loss:0.8708316385746002:   4%|███▏                                                                      | 217/5000 [21:02<7:56:30,  5.98s/it]"
     ]
    },
    {
     "name": "stdout",
     "output_type": "stream",
     "text": [
      "Test update: epoch: 216 |accuracy: 0.8316285610198975 | f1: 0.8735540509223938 | auc: 0.9100385308265686 | treshold: 0.63\n"
     ]
    },
    {
     "name": "stderr",
     "output_type": "stream",
     "text": [
      "train... loss:0.8700457513332367:   4%|███▏                                                                      | 218/5000 [21:08<7:54:33,  5.95s/it]"
     ]
    },
    {
     "name": "stdout",
     "output_type": "stream",
     "text": [
      "Test update: epoch: 217 |accuracy: 0.8314593434333801 | f1: 0.8733326196670532 | auc: 0.9100804924964905 | treshold: 0.63\n"
     ]
    },
    {
     "name": "stderr",
     "output_type": "stream",
     "text": [
      "train... loss:0.8659552335739136:   5%|███▉                                                                      | 265/5000 [25:26<7:18:12,  5.55s/it]"
     ]
    },
    {
     "name": "stdout",
     "output_type": "stream",
     "text": [
      "Test update: epoch: 264 |accuracy: 0.8330552577972412 | f1: 0.8718063235282898 | auc: 0.9096829891204834 | treshold: 0.67\n"
     ]
    },
    {
     "name": "stderr",
     "output_type": "stream",
     "text": [
      "train... loss:0.8661142885684967:   5%|███▉                                                                      | 266/5000 [25:32<7:29:32,  5.70s/it]"
     ]
    },
    {
     "name": "stdout",
     "output_type": "stream",
     "text": [
      "Test update: epoch: 265 |accuracy: 0.8346270322799683 | f1: 0.8723328709602356 | auc: 0.9098913669586182 | treshold: 0.68\n"
     ]
    },
    {
     "name": "stderr",
     "output_type": "stream",
     "text": [
      "train... loss:0.8663500845432281:   5%|███▉                                                                      | 267/5000 [25:38<7:33:27,  5.75s/it]"
     ]
    },
    {
     "name": "stdout",
     "output_type": "stream",
     "text": [
      "Test update: epoch: 266 |accuracy: 0.8329343199729919 | f1: 0.8734777569770813 | auc: 0.9100996255874634 | treshold: 0.64\n"
     ]
    },
    {
     "name": "stderr",
     "output_type": "stream",
     "text": [
      "train... loss:0.8666607141494751:   5%|███▉                                                                      | 268/5000 [25:44<7:45:47,  5.91s/it]"
     ]
    },
    {
     "name": "stdout",
     "output_type": "stream",
     "text": [
      "Test update: epoch: 267 |accuracy: 0.8335388898849487 | f1: 0.8739055395126343 | auc: 0.910281777381897 | treshold: 0.64\n"
     ]
    },
    {
     "name": "stderr",
     "output_type": "stream",
     "text": [
      "train... loss:0.8661628663539886:   5%|███▉                                                                      | 269/5000 [25:50<7:59:59,  6.09s/it]"
     ]
    },
    {
     "name": "stdout",
     "output_type": "stream",
     "text": [
      "Test update: epoch: 268 |accuracy: 0.8335630297660828 | f1: 0.8738614916801453 | auc: 0.9104466438293457 | treshold: 0.64\n"
     ]
    },
    {
     "name": "stderr",
     "output_type": "stream",
     "text": [
      "train... loss:0.8651938438415527:   5%|███▉                                                                      | 270/5000 [25:56<7:56:36,  6.05s/it]"
     ]
    },
    {
     "name": "stdout",
     "output_type": "stream",
     "text": [
      "Test update: epoch: 269 |accuracy: 0.8340708613395691 | f1: 0.8741009831428528 | auc: 0.9105966687202454 | treshold: 0.64\n"
     ]
    },
    {
     "name": "stderr",
     "output_type": "stream",
     "text": [
      "train... loss:0.864270031452179:   5%|████                                                                       | 271/5000 [26:02<7:55:22,  6.03s/it]"
     ]
    },
    {
     "name": "stdout",
     "output_type": "stream",
     "text": [
      "Test update: epoch: 270 |accuracy: 0.8337081074714661 | f1: 0.8741881847381592 | auc: 0.9107129573822021 | treshold: 0.63\n"
     ]
    },
    {
     "name": "stderr",
     "output_type": "stream",
     "text": [
      "train... loss:0.8634533882141113:   5%|████                                                                      | 272/5000 [26:08<7:53:04,  6.00s/it]"
     ]
    },
    {
     "name": "stdout",
     "output_type": "stream",
     "text": [
      "Test update: epoch: 271 |accuracy: 0.8332245349884033 | f1: 0.8745794892311096 | auc: 0.9108051061630249 | treshold: 0.61\n"
     ]
    },
    {
     "name": "stderr",
     "output_type": "stream",
     "text": [
      "train... loss:0.8622508347034454:   5%|████                                                                      | 273/5000 [26:14<7:54:13,  6.02s/it]"
     ]
    },
    {
     "name": "stdout",
     "output_type": "stream",
     "text": [
      "Test update: epoch: 272 |accuracy: 0.8334179520606995 | f1: 0.8748660087585449 | auc: 0.9108844995498657 | treshold: 0.6\n"
     ]
    },
    {
     "name": "stderr",
     "output_type": "stream",
     "text": [
      "train... loss:0.8610424101352692:   5%|████                                                                      | 274/5000 [26:20<7:52:51,  6.00s/it]"
     ]
    },
    {
     "name": "stdout",
     "output_type": "stream",
     "text": [
      "Test update: epoch: 273 |accuracy: 0.8334421515464783 | f1: 0.8750634789466858 | auc: 0.9109300374984741 | treshold: 0.59\n"
     ]
    },
    {
     "name": "stderr",
     "output_type": "stream",
     "text": [
      "train... loss:0.8598660528659821:   6%|████                                                                      | 275/5000 [26:26<7:50:51,  5.98s/it]"
     ]
    },
    {
     "name": "stdout",
     "output_type": "stream",
     "text": [
      "Test update: epoch: 274 |accuracy: 0.8340224623680115 | f1: 0.8752045631408691 | auc: 0.9109649658203125 | treshold: 0.59\n"
     ]
    },
    {
     "name": "stderr",
     "output_type": "stream",
     "text": [
      "train... loss:0.8560258746147156:   7%|████▊                                                                     | 329/5000 [31:22<7:21:14,  5.67s/it]"
     ]
    },
    {
     "name": "stdout",
     "output_type": "stream",
     "text": [
      "Test update: epoch: 328 |accuracy: 0.8311449885368347 | f1: 0.8736817240715027 | auc: 0.9109510183334351 | treshold: 0.5700000000000001\n"
     ]
    },
    {
     "name": "stderr",
     "output_type": "stream",
     "text": [
      "train... loss:0.8547509014606476:   7%|████▉                                                                     | 330/5000 [31:28<7:28:51,  5.77s/it]"
     ]
    },
    {
     "name": "stdout",
     "output_type": "stream",
     "text": [
      "Test update: epoch: 329 |accuracy: 0.831314206123352 | f1: 0.8735315203666687 | auc: 0.9109746217727661 | treshold: 0.5700000000000001\n"
     ]
    },
    {
     "name": "stderr",
     "output_type": "stream",
     "text": [
      "train... loss:0.8544870913028717:   7%|████▉                                                                     | 331/5000 [31:33<7:30:40,  5.79s/it]"
     ]
    },
    {
     "name": "stdout",
     "output_type": "stream",
     "text": [
      "Test update: epoch: 330 |accuracy: 0.8316285610198975 | f1: 0.8738290071487427 | auc: 0.9109911918640137 | treshold: 0.56\n"
     ]
    },
    {
     "name": "stderr",
     "output_type": "stream",
     "text": [
      "train... loss:0.8531869947910309:   7%|████▉                                                                     | 332/5000 [31:39<7:34:01,  5.84s/it]"
     ]
    },
    {
     "name": "stdout",
     "output_type": "stream",
     "text": [
      "Test update: epoch: 331 |accuracy: 0.8314109444618225 | f1: 0.8733376860618591 | auc: 0.9109929203987122 | treshold: 0.56\n"
     ]
    },
    {
     "name": "stderr",
     "output_type": "stream",
     "text": [
      "train... loss:0.852041631937027:   7%|█████▍                                                                     | 360/5000 [34:25<7:19:24,  5.68s/it]"
     ]
    },
    {
     "name": "stdout",
     "output_type": "stream",
     "text": [
      "Test update: epoch: 359 |accuracy: 0.8346270322799683 | f1: 0.8766213655471802 | auc: 0.9117035269737244 | treshold: 0.52\n"
     ]
    },
    {
     "name": "stderr",
     "output_type": "stream",
     "text": [
      "train... loss:0.8515439033508301:   7%|█████▎                                                                    | 361/5000 [34:31<7:27:15,  5.78s/it]"
     ]
    },
    {
     "name": "stdout",
     "output_type": "stream",
     "text": [
      "Test update: epoch: 360 |accuracy: 0.8336114287376404 | f1: 0.8762565851211548 | auc: 0.9119342565536499 | treshold: 0.52\n"
     ]
    },
    {
     "name": "stderr",
     "output_type": "stream",
     "text": [
      "train... loss:0.8513332009315491:   7%|█████▎                                                                    | 362/5000 [34:37<7:32:02,  5.85s/it]"
     ]
    },
    {
     "name": "stdout",
     "output_type": "stream",
     "text": [
      "Test update: epoch: 361 |accuracy: 0.8340708613395691 | f1: 0.8765116333961487 | auc: 0.9121581315994263 | treshold: 0.53\n"
     ]
    },
    {
     "name": "stderr",
     "output_type": "stream",
     "text": [
      "train... loss:0.8511320352554321:   7%|█████▎                                                                    | 363/5000 [34:43<7:31:56,  5.85s/it]"
     ]
    },
    {
     "name": "stdout",
     "output_type": "stream",
     "text": [
      "Test update: epoch: 362 |accuracy: 0.834481954574585 | f1: 0.8767532706260681 | auc: 0.9123692512512207 | treshold: 0.54\n"
     ]
    },
    {
     "name": "stderr",
     "output_type": "stream",
     "text": [
      "train... loss:0.8506113588809967:   7%|█████▍                                                                    | 364/5000 [34:49<7:30:45,  5.83s/it]"
     ]
    },
    {
     "name": "stdout",
     "output_type": "stream",
     "text": [
      "Test update: epoch: 363 |accuracy: 0.8323540091514587 | f1: 0.8756747245788574 | auc: 0.9125511646270752 | treshold: 0.54\n"
     ]
    },
    {
     "name": "stderr",
     "output_type": "stream",
     "text": [
      "train... loss:0.8512804806232452:   7%|█████▍                                                                    | 365/5000 [35:00<9:32:32,  7.41s/it]"
     ]
    },
    {
     "name": "stdout",
     "output_type": "stream",
     "text": [
      "Test update: epoch: 364 |accuracy: 0.8334179520606995 | f1: 0.8758984804153442 | auc: 0.912703812122345 | treshold: 0.56\n"
     ]
    },
    {
     "name": "stderr",
     "output_type": "stream",
     "text": [
      "train... loss:0.8519068658351898:   7%|█████▎                                                                   | 366/5000 [35:15<12:24:05,  9.63s/it]"
     ]
    },
    {
     "name": "stdout",
     "output_type": "stream",
     "text": [
      "Test update: epoch: 365 |accuracy: 0.8324748873710632 | f1: 0.8751621842384338 | auc: 0.9128230810165405 | treshold: 0.5700000000000001\n"
     ]
    },
    {
     "name": "stderr",
     "output_type": "stream",
     "text": [
      "train... loss:0.8527582585811615:   7%|█████▎                                                                   | 367/5000 [35:31<14:53:51, 11.58s/it]"
     ]
    },
    {
     "name": "stdout",
     "output_type": "stream",
     "text": [
      "Test update: epoch: 366 |accuracy: 0.8323540091514587 | f1: 0.8749842047691345 | auc: 0.9129114151000977 | treshold: 0.5800000000000001\n"
     ]
    },
    {
     "name": "stderr",
     "output_type": "stream",
     "text": [
      "train... loss:0.8541781604290009:   7%|█████▎                                                                   | 368/5000 [35:48<16:47:47, 13.05s/it]"
     ]
    },
    {
     "name": "stdout",
     "output_type": "stream",
     "text": [
      "Test update: epoch: 367 |accuracy: 0.8332728743553162 | f1: 0.875029444694519 | auc: 0.9129464626312256 | treshold: 0.6\n"
     ]
    },
    {
     "name": "stderr",
     "output_type": "stream",
     "text": [
      "train... loss:0.8549995124340057:   7%|█████▍                                                                   | 369/5000 [36:07<19:07:02, 14.86s/it]"
     ]
    },
    {
     "name": "stdout",
     "output_type": "stream",
     "text": [
      "Test update: epoch: 368 |accuracy: 0.836077868938446 | f1: 0.87483149766922 | auc: 0.9129375219345093 | treshold: 0.65\n"
     ]
    },
    {
     "name": "stderr",
     "output_type": "stream",
     "text": [
      "train... loss:0.8533502817153931:   8%|██████                                                                    | 413/5000 [47:38<8:49:12,  6.92s/it]\n"
     ]
    }
   ],
   "source": [
    "for embeddings in ['neural','explicit', 'svd',  ]:\n",
    "    print(f\"\\nEvaluating {experiment_name} with {embeddings} embeddings\")\n",
    "\n",
    "    model = LogisticRegression(\n",
    "        RecsysEmbedding(train_num_items, r_train_user_item_matrix, embeddings='neural'),\n",
    "        output_dim=1\n",
    "    ).to(device)\n",
    "\n",
    "    _, metrics = train(model, \n",
    "       r_train_loader, r_val_loader, r_test_loader, device=device, lr=1e-3, num_epochs=5000, early_stopping=50,\n",
    "       silent=True, \n",
    "    )\n",
    "    \n",
    "    metrics['embeddings'] = embeddings\n",
    "    rl4rs_results.append(metrics)\n",
    "    \n",
    "pd.DataFrame(rl4rs_results).to_csv(f'results/rl4rs_{experiment_name}.csv')"
   ]
  }
 ],
 "metadata": {
  "kernelspec": {
   "display_name": "Python 3 (ipykernel)",
   "language": "python",
   "name": "python3"
  },
  "language_info": {
   "codemirror_mode": {
    "name": "ipython",
    "version": 3
   },
   "file_extension": ".py",
   "mimetype": "text/x-python",
   "name": "python",
   "nbconvert_exporter": "python",
   "pygments_lexer": "ipython3",
   "version": "3.7.10"
  }
 },
 "nbformat": 4,
 "nbformat_minor": 5
}
