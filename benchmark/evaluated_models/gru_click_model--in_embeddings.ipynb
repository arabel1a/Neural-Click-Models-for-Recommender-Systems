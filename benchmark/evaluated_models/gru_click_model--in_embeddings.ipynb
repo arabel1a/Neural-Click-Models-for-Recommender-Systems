{
 "cells": [
  {
   "cell_type": "code",
   "execution_count": 1,
   "metadata": {},
   "outputs": [
    {
     "data": {
      "text/plain": [
       "<torch._C.Generator at 0x7fd884089170>"
      ]
     },
     "execution_count": 1,
     "metadata": {},
     "output_type": "execute_result"
    }
   ],
   "source": [
    "import os\n",
    "import torch\n",
    "import random\n",
    "import datetime\n",
    "import pandas as pd\n",
    "import numpy as np\n",
    "\n",
    "from torch.utils.data import Dataset\n",
    "from src.datasets import RL4RS, ContentWise, DummyData\n",
    "from src.utils import train, get_dummy_data, get_train_val_test_tmatrix_tnumitems, get_svd_encoder\n",
    "from src.embeddings import RecsysEmbedding\n",
    "\n",
    "experiment_name = 'FlattenedGRU'\n",
    "device = 'cuda:1'\n",
    "seed = 123\n",
    "pkl_path = '../data/'\n",
    "\n",
    "random.seed(seed)\n",
    "np.random.seed(seed)\n",
    "torch.manual_seed(seed)"
   ]
  },
  {
   "cell_type": "code",
   "execution_count": 2,
   "metadata": {},
   "outputs": [
    {
     "data": {
      "text/plain": [
       "'1.9.0'"
      ]
     },
     "execution_count": 2,
     "metadata": {},
     "output_type": "execute_result"
    }
   ],
   "source": [
    "torch.__version__"
   ]
  },
  {
   "cell_type": "markdown",
   "metadata": {},
   "source": [
    "# Модель"
   ]
  },
  {
   "cell_type": "code",
   "execution_count": 3,
   "metadata": {},
   "outputs": [
    {
     "name": "stderr",
     "output_type": "stream",
     "text": [
      "3it [00:00, 3416.48it/s]"
     ]
    },
    {
     "name": "stdout",
     "output_type": "stream",
     "text": [
      "biulding affinity matrix...\n"
     ]
    },
    {
     "name": "stderr",
     "output_type": "stream",
     "text": [
      "\n",
      "/opt/conda/lib/python3.7/site-packages/torch/nn/modules/rnn.py:65: UserWarning: dropout option adds dropout after all but last recurrent layer, so non-zero dropout expects num_layers greater than 1, but got dropout=0.1 and num_layers=1\n",
      "  \"num_layers={}\".format(dropout, num_layers))\n"
     ]
    },
    {
     "data": {
      "text/plain": [
       "tensor([[[-0.1939, -0.2007,  0.0153],\n",
       "         [ 0.1096, -0.0981, -0.0877]],\n",
       "\n",
       "        [[-0.0586, -0.0425, -0.1067],\n",
       "         [-0.1452, -0.1602, -0.1639]]], grad_fn=<ViewBackward>)"
      ]
     },
     "execution_count": 3,
     "metadata": {},
     "output_type": "execute_result"
    }
   ],
   "source": [
    "import torch.nn.functional as F\n",
    "torch.autograd.set_detect_anomaly(True)\n",
    "\n",
    "class NeuralClickModel(torch.nn.Module):\n",
    "    def __init__(self, embedding, output_dim=1, dropout = 0.1):\n",
    "        super().__init__()\n",
    "        self.embedding_dim = embedding.embedding_dim\n",
    "        self.embedding = embedding\n",
    "        self.rnn_layer = torch.nn.GRU(\n",
    "            input_size = embedding.embedding_dim, \n",
    "            hidden_size = embedding.embedding_dim, \n",
    "            batch_first = True,\n",
    "            dropout=dropout\n",
    "        )\n",
    "        self.out_layer = torch.nn.Linear(embedding.embedding_dim, output_dim)\n",
    "\n",
    "\n",
    "    def forward(self, batch):\n",
    "        shp = batch['slates_item_indexes'].shape\n",
    "        item_embs, user_embs = self.embedding(batch)\n",
    "        item_embs = item_embs.flatten(-3, -2)\n",
    "        \n",
    "        # while training, let out model see the future \n",
    "        # while testing, it can see only the \n",
    "        if self.training:\n",
    "            indices = (batch['length'] - 1)\n",
    "        else:\n",
    "            indices = (batch['in_length'] - 1)\n",
    "        \n",
    "        indices[indices<0] = 0\n",
    "        indices = indices[:, None, None].repeat(1, 1, user_embs.size(-1))\n",
    "        user_embs = user_embs.gather(1, indices).squeeze(-2).unsqueeze(0)\n",
    "\n",
    "#         print(indices.shape, user_embs.shape, item_embs.shape, )\n",
    "        rnn_out, _ = self.rnn_layer(\n",
    "            item_embs,\n",
    "            user_embs,\n",
    "        )\n",
    "        return self.out_layer(rnn_out).reshape(shp)\n",
    "\n",
    "d = DummyData()\n",
    "dummy_loader, dummy_matrix = get_dummy_data(d)\n",
    "emb = RecsysEmbedding(d.n_items, dummy_matrix, embeddings='explicit')\n",
    "\n",
    "for batch in dummy_loader:\n",
    "    break\n",
    "    \n",
    "model = NeuralClickModel(\n",
    "    RecsysEmbedding(d.n_items, dummy_matrix, embeddings='neural'),\n",
    "    output_dim=1\n",
    ").to('cpu')\n",
    "\n",
    "model(batch)\n"
   ]
  },
  {
   "cell_type": "markdown",
   "metadata": {},
   "source": [
    "# Игрушечный датасет: проверим, что сходится к идеальным метрикам"
   ]
  },
  {
   "cell_type": "code",
   "execution_count": 4,
   "metadata": {},
   "outputs": [
    {
     "name": "stderr",
     "output_type": "stream",
     "text": [
      "3it [00:00, 3804.93it/s]"
     ]
    },
    {
     "name": "stdout",
     "output_type": "stream",
     "text": [
      "biulding affinity matrix...\n",
      "\n",
      "Evaluating FlattenedGRU with explicit embeddings\n"
     ]
    },
    {
     "name": "stderr",
     "output_type": "stream",
     "text": [
      "\n",
      "train... loss:0.6934366822242737:   0%|                                                                                      | 0/5000 [00:00<?, ?it/s]"
     ]
    },
    {
     "name": "stdout",
     "output_type": "stream",
     "text": [
      "Test before learning: {'f1': 0.0, 'roc-auc': 0.6666666269302368, 'accuracy': 0.5}\n"
     ]
    },
    {
     "name": "stderr",
     "output_type": "stream",
     "text": [
      "train... loss:0.6817811131477356:   0%|                                                                              | 2/5000 [00:00<21:20,  3.90it/s]"
     ]
    },
    {
     "name": "stdout",
     "output_type": "stream",
     "text": [
      "Test update: epoch: 0 |accuracy: 0.75 | f1: 0.6666666865348816 | auc: 0.6666666269302368 | treshold: 0.47000000000000003\n"
     ]
    },
    {
     "name": "stderr",
     "output_type": "stream",
     "text": [
      "train... loss:0.594268798828125:   0%|▏                                                                             | 10/5000 [00:02<17:43,  4.69it/s]"
     ]
    },
    {
     "name": "stdout",
     "output_type": "stream",
     "text": [
      "Test update: epoch: 9 |accuracy: 0.75 | f1: 0.6666666865348816 | auc: 1.0 | treshold: 0.41000000000000003\n"
     ]
    },
    {
     "name": "stderr",
     "output_type": "stream",
     "text": [
      "train... loss:0.594268798828125:   0%|▏                                                                             | 10/5000 [00:02<19:07,  4.35it/s]\n",
      "train:   0%|                                                                                                                 | 0/5000 [00:00<?, ?it/s]"
     ]
    },
    {
     "name": "stdout",
     "output_type": "stream",
     "text": [
      "Test update: epoch: 10 |accuracy: 1.0 | f1: 1.0 | auc: 1.0 | treshold: 0.59\n",
      "\n",
      "Evaluating FlattenedGRU with svd embeddings\n",
      "Test before learning: {'f1': 0.0, 'roc-auc': 0.0, 'accuracy': 0.75}\n"
     ]
    },
    {
     "name": "stderr",
     "output_type": "stream",
     "text": [
      "train... loss:0.6826356053352356:   0%|                                                                              | 1/5000 [00:00<21:34,  3.86it/s]"
     ]
    },
    {
     "name": "stdout",
     "output_type": "stream",
     "text": [
      "Test update: epoch: 0 |accuracy: 0.25 | f1: 0.4000000059604645 | auc: 0.0 | treshold: 0.01\n"
     ]
    },
    {
     "name": "stderr",
     "output_type": "stream",
     "text": [
      "train... loss:0.6723107099533081:   0%|                                                                              | 3/5000 [00:00<19:50,  4.20it/s]"
     ]
    },
    {
     "name": "stdout",
     "output_type": "stream",
     "text": [
      "Test update: epoch: 1 |accuracy: 0.75 | f1: 0.6666666865348816 | auc: 0.6666666269302368 | treshold: 0.46\n"
     ]
    },
    {
     "name": "stderr",
     "output_type": "stream",
     "text": [
      "train... loss:0.6130875945091248:   0%|▏                                                                             | 9/5000 [00:01<17:05,  4.87it/s]"
     ]
    },
    {
     "name": "stdout",
     "output_type": "stream",
     "text": [
      "Test update: epoch: 7 |accuracy: 0.75 | f1: 0.0 | auc: 1.0 | treshold: 0.52\n"
     ]
    },
    {
     "name": "stderr",
     "output_type": "stream",
     "text": [
      "train... loss:0.603683590888977:   0%|▏                                                                              | 9/5000 [00:02<19:47,  4.20it/s]\n",
      "train:   0%|                                                                                                                 | 0/5000 [00:00<?, ?it/s]"
     ]
    },
    {
     "name": "stdout",
     "output_type": "stream",
     "text": [
      "Test update: epoch: 9 |accuracy: 1.0 | f1: 1.0 | auc: 1.0 | treshold: 0.53\n",
      "\n",
      "Evaluating FlattenedGRU with neural embeddings\n",
      "Test before learning: {'f1': 1.0, 'roc-auc': 1.0, 'accuracy': 1.0}\n"
     ]
    },
    {
     "name": "stderr",
     "output_type": "stream",
     "text": [
      "train... loss:0.645214855670929:   0%|                                                                                       | 0/5000 [00:00<?, ?it/s]\n"
     ]
    }
   ],
   "source": [
    "d = DummyData()\n",
    "dummy_loader, dummy_matrix = get_dummy_data(d)\n",
    "\n",
    "for embeddings in ['explicit', 'svd', 'neural']:\n",
    "    print(f\"\\nEvaluating {experiment_name} with {embeddings} embeddings\")\n",
    "    model = NeuralClickModel(\n",
    "        RecsysEmbedding(d.n_items, dummy_matrix, embeddings='neural').to('cpu'),\n",
    "        output_dim=1\n",
    "    ).to('cpu')\n",
    "    _, metrics = train(model, \n",
    "       dummy_loader, dummy_loader, dummy_loader, device=device, lr=1e-3, num_epochs=5000, dummy=True,\n",
    "       silent=True,\n",
    "#        debug=True,\n",
    "    \n",
    "    )\n"
   ]
  },
  {
   "cell_type": "markdown",
   "metadata": {},
   "source": [
    "# ContentWise"
   ]
  },
  {
   "cell_type": "code",
   "execution_count": 5,
   "metadata": {},
   "outputs": [],
   "source": [
    "# c = ContentWise('../data/CW/data/ContentWiseImpressions/CW10M-CSV/')\n",
    "# for item in tqdm(c):\n",
    "#     pass\n",
    "# c.dump(os.path.join(pkl_path, 'cw.pkl'))"
   ]
  },
  {
   "cell_type": "code",
   "execution_count": 6,
   "metadata": {},
   "outputs": [
    {
     "data": {
      "text/plain": [
       "(108, 20216)"
      ]
     },
     "execution_count": 6,
     "metadata": {},
     "output_type": "execute_result"
    }
   ],
   "source": [
    "content_wise_results = []\n",
    "c = ContentWise.load(os.path.join(pkl_path, 'cw.pkl'))\n",
    "c_train_loader, c_val_loader, c_test_loader, c_train_user_item_matrix, train_num_items = get_train_val_test_tmatrix_tnumitems(c, batch_size=150)\n",
    "len(c_train_loader), len(c)"
   ]
  },
  {
   "cell_type": "code",
   "execution_count": 7,
   "metadata": {},
   "outputs": [
    {
     "name": "stdout",
     "output_type": "stream",
     "text": [
      "\n",
      "Evaluating FlattenedGRU with svd embeddings\n"
     ]
    },
    {
     "name": "stderr",
     "output_type": "stream",
     "text": [
      "\r",
      "train:   0%|                                                                                                                 | 0/5000 [00:00<?, ?it/s]"
     ]
    },
    {
     "name": "stdout",
     "output_type": "stream",
     "text": [
      "Test before learning: {'f1': 0.13663055002689362, 'roc-auc': 0.4311465620994568, 'accuracy': 0.4371917247772217}\n"
     ]
    },
    {
     "name": "stderr",
     "output_type": "stream",
     "text": [
      "train... loss:43.564214169979095:   0%|                                                                           | 1/5000 [00:31<44:03:51, 31.73s/it]"
     ]
    },
    {
     "name": "stdout",
     "output_type": "stream",
     "text": [
      "Test update: epoch: 0 |accuracy: 0.09900882095098495 | f1: 0.18017838895320892 | auc: 0.6250038146972656 | treshold: 0.05\n"
     ]
    },
    {
     "name": "stderr",
     "output_type": "stream",
     "text": [
      "train... loss:33.17925035953522:   0%|                                                                            | 2/5000 [00:51<38:59:12, 28.08s/it]"
     ]
    },
    {
     "name": "stdout",
     "output_type": "stream",
     "text": [
      "Test update: epoch: 1 |accuracy: 0.8448036909103394 | f1: 0.23722851276397705 | auc: 0.6520935297012329 | treshold: 0.09999999999999999\n"
     ]
    },
    {
     "name": "stderr",
     "output_type": "stream",
     "text": [
      "train... loss:32.286146849393845:   0%|                                                                           | 3/5000 [01:10<35:28:56, 25.56s/it]"
     ]
    },
    {
     "name": "stdout",
     "output_type": "stream",
     "text": [
      "Test update: epoch: 2 |accuracy: 0.6373099684715271 | f1: 0.24976664781570435 | auc: 0.6836763024330139 | treshold: 0.14\n"
     ]
    },
    {
     "name": "stderr",
     "output_type": "stream",
     "text": [
      "train... loss:31.727752685546875:   0%|                                                                           | 4/5000 [01:30<32:53:42, 23.70s/it]"
     ]
    },
    {
     "name": "stdout",
     "output_type": "stream",
     "text": [
      "Test update: epoch: 3 |accuracy: 0.8666812181472778 | f1: 0.2557331621646881 | auc: 0.6982723474502563 | treshold: 0.14\n"
     ]
    },
    {
     "name": "stderr",
     "output_type": "stream",
     "text": [
      "train... loss:31.484853506088257:   0%|                                                                           | 5/5000 [01:50<31:12:25, 22.49s/it]"
     ]
    },
    {
     "name": "stdout",
     "output_type": "stream",
     "text": [
      "Test update: epoch: 4 |accuracy: 0.7961784601211548 | f1: 0.2874394953250885 | auc: 0.7063621282577515 | treshold: 0.12\n"
     ]
    },
    {
     "name": "stderr",
     "output_type": "stream",
     "text": [
      "train... loss:31.219546526670456:   0%|                                                                           | 6/5000 [02:09<30:09:02, 21.73s/it]"
     ]
    },
    {
     "name": "stdout",
     "output_type": "stream",
     "text": [
      "Test update: epoch: 5 |accuracy: 0.6590007543563843 | f1: 0.26810941100120544 | auc: 0.7105177044868469 | treshold: 0.14\n"
     ]
    },
    {
     "name": "stderr",
     "output_type": "stream",
     "text": [
      "train... loss:30.9739893078804:   0%|                                                                             | 7/5000 [02:29<29:11:03, 21.04s/it]"
     ]
    },
    {
     "name": "stdout",
     "output_type": "stream",
     "text": [
      "Test update: epoch: 6 |accuracy: 0.851790189743042 | f1: 0.2837807238101959 | auc: 0.7138089537620544 | treshold: 0.14\n"
     ]
    },
    {
     "name": "stderr",
     "output_type": "stream",
     "text": [
      "train... loss:30.930879026651382:   0%|                                                                           | 8/5000 [02:48<28:27:19, 20.52s/it]"
     ]
    },
    {
     "name": "stdout",
     "output_type": "stream",
     "text": [
      "Test update: epoch: 7 |accuracy: 0.8549022078514099 | f1: 0.28909048438072205 | auc: 0.7179136276245117 | treshold: 0.14\n"
     ]
    },
    {
     "name": "stderr",
     "output_type": "stream",
     "text": [
      "train... loss:30.6718248128891:   0%|▏                                                                            | 9/5000 [03:08<28:05:23, 20.26s/it]"
     ]
    },
    {
     "name": "stdout",
     "output_type": "stream",
     "text": [
      "Test update: epoch: 8 |accuracy: 0.7459193468093872 | f1: 0.29308629035949707 | auc: 0.7201948165893555 | treshold: 0.15000000000000002\n"
     ]
    },
    {
     "name": "stderr",
     "output_type": "stream",
     "text": [
      "train... loss:30.41516114771366:   0%|▏                                                                          | 11/5000 [03:46<27:18:21, 19.70s/it]"
     ]
    },
    {
     "name": "stdout",
     "output_type": "stream",
     "text": [
      "Test update: epoch: 10 |accuracy: 0.8601770997047424 | f1: 0.29310888051986694 | auc: 0.7256579399108887 | treshold: 0.15000000000000002\n"
     ]
    },
    {
     "name": "stderr",
     "output_type": "stream",
     "text": [
      "train... loss:30.345014661550522:   0%|▏                                                                         | 12/5000 [04:06<27:15:46, 19.68s/it]"
     ]
    },
    {
     "name": "stdout",
     "output_type": "stream",
     "text": [
      "Test update: epoch: 11 |accuracy: 0.8654986023902893 | f1: 0.28844255208969116 | auc: 0.7282655835151672 | treshold: 0.15000000000000002\n"
     ]
    },
    {
     "name": "stderr",
     "output_type": "stream",
     "text": [
      "train... loss:30.23592582345009:   0%|▏                                                                          | 13/5000 [04:25<27:13:09, 19.65s/it]"
     ]
    },
    {
     "name": "stdout",
     "output_type": "stream",
     "text": [
      "Test update: epoch: 12 |accuracy: 0.8344718217849731 | f1: 0.3071512281894684 | auc: 0.7285993695259094 | treshold: 0.15000000000000002\n"
     ]
    },
    {
     "name": "stderr",
     "output_type": "stream",
     "text": [
      "train... loss:30.072319477796555:   0%|▏                                                                         | 15/5000 [05:03<26:46:27, 19.34s/it]"
     ]
    },
    {
     "name": "stdout",
     "output_type": "stream",
     "text": [
      "Test update: epoch: 14 |accuracy: 0.7034091949462891 | f1: 0.28842347860336304 | auc: 0.7298169136047363 | treshold: 0.15000000000000002\n"
     ]
    },
    {
     "name": "stderr",
     "output_type": "stream",
     "text": [
      "train... loss:29.92196398973465:   0%|▏                                                                          | 16/5000 [05:23<26:52:32, 19.41s/it]"
     ]
    },
    {
     "name": "stdout",
     "output_type": "stream",
     "text": [
      "Test update: epoch: 15 |accuracy: 0.7956649661064148 | f1: 0.31087321043014526 | auc: 0.7328991293907166 | treshold: 0.16\n"
     ]
    },
    {
     "name": "stderr",
     "output_type": "stream",
     "text": [
      "train... loss:29.815013349056244:   0%|▎                                                                         | 17/5000 [05:42<26:56:51, 19.47s/it]"
     ]
    },
    {
     "name": "stdout",
     "output_type": "stream",
     "text": [
      "Test update: epoch: 16 |accuracy: 0.8359344601631165 | f1: 0.3098573088645935 | auc: 0.7319365739822388 | treshold: 0.16\n"
     ]
    },
    {
     "name": "stderr",
     "output_type": "stream",
     "text": [
      "train... loss:29.73774489760399:   0%|▎                                                                          | 18/5000 [06:02<26:59:04, 19.50s/it]"
     ]
    },
    {
     "name": "stdout",
     "output_type": "stream",
     "text": [
      "Test update: epoch: 17 |accuracy: 0.8598036170005798 | f1: 0.2993779182434082 | auc: 0.7335445284843445 | treshold: 0.16\n"
     ]
    },
    {
     "name": "stderr",
     "output_type": "stream",
     "text": [
      "train... loss:29.647712260484695:   0%|▎                                                                         | 19/5000 [06:21<26:59:14, 19.51s/it]"
     ]
    },
    {
     "name": "stdout",
     "output_type": "stream",
     "text": [
      "Test update: epoch: 18 |accuracy: 0.8662299513816833 | f1: 0.2879151701927185 | auc: 0.7348178625106812 | treshold: 0.16\n"
     ]
    },
    {
     "name": "stderr",
     "output_type": "stream",
     "text": [
      "train... loss:29.570770800113678:   0%|▎                                                                         | 20/5000 [06:41<27:06:36, 19.60s/it]"
     ]
    },
    {
     "name": "stdout",
     "output_type": "stream",
     "text": [
      "Test update: epoch: 19 |accuracy: 0.8648450970649719 | f1: 0.2984978258609772 | auc: 0.7362852096557617 | treshold: 0.16\n"
     ]
    },
    {
     "name": "stderr",
     "output_type": "stream",
     "text": [
      "train... loss:29.056626245379448:   1%|▍                                                                         | 29/5000 [09:30<26:07:47, 18.92s/it]"
     ]
    },
    {
     "name": "stdout",
     "output_type": "stream",
     "text": [
      "Test update: epoch: 28 |accuracy: 0.8070393800735474 | f1: 0.31693747639656067 | auc: 0.7352114915847778 | treshold: 0.17\n"
     ]
    },
    {
     "name": "stderr",
     "output_type": "stream",
     "text": [
      "train... loss:28.984416648745537:   1%|▍                                                                         | 30/5000 [09:50<26:25:52, 19.15s/it]"
     ]
    },
    {
     "name": "stdout",
     "output_type": "stream",
     "text": [
      "Test update: epoch: 29 |accuracy: 0.8053122162818909 | f1: 0.31553611159324646 | auc: 0.735503613948822 | treshold: 0.16\n"
     ]
    },
    {
     "name": "stderr",
     "output_type": "stream",
     "text": [
      "train... loss:28.94489434361458:   1%|▍                                                                          | 31/5000 [10:09<26:35:37, 19.27s/it]"
     ]
    },
    {
     "name": "stdout",
     "output_type": "stream",
     "text": [
      "Test update: epoch: 30 |accuracy: 0.832417905330658 | f1: 0.3131377696990967 | auc: 0.7367282509803772 | treshold: 0.17\n"
     ]
    },
    {
     "name": "stderr",
     "output_type": "stream",
     "text": [
      "train... loss:28.914513155817986:   1%|▍                                                                         | 32/5000 [10:29<26:45:01, 19.38s/it]"
     ]
    },
    {
     "name": "stdout",
     "output_type": "stream",
     "text": [
      "Test update: epoch: 31 |accuracy: 0.8276876211166382 | f1: 0.3155747950077057 | auc: 0.7349335551261902 | treshold: 0.16\n"
     ]
    },
    {
     "name": "stderr",
     "output_type": "stream",
     "text": [
      "train... loss:28.690574318170547:   1%|▌                                                                         | 36/5000 [11:45<26:28:09, 19.20s/it]"
     ]
    },
    {
     "name": "stdout",
     "output_type": "stream",
     "text": [
      "Test update: epoch: 35 |accuracy: 0.8492072224617004 | f1: 0.31245121359825134 | auc: 0.7361369132995605 | treshold: 0.17\n"
     ]
    },
    {
     "name": "stderr",
     "output_type": "stream",
     "text": [
      "train... loss:28.62913005053997:   1%|▌                                                                          | 40/5000 [13:01<26:21:13, 19.13s/it]"
     ]
    },
    {
     "name": "stdout",
     "output_type": "stream",
     "text": [
      "Test update: epoch: 39 |accuracy: 0.8616397380828857 | f1: 0.2933884263038635 | auc: 0.7362678050994873 | treshold: 0.16\n"
     ]
    },
    {
     "name": "stderr",
     "output_type": "stream",
     "text": [
      "train... loss:28.096041575074196:   2%|█▍                                                                        | 98/5000 [31:29<26:15:20, 19.28s/it]\n"
     ]
    },
    {
     "name": "stdout",
     "output_type": "stream",
     "text": [
      "\n",
      "Evaluating FlattenedGRU with neural embeddings\n"
     ]
    },
    {
     "name": "stderr",
     "output_type": "stream",
     "text": [
      "\r",
      "train:   0%|                                                                                                                 | 0/5000 [00:00<?, ?it/s]"
     ]
    },
    {
     "name": "stdout",
     "output_type": "stream",
     "text": [
      "Test before learning: {'f1': 0.1666526198387146, 'roc-auc': 0.48263752460479736, 'accuracy': 0.38469198346138}\n"
     ]
    },
    {
     "name": "stderr",
     "output_type": "stream",
     "text": [
      "train... loss:43.43136987090111:   0%|                                                                            | 1/5000 [00:19<26:47:08, 19.29s/it]"
     ]
    },
    {
     "name": "stdout",
     "output_type": "stream",
     "text": [
      "Test update: epoch: 0 |accuracy: 0.09900882095098495 | f1: 0.18017838895320892 | auc: 0.6238197088241577 | treshold: 0.05\n"
     ]
    },
    {
     "name": "stderr",
     "output_type": "stream",
     "text": [
      "train... loss:33.172534078359604:   0%|                                                                           | 2/5000 [00:38<26:45:05, 19.27s/it]"
     ]
    },
    {
     "name": "stdout",
     "output_type": "stream",
     "text": [
      "Test update: epoch: 1 |accuracy: 0.8638181090354919 | f1: 0.23389355838298798 | auc: 0.6573905944824219 | treshold: 0.11\n"
     ]
    },
    {
     "name": "stderr",
     "output_type": "stream",
     "text": [
      "train... loss:32.20552137494087:   0%|                                                                            | 3/5000 [00:58<26:51:42, 19.35s/it]"
     ]
    },
    {
     "name": "stdout",
     "output_type": "stream",
     "text": [
      "Test update: epoch: 2 |accuracy: 0.6118069887161255 | f1: 0.2479199320077896 | auc: 0.6871764063835144 | treshold: 0.13\n"
     ]
    },
    {
     "name": "stderr",
     "output_type": "stream",
     "text": [
      "train... loss:31.69771945476532:   0%|                                                                            | 4/5000 [01:17<26:56:41, 19.42s/it]"
     ]
    },
    {
     "name": "stdout",
     "output_type": "stream",
     "text": [
      "Test update: epoch: 3 |accuracy: 0.810182511806488 | f1: 0.28848060965538025 | auc: 0.7039821147918701 | treshold: 0.15000000000000002\n"
     ]
    },
    {
     "name": "stderr",
     "output_type": "stream",
     "text": [
      "train... loss:31.248681962490082:   0%|                                                                           | 5/5000 [01:37<27:04:24, 19.51s/it]"
     ]
    },
    {
     "name": "stdout",
     "output_type": "stream",
     "text": [
      "Test update: epoch: 4 |accuracy: 0.8651096224784851 | f1: 0.2658988833427429 | auc: 0.7113431096076965 | treshold: 0.13\n"
     ]
    },
    {
     "name": "stderr",
     "output_type": "stream",
     "text": [
      "train... loss:31.034481287002563:   0%|                                                                           | 6/5000 [01:56<27:02:32, 19.49s/it]"
     ]
    },
    {
     "name": "stdout",
     "output_type": "stream",
     "text": [
      "Test update: epoch: 5 |accuracy: 0.8103848099708557 | f1: 0.294465035200119 | auc: 0.7163676023483276 | treshold: 0.13\n"
     ]
    },
    {
     "name": "stderr",
     "output_type": "stream",
     "text": [
      "train... loss:30.804384738206863:   0%|                                                                           | 7/5000 [02:16<27:06:00, 19.54s/it]"
     ]
    },
    {
     "name": "stdout",
     "output_type": "stream",
     "text": [
      "Test update: epoch: 6 |accuracy: 0.7610437870025635 | f1: 0.2912917137145996 | auc: 0.7156437635421753 | treshold: 0.16\n"
     ]
    },
    {
     "name": "stderr",
     "output_type": "stream",
     "text": [
      "train... loss:30.68338453769684:   0%|                                                                            | 8/5000 [02:36<27:12:49, 19.63s/it]"
     ]
    },
    {
     "name": "stdout",
     "output_type": "stream",
     "text": [
      "Test update: epoch: 7 |accuracy: 0.7022577524185181 | f1: 0.28555426001548767 | auc: 0.7236897945404053 | treshold: 0.15000000000000002\n"
     ]
    },
    {
     "name": "stderr",
     "output_type": "stream",
     "text": [
      "train... loss:30.46074840426445:   0%|▏                                                                           | 9/5000 [02:55<27:10:45, 19.60s/it]"
     ]
    },
    {
     "name": "stdout",
     "output_type": "stream",
     "text": [
      "Test update: epoch: 8 |accuracy: 0.8202343583106995 | f1: 0.299690842628479 | auc: 0.7236292958259583 | treshold: 0.15000000000000002\n"
     ]
    },
    {
     "name": "stderr",
     "output_type": "stream",
     "text": [
      "train... loss:30.3501116335392:   0%|▏                                                                           | 10/5000 [03:15<27:07:02, 19.56s/it]"
     ]
    },
    {
     "name": "stdout",
     "output_type": "stream",
     "text": [
      "Test update: epoch: 9 |accuracy: 0.8729208111763 | f1: 0.2815166711807251 | auc: 0.725873589515686 | treshold: 0.15000000000000002\n"
     ]
    },
    {
     "name": "stderr",
     "output_type": "stream",
     "text": [
      "train... loss:30.249539226293564:   0%|▏                                                                         | 11/5000 [03:34<27:06:51, 19.57s/it]"
     ]
    },
    {
     "name": "stdout",
     "output_type": "stream",
     "text": [
      "Test update: epoch: 10 |accuracy: 0.8599748015403748 | f1: 0.30450576543807983 | auc: 0.7289787530899048 | treshold: 0.15000000000000002\n"
     ]
    },
    {
     "name": "stderr",
     "output_type": "stream",
     "text": [
      "train... loss:30.103867948055267:   0%|▏                                                                         | 12/5000 [03:54<27:06:10, 19.56s/it]"
     ]
    },
    {
     "name": "stdout",
     "output_type": "stream",
     "text": [
      "Test update: epoch: 11 |accuracy: 0.8338494300842285 | f1: 0.3062629997730255 | auc: 0.7302961945533752 | treshold: 0.16\n"
     ]
    },
    {
     "name": "stderr",
     "output_type": "stream",
     "text": [
      "train... loss:29.961717665195465:   0%|▏                                                                         | 13/5000 [04:13<26:59:52, 19.49s/it]"
     ]
    },
    {
     "name": "stdout",
     "output_type": "stream",
     "text": [
      "Test update: epoch: 12 |accuracy: 0.7750789523124695 | f1: 0.3015221059322357 | auc: 0.7290909290313721 | treshold: 0.15000000000000002\n"
     ]
    },
    {
     "name": "stderr",
     "output_type": "stream",
     "text": [
      "train... loss:29.853288888931274:   0%|▏                                                                         | 15/5000 [04:52<26:48:01, 19.35s/it]"
     ]
    },
    {
     "name": "stdout",
     "output_type": "stream",
     "text": [
      "Test update: epoch: 14 |accuracy: 0.7221590876579285 | f1: 0.2913723289966583 | auc: 0.7297755479812622 | treshold: 0.16\n"
     ]
    },
    {
     "name": "stderr",
     "output_type": "stream",
     "text": [
      "train... loss:29.7660551071167:   0%|▏                                                                           | 16/5000 [05:11<26:51:28, 19.40s/it]"
     ]
    },
    {
     "name": "stdout",
     "output_type": "stream",
     "text": [
      "Test update: epoch: 15 |accuracy: 0.7370812296867371 | f1: 0.2959289848804474 | auc: 0.7299598455429077 | treshold: 0.16\n"
     ]
    },
    {
     "name": "stderr",
     "output_type": "stream",
     "text": [
      "train... loss:29.680729061365128:   0%|▎                                                                         | 17/5000 [05:30<26:44:33, 19.32s/it]"
     ]
    },
    {
     "name": "stdout",
     "output_type": "stream",
     "text": [
      "Test update: epoch: 16 |accuracy: 0.7330822944641113 | f1: 0.2975429892539978 | auc: 0.7332702279090881 | treshold: 0.16\n"
     ]
    },
    {
     "name": "stderr",
     "output_type": "stream",
     "text": [
      "train... loss:29.550242960453033:   0%|▎                                                                         | 18/5000 [05:50<26:50:05, 19.39s/it]"
     ]
    },
    {
     "name": "stdout",
     "output_type": "stream",
     "text": [
      "Test update: epoch: 17 |accuracy: 0.7262669801712036 | f1: 0.2953052520751953 | auc: 0.7338302731513977 | treshold: 0.16\n"
     ]
    },
    {
     "name": "stderr",
     "output_type": "stream",
     "text": [
      "train... loss:29.420453891158104:   0%|▎                                                                         | 19/5000 [06:09<26:52:41, 19.43s/it]"
     ]
    },
    {
     "name": "stdout",
     "output_type": "stream",
     "text": [
      "Test update: epoch: 18 |accuracy: 0.7316352128982544 | f1: 0.29893094301223755 | auc: 0.7338671088218689 | treshold: 0.16\n"
     ]
    },
    {
     "name": "stderr",
     "output_type": "stream",
     "text": [
      "train... loss:28.49056200683117:   1%|▍                                                                          | 29/5000 [09:18<26:22:45, 19.10s/it]"
     ]
    },
    {
     "name": "stdout",
     "output_type": "stream",
     "text": [
      "Test update: epoch: 28 |accuracy: 0.7677657008171082 | f1: 0.30687782168388367 | auc: 0.734139084815979 | treshold: 0.17\n"
     ]
    },
    {
     "name": "stderr",
     "output_type": "stream",
     "text": [
      "train... loss:27.23810836672783:   1%|▉                                                                          | 65/5000 [20:49<26:20:54, 19.22s/it]\n"
     ]
    }
   ],
   "source": [
    "for embeddings in ['svd', 'neural']:\n",
    "    print(f\"\\nEvaluating {experiment_name} with {embeddings} embeddings\")\n",
    "    model = NeuralClickModel(\n",
    "        RecsysEmbedding(train_num_items, c_train_user_item_matrix, embeddings='neural').to('cpu'),\n",
    "        output_dim=1\n",
    "    ).to(device)\n",
    "\n",
    "    _, metrics = train(model, \n",
    "       c_train_loader, c_val_loader, c_test_loader, device=device, lr=1e-3, num_epochs=5000, early_stopping=7,\n",
    "       silent=True, \n",
    "    )\n",
    "    \n",
    "    metrics['embeddings'] = embeddings\n",
    "    content_wise_results.append(metrics)\n",
    "    \n",
    "pd.DataFrame(content_wise_results).to_csv(f'results/cw_{experiment_name}.csv')"
   ]
  },
  {
   "cell_type": "markdown",
   "metadata": {},
   "source": [
    "# RL4RS"
   ]
  },
  {
   "cell_type": "code",
   "execution_count": 8,
   "metadata": {},
   "outputs": [],
   "source": [
    "# r = RL4RS('../data/rl4rs-dataset/')\n",
    "# for item in tqdm(r):\n",
    "#     pass\n",
    "# r.dump(os.path.join(pkl_path, 'rl4rs.pkl'))\n"
   ]
  },
  {
   "cell_type": "code",
   "execution_count": 9,
   "metadata": {},
   "outputs": [
    {
     "data": {
      "text/plain": [
       "(2, 45942)"
      ]
     },
     "execution_count": 9,
     "metadata": {},
     "output_type": "execute_result"
    }
   ],
   "source": [
    "rl4rs_results = []\n",
    "r = RL4RS.load(os.path.join(pkl_path, 'rl4rs.pkl'))\n",
    "r_train_loader, r_val_loader, r_test_loader, r_train_user_item_matrix, train_num_items = get_train_val_test_tmatrix_tnumitems(r, batch_size=20000)\n",
    "len(r_train_loader), len(r)"
   ]
  },
  {
   "cell_type": "code",
   "execution_count": 10,
   "metadata": {},
   "outputs": [
    {
     "name": "stdout",
     "output_type": "stream",
     "text": [
      "\n",
      "Evaluating FlattenedGRU with neural embeddings\n"
     ]
    },
    {
     "name": "stderr",
     "output_type": "stream",
     "text": [
      "\r",
      "train:   0%|                                                                                                                 | 0/5000 [00:00<?, ?it/s]"
     ]
    },
    {
     "name": "stdout",
     "output_type": "stream",
     "text": [
      "Test before learning: {'f1': 0.5420801639556885, 'roc-auc': 0.5074925422668457, 'accuracy': 0.4934590756893158}\n"
     ]
    },
    {
     "name": "stderr",
     "output_type": "stream",
     "text": [
      "train... loss:1.3903907537460327:   0%|                                                                           | 1/5000 [00:36<50:11:26, 36.14s/it]"
     ]
    },
    {
     "name": "stdout",
     "output_type": "stream",
     "text": [
      "Test update: epoch: 0 |accuracy: 0.6443235278129578 | f1: 0.7836943864822388 | auc: 0.5275754928588867 | treshold: 0.01\n"
     ]
    },
    {
     "name": "stderr",
     "output_type": "stream",
     "text": [
      "train... loss:1.3762925863265991:   0%|                                                                           | 2/5000 [00:41<37:24:11, 26.94s/it]"
     ]
    },
    {
     "name": "stdout",
     "output_type": "stream",
     "text": [
      "Test update: epoch: 1 |accuracy: 0.6443235278129578 | f1: 0.7836943864822388 | auc: 0.5464389324188232 | treshold: 0.01\n"
     ]
    },
    {
     "name": "stderr",
     "output_type": "stream",
     "text": [
      "train... loss:1.363258421421051:   0%|                                                                            | 3/5000 [00:47<28:28:43, 20.52s/it]"
     ]
    },
    {
     "name": "stdout",
     "output_type": "stream",
     "text": [
      "Test update: epoch: 2 |accuracy: 0.6443235278129578 | f1: 0.7836943864822388 | auc: 0.5638613700866699 | treshold: 0.01\n"
     ]
    },
    {
     "name": "stderr",
     "output_type": "stream",
     "text": [
      "train... loss:1.3507633805274963:   0%|                                                                           | 4/5000 [00:52<22:12:54, 16.01s/it]"
     ]
    },
    {
     "name": "stdout",
     "output_type": "stream",
     "text": [
      "Test update: epoch: 3 |accuracy: 0.6443235278129578 | f1: 0.7836943864822388 | auc: 0.5793688297271729 | treshold: 0.37\n"
     ]
    },
    {
     "name": "stderr",
     "output_type": "stream",
     "text": [
      "train... loss:1.3389813303947449:   0%|                                                                           | 5/5000 [00:58<17:48:22, 12.83s/it]"
     ]
    },
    {
     "name": "stdout",
     "output_type": "stream",
     "text": [
      "Test update: epoch: 4 |accuracy: 0.6442993879318237 | f1: 0.7836764454841614 | auc: 0.5926587581634521 | treshold: 0.38\n"
     ]
    },
    {
     "name": "stderr",
     "output_type": "stream",
     "text": [
      "train... loss:1.3278356790542603:   0%|                                                                           | 6/5000 [01:03<14:44:18, 10.62s/it]"
     ]
    },
    {
     "name": "stdout",
     "output_type": "stream",
     "text": [
      "Test update: epoch: 5 |accuracy: 0.6443235278129578 | f1: 0.7836943864822388 | auc: 0.6038874387741089 | treshold: 0.38\n"
     ]
    },
    {
     "name": "stderr",
     "output_type": "stream",
     "text": [
      "train... loss:1.3170141577720642:   0%|                                                                           | 7/5000 [01:08<12:35:01,  9.07s/it]"
     ]
    },
    {
     "name": "stdout",
     "output_type": "stream",
     "text": [
      "Test update: epoch: 6 |accuracy: 0.6443235278129578 | f1: 0.7836943864822388 | auc: 0.6134024262428284 | treshold: 0.38\n"
     ]
    },
    {
     "name": "stderr",
     "output_type": "stream",
     "text": [
      "train... loss:1.3068596124649048:   0%|                                                                           | 8/5000 [01:14<11:06:31,  8.01s/it]"
     ]
    },
    {
     "name": "stdout",
     "output_type": "stream",
     "text": [
      "Test update: epoch: 7 |accuracy: 0.6443235278129578 | f1: 0.7836943864822388 | auc: 0.6216144561767578 | treshold: 0.39\n"
     ]
    },
    {
     "name": "stderr",
     "output_type": "stream",
     "text": [
      "train... loss:1.2971528768539429:   0%|▏                                                                          | 9/5000 [01:19<10:02:36,  7.24s/it]"
     ]
    },
    {
     "name": "stdout",
     "output_type": "stream",
     "text": [
      "Test update: epoch: 8 |accuracy: 0.6443719267845154 | f1: 0.7837046980857849 | auc: 0.6288880109786987 | treshold: 0.4\n"
     ]
    },
    {
     "name": "stderr",
     "output_type": "stream",
     "text": [
      "train... loss:1.2884581089019775:   0%|▏                                                                          | 10/5000 [01:25<9:19:02,  6.72s/it]"
     ]
    },
    {
     "name": "stdout",
     "output_type": "stream",
     "text": [
      "Test update: epoch: 9 |accuracy: 0.6455084085464478 | f1: 0.7839733362197876 | auc: 0.6355047821998596 | treshold: 0.43\n"
     ]
    },
    {
     "name": "stderr",
     "output_type": "stream",
     "text": [
      "train... loss:1.279792606830597:   0%|▏                                                                           | 11/5000 [01:30<8:48:56,  6.36s/it]"
     ]
    },
    {
     "name": "stdout",
     "output_type": "stream",
     "text": [
      "Test update: epoch: 10 |accuracy: 0.6511425375938416 | f1: 0.7855263352394104 | auc: 0.6416665315628052 | treshold: 0.46\n"
     ]
    },
    {
     "name": "stderr",
     "output_type": "stream",
     "text": [
      "train... loss:1.2724814414978027:   0%|▏                                                                          | 12/5000 [01:36<8:27:58,  6.11s/it]"
     ]
    },
    {
     "name": "stdout",
     "output_type": "stream",
     "text": [
      "Test update: epoch: 11 |accuracy: 0.6516261696815491 | f1: 0.7859763503074646 | auc: 0.6475489139556885 | treshold: 0.46\n"
     ]
    },
    {
     "name": "stderr",
     "output_type": "stream",
     "text": [
      "train... loss:1.264954686164856:   0%|▏                                                                           | 13/5000 [01:42<8:12:52,  5.93s/it]"
     ]
    },
    {
     "name": "stdout",
     "output_type": "stream",
     "text": [
      "Test update: epoch: 12 |accuracy: 0.6560028791427612 | f1: 0.786652684211731 | auc: 0.6532992124557495 | treshold: 0.48000000000000004\n"
     ]
    },
    {
     "name": "stderr",
     "output_type": "stream",
     "text": [
      "train... loss:1.2581672668457031:   0%|▏                                                                          | 14/5000 [01:47<8:04:25,  5.83s/it]"
     ]
    },
    {
     "name": "stdout",
     "output_type": "stream",
     "text": [
      "Test update: epoch: 13 |accuracy: 0.6560996174812317 | f1: 0.7870001792907715 | auc: 0.6589641571044922 | treshold: 0.48000000000000004\n"
     ]
    },
    {
     "name": "stderr",
     "output_type": "stream",
     "text": [
      "train... loss:1.2522503733634949:   0%|▏                                                                          | 15/5000 [01:53<7:55:27,  5.72s/it]"
     ]
    },
    {
     "name": "stdout",
     "output_type": "stream",
     "text": [
      "Test update: epoch: 14 |accuracy: 0.6587595343589783 | f1: 0.7876936793327332 | auc: 0.6645804643630981 | treshold: 0.49\n"
     ]
    },
    {
     "name": "stderr",
     "output_type": "stream",
     "text": [
      "train... loss:1.246789813041687:   0%|▏                                                                           | 16/5000 [01:58<7:51:29,  5.68s/it]"
     ]
    },
    {
     "name": "stdout",
     "output_type": "stream",
     "text": [
      "Test update: epoch: 15 |accuracy: 0.6617579460144043 | f1: 0.7885028123855591 | auc: 0.6701737642288208 | treshold: 0.5\n"
     ]
    },
    {
     "name": "stderr",
     "output_type": "stream",
     "text": [
      "train... loss:1.2414299845695496:   0%|▎                                                                          | 17/5000 [02:04<7:50:56,  5.67s/it]"
     ]
    },
    {
     "name": "stdout",
     "output_type": "stream",
     "text": [
      "Test update: epoch: 16 |accuracy: 0.6624108552932739 | f1: 0.7891374230384827 | auc: 0.6757158041000366 | treshold: 0.5\n"
     ]
    },
    {
     "name": "stderr",
     "output_type": "stream",
     "text": [
      "train... loss:1.2373225688934326:   0%|▎                                                                          | 18/5000 [02:09<7:50:24,  5.67s/it]"
     ]
    },
    {
     "name": "stdout",
     "output_type": "stream",
     "text": [
      "Test update: epoch: 17 |accuracy: 0.6624591946601868 | f1: 0.7892695069313049 | auc: 0.6811683177947998 | treshold: 0.5\n"
     ]
    },
    {
     "name": "stderr",
     "output_type": "stream",
     "text": [
      "train... loss:1.2338058352470398:   0%|▎                                                                          | 19/5000 [02:15<7:51:35,  5.68s/it]"
     ]
    },
    {
     "name": "stdout",
     "output_type": "stream",
     "text": [
      "Test update: epoch: 18 |accuracy: 0.6694474816322327 | f1: 0.7909721732139587 | auc: 0.6865020394325256 | treshold: 0.52\n"
     ]
    },
    {
     "name": "stderr",
     "output_type": "stream",
     "text": [
      "train... loss:1.2297489643096924:   0%|▎                                                                          | 20/5000 [02:21<7:52:44,  5.70s/it]"
     ]
    },
    {
     "name": "stdout",
     "output_type": "stream",
     "text": [
      "Test update: epoch: 19 |accuracy: 0.6733647584915161 | f1: 0.7919926047325134 | auc: 0.6916639804840088 | treshold: 0.53\n"
     ]
    },
    {
     "name": "stderr",
     "output_type": "stream",
     "text": [
      "train... loss:1.22499281167984:   0%|▎                                                                            | 21/5000 [02:27<7:54:03,  5.71s/it]"
     ]
    },
    {
     "name": "stdout",
     "output_type": "stream",
     "text": [
      "Test update: epoch: 20 |accuracy: 0.6751299500465393 | f1: 0.7926473617553711 | auc: 0.6965867280960083 | treshold: 0.53\n"
     ]
    },
    {
     "name": "stderr",
     "output_type": "stream",
     "text": [
      "train... loss:1.2201929688453674:   0%|▎                                                                          | 22/5000 [02:32<7:54:51,  5.72s/it]"
     ]
    },
    {
     "name": "stdout",
     "output_type": "stream",
     "text": [
      "Test update: epoch: 21 |accuracy: 0.6802079677581787 | f1: 0.7934529781341553 | auc: 0.7012194991111755 | treshold: 0.54\n"
     ]
    },
    {
     "name": "stderr",
     "output_type": "stream",
     "text": [
      "train... loss:1.2146427035331726:   0%|▎                                                                          | 23/5000 [02:38<7:57:59,  5.76s/it]"
     ]
    },
    {
     "name": "stdout",
     "output_type": "stream",
     "text": [
      "Test update: epoch: 22 |accuracy: 0.6816830039024353 | f1: 0.7946782112121582 | auc: 0.7055144309997559 | treshold: 0.53\n"
     ]
    },
    {
     "name": "stderr",
     "output_type": "stream",
     "text": [
      "train... loss:1.2075467109680176:   0%|▎                                                                          | 24/5000 [02:44<8:00:09,  5.79s/it]"
     ]
    },
    {
     "name": "stdout",
     "output_type": "stream",
     "text": [
      "Test update: epoch: 23 |accuracy: 0.6832547187805176 | f1: 0.7955613136291504 | auc: 0.7094566226005554 | treshold: 0.52\n"
     ]
    },
    {
     "name": "stderr",
     "output_type": "stream",
     "text": [
      "train... loss:1.2001321911811829:   0%|▍                                                                          | 25/5000 [02:50<7:59:30,  5.78s/it]"
     ]
    },
    {
     "name": "stdout",
     "output_type": "stream",
     "text": [
      "Test update: epoch: 24 |accuracy: 0.6881634593009949 | f1: 0.7966379523277283 | auc: 0.7130347490310669 | treshold: 0.52\n"
     ]
    },
    {
     "name": "stderr",
     "output_type": "stream",
     "text": [
      "train... loss:1.1910951733589172:   1%|▍                                                                          | 26/5000 [02:56<7:59:23,  5.78s/it]"
     ]
    },
    {
     "name": "stdout",
     "output_type": "stream",
     "text": [
      "Test update: epoch: 25 |accuracy: 0.693120539188385 | f1: 0.7975109815597534 | auc: 0.7162701487541199 | treshold: 0.52\n"
     ]
    },
    {
     "name": "stderr",
     "output_type": "stream",
     "text": [
      "train... loss:1.1828632354736328:   1%|▍                                                                          | 27/5000 [03:01<7:58:39,  5.78s/it]"
     ]
    },
    {
     "name": "stdout",
     "output_type": "stream",
     "text": [
      "Test update: epoch: 26 |accuracy: 0.6934590935707092 | f1: 0.7984418272972107 | auc: 0.719188392162323 | treshold: 0.5\n"
     ]
    },
    {
     "name": "stderr",
     "output_type": "stream",
     "text": [
      "train... loss:1.1751917600631714:   1%|▍                                                                          | 28/5000 [03:07<8:05:20,  5.86s/it]"
     ]
    },
    {
     "name": "stdout",
     "output_type": "stream",
     "text": [
      "Test update: epoch: 27 |accuracy: 0.6967960596084595 | f1: 0.7995139360427856 | auc: 0.7218420505523682 | treshold: 0.49\n"
     ]
    },
    {
     "name": "stderr",
     "output_type": "stream",
     "text": [
      "train... loss:1.167967677116394:   1%|▍                                                                           | 29/5000 [03:13<8:02:43,  5.83s/it]"
     ]
    },
    {
     "name": "stdout",
     "output_type": "stream",
     "text": [
      "Test update: epoch: 28 |accuracy: 0.6979325413703918 | f1: 0.8007782697677612 | auc: 0.7242739200592041 | treshold: 0.47000000000000003\n"
     ]
    },
    {
     "name": "stderr",
     "output_type": "stream",
     "text": [
      "train... loss:1.1611945033073425:   1%|▍                                                                          | 30/5000 [03:19<7:57:34,  5.77s/it]"
     ]
    },
    {
     "name": "stdout",
     "output_type": "stream",
     "text": [
      "Test update: epoch: 29 |accuracy: 0.7004715204238892 | f1: 0.8014235496520996 | auc: 0.7265494465827942 | treshold: 0.46\n"
     ]
    },
    {
     "name": "stderr",
     "output_type": "stream",
     "text": [
      "train... loss:1.1564788222312927:   1%|▍                                                                          | 31/5000 [03:24<7:52:40,  5.71s/it]"
     ]
    },
    {
     "name": "stdout",
     "output_type": "stream",
     "text": [
      "Test update: epoch: 30 |accuracy: 0.7005440592765808 | f1: 0.8020333647727966 | auc: 0.7287349104881287 | treshold: 0.44\n"
     ]
    },
    {
     "name": "stderr",
     "output_type": "stream",
     "text": [
      "train... loss:1.1518008708953857:   1%|▍                                                                          | 32/5000 [03:30<7:52:37,  5.71s/it]"
     ]
    },
    {
     "name": "stdout",
     "output_type": "stream",
     "text": [
      "Test update: epoch: 31 |accuracy: 0.7030346989631653 | f1: 0.8028637170791626 | auc: 0.7308882474899292 | treshold: 0.43\n"
     ]
    },
    {
     "name": "stderr",
     "output_type": "stream",
     "text": [
      "train... loss:1.1486027240753174:   1%|▍                                                                          | 33/5000 [03:36<7:54:02,  5.73s/it]"
     ]
    },
    {
     "name": "stdout",
     "output_type": "stream",
     "text": [
      "Test update: epoch: 32 |accuracy: 0.705283522605896 | f1: 0.8036157488822937 | auc: 0.7330559492111206 | treshold: 0.42000000000000004\n"
     ]
    },
    {
     "name": "stderr",
     "output_type": "stream",
     "text": [
      "train... loss:1.145689070224762:   1%|▌                                                                           | 34/5000 [03:42<7:51:54,  5.70s/it]"
     ]
    },
    {
     "name": "stdout",
     "output_type": "stream",
     "text": [
      "Test update: epoch: 33 |accuracy: 0.7075806856155396 | f1: 0.804469108581543 | auc: 0.7352875471115112 | treshold: 0.41000000000000003\n"
     ]
    },
    {
     "name": "stderr",
     "output_type": "stream",
     "text": [
      "train... loss:1.1432557106018066:   1%|▌                                                                          | 35/5000 [03:47<7:49:44,  5.68s/it]"
     ]
    },
    {
     "name": "stdout",
     "output_type": "stream",
     "text": [
      "Test update: epoch: 34 |accuracy: 0.7095151543617249 | f1: 0.8053534626960754 | auc: 0.7376115322113037 | treshold: 0.4\n"
     ]
    },
    {
     "name": "stderr",
     "output_type": "stream",
     "text": [
      "train... loss:1.1404557824134827:   1%|▌                                                                          | 36/5000 [03:53<7:48:08,  5.66s/it]"
     ]
    },
    {
     "name": "stdout",
     "output_type": "stream",
     "text": [
      "Test update: epoch: 35 |accuracy: 0.7095393538475037 | f1: 0.8066136240959167 | auc: 0.740047812461853 | treshold: 0.38\n"
     ]
    },
    {
     "name": "stderr",
     "output_type": "stream",
     "text": [
      "train... loss:1.1373279094696045:   1%|▌                                                                          | 37/5000 [03:59<7:50:12,  5.68s/it]"
     ]
    },
    {
     "name": "stdout",
     "output_type": "stream",
     "text": [
      "Test update: epoch: 36 |accuracy: 0.712465226650238 | f1: 0.8071489930152893 | auc: 0.742598831653595 | treshold: 0.38\n"
     ]
    },
    {
     "name": "stderr",
     "output_type": "stream",
     "text": [
      "train... loss:1.1330832839012146:   1%|▌                                                                          | 38/5000 [04:04<7:51:35,  5.70s/it]"
     ]
    },
    {
     "name": "stdout",
     "output_type": "stream",
     "text": [
      "Test update: epoch: 37 |accuracy: 0.71425461769104 | f1: 0.8084796071052551 | auc: 0.7452571392059326 | treshold: 0.37\n"
     ]
    },
    {
     "name": "stderr",
     "output_type": "stream",
     "text": [
      "train... loss:1.1284806728363037:   1%|▌                                                                          | 39/5000 [04:10<7:52:40,  5.72s/it]"
     ]
    },
    {
     "name": "stdout",
     "output_type": "stream",
     "text": [
      "Test update: epoch: 38 |accuracy: 0.7165517807006836 | f1: 0.8091003894805908 | auc: 0.7480098605155945 | treshold: 0.37\n"
     ]
    },
    {
     "name": "stderr",
     "output_type": "stream",
     "text": [
      "train... loss:1.122512936592102:   1%|▌                                                                           | 40/5000 [04:16<7:54:20,  5.74s/it]"
     ]
    },
    {
     "name": "stdout",
     "output_type": "stream",
     "text": [
      "Test update: epoch: 39 |accuracy: 0.7172772288322449 | f1: 0.8102194666862488 | auc: 0.7508063912391663 | treshold: 0.36000000000000004\n"
     ]
    },
    {
     "name": "stderr",
     "output_type": "stream",
     "text": [
      "train... loss:1.115661382675171:   1%|▌                                                                           | 41/5000 [04:22<7:56:14,  5.76s/it]"
     ]
    },
    {
     "name": "stdout",
     "output_type": "stream",
     "text": [
      "Test update: epoch: 40 |accuracy: 0.7198887467384338 | f1: 0.8115564584732056 | auc: 0.75360107421875 | treshold: 0.36000000000000004\n"
     ]
    },
    {
     "name": "stderr",
     "output_type": "stream",
     "text": [
      "train... loss:1.108186423778534:   1%|▋                                                                           | 42/5000 [04:27<7:54:31,  5.74s/it]"
     ]
    },
    {
     "name": "stdout",
     "output_type": "stream",
     "text": [
      "Test update: epoch: 41 |accuracy: 0.7221375703811646 | f1: 0.8129568099975586 | auc: 0.7563641667366028 | treshold: 0.36000000000000004\n"
     ]
    },
    {
     "name": "stderr",
     "output_type": "stream",
     "text": [
      "train... loss:1.0997336506843567:   1%|▋                                                                          | 43/5000 [04:33<7:54:15,  5.74s/it]"
     ]
    },
    {
     "name": "stdout",
     "output_type": "stream",
     "text": [
      "Test update: epoch: 42 |accuracy: 0.7245556712150574 | f1: 0.8136319518089294 | auc: 0.759043276309967 | treshold: 0.37\n"
     ]
    },
    {
     "name": "stderr",
     "output_type": "stream",
     "text": [
      "train... loss:1.091218650341034:   1%|▋                                                                           | 44/5000 [04:39<7:52:52,  5.72s/it]"
     ]
    },
    {
     "name": "stdout",
     "output_type": "stream",
     "text": [
      "Test update: epoch: 43 |accuracy: 0.7251118421554565 | f1: 0.8144848346710205 | auc: 0.7616130113601685 | treshold: 0.37\n"
     ]
    },
    {
     "name": "stderr",
     "output_type": "stream",
     "text": [
      "train... loss:1.083561658859253:   1%|▋                                                                           | 45/5000 [04:44<7:52:04,  5.72s/it]"
     ]
    },
    {
     "name": "stdout",
     "output_type": "stream",
     "text": [
      "Test update: epoch: 44 |accuracy: 0.7253052592277527 | f1: 0.8153265714645386 | auc: 0.7640542984008789 | treshold: 0.37\n"
     ]
    },
    {
     "name": "stderr",
     "output_type": "stream",
     "text": [
      "train... loss:1.0765123963356018:   1%|▋                                                                          | 46/5000 [04:50<7:51:48,  5.71s/it]"
     ]
    },
    {
     "name": "stdout",
     "output_type": "stream",
     "text": [
      "Test update: epoch: 45 |accuracy: 0.7262725234031677 | f1: 0.8158091902732849 | auc: 0.7663421630859375 | treshold: 0.38\n"
     ]
    },
    {
     "name": "stderr",
     "output_type": "stream",
     "text": [
      "train... loss:1.07136070728302:   1%|▋                                                                            | 47/5000 [04:56<7:50:37,  5.70s/it]"
     ]
    },
    {
     "name": "stdout",
     "output_type": "stream",
     "text": [
      "Test update: epoch: 46 |accuracy: 0.7275057435035706 | f1: 0.816725492477417 | auc: 0.7684836983680725 | treshold: 0.39\n"
     ]
    },
    {
     "name": "stderr",
     "output_type": "stream",
     "text": [
      "train... loss:1.0680915713310242:   1%|▋                                                                          | 48/5000 [05:02<7:51:06,  5.71s/it]"
     ]
    },
    {
     "name": "stdout",
     "output_type": "stream",
     "text": [
      "Test update: epoch: 47 |accuracy: 0.728206992149353 | f1: 0.8174495100975037 | auc: 0.7704932689666748 | treshold: 0.4\n"
     ]
    },
    {
     "name": "stderr",
     "output_type": "stream",
     "text": [
      "train... loss:1.0670284032821655:   1%|▋                                                                          | 49/5000 [05:07<7:51:05,  5.71s/it]"
     ]
    },
    {
     "name": "stdout",
     "output_type": "stream",
     "text": [
      "Test update: epoch: 48 |accuracy: 0.7291016578674316 | f1: 0.8175793290138245 | auc: 0.7723895907402039 | treshold: 0.42000000000000004\n"
     ]
    },
    {
     "name": "stderr",
     "output_type": "stream",
     "text": [
      "train... loss:1.0691385865211487:   1%|▊                                                                          | 50/5000 [05:13<7:53:30,  5.74s/it]"
     ]
    },
    {
     "name": "stdout",
     "output_type": "stream",
     "text": [
      "Test update: epoch: 49 |accuracy: 0.7305525541305542 | f1: 0.8181654810905457 | auc: 0.7742103934288025 | treshold: 0.44\n"
     ]
    },
    {
     "name": "stderr",
     "output_type": "stream",
     "text": [
      "train... loss:1.0720985531806946:   1%|▊                                                                          | 51/5000 [05:19<7:53:25,  5.74s/it]"
     ]
    },
    {
     "name": "stdout",
     "output_type": "stream",
     "text": [
      "Test update: epoch: 50 |accuracy: 0.7321001291275024 | f1: 0.8187484741210938 | auc: 0.7760250568389893 | treshold: 0.46\n"
     ]
    },
    {
     "name": "stderr",
     "output_type": "stream",
     "text": [
      "train... loss:1.0776999592781067:   1%|▊                                                                          | 52/5000 [05:25<7:54:14,  5.75s/it]"
     ]
    },
    {
     "name": "stdout",
     "output_type": "stream",
     "text": [
      "Test update: epoch: 51 |accuracy: 0.7323419451713562 | f1: 0.8189535140991211 | auc: 0.777887761592865 | treshold: 0.47000000000000003\n"
     ]
    },
    {
     "name": "stderr",
     "output_type": "stream",
     "text": [
      "train... loss:1.0791993141174316:   1%|▊                                                                          | 53/5000 [05:31<7:59:27,  5.82s/it]"
     ]
    },
    {
     "name": "stdout",
     "output_type": "stream",
     "text": [
      "Test update: epoch: 52 |accuracy: 0.7331640720367432 | f1: 0.8191250562667847 | auc: 0.7798962593078613 | treshold: 0.48000000000000004\n"
     ]
    },
    {
     "name": "stderr",
     "output_type": "stream",
     "text": [
      "train... loss:1.077195405960083:   1%|▊                                                                           | 54/5000 [05:36<7:59:26,  5.82s/it]"
     ]
    },
    {
     "name": "stdout",
     "output_type": "stream",
     "text": [
      "Test update: epoch: 53 |accuracy: 0.7356788516044617 | f1: 0.8198850154876709 | auc: 0.7820537686347961 | treshold: 0.49\n"
     ]
    },
    {
     "name": "stderr",
     "output_type": "stream",
     "text": [
      "train... loss:1.0705057978630066:   1%|▊                                                                          | 55/5000 [05:42<7:59:18,  5.82s/it]"
     ]
    },
    {
     "name": "stdout",
     "output_type": "stream",
     "text": [
      "Test update: epoch: 54 |accuracy: 0.7375407814979553 | f1: 0.8203693628311157 | auc: 0.7842890024185181 | treshold: 0.49\n"
     ]
    },
    {
     "name": "stderr",
     "output_type": "stream",
     "text": [
      "train... loss:1.0595418810844421:   1%|▊                                                                          | 56/5000 [05:48<8:00:31,  5.83s/it]"
     ]
    },
    {
     "name": "stdout",
     "output_type": "stream",
     "text": [
      "Test update: epoch: 55 |accuracy: 0.7388224005699158 | f1: 0.8214681148529053 | auc: 0.7865309715270996 | treshold: 0.47000000000000003\n"
     ]
    },
    {
     "name": "stderr",
     "output_type": "stream",
     "text": [
      "train... loss:1.046220302581787:   1%|▊                                                                           | 57/5000 [05:54<8:02:34,  5.86s/it]"
     ]
    },
    {
     "name": "stdout",
     "output_type": "stream",
     "text": [
      "Test update: epoch: 56 |accuracy: 0.7426187992095947 | f1: 0.8223749995231628 | auc: 0.7886925339698792 | treshold: 0.47000000000000003\n"
     ]
    },
    {
     "name": "stderr",
     "output_type": "stream",
     "text": [
      "train... loss:1.0321627855300903:   1%|▊                                                                          | 58/5000 [06:00<8:02:57,  5.86s/it]"
     ]
    },
    {
     "name": "stdout",
     "output_type": "stream",
     "text": [
      "Test update: epoch: 57 |accuracy: 0.7448192238807678 | f1: 0.8235962986946106 | auc: 0.790735125541687 | treshold: 0.45\n"
     ]
    },
    {
     "name": "stderr",
     "output_type": "stream",
     "text": [
      "train... loss:1.019918978214264:   1%|▉                                                                           | 59/5000 [06:06<7:59:48,  5.83s/it]"
     ]
    },
    {
     "name": "stdout",
     "output_type": "stream",
     "text": [
      "Test update: epoch: 58 |accuracy: 0.747164785861969 | f1: 0.8247637152671814 | auc: 0.7926266193389893 | treshold: 0.43\n"
     ]
    },
    {
     "name": "stderr",
     "output_type": "stream",
     "text": [
      "train... loss:1.0107871890068054:   1%|▉                                                                          | 60/5000 [06:11<7:57:34,  5.80s/it]"
     ]
    },
    {
     "name": "stdout",
     "output_type": "stream",
     "text": [
      "Test update: epoch: 59 |accuracy: 0.7486398220062256 | f1: 0.8251795172691345 | auc: 0.7943641543388367 | treshold: 0.41000000000000003\n"
     ]
    },
    {
     "name": "stderr",
     "output_type": "stream",
     "text": [
      "train... loss:1.0050289034843445:   1%|▉                                                                          | 61/5000 [06:17<7:53:22,  5.75s/it]"
     ]
    },
    {
     "name": "stdout",
     "output_type": "stream",
     "text": [
      "Test update: epoch: 60 |accuracy: 0.751348078250885 | f1: 0.8264443278312683 | auc: 0.7959669828414917 | treshold: 0.39\n"
     ]
    },
    {
     "name": "stderr",
     "output_type": "stream",
     "text": [
      "train... loss:1.0042638182640076:   1%|▉                                                                          | 62/5000 [06:23<7:51:27,  5.73s/it]"
     ]
    },
    {
     "name": "stdout",
     "output_type": "stream",
     "text": [
      "Test update: epoch: 61 |accuracy: 0.7522669434547424 | f1: 0.827470064163208 | auc: 0.7974755764007568 | treshold: 0.36000000000000004\n"
     ]
    },
    {
     "name": "stderr",
     "output_type": "stream",
     "text": [
      "train... loss:1.008018434047699:   1%|▉                                                                           | 63/5000 [06:28<7:48:03,  5.69s/it]"
     ]
    },
    {
     "name": "stdout",
     "output_type": "stream",
     "text": [
      "Test update: epoch: 62 |accuracy: 0.7535969018936157 | f1: 0.8279704451560974 | auc: 0.7989217042922974 | treshold: 0.34\n"
     ]
    },
    {
     "name": "stderr",
     "output_type": "stream",
     "text": [
      "train... loss:1.0154306292533875:   1%|▉                                                                          | 64/5000 [06:34<7:46:29,  5.67s/it]"
     ]
    },
    {
     "name": "stdout",
     "output_type": "stream",
     "text": [
      "Test update: epoch: 63 |accuracy: 0.7548543214797974 | f1: 0.8287384510040283 | auc: 0.8003493547439575 | treshold: 0.32\n"
     ]
    },
    {
     "name": "stderr",
     "output_type": "stream",
     "text": [
      "train... loss:1.0261910557746887:   1%|▉                                                                          | 65/5000 [06:39<7:45:24,  5.66s/it]"
     ]
    },
    {
     "name": "stdout",
     "output_type": "stream",
     "text": [
      "Test update: epoch: 64 |accuracy: 0.7557006478309631 | f1: 0.82948237657547 | auc: 0.8018286228179932 | treshold: 0.3\n"
     ]
    },
    {
     "name": "stderr",
     "output_type": "stream",
     "text": [
      "train... loss:1.0380477905273438:   1%|▉                                                                          | 66/5000 [06:45<7:46:08,  5.67s/it]"
     ]
    },
    {
     "name": "stdout",
     "output_type": "stream",
     "text": [
      "Test update: epoch: 65 |accuracy: 0.7572724223136902 | f1: 0.8301465511322021 | auc: 0.803438127040863 | treshold: 0.29000000000000004\n"
     ]
    },
    {
     "name": "stderr",
     "output_type": "stream",
     "text": [
      "train... loss:1.0484992861747742:   1%|█                                                                          | 67/5000 [06:51<7:46:19,  5.67s/it]"
     ]
    },
    {
     "name": "stdout",
     "output_type": "stream",
     "text": [
      "Test update: epoch: 66 |accuracy: 0.7584814429283142 | f1: 0.8312552571296692 | auc: 0.8052059412002563 | treshold: 0.28\n"
     ]
    },
    {
     "name": "stderr",
     "output_type": "stream",
     "text": [
      "train... loss:1.0538816452026367:   1%|█                                                                          | 68/5000 [06:56<7:44:26,  5.65s/it]"
     ]
    },
    {
     "name": "stdout",
     "output_type": "stream",
     "text": [
      "Test update: epoch: 67 |accuracy: 0.7596904635429382 | f1: 0.8319410085678101 | auc: 0.8070841431617737 | treshold: 0.28\n"
     ]
    },
    {
     "name": "stderr",
     "output_type": "stream",
     "text": [
      "train... loss:1.0533828139305115:   1%|█                                                                          | 69/5000 [07:02<7:45:24,  5.66s/it]"
     ]
    },
    {
     "name": "stdout",
     "output_type": "stream",
     "text": [
      "Test update: epoch: 68 |accuracy: 0.7617942094802856 | f1: 0.8327929973602295 | auc: 0.808886706829071 | treshold: 0.29000000000000004\n"
     ]
    },
    {
     "name": "stderr",
     "output_type": "stream",
     "text": [
      "train... loss:1.0468010902404785:   1%|█                                                                          | 70/5000 [07:08<7:44:52,  5.66s/it]"
     ]
    },
    {
     "name": "stdout",
     "output_type": "stream",
     "text": [
      "Test update: epoch: 69 |accuracy: 0.761721670627594 | f1: 0.8338167667388916 | auc: 0.8104631900787354 | treshold: 0.29000000000000004\n"
     ]
    },
    {
     "name": "stderr",
     "output_type": "stream",
     "text": [
      "train... loss:1.0364089012145996:   1%|█                                                                          | 71/5000 [07:14<7:48:00,  5.70s/it]"
     ]
    },
    {
     "name": "stdout",
     "output_type": "stream",
     "text": [
      "Test update: epoch: 70 |accuracy: 0.7630516290664673 | f1: 0.8349530696868896 | auc: 0.8117166757583618 | treshold: 0.3\n"
     ]
    },
    {
     "name": "stderr",
     "output_type": "stream",
     "text": [
      "train... loss:1.024372160434723:   1%|█                                                                           | 72/5000 [07:19<7:48:24,  5.70s/it]"
     ]
    },
    {
     "name": "stdout",
     "output_type": "stream",
     "text": [
      "Test update: epoch: 71 |accuracy: 0.7629307508468628 | f1: 0.8352711796760559 | auc: 0.8126251697540283 | treshold: 0.31\n"
     ]
    },
    {
     "name": "stderr",
     "output_type": "stream",
     "text": [
      "train... loss:1.011765480041504:   1%|█                                                                           | 73/5000 [07:25<7:51:43,  5.74s/it]"
     ]
    },
    {
     "name": "stdout",
     "output_type": "stream",
     "text": [
      "Test update: epoch: 72 |accuracy: 0.7630274295806885 | f1: 0.8358898758888245 | auc: 0.8132240176200867 | treshold: 0.32\n"
     ]
    },
    {
     "name": "stderr",
     "output_type": "stream",
     "text": [
      "train... loss:1.0003763437271118:   1%|█                                                                          | 74/5000 [07:31<7:52:34,  5.76s/it]"
     ]
    },
    {
     "name": "stdout",
     "output_type": "stream",
     "text": [
      "Test update: epoch: 73 |accuracy: 0.7625921964645386 | f1: 0.8361919522285461 | auc: 0.8135882616043091 | treshold: 0.33\n"
     ]
    },
    {
     "name": "stderr",
     "output_type": "stream",
     "text": [
      "train... loss:0.9683624505996704:   2%|█▏                                                                         | 80/5000 [08:04<7:40:36,  5.62s/it]"
     ]
    },
    {
     "name": "stdout",
     "output_type": "stream",
     "text": [
      "Test update: epoch: 79 |accuracy: 0.7673799991607666 | f1: 0.8378615379333496 | auc: 0.8150513172149658 | treshold: 0.47000000000000003\n"
     ]
    },
    {
     "name": "stderr",
     "output_type": "stream",
     "text": [
      "train... loss:0.970067709684372:   2%|█▏                                                                          | 81/5000 [08:10<7:42:59,  5.65s/it]"
     ]
    },
    {
     "name": "stdout",
     "output_type": "stream",
     "text": [
      "Test update: epoch: 80 |accuracy: 0.7675008773803711 | f1: 0.8379758596420288 | auc: 0.8155849575996399 | treshold: 0.49\n"
     ]
    },
    {
     "name": "stderr",
     "output_type": "stream",
     "text": [
      "train... loss:0.9725778102874756:   2%|█▏                                                                         | 82/5000 [08:15<7:47:17,  5.70s/it]"
     ]
    },
    {
     "name": "stdout",
     "output_type": "stream",
     "text": [
      "Test update: epoch: 81 |accuracy: 0.7653487920761108 | f1: 0.8375844955444336 | auc: 0.8162474036216736 | treshold: 0.49\n"
     ]
    },
    {
     "name": "stderr",
     "output_type": "stream",
     "text": [
      "train... loss:0.9768071174621582:   2%|█▏                                                                         | 83/5000 [08:21<7:47:00,  5.70s/it]"
     ]
    },
    {
     "name": "stdout",
     "output_type": "stream",
     "text": [
      "Test update: epoch: 82 |accuracy: 0.7658324241638184 | f1: 0.837837815284729 | auc: 0.8170305490493774 | treshold: 0.51\n"
     ]
    },
    {
     "name": "stderr",
     "output_type": "stream",
     "text": [
      "train... loss:0.982697069644928:   2%|█▎                                                                          | 84/5000 [08:27<7:47:47,  5.71s/it]"
     ]
    },
    {
     "name": "stdout",
     "output_type": "stream",
     "text": [
      "Test update: epoch: 83 |accuracy: 0.7672349214553833 | f1: 0.8379897475242615 | auc: 0.8179600238800049 | treshold: 0.54\n"
     ]
    },
    {
     "name": "stderr",
     "output_type": "stream",
     "text": [
      "train... loss:0.9874933362007141:   2%|█▎                                                                         | 85/5000 [08:33<7:50:14,  5.74s/it]"
     ]
    },
    {
     "name": "stdout",
     "output_type": "stream",
     "text": [
      "Test update: epoch: 84 |accuracy: 0.7671381831169128 | f1: 0.8378951549530029 | auc: 0.8190910816192627 | treshold: 0.55\n"
     ]
    },
    {
     "name": "stderr",
     "output_type": "stream",
     "text": [
      "train... loss:0.9912352859973907:   2%|█▎                                                                         | 86/5000 [08:38<7:51:08,  5.75s/it]"
     ]
    },
    {
     "name": "stdout",
     "output_type": "stream",
     "text": [
      "Test update: epoch: 85 |accuracy: 0.7664127945899963 | f1: 0.8382397294044495 | auc: 0.8204593658447266 | treshold: 0.54\n"
     ]
    },
    {
     "name": "stderr",
     "output_type": "stream",
     "text": [
      "train... loss:0.9923577606678009:   2%|█▎                                                                         | 87/5000 [08:44<7:50:11,  5.74s/it]"
     ]
    },
    {
     "name": "stdout",
     "output_type": "stream",
     "text": [
      "Test update: epoch: 86 |accuracy: 0.7676460146903992 | f1: 0.8374963998794556 | auc: 0.8220009207725525 | treshold: 0.56\n"
     ]
    },
    {
     "name": "stderr",
     "output_type": "stream",
     "text": [
      "train... loss:0.988833099603653:   2%|█▎                                                                          | 88/5000 [08:50<7:52:55,  5.78s/it]"
     ]
    },
    {
     "name": "stdout",
     "output_type": "stream",
     "text": [
      "Test update: epoch: 87 |accuracy: 0.767694354057312 | f1: 0.8370341658592224 | auc: 0.8235368728637695 | treshold: 0.55\n"
     ]
    },
    {
     "name": "stderr",
     "output_type": "stream",
     "text": [
      "train... loss:0.9799661040306091:   2%|█▎                                                                         | 89/5000 [08:56<7:54:42,  5.80s/it]"
     ]
    },
    {
     "name": "stdout",
     "output_type": "stream",
     "text": [
      "Test update: epoch: 88 |accuracy: 0.7684439420700073 | f1: 0.8367875814437866 | auc: 0.8248938322067261 | treshold: 0.53\n"
     ]
    },
    {
     "name": "stderr",
     "output_type": "stream",
     "text": [
      "train... loss:0.9672794342041016:   2%|█▎                                                                         | 90/5000 [09:02<7:55:59,  5.82s/it]"
     ]
    },
    {
     "name": "stdout",
     "output_type": "stream",
     "text": [
      "Test update: epoch: 89 |accuracy: 0.7683230638504028 | f1: 0.8350634574890137 | auc: 0.8260877132415771 | treshold: 0.51\n"
     ]
    },
    {
     "name": "stderr",
     "output_type": "stream",
     "text": [
      "train... loss:0.9517903327941895:   2%|█▎                                                                         | 91/5000 [09:08<7:56:41,  5.83s/it]"
     ]
    },
    {
     "name": "stdout",
     "output_type": "stream",
     "text": [
      "Test update: epoch: 90 |accuracy: 0.7654938697814941 | f1: 0.8325679302215576 | auc: 0.8272705078125 | treshold: 0.46\n"
     ]
    },
    {
     "name": "stderr",
     "output_type": "stream",
     "text": [
      "train... loss:0.9378313422203064:   2%|█▍                                                                         | 92/5000 [09:13<7:54:41,  5.80s/it]"
     ]
    },
    {
     "name": "stdout",
     "output_type": "stream",
     "text": [
      "Test update: epoch: 91 |accuracy: 0.7635594010353088 | f1: 0.8300719261169434 | auc: 0.8288416862487793 | treshold: 0.41000000000000003\n"
     ]
    },
    {
     "name": "stderr",
     "output_type": "stream",
     "text": [
      "train... loss:0.9258867502212524:   2%|█▍                                                                         | 93/5000 [09:19<7:53:56,  5.80s/it]"
     ]
    },
    {
     "name": "stdout",
     "output_type": "stream",
     "text": [
      "Test update: epoch: 92 |accuracy: 0.7618184089660645 | f1: 0.8299496173858643 | auc: 0.8309780359268188 | treshold: 0.33\n"
     ]
    },
    {
     "name": "stderr",
     "output_type": "stream",
     "text": [
      "train... loss:0.9199322462081909:   2%|█▍                                                                         | 94/5000 [09:25<7:51:28,  5.77s/it]"
     ]
    },
    {
     "name": "stdout",
     "output_type": "stream",
     "text": [
      "Test update: epoch: 93 |accuracy: 0.7626163959503174 | f1: 0.8321909308433533 | auc: 0.8332050442695618 | treshold: 0.26\n"
     ]
    },
    {
     "name": "stderr",
     "output_type": "stream",
     "text": [
      "train... loss:0.9221874475479126:   2%|█▍                                                                         | 95/5000 [09:30<7:49:24,  5.74s/it]"
     ]
    },
    {
     "name": "stdout",
     "output_type": "stream",
     "text": [
      "Test update: epoch: 94 |accuracy: 0.7636319398880005 | f1: 0.8342124223709106 | auc: 0.8359050750732422 | treshold: 0.21000000000000002\n"
     ]
    },
    {
     "name": "stderr",
     "output_type": "stream",
     "text": [
      "train... loss:0.9299945831298828:   2%|█▍                                                                         | 96/5000 [09:36<7:49:11,  5.74s/it]"
     ]
    },
    {
     "name": "stdout",
     "output_type": "stream",
     "text": [
      "Test update: epoch: 95 |accuracy: 0.7680812478065491 | f1: 0.8367794752120972 | auc: 0.8382464051246643 | treshold: 0.19\n"
     ]
    },
    {
     "name": "stderr",
     "output_type": "stream",
     "text": [
      "train... loss:0.9404838383197784:   2%|█▍                                                                         | 97/5000 [09:42<7:47:42,  5.72s/it]"
     ]
    },
    {
     "name": "stdout",
     "output_type": "stream",
     "text": [
      "Test update: epoch: 96 |accuracy: 0.7715874910354614 | f1: 0.8387118577957153 | auc: 0.8402910828590393 | treshold: 0.18000000000000002\n"
     ]
    },
    {
     "name": "stderr",
     "output_type": "stream",
     "text": [
      "train... loss:0.9520149827003479:   2%|█▍                                                                         | 98/5000 [09:47<7:44:13,  5.68s/it]"
     ]
    },
    {
     "name": "stdout",
     "output_type": "stream",
     "text": [
      "Test update: epoch: 97 |accuracy: 0.7728448510169983 | f1: 0.8406932353973389 | auc: 0.842254102230072 | treshold: 0.17\n"
     ]
    },
    {
     "name": "stderr",
     "output_type": "stream",
     "text": [
      "train... loss:0.9585446417331696:   2%|█▍                                                                         | 99/5000 [09:53<7:43:29,  5.67s/it]"
     ]
    },
    {
     "name": "stdout",
     "output_type": "stream",
     "text": [
      "Test update: epoch: 98 |accuracy: 0.7751420736312866 | f1: 0.8413546085357666 | auc: 0.8445478677749634 | treshold: 0.18000000000000002\n"
     ]
    },
    {
     "name": "stderr",
     "output_type": "stream",
     "text": [
      "train... loss:0.958463579416275:   2%|█▌                                                                         | 100/5000 [09:59<7:42:14,  5.66s/it]"
     ]
    },
    {
     "name": "stdout",
     "output_type": "stream",
     "text": [
      "Test update: epoch: 99 |accuracy: 0.7746584415435791 | f1: 0.8427199721336365 | auc: 0.8472850918769836 | treshold: 0.18000000000000002\n"
     ]
    },
    {
     "name": "stderr",
     "output_type": "stream",
     "text": [
      "train... loss:0.9508460462093353:   2%|█▍                                                                        | 101/5000 [10:04<7:41:25,  5.65s/it]"
     ]
    },
    {
     "name": "stdout",
     "output_type": "stream",
     "text": [
      "Test update: epoch: 100 |accuracy: 0.7779470682144165 | f1: 0.8442054390907288 | auc: 0.8501653671264648 | treshold: 0.2\n"
     ]
    },
    {
     "name": "stderr",
     "output_type": "stream",
     "text": [
      "train... loss:0.9385163187980652:   2%|█▌                                                                        | 102/5000 [10:10<7:42:38,  5.67s/it]"
     ]
    },
    {
     "name": "stdout",
     "output_type": "stream",
     "text": [
      "Test update: epoch: 101 |accuracy: 0.7813565731048584 | f1: 0.8463081121444702 | auc: 0.8527576923370361 | treshold: 0.22\n"
     ]
    },
    {
     "name": "stderr",
     "output_type": "stream",
     "text": [
      "train... loss:0.9241841733455658:   2%|█▌                                                                        | 103/5000 [10:16<7:43:17,  5.68s/it]"
     ]
    },
    {
     "name": "stdout",
     "output_type": "stream",
     "text": [
      "Test update: epoch: 102 |accuracy: 0.7828799486160278 | f1: 0.8476250171661377 | auc: 0.8545710444450378 | treshold: 0.24000000000000002\n"
     ]
    },
    {
     "name": "stderr",
     "output_type": "stream",
     "text": [
      "train... loss:0.9112130105495453:   2%|█▌                                                                        | 104/5000 [10:22<7:43:43,  5.68s/it]"
     ]
    },
    {
     "name": "stdout",
     "output_type": "stream",
     "text": [
      "Test update: epoch: 103 |accuracy: 0.7862652540206909 | f1: 0.8486602306365967 | auc: 0.8552668690681458 | treshold: 0.28\n"
     ]
    },
    {
     "name": "stderr",
     "output_type": "stream",
     "text": [
      "train... loss:0.8978866338729858:   2%|█▊                                                                        | 122/5000 [11:58<7:26:08,  5.49s/it]"
     ]
    },
    {
     "name": "stdout",
     "output_type": "stream",
     "text": [
      "Test update: epoch: 121 |accuracy: 0.7963728904724121 | f1: 0.8517507910728455 | auc: 0.8557119369506836 | treshold: 0.6\n"
     ]
    },
    {
     "name": "stderr",
     "output_type": "stream",
     "text": [
      "train... loss:0.8798548579216003:   2%|█▊                                                                        | 123/5000 [12:04<7:33:01,  5.57s/it]"
     ]
    },
    {
     "name": "stdout",
     "output_type": "stream",
     "text": [
      "Test update: epoch: 122 |accuracy: 0.7967839241027832 | f1: 0.8519744873046875 | auc: 0.857719898223877 | treshold: 0.56\n"
     ]
    },
    {
     "name": "stderr",
     "output_type": "stream",
     "text": [
      "train... loss:0.8622540533542633:   2%|█▊                                                                        | 124/5000 [12:10<7:38:01,  5.64s/it]"
     ]
    },
    {
     "name": "stdout",
     "output_type": "stream",
     "text": [
      "Test update: epoch: 123 |accuracy: 0.7970982789993286 | f1: 0.8509300351142883 | auc: 0.8595755100250244 | treshold: 0.53\n"
     ]
    },
    {
     "name": "stderr",
     "output_type": "stream",
     "text": [
      "train... loss:0.846484363079071:   2%|█▉                                                                         | 125/5000 [12:15<7:42:20,  5.69s/it]"
     ]
    },
    {
     "name": "stdout",
     "output_type": "stream",
     "text": [
      "Test update: epoch: 124 |accuracy: 0.7960101366043091 | f1: 0.8499199151992798 | auc: 0.86162930727005 | treshold: 0.48000000000000004\n"
     ]
    },
    {
     "name": "stderr",
     "output_type": "stream",
     "text": [
      "train... loss:0.8345963358879089:   3%|█▊                                                                        | 126/5000 [12:21<7:42:23,  5.69s/it]"
     ]
    },
    {
     "name": "stdout",
     "output_type": "stream",
     "text": [
      "Test update: epoch: 125 |accuracy: 0.7962761521339417 | f1: 0.8488436937332153 | auc: 0.863669753074646 | treshold: 0.44\n"
     ]
    },
    {
     "name": "stderr",
     "output_type": "stream",
     "text": [
      "train... loss:0.902064174413681:   3%|██                                                                         | 134/5000 [13:03<7:13:49,  5.35s/it]"
     ]
    },
    {
     "name": "stdout",
     "output_type": "stream",
     "text": [
      "Test update: epoch: 133 |accuracy: 0.7936162352561951 | f1: 0.8502079844474792 | auc: 0.8647815585136414 | treshold: 0.22\n"
     ]
    },
    {
     "name": "stderr",
     "output_type": "stream",
     "text": [
      "train... loss:0.8785191774368286:   3%|█▉                                                                        | 135/5000 [13:09<7:19:16,  5.42s/it]"
     ]
    },
    {
     "name": "stdout",
     "output_type": "stream",
     "text": [
      "Test update: epoch: 134 |accuracy: 0.7960585355758667 | f1: 0.8524854183197021 | auc: 0.8673259019851685 | treshold: 0.23\n"
     ]
    },
    {
     "name": "stderr",
     "output_type": "stream",
     "text": [
      "train... loss:0.8576110303401947:   3%|██                                                                        | 136/5000 [13:15<7:24:18,  5.48s/it]"
     ]
    },
    {
     "name": "stdout",
     "output_type": "stream",
     "text": [
      "Test update: epoch: 135 |accuracy: 0.7978479266166687 | f1: 0.8535799384117126 | auc: 0.8683883547782898 | treshold: 0.25\n"
     ]
    },
    {
     "name": "stderr",
     "output_type": "stream",
     "text": [
      "train... loss:0.8257175981998444:   3%|██▎                                                                       | 156/5000 [15:02<7:25:16,  5.52s/it]"
     ]
    },
    {
     "name": "stdout",
     "output_type": "stream",
     "text": [
      "Test update: epoch: 155 |accuracy: 0.8042316436767578 | f1: 0.8561733961105347 | auc: 0.8630919456481934 | treshold: 0.49\n"
     ]
    },
    {
     "name": "stderr",
     "output_type": "stream",
     "text": [
      "train... loss:0.8192583620548248:   3%|██▎                                                                       | 157/5000 [15:08<7:31:42,  5.60s/it]"
     ]
    },
    {
     "name": "stdout",
     "output_type": "stream",
     "text": [
      "Test update: epoch: 156 |accuracy: 0.805779218673706 | f1: 0.8575633764266968 | auc: 0.864714503288269 | treshold: 0.45\n"
     ]
    },
    {
     "name": "stderr",
     "output_type": "stream",
     "text": [
      "train... loss:0.8156037926673889:   3%|██▎                                                                       | 158/5000 [15:13<7:37:42,  5.67s/it]"
     ]
    },
    {
     "name": "stdout",
     "output_type": "stream",
     "text": [
      "Test update: epoch: 157 |accuracy: 0.8061661124229431 | f1: 0.8581439852714539 | auc: 0.8664456605911255 | treshold: 0.41000000000000003\n"
     ]
    },
    {
     "name": "stderr",
     "output_type": "stream",
     "text": [
      "train... loss:0.8142527639865875:   3%|██▎                                                                       | 159/5000 [15:19<7:41:42,  5.72s/it]"
     ]
    },
    {
     "name": "stdout",
     "output_type": "stream",
     "text": [
      "Test update: epoch: 158 |accuracy: 0.8068431615829468 | f1: 0.8572143316268921 | auc: 0.8683505058288574 | treshold: 0.4\n"
     ]
    },
    {
     "name": "stderr",
     "output_type": "stream",
     "text": [
      "train... loss:0.8155190646648407:   3%|██▎                                                                       | 160/5000 [15:25<7:44:33,  5.76s/it]"
     ]
    },
    {
     "name": "stdout",
     "output_type": "stream",
     "text": [
      "Test update: epoch: 159 |accuracy: 0.8073025941848755 | f1: 0.8583666682243347 | auc: 0.8706117868423462 | treshold: 0.35000000000000003\n"
     ]
    },
    {
     "name": "stderr",
     "output_type": "stream",
     "text": [
      "train... loss:0.818901926279068:   3%|██▍                                                                        | 161/5000 [15:31<7:46:39,  5.79s/it]"
     ]
    },
    {
     "name": "stdout",
     "output_type": "stream",
     "text": [
      "Test update: epoch: 160 |accuracy: 0.8077136874198914 | f1: 0.8571582436561584 | auc: 0.8726993799209595 | treshold: 0.34\n"
     ]
    },
    {
     "name": "stderr",
     "output_type": "stream",
     "text": [
      "train... loss:0.8235664367675781:   3%|██▍                                                                       | 162/5000 [15:37<7:47:05,  5.79s/it]"
     ]
    },
    {
     "name": "stdout",
     "output_type": "stream",
     "text": [
      "Test update: epoch: 161 |accuracy: 0.8087776303291321 | f1: 0.8582897186279297 | auc: 0.8744862079620361 | treshold: 0.3\n"
     ]
    },
    {
     "name": "stderr",
     "output_type": "stream",
     "text": [
      "train... loss:0.8305819034576416:   3%|██▍                                                                       | 163/5000 [15:43<7:47:04,  5.79s/it]"
     ]
    },
    {
     "name": "stdout",
     "output_type": "stream",
     "text": [
      "Test update: epoch: 162 |accuracy: 0.8077378869056702 | f1: 0.8575523495674133 | auc: 0.875700831413269 | treshold: 0.27\n"
     ]
    },
    {
     "name": "stderr",
     "output_type": "stream",
     "text": [
      "train... loss:0.8117846846580505:   4%|██▋                                                                       | 182/5000 [17:23<7:32:31,  5.64s/it]"
     ]
    },
    {
     "name": "stdout",
     "output_type": "stream",
     "text": [
      "Test update: epoch: 181 |accuracy: 0.8085600137710571 | f1: 0.8600717782974243 | auc: 0.8750866651535034 | treshold: 0.61\n"
     ]
    },
    {
     "name": "stderr",
     "output_type": "stream",
     "text": [
      "train... loss:0.8089973032474518:   4%|██▋                                                                       | 183/5000 [17:29<7:43:31,  5.77s/it]"
     ]
    },
    {
     "name": "stdout",
     "output_type": "stream",
     "text": [
      "Test update: epoch: 182 |accuracy: 0.809575617313385 | f1: 0.8606909513473511 | auc: 0.8764299750328064 | treshold: 0.6\n"
     ]
    },
    {
     "name": "stderr",
     "output_type": "stream",
     "text": [
      "train... loss:0.8034673035144806:   4%|██▋                                                                       | 184/5000 [17:35<7:48:58,  5.84s/it]"
     ]
    },
    {
     "name": "stdout",
     "output_type": "stream",
     "text": [
      "Test update: epoch: 183 |accuracy: 0.8117035627365112 | f1: 0.8622866868972778 | auc: 0.8775988817214966 | treshold: 0.5800000000000001\n"
     ]
    },
    {
     "name": "stderr",
     "output_type": "stream",
     "text": [
      "train... loss:0.7972201108932495:   4%|██▋                                                                       | 185/5000 [17:41<7:51:12,  5.87s/it]"
     ]
    },
    {
     "name": "stdout",
     "output_type": "stream",
     "text": [
      "Test update: epoch: 184 |accuracy: 0.8127917051315308 | f1: 0.862871527671814 | auc: 0.8783386945724487 | treshold: 0.56\n"
     ]
    },
    {
     "name": "stderr",
     "output_type": "stream",
     "text": [
      "train... loss:0.7975871860980988:   4%|██▉                                                                       | 195/5000 [18:35<7:15:08,  5.43s/it]"
     ]
    },
    {
     "name": "stdout",
     "output_type": "stream",
     "text": [
      "Test update: epoch: 194 |accuracy: 0.8123806118965149 | f1: 0.8616317510604858 | auc: 0.8847193717956543 | treshold: 0.33\n"
     ]
    },
    {
     "name": "stderr",
     "output_type": "stream",
     "text": [
      "train... loss:0.781568169593811:   4%|██▉                                                                        | 196/5000 [18:41<7:25:26,  5.56s/it]"
     ]
    },
    {
     "name": "stdout",
     "output_type": "stream",
     "text": [
      "Test update: epoch: 195 |accuracy: 0.8150163292884827 | f1: 0.8632463216781616 | auc: 0.8886467218399048 | treshold: 0.34\n"
     ]
    },
    {
     "name": "stderr",
     "output_type": "stream",
     "text": [
      "train... loss:0.7670656144618988:   4%|██▉                                                                       | 197/5000 [18:46<7:30:51,  5.63s/it]"
     ]
    },
    {
     "name": "stdout",
     "output_type": "stream",
     "text": [
      "Test update: epoch: 196 |accuracy: 0.8154274225234985 | f1: 0.8640533089637756 | auc: 0.8896024227142334 | treshold: 0.34\n"
     ]
    },
    {
     "name": "stderr",
     "output_type": "stream",
     "text": [
      "train... loss:0.7449159026145935:   4%|███▎                                                                      | 221/5000 [20:53<7:04:40,  5.33s/it]"
     ]
    },
    {
     "name": "stdout",
     "output_type": "stream",
     "text": [
      "Test update: epoch: 220 |accuracy: 0.8096481561660767 | f1: 0.8569091558456421 | auc: 0.888992428779602 | treshold: 0.25\n"
     ]
    },
    {
     "name": "stderr",
     "output_type": "stream",
     "text": [
      "train... loss:0.7480059862136841:   4%|███▎                                                                      | 222/5000 [20:58<7:11:14,  5.42s/it]"
     ]
    },
    {
     "name": "stdout",
     "output_type": "stream",
     "text": [
      "Test update: epoch: 221 |accuracy: 0.8091161847114563 | f1: 0.8581134676933289 | auc: 0.8899356126785278 | treshold: 0.24000000000000002\n"
     ]
    },
    {
     "name": "stderr",
     "output_type": "stream",
     "text": [
      "train... loss:0.7484951317310333:   4%|███▎                                                                      | 223/5000 [21:04<7:14:43,  5.46s/it]"
     ]
    },
    {
     "name": "stdout",
     "output_type": "stream",
     "text": [
      "Test update: epoch: 222 |accuracy: 0.8108572363853455 | f1: 0.8597604632377625 | auc: 0.8914694786071777 | treshold: 0.25\n"
     ]
    },
    {
     "name": "stderr",
     "output_type": "stream",
     "text": [
      "train... loss:0.7452113926410675:   4%|███▎                                                                      | 224/5000 [21:09<7:16:34,  5.48s/it]"
     ]
    },
    {
     "name": "stdout",
     "output_type": "stream",
     "text": [
      "Test update: epoch: 223 |accuracy: 0.8140732645988464 | f1: 0.8623350858688354 | auc: 0.8928501605987549 | treshold: 0.27\n"
     ]
    },
    {
     "name": "stderr",
     "output_type": "stream",
     "text": [
      "train... loss:0.7405243217945099:   4%|███▎                                                                      | 225/5000 [21:15<7:19:31,  5.52s/it]"
     ]
    },
    {
     "name": "stdout",
     "output_type": "stream",
     "text": [
      "Test update: epoch: 224 |accuracy: 0.8154999613761902 | f1: 0.8638278245925903 | auc: 0.8942720890045166 | treshold: 0.29000000000000004\n"
     ]
    },
    {
     "name": "stderr",
     "output_type": "stream",
     "text": [
      "train... loss:0.7348150908946991:   5%|███▎                                                                      | 226/5000 [21:21<7:22:57,  5.57s/it]"
     ]
    },
    {
     "name": "stdout",
     "output_type": "stream",
     "text": [
      "Test update: epoch: 225 |accuracy: 0.81755530834198 | f1: 0.8654864430427551 | auc: 0.8952815532684326 | treshold: 0.32\n"
     ]
    },
    {
     "name": "stderr",
     "output_type": "stream",
     "text": [
      "train... loss:0.7310295403003693:   5%|███▎                                                                      | 227/5000 [21:26<7:26:25,  5.61s/it]"
     ]
    },
    {
     "name": "stdout",
     "output_type": "stream",
     "text": [
      "Test update: epoch: 226 |accuracy: 0.8186434507369995 | f1: 0.8665242791175842 | auc: 0.8955103158950806 | treshold: 0.35000000000000003\n"
     ]
    },
    {
     "name": "stderr",
     "output_type": "stream",
     "text": [
      "train... loss:0.7063075304031372:   5%|███▌                                                                      | 244/5000 [22:59<7:16:57,  5.51s/it]"
     ]
    },
    {
     "name": "stdout",
     "output_type": "stream",
     "text": [
      "Test update: epoch: 243 |accuracy: 0.8206504583358765 | f1: 0.8642594218254089 | auc: 0.8978070616722107 | treshold: 0.48000000000000004\n"
     ]
    },
    {
     "name": "stderr",
     "output_type": "stream",
     "text": [
      "train... loss:0.6964596211910248:   5%|███▋                                                                      | 245/5000 [23:04<7:20:02,  5.55s/it]"
     ]
    },
    {
     "name": "stdout",
     "output_type": "stream",
     "text": [
      "Test update: epoch: 244 |accuracy: 0.8212308287620544 | f1: 0.8644207715988159 | auc: 0.8988304138183594 | treshold: 0.43\n"
     ]
    },
    {
     "name": "stderr",
     "output_type": "stream",
     "text": [
      "train... loss:0.6893742382526398:   5%|███▋                                                                      | 246/5000 [23:10<7:25:03,  5.62s/it]"
     ]
    },
    {
     "name": "stdout",
     "output_type": "stream",
     "text": [
      "Test update: epoch: 245 |accuracy: 0.8210373520851135 | f1: 0.8636137247085571 | auc: 0.8987500667572021 | treshold: 0.39\n"
     ]
    },
    {
     "name": "stderr",
     "output_type": "stream",
     "text": [
      "train... loss:0.7093425989151001:   5%|███▊                                                                      | 257/5000 [24:08<6:59:08,  5.30s/it]"
     ]
    },
    {
     "name": "stdout",
     "output_type": "stream",
     "text": [
      "Test update: epoch: 256 |accuracy: 0.8201184868812561 | f1: 0.8653939962387085 | auc: 0.9000159502029419 | treshold: 0.23\n"
     ]
    },
    {
     "name": "stderr",
     "output_type": "stream",
     "text": [
      "train... loss:0.695152074098587:   5%|███▊                                                                       | 258/5000 [24:13<7:07:40,  5.41s/it]"
     ]
    },
    {
     "name": "stdout",
     "output_type": "stream",
     "text": [
      "Test update: epoch: 257 |accuracy: 0.822705864906311 | f1: 0.866971492767334 | auc: 0.9025347828865051 | treshold: 0.26\n"
     ]
    },
    {
     "name": "stderr",
     "output_type": "stream",
     "text": [
      "train... loss:0.6834472417831421:   5%|███▊                                                                      | 259/5000 [24:19<7:11:32,  5.46s/it]"
     ]
    },
    {
     "name": "stdout",
     "output_type": "stream",
     "text": [
      "Test update: epoch: 258 |accuracy: 0.8239874243736267 | f1: 0.8678731322288513 | auc: 0.9035237431526184 | treshold: 0.29000000000000004\n"
     ]
    },
    {
     "name": "stderr",
     "output_type": "stream",
     "text": [
      "train... loss:0.6749243438243866:   5%|███▊                                                                      | 260/5000 [24:25<7:14:38,  5.50s/it]"
     ]
    },
    {
     "name": "stdout",
     "output_type": "stream",
     "text": [
      "Test update: epoch: 259 |accuracy: 0.8256800770759583 | f1: 0.8689249157905579 | auc: 0.9033031463623047 | treshold: 0.33\n"
     ]
    },
    {
     "name": "stderr",
     "output_type": "stream",
     "text": [
      "train... loss:0.6813185513019562:   6%|████                                                                      | 275/5000 [25:45<7:18:11,  5.56s/it]"
     ]
    },
    {
     "name": "stdout",
     "output_type": "stream",
     "text": [
      "Test update: epoch: 274 |accuracy: 0.8296457529067993 | f1: 0.8705938458442688 | auc: 0.9037014842033386 | treshold: 0.52\n"
     ]
    },
    {
     "name": "stderr",
     "output_type": "stream",
     "text": [
      "train... loss:0.670838475227356:   6%|████▏                                                                      | 276/5000 [25:51<7:23:06,  5.63s/it]"
     ]
    },
    {
     "name": "stdout",
     "output_type": "stream",
     "text": [
      "Test update: epoch: 275 |accuracy: 0.8306613564491272 | f1: 0.8711238503456116 | auc: 0.9051445722579956 | treshold: 0.49\n"
     ]
    },
    {
     "name": "stderr",
     "output_type": "stream",
     "text": [
      "train... loss:0.6619968116283417:   6%|████                                                                      | 277/5000 [25:57<7:26:40,  5.67s/it]"
     ]
    },
    {
     "name": "stdout",
     "output_type": "stream",
     "text": [
      "Test update: epoch: 276 |accuracy: 0.8319429159164429 | f1: 0.8718894124031067 | auc: 0.906172513961792 | treshold: 0.46\n"
     ]
    },
    {
     "name": "stderr",
     "output_type": "stream",
     "text": [
      "train... loss:0.6675360202789307:   6%|████▎                                                                     | 291/5000 [27:10<6:58:18,  5.33s/it]"
     ]
    },
    {
     "name": "stdout",
     "output_type": "stream",
     "text": [
      "Test update: epoch: 290 |accuracy: 0.828920304775238 | f1: 0.8706415891647339 | auc: 0.9065325856208801 | treshold: 0.28\n"
     ]
    },
    {
     "name": "stderr",
     "output_type": "stream",
     "text": [
      "train... loss:0.658069521188736:   6%|████▍                                                                      | 292/5000 [27:16<7:06:26,  5.43s/it]"
     ]
    },
    {
     "name": "stdout",
     "output_type": "stream",
     "text": [
      "Test update: epoch: 291 |accuracy: 0.8296215534210205 | f1: 0.8715546131134033 | auc: 0.9071720242500305 | treshold: 0.29000000000000004\n"
     ]
    },
    {
     "name": "stderr",
     "output_type": "stream",
     "text": [
      "train... loss:0.6507192552089691:   6%|████▎                                                                     | 293/5000 [27:21<7:12:57,  5.52s/it]"
     ]
    },
    {
     "name": "stdout",
     "output_type": "stream",
     "text": [
      "Test update: epoch: 292 |accuracy: 0.83070969581604 | f1: 0.8719571232795715 | auc: 0.9075374603271484 | treshold: 0.32\n"
     ]
    },
    {
     "name": "stderr",
     "output_type": "stream",
     "text": [
      "train... loss:0.645575612783432:   6%|████▍                                                                      | 294/5000 [27:27<7:17:09,  5.57s/it]"
     ]
    },
    {
     "name": "stdout",
     "output_type": "stream",
     "text": [
      "Test update: epoch: 293 |accuracy: 0.8315802216529846 | f1: 0.8722978830337524 | auc: 0.9074519276618958 | treshold: 0.35000000000000003\n"
     ]
    },
    {
     "name": "stderr",
     "output_type": "stream",
     "text": [
      "train... loss:0.6441540420055389:   6%|████▎                                                                     | 295/5000 [27:33<7:21:51,  5.63s/it]"
     ]
    },
    {
     "name": "stdout",
     "output_type": "stream",
     "text": [
      "Test update: epoch: 294 |accuracy: 0.8320638537406921 | f1: 0.8729952573776245 | auc: 0.9070688486099243 | treshold: 0.37\n"
     ]
    },
    {
     "name": "stderr",
     "output_type": "stream",
     "text": [
      "train... loss:0.6523885130882263:   6%|████▌                                                                     | 310/5000 [28:54<7:13:26,  5.55s/it]"
     ]
    },
    {
     "name": "stdout",
     "output_type": "stream",
     "text": [
      "Test update: epoch: 309 |accuracy: 0.8340224623680115 | f1: 0.8735538721084595 | auc: 0.9074857831001282 | treshold: 0.48000000000000004\n"
     ]
    },
    {
     "name": "stderr",
     "output_type": "stream",
     "text": [
      "train... loss:0.6440951228141785:   6%|████▌                                                                     | 311/5000 [29:00<7:18:11,  5.61s/it]"
     ]
    },
    {
     "name": "stdout",
     "output_type": "stream",
     "text": [
      "Test update: epoch: 310 |accuracy: 0.835086464881897 | f1: 0.8740209937095642 | auc: 0.9083372354507446 | treshold: 0.46\n"
     ]
    },
    {
     "name": "stderr",
     "output_type": "stream",
     "text": [
      "train... loss:0.6384551823139191:   6%|████▌                                                                     | 312/5000 [29:06<7:23:13,  5.67s/it]"
     ]
    },
    {
     "name": "stdout",
     "output_type": "stream",
     "text": [
      "Test update: epoch: 311 |accuracy: 0.8359569311141968 | f1: 0.8758418560028076 | auc: 0.9090108275413513 | treshold: 0.4\n"
     ]
    },
    {
     "name": "stderr",
     "output_type": "stream",
     "text": [
      "train... loss:0.635617196559906:   6%|████▋                                                                      | 313/5000 [29:12<7:34:14,  5.81s/it]"
     ]
    },
    {
     "name": "stdout",
     "output_type": "stream",
     "text": [
      "Test update: epoch: 312 |accuracy: 0.8367065787315369 | f1: 0.875449538230896 | auc: 0.9092667102813721 | treshold: 0.4\n"
     ]
    },
    {
     "name": "stderr",
     "output_type": "stream",
     "text": [
      "train... loss:0.6768014132976532:   7%|█████▏                                                                    | 349/5000 [32:24<7:01:54,  5.44s/it]"
     ]
    },
    {
     "name": "stdout",
     "output_type": "stream",
     "text": [
      "Test update: epoch: 348 |accuracy: 0.8365373015403748 | f1: 0.8751201033592224 | auc: 0.9093146324157715 | treshold: 0.35000000000000003\n"
     ]
    },
    {
     "name": "stderr",
     "output_type": "stream",
     "text": [
      "train... loss:0.6797304451465607:   7%|█████▏                                                                    | 350/5000 [32:30<7:07:31,  5.52s/it]"
     ]
    },
    {
     "name": "stdout",
     "output_type": "stream",
     "text": [
      "Test update: epoch: 349 |accuracy: 0.8367065787315369 | f1: 0.8753806352615356 | auc: 0.9099332094192505 | treshold: 0.33\n"
     ]
    },
    {
     "name": "stderr",
     "output_type": "stream",
     "text": [
      "train... loss:0.6795196533203125:   7%|█████▏                                                                    | 351/5000 [32:35<7:14:11,  5.60s/it]"
     ]
    },
    {
     "name": "stdout",
     "output_type": "stream",
     "text": [
      "Test update: epoch: 350 |accuracy: 0.837504506111145 | f1: 0.8753200769424438 | auc: 0.9103260040283203 | treshold: 0.33\n"
     ]
    },
    {
     "name": "stderr",
     "output_type": "stream",
     "text": [
      "train... loss:0.6759581565856934:   7%|█████▏                                                                    | 352/5000 [32:41<7:17:20,  5.65s/it]"
     ]
    },
    {
     "name": "stdout",
     "output_type": "stream",
     "text": [
      "Test update: epoch: 351 |accuracy: 0.8374078273773193 | f1: 0.8757805228233337 | auc: 0.9107483625411987 | treshold: 0.31\n"
     ]
    },
    {
     "name": "stderr",
     "output_type": "stream",
     "text": [
      "train... loss:0.6700908243656158:   7%|█████▏                                                                    | 353/5000 [32:47<7:21:51,  5.71s/it]"
     ]
    },
    {
     "name": "stdout",
     "output_type": "stream",
     "text": [
      "Test update: epoch: 352 |accuracy: 0.8368274569511414 | f1: 0.8755119442939758 | auc: 0.9110087156295776 | treshold: 0.3\n"
     ]
    },
    {
     "name": "stderr",
     "output_type": "stream",
     "text": [
      "train... loss:0.6516298651695251:   8%|█████▊                                                                    | 390/5000 [36:04<7:02:08,  5.49s/it]"
     ]
    },
    {
     "name": "stdout",
     "output_type": "stream",
     "text": [
      "Test update: epoch: 389 |accuracy: 0.8363438248634338 | f1: 0.8758939504623413 | auc: 0.9113248586654663 | treshold: 0.31\n"
     ]
    },
    {
     "name": "stderr",
     "output_type": "stream",
     "text": [
      "train... loss:0.6427459418773651:   8%|█████▊                                                                    | 391/5000 [36:10<7:08:16,  5.58s/it]"
     ]
    },
    {
     "name": "stdout",
     "output_type": "stream",
     "text": [
      "Test update: epoch: 390 |accuracy: 0.8375771045684814 | f1: 0.8763552904129028 | auc: 0.9122037291526794 | treshold: 0.33\n"
     ]
    },
    {
     "name": "stderr",
     "output_type": "stream",
     "text": [
      "train... loss:0.6335272192955017:   8%|█████▊                                                                    | 392/5000 [36:16<7:10:06,  5.60s/it]"
     ]
    },
    {
     "name": "stdout",
     "output_type": "stream",
     "text": [
      "Test update: epoch: 391 |accuracy: 0.8380123376846313 | f1: 0.8762766718864441 | auc: 0.9129078984260559 | treshold: 0.35000000000000003\n"
     ]
    },
    {
     "name": "stderr",
     "output_type": "stream",
     "text": [
      "train... loss:0.6256656050682068:   8%|█████▊                                                                    | 393/5000 [36:22<7:14:17,  5.66s/it]"
     ]
    },
    {
     "name": "stdout",
     "output_type": "stream",
     "text": [
      "Test update: epoch: 392 |accuracy: 0.8387377858161926 | f1: 0.8760477900505066 | auc: 0.9133734703063965 | treshold: 0.38\n"
     ]
    },
    {
     "name": "stderr",
     "output_type": "stream",
     "text": [
      "train... loss:0.6183033585548401:   8%|█████▊                                                                    | 394/5000 [36:27<7:15:10,  5.67s/it]"
     ]
    },
    {
     "name": "stdout",
     "output_type": "stream",
     "text": [
      "Test update: epoch: 393 |accuracy: 0.8391730189323425 | f1: 0.8778534531593323 | auc: 0.913655161857605 | treshold: 0.36000000000000004\n"
     ]
    },
    {
     "name": "stderr",
     "output_type": "stream",
     "text": [
      "train... loss:0.6180457770824432:   8%|██████▎                                                                   | 424/5000 [39:07<6:48:26,  5.36s/it]"
     ]
    },
    {
     "name": "stdout",
     "output_type": "stream",
     "text": [
      "Test update: epoch: 423 |accuracy: 0.8391246795654297 | f1: 0.8774024844169617 | auc: 0.9134848117828369 | treshold: 0.29000000000000004\n"
     ]
    },
    {
     "name": "stderr",
     "output_type": "stream",
     "text": [
      "train... loss:0.6141734421253204:   8%|██████▎                                                                   | 425/5000 [39:12<6:56:35,  5.46s/it]"
     ]
    },
    {
     "name": "stdout",
     "output_type": "stream",
     "text": [
      "Test update: epoch: 424 |accuracy: 0.8390520811080933 | f1: 0.8775255084037781 | auc: 0.9141356945037842 | treshold: 0.31\n"
     ]
    },
    {
     "name": "stderr",
     "output_type": "stream",
     "text": [
      "train... loss:0.6112142205238342:   9%|██████▎                                                                   | 426/5000 [39:18<7:04:17,  5.57s/it]"
     ]
    },
    {
     "name": "stdout",
     "output_type": "stream",
     "text": [
      "Test update: epoch: 425 |accuracy: 0.8399226069450378 | f1: 0.8772937655448914 | auc: 0.9145025014877319 | treshold: 0.36000000000000004\n"
     ]
    },
    {
     "name": "stderr",
     "output_type": "stream",
     "text": [
      "train... loss:0.6080215275287628:   9%|██████▎                                                                   | 427/5000 [39:24<7:10:41,  5.65s/it]"
     ]
    },
    {
     "name": "stdout",
     "output_type": "stream",
     "text": [
      "Test update: epoch: 426 |accuracy: 0.8405271172523499 | f1: 0.8788463473320007 | auc: 0.9146286249160767 | treshold: 0.36000000000000004\n"
     ]
    },
    {
     "name": "stderr",
     "output_type": "stream",
     "text": [
      "train... loss:0.6130151748657227:   9%|██████▊                                                                   | 464/5000 [42:42<6:42:25,  5.32s/it]"
     ]
    },
    {
     "name": "stdout",
     "output_type": "stream",
     "text": [
      "Test update: epoch: 463 |accuracy: 0.8406238555908203 | f1: 0.8771962523460388 | auc: 0.9152033925056458 | treshold: 0.32\n"
     ]
    },
    {
     "name": "stderr",
     "output_type": "stream",
     "text": [
      "train... loss:0.604318231344223:   9%|██████▉                                                                    | 465/5000 [42:48<6:49:16,  5.41s/it]"
     ]
    },
    {
     "name": "stdout",
     "output_type": "stream",
     "text": [
      "Test update: epoch: 464 |accuracy: 0.8402127623558044 | f1: 0.8782967329025269 | auc: 0.9156807661056519 | treshold: 0.31\n"
     ]
    },
    {
     "name": "stderr",
     "output_type": "stream",
     "text": [
      "train... loss:0.5968942046165466:   9%|██████▉                                                                   | 466/5000 [42:54<6:56:12,  5.51s/it]"
     ]
    },
    {
     "name": "stdout",
     "output_type": "stream",
     "text": [
      "Test update: epoch: 465 |accuracy: 0.8413251042366028 | f1: 0.8787329792976379 | auc: 0.916021466255188 | treshold: 0.34\n"
     ]
    },
    {
     "name": "stderr",
     "output_type": "stream",
     "text": [
      "train... loss:0.590954452753067:   9%|███████                                                                    | 467/5000 [42:59<7:01:33,  5.58s/it]"
     ]
    },
    {
     "name": "stdout",
     "output_type": "stream",
     "text": [
      "Test update: epoch: 466 |accuracy: 0.8414943814277649 | f1: 0.8793817162513733 | auc: 0.9162696599960327 | treshold: 0.35000000000000003\n"
     ]
    },
    {
     "name": "stderr",
     "output_type": "stream",
     "text": [
      "train... loss:0.5867639482021332:   9%|██████▊                                                                  | 468/5000 [43:14<10:35:56,  8.42s/it]"
     ]
    },
    {
     "name": "stdout",
     "output_type": "stream",
     "text": [
      "Test update: epoch: 467 |accuracy: 0.8424615859985352 | f1: 0.8793228268623352 | auc: 0.9164509773254395 | treshold: 0.39\n"
     ]
    },
    {
     "name": "stderr",
     "output_type": "stream",
     "text": [
      "train... loss:0.5850330591201782:   9%|██████▊                                                                  | 469/5000 [43:24<10:54:11,  8.66s/it]"
     ]
    },
    {
     "name": "stdout",
     "output_type": "stream",
     "text": [
      "Test update: epoch: 468 |accuracy: 0.8423890471458435 | f1: 0.8797594308853149 | auc: 0.9165952205657959 | treshold: 0.4\n"
     ]
    },
    {
     "name": "stderr",
     "output_type": "stream",
     "text": [
      "train... loss:0.61337611079216:  10%|███████▌                                                                   | 503/5000 [48:41<16:51:27, 13.50s/it]"
     ]
    },
    {
     "name": "stdout",
     "output_type": "stream",
     "text": [
      "Test update: epoch: 502 |accuracy: 0.841881275177002 | f1: 0.879800021648407 | auc: 0.9167191982269287 | treshold: 0.29000000000000004\n"
     ]
    },
    {
     "name": "stderr",
     "output_type": "stream",
     "text": [
      "train... loss:0.6042701900005341:  10%|███████▎                                                                 | 504/5000 [48:55<16:59:19, 13.60s/it]"
     ]
    },
    {
     "name": "stdout",
     "output_type": "stream",
     "text": [
      "Test update: epoch: 503 |accuracy: 0.8425825238227844 | f1: 0.8802692294120789 | auc: 0.9170968532562256 | treshold: 0.31\n"
     ]
    },
    {
     "name": "stderr",
     "output_type": "stream",
     "text": [
      "train... loss:0.5957280993461609:  10%|███████▎                                                                 | 505/5000 [49:09<17:14:41, 13.81s/it]"
     ]
    },
    {
     "name": "stdout",
     "output_type": "stream",
     "text": [
      "Test update: epoch: 504 |accuracy: 0.8428968787193298 | f1: 0.88008713722229 | auc: 0.9174221158027649 | treshold: 0.34\n"
     ]
    },
    {
     "name": "stderr",
     "output_type": "stream",
     "text": [
      "train... loss:0.5883210599422455:  10%|███████▍                                                                 | 506/5000 [49:25<17:44:45, 14.22s/it]"
     ]
    },
    {
     "name": "stdout",
     "output_type": "stream",
     "text": [
      "Test update: epoch: 505 |accuracy: 0.8438640832901001 | f1: 0.8804635405540466 | auc: 0.917678713798523 | treshold: 0.37\n"
     ]
    },
    {
     "name": "stderr",
     "output_type": "stream",
     "text": [
      "train... loss:0.5825286507606506:  10%|███████▍                                                                 | 507/5000 [49:41<18:33:48, 14.87s/it]"
     ]
    },
    {
     "name": "stdout",
     "output_type": "stream",
     "text": [
      "Test update: epoch: 506 |accuracy: 0.8435497283935547 | f1: 0.8802915811538696 | auc: 0.9178582429885864 | treshold: 0.39\n"
     ]
    },
    {
     "name": "stderr",
     "output_type": "stream",
     "text": [
      "train... loss:0.604829877614975:  11%|███████▉                                                                  | 539/5000 [57:40<16:03:02, 12.95s/it]"
     ]
    },
    {
     "name": "stdout",
     "output_type": "stream",
     "text": [
      "Test update: epoch: 538 |accuracy: 0.8439366221427917 | f1: 0.8803485631942749 | auc: 0.9177079200744629 | treshold: 0.3\n"
     ]
    },
    {
     "name": "stderr",
     "output_type": "stream",
     "text": [
      "train... loss:0.6000598967075348:  11%|███████▉                                                                 | 540/5000 [57:54<16:30:36, 13.33s/it]"
     ]
    },
    {
     "name": "stdout",
     "output_type": "stream",
     "text": [
      "Test update: epoch: 539 |accuracy: 0.8434288501739502 | f1: 0.8804755210876465 | auc: 0.9181398153305054 | treshold: 0.31\n"
     ]
    },
    {
     "name": "stderr",
     "output_type": "stream",
     "text": [
      "train... loss:0.5955043137073517:  11%|███████▉                                                                 | 541/5000 [58:05<15:52:21, 12.81s/it]"
     ]
    },
    {
     "name": "stdout",
     "output_type": "stream",
     "text": [
      "Test update: epoch: 540 |accuracy: 0.8448071479797363 | f1: 0.8804975152015686 | auc: 0.918454647064209 | treshold: 0.36000000000000004\n"
     ]
    },
    {
     "name": "stderr",
     "output_type": "stream",
     "text": [
      "train... loss:0.5913992822170258:  11%|███████▉                                                                 | 542/5000 [58:17<15:21:01, 12.40s/it]"
     ]
    },
    {
     "name": "stdout",
     "output_type": "stream",
     "text": [
      "Test update: epoch: 541 |accuracy: 0.8450006246566772 | f1: 0.8804817795753479 | auc: 0.9186995029449463 | treshold: 0.39\n"
     ]
    },
    {
     "name": "stderr",
     "output_type": "stream",
     "text": [
      "train... loss:0.588099479675293:  11%|████████                                                                  | 543/5000 [58:28<14:54:20, 12.04s/it]"
     ]
    },
    {
     "name": "stdout",
     "output_type": "stream",
     "text": [
      "Test update: epoch: 542 |accuracy: 0.8444444537162781 | f1: 0.8809210658073425 | auc: 0.9189066886901855 | treshold: 0.39\n"
     ]
    },
    {
     "name": "stderr",
     "output_type": "stream",
     "text": [
      "train... loss:0.5854813456535339:  11%|███████▉                                                                 | 544/5000 [58:39<14:28:21, 11.69s/it]"
     ]
    },
    {
     "name": "stdout",
     "output_type": "stream",
     "text": [
      "Test update: epoch: 543 |accuracy: 0.8453391194343567 | f1: 0.8804441094398499 | auc: 0.9191025495529175 | treshold: 0.45\n"
     ]
    },
    {
     "name": "stderr",
     "output_type": "stream",
     "text": [
      "train... loss:0.5844554603099823:  11%|███████▉                                                                 | 545/5000 [58:51<14:29:35, 11.71s/it]"
     ]
    },
    {
     "name": "stdout",
     "output_type": "stream",
     "text": [
      "Test update: epoch: 544 |accuracy: 0.8453633189201355 | f1: 0.880634605884552 | auc: 0.9193045496940613 | treshold: 0.47000000000000003\n"
     ]
    },
    {
     "name": "stderr",
     "output_type": "stream",
     "text": [
      "train... loss:0.5835804343223572:  11%|███████▉                                                                 | 546/5000 [59:03<14:31:39, 11.74s/it]"
     ]
    },
    {
     "name": "stdout",
     "output_type": "stream",
     "text": [
      "Test update: epoch: 545 |accuracy: 0.8455325961112976 | f1: 0.880856454372406 | auc: 0.9195240139961243 | treshold: 0.49\n"
     ]
    },
    {
     "name": "stderr",
     "output_type": "stream",
     "text": [
      "train... loss:0.584308922290802:  11%|████████                                                                  | 547/5000 [59:14<14:31:31, 11.74s/it]"
     ]
    },
    {
     "name": "stdout",
     "output_type": "stream",
     "text": [
      "Test update: epoch: 546 |accuracy: 0.8456776738166809 | f1: 0.8806790709495544 | auc: 0.9197525978088379 | treshold: 0.52\n"
     ]
    },
    {
     "name": "stderr",
     "output_type": "stream",
     "text": [
      "train... loss:0.5855856537818909:  11%|████████                                                                 | 548/5000 [59:26<14:39:19, 11.85s/it]"
     ]
    },
    {
     "name": "stdout",
     "output_type": "stream",
     "text": [
      "Test update: epoch: 547 |accuracy: 0.8456776738166809 | f1: 0.8820201754570007 | auc: 0.9199779033660889 | treshold: 0.5\n"
     ]
    },
    {
     "name": "stderr",
     "output_type": "stream",
     "text": [
      "train... loss:0.5882121324539185:  11%|████████                                                                 | 549/5000 [59:38<14:36:08, 11.81s/it]"
     ]
    },
    {
     "name": "stdout",
     "output_type": "stream",
     "text": [
      "Test update: epoch: 548 |accuracy: 0.8467658162117004 | f1: 0.8820386528968811 | auc: 0.9201767444610596 | treshold: 0.54\n"
     ]
    },
    {
     "name": "stderr",
     "output_type": "stream",
     "text": [
      "train... loss:0.5910448133945465:  11%|████████                                                                 | 550/5000 [59:50<14:38:28, 11.84s/it]"
     ]
    },
    {
     "name": "stdout",
     "output_type": "stream",
     "text": [
      "Test update: epoch: 549 |accuracy: 0.8476846814155579 | f1: 0.8818619847297668 | auc: 0.9203313589096069 | treshold: 0.5800000000000001\n"
     ]
    },
    {
     "name": "stderr",
     "output_type": "stream",
     "text": [
      "train... loss:0.5912042260169983:  11%|████████                                                                | 559/5000 [1:01:43<8:10:26,  6.63s/it]\n"
     ]
    },
    {
     "name": "stdout",
     "output_type": "stream",
     "text": [
      "\n",
      "Evaluating FlattenedGRU with explicit embeddings\n"
     ]
    },
    {
     "name": "stderr",
     "output_type": "stream",
     "text": [
      "\r",
      "train:   0%|                                                                                                                 | 0/5000 [00:00<?, ?it/s]"
     ]
    },
    {
     "name": "stdout",
     "output_type": "stream",
     "text": [
      "Test before learning: {'f1': 0.46588200330734253, 'roc-auc': 0.49333810806274414, 'accuracy': 0.45791319012641907}\n"
     ]
    },
    {
     "name": "stderr",
     "output_type": "stream",
     "text": [
      "train... loss:1.4141518473625183:   0%|                                                                           | 1/5000 [00:09<13:43:55,  9.89s/it]"
     ]
    },
    {
     "name": "stdout",
     "output_type": "stream",
     "text": [
      "Test update: epoch: 0 |accuracy: 0.6443235278129578 | f1: 0.7836943864822388 | auc: 0.5100247859954834 | treshold: 0.01\n"
     ]
    },
    {
     "name": "stderr",
     "output_type": "stream",
     "text": [
      "train... loss:1.3986365795135498:   0%|                                                                           | 2/5000 [00:19<13:44:37,  9.90s/it]"
     ]
    },
    {
     "name": "stdout",
     "output_type": "stream",
     "text": [
      "Test update: epoch: 1 |accuracy: 0.6443235278129578 | f1: 0.7836943864822388 | auc: 0.5267837643623352 | treshold: 0.01\n"
     ]
    },
    {
     "name": "stderr",
     "output_type": "stream",
     "text": [
      "train... loss:1.3841505646705627:   0%|                                                                           | 3/5000 [00:29<13:46:06,  9.92s/it]"
     ]
    },
    {
     "name": "stdout",
     "output_type": "stream",
     "text": [
      "Test update: epoch: 2 |accuracy: 0.6443235278129578 | f1: 0.7836943864822388 | auc: 0.5435924530029297 | treshold: 0.33\n"
     ]
    },
    {
     "name": "stderr",
     "output_type": "stream",
     "text": [
      "train... loss:1.3702109456062317:   0%|                                                                           | 4/5000 [00:39<13:40:08,  9.85s/it]"
     ]
    },
    {
     "name": "stdout",
     "output_type": "stream",
     "text": [
      "Test update: epoch: 3 |accuracy: 0.6443235278129578 | f1: 0.7836943864822388 | auc: 0.5598670244216919 | treshold: 0.34\n"
     ]
    },
    {
     "name": "stderr",
     "output_type": "stream",
     "text": [
      "train... loss:1.3567402362823486:   0%|                                                                           | 5/5000 [00:49<13:35:04,  9.79s/it]"
     ]
    },
    {
     "name": "stdout",
     "output_type": "stream",
     "text": [
      "Test update: epoch: 4 |accuracy: 0.6443235278129578 | f1: 0.7836943864822388 | auc: 0.5750735402107239 | treshold: 0.35000000000000003\n"
     ]
    },
    {
     "name": "stderr",
     "output_type": "stream",
     "text": [
      "train... loss:1.343891441822052:   0%|                                                                            | 6/5000 [00:59<13:39:06,  9.84s/it]"
     ]
    },
    {
     "name": "stdout",
     "output_type": "stream",
     "text": [
      "Test update: epoch: 5 |accuracy: 0.6443235278129578 | f1: 0.7836943864822388 | auc: 0.5888855457305908 | treshold: 0.35000000000000003\n"
     ]
    },
    {
     "name": "stderr",
     "output_type": "stream",
     "text": [
      "train... loss:1.3317771553993225:   0%|                                                                           | 7/5000 [01:08<13:31:45,  9.75s/it]"
     ]
    },
    {
     "name": "stdout",
     "output_type": "stream",
     "text": [
      "Test update: epoch: 6 |accuracy: 0.6442993879318237 | f1: 0.7836764454841614 | auc: 0.6012411117553711 | treshold: 0.36000000000000004\n"
     ]
    },
    {
     "name": "stderr",
     "output_type": "stream",
     "text": [
      "train... loss:1.3203084468841553:   0%|                                                                           | 8/5000 [01:18<13:42:41,  9.89s/it]"
     ]
    },
    {
     "name": "stdout",
     "output_type": "stream",
     "text": [
      "Test update: epoch: 7 |accuracy: 0.6443235278129578 | f1: 0.7836943864822388 | auc: 0.6122599840164185 | treshold: 0.01\n"
     ]
    },
    {
     "name": "stderr",
     "output_type": "stream",
     "text": [
      "train... loss:1.309324562549591:   0%|▏                                                                           | 9/5000 [01:28<13:44:24,  9.91s/it]"
     ]
    },
    {
     "name": "stdout",
     "output_type": "stream",
     "text": [
      "Test update: epoch: 8 |accuracy: 0.6457985639572144 | f1: 0.7842519283294678 | auc: 0.6220945119857788 | treshold: 0.42000000000000004\n"
     ]
    },
    {
     "name": "stderr",
     "output_type": "stream",
     "text": [
      "train... loss:1.2988035678863525:   0%|▏                                                                         | 10/5000 [01:39<13:56:10, 10.05s/it]"
     ]
    },
    {
     "name": "stdout",
     "output_type": "stream",
     "text": [
      "Test update: epoch: 9 |accuracy: 0.6492564678192139 | f1: 0.7851079106330872 | auc: 0.6309751272201538 | treshold: 0.45\n"
     ]
    },
    {
     "name": "stderr",
     "output_type": "stream",
     "text": [
      "train... loss:1.289082944393158:   0%|▏                                                                          | 11/5000 [01:49<14:03:23, 10.14s/it]"
     ]
    },
    {
     "name": "stdout",
     "output_type": "stream",
     "text": [
      "Test update: epoch: 10 |accuracy: 0.6535364389419556 | f1: 0.7861045598983765 | auc: 0.6390656232833862 | treshold: 0.47000000000000003\n"
     ]
    },
    {
     "name": "stderr",
     "output_type": "stream",
     "text": [
      "train... loss:1.280159592628479:   0%|▏                                                                          | 12/5000 [01:59<14:09:23, 10.22s/it]"
     ]
    },
    {
     "name": "stdout",
     "output_type": "stream",
     "text": [
      "Test update: epoch: 11 |accuracy: 0.6534155607223511 | f1: 0.7863647937774658 | auc: 0.6465551257133484 | treshold: 0.47000000000000003\n"
     ]
    },
    {
     "name": "stderr",
     "output_type": "stream",
     "text": [
      "train... loss:1.2714625597000122:   0%|▏                                                                         | 13/5000 [02:10<14:12:02, 10.25s/it]"
     ]
    },
    {
     "name": "stdout",
     "output_type": "stream",
     "text": [
      "Test update: epoch: 12 |accuracy: 0.6583242416381836 | f1: 0.7873269319534302 | auc: 0.6535712480545044 | treshold: 0.49\n"
     ]
    },
    {
     "name": "stderr",
     "output_type": "stream",
     "text": [
      "train... loss:1.2634963989257812:   0%|▏                                                                         | 14/5000 [02:20<14:14:17, 10.28s/it]"
     ]
    },
    {
     "name": "stdout",
     "output_type": "stream",
     "text": [
      "Test update: epoch: 13 |accuracy: 0.6616370677947998 | f1: 0.7883279919624329 | auc: 0.6602254509925842 | treshold: 0.5\n"
     ]
    },
    {
     "name": "stderr",
     "output_type": "stream",
     "text": [
      "train... loss:1.256397306919098:   0%|▏                                                                          | 15/5000 [02:31<14:25:54, 10.42s/it]"
     ]
    },
    {
     "name": "stdout",
     "output_type": "stream",
     "text": [
      "Test update: epoch: 14 |accuracy: 0.6651191115379333 | f1: 0.7894361019134521 | auc: 0.6665599346160889 | treshold: 0.51\n"
     ]
    },
    {
     "name": "stderr",
     "output_type": "stream",
     "text": [
      "train... loss:1.2501871585845947:   0%|▏                                                                         | 16/5000 [02:42<14:34:02, 10.52s/it]"
     ]
    },
    {
     "name": "stdout",
     "output_type": "stream",
     "text": [
      "Test update: epoch: 15 |accuracy: 0.6652399897575378 | f1: 0.7901216149330139 | auc: 0.6726231575012207 | treshold: 0.51\n"
     ]
    },
    {
     "name": "stderr",
     "output_type": "stream",
     "text": [
      "train... loss:1.244916319847107:   0%|▎                                                                          | 17/5000 [02:53<14:45:42, 10.66s/it]"
     ]
    },
    {
     "name": "stdout",
     "output_type": "stream",
     "text": [
      "Test update: epoch: 16 |accuracy: 0.6691089272499084 | f1: 0.7914406061172485 | auc: 0.6784021854400635 | treshold: 0.52\n"
     ]
    },
    {
     "name": "stderr",
     "output_type": "stream",
     "text": [
      "train... loss:1.2402428984642029:   0%|▎                                                                         | 18/5000 [03:04<14:54:48, 10.78s/it]"
     ]
    },
    {
     "name": "stdout",
     "output_type": "stream",
     "text": [
      "Test update: epoch: 17 |accuracy: 0.6729053258895874 | f1: 0.7926864624023438 | auc: 0.683896005153656 | treshold: 0.53\n"
     ]
    },
    {
     "name": "stderr",
     "output_type": "stream",
     "text": [
      "train... loss:1.2356193661689758:   0%|▎                                                                         | 19/5000 [03:14<14:55:42, 10.79s/it]"
     ]
    },
    {
     "name": "stdout",
     "output_type": "stream",
     "text": [
      "Test update: epoch: 18 |accuracy: 0.6762906312942505 | f1: 0.7935665845870972 | auc: 0.6890770196914673 | treshold: 0.54\n"
     ]
    },
    {
     "name": "stderr",
     "output_type": "stream",
     "text": [
      "train... loss:1.2321153283119202:   0%|▎                                                                         | 20/5000 [03:26<15:11:04, 10.98s/it]"
     ]
    },
    {
     "name": "stdout",
     "output_type": "stream",
     "text": [
      "Test update: epoch: 19 |accuracy: 0.6780074834823608 | f1: 0.7946329712867737 | auc: 0.6939022541046143 | treshold: 0.54\n"
     ]
    },
    {
     "name": "stderr",
     "output_type": "stream",
     "text": [
      "train... loss:1.2276803851127625:   0%|▎                                                                         | 21/5000 [03:38<15:33:54, 11.25s/it]"
     ]
    },
    {
     "name": "stdout",
     "output_type": "stream",
     "text": [
      "Test update: epoch: 20 |accuracy: 0.6804739236831665 | f1: 0.7957398295402527 | auc: 0.6983307600021362 | treshold: 0.54\n"
     ]
    },
    {
     "name": "stderr",
     "output_type": "stream",
     "text": [
      "train... loss:1.222705066204071:   0%|▎                                                                          | 22/5000 [03:50<16:07:45, 11.66s/it]"
     ]
    },
    {
     "name": "stdout",
     "output_type": "stream",
     "text": [
      "Test update: epoch: 21 |accuracy: 0.6850441098213196 | f1: 0.79606693983078 | auc: 0.7023378014564514 | treshold: 0.55\n"
     ]
    },
    {
     "name": "stderr",
     "output_type": "stream",
     "text": [
      "train... loss:1.215869128704071:   0%|▎                                                                          | 23/5000 [04:02<15:58:46, 11.56s/it]"
     ]
    },
    {
     "name": "stdout",
     "output_type": "stream",
     "text": [
      "Test update: epoch: 22 |accuracy: 0.687147855758667 | f1: 0.7972291111946106 | auc: 0.7059480547904968 | treshold: 0.54\n"
     ]
    },
    {
     "name": "stderr",
     "output_type": "stream",
     "text": [
      "train... loss:1.207530438899994:   0%|▎                                                                          | 24/5000 [04:13<16:03:43, 11.62s/it]"
     ]
    },
    {
     "name": "stdout",
     "output_type": "stream",
     "text": [
      "Test update: epoch: 23 |accuracy: 0.690146267414093 | f1: 0.7985979914665222 | auc: 0.7091783285140991 | treshold: 0.53\n"
     ]
    },
    {
     "name": "stderr",
     "output_type": "stream",
     "text": [
      "train... loss:1.1980432868003845:   0%|▎                                                                         | 25/5000 [04:25<15:59:55, 11.58s/it]"
     ]
    },
    {
     "name": "stdout",
     "output_type": "stream",
     "text": [
      "Test update: epoch: 24 |accuracy: 0.6938943266868591 | f1: 0.8000189661979675 | auc: 0.7120688557624817 | treshold: 0.52\n"
     ]
    },
    {
     "name": "stderr",
     "output_type": "stream",
     "text": [
      "train... loss:1.1881563663482666:   1%|▍                                                                         | 26/5000 [04:36<15:54:44, 11.52s/it]"
     ]
    },
    {
     "name": "stdout",
     "output_type": "stream",
     "text": [
      "Test update: epoch: 25 |accuracy: 0.6966025829315186 | f1: 0.8004961013793945 | auc: 0.7146627306938171 | treshold: 0.51\n"
     ]
    },
    {
     "name": "stderr",
     "output_type": "stream",
     "text": [
      "train... loss:1.1789122223854065:   1%|▍                                                                         | 27/5000 [04:47<15:44:56, 11.40s/it]"
     ]
    },
    {
     "name": "stdout",
     "output_type": "stream",
     "text": [
      "Test update: epoch: 26 |accuracy: 0.6983677744865417 | f1: 0.801641047000885 | auc: 0.717042088508606 | treshold: 0.49\n"
     ]
    },
    {
     "name": "stderr",
     "output_type": "stream",
     "text": [
      "train... loss:1.170844316482544:   1%|▍                                                                          | 28/5000 [04:58<15:32:56, 11.26s/it]"
     ]
    },
    {
     "name": "stdout",
     "output_type": "stream",
     "text": [
      "Test update: epoch: 27 |accuracy: 0.7015838623046875 | f1: 0.8021038770675659 | auc: 0.7192767858505249 | treshold: 0.48000000000000004\n"
     ]
    },
    {
     "name": "stderr",
     "output_type": "stream",
     "text": [
      "train... loss:1.1644248366355896:   1%|▍                                                                         | 29/5000 [05:09<15:25:34, 11.17s/it]"
     ]
    },
    {
     "name": "stdout",
     "output_type": "stream",
     "text": [
      "Test update: epoch: 28 |accuracy: 0.7034457921981812 | f1: 0.8033291697502136 | auc: 0.7214314937591553 | treshold: 0.46\n"
     ]
    },
    {
     "name": "stderr",
     "output_type": "stream",
     "text": [
      "train... loss:1.1594564318656921:   1%|▍                                                                         | 30/5000 [05:20<15:20:46, 11.12s/it]"
     ]
    },
    {
     "name": "stdout",
     "output_type": "stream",
     "text": [
      "Test update: epoch: 29 |accuracy: 0.7049208283424377 | f1: 0.8044422268867493 | auc: 0.7235980033874512 | treshold: 0.44\n"
     ]
    },
    {
     "name": "stderr",
     "output_type": "stream",
     "text": [
      "train... loss:1.1565263271331787:   1%|▍                                                                         | 31/5000 [05:31<15:15:28, 11.05s/it]"
     ]
    },
    {
     "name": "stdout",
     "output_type": "stream",
     "text": [
      "Test update: epoch: 30 |accuracy: 0.7074598073959351 | f1: 0.8047764897346497 | auc: 0.7258440256118774 | treshold: 0.43\n"
     ]
    },
    {
     "name": "stderr",
     "output_type": "stream",
     "text": [
      "train... loss:1.1545487642288208:   1%|▍                                                                         | 32/5000 [05:42<15:14:04, 11.04s/it]"
     ]
    },
    {
     "name": "stdout",
     "output_type": "stream",
     "text": [
      "Test update: epoch: 31 |accuracy: 0.7086688280105591 | f1: 0.8060715198516846 | auc: 0.7282307147979736 | treshold: 0.41000000000000003\n"
     ]
    },
    {
     "name": "stderr",
     "output_type": "stream",
     "text": [
      "train... loss:1.1536793112754822:   1%|▍                                                                         | 33/5000 [05:54<15:26:27, 11.19s/it]"
     ]
    },
    {
     "name": "stdout",
     "output_type": "stream",
     "text": [
      "Test update: epoch: 32 |accuracy: 0.7095876932144165 | f1: 0.8074209690093994 | auc: 0.7307923436164856 | treshold: 0.39\n"
     ]
    },
    {
     "name": "stderr",
     "output_type": "stream",
     "text": [
      "train... loss:1.1528412699699402:   1%|▌                                                                         | 34/5000 [06:06<15:46:43, 11.44s/it]"
     ]
    },
    {
     "name": "stdout",
     "output_type": "stream",
     "text": [
      "Test update: epoch: 33 |accuracy: 0.7121992707252502 | f1: 0.8085571527481079 | auc: 0.7335432767868042 | treshold: 0.38\n"
     ]
    },
    {
     "name": "stderr",
     "output_type": "stream",
     "text": [
      "train... loss:1.1513050198554993:   1%|▌                                                                         | 35/5000 [06:18<16:01:56, 11.62s/it]"
     ]
    },
    {
     "name": "stdout",
     "output_type": "stream",
     "text": [
      "Test update: epoch: 34 |accuracy: 0.7138919234275818 | f1: 0.8094256520271301 | auc: 0.7364828586578369 | treshold: 0.37\n"
     ]
    },
    {
     "name": "stderr",
     "output_type": "stream",
     "text": [
      "train... loss:1.1487584710121155:   1%|▌                                                                         | 36/5000 [06:31<16:33:03, 12.00s/it]"
     ]
    },
    {
     "name": "stdout",
     "output_type": "stream",
     "text": [
      "Test update: epoch: 35 |accuracy: 0.7174223065376282 | f1: 0.8103291392326355 | auc: 0.7395470142364502 | treshold: 0.37\n"
     ]
    },
    {
     "name": "stderr",
     "output_type": "stream",
     "text": [
      "train... loss:1.1447701454162598:   1%|▌                                                                         | 37/5000 [06:43<16:39:43, 12.09s/it]"
     ]
    },
    {
     "name": "stdout",
     "output_type": "stream",
     "text": [
      "Test update: epoch: 36 |accuracy: 0.7186071872711182 | f1: 0.8116716146469116 | auc: 0.7426843643188477 | treshold: 0.36000000000000004\n"
     ]
    },
    {
     "name": "stderr",
     "output_type": "stream",
     "text": [
      "train... loss:1.1392894387245178:   1%|▌                                                                         | 38/5000 [06:56<16:52:25, 12.24s/it]"
     ]
    },
    {
     "name": "stdout",
     "output_type": "stream",
     "text": [
      "Test update: epoch: 37 |accuracy: 0.718631386756897 | f1: 0.8125704526901245 | auc: 0.7458218336105347 | treshold: 0.35000000000000003\n"
     ]
    },
    {
     "name": "stderr",
     "output_type": "stream",
     "text": [
      "train... loss:1.131916105747223:   1%|▌                                                                          | 39/5000 [07:08<16:52:09, 12.24s/it]"
     ]
    },
    {
     "name": "stdout",
     "output_type": "stream",
     "text": [
      "Test update: epoch: 38 |accuracy: 0.7211461663246155 | f1: 0.8139640092849731 | auc: 0.7488937973976135 | treshold: 0.35000000000000003\n"
     ]
    },
    {
     "name": "stderr",
     "output_type": "stream",
     "text": [
      "train... loss:1.1232788562774658:   1%|▌                                                                         | 40/5000 [07:20<16:56:58, 12.30s/it]"
     ]
    },
    {
     "name": "stdout",
     "output_type": "stream",
     "text": [
      "Test update: epoch: 39 |accuracy: 0.7219924926757812 | f1: 0.8146870732307434 | auc: 0.751846969127655 | treshold: 0.35000000000000003\n"
     ]
    },
    {
     "name": "stderr",
     "output_type": "stream",
     "text": [
      "train... loss:1.1136114597320557:   1%|▌                                                                         | 41/5000 [07:33<17:00:44, 12.35s/it]"
     ]
    },
    {
     "name": "stdout",
     "output_type": "stream",
     "text": [
      "Test update: epoch: 40 |accuracy: 0.7249909043312073 | f1: 0.8159500360488892 | auc: 0.7546477317810059 | treshold: 0.36000000000000004\n"
     ]
    },
    {
     "name": "stderr",
     "output_type": "stream",
     "text": [
      "train... loss:1.1035985946655273:   1%|▌                                                                         | 42/5000 [07:46<17:20:04, 12.59s/it]"
     ]
    },
    {
     "name": "stdout",
     "output_type": "stream",
     "text": [
      "Test update: epoch: 41 |accuracy: 0.7250635027885437 | f1: 0.816748857498169 | auc: 0.7572636604309082 | treshold: 0.36000000000000004\n"
     ]
    },
    {
     "name": "stderr",
     "output_type": "stream",
     "text": [
      "train... loss:1.0940910577774048:   1%|▋                                                                         | 43/5000 [07:59<17:24:04, 12.64s/it]"
     ]
    },
    {
     "name": "stdout",
     "output_type": "stream",
     "text": [
      "Test update: epoch: 42 |accuracy: 0.7258614301681519 | f1: 0.8171834945678711 | auc: 0.7596961259841919 | treshold: 0.37\n"
     ]
    },
    {
     "name": "stderr",
     "output_type": "stream",
     "text": [
      "train... loss:1.0859403014183044:   1%|▋                                                                         | 44/5000 [08:11<17:17:06, 12.56s/it]"
     ]
    },
    {
     "name": "stdout",
     "output_type": "stream",
     "text": [
      "Test update: epoch: 43 |accuracy: 0.7262483239173889 | f1: 0.8175179958343506 | auc: 0.761933445930481 | treshold: 0.38\n"
     ]
    },
    {
     "name": "stderr",
     "output_type": "stream",
     "text": [
      "train... loss:1.0800044536590576:   1%|▋                                                                         | 45/5000 [08:26<18:18:56, 13.31s/it]"
     ]
    },
    {
     "name": "stdout",
     "output_type": "stream",
     "text": [
      "Test update: epoch: 44 |accuracy: 0.7281102538108826 | f1: 0.8181524276733398 | auc: 0.7639850378036499 | treshold: 0.4\n"
     ]
    },
    {
     "name": "stderr",
     "output_type": "stream",
     "text": [
      "train... loss:1.0769597291946411:   1%|▋                                                                         | 46/5000 [08:39<18:11:33, 13.22s/it]"
     ]
    },
    {
     "name": "stdout",
     "output_type": "stream",
     "text": [
      "Test update: epoch: 45 |accuracy: 0.729004979133606 | f1: 0.8184307217597961 | auc: 0.7658864259719849 | treshold: 0.42000000000000004\n"
     ]
    },
    {
     "name": "stderr",
     "output_type": "stream",
     "text": [
      "train... loss:1.0761512517929077:   1%|▋                                                                         | 47/5000 [08:54<18:56:28, 13.77s/it]"
     ]
    },
    {
     "name": "stdout",
     "output_type": "stream",
     "text": [
      "Test update: epoch: 46 |accuracy: 0.7281827926635742 | f1: 0.818550169467926 | auc: 0.7676822543144226 | treshold: 0.43\n"
     ]
    },
    {
     "name": "stderr",
     "output_type": "stream",
     "text": [
      "train... loss:1.080005168914795:   1%|▋                                                                          | 48/5000 [09:11<20:07:11, 14.63s/it]"
     ]
    },
    {
     "name": "stdout",
     "output_type": "stream",
     "text": [
      "Test update: epoch: 47 |accuracy: 0.7300447225570679 | f1: 0.8188191652297974 | auc: 0.7694212794303894 | treshold: 0.46\n"
     ]
    },
    {
     "name": "stderr",
     "output_type": "stream",
     "text": [
      "train... loss:1.0855239629745483:   1%|▋                                                                         | 49/5000 [09:25<19:45:34, 14.37s/it]"
     ]
    },
    {
     "name": "stdout",
     "output_type": "stream",
     "text": [
      "Test update: epoch: 48 |accuracy: 0.7287631630897522 | f1: 0.8185215592384338 | auc: 0.7712160348892212 | treshold: 0.47000000000000003\n"
     ]
    },
    {
     "name": "stderr",
     "output_type": "stream",
     "text": [
      "train... loss:1.092140018939972:   1%|▊                                                                          | 50/5000 [09:39<19:48:20, 14.40s/it]"
     ]
    },
    {
     "name": "stdout",
     "output_type": "stream",
     "text": [
      "Test update: epoch: 49 |accuracy: 0.7325111627578735 | f1: 0.8196315169334412 | auc: 0.7731609344482422 | treshold: 0.5\n"
     ]
    },
    {
     "name": "stderr",
     "output_type": "stream",
     "text": [
      "train... loss:1.0957673788070679:   1%|▊                                                                         | 51/5000 [09:53<19:46:48, 14.39s/it]"
     ]
    },
    {
     "name": "stdout",
     "output_type": "stream",
     "text": [
      "Test update: epoch: 50 |accuracy: 0.735364556312561 | f1: 0.8206019401550293 | auc: 0.7753409743309021 | treshold: 0.52\n"
     ]
    },
    {
     "name": "stderr",
     "output_type": "stream",
     "text": [
      "train... loss:1.0952196717262268:   1%|▊                                                                         | 52/5000 [10:09<20:27:58, 14.89s/it]"
     ]
    },
    {
     "name": "stdout",
     "output_type": "stream",
     "text": [
      "Test update: epoch: 51 |accuracy: 0.7377100586891174 | f1: 0.8220081925392151 | auc: 0.777764081954956 | treshold: 0.52\n"
     ]
    },
    {
     "name": "stderr",
     "output_type": "stream",
     "text": [
      "train... loss:1.0881829261779785:   1%|▊                                                                         | 53/5000 [10:24<20:08:30, 14.66s/it]"
     ]
    },
    {
     "name": "stdout",
     "output_type": "stream",
     "text": [
      "Test update: epoch: 52 |accuracy: 0.7419175505638123 | f1: 0.8231688141822815 | auc: 0.7802927494049072 | treshold: 0.53\n"
     ]
    },
    {
     "name": "stderr",
     "output_type": "stream",
     "text": [
      "train... loss:1.0760509967803955:   1%|▊                                                                         | 54/5000 [10:44<22:27:09, 16.34s/it]"
     ]
    },
    {
     "name": "stdout",
     "output_type": "stream",
     "text": [
      "Test update: epoch: 53 |accuracy: 0.743972897529602 | f1: 0.8242188692092896 | auc: 0.782760500907898 | treshold: 0.52\n"
     ]
    },
    {
     "name": "stderr",
     "output_type": "stream",
     "text": [
      "train... loss:1.0611023902893066:   1%|▊                                                                         | 55/5000 [10:58<21:33:48, 15.70s/it]"
     ]
    },
    {
     "name": "stdout",
     "output_type": "stream",
     "text": [
      "Test update: epoch: 54 |accuracy: 0.7465360760688782 | f1: 0.8252009749412537 | auc: 0.7850465774536133 | treshold: 0.51\n"
     ]
    },
    {
     "name": "stderr",
     "output_type": "stream",
     "text": [
      "train... loss:1.0478026866912842:   1%|▊                                                                         | 56/5000 [11:15<22:08:01, 16.12s/it]"
     ]
    },
    {
     "name": "stdout",
     "output_type": "stream",
     "text": [
      "Test update: epoch: 55 |accuracy: 0.7489783763885498 | f1: 0.8266626596450806 | auc: 0.7870837450027466 | treshold: 0.49\n"
     ]
    },
    {
     "name": "stderr",
     "output_type": "stream",
     "text": [
      "train... loss:1.0351428985595703:   1%|▊                                                                         | 57/5000 [11:29<21:11:28, 15.43s/it]"
     ]
    },
    {
     "name": "stdout",
     "output_type": "stream",
     "text": [
      "Test update: epoch: 56 |accuracy: 0.7500906586647034 | f1: 0.8280509114265442 | auc: 0.7888308763504028 | treshold: 0.46\n"
     ]
    },
    {
     "name": "stderr",
     "output_type": "stream",
     "text": [
      "train... loss:1.0259664058685303:   1%|▊                                                                         | 58/5000 [11:44<20:48:25, 15.16s/it]"
     ]
    },
    {
     "name": "stdout",
     "output_type": "stream",
     "text": [
      "Test update: epoch: 57 |accuracy: 0.752170205116272 | f1: 0.829009473323822 | auc: 0.7902858257293701 | treshold: 0.44\n"
     ]
    },
    {
     "name": "stderr",
     "output_type": "stream",
     "text": [
      "train... loss:1.0205734372138977:   1%|▊                                                                         | 59/5000 [11:58<20:27:48, 14.91s/it]"
     ]
    },
    {
     "name": "stdout",
     "output_type": "stream",
     "text": [
      "Test update: epoch: 58 |accuracy: 0.7545883059501648 | f1: 0.8303495049476624 | auc: 0.7915034294128418 | treshold: 0.42000000000000004\n"
     ]
    },
    {
     "name": "stderr",
     "output_type": "stream",
     "text": [
      "train... loss:1.019918441772461:   1%|▉                                                                          | 60/5000 [12:13<20:29:54, 14.94s/it]"
     ]
    },
    {
     "name": "stdout",
     "output_type": "stream",
     "text": [
      "Test update: epoch: 59 |accuracy: 0.7559182643890381 | f1: 0.8308759331703186 | auc: 0.7925500273704529 | treshold: 0.4\n"
     ]
    },
    {
     "name": "stderr",
     "output_type": "stream",
     "text": [
      "train... loss:1.0229487419128418:   1%|▉                                                                         | 61/5000 [12:32<22:10:11, 16.16s/it]"
     ]
    },
    {
     "name": "stdout",
     "output_type": "stream",
     "text": [
      "Test update: epoch: 60 |accuracy: 0.7586748600006104 | f1: 0.8316634893417358 | auc: 0.7935051918029785 | treshold: 0.39\n"
     ]
    },
    {
     "name": "stderr",
     "output_type": "stream",
     "text": [
      "train... loss:1.0295732021331787:   1%|▉                                                                         | 62/5000 [12:45<21:02:56, 15.35s/it]"
     ]
    },
    {
     "name": "stdout",
     "output_type": "stream",
     "text": [
      "Test update: epoch: 61 |accuracy: 0.7598114013671875 | f1: 0.8322780132293701 | auc: 0.7944830656051636 | treshold: 0.37\n"
     ]
    },
    {
     "name": "stderr",
     "output_type": "stream",
     "text": [
      "train... loss:1.0387445092201233:   1%|▉                                                                         | 63/5000 [13:00<20:54:12, 15.24s/it]"
     ]
    },
    {
     "name": "stdout",
     "output_type": "stream",
     "text": [
      "Test update: epoch: 62 |accuracy: 0.7604884505271912 | f1: 0.8328185677528381 | auc: 0.7955995202064514 | treshold: 0.35000000000000003\n"
     ]
    },
    {
     "name": "stderr",
     "output_type": "stream",
     "text": [
      "train... loss:1.0490062236785889:   1%|▉                                                                         | 64/5000 [13:13<20:00:45, 14.60s/it]"
     ]
    },
    {
     "name": "stdout",
     "output_type": "stream",
     "text": [
      "Test update: epoch: 63 |accuracy: 0.7618184089660645 | f1: 0.8330960869789124 | auc: 0.7969545125961304 | treshold: 0.34\n"
     ]
    },
    {
     "name": "stderr",
     "output_type": "stream",
     "text": [
      "train... loss:1.0588527917861938:   1%|▉                                                                         | 65/5000 [13:33<21:52:45, 15.96s/it]"
     ]
    },
    {
     "name": "stdout",
     "output_type": "stream",
     "text": [
      "Test update: epoch: 64 |accuracy: 0.7622536420822144 | f1: 0.8340590596199036 | auc: 0.7986177802085876 | treshold: 0.32\n"
     ]
    },
    {
     "name": "stderr",
     "output_type": "stream",
     "text": [
      "train... loss:1.065565049648285:   1%|▉                                                                          | 66/5000 [13:46<20:41:32, 15.10s/it]"
     ]
    },
    {
     "name": "stdout",
     "output_type": "stream",
     "text": [
      "Test update: epoch: 65 |accuracy: 0.762688934803009 | f1: 0.8344690203666687 | auc: 0.8005242347717285 | treshold: 0.31\n"
     ]
    },
    {
     "name": "stderr",
     "output_type": "stream",
     "text": [
      "train... loss:1.0674486756324768:   1%|▉                                                                         | 67/5000 [13:59<20:09:26, 14.71s/it]"
     ]
    },
    {
     "name": "stdout",
     "output_type": "stream",
     "text": [
      "Test update: epoch: 66 |accuracy: 0.7630516290664673 | f1: 0.8351529836654663 | auc: 0.8024777173995972 | treshold: 0.3\n"
     ]
    },
    {
     "name": "stderr",
     "output_type": "stream",
     "text": [
      "train... loss:1.0643064975738525:   1%|█                                                                         | 68/5000 [14:13<19:37:50, 14.33s/it]"
     ]
    },
    {
     "name": "stdout",
     "output_type": "stream",
     "text": [
      "Test update: epoch: 67 |accuracy: 0.7624954581260681 | f1: 0.8356700539588928 | auc: 0.8042848110198975 | treshold: 0.29000000000000004\n"
     ]
    },
    {
     "name": "stderr",
     "output_type": "stream",
     "text": [
      "train... loss:1.0568455457687378:   1%|█                                                                         | 69/5000 [14:26<19:11:30, 14.01s/it]"
     ]
    },
    {
     "name": "stdout",
     "output_type": "stream",
     "text": [
      "Test update: epoch: 68 |accuracy: 0.7628581523895264 | f1: 0.8361321091651917 | auc: 0.8058292865753174 | treshold: 0.29000000000000004\n"
     ]
    },
    {
     "name": "stderr",
     "output_type": "stream",
     "text": [
      "train... loss:1.04620760679245:   1%|█                                                                           | 70/5000 [14:42<19:55:56, 14.56s/it]"
     ]
    },
    {
     "name": "stdout",
     "output_type": "stream",
     "text": [
      "Test update: epoch: 69 |accuracy: 0.7645750045776367 | f1: 0.8369069695472717 | auc: 0.807065486907959 | treshold: 0.3\n"
     ]
    },
    {
     "name": "stderr",
     "output_type": "stream",
     "text": [
      "train... loss:1.033411681652069:   1%|█                                                                          | 71/5000 [14:59<21:02:46, 15.37s/it]"
     ]
    },
    {
     "name": "stdout",
     "output_type": "stream",
     "text": [
      "Test update: epoch: 70 |accuracy: 0.7650102972984314 | f1: 0.8370774984359741 | auc: 0.8079973459243774 | treshold: 0.31\n"
     ]
    },
    {
     "name": "stderr",
     "output_type": "stream",
     "text": [
      "train... loss:1.020422101020813:   1%|█                                                                          | 72/5000 [15:16<21:26:20, 15.66s/it]"
     ]
    },
    {
     "name": "stdout",
     "output_type": "stream",
     "text": [
      "Test update: epoch: 71 |accuracy: 0.7649860978126526 | f1: 0.8371835947036743 | auc: 0.8086746335029602 | treshold: 0.32\n"
     ]
    },
    {
     "name": "stderr",
     "output_type": "stream",
     "text": [
      "train... loss:1.008131980895996:   1%|█                                                                          | 73/5000 [15:29<20:30:41, 14.99s/it]"
     ]
    },
    {
     "name": "stdout",
     "output_type": "stream",
     "text": [
      "Test update: epoch: 72 |accuracy: 0.7652037143707275 | f1: 0.8376579880714417 | auc: 0.8091515302658081 | treshold: 0.33\n"
     ]
    },
    {
     "name": "stderr",
     "output_type": "stream",
     "text": [
      "train... loss:0.9971161782741547:   1%|█                                                                         | 74/5000 [15:44<20:34:21, 15.03s/it]"
     ]
    },
    {
     "name": "stdout",
     "output_type": "stream",
     "text": [
      "Test update: epoch: 73 |accuracy: 0.7649860978126526 | f1: 0.8379761576652527 | auc: 0.8094947338104248 | treshold: 0.34\n"
     ]
    },
    {
     "name": "stderr",
     "output_type": "stream",
     "text": [
      "train... loss:0.9880862534046173:   2%|█                                                                         | 75/5000 [16:02<21:46:59, 15.92s/it]"
     ]
    },
    {
     "name": "stdout",
     "output_type": "stream",
     "text": [
      "Test update: epoch: 74 |accuracy: 0.7662193179130554 | f1: 0.8385329842567444 | auc: 0.8097639083862305 | treshold: 0.36000000000000004\n"
     ]
    },
    {
     "name": "stderr",
     "output_type": "stream",
     "text": [
      "train... loss:0.9814994931221008:   2%|█                                                                         | 76/5000 [16:18<21:49:48, 15.96s/it]"
     ]
    },
    {
     "name": "stdout",
     "output_type": "stream",
     "text": [
      "Test update: epoch: 75 |accuracy: 0.7683472633361816 | f1: 0.8391754031181335 | auc: 0.8100122213363647 | treshold: 0.39\n"
     ]
    },
    {
     "name": "stderr",
     "output_type": "stream",
     "text": [
      "train... loss:0.9769158363342285:   2%|█▏                                                                        | 77/5000 [16:33<21:24:36, 15.66s/it]"
     ]
    },
    {
     "name": "stdout",
     "output_type": "stream",
     "text": [
      "Test update: epoch: 76 |accuracy: 0.7684198021888733 | f1: 0.8391582369804382 | auc: 0.8102889657020569 | treshold: 0.41000000000000003\n"
     ]
    },
    {
     "name": "stderr",
     "output_type": "stream",
     "text": [
      "train... loss:0.9748502671718597:   2%|█▏                                                                        | 78/5000 [16:47<20:37:22, 15.08s/it]"
     ]
    },
    {
     "name": "stdout",
     "output_type": "stream",
     "text": [
      "Test update: epoch: 77 |accuracy: 0.7686132192611694 | f1: 0.8393034338951111 | auc: 0.8106187582015991 | treshold: 0.43\n"
     ]
    },
    {
     "name": "stderr",
     "output_type": "stream",
     "text": [
      "train... loss:0.9748065769672394:   2%|█▏                                                                        | 79/5000 [17:03<21:06:31, 15.44s/it]"
     ]
    },
    {
     "name": "stdout",
     "output_type": "stream",
     "text": [
      "Test update: epoch: 78 |accuracy: 0.7685648798942566 | f1: 0.8393183946609497 | auc: 0.8110249042510986 | treshold: 0.45\n"
     ]
    },
    {
     "name": "stderr",
     "output_type": "stream",
     "text": [
      "train... loss:0.9775435328483582:   2%|█▏                                                                        | 80/5000 [17:17<20:30:40, 15.01s/it]"
     ]
    },
    {
     "name": "stdout",
     "output_type": "stream",
     "text": [
      "Test update: epoch: 79 |accuracy: 0.7675250768661499 | f1: 0.8392952680587769 | auc: 0.8115198612213135 | treshold: 0.46\n"
     ]
    },
    {
     "name": "stderr",
     "output_type": "stream",
     "text": [
      "train... loss:0.982774168252945:   2%|█▏                                                                         | 81/5000 [17:35<21:42:06, 15.88s/it]"
     ]
    },
    {
     "name": "stdout",
     "output_type": "stream",
     "text": [
      "Test update: epoch: 80 |accuracy: 0.7671381831169128 | f1: 0.8390923738479614 | auc: 0.8120938539505005 | treshold: 0.48000000000000004\n"
     ]
    },
    {
     "name": "stderr",
     "output_type": "stream",
     "text": [
      "train... loss:0.9893861413002014:   2%|█▏                                                                        | 82/5000 [17:53<22:28:16, 16.45s/it]"
     ]
    },
    {
     "name": "stdout",
     "output_type": "stream",
     "text": [
      "Test update: epoch: 81 |accuracy: 0.7680329084396362 | f1: 0.8390787243843079 | auc: 0.8127619624137878 | treshold: 0.51\n"
     ]
    },
    {
     "name": "stderr",
     "output_type": "stream",
     "text": [
      "train... loss:0.9967172145843506:   2%|█▏                                                                        | 83/5000 [18:11<23:12:48, 17.00s/it]"
     ]
    },
    {
     "name": "stdout",
     "output_type": "stream",
     "text": [
      "Test update: epoch: 82 |accuracy: 0.7678152322769165 | f1: 0.8388439416885376 | auc: 0.8135226368904114 | treshold: 0.53\n"
     ]
    },
    {
     "name": "stderr",
     "output_type": "stream",
     "text": [
      "train... loss:1.0048182010650635:   2%|█▏                                                                        | 84/5000 [18:25<22:06:58, 16.20s/it]"
     ]
    },
    {
     "name": "stdout",
     "output_type": "stream",
     "text": [
      "Test update: epoch: 83 |accuracy: 0.7678394317626953 | f1: 0.8384893536567688 | auc: 0.8143846988677979 | treshold: 0.55\n"
     ]
    },
    {
     "name": "stderr",
     "output_type": "stream",
     "text": [
      "train... loss:1.0124048590660095:   2%|█▎                                                                        | 85/5000 [18:43<22:36:05, 16.55s/it]"
     ]
    },
    {
     "name": "stdout",
     "output_type": "stream",
     "text": [
      "Test update: epoch: 84 |accuracy: 0.7678636312484741 | f1: 0.838356614112854 | auc: 0.8153705596923828 | treshold: 0.56\n"
     ]
    },
    {
     "name": "stderr",
     "output_type": "stream",
     "text": [
      "train... loss:1.0149440169334412:   2%|█▎                                                                        | 86/5000 [18:57<21:49:01, 15.98s/it]"
     ]
    },
    {
     "name": "stdout",
     "output_type": "stream",
     "text": [
      "Test update: epoch: 85 |accuracy: 0.7684198021888733 | f1: 0.8381962776184082 | auc: 0.8165018558502197 | treshold: 0.5700000000000001\n"
     ]
    },
    {
     "name": "stderr",
     "output_type": "stream",
     "text": [
      "train... loss:1.0132838487625122:   2%|█▎                                                                        | 87/5000 [19:18<23:49:16, 17.46s/it]"
     ]
    },
    {
     "name": "stdout",
     "output_type": "stream",
     "text": [
      "Test update: epoch: 86 |accuracy: 0.7687341570854187 | f1: 0.8378048539161682 | auc: 0.8177685737609863 | treshold: 0.5700000000000001\n"
     ]
    },
    {
     "name": "stderr",
     "output_type": "stream",
     "text": [
      "train... loss:1.00528484582901:   2%|█▎                                                                          | 88/5000 [19:34<23:11:26, 17.00s/it]"
     ]
    },
    {
     "name": "stdout",
     "output_type": "stream",
     "text": [
      "Test update: epoch: 87 |accuracy: 0.7685406804084778 | f1: 0.8371610641479492 | auc: 0.819109320640564 | treshold: 0.56\n"
     ]
    },
    {
     "name": "stderr",
     "output_type": "stream",
     "text": [
      "train... loss:0.994099348783493:   2%|█▎                                                                         | 89/5000 [19:49<22:20:59, 16.38s/it]"
     ]
    },
    {
     "name": "stdout",
     "output_type": "stream",
     "text": [
      "Test update: epoch: 88 |accuracy: 0.7677185535430908 | f1: 0.8362371921539307 | auc: 0.8204911351203918 | treshold: 0.54\n"
     ]
    },
    {
     "name": "stderr",
     "output_type": "stream",
     "text": [
      "train... loss:0.9799525141716003:   2%|█▎                                                                        | 90/5000 [20:04<21:34:39, 15.82s/it]"
     ]
    },
    {
     "name": "stdout",
     "output_type": "stream",
     "text": [
      "Test update: epoch: 89 |accuracy: 0.7662435173988342 | f1: 0.8358158469200134 | auc: 0.8219144344329834 | treshold: 0.5\n"
     ]
    },
    {
     "name": "stderr",
     "output_type": "stream",
     "text": [
      "train... loss:0.9650497734546661:   2%|█▎                                                                        | 91/5000 [20:18<20:50:31, 15.28s/it]"
     ]
    },
    {
     "name": "stdout",
     "output_type": "stream",
     "text": [
      "Test update: epoch: 90 |accuracy: 0.7657356858253479 | f1: 0.8349854946136475 | auc: 0.8233875036239624 | treshold: 0.47000000000000003\n"
     ]
    },
    {
     "name": "stderr",
     "output_type": "stream",
     "text": [
      "train... loss:0.9503852128982544:   2%|█▎                                                                        | 92/5000 [20:33<20:59:15, 15.39s/it]"
     ]
    },
    {
     "name": "stdout",
     "output_type": "stream",
     "text": [
      "Test update: epoch: 91 |accuracy: 0.7666062116622925 | f1: 0.8345844149589539 | auc: 0.8249657154083252 | treshold: 0.44\n"
     ]
    },
    {
     "name": "stderr",
     "output_type": "stream",
     "text": [
      "train... loss:0.9390663802623749:   2%|█▍                                                                        | 93/5000 [20:49<20:55:26, 15.35s/it]"
     ]
    },
    {
     "name": "stdout",
     "output_type": "stream",
     "text": [
      "Test update: epoch: 92 |accuracy: 0.7662676572799683 | f1: 0.8354499340057373 | auc: 0.8267167806625366 | treshold: 0.38\n"
     ]
    },
    {
     "name": "stderr",
     "output_type": "stream",
     "text": [
      "train... loss:0.9309391677379608:   2%|█▍                                                                        | 94/5000 [21:05<21:22:14, 15.68s/it]"
     ]
    },
    {
     "name": "stdout",
     "output_type": "stream",
     "text": [
      "Test update: epoch: 93 |accuracy: 0.767113983631134 | f1: 0.8346921801567078 | auc: 0.8287543058395386 | treshold: 0.35000000000000003\n"
     ]
    },
    {
     "name": "stderr",
     "output_type": "stream",
     "text": [
      "train... loss:0.9287930727005005:   2%|█▍                                                                        | 95/5000 [21:18<20:19:02, 14.91s/it]"
     ]
    },
    {
     "name": "stdout",
     "output_type": "stream",
     "text": [
      "Test update: epoch: 94 |accuracy: 0.7673799991607666 | f1: 0.8354204893112183 | auc: 0.8311463594436646 | treshold: 0.3\n"
     ]
    },
    {
     "name": "stderr",
     "output_type": "stream",
     "text": [
      "train... loss:0.9326340854167938:   2%|█▍                                                                        | 96/5000 [21:33<20:20:51, 14.94s/it]"
     ]
    },
    {
     "name": "stdout",
     "output_type": "stream",
     "text": [
      "Test update: epoch: 95 |accuracy: 0.7674041986465454 | f1: 0.8368416428565979 | auc: 0.8338910341262817 | treshold: 0.25\n"
     ]
    },
    {
     "name": "stderr",
     "output_type": "stream",
     "text": [
      "train... loss:0.9414351582527161:   2%|█▍                                                                        | 97/5000 [21:46<19:32:36, 14.35s/it]"
     ]
    },
    {
     "name": "stdout",
     "output_type": "stream",
     "text": [
      "Test update: epoch: 96 |accuracy: 0.7702575325965881 | f1: 0.8380465507507324 | auc: 0.8368985652923584 | treshold: 0.23\n"
     ]
    },
    {
     "name": "stderr",
     "output_type": "stream",
     "text": [
      "train... loss:0.9538710713386536:   2%|█▍                                                                        | 98/5000 [22:01<19:52:09, 14.59s/it]"
     ]
    },
    {
     "name": "stdout",
     "output_type": "stream",
     "text": [
      "Test update: epoch: 97 |accuracy: 0.772095263004303 | f1: 0.8384664058685303 | auc: 0.8401023149490356 | treshold: 0.22\n"
     ]
    },
    {
     "name": "stderr",
     "output_type": "stream",
     "text": [
      "train... loss:0.9661938846111298:   2%|█▍                                                                        | 99/5000 [22:16<19:43:32, 14.49s/it]"
     ]
    },
    {
     "name": "stdout",
     "output_type": "stream",
     "text": [
      "Test update: epoch: 98 |accuracy: 0.7728690505027771 | f1: 0.8409987092018127 | auc: 0.8434653282165527 | treshold: 0.2\n"
     ]
    },
    {
     "name": "stderr",
     "output_type": "stream",
     "text": [
      "train... loss:0.9743090867996216:   2%|█▍                                                                       | 100/5000 [22:29<19:04:01, 14.01s/it]"
     ]
    },
    {
     "name": "stdout",
     "output_type": "stream",
     "text": [
      "Test update: epoch: 99 |accuracy: 0.7750453352928162 | f1: 0.843005895614624 | auc: 0.8468559384346008 | treshold: 0.2\n"
     ]
    },
    {
     "name": "stderr",
     "output_type": "stream",
     "text": [
      "train... loss:0.9763862490653992:   2%|█▍                                                                       | 101/5000 [22:45<19:56:33, 14.65s/it]"
     ]
    },
    {
     "name": "stdout",
     "output_type": "stream",
     "text": [
      "Test update: epoch: 100 |accuracy: 0.7763994932174683 | f1: 0.8441402912139893 | auc: 0.8498130440711975 | treshold: 0.21000000000000002\n"
     ]
    },
    {
     "name": "stderr",
     "output_type": "stream",
     "text": [
      "train... loss:0.9712501764297485:   2%|█▍                                                                       | 102/5000 [23:00<20:10:53, 14.83s/it]"
     ]
    },
    {
     "name": "stdout",
     "output_type": "stream",
     "text": [
      "Test update: epoch: 101 |accuracy: 0.779276967048645 | f1: 0.8458160161972046 | auc: 0.8519664406776428 | treshold: 0.23\n"
     ]
    },
    {
     "name": "stderr",
     "output_type": "stream",
     "text": [
      "train... loss:0.9622909128665924:   2%|█▌                                                                       | 103/5000 [23:14<19:59:51, 14.70s/it]"
     ]
    },
    {
     "name": "stdout",
     "output_type": "stream",
     "text": [
      "Test update: epoch: 102 |accuracy: 0.781283974647522 | f1: 0.8472618460655212 | auc: 0.8531430959701538 | treshold: 0.25\n"
     ]
    },
    {
     "name": "stderr",
     "output_type": "stream",
     "text": [
      "train... loss:0.9521450400352478:   2%|█▌                                                                       | 104/5000 [23:31<20:44:00, 15.25s/it]"
     ]
    },
    {
     "name": "stdout",
     "output_type": "stream",
     "text": [
      "Test update: epoch: 103 |accuracy: 0.7837262749671936 | f1: 0.8483759164810181 | auc: 0.8533188700675964 | treshold: 0.28\n"
     ]
    },
    {
     "name": "stderr",
     "output_type": "stream",
     "text": [
      "train... loss:0.9174445569515228:   2%|█▋                                                                       | 118/5000 [27:01<21:40:20, 15.98s/it]"
     ]
    },
    {
     "name": "stdout",
     "output_type": "stream",
     "text": [
      "Test update: epoch: 117 |accuracy: 0.7931084632873535 | f1: 0.8521769046783447 | auc: 0.8543368577957153 | treshold: 0.59\n"
     ]
    },
    {
     "name": "stderr",
     "output_type": "stream",
     "text": [
      "train... loss:0.9142519533634186:   2%|█▋                                                                       | 119/5000 [27:20<22:34:43, 16.65s/it]"
     ]
    },
    {
     "name": "stdout",
     "output_type": "stream",
     "text": [
      "Test update: epoch: 118 |accuracy: 0.7946560382843018 | f1: 0.8528096675872803 | auc: 0.8560647964477539 | treshold: 0.59\n"
     ]
    },
    {
     "name": "stderr",
     "output_type": "stream",
     "text": [
      "train... loss:0.9087216556072235:   2%|█▊                                                                       | 120/5000 [27:37<22:43:18, 16.76s/it]"
     ]
    },
    {
     "name": "stdout",
     "output_type": "stream",
     "text": [
      "Test update: epoch: 119 |accuracy: 0.7967113852500916 | f1: 0.853278398513794 | auc: 0.8575690984725952 | treshold: 0.59\n"
     ]
    },
    {
     "name": "stderr",
     "output_type": "stream",
     "text": [
      "train... loss:0.9000610113143921:   2%|█▊                                                                       | 121/5000 [27:55<23:27:53, 17.31s/it]"
     ]
    },
    {
     "name": "stdout",
     "output_type": "stream",
     "text": [
      "Test update: epoch: 120 |accuracy: 0.797775387763977 | f1: 0.8534837961196899 | auc: 0.8587567806243896 | treshold: 0.5700000000000001\n"
     ]
    },
    {
     "name": "stderr",
     "output_type": "stream",
     "text": [
      "train... loss:0.913604736328125:   3%|█▉                                                                        | 133/5000 [30:46<19:21:16, 14.32s/it]"
     ]
    },
    {
     "name": "stdout",
     "output_type": "stream",
     "text": [
      "Test update: epoch: 132 |accuracy: 0.7936646342277527 | f1: 0.852449357509613 | auc: 0.8622705340385437 | treshold: 0.19\n"
     ]
    },
    {
     "name": "stderr",
     "output_type": "stream",
     "text": [
      "train... loss:0.8911887109279633:   3%|█▉                                                                       | 134/5000 [30:59<18:47:53, 13.91s/it]"
     ]
    },
    {
     "name": "stdout",
     "output_type": "stream",
     "text": [
      "Test update: epoch: 133 |accuracy: 0.7956957817077637 | f1: 0.8538463115692139 | auc: 0.8649334907531738 | treshold: 0.21000000000000002\n"
     ]
    },
    {
     "name": "stderr",
     "output_type": "stream",
     "text": [
      "train... loss:0.8670651018619537:   3%|█▉                                                                       | 135/5000 [31:13<18:45:31, 13.88s/it]"
     ]
    },
    {
     "name": "stdout",
     "output_type": "stream",
     "text": [
      "Test update: epoch: 134 |accuracy: 0.7979204654693604 | f1: 0.8550314903259277 | auc: 0.8671326637268066 | treshold: 0.24000000000000002\n"
     ]
    },
    {
     "name": "stderr",
     "output_type": "stream",
     "text": [
      "train... loss:0.847864180803299:   3%|██                                                                        | 136/5000 [31:27<18:33:36, 13.74s/it]"
     ]
    },
    {
     "name": "stdout",
     "output_type": "stream",
     "text": [
      "Test update: epoch: 135 |accuracy: 0.7990569472312927 | f1: 0.8558142781257629 | auc: 0.86830735206604 | treshold: 0.27\n"
     ]
    },
    {
     "name": "stderr",
     "output_type": "stream",
     "text": [
      "train... loss:0.8350366652011871:   3%|██                                                                       | 137/5000 [31:40<18:28:14, 13.67s/it]"
     ]
    },
    {
     "name": "stdout",
     "output_type": "stream",
     "text": [
      "Test update: epoch: 136 |accuracy: 0.8007979393005371 | f1: 0.8566905856132507 | auc: 0.8684588670730591 | treshold: 0.31\n"
     ]
    },
    {
     "name": "stderr",
     "output_type": "stream",
     "text": [
      "train... loss:0.8277451694011688:   3%|██                                                                       | 138/5000 [31:57<19:51:39, 14.71s/it]"
     ]
    },
    {
     "name": "stdout",
     "output_type": "stream",
     "text": [
      "Test update: epoch: 137 |accuracy: 0.8008463382720947 | f1: 0.8572864532470703 | auc: 0.8678803443908691 | treshold: 0.34\n"
     ]
    },
    {
     "name": "stderr",
     "output_type": "stream",
     "text": [
      "train... loss:0.837175190448761:   3%|██▎                                                                       | 154/5000 [36:07<21:05:08, 15.66s/it]"
     ]
    },
    {
     "name": "stdout",
     "output_type": "stream",
     "text": [
      "Test update: epoch: 153 |accuracy: 0.8042800426483154 | f1: 0.8577054142951965 | auc: 0.8666785359382629 | treshold: 0.48000000000000004\n"
     ]
    },
    {
     "name": "stderr",
     "output_type": "stream",
     "text": [
      "train... loss:0.8304840922355652:   3%|██▎                                                                      | 155/5000 [36:23<21:19:23, 15.84s/it]"
     ]
    },
    {
     "name": "stdout",
     "output_type": "stream",
     "text": [
      "Test update: epoch: 154 |accuracy: 0.8051263689994812 | f1: 0.8569907546043396 | auc: 0.8682788610458374 | treshold: 0.47000000000000003\n"
     ]
    },
    {
     "name": "stderr",
     "output_type": "stream",
     "text": [
      "train... loss:0.8264178931713104:   3%|██▎                                                                      | 156/5000 [36:37<20:32:27, 15.27s/it]"
     ]
    },
    {
     "name": "stdout",
     "output_type": "stream",
     "text": [
      "Test update: epoch: 155 |accuracy: 0.8054890632629395 | f1: 0.8581505417823792 | auc: 0.869834303855896 | treshold: 0.42000000000000004\n"
     ]
    },
    {
     "name": "stderr",
     "output_type": "stream",
     "text": [
      "train... loss:0.8251676857471466:   3%|██▎                                                                      | 157/5000 [36:51<19:53:05, 14.78s/it]"
     ]
    },
    {
     "name": "stdout",
     "output_type": "stream",
     "text": [
      "Test update: epoch: 156 |accuracy: 0.8064079284667969 | f1: 0.8579942584037781 | auc: 0.8713552951812744 | treshold: 0.4\n"
     ]
    },
    {
     "name": "stderr",
     "output_type": "stream",
     "text": [
      "train... loss:0.8259363770484924:   3%|██▎                                                                      | 158/5000 [37:08<20:59:12, 15.60s/it]"
     ]
    },
    {
     "name": "stdout",
     "output_type": "stream",
     "text": [
      "Test update: epoch: 157 |accuracy: 0.8081005811691284 | f1: 0.8579661250114441 | auc: 0.8728232383728027 | treshold: 0.39\n"
     ]
    },
    {
     "name": "stderr",
     "output_type": "stream",
     "text": [
      "train... loss:0.8293924331665039:   3%|██▎                                                                      | 159/5000 [37:25<21:33:03, 16.03s/it]"
     ]
    },
    {
     "name": "stdout",
     "output_type": "stream",
     "text": [
      "Test update: epoch: 158 |accuracy: 0.8084391355514526 | f1: 0.8581252694129944 | auc: 0.8741792440414429 | treshold: 0.36000000000000004\n"
     ]
    },
    {
     "name": "stderr",
     "output_type": "stream",
     "text": [
      "train... loss:0.8344115912914276:   3%|██▎                                                                      | 160/5000 [37:41<21:25:37, 15.94s/it]"
     ]
    },
    {
     "name": "stdout",
     "output_type": "stream",
     "text": [
      "Test update: epoch: 159 |accuracy: 0.8084149360656738 | f1: 0.8581556677818298 | auc: 0.8753661513328552 | treshold: 0.33\n"
     ]
    },
    {
     "name": "stderr",
     "output_type": "stream",
     "text": [
      "train... loss:0.8396862149238586:   3%|██▎                                                                      | 161/5000 [37:55<20:41:51, 15.40s/it]"
     ]
    },
    {
     "name": "stdout",
     "output_type": "stream",
     "text": [
      "Test update: epoch: 160 |accuracy: 0.8080522418022156 | f1: 0.8566423654556274 | auc: 0.8761811256408691 | treshold: 0.32\n"
     ]
    },
    {
     "name": "stderr",
     "output_type": "stream",
     "text": [
      "train... loss:0.8437048196792603:   3%|██▎                                                                      | 162/5000 [38:13<21:44:38, 16.18s/it]"
     ]
    },
    {
     "name": "stdout",
     "output_type": "stream",
     "text": [
      "Test update: epoch: 161 |accuracy: 0.8083423972129822 | f1: 0.8577377200126648 | auc: 0.8766522407531738 | treshold: 0.29000000000000004\n"
     ]
    },
    {
     "name": "stderr",
     "output_type": "stream",
     "text": [
      "train... loss:0.7770326137542725:   4%|██▋                                                                      | 182/5000 [43:32<24:24:41, 18.24s/it]"
     ]
    },
    {
     "name": "stdout",
     "output_type": "stream",
     "text": [
      "Test update: epoch: 181 |accuracy: 0.8137105703353882 | f1: 0.8610790371894836 | auc: 0.8838924169540405 | treshold: 0.55\n"
     ]
    },
    {
     "name": "stderr",
     "output_type": "stream",
     "text": [
      "train... loss:0.76802197098732:   4%|██▋                                                                        | 183/5000 [43:46<22:49:54, 17.06s/it]"
     ]
    },
    {
     "name": "stdout",
     "output_type": "stream",
     "text": [
      "Test update: epoch: 182 |accuracy: 0.8148712515830994 | f1: 0.8624258637428284 | auc: 0.8848724961280823 | treshold: 0.5\n"
     ]
    },
    {
     "name": "stderr",
     "output_type": "stream",
     "text": [
      "train... loss:0.7643372416496277:   4%|██▋                                                                      | 184/5000 [44:00<21:40:54, 16.21s/it]"
     ]
    },
    {
     "name": "stdout",
     "output_type": "stream",
     "text": [
      "Test update: epoch: 183 |accuracy: 0.8150405287742615 | f1: 0.8620235323905945 | auc: 0.8847013711929321 | treshold: 0.47000000000000003\n"
     ]
    },
    {
     "name": "stderr",
     "output_type": "stream",
     "text": [
      "train... loss:0.8111039400100708:   4%|██▊                                                                      | 192/5000 [45:56<19:15:10, 14.42s/it]"
     ]
    },
    {
     "name": "stdout",
     "output_type": "stream",
     "text": [
      "Test update: epoch: 191 |accuracy: 0.81097811460495 | f1: 0.8612456917762756 | auc: 0.8835684657096863 | treshold: 0.26\n"
     ]
    },
    {
     "name": "stderr",
     "output_type": "stream",
     "text": [
      "train... loss:0.7931332290172577:   4%|██▊                                                                      | 193/5000 [46:10<19:13:09, 14.39s/it]"
     ]
    },
    {
     "name": "stdout",
     "output_type": "stream",
     "text": [
      "Test update: epoch: 192 |accuracy: 0.8134929537773132 | f1: 0.8622063398361206 | auc: 0.886701226234436 | treshold: 0.28\n"
     ]
    },
    {
     "name": "stderr",
     "output_type": "stream",
     "text": [
      "train... loss:0.7766338288784027:   4%|██▊                                                                      | 194/5000 [46:24<19:10:05, 14.36s/it]"
     ]
    },
    {
     "name": "stdout",
     "output_type": "stream",
     "text": [
      "Test update: epoch: 193 |accuracy: 0.8151856064796448 | f1: 0.8628295660018921 | auc: 0.8882513046264648 | treshold: 0.3\n"
     ]
    },
    {
     "name": "stderr",
     "output_type": "stream",
     "text": [
      "train... loss:0.7292764782905579:   4%|███▏                                                                     | 217/5000 [52:04<19:14:59, 14.49s/it]"
     ]
    },
    {
     "name": "stdout",
     "output_type": "stream",
     "text": [
      "Test update: epoch: 216 |accuracy: 0.8169991374015808 | f1: 0.8621845245361328 | auc: 0.8904629349708557 | treshold: 0.33\n"
     ]
    },
    {
     "name": "stderr",
     "output_type": "stream",
     "text": [
      "train... loss:0.7353877127170563:   4%|███▏                                                                     | 218/5000 [52:20<19:46:09, 14.88s/it]"
     ]
    },
    {
     "name": "stdout",
     "output_type": "stream",
     "text": [
      "Test update: epoch: 217 |accuracy: 0.8171442151069641 | f1: 0.863017201423645 | auc: 0.8921025991439819 | treshold: 0.29000000000000004\n"
     ]
    },
    {
     "name": "stderr",
     "output_type": "stream",
     "text": [
      "train... loss:0.7452505826950073:   4%|███▏                                                                     | 219/5000 [52:33<19:08:50, 14.42s/it]"
     ]
    },
    {
     "name": "stdout",
     "output_type": "stream",
     "text": [
      "Test update: epoch: 218 |accuracy: 0.817337691783905 | f1: 0.8629883527755737 | auc: 0.8930901288986206 | treshold: 0.27\n"
     ]
    },
    {
     "name": "stderr",
     "output_type": "stream",
     "text": [
      "train... loss:0.7492868006229401:   5%|███▎                                                                     | 227/5000 [54:29<20:07:01, 15.17s/it]"
     ]
    },
    {
     "name": "stdout",
     "output_type": "stream",
     "text": [
      "Test update: epoch: 226 |accuracy: 0.8180389404296875 | f1: 0.8656561970710754 | auc: 0.8956738710403442 | treshold: 0.26\n"
     ]
    },
    {
     "name": "stderr",
     "output_type": "stream",
     "text": [
      "train... loss:0.7315403819084167:   5%|███▎                                                                     | 228/5000 [54:45<20:23:29, 15.38s/it]"
     ]
    },
    {
     "name": "stdout",
     "output_type": "stream",
     "text": [
      "Test update: epoch: 227 |accuracy: 0.8204328417778015 | f1: 0.8658501505851746 | auc: 0.8974409699440002 | treshold: 0.31\n"
     ]
    },
    {
     "name": "stderr",
     "output_type": "stream",
     "text": [
      "train... loss:0.7171583473682404:   5%|███▎                                                                     | 229/5000 [54:58<19:38:00, 14.81s/it]"
     ]
    },
    {
     "name": "stdout",
     "output_type": "stream",
     "text": [
      "Test update: epoch: 228 |accuracy: 0.8214484453201294 | f1: 0.8662367463111877 | auc: 0.8988720774650574 | treshold: 0.35000000000000003\n"
     ]
    },
    {
     "name": "stderr",
     "output_type": "stream",
     "text": [
      "train... loss:0.705479234457016:   5%|███▍                                                                      | 230/5000 [55:14<19:50:25, 14.97s/it]"
     ]
    },
    {
     "name": "stdout",
     "output_type": "stream",
     "text": [
      "Test update: epoch: 229 |accuracy: 0.8221738338470459 | f1: 0.8684954047203064 | auc: 0.8998211622238159 | treshold: 0.35000000000000003\n"
     ]
    },
    {
     "name": "stderr",
     "output_type": "stream",
     "text": [
      "train... loss:0.6992562115192413:   5%|███▎                                                                     | 231/5000 [55:28<19:24:10, 14.65s/it]"
     ]
    },
    {
     "name": "stdout",
     "output_type": "stream",
     "text": [
      "Test update: epoch: 230 |accuracy: 0.8232136368751526 | f1: 0.8682916164398193 | auc: 0.9002528786659241 | treshold: 0.41000000000000003\n"
     ]
    },
    {
     "name": "stderr",
     "output_type": "stream",
     "text": [
      "train... loss:0.7009725868701935:   5%|███▌                                                                     | 245/5000 [59:07<20:53:05, 15.81s/it]"
     ]
    },
    {
     "name": "stdout",
     "output_type": "stream",
     "text": [
      "Test update: epoch: 244 |accuracy: 0.8189336061477661 | f1: 0.8620232343673706 | auc: 0.8966934680938721 | treshold: 0.43\n"
     ]
    },
    {
     "name": "stderr",
     "output_type": "stream",
     "text": [
      "train... loss:0.6895170509815216:   5%|███▌                                                                     | 246/5000 [59:21<20:03:11, 15.19s/it]"
     ]
    },
    {
     "name": "stdout",
     "output_type": "stream",
     "text": [
      "Test update: epoch: 245 |accuracy: 0.8195139765739441 | f1: 0.8627688884735107 | auc: 0.8978798389434814 | treshold: 0.38\n"
     ]
    },
    {
     "name": "stderr",
     "output_type": "stream",
     "text": [
      "train... loss:0.681911051273346:   5%|███▋                                                                      | 247/5000 [59:35<19:31:53, 14.79s/it]"
     ]
    },
    {
     "name": "stdout",
     "output_type": "stream",
     "text": [
      "Test update: epoch: 246 |accuracy: 0.8207471966743469 | f1: 0.8626993298530579 | auc: 0.8989430665969849 | treshold: 0.36000000000000004\n"
     ]
    },
    {
     "name": "stderr",
     "output_type": "stream",
     "text": [
      "train... loss:0.6783897280693054:   5%|███▌                                                                     | 248/5000 [59:48<19:07:02, 14.48s/it]"
     ]
    },
    {
     "name": "stdout",
     "output_type": "stream",
     "text": [
      "Test update: epoch: 247 |accuracy: 0.8201184868812561 | f1: 0.8630749583244324 | auc: 0.8995725512504578 | treshold: 0.31\n"
     ]
    },
    {
     "name": "stderr",
     "output_type": "stream",
     "text": [
      "train... loss:0.6802291572093964:   5%|███▌                                                                   | 249/5000 [1:00:05<19:55:39, 15.10s/it]"
     ]
    },
    {
     "name": "stdout",
     "output_type": "stream",
     "text": [
      "Test update: epoch: 248 |accuracy: 0.8207229971885681 | f1: 0.8635878562927246 | auc: 0.8996344804763794 | treshold: 0.28\n"
     ]
    },
    {
     "name": "stderr",
     "output_type": "stream",
     "text": [
      "train... loss:0.7225085198879242:   5%|███▋                                                                   | 257/5000 [1:01:57<19:20:23, 14.68s/it]"
     ]
    },
    {
     "name": "stdout",
     "output_type": "stream",
     "text": [
      "Test update: epoch: 256 |accuracy: 0.8243985176086426 | f1: 0.8677231073379517 | auc: 0.9014313220977783 | treshold: 0.25\n"
     ]
    },
    {
     "name": "stderr",
     "output_type": "stream",
     "text": [
      "train... loss:0.7103566825389862:   5%|███▋                                                                   | 258/5000 [1:02:10<18:42:46, 14.21s/it]"
     ]
    },
    {
     "name": "stdout",
     "output_type": "stream",
     "text": [
      "Test update: epoch: 257 |accuracy: 0.825534999370575 | f1: 0.8693951964378357 | auc: 0.9031422138214111 | treshold: 0.26\n"
     ]
    },
    {
     "name": "stderr",
     "output_type": "stream",
     "text": [
      "train... loss:0.6975347101688385:   5%|███▋                                                                   | 259/5000 [1:02:23<18:23:48, 13.97s/it]"
     ]
    },
    {
     "name": "stdout",
     "output_type": "stream",
     "text": [
      "Test update: epoch: 258 |accuracy: 0.8270100355148315 | f1: 0.8709269762039185 | auc: 0.9044466018676758 | treshold: 0.28\n"
     ]
    },
    {
     "name": "stderr",
     "output_type": "stream",
     "text": [
      "train... loss:0.6875260174274445:   5%|███▋                                                                   | 260/5000 [1:02:38<18:46:34, 14.26s/it]"
     ]
    },
    {
     "name": "stdout",
     "output_type": "stream",
     "text": [
      "Test update: epoch: 259 |accuracy: 0.8293797373771667 | f1: 0.8721739053726196 | auc: 0.9053008556365967 | treshold: 0.32\n"
     ]
    },
    {
     "name": "stderr",
     "output_type": "stream",
     "text": [
      "train... loss:0.6794265508651733:   5%|███▋                                                                   | 261/5000 [1:02:56<20:03:33, 15.24s/it]"
     ]
    },
    {
     "name": "stdout",
     "output_type": "stream",
     "text": [
      "Test update: epoch: 260 |accuracy: 0.831290066242218 | f1: 0.8728333115577698 | auc: 0.9055721163749695 | treshold: 0.37\n"
     ]
    },
    {
     "name": "stderr",
     "output_type": "stream",
     "text": [
      "train... loss:0.6750874221324921:   5%|███▋                                                                   | 262/5000 [1:03:12<20:34:05, 15.63s/it]"
     ]
    },
    {
     "name": "stdout",
     "output_type": "stream",
     "text": [
      "Test update: epoch: 261 |accuracy: 0.8314593434333801 | f1: 0.8731343150138855 | auc: 0.9054979085922241 | treshold: 0.4\n"
     ]
    },
    {
     "name": "stderr",
     "output_type": "stream",
     "text": [
      "train... loss:0.6966806352138519:   6%|████                                                                   | 289/5000 [1:10:00<19:23:37, 14.82s/it]"
     ]
    },
    {
     "name": "stdout",
     "output_type": "stream",
     "text": [
      "Test update: epoch: 288 |accuracy: 0.830685555934906 | f1: 0.8713813424110413 | auc: 0.9077575206756592 | treshold: 0.25\n"
     ]
    },
    {
     "name": "stderr",
     "output_type": "stream",
     "text": [
      "train... loss:0.6938276886940002:   6%|████                                                                   | 290/5000 [1:10:13<18:47:07, 14.36s/it]"
     ]
    },
    {
     "name": "stdout",
     "output_type": "stream",
     "text": [
      "Test update: epoch: 289 |accuracy: 0.8315318822860718 | f1: 0.8730618357658386 | auc: 0.9081496596336365 | treshold: 0.25\n"
     ]
    },
    {
     "name": "stderr",
     "output_type": "stream",
     "text": [
      "train... loss:0.6880877017974854:   6%|████▏                                                                  | 291/5000 [1:10:26<18:11:17, 13.90s/it]"
     ]
    },
    {
     "name": "stdout",
     "output_type": "stream",
     "text": [
      "Test update: epoch: 290 |accuracy: 0.8322814702987671 | f1: 0.87420654296875 | auc: 0.9084573984146118 | treshold: 0.26\n"
     ]
    },
    {
     "name": "stderr",
     "output_type": "stream",
     "text": [
      "train... loss:0.6819784641265869:   6%|████▏                                                                  | 292/5000 [1:10:41<18:34:24, 14.20s/it]"
     ]
    },
    {
     "name": "stdout",
     "output_type": "stream",
     "text": [
      "Test update: epoch: 291 |accuracy: 0.8339257836341858 | f1: 0.8742032647132874 | auc: 0.9086756110191345 | treshold: 0.31\n"
     ]
    },
    {
     "name": "stderr",
     "output_type": "stream",
     "text": [
      "train... loss:0.6758653223514557:   6%|████▏                                                                  | 293/5000 [1:10:54<18:14:26, 13.95s/it]"
     ]
    },
    {
     "name": "stdout",
     "output_type": "stream",
     "text": [
      "Test update: epoch: 292 |accuracy: 0.8339741230010986 | f1: 0.8745156526565552 | auc: 0.908861517906189 | treshold: 0.33\n"
     ]
    },
    {
     "name": "stderr",
     "output_type": "stream",
     "text": [
      "train... loss:0.6692590117454529:   6%|████▏                                                                  | 294/5000 [1:11:12<19:49:52, 15.17s/it]"
     ]
    },
    {
     "name": "stdout",
     "output_type": "stream",
     "text": [
      "Test update: epoch: 293 |accuracy: 0.8346028327941895 | f1: 0.8756046891212463 | auc: 0.909121036529541 | treshold: 0.34\n"
     ]
    },
    {
     "name": "stderr",
     "output_type": "stream",
     "text": [
      "train... loss:0.6637487709522247:   6%|████▏                                                                  | 295/5000 [1:11:26<19:25:22, 14.86s/it]"
     ]
    },
    {
     "name": "stdout",
     "output_type": "stream",
     "text": [
      "Test update: epoch: 294 |accuracy: 0.8346511721611023 | f1: 0.8755641579627991 | auc: 0.9094133377075195 | treshold: 0.37\n"
     ]
    },
    {
     "name": "stderr",
     "output_type": "stream",
     "text": [
      "train... loss:0.6589697301387787:   6%|████▏                                                                  | 296/5000 [1:11:42<19:44:11, 15.10s/it]"
     ]
    },
    {
     "name": "stdout",
     "output_type": "stream",
     "text": [
      "Test update: epoch: 295 |accuracy: 0.8352315425872803 | f1: 0.8758834004402161 | auc: 0.909698486328125 | treshold: 0.4\n"
     ]
    },
    {
     "name": "stderr",
     "output_type": "stream",
     "text": [
      "train... loss:0.6554748713970184:   6%|████▏                                                                  | 297/5000 [1:11:56<19:23:36, 14.85s/it]"
     ]
    },
    {
     "name": "stdout",
     "output_type": "stream",
     "text": [
      "Test update: epoch: 296 |accuracy: 0.8361987471580505 | f1: 0.875679075717926 | auc: 0.91001957654953 | treshold: 0.45\n"
     ]
    },
    {
     "name": "stderr",
     "output_type": "stream",
     "text": [
      "train... loss:0.6534539461135864:   6%|████▏                                                                  | 298/5000 [1:12:15<21:01:17, 16.09s/it]"
     ]
    },
    {
     "name": "stdout",
     "output_type": "stream",
     "text": [
      "Test update: epoch: 297 |accuracy: 0.8364889621734619 | f1: 0.8760539889335632 | auc: 0.9103448390960693 | treshold: 0.47000000000000003\n"
     ]
    },
    {
     "name": "stderr",
     "output_type": "stream",
     "text": [
      "train... loss:0.6528400182723999:   6%|████▏                                                                  | 299/5000 [1:12:30<20:22:29, 15.60s/it]"
     ]
    },
    {
     "name": "stdout",
     "output_type": "stream",
     "text": [
      "Test update: epoch: 298 |accuracy: 0.8361987471580505 | f1: 0.8765265345573425 | auc: 0.910617470741272 | treshold: 0.47000000000000003\n"
     ]
    },
    {
     "name": "stderr",
     "output_type": "stream",
     "text": [
      "train... loss:0.658771425485611:   6%|████▋                                                                   | 324/5000 [1:18:39<18:55:32, 14.57s/it]"
     ]
    },
    {
     "name": "stdout",
     "output_type": "stream",
     "text": [
      "Test update: epoch: 323 |accuracy: 0.8367065787315369 | f1: 0.8759939074516296 | auc: 0.9121310114860535 | treshold: 0.26\n"
     ]
    },
    {
     "name": "stderr",
     "output_type": "stream",
     "text": [
      "train... loss:0.654188334941864:   6%|████▋                                                                   | 325/5000 [1:18:52<18:28:04, 14.22s/it]"
     ]
    },
    {
     "name": "stdout",
     "output_type": "stream",
     "text": [
      "Test update: epoch: 324 |accuracy: 0.838084876537323 | f1: 0.877011239528656 | auc: 0.9128167033195496 | treshold: 0.28\n"
     ]
    },
    {
     "name": "stderr",
     "output_type": "stream",
     "text": [
      "train... loss:0.6483974158763885:   7%|████▋                                                                  | 326/5000 [1:19:06<18:21:19, 14.14s/it]"
     ]
    },
    {
     "name": "stdout",
     "output_type": "stream",
     "text": [
      "Test update: epoch: 325 |accuracy: 0.8393422961235046 | f1: 0.877975344657898 | auc: 0.9132189750671387 | treshold: 0.3\n"
     ]
    },
    {
     "name": "stderr",
     "output_type": "stream",
     "text": [
      "train... loss:0.6439670324325562:   7%|████▋                                                                  | 327/5000 [1:19:24<19:49:08, 15.27s/it]"
     ]
    },
    {
     "name": "stdout",
     "output_type": "stream",
     "text": [
      "Test update: epoch: 326 |accuracy: 0.8400435447692871 | f1: 0.878322422504425 | auc: 0.9134784936904907 | treshold: 0.33\n"
     ]
    },
    {
     "name": "stderr",
     "output_type": "stream",
     "text": [
      "train... loss:0.6395900547504425:   7%|████▋                                                                  | 328/5000 [1:19:40<20:12:14, 15.57s/it]"
     ]
    },
    {
     "name": "stdout",
     "output_type": "stream",
     "text": [
      "Test update: epoch: 327 |accuracy: 0.8400193452835083 | f1: 0.8788455724716187 | auc: 0.9137258529663086 | treshold: 0.34\n"
     ]
    },
    {
     "name": "stderr",
     "output_type": "stream",
     "text": [
      "train... loss:0.635996550321579:   7%|████▋                                                                   | 329/5000 [1:19:55<19:38:24, 15.14s/it]"
     ]
    },
    {
     "name": "stdout",
     "output_type": "stream",
     "text": [
      "Test update: epoch: 328 |accuracy: 0.8407931327819824 | f1: 0.8789305090904236 | auc: 0.9138691425323486 | treshold: 0.38\n"
     ]
    },
    {
     "name": "stderr",
     "output_type": "stream",
     "text": [
      "train... loss:0.651096373796463:   7%|█████▏                                                                  | 359/5000 [1:27:35<20:21:47, 15.80s/it]"
     ]
    },
    {
     "name": "stdout",
     "output_type": "stream",
     "text": [
      "Test update: epoch: 358 |accuracy: 0.838689386844635 | f1: 0.8777779936790466 | auc: 0.9144830107688904 | treshold: 0.26\n"
     ]
    },
    {
     "name": "stderr",
     "output_type": "stream",
     "text": [
      "train... loss:0.6443175971508026:   7%|█████                                                                  | 360/5000 [1:27:53<21:09:40, 16.42s/it]"
     ]
    },
    {
     "name": "stdout",
     "output_type": "stream",
     "text": [
      "Test update: epoch: 359 |accuracy: 0.8402611613273621 | f1: 0.8789001107215881 | auc: 0.9151227474212646 | treshold: 0.28\n"
     ]
    },
    {
     "name": "stderr",
     "output_type": "stream",
     "text": [
      "train... loss:0.6374820470809937:   7%|█████▏                                                                 | 361/5000 [1:28:11<21:45:41, 16.89s/it]"
     ]
    },
    {
     "name": "stdout",
     "output_type": "stream",
     "text": [
      "Test update: epoch: 360 |accuracy: 0.8399710059165955 | f1: 0.8791232705116272 | auc: 0.9155439734458923 | treshold: 0.29000000000000004\n"
     ]
    },
    {
     "name": "stderr",
     "output_type": "stream",
     "text": [
      "train... loss:0.6306151151657104:   7%|█████▏                                                                 | 362/5000 [1:28:29<22:08:33, 17.19s/it]"
     ]
    },
    {
     "name": "stdout",
     "output_type": "stream",
     "text": [
      "Test update: epoch: 361 |accuracy: 0.8406480550765991 | f1: 0.8793614506721497 | auc: 0.9159335494041443 | treshold: 0.32\n"
     ]
    },
    {
     "name": "stderr",
     "output_type": "stream",
     "text": [
      "train... loss:0.6246851086616516:   7%|█████▏                                                                 | 363/5000 [1:28:45<21:41:04, 16.84s/it]"
     ]
    },
    {
     "name": "stdout",
     "output_type": "stream",
     "text": [
      "Test update: epoch: 362 |accuracy: 0.8416152596473694 | f1: 0.8799090385437012 | auc: 0.9162609577178955 | treshold: 0.35000000000000003\n"
     ]
    },
    {
     "name": "stderr",
     "output_type": "stream",
     "text": [
      "train... loss:0.6199176907539368:   7%|█████▏                                                                 | 364/5000 [1:29:02<21:33:46, 16.74s/it]"
     ]
    },
    {
     "name": "stdout",
     "output_type": "stream",
     "text": [
      "Test update: epoch: 363 |accuracy: 0.8419054746627808 | f1: 0.8799442052841187 | auc: 0.9165151119232178 | treshold: 0.38\n"
     ]
    },
    {
     "name": "stderr",
     "output_type": "stream",
     "text": [
      "train... loss:0.616571456193924:   7%|█████▎                                                                  | 365/5000 [1:29:18<21:21:39, 16.59s/it]"
     ]
    },
    {
     "name": "stdout",
     "output_type": "stream",
     "text": [
      "Test update: epoch: 364 |accuracy: 0.8427759408950806 | f1: 0.8804911375045776 | auc: 0.9166769981384277 | treshold: 0.41000000000000003\n"
     ]
    },
    {
     "name": "stderr",
     "output_type": "stream",
     "text": [
      "train... loss:0.6145605444908142:   7%|█████▏                                                                 | 366/5000 [1:29:36<22:02:47, 17.13s/it]"
     ]
    },
    {
     "name": "stdout",
     "output_type": "stream",
     "text": [
      "Test update: epoch: 365 |accuracy: 0.8425099849700928 | f1: 0.8804888129234314 | auc: 0.9167667627334595 | treshold: 0.43\n"
     ]
    },
    {
     "name": "stderr",
     "output_type": "stream",
     "text": [
      "train... loss:0.6353876292705536:   8%|█████▋                                                                 | 397/5000 [1:38:28<21:10:05, 16.56s/it]"
     ]
    },
    {
     "name": "stdout",
     "output_type": "stream",
     "text": [
      "Test update: epoch: 396 |accuracy: 0.840478777885437 | f1: 0.8785775899887085 | auc: 0.9157980680465698 | treshold: 0.31\n"
     ]
    },
    {
     "name": "stderr",
     "output_type": "stream",
     "text": [
      "train... loss:0.6300848424434662:   8%|█████▋                                                                 | 398/5000 [1:38:47<21:55:53, 17.16s/it]"
     ]
    },
    {
     "name": "stdout",
     "output_type": "stream",
     "text": [
      "Test update: epoch: 397 |accuracy: 0.8413251042366028 | f1: 0.8790370225906372 | auc: 0.9160605669021606 | treshold: 0.34\n"
     ]
    },
    {
     "name": "stderr",
     "output_type": "stream",
     "text": [
      "train... loss:0.6250945031642914:   8%|█████▋                                                                 | 399/5000 [1:39:01<20:53:32, 16.35s/it]"
     ]
    },
    {
     "name": "stdout",
     "output_type": "stream",
     "text": [
      "Test update: epoch: 398 |accuracy: 0.841687798500061 | f1: 0.8798164129257202 | auc: 0.9163331985473633 | treshold: 0.35000000000000003\n"
     ]
    },
    {
     "name": "stderr",
     "output_type": "stream",
     "text": [
      "train... loss:0.6198447346687317:   8%|█████▋                                                                 | 400/5000 [1:39:16<20:14:48, 15.85s/it]"
     ]
    },
    {
     "name": "stdout",
     "output_type": "stream",
     "text": [
      "Test update: epoch: 399 |accuracy: 0.8422198295593262 | f1: 0.8797256946563721 | auc: 0.9166532158851624 | treshold: 0.39\n"
     ]
    },
    {
     "name": "stderr",
     "output_type": "stream",
     "text": [
      "train... loss:0.6153808534145355:   8%|█████▋                                                                 | 401/5000 [1:39:31<19:59:46, 15.65s/it]"
     ]
    },
    {
     "name": "stdout",
     "output_type": "stream",
     "text": [
      "Test update: epoch: 400 |accuracy: 0.8424615859985352 | f1: 0.880157470703125 | auc: 0.9169908165931702 | treshold: 0.41000000000000003\n"
     ]
    },
    {
     "name": "stderr",
     "output_type": "stream",
     "text": [
      "train... loss:0.612371027469635:   8%|█████▊                                                                  | 402/5000 [1:39:47<19:59:45, 15.66s/it]"
     ]
    },
    {
     "name": "stdout",
     "output_type": "stream",
     "text": [
      "Test update: epoch: 401 |accuracy: 0.8424615859985352 | f1: 0.8797016143798828 | auc: 0.9173667430877686 | treshold: 0.45\n"
     ]
    },
    {
     "name": "stderr",
     "output_type": "stream",
     "text": [
      "train... loss:0.6099328398704529:   8%|█████▋                                                                 | 403/5000 [1:40:04<20:30:52, 16.07s/it]"
     ]
    },
    {
     "name": "stdout",
     "output_type": "stream",
     "text": [
      "Test update: epoch: 402 |accuracy: 0.8427276015281677 | f1: 0.8794037103652954 | auc: 0.9177707433700562 | treshold: 0.49\n"
     ]
    },
    {
     "name": "stderr",
     "output_type": "stream",
     "text": [
      "train... loss:0.609898030757904:   8%|█████▊                                                                  | 404/5000 [1:40:23<21:34:54, 16.90s/it]"
     ]
    },
    {
     "name": "stdout",
     "output_type": "stream",
     "text": [
      "Test update: epoch: 403 |accuracy: 0.8432112336158752 | f1: 0.8801788687705994 | auc: 0.9181618690490723 | treshold: 0.5\n"
     ]
    },
    {
     "name": "stderr",
     "output_type": "stream",
     "text": [
      "train... loss:0.6101469397544861:   8%|█████▊                                                                 | 405/5000 [1:40:42<22:40:18, 17.76s/it]"
     ]
    },
    {
     "name": "stdout",
     "output_type": "stream",
     "text": [
      "Test update: epoch: 404 |accuracy: 0.8432837724685669 | f1: 0.8802276849746704 | auc: 0.9184980392456055 | treshold: 0.52\n"
     ]
    },
    {
     "name": "stderr",
     "output_type": "stream",
     "text": [
      "train... loss:0.6117886900901794:   8%|█████▊                                                                 | 406/5000 [1:41:05<24:32:10, 19.23s/it]"
     ]
    },
    {
     "name": "stdout",
     "output_type": "stream",
     "text": [
      "Test update: epoch: 405 |accuracy: 0.8437190055847168 | f1: 0.8804011940956116 | auc: 0.9187321066856384 | treshold: 0.54\n"
     ]
    },
    {
     "name": "stderr",
     "output_type": "stream",
     "text": [
      "train... loss:0.5913391709327698:   9%|██████▏                                                                | 439/5000 [1:50:10<19:02:10, 15.03s/it]"
     ]
    },
    {
     "name": "stdout",
     "output_type": "stream",
     "text": [
      "Test update: epoch: 438 |accuracy: 0.8433321118354797 | f1: 0.8810821771621704 | auc: 0.9195146560668945 | treshold: 0.38\n"
     ]
    },
    {
     "name": "stderr",
     "output_type": "stream",
     "text": [
      "train... loss:0.5885573327541351:   9%|██████▏                                                                | 440/5000 [1:50:28<20:17:31, 16.02s/it]"
     ]
    },
    {
     "name": "stdout",
     "output_type": "stream",
     "text": [
      "Test update: epoch: 439 |accuracy: 0.8442993760108948 | f1: 0.8806288242340088 | auc: 0.9197776913642883 | treshold: 0.44\n"
     ]
    },
    {
     "name": "stderr",
     "output_type": "stream",
     "text": [
      "train... loss:0.5879901051521301:   9%|██████▎                                                                | 441/5000 [1:50:45<20:47:41, 16.42s/it]"
     ]
    },
    {
     "name": "stdout",
     "output_type": "stream",
     "text": [
      "Test update: epoch: 440 |accuracy: 0.8441300988197327 | f1: 0.8811402916908264 | auc: 0.9199734926223755 | treshold: 0.45\n"
     ]
    },
    {
     "name": "stderr",
     "output_type": "stream",
     "text": [
      "train... loss:0.588988184928894:   9%|██████▎                                                                 | 442/5000 [1:51:02<21:05:58, 16.66s/it]"
     ]
    },
    {
     "name": "stdout",
     "output_type": "stream",
     "text": [
      "Test update: epoch: 441 |accuracy: 0.8447588086128235 | f1: 0.8808197975158691 | auc: 0.9201092720031738 | treshold: 0.5\n"
     ]
    },
    {
     "name": "stderr",
     "output_type": "stream",
     "text": [
      "train... loss:0.5917608737945557:   9%|██████▎                                                                | 443/5000 [1:51:20<21:23:04, 16.89s/it]"
     ]
    },
    {
     "name": "stdout",
     "output_type": "stream",
     "text": [
      "Test update: epoch: 442 |accuracy: 0.8448313474655151 | f1: 0.8806383609771729 | auc: 0.920167088508606 | treshold: 0.53\n"
     ]
    },
    {
     "name": "stderr",
     "output_type": "stream",
     "text": [
      "train... loss:0.5950930416584015:  10%|██████▊                                                                | 476/5000 [2:00:03<18:59:56, 15.12s/it]"
     ]
    },
    {
     "name": "stdout",
     "output_type": "stream",
     "text": [
      "Test update: epoch: 475 |accuracy: 0.8439608216285706 | f1: 0.8818240165710449 | auc: 0.9201871156692505 | treshold: 0.35000000000000003\n"
     ]
    },
    {
     "name": "stderr",
     "output_type": "stream",
     "text": [
      "train... loss:0.5910452902317047:  10%|██████▊                                                                | 477/5000 [2:00:19<19:21:14, 15.40s/it]"
     ]
    },
    {
     "name": "stdout",
     "output_type": "stream",
     "text": [
      "Test update: epoch: 476 |accuracy: 0.8456776738166809 | f1: 0.8819153904914856 | auc: 0.9204775094985962 | treshold: 0.41000000000000003\n"
     ]
    },
    {
     "name": "stderr",
     "output_type": "stream",
     "text": [
      "train... loss:0.5886532664299011:  10%|██████▊                                                                | 478/5000 [2:00:36<19:41:53, 15.68s/it]"
     ]
    },
    {
     "name": "stdout",
     "output_type": "stream",
     "text": [
      "Test update: epoch: 477 |accuracy: 0.8460403680801392 | f1: 0.8820030093193054 | auc: 0.9207658767700195 | treshold: 0.44\n"
     ]
    },
    {
     "name": "stderr",
     "output_type": "stream",
     "text": [
      "train... loss:0.5871669054031372:  10%|██████▊                                                                | 479/5000 [2:00:55<21:04:20, 16.78s/it]"
     ]
    },
    {
     "name": "stdout",
     "output_type": "stream",
     "text": [
      "Test update: epoch: 478 |accuracy: 0.8460403680801392 | f1: 0.8817751407623291 | auc: 0.9210313558578491 | treshold: 0.47000000000000003\n"
     ]
    },
    {
     "name": "stderr",
     "output_type": "stream",
     "text": [
      "train... loss:0.5870595276355743:  10%|██████▊                                                                | 480/5000 [2:01:10<20:25:13, 16.26s/it]"
     ]
    },
    {
     "name": "stdout",
     "output_type": "stream",
     "text": [
      "Test update: epoch: 479 |accuracy: 0.8464272618293762 | f1: 0.8824911713600159 | auc: 0.9212601184844971 | treshold: 0.48000000000000004\n"
     ]
    },
    {
     "name": "stderr",
     "output_type": "stream",
     "text": [
      "train... loss:0.5882986485958099:  10%|██████▊                                                                | 481/5000 [2:01:25<20:01:14, 15.95s/it]"
     ]
    },
    {
     "name": "stdout",
     "output_type": "stream",
     "text": [
      "Test update: epoch: 480 |accuracy: 0.8464756608009338 | f1: 0.8821618556976318 | auc: 0.9214437007904053 | treshold: 0.51\n"
     ]
    },
    {
     "name": "stderr",
     "output_type": "stream",
     "text": [
      "train... loss:0.5905143618583679:  10%|██████▊                                                                | 482/5000 [2:01:41<19:47:53, 15.78s/it]"
     ]
    },
    {
     "name": "stdout",
     "output_type": "stream",
     "text": [
      "Test update: epoch: 481 |accuracy: 0.8470317721366882 | f1: 0.8825386166572571 | auc: 0.9215521812438965 | treshold: 0.53\n"
     ]
    },
    {
     "name": "stderr",
     "output_type": "stream",
     "text": [
      "train... loss:0.5725711584091187:  10%|███████▎                                                               | 515/5000 [2:10:28<19:05:40, 15.33s/it]"
     ]
    },
    {
     "name": "stdout",
     "output_type": "stream",
     "text": [
      "Test update: epoch: 514 |accuracy: 0.846451461315155 | f1: 0.8808898329734802 | auc: 0.9215609431266785 | treshold: 0.42000000000000004\n"
     ]
    },
    {
     "name": "stderr",
     "output_type": "stream",
     "text": [
      "train... loss:0.5696993768215179:  10%|███████▎                                                               | 516/5000 [2:10:45<19:36:08, 15.74s/it]"
     ]
    },
    {
     "name": "stdout",
     "output_type": "stream",
     "text": [
      "Test update: epoch: 515 |accuracy: 0.8475879430770874 | f1: 0.8826453685760498 | auc: 0.9219011068344116 | treshold: 0.42000000000000004\n"
     ]
    },
    {
     "name": "stderr",
     "output_type": "stream",
     "text": [
      "train... loss:0.568506509065628:  10%|███████▍                                                                | 517/5000 [2:11:05<21:05:03, 16.93s/it]"
     ]
    },
    {
     "name": "stdout",
     "output_type": "stream",
     "text": [
      "Test update: epoch: 516 |accuracy: 0.8474186658859253 | f1: 0.8819766640663147 | auc: 0.9221591949462891 | treshold: 0.46\n"
     ]
    },
    {
     "name": "stderr",
     "output_type": "stream",
     "text": [
      "train... loss:0.5686282813549042:  10%|███████▎                                                               | 518/5000 [2:11:21<20:57:19, 16.83s/it]"
     ]
    },
    {
     "name": "stdout",
     "output_type": "stream",
     "text": [
      "Test update: epoch: 517 |accuracy: 0.848458468914032 | f1: 0.8833069801330566 | auc: 0.9223338961601257 | treshold: 0.47000000000000003\n"
     ]
    },
    {
     "name": "stderr",
     "output_type": "stream",
     "text": [
      "train... loss:0.5715200006961823:  10%|███████▎                                                               | 519/5000 [2:11:39<21:12:11, 17.03s/it]"
     ]
    },
    {
     "name": "stdout",
     "output_type": "stream",
     "text": [
      "Test update: epoch: 518 |accuracy: 0.8485310077667236 | f1: 0.8834821581840515 | auc: 0.9224162697792053 | treshold: 0.49\n"
     ]
    },
    {
     "name": "stderr",
     "output_type": "stream",
     "text": [
      "train... loss:0.5891152024269104:  13%|█████████                                                              | 639/5000 [2:44:52<23:34:05, 19.46s/it]"
     ]
    },
    {
     "name": "stdout",
     "output_type": "stream",
     "text": [
      "Test update: epoch: 638 |accuracy: 0.8523516058921814 | f1: 0.884692370891571 | auc: 0.9236756563186646 | treshold: 0.66\n"
     ]
    },
    {
     "name": "stderr",
     "output_type": "stream",
     "text": [
      "train... loss:0.5859102606773376:  13%|█████████                                                              | 639/5000 [2:45:13<18:47:39, 15.51s/it]"
     ]
    },
    {
     "name": "stdout",
     "output_type": "stream",
     "text": [
      "Test update: epoch: 639 |accuracy: 0.8523516058921814 | f1: 0.8854494690895081 | auc: 0.9241049885749817 | treshold: 0.63\n",
      "\n",
      "Evaluating FlattenedGRU with svd embeddings\n"
     ]
    },
    {
     "name": "stderr",
     "output_type": "stream",
     "text": [
      "\n",
      "train:   0%|                                                                                                                 | 0/5000 [00:00<?, ?it/s]"
     ]
    },
    {
     "name": "stdout",
     "output_type": "stream",
     "text": [
      "Test before learning: {'f1': 0.5843604803085327, 'roc-auc': 0.4793788492679596, 'accuracy': 0.5050417184829712}\n"
     ]
    },
    {
     "name": "stderr",
     "output_type": "stream",
     "text": [
      "train... loss:1.3877341747283936:   0%|                                                                           | 1/5000 [00:15<21:52:29, 15.75s/it]"
     ]
    },
    {
     "name": "stdout",
     "output_type": "stream",
     "text": [
      "Test update: epoch: 0 |accuracy: 0.6443235278129578 | f1: 0.7836943864822388 | auc: 0.4936228096485138 | treshold: 0.36000000000000004\n"
     ]
    },
    {
     "name": "stderr",
     "output_type": "stream",
     "text": [
      "train... loss:1.3739787340164185:   0%|                                                                           | 2/5000 [00:27<20:11:49, 14.55s/it]"
     ]
    },
    {
     "name": "stdout",
     "output_type": "stream",
     "text": [
      "Test update: epoch: 1 |accuracy: 0.6443235278129578 | f1: 0.7836943864822388 | auc: 0.5075240135192871 | treshold: 0.37\n"
     ]
    },
    {
     "name": "stderr",
     "output_type": "stream",
     "text": [
      "train... loss:1.3615294098854065:   0%|                                                                           | 3/5000 [00:44<21:13:43, 15.29s/it]"
     ]
    },
    {
     "name": "stdout",
     "output_type": "stream",
     "text": [
      "Test update: epoch: 2 |accuracy: 0.6443235278129578 | f1: 0.7836943864822388 | auc: 0.5213623642921448 | treshold: 0.38\n"
     ]
    },
    {
     "name": "stderr",
     "output_type": "stream",
     "text": [
      "train... loss:1.3496431112289429:   0%|                                                                           | 4/5000 [01:02<22:10:49, 15.98s/it]"
     ]
    },
    {
     "name": "stdout",
     "output_type": "stream",
     "text": [
      "Test update: epoch: 3 |accuracy: 0.6443719267845154 | f1: 0.7837173938751221 | auc: 0.5349966883659363 | treshold: 0.39\n"
     ]
    },
    {
     "name": "stderr",
     "output_type": "stream",
     "text": [
      "train... loss:1.3383272886276245:   0%|                                                                           | 5/5000 [01:19<22:51:29, 16.47s/it]"
     ]
    },
    {
     "name": "stdout",
     "output_type": "stream",
     "text": [
      "Test update: epoch: 4 |accuracy: 0.6443477272987366 | f1: 0.7836295366287231 | auc: 0.5481177568435669 | treshold: 0.41000000000000003\n"
     ]
    },
    {
     "name": "stderr",
     "output_type": "stream",
     "text": [
      "train... loss:1.3278642892837524:   0%|                                                                           | 6/5000 [01:32<21:12:09, 15.28s/it]"
     ]
    },
    {
     "name": "stdout",
     "output_type": "stream",
     "text": [
      "Test update: epoch: 5 |accuracy: 0.6443235278129578 | f1: 0.7836943864822388 | auc: 0.5605003833770752 | treshold: 0.37\n"
     ]
    },
    {
     "name": "stderr",
     "output_type": "stream",
     "text": [
      "train... loss:1.3180094957351685:   0%|                                                                           | 7/5000 [01:47<21:10:52, 15.27s/it]"
     ]
    },
    {
     "name": "stdout",
     "output_type": "stream",
     "text": [
      "Test update: epoch: 6 |accuracy: 0.6444202661514282 | f1: 0.7837086319923401 | auc: 0.5721266269683838 | treshold: 0.41000000000000003\n"
     ]
    },
    {
     "name": "stderr",
     "output_type": "stream",
     "text": [
      "train... loss:1.3086857199668884:   0%|                                                                           | 8/5000 [02:05<22:09:27, 15.98s/it]"
     ]
    },
    {
     "name": "stdout",
     "output_type": "stream",
     "text": [
      "Test update: epoch: 7 |accuracy: 0.6443960666656494 | f1: 0.7836971282958984 | auc: 0.5830063819885254 | treshold: 0.41000000000000003\n"
     ]
    },
    {
     "name": "stderr",
     "output_type": "stream",
     "text": [
      "train... loss:1.3004665970802307:   0%|▏                                                                          | 9/5000 [02:19<21:33:00, 15.54s/it]"
     ]
    },
    {
     "name": "stdout",
     "output_type": "stream",
     "text": [
      "Test update: epoch: 8 |accuracy: 0.6443719267845154 | f1: 0.7836792469024658 | auc: 0.5932251811027527 | treshold: 0.41000000000000003\n"
     ]
    },
    {
     "name": "stderr",
     "output_type": "stream",
     "text": [
      "train... loss:1.2928840517997742:   0%|▏                                                                         | 10/5000 [02:32<20:29:14, 14.78s/it]"
     ]
    },
    {
     "name": "stdout",
     "output_type": "stream",
     "text": [
      "Test update: epoch: 9 |accuracy: 0.6443477272987366 | f1: 0.7837058901786804 | auc: 0.6028783321380615 | treshold: 0.37\n"
     ]
    },
    {
     "name": "stderr",
     "output_type": "stream",
     "text": [
      "train... loss:1.2851844429969788:   0%|▏                                                                         | 11/5000 [02:49<21:23:55, 15.44s/it]"
     ]
    },
    {
     "name": "stdout",
     "output_type": "stream",
     "text": [
      "Test update: epoch: 10 |accuracy: 0.6443477272987366 | f1: 0.7837058901786804 | auc: 0.612041711807251 | treshold: 0.37\n"
     ]
    },
    {
     "name": "stderr",
     "output_type": "stream",
     "text": [
      "train... loss:1.2788915038108826:   0%|▏                                                                         | 12/5000 [03:06<21:55:34, 15.82s/it]"
     ]
    },
    {
     "name": "stdout",
     "output_type": "stream",
     "text": [
      "Test update: epoch: 11 |accuracy: 0.6444686055183411 | f1: 0.783719003200531 | auc: 0.6207665205001831 | treshold: 0.42000000000000004\n"
     ]
    },
    {
     "name": "stderr",
     "output_type": "stream",
     "text": [
      "train... loss:1.2733221054077148:   0%|▏                                                                         | 13/5000 [03:22<22:01:46, 15.90s/it]"
     ]
    },
    {
     "name": "stdout",
     "output_type": "stream",
     "text": [
      "Test update: epoch: 12 |accuracy: 0.6450973153114319 | f1: 0.7836048603057861 | auc: 0.6290948987007141 | treshold: 0.47000000000000003\n"
     ]
    },
    {
     "name": "stderr",
     "output_type": "stream",
     "text": [
      "train... loss:1.2680381536483765:   0%|▏                                                                         | 14/5000 [03:39<22:41:00, 16.38s/it]"
     ]
    },
    {
     "name": "stdout",
     "output_type": "stream",
     "text": [
      "Test update: epoch: 13 |accuracy: 0.6455567479133606 | f1: 0.7837032079696655 | auc: 0.6371166706085205 | treshold: 0.48000000000000004\n"
     ]
    },
    {
     "name": "stderr",
     "output_type": "stream",
     "text": [
      "train... loss:1.2637774348258972:   0%|▏                                                                         | 15/5000 [03:54<22:04:14, 15.94s/it]"
     ]
    },
    {
     "name": "stdout",
     "output_type": "stream",
     "text": [
      "Test update: epoch: 14 |accuracy: 0.6461129188537598 | f1: 0.7837650179862976 | auc: 0.6448200345039368 | treshold: 0.49\n"
     ]
    },
    {
     "name": "stderr",
     "output_type": "stream",
     "text": [
      "train... loss:1.2602091431617737:   0%|▏                                                                         | 16/5000 [04:11<22:23:14, 16.17s/it]"
     ]
    },
    {
     "name": "stdout",
     "output_type": "stream",
     "text": [
      "Test update: epoch: 15 |accuracy: 0.6472494006156921 | f1: 0.7840670347213745 | auc: 0.6522439122200012 | treshold: 0.5\n"
     ]
    },
    {
     "name": "stderr",
     "output_type": "stream",
     "text": [
      "train... loss:1.256768524646759:   0%|▎                                                                          | 17/5000 [04:25<21:37:55, 15.63s/it]"
     ]
    },
    {
     "name": "stdout",
     "output_type": "stream",
     "text": [
      "Test update: epoch: 16 |accuracy: 0.6522064805030823 | f1: 0.784888505935669 | auc: 0.6594085693359375 | treshold: 0.53\n"
     ]
    },
    {
     "name": "stderr",
     "output_type": "stream",
     "text": [
      "train... loss:1.2540742754936218:   0%|▎                                                                         | 18/5000 [04:40<21:20:14, 15.42s/it]"
     ]
    },
    {
     "name": "stdout",
     "output_type": "stream",
     "text": [
      "Test update: epoch: 17 |accuracy: 0.656220555305481 | f1: 0.7850435972213745 | auc: 0.6662752628326416 | treshold: 0.55\n"
     ]
    },
    {
     "name": "stderr",
     "output_type": "stream",
     "text": [
      "train... loss:1.2501651644706726:   0%|▎                                                                         | 19/5000 [04:58<22:19:50, 16.14s/it]"
     ]
    },
    {
     "name": "stdout",
     "output_type": "stream",
     "text": [
      "Test update: epoch: 18 |accuracy: 0.6580824851989746 | f1: 0.7860687375068665 | auc: 0.672818660736084 | treshold: 0.55\n"
     ]
    },
    {
     "name": "stderr",
     "output_type": "stream",
     "text": [
      "train... loss:1.2460740208625793:   0%|▎                                                                         | 20/5000 [05:17<23:29:26, 16.98s/it]"
     ]
    },
    {
     "name": "stdout",
     "output_type": "stream",
     "text": [
      "Test update: epoch: 19 |accuracy: 0.6643211245536804 | f1: 0.7876070737838745 | auc: 0.6789825558662415 | treshold: 0.56\n"
     ]
    },
    {
     "name": "stderr",
     "output_type": "stream",
     "text": [
      "train... loss:1.240397572517395:   0%|▎                                                                          | 21/5000 [05:37<24:37:16, 17.80s/it]"
     ]
    },
    {
     "name": "stdout",
     "output_type": "stream",
     "text": [
      "Test update: epoch: 20 |accuracy: 0.6719381213188171 | f1: 0.7890145182609558 | auc: 0.6846989393234253 | treshold: 0.5700000000000001\n"
     ]
    },
    {
     "name": "stderr",
     "output_type": "stream",
     "text": [
      "train... loss:1.2334845066070557:   0%|▎                                                                         | 22/5000 [05:56<25:00:36, 18.09s/it]"
     ]
    },
    {
     "name": "stdout",
     "output_type": "stream",
     "text": [
      "Test update: epoch: 21 |accuracy: 0.6734614968299866 | f1: 0.790134608745575 | auc: 0.689919114112854 | treshold: 0.56\n"
     ]
    },
    {
     "name": "stderr",
     "output_type": "stream",
     "text": [
      "train... loss:1.2253360748291016:   0%|▎                                                                         | 23/5000 [06:13<24:54:29, 18.02s/it]"
     ]
    },
    {
     "name": "stdout",
     "output_type": "stream",
     "text": [
      "Test update: epoch: 22 |accuracy: 0.6829162240028381 | f1: 0.7913039326667786 | auc: 0.6946607828140259 | treshold: 0.5700000000000001\n"
     ]
    },
    {
     "name": "stderr",
     "output_type": "stream",
     "text": [
      "train... loss:1.2173598408699036:   0%|▎                                                                         | 24/5000 [06:30<24:19:19, 17.60s/it]"
     ]
    },
    {
     "name": "stdout",
     "output_type": "stream",
     "text": [
      "Test update: epoch: 23 |accuracy: 0.6859871745109558 | f1: 0.7927148342132568 | auc: 0.6989116668701172 | treshold: 0.56\n"
     ]
    },
    {
     "name": "stderr",
     "output_type": "stream",
     "text": [
      "train... loss:1.2094475030899048:   0%|▎                                                                         | 25/5000 [06:46<23:26:05, 16.96s/it]"
     ]
    },
    {
     "name": "stdout",
     "output_type": "stream",
     "text": [
      "Test update: epoch: 24 |accuracy: 0.6894208788871765 | f1: 0.7942326068878174 | auc: 0.7027205228805542 | treshold: 0.55\n"
     ]
    },
    {
     "name": "stderr",
     "output_type": "stream",
     "text": [
      "train... loss:1.2017815709114075:   1%|▍                                                                         | 26/5000 [07:03<23:50:38, 17.26s/it]"
     ]
    },
    {
     "name": "stdout",
     "output_type": "stream",
     "text": [
      "Test update: epoch: 25 |accuracy: 0.6928303837776184 | f1: 0.7955580353736877 | auc: 0.7061265707015991 | treshold: 0.54\n"
     ]
    },
    {
     "name": "stderr",
     "output_type": "stream",
     "text": [
      "train... loss:1.1945013999938965:   1%|▍                                                                         | 27/5000 [07:23<24:41:21, 17.87s/it]"
     ]
    },
    {
     "name": "stdout",
     "output_type": "stream",
     "text": [
      "Test update: epoch: 26 |accuracy: 0.6967476606369019 | f1: 0.7972123026847839 | auc: 0.7092146277427673 | treshold: 0.53\n"
     ]
    },
    {
     "name": "stderr",
     "output_type": "stream",
     "text": [
      "train... loss:1.1883333921432495:   1%|▍                                                                         | 28/5000 [07:42<25:23:00, 18.38s/it]"
     ]
    },
    {
     "name": "stdout",
     "output_type": "stream",
     "text": [
      "Test update: epoch: 27 |accuracy: 0.700302243232727 | f1: 0.7985501885414124 | auc: 0.7120154500007629 | treshold: 0.52\n"
     ]
    },
    {
     "name": "stderr",
     "output_type": "stream",
     "text": [
      "train... loss:1.1828342080116272:   1%|▍                                                                         | 29/5000 [08:01<25:32:22, 18.50s/it]"
     ]
    },
    {
     "name": "stdout",
     "output_type": "stream",
     "text": [
      "Test update: epoch: 28 |accuracy: 0.7004715204238892 | f1: 0.8001355528831482 | auc: 0.7146096229553223 | treshold: 0.5\n"
     ]
    },
    {
     "name": "stderr",
     "output_type": "stream",
     "text": [
      "train... loss:1.1782959699630737:   1%|▍                                                                         | 30/5000 [08:20<25:30:09, 18.47s/it]"
     ]
    },
    {
     "name": "stdout",
     "output_type": "stream",
     "text": [
      "Test update: epoch: 29 |accuracy: 0.6991657614707947 | f1: 0.8006026148796082 | auc: 0.7170622944831848 | treshold: 0.48000000000000004\n"
     ]
    },
    {
     "name": "stderr",
     "output_type": "stream",
     "text": [
      "train... loss:1.1741775870323181:   1%|▍                                                                         | 31/5000 [08:37<25:15:40, 18.30s/it]"
     ]
    },
    {
     "name": "stdout",
     "output_type": "stream",
     "text": [
      "Test update: epoch: 30 |accuracy: 0.7053802609443665 | f1: 0.8018797636032104 | auc: 0.7194223999977112 | treshold: 0.48000000000000004\n"
     ]
    },
    {
     "name": "stderr",
     "output_type": "stream",
     "text": [
      "train... loss:1.170646607875824:   1%|▍                                                                          | 32/5000 [08:54<24:43:20, 17.91s/it]"
     ]
    },
    {
     "name": "stdout",
     "output_type": "stream",
     "text": [
      "Test update: epoch: 31 |accuracy: 0.7075565457344055 | f1: 0.802855908870697 | auc: 0.7217452526092529 | treshold: 0.47000000000000003\n"
     ]
    },
    {
     "name": "stderr",
     "output_type": "stream",
     "text": [
      "train... loss:1.1676627397537231:   1%|▍                                                                         | 33/5000 [09:10<23:36:19, 17.11s/it]"
     ]
    },
    {
     "name": "stdout",
     "output_type": "stream",
     "text": [
      "Test update: epoch: 32 |accuracy: 0.7071937918663025 | f1: 0.8043622374534607 | auc: 0.7240587472915649 | treshold: 0.45\n"
     ]
    },
    {
     "name": "stderr",
     "output_type": "stream",
     "text": [
      "train... loss:1.1638421416282654:   1%|▌                                                                         | 34/5000 [09:30<25:02:27, 18.15s/it]"
     ]
    },
    {
     "name": "stdout",
     "output_type": "stream",
     "text": [
      "Test update: epoch: 33 |accuracy: 0.7087172269821167 | f1: 0.8051943778991699 | auc: 0.7264031171798706 | treshold: 0.44\n"
     ]
    },
    {
     "name": "stderr",
     "output_type": "stream",
     "text": [
      "train... loss:1.1601917147636414:   1%|▌                                                                         | 35/5000 [09:48<24:44:44, 17.94s/it]"
     ]
    },
    {
     "name": "stdout",
     "output_type": "stream",
     "text": [
      "Test update: epoch: 34 |accuracy: 0.7099987864494324 | f1: 0.8060546517372131 | auc: 0.7287688255310059 | treshold: 0.43\n"
     ]
    },
    {
     "name": "stderr",
     "output_type": "stream",
     "text": [
      "train... loss:1.1559658646583557:   1%|▌                                                                         | 36/5000 [10:07<25:20:02, 18.37s/it]"
     ]
    },
    {
     "name": "stdout",
     "output_type": "stream",
     "text": [
      "Test update: epoch: 35 |accuracy: 0.713867723941803 | f1: 0.8071010708808899 | auc: 0.7311681509017944 | treshold: 0.43\n"
     ]
    },
    {
     "name": "stderr",
     "output_type": "stream",
     "text": [
      "train... loss:1.1513668298721313:   1%|▌                                                                         | 37/5000 [10:26<25:45:18, 18.68s/it]"
     ]
    },
    {
     "name": "stdout",
     "output_type": "stream",
     "text": [
      "Test update: epoch: 36 |accuracy: 0.7173497676849365 | f1: 0.8082544803619385 | auc: 0.7335857152938843 | treshold: 0.43\n"
     ]
    },
    {
     "name": "stderr",
     "output_type": "stream",
     "text": [
      "train... loss:1.145757019519806:   1%|▌                                                                          | 38/5000 [10:45<25:37:36, 18.59s/it]"
     ]
    },
    {
     "name": "stdout",
     "output_type": "stream",
     "text": [
      "Test update: epoch: 37 |accuracy: 0.7178575992584229 | f1: 0.8093775510787964 | auc: 0.7360001802444458 | treshold: 0.42000000000000004\n"
     ]
    },
    {
     "name": "stderr",
     "output_type": "stream",
     "text": [
      "train... loss:1.139890968799591:   1%|▌                                                                          | 39/5000 [11:00<24:04:15, 17.47s/it]"
     ]
    },
    {
     "name": "stdout",
     "output_type": "stream",
     "text": [
      "Test update: epoch: 38 |accuracy: 0.7176641225814819 | f1: 0.8102204203605652 | auc: 0.7383829951286316 | treshold: 0.41000000000000003\n"
     ]
    },
    {
     "name": "stderr",
     "output_type": "stream",
     "text": [
      "train... loss:1.1335381269454956:   1%|▌                                                                         | 40/5000 [11:15<23:00:16, 16.70s/it]"
     ]
    },
    {
     "name": "stdout",
     "output_type": "stream",
     "text": [
      "Test update: epoch: 39 |accuracy: 0.7202031016349792 | f1: 0.8115441799163818 | auc: 0.7407093644142151 | treshold: 0.41000000000000003\n"
     ]
    },
    {
     "name": "stderr",
     "output_type": "stream",
     "text": [
      "train... loss:1.126085638999939:   1%|▌                                                                          | 41/5000 [11:33<23:48:35, 17.28s/it]"
     ]
    },
    {
     "name": "stdout",
     "output_type": "stream",
     "text": [
      "Test update: epoch: 40 |accuracy: 0.7215330600738525 | f1: 0.8124368786811829 | auc: 0.7429531812667847 | treshold: 0.41000000000000003\n"
     ]
    },
    {
     "name": "stderr",
     "output_type": "stream",
     "text": [
      "train... loss:1.119375228881836:   1%|▋                                                                          | 42/5000 [11:53<24:53:44, 18.08s/it]"
     ]
    },
    {
     "name": "stdout",
     "output_type": "stream",
     "text": [
      "Test update: epoch: 41 |accuracy: 0.7239753603935242 | f1: 0.8129209876060486 | auc: 0.7450985908508301 | treshold: 0.42000000000000004\n"
     ]
    },
    {
     "name": "stderr",
     "output_type": "stream",
     "text": [
      "train... loss:1.1125531196594238:   1%|▋                                                                         | 43/5000 [12:11<24:57:26, 18.13s/it]"
     ]
    },
    {
     "name": "stdout",
     "output_type": "stream",
     "text": [
      "Test update: epoch: 42 |accuracy: 0.7250393033027649 | f1: 0.8141173124313354 | auc: 0.7471280097961426 | treshold: 0.42000000000000004\n"
     ]
    },
    {
     "name": "stderr",
     "output_type": "stream",
     "text": [
      "train... loss:1.1062369346618652:   1%|▋                                                                         | 44/5000 [12:30<25:01:30, 18.18s/it]"
     ]
    },
    {
     "name": "stdout",
     "output_type": "stream",
     "text": [
      "Test update: epoch: 43 |accuracy: 0.7253052592277527 | f1: 0.8149053454399109 | auc: 0.7490526437759399 | treshold: 0.42000000000000004\n"
     ]
    },
    {
     "name": "stderr",
     "output_type": "stream",
     "text": [
      "train... loss:1.100856363773346:   1%|▋                                                                          | 45/5000 [12:45<23:42:37, 17.23s/it]"
     ]
    },
    {
     "name": "stdout",
     "output_type": "stream",
     "text": [
      "Test update: epoch: 44 |accuracy: 0.7267319560050964 | f1: 0.8154788017272949 | auc: 0.7508848905563354 | treshold: 0.43\n"
     ]
    },
    {
     "name": "stderr",
     "output_type": "stream",
     "text": [
      "train... loss:1.0974182486534119:   1%|▋                                                                         | 46/5000 [13:03<23:57:24, 17.41s/it]"
     ]
    },
    {
     "name": "stdout",
     "output_type": "stream",
     "text": [
      "Test update: epoch: 45 |accuracy: 0.7276750206947327 | f1: 0.8159382939338684 | auc: 0.7526413202285767 | treshold: 0.44\n"
     ]
    },
    {
     "name": "stderr",
     "output_type": "stream",
     "text": [
      "train... loss:1.0951322317123413:   1%|▋                                                                         | 47/5000 [13:22<24:42:04, 17.95s/it]"
     ]
    },
    {
     "name": "stdout",
     "output_type": "stream",
     "text": [
      "Test update: epoch: 46 |accuracy: 0.7261274456977844 | f1: 0.8158792853355408 | auc: 0.754360556602478 | treshold: 0.44\n"
     ]
    },
    {
     "name": "stderr",
     "output_type": "stream",
     "text": [
      "train... loss:1.0949434041976929:   1%|▋                                                                         | 48/5000 [13:41<25:17:35, 18.39s/it]"
     ]
    },
    {
     "name": "stdout",
     "output_type": "stream",
     "text": [
      "Test update: epoch: 47 |accuracy: 0.7284488081932068 | f1: 0.8164312839508057 | auc: 0.7560811042785645 | treshold: 0.46\n"
     ]
    },
    {
     "name": "stderr",
     "output_type": "stream",
     "text": [
      "train... loss:1.095988392829895:   1%|▋                                                                          | 49/5000 [13:58<24:48:12, 18.04s/it]"
     ]
    },
    {
     "name": "stdout",
     "output_type": "stream",
     "text": [
      "Test update: epoch: 48 |accuracy: 0.727626621723175 | f1: 0.8166905641555786 | auc: 0.7578569650650024 | treshold: 0.46\n"
     ]
    },
    {
     "name": "stderr",
     "output_type": "stream",
     "text": [
      "train... loss:1.0968447923660278:   1%|▋                                                                         | 50/5000 [14:13<23:11:51, 16.87s/it]"
     ]
    },
    {
     "name": "stdout",
     "output_type": "stream",
     "text": [
      "Test update: epoch: 49 |accuracy: 0.7304074764251709 | f1: 0.8174001574516296 | auc: 0.7597498893737793 | treshold: 0.48000000000000004\n"
     ]
    },
    {
     "name": "stderr",
     "output_type": "stream",
     "text": [
      "train... loss:1.0979995131492615:   1%|▊                                                                         | 51/5000 [14:31<23:41:24, 17.23s/it]"
     ]
    },
    {
     "name": "stdout",
     "output_type": "stream",
     "text": [
      "Test update: epoch: 50 |accuracy: 0.7308910489082336 | f1: 0.8179662227630615 | auc: 0.7618117928504944 | treshold: 0.48000000000000004\n"
     ]
    },
    {
     "name": "stderr",
     "output_type": "stream",
     "text": [
      "train... loss:1.0974726676940918:   1%|▊                                                                         | 52/5000 [14:51<24:48:42, 18.05s/it]"
     ]
    },
    {
     "name": "stdout",
     "output_type": "stream",
     "text": [
      "Test update: epoch: 51 |accuracy: 0.7324386239051819 | f1: 0.8187521696090698 | auc: 0.7640671133995056 | treshold: 0.48000000000000004\n"
     ]
    },
    {
     "name": "stderr",
     "output_type": "stream",
     "text": [
      "train... loss:1.0932127833366394:   1%|▊                                                                         | 53/5000 [15:13<26:27:12, 19.25s/it]"
     ]
    },
    {
     "name": "stdout",
     "output_type": "stream",
     "text": [
      "Test update: epoch: 52 |accuracy: 0.7343489527702332 | f1: 0.8193923830986023 | auc: 0.7664790153503418 | treshold: 0.48000000000000004\n"
     ]
    },
    {
     "name": "stderr",
     "output_type": "stream",
     "text": [
      "train... loss:1.0842570066452026:   1%|▊                                                                         | 54/5000 [15:32<26:24:02, 19.22s/it]"
     ]
    },
    {
     "name": "stdout",
     "output_type": "stream",
     "text": [
      "Test update: epoch: 53 |accuracy: 0.7372748255729675 | f1: 0.8203508853912354 | auc: 0.7689737677574158 | treshold: 0.48000000000000004\n"
     ]
    },
    {
     "name": "stderr",
     "output_type": "stream",
     "text": [
      "train... loss:1.0747520327568054:   1%|▊                                                                         | 55/5000 [15:49<25:45:27, 18.75s/it]"
     ]
    },
    {
     "name": "stdout",
     "output_type": "stream",
     "text": [
      "Test update: epoch: 54 |accuracy: 0.7406359314918518 | f1: 0.8213107585906982 | auc: 0.7714855670928955 | treshold: 0.48000000000000004\n"
     ]
    },
    {
     "name": "stderr",
     "output_type": "stream",
     "text": [
      "train... loss:1.0642200112342834:   1%|▊                                                                         | 56/5000 [16:06<24:59:06, 18.19s/it]"
     ]
    },
    {
     "name": "stdout",
     "output_type": "stream",
     "text": [
      "Test update: epoch: 55 |accuracy: 0.7431024312973022 | f1: 0.8222519755363464 | auc: 0.7739454507827759 | treshold: 0.47000000000000003\n"
     ]
    },
    {
     "name": "stderr",
     "output_type": "stream",
     "text": [
      "train... loss:1.0541579127311707:   1%|▊                                                                         | 57/5000 [16:23<24:30:33, 17.85s/it]"
     ]
    },
    {
     "name": "stdout",
     "output_type": "stream",
     "text": [
      "Test update: epoch: 56 |accuracy: 0.7434651255607605 | f1: 0.8232982158660889 | auc: 0.7763174772262573 | treshold: 0.44\n"
     ]
    },
    {
     "name": "stderr",
     "output_type": "stream",
     "text": [
      "train... loss:1.0454145073890686:   1%|▊                                                                         | 58/5000 [16:40<23:53:41, 17.41s/it]"
     ]
    },
    {
     "name": "stdout",
     "output_type": "stream",
     "text": [
      "Test update: epoch: 57 |accuracy: 0.7467778921127319 | f1: 0.8245131969451904 | auc: 0.7785695791244507 | treshold: 0.43\n"
     ]
    },
    {
     "name": "stderr",
     "output_type": "stream",
     "text": [
      "train... loss:1.0389158129692078:   1%|▊                                                                         | 59/5000 [16:56<23:34:45, 17.18s/it]"
     ]
    },
    {
     "name": "stdout",
     "output_type": "stream",
     "text": [
      "Test update: epoch: 58 |accuracy: 0.7479385733604431 | f1: 0.8251945376396179 | auc: 0.7807121276855469 | treshold: 0.41000000000000003\n"
     ]
    },
    {
     "name": "stderr",
     "output_type": "stream",
     "text": [
      "train... loss:1.0356363654136658:   1%|▉                                                                         | 60/5000 [17:13<23:21:32, 17.02s/it]"
     ]
    },
    {
     "name": "stdout",
     "output_type": "stream",
     "text": [
      "Test update: epoch: 59 |accuracy: 0.7504292130470276 | f1: 0.8259263634681702 | auc: 0.7827598452568054 | treshold: 0.4\n"
     ]
    },
    {
     "name": "stderr",
     "output_type": "stream",
     "text": [
      "train... loss:1.0354691743850708:   1%|▉                                                                         | 61/5000 [17:30<23:30:51, 17.14s/it]"
     ]
    },
    {
     "name": "stdout",
     "output_type": "stream",
     "text": [
      "Test update: epoch: 60 |accuracy: 0.7501148581504822 | f1: 0.82659912109375 | auc: 0.7847352027893066 | treshold: 0.37\n"
     ]
    },
    {
     "name": "stderr",
     "output_type": "stream",
     "text": [
      "train... loss:1.0380396842956543:   1%|▉                                                                         | 62/5000 [17:48<23:49:09, 17.37s/it]"
     ]
    },
    {
     "name": "stdout",
     "output_type": "stream",
     "text": [
      "Test update: epoch: 61 |accuracy: 0.7512755393981934 | f1: 0.8275550007820129 | auc: 0.7866523265838623 | treshold: 0.35000000000000003\n"
     ]
    },
    {
     "name": "stderr",
     "output_type": "stream",
     "text": [
      "train... loss:1.0433464646339417:   1%|▉                                                                         | 63/5000 [17:54<19:05:59, 13.93s/it]"
     ]
    },
    {
     "name": "stdout",
     "output_type": "stream",
     "text": [
      "Test update: epoch: 62 |accuracy: 0.7522669434547424 | f1: 0.8285843133926392 | auc: 0.7885255813598633 | treshold: 0.33\n"
     ]
    },
    {
     "name": "stderr",
     "output_type": "stream",
     "text": [
      "train... loss:1.0498462319374084:   1%|▉                                                                         | 64/5000 [18:00<15:45:11, 11.49s/it]"
     ]
    },
    {
     "name": "stdout",
     "output_type": "stream",
     "text": [
      "Test update: epoch: 63 |accuracy: 0.7535485625267029 | f1: 0.8290736079216003 | auc: 0.7903881669044495 | treshold: 0.32\n"
     ]
    },
    {
     "name": "stderr",
     "output_type": "stream",
     "text": [
      "train... loss:1.0563116669654846:   1%|▉                                                                         | 65/5000 [18:06<13:25:49,  9.80s/it]"
     ]
    },
    {
     "name": "stdout",
     "output_type": "stream",
     "text": [
      "Test update: epoch: 64 |accuracy: 0.755144476890564 | f1: 0.8301576375961304 | auc: 0.7922706007957458 | treshold: 0.31\n"
     ]
    },
    {
     "name": "stderr",
     "output_type": "stream",
     "text": [
      "train... loss:1.0620197653770447:   1%|▉                                                                         | 66/5000 [18:12<11:48:37,  8.62s/it]"
     ]
    },
    {
     "name": "stdout",
     "output_type": "stream",
     "text": [
      "Test update: epoch: 65 |accuracy: 0.7542498111724854 | f1: 0.8308055996894836 | auc: 0.7941782474517822 | treshold: 0.29000000000000004\n"
     ]
    },
    {
     "name": "stderr",
     "output_type": "stream",
     "text": [
      "train... loss:1.064657747745514:   1%|█                                                                          | 67/5000 [18:18<10:39:00,  7.77s/it]"
     ]
    },
    {
     "name": "stdout",
     "output_type": "stream",
     "text": [
      "Test update: epoch: 66 |accuracy: 0.7559908032417297 | f1: 0.8317241072654724 | auc: 0.7961218357086182 | treshold: 0.29000000000000004\n"
     ]
    },
    {
     "name": "stderr",
     "output_type": "stream",
     "text": [
      "train... loss:1.0624127984046936:   1%|█                                                                          | 68/5000 [18:23<9:51:09,  7.19s/it]"
     ]
    },
    {
     "name": "stdout",
     "output_type": "stream",
     "text": [
      "Test update: epoch: 67 |accuracy: 0.7568613290786743 | f1: 0.8323523998260498 | auc: 0.7980338335037231 | treshold: 0.29000000000000004\n"
     ]
    },
    {
     "name": "stderr",
     "output_type": "stream",
     "text": [
      "train... loss:1.056399405002594:   1%|█                                                                           | 69/5000 [18:29<9:14:32,  6.75s/it]"
     ]
    },
    {
     "name": "stdout",
     "output_type": "stream",
     "text": [
      "Test update: epoch: 68 |accuracy: 0.759110152721405 | f1: 0.8332273364067078 | auc: 0.7998316287994385 | treshold: 0.3\n"
     ]
    },
    {
     "name": "stderr",
     "output_type": "stream",
     "text": [
      "train... loss:1.0468839406967163:   1%|█                                                                          | 70/5000 [18:35<8:51:18,  6.47s/it]"
     ]
    },
    {
     "name": "stdout",
     "output_type": "stream",
     "text": [
      "Test update: epoch: 69 |accuracy: 0.758723258972168 | f1: 0.833716630935669 | auc: 0.8014366626739502 | treshold: 0.3\n"
     ]
    },
    {
     "name": "stderr",
     "output_type": "stream",
     "text": [
      "train... loss:1.0355269312858582:   1%|█                                                                          | 71/5000 [18:41<8:38:05,  6.31s/it]"
     ]
    },
    {
     "name": "stdout",
     "output_type": "stream",
     "text": [
      "Test update: epoch: 70 |accuracy: 0.7604401111602783 | f1: 0.8339284062385559 | auc: 0.802827775478363 | treshold: 0.32\n"
     ]
    },
    {
     "name": "stderr",
     "output_type": "stream",
     "text": [
      "train... loss:1.0234386324882507:   1%|█                                                                          | 72/5000 [18:47<8:28:12,  6.19s/it]"
     ]
    },
    {
     "name": "stdout",
     "output_type": "stream",
     "text": [
      "Test update: epoch: 71 |accuracy: 0.761504054069519 | f1: 0.8348708152770996 | auc: 0.8040012717247009 | treshold: 0.33\n"
     ]
    },
    {
     "name": "stderr",
     "output_type": "stream",
     "text": [
      "train... loss:1.0116978287696838:   1%|█                                                                          | 73/5000 [18:53<8:21:06,  6.10s/it]"
     ]
    },
    {
     "name": "stdout",
     "output_type": "stream",
     "text": [
      "Test update: epoch: 72 |accuracy: 0.7617458701133728 | f1: 0.8354844450950623 | auc: 0.8049651980400085 | treshold: 0.34\n"
     ]
    },
    {
     "name": "stderr",
     "output_type": "stream",
     "text": [
      "train... loss:1.0012926757335663:   1%|█                                                                          | 74/5000 [18:59<8:17:20,  6.06s/it]"
     ]
    },
    {
     "name": "stdout",
     "output_type": "stream",
     "text": [
      "Test update: epoch: 73 |accuracy: 0.7609962224960327 | f1: 0.8354038596153259 | auc: 0.8057607412338257 | treshold: 0.35000000000000003\n"
     ]
    },
    {
     "name": "stderr",
     "output_type": "stream",
     "text": [
      "train... loss:0.9927884042263031:   2%|█▏                                                                         | 75/5000 [19:05<8:15:22,  6.03s/it]"
     ]
    },
    {
     "name": "stdout",
     "output_type": "stream",
     "text": [
      "Test update: epoch: 74 |accuracy: 0.7618667483329773 | f1: 0.8357735872268677 | auc: 0.8064086437225342 | treshold: 0.37\n"
     ]
    },
    {
     "name": "stderr",
     "output_type": "stream",
     "text": [
      "train... loss:0.9859923124313354:   2%|█▏                                                                         | 76/5000 [19:11<8:13:41,  6.02s/it]"
     ]
    },
    {
     "name": "stdout",
     "output_type": "stream",
     "text": [
      "Test update: epoch: 75 |accuracy: 0.7634868621826172 | f1: 0.8361669182777405 | auc: 0.8069441318511963 | treshold: 0.4\n"
     ]
    },
    {
     "name": "stderr",
     "output_type": "stream",
     "text": [
      "train... loss:0.9816635251045227:   2%|█▏                                                                         | 77/5000 [19:17<8:12:58,  6.01s/it]"
     ]
    },
    {
     "name": "stdout",
     "output_type": "stream",
     "text": [
      "Test update: epoch: 76 |accuracy: 0.7625921964645386 | f1: 0.8362083435058594 | auc: 0.807390570640564 | treshold: 0.41000000000000003\n"
     ]
    },
    {
     "name": "stderr",
     "output_type": "stream",
     "text": [
      "train... loss:0.9811001121997833:   2%|█▏                                                                         | 78/5000 [19:22<8:06:53,  5.94s/it]"
     ]
    },
    {
     "name": "stdout",
     "output_type": "stream",
     "text": [
      "Test update: epoch: 77 |accuracy: 0.7628098130226135 | f1: 0.8364430665969849 | auc: 0.80778968334198 | treshold: 0.43\n"
     ]
    },
    {
     "name": "stderr",
     "output_type": "stream",
     "text": [
      "train... loss:0.9824280440807343:   2%|█▏                                                                         | 79/5000 [19:28<8:04:29,  5.91s/it]"
     ]
    },
    {
     "name": "stdout",
     "output_type": "stream",
     "text": [
      "Test update: epoch: 78 |accuracy: 0.7631725072860718 | f1: 0.8361604809761047 | auc: 0.8081554174423218 | treshold: 0.46\n"
     ]
    },
    {
     "name": "stderr",
     "output_type": "stream",
     "text": [
      "train... loss:0.9873053729534149:   2%|█▏                                                                         | 80/5000 [19:34<8:02:06,  5.88s/it]"
     ]
    },
    {
     "name": "stdout",
     "output_type": "stream",
     "text": [
      "Test update: epoch: 79 |accuracy: 0.7633176445960999 | f1: 0.8364086151123047 | auc: 0.8085281848907471 | treshold: 0.48000000000000004\n"
     ]
    },
    {
     "name": "stderr",
     "output_type": "stream",
     "text": [
      "train... loss:0.9935586750507355:   2%|█▏                                                                         | 81/5000 [19:40<8:00:04,  5.86s/it]"
     ]
    },
    {
     "name": "stdout",
     "output_type": "stream",
     "text": [
      "Test update: epoch: 80 |accuracy: 0.7636319398880005 | f1: 0.8366777300834656 | auc: 0.8089314103126526 | treshold: 0.5\n"
     ]
    },
    {
     "name": "stderr",
     "output_type": "stream",
     "text": [
      "train... loss:1.002396047115326:   2%|█▏                                                                          | 82/5000 [19:46<7:57:27,  5.83s/it]"
     ]
    },
    {
     "name": "stdout",
     "output_type": "stream",
     "text": [
      "Test update: epoch: 81 |accuracy: 0.764695942401886 | f1: 0.8367035388946533 | auc: 0.8093975782394409 | treshold: 0.53\n"
     ]
    },
    {
     "name": "stderr",
     "output_type": "stream",
     "text": [
      "train... loss:1.0112671852111816:   2%|█▏                                                                         | 83/5000 [19:51<7:57:28,  5.83s/it]"
     ]
    },
    {
     "name": "stdout",
     "output_type": "stream",
     "text": [
      "Test update: epoch: 82 |accuracy: 0.7637528777122498 | f1: 0.8364086747169495 | auc: 0.8099831938743591 | treshold: 0.54\n"
     ]
    },
    {
     "name": "stderr",
     "output_type": "stream",
     "text": [
      "train... loss:1.0195732712745667:   2%|█▎                                                                         | 84/5000 [19:57<7:56:37,  5.82s/it]"
     ]
    },
    {
     "name": "stdout",
     "output_type": "stream",
     "text": [
      "Test update: epoch: 83 |accuracy: 0.7631483674049377 | f1: 0.8366438150405884 | auc: 0.810724139213562 | treshold: 0.54\n"
     ]
    },
    {
     "name": "stderr",
     "output_type": "stream",
     "text": [
      "train... loss:1.0230481028556824:   2%|█▎                                                                         | 85/5000 [20:03<7:55:11,  5.80s/it]"
     ]
    },
    {
     "name": "stdout",
     "output_type": "stream",
     "text": [
      "Test update: epoch: 84 |accuracy: 0.764091432094574 | f1: 0.8368616700172424 | auc: 0.8116647005081177 | treshold: 0.55\n"
     ]
    },
    {
     "name": "stderr",
     "output_type": "stream",
     "text": [
      "train... loss:1.0226848125457764:   2%|█▎                                                                         | 86/5000 [20:09<8:00:04,  5.86s/it]"
     ]
    },
    {
     "name": "stdout",
     "output_type": "stream",
     "text": [
      "Test update: epoch: 85 |accuracy: 0.7664369344711304 | f1: 0.8368384838104248 | auc: 0.8127870559692383 | treshold: 0.5700000000000001\n"
     ]
    },
    {
     "name": "stderr",
     "output_type": "stream",
     "text": [
      "train... loss:1.0176047086715698:   2%|█▎                                                                         | 87/5000 [20:15<7:58:10,  5.84s/it]"
     ]
    },
    {
     "name": "stdout",
     "output_type": "stream",
     "text": [
      "Test update: epoch: 86 |accuracy: 0.7663401961326599 | f1: 0.837429940700531 | auc: 0.814039409160614 | treshold: 0.55\n"
     ]
    },
    {
     "name": "stderr",
     "output_type": "stream",
     "text": [
      "train... loss:1.0074604749679565:   2%|█▎                                                                         | 88/5000 [20:21<7:57:30,  5.83s/it]"
     ]
    },
    {
     "name": "stdout",
     "output_type": "stream",
     "text": [
      "Test update: epoch: 87 |accuracy: 0.7672591209411621 | f1: 0.8375664353370667 | auc: 0.815362811088562 | treshold: 0.54\n"
     ]
    },
    {
     "name": "stderr",
     "output_type": "stream",
     "text": [
      "train... loss:0.9947523772716522:   2%|█▎                                                                         | 89/5000 [20:26<7:56:42,  5.82s/it]"
     ]
    },
    {
     "name": "stdout",
     "output_type": "stream",
     "text": [
      "Test update: epoch: 88 |accuracy: 0.7680329084396362 | f1: 0.8379806876182556 | auc: 0.8167237639427185 | treshold: 0.52\n"
     ]
    },
    {
     "name": "stderr",
     "output_type": "stream",
     "text": [
      "train... loss:0.9819839894771576:   2%|█▎                                                                         | 90/5000 [20:32<7:56:24,  5.82s/it]"
     ]
    },
    {
     "name": "stdout",
     "output_type": "stream",
     "text": [
      "Test update: epoch: 89 |accuracy: 0.7683472633361816 | f1: 0.8384649157524109 | auc: 0.8181084990501404 | treshold: 0.49\n"
     ]
    },
    {
     "name": "stderr",
     "output_type": "stream",
     "text": [
      "train... loss:0.96895831823349:   2%|█▍                                                                           | 91/5000 [20:38<7:55:09,  5.81s/it]"
     ]
    },
    {
     "name": "stdout",
     "output_type": "stream",
     "text": [
      "Test update: epoch: 90 |accuracy: 0.7694354057312012 | f1: 0.8386933207511902 | auc: 0.8195168375968933 | treshold: 0.47000000000000003\n"
     ]
    },
    {
     "name": "stderr",
     "output_type": "stream",
     "text": [
      "train... loss:0.9571706652641296:   2%|█▍                                                                         | 92/5000 [20:44<7:52:53,  5.78s/it]"
     ]
    },
    {
     "name": "stdout",
     "output_type": "stream",
     "text": [
      "Test update: epoch: 91 |accuracy: 0.770305871963501 | f1: 0.8392751216888428 | auc: 0.8209668397903442 | treshold: 0.44\n"
     ]
    },
    {
     "name": "stderr",
     "output_type": "stream",
     "text": [
      "train... loss:0.947734922170639:   2%|█▍                                                                          | 93/5000 [20:49<7:52:00,  5.77s/it]"
     ]
    },
    {
     "name": "stdout",
     "output_type": "stream",
     "text": [
      "Test update: epoch: 92 |accuracy: 0.770886242389679 | f1: 0.8395671844482422 | auc: 0.8224706649780273 | treshold: 0.41000000000000003\n"
     ]
    },
    {
     "name": "stderr",
     "output_type": "stream",
     "text": [
      "train... loss:0.9414184391498566:   2%|█▍                                                                         | 94/5000 [20:55<7:50:03,  5.75s/it]"
     ]
    },
    {
     "name": "stdout",
     "output_type": "stream",
     "text": [
      "Test update: epoch: 93 |accuracy: 0.7725063562393188 | f1: 0.8397819995880127 | auc: 0.8240602016448975 | treshold: 0.39\n"
     ]
    },
    {
     "name": "stderr",
     "output_type": "stream",
     "text": [
      "train... loss:0.9390973448753357:   2%|█▍                                                                         | 95/5000 [21:01<7:46:36,  5.71s/it]"
     ]
    },
    {
     "name": "stdout",
     "output_type": "stream",
     "text": [
      "Test update: epoch: 94 |accuracy: 0.7734252214431763 | f1: 0.840298593044281 | auc: 0.8257943391799927 | treshold: 0.36000000000000004\n"
     ]
    },
    {
     "name": "stderr",
     "output_type": "stream",
     "text": [
      "train... loss:0.94056236743927:   2%|█▍                                                                           | 96/5000 [21:06<7:47:33,  5.72s/it]"
     ]
    },
    {
     "name": "stdout",
     "output_type": "stream",
     "text": [
      "Test update: epoch: 95 |accuracy: 0.7741748094558716 | f1: 0.8399348855018616 | auc: 0.8276832103729248 | treshold: 0.34\n"
     ]
    },
    {
     "name": "stderr",
     "output_type": "stream",
     "text": [
      "train... loss:0.9460560083389282:   2%|█▍                                                                         | 97/5000 [21:12<7:46:34,  5.71s/it]"
     ]
    },
    {
     "name": "stdout",
     "output_type": "stream",
     "text": [
      "Test update: epoch: 96 |accuracy: 0.7752388119697571 | f1: 0.839793860912323 | auc: 0.8297303915023804 | treshold: 0.32\n"
     ]
    },
    {
     "name": "stderr",
     "output_type": "stream",
     "text": [
      "train... loss:0.9559816122055054:   2%|█▍                                                                         | 98/5000 [21:18<7:47:42,  5.72s/it]"
     ]
    },
    {
     "name": "stdout",
     "output_type": "stream",
     "text": [
      "Test update: epoch: 97 |accuracy: 0.7760125994682312 | f1: 0.8406420350074768 | auc: 0.8318811655044556 | treshold: 0.29000000000000004\n"
     ]
    },
    {
     "name": "stderr",
     "output_type": "stream",
     "text": [
      "train... loss:0.9682548344135284:   2%|█▍                                                                         | 99/5000 [21:24<7:50:01,  5.75s/it]"
     ]
    },
    {
     "name": "stdout",
     "output_type": "stream",
     "text": [
      "Test update: epoch: 98 |accuracy: 0.776496171951294 | f1: 0.8418892025947571 | auc: 0.8340531587600708 | treshold: 0.26\n"
     ]
    },
    {
     "name": "stderr",
     "output_type": "stream",
     "text": [
      "train... loss:0.9817833602428436:   2%|█▍                                                                        | 100/5000 [21:29<7:48:14,  5.73s/it]"
     ]
    },
    {
     "name": "stdout",
     "output_type": "stream",
     "text": [
      "Test update: epoch: 99 |accuracy: 0.7774876356124878 | f1: 0.8420366048812866 | auc: 0.8361515998840332 | treshold: 0.25\n"
     ]
    },
    {
     "name": "stderr",
     "output_type": "stream",
     "text": [
      "train... loss:0.9935962855815887:   2%|█▍                                                                        | 101/5000 [21:35<7:44:03,  5.68s/it]"
     ]
    },
    {
     "name": "stdout",
     "output_type": "stream",
     "text": [
      "Test update: epoch: 100 |accuracy: 0.7797847986221313 | f1: 0.8427034020423889 | auc: 0.838115394115448 | treshold: 0.25\n"
     ]
    },
    {
     "name": "stderr",
     "output_type": "stream",
     "text": [
      "train... loss:0.9994067251682281:   2%|█▌                                                                        | 102/5000 [21:41<7:45:05,  5.70s/it]"
     ]
    },
    {
     "name": "stdout",
     "output_type": "stream",
     "text": [
      "Test update: epoch: 101 |accuracy: 0.7788659334182739 | f1: 0.8440351486206055 | auc: 0.8398611545562744 | treshold: 0.23\n"
     ]
    },
    {
     "name": "stderr",
     "output_type": "stream",
     "text": [
      "train... loss:0.9985892176628113:   2%|█▌                                                                        | 103/5000 [21:46<7:41:40,  5.66s/it]"
     ]
    },
    {
     "name": "stdout",
     "output_type": "stream",
     "text": [
      "Test update: epoch: 102 |accuracy: 0.781042218208313 | f1: 0.844150722026825 | auc: 0.8412898778915405 | treshold: 0.25\n"
     ]
    },
    {
     "name": "stderr",
     "output_type": "stream",
     "text": [
      "train... loss:0.9920614361763:   2%|█▌                                                                           | 104/5000 [21:52<7:40:11,  5.64s/it]"
     ]
    },
    {
     "name": "stdout",
     "output_type": "stream",
     "text": [
      "Test update: epoch: 103 |accuracy: 0.7790835499763489 | f1: 0.8448158502578735 | auc: 0.8423596024513245 | treshold: 0.24000000000000002\n"
     ]
    },
    {
     "name": "stderr",
     "output_type": "stream",
     "text": [
      "train... loss:0.9808395206928253:   2%|█▌                                                                        | 105/5000 [21:58<7:39:13,  5.63s/it]"
     ]
    },
    {
     "name": "stdout",
     "output_type": "stream",
     "text": [
      "Test update: epoch: 104 |accuracy: 0.7801232933998108 | f1: 0.845075249671936 | auc: 0.8430400490760803 | treshold: 0.26\n"
     ]
    },
    {
     "name": "stderr",
     "output_type": "stream",
     "text": [
      "train... loss:0.967935711145401:   2%|█▌                                                                         | 106/5000 [22:03<7:37:09,  5.60s/it]"
     ]
    },
    {
     "name": "stdout",
     "output_type": "stream",
     "text": [
      "Test update: epoch: 105 |accuracy: 0.7808245420455933 | f1: 0.84541916847229 | auc: 0.8433325886726379 | treshold: 0.28\n"
     ]
    },
    {
     "name": "stderr",
     "output_type": "stream",
     "text": [
      "train... loss:0.9436239004135132:   2%|█▊                                                                        | 120/5000 [23:18<7:31:18,  5.55s/it]"
     ]
    },
    {
     "name": "stdout",
     "output_type": "stream",
     "text": [
      "Test update: epoch: 119 |accuracy: 0.7868214249610901 | f1: 0.8486419916152954 | auc: 0.8449637293815613 | treshold: 0.5800000000000001\n"
     ]
    },
    {
     "name": "stderr",
     "output_type": "stream",
     "text": [
      "train... loss:0.9449019730091095:   2%|█▊                                                                        | 121/5000 [23:24<7:39:26,  5.65s/it]"
     ]
    },
    {
     "name": "stdout",
     "output_type": "stream",
     "text": [
      "Test update: epoch: 120 |accuracy: 0.7861927151679993 | f1: 0.8476462960243225 | auc: 0.8460490703582764 | treshold: 0.5800000000000001\n"
     ]
    },
    {
     "name": "stderr",
     "output_type": "stream",
     "text": [
      "train... loss:0.9405636191368103:   2%|█▊                                                                        | 122/5000 [23:29<7:44:16,  5.71s/it]"
     ]
    },
    {
     "name": "stdout",
     "output_type": "stream",
     "text": [
      "Test update: epoch: 121 |accuracy: 0.7864587306976318 | f1: 0.8465161323547363 | auc: 0.8471275568008423 | treshold: 0.5800000000000001\n"
     ]
    },
    {
     "name": "stderr",
     "output_type": "stream",
     "text": [
      "train... loss:0.931171178817749:   2%|█▊                                                                         | 123/5000 [23:35<7:48:24,  5.76s/it]"
     ]
    },
    {
     "name": "stdout",
     "output_type": "stream",
     "text": [
      "Test update: epoch: 122 |accuracy: 0.7855640053749084 | f1: 0.8456611633300781 | auc: 0.8482457399368286 | treshold: 0.55\n"
     ]
    },
    {
     "name": "stderr",
     "output_type": "stream",
     "text": [
      "train... loss:0.9187401533126831:   2%|█▊                                                                        | 124/5000 [23:41<7:48:06,  5.76s/it]"
     ]
    },
    {
     "name": "stdout",
     "output_type": "stream",
     "text": [
      "Test update: epoch: 123 |accuracy: 0.7847902178764343 | f1: 0.8440729975700378 | auc: 0.8493887186050415 | treshold: 0.52\n"
     ]
    },
    {
     "name": "stderr",
     "output_type": "stream",
     "text": [
      "train... loss:0.9033999741077423:   2%|█▊                                                                        | 125/5000 [23:47<7:47:43,  5.76s/it]"
     ]
    },
    {
     "name": "stdout",
     "output_type": "stream",
     "text": [
      "Test update: epoch: 124 |accuracy: 0.7843549847602844 | f1: 0.8438451886177063 | auc: 0.8504891991615295 | treshold: 0.46\n"
     ]
    },
    {
     "name": "stderr",
     "output_type": "stream",
     "text": [
      "train... loss:0.8887349963188171:   3%|█▊                                                                        | 126/5000 [23:52<7:46:01,  5.74s/it]"
     ]
    },
    {
     "name": "stdout",
     "output_type": "stream",
     "text": [
      "Test update: epoch: 125 |accuracy: 0.7832910418510437 | f1: 0.8423293232917786 | auc: 0.8515781760215759 | treshold: 0.41000000000000003\n"
     ]
    },
    {
     "name": "stderr",
     "output_type": "stream",
     "text": [
      "train... loss:0.8775818049907684:   3%|█▉                                                                        | 127/5000 [23:58<7:42:18,  5.69s/it]"
     ]
    },
    {
     "name": "stdout",
     "output_type": "stream",
     "text": [
      "Test update: epoch: 126 |accuracy: 0.7837988138198853 | f1: 0.8411364555358887 | auc: 0.852489709854126 | treshold: 0.37\n"
     ]
    },
    {
     "name": "stderr",
     "output_type": "stream",
     "text": [
      "train... loss:0.8722119033336639:   3%|█▉                                                                        | 128/5000 [24:04<7:40:00,  5.67s/it]"
     ]
    },
    {
     "name": "stdout",
     "output_type": "stream",
     "text": [
      "Test update: epoch: 127 |accuracy: 0.782468855381012 | f1: 0.8404964804649353 | auc: 0.8533515930175781 | treshold: 0.31\n"
     ]
    },
    {
     "name": "stderr",
     "output_type": "stream",
     "text": [
      "train... loss:0.874311089515686:   3%|█▉                                                                         | 129/5000 [24:09<7:37:17,  5.63s/it]"
     ]
    },
    {
     "name": "stdout",
     "output_type": "stream",
     "text": [
      "Test update: epoch: 128 |accuracy: 0.7819368839263916 | f1: 0.8416505455970764 | auc: 0.8541556000709534 | treshold: 0.25\n"
     ]
    },
    {
     "name": "stderr",
     "output_type": "stream",
     "text": [
      "train... loss:0.9241643249988556:   3%|█▉                                                                        | 132/5000 [24:25<7:25:29,  5.49s/it]"
     ]
    },
    {
     "name": "stdout",
     "output_type": "stream",
     "text": [
      "Test update: epoch: 131 |accuracy: 0.7838955521583557 | f1: 0.8440722227096558 | auc: 0.8549444675445557 | treshold: 0.19\n"
     ]
    },
    {
     "name": "stderr",
     "output_type": "stream",
     "text": [
      "train... loss:0.9362581074237823:   3%|█▉                                                                        | 133/5000 [24:31<7:29:11,  5.54s/it]"
     ]
    },
    {
     "name": "stdout",
     "output_type": "stream",
     "text": [
      "Test update: epoch: 132 |accuracy: 0.7859267592430115 | f1: 0.8462406992912292 | auc: 0.8562723398208618 | treshold: 0.19\n"
     ]
    },
    {
     "name": "stderr",
     "output_type": "stream",
     "text": [
      "train... loss:0.9351786375045776:   3%|█▉                                                                        | 134/5000 [24:36<7:29:48,  5.55s/it]"
     ]
    },
    {
     "name": "stdout",
     "output_type": "stream",
     "text": [
      "Test update: epoch: 133 |accuracy: 0.7852013111114502 | f1: 0.8473894596099854 | auc: 0.8585413694381714 | treshold: 0.19\n"
     ]
    },
    {
     "name": "stderr",
     "output_type": "stream",
     "text": [
      "train... loss:0.9232264757156372:   3%|█▉                                                                        | 135/5000 [24:42<7:30:36,  5.56s/it]"
     ]
    },
    {
     "name": "stdout",
     "output_type": "stream",
     "text": [
      "Test update: epoch: 134 |accuracy: 0.7885382771492004 | f1: 0.8494448065757751 | auc: 0.8611980676651001 | treshold: 0.21000000000000002\n"
     ]
    },
    {
     "name": "stderr",
     "output_type": "stream",
     "text": [
      "train... loss:0.9044862389564514:   3%|██                                                                        | 136/5000 [24:48<7:35:58,  5.62s/it]"
     ]
    },
    {
     "name": "stdout",
     "output_type": "stream",
     "text": [
      "Test update: epoch: 135 |accuracy: 0.7919477820396423 | f1: 0.8510387539863586 | auc: 0.863510251045227 | treshold: 0.24000000000000002\n"
     ]
    },
    {
     "name": "stderr",
     "output_type": "stream",
     "text": [
      "train... loss:0.8853192329406738:   3%|██                                                                        | 137/5000 [24:54<7:38:34,  5.66s/it]"
     ]
    },
    {
     "name": "stdout",
     "output_type": "stream",
     "text": [
      "Test update: epoch: 136 |accuracy: 0.7937129735946655 | f1: 0.8520079851150513 | auc: 0.8649629354476929 | treshold: 0.27\n"
     ]
    },
    {
     "name": "stderr",
     "output_type": "stream",
     "text": [
      "train... loss:0.8693186044692993:   3%|██                                                                        | 138/5000 [24:59<7:37:30,  5.65s/it]"
     ]
    },
    {
     "name": "stdout",
     "output_type": "stream",
     "text": [
      "Test update: epoch: 137 |accuracy: 0.7942691445350647 | f1: 0.8532800078392029 | auc: 0.8653117418289185 | treshold: 0.29000000000000004\n"
     ]
    },
    {
     "name": "stderr",
     "output_type": "stream",
     "text": [
      "train... loss:0.8413547277450562:   3%|██▍                                                                       | 163/5000 [27:12<7:10:02,  5.33s/it]"
     ]
    },
    {
     "name": "stdout",
     "output_type": "stream",
     "text": [
      "Test update: epoch: 162 |accuracy: 0.8026357293128967 | f1: 0.8534702658653259 | auc: 0.8676468133926392 | treshold: 0.29000000000000004\n"
     ]
    },
    {
     "name": "stderr",
     "output_type": "stream",
     "text": [
      "train... loss:0.8522673845291138:   3%|██▍                                                                       | 164/5000 [27:17<7:16:54,  5.42s/it]"
     ]
    },
    {
     "name": "stdout",
     "output_type": "stream",
     "text": [
      "Test update: epoch: 163 |accuracy: 0.8025631904602051 | f1: 0.8537760376930237 | auc: 0.8685375452041626 | treshold: 0.26\n"
     ]
    },
    {
     "name": "stderr",
     "output_type": "stream",
     "text": [
      "train... loss:0.864293098449707:   3%|██▍                                                                        | 165/5000 [27:23<7:19:44,  5.46s/it]"
     ]
    },
    {
     "name": "stdout",
     "output_type": "stream",
     "text": [
      "Test update: epoch: 164 |accuracy: 0.8012332320213318 | f1: 0.853840708732605 | auc: 0.8693800568580627 | treshold: 0.23\n"
     ]
    },
    {
     "name": "stderr",
     "output_type": "stream",
     "text": [
      "train... loss:0.8768949508666992:   3%|██▍                                                                       | 166/5000 [27:28<7:23:05,  5.50s/it]"
     ]
    },
    {
     "name": "stdout",
     "output_type": "stream",
     "text": [
      "Test update: epoch: 165 |accuracy: 0.8014266490936279 | f1: 0.8547268509864807 | auc: 0.869994044303894 | treshold: 0.21000000000000002\n"
     ]
    },
    {
     "name": "stderr",
     "output_type": "stream",
     "text": [
      "train... loss:0.8840804100036621:   3%|██▍                                                                       | 167/5000 [27:34<7:25:47,  5.53s/it]"
     ]
    },
    {
     "name": "stdout",
     "output_type": "stream",
     "text": [
      "Test update: epoch: 166 |accuracy: 0.8020553588867188 | f1: 0.8534708023071289 | auc: 0.8706973195075989 | treshold: 0.22\n"
     ]
    },
    {
     "name": "stderr",
     "output_type": "stream",
     "text": [
      "train... loss:0.8851033747196198:   3%|██▍                                                                       | 168/5000 [27:39<7:24:58,  5.53s/it]"
     ]
    },
    {
     "name": "stdout",
     "output_type": "stream",
     "text": [
      "Test update: epoch: 167 |accuracy: 0.8017410039901733 | f1: 0.8554197549819946 | auc: 0.8715924024581909 | treshold: 0.2\n"
     ]
    },
    {
     "name": "stderr",
     "output_type": "stream",
     "text": [
      "train... loss:0.8796352446079254:   3%|██▌                                                                       | 169/5000 [27:45<7:23:51,  5.51s/it]"
     ]
    },
    {
     "name": "stdout",
     "output_type": "stream",
     "text": [
      "Test update: epoch: 168 |accuracy: 0.8010156154632568 | f1: 0.8553804159164429 | auc: 0.8725024461746216 | treshold: 0.2\n"
     ]
    },
    {
     "name": "stderr",
     "output_type": "stream",
     "text": [
      "train... loss:0.8684416115283966:   3%|██▌                                                                       | 170/5000 [27:50<7:23:29,  5.51s/it]"
     ]
    },
    {
     "name": "stdout",
     "output_type": "stream",
     "text": [
      "Test update: epoch: 169 |accuracy: 0.7994438409805298 | f1: 0.8551620841026306 | auc: 0.8733513355255127 | treshold: 0.2\n"
     ]
    },
    {
     "name": "stderr",
     "output_type": "stream",
     "text": [
      "train... loss:0.8530963659286499:   3%|██▌                                                                       | 171/5000 [27:56<7:24:07,  5.52s/it]"
     ]
    },
    {
     "name": "stdout",
     "output_type": "stream",
     "text": [
      "Test update: epoch: 170 |accuracy: 0.8006770610809326 | f1: 0.8552666306495667 | auc: 0.8740831017494202 | treshold: 0.22\n"
     ]
    },
    {
     "name": "stderr",
     "output_type": "stream",
     "text": [
      "train... loss:0.8363450467586517:   3%|██▌                                                                       | 172/5000 [28:02<7:27:19,  5.56s/it]"
     ]
    },
    {
     "name": "stdout",
     "output_type": "stream",
     "text": [
      "Test update: epoch: 171 |accuracy: 0.8032160401344299 | f1: 0.8559594750404358 | auc: 0.874652624130249 | treshold: 0.25\n"
     ]
    },
    {
     "name": "stderr",
     "output_type": "stream",
     "text": [
      "train... loss:0.8203974068164825:   3%|██▌                                                                       | 173/5000 [28:07<7:34:31,  5.65s/it]"
     ]
    },
    {
     "name": "stdout",
     "output_type": "stream",
     "text": [
      "Test update: epoch: 172 |accuracy: 0.8016201257705688 | f1: 0.855923593044281 | auc: 0.8749484419822693 | treshold: 0.26\n"
     ]
    },
    {
     "name": "stderr",
     "output_type": "stream",
     "text": [
      "train... loss:0.8271661996841431:   4%|██▊                                                                       | 187/5000 [29:22<7:23:16,  5.53s/it]"
     ]
    },
    {
     "name": "stdout",
     "output_type": "stream",
     "text": [
      "Test update: epoch: 186 |accuracy: 0.8088985681533813 | f1: 0.8584985136985779 | auc: 0.8761525750160217 | treshold: 0.63\n"
     ]
    },
    {
     "name": "stderr",
     "output_type": "stream",
     "text": [
      "train... loss:0.8126820623874664:   4%|██▊                                                                       | 188/5000 [29:28<7:28:49,  5.60s/it]"
     ]
    },
    {
     "name": "stdout",
     "output_type": "stream",
     "text": [
      "Test update: epoch: 187 |accuracy: 0.8095998167991638 | f1: 0.8588129878044128 | auc: 0.8780369758605957 | treshold: 0.6\n"
     ]
    },
    {
     "name": "stderr",
     "output_type": "stream",
     "text": [
      "train... loss:0.7981253862380981:   4%|██▊                                                                       | 189/5000 [29:33<7:32:10,  5.64s/it]"
     ]
    },
    {
     "name": "stdout",
     "output_type": "stream",
     "text": [
      "Test update: epoch: 188 |accuracy: 0.8095030784606934 | f1: 0.859246015548706 | auc: 0.8801038861274719 | treshold: 0.55\n"
     ]
    },
    {
     "name": "stderr",
     "output_type": "stream",
     "text": [
      "train... loss:0.7845739722251892:   4%|██▊                                                                       | 190/5000 [29:39<7:33:26,  5.66s/it]"
     ]
    },
    {
     "name": "stdout",
     "output_type": "stream",
     "text": [
      "Test update: epoch: 189 |accuracy: 0.811365008354187 | f1: 0.8595502376556396 | auc: 0.8820062875747681 | treshold: 0.53\n"
     ]
    },
    {
     "name": "stderr",
     "output_type": "stream",
     "text": [
      "train... loss:0.7741366326808929:   4%|██▊                                                                       | 191/5000 [29:45<7:39:24,  5.73s/it]"
     ]
    },
    {
     "name": "stdout",
     "output_type": "stream",
     "text": [
      "Test update: epoch: 190 |accuracy: 0.8123564124107361 | f1: 0.8588012456893921 | auc: 0.8833012580871582 | treshold: 0.51\n"
     ]
    },
    {
     "name": "stderr",
     "output_type": "stream",
     "text": [
      "train... loss:0.7685461342334747:   4%|██▊                                                                       | 192/5000 [29:51<7:43:44,  5.79s/it]"
     ]
    },
    {
     "name": "stdout",
     "output_type": "stream",
     "text": [
      "Test update: epoch: 191 |accuracy: 0.8115584850311279 | f1: 0.8582291603088379 | auc: 0.883653461933136 | treshold: 0.46\n"
     ]
    },
    {
     "name": "stderr",
     "output_type": "stream",
     "text": [
      "train... loss:0.8085749745368958:   4%|██▉                                                                       | 200/5000 [30:32<6:59:45,  5.25s/it]"
     ]
    },
    {
     "name": "stdout",
     "output_type": "stream",
     "text": [
      "Test update: epoch: 199 |accuracy: 0.8070366382598877 | f1: 0.8571633100509644 | auc: 0.88301682472229 | treshold: 0.24000000000000002\n"
     ]
    },
    {
     "name": "stderr",
     "output_type": "stream",
     "text": [
      "train... loss:0.7919772863388062:   4%|██▉                                                                       | 201/5000 [30:38<7:08:11,  5.35s/it]"
     ]
    },
    {
     "name": "stdout",
     "output_type": "stream",
     "text": [
      "Test update: epoch: 200 |accuracy: 0.8078587651252747 | f1: 0.8586070537567139 | auc: 0.8849414587020874 | treshold: 0.24000000000000002\n"
     ]
    },
    {
     "name": "stderr",
     "output_type": "stream",
     "text": [
      "train... loss:0.7768740653991699:   4%|██▉                                                                       | 202/5000 [30:44<7:12:11,  5.40s/it]"
     ]
    },
    {
     "name": "stdout",
     "output_type": "stream",
     "text": [
      "Test update: epoch: 201 |accuracy: 0.8091161847114563 | f1: 0.8589752912521362 | auc: 0.8858944177627563 | treshold: 0.26\n"
     ]
    },
    {
     "name": "stderr",
     "output_type": "stream",
     "text": [
      "train... loss:0.7543804943561554:   4%|███▎                                                                      | 223/5000 [32:35<7:13:54,  5.45s/it]"
     ]
    },
    {
     "name": "stdout",
     "output_type": "stream",
     "text": [
      "Test update: epoch: 222 |accuracy: 0.8150405287742615 | f1: 0.862460196018219 | auc: 0.8852400183677673 | treshold: 0.41000000000000003\n"
     ]
    },
    {
     "name": "stderr",
     "output_type": "stream",
     "text": [
      "train... loss:0.7548141777515411:   4%|███▎                                                                      | 224/5000 [32:40<7:20:37,  5.54s/it]"
     ]
    },
    {
     "name": "stdout",
     "output_type": "stream",
     "text": [
      "Test update: epoch: 223 |accuracy: 0.8159351944923401 | f1: 0.8623408675193787 | auc: 0.8874157667160034 | treshold: 0.39\n"
     ]
    },
    {
     "name": "stderr",
     "output_type": "stream",
     "text": [
      "train... loss:0.7570304274559021:   4%|███▎                                                                      | 225/5000 [32:46<7:24:26,  5.58s/it]"
     ]
    },
    {
     "name": "stdout",
     "output_type": "stream",
     "text": [
      "Test update: epoch: 224 |accuracy: 0.8172651529312134 | f1: 0.8630407452583313 | auc: 0.8895329833030701 | treshold: 0.36000000000000004\n"
     ]
    },
    {
     "name": "stderr",
     "output_type": "stream",
     "text": [
      "train... loss:0.7605611681938171:   5%|███▎                                                                      | 226/5000 [32:52<7:29:09,  5.65s/it]"
     ]
    },
    {
     "name": "stdout",
     "output_type": "stream",
     "text": [
      "Test update: epoch: 225 |accuracy: 0.8174102306365967 | f1: 0.8623562455177307 | auc: 0.891411542892456 | treshold: 0.34\n"
     ]
    },
    {
     "name": "stderr",
     "output_type": "stream",
     "text": [
      "train... loss:0.7658669948577881:   5%|███▎                                                                      | 227/5000 [32:58<7:32:50,  5.69s/it]"
     ]
    },
    {
     "name": "stdout",
     "output_type": "stream",
     "text": [
      "Test update: epoch: 226 |accuracy: 0.8173618912696838 | f1: 0.8642547726631165 | auc: 0.8928227424621582 | treshold: 0.28\n"
     ]
    },
    {
     "name": "stderr",
     "output_type": "stream",
     "text": [
      "train... loss:0.7711550891399384:   5%|███▎                                                                      | 228/5000 [33:03<7:33:21,  5.70s/it]"
     ]
    },
    {
     "name": "stdout",
     "output_type": "stream",
     "text": [
      "Test update: epoch: 227 |accuracy: 0.8168057203292847 | f1: 0.8634856343269348 | auc: 0.893451452255249 | treshold: 0.26\n"
     ]
    },
    {
     "name": "stderr",
     "output_type": "stream",
     "text": [
      "train... loss:0.7390636801719666:   5%|███▋                                                                      | 249/5000 [34:54<7:16:17,  5.51s/it]"
     ]
    },
    {
     "name": "stdout",
     "output_type": "stream",
     "text": [
      "Test update: epoch: 248 |accuracy: 0.8171926140785217 | f1: 0.8633800745010376 | auc: 0.8939915895462036 | treshold: 0.59\n"
     ]
    },
    {
     "name": "stderr",
     "output_type": "stream",
     "text": [
      "train... loss:0.7287740707397461:   5%|███▋                                                                      | 250/5000 [35:00<7:24:13,  5.61s/it]"
     ]
    },
    {
     "name": "stdout",
     "output_type": "stream",
     "text": [
      "Test update: epoch: 249 |accuracy: 0.8189336061477661 | f1: 0.8633726239204407 | auc: 0.8952676057815552 | treshold: 0.59\n"
     ]
    },
    {
     "name": "stderr",
     "output_type": "stream",
     "text": [
      "train... loss:0.7198346555233002:   5%|███▋                                                                      | 251/5000 [35:06<7:32:17,  5.71s/it]"
     ]
    },
    {
     "name": "stdout",
     "output_type": "stream",
     "text": [
      "Test update: epoch: 250 |accuracy: 0.8207229971885681 | f1: 0.8635878562927246 | auc: 0.896279513835907 | treshold: 0.5800000000000001\n"
     ]
    },
    {
     "name": "stderr",
     "output_type": "stream",
     "text": [
      "train... loss:0.713342010974884:   5%|███▊                                                                       | 252/5000 [35:12<7:38:06,  5.79s/it]"
     ]
    },
    {
     "name": "stdout",
     "output_type": "stream",
     "text": [
      "Test update: epoch: 251 |accuracy: 0.8211824297904968 | f1: 0.8630631566047668 | auc: 0.8969812393188477 | treshold: 0.56\n"
     ]
    },
    {
     "name": "stderr",
     "output_type": "stream",
     "text": [
      "train... loss:0.7089397013187408:   5%|███▋                                                                      | 253/5000 [35:18<7:42:39,  5.85s/it]"
     ]
    },
    {
     "name": "stdout",
     "output_type": "stream",
     "text": [
      "Test update: epoch: 252 |accuracy: 0.8215935230255127 | f1: 0.8637438416481018 | auc: 0.8971682190895081 | treshold: 0.51\n"
     ]
    },
    {
     "name": "stderr",
     "output_type": "stream",
     "text": [
      "train... loss:0.7134212255477905:   5%|███▉                                                                      | 263/5000 [36:10<6:59:11,  5.31s/it]"
     ]
    },
    {
     "name": "stdout",
     "output_type": "stream",
     "text": [
      "Test update: epoch: 262 |accuracy: 0.8198766708374023 | f1: 0.8648805618286133 | auc: 0.8986728191375732 | treshold: 0.23\n"
     ]
    },
    {
     "name": "stderr",
     "output_type": "stream",
     "text": [
      "train... loss:0.7021216452121735:   5%|███▉                                                                      | 264/5000 [36:16<7:05:52,  5.40s/it]"
     ]
    },
    {
     "name": "stdout",
     "output_type": "stream",
     "text": [
      "Test update: epoch: 263 |accuracy: 0.8214967846870422 | f1: 0.8656548261642456 | auc: 0.8996504545211792 | treshold: 0.25\n"
     ]
    },
    {
     "name": "stderr",
     "output_type": "stream",
     "text": [
      "train... loss:0.6937177181243896:   5%|███▉                                                                      | 265/5000 [36:21<7:11:51,  5.47s/it]"
     ]
    },
    {
     "name": "stdout",
     "output_type": "stream",
     "text": [
      "Test update: epoch: 264 |accuracy: 0.8206021189689636 | f1: 0.8653807640075684 | auc: 0.8996617197990417 | treshold: 0.26\n"
     ]
    },
    {
     "name": "stderr",
     "output_type": "stream",
     "text": [
      "train... loss:0.6919333636760712:   6%|████▏                                                                     | 281/5000 [37:47<7:11:22,  5.48s/it]"
     ]
    },
    {
     "name": "stdout",
     "output_type": "stream",
     "text": [
      "Test update: epoch: 280 |accuracy: 0.8264780640602112 | f1: 0.8679280281066895 | auc: 0.9012444615364075 | treshold: 0.52\n"
     ]
    },
    {
     "name": "stderr",
     "output_type": "stream",
     "text": [
      "train... loss:0.6851923763751984:   6%|████▏                                                                     | 282/5000 [37:52<7:18:52,  5.58s/it]"
     ]
    },
    {
     "name": "stdout",
     "output_type": "stream",
     "text": [
      "Test update: epoch: 281 |accuracy: 0.8287026882171631 | f1: 0.8687516450881958 | auc: 0.9031855463981628 | treshold: 0.51\n"
     ]
    },
    {
     "name": "stderr",
     "output_type": "stream",
     "text": [
      "train... loss:0.6810189187526703:   6%|████▏                                                                     | 283/5000 [37:58<7:22:53,  5.63s/it]"
     ]
    },
    {
     "name": "stdout",
     "output_type": "stream",
     "text": [
      "Test update: epoch: 282 |accuracy: 0.8295974135398865 | f1: 0.8697388172149658 | auc: 0.9046711921691895 | treshold: 0.47000000000000003\n"
     ]
    },
    {
     "name": "stderr",
     "output_type": "stream",
     "text": [
      "train... loss:0.6792971193790436:   6%|████▏                                                                     | 284/5000 [38:04<7:23:31,  5.64s/it]"
     ]
    },
    {
     "name": "stdout",
     "output_type": "stream",
     "text": [
      "Test update: epoch: 283 |accuracy: 0.8305646181106567 | f1: 0.8712398409843445 | auc: 0.9056427478790283 | treshold: 0.42000000000000004\n"
     ]
    },
    {
     "name": "stderr",
     "output_type": "stream",
     "text": [
      "train... loss:0.6796334981918335:   6%|████▏                                                                     | 285/5000 [38:09<7:25:11,  5.67s/it]"
     ]
    },
    {
     "name": "stdout",
     "output_type": "stream",
     "text": [
      "Test update: epoch: 284 |accuracy: 0.8304437398910522 | f1: 0.8706034421920776 | auc: 0.906172513961792 | treshold: 0.4\n"
     ]
    },
    {
     "name": "stderr",
     "output_type": "stream",
     "text": [
      "train... loss:0.6809398531913757:   6%|████▋                                                                     | 316/5000 [40:51<7:06:29,  5.46s/it]"
     ]
    },
    {
     "name": "stdout",
     "output_type": "stream",
     "text": [
      "Test update: epoch: 315 |accuracy: 0.8319187760353088 | f1: 0.8714848160743713 | auc: 0.9056254625320435 | treshold: 0.42000000000000004\n"
     ]
    },
    {
     "name": "stderr",
     "output_type": "stream",
     "text": [
      "train... loss:0.6816079020500183:   6%|████▋                                                                     | 317/5000 [40:57<7:10:31,  5.52s/it]"
     ]
    },
    {
     "name": "stdout",
     "output_type": "stream",
     "text": [
      "Test update: epoch: 316 |accuracy: 0.832499086856842 | f1: 0.8724238872528076 | auc: 0.9068382382392883 | treshold: 0.38\n"
     ]
    },
    {
     "name": "stderr",
     "output_type": "stream",
     "text": [
      "train... loss:0.6822156310081482:   6%|████▋                                                                     | 318/5000 [41:03<7:12:24,  5.54s/it]"
     ]
    },
    {
     "name": "stdout",
     "output_type": "stream",
     "text": [
      "Test update: epoch: 317 |accuracy: 0.8332003355026245 | f1: 0.8726977705955505 | auc: 0.9080958366394043 | treshold: 0.36000000000000004\n"
     ]
    },
    {
     "name": "stderr",
     "output_type": "stream",
     "text": [
      "train... loss:0.6808344423770905:   6%|████▋                                                                     | 319/5000 [41:08<7:18:03,  5.61s/it]"
     ]
    },
    {
     "name": "stdout",
     "output_type": "stream",
     "text": [
      "Test update: epoch: 318 |accuracy: 0.8332486748695374 | f1: 0.8722205758094788 | auc: 0.9089624881744385 | treshold: 0.35000000000000003\n"
     ]
    },
    {
     "name": "stderr",
     "output_type": "stream",
     "text": [
      "train... loss:0.6783020496368408:   6%|████▋                                                                     | 320/5000 [41:14<7:19:16,  5.63s/it]"
     ]
    },
    {
     "name": "stdout",
     "output_type": "stream",
     "text": [
      "Test update: epoch: 319 |accuracy: 0.8335872292518616 | f1: 0.8729836344718933 | auc: 0.9094153642654419 | treshold: 0.32\n"
     ]
    },
    {
     "name": "stderr",
     "output_type": "stream",
     "text": [
      "train... loss:0.6651902198791504:   7%|█████                                                                     | 342/5000 [43:10<7:04:22,  5.47s/it]"
     ]
    },
    {
     "name": "stdout",
     "output_type": "stream",
     "text": [
      "Test update: epoch: 341 |accuracy: 0.8336114287376404 | f1: 0.8722689151763916 | auc: 0.9094176292419434 | treshold: 0.59\n"
     ]
    },
    {
     "name": "stderr",
     "output_type": "stream",
     "text": [
      "train... loss:0.6566367149353027:   7%|█████                                                                     | 343/5000 [43:16<7:13:35,  5.59s/it]"
     ]
    },
    {
     "name": "stdout",
     "output_type": "stream",
     "text": [
      "Test update: epoch: 342 |accuracy: 0.8341192007064819 | f1: 0.8724812269210815 | auc: 0.9098794460296631 | treshold: 0.5800000000000001\n"
     ]
    },
    {
     "name": "stderr",
     "output_type": "stream",
     "text": [
      "train... loss:0.6480182707309723:   7%|█████                                                                     | 344/5000 [43:21<7:17:34,  5.64s/it]"
     ]
    },
    {
     "name": "stdout",
     "output_type": "stream",
     "text": [
      "Test update: epoch: 343 |accuracy: 0.8349171876907349 | f1: 0.8723567128181458 | auc: 0.910108208656311 | treshold: 0.5800000000000001\n"
     ]
    },
    {
     "name": "stderr",
     "output_type": "stream",
     "text": [
      "train... loss:0.6419665515422821:   7%|█████                                                                     | 345/5000 [43:27<7:22:58,  5.71s/it]"
     ]
    },
    {
     "name": "stdout",
     "output_type": "stream",
     "text": [
      "Test update: epoch: 344 |accuracy: 0.8354249596595764 | f1: 0.8725229501724243 | auc: 0.9101226329803467 | treshold: 0.56\n"
     ]
    },
    {
     "name": "stderr",
     "output_type": "stream",
     "text": [
      "train... loss:0.6665975451469421:   8%|█████▌                                                                    | 375/5000 [46:06<7:09:22,  5.57s/it]"
     ]
    },
    {
     "name": "stdout",
     "output_type": "stream",
     "text": [
      "Test update: epoch: 374 |accuracy: 0.8370692729949951 | f1: 0.875383734703064 | auc: 0.9120627641677856 | treshold: 0.5800000000000001\n"
     ]
    },
    {
     "name": "stderr",
     "output_type": "stream",
     "text": [
      "train... loss:0.6596458554267883:   8%|█████▌                                                                    | 376/5000 [46:12<7:16:27,  5.66s/it]"
     ]
    },
    {
     "name": "stdout",
     "output_type": "stream",
     "text": [
      "Test update: epoch: 375 |accuracy: 0.8388586640357971 | f1: 0.8759724497795105 | auc: 0.9131901264190674 | treshold: 0.59\n"
     ]
    },
    {
     "name": "stderr",
     "output_type": "stream",
     "text": [
      "train... loss:0.6514158844947815:   8%|█████▌                                                                    | 377/5000 [46:18<7:22:25,  5.74s/it]"
     ]
    },
    {
     "name": "stdout",
     "output_type": "stream",
     "text": [
      "Test update: epoch: 376 |accuracy: 0.839874267578125 | f1: 0.8769282102584839 | auc: 0.9140266180038452 | treshold: 0.5700000000000001\n"
     ]
    },
    {
     "name": "stderr",
     "output_type": "stream",
     "text": [
      "train... loss:0.6445688307285309:   8%|█████▌                                                                    | 378/5000 [46:23<7:26:52,  5.80s/it]"
     ]
    },
    {
     "name": "stdout",
     "output_type": "stream",
     "text": [
      "Test update: epoch: 377 |accuracy: 0.8408173322677612 | f1: 0.8778505325317383 | auc: 0.9145277142524719 | treshold: 0.55\n"
     ]
    },
    {
     "name": "stderr",
     "output_type": "stream",
     "text": [
      "train... loss:0.6374434530735016:   8%|█████▌                                                                    | 379/5000 [46:29<7:27:29,  5.81s/it]"
     ]
    },
    {
     "name": "stdout",
     "output_type": "stream",
     "text": [
      "Test update: epoch: 378 |accuracy: 0.841083288192749 | f1: 0.8774246573448181 | auc: 0.9148401021957397 | treshold: 0.55\n"
     ]
    },
    {
     "name": "stderr",
     "output_type": "stream",
     "text": [
      "train... loss:0.6313588619232178:   8%|█████▌                                                                    | 380/5000 [46:35<7:27:44,  5.81s/it]"
     ]
    },
    {
     "name": "stdout",
     "output_type": "stream",
     "text": [
      "Test update: epoch: 379 |accuracy: 0.8408173322677612 | f1: 0.8772538304328918 | auc: 0.9150525331497192 | treshold: 0.53\n"
     ]
    },
    {
     "name": "stderr",
     "output_type": "stream",
     "text": [
      "train... loss:0.627464234828949:   8%|█████▋                                                                     | 381/5000 [46:41<7:26:29,  5.80s/it]"
     ]
    },
    {
     "name": "stdout",
     "output_type": "stream",
     "text": [
      "Test update: epoch: 380 |accuracy: 0.841083288192749 | f1: 0.8781293034553528 | auc: 0.9151723980903625 | treshold: 0.49\n"
     ]
    },
    {
     "name": "stderr",
     "output_type": "stream",
     "text": [
      "train... loss:0.6244169175624847:   8%|█████▋                                                                    | 382/5000 [46:47<7:25:58,  5.79s/it]"
     ]
    },
    {
     "name": "stdout",
     "output_type": "stream",
     "text": [
      "Test update: epoch: 381 |accuracy: 0.8411558270454407 | f1: 0.8773319125175476 | auc: 0.9151124954223633 | treshold: 0.49\n"
     ]
    },
    {
     "name": "stderr",
     "output_type": "stream",
     "text": [
      "train... loss:0.6544330716133118:   8%|██████▏                                                                  | 423/5000 [52:04<16:42:47, 13.15s/it]"
     ]
    },
    {
     "name": "stdout",
     "output_type": "stream",
     "text": [
      "Test update: epoch: 422 |accuracy: 0.8407931327819824 | f1: 0.8784611821174622 | auc: 0.9155872464179993 | treshold: 0.33\n"
     ]
    },
    {
     "name": "stderr",
     "output_type": "stream",
     "text": [
      "train... loss:0.6502810716629028:   8%|██████▏                                                                  | 424/5000 [52:18<16:42:19, 13.14s/it]"
     ]
    },
    {
     "name": "stdout",
     "output_type": "stream",
     "text": [
      "Test update: epoch: 423 |accuracy: 0.8420021533966064 | f1: 0.8789103031158447 | auc: 0.9160060286521912 | treshold: 0.33\n"
     ]
    },
    {
     "name": "stderr",
     "output_type": "stream",
     "text": [
      "train... loss:0.6442846953868866:   8%|██████▏                                                                  | 425/5000 [52:31<16:53:02, 13.29s/it]"
     ]
    },
    {
     "name": "stdout",
     "output_type": "stream",
     "text": [
      "Test update: epoch: 424 |accuracy: 0.841687798500061 | f1: 0.87925785779953 | auc: 0.9161704778671265 | treshold: 0.31\n"
     ]
    },
    {
     "name": "stderr",
     "output_type": "stream",
     "text": [
      "train... loss:0.6018719971179962:   9%|██████▌                                                                | 458/5000 [1:00:19<18:25:22, 14.60s/it]"
     ]
    },
    {
     "name": "stdout",
     "output_type": "stream",
     "text": [
      "Test update: epoch: 457 |accuracy: 0.8414218425750732 | f1: 0.879346489906311 | auc: 0.9163967370986938 | treshold: 0.45\n"
     ]
    },
    {
     "name": "stderr",
     "output_type": "stream",
     "text": [
      "train... loss:0.6018292307853699:   9%|██████▌                                                                | 459/5000 [1:00:34<18:41:53, 14.82s/it]"
     ]
    },
    {
     "name": "stdout",
     "output_type": "stream",
     "text": [
      "Test update: epoch: 458 |accuracy: 0.842268168926239 | f1: 0.8791791200637817 | auc: 0.9168807864189148 | treshold: 0.48000000000000004\n"
     ]
    },
    {
     "name": "stderr",
     "output_type": "stream",
     "text": [
      "train... loss:0.6012648940086365:   9%|██████▌                                                                | 460/5000 [1:00:49<18:47:24, 14.90s/it]"
     ]
    },
    {
     "name": "stdout",
     "output_type": "stream",
     "text": [
      "Test update: epoch: 459 |accuracy: 0.8423890471458435 | f1: 0.8794124126434326 | auc: 0.9171576499938965 | treshold: 0.48000000000000004\n"
     ]
    },
    {
     "name": "stderr",
     "output_type": "stream",
     "text": [
      "train... loss:0.6010038554668427:   9%|██████▌                                                                | 461/5000 [1:01:05<18:52:44, 14.97s/it]"
     ]
    },
    {
     "name": "stdout",
     "output_type": "stream",
     "text": [
      "Test update: epoch: 460 |accuracy: 0.842485785484314 | f1: 0.8791465759277344 | auc: 0.9173007011413574 | treshold: 0.49\n"
     ]
    },
    {
     "name": "stderr",
     "output_type": "stream",
     "text": [
      "train... loss:0.6304081678390503:  10%|███████                                                                | 501/5000 [1:10:33<18:57:38, 15.17s/it]"
     ]
    },
    {
     "name": "stdout",
     "output_type": "stream",
     "text": [
      "Test update: epoch: 500 |accuracy: 0.845846951007843 | f1: 0.8810123801231384 | auc: 0.9163567423820496 | treshold: 0.61\n"
     ]
    },
    {
     "name": "stderr",
     "output_type": "stream",
     "text": [
      "train... loss:0.6265829801559448:  10%|███████▏                                                               | 502/5000 [1:10:48<19:01:49, 15.23s/it]"
     ]
    },
    {
     "name": "stdout",
     "output_type": "stream",
     "text": [
      "Test update: epoch: 501 |accuracy: 0.8452907800674438 | f1: 0.8799354434013367 | auc: 0.9162782430648804 | treshold: 0.61\n"
     ]
    },
    {
     "name": "stderr",
     "output_type": "stream",
     "text": [
      "train... loss:0.6269020438194275:  10%|███████▎                                                               | 513/5000 [1:13:33<18:42:36, 15.01s/it]"
     ]
    },
    {
     "name": "stdout",
     "output_type": "stream",
     "text": [
      "Test update: epoch: 512 |accuracy: 0.8444202542304993 | f1: 0.8806042075157166 | auc: 0.9163936972618103 | treshold: 0.32\n"
     ]
    },
    {
     "name": "stderr",
     "output_type": "stream",
     "text": [
      "train... loss:0.6211148798465729:  10%|███████▎                                                               | 514/5000 [1:13:47<18:27:09, 14.81s/it]"
     ]
    },
    {
     "name": "stdout",
     "output_type": "stream",
     "text": [
      "Test update: epoch: 513 |accuracy: 0.8450973033905029 | f1: 0.8805118203163147 | auc: 0.916705846786499 | treshold: 0.33\n"
     ]
    },
    {
     "name": "stderr",
     "output_type": "stream",
     "text": [
      "train... loss:0.5765743255615234:  11%|███████▌                                                               | 535/5000 [1:18:41<17:54:13, 14.44s/it]"
     ]
    },
    {
     "name": "stdout",
     "output_type": "stream",
     "text": [
      "Test update: epoch: 534 |accuracy: 0.8440333604812622 | f1: 0.8790367841720581 | auc: 0.9172290563583374 | treshold: 0.45\n"
     ]
    },
    {
     "name": "stderr",
     "output_type": "stream",
     "text": [
      "train... loss:0.5718354284763336:  11%|███████▌                                                               | 536/5000 [1:18:55<17:53:43, 14.43s/it]"
     ]
    },
    {
     "name": "stdout",
     "output_type": "stream",
     "text": [
      "Test update: epoch: 535 |accuracy: 0.8448313474655151 | f1: 0.8797526359558105 | auc: 0.9176427125930786 | treshold: 0.43\n"
     ]
    },
    {
     "name": "stderr",
     "output_type": "stream",
     "text": [
      "train... loss:0.5705645382404327:  11%|███████▋                                                               | 537/5000 [1:19:09<17:43:25, 14.30s/it]"
     ]
    },
    {
     "name": "stdout",
     "output_type": "stream",
     "text": [
      "Test update: epoch: 536 |accuracy: 0.8449280858039856 | f1: 0.879935622215271 | auc: 0.9178934693336487 | treshold: 0.41000000000000003\n"
     ]
    },
    {
     "name": "stderr",
     "output_type": "stream",
     "text": [
      "train... loss:0.5720317363739014:  11%|███████▋                                                               | 538/5000 [1:19:23<17:30:04, 14.12s/it]"
     ]
    },
    {
     "name": "stdout",
     "output_type": "stream",
     "text": [
      "Test update: epoch: 537 |accuracy: 0.8456293344497681 | f1: 0.8805344700813293 | auc: 0.9179860353469849 | treshold: 0.39\n"
     ]
    },
    {
     "name": "stderr",
     "output_type": "stream",
     "text": [
      "train... loss:0.5770348012447357:  11%|███████▋                                                               | 539/5000 [1:19:37<17:27:05, 14.08s/it]"
     ]
    },
    {
     "name": "stdout",
     "output_type": "stream",
     "text": [
      "Test update: epoch: 538 |accuracy: 0.844662070274353 | f1: 0.8802832365036011 | auc: 0.9179266691207886 | treshold: 0.36000000000000004\n"
     ]
    },
    {
     "name": "stderr",
     "output_type": "stream",
     "text": [
      "train... loss:0.6249691247940063:  11%|███████▊                                                               | 548/5000 [1:21:41<16:33:50, 13.39s/it]"
     ]
    },
    {
     "name": "stdout",
     "output_type": "stream",
     "text": [
      "Test update: epoch: 547 |accuracy: 0.8446137309074402 | f1: 0.8819401264190674 | auc: 0.9184017777442932 | treshold: 0.28\n"
     ]
    },
    {
     "name": "stderr",
     "output_type": "stream",
     "text": [
      "train... loss:0.6150579750537872:  11%|███████▊                                                               | 549/5000 [1:21:55<16:53:33, 13.66s/it]"
     ]
    },
    {
     "name": "stdout",
     "output_type": "stream",
     "text": [
      "Test update: epoch: 548 |accuracy: 0.845460057258606 | f1: 0.8813999891281128 | auc: 0.9189947247505188 | treshold: 0.32\n"
     ]
    },
    {
     "name": "stderr",
     "output_type": "stream",
     "text": [
      "train... loss:0.604635626077652:  11%|███████▉                                                                | 550/5000 [1:22:10<17:26:11, 14.11s/it]"
     ]
    },
    {
     "name": "stdout",
     "output_type": "stream",
     "text": [
      "Test update: epoch: 549 |accuracy: 0.8461613059043884 | f1: 0.882563591003418 | auc: 0.9195462465286255 | treshold: 0.32\n"
     ]
    },
    {
     "name": "stderr",
     "output_type": "stream",
     "text": [
      "train... loss:0.5944884419441223:  11%|███████▊                                                               | 551/5000 [1:22:26<17:57:12, 14.53s/it]"
     ]
    },
    {
     "name": "stdout",
     "output_type": "stream",
     "text": [
      "Test update: epoch: 550 |accuracy: 0.8467416167259216 | f1: 0.882855236530304 | auc: 0.9200189113616943 | treshold: 0.34\n"
     ]
    },
    {
     "name": "stderr",
     "output_type": "stream",
     "text": [
      "train... loss:0.5852948129177094:  11%|███████▊                                                               | 552/5000 [1:22:41<18:24:27, 14.90s/it]"
     ]
    },
    {
     "name": "stdout",
     "output_type": "stream",
     "text": [
      "Test update: epoch: 551 |accuracy: 0.8473703265190125 | f1: 0.8831846714019775 | auc: 0.9203953742980957 | treshold: 0.36000000000000004\n"
     ]
    },
    {
     "name": "stderr",
     "output_type": "stream",
     "text": [
      "train... loss:0.5773271024227142:  11%|███████▊                                                               | 553/5000 [1:22:56<18:22:53, 14.88s/it]"
     ]
    },
    {
     "name": "stdout",
     "output_type": "stream",
     "text": [
      "Test update: epoch: 552 |accuracy: 0.847636342048645 | f1: 0.8828614354133606 | auc: 0.9206670522689819 | treshold: 0.39\n"
     ]
    },
    {
     "name": "stderr",
     "output_type": "stream",
     "text": [
      "train... loss:0.5714738368988037:  11%|███████▊                                                               | 554/5000 [1:23:11<18:22:45, 14.88s/it]"
     ]
    },
    {
     "name": "stdout",
     "output_type": "stream",
     "text": [
      "Test update: epoch: 553 |accuracy: 0.8480232357978821 | f1: 0.8831110596656799 | auc: 0.9208279848098755 | treshold: 0.41000000000000003\n"
     ]
    },
    {
     "name": "stderr",
     "output_type": "stream",
     "text": [
      "train... loss:0.5905686318874359:  12%|████████▍                                                               | 584/5000 [1:27:28<6:36:56,  5.39s/it]"
     ]
    },
    {
     "name": "stdout",
     "output_type": "stream",
     "text": [
      "Test update: epoch: 583 |accuracy: 0.8486277461051941 | f1: 0.8828198313713074 | auc: 0.9211499691009521 | treshold: 0.33\n"
     ]
    },
    {
     "name": "stderr",
     "output_type": "stream",
     "text": [
      "train... loss:0.588853508234024:  12%|████████▌                                                                | 585/5000 [1:27:34<6:44:52,  5.50s/it]"
     ]
    },
    {
     "name": "stdout",
     "output_type": "stream",
     "text": [
      "Test update: epoch: 584 |accuracy: 0.8485068082809448 | f1: 0.8840952515602112 | auc: 0.9213669896125793 | treshold: 0.32\n"
     ]
    },
    {
     "name": "stderr",
     "output_type": "stream",
     "text": [
      "train... loss:0.5867626368999481:  12%|████████▍                                                               | 586/5000 [1:27:40<6:46:46,  5.53s/it]"
     ]
    },
    {
     "name": "stdout",
     "output_type": "stream",
     "text": [
      "Test update: epoch: 585 |accuracy: 0.8485552072525024 | f1: 0.8834595680236816 | auc: 0.9213869571685791 | treshold: 0.36000000000000004\n"
     ]
    },
    {
     "name": "stderr",
     "output_type": "stream",
     "text": [
      "train... loss:0.5823400318622589:  12%|████████▌                                                               | 592/5000 [1:28:12<6:39:59,  5.44s/it]"
     ]
    },
    {
     "name": "stdout",
     "output_type": "stream",
     "text": [
      "Test update: epoch: 591 |accuracy: 0.8484826683998108 | f1: 0.8839285969734192 | auc: 0.9212073087692261 | treshold: 0.5\n"
     ]
    },
    {
     "name": "stderr",
     "output_type": "stream",
     "text": [
      "train... loss:0.5846573412418365:  12%|████████▌                                                               | 593/5000 [1:28:17<6:49:39,  5.58s/it]"
     ]
    },
    {
     "name": "stdout",
     "output_type": "stream",
     "text": [
      "Test update: epoch: 592 |accuracy: 0.8483133912086487 | f1: 0.8835551738739014 | auc: 0.9214380979537964 | treshold: 0.53\n"
     ]
    },
    {
     "name": "stderr",
     "output_type": "stream",
     "text": [
      "train... loss:0.587022066116333:  12%|████████▋                                                                | 594/5000 [1:28:23<6:55:26,  5.66s/it]"
     ]
    },
    {
     "name": "stdout",
     "output_type": "stream",
     "text": [
      "Test update: epoch: 593 |accuracy: 0.8487728238105774 | f1: 0.883568525314331 | auc: 0.9217262864112854 | treshold: 0.56\n"
     ]
    },
    {
     "name": "stderr",
     "output_type": "stream",
     "text": [
      "train... loss:0.5901892483234406:  12%|████████▌                                                               | 595/5000 [1:28:29<6:58:56,  5.71s/it]"
     ]
    },
    {
     "name": "stdout",
     "output_type": "stream",
     "text": [
      "Test update: epoch: 594 |accuracy: 0.8495466113090515 | f1: 0.8840606808662415 | auc: 0.9220319390296936 | treshold: 0.5800000000000001\n"
     ]
    },
    {
     "name": "stderr",
     "output_type": "stream",
     "text": [
      "train... loss:0.5928073823451996:  12%|████████▌                                                               | 596/5000 [1:28:35<7:00:37,  5.73s/it]"
     ]
    },
    {
     "name": "stdout",
     "output_type": "stream",
     "text": [
      "Test update: epoch: 595 |accuracy: 0.8501511216163635 | f1: 0.8838534355163574 | auc: 0.9223062992095947 | treshold: 0.61\n"
     ]
    },
    {
     "name": "stderr",
     "output_type": "stream",
     "text": [
      "train... loss:0.5957358777523041:  12%|████████▌                                                               | 597/5000 [1:28:41<7:01:32,  5.74s/it]"
     ]
    },
    {
     "name": "stdout",
     "output_type": "stream",
     "text": [
      "Test update: epoch: 596 |accuracy: 0.8510941863059998 | f1: 0.8844479322433472 | auc: 0.9224815368652344 | treshold: 0.62\n"
     ]
    },
    {
     "name": "stderr",
     "output_type": "stream",
     "text": [
      "train... loss:0.574576735496521:  12%|████████▋                                                               | 605/5000 [1:29:28<10:50:02,  8.87s/it]\n"
     ]
    }
   ],
   "source": [
    "for embeddings in ['neural','explicit', 'svd',  ]:\n",
    "    print(f\"\\nEvaluating {experiment_name} with {embeddings} embeddings\")\n",
    "\n",
    "    model = NeuralClickModel(\n",
    "        RecsysEmbedding(train_num_items, r_train_user_item_matrix, embeddings='neural'),\n",
    "        output_dim=1\n",
    "    ).to(device)\n",
    "\n",
    "    _, metrics = train(model, \n",
    "       r_train_loader, r_val_loader, r_test_loader, device=device, lr=1e-3, num_epochs=5000, early_stopping=50,\n",
    "       silent=True, \n",
    "    )\n",
    "    \n",
    "    metrics['embeddings'] = embeddings\n",
    "    rl4rs_results.append(metrics)\n",
    "    \n",
    "pd.DataFrame(rl4rs_results).to_csv(f'results/rl4rs_{experiment_name}.csv')"
   ]
  }
 ],
 "metadata": {
  "kernelspec": {
   "display_name": "Python 3 (ipykernel)",
   "language": "python",
   "name": "python3"
  },
  "language_info": {
   "codemirror_mode": {
    "name": "ipython",
    "version": 3
   },
   "file_extension": ".py",
   "mimetype": "text/x-python",
   "name": "python",
   "nbconvert_exporter": "python",
   "pygments_lexer": "ipython3",
   "version": "3.7.10"
  }
 },
 "nbformat": 4,
 "nbformat_minor": 5
}
