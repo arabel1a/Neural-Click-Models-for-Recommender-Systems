{
 "cells": [
  {
   "cell_type": "code",
   "execution_count": 1,
   "metadata": {},
   "outputs": [
    {
     "data": {
      "text/plain": [
       "<torch._C.Generator at 0x7ff38c125190>"
      ]
     },
     "execution_count": 1,
     "metadata": {},
     "output_type": "execute_result"
    }
   ],
   "source": [
    "import torch\n",
    "import random\n",
    "import datetime\n",
    "import pandas as pd\n",
    "import numpy as np\n",
    "import os\n",
    "\n",
    "from torch.utils.data import Dataset\n",
    "from src.datasets import RL4RS, ContentWise, DummyData\n",
    "from src.utils import train, get_dummy_data, get_train_val_test_tmatrix_tnumitems, fit_treshold\n",
    "from src.embeddings import RecsysEmbedding\n",
    "from sklearn.linear_model import LogisticRegression\n",
    "\n",
    "experiment_name = 'NeuralClickModel'\n",
    "device = 'cuda:2'\n",
    "seed = 7331\n",
    "pkl_path = '../data/'\n",
    "\n",
    "\n",
    "random.seed(seed)\n",
    "np.random.seed(seed)\n",
    "torch.manual_seed(seed)"
   ]
  },
  {
   "cell_type": "code",
   "execution_count": 2,
   "metadata": {},
   "outputs": [
    {
     "name": "stdout",
     "output_type": "stream",
     "text": [
      "tensor([[[ 0,  1,  2,  3,  4],\n",
      "         [ 5,  6,  7,  8,  9],\n",
      "         [10, 11, 12, 13, 14]],\n",
      "\n",
      "        [[15, 16, 17, 18, 19],\n",
      "         [20, 21, 22, 23, 24],\n",
      "         [25, 26, 27, 28, 29]],\n",
      "\n",
      "        [[30, 31, 32, 33, 34],\n",
      "         [35, 36, 37, 38, 39],\n",
      "         [40, 41, 42, 43, 44]],\n",
      "\n",
      "        [[45, 46, 47, 48, 49],\n",
      "         [50, 51, 52, 53, 54],\n",
      "         [55, 56, 57, 58, 59]]]) tensor([[ 0,  1,  2,  3,  4],\n",
      "        [ 5,  6,  7,  8,  9],\n",
      "        [10, 11, 12, 13, 14],\n",
      "        [15, 16, 17, 18, 19],\n",
      "        [20, 21, 22, 23, 24],\n",
      "        [25, 26, 27, 28, 29],\n",
      "        [30, 31, 32, 33, 34],\n",
      "        [35, 36, 37, 38, 39],\n",
      "        [40, 41, 42, 43, 44],\n",
      "        [45, 46, 47, 48, 49],\n",
      "        [50, 51, 52, 53, 54],\n",
      "        [55, 56, 57, 58, 59]])\n"
     ]
    }
   ],
   "source": [
    "x = torch.arange(60).reshape(4,3,5)\n",
    "print(x, x.flatten(0,1))"
   ]
  },
  {
   "cell_type": "code",
   "execution_count": 3,
   "metadata": {},
   "outputs": [],
   "source": [
    "def flatten(true, pred, mask, to_cpu=True):\n",
    "    mask = mask.flatten()\n",
    "    nnz_idx = mask.nonzero()[:, 0]\n",
    "    true, pred = [x.flatten()[nnz_idx] for x in [true, pred]]\n",
    "    if to_cpu:\n",
    "        true, pred = [x.cpu().numpy() for x in [true, pred]]\n",
    "    return true, pred\n"
   ]
  },
  {
   "cell_type": "markdown",
   "metadata": {},
   "source": [
    "# Модель"
   ]
  },
  {
   "cell_type": "code",
   "execution_count": 4,
   "metadata": {},
   "outputs": [
    {
     "name": "stderr",
     "output_type": "stream",
     "text": [
      "3it [00:00, 3313.91it/s]"
     ]
    },
    {
     "name": "stdout",
     "output_type": "stream",
     "text": [
      "biulding affinity matrix...\n"
     ]
    },
    {
     "name": "stderr",
     "output_type": "stream",
     "text": [
      "\n",
      "/opt/conda/lib/python3.7/site-packages/sklearn/utils/extmath.py:376: FutureWarning: If 'random_state' is not supplied, the current default is to use 0 as a fixed seed. This will change to  None in version 1.2 leading to non-deterministic results that better reflect nature of the randomized_svd solver. If you want to silence this warning, set 'random_state' to an integer seed or to None explicitly depending if you want your code to be deterministic or not.\n",
      "  FutureWarning,\n"
     ]
    },
    {
     "data": {
      "text/plain": [
       "tensor([[[-0.2637, -0.0412,  0.1598],\n",
       "         [-0.1717,  0.0120,  0.0835]],\n",
       "\n",
       "        [[-0.3949, -0.4857, -0.1529],\n",
       "         [-0.0378,  0.0587,  0.1066]]], grad_fn=<ViewBackward>)"
      ]
     },
     "execution_count": 4,
     "metadata": {},
     "output_type": "execute_result"
    }
   ],
   "source": [
    "import torch.nn as nn\n",
    "import torch.nn.functional as F\n",
    "\n",
    "class NeuralClickModel(nn.Module):\n",
    "    def __init__(self, embedding, readout=False):\n",
    "        super().__init__()\n",
    "        \n",
    "        self.embedding = embedding\n",
    "        \n",
    "        self.emb_dim = embedding.embedding_dim\n",
    "        self.rnn_layer = nn.GRU(\n",
    "            input_size=self.emb_dim * 2, \n",
    "            hidden_size=self.emb_dim, \n",
    "            batch_first=True\n",
    "        )\n",
    "        self.out_layer = nn.Linear(self.emb_dim, 1)\n",
    "        \n",
    "        self.thr = -1.5\n",
    "        self.readout = readout\n",
    "        self.readout_mode = 'threshold' # ['soft' ,'threshold', 'sample', 'diff_sample']\n",
    "        \n",
    "        self.calibration = False\n",
    "        self.w = 1\n",
    "        self.b = 0\n",
    "\n",
    "    def forward(self, batch):\n",
    "        item_embs, user_embs = self.embedding(batch)\n",
    "        shp = item_embs.shape\n",
    "        max_sequence = item_embs.size(1)\n",
    "#         print({k:v.shape for k, v in batch.items()})\n",
    "#         print(item_embs.shape, user_embs.shape)\n",
    "        # ilya format\n",
    "        # 'items': (batch, slate, 2*embedding_dim ) 2, нужно для readout, по умолчанию ноли на половине эмбеддинга\n",
    "        # 'clicks': (batch, slate)\n",
    "        # 'users': (1, batch, embedding_dim), \n",
    "        # 'mask': (batch, slate)\n",
    "        \n",
    "        x = {}\n",
    "        x['items'] = torch.cat(\n",
    "            [\n",
    "                item_embs.flatten(0,1),\n",
    "                torch.zeros_like(item_embs.flatten(0,1)),\n",
    "            ],\n",
    "            dim = -1\n",
    "        )\n",
    "                \n",
    "        if self.training:\n",
    "            indices = (batch['length'] - 1)\n",
    "        else:\n",
    "            indices = (batch['in_length'] - 1)\n",
    "        indices[indices<0] = 0\n",
    "        indices = indices[:, None, None].repeat(1, 1, user_embs.size(-1))\n",
    "        user_embs = user_embs.gather(1, indices).squeeze(-2).unsqueeze(0)\n",
    "        x['users'] = user_embs.repeat_interleave(max_sequence, 1)\n",
    "        x['clicks'] = (batch['responses'].flatten(0,1) > 0 ).int().clone()\n",
    "        x['mask'] = batch['slates_mask'].flatten(0,1).clone()\n",
    "        \n",
    "#         print(*[(k,v) for k,v in x.items()], sep='\\n')\n",
    "                \n",
    "#         items = F.dropout(x['items'], p=0.1, training=self.training)\n",
    "#         h = F.dropout(x['users'], p=0.1, training=self.training)\n",
    "        items = x['items']\n",
    "        h = x['users']\n",
    "        \n",
    "        if self.readout:\n",
    "            res = []\n",
    "            seq_len = items.shape[1]\n",
    "            for i in range(seq_len):\n",
    "#                 print(items[:,[i],:])\n",
    "                output, h = self.rnn_layer(items[:,[i],:], h)\n",
    "                y = self.out_layer(output)[:, :, 0]\n",
    "                \n",
    "                # readout\n",
    "                if i + 1 < seq_len:\n",
    "                    if self.readout_mode == 'threshold':\n",
    "                        items[:, [i+1], self.emb_dim:] *= (y.detach()[:, :, None] > self.thr).to(torch.float32)\n",
    "                    elif self.readout_mode == 'soft':\n",
    "                        items[:, [i+1], self.emb_dim:] *= torch.sigmoid(y)[:, :, None]\n",
    "                    elif self.readout_mode == 'diff_sample' or self.readout_mode == 'sample':\n",
    "                        eps = 1e-8\n",
    "                        gumbel_sample = -( (torch.rand_like(y) + eps).log() / (torch.rand_like(y) + eps).log() + eps).log()\n",
    "                        T = 0.3\n",
    "                        bernoulli_sample = torch.sigmoid( (nn.LogSigmoid()(self.w * y + self.b) + gumbel_sample) / T )\n",
    "                        if self.readout_mode == 'sample':\n",
    "                            bernoulli_sample = bernoulli_sample.detach()\n",
    "                        items[:, [i+1], self.emb_dim:] *= bernoulli_sample[:, :, None]\n",
    "                    else:\n",
    "                        raise\n",
    "                    \n",
    "                res.append(y)\n",
    "        \n",
    "            y = torch.cat(res, axis=1)\n",
    "            \n",
    "        else:\n",
    "            items[:, 1:, self.emb_dim:] *= x['clicks'][:, :-1, None]\n",
    "#             print(items)\n",
    "            rnn_out, _ = self.rnn_layer(items, h)\n",
    "            y = self.out_layer(rnn_out)[:, :, 0]\n",
    "        \n",
    "        \n",
    "        if self.calibration and self.training:\n",
    "            clicks_flat, logits_flat = flatten(x['clicks'], y.detach(), x['mask'])\n",
    "            # print(clicks_flat.mean(), torch.sigmoid(torch.Tensor([-1.5])))\n",
    "            logreg = LogisticRegression()\n",
    "#             print(logits_flat[:, None], clicks_flat)\n",
    "            logreg.fit(logits_flat[:, None], clicks_flat)\n",
    "            γ = 0.3\n",
    "            self.w = (1 - γ) * self.w + γ * logreg.coef_[0, 0]\n",
    "            self.b = (1 - γ) * self.b + γ * logreg.intercept_[0]\n",
    "            y = self.w * y + self.b\n",
    "        else:\n",
    "            y = self.w * y + self.b\n",
    "            \n",
    "        return y.reshape(shp[:-1])\n",
    "    \n",
    "\n",
    "d = DummyData()\n",
    "dummy_loader, dummy_matrix = get_dummy_data(d)\n",
    "emb = RecsysEmbedding(d.n_items, dummy_matrix, embeddings='explicit')\n",
    "\n",
    "for batch in dummy_loader:\n",
    "    break\n",
    "\n",
    "    \n",
    "model = NeuralClickModel(\n",
    "    RecsysEmbedding(d.n_items, dummy_matrix, embeddings='svd', embedding_dim=2),\n",
    "    readout=True\n",
    ").to('cpu')\n",
    "\n",
    "model(batch)\n"
   ]
  },
  {
   "cell_type": "markdown",
   "metadata": {},
   "source": [
    "# Игрушечный датасет: проверим, что сходится к идеальным метрикам"
   ]
  },
  {
   "cell_type": "code",
   "execution_count": 5,
   "metadata": {
    "scrolled": false
   },
   "outputs": [],
   "source": [
    "# d = DummyData()\n",
    "# dummy_loader, dummy_svd = get_dummy_data(d)\n",
    "\n",
    "# print(f\"\\nEvaluating {experiment_name} with {embeddings} embeddings\")\n",
    "# model = NeuralClickModel(\n",
    "#     RecsysEmbedding(d.n_items, dummy_matrix, embeddings='svd', embedding_dim = 2),\n",
    "#     readout=False\n",
    "# ).to('cpu')\n",
    "\n",
    "# _, metrics = train(model, \n",
    "#    dummy_loader, dummy_loader, dummy_loader,\n",
    "#    device='cpu', lr=1e-3, num_epochs=5000, \n",
    "#    silent=True,\n",
    "# #    debug=True\n",
    "# )\n"
   ]
  },
  {
   "cell_type": "markdown",
   "metadata": {},
   "source": [
    "# ContentWise"
   ]
  },
  {
   "cell_type": "code",
   "execution_count": 6,
   "metadata": {},
   "outputs": [
    {
     "data": {
      "text/plain": [
       "(108, 20216)"
      ]
     },
     "execution_count": 6,
     "metadata": {},
     "output_type": "execute_result"
    }
   ],
   "source": [
    "content_wise_results = []\n",
    "c = ContentWise.load(os.path.join(pkl_path, 'cw.pkl'))\n",
    "c_train_loader, c_val_loader, c_test_loader, c_train_user_item_matrix, train_num_items = get_train_val_test_tmatrix_tnumitems(c, batch_size=150)\n",
    "len(c_train_loader), len(c)"
   ]
  },
  {
   "cell_type": "code",
   "execution_count": 7,
   "metadata": {},
   "outputs": [
    {
     "name": "stdout",
     "output_type": "stream",
     "text": [
      "\n",
      "Evaluating NeuralClickModel with svd embeddings\n"
     ]
    },
    {
     "name": "stderr",
     "output_type": "stream",
     "text": [
      "\r",
      "train:   0%|                                                                                                                 | 0/5000 [00:00<?, ?it/s]"
     ]
    },
    {
     "name": "stdout",
     "output_type": "stream",
     "text": [
      "Test before learning: {'f1': 0.17659352719783783, 'roc-auc': 0.4901577830314636, 'accuracy': 0.2116405963897705}\n"
     ]
    },
    {
     "name": "stderr",
     "output_type": "stream",
     "text": [
      "train... loss:49.738331228494644:   0%|                                                                           | 1/5000 [00:21<30:08:26, 21.71s/it]"
     ]
    },
    {
     "name": "stdout",
     "output_type": "stream",
     "text": [
      "Test update: epoch: 0 |accuracy: 0.21673116087913513 | f1: 0.1895570158958435 | auc: 0.6129519939422607 | treshold: 0.06999999999999999\n"
     ]
    },
    {
     "name": "stderr",
     "output_type": "stream",
     "text": [
      "train... loss:33.33909958600998:   0%|                                                                            | 2/5000 [00:31<24:59:24, 18.00s/it]"
     ]
    },
    {
     "name": "stdout",
     "output_type": "stream",
     "text": [
      "Test update: epoch: 1 |accuracy: 0.6925068497657776 | f1: 0.24242424964904785 | auc: 0.6526784896850586 | treshold: 0.15000000000000002\n"
     ]
    },
    {
     "name": "stderr",
     "output_type": "stream",
     "text": [
      "train... loss:31.85563373565674:   0%|                                                                            | 3/5000 [00:40<21:20:58, 15.38s/it]"
     ]
    },
    {
     "name": "stdout",
     "output_type": "stream",
     "text": [
      "Test update: epoch: 2 |accuracy: 0.8063529133796692 | f1: 0.264774888753891 | auc: 0.6836891174316406 | treshold: 0.14\n"
     ]
    },
    {
     "name": "stderr",
     "output_type": "stream",
     "text": [
      "train... loss:30.94042217731476:   0%|                                                                            | 4/5000 [00:49<18:48:56, 13.56s/it]"
     ]
    },
    {
     "name": "stdout",
     "output_type": "stream",
     "text": [
      "Test update: epoch: 3 |accuracy: 0.8588915467262268 | f1: 0.2533281445503235 | auc: 0.7000789642333984 | treshold: 0.15000000000000002\n"
     ]
    },
    {
     "name": "stderr",
     "output_type": "stream",
     "text": [
      "train... loss:30.309107214212418:   0%|                                                                           | 5/5000 [00:59<17:04:03, 12.30s/it]"
     ]
    },
    {
     "name": "stdout",
     "output_type": "stream",
     "text": [
      "Test update: epoch: 4 |accuracy: 0.8848445415496826 | f1: 0.21690845489501953 | auc: 0.7091285586357117 | treshold: 0.18000000000000002\n"
     ]
    },
    {
     "name": "stderr",
     "output_type": "stream",
     "text": [
      "train... loss:29.748927131295204:   0%|                                                                           | 6/5000 [01:08<15:51:57, 11.44s/it]"
     ]
    },
    {
     "name": "stdout",
     "output_type": "stream",
     "text": [
      "Test update: epoch: 5 |accuracy: 0.8799600005149841 | f1: 0.24850326776504517 | auc: 0.715447187423706 | treshold: 0.17\n"
     ]
    },
    {
     "name": "stderr",
     "output_type": "stream",
     "text": [
      "train... loss:29.58926820755005:   0%|                                                                            | 7/5000 [01:17<15:00:51, 10.83s/it]"
     ]
    },
    {
     "name": "stdout",
     "output_type": "stream",
     "text": [
      "Test update: epoch: 6 |accuracy: 0.8842560648918152 | f1: 0.22804434597492218 | auc: 0.7154272198677063 | treshold: 0.18000000000000002\n"
     ]
    },
    {
     "name": "stderr",
     "output_type": "stream",
     "text": [
      "train... loss:28.857349053025246:   0%|▏                                                                          | 9/5000 [01:36<13:53:31, 10.02s/it]"
     ]
    },
    {
     "name": "stdout",
     "output_type": "stream",
     "text": [
      "Test update: epoch: 8 |accuracy: 0.8739866614341736 | f1: 0.267259806394577 | auc: 0.7186415195465088 | treshold: 0.18000000000000002\n"
     ]
    },
    {
     "name": "stderr",
     "output_type": "stream",
     "text": [
      "train... loss:28.30342146754265:   0%|▏                                                                          | 10/5000 [01:45<13:37:43,  9.83s/it]"
     ]
    },
    {
     "name": "stdout",
     "output_type": "stream",
     "text": [
      "Test update: epoch: 9 |accuracy: 0.8769880533218384 | f1: 0.27264028787612915 | auc: 0.7157376408576965 | treshold: 0.2\n"
     ]
    },
    {
     "name": "stderr",
     "output_type": "stream",
     "text": [
      "train... loss:27.513677567243576:   0%|▏                                                                         | 12/5000 [02:04<13:14:24,  9.56s/it]"
     ]
    },
    {
     "name": "stdout",
     "output_type": "stream",
     "text": [
      "Test update: epoch: 11 |accuracy: 0.7801644802093506 | f1: 0.29829999804496765 | auc: 0.7187106609344482 | treshold: 0.19\n"
     ]
    },
    {
     "name": "stderr",
     "output_type": "stream",
     "text": [
      "train... loss:27.167592123150826:   0%|▏                                                                         | 13/5000 [02:13<13:15:55,  9.58s/it]"
     ]
    },
    {
     "name": "stdout",
     "output_type": "stream",
     "text": [
      "Test update: epoch: 12 |accuracy: 0.8380732536315918 | f1: 0.2997836768627167 | auc: 0.7231918573379517 | treshold: 0.19\n"
     ]
    },
    {
     "name": "stderr",
     "output_type": "stream",
     "text": [
      "train... loss:27.097387731075287:   0%|▏                                                                         | 14/5000 [02:23<13:12:27,  9.54s/it]"
     ]
    },
    {
     "name": "stdout",
     "output_type": "stream",
     "text": [
      "Test update: epoch: 13 |accuracy: 0.8884344100952148 | f1: 0.25209587812423706 | auc: 0.7189396619796753 | treshold: 0.21000000000000002\n"
     ]
    },
    {
     "name": "stderr",
     "output_type": "stream",
     "text": [
      "train... loss:26.773302778601646:   0%|▏                                                                         | 15/5000 [02:32<13:07:18,  9.48s/it]"
     ]
    },
    {
     "name": "stdout",
     "output_type": "stream",
     "text": [
      "Test update: epoch: 14 |accuracy: 0.8677485585212708 | f1: 0.2900244891643524 | auc: 0.7221591472625732 | treshold: 0.22\n"
     ]
    },
    {
     "name": "stderr",
     "output_type": "stream",
     "text": [
      "train... loss:24.27278672158718:   1%|▊                                                                          | 57/5000 [08:59<13:00:16,  9.47s/it]\n"
     ]
    },
    {
     "name": "stdout",
     "output_type": "stream",
     "text": [
      "\n",
      "Evaluating NeuralClickModel with neural embeddings\n"
     ]
    },
    {
     "name": "stderr",
     "output_type": "stream",
     "text": [
      "\r",
      "train:   0%|                                                                                                                 | 0/5000 [00:00<?, ?it/s]"
     ]
    },
    {
     "name": "stdout",
     "output_type": "stream",
     "text": [
      "Test before learning: {'f1': 0.15410058200359344, 'roc-auc': 0.5173938274383545, 'accuracy': 0.7065132856369019}\n"
     ]
    },
    {
     "name": "stderr",
     "output_type": "stream",
     "text": [
      "train... loss:43.763672828674316:   0%|                                                                           | 1/5000 [00:09<12:53:08,  9.28s/it]"
     ]
    },
    {
     "name": "stdout",
     "output_type": "stream",
     "text": [
      "Test update: epoch: 0 |accuracy: 0.21961481869220734 | f1: 0.18893544375896454 | auc: 0.6147228479385376 | treshold: 0.09\n"
     ]
    },
    {
     "name": "stderr",
     "output_type": "stream",
     "text": [
      "train... loss:33.01785537600517:   0%|                                                                            | 2/5000 [00:18<12:56:18,  9.32s/it]"
     ]
    },
    {
     "name": "stdout",
     "output_type": "stream",
     "text": [
      "Test update: epoch: 1 |accuracy: 0.7865644693374634 | f1: 0.24697637557983398 | auc: 0.6588399410247803 | treshold: 0.15000000000000002\n"
     ]
    },
    {
     "name": "stderr",
     "output_type": "stream",
     "text": [
      "train... loss:31.70123752951622:   0%|                                                                            | 3/5000 [00:28<12:59:12,  9.36s/it]"
     ]
    },
    {
     "name": "stdout",
     "output_type": "stream",
     "text": [
      "Test update: epoch: 2 |accuracy: 0.8544042110443115 | f1: 0.24273033440113068 | auc: 0.6889207363128662 | treshold: 0.15000000000000002\n"
     ]
    },
    {
     "name": "stderr",
     "output_type": "stream",
     "text": [
      "train... loss:30.881450712680817:   0%|                                                                           | 4/5000 [00:37<13:01:25,  9.38s/it]"
     ]
    },
    {
     "name": "stdout",
     "output_type": "stream",
     "text": [
      "Test update: epoch: 3 |accuracy: 0.8718386292457581 | f1: 0.25066667795181274 | auc: 0.705713152885437 | treshold: 0.15000000000000002\n"
     ]
    },
    {
     "name": "stderr",
     "output_type": "stream",
     "text": [
      "train... loss:30.206841468811035:   0%|                                                                           | 5/5000 [00:46<12:58:43,  9.35s/it]"
     ]
    },
    {
     "name": "stdout",
     "output_type": "stream",
     "text": [
      "Test update: epoch: 4 |accuracy: 0.8829613327980042 | f1: 0.23649102449417114 | auc: 0.7137222290039062 | treshold: 0.16\n"
     ]
    },
    {
     "name": "stderr",
     "output_type": "stream",
     "text": [
      "train... loss:29.73136931657791:   0%|                                                                            | 6/5000 [00:56<13:02:50,  9.41s/it]"
     ]
    },
    {
     "name": "stdout",
     "output_type": "stream",
     "text": [
      "Test update: epoch: 5 |accuracy: 0.8832703232765198 | f1: 0.2409108281135559 | auc: 0.718101978302002 | treshold: 0.18000000000000002\n"
     ]
    },
    {
     "name": "stderr",
     "output_type": "stream",
     "text": [
      "train... loss:28.956807002425194:   0%|                                                                           | 8/5000 [01:14<12:59:20,  9.37s/it]"
     ]
    },
    {
     "name": "stdout",
     "output_type": "stream",
     "text": [
      "Test update: epoch: 7 |accuracy: 0.8866836428642273 | f1: 0.24416093528270721 | auc: 0.7176083326339722 | treshold: 0.19\n"
     ]
    },
    {
     "name": "stderr",
     "output_type": "stream",
     "text": [
      "train... loss:28.544926211237907:   0%|▏                                                                          | 9/5000 [01:24<13:00:31,  9.38s/it]"
     ]
    },
    {
     "name": "stdout",
     "output_type": "stream",
     "text": [
      "Test update: epoch: 8 |accuracy: 0.8802542090415955 | f1: 0.26655852794647217 | auc: 0.7245150804519653 | treshold: 0.18000000000000002\n"
     ]
    },
    {
     "name": "stderr",
     "output_type": "stream",
     "text": [
      "train... loss:28.12286275625229:   0%|▏                                                                          | 10/5000 [01:33<13:02:57,  9.41s/it]"
     ]
    },
    {
     "name": "stdout",
     "output_type": "stream",
     "text": [
      "Test update: epoch: 9 |accuracy: 0.8704997897148132 | f1: 0.29369282722473145 | auc: 0.723408579826355 | treshold: 0.2\n"
     ]
    },
    {
     "name": "stderr",
     "output_type": "stream",
     "text": [
      "train... loss:24.78700192272663:   1%|▋                                                                          | 44/5000 [06:49<12:49:01,  9.31s/it]\n"
     ]
    }
   ],
   "source": [
    "for embeddings in ['svd', 'neural']:\n",
    "    print(f\"\\nEvaluating {experiment_name} with {embeddings} embeddings\")\n",
    "    model = NeuralClickModel(\n",
    "        RecsysEmbedding(train_num_items, c_train_user_item_matrix, embeddings='neural').to('cpu'),\n",
    "    ).to(device)\n",
    "\n",
    "    _, metrics = train(model, \n",
    "       c_train_loader, c_val_loader, c_test_loader, device=device, lr=1e-3, num_epochs=5000, early_stopping=7,\n",
    "       silent=True, \n",
    "    )\n",
    "    \n",
    "    metrics['embeddings'] = embeddings\n",
    "    content_wise_results.append(metrics)\n",
    "    \n",
    "pd.DataFrame(content_wise_results).to_csv(f'results/cw_{experiment_name}.csv')"
   ]
  },
  {
   "cell_type": "markdown",
   "metadata": {},
   "source": [
    "# RL4RS"
   ]
  },
  {
   "cell_type": "code",
   "execution_count": 8,
   "metadata": {},
   "outputs": [
    {
     "data": {
      "text/plain": [
       "(2, 45942)"
      ]
     },
     "execution_count": 8,
     "metadata": {},
     "output_type": "execute_result"
    }
   ],
   "source": [
    "rl4rs_results = []\n",
    "r = RL4RS.load(os.path.join(pkl_path, 'rl4rs.pkl'))\n",
    "r_train_loader, r_val_loader, r_test_loader, r_train_user_item_matrix, train_num_items = get_train_val_test_tmatrix_tnumitems(r, batch_size=20000)\n",
    "len(r_train_loader), len(r)"
   ]
  },
  {
   "cell_type": "code",
   "execution_count": 11,
   "metadata": {},
   "outputs": [
    {
     "name": "stdout",
     "output_type": "stream",
     "text": [
      "\n",
      "Evaluating NeuralClickModel with neural embeddings\n"
     ]
    },
    {
     "name": "stderr",
     "output_type": "stream",
     "text": [
      "\r",
      "train:   0%|                                                                                                                 | 0/5000 [00:00<?, ?it/s]"
     ]
    },
    {
     "name": "stdout",
     "output_type": "stream",
     "text": [
      "Test before learning: {'f1': 0.6724578142166138, 'roc-auc': 0.5068220496177673, 'accuracy': 0.5596179366111755}\n"
     ]
    },
    {
     "name": "stderr",
     "output_type": "stream",
     "text": [
      "train... loss:1.363502323627472:   0%|                                                                            | 1/5000 [00:35<49:12:04, 35.43s/it]"
     ]
    },
    {
     "name": "stdout",
     "output_type": "stream",
     "text": [
      "Test update: epoch: 0 |accuracy: 0.639680802822113 | f1: 0.7802504301071167 | auc: 0.5262739658355713 | treshold: 0.01\n"
     ]
    },
    {
     "name": "stderr",
     "output_type": "stream",
     "text": [
      "train... loss:1.3506420850753784:   0%|                                                                           | 2/5000 [00:40<36:36:58, 26.37s/it]"
     ]
    },
    {
     "name": "stdout",
     "output_type": "stream",
     "text": [
      "Test update: epoch: 1 |accuracy: 0.639680802822113 | f1: 0.7802504301071167 | auc: 0.5448561906814575 | treshold: 0.01\n"
     ]
    },
    {
     "name": "stderr",
     "output_type": "stream",
     "text": [
      "train... loss:1.3386064767837524:   0%|                                                                           | 3/5000 [00:45<27:47:54, 20.03s/it]"
     ]
    },
    {
     "name": "stdout",
     "output_type": "stream",
     "text": [
      "Test update: epoch: 2 |accuracy: 0.639680802822113 | f1: 0.7802504301071167 | auc: 0.562586784362793 | treshold: 0.01\n"
     ]
    },
    {
     "name": "stderr",
     "output_type": "stream",
     "text": [
      "train... loss:1.3274093270301819:   0%|                                                                           | 4/5000 [00:51<21:37:47, 15.59s/it]"
     ]
    },
    {
     "name": "stdout",
     "output_type": "stream",
     "text": [
      "Test update: epoch: 3 |accuracy: 0.639680802822113 | f1: 0.7802504301071167 | auc: 0.5791714191436768 | treshold: 0.01\n"
     ]
    },
    {
     "name": "stderr",
     "output_type": "stream",
     "text": [
      "train... loss:1.3163849711418152:   0%|                                                                           | 5/5000 [00:56<17:19:21, 12.48s/it]"
     ]
    },
    {
     "name": "stdout",
     "output_type": "stream",
     "text": [
      "Test update: epoch: 4 |accuracy: 0.639680802822113 | f1: 0.7802504301071167 | auc: 0.5943371057510376 | treshold: 0.01\n"
     ]
    },
    {
     "name": "stderr",
     "output_type": "stream",
     "text": [
      "train... loss:1.3061479330062866:   0%|                                                                           | 6/5000 [01:01<14:17:39, 10.30s/it]"
     ]
    },
    {
     "name": "stdout",
     "output_type": "stream",
     "text": [
      "Test update: epoch: 5 |accuracy: 0.6395840644836426 | f1: 0.7801719903945923 | auc: 0.607809841632843 | treshold: 0.39\n"
     ]
    },
    {
     "name": "stderr",
     "output_type": "stream",
     "text": [
      "train... loss:1.296522855758667:   0%|                                                                            | 7/5000 [01:06<12:10:49,  8.78s/it]"
     ]
    },
    {
     "name": "stdout",
     "output_type": "stream",
     "text": [
      "Test update: epoch: 6 |accuracy: 0.6394873857498169 | f1: 0.7800740599632263 | auc: 0.6195939183235168 | treshold: 0.42000000000000004\n"
     ]
    },
    {
     "name": "stderr",
     "output_type": "stream",
     "text": [
      "train... loss:1.2876270413398743:   0%|                                                                           | 8/5000 [01:12<10:41:08,  7.71s/it]"
     ]
    },
    {
     "name": "stdout",
     "output_type": "stream",
     "text": [
      "Test update: epoch: 7 |accuracy: 0.6398017406463623 | f1: 0.7800809144973755 | auc: 0.6298744678497314 | treshold: 0.44\n"
     ]
    },
    {
     "name": "stderr",
     "output_type": "stream",
     "text": [
      "train... loss:1.2790205478668213:   0%|▏                                                                           | 9/5000 [01:17<9:39:16,  6.96s/it]"
     ]
    },
    {
     "name": "stdout",
     "output_type": "stream",
     "text": [
      "Test update: epoch: 8 |accuracy: 0.6441542506217957 | f1: 0.7810900807380676 | auc: 0.6389130353927612 | treshold: 0.47000000000000003\n"
     ]
    },
    {
     "name": "stderr",
     "output_type": "stream",
     "text": [
      "train... loss:1.270721971988678:   0%|▏                                                                           | 10/5000 [01:22<8:57:07,  6.46s/it]"
     ]
    },
    {
     "name": "stdout",
     "output_type": "stream",
     "text": [
      "Test update: epoch: 9 |accuracy: 0.6481683254241943 | f1: 0.7822964191436768 | auc: 0.6469782590866089 | treshold: 0.48000000000000004\n"
     ]
    },
    {
     "name": "stderr",
     "output_type": "stream",
     "text": [
      "train... loss:1.2628626823425293:   0%|▏                                                                          | 11/5000 [01:27<8:26:47,  6.09s/it]"
     ]
    },
    {
     "name": "stdout",
     "output_type": "stream",
     "text": [
      "Test update: epoch: 10 |accuracy: 0.6521339416503906 | f1: 0.7831735610961914 | auc: 0.6543251872062683 | treshold: 0.49\n"
     ]
    },
    {
     "name": "stderr",
     "output_type": "stream",
     "text": [
      "train... loss:1.255786120891571:   0%|▏                                                                           | 12/5000 [01:33<8:06:15,  5.85s/it]"
     ]
    },
    {
     "name": "stdout",
     "output_type": "stream",
     "text": [
      "Test update: epoch: 11 |accuracy: 0.6534639000892639 | f1: 0.7838754653930664 | auc: 0.661125898361206 | treshold: 0.49\n"
     ]
    },
    {
     "name": "stderr",
     "output_type": "stream",
     "text": [
      "train... loss:1.2489159107208252:   0%|▏                                                                          | 13/5000 [01:38<7:53:04,  5.69s/it]"
     ]
    },
    {
     "name": "stdout",
     "output_type": "stream",
     "text": [
      "Test update: epoch: 12 |accuracy: 0.6582517027854919 | f1: 0.7848760485649109 | auc: 0.6675490140914917 | treshold: 0.5\n"
     ]
    },
    {
     "name": "stderr",
     "output_type": "stream",
     "text": [
      "train... loss:1.241963267326355:   0%|▏                                                                           | 14/5000 [01:43<7:43:17,  5.58s/it]"
     ]
    },
    {
     "name": "stdout",
     "output_type": "stream",
     "text": [
      "Test update: epoch: 13 |accuracy: 0.660210371017456 | f1: 0.7857927083969116 | auc: 0.6737304925918579 | treshold: 0.5\n"
     ]
    },
    {
     "name": "stderr",
     "output_type": "stream",
     "text": [
      "train... loss:1.235939860343933:   0%|▏                                                                           | 15/5000 [01:48<7:37:06,  5.50s/it]"
     ]
    },
    {
     "name": "stdout",
     "output_type": "stream",
     "text": [
      "Test update: epoch: 14 |accuracy: 0.6653850674629211 | f1: 0.786740243434906 | auc: 0.6797298192977905 | treshold: 0.51\n"
     ]
    },
    {
     "name": "stderr",
     "output_type": "stream",
     "text": [
      "train... loss:1.229203999042511:   0%|▏                                                                           | 16/5000 [01:54<7:34:03,  5.47s/it]"
     ]
    },
    {
     "name": "stdout",
     "output_type": "stream",
     "text": [
      "Test update: epoch: 15 |accuracy: 0.6684560775756836 | f1: 0.7882176637649536 | auc: 0.6856235265731812 | treshold: 0.51\n"
     ]
    },
    {
     "name": "stderr",
     "output_type": "stream",
     "text": [
      "train... loss:1.2230609059333801:   0%|▎                                                                          | 17/5000 [01:59<7:30:10,  5.42s/it]"
     ]
    },
    {
     "name": "stdout",
     "output_type": "stream",
     "text": [
      "Test update: epoch: 16 |accuracy: 0.6719381213188171 | f1: 0.7897208333015442 | auc: 0.6914451122283936 | treshold: 0.51\n"
     ]
    },
    {
     "name": "stderr",
     "output_type": "stream",
     "text": [
      "train... loss:1.2157270908355713:   0%|▎                                                                          | 18/5000 [02:05<7:29:28,  5.41s/it]"
     ]
    },
    {
     "name": "stdout",
     "output_type": "stream",
     "text": [
      "Test update: epoch: 17 |accuracy: 0.6775480508804321 | f1: 0.7904521226882935 | auc: 0.6971879601478577 | treshold: 0.52\n"
     ]
    },
    {
     "name": "stderr",
     "output_type": "stream",
     "text": [
      "train... loss:1.2088114619255066:   0%|▎                                                                          | 19/5000 [02:10<7:29:00,  5.41s/it]"
     ]
    },
    {
     "name": "stdout",
     "output_type": "stream",
     "text": [
      "Test update: epoch: 18 |accuracy: 0.6814895272254944 | f1: 0.792102038860321 | auc: 0.7028651833534241 | treshold: 0.52\n"
     ]
    },
    {
     "name": "stderr",
     "output_type": "stream",
     "text": [
      "train... loss:1.2017279267311096:   0%|▎                                                                          | 20/5000 [02:15<7:28:29,  5.40s/it]"
     ]
    },
    {
     "name": "stdout",
     "output_type": "stream",
     "text": [
      "Test update: epoch: 19 |accuracy: 0.6854310035705566 | f1: 0.7936946153640747 | auc: 0.7084379196166992 | treshold: 0.52\n"
     ]
    },
    {
     "name": "stderr",
     "output_type": "stream",
     "text": [
      "train... loss:1.193744957447052:   0%|▎                                                                           | 21/5000 [02:21<7:27:10,  5.39s/it]"
     ]
    },
    {
     "name": "stdout",
     "output_type": "stream",
     "text": [
      "Test update: epoch: 20 |accuracy: 0.6864466071128845 | f1: 0.7948746085166931 | auc: 0.7138818502426147 | treshold: 0.51\n"
     ]
    },
    {
     "name": "stderr",
     "output_type": "stream",
     "text": [
      "train... loss:1.1863407492637634:   0%|▎                                                                          | 22/5000 [02:26<7:25:10,  5.37s/it]"
     ]
    },
    {
     "name": "stdout",
     "output_type": "stream",
     "text": [
      "Test update: epoch: 21 |accuracy: 0.6956837177276611 | f1: 0.7975809574127197 | auc: 0.7191561460494995 | treshold: 0.52\n"
     ]
    },
    {
     "name": "stderr",
     "output_type": "stream",
     "text": [
      "train... loss:1.1778280138969421:   0%|▎                                                                          | 23/5000 [02:31<7:24:06,  5.35s/it]"
     ]
    },
    {
     "name": "stdout",
     "output_type": "stream",
     "text": [
      "Test update: epoch: 22 |accuracy: 0.697908341884613 | f1: 0.7991640567779541 | auc: 0.7242401242256165 | treshold: 0.51\n"
     ]
    },
    {
     "name": "stderr",
     "output_type": "stream",
     "text": [
      "train... loss:1.1689252853393555:   0%|▎                                                                          | 24/5000 [02:37<7:22:33,  5.34s/it]"
     ]
    },
    {
     "name": "stdout",
     "output_type": "stream",
     "text": [
      "Test update: epoch: 23 |accuracy: 0.702067494392395 | f1: 0.8001621961593628 | auc: 0.7291063070297241 | treshold: 0.51\n"
     ]
    },
    {
     "name": "stderr",
     "output_type": "stream",
     "text": [
      "train... loss:1.1604337692260742:   0%|▍                                                                          | 25/5000 [02:42<7:25:50,  5.38s/it]"
     ]
    },
    {
     "name": "stdout",
     "output_type": "stream",
     "text": [
      "Test update: epoch: 24 |accuracy: 0.7042679190635681 | f1: 0.8014803528785706 | auc: 0.7337503433227539 | treshold: 0.5\n"
     ]
    },
    {
     "name": "stderr",
     "output_type": "stream",
     "text": [
      "train... loss:1.1517168283462524:   1%|▍                                                                          | 26/5000 [02:47<7:23:30,  5.35s/it]"
     ]
    },
    {
     "name": "stdout",
     "output_type": "stream",
     "text": [
      "Test update: epoch: 25 |accuracy: 0.7066860198974609 | f1: 0.8027321696281433 | auc: 0.7381761074066162 | treshold: 0.49\n"
     ]
    },
    {
     "name": "stderr",
     "output_type": "stream",
     "text": [
      "train... loss:1.1431602239608765:   1%|▍                                                                          | 27/5000 [02:53<7:24:12,  5.36s/it]"
     ]
    },
    {
     "name": "stdout",
     "output_type": "stream",
     "text": [
      "Test update: epoch: 26 |accuracy: 0.7115705609321594 | f1: 0.8038222193717957 | auc: 0.7423998117446899 | treshold: 0.49\n"
     ]
    },
    {
     "name": "stderr",
     "output_type": "stream",
     "text": [
      "train... loss:1.1344389915466309:   1%|▍                                                                          | 28/5000 [02:58<7:24:31,  5.36s/it]"
     ]
    },
    {
     "name": "stdout",
     "output_type": "stream",
     "text": [
      "Test update: epoch: 27 |accuracy: 0.7151009440422058 | f1: 0.8056609630584717 | auc: 0.7464698553085327 | treshold: 0.48000000000000004\n"
     ]
    },
    {
     "name": "stderr",
     "output_type": "stream",
     "text": [
      "train... loss:1.1257601976394653:   1%|▍                                                                          | 29/5000 [03:04<7:24:49,  5.37s/it]"
     ]
    },
    {
     "name": "stdout",
     "output_type": "stream",
     "text": [
      "Test update: epoch: 28 |accuracy: 0.7154152989387512 | f1: 0.8068914413452148 | auc: 0.7504023313522339 | treshold: 0.46\n"
     ]
    },
    {
     "name": "stderr",
     "output_type": "stream",
     "text": [
      "train... loss:1.1178712248802185:   1%|▍                                                                          | 30/5000 [03:09<7:25:19,  5.38s/it]"
     ]
    },
    {
     "name": "stdout",
     "output_type": "stream",
     "text": [
      "Test update: epoch: 29 |accuracy: 0.7185829877853394 | f1: 0.8084153532981873 | auc: 0.7542623281478882 | treshold: 0.45\n"
     ]
    },
    {
     "name": "stderr",
     "output_type": "stream",
     "text": [
      "train... loss:1.1099915504455566:   1%|▍                                                                          | 31/5000 [03:14<7:25:38,  5.38s/it]"
     ]
    },
    {
     "name": "stdout",
     "output_type": "stream",
     "text": [
      "Test update: epoch: 30 |accuracy: 0.7226212024688721 | f1: 0.8090744018554688 | auc: 0.7580981254577637 | treshold: 0.45\n"
     ]
    },
    {
     "name": "stderr",
     "output_type": "stream",
     "text": [
      "train... loss:1.1015409231185913:   1%|▍                                                                          | 32/5000 [03:20<7:23:21,  5.35s/it]"
     ]
    },
    {
     "name": "stdout",
     "output_type": "stream",
     "text": [
      "Test update: epoch: 31 |accuracy: 0.725232720375061 | f1: 0.8105440139770508 | auc: 0.7619396448135376 | treshold: 0.44\n"
     ]
    },
    {
     "name": "stderr",
     "output_type": "stream",
     "text": [
      "train... loss:1.093218982219696:   1%|▌                                                                           | 33/5000 [03:25<7:23:24,  5.36s/it]"
     ]
    },
    {
     "name": "stdout",
     "output_type": "stream",
     "text": [
      "Test update: epoch: 32 |accuracy: 0.7279168367385864 | f1: 0.812109649181366 | auc: 0.765811026096344 | treshold: 0.43\n"
     ]
    },
    {
     "name": "stderr",
     "output_type": "stream",
     "text": [
      "train... loss:1.084922969341278:   1%|▌                                                                           | 34/5000 [03:30<7:22:18,  5.34s/it]"
     ]
    },
    {
     "name": "stdout",
     "output_type": "stream",
     "text": [
      "Test update: epoch: 33 |accuracy: 0.7303590774536133 | f1: 0.8136997818946838 | auc: 0.7697324156761169 | treshold: 0.42000000000000004\n"
     ]
    },
    {
     "name": "stderr",
     "output_type": "stream",
     "text": [
      "train... loss:1.0756502747535706:   1%|▌                                                                          | 35/5000 [03:36<7:20:12,  5.32s/it]"
     ]
    },
    {
     "name": "stdout",
     "output_type": "stream",
     "text": [
      "Test update: epoch: 34 |accuracy: 0.7327529788017273 | f1: 0.8154801726341248 | auc: 0.7736884355545044 | treshold: 0.41000000000000003\n"
     ]
    },
    {
     "name": "stderr",
     "output_type": "stream",
     "text": [
      "train... loss:1.066331684589386:   1%|▌                                                                           | 36/5000 [03:41<7:21:22,  5.33s/it]"
     ]
    },
    {
     "name": "stdout",
     "output_type": "stream",
     "text": [
      "Test update: epoch: 35 |accuracy: 0.7361383438110352 | f1: 0.8169373273849487 | auc: 0.7776438593864441 | treshold: 0.41000000000000003\n"
     ]
    },
    {
     "name": "stderr",
     "output_type": "stream",
     "text": [
      "train... loss:1.056109368801117:   1%|▌                                                                           | 37/5000 [03:46<7:25:05,  5.38s/it]"
     ]
    },
    {
     "name": "stdout",
     "output_type": "stream",
     "text": [
      "Test update: epoch: 36 |accuracy: 0.7406117916107178 | f1: 0.818220317363739 | auc: 0.7815415859222412 | treshold: 0.42000000000000004\n"
     ]
    },
    {
     "name": "stderr",
     "output_type": "stream",
     "text": [
      "train... loss:1.045418381690979:   1%|▌                                                                           | 38/5000 [03:52<7:24:34,  5.38s/it]"
     ]
    },
    {
     "name": "stdout",
     "output_type": "stream",
     "text": [
      "Test update: epoch: 37 |accuracy: 0.7440454363822937 | f1: 0.8193223476409912 | auc: 0.7853121757507324 | treshold: 0.43\n"
     ]
    },
    {
     "name": "stderr",
     "output_type": "stream",
     "text": [
      "train... loss:1.0345672369003296:   1%|▌                                                                          | 39/5000 [03:57<7:23:56,  5.37s/it]"
     ]
    },
    {
     "name": "stdout",
     "output_type": "stream",
     "text": [
      "Test update: epoch: 38 |accuracy: 0.7463667988777161 | f1: 0.8212295174598694 | auc: 0.7888652086257935 | treshold: 0.43\n"
     ]
    },
    {
     "name": "stderr",
     "output_type": "stream",
     "text": [
      "train... loss:1.0235634446144104:   1%|▌                                                                          | 40/5000 [04:03<7:24:09,  5.37s/it]"
     ]
    },
    {
     "name": "stdout",
     "output_type": "stream",
     "text": [
      "Test update: epoch: 39 |accuracy: 0.7474066019058228 | f1: 0.8224676847457886 | auc: 0.7921135425567627 | treshold: 0.43\n"
     ]
    },
    {
     "name": "stderr",
     "output_type": "stream",
     "text": [
      "train... loss:1.0141176581382751:   1%|▌                                                                          | 41/5000 [04:08<7:25:15,  5.39s/it]"
     ]
    },
    {
     "name": "stdout",
     "output_type": "stream",
     "text": [
      "Test update: epoch: 40 |accuracy: 0.7505017518997192 | f1: 0.8233884572982788 | auc: 0.7949748039245605 | treshold: 0.45\n"
     ]
    },
    {
     "name": "stderr",
     "output_type": "stream",
     "text": [
      "train... loss:1.0052859783172607:   1%|▋                                                                          | 42/5000 [04:13<7:27:33,  5.42s/it]"
     ]
    },
    {
     "name": "stdout",
     "output_type": "stream",
     "text": [
      "Test update: epoch: 41 |accuracy: 0.749921441078186 | f1: 0.8245869874954224 | auc: 0.7974008321762085 | treshold: 0.44\n"
     ]
    },
    {
     "name": "stderr",
     "output_type": "stream",
     "text": [
      "train... loss:0.9986686408519745:   1%|▋                                                                          | 43/5000 [04:19<7:27:36,  5.42s/it]"
     ]
    },
    {
     "name": "stdout",
     "output_type": "stream",
     "text": [
      "Test update: epoch: 42 |accuracy: 0.7502599358558655 | f1: 0.8246579170227051 | auc: 0.7994304895401001 | treshold: 0.45\n"
     ]
    },
    {
     "name": "stderr",
     "output_type": "stream",
     "text": [
      "train... loss:0.9932023286819458:   1%|▋                                                                          | 44/5000 [04:24<7:30:05,  5.45s/it]"
     ]
    },
    {
     "name": "stdout",
     "output_type": "stream",
     "text": [
      "Test update: epoch: 43 |accuracy: 0.7537903785705566 | f1: 0.825171709060669 | auc: 0.8011840581893921 | treshold: 0.48000000000000004\n"
     ]
    },
    {
     "name": "stderr",
     "output_type": "stream",
     "text": [
      "train... loss:0.9889693856239319:   1%|▋                                                                          | 45/5000 [04:30<7:31:23,  5.47s/it]"
     ]
    },
    {
     "name": "stdout",
     "output_type": "stream",
     "text": [
      "Test update: epoch: 44 |accuracy: 0.7555555701255798 | f1: 0.8259199857711792 | auc: 0.8028925657272339 | treshold: 0.49\n"
     ]
    },
    {
     "name": "stderr",
     "output_type": "stream",
     "text": [
      "train... loss:0.9827599823474884:   1%|▋                                                                          | 46/5000 [04:35<7:32:03,  5.47s/it]"
     ]
    },
    {
     "name": "stdout",
     "output_type": "stream",
     "text": [
      "Test update: epoch: 45 |accuracy: 0.7568613290786743 | f1: 0.8247982859611511 | auc: 0.804847240447998 | treshold: 0.51\n"
     ]
    },
    {
     "name": "stderr",
     "output_type": "stream",
     "text": [
      "train... loss:0.9744013845920563:   1%|▋                                                                          | 47/5000 [04:41<7:30:49,  5.46s/it]"
     ]
    },
    {
     "name": "stdout",
     "output_type": "stream",
     "text": [
      "Test update: epoch: 46 |accuracy: 0.7574900388717651 | f1: 0.8258521556854248 | auc: 0.8072426319122314 | treshold: 0.49\n"
     ]
    },
    {
     "name": "stderr",
     "output_type": "stream",
     "text": [
      "train... loss:0.9628238081932068:   1%|▋                                                                          | 48/5000 [04:46<7:29:26,  5.45s/it]"
     ]
    },
    {
     "name": "stdout",
     "output_type": "stream",
     "text": [
      "Test update: epoch: 47 |accuracy: 0.7595212459564209 | f1: 0.8270164132118225 | auc: 0.8100793361663818 | treshold: 0.47000000000000003\n"
     ]
    },
    {
     "name": "stderr",
     "output_type": "stream",
     "text": [
      "train... loss:0.9499797523021698:   1%|▋                                                                          | 49/5000 [04:52<7:31:36,  5.47s/it]"
     ]
    },
    {
     "name": "stdout",
     "output_type": "stream",
     "text": [
      "Test update: epoch: 48 |accuracy: 0.7614315152168274 | f1: 0.8268150687217712 | auc: 0.8131676912307739 | treshold: 0.46\n"
     ]
    },
    {
     "name": "stderr",
     "output_type": "stream",
     "text": [
      "train... loss:0.9379390776157379:   1%|▊                                                                          | 50/5000 [04:57<7:30:43,  5.46s/it]"
     ]
    },
    {
     "name": "stdout",
     "output_type": "stream",
     "text": [
      "Test update: epoch: 49 |accuracy: 0.762906551361084 | f1: 0.8279311656951904 | auc: 0.8162103891372681 | treshold: 0.42000000000000004\n"
     ]
    },
    {
     "name": "stderr",
     "output_type": "stream",
     "text": [
      "train... loss:0.9297142922878265:   1%|▊                                                                          | 51/5000 [05:03<7:30:55,  5.47s/it]"
     ]
    },
    {
     "name": "stdout",
     "output_type": "stream",
     "text": [
      "Test update: epoch: 50 |accuracy: 0.7642365097999573 | f1: 0.8285865187644958 | auc: 0.8188855648040771 | treshold: 0.38\n"
     ]
    },
    {
     "name": "stderr",
     "output_type": "stream",
     "text": [
      "train... loss:0.928209513425827:   1%|▊                                                                           | 52/5000 [05:08<7:29:47,  5.45s/it]"
     ]
    },
    {
     "name": "stdout",
     "output_type": "stream",
     "text": [
      "Test update: epoch: 51 |accuracy: 0.7661951184272766 | f1: 0.828852117061615 | auc: 0.8209924101829529 | treshold: 0.35000000000000003\n"
     ]
    },
    {
     "name": "stderr",
     "output_type": "stream",
     "text": [
      "train... loss:0.9357886910438538:   1%|▊                                                                          | 53/5000 [05:13<7:26:14,  5.41s/it]"
     ]
    },
    {
     "name": "stdout",
     "output_type": "stream",
     "text": [
      "Test update: epoch: 52 |accuracy: 0.7667029500007629 | f1: 0.8292328715324402 | auc: 0.822539746761322 | treshold: 0.31\n"
     ]
    },
    {
     "name": "stderr",
     "output_type": "stream",
     "text": [
      "train... loss:0.9493324160575867:   1%|▊                                                                          | 54/5000 [05:19<7:24:24,  5.39s/it]"
     ]
    },
    {
     "name": "stdout",
     "output_type": "stream",
     "text": [
      "Test update: epoch: 53 |accuracy: 0.7675976157188416 | f1: 0.8307117819786072 | auc: 0.8237736225128174 | treshold: 0.27\n"
     ]
    },
    {
     "name": "stderr",
     "output_type": "stream",
     "text": [
      "train... loss:0.9620671570301056:   1%|▊                                                                          | 55/5000 [05:24<7:23:08,  5.38s/it]"
     ]
    },
    {
     "name": "stdout",
     "output_type": "stream",
     "text": [
      "Test update: epoch: 54 |accuracy: 0.7674041986465454 | f1: 0.831873893737793 | auc: 0.8250834941864014 | treshold: 0.24000000000000002\n"
     ]
    },
    {
     "name": "stderr",
     "output_type": "stream",
     "text": [
      "train... loss:0.9650902450084686:   1%|▊                                                                          | 56/5000 [05:29<7:21:40,  5.36s/it]"
     ]
    },
    {
     "name": "stdout",
     "output_type": "stream",
     "text": [
      "Test update: epoch: 55 |accuracy: 0.76827472448349 | f1: 0.8322157263755798 | auc: 0.8266592025756836 | treshold: 0.24000000000000002\n"
     ]
    },
    {
     "name": "stderr",
     "output_type": "stream",
     "text": [
      "train... loss:0.9541722536087036:   1%|▊                                                                          | 57/5000 [05:35<7:21:33,  5.36s/it]"
     ]
    },
    {
     "name": "stdout",
     "output_type": "stream",
     "text": [
      "Test update: epoch: 56 |accuracy: 0.7697255611419678 | f1: 0.8322145342826843 | auc: 0.8284260034561157 | treshold: 0.26\n"
     ]
    },
    {
     "name": "stderr",
     "output_type": "stream",
     "text": [
      "train... loss:0.9330210983753204:   1%|▊                                                                          | 58/5000 [05:40<7:20:00,  5.34s/it]"
     ]
    },
    {
     "name": "stdout",
     "output_type": "stream",
     "text": [
      "Test update: epoch: 57 |accuracy: 0.7694112062454224 | f1: 0.8328014612197876 | auc: 0.8301662802696228 | treshold: 0.27\n"
     ]
    },
    {
     "name": "stderr",
     "output_type": "stream",
     "text": [
      "train... loss:0.9065098762512207:   1%|▉                                                                          | 59/5000 [05:45<7:20:34,  5.35s/it]"
     ]
    },
    {
     "name": "stdout",
     "output_type": "stream",
     "text": [
      "Test update: epoch: 58 |accuracy: 0.7693386673927307 | f1: 0.8335688710212708 | auc: 0.8315931558609009 | treshold: 0.29000000000000004\n"
     ]
    },
    {
     "name": "stderr",
     "output_type": "stream",
     "text": [
      "train... loss:0.8821312189102173:   1%|▉                                                                          | 60/5000 [05:51<7:24:35,  5.40s/it]"
     ]
    },
    {
     "name": "stdout",
     "output_type": "stream",
     "text": [
      "Test update: epoch: 59 |accuracy: 0.7689275741577148 | f1: 0.8333216905593872 | auc: 0.8323337435722351 | treshold: 0.33\n"
     ]
    },
    {
     "name": "stderr",
     "output_type": "stream",
     "text": [
      "train... loss:0.9131660461425781:   1%|█                                                                          | 69/5000 [06:37<7:08:03,  5.21s/it]"
     ]
    },
    {
     "name": "stdout",
     "output_type": "stream",
     "text": [
      "Test update: epoch: 68 |accuracy: 0.7746101021766663 | f1: 0.8323531150817871 | auc: 0.8364933133125305 | treshold: 0.62\n"
     ]
    },
    {
     "name": "stderr",
     "output_type": "stream",
     "text": [
      "train... loss:0.8849684000015259:   1%|█                                                                          | 70/5000 [06:42<7:17:48,  5.33s/it]"
     ]
    },
    {
     "name": "stdout",
     "output_type": "stream",
     "text": [
      "Test update: epoch: 69 |accuracy: 0.7763994932174683 | f1: 0.833976686000824 | auc: 0.8402530550956726 | treshold: 0.5800000000000001\n"
     ]
    },
    {
     "name": "stderr",
     "output_type": "stream",
     "text": [
      "train... loss:0.8598490655422211:   1%|█                                                                          | 71/5000 [06:48<7:25:31,  5.42s/it]"
     ]
    },
    {
     "name": "stdout",
     "output_type": "stream",
     "text": [
      "Test update: epoch: 70 |accuracy: 0.7793253660202026 | f1: 0.8344159126281738 | auc: 0.8432051539421082 | treshold: 0.56\n"
     ]
    },
    {
     "name": "stderr",
     "output_type": "stream",
     "text": [
      "train... loss:0.8408141434192657:   1%|█                                                                          | 72/5000 [06:54<7:28:37,  5.46s/it]"
     ]
    },
    {
     "name": "stdout",
     "output_type": "stream",
     "text": [
      "Test update: epoch: 71 |accuracy: 0.7808245420455933 | f1: 0.8363839983940125 | auc: 0.8451589345932007 | treshold: 0.5\n"
     ]
    },
    {
     "name": "stderr",
     "output_type": "stream",
     "text": [
      "train... loss:0.8308235704898834:   1%|█                                                                          | 73/5000 [06:59<7:29:49,  5.48s/it]"
     ]
    },
    {
     "name": "stdout",
     "output_type": "stream",
     "text": [
      "Test update: epoch: 72 |accuracy: 0.7824205160140991 | f1: 0.8375518918037415 | auc: 0.846096396446228 | treshold: 0.45\n"
     ]
    },
    {
     "name": "stderr",
     "output_type": "stream",
     "text": [
      "train... loss:0.9224195182323456:   2%|█▏                                                                         | 81/5000 [07:39<6:54:42,  5.06s/it]"
     ]
    },
    {
     "name": "stdout",
     "output_type": "stream",
     "text": [
      "Test update: epoch: 80 |accuracy: 0.7838955521583557 | f1: 0.8413935303688049 | auc: 0.8478741645812988 | treshold: 0.24000000000000002\n"
     ]
    },
    {
     "name": "stderr",
     "output_type": "stream",
     "text": [
      "train... loss:0.9016538262367249:   2%|█▏                                                                         | 82/5000 [07:44<7:03:13,  5.16s/it]"
     ]
    },
    {
     "name": "stdout",
     "output_type": "stream",
     "text": [
      "Test update: epoch: 81 |accuracy: 0.7841615080833435 | f1: 0.8420680165290833 | auc: 0.84993577003479 | treshold: 0.25\n"
     ]
    },
    {
     "name": "stderr",
     "output_type": "stream",
     "text": [
      "train... loss:0.8765098750591278:   2%|█▏                                                                         | 83/5000 [07:50<7:09:26,  5.24s/it]"
     ]
    },
    {
     "name": "stdout",
     "output_type": "stream",
     "text": [
      "Test update: epoch: 82 |accuracy: 0.7844758629798889 | f1: 0.8424178957939148 | auc: 0.8519977331161499 | treshold: 0.27\n"
     ]
    },
    {
     "name": "stderr",
     "output_type": "stream",
     "text": [
      "train... loss:0.8503329157829285:   2%|█▎                                                                         | 84/5000 [07:55<7:15:28,  5.31s/it]"
     ]
    },
    {
     "name": "stdout",
     "output_type": "stream",
     "text": [
      "Test update: epoch: 83 |accuracy: 0.7844033241271973 | f1: 0.8421499729156494 | auc: 0.8538888692855835 | treshold: 0.3\n"
     ]
    },
    {
     "name": "stderr",
     "output_type": "stream",
     "text": [
      "train... loss:0.8273796439170837:   2%|█▎                                                                         | 85/5000 [08:00<7:18:50,  5.36s/it]"
     ]
    },
    {
     "name": "stdout",
     "output_type": "stream",
     "text": [
      "Test update: epoch: 84 |accuracy: 0.7855156660079956 | f1: 0.8424343466758728 | auc: 0.8554250001907349 | treshold: 0.34\n"
     ]
    },
    {
     "name": "stderr",
     "output_type": "stream",
     "text": [
      "train... loss:0.8099919259548187:   2%|█▎                                                                         | 86/5000 [08:06<7:18:38,  5.36s/it]"
     ]
    },
    {
     "name": "stdout",
     "output_type": "stream",
     "text": [
      "Test update: epoch: 85 |accuracy: 0.7850320339202881 | f1: 0.8420117497444153 | auc: 0.856445848941803 | treshold: 0.38\n"
     ]
    },
    {
     "name": "stderr",
     "output_type": "stream",
     "text": [
      "train... loss:0.8004647493362427:   2%|█▎                                                                         | 87/5000 [08:11<7:18:35,  5.36s/it]"
     ]
    },
    {
     "name": "stdout",
     "output_type": "stream",
     "text": [
      "Test update: epoch: 86 |accuracy: 0.7845726013183594 | f1: 0.8412027955055237 | auc: 0.8568394184112549 | treshold: 0.43\n"
     ]
    },
    {
     "name": "stderr",
     "output_type": "stream",
     "text": [
      "train... loss:0.8338948786258698:   2%|█▍                                                                         | 98/5000 [09:08<7:13:49,  5.31s/it]"
     ]
    },
    {
     "name": "stdout",
     "output_type": "stream",
     "text": [
      "Test update: epoch: 97 |accuracy: 0.7864828705787659 | f1: 0.8387332558631897 | auc: 0.8585070371627808 | treshold: 0.61\n"
     ]
    },
    {
     "name": "stderr",
     "output_type": "stream",
     "text": [
      "train... loss:0.8106479346752167:   2%|█▍                                                                         | 99/5000 [09:13<7:20:46,  5.40s/it]"
     ]
    },
    {
     "name": "stdout",
     "output_type": "stream",
     "text": [
      "Test update: epoch: 98 |accuracy: 0.7881513833999634 | f1: 0.8395333290100098 | auc: 0.8605208992958069 | treshold: 0.5800000000000001\n"
     ]
    },
    {
     "name": "stderr",
     "output_type": "stream",
     "text": [
      "train... loss:0.7898216247558594:   2%|█▍                                                                        | 100/5000 [09:19<7:26:48,  5.47s/it]"
     ]
    },
    {
     "name": "stdout",
     "output_type": "stream",
     "text": [
      "Test update: epoch: 99 |accuracy: 0.7894571423530579 | f1: 0.8403117656707764 | auc: 0.8622015714645386 | treshold: 0.54\n"
     ]
    },
    {
     "name": "stderr",
     "output_type": "stream",
     "text": [
      "train... loss:0.7741047143936157:   2%|█▍                                                                        | 101/5000 [09:24<7:29:11,  5.50s/it]"
     ]
    },
    {
     "name": "stdout",
     "output_type": "stream",
     "text": [
      "Test update: epoch: 100 |accuracy: 0.7908112406730652 | f1: 0.840836763381958 | auc: 0.8634743690490723 | treshold: 0.5\n"
     ]
    },
    {
     "name": "stderr",
     "output_type": "stream",
     "text": [
      "train... loss:0.7655909657478333:   2%|█▌                                                                        | 102/5000 [09:30<7:27:47,  5.49s/it]"
     ]
    },
    {
     "name": "stdout",
     "output_type": "stream",
     "text": [
      "Test update: epoch: 101 |accuracy: 0.7916334271430969 | f1: 0.8420667052268982 | auc: 0.8642787933349609 | treshold: 0.44\n"
     ]
    },
    {
     "name": "stderr",
     "output_type": "stream",
     "text": [
      "train... loss:0.7645450234413147:   2%|█▌                                                                        | 103/5000 [09:35<7:27:12,  5.48s/it]"
     ]
    },
    {
     "name": "stdout",
     "output_type": "stream",
     "text": [
      "Test update: epoch: 102 |accuracy: 0.7929633855819702 | f1: 0.841889500617981 | auc: 0.8646221160888672 | treshold: 0.41000000000000003\n"
     ]
    },
    {
     "name": "stderr",
     "output_type": "stream",
     "text": [
      "train... loss:0.8544524908065796:   2%|█▋                                                                        | 110/5000 [10:10<6:53:53,  5.08s/it]"
     ]
    },
    {
     "name": "stdout",
     "output_type": "stream",
     "text": [
      "Test update: epoch: 109 |accuracy: 0.7955749034881592 | f1: 0.8468755483627319 | auc: 0.8668190836906433 | treshold: 0.22\n"
     ]
    },
    {
     "name": "stderr",
     "output_type": "stream",
     "text": [
      "train... loss:0.8378572762012482:   2%|█▋                                                                        | 111/5000 [10:16<7:00:32,  5.16s/it]"
     ]
    },
    {
     "name": "stdout",
     "output_type": "stream",
     "text": [
      "Test update: epoch: 110 |accuracy: 0.7961310744285583 | f1: 0.8475599884986877 | auc: 0.8684362173080444 | treshold: 0.23\n"
     ]
    },
    {
     "name": "stderr",
     "output_type": "stream",
     "text": [
      "train... loss:0.814929187297821:   2%|█▋                                                                         | 112/5000 [10:21<7:06:26,  5.23s/it]"
     ]
    },
    {
     "name": "stdout",
     "output_type": "stream",
     "text": [
      "Test update: epoch: 111 |accuracy: 0.7973158955574036 | f1: 0.8477826714515686 | auc: 0.8700718879699707 | treshold: 0.26\n"
     ]
    },
    {
     "name": "stderr",
     "output_type": "stream",
     "text": [
      "train... loss:0.790745735168457:   2%|█▋                                                                         | 113/5000 [10:26<7:07:55,  5.25s/it]"
     ]
    },
    {
     "name": "stdout",
     "output_type": "stream",
     "text": [
      "Test update: epoch: 112 |accuracy: 0.7972433567047119 | f1: 0.8481830954551697 | auc: 0.8715940117835999 | treshold: 0.28\n"
     ]
    },
    {
     "name": "stderr",
     "output_type": "stream",
     "text": [
      "train... loss:0.7676938772201538:   2%|█▋                                                                        | 114/5000 [10:32<7:10:58,  5.29s/it]"
     ]
    },
    {
     "name": "stdout",
     "output_type": "stream",
     "text": [
      "Test update: epoch: 113 |accuracy: 0.7969774007797241 | f1: 0.8481461405754089 | auc: 0.8728708028793335 | treshold: 0.31\n"
     ]
    },
    {
     "name": "stderr",
     "output_type": "stream",
     "text": [
      "train... loss:0.7490413188934326:   2%|█▋                                                                        | 115/5000 [10:37<7:15:52,  5.35s/it]"
     ]
    },
    {
     "name": "stdout",
     "output_type": "stream",
     "text": [
      "Test update: epoch: 114 |accuracy: 0.7965663075447083 | f1: 0.8476760983467102 | auc: 0.8737878799438477 | treshold: 0.35000000000000003\n"
     ]
    },
    {
     "name": "stderr",
     "output_type": "stream",
     "text": [
      "train... loss:0.7360919415950775:   2%|█▋                                                                        | 116/5000 [10:43<7:20:05,  5.41s/it]"
     ]
    },
    {
     "name": "stdout",
     "output_type": "stream",
     "text": [
      "Test update: epoch: 115 |accuracy: 0.7952122092247009 | f1: 0.8468230366706848 | auc: 0.8742914199829102 | treshold: 0.39\n"
     ]
    },
    {
     "name": "stderr",
     "output_type": "stream",
     "text": [
      "train... loss:0.804794043302536:   3%|█▉                                                                         | 126/5000 [11:35<7:14:54,  5.35s/it]"
     ]
    },
    {
     "name": "stdout",
     "output_type": "stream",
     "text": [
      "Test update: epoch: 125 |accuracy: 0.8027566075325012 | f1: 0.846871554851532 | auc: 0.8746098279953003 | treshold: 0.68\n"
     ]
    },
    {
     "name": "stderr",
     "output_type": "stream",
     "text": [
      "train... loss:0.7849943041801453:   3%|█▉                                                                        | 127/5000 [11:41<7:20:55,  5.43s/it]"
     ]
    },
    {
     "name": "stdout",
     "output_type": "stream",
     "text": [
      "Test update: epoch: 126 |accuracy: 0.8052955865859985 | f1: 0.8477709889411926 | auc: 0.876473605632782 | treshold: 0.67\n"
     ]
    },
    {
     "name": "stderr",
     "output_type": "stream",
     "text": [
      "train... loss:0.7631490528583527:   3%|█▉                                                                        | 128/5000 [11:46<7:24:52,  5.48s/it]"
     ]
    },
    {
     "name": "stdout",
     "output_type": "stream",
     "text": [
      "Test update: epoch: 127 |accuracy: 0.8069882988929749 | f1: 0.8483259081840515 | auc: 0.8782483339309692 | treshold: 0.65\n"
     ]
    },
    {
     "name": "stderr",
     "output_type": "stream",
     "text": [
      "train... loss:0.7418341040611267:   3%|█▉                                                                        | 129/5000 [11:52<7:26:54,  5.50s/it]"
     ]
    },
    {
     "name": "stdout",
     "output_type": "stream",
     "text": [
      "Test update: epoch: 128 |accuracy: 0.8084391355514526 | f1: 0.8485798239707947 | auc: 0.8797993659973145 | treshold: 0.63\n"
     ]
    },
    {
     "name": "stderr",
     "output_type": "stream",
     "text": [
      "train... loss:0.7231720685958862:   3%|█▉                                                                        | 130/5000 [11:57<7:29:20,  5.54s/it]"
     ]
    },
    {
     "name": "stdout",
     "output_type": "stream",
     "text": [
      "Test update: epoch: 129 |accuracy: 0.806964099407196 | f1: 0.8485055565834045 | auc: 0.8810399770736694 | treshold: 0.5800000000000001\n"
     ]
    },
    {
     "name": "stderr",
     "output_type": "stream",
     "text": [
      "train... loss:0.709346741437912:   3%|█▉                                                                         | 131/5000 [12:03<7:29:22,  5.54s/it]"
     ]
    },
    {
     "name": "stdout",
     "output_type": "stream",
     "text": [
      "Test update: epoch: 130 |accuracy: 0.8069157004356384 | f1: 0.8489034175872803 | auc: 0.8819091320037842 | treshold: 0.53\n"
     ]
    },
    {
     "name": "stderr",
     "output_type": "stream",
     "text": [
      "train... loss:0.7011349201202393:   3%|█▉                                                                        | 132/5000 [12:08<7:27:05,  5.51s/it]"
     ]
    },
    {
     "name": "stdout",
     "output_type": "stream",
     "text": [
      "Test update: epoch: 131 |accuracy: 0.807399332523346 | f1: 0.8504759073257446 | auc: 0.882392406463623 | treshold: 0.46\n"
     ]
    },
    {
     "name": "stderr",
     "output_type": "stream",
     "text": [
      "train... loss:0.7006444036960602:   3%|█▉                                                                        | 133/5000 [12:14<7:26:23,  5.50s/it]"
     ]
    },
    {
     "name": "stdout",
     "output_type": "stream",
     "text": [
      "Test update: epoch: 132 |accuracy: 0.8075686097145081 | f1: 0.850176990032196 | auc: 0.8824752569198608 | treshold: 0.42000000000000004\n"
     ]
    },
    {
     "name": "stderr",
     "output_type": "stream",
     "text": [
      "train... loss:0.7510556578636169:   3%|██                                                                        | 142/5000 [12:58<6:46:18,  5.02s/it]"
     ]
    },
    {
     "name": "stdout",
     "output_type": "stream",
     "text": [
      "Test update: epoch: 141 |accuracy: 0.8100109100341797 | f1: 0.8554396629333496 | auc: 0.8849788904190063 | treshold: 0.24000000000000002\n"
     ]
    },
    {
     "name": "stderr",
     "output_type": "stream",
     "text": [
      "train... loss:0.7279136180877686:   3%|██                                                                        | 143/5000 [13:04<6:54:39,  5.12s/it]"
     ]
    },
    {
     "name": "stdout",
     "output_type": "stream",
     "text": [
      "Test update: epoch: 142 |accuracy: 0.8108088374137878 | f1: 0.8556617498397827 | auc: 0.8861656188964844 | treshold: 0.27\n"
     ]
    },
    {
     "name": "stderr",
     "output_type": "stream",
     "text": [
      "train... loss:0.7063029110431671:   3%|██▏                                                                       | 144/5000 [13:09<7:00:13,  5.19s/it]"
     ]
    },
    {
     "name": "stdout",
     "output_type": "stream",
     "text": [
      "Test update: epoch: 143 |accuracy: 0.8108088374137878 | f1: 0.8556137681007385 | auc: 0.8871314525604248 | treshold: 0.3\n"
     ]
    },
    {
     "name": "stderr",
     "output_type": "stream",
     "text": [
      "train... loss:0.6882996559143066:   3%|██▏                                                                       | 145/5000 [13:15<7:08:54,  5.30s/it]"
     ]
    },
    {
     "name": "stdout",
     "output_type": "stream",
     "text": [
      "Test update: epoch: 144 |accuracy: 0.811582624912262 | f1: 0.8558745384216309 | auc: 0.8877886533737183 | treshold: 0.34\n"
     ]
    },
    {
     "name": "stderr",
     "output_type": "stream",
     "text": [
      "train... loss:0.6766034066677094:   3%|██▏                                                                       | 146/5000 [13:20<7:10:34,  5.32s/it]"
     ]
    },
    {
     "name": "stdout",
     "output_type": "stream",
     "text": [
      "Test update: epoch: 145 |accuracy: 0.8112441301345825 | f1: 0.8556209206581116 | auc: 0.888094961643219 | treshold: 0.38\n"
     ]
    },
    {
     "name": "stderr",
     "output_type": "stream",
     "text": [
      "train... loss:0.7487990260124207:   3%|██▎                                                                       | 156/5000 [14:12<7:06:59,  5.29s/it]"
     ]
    },
    {
     "name": "stdout",
     "output_type": "stream",
     "text": [
      "Test update: epoch: 155 |accuracy: 0.819731593132019 | f1: 0.8556044101715088 | auc: 0.8879657983779907 | treshold: 0.7000000000000001\n"
     ]
    },
    {
     "name": "stderr",
     "output_type": "stream",
     "text": [
      "train... loss:0.7323422729969025:   3%|██▎                                                                       | 157/5000 [14:17<7:18:06,  5.43s/it]"
     ]
    },
    {
     "name": "stdout",
     "output_type": "stream",
     "text": [
      "Test update: epoch: 156 |accuracy: 0.8199008703231812 | f1: 0.8571154475212097 | auc: 0.8893061280250549 | treshold: 0.66\n"
     ]
    },
    {
     "name": "stderr",
     "output_type": "stream",
     "text": [
      "train... loss:0.7134531140327454:   3%|██▎                                                                       | 158/5000 [14:23<7:21:28,  5.47s/it]"
     ]
    },
    {
     "name": "stdout",
     "output_type": "stream",
     "text": [
      "Test update: epoch: 157 |accuracy: 0.8204811811447144 | f1: 0.8565354943275452 | auc: 0.8905758857727051 | treshold: 0.65\n"
     ]
    },
    {
     "name": "stderr",
     "output_type": "stream",
     "text": [
      "train... loss:0.6958260536193848:   3%|██▎                                                                       | 159/5000 [14:28<7:23:12,  5.49s/it]"
     ]
    },
    {
     "name": "stdout",
     "output_type": "stream",
     "text": [
      "Test update: epoch: 158 |accuracy: 0.8206262588500977 | f1: 0.8577837347984314 | auc: 0.8916921019554138 | treshold: 0.6\n"
     ]
    },
    {
     "name": "stderr",
     "output_type": "stream",
     "text": [
      "train... loss:0.6800460815429688:   3%|██▎                                                                       | 160/5000 [14:34<7:25:57,  5.53s/it]"
     ]
    },
    {
     "name": "stdout",
     "output_type": "stream",
     "text": [
      "Test update: epoch: 159 |accuracy: 0.8203119039535522 | f1: 0.8562418818473816 | auc: 0.8925931453704834 | treshold: 0.59\n"
     ]
    },
    {
     "name": "stderr",
     "output_type": "stream",
     "text": [
      "train... loss:0.6672934591770172:   3%|██▍                                                                       | 161/5000 [14:40<7:27:10,  5.54s/it]"
     ]
    },
    {
     "name": "stdout",
     "output_type": "stream",
     "text": [
      "Test update: epoch: 160 |accuracy: 0.8197073936462402 | f1: 0.8576501607894897 | auc: 0.8932543992996216 | treshold: 0.52\n"
     ]
    },
    {
     "name": "stderr",
     "output_type": "stream",
     "text": [
      "train... loss:0.6606372892856598:   3%|██▍                                                                       | 162/5000 [14:45<7:28:31,  5.56s/it]"
     ]
    },
    {
     "name": "stdout",
     "output_type": "stream",
     "text": [
      "Test update: epoch: 161 |accuracy: 0.8204086422920227 | f1: 0.8597699999809265 | auc: 0.8936536312103271 | treshold: 0.45\n"
     ]
    },
    {
     "name": "stderr",
     "output_type": "stream",
     "text": [
      "train... loss:0.6580390632152557:   3%|██▍                                                                       | 163/5000 [14:51<7:27:50,  5.56s/it]"
     ]
    },
    {
     "name": "stdout",
     "output_type": "stream",
     "text": [
      "Test update: epoch: 162 |accuracy: 0.8199734091758728 | f1: 0.8594036102294922 | auc: 0.8937740325927734 | treshold: 0.41000000000000003\n"
     ]
    },
    {
     "name": "stderr",
     "output_type": "stream",
     "text": [
      "train... loss:0.7064633071422577:   4%|██▋                                                                       | 184/5000 [16:36<7:02:15,  5.26s/it]"
     ]
    },
    {
     "name": "stdout",
     "output_type": "stream",
     "text": [
      "Test update: epoch: 183 |accuracy: 0.8280014395713806 | f1: 0.8635343313217163 | auc: 0.8948029279708862 | treshold: 0.65\n"
     ]
    },
    {
     "name": "stderr",
     "output_type": "stream",
     "text": [
      "train... loss:0.7129495441913605:   4%|██▋                                                                       | 185/5000 [16:42<7:10:07,  5.36s/it]"
     ]
    },
    {
     "name": "stdout",
     "output_type": "stream",
     "text": [
      "Test update: epoch: 184 |accuracy: 0.8290653824806213 | f1: 0.8641491532325745 | auc: 0.8957051038742065 | treshold: 0.66\n"
     ]
    },
    {
     "name": "stderr",
     "output_type": "stream",
     "text": [
      "train... loss:0.7130048274993896:   4%|██▊                                                                       | 186/5000 [16:47<7:15:38,  5.43s/it]"
     ]
    },
    {
     "name": "stdout",
     "output_type": "stream",
     "text": [
      "Test update: epoch: 185 |accuracy: 0.8296699523925781 | f1: 0.8646373748779297 | auc: 0.8966565728187561 | treshold: 0.66\n"
     ]
    },
    {
     "name": "stderr",
     "output_type": "stream",
     "text": [
      "train... loss:0.7076246738433838:   4%|██▊                                                                       | 187/5000 [16:53<7:20:51,  5.50s/it]"
     ]
    },
    {
     "name": "stdout",
     "output_type": "stream",
     "text": [
      "Test update: epoch: 186 |accuracy: 0.8307338953018188 | f1: 0.8643831610679626 | auc: 0.8975072503089905 | treshold: 0.67\n"
     ]
    },
    {
     "name": "stderr",
     "output_type": "stream",
     "text": [
      "train... loss:0.6988623738288879:   4%|██▊                                                                       | 188/5000 [16:59<7:22:54,  5.52s/it]"
     ]
    },
    {
     "name": "stdout",
     "output_type": "stream",
     "text": [
      "Test update: epoch: 187 |accuracy: 0.8291863203048706 | f1: 0.8639759421348572 | auc: 0.8981537818908691 | treshold: 0.64\n"
     ]
    },
    {
     "name": "stderr",
     "output_type": "stream",
     "text": [
      "train... loss:0.6887900829315186:   4%|██▊                                                                       | 189/5000 [17:04<7:23:17,  5.53s/it]"
     ]
    },
    {
     "name": "stdout",
     "output_type": "stream",
     "text": [
      "Test update: epoch: 188 |accuracy: 0.8273969292640686 | f1: 0.8631256222724915 | auc: 0.8985592126846313 | treshold: 0.61\n"
     ]
    },
    {
     "name": "stderr",
     "output_type": "stream",
     "text": [
      "train... loss:0.6788676381111145:   4%|██▊                                                                       | 190/5000 [17:10<7:25:39,  5.56s/it]"
     ]
    },
    {
     "name": "stdout",
     "output_type": "stream",
     "text": [
      "Test update: epoch: 189 |accuracy: 0.8262120485305786 | f1: 0.8625050187110901 | auc: 0.8987403512001038 | treshold: 0.5800000000000001\n"
     ]
    },
    {
     "name": "stderr",
     "output_type": "stream",
     "text": [
      "train... loss:0.6708337962627411:   4%|██▊                                                                       | 191/5000 [17:15<7:24:57,  5.55s/it]"
     ]
    },
    {
     "name": "stdout",
     "output_type": "stream",
     "text": [
      "Test update: epoch: 190 |accuracy: 0.8265506029129028 | f1: 0.8634676337242126 | auc: 0.8987731337547302 | treshold: 0.54\n"
     ]
    },
    {
     "name": "stderr",
     "output_type": "stream",
     "text": [
      "train... loss:0.6872500479221344:   4%|███▏                                                                      | 219/5000 [19:36<7:03:43,  5.32s/it]"
     ]
    },
    {
     "name": "stdout",
     "output_type": "stream",
     "text": [
      "Test update: epoch: 218 |accuracy: 0.8334421515464783 | f1: 0.8681419491767883 | auc: 0.9015886783599854 | treshold: 0.62\n"
     ]
    },
    {
     "name": "stderr",
     "output_type": "stream",
     "text": [
      "train... loss:0.6796152889728546:   4%|███▎                                                                      | 220/5000 [19:42<7:14:12,  5.45s/it]"
     ]
    },
    {
     "name": "stdout",
     "output_type": "stream",
     "text": [
      "Test update: epoch: 219 |accuracy: 0.8344093561172485 | f1: 0.8680844306945801 | auc: 0.9032814502716064 | treshold: 0.63\n"
     ]
    },
    {
     "name": "stderr",
     "output_type": "stream",
     "text": [
      "train... loss:0.6692477166652679:   4%|███▎                                                                      | 221/5000 [19:47<7:16:51,  5.48s/it]"
     ]
    },
    {
     "name": "stdout",
     "output_type": "stream",
     "text": [
      "Test update: epoch: 220 |accuracy: 0.835086464881897 | f1: 0.86899733543396 | auc: 0.9046766757965088 | treshold: 0.61\n"
     ]
    },
    {
     "name": "stderr",
     "output_type": "stream",
     "text": [
      "train... loss:0.6592080295085907:   4%|███▎                                                                      | 222/5000 [19:53<7:19:13,  5.52s/it]"
     ]
    },
    {
     "name": "stdout",
     "output_type": "stream",
     "text": [
      "Test update: epoch: 221 |accuracy: 0.8355942368507385 | f1: 0.869518518447876 | auc: 0.9057583808898926 | treshold: 0.59\n"
     ]
    },
    {
     "name": "stderr",
     "output_type": "stream",
     "text": [
      "train... loss:0.6495992541313171:   4%|███▎                                                                      | 223/5000 [19:58<7:20:22,  5.53s/it]"
     ]
    },
    {
     "name": "stdout",
     "output_type": "stream",
     "text": [
      "Test update: epoch: 222 |accuracy: 0.8352798819541931 | f1: 0.8685196042060852 | auc: 0.9065141081809998 | treshold: 0.59\n"
     ]
    },
    {
     "name": "stderr",
     "output_type": "stream",
     "text": [
      "train... loss:0.6410911977291107:   4%|███▎                                                                      | 224/5000 [20:04<7:23:12,  5.57s/it]"
     ]
    },
    {
     "name": "stdout",
     "output_type": "stream",
     "text": [
      "Test update: epoch: 223 |accuracy: 0.8343368172645569 | f1: 0.8693978190422058 | auc: 0.9069662094116211 | treshold: 0.53\n"
     ]
    },
    {
     "name": "stderr",
     "output_type": "stream",
     "text": [
      "train... loss:0.6345634162425995:   4%|███▎                                                                      | 225/5000 [20:09<7:21:03,  5.54s/it]"
     ]
    },
    {
     "name": "stdout",
     "output_type": "stream",
     "text": [
      "Test update: epoch: 224 |accuracy: 0.8337807059288025 | f1: 0.8691514134407043 | auc: 0.9071446061134338 | treshold: 0.5\n"
     ]
    },
    {
     "name": "stderr",
     "output_type": "stream",
     "text": [
      "train... loss:0.6503931879997253:   5%|███▊                                                                      | 258/5000 [22:55<6:57:56,  5.29s/it]"
     ]
    },
    {
     "name": "stdout",
     "output_type": "stream",
     "text": [
      "Test update: epoch: 257 |accuracy: 0.8384717702865601 | f1: 0.8704622983932495 | auc: 0.9074382781982422 | treshold: 0.62\n"
     ]
    },
    {
     "name": "stderr",
     "output_type": "stream",
     "text": [
      "train... loss:0.6393455564975739:   5%|███▊                                                                      | 259/5000 [23:01<7:04:24,  5.37s/it]"
     ]
    },
    {
     "name": "stdout",
     "output_type": "stream",
     "text": [
      "Test update: epoch: 258 |accuracy: 0.8377705216407776 | f1: 0.8714824914932251 | auc: 0.9082099199295044 | treshold: 0.56\n"
     ]
    },
    {
     "name": "stderr",
     "output_type": "stream",
     "text": [
      "train... loss:0.629596084356308:   5%|███▉                                                                       | 260/5000 [23:06<7:10:10,  5.45s/it]"
     ]
    },
    {
     "name": "stdout",
     "output_type": "stream",
     "text": [
      "Test update: epoch: 259 |accuracy: 0.8376254439353943 | f1: 0.8702791333198547 | auc: 0.9088047742843628 | treshold: 0.5700000000000001\n"
     ]
    },
    {
     "name": "stderr",
     "output_type": "stream",
     "text": [
      "train... loss:0.6205441653728485:   5%|███▊                                                                      | 261/5000 [23:12<7:11:57,  5.47s/it]"
     ]
    },
    {
     "name": "stdout",
     "output_type": "stream",
     "text": [
      "Test update: epoch: 260 |accuracy: 0.8370450735092163 | f1: 0.8693916201591492 | auc: 0.9092212915420532 | treshold: 0.56\n"
     ]
    },
    {
     "name": "stderr",
     "output_type": "stream",
     "text": [
      "train... loss:0.6135994791984558:   5%|███▉                                                                      | 262/5000 [23:17<7:11:56,  5.47s/it]"
     ]
    },
    {
     "name": "stdout",
     "output_type": "stream",
     "text": [
      "Test update: epoch: 261 |accuracy: 0.8371660113334656 | f1: 0.8716159462928772 | auc: 0.9094597101211548 | treshold: 0.48000000000000004\n"
     ]
    },
    {
     "name": "stderr",
     "output_type": "stream",
     "text": [
      "train... loss:0.609165757894516:   5%|███▉                                                                       | 263/5000 [23:23<7:12:35,  5.48s/it]"
     ]
    },
    {
     "name": "stdout",
     "output_type": "stream",
     "text": [
      "Test update: epoch: 262 |accuracy: 0.8367307186126709 | f1: 0.871410071849823 | auc: 0.9095206260681152 | treshold: 0.45\n"
     ]
    },
    {
     "name": "stderr",
     "output_type": "stream",
     "text": [
      "train... loss:0.6607381403446198:   6%|████▎                                                                     | 294/5000 [25:57<6:48:45,  5.21s/it]"
     ]
    },
    {
     "name": "stdout",
     "output_type": "stream",
     "text": [
      "Test update: epoch: 293 |accuracy: 0.8402611613273621 | f1: 0.8725596070289612 | auc: 0.9093509912490845 | treshold: 0.64\n"
     ]
    },
    {
     "name": "stderr",
     "output_type": "stream",
     "text": [
      "train... loss:0.6561217904090881:   6%|████▎                                                                     | 295/5000 [26:03<6:57:59,  5.33s/it]"
     ]
    },
    {
     "name": "stdout",
     "output_type": "stream",
     "text": [
      "Test update: epoch: 294 |accuracy: 0.8416394591331482 | f1: 0.8748877644538879 | auc: 0.9101541042327881 | treshold: 0.6\n"
     ]
    },
    {
     "name": "stderr",
     "output_type": "stream",
     "text": [
      "train... loss:0.650078296661377:   6%|████▍                                                                      | 296/5000 [26:09<7:03:49,  5.41s/it]"
     ]
    },
    {
     "name": "stdout",
     "output_type": "stream",
     "text": [
      "Test update: epoch: 295 |accuracy: 0.8413735032081604 | f1: 0.8738558292388916 | auc: 0.9107906818389893 | treshold: 0.61\n"
     ]
    },
    {
     "name": "stderr",
     "output_type": "stream",
     "text": [
      "train... loss:0.6433742940425873:   6%|████▍                                                                     | 297/5000 [26:14<7:06:10,  5.44s/it]"
     ]
    },
    {
     "name": "stdout",
     "output_type": "stream",
     "text": [
      "Test update: epoch: 296 |accuracy: 0.8412283658981323 | f1: 0.8731648921966553 | auc: 0.9112454056739807 | treshold: 0.61\n"
     ]
    },
    {
     "name": "stderr",
     "output_type": "stream",
     "text": [
      "train... loss:0.6356606185436249:   6%|████▍                                                                     | 298/5000 [26:20<7:09:38,  5.48s/it]"
     ]
    },
    {
     "name": "stdout",
     "output_type": "stream",
     "text": [
      "Test update: epoch: 297 |accuracy: 0.8409865498542786 | f1: 0.8741579651832581 | auc: 0.9115254878997803 | treshold: 0.56\n"
     ]
    },
    {
     "name": "stderr",
     "output_type": "stream",
     "text": [
      "train... loss:0.6282598376274109:   6%|████▍                                                                     | 299/5000 [26:25<7:10:12,  5.49s/it]"
     ]
    },
    {
     "name": "stdout",
     "output_type": "stream",
     "text": [
      "Test update: epoch: 298 |accuracy: 0.840696394443512 | f1: 0.8731759786605835 | auc: 0.9116582870483398 | treshold: 0.56\n"
     ]
    },
    {
     "name": "stderr",
     "output_type": "stream",
     "text": [
      "train... loss:0.6215246617794037:   6%|████▍                                                                     | 300/5000 [26:31<7:09:49,  5.49s/it]"
     ]
    },
    {
     "name": "stdout",
     "output_type": "stream",
     "text": [
      "Test update: epoch: 299 |accuracy: 0.8398500680923462 | f1: 0.8732416033744812 | auc: 0.9116493463516235 | treshold: 0.52\n"
     ]
    },
    {
     "name": "stderr",
     "output_type": "stream",
     "text": [
      "train... loss:0.6422002613544464:   7%|████▉                                                                     | 332/5000 [29:16<6:51:35,  5.29s/it]\n"
     ]
    },
    {
     "name": "stdout",
     "output_type": "stream",
     "text": [
      "\n",
      "Evaluating NeuralClickModel with explicit embeddings\n"
     ]
    },
    {
     "name": "stderr",
     "output_type": "stream",
     "text": [
      "\r",
      "train:   0%|                                                                                                                 | 0/5000 [00:00<?, ?it/s]"
     ]
    },
    {
     "name": "stdout",
     "output_type": "stream",
     "text": [
      "Test before learning: {'f1': 0.47740882635116577, 'roc-auc': 0.48673033714294434, 'accuracy': 0.4576955735683441}\n"
     ]
    },
    {
     "name": "stderr",
     "output_type": "stream",
     "text": [
      "train... loss:1.402110755443573:   0%|                                                                             | 1/5000 [00:05<7:21:28,  5.30s/it]"
     ]
    },
    {
     "name": "stdout",
     "output_type": "stream",
     "text": [
      "Test update: epoch: 0 |accuracy: 0.6397050023078918 | f1: 0.7802619338035583 | auc: 0.5057735443115234 | treshold: 0.3\n"
     ]
    },
    {
     "name": "stderr",
     "output_type": "stream",
     "text": [
      "train... loss:1.3903160691261292:   0%|                                                                            | 2/5000 [00:10<7:20:15,  5.29s/it]"
     ]
    },
    {
     "name": "stdout",
     "output_type": "stream",
     "text": [
      "Test update: epoch: 1 |accuracy: 0.6397050023078918 | f1: 0.7802619338035583 | auc: 0.5241725444793701 | treshold: 0.3\n"
     ]
    },
    {
     "name": "stderr",
     "output_type": "stream",
     "text": [
      "train... loss:1.3791884779930115:   0%|                                                                            | 3/5000 [00:15<7:19:58,  5.28s/it]"
     ]
    },
    {
     "name": "stdout",
     "output_type": "stream",
     "text": [
      "Test update: epoch: 2 |accuracy: 0.639680802822113 | f1: 0.7802504301071167 | auc: 0.5422744750976562 | treshold: 0.3\n"
     ]
    },
    {
     "name": "stderr",
     "output_type": "stream",
     "text": [
      "train... loss:1.3682252168655396:   0%|                                                                            | 4/5000 [00:21<7:19:11,  5.27s/it]"
     ]
    },
    {
     "name": "stdout",
     "output_type": "stream",
     "text": [
      "Test update: epoch: 3 |accuracy: 0.6397050023078918 | f1: 0.7802554368972778 | auc: 0.5594719648361206 | treshold: 0.32\n"
     ]
    },
    {
     "name": "stderr",
     "output_type": "stream",
     "text": [
      "train... loss:1.3574306964874268:   0%|                                                                            | 5/5000 [00:26<7:17:34,  5.26s/it]"
     ]
    },
    {
     "name": "stdout",
     "output_type": "stream",
     "text": [
      "Test update: epoch: 4 |accuracy: 0.6397050023078918 | f1: 0.7802554368972778 | auc: 0.5750665664672852 | treshold: 0.32\n"
     ]
    },
    {
     "name": "stderr",
     "output_type": "stream",
     "text": [
      "train... loss:1.3469984531402588:   0%|                                                                            | 6/5000 [00:31<7:16:44,  5.25s/it]"
     ]
    },
    {
     "name": "stdout",
     "output_type": "stream",
     "text": [
      "Test update: epoch: 5 |accuracy: 0.639680802822113 | f1: 0.7802504301071167 | auc: 0.5886877775192261 | treshold: 0.31\n"
     ]
    },
    {
     "name": "stderr",
     "output_type": "stream",
     "text": [
      "train... loss:1.336818277835846:   0%|                                                                             | 7/5000 [00:36<7:17:47,  5.26s/it]"
     ]
    },
    {
     "name": "stdout",
     "output_type": "stream",
     "text": [
      "Test update: epoch: 6 |accuracy: 0.639680802822113 | f1: 0.7802504301071167 | auc: 0.600348949432373 | treshold: 0.31\n"
     ]
    },
    {
     "name": "stderr",
     "output_type": "stream",
     "text": [
      "train... loss:1.3268585205078125:   0%|                                                                            | 8/5000 [00:42<7:17:56,  5.26s/it]"
     ]
    },
    {
     "name": "stdout",
     "output_type": "stream",
     "text": [
      "Test update: epoch: 7 |accuracy: 0.639680802822113 | f1: 0.7802504301071167 | auc: 0.6102010607719421 | treshold: 0.31\n"
     ]
    },
    {
     "name": "stderr",
     "output_type": "stream",
     "text": [
      "train... loss:1.3170881867408752:   0%|▏                                                                           | 9/5000 [00:47<7:18:37,  5.27s/it]"
     ]
    },
    {
     "name": "stdout",
     "output_type": "stream",
     "text": [
      "Test update: epoch: 8 |accuracy: 0.639680802822113 | f1: 0.7802504301071167 | auc: 0.6185376644134521 | treshold: 0.3\n"
     ]
    },
    {
     "name": "stderr",
     "output_type": "stream",
     "text": [
      "train... loss:1.3075202107429504:   0%|▏                                                                          | 10/5000 [00:52<7:17:01,  5.25s/it]"
     ]
    },
    {
     "name": "stdout",
     "output_type": "stream",
     "text": [
      "Test update: epoch: 9 |accuracy: 0.639680802822113 | f1: 0.7802504301071167 | auc: 0.6257342100143433 | treshold: 0.29000000000000004\n"
     ]
    },
    {
     "name": "stderr",
     "output_type": "stream",
     "text": [
      "train... loss:1.2981001138687134:   0%|▏                                                                          | 11/5000 [00:57<7:15:58,  5.24s/it]"
     ]
    },
    {
     "name": "stdout",
     "output_type": "stream",
     "text": [
      "Test update: epoch: 10 |accuracy: 0.639680802822113 | f1: 0.7802504301071167 | auc: 0.6320765018463135 | treshold: 0.29000000000000004\n"
     ]
    },
    {
     "name": "stderr",
     "output_type": "stream",
     "text": [
      "train... loss:1.289072573184967:   0%|▏                                                                           | 12/5000 [01:03<7:15:34,  5.24s/it]"
     ]
    },
    {
     "name": "stdout",
     "output_type": "stream",
     "text": [
      "Test update: epoch: 11 |accuracy: 0.6414943933486938 | f1: 0.7805505990982056 | auc: 0.6378436088562012 | treshold: 0.42000000000000004\n"
     ]
    },
    {
     "name": "stderr",
     "output_type": "stream",
     "text": [
      "train... loss:1.280142903327942:   0%|▏                                                                           | 13/5000 [01:08<7:14:12,  5.22s/it]"
     ]
    },
    {
     "name": "stdout",
     "output_type": "stream",
     "text": [
      "Test update: epoch: 12 |accuracy: 0.6434530019760132 | f1: 0.7810332775115967 | auc: 0.6432198286056519 | treshold: 0.43\n"
     ]
    },
    {
     "name": "stderr",
     "output_type": "stream",
     "text": [
      "train... loss:1.2713911533355713:   0%|▏                                                                          | 14/5000 [01:13<7:13:25,  5.22s/it]"
     ]
    },
    {
     "name": "stdout",
     "output_type": "stream",
     "text": [
      "Test update: epoch: 13 |accuracy: 0.6457260251045227 | f1: 0.7813381552696228 | auc: 0.6483823657035828 | treshold: 0.44\n"
     ]
    },
    {
     "name": "stderr",
     "output_type": "stream",
     "text": [
      "train... loss:1.2628848552703857:   0%|▏                                                                          | 15/5000 [01:18<7:13:30,  5.22s/it]"
     ]
    },
    {
     "name": "stdout",
     "output_type": "stream",
     "text": [
      "Test update: epoch: 14 |accuracy: 0.646475613117218 | f1: 0.7815758585929871 | auc: 0.6534237861633301 | treshold: 0.44\n"
     ]
    },
    {
     "name": "stderr",
     "output_type": "stream",
     "text": [
      "train... loss:1.254740297794342:   0%|▏                                                                           | 16/5000 [01:23<7:15:05,  5.24s/it]"
     ]
    },
    {
     "name": "stdout",
     "output_type": "stream",
     "text": [
      "Test update: epoch: 15 |accuracy: 0.6498851180076599 | f1: 0.7823459506034851 | auc: 0.658461332321167 | treshold: 0.45\n"
     ]
    },
    {
     "name": "stderr",
     "output_type": "stream",
     "text": [
      "train... loss:1.2467127442359924:   0%|▎                                                                          | 17/5000 [01:29<7:14:04,  5.23s/it]"
     ]
    },
    {
     "name": "stdout",
     "output_type": "stream",
     "text": [
      "Test update: epoch: 16 |accuracy: 0.6517470479011536 | f1: 0.783193826675415 | auc: 0.6635799407958984 | treshold: 0.45\n"
     ]
    },
    {
     "name": "stderr",
     "output_type": "stream",
     "text": [
      "train... loss:1.2387948036193848:   0%|▎                                                                          | 18/5000 [01:34<7:15:14,  5.24s/it]"
     ]
    },
    {
     "name": "stdout",
     "output_type": "stream",
     "text": [
      "Test update: epoch: 17 |accuracy: 0.6557611227035522 | f1: 0.7841329574584961 | auc: 0.6688877940177917 | treshold: 0.46\n"
     ]
    },
    {
     "name": "stderr",
     "output_type": "stream",
     "text": [
      "train... loss:1.2316406965255737:   0%|▎                                                                          | 19/5000 [01:39<7:16:43,  5.26s/it]"
     ]
    },
    {
     "name": "stdout",
     "output_type": "stream",
     "text": [
      "Test update: epoch: 18 |accuracy: 0.6599202156066895 | f1: 0.7850592732429504 | auc: 0.6744340658187866 | treshold: 0.47000000000000003\n"
     ]
    },
    {
     "name": "stderr",
     "output_type": "stream",
     "text": [
      "train... loss:1.2236008644104004:   0%|▎                                                                          | 20/5000 [01:44<7:16:29,  5.26s/it]"
     ]
    },
    {
     "name": "stdout",
     "output_type": "stream",
     "text": [
      "Test update: epoch: 19 |accuracy: 0.6625559329986572 | f1: 0.7862449288368225 | auc: 0.680297315120697 | treshold: 0.47000000000000003\n"
     ]
    },
    {
     "name": "stderr",
     "output_type": "stream",
     "text": [
      "train... loss:1.2155673503875732:   0%|▎                                                                          | 21/5000 [01:50<7:19:28,  5.30s/it]"
     ]
    },
    {
     "name": "stdout",
     "output_type": "stream",
     "text": [
      "Test update: epoch: 20 |accuracy: 0.6687220335006714 | f1: 0.7879125475883484 | auc: 0.6864783763885498 | treshold: 0.48000000000000004\n"
     ]
    },
    {
     "name": "stderr",
     "output_type": "stream",
     "text": [
      "train... loss:1.2079296112060547:   0%|▎                                                                          | 22/5000 [01:55<7:22:08,  5.33s/it]"
     ]
    },
    {
     "name": "stdout",
     "output_type": "stream",
     "text": [
      "Test update: epoch: 21 |accuracy: 0.6726635098457336 | f1: 0.789638102054596 | auc: 0.692934513092041 | treshold: 0.48000000000000004\n"
     ]
    },
    {
     "name": "stderr",
     "output_type": "stream",
     "text": [
      "train... loss:1.199623465538025:   0%|▎                                                                           | 23/5000 [02:01<7:23:52,  5.35s/it]"
     ]
    },
    {
     "name": "stdout",
     "output_type": "stream",
     "text": [
      "Test update: epoch: 22 |accuracy: 0.6774513125419617 | f1: 0.7916009426116943 | auc: 0.6996018886566162 | treshold: 0.48000000000000004\n"
     ]
    },
    {
     "name": "stderr",
     "output_type": "stream",
     "text": [
      "train... loss:1.1899965405464172:   0%|▎                                                                          | 24/5000 [02:06<7:25:22,  5.37s/it]"
     ]
    },
    {
     "name": "stdout",
     "output_type": "stream",
     "text": [
      "Test update: epoch: 23 |accuracy: 0.681755542755127 | f1: 0.7930042147636414 | auc: 0.706385612487793 | treshold: 0.48000000000000004\n"
     ]
    },
    {
     "name": "stderr",
     "output_type": "stream",
     "text": [
      "train... loss:1.1809689402580261:   0%|▍                                                                          | 25/5000 [02:11<7:25:00,  5.37s/it]"
     ]
    },
    {
     "name": "stdout",
     "output_type": "stream",
     "text": [
      "Test update: epoch: 24 |accuracy: 0.6869544386863708 | f1: 0.7949700951576233 | auc: 0.713135838508606 | treshold: 0.48000000000000004\n"
     ]
    },
    {
     "name": "stderr",
     "output_type": "stream",
     "text": [
      "train... loss:1.1710967421531677:   1%|▍                                                                          | 26/5000 [02:17<7:27:27,  5.40s/it]"
     ]
    },
    {
     "name": "stdout",
     "output_type": "stream",
     "text": [
      "Test update: epoch: 25 |accuracy: 0.6926611065864563 | f1: 0.7968155741691589 | auc: 0.7197189331054688 | treshold: 0.48000000000000004\n"
     ]
    },
    {
     "name": "stderr",
     "output_type": "stream",
     "text": [
      "train... loss:1.160841941833496:   1%|▍                                                                           | 27/5000 [02:22<7:27:13,  5.40s/it]"
     ]
    },
    {
     "name": "stdout",
     "output_type": "stream",
     "text": [
      "Test update: epoch: 26 |accuracy: 0.6967718601226807 | f1: 0.7990706562995911 | auc: 0.7260101437568665 | treshold: 0.47000000000000003\n"
     ]
    },
    {
     "name": "stderr",
     "output_type": "stream",
     "text": [
      "train... loss:1.1507208347320557:   1%|▍                                                                          | 28/5000 [02:28<7:27:05,  5.40s/it]"
     ]
    },
    {
     "name": "stdout",
     "output_type": "stream",
     "text": [
      "Test update: epoch: 27 |accuracy: 0.7024785280227661 | f1: 0.8006868362426758 | auc: 0.7319052815437317 | treshold: 0.47000000000000003\n"
     ]
    },
    {
     "name": "stderr",
     "output_type": "stream",
     "text": [
      "train... loss:1.140730857849121:   1%|▍                                                                           | 29/5000 [02:33<7:27:23,  5.40s/it]"
     ]
    },
    {
     "name": "stdout",
     "output_type": "stream",
     "text": [
      "Test update: epoch: 28 |accuracy: 0.7073147296905518 | f1: 0.8031037449836731 | auc: 0.7373256683349609 | treshold: 0.46\n"
     ]
    },
    {
     "name": "stderr",
     "output_type": "stream",
     "text": [
      "train... loss:1.1315776705741882:   1%|▍                                                                          | 30/5000 [02:38<7:25:44,  5.38s/it]"
     ]
    },
    {
     "name": "stdout",
     "output_type": "stream",
     "text": [
      "Test update: epoch: 29 |accuracy: 0.7085479497909546 | f1: 0.8045913577079773 | auc: 0.7422685027122498 | treshold: 0.44\n"
     ]
    },
    {
     "name": "stderr",
     "output_type": "stream",
     "text": [
      "train... loss:1.1228379011154175:   1%|▍                                                                          | 31/5000 [02:44<7:27:05,  5.40s/it]"
     ]
    },
    {
     "name": "stdout",
     "output_type": "stream",
     "text": [
      "Test update: epoch: 30 |accuracy: 0.7127795815467834 | f1: 0.8064652681350708 | auc: 0.7467861771583557 | treshold: 0.43\n"
     ]
    },
    {
     "name": "stderr",
     "output_type": "stream",
     "text": [
      "train... loss:1.1152213215827942:   1%|▍                                                                          | 32/5000 [02:49<7:30:42,  5.44s/it]"
     ]
    },
    {
     "name": "stdout",
     "output_type": "stream",
     "text": [
      "Test update: epoch: 31 |accuracy: 0.7199612855911255 | f1: 0.8087270855903625 | auc: 0.7509326338768005 | treshold: 0.43\n"
     ]
    },
    {
     "name": "stderr",
     "output_type": "stream",
     "text": [
      "train... loss:1.1079269647598267:   1%|▍                                                                          | 33/5000 [02:55<7:30:55,  5.45s/it]"
     ]
    },
    {
     "name": "stdout",
     "output_type": "stream",
     "text": [
      "Test update: epoch: 32 |accuracy: 0.7215088605880737 | f1: 0.8104727864265442 | auc: 0.7548183798789978 | treshold: 0.41000000000000003\n"
     ]
    },
    {
     "name": "stderr",
     "output_type": "stream",
     "text": [
      "train... loss:1.1013756394386292:   1%|▌                                                                          | 34/5000 [03:00<7:28:59,  5.42s/it]"
     ]
    },
    {
     "name": "stdout",
     "output_type": "stream",
     "text": [
      "Test update: epoch: 33 |accuracy: 0.7239269614219666 | f1: 0.811441957950592 | auc: 0.7585135698318481 | treshold: 0.4\n"
     ]
    },
    {
     "name": "stderr",
     "output_type": "stream",
     "text": [
      "train... loss:1.095046579837799:   1%|▌                                                                           | 35/5000 [03:06<7:27:38,  5.41s/it]"
     ]
    },
    {
     "name": "stdout",
     "output_type": "stream",
     "text": [
      "Test update: epoch: 34 |accuracy: 0.7266594171524048 | f1: 0.8128414750099182 | auc: 0.7621055841445923 | treshold: 0.39\n"
     ]
    },
    {
     "name": "stderr",
     "output_type": "stream",
     "text": [
      "train... loss:1.0874703526496887:   1%|▌                                                                          | 36/5000 [03:11<7:27:56,  5.41s/it]"
     ]
    },
    {
     "name": "stdout",
     "output_type": "stream",
     "text": [
      "Test update: epoch: 35 |accuracy: 0.7299721837043762 | f1: 0.8149902820587158 | auc: 0.7656741738319397 | treshold: 0.38\n"
     ]
    },
    {
     "name": "stderr",
     "output_type": "stream",
     "text": [
      "train... loss:1.078880250453949:   1%|▌                                                                           | 37/5000 [03:16<7:28:04,  5.42s/it]"
     ]
    },
    {
     "name": "stdout",
     "output_type": "stream",
     "text": [
      "Test update: epoch: 36 |accuracy: 0.7337202429771423 | f1: 0.8165339231491089 | auc: 0.7691959142684937 | treshold: 0.38\n"
     ]
    },
    {
     "name": "stderr",
     "output_type": "stream",
     "text": [
      "train... loss:1.0687329173088074:   1%|▌                                                                          | 38/5000 [03:22<7:30:00,  5.44s/it]"
     ]
    },
    {
     "name": "stdout",
     "output_type": "stream",
     "text": [
      "Test update: epoch: 37 |accuracy: 0.7366461157798767 | f1: 0.8180618286132812 | auc: 0.7726550102233887 | treshold: 0.38\n"
     ]
    },
    {
     "name": "stderr",
     "output_type": "stream",
     "text": [
      "train... loss:1.0576582551002502:   1%|▌                                                                          | 39/5000 [03:27<7:28:13,  5.42s/it]"
     ]
    },
    {
     "name": "stdout",
     "output_type": "stream",
     "text": [
      "Test update: epoch: 38 |accuracy: 0.7398621439933777 | f1: 0.8191446661949158 | auc: 0.7759702205657959 | treshold: 0.39\n"
     ]
    },
    {
     "name": "stderr",
     "output_type": "stream",
     "text": [
      "train... loss:1.045377492904663:   1%|▌                                                                           | 40/5000 [03:33<7:28:31,  5.43s/it]"
     ]
    },
    {
     "name": "stdout",
     "output_type": "stream",
     "text": [
      "Test update: epoch: 39 |accuracy: 0.7406117916107178 | f1: 0.8202309608459473 | auc: 0.7790133953094482 | treshold: 0.39\n"
     ]
    },
    {
     "name": "stderr",
     "output_type": "stream",
     "text": [
      "train... loss:1.033414363861084:   1%|▌                                                                           | 41/5000 [03:38<7:29:23,  5.44s/it]"
     ]
    },
    {
     "name": "stdout",
     "output_type": "stream",
     "text": [
      "Test update: epoch: 40 |accuracy: 0.7421835064888 | f1: 0.8212752938270569 | auc: 0.7816389799118042 | treshold: 0.4\n"
     ]
    },
    {
     "name": "stderr",
     "output_type": "stream",
     "text": [
      "train... loss:1.0235387682914734:   1%|▋                                                                          | 42/5000 [03:44<7:26:49,  5.41s/it]"
     ]
    },
    {
     "name": "stdout",
     "output_type": "stream",
     "text": [
      "Test update: epoch: 41 |accuracy: 0.7447950839996338 | f1: 0.82237708568573 | auc: 0.7837250232696533 | treshold: 0.42000000000000004\n"
     ]
    },
    {
     "name": "stderr",
     "output_type": "stream",
     "text": [
      "train... loss:1.0166016817092896:   1%|▋                                                                          | 43/5000 [03:49<7:25:52,  5.40s/it]"
     ]
    },
    {
     "name": "stdout",
     "output_type": "stream",
     "text": [
      "Test update: epoch: 42 |accuracy: 0.7458106875419617 | f1: 0.8228453993797302 | auc: 0.7851296663284302 | treshold: 0.44\n"
     ]
    },
    {
     "name": "stderr",
     "output_type": "stream",
     "text": [
      "train... loss:1.0133296847343445:   1%|▋                                                                          | 44/5000 [03:55<7:32:29,  5.48s/it]"
     ]
    },
    {
     "name": "stdout",
     "output_type": "stream",
     "text": [
      "Test update: epoch: 43 |accuracy: 0.7451335787773132 | f1: 0.8229880332946777 | auc: 0.785926103591919 | treshold: 0.45\n"
     ]
    },
    {
     "name": "stderr",
     "output_type": "stream",
     "text": [
      "train... loss:1.0139241814613342:   1%|▋                                                                          | 45/5000 [04:00<7:36:13,  5.52s/it]"
     ]
    },
    {
     "name": "stdout",
     "output_type": "stream",
     "text": [
      "Test update: epoch: 44 |accuracy: 0.746560275554657 | f1: 0.8219061493873596 | auc: 0.7864333391189575 | treshold: 0.49\n"
     ]
    },
    {
     "name": "stderr",
     "output_type": "stream",
     "text": [
      "train... loss:1.015740156173706:   1%|▋                                                                           | 46/5000 [04:06<7:37:31,  5.54s/it]"
     ]
    },
    {
     "name": "stdout",
     "output_type": "stream",
     "text": [
      "Test update: epoch: 45 |accuracy: 0.7467536926269531 | f1: 0.8221327662467957 | auc: 0.7872259616851807 | treshold: 0.5\n"
     ]
    },
    {
     "name": "stderr",
     "output_type": "stream",
     "text": [
      "train... loss:1.0161033272743225:   1%|▋                                                                          | 47/5000 [04:11<7:35:56,  5.52s/it]"
     ]
    },
    {
     "name": "stdout",
     "output_type": "stream",
     "text": [
      "Test update: epoch: 46 |accuracy: 0.7490267157554626 | f1: 0.8229655027389526 | auc: 0.7888720035552979 | treshold: 0.51\n"
     ]
    },
    {
     "name": "stderr",
     "output_type": "stream",
     "text": [
      "train... loss:1.0100303888320923:   1%|▋                                                                          | 48/5000 [04:17<7:35:10,  5.52s/it]"
     ]
    },
    {
     "name": "stdout",
     "output_type": "stream",
     "text": [
      "Test update: epoch: 47 |accuracy: 0.7520493268966675 | f1: 0.8242432475090027 | auc: 0.7916508913040161 | treshold: 0.51\n"
     ]
    },
    {
     "name": "stderr",
     "output_type": "stream",
     "text": [
      "train... loss:0.9963587522506714:   1%|▋                                                                          | 49/5000 [04:22<7:34:47,  5.51s/it]"
     ]
    },
    {
     "name": "stdout",
     "output_type": "stream",
     "text": [
      "Test update: epoch: 48 |accuracy: 0.7555555701255798 | f1: 0.824828028678894 | auc: 0.7953180074691772 | treshold: 0.51\n"
     ]
    },
    {
     "name": "stderr",
     "output_type": "stream",
     "text": [
      "train... loss:0.9775990843772888:   1%|▊                                                                          | 50/5000 [04:28<7:35:51,  5.53s/it]"
     ]
    },
    {
     "name": "stdout",
     "output_type": "stream",
     "text": [
      "Test update: epoch: 49 |accuracy: 0.7587715983390808 | f1: 0.8261718153953552 | auc: 0.7993110418319702 | treshold: 0.49\n"
     ]
    },
    {
     "name": "stderr",
     "output_type": "stream",
     "text": [
      "train... loss:0.9588288962841034:   1%|▊                                                                          | 51/5000 [04:33<7:36:10,  5.53s/it]"
     ]
    },
    {
     "name": "stdout",
     "output_type": "stream",
     "text": [
      "Test update: epoch: 50 |accuracy: 0.7609478831291199 | f1: 0.8268044590950012 | auc: 0.8030058145523071 | treshold: 0.46\n"
     ]
    },
    {
     "name": "stderr",
     "output_type": "stream",
     "text": [
      "train... loss:0.94561368227005:   1%|▊                                                                            | 52/5000 [04:39<7:35:49,  5.53s/it]"
     ]
    },
    {
     "name": "stdout",
     "output_type": "stream",
     "text": [
      "Test update: epoch: 51 |accuracy: 0.7630274295806885 | f1: 0.8260128498077393 | auc: 0.8058806657791138 | treshold: 0.44\n"
     ]
    },
    {
     "name": "stderr",
     "output_type": "stream",
     "text": [
      "train... loss:0.9416742026805878:   1%|▊                                                                          | 53/5000 [04:44<7:35:12,  5.52s/it]"
     ]
    },
    {
     "name": "stdout",
     "output_type": "stream",
     "text": [
      "Test update: epoch: 52 |accuracy: 0.7642848491668701 | f1: 0.8268991708755493 | auc: 0.8076563477516174 | treshold: 0.39\n"
     ]
    },
    {
     "name": "stderr",
     "output_type": "stream",
     "text": [
      "train... loss:0.9509101510047913:   1%|▊                                                                          | 54/5000 [04:50<7:34:35,  5.51s/it]"
     ]
    },
    {
     "name": "stdout",
     "output_type": "stream",
     "text": [
      "Test update: epoch: 53 |accuracy: 0.7648652195930481 | f1: 0.8274907469749451 | auc: 0.8083001375198364 | treshold: 0.34\n"
     ]
    },
    {
     "name": "stderr",
     "output_type": "stream",
     "text": [
      "train... loss:1.0174354910850525:   1%|▊                                                                          | 57/5000 [05:05<7:16:19,  5.30s/it]"
     ]
    },
    {
     "name": "stdout",
     "output_type": "stream",
     "text": [
      "Test update: epoch: 56 |accuracy: 0.7642365097999573 | f1: 0.8300446271896362 | auc: 0.8098469972610474 | treshold: 0.24000000000000002\n"
     ]
    },
    {
     "name": "stderr",
     "output_type": "stream",
     "text": [
      "train... loss:1.0183690190315247:   1%|▊                                                                          | 58/5000 [05:11<7:15:56,  5.29s/it]"
     ]
    },
    {
     "name": "stdout",
     "output_type": "stream",
     "text": [
      "Test update: epoch: 57 |accuracy: 0.7643815875053406 | f1: 0.831523597240448 | auc: 0.8119245171546936 | treshold: 0.23\n"
     ]
    },
    {
     "name": "stderr",
     "output_type": "stream",
     "text": [
      "train... loss:1.0028431117534637:   1%|▉                                                                          | 59/5000 [05:16<7:17:06,  5.31s/it]"
     ]
    },
    {
     "name": "stdout",
     "output_type": "stream",
     "text": [
      "Test update: epoch: 58 |accuracy: 0.7649860978126526 | f1: 0.8321967124938965 | auc: 0.8145055770874023 | treshold: 0.24000000000000002\n"
     ]
    },
    {
     "name": "stderr",
     "output_type": "stream",
     "text": [
      "train... loss:0.9766034185886383:   1%|▉                                                                          | 60/5000 [05:21<7:20:11,  5.35s/it]"
     ]
    },
    {
     "name": "stdout",
     "output_type": "stream",
     "text": [
      "Test update: epoch: 59 |accuracy: 0.7670173048973083 | f1: 0.8327460289001465 | auc: 0.8172439932823181 | treshold: 0.27\n"
     ]
    },
    {
     "name": "stderr",
     "output_type": "stream",
     "text": [
      "train... loss:0.9479571580886841:   1%|▉                                                                          | 61/5000 [05:27<7:23:27,  5.39s/it]"
     ]
    },
    {
     "name": "stdout",
     "output_type": "stream",
     "text": [
      "Test update: epoch: 60 |accuracy: 0.7670414447784424 | f1: 0.8335636854171753 | auc: 0.8197959661483765 | treshold: 0.29000000000000004\n"
     ]
    },
    {
     "name": "stderr",
     "output_type": "stream",
     "text": [
      "train... loss:0.9201615750789642:   1%|▉                                                                          | 62/5000 [05:32<7:26:31,  5.43s/it]"
     ]
    },
    {
     "name": "stdout",
     "output_type": "stream",
     "text": [
      "Test update: epoch: 61 |accuracy: 0.7667996883392334 | f1: 0.8337413668632507 | auc: 0.821815013885498 | treshold: 0.32\n"
     ]
    },
    {
     "name": "stderr",
     "output_type": "stream",
     "text": [
      "train... loss:0.8998446464538574:   1%|▉                                                                          | 63/5000 [05:38<7:27:08,  5.43s/it]"
     ]
    },
    {
     "name": "stdout",
     "output_type": "stream",
     "text": [
      "Test update: epoch: 62 |accuracy: 0.7680087089538574 | f1: 0.8339219093322754 | auc: 0.8230382800102234 | treshold: 0.37\n"
     ]
    },
    {
     "name": "stderr",
     "output_type": "stream",
     "text": [
      "train... loss:0.8888357281684875:   1%|▉                                                                          | 64/5000 [05:43<7:28:17,  5.45s/it]"
     ]
    },
    {
     "name": "stdout",
     "output_type": "stream",
     "text": [
      "Test update: epoch: 63 |accuracy: 0.767911970615387 | f1: 0.8336107134819031 | auc: 0.8232450485229492 | treshold: 0.42000000000000004\n"
     ]
    },
    {
     "name": "stderr",
     "output_type": "stream",
     "text": [
      "train... loss:0.939077764749527:   1%|█                                                                           | 73/5000 [06:30<7:14:06,  5.29s/it]"
     ]
    },
    {
     "name": "stdout",
     "output_type": "stream",
     "text": [
      "Test update: epoch: 72 |accuracy: 0.7710796594619751 | f1: 0.832415759563446 | auc: 0.8242628574371338 | treshold: 0.61\n"
     ]
    },
    {
     "name": "stderr",
     "output_type": "stream",
     "text": [
      "train... loss:0.9180150032043457:   1%|█                                                                          | 74/5000 [06:35<7:19:41,  5.36s/it]"
     ]
    },
    {
     "name": "stdout",
     "output_type": "stream",
     "text": [
      "Test update: epoch: 73 |accuracy: 0.7735944986343384 | f1: 0.832800567150116 | auc: 0.8273352980613708 | treshold: 0.6\n"
     ]
    },
    {
     "name": "stderr",
     "output_type": "stream",
     "text": [
      "train... loss:0.8975232243537903:   2%|█▏                                                                         | 75/5000 [06:41<7:24:44,  5.42s/it]"
     ]
    },
    {
     "name": "stdout",
     "output_type": "stream",
     "text": [
      "Test update: epoch: 74 |accuracy: 0.775093674659729 | f1: 0.8345165252685547 | auc: 0.8301076292991638 | treshold: 0.56\n"
     ]
    },
    {
     "name": "stderr",
     "output_type": "stream",
     "text": [
      "train... loss:0.878652423620224:   2%|█▏                                                                          | 76/5000 [06:46<7:26:09,  5.44s/it]"
     ]
    },
    {
     "name": "stdout",
     "output_type": "stream",
     "text": [
      "Test update: epoch: 75 |accuracy: 0.7765687108039856 | f1: 0.8357333540916443 | auc: 0.832406222820282 | treshold: 0.52\n"
     ]
    },
    {
     "name": "stderr",
     "output_type": "stream",
     "text": [
      "train... loss:0.8646918833255768:   2%|█▏                                                                         | 77/5000 [06:52<7:27:50,  5.46s/it]"
     ]
    },
    {
     "name": "stdout",
     "output_type": "stream",
     "text": [
      "Test update: epoch: 76 |accuracy: 0.7778986692428589 | f1: 0.8353145718574524 | auc: 0.8341529369354248 | treshold: 0.5\n"
     ]
    },
    {
     "name": "stderr",
     "output_type": "stream",
     "text": [
      "train... loss:0.8558932840824127:   2%|█▏                                                                         | 78/5000 [06:57<7:27:14,  5.45s/it]"
     ]
    },
    {
     "name": "stdout",
     "output_type": "stream",
     "text": [
      "Test update: epoch: 77 |accuracy: 0.7793495059013367 | f1: 0.8355470895767212 | auc: 0.8353246450424194 | treshold: 0.47000000000000003\n"
     ]
    },
    {
     "name": "stderr",
     "output_type": "stream",
     "text": [
      "train... loss:0.8547990322113037:   2%|█▏                                                                         | 79/5000 [07:03<7:30:21,  5.49s/it]"
     ]
    },
    {
     "name": "stdout",
     "output_type": "stream",
     "text": [
      "Test update: epoch: 78 |accuracy: 0.7800266146659851 | f1: 0.8373066186904907 | auc: 0.835944414138794 | treshold: 0.41000000000000003\n"
     ]
    },
    {
     "name": "stderr",
     "output_type": "stream",
     "text": [
      "train... loss:0.8607885837554932:   2%|█▏                                                                         | 80/5000 [07:08<7:28:02,  5.46s/it]"
     ]
    },
    {
     "name": "stdout",
     "output_type": "stream",
     "text": [
      "Test update: epoch: 79 |accuracy: 0.7813081741333008 | f1: 0.8365975022315979 | auc: 0.8360836505889893 | treshold: 0.39\n"
     ]
    },
    {
     "name": "stderr",
     "output_type": "stream",
     "text": [
      "train... loss:0.9397804737091064:   2%|█▎                                                                         | 85/5000 [07:33<7:02:45,  5.16s/it]"
     ]
    },
    {
     "name": "stdout",
     "output_type": "stream",
     "text": [
      "Test update: epoch: 84 |accuracy: 0.7809938192367554 | f1: 0.8395201563835144 | auc: 0.8364192843437195 | treshold: 0.23\n"
     ]
    },
    {
     "name": "stderr",
     "output_type": "stream",
     "text": [
      "train... loss:0.9374102652072906:   2%|█▎                                                                         | 86/5000 [07:39<7:06:39,  5.21s/it]"
     ]
    },
    {
     "name": "stdout",
     "output_type": "stream",
     "text": [
      "Test update: epoch: 85 |accuracy: 0.7800507545471191 | f1: 0.8397688865661621 | auc: 0.8376008868217468 | treshold: 0.22\n"
     ]
    },
    {
     "name": "stderr",
     "output_type": "stream",
     "text": [
      "train... loss:0.925622433423996:   2%|█▎                                                                          | 87/5000 [07:44<7:09:42,  5.25s/it]"
     ]
    },
    {
     "name": "stdout",
     "output_type": "stream",
     "text": [
      "Test update: epoch: 86 |accuracy: 0.778890073299408 | f1: 0.8395620584487915 | auc: 0.8390679359436035 | treshold: 0.22\n"
     ]
    },
    {
     "name": "stderr",
     "output_type": "stream",
     "text": [
      "train... loss:0.9063026010990143:   2%|█▎                                                                         | 88/5000 [07:50<7:12:31,  5.28s/it]"
     ]
    },
    {
     "name": "stdout",
     "output_type": "stream",
     "text": [
      "Test update: epoch: 87 |accuracy: 0.7795187830924988 | f1: 0.8395622372627258 | auc: 0.840665340423584 | treshold: 0.24000000000000002\n"
     ]
    },
    {
     "name": "stderr",
     "output_type": "stream",
     "text": [
      "train... loss:0.8837986290454865:   2%|█▎                                                                         | 89/5000 [07:55<7:17:07,  5.34s/it]"
     ]
    },
    {
     "name": "stdout",
     "output_type": "stream",
     "text": [
      "Test update: epoch: 88 |accuracy: 0.7793979048728943 | f1: 0.8394770622253418 | auc: 0.8422382473945618 | treshold: 0.26\n"
     ]
    },
    {
     "name": "stderr",
     "output_type": "stream",
     "text": [
      "train... loss:0.8601196110248566:   2%|█▎                                                                         | 90/5000 [08:00<7:20:39,  5.38s/it]"
     ]
    },
    {
     "name": "stdout",
     "output_type": "stream",
     "text": [
      "Test update: epoch: 89 |accuracy: 0.7781646847724915 | f1: 0.8389565944671631 | auc: 0.8436480760574341 | treshold: 0.28\n"
     ]
    },
    {
     "name": "stderr",
     "output_type": "stream",
     "text": [
      "train... loss:0.8394939005374908:   2%|█▎                                                                         | 91/5000 [08:06<7:26:19,  5.46s/it]"
     ]
    },
    {
     "name": "stdout",
     "output_type": "stream",
     "text": [
      "Test update: epoch: 90 |accuracy: 0.778648316860199 | f1: 0.8387528657913208 | auc: 0.8447334170341492 | treshold: 0.32\n"
     ]
    },
    {
     "name": "stderr",
     "output_type": "stream",
     "text": [
      "train... loss:0.8233634531497955:   2%|█▍                                                                         | 92/5000 [08:12<7:26:53,  5.46s/it]"
     ]
    },
    {
     "name": "stdout",
     "output_type": "stream",
     "text": [
      "Test update: epoch: 91 |accuracy: 0.777850329875946 | f1: 0.8380032181739807 | auc: 0.8453865647315979 | treshold: 0.36000000000000004\n"
     ]
    },
    {
     "name": "stderr",
     "output_type": "stream",
     "text": [
      "train... loss:0.8136636316776276:   2%|█▍                                                                         | 93/5000 [08:17<7:25:13,  5.44s/it]"
     ]
    },
    {
     "name": "stdout",
     "output_type": "stream",
     "text": [
      "Test update: epoch: 92 |accuracy: 0.7765929102897644 | f1: 0.8376074433326721 | auc: 0.8455122113227844 | treshold: 0.39\n"
     ]
    },
    {
     "name": "stderr",
     "output_type": "stream",
     "text": [
      "train... loss:0.8676937222480774:   2%|█▌                                                                        | 103/5000 [09:09<7:17:38,  5.36s/it]"
     ]
    },
    {
     "name": "stdout",
     "output_type": "stream",
     "text": [
      "Test update: epoch: 102 |accuracy: 0.7827590107917786 | f1: 0.8368977308273315 | auc: 0.8469173908233643 | treshold: 0.65\n"
     ]
    },
    {
     "name": "stderr",
     "output_type": "stream",
     "text": [
      "train... loss:0.8484500050544739:   2%|█▌                                                                        | 104/5000 [09:14<7:23:37,  5.44s/it]"
     ]
    },
    {
     "name": "stdout",
     "output_type": "stream",
     "text": [
      "Test update: epoch: 103 |accuracy: 0.7838230133056641 | f1: 0.838260293006897 | auc: 0.8497274518013 | treshold: 0.62\n"
     ]
    },
    {
     "name": "stderr",
     "output_type": "stream",
     "text": [
      "train... loss:0.827243983745575:   2%|█▌                                                                         | 105/5000 [09:20<7:26:55,  5.48s/it]"
     ]
    },
    {
     "name": "stdout",
     "output_type": "stream",
     "text": [
      "Test update: epoch: 104 |accuracy: 0.785443127155304 | f1: 0.8393881916999817 | auc: 0.852395236492157 | treshold: 0.59\n"
     ]
    },
    {
     "name": "stderr",
     "output_type": "stream",
     "text": [
      "train... loss:0.8066253066062927:   2%|█▌                                                                        | 106/5000 [09:25<7:27:55,  5.49s/it]"
     ]
    },
    {
     "name": "stdout",
     "output_type": "stream",
     "text": [
      "Test update: epoch: 105 |accuracy: 0.785225510597229 | f1: 0.8401310443878174 | auc: 0.8547233939170837 | treshold: 0.54\n"
     ]
    },
    {
     "name": "stderr",
     "output_type": "stream",
     "text": [
      "train... loss:0.7891972362995148:   2%|█▌                                                                        | 107/5000 [09:31<7:27:16,  5.48s/it]"
     ]
    },
    {
     "name": "stdout",
     "output_type": "stream",
     "text": [
      "Test update: epoch: 106 |accuracy: 0.7883448004722595 | f1: 0.8411058783531189 | auc: 0.8566033840179443 | treshold: 0.52\n"
     ]
    },
    {
     "name": "stderr",
     "output_type": "stream",
     "text": [
      "train... loss:0.776410698890686:   2%|█▌                                                                         | 108/5000 [09:36<7:26:52,  5.48s/it]"
     ]
    },
    {
     "name": "stdout",
     "output_type": "stream",
     "text": [
      "Test update: epoch: 107 |accuracy: 0.7895780205726624 | f1: 0.841729998588562 | auc: 0.8579453825950623 | treshold: 0.48000000000000004\n"
     ]
    },
    {
     "name": "stderr",
     "output_type": "stream",
     "text": [
      "train... loss:0.7701825797557831:   2%|█▌                                                                        | 109/5000 [09:42<7:27:06,  5.48s/it]"
     ]
    },
    {
     "name": "stdout",
     "output_type": "stream",
     "text": [
      "Test update: epoch: 108 |accuracy: 0.7900858521461487 | f1: 0.8422468304634094 | auc: 0.8587137460708618 | treshold: 0.43\n"
     ]
    },
    {
     "name": "stderr",
     "output_type": "stream",
     "text": [
      "train... loss:0.7714160084724426:   2%|█▋                                                                        | 110/5000 [09:47<7:27:40,  5.49s/it]"
     ]
    },
    {
     "name": "stdout",
     "output_type": "stream",
     "text": [
      "Test update: epoch: 109 |accuracy: 0.7911014556884766 | f1: 0.8426497578620911 | auc: 0.8589185476303101 | treshold: 0.39\n"
     ]
    },
    {
     "name": "stderr",
     "output_type": "stream",
     "text": [
      "train... loss:0.8618929386138916:   2%|█▋                                                                        | 116/5000 [10:18<7:02:17,  5.19s/it]"
     ]
    },
    {
     "name": "stdout",
     "output_type": "stream",
     "text": [
      "Test update: epoch: 115 |accuracy: 0.792020320892334 | f1: 0.8457081317901611 | auc: 0.8597859144210815 | treshold: 0.21000000000000002\n"
     ]
    },
    {
     "name": "stderr",
     "output_type": "stream",
     "text": [
      "train... loss:0.8513926863670349:   2%|█▋                                                                        | 117/5000 [10:23<7:07:53,  5.26s/it]"
     ]
    },
    {
     "name": "stdout",
     "output_type": "stream",
     "text": [
      "Test update: epoch: 116 |accuracy: 0.7916576266288757 | f1: 0.8461098670959473 | auc: 0.8615355491638184 | treshold: 0.21000000000000002\n"
     ]
    },
    {
     "name": "stderr",
     "output_type": "stream",
     "text": [
      "train... loss:0.8321591913700104:   2%|█▋                                                                        | 118/5000 [10:29<7:12:21,  5.31s/it]"
     ]
    },
    {
     "name": "stdout",
     "output_type": "stream",
     "text": [
      "Test update: epoch: 117 |accuracy: 0.7930842638015747 | f1: 0.846788763999939 | auc: 0.8634780645370483 | treshold: 0.23\n"
     ]
    },
    {
     "name": "stderr",
     "output_type": "stream",
     "text": [
      "train... loss:0.8086263537406921:   2%|█▊                                                                        | 119/5000 [10:34<7:15:03,  5.35s/it]"
     ]
    },
    {
     "name": "stdout",
     "output_type": "stream",
     "text": [
      "Test update: epoch: 118 |accuracy: 0.7931810021400452 | f1: 0.8470192551612854 | auc: 0.8653956651687622 | treshold: 0.25\n"
     ]
    },
    {
     "name": "stderr",
     "output_type": "stream",
     "text": [
      "train... loss:0.7843641638755798:   2%|█▊                                                                        | 120/5000 [10:39<7:16:08,  5.36s/it]"
     ]
    },
    {
     "name": "stdout",
     "output_type": "stream",
     "text": [
      "Test update: epoch: 119 |accuracy: 0.7929149866104126 | f1: 0.8472623229026794 | auc: 0.8671363592147827 | treshold: 0.27\n"
     ]
    },
    {
     "name": "stderr",
     "output_type": "stream",
     "text": [
      "train... loss:0.763136088848114:   2%|█▊                                                                         | 121/5000 [10:45<7:16:38,  5.37s/it]"
     ]
    },
    {
     "name": "stdout",
     "output_type": "stream",
     "text": [
      "Test update: epoch: 120 |accuracy: 0.7940031290054321 | f1: 0.8471187949180603 | auc: 0.8685307502746582 | treshold: 0.32\n"
     ]
    },
    {
     "name": "stderr",
     "output_type": "stream",
     "text": [
      "train... loss:0.7466543912887573:   2%|█▊                                                                        | 122/5000 [10:50<7:17:29,  5.38s/it]"
     ]
    },
    {
     "name": "stdout",
     "output_type": "stream",
     "text": [
      "Test update: epoch: 121 |accuracy: 0.7937855124473572 | f1: 0.846872091293335 | auc: 0.869488000869751 | treshold: 0.36000000000000004\n"
     ]
    },
    {
     "name": "stderr",
     "output_type": "stream",
     "text": [
      "train... loss:0.7369993925094604:   2%|█▊                                                                        | 123/5000 [10:56<7:18:57,  5.40s/it]"
     ]
    },
    {
     "name": "stdout",
     "output_type": "stream",
     "text": [
      "Test update: epoch: 122 |accuracy: 0.7950912714004517 | f1: 0.8464521169662476 | auc: 0.8698979616165161 | treshold: 0.43\n"
     ]
    },
    {
     "name": "stderr",
     "output_type": "stream",
     "text": [
      "train... loss:0.7885372042655945:   3%|█▉                                                                        | 134/5000 [11:53<7:09:39,  5.30s/it]"
     ]
    },
    {
     "name": "stdout",
     "output_type": "stream",
     "text": [
      "Test update: epoch: 133 |accuracy: 0.8001450896263123 | f1: 0.8459085822105408 | auc: 0.8719660639762878 | treshold: 0.66\n"
     ]
    },
    {
     "name": "stderr",
     "output_type": "stream",
     "text": [
      "train... loss:0.7671516537666321:   3%|█▉                                                                        | 135/5000 [11:58<7:16:20,  5.38s/it]"
     ]
    },
    {
     "name": "stdout",
     "output_type": "stream",
     "text": [
      "Test update: epoch: 134 |accuracy: 0.8014508485794067 | f1: 0.8456375598907471 | auc: 0.8742319345474243 | treshold: 0.65\n"
     ]
    },
    {
     "name": "stderr",
     "output_type": "stream",
     "text": [
      "train... loss:0.7459158599376678:   3%|██                                                                        | 136/5000 [12:04<7:19:59,  5.43s/it]"
     ]
    },
    {
     "name": "stdout",
     "output_type": "stream",
     "text": [
      "Test update: epoch: 135 |accuracy: 0.8019828200340271 | f1: 0.8460395932197571 | auc: 0.8762766718864441 | treshold: 0.62\n"
     ]
    },
    {
     "name": "stderr",
     "output_type": "stream",
     "text": [
      "train... loss:0.7271712720394135:   3%|██                                                                        | 137/5000 [12:10<7:24:14,  5.48s/it]"
     ]
    },
    {
     "name": "stdout",
     "output_type": "stream",
     "text": [
      "Test update: epoch: 136 |accuracy: 0.8028291463851929 | f1: 0.8475716710090637 | auc: 0.8779860734939575 | treshold: 0.5700000000000001\n"
     ]
    },
    {
     "name": "stderr",
     "output_type": "stream",
     "text": [
      "train... loss:0.7122080028057098:   3%|██                                                                        | 138/5000 [12:15<7:24:20,  5.48s/it]"
     ]
    },
    {
     "name": "stdout",
     "output_type": "stream",
     "text": [
      "Test update: epoch: 137 |accuracy: 0.8034336566925049 | f1: 0.8474544286727905 | auc: 0.8792809247970581 | treshold: 0.54\n"
     ]
    },
    {
     "name": "stderr",
     "output_type": "stream",
     "text": [
      "train... loss:0.7029432356357574:   3%|██                                                                        | 139/5000 [12:21<7:26:04,  5.51s/it]"
     ]
    },
    {
     "name": "stdout",
     "output_type": "stream",
     "text": [
      "Test update: epoch: 138 |accuracy: 0.8038689494132996 | f1: 0.8486781716346741 | auc: 0.8801256418228149 | treshold: 0.48000000000000004\n"
     ]
    },
    {
     "name": "stderr",
     "output_type": "stream",
     "text": [
      "train... loss:0.7007174789905548:   3%|██                                                                        | 140/5000 [12:26<7:25:08,  5.50s/it]"
     ]
    },
    {
     "name": "stdout",
     "output_type": "stream",
     "text": [
      "Test update: epoch: 139 |accuracy: 0.8052714467048645 | f1: 0.8494062423706055 | auc: 0.8804738521575928 | treshold: 0.44\n"
     ]
    },
    {
     "name": "stderr",
     "output_type": "stream",
     "text": [
      "train... loss:0.7557281255722046:   3%|██▏                                                                       | 149/5000 [13:11<6:49:04,  5.06s/it]"
     ]
    },
    {
     "name": "stdout",
     "output_type": "stream",
     "text": [
      "Test update: epoch: 148 |accuracy: 0.808366596698761 | f1: 0.8550472855567932 | auc: 0.8826123476028442 | treshold: 0.24000000000000002\n"
     ]
    },
    {
     "name": "stderr",
     "output_type": "stream",
     "text": [
      "train... loss:0.7320283949375153:   3%|██▏                                                                       | 150/5000 [13:16<6:55:45,  5.14s/it]"
     ]
    },
    {
     "name": "stdout",
     "output_type": "stream",
     "text": [
      "Test update: epoch: 149 |accuracy: 0.8088260293006897 | f1: 0.8551112413406372 | auc: 0.8840683698654175 | treshold: 0.27\n"
     ]
    },
    {
     "name": "stderr",
     "output_type": "stream",
     "text": [
      "train... loss:0.7083541452884674:   3%|██▏                                                                       | 151/5000 [13:22<7:04:07,  5.25s/it]"
     ]
    },
    {
     "name": "stdout",
     "output_type": "stream",
     "text": [
      "Test update: epoch: 150 |accuracy: 0.8075686097145081 | f1: 0.855288028717041 | auc: 0.8853518962860107 | treshold: 0.28\n"
     ]
    },
    {
     "name": "stderr",
     "output_type": "stream",
     "text": [
      "train... loss:0.6895357668399811:   3%|██▏                                                                       | 152/5000 [13:27<7:08:00,  5.30s/it]"
     ]
    },
    {
     "name": "stdout",
     "output_type": "stream",
     "text": [
      "Test update: epoch: 151 |accuracy: 0.8079313039779663 | f1: 0.855347752571106 | auc: 0.8863304853439331 | treshold: 0.32\n"
     ]
    },
    {
     "name": "stderr",
     "output_type": "stream",
     "text": [
      "train... loss:0.6760661602020264:   3%|██▎                                                                       | 153/5000 [13:32<7:11:38,  5.34s/it]"
     ]
    },
    {
     "name": "stdout",
     "output_type": "stream",
     "text": [
      "Test update: epoch: 152 |accuracy: 0.8093338012695312 | f1: 0.8549938201904297 | auc: 0.8869161009788513 | treshold: 0.39\n"
     ]
    },
    {
     "name": "stderr",
     "output_type": "stream",
     "text": [
      "train... loss:0.6702632009983063:   3%|██▎                                                                       | 154/5000 [13:38<7:15:36,  5.39s/it]"
     ]
    },
    {
     "name": "stdout",
     "output_type": "stream",
     "text": [
      "Test update: epoch: 153 |accuracy: 0.8099625110626221 | f1: 0.8548581004142761 | auc: 0.8870537281036377 | treshold: 0.45\n"
     ]
    },
    {
     "name": "stderr",
     "output_type": "stream",
     "text": [
      "train... loss:0.7210098505020142:   3%|██▍                                                                       | 165/5000 [14:36<7:11:11,  5.35s/it]"
     ]
    },
    {
     "name": "stdout",
     "output_type": "stream",
     "text": [
      "Test update: epoch: 164 |accuracy: 0.8209406137466431 | f1: 0.8562610149383545 | auc: 0.888671875 | treshold: 0.6900000000000001\n"
     ]
    },
    {
     "name": "stderr",
     "output_type": "stream",
     "text": [
      "train... loss:0.700400710105896:   3%|██▍                                                                        | 166/5000 [14:41<7:16:42,  5.42s/it]"
     ]
    },
    {
     "name": "stdout",
     "output_type": "stream",
     "text": [
      "Test update: epoch: 165 |accuracy: 0.8207955360412598 | f1: 0.857109785079956 | auc: 0.8902348875999451 | treshold: 0.65\n"
     ]
    },
    {
     "name": "stderr",
     "output_type": "stream",
     "text": [
      "train... loss:0.6816587150096893:   3%|██▍                                                                       | 167/5000 [14:47<7:19:17,  5.45s/it]"
     ]
    },
    {
     "name": "stdout",
     "output_type": "stream",
     "text": [
      "Test update: epoch: 166 |accuracy: 0.8214000463485718 | f1: 0.8590404391288757 | auc: 0.8915748000144958 | treshold: 0.59\n"
     ]
    },
    {
     "name": "stderr",
     "output_type": "stream",
     "text": [
      "train... loss:0.6656523048877716:   3%|██▍                                                                       | 168/5000 [14:52<7:20:31,  5.47s/it]"
     ]
    },
    {
     "name": "stdout",
     "output_type": "stream",
     "text": [
      "Test update: epoch: 167 |accuracy: 0.8212066292762756 | f1: 0.8575282096862793 | auc: 0.8926363587379456 | treshold: 0.5800000000000001\n"
     ]
    },
    {
     "name": "stderr",
     "output_type": "stream",
     "text": [
      "train... loss:0.6546061635017395:   3%|██▌                                                                       | 169/5000 [14:58<7:22:39,  5.50s/it]"
     ]
    },
    {
     "name": "stdout",
     "output_type": "stream",
     "text": [
      "Test update: epoch: 168 |accuracy: 0.8206746578216553 | f1: 0.8583651781082153 | auc: 0.893366277217865 | treshold: 0.52\n"
     ]
    },
    {
     "name": "stderr",
     "output_type": "stream",
     "text": [
      "train... loss:0.6488131880760193:   3%|██▌                                                                       | 170/5000 [15:03<7:22:34,  5.50s/it]"
     ]
    },
    {
     "name": "stdout",
     "output_type": "stream",
     "text": [
      "Test update: epoch: 169 |accuracy: 0.8205053806304932 | f1: 0.8586229681968689 | auc: 0.8937356472015381 | treshold: 0.47000000000000003\n"
     ]
    },
    {
     "name": "stderr",
     "output_type": "stream",
     "text": [
      "train... loss:0.683489054441452:   4%|██▋                                                                        | 181/5000 [15:58<6:44:07,  5.03s/it]"
     ]
    },
    {
     "name": "stdout",
     "output_type": "stream",
     "text": [
      "Test update: epoch: 180 |accuracy: 0.8198524713516235 | f1: 0.8624497056007385 | auc: 0.8946971893310547 | treshold: 0.25\n"
     ]
    },
    {
     "name": "stderr",
     "output_type": "stream",
     "text": [
      "train... loss:0.6631767153739929:   4%|██▋                                                                       | 182/5000 [16:03<6:52:11,  5.13s/it]"
     ]
    },
    {
     "name": "stdout",
     "output_type": "stream",
     "text": [
      "Test update: epoch: 181 |accuracy: 0.8221012949943542 | f1: 0.8627451062202454 | auc: 0.8955900073051453 | treshold: 0.31\n"
     ]
    },
    {
     "name": "stderr",
     "output_type": "stream",
     "text": [
      "train... loss:0.6466665863990784:   4%|██▋                                                                       | 183/5000 [16:09<6:58:23,  5.21s/it]"
     ]
    },
    {
     "name": "stdout",
     "output_type": "stream",
     "text": [
      "Test update: epoch: 182 |accuracy: 0.8225365877151489 | f1: 0.8632339835166931 | auc: 0.8962447047233582 | treshold: 0.34\n"
     ]
    },
    {
     "name": "stderr",
     "output_type": "stream",
     "text": [
      "train... loss:0.6351034045219421:   4%|██▋                                                                       | 184/5000 [16:14<7:04:28,  5.29s/it]"
     ]
    },
    {
     "name": "stdout",
     "output_type": "stream",
     "text": [
      "Test update: epoch: 183 |accuracy: 0.8230202198028564 | f1: 0.8642442226409912 | auc: 0.8966156244277954 | treshold: 0.36000000000000004\n"
     ]
    },
    {
     "name": "stderr",
     "output_type": "stream",
     "text": [
      "train... loss:0.6307432651519775:   4%|██▋                                                                       | 185/5000 [16:20<7:08:52,  5.34s/it]"
     ]
    },
    {
     "name": "stdout",
     "output_type": "stream",
     "text": [
      "Test update: epoch: 184 |accuracy: 0.8236972689628601 | f1: 0.8639358282089233 | auc: 0.896658182144165 | treshold: 0.42000000000000004\n"
     ]
    },
    {
     "name": "stderr",
     "output_type": "stream",
     "text": [
      "train... loss:0.6771379113197327:   4%|██▉                                                                       | 197/5000 [17:23<7:09:30,  5.37s/it]"
     ]
    },
    {
     "name": "stdout",
     "output_type": "stream",
     "text": [
      "Test update: epoch: 196 |accuracy: 0.8311207890510559 | f1: 0.8646721243858337 | auc: 0.8979918956756592 | treshold: 0.65\n"
     ]
    },
    {
     "name": "stderr",
     "output_type": "stream",
     "text": [
      "train... loss:0.6598134338855743:   4%|██▉                                                                       | 198/5000 [17:28<7:12:46,  5.41s/it]"
     ]
    },
    {
     "name": "stdout",
     "output_type": "stream",
     "text": [
      "Test update: epoch: 197 |accuracy: 0.8304678797721863 | f1: 0.865784764289856 | auc: 0.8989899754524231 | treshold: 0.59\n"
     ]
    },
    {
     "name": "stderr",
     "output_type": "stream",
     "text": [
      "train... loss:0.6447576284408569:   4%|██▉                                                                       | 199/5000 [17:34<7:14:45,  5.43s/it]"
     ]
    },
    {
     "name": "stdout",
     "output_type": "stream",
     "text": [
      "Test update: epoch: 198 |accuracy: 0.8307338953018188 | f1: 0.8658798336982727 | auc: 0.8998053669929504 | treshold: 0.56\n"
     ]
    },
    {
     "name": "stderr",
     "output_type": "stream",
     "text": [
      "train... loss:0.6325516402721405:   4%|██▉                                                                       | 200/5000 [17:39<7:15:48,  5.45s/it]"
     ]
    },
    {
     "name": "stdout",
     "output_type": "stream",
     "text": [
      "Test update: epoch: 199 |accuracy: 0.8300568461418152 | f1: 0.8652969002723694 | auc: 0.9003919363021851 | treshold: 0.53\n"
     ]
    },
    {
     "name": "stderr",
     "output_type": "stream",
     "text": [
      "train... loss:0.6242298185825348:   4%|██▉                                                                       | 201/5000 [17:44<7:14:57,  5.44s/it]"
     ]
    },
    {
     "name": "stdout",
     "output_type": "stream",
     "text": [
      "Test update: epoch: 200 |accuracy: 0.8296699523925781 | f1: 0.8652588129043579 | auc: 0.9007444381713867 | treshold: 0.49\n"
     ]
    },
    {
     "name": "stderr",
     "output_type": "stream",
     "text": [
      "train... loss:0.6092991828918457:   4%|███▏                                                                      | 218/5000 [19:09<6:49:52,  5.14s/it]"
     ]
    },
    {
     "name": "stdout",
     "output_type": "stream",
     "text": [
      "Test update: epoch: 217 |accuracy: 0.827928900718689 | f1: 0.8661349415779114 | auc: 0.9004425406455994 | treshold: 0.4\n"
     ]
    },
    {
     "name": "stderr",
     "output_type": "stream",
     "text": [
      "train... loss:0.6966148316860199:   5%|███▎                                                                      | 226/5000 [19:51<7:03:55,  5.33s/it]"
     ]
    },
    {
     "name": "stdout",
     "output_type": "stream",
     "text": [
      "Test update: epoch: 225 |accuracy: 0.8350139260292053 | f1: 0.8692986965179443 | auc: 0.9007022976875305 | treshold: 0.67\n"
     ]
    },
    {
     "name": "stderr",
     "output_type": "stream",
     "text": [
      "train... loss:0.6950291395187378:   5%|███▎                                                                      | 227/5000 [19:56<7:09:40,  5.40s/it]"
     ]
    },
    {
     "name": "stdout",
     "output_type": "stream",
     "text": [
      "Test update: epoch: 226 |accuracy: 0.8360053300857544 | f1: 0.8706860542297363 | auc: 0.9016587734222412 | treshold: 0.65\n"
     ]
    },
    {
     "name": "stderr",
     "output_type": "stream",
     "text": [
      "train... loss:0.6881330907344818:   5%|███▎                                                                      | 228/5000 [20:02<7:12:09,  5.43s/it]"
     ]
    },
    {
     "name": "stdout",
     "output_type": "stream",
     "text": [
      "Test update: epoch: 227 |accuracy: 0.8361262083053589 | f1: 0.870343804359436 | auc: 0.9026694893836975 | treshold: 0.65\n"
     ]
    },
    {
     "name": "stderr",
     "output_type": "stream",
     "text": [
      "train... loss:0.6778963208198547:   5%|███▍                                                                      | 229/5000 [20:07<7:14:40,  5.47s/it]"
     ]
    },
    {
     "name": "stdout",
     "output_type": "stream",
     "text": [
      "Test update: epoch: 228 |accuracy: 0.8360053300857544 | f1: 0.8696821928024292 | auc: 0.9036257863044739 | treshold: 0.65\n"
     ]
    },
    {
     "name": "stderr",
     "output_type": "stream",
     "text": [
      "train... loss:0.6646148562431335:   5%|███▍                                                                      | 230/5000 [20:13<7:17:18,  5.50s/it]"
     ]
    },
    {
     "name": "stdout",
     "output_type": "stream",
     "text": [
      "Test update: epoch: 229 |accuracy: 0.8356184363365173 | f1: 0.8685818314552307 | auc: 0.9044685363769531 | treshold: 0.65\n"
     ]
    },
    {
     "name": "stderr",
     "output_type": "stream",
     "text": [
      "train... loss:0.6512137651443481:   5%|███▍                                                                      | 231/5000 [20:19<7:23:42,  5.58s/it]"
     ]
    },
    {
     "name": "stdout",
     "output_type": "stream",
     "text": [
      "Test update: epoch: 230 |accuracy: 0.835690975189209 | f1: 0.8699297308921814 | auc: 0.9051520824432373 | treshold: 0.6\n"
     ]
    },
    {
     "name": "stderr",
     "output_type": "stream",
     "text": [
      "train... loss:0.638248085975647:   5%|███▍                                                                       | 232/5000 [20:24<7:24:47,  5.60s/it]"
     ]
    },
    {
     "name": "stdout",
     "output_type": "stream",
     "text": [
      "Test update: epoch: 231 |accuracy: 0.8354008197784424 | f1: 0.8690029382705688 | auc: 0.9056475162506104 | treshold: 0.59\n"
     ]
    },
    {
     "name": "stderr",
     "output_type": "stream",
     "text": [
      "train... loss:0.6270027756690979:   5%|███▍                                                                      | 233/5000 [20:30<7:26:08,  5.62s/it]"
     ]
    },
    {
     "name": "stdout",
     "output_type": "stream",
     "text": [
      "Test update: epoch: 232 |accuracy: 0.8347962498664856 | f1: 0.8686608672142029 | auc: 0.9059645533561707 | treshold: 0.56\n"
     ]
    },
    {
     "name": "stderr",
     "output_type": "stream",
     "text": [
      "train... loss:0.6180737614631653:   5%|███▍                                                                      | 234/5000 [20:35<7:26:36,  5.62s/it]"
     ]
    },
    {
     "name": "stdout",
     "output_type": "stream",
     "text": [
      "Test update: epoch: 233 |accuracy: 0.8346995711326599 | f1: 0.8690471649169922 | auc: 0.9060826301574707 | treshold: 0.52\n"
     ]
    },
    {
     "name": "stderr",
     "output_type": "stream",
     "text": [
      "train... loss:0.6648379266262054:   5%|███▉                                                                      | 262/5000 [22:55<6:52:01,  5.22s/it]"
     ]
    },
    {
     "name": "stdout",
     "output_type": "stream",
     "text": [
      "Test update: epoch: 261 |accuracy: 0.8377705216407776 | f1: 0.8721242547035217 | auc: 0.9061864614486694 | treshold: 0.63\n"
     ]
    },
    {
     "name": "stderr",
     "output_type": "stream",
     "text": [
      "train... loss:0.6629547774791718:   5%|███▉                                                                      | 263/5000 [23:01<6:58:58,  5.31s/it]"
     ]
    },
    {
     "name": "stdout",
     "output_type": "stream",
     "text": [
      "Test update: epoch: 262 |accuracy: 0.8382299542427063 | f1: 0.8724791407585144 | auc: 0.9074869155883789 | treshold: 0.63\n"
     ]
    },
    {
     "name": "stderr",
     "output_type": "stream",
     "text": [
      "train... loss:0.6590316295623779:   5%|███▉                                                                      | 264/5000 [23:07<7:05:44,  5.39s/it]"
     ]
    },
    {
     "name": "stdout",
     "output_type": "stream",
     "text": [
      "Test update: epoch: 263 |accuracy: 0.8384717702865601 | f1: 0.8715730309486389 | auc: 0.9085217714309692 | treshold: 0.65\n"
     ]
    },
    {
     "name": "stderr",
     "output_type": "stream",
     "text": [
      "train... loss:0.6527871191501617:   5%|███▉                                                                      | 265/5000 [23:12<7:08:27,  5.43s/it]"
     ]
    },
    {
     "name": "stdout",
     "output_type": "stream",
     "text": [
      "Test update: epoch: 264 |accuracy: 0.8376496434211731 | f1: 0.8709193468093872 | auc: 0.9092662930488586 | treshold: 0.64\n"
     ]
    },
    {
     "name": "stderr",
     "output_type": "stream",
     "text": [
      "train... loss:0.6462150812149048:   5%|███▉                                                                      | 266/5000 [23:18<7:10:47,  5.46s/it]"
     ]
    },
    {
     "name": "stdout",
     "output_type": "stream",
     "text": [
      "Test update: epoch: 265 |accuracy: 0.8377947211265564 | f1: 0.8715582489967346 | auc: 0.9097150564193726 | treshold: 0.61\n"
     ]
    },
    {
     "name": "stderr",
     "output_type": "stream",
     "text": [
      "train... loss:0.6391517221927643:   5%|███▉                                                                      | 267/5000 [23:23<7:13:52,  5.50s/it]"
     ]
    },
    {
     "name": "stdout",
     "output_type": "stream",
     "text": [
      "Test update: epoch: 266 |accuracy: 0.8371902108192444 | f1: 0.8702572584152222 | auc: 0.9098981022834778 | treshold: 0.61\n"
     ]
    },
    {
     "name": "stderr",
     "output_type": "stream",
     "text": [
      "train... loss:0.6066763401031494:   6%|████▍                                                                     | 304/5000 [26:30<6:55:47,  5.31s/it]"
     ]
    },
    {
     "name": "stdout",
     "output_type": "stream",
     "text": [
      "Test update: epoch: 303 |accuracy: 0.8381332159042358 | f1: 0.8700345754623413 | auc: 0.9106590747833252 | treshold: 0.6\n"
     ]
    },
    {
     "name": "stderr",
     "output_type": "stream",
     "text": [
      "train... loss:0.5977543294429779:   6%|████▌                                                                     | 305/5000 [26:35<7:01:42,  5.39s/it]"
     ]
    },
    {
     "name": "stdout",
     "output_type": "stream",
     "text": [
      "Test update: epoch: 304 |accuracy: 0.8382299542427063 | f1: 0.8714647889137268 | auc: 0.9112730026245117 | treshold: 0.54\n"
     ]
    },
    {
     "name": "stderr",
     "output_type": "stream",
     "text": [
      "train... loss:0.5909055769443512:   6%|████▌                                                                     | 306/5000 [26:41<7:08:29,  5.48s/it]"
     ]
    },
    {
     "name": "stdout",
     "output_type": "stream",
     "text": [
      "Test update: epoch: 305 |accuracy: 0.837867259979248 | f1: 0.8710899353027344 | auc: 0.9116479158401489 | treshold: 0.52\n"
     ]
    },
    {
     "name": "stderr",
     "output_type": "stream",
     "text": [
      "train... loss:0.5855680704116821:   6%|████▌                                                                     | 307/5000 [26:46<7:11:03,  5.51s/it]"
     ]
    },
    {
     "name": "stdout",
     "output_type": "stream",
     "text": [
      "Test update: epoch: 306 |accuracy: 0.8375287055969238 | f1: 0.8707810044288635 | auc: 0.9117903709411621 | treshold: 0.5\n"
     ]
    },
    {
     "name": "stderr",
     "output_type": "stream",
     "text": [
      "train... loss:0.6292011141777039:   8%|█████▋                                                                    | 382/5000 [33:03<6:47:32,  5.30s/it]"
     ]
    },
    {
     "name": "stdout",
     "output_type": "stream",
     "text": [
      "Test update: epoch: 381 |accuracy: 0.8427276015281677 | f1: 0.8745322227478027 | auc: 0.9126569032669067 | treshold: 0.64\n"
     ]
    },
    {
     "name": "stderr",
     "output_type": "stream",
     "text": [
      "train... loss:0.6207397878170013:   8%|█████▋                                                                    | 383/5000 [33:08<6:54:22,  5.39s/it]"
     ]
    },
    {
     "name": "stdout",
     "output_type": "stream",
     "text": [
      "Test update: epoch: 382 |accuracy: 0.8423165082931519 | f1: 0.8734155297279358 | auc: 0.9131366610527039 | treshold: 0.65\n"
     ]
    },
    {
     "name": "stderr",
     "output_type": "stream",
     "text": [
      "train... loss:0.6116400957107544:   8%|█████▋                                                                    | 384/5000 [33:14<6:58:28,  5.44s/it]"
     ]
    },
    {
     "name": "stdout",
     "output_type": "stream",
     "text": [
      "Test update: epoch: 383 |accuracy: 0.8415427207946777 | f1: 0.8725717067718506 | auc: 0.913541316986084 | treshold: 0.64\n"
     ]
    },
    {
     "name": "stderr",
     "output_type": "stream",
     "text": [
      "train... loss:0.6016999781131744:   8%|█████▋                                                                    | 385/5000 [33:19<7:01:28,  5.48s/it]"
     ]
    },
    {
     "name": "stdout",
     "output_type": "stream",
     "text": [
      "Test update: epoch: 384 |accuracy: 0.8428968787193298 | f1: 0.8751513361930847 | auc: 0.9138563871383667 | treshold: 0.5800000000000001\n"
     ]
    },
    {
     "name": "stderr",
     "output_type": "stream",
     "text": [
      "train... loss:0.5915807485580444:   8%|█████▋                                                                    | 386/5000 [33:25<7:03:55,  5.51s/it]"
     ]
    },
    {
     "name": "stdout",
     "output_type": "stream",
     "text": [
      "Test update: epoch: 385 |accuracy: 0.8433321118354797 | f1: 0.875348687171936 | auc: 0.9140728116035461 | treshold: 0.56\n"
     ]
    },
    {
     "name": "stderr",
     "output_type": "stream",
     "text": [
      "train... loss:0.5825534164905548:   8%|█████▋                                                                    | 387/5000 [33:30<7:03:16,  5.51s/it]"
     ]
    },
    {
     "name": "stdout",
     "output_type": "stream",
     "text": [
      "Test update: epoch: 386 |accuracy: 0.8424374461174011 | f1: 0.8745282292366028 | auc: 0.9142042398452759 | treshold: 0.54\n"
     ]
    },
    {
     "name": "stderr",
     "output_type": "stream",
     "text": [
      "train... loss:0.5747094452381134:   8%|█████▋                                                                    | 388/5000 [33:36<7:01:43,  5.49s/it]"
     ]
    },
    {
     "name": "stdout",
     "output_type": "stream",
     "text": [
      "Test update: epoch: 387 |accuracy: 0.8423407077789307 | f1: 0.8746587634086609 | auc: 0.9142364263534546 | treshold: 0.51\n"
     ]
    },
    {
     "name": "stderr",
     "output_type": "stream",
     "text": [
      "train... loss:0.5893458724021912:   8%|██████▏                                                                   | 422/5000 [36:26<6:36:35,  5.20s/it]"
     ]
    },
    {
     "name": "stdout",
     "output_type": "stream",
     "text": [
      "Test update: epoch: 421 |accuracy: 0.8447346091270447 | f1: 0.8767633438110352 | auc: 0.9144741296768188 | treshold: 0.5700000000000001\n"
     ]
    },
    {
     "name": "stderr",
     "output_type": "stream",
     "text": [
      "train... loss:0.589483916759491:   8%|██████▎                                                                    | 423/5000 [36:31<6:46:01,  5.32s/it]"
     ]
    },
    {
     "name": "stdout",
     "output_type": "stream",
     "text": [
      "Test update: epoch: 422 |accuracy: 0.8452182412147522 | f1: 0.8777104616165161 | auc: 0.9151496887207031 | treshold: 0.55\n"
     ]
    },
    {
     "name": "stderr",
     "output_type": "stream",
     "text": [
      "train... loss:0.5903761386871338:   8%|██████▎                                                                   | 424/5000 [36:37<6:52:58,  5.41s/it]"
     ]
    },
    {
     "name": "stdout",
     "output_type": "stream",
     "text": [
      "Test update: epoch: 423 |accuracy: 0.8456534743309021 | f1: 0.878221869468689 | auc: 0.9155555963516235 | treshold: 0.54\n"
     ]
    },
    {
     "name": "stderr",
     "output_type": "stream",
     "text": [
      "train... loss:0.5911906957626343:   8%|██████▎                                                                   | 425/5000 [36:43<6:56:20,  5.46s/it]"
     ]
    },
    {
     "name": "stdout",
     "output_type": "stream",
     "text": [
      "Test update: epoch: 424 |accuracy: 0.844662070274353 | f1: 0.8770338296890259 | auc: 0.9156949520111084 | treshold: 0.55\n"
     ]
    },
    {
     "name": "stderr",
     "output_type": "stream",
     "text": [
      "train... loss:0.5775012671947479:   9%|██████▌                                                                   | 441/5000 [38:07<6:34:08,  5.19s/it]\n"
     ]
    },
    {
     "name": "stdout",
     "output_type": "stream",
     "text": [
      "\n",
      "Evaluating NeuralClickModel with svd embeddings\n"
     ]
    },
    {
     "name": "stderr",
     "output_type": "stream",
     "text": [
      "\r",
      "train:   0%|                                                                                                                 | 0/5000 [00:00<?, ?it/s]"
     ]
    },
    {
     "name": "stdout",
     "output_type": "stream",
     "text": [
      "Test before learning: {'f1': 0.41688573360443115, 'roc-auc': 0.5062514543533325, 'accuracy': 0.4528835713863373}\n"
     ]
    },
    {
     "name": "stderr",
     "output_type": "stream",
     "text": [
      "train... loss:1.409252643585205:   0%|                                                                             | 1/5000 [00:05<7:20:11,  5.28s/it]"
     ]
    },
    {
     "name": "stdout",
     "output_type": "stream",
     "text": [
      "Test update: epoch: 0 |accuracy: 0.6395357251167297 | f1: 0.7800581455230713 | auc: 0.5194281935691833 | treshold: 0.38\n"
     ]
    },
    {
     "name": "stderr",
     "output_type": "stream",
     "text": [
      "train... loss:1.396618366241455:   0%|                                                                             | 2/5000 [00:10<7:20:45,  5.29s/it]"
     ]
    },
    {
     "name": "stdout",
     "output_type": "stream",
     "text": [
      "Test update: epoch: 1 |accuracy: 0.6395599246025085 | f1: 0.7800566554069519 | auc: 0.5316627025604248 | treshold: 0.39\n"
     ]
    },
    {
     "name": "stderr",
     "output_type": "stream",
     "text": [
      "train... loss:1.3848514556884766:   0%|                                                                            | 3/5000 [00:15<7:20:50,  5.29s/it]"
     ]
    },
    {
     "name": "stdout",
     "output_type": "stream",
     "text": [
      "Test update: epoch: 2 |accuracy: 0.6397775411605835 | f1: 0.7801408171653748 | auc: 0.543357253074646 | treshold: 0.4\n"
     ]
    },
    {
     "name": "stderr",
     "output_type": "stream",
     "text": [
      "train... loss:1.3735771775245667:   0%|                                                                            | 4/5000 [00:21<7:19:01,  5.27s/it]"
     ]
    },
    {
     "name": "stdout",
     "output_type": "stream",
     "text": [
      "Test update: epoch: 3 |accuracy: 0.6401160955429077 | f1: 0.7802566289901733 | auc: 0.5545613765716553 | treshold: 0.41000000000000003\n"
     ]
    },
    {
     "name": "stderr",
     "output_type": "stream",
     "text": [
      "train... loss:1.362665832042694:   0%|                                                                             | 5/5000 [00:26<7:19:19,  5.28s/it]"
     ]
    },
    {
     "name": "stdout",
     "output_type": "stream",
     "text": [
      "Test update: epoch: 4 |accuracy: 0.6405513286590576 | f1: 0.7803797125816345 | auc: 0.5651907920837402 | treshold: 0.42000000000000004\n"
     ]
    },
    {
     "name": "stderr",
     "output_type": "stream",
     "text": [
      "train... loss:1.3520826697349548:   0%|                                                                            | 6/5000 [00:31<7:18:24,  5.27s/it]"
     ]
    },
    {
     "name": "stdout",
     "output_type": "stream",
     "text": [
      "Test update: epoch: 5 |accuracy: 0.6411800384521484 | f1: 0.7804264426231384 | auc: 0.5750830173492432 | treshold: 0.43\n"
     ]
    },
    {
     "name": "stderr",
     "output_type": "stream",
     "text": [
      "train... loss:1.3422591090202332:   0%|                                                                            | 7/5000 [00:36<7:18:18,  5.27s/it]"
     ]
    },
    {
     "name": "stdout",
     "output_type": "stream",
     "text": [
      "Test update: epoch: 6 |accuracy: 0.6412767767906189 | f1: 0.7806414365768433 | auc: 0.5842207670211792 | treshold: 0.43\n"
     ]
    },
    {
     "name": "stderr",
     "output_type": "stream",
     "text": [
      "train... loss:1.3327557444572449:   0%|                                                                            | 8/5000 [00:42<7:18:42,  5.27s/it]"
     ]
    },
    {
     "name": "stdout",
     "output_type": "stream",
     "text": [
      "Test update: epoch: 7 |accuracy: 0.6421231031417847 | f1: 0.7806627750396729 | auc: 0.5926156640052795 | treshold: 0.44\n"
     ]
    },
    {
     "name": "stderr",
     "output_type": "stream",
     "text": [
      "train... loss:1.323476493358612:   0%|▏                                                                            | 9/5000 [00:47<7:20:19,  5.29s/it]"
     ]
    },
    {
     "name": "stdout",
     "output_type": "stream",
     "text": [
      "Test update: epoch: 8 |accuracy: 0.6423407196998596 | f1: 0.7808772921562195 | auc: 0.6003190279006958 | treshold: 0.44\n"
     ]
    },
    {
     "name": "stderr",
     "output_type": "stream",
     "text": [
      "train... loss:1.3146550059318542:   0%|▏                                                                          | 10/5000 [00:52<7:20:06,  5.29s/it]"
     ]
    },
    {
     "name": "stdout",
     "output_type": "stream",
     "text": [
      "Test update: epoch: 9 |accuracy: 0.6426792144775391 | f1: 0.7810847163200378 | auc: 0.607437014579773 | treshold: 0.44\n"
     ]
    },
    {
     "name": "stderr",
     "output_type": "stream",
     "text": [
      "train... loss:1.3063120245933533:   0%|▏                                                                          | 11/5000 [00:58<7:19:57,  5.29s/it]"
     ]
    },
    {
     "name": "stdout",
     "output_type": "stream",
     "text": [
      "Test update: epoch: 10 |accuracy: 0.6429210305213928 | f1: 0.7812328934669495 | auc: 0.614055335521698 | treshold: 0.44\n"
     ]
    },
    {
     "name": "stderr",
     "output_type": "stream",
     "text": [
      "train... loss:1.2980313897132874:   0%|▏                                                                          | 12/5000 [01:03<7:20:12,  5.30s/it]"
     ]
    },
    {
     "name": "stdout",
     "output_type": "stream",
     "text": [
      "Test update: epoch: 11 |accuracy: 0.6433321237564087 | f1: 0.7814490795135498 | auc: 0.6202512979507446 | treshold: 0.44\n"
     ]
    },
    {
     "name": "stderr",
     "output_type": "stream",
     "text": [
      "train... loss:1.2899492979049683:   0%|▏                                                                          | 13/5000 [01:08<7:19:13,  5.28s/it]"
     ]
    },
    {
     "name": "stdout",
     "output_type": "stream",
     "text": [
      "Test update: epoch: 12 |accuracy: 0.6449522376060486 | f1: 0.7816426753997803 | auc: 0.6261727809906006 | treshold: 0.45\n"
     ]
    },
    {
     "name": "stderr",
     "output_type": "stream",
     "text": [
      "train... loss:1.2822339534759521:   0%|▏                                                                          | 14/5000 [01:14<7:20:11,  5.30s/it]"
     ]
    },
    {
     "name": "stdout",
     "output_type": "stream",
     "text": [
      "Test update: epoch: 13 |accuracy: 0.645266592502594 | f1: 0.7817484140396118 | auc: 0.6318597793579102 | treshold: 0.45\n"
     ]
    },
    {
     "name": "stderr",
     "output_type": "stream",
     "text": [
      "train... loss:1.274368703365326:   0%|▏                                                                           | 15/5000 [01:19<7:20:59,  5.31s/it]"
     ]
    },
    {
     "name": "stdout",
     "output_type": "stream",
     "text": [
      "Test update: epoch: 14 |accuracy: 0.6461129188537598 | f1: 0.78212970495224 | auc: 0.6374410390853882 | treshold: 0.45\n"
     ]
    },
    {
     "name": "stderr",
     "output_type": "stream",
     "text": [
      "train... loss:1.2671290040016174:   0%|▏                                                                          | 16/5000 [01:24<7:19:02,  5.29s/it]"
     ]
    },
    {
     "name": "stdout",
     "output_type": "stream",
     "text": [
      "Test update: epoch: 15 |accuracy: 0.647660493850708 | f1: 0.7819398045539856 | auc: 0.6429574489593506 | treshold: 0.46\n"
     ]
    },
    {
     "name": "stderr",
     "output_type": "stream",
     "text": [
      "train... loss:1.259910225868225:   0%|▎                                                                           | 17/5000 [01:30<7:23:26,  5.34s/it]"
     ]
    },
    {
     "name": "stdout",
     "output_type": "stream",
     "text": [
      "Test update: epoch: 16 |accuracy: 0.6485552191734314 | f1: 0.7823600172996521 | auc: 0.6484740972518921 | treshold: 0.46\n"
     ]
    },
    {
     "name": "stderr",
     "output_type": "stream",
     "text": [
      "train... loss:1.2528993487358093:   0%|▎                                                                          | 18/5000 [01:35<7:24:21,  5.35s/it]"
     ]
    },
    {
     "name": "stdout",
     "output_type": "stream",
     "text": [
      "Test update: epoch: 17 |accuracy: 0.6512634754180908 | f1: 0.7825719714164734 | auc: 0.6540611386299133 | treshold: 0.47000000000000003\n"
     ]
    },
    {
     "name": "stderr",
     "output_type": "stream",
     "text": [
      "train... loss:1.245969831943512:   0%|▎                                                                           | 19/5000 [01:40<7:25:05,  5.36s/it]"
     ]
    },
    {
     "name": "stdout",
     "output_type": "stream",
     "text": [
      "Test update: epoch: 18 |accuracy: 0.6531012058258057 | f1: 0.7833454012870789 | auc: 0.6597555875778198 | treshold: 0.47000000000000003\n"
     ]
    },
    {
     "name": "stderr",
     "output_type": "stream",
     "text": [
      "train... loss:1.2389776706695557:   0%|▎                                                                          | 20/5000 [01:46<7:26:00,  5.37s/it]"
     ]
    },
    {
     "name": "stdout",
     "output_type": "stream",
     "text": [
      "Test update: epoch: 19 |accuracy: 0.6575746536254883 | f1: 0.7843513488769531 | auc: 0.6655585765838623 | treshold: 0.48000000000000004\n"
     ]
    },
    {
     "name": "stderr",
     "output_type": "stream",
     "text": [
      "train... loss:1.2326945662498474:   0%|▎                                                                          | 21/5000 [01:51<7:26:30,  5.38s/it]"
     ]
    },
    {
     "name": "stdout",
     "output_type": "stream",
     "text": [
      "Test update: epoch: 20 |accuracy: 0.6608874201774597 | f1: 0.7859127521514893 | auc: 0.6714528799057007 | treshold: 0.48000000000000004\n"
     ]
    },
    {
     "name": "stderr",
     "output_type": "stream",
     "text": [
      "train... loss:1.2251344919204712:   0%|▎                                                                          | 22/5000 [01:56<7:26:34,  5.38s/it]"
     ]
    },
    {
     "name": "stdout",
     "output_type": "stream",
     "text": [
      "Test update: epoch: 21 |accuracy: 0.6635473370552063 | f1: 0.7869414687156677 | auc: 0.6774470806121826 | treshold: 0.48000000000000004\n"
     ]
    },
    {
     "name": "stderr",
     "output_type": "stream",
     "text": [
      "train... loss:1.2174638509750366:   0%|▎                                                                          | 23/5000 [02:02<7:25:15,  5.37s/it]"
     ]
    },
    {
     "name": "stdout",
     "output_type": "stream",
     "text": [
      "Test update: epoch: 22 |accuracy: 0.67317134141922 | f1: 0.7887464761734009 | auc: 0.6834930181503296 | treshold: 0.5\n"
     ]
    },
    {
     "name": "stderr",
     "output_type": "stream",
     "text": [
      "train... loss:1.2106221914291382:   0%|▎                                                                          | 24/5000 [02:07<7:25:32,  5.37s/it]"
     ]
    },
    {
     "name": "stdout",
     "output_type": "stream",
     "text": [
      "Test update: epoch: 23 |accuracy: 0.6747189164161682 | f1: 0.7905521392822266 | auc: 0.6895004510879517 | treshold: 0.49\n"
     ]
    },
    {
     "name": "stderr",
     "output_type": "stream",
     "text": [
      "train... loss:1.203265130519867:   0%|▍                                                                           | 25/5000 [02:13<7:25:55,  5.38s/it]"
     ]
    },
    {
     "name": "stdout",
     "output_type": "stream",
     "text": [
      "Test update: epoch: 24 |accuracy: 0.6818522810935974 | f1: 0.792026937007904 | auc: 0.6954367160797119 | treshold: 0.5\n"
     ]
    },
    {
     "name": "stderr",
     "output_type": "stream",
     "text": [
      "train... loss:1.1950098276138306:   1%|▍                                                                          | 26/5000 [02:18<7:27:02,  5.39s/it]"
     ]
    },
    {
     "name": "stdout",
     "output_type": "stream",
     "text": [
      "Test update: epoch: 25 |accuracy: 0.685938835144043 | f1: 0.793178141117096 | auc: 0.7012288570404053 | treshold: 0.5\n"
     ]
    },
    {
     "name": "stderr",
     "output_type": "stream",
     "text": [
      "train... loss:1.1867669820785522:   1%|▍                                                                          | 27/5000 [02:23<7:27:04,  5.39s/it]"
     ]
    },
    {
     "name": "stdout",
     "output_type": "stream",
     "text": [
      "Test update: epoch: 26 |accuracy: 0.6905331611633301 | f1: 0.7944624423980713 | auc: 0.7068236470222473 | treshold: 0.5\n"
     ]
    },
    {
     "name": "stderr",
     "output_type": "stream",
     "text": [
      "train... loss:1.1785939931869507:   1%|▍                                                                          | 28/5000 [02:29<7:28:00,  5.41s/it]"
     ]
    },
    {
     "name": "stdout",
     "output_type": "stream",
     "text": [
      "Test update: epoch: 27 |accuracy: 0.69333815574646 | f1: 0.7963842749595642 | auc: 0.7121955156326294 | treshold: 0.49\n"
     ]
    },
    {
     "name": "stderr",
     "output_type": "stream",
     "text": [
      "train... loss:1.1699531078338623:   1%|▍                                                                          | 29/5000 [02:34<7:29:04,  5.42s/it]"
     ]
    },
    {
     "name": "stdout",
     "output_type": "stream",
     "text": [
      "Test update: epoch: 28 |accuracy: 0.6972312927246094 | f1: 0.7986880540847778 | auc: 0.7172824144363403 | treshold: 0.48000000000000004\n"
     ]
    },
    {
     "name": "stderr",
     "output_type": "stream",
     "text": [
      "train... loss:1.1614347100257874:   1%|▍                                                                          | 30/5000 [02:40<7:27:02,  5.40s/it]"
     ]
    },
    {
     "name": "stdout",
     "output_type": "stream",
     "text": [
      "Test update: epoch: 29 |accuracy: 0.7001571655273438 | f1: 0.8001740574836731 | auc: 0.7220939993858337 | treshold: 0.47000000000000003\n"
     ]
    },
    {
     "name": "stderr",
     "output_type": "stream",
     "text": [
      "train... loss:1.1532851457595825:   1%|▍                                                                          | 31/5000 [02:45<7:24:50,  5.37s/it]"
     ]
    },
    {
     "name": "stdout",
     "output_type": "stream",
     "text": [
      "Test update: epoch: 30 |accuracy: 0.7035666704177856 | f1: 0.8018491268157959 | auc: 0.7266384363174438 | treshold: 0.46\n"
     ]
    },
    {
     "name": "stderr",
     "output_type": "stream",
     "text": [
      "train... loss:1.1453803181648254:   1%|▍                                                                          | 32/5000 [02:50<7:24:49,  5.37s/it]"
     ]
    },
    {
     "name": "stdout",
     "output_type": "stream",
     "text": [
      "Test update: epoch: 31 |accuracy: 0.7089590430259705 | f1: 0.8031532168388367 | auc: 0.730965256690979 | treshold: 0.46\n"
     ]
    },
    {
     "name": "stderr",
     "output_type": "stream",
     "text": [
      "train... loss:1.1374472975730896:   1%|▍                                                                          | 33/5000 [02:56<7:24:49,  5.37s/it]"
     ]
    },
    {
     "name": "stdout",
     "output_type": "stream",
     "text": [
      "Test update: epoch: 32 |accuracy: 0.7112804055213928 | f1: 0.8041788339614868 | auc: 0.7350966334342957 | treshold: 0.45\n"
     ]
    },
    {
     "name": "stderr",
     "output_type": "stream",
     "text": [
      "train... loss:1.1306087374687195:   1%|▌                                                                          | 34/5000 [03:01<7:24:44,  5.37s/it]"
     ]
    },
    {
     "name": "stdout",
     "output_type": "stream",
     "text": [
      "Test update: epoch: 33 |accuracy: 0.7122959494590759 | f1: 0.805968701839447 | auc: 0.7390823364257812 | treshold: 0.43\n"
     ]
    },
    {
     "name": "stderr",
     "output_type": "stream",
     "text": [
      "train... loss:1.123579204082489:   1%|▌                                                                           | 35/5000 [03:06<7:25:19,  5.38s/it]"
     ]
    },
    {
     "name": "stdout",
     "output_type": "stream",
     "text": [
      "Test update: epoch: 34 |accuracy: 0.7155362367630005 | f1: 0.8076269030570984 | auc: 0.742958664894104 | treshold: 0.42000000000000004\n"
     ]
    },
    {
     "name": "stderr",
     "output_type": "stream",
     "text": [
      "train... loss:1.1171307563781738:   1%|▌                                                                          | 36/5000 [03:12<7:24:16,  5.37s/it]"
     ]
    },
    {
     "name": "stdout",
     "output_type": "stream",
     "text": [
      "Test update: epoch: 35 |accuracy: 0.7177608609199524 | f1: 0.8087560534477234 | auc: 0.7467881441116333 | treshold: 0.41000000000000003\n"
     ]
    },
    {
     "name": "stderr",
     "output_type": "stream",
     "text": [
      "train... loss:1.1111541986465454:   1%|▌                                                                          | 37/5000 [03:17<7:24:25,  5.37s/it]"
     ]
    },
    {
     "name": "stdout",
     "output_type": "stream",
     "text": [
      "Test update: epoch: 36 |accuracy: 0.7210736274719238 | f1: 0.8093482851982117 | auc: 0.7506062984466553 | treshold: 0.41000000000000003\n"
     ]
    },
    {
     "name": "stderr",
     "output_type": "stream",
     "text": [
      "train... loss:1.1039633750915527:   1%|▌                                                                          | 38/5000 [03:23<7:25:14,  5.38s/it]"
     ]
    },
    {
     "name": "stdout",
     "output_type": "stream",
     "text": [
      "Test update: epoch: 37 |accuracy: 0.7233224511146545 | f1: 0.8109197616577148 | auc: 0.7544399499893188 | treshold: 0.4\n"
     ]
    },
    {
     "name": "stderr",
     "output_type": "stream",
     "text": [
      "train... loss:1.0967468619346619:   1%|▌                                                                          | 39/5000 [03:28<7:25:06,  5.38s/it]"
     ]
    },
    {
     "name": "stdout",
     "output_type": "stream",
     "text": [
      "Test update: epoch: 38 |accuracy: 0.7259581685066223 | f1: 0.8129960298538208 | auc: 0.7582743763923645 | treshold: 0.39\n"
     ]
    },
    {
     "name": "stderr",
     "output_type": "stream",
     "text": [
      "train... loss:1.0892771482467651:   1%|▌                                                                          | 40/5000 [03:33<7:25:54,  5.39s/it]"
     ]
    },
    {
     "name": "stdout",
     "output_type": "stream",
     "text": [
      "Test update: epoch: 39 |accuracy: 0.7283762693405151 | f1: 0.8138043284416199 | auc: 0.7620928287506104 | treshold: 0.39\n"
     ]
    },
    {
     "name": "stderr",
     "output_type": "stream",
     "text": [
      "train... loss:1.0807899236679077:   1%|▌                                                                          | 41/5000 [03:39<7:27:18,  5.41s/it]"
     ]
    },
    {
     "name": "stdout",
     "output_type": "stream",
     "text": [
      "Test update: epoch: 40 |accuracy: 0.7317373752593994 | f1: 0.8155426979064941 | auc: 0.7658527493476868 | treshold: 0.39\n"
     ]
    },
    {
     "name": "stderr",
     "output_type": "stream",
     "text": [
      "train... loss:1.0717105269432068:   1%|▋                                                                          | 42/5000 [03:44<7:25:19,  5.39s/it]"
     ]
    },
    {
     "name": "stdout",
     "output_type": "stream",
     "text": [
      "Test update: epoch: 41 |accuracy: 0.7342038154602051 | f1: 0.8170621991157532 | auc: 0.7695162296295166 | treshold: 0.39\n"
     ]
    },
    {
     "name": "stderr",
     "output_type": "stream",
     "text": [
      "train... loss:1.0621461868286133:   1%|▋                                                                          | 43/5000 [03:50<7:23:40,  5.37s/it]"
     ]
    },
    {
     "name": "stdout",
     "output_type": "stream",
     "text": [
      "Test update: epoch: 42 |accuracy: 0.7353886961936951 | f1: 0.8180382251739502 | auc: 0.7730350494384766 | treshold: 0.39\n"
     ]
    },
    {
     "name": "stderr",
     "output_type": "stream",
     "text": [
      "train... loss:1.0530034303665161:   1%|▋                                                                          | 44/5000 [03:55<7:25:13,  5.39s/it]"
     ]
    },
    {
     "name": "stdout",
     "output_type": "stream",
     "text": [
      "Test update: epoch: 43 |accuracy: 0.7382420301437378 | f1: 0.8193153142929077 | auc: 0.7763254642486572 | treshold: 0.4\n"
     ]
    },
    {
     "name": "stderr",
     "output_type": "stream",
     "text": [
      "train... loss:1.0447459816932678:   1%|▋                                                                          | 45/5000 [04:00<7:25:19,  5.39s/it]"
     ]
    },
    {
     "name": "stdout",
     "output_type": "stream",
     "text": [
      "Test update: epoch: 44 |accuracy: 0.7405633926391602 | f1: 0.8205282688140869 | auc: 0.7793416976928711 | treshold: 0.41000000000000003\n"
     ]
    },
    {
     "name": "stderr",
     "output_type": "stream",
     "text": [
      "train... loss:1.0371674299240112:   1%|▋                                                                          | 46/5000 [04:06<7:26:46,  5.41s/it]"
     ]
    },
    {
     "name": "stdout",
     "output_type": "stream",
     "text": [
      "Test update: epoch: 45 |accuracy: 0.741772472858429 | f1: 0.8212270736694336 | auc: 0.7820501327514648 | treshold: 0.42000000000000004\n"
     ]
    },
    {
     "name": "stderr",
     "output_type": "stream",
     "text": [
      "train... loss:1.0319105386734009:   1%|▋                                                                          | 47/5000 [04:11<7:25:35,  5.40s/it]"
     ]
    },
    {
     "name": "stdout",
     "output_type": "stream",
     "text": [
      "Test update: epoch: 46 |accuracy: 0.742981493473053 | f1: 0.8220879435539246 | auc: 0.784486711025238 | treshold: 0.43\n"
     ]
    },
    {
     "name": "stderr",
     "output_type": "stream",
     "text": [
      "train... loss:1.027953565120697:   1%|▋                                                                           | 48/5000 [04:17<7:27:36,  5.42s/it]"
     ]
    },
    {
     "name": "stdout",
     "output_type": "stream",
     "text": [
      "Test update: epoch: 47 |accuracy: 0.7451335787773132 | f1: 0.8227618336677551 | auc: 0.7866820096969604 | treshold: 0.45\n"
     ]
    },
    {
     "name": "stderr",
     "output_type": "stream",
     "text": [
      "train... loss:1.0255703330039978:   1%|▋                                                                          | 49/5000 [04:22<7:29:26,  5.45s/it]"
     ]
    },
    {
     "name": "stdout",
     "output_type": "stream",
     "text": [
      "Test update: epoch: 48 |accuracy: 0.7478418350219727 | f1: 0.8236607313156128 | auc: 0.7888187766075134 | treshold: 0.47000000000000003\n"
     ]
    },
    {
     "name": "stderr",
     "output_type": "stream",
     "text": [
      "train... loss:1.0226325392723083:   1%|▊                                                                          | 50/5000 [04:28<7:30:13,  5.46s/it]"
     ]
    },
    {
     "name": "stdout",
     "output_type": "stream",
     "text": [
      "Test update: epoch: 49 |accuracy: 0.7497279644012451 | f1: 0.824516773223877 | auc: 0.7910369634628296 | treshold: 0.48000000000000004\n"
     ]
    },
    {
     "name": "stderr",
     "output_type": "stream",
     "text": [
      "train... loss:1.018592655658722:   1%|▊                                                                           | 51/5000 [04:33<7:30:17,  5.46s/it]"
     ]
    },
    {
     "name": "stdout",
     "output_type": "stream",
     "text": [
      "Test update: epoch: 50 |accuracy: 0.75275057554245 | f1: 0.8247973918914795 | auc: 0.7935433387756348 | treshold: 0.5\n"
     ]
    },
    {
     "name": "stderr",
     "output_type": "stream",
     "text": [
      "train... loss:1.0119826793670654:   1%|▊                                                                          | 52/5000 [04:39<7:35:42,  5.53s/it]"
     ]
    },
    {
     "name": "stdout",
     "output_type": "stream",
     "text": [
      "Test update: epoch: 51 |accuracy: 0.7534518241882324 | f1: 0.8253870606422424 | auc: 0.7964141368865967 | treshold: 0.49\n"
     ]
    },
    {
     "name": "stderr",
     "output_type": "stream",
     "text": [
      "train... loss:1.0024439990520477:   1%|▊                                                                          | 53/5000 [04:44<7:35:38,  5.53s/it]"
     ]
    },
    {
     "name": "stdout",
     "output_type": "stream",
     "text": [
      "Test update: epoch: 52 |accuracy: 0.7553862929344177 | f1: 0.8262810707092285 | auc: 0.7996019721031189 | treshold: 0.48000000000000004\n"
     ]
    },
    {
     "name": "stderr",
     "output_type": "stream",
     "text": [
      "train... loss:0.9908607602119446:   1%|▊                                                                          | 54/5000 [04:50<7:36:41,  5.54s/it]"
     ]
    },
    {
     "name": "stdout",
     "output_type": "stream",
     "text": [
      "Test update: epoch: 53 |accuracy: 0.7576351165771484 | f1: 0.8270017504692078 | auc: 0.8029699325561523 | treshold: 0.47000000000000003\n"
     ]
    },
    {
     "name": "stderr",
     "output_type": "stream",
     "text": [
      "train... loss:0.9792502224445343:   1%|▊                                                                          | 55/5000 [04:55<7:36:14,  5.54s/it]"
     ]
    },
    {
     "name": "stdout",
     "output_type": "stream",
     "text": [
      "Test update: epoch: 54 |accuracy: 0.7603433728218079 | f1: 0.8276857137680054 | auc: 0.8063120245933533 | treshold: 0.46\n"
     ]
    },
    {
     "name": "stderr",
     "output_type": "stream",
     "text": [
      "train... loss:0.9696371853351593:   1%|▊                                                                          | 56/5000 [05:01<7:35:06,  5.52s/it]"
     ]
    },
    {
     "name": "stdout",
     "output_type": "stream",
     "text": [
      "Test update: epoch: 55 |accuracy: 0.7623745799064636 | f1: 0.8282023072242737 | auc: 0.80942702293396 | treshold: 0.44\n"
     ]
    },
    {
     "name": "stderr",
     "output_type": "stream",
     "text": [
      "train... loss:0.9641697704792023:   1%|▊                                                                          | 57/5000 [05:06<7:34:13,  5.51s/it]"
     ]
    },
    {
     "name": "stdout",
     "output_type": "stream",
     "text": [
      "Test update: epoch: 56 |accuracy: 0.7628340125083923 | f1: 0.8282912969589233 | auc: 0.8121472597122192 | treshold: 0.41000000000000003\n"
     ]
    },
    {
     "name": "stderr",
     "output_type": "stream",
     "text": [
      "train... loss:0.9631885290145874:   1%|▊                                                                          | 58/5000 [05:12<7:33:41,  5.51s/it]"
     ]
    },
    {
     "name": "stdout",
     "output_type": "stream",
     "text": [
      "Test update: epoch: 57 |accuracy: 0.7637770771980286 | f1: 0.8295975923538208 | auc: 0.8144051432609558 | treshold: 0.37\n"
     ]
    },
    {
     "name": "stderr",
     "output_type": "stream",
     "text": [
      "train... loss:0.9682005345821381:   1%|▉                                                                          | 59/5000 [05:17<7:32:35,  5.50s/it]"
     ]
    },
    {
     "name": "stdout",
     "output_type": "stream",
     "text": [
      "Test update: epoch: 58 |accuracy: 0.7634143233299255 | f1: 0.8302567601203918 | auc: 0.8162251114845276 | treshold: 0.33\n"
     ]
    },
    {
     "name": "stderr",
     "output_type": "stream",
     "text": [
      "train... loss:0.9772569835186005:   1%|▉                                                                          | 60/5000 [05:23<7:31:28,  5.48s/it]"
     ]
    },
    {
     "name": "stdout",
     "output_type": "stream",
     "text": [
      "Test update: epoch: 59 |accuracy: 0.7650102972984314 | f1: 0.8309677839279175 | auc: 0.8177692294120789 | treshold: 0.31\n"
     ]
    },
    {
     "name": "stderr",
     "output_type": "stream",
     "text": [
      "train... loss:0.987510621547699:   1%|▉                                                                           | 61/5000 [05:28<7:30:25,  5.47s/it]"
     ]
    },
    {
     "name": "stdout",
     "output_type": "stream",
     "text": [
      "Test update: epoch: 60 |accuracy: 0.767113983631134 | f1: 0.8316641449928284 | auc: 0.8192958235740662 | treshold: 0.3\n"
     ]
    },
    {
     "name": "stderr",
     "output_type": "stream",
     "text": [
      "train... loss:0.9942131340503693:   1%|▉                                                                          | 62/5000 [05:34<7:28:34,  5.45s/it]"
     ]
    },
    {
     "name": "stdout",
     "output_type": "stream",
     "text": [
      "Test update: epoch: 61 |accuracy: 0.7689759135246277 | f1: 0.8330479264259338 | auc: 0.8210250735282898 | treshold: 0.29000000000000004\n"
     ]
    },
    {
     "name": "stderr",
     "output_type": "stream",
     "text": [
      "train... loss:0.9927536249160767:   1%|▉                                                                          | 63/5000 [05:39<7:26:49,  5.43s/it]"
     ]
    },
    {
     "name": "stdout",
     "output_type": "stream",
     "text": [
      "Test update: epoch: 62 |accuracy: 0.7697739005088806 | f1: 0.834374189376831 | auc: 0.8229624032974243 | treshold: 0.28\n"
     ]
    },
    {
     "name": "stderr",
     "output_type": "stream",
     "text": [
      "train... loss:0.9829134345054626:   1%|▉                                                                          | 64/5000 [05:45<7:27:16,  5.44s/it]"
     ]
    },
    {
     "name": "stdout",
     "output_type": "stream",
     "text": [
      "Test update: epoch: 63 |accuracy: 0.7702091932296753 | f1: 0.8353175520896912 | auc: 0.8250629901885986 | treshold: 0.28\n"
     ]
    },
    {
     "name": "stderr",
     "output_type": "stream",
     "text": [
      "train... loss:0.9654351770877838:   1%|▉                                                                          | 65/5000 [05:50<7:24:36,  5.41s/it]"
     ]
    },
    {
     "name": "stdout",
     "output_type": "stream",
     "text": [
      "Test update: epoch: 64 |accuracy: 0.7712489366531372 | f1: 0.8362925052642822 | auc: 0.827164888381958 | treshold: 0.29000000000000004\n"
     ]
    },
    {
     "name": "stderr",
     "output_type": "stream",
     "text": [
      "train... loss:0.9446956217288971:   1%|▉                                                                          | 66/5000 [05:55<7:23:16,  5.39s/it]"
     ]
    },
    {
     "name": "stdout",
     "output_type": "stream",
     "text": [
      "Test update: epoch: 65 |accuracy: 0.7732317447662354 | f1: 0.8368078470230103 | auc: 0.829099178314209 | treshold: 0.32\n"
     ]
    },
    {
     "name": "stderr",
     "output_type": "stream",
     "text": [
      "train... loss:0.9238626062870026:   1%|█                                                                          | 67/5000 [06:01<7:25:40,  5.42s/it]"
     ]
    },
    {
     "name": "stdout",
     "output_type": "stream",
     "text": [
      "Test update: epoch: 66 |accuracy: 0.7734252214431763 | f1: 0.8374674916267395 | auc: 0.8307105302810669 | treshold: 0.34\n"
     ]
    },
    {
     "name": "stderr",
     "output_type": "stream",
     "text": [
      "train... loss:0.905968189239502:   1%|█                                                                           | 68/5000 [06:06<7:25:44,  5.42s/it]"
     ]
    },
    {
     "name": "stdout",
     "output_type": "stream",
     "text": [
      "Test update: epoch: 67 |accuracy: 0.773280143737793 | f1: 0.8374761939048767 | auc: 0.8318607807159424 | treshold: 0.37\n"
     ]
    },
    {
     "name": "stderr",
     "output_type": "stream",
     "text": [
      "train... loss:0.8956124186515808:   1%|█                                                                          | 69/5000 [06:12<7:26:03,  5.43s/it]"
     ]
    },
    {
     "name": "stdout",
     "output_type": "stream",
     "text": [
      "Test update: epoch: 68 |accuracy: 0.7734977602958679 | f1: 0.837409496307373 | auc: 0.8324487805366516 | treshold: 0.41000000000000003\n"
     ]
    },
    {
     "name": "stderr",
     "output_type": "stream",
     "text": [
      "train... loss:0.8918139040470123:   1%|█                                                                          | 70/5000 [06:17<7:27:05,  5.44s/it]"
     ]
    },
    {
     "name": "stdout",
     "output_type": "stream",
     "text": [
      "Test update: epoch: 69 |accuracy: 0.7735702991485596 | f1: 0.8369266390800476 | auc: 0.8324043154716492 | treshold: 0.46\n"
     ]
    },
    {
     "name": "stderr",
     "output_type": "stream",
     "text": [
      "train... loss:0.958965927362442:   2%|█▏                                                                          | 77/5000 [06:54<7:17:10,  5.33s/it]"
     ]
    },
    {
     "name": "stdout",
     "output_type": "stream",
     "text": [
      "Test update: epoch: 76 |accuracy: 0.7774876356124878 | f1: 0.8367860913276672 | auc: 0.8337719440460205 | treshold: 0.63\n"
     ]
    },
    {
     "name": "stderr",
     "output_type": "stream",
     "text": [
      "train... loss:0.9421439468860626:   2%|█▏                                                                         | 78/5000 [06:59<7:23:25,  5.41s/it]"
     ]
    },
    {
     "name": "stdout",
     "output_type": "stream",
     "text": [
      "Test update: epoch: 77 |accuracy: 0.7787691950798035 | f1: 0.8376368880271912 | auc: 0.83634352684021 | treshold: 0.61\n"
     ]
    },
    {
     "name": "stderr",
     "output_type": "stream",
     "text": [
      "train... loss:0.9206810891628265:   2%|█▏                                                                         | 79/5000 [07:05<7:25:01,  5.43s/it]"
     ]
    },
    {
     "name": "stdout",
     "output_type": "stream",
     "text": [
      "Test update: epoch: 78 |accuracy: 0.7814049124717712 | f1: 0.8383462429046631 | auc: 0.8389538526535034 | treshold: 0.6\n"
     ]
    },
    {
     "name": "stderr",
     "output_type": "stream",
     "text": [
      "train... loss:0.898700475692749:   2%|█▏                                                                          | 80/5000 [07:10<7:26:25,  5.44s/it]"
     ]
    },
    {
     "name": "stdout",
     "output_type": "stream",
     "text": [
      "Test update: epoch: 79 |accuracy: 0.782855749130249 | f1: 0.839321494102478 | auc: 0.8413686752319336 | treshold: 0.5700000000000001\n"
     ]
    },
    {
     "name": "stderr",
     "output_type": "stream",
     "text": [
      "train... loss:0.8780733346939087:   2%|█▏                                                                         | 81/5000 [07:16<7:28:07,  5.47s/it]"
     ]
    },
    {
     "name": "stdout",
     "output_type": "stream",
     "text": [
      "Test update: epoch: 80 |accuracy: 0.7846693396568298 | f1: 0.8401859402656555 | auc: 0.8434845209121704 | treshold: 0.54\n"
     ]
    },
    {
     "name": "stderr",
     "output_type": "stream",
     "text": [
      "train... loss:0.8615573346614838:   2%|█▏                                                                         | 82/5000 [07:21<7:29:48,  5.49s/it]"
     ]
    },
    {
     "name": "stdout",
     "output_type": "stream",
     "text": [
      "Test update: epoch: 81 |accuracy: 0.7859508991241455 | f1: 0.8411912322044373 | auc: 0.8451935052871704 | treshold: 0.5\n"
     ]
    },
    {
     "name": "stderr",
     "output_type": "stream",
     "text": [
      "train... loss:0.8503854274749756:   2%|█▏                                                                         | 83/5000 [07:27<7:31:54,  5.51s/it]"
     ]
    },
    {
     "name": "stdout",
     "output_type": "stream",
     "text": [
      "Test update: epoch: 82 |accuracy: 0.787039041519165 | f1: 0.8419333696365356 | auc: 0.8464722633361816 | treshold: 0.46\n"
     ]
    },
    {
     "name": "stderr",
     "output_type": "stream",
     "text": [
      "train... loss:0.8457967936992645:   2%|█▎                                                                         | 84/5000 [07:32<7:32:17,  5.52s/it]"
     ]
    },
    {
     "name": "stdout",
     "output_type": "stream",
     "text": [
      "Test update: epoch: 83 |accuracy: 0.7883448004722595 | f1: 0.841537356376648 | auc: 0.8473309278488159 | treshold: 0.44\n"
     ]
    },
    {
     "name": "stderr",
     "output_type": "stream",
     "text": [
      "train... loss:0.847951203584671:   2%|█▎                                                                          | 85/5000 [07:38<7:31:14,  5.51s/it]"
     ]
    },
    {
     "name": "stdout",
     "output_type": "stream",
     "text": [
      "Test update: epoch: 84 |accuracy: 0.7885140776634216 | f1: 0.8409181833267212 | auc: 0.8478131294250488 | treshold: 0.41000000000000003\n"
     ]
    },
    {
     "name": "stderr",
     "output_type": "stream",
     "text": [
      "train... loss:0.9324216246604919:   2%|█▎                                                                         | 91/5000 [08:08<6:57:02,  5.10s/it]"
     ]
    },
    {
     "name": "stdout",
     "output_type": "stream",
     "text": [
      "Test update: epoch: 90 |accuracy: 0.7911255955696106 | f1: 0.8461182117462158 | auc: 0.8505603075027466 | treshold: 0.24000000000000002\n"
     ]
    },
    {
     "name": "stderr",
     "output_type": "stream",
     "text": [
      "train... loss:0.9252804219722748:   2%|█▍                                                                         | 92/5000 [08:13<7:03:05,  5.17s/it]"
     ]
    },
    {
     "name": "stdout",
     "output_type": "stream",
     "text": [
      "Test update: epoch: 91 |accuracy: 0.7907629013061523 | f1: 0.8462809324264526 | auc: 0.8520998358726501 | treshold: 0.24000000000000002\n"
     ]
    },
    {
     "name": "stderr",
     "output_type": "stream",
     "text": [
      "train... loss:0.9097686409950256:   2%|█▍                                                                         | 93/5000 [08:19<7:06:41,  5.22s/it]"
     ]
    },
    {
     "name": "stdout",
     "output_type": "stream",
     "text": [
      "Test update: epoch: 92 |accuracy: 0.7904969453811646 | f1: 0.8460226058959961 | auc: 0.8538106679916382 | treshold: 0.25\n"
     ]
    },
    {
     "name": "stderr",
     "output_type": "stream",
     "text": [
      "train... loss:0.8894810974597931:   2%|█▍                                                                         | 94/5000 [08:24<7:10:30,  5.27s/it]"
     ]
    },
    {
     "name": "stdout",
     "output_type": "stream",
     "text": [
      "Test update: epoch: 93 |accuracy: 0.7909321784973145 | f1: 0.8459647297859192 | auc: 0.855545163154602 | treshold: 0.27\n"
     ]
    },
    {
     "name": "stderr",
     "output_type": "stream",
     "text": [
      "train... loss:0.8660930097103119:   2%|█▍                                                                         | 95/5000 [08:29<7:13:41,  5.31s/it]"
     ]
    },
    {
     "name": "stdout",
     "output_type": "stream",
     "text": [
      "Test update: epoch: 94 |accuracy: 0.790230929851532 | f1: 0.846228837966919 | auc: 0.857170820236206 | treshold: 0.28\n"
     ]
    },
    {
     "name": "stderr",
     "output_type": "stream",
     "text": [
      "train... loss:0.843913197517395:   2%|█▍                                                                          | 96/5000 [08:35<7:14:01,  5.31s/it]"
     ]
    },
    {
     "name": "stdout",
     "output_type": "stream",
     "text": [
      "Test update: epoch: 95 |accuracy: 0.7905694842338562 | f1: 0.8461278676986694 | auc: 0.8585934638977051 | treshold: 0.31\n"
     ]
    },
    {
     "name": "stderr",
     "output_type": "stream",
     "text": [
      "train... loss:0.8252219259738922:   2%|█▍                                                                         | 97/5000 [08:40<7:16:10,  5.34s/it]"
     ]
    },
    {
     "name": "stdout",
     "output_type": "stream",
     "text": [
      "Test update: epoch: 96 |accuracy: 0.7892153263092041 | f1: 0.8457031846046448 | auc: 0.8597246408462524 | treshold: 0.33\n"
     ]
    },
    {
     "name": "stderr",
     "output_type": "stream",
     "text": [
      "train... loss:0.8101128339767456:   2%|█▍                                                                         | 98/5000 [08:45<7:16:15,  5.34s/it]"
     ]
    },
    {
     "name": "stdout",
     "output_type": "stream",
     "text": [
      "Test update: epoch: 97 |accuracy: 0.789650559425354 | f1: 0.8455241322517395 | auc: 0.8604844808578491 | treshold: 0.37\n"
     ]
    },
    {
     "name": "stderr",
     "output_type": "stream",
     "text": [
      "train... loss:0.8018222153186798:   2%|█▍                                                                         | 99/5000 [08:51<7:21:08,  5.40s/it]"
     ]
    },
    {
     "name": "stdout",
     "output_type": "stream",
     "text": [
      "Test update: epoch: 98 |accuracy: 0.7897472977638245 | f1: 0.8453699946403503 | auc: 0.8608129024505615 | treshold: 0.41000000000000003\n"
     ]
    },
    {
     "name": "stderr",
     "output_type": "stream",
     "text": [
      "train... loss:0.8572608232498169:   2%|█▌                                                                        | 109/5000 [09:43<7:14:31,  5.33s/it]"
     ]
    },
    {
     "name": "stdout",
     "output_type": "stream",
     "text": [
      "Test update: epoch: 108 |accuracy: 0.7909321784973145 | f1: 0.8428228497505188 | auc: 0.8618452548980713 | treshold: 0.64\n"
     ]
    },
    {
     "name": "stderr",
     "output_type": "stream",
     "text": [
      "train... loss:0.8384995758533478:   2%|█▋                                                                        | 110/5000 [09:48<7:22:18,  5.43s/it]"
     ]
    },
    {
     "name": "stdout",
     "output_type": "stream",
     "text": [
      "Test update: epoch: 109 |accuracy: 0.7923346757888794 | f1: 0.8436328172683716 | auc: 0.8637797236442566 | treshold: 0.62\n"
     ]
    },
    {
     "name": "stderr",
     "output_type": "stream",
     "text": [
      "train... loss:0.8177864253520966:   2%|█▋                                                                        | 111/5000 [09:54<7:30:37,  5.53s/it]"
     ]
    },
    {
     "name": "stdout",
     "output_type": "stream",
     "text": [
      "Test update: epoch: 110 |accuracy: 0.7937613129615784 | f1: 0.8447155356407166 | auc: 0.8655946254730225 | treshold: 0.59\n"
     ]
    },
    {
     "name": "stderr",
     "output_type": "stream",
     "text": [
      "train... loss:0.7977026700973511:   2%|█▋                                                                        | 112/5000 [10:00<7:30:45,  5.53s/it]"
     ]
    },
    {
     "name": "stdout",
     "output_type": "stream",
     "text": [
      "Test update: epoch: 111 |accuracy: 0.7952122092247009 | f1: 0.8454928398132324 | auc: 0.8671344518661499 | treshold: 0.56\n"
     ]
    },
    {
     "name": "stderr",
     "output_type": "stream",
     "text": [
      "train... loss:0.7795453667640686:   2%|█▋                                                                        | 113/5000 [10:05<7:31:28,  5.54s/it]"
     ]
    },
    {
     "name": "stdout",
     "output_type": "stream",
     "text": [
      "Test update: epoch: 112 |accuracy: 0.7957683205604553 | f1: 0.8463972806930542 | auc: 0.8683260679244995 | treshold: 0.51\n"
     ]
    },
    {
     "name": "stderr",
     "output_type": "stream",
     "text": [
      "train... loss:0.76561239361763:   2%|█▋                                                                          | 114/5000 [10:11<7:29:40,  5.52s/it]"
     ]
    },
    {
     "name": "stdout",
     "output_type": "stream",
     "text": [
      "Test update: epoch: 113 |accuracy: 0.7972917556762695 | f1: 0.8473514318466187 | auc: 0.8690991401672363 | treshold: 0.47000000000000003\n"
     ]
    },
    {
     "name": "stderr",
     "output_type": "stream",
     "text": [
      "train... loss:0.7568792700767517:   2%|█▋                                                                        | 115/5000 [10:16<7:27:37,  5.50s/it]"
     ]
    },
    {
     "name": "stdout",
     "output_type": "stream",
     "text": [
      "Test update: epoch: 114 |accuracy: 0.798597514629364 | f1: 0.8475295901298523 | auc: 0.8694425225257874 | treshold: 0.44\n"
     ]
    },
    {
     "name": "stderr",
     "output_type": "stream",
     "text": [
      "train... loss:0.8281692862510681:   2%|█▊                                                                        | 124/5000 [11:01<6:53:28,  5.09s/it]"
     ]
    },
    {
     "name": "stdout",
     "output_type": "stream",
     "text": [
      "Test update: epoch: 123 |accuracy: 0.7985733151435852 | f1: 0.8499801754951477 | auc: 0.871254563331604 | treshold: 0.22\n"
     ]
    },
    {
     "name": "stderr",
     "output_type": "stream",
     "text": [
      "train... loss:0.8076538443565369:   2%|█▊                                                                        | 125/5000 [11:07<7:01:27,  5.19s/it]"
     ]
    },
    {
     "name": "stdout",
     "output_type": "stream",
     "text": [
      "Test update: epoch: 124 |accuracy: 0.7990569472312927 | f1: 0.8508132696151733 | auc: 0.873024582862854 | treshold: 0.23\n"
     ]
    },
    {
     "name": "stderr",
     "output_type": "stream",
     "text": [
      "train... loss:0.7849189341068268:   3%|█▊                                                                        | 126/5000 [11:12<7:06:36,  5.25s/it]"
     ]
    },
    {
     "name": "stdout",
     "output_type": "stream",
     "text": [
      "Test update: epoch: 125 |accuracy: 0.8014025092124939 | f1: 0.8513672351837158 | auc: 0.874719500541687 | treshold: 0.27\n"
     ]
    },
    {
     "name": "stderr",
     "output_type": "stream",
     "text": [
      "train... loss:0.7626336812973022:   3%|█▉                                                                        | 127/5000 [11:17<7:09:04,  5.28s/it]"
     ]
    },
    {
     "name": "stdout",
     "output_type": "stream",
     "text": [
      "Test update: epoch: 126 |accuracy: 0.8010156154632568 | f1: 0.8514969348907471 | auc: 0.8761980533599854 | treshold: 0.29000000000000004\n"
     ]
    },
    {
     "name": "stderr",
     "output_type": "stream",
     "text": [
      "train... loss:0.7439497709274292:   3%|█▉                                                                        | 128/5000 [11:23<7:09:49,  5.29s/it]"
     ]
    },
    {
     "name": "stdout",
     "output_type": "stream",
     "text": [
      "Test update: epoch: 127 |accuracy: 0.8007979393005371 | f1: 0.8514390587806702 | auc: 0.877357542514801 | treshold: 0.32\n"
     ]
    },
    {
     "name": "stderr",
     "output_type": "stream",
     "text": [
      "train... loss:0.7303243279457092:   3%|█▉                                                                        | 129/5000 [11:28<7:13:44,  5.34s/it]"
     ]
    },
    {
     "name": "stdout",
     "output_type": "stream",
     "text": [
      "Test update: epoch: 128 |accuracy: 0.8009188771247864 | f1: 0.8507243394851685 | auc: 0.8781272172927856 | treshold: 0.37\n"
     ]
    },
    {
     "name": "stderr",
     "output_type": "stream",
     "text": [
      "train... loss:0.7229740619659424:   3%|█▉                                                                        | 130/5000 [11:34<7:17:21,  5.39s/it]"
     ]
    },
    {
     "name": "stdout",
     "output_type": "stream",
     "text": [
      "Test update: epoch: 129 |accuracy: 0.8007737994194031 | f1: 0.8506534695625305 | auc: 0.8784847855567932 | treshold: 0.41000000000000003\n"
     ]
    },
    {
     "name": "stderr",
     "output_type": "stream",
     "text": [
      "train... loss:0.8051401376724243:   3%|██                                                                        | 139/5000 [12:20<7:08:49,  5.29s/it]"
     ]
    },
    {
     "name": "stdout",
     "output_type": "stream",
     "text": [
      "Test update: epoch: 138 |accuracy: 0.8049812316894531 | f1: 0.8483195900917053 | auc: 0.8784266710281372 | treshold: 0.7000000000000001\n"
     ]
    },
    {
     "name": "stderr",
     "output_type": "stream",
     "text": [
      "train... loss:0.791991800069809:   3%|██                                                                         | 140/5000 [12:26<7:17:35,  5.40s/it]"
     ]
    },
    {
     "name": "stdout",
     "output_type": "stream",
     "text": [
      "Test update: epoch: 139 |accuracy: 0.8059484958648682 | f1: 0.8488045930862427 | auc: 0.8801364898681641 | treshold: 0.6900000000000001\n"
     ]
    },
    {
     "name": "stderr",
     "output_type": "stream",
     "text": [
      "train... loss:0.7746651768684387:   3%|██                                                                        | 141/5000 [12:31<7:20:59,  5.45s/it]"
     ]
    },
    {
     "name": "stdout",
     "output_type": "stream",
     "text": [
      "Test update: epoch: 140 |accuracy: 0.8072542548179626 | f1: 0.8497710227966309 | auc: 0.8818680047988892 | treshold: 0.67\n"
     ]
    },
    {
     "name": "stderr",
     "output_type": "stream",
     "text": [
      "train... loss:0.7555299699306488:   3%|██                                                                        | 142/5000 [12:37<7:23:07,  5.47s/it]"
     ]
    },
    {
     "name": "stdout",
     "output_type": "stream",
     "text": [
      "Test update: epoch: 141 |accuracy: 0.8087050914764404 | f1: 0.8505299687385559 | auc: 0.8834654092788696 | treshold: 0.65\n"
     ]
    },
    {
     "name": "stderr",
     "output_type": "stream",
     "text": [
      "train... loss:0.7363075911998749:   3%|██                                                                        | 143/5000 [12:42<7:24:13,  5.49s/it]"
     ]
    },
    {
     "name": "stdout",
     "output_type": "stream",
     "text": [
      "Test update: epoch: 142 |accuracy: 0.80979323387146 | f1: 0.8506947159767151 | auc: 0.884833812713623 | treshold: 0.63\n"
     ]
    },
    {
     "name": "stderr",
     "output_type": "stream",
     "text": [
      "train... loss:0.7187625467777252:   3%|██▏                                                                       | 144/5000 [12:48<7:26:02,  5.51s/it]"
     ]
    },
    {
     "name": "stdout",
     "output_type": "stream",
     "text": [
      "Test update: epoch: 143 |accuracy: 0.8099625110626221 | f1: 0.851574182510376 | auc: 0.885887861251831 | treshold: 0.59\n"
     ]
    },
    {
     "name": "stderr",
     "output_type": "stream",
     "text": [
      "train... loss:0.704885870218277:   3%|██▏                                                                        | 145/5000 [12:53<7:26:01,  5.51s/it]"
     ]
    },
    {
     "name": "stdout",
     "output_type": "stream",
     "text": [
      "Test update: epoch: 144 |accuracy: 0.8104461431503296 | f1: 0.8520245552062988 | auc: 0.8866029977798462 | treshold: 0.55\n"
     ]
    },
    {
     "name": "stderr",
     "output_type": "stream",
     "text": [
      "train... loss:0.6951452791690826:   3%|██▏                                                                       | 146/5000 [12:59<7:23:20,  5.48s/it]"
     ]
    },
    {
     "name": "stdout",
     "output_type": "stream",
     "text": [
      "Test update: epoch: 145 |accuracy: 0.8110989928245544 | f1: 0.853030800819397 | auc: 0.8869471549987793 | treshold: 0.5\n"
     ]
    },
    {
     "name": "stderr",
     "output_type": "stream",
     "text": [
      "train... loss:0.737055242061615:   3%|██▎                                                                        | 157/5000 [13:53<6:42:13,  4.98s/it]"
     ]
    },
    {
     "name": "stdout",
     "output_type": "stream",
     "text": [
      "Test update: epoch: 156 |accuracy: 0.812574028968811 | f1: 0.8582090735435486 | auc: 0.8876126408576965 | treshold: 0.23\n"
     ]
    },
    {
     "name": "stderr",
     "output_type": "stream",
     "text": [
      "train... loss:0.7159066796302795:   3%|██▎                                                                       | 158/5000 [13:58<6:53:18,  5.12s/it]"
     ]
    },
    {
     "name": "stdout",
     "output_type": "stream",
     "text": [
      "Test update: epoch: 157 |accuracy: 0.8140249252319336 | f1: 0.8587381839752197 | auc: 0.8888031244277954 | treshold: 0.26\n"
     ]
    },
    {
     "name": "stderr",
     "output_type": "stream",
     "text": [
      "train... loss:0.6957934498786926:   3%|██▎                                                                       | 159/5000 [14:04<7:00:44,  5.21s/it]"
     ]
    },
    {
     "name": "stdout",
     "output_type": "stream",
     "text": [
      "Test update: epoch: 158 |accuracy: 0.8154515624046326 | f1: 0.8596026301383972 | auc: 0.8898175358772278 | treshold: 0.29000000000000004\n"
     ]
    },
    {
     "name": "stderr",
     "output_type": "stream",
     "text": [
      "train... loss:0.6793560087680817:   3%|██▎                                                                       | 160/5000 [14:09<7:05:08,  5.27s/it]"
     ]
    },
    {
     "name": "stdout",
     "output_type": "stream",
     "text": [
      "Test update: epoch: 159 |accuracy: 0.8160319328308105 | f1: 0.8596568703651428 | auc: 0.8905749320983887 | treshold: 0.33\n"
     ]
    },
    {
     "name": "stderr",
     "output_type": "stream",
     "text": [
      "train... loss:0.6678833663463593:   3%|██▍                                                                       | 161/5000 [14:15<7:09:27,  5.33s/it]"
     ]
    },
    {
     "name": "stdout",
     "output_type": "stream",
     "text": [
      "Test update: epoch: 160 |accuracy: 0.8166122436523438 | f1: 0.859467089176178 | auc: 0.8910409212112427 | treshold: 0.38\n"
     ]
    },
    {
     "name": "stderr",
     "output_type": "stream",
     "text": [
      "train... loss:0.6630533635616302:   3%|██▍                                                                       | 162/5000 [14:20<7:19:10,  5.45s/it]"
     ]
    },
    {
     "name": "stdout",
     "output_type": "stream",
     "text": [
      "Test update: epoch: 161 |accuracy: 0.8170233368873596 | f1: 0.8585211038589478 | auc: 0.8912104964256287 | treshold: 0.45\n"
     ]
    },
    {
     "name": "stderr",
     "output_type": "stream",
     "text": [
      "train... loss:0.7438134253025055:   3%|██▌                                                                       | 171/5000 [15:08<7:16:55,  5.43s/it]"
     ]
    },
    {
     "name": "stdout",
     "output_type": "stream",
     "text": [
      "Test update: epoch: 170 |accuracy: 0.8237214088439941 | f1: 0.8596673607826233 | auc: 0.8920682668685913 | treshold: 0.7000000000000001\n"
     ]
    },
    {
     "name": "stderr",
     "output_type": "stream",
     "text": [
      "train... loss:0.7312087416648865:   3%|██▌                                                                       | 172/5000 [15:14<7:21:02,  5.48s/it]"
     ]
    },
    {
     "name": "stdout",
     "output_type": "stream",
     "text": [
      "Test update: epoch: 171 |accuracy: 0.8242775797843933 | f1: 0.8597401976585388 | auc: 0.893347978591919 | treshold: 0.6900000000000001\n"
     ]
    },
    {
     "name": "stderr",
     "output_type": "stream",
     "text": [
      "train... loss:0.7153752148151398:   3%|██▌                                                                       | 173/5000 [15:19<7:25:24,  5.54s/it]"
     ]
    },
    {
     "name": "stdout",
     "output_type": "stream",
     "text": [
      "Test update: epoch: 172 |accuracy: 0.8251723051071167 | f1: 0.8599488735198975 | auc: 0.8945564031600952 | treshold: 0.68\n"
     ]
    },
    {
     "name": "stderr",
     "output_type": "stream",
     "text": [
      "train... loss:0.6985519528388977:   3%|██▌                                                                       | 174/5000 [15:25<7:27:17,  5.56s/it]"
     ]
    },
    {
     "name": "stdout",
     "output_type": "stream",
     "text": [
      "Test update: epoch: 173 |accuracy: 0.8253899216651917 | f1: 0.859352171421051 | auc: 0.8956245183944702 | treshold: 0.67\n"
     ]
    },
    {
     "name": "stderr",
     "output_type": "stream",
     "text": [
      "train... loss:0.6824237108230591:   4%|██▌                                                                       | 175/5000 [15:31<7:29:20,  5.59s/it]"
     ]
    },
    {
     "name": "stdout",
     "output_type": "stream",
     "text": [
      "Test update: epoch: 174 |accuracy: 0.8241809010505676 | f1: 0.8593752980232239 | auc: 0.8964834809303284 | treshold: 0.63\n"
     ]
    },
    {
     "name": "stderr",
     "output_type": "stream",
     "text": [
      "train... loss:0.6686189770698547:   4%|██▌                                                                       | 176/5000 [15:36<7:28:06,  5.57s/it]"
     ]
    },
    {
     "name": "stdout",
     "output_type": "stream",
     "text": [
      "Test update: epoch: 175 |accuracy: 0.8239390850067139 | f1: 0.8598217368125916 | auc: 0.8971027135848999 | treshold: 0.59\n"
     ]
    },
    {
     "name": "stderr",
     "output_type": "stream",
     "text": [
      "train... loss:0.6579205393791199:   4%|██▌                                                                       | 177/5000 [15:42<7:28:33,  5.58s/it]"
     ]
    },
    {
     "name": "stdout",
     "output_type": "stream",
     "text": [
      "Test update: epoch: 176 |accuracy: 0.8230202198028564 | f1: 0.8584141135215759 | auc: 0.8974682092666626 | treshold: 0.5700000000000001\n"
     ]
    },
    {
     "name": "stderr",
     "output_type": "stream",
     "text": [
      "train... loss:0.6385549604892731:   4%|██▊                                                                       | 193/5000 [17:02<6:52:42,  5.15s/it]"
     ]
    },
    {
     "name": "stdout",
     "output_type": "stream",
     "text": [
      "Test update: epoch: 192 |accuracy: 0.8233829140663147 | f1: 0.8626189827919006 | auc: 0.8961398601531982 | treshold: 0.36000000000000004\n"
     ]
    },
    {
     "name": "stderr",
     "output_type": "stream",
     "text": [
      "train... loss:0.6328040957450867:   4%|██▊                                                                       | 194/5000 [17:08<7:03:03,  5.28s/it]"
     ]
    },
    {
     "name": "stdout",
     "output_type": "stream",
     "text": [
      "Test update: epoch: 193 |accuracy: 0.8237940073013306 | f1: 0.8627244234085083 | auc: 0.8961929082870483 | treshold: 0.4\n"
     ]
    },
    {
     "name": "stderr",
     "output_type": "stream",
     "text": [
      "train... loss:0.6323668658733368:   4%|██▉                                                                       | 195/5000 [17:13<7:12:11,  5.40s/it]"
     ]
    },
    {
     "name": "stdout",
     "output_type": "stream",
     "text": [
      "Test update: epoch: 194 |accuracy: 0.8242292404174805 | f1: 0.8622382283210754 | auc: 0.8961763381958008 | treshold: 0.46\n"
     ]
    },
    {
     "name": "stderr",
     "output_type": "stream",
     "text": [
      "train... loss:0.6732127666473389:   4%|██▉                                                                       | 199/5000 [17:35<7:14:24,  5.43s/it]"
     ]
    },
    {
     "name": "stdout",
     "output_type": "stream",
     "text": [
      "Test update: epoch: 198 |accuracy: 0.8312658667564392 | f1: 0.8663013577461243 | auc: 0.896461009979248 | treshold: 0.62\n"
     ]
    },
    {
     "name": "stderr",
     "output_type": "stream",
     "text": [
      "train... loss:0.6876200139522552:   4%|██▉                                                                       | 200/5000 [17:40<7:20:37,  5.51s/it]"
     ]
    },
    {
     "name": "stdout",
     "output_type": "stream",
     "text": [
      "Test update: epoch: 199 |accuracy: 0.8321363925933838 | f1: 0.8677764534950256 | auc: 0.8969913721084595 | treshold: 0.62\n"
     ]
    },
    {
     "name": "stderr",
     "output_type": "stream",
     "text": [
      "train... loss:0.6973582804203033:   4%|██▉                                                                       | 201/5000 [17:46<7:26:13,  5.58s/it]"
     ]
    },
    {
     "name": "stdout",
     "output_type": "stream",
     "text": [
      "Test update: epoch: 200 |accuracy: 0.8328617811203003 | f1: 0.8685031533241272 | auc: 0.897845983505249 | treshold: 0.63\n"
     ]
    },
    {
     "name": "stderr",
     "output_type": "stream",
     "text": [
      "train... loss:0.7024270296096802:   4%|██▉                                                                       | 202/5000 [17:52<7:28:43,  5.61s/it]"
     ]
    },
    {
     "name": "stdout",
     "output_type": "stream",
     "text": [
      "Test update: epoch: 201 |accuracy: 0.8334663510322571 | f1: 0.8669461607933044 | auc: 0.8989623188972473 | treshold: 0.68\n"
     ]
    },
    {
     "name": "stderr",
     "output_type": "stream",
     "text": [
      "train... loss:0.7014105916023254:   4%|███                                                                       | 203/5000 [17:58<7:31:31,  5.65s/it]"
     ]
    },
    {
     "name": "stdout",
     "output_type": "stream",
     "text": [
      "Test update: epoch: 202 |accuracy: 0.8340950012207031 | f1: 0.8688270449638367 | auc: 0.900159478187561 | treshold: 0.65\n"
     ]
    },
    {
     "name": "stderr",
     "output_type": "stream",
     "text": [
      "train... loss:0.6953363120555878:   4%|███                                                                       | 204/5000 [18:03<7:35:31,  5.70s/it]"
     ]
    },
    {
     "name": "stdout",
     "output_type": "stream",
     "text": [
      "Test update: epoch: 203 |accuracy: 0.8347962498664856 | f1: 0.8690585494041443 | auc: 0.9012857675552368 | treshold: 0.65\n"
     ]
    },
    {
     "name": "stderr",
     "output_type": "stream",
     "text": [
      "train... loss:0.6861071586608887:   4%|███                                                                       | 205/5000 [18:09<7:35:41,  5.70s/it]"
     ]
    },
    {
     "name": "stdout",
     "output_type": "stream",
     "text": [
      "Test update: epoch: 204 |accuracy: 0.8347962498664856 | f1: 0.8685901165008545 | auc: 0.9022627472877502 | treshold: 0.65\n"
     ]
    },
    {
     "name": "stderr",
     "output_type": "stream",
     "text": [
      "train... loss:0.6750925183296204:   4%|███                                                                       | 206/5000 [18:15<7:30:23,  5.64s/it]"
     ]
    },
    {
     "name": "stdout",
     "output_type": "stream",
     "text": [
      "Test update: epoch: 205 |accuracy: 0.8346511721611023 | f1: 0.8682110905647278 | auc: 0.9030407071113586 | treshold: 0.64\n"
     ]
    },
    {
     "name": "stderr",
     "output_type": "stream",
     "text": [
      "train... loss:0.6645047068595886:   4%|███                                                                       | 207/5000 [18:20<7:30:07,  5.63s/it]"
     ]
    },
    {
     "name": "stdout",
     "output_type": "stream",
     "text": [
      "Test update: epoch: 206 |accuracy: 0.8335872292518616 | f1: 0.8669373393058777 | auc: 0.9035904407501221 | treshold: 0.63\n"
     ]
    },
    {
     "name": "stderr",
     "output_type": "stream",
     "text": [
      "train... loss:0.6544336676597595:   4%|███                                                                       | 208/5000 [18:26<7:28:54,  5.62s/it]"
     ]
    },
    {
     "name": "stdout",
     "output_type": "stream",
     "text": [
      "Test update: epoch: 207 |accuracy: 0.8322331309318542 | f1: 0.8656883835792542 | auc: 0.9039168357849121 | treshold: 0.61\n"
     ]
    },
    {
     "name": "stderr",
     "output_type": "stream",
     "text": [
      "train... loss:0.6464971303939819:   4%|███                                                                       | 209/5000 [18:32<7:30:24,  5.64s/it]"
     ]
    },
    {
     "name": "stdout",
     "output_type": "stream",
     "text": [
      "Test update: epoch: 208 |accuracy: 0.8309757113456726 | f1: 0.8653542399406433 | auc: 0.9040343761444092 | treshold: 0.5700000000000001\n"
     ]
    },
    {
     "name": "stderr",
     "output_type": "stream",
     "text": [
      "train... loss:0.6741682291030884:   5%|███▌                                                                      | 238/5000 [20:57<6:55:46,  5.24s/it]"
     ]
    },
    {
     "name": "stdout",
     "output_type": "stream",
     "text": [
      "Test update: epoch: 237 |accuracy: 0.8368274569511414 | f1: 0.8703554272651672 | auc: 0.9037472605705261 | treshold: 0.64\n"
     ]
    },
    {
     "name": "stderr",
     "output_type": "stream",
     "text": [
      "train... loss:0.6677331030368805:   5%|███▌                                                                      | 239/5000 [21:02<7:03:29,  5.34s/it]"
     ]
    },
    {
     "name": "stdout",
     "output_type": "stream",
     "text": [
      "Test update: epoch: 238 |accuracy: 0.8370450735092163 | f1: 0.8706252574920654 | auc: 0.905117392539978 | treshold: 0.63\n"
     ]
    },
    {
     "name": "stderr",
     "output_type": "stream",
     "text": [
      "train... loss:0.6590000689029694:   5%|███▌                                                                      | 240/5000 [21:08<7:09:21,  5.41s/it]"
     ]
    },
    {
     "name": "stdout",
     "output_type": "stream",
     "text": [
      "Test update: epoch: 239 |accuracy: 0.8378913998603821 | f1: 0.8709677457809448 | auc: 0.9062787294387817 | treshold: 0.63\n"
     ]
    },
    {
     "name": "stderr",
     "output_type": "stream",
     "text": [
      "train... loss:0.6496597230434418:   5%|███▌                                                                      | 241/5000 [21:13<7:12:48,  5.46s/it]"
     ]
    },
    {
     "name": "stdout",
     "output_type": "stream",
     "text": [
      "Test update: epoch: 240 |accuracy: 0.8380123376846313 | f1: 0.8713388442993164 | auc: 0.9071965217590332 | treshold: 0.61\n"
     ]
    },
    {
     "name": "stderr",
     "output_type": "stream",
     "text": [
      "train... loss:0.6401591598987579:   5%|███▌                                                                      | 242/5000 [21:19<7:15:28,  5.49s/it]"
     ]
    },
    {
     "name": "stdout",
     "output_type": "stream",
     "text": [
      "Test update: epoch: 241 |accuracy: 0.8376979827880859 | f1: 0.8712054491043091 | auc: 0.9078495502471924 | treshold: 0.59\n"
     ]
    },
    {
     "name": "stderr",
     "output_type": "stream",
     "text": [
      "train... loss:0.631876140832901:   5%|███▋                                                                       | 243/5000 [21:25<7:17:31,  5.52s/it]"
     ]
    },
    {
     "name": "stdout",
     "output_type": "stream",
     "text": [
      "Test update: epoch: 242 |accuracy: 0.8371660113334656 | f1: 0.8707535266876221 | auc: 0.9082534313201904 | treshold: 0.5700000000000001\n"
     ]
    },
    {
     "name": "stderr",
     "output_type": "stream",
     "text": [
      "train... loss:0.625147134065628:   5%|███▋                                                                       | 244/5000 [21:30<7:16:55,  5.51s/it]"
     ]
    },
    {
     "name": "stdout",
     "output_type": "stream",
     "text": [
      "Test update: epoch: 243 |accuracy: 0.8370209336280823 | f1: 0.8713544011116028 | auc: 0.9084228873252869 | treshold: 0.53\n"
     ]
    },
    {
     "name": "stderr",
     "output_type": "stream",
     "text": [
      "train... loss:0.6404027938842773:   6%|████                                                                      | 278/5000 [24:20<6:40:04,  5.08s/it]"
     ]
    },
    {
     "name": "stdout",
     "output_type": "stream",
     "text": [
      "Test update: epoch: 277 |accuracy: 0.8408414721488953 | f1: 0.8735592365264893 | auc: 0.9096123576164246 | treshold: 0.6\n"
     ]
    },
    {
     "name": "stderr",
     "output_type": "stream",
     "text": [
      "train... loss:0.6307908296585083:   6%|████▏                                                                     | 279/5000 [24:25<6:46:24,  5.17s/it]"
     ]
    },
    {
     "name": "stdout",
     "output_type": "stream",
     "text": [
      "Test update: epoch: 278 |accuracy: 0.8412525653839111 | f1: 0.8737573027610779 | auc: 0.9104138612747192 | treshold: 0.59\n"
     ]
    },
    {
     "name": "stderr",
     "output_type": "stream",
     "text": [
      "train... loss:0.6208939254283905:   6%|████▏                                                                     | 280/5000 [24:30<6:51:03,  5.23s/it]"
     ]
    },
    {
     "name": "stdout",
     "output_type": "stream",
     "text": [
      "Test update: epoch: 279 |accuracy: 0.841446042060852 | f1: 0.8746391534805298 | auc: 0.9110153913497925 | treshold: 0.55\n"
     ]
    },
    {
     "name": "stderr",
     "output_type": "stream",
     "text": [
      "train... loss:0.6124298572540283:   6%|████▏                                                                     | 281/5000 [24:36<6:54:31,  5.27s/it]"
     ]
    },
    {
     "name": "stdout",
     "output_type": "stream",
     "text": [
      "Test update: epoch: 280 |accuracy: 0.8408173322677612 | f1: 0.8741179704666138 | auc: 0.911419153213501 | treshold: 0.53\n"
     ]
    },
    {
     "name": "stderr",
     "output_type": "stream",
     "text": [
      "train... loss:0.6053915917873383:   6%|████▏                                                                     | 282/5000 [24:41<6:55:46,  5.29s/it]"
     ]
    },
    {
     "name": "stdout",
     "output_type": "stream",
     "text": [
      "Test update: epoch: 281 |accuracy: 0.8396324515342712 | f1: 0.8720383048057556 | auc: 0.9116195440292358 | treshold: 0.54\n"
     ]
    },
    {
     "name": "stderr",
     "output_type": "stream",
     "text": [
      "train... loss:0.5996145904064178:   6%|████▏                                                                     | 283/5000 [24:47<6:56:02,  5.29s/it]"
     ]
    },
    {
     "name": "stdout",
     "output_type": "stream",
     "text": [
      "Test update: epoch: 282 |accuracy: 0.8399951457977295 | f1: 0.8732497096061707 | auc: 0.91163170337677 | treshold: 0.49\n"
     ]
    },
    {
     "name": "stderr",
     "output_type": "stream",
     "text": [
      "train... loss:0.6026052832603455:   6%|████▋                                                                     | 320/5000 [27:47<6:44:05,  5.18s/it]"
     ]
    },
    {
     "name": "stdout",
     "output_type": "stream",
     "text": [
      "Test update: epoch: 319 |accuracy: 0.8420746922492981 | f1: 0.8739554286003113 | auc: 0.9120116233825684 | treshold: 0.56\n"
     ]
    },
    {
     "name": "stderr",
     "output_type": "stream",
     "text": [
      "train... loss:0.5964409708976746:   6%|████▊                                                                     | 321/5000 [27:53<6:50:10,  5.26s/it]"
     ]
    },
    {
     "name": "stdout",
     "output_type": "stream",
     "text": [
      "Test update: epoch: 320 |accuracy: 0.8413251042366028 | f1: 0.8740643858909607 | auc: 0.9121255874633789 | treshold: 0.52\n"
     ]
    },
    {
     "name": "stderr",
     "output_type": "stream",
     "text": [
      "train... loss:0.6092933118343353:   7%|█████▎                                                                    | 355/5000 [30:44<6:49:45,  5.29s/it]"
     ]
    },
    {
     "name": "stdout",
     "output_type": "stream",
     "text": [
      "Test update: epoch: 354 |accuracy: 0.8410107493400574 | f1: 0.873076856136322 | auc: 0.9121032357215881 | treshold: 0.5800000000000001\n"
     ]
    },
    {
     "name": "stderr",
     "output_type": "stream",
     "text": [
      "train... loss:0.6017816960811615:   7%|█████▎                                                                    | 356/5000 [30:49<6:58:41,  5.41s/it]"
     ]
    },
    {
     "name": "stdout",
     "output_type": "stream",
     "text": [
      "Test update: epoch: 355 |accuracy: 0.8419780135154724 | f1: 0.8740969300270081 | auc: 0.9130468964576721 | treshold: 0.56\n"
     ]
    },
    {
     "name": "stderr",
     "output_type": "stream",
     "text": [
      "train... loss:0.5937348902225494:   7%|█████▎                                                                    | 357/5000 [30:55<7:02:13,  5.46s/it]"
     ]
    },
    {
     "name": "stdout",
     "output_type": "stream",
     "text": [
      "Test update: epoch: 356 |accuracy: 0.8426067233085632 | f1: 0.8745301365852356 | auc: 0.9138513207435608 | treshold: 0.55\n"
     ]
    },
    {
     "name": "stderr",
     "output_type": "stream",
     "text": [
      "train... loss:0.5865134298801422:   7%|█████▎                                                                    | 358/5000 [31:01<7:05:52,  5.50s/it]"
     ]
    },
    {
     "name": "stdout",
     "output_type": "stream",
     "text": [
      "Test update: epoch: 357 |accuracy: 0.8434288501739502 | f1: 0.8755980134010315 | auc: 0.9144893288612366 | treshold: 0.52\n"
     ]
    },
    {
     "name": "stderr",
     "output_type": "stream",
     "text": [
      "train... loss:0.5802091360092163:   7%|█████▎                                                                    | 359/5000 [31:06<7:07:37,  5.53s/it]"
     ]
    },
    {
     "name": "stdout",
     "output_type": "stream",
     "text": [
      "Test update: epoch: 358 |accuracy: 0.8436222672462463 | f1: 0.8755125403404236 | auc: 0.9149684906005859 | treshold: 0.51\n"
     ]
    },
    {
     "name": "stderr",
     "output_type": "stream",
     "text": [
      "train... loss:0.5749185681343079:   7%|█████▎                                                                    | 360/5000 [31:12<7:08:08,  5.54s/it]"
     ]
    },
    {
     "name": "stdout",
     "output_type": "stream",
     "text": [
      "Test update: epoch: 359 |accuracy: 0.8429694175720215 | f1: 0.8752017617225647 | auc: 0.9152936339378357 | treshold: 0.49\n"
     ]
    },
    {
     "name": "stderr",
     "output_type": "stream",
     "text": [
      "train... loss:0.5712255239486694:   7%|█████▎                                                                    | 361/5000 [31:17<7:08:39,  5.54s/it]"
     ]
    },
    {
     "name": "stdout",
     "output_type": "stream",
     "text": [
      "Test update: epoch: 360 |accuracy: 0.8423165082931519 | f1: 0.8746371269226074 | auc: 0.9154651165008545 | treshold: 0.47000000000000003\n"
     ]
    },
    {
     "name": "stderr",
     "output_type": "stream",
     "text": [
      "train... loss:0.5809687972068787:   9%|██████▍                                                                   | 431/5000 [37:15<6:35:01,  5.19s/it]\n"
     ]
    }
   ],
   "source": [
    "for embeddings in ['neural','explicit', 'svd',  ]:\n",
    "    print(f\"\\nEvaluating {experiment_name} with {embeddings} embeddings\")\n",
    "\n",
    "    model = NeuralClickModel(\n",
    "        RecsysEmbedding(train_num_items, r_train_user_item_matrix, embeddings='neural'),\n",
    "    ).to(device)\n",
    "\n",
    "    _, metrics = train(model, \n",
    "       r_train_loader, r_val_loader, r_test_loader, device=device, lr=1e-3, num_epochs=5000, early_stopping=50,\n",
    "       silent=True, \n",
    "    )\n",
    "    \n",
    "    metrics['embeddings'] = embeddings\n",
    "    rl4rs_results.append(metrics)\n",
    "    \n",
    "pd.DataFrame(rl4rs_results).to_csv(f'results/rl4rs_{experiment_name}.csv')"
   ]
  }
 ],
 "metadata": {
  "kernelspec": {
   "display_name": "Python 3 (ipykernel)",
   "language": "python",
   "name": "python3"
  },
  "language_info": {
   "codemirror_mode": {
    "name": "ipython",
    "version": 3
   },
   "file_extension": ".py",
   "mimetype": "text/x-python",
   "name": "python",
   "nbconvert_exporter": "python",
   "pygments_lexer": "ipython3",
   "version": "3.7.10"
  }
 },
 "nbformat": 4,
 "nbformat_minor": 5
}
