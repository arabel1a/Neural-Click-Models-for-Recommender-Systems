{
 "cells": [
  {
   "cell_type": "code",
   "execution_count": 1,
   "metadata": {},
   "outputs": [
    {
     "data": {
      "text/plain": [
       "<torch._C.Generator at 0x7ff1180f6170>"
      ]
     },
     "execution_count": 1,
     "metadata": {},
     "output_type": "execute_result"
    }
   ],
   "source": [
    "import os\n",
    "import torch\n",
    "import random\n",
    "import datetime\n",
    "import pandas as pd\n",
    "import numpy as np\n",
    "\n",
    "from torch.utils.data import Dataset\n",
    "from src.datasets import RL4RS, ContentWise, DummyData\n",
    "from src.utils import train, get_dummy_data, get_train_val_test_tmatrix_tnumitems, get_svd_encoder\n",
    "from src.embeddings import RecsysEmbedding\n",
    "\n",
    "experiment_name = 'InSlateAttention'\n",
    "device = 'cuda:0'\n",
    "seed = 123\n",
    "pkl_path = '../data/'\n",
    "\n",
    "random.seed(seed)\n",
    "np.random.seed(seed)\n",
    "torch.manual_seed(seed)"
   ]
  },
  {
   "cell_type": "code",
   "execution_count": 2,
   "metadata": {},
   "outputs": [
    {
     "data": {
      "text/plain": [
       "'1.9.0'"
      ]
     },
     "execution_count": 2,
     "metadata": {},
     "output_type": "execute_result"
    }
   ],
   "source": [
    "torch.__version__"
   ]
  },
  {
   "cell_type": "markdown",
   "metadata": {},
   "source": [
    "# Модель"
   ]
  },
  {
   "cell_type": "code",
   "execution_count": 3,
   "metadata": {},
   "outputs": [
    {
     "name": "stderr",
     "output_type": "stream",
     "text": [
      "3it [00:00, 2719.45it/s]"
     ]
    },
    {
     "name": "stdout",
     "output_type": "stream",
     "text": [
      "biulding affinity matrix...\n"
     ]
    },
    {
     "name": "stderr",
     "output_type": "stream",
     "text": [
      "\n"
     ]
    },
    {
     "data": {
      "text/plain": [
       "tensor([[[ 0.0057,  0.0038,  0.0087],\n",
       "         [ 0.0112,  0.0084,  0.0122]],\n",
       "\n",
       "        [[-0.2585, -0.2585, -0.2585],\n",
       "         [ 0.1548,  0.1548,  0.1548]]], grad_fn=<SqueezeBackward1>)"
      ]
     },
     "execution_count": 3,
     "metadata": {},
     "output_type": "execute_result"
    }
   ],
   "source": [
    "import torch.nn.functional as F\n",
    "torch.autograd.set_detect_anomaly(True)\n",
    "\n",
    "class AttentionResponseModel(torch.nn.Module):\n",
    "    \"\"\"\n",
    "    No recurrent dependency, just slate-wise attention.\n",
    "    \"\"\"\n",
    "    def __init__(self, embedding, nheads=2, output_dim=1):\n",
    "        super().__init__()\n",
    "        self.embedding_dim = embedding.embedding_dim\n",
    "        self.embedding = embedding\n",
    "        self.attention= torch.nn.MultiheadAttention(\n",
    "            2 * embedding.embedding_dim,\n",
    "            num_heads=nheads,\n",
    "            batch_first=True\n",
    "        )\n",
    "        \n",
    "        self.out_layer = torch.nn.Linear(2 * embedding.embedding_dim, output_dim)\n",
    "\n",
    "    def forward(self, batch):\n",
    "        item_embs, user_embs = self.embedding(batch)\n",
    "        shp = item_embs.shape\n",
    "        \n",
    "        # let model attent to first padd token if slate is empty to avoid NaN gradients\n",
    "        # (anyway they does not contrinute into metrics computation)\n",
    "        key_padding_mask = batch['slates_mask'].clone()\n",
    "        key_padding_mask[:,:, 0] = True \n",
    "        \n",
    "        # repeating user embedding for each item embeding\n",
    "        features = torch.cat(\n",
    "            [\n",
    "                item_embs,\n",
    "                user_embs[:, :, None, :].repeat(1, 1, shp[-2], 1).reshape(shp)\n",
    "            ],\n",
    "            dim = -1\n",
    "        )\n",
    "        \n",
    "        # all recomendations in session are scored independently\n",
    "        features = features.flatten(0,1)\n",
    "        \n",
    "        features, attn_map = self.attention(\n",
    "            features, features, features,\n",
    "            key_padding_mask=~key_padding_mask.flatten(0, 1)\n",
    "        )\n",
    "        \n",
    "        # transforming back to sequence shape\n",
    "        shp = list(shp)\n",
    "        shp[-1] *= 2\n",
    "        return self.out_layer(features.reshape(shp)).squeeze(-1)\n",
    "\n",
    "\n",
    "    \n",
    "d = DummyData()\n",
    "dummy_loader, dummy_matrix = get_dummy_data(d)\n",
    "\n",
    "for batch in dummy_loader:\n",
    "    break\n",
    "\n",
    "model = AttentionResponseModel(\n",
    "    RecsysEmbedding(d.n_items, dummy_matrix, embeddings='neural'),\n",
    "    output_dim=1\n",
    ").to('cpu')\n",
    "\n",
    "model(batch)\n"
   ]
  },
  {
   "cell_type": "markdown",
   "metadata": {},
   "source": [
    "# Игрушечный датасет: проверим, что сходится к идеальным метрикам"
   ]
  },
  {
   "cell_type": "code",
   "execution_count": 4,
   "metadata": {},
   "outputs": [
    {
     "name": "stderr",
     "output_type": "stream",
     "text": [
      "3it [00:00, 3463.50it/s]"
     ]
    },
    {
     "name": "stdout",
     "output_type": "stream",
     "text": [
      "biulding affinity matrix...\n",
      "\n",
      "Evaluating InSlateAttention with explicit embeddings\n"
     ]
    },
    {
     "name": "stderr",
     "output_type": "stream",
     "text": [
      "\n",
      "train... loss:0.6989719271659851:   0%|                                                                                      | 0/5000 [00:00<?, ?it/s]"
     ]
    },
    {
     "name": "stdout",
     "output_type": "stream",
     "text": [
      "Test before learning: {'f1': 0.0, 'roc-auc': 0.0, 'accuracy': 0.25}\n"
     ]
    },
    {
     "name": "stderr",
     "output_type": "stream",
     "text": [
      "train... loss:0.6672261357307434:   0%|                                                                              | 1/5000 [00:00<27:32,  3.03it/s]"
     ]
    },
    {
     "name": "stdout",
     "output_type": "stream",
     "text": [
      "Test update: epoch: 0 |accuracy: 0.25 | f1: 0.4000000059604645 | auc: 1.0 | treshold: 0.01\n"
     ]
    },
    {
     "name": "stderr",
     "output_type": "stream",
     "text": [
      "train... loss:0.6385529637336731:   0%|                                                                              | 2/5000 [00:00<28:21,  2.94it/s]"
     ]
    },
    {
     "name": "stdout",
     "output_type": "stream",
     "text": [
      "Test update: epoch: 1 |accuracy: 0.75 | f1: 0.6666666865348816 | auc: 1.0 | treshold: 0.47000000000000003\n"
     ]
    },
    {
     "name": "stderr",
     "output_type": "stream",
     "text": [
      "train... loss:0.5642726421356201:   0%|                                                                              | 5/5000 [00:01<29:32,  2.82it/s]\n",
      "train:   0%|                                                                                                                 | 0/5000 [00:00<?, ?it/s]"
     ]
    },
    {
     "name": "stdout",
     "output_type": "stream",
     "text": [
      "Test update: epoch: 5 |accuracy: 1.0 | f1: 1.0 | auc: 1.0 | treshold: 0.54\n",
      "\n",
      "Evaluating InSlateAttention with svd embeddings\n",
      "Test before learning: {'f1': 0.6666666865348816, 'roc-auc': 1.0, 'accuracy': 0.75}\n"
     ]
    },
    {
     "name": "stderr",
     "output_type": "stream",
     "text": [
      "train... loss:0.661543607711792:   0%|                                                                                       | 0/5000 [00:00<?, ?it/s]\n",
      "train:   0%|                                                                                                                 | 0/5000 [00:00<?, ?it/s]"
     ]
    },
    {
     "name": "stdout",
     "output_type": "stream",
     "text": [
      "Test update: epoch: 0 |accuracy: 1.0 | f1: 1.0 | auc: 1.0 | treshold: 0.51\n",
      "\n",
      "Evaluating InSlateAttention with neural embeddings\n",
      "Test before learning: {'f1': 0.0, 'roc-auc': 0.0, 'accuracy': 0.25}\n"
     ]
    },
    {
     "name": "stderr",
     "output_type": "stream",
     "text": [
      "train... loss:0.6746624708175659:   0%|                                                                              | 1/5000 [00:00<26:56,  3.09it/s]"
     ]
    },
    {
     "name": "stdout",
     "output_type": "stream",
     "text": [
      "Test update: epoch: 0 |accuracy: 0.25 | f1: 0.4000000059604645 | auc: 1.0 | treshold: 0.01\n"
     ]
    },
    {
     "name": "stderr",
     "output_type": "stream",
     "text": [
      "train... loss:0.6500577926635742:   0%|                                                                              | 2/5000 [00:00<26:16,  3.17it/s]"
     ]
    },
    {
     "name": "stdout",
     "output_type": "stream",
     "text": [
      "Test update: epoch: 1 |accuracy: 0.75 | f1: 0.6666666865348816 | auc: 1.0 | treshold: 0.47000000000000003\n"
     ]
    },
    {
     "name": "stderr",
     "output_type": "stream",
     "text": [
      "train... loss:0.5874077081680298:   0%|                                                                              | 5/5000 [00:01<26:00,  3.20it/s]"
     ]
    },
    {
     "name": "stdout",
     "output_type": "stream",
     "text": [
      "Test update: epoch: 5 |accuracy: 1.0 | f1: 1.0 | auc: 1.0 | treshold: 0.56\n"
     ]
    },
    {
     "name": "stderr",
     "output_type": "stream",
     "text": [
      "\n"
     ]
    }
   ],
   "source": [
    "d = DummyData()\n",
    "dummy_loader, dummy_matrix = get_dummy_data(d)\n",
    "\n",
    "for embeddings in ['explicit', 'svd', 'neural']:\n",
    "    print(f\"\\nEvaluating {experiment_name} with {embeddings} embeddings\")\n",
    "    model = AttentionResponseModel(\n",
    "        RecsysEmbedding(d.n_items, dummy_matrix, embeddings='neural').to('cpu'),\n",
    "        output_dim=1\n",
    "    ).to('cpu')\n",
    "    _, metrics = train(model, \n",
    "       dummy_loader, dummy_loader, dummy_loader, device=device, lr=1e-3, num_epochs=5000, dummy=True,\n",
    "       silent=True,\n",
    "#        debug=True,\n",
    "    \n",
    "    )\n"
   ]
  },
  {
   "cell_type": "markdown",
   "metadata": {},
   "source": [
    "# ContentWise"
   ]
  },
  {
   "cell_type": "code",
   "execution_count": 5,
   "metadata": {},
   "outputs": [
    {
     "data": {
      "text/plain": [
       "(108, 20216)"
      ]
     },
     "execution_count": 5,
     "metadata": {},
     "output_type": "execute_result"
    }
   ],
   "source": [
    "content_wise_results = []\n",
    "c = ContentWise.load(os.path.join(pkl_path, 'cw.pkl'))\n",
    "c_train_loader, c_val_loader, c_test_loader, c_train_user_item_matrix, train_num_items = get_train_val_test_tmatrix_tnumitems(c, batch_size=150)\n",
    "len(c_train_loader), len(c)"
   ]
  },
  {
   "cell_type": "code",
   "execution_count": 6,
   "metadata": {},
   "outputs": [
    {
     "name": "stdout",
     "output_type": "stream",
     "text": [
      "\n",
      "Evaluating InSlateAttention with neural embeddings\n"
     ]
    },
    {
     "name": "stderr",
     "output_type": "stream",
     "text": [
      "\r",
      "train:   0%|                                                                                                                 | 0/5000 [00:00<?, ?it/s]"
     ]
    },
    {
     "name": "stdout",
     "output_type": "stream",
     "text": [
      "Test before learning: {'f1': 0.1759941130876541, 'roc-auc': 0.5034826993942261, 'accuracy': 0.19906017184257507}\n"
     ]
    },
    {
     "name": "stderr",
     "output_type": "stream",
     "text": [
      "train... loss:45.46570086479187:   0%|                                                                            | 1/5000 [00:46<64:51:28, 46.71s/it]"
     ]
    },
    {
     "name": "stdout",
     "output_type": "stream",
     "text": [
      "Test update: epoch: 0 |accuracy: 0.75359046459198 | f1: 0.20581744611263275 | auc: 0.5939366817474365 | treshold: 0.11\n"
     ]
    },
    {
     "name": "stderr",
     "output_type": "stream",
     "text": [
      "train... loss:35.241051346063614:   0%|                                                                           | 2/5000 [01:17<58:17:25, 41.99s/it]"
     ]
    },
    {
     "name": "stdout",
     "output_type": "stream",
     "text": [
      "Test update: epoch: 1 |accuracy: 0.84184730052948 | f1: 0.21719038486480713 | auc: 0.6323421597480774 | treshold: 0.09\n"
     ]
    },
    {
     "name": "stderr",
     "output_type": "stream",
     "text": [
      "train... loss:33.51501822471619:   0%|                                                                            | 3/5000 [01:48<53:48:12, 38.76s/it]"
     ]
    },
    {
     "name": "stdout",
     "output_type": "stream",
     "text": [
      "Test update: epoch: 2 |accuracy: 0.8917173743247986 | f1: 0.19873344898223877 | auc: 0.6678566932678223 | treshold: 0.17\n"
     ]
    },
    {
     "name": "stderr",
     "output_type": "stream",
     "text": [
      "train... loss:32.887891590595245:   0%|                                                                           | 4/5000 [02:22<51:35:02, 37.17s/it]"
     ]
    },
    {
     "name": "stdout",
     "output_type": "stream",
     "text": [
      "Test update: epoch: 3 |accuracy: 0.8451460599899292 | f1: 0.2436540573835373 | auc: 0.6708940267562866 | treshold: 0.18000000000000002\n"
     ]
    },
    {
     "name": "stderr",
     "output_type": "stream",
     "text": [
      "train... loss:32.42457205057144:   0%|                                                                            | 5/5000 [02:56<50:12:47, 36.19s/it]"
     ]
    },
    {
     "name": "stdout",
     "output_type": "stream",
     "text": [
      "Test update: epoch: 4 |accuracy: 0.6763191223144531 | f1: 0.2512418031692505 | auc: 0.6719120144844055 | treshold: 0.16\n"
     ]
    },
    {
     "name": "stderr",
     "output_type": "stream",
     "text": [
      "train... loss:31.91163057088852:   0%|                                                                            | 6/5000 [03:29<48:50:31, 35.21s/it]"
     ]
    },
    {
     "name": "stdout",
     "output_type": "stream",
     "text": [
      "Test update: epoch: 5 |accuracy: 0.685359537601471 | f1: 0.26711609959602356 | auc: 0.6960683465003967 | treshold: 0.16\n"
     ]
    },
    {
     "name": "stderr",
     "output_type": "stream",
     "text": [
      "train... loss:31.265682488679886:   0%|                                                                           | 7/5000 [04:02<48:14:49, 34.79s/it]"
     ]
    },
    {
     "name": "stdout",
     "output_type": "stream",
     "text": [
      "Test update: epoch: 6 |accuracy: 0.717833399772644 | f1: 0.27793261408805847 | auc: 0.7045731544494629 | treshold: 0.16\n"
     ]
    },
    {
     "name": "stderr",
     "output_type": "stream",
     "text": [
      "train... loss:30.851400643587112:   0%|                                                                           | 8/5000 [04:40<49:32:30, 35.73s/it]"
     ]
    },
    {
     "name": "stdout",
     "output_type": "stream",
     "text": [
      "Test update: epoch: 7 |accuracy: 0.8755660057067871 | f1: 0.270812451839447 | auc: 0.7255075573921204 | treshold: 0.18000000000000002\n"
     ]
    },
    {
     "name": "stderr",
     "output_type": "stream",
     "text": [
      "train... loss:29.711394250392914:   0%|▏                                                                         | 13/5000 [07:30<48:11:10, 34.78s/it]"
     ]
    },
    {
     "name": "stdout",
     "output_type": "stream",
     "text": [
      "Test update: epoch: 12 |accuracy: 0.8499696850776672 | f1: 0.30120307207107544 | auc: 0.7277766466140747 | treshold: 0.18000000000000002\n"
     ]
    },
    {
     "name": "stderr",
     "output_type": "stream",
     "text": [
      "train... loss:29.38225068151951:   0%|▏                                                                          | 14/5000 [08:02<47:18:51, 34.16s/it]"
     ]
    },
    {
     "name": "stdout",
     "output_type": "stream",
     "text": [
      "Test update: epoch: 13 |accuracy: 0.8045808672904968 | f1: 0.30983129143714905 | auc: 0.7319689989089966 | treshold: 0.18000000000000002\n"
     ]
    },
    {
     "name": "stderr",
     "output_type": "stream",
     "text": [
      "train... loss:29.088236808776855:   0%|▏                                                                         | 16/5000 [09:12<47:50:37, 34.56s/it]"
     ]
    },
    {
     "name": "stdout",
     "output_type": "stream",
     "text": [
      "Test update: epoch: 15 |accuracy: 0.7934087514877319 | f1: 0.3114660680294037 | auc: 0.7315647006034851 | treshold: 0.18000000000000002\n"
     ]
    },
    {
     "name": "stderr",
     "output_type": "stream",
     "text": [
      "train... loss:28.912373676896095:   0%|▎                                                                         | 18/5000 [10:22<48:35:56, 35.12s/it]"
     ]
    },
    {
     "name": "stdout",
     "output_type": "stream",
     "text": [
      "Test update: epoch: 17 |accuracy: 0.8388286232948303 | f1: 0.3158520460128784 | auc: 0.7354074716567993 | treshold: 0.19\n"
     ]
    },
    {
     "name": "stderr",
     "output_type": "stream",
     "text": [
      "train... loss:28.055806502699852:   0%|▎                                                                         | 23/5000 [13:20<49:55:54, 36.12s/it]"
     ]
    },
    {
     "name": "stdout",
     "output_type": "stream",
     "text": [
      "Test update: epoch: 22 |accuracy: 0.8600836992263794 | f1: 0.32350286841392517 | auc: 0.7389762997627258 | treshold: 0.21000000000000002\n"
     ]
    },
    {
     "name": "stderr",
     "output_type": "stream",
     "text": [
      "train... loss:25.72300174832344:   2%|█▎                                                                         | 90/5000 [52:32<47:46:03, 35.02s/it]\n"
     ]
    },
    {
     "name": "stdout",
     "output_type": "stream",
     "text": [
      "\n",
      "Evaluating InSlateAttention with svd embeddings\n"
     ]
    },
    {
     "name": "stderr",
     "output_type": "stream",
     "text": [
      "\r",
      "train:   0%|                                                                                                                 | 0/5000 [00:00<?, ?it/s]"
     ]
    },
    {
     "name": "stdout",
     "output_type": "stream",
     "text": [
      "Test before learning: {'f1': 0.1332925707101822, 'roc-auc': 0.5025715231895447, 'accuracy': 0.7794358134269714}\n"
     ]
    },
    {
     "name": "stderr",
     "output_type": "stream",
     "text": [
      "train... loss:43.41857519745827:   0%|                                                                            | 1/5000 [00:33<45:49:57, 33.01s/it]"
     ]
    },
    {
     "name": "stdout",
     "output_type": "stream",
     "text": [
      "Test update: epoch: 0 |accuracy: 0.0989776998758316 | f1: 0.1801268607378006 | auc: 0.5924073457717896 | treshold: 0.01\n"
     ]
    },
    {
     "name": "stderr",
     "output_type": "stream",
     "text": [
      "train... loss:34.651477724313736:   0%|                                                                           | 2/5000 [01:05<45:24:17, 32.70s/it]"
     ]
    },
    {
     "name": "stdout",
     "output_type": "stream",
     "text": [
      "Test update: epoch: 1 |accuracy: 0.8605349659919739 | f1: 0.20350128412246704 | auc: 0.6484680771827698 | treshold: 0.11\n"
     ]
    },
    {
     "name": "stderr",
     "output_type": "stream",
     "text": [
      "train... loss:33.28048986196518:   0%|                                                                            | 3/5000 [01:39<46:10:45, 33.27s/it]"
     ]
    },
    {
     "name": "stdout",
     "output_type": "stream",
     "text": [
      "Test update: epoch: 2 |accuracy: 0.8708357214927673 | f1: 0.21975749731063843 | auc: 0.6718303561210632 | treshold: 0.17\n"
     ]
    },
    {
     "name": "stderr",
     "output_type": "stream",
     "text": [
      "train... loss:32.63608077168465:   0%|                                                                            | 4/5000 [02:12<46:12:57, 33.30s/it]"
     ]
    },
    {
     "name": "stdout",
     "output_type": "stream",
     "text": [
      "Test update: epoch: 3 |accuracy: 0.8521013855934143 | f1: 0.25421732664108276 | auc: 0.6883220672607422 | treshold: 0.16\n"
     ]
    },
    {
     "name": "stderr",
     "output_type": "stream",
     "text": [
      "train... loss:31.92371767759323:   0%|                                                                            | 5/5000 [02:50<47:47:27, 34.44s/it]"
     ]
    },
    {
     "name": "stdout",
     "output_type": "stream",
     "text": [
      "Test update: epoch: 4 |accuracy: 0.7275117635726929 | f1: 0.28105756640434265 | auc: 0.7098090648651123 | treshold: 0.17\n"
     ]
    },
    {
     "name": "stderr",
     "output_type": "stream",
     "text": [
      "train... loss:30.99419668316841:   0%|                                                                            | 7/5000 [03:57<47:18:59, 34.12s/it]"
     ]
    },
    {
     "name": "stdout",
     "output_type": "stream",
     "text": [
      "Test update: epoch: 6 |accuracy: 0.8762039542198181 | f1: 0.2756737172603607 | auc: 0.7250586748123169 | treshold: 0.18000000000000002\n"
     ]
    },
    {
     "name": "stderr",
     "output_type": "stream",
     "text": [
      "train... loss:30.033292949199677:   0%|▏                                                                         | 10/5000 [05:43<48:41:09, 35.12s/it]"
     ]
    },
    {
     "name": "stdout",
     "output_type": "stream",
     "text": [
      "Test update: epoch: 9 |accuracy: 0.8028537034988403 | f1: 0.3156530261039734 | auc: 0.735457718372345 | treshold: 0.17\n"
     ]
    },
    {
     "name": "stderr",
     "output_type": "stream",
     "text": [
      "train... loss:29.253538578748703:   0%|▏                                                                         | 13/5000 [07:27<48:31:52, 35.03s/it]"
     ]
    },
    {
     "name": "stdout",
     "output_type": "stream",
     "text": [
      "Test update: epoch: 12 |accuracy: 0.8259760141372681 | f1: 0.3224281966686249 | auc: 0.7458221912384033 | treshold: 0.18000000000000002\n"
     ]
    },
    {
     "name": "stderr",
     "output_type": "stream",
     "text": [
      "train... loss:28.245311856269836:   0%|▎                                                                         | 18/5000 [10:17<47:37:13, 34.41s/it]"
     ]
    },
    {
     "name": "stdout",
     "output_type": "stream",
     "text": [
      "Test update: epoch: 17 |accuracy: 0.8744612336158752 | f1: 0.31394559144973755 | auc: 0.7493888139724731 | treshold: 0.21000000000000002\n"
     ]
    },
    {
     "name": "stderr",
     "output_type": "stream",
     "text": [
      "train... loss:26.223515436053276:   1%|▉                                                                         | 63/5000 [37:24<48:51:21, 35.63s/it]\n"
     ]
    }
   ],
   "source": [
    "for embeddings in ['neural', 'svd']:\n",
    "    print(f\"\\nEvaluating {experiment_name} with {embeddings} embeddings\")\n",
    "    model = AttentionResponseModel(\n",
    "        RecsysEmbedding(train_num_items, c_train_user_item_matrix, embeddings='neural'),\n",
    "        output_dim=1\n",
    "    ).to(device)\n",
    "\n",
    "    _, metrics = train(model, \n",
    "       c_train_loader, c_val_loader, c_test_loader, device=device, lr=1e-3, num_epochs=5000, early_stopping=10,\n",
    "       silent=True,\n",
    "#        debug=True\n",
    "    )\n",
    "    \n",
    "    metrics['embeddings'] = embeddings\n",
    "    content_wise_results.append(metrics)\n",
    "    \n",
    "pd.DataFrame(content_wise_results).to_csv(f'results/cw_{experiment_name}.csv')"
   ]
  },
  {
   "cell_type": "markdown",
   "metadata": {},
   "source": [
    "# RL4RS"
   ]
  },
  {
   "cell_type": "code",
   "execution_count": 7,
   "metadata": {},
   "outputs": [
    {
     "data": {
      "text/plain": [
       "(2, 45942)"
      ]
     },
     "execution_count": 7,
     "metadata": {},
     "output_type": "execute_result"
    }
   ],
   "source": [
    "rl4rs_results = []\n",
    "r = RL4RS.load(os.path.join(pkl_path, 'rl4rs.pkl'))\n",
    "r_train_loader, r_val_loader, r_test_loader, r_train_user_item_matrix, train_num_items = get_train_val_test_tmatrix_tnumitems(r, batch_size=20000)\n",
    "len(r_train_loader), len(r)"
   ]
  },
  {
   "cell_type": "code",
   "execution_count": 8,
   "metadata": {},
   "outputs": [
    {
     "name": "stdout",
     "output_type": "stream",
     "text": [
      "\n",
      "Evaluating InSlateAttention with neural embeddings\n"
     ]
    },
    {
     "name": "stderr",
     "output_type": "stream",
     "text": [
      "\r",
      "train:   0%|                                                                                                                 | 0/5000 [00:00<?, ?it/s]"
     ]
    },
    {
     "name": "stdout",
     "output_type": "stream",
     "text": [
      "Test before learning: {'f1': 0.45464029908180237, 'roc-auc': 0.4483996629714966, 'accuracy': 0.4311933219432831}\n"
     ]
    },
    {
     "name": "stderr",
     "output_type": "stream",
     "text": [
      "train... loss:1.3914096355438232:   0%|                                                                           | 1/5000 [01:03<88:24:25, 63.67s/it]"
     ]
    },
    {
     "name": "stdout",
     "output_type": "stream",
     "text": [
      "Test update: epoch: 0 |accuracy: 0.6449522376060486 | f1: 0.7838669419288635 | auc: 0.5403372049331665 | treshold: 0.44\n"
     ]
    },
    {
     "name": "stderr",
     "output_type": "stream",
     "text": [
      "train... loss:1.3702642917633057:   0%|                                                                           | 2/5000 [01:19<68:28:08, 49.32s/it]"
     ]
    },
    {
     "name": "stdout",
     "output_type": "stream",
     "text": [
      "Test update: epoch: 1 |accuracy: 0.6552290916442871 | f1: 0.7877957820892334 | auc: 0.605484127998352 | treshold: 0.46\n"
     ]
    },
    {
     "name": "stderr",
     "output_type": "stream",
     "text": [
      "train... loss:1.3507956266403198:   0%|                                                                           | 3/5000 [01:35<54:38:06, 39.36s/it]"
     ]
    },
    {
     "name": "stdout",
     "output_type": "stream",
     "text": [
      "Test update: epoch: 2 |accuracy: 0.6634505987167358 | f1: 0.7906752824783325 | auc: 0.6393271684646606 | treshold: 0.47000000000000003\n"
     ]
    },
    {
     "name": "stderr",
     "output_type": "stream",
     "text": [
      "train... loss:1.3318561911582947:   0%|                                                                           | 4/5000 [01:51<44:56:55, 32.39s/it]"
     ]
    },
    {
     "name": "stdout",
     "output_type": "stream",
     "text": [
      "Test update: epoch: 3 |accuracy: 0.6704146862030029 | f1: 0.7921875715255737 | auc: 0.656804621219635 | treshold: 0.48000000000000004\n"
     ]
    },
    {
     "name": "stderr",
     "output_type": "stream",
     "text": [
      "train... loss:1.3127177953720093:   0%|                                                                           | 5/5000 [02:07<38:09:30, 27.50s/it]"
     ]
    },
    {
     "name": "stdout",
     "output_type": "stream",
     "text": [
      "Test update: epoch: 4 |accuracy: 0.672373354434967 | f1: 0.7929711937904358 | auc: 0.66727215051651 | treshold: 0.48000000000000004\n"
     ]
    },
    {
     "name": "stderr",
     "output_type": "stream",
     "text": [
      "train... loss:1.2935506701469421:   0%|                                                                           | 6/5000 [02:26<34:19:49, 24.75s/it]"
     ]
    },
    {
     "name": "stdout",
     "output_type": "stream",
     "text": [
      "Test update: epoch: 5 |accuracy: 0.6734372973442078 | f1: 0.7932454347610474 | auc: 0.6751722097396851 | treshold: 0.48000000000000004\n"
     ]
    },
    {
     "name": "stderr",
     "output_type": "stream",
     "text": [
      "train... loss:1.2743818163871765:   0%|                                                                           | 7/5000 [02:40<30:06:06, 21.70s/it]"
     ]
    },
    {
     "name": "stdout",
     "output_type": "stream",
     "text": [
      "Test update: epoch: 6 |accuracy: 0.67737877368927 | f1: 0.7937484383583069 | auc: 0.6822890043258667 | treshold: 0.49\n"
     ]
    },
    {
     "name": "stderr",
     "output_type": "stream",
     "text": [
      "train... loss:1.255734920501709:   0%|                                                                            | 8/5000 [02:55<27:07:43, 19.56s/it]"
     ]
    },
    {
     "name": "stdout",
     "output_type": "stream",
     "text": [
      "Test update: epoch: 7 |accuracy: 0.6781525611877441 | f1: 0.7942240238189697 | auc: 0.6893757581710815 | treshold: 0.49\n"
     ]
    },
    {
     "name": "stderr",
     "output_type": "stream",
     "text": [
      "train... loss:1.2391241192817688:   0%|▏                                                                          | 9/5000 [03:10<25:19:25, 18.27s/it]"
     ]
    },
    {
     "name": "stdout",
     "output_type": "stream",
     "text": [
      "Test update: epoch: 8 |accuracy: 0.6811510324478149 | f1: 0.7946553826332092 | auc: 0.6966710090637207 | treshold: 0.5\n"
     ]
    },
    {
     "name": "stderr",
     "output_type": "stream",
     "text": [
      "train... loss:1.2252044677734375:   0%|▏                                                                         | 10/5000 [03:26<24:16:22, 17.51s/it]"
     ]
    },
    {
     "name": "stdout",
     "output_type": "stream",
     "text": [
      "Test update: epoch: 9 |accuracy: 0.6832547187805176 | f1: 0.7959688901901245 | auc: 0.7042834758758545 | treshold: 0.5\n"
     ]
    },
    {
     "name": "stderr",
     "output_type": "stream",
     "text": [
      "train... loss:1.2166521549224854:   0%|▏                                                                         | 11/5000 [03:42<23:35:48, 17.03s/it]"
     ]
    },
    {
     "name": "stdout",
     "output_type": "stream",
     "text": [
      "Test update: epoch: 10 |accuracy: 0.6879458427429199 | f1: 0.7975654602050781 | auc: 0.712145209312439 | treshold: 0.51\n"
     ]
    },
    {
     "name": "stderr",
     "output_type": "stream",
     "text": [
      "train... loss:1.2137121558189392:   0%|▏                                                                         | 12/5000 [04:03<25:32:22, 18.43s/it]"
     ]
    },
    {
     "name": "stdout",
     "output_type": "stream",
     "text": [
      "Test update: epoch: 11 |accuracy: 0.6917180418968201 | f1: 0.7987688183784485 | auc: 0.7201966047286987 | treshold: 0.52\n"
     ]
    },
    {
     "name": "stderr",
     "output_type": "stream",
     "text": [
      "train... loss:1.2162912487983704:   0%|▏                                                                         | 13/5000 [04:23<26:10:09, 18.89s/it]"
     ]
    },
    {
     "name": "stdout",
     "output_type": "stream",
     "text": [
      "Test update: epoch: 12 |accuracy: 0.6966509222984314 | f1: 0.8004453778266907 | auc: 0.7282760143280029 | treshold: 0.53\n"
     ]
    },
    {
     "name": "stderr",
     "output_type": "stream",
     "text": [
      "train... loss:1.2220695614814758:   0%|▏                                                                         | 14/5000 [04:48<28:25:48, 20.53s/it]"
     ]
    },
    {
     "name": "stdout",
     "output_type": "stream",
     "text": [
      "Test update: epoch: 13 |accuracy: 0.7006891369819641 | f1: 0.8020026683807373 | auc: 0.7360857725143433 | treshold: 0.53\n"
     ]
    },
    {
     "name": "stderr",
     "output_type": "stream",
     "text": [
      "train... loss:1.2240481972694397:   0%|▏                                                                         | 15/5000 [05:06<27:37:23, 19.95s/it]"
     ]
    },
    {
     "name": "stdout",
     "output_type": "stream",
     "text": [
      "Test update: epoch: 14 |accuracy: 0.7049208283424377 | f1: 0.8029136061668396 | auc: 0.7431159615516663 | treshold: 0.53\n"
     ]
    },
    {
     "name": "stderr",
     "output_type": "stream",
     "text": [
      "train... loss:1.2172510027885437:   0%|▏                                                                         | 16/5000 [05:27<27:48:24, 20.09s/it]"
     ]
    },
    {
     "name": "stdout",
     "output_type": "stream",
     "text": [
      "Test update: epoch: 15 |accuracy: 0.7062265872955322 | f1: 0.8038617372512817 | auc: 0.7487970590591431 | treshold: 0.5\n"
     ]
    },
    {
     "name": "stderr",
     "output_type": "stream",
     "text": [
      "train... loss:1.2028427124023438:   0%|▎                                                                         | 17/5000 [05:46<27:24:29, 19.80s/it]"
     ]
    },
    {
     "name": "stdout",
     "output_type": "stream",
     "text": [
      "Test update: epoch: 16 |accuracy: 0.7083786725997925 | f1: 0.8038450479507446 | auc: 0.7528057098388672 | treshold: 0.48000000000000004\n"
     ]
    },
    {
     "name": "stderr",
     "output_type": "stream",
     "text": [
      "train... loss:1.1840218305587769:   0%|▎                                                                         | 18/5000 [06:05<27:06:42, 19.59s/it]"
     ]
    },
    {
     "name": "stdout",
     "output_type": "stream",
     "text": [
      "Test update: epoch: 17 |accuracy: 0.7101680636405945 | f1: 0.8042142987251282 | auc: 0.7551246881484985 | treshold: 0.45\n"
     ]
    },
    {
     "name": "stderr",
     "output_type": "stream",
     "text": [
      "train... loss:1.167208731174469:   0%|▎                                                                          | 19/5000 [06:24<26:50:09, 19.40s/it]"
     ]
    },
    {
     "name": "stdout",
     "output_type": "stream",
     "text": [
      "Test update: epoch: 18 |accuracy: 0.7099504470825195 | f1: 0.8041473031044006 | auc: 0.7559676170349121 | treshold: 0.41000000000000003\n"
     ]
    },
    {
     "name": "stderr",
     "output_type": "stream",
     "text": [
      "train... loss:1.1813312768936157:   0%|▎                                                                         | 24/5000 [07:51<24:05:40, 17.43s/it]"
     ]
    },
    {
     "name": "stdout",
     "output_type": "stream",
     "text": [
      "Test update: epoch: 23 |accuracy: 0.7072663307189941 | f1: 0.8042810559272766 | auc: 0.7602852582931519 | treshold: 0.3\n"
     ]
    },
    {
     "name": "stderr",
     "output_type": "stream",
     "text": [
      "train... loss:1.1832515001296997:   0%|▎                                                                         | 25/5000 [08:08<23:51:54, 17.27s/it]"
     ]
    },
    {
     "name": "stdout",
     "output_type": "stream",
     "text": [
      "Test update: epoch: 24 |accuracy: 0.7102648019790649 | f1: 0.806135356426239 | auc: 0.7669488191604614 | treshold: 0.31\n"
     ]
    },
    {
     "name": "stderr",
     "output_type": "stream",
     "text": [
      "train... loss:1.175705075263977:   1%|▍                                                                          | 26/5000 [08:28<25:08:37, 18.20s/it]"
     ]
    },
    {
     "name": "stdout",
     "output_type": "stream",
     "text": [
      "Test update: epoch: 25 |accuracy: 0.7115705609321594 | f1: 0.8077741265296936 | auc: 0.7747277617454529 | treshold: 0.32\n"
     ]
    },
    {
     "name": "stderr",
     "output_type": "stream",
     "text": [
      "train... loss:1.1600866913795471:   1%|▍                                                                         | 27/5000 [08:45<24:41:04, 17.87s/it]"
     ]
    },
    {
     "name": "stdout",
     "output_type": "stream",
     "text": [
      "Test update: epoch: 26 |accuracy: 0.7173981666564941 | f1: 0.8102667331695557 | auc: 0.7821856737136841 | treshold: 0.35000000000000003\n"
     ]
    },
    {
     "name": "stderr",
     "output_type": "stream",
     "text": [
      "train... loss:1.1406047940254211:   1%|▍                                                                         | 28/5000 [09:02<24:19:09, 17.61s/it]"
     ]
    },
    {
     "name": "stdout",
     "output_type": "stream",
     "text": [
      "Test update: epoch: 27 |accuracy: 0.7195502519607544 | f1: 0.8117390871047974 | auc: 0.7882239818572998 | treshold: 0.37\n"
     ]
    },
    {
     "name": "stderr",
     "output_type": "stream",
     "text": [
      "train... loss:1.120634138584137:   1%|▍                                                                          | 29/5000 [09:21<24:32:02, 17.77s/it]"
     ]
    },
    {
     "name": "stdout",
     "output_type": "stream",
     "text": [
      "Test update: epoch: 28 |accuracy: 0.725426197052002 | f1: 0.8134518265724182 | auc: 0.7924754619598389 | treshold: 0.41000000000000003\n"
     ]
    },
    {
     "name": "stderr",
     "output_type": "stream",
     "text": [
      "train... loss:1.1037901043891907:   1%|▍                                                                         | 30/5000 [09:39<24:43:07, 17.91s/it]"
     ]
    },
    {
     "name": "stdout",
     "output_type": "stream",
     "text": [
      "Test update: epoch: 29 |accuracy: 0.7258372902870178 | f1: 0.8140274882316589 | auc: 0.7951602935791016 | treshold: 0.43\n"
     ]
    },
    {
     "name": "stderr",
     "output_type": "stream",
     "text": [
      "train... loss:1.0913850665092468:   1%|▍                                                                         | 31/5000 [09:58<25:20:46, 18.36s/it]"
     ]
    },
    {
     "name": "stdout",
     "output_type": "stream",
     "text": [
      "Test update: epoch: 30 |accuracy: 0.7257163524627686 | f1: 0.8140400052070618 | auc: 0.7968498468399048 | treshold: 0.45\n"
     ]
    },
    {
     "name": "stderr",
     "output_type": "stream",
     "text": [
      "train... loss:1.0862063765525818:   1%|▍                                                                         | 32/5000 [10:14<24:22:33, 17.66s/it]"
     ]
    },
    {
     "name": "stdout",
     "output_type": "stream",
     "text": [
      "Test update: epoch: 31 |accuracy: 0.7276991605758667 | f1: 0.8142147660255432 | auc: 0.798114538192749 | treshold: 0.48000000000000004\n"
     ]
    },
    {
     "name": "stderr",
     "output_type": "stream",
     "text": [
      "train... loss:1.0890727043151855:   1%|▍                                                                         | 33/5000 [10:31<23:59:15, 17.39s/it]"
     ]
    },
    {
     "name": "stdout",
     "output_type": "stream",
     "text": [
      "Test update: epoch: 32 |accuracy: 0.728206992149353 | f1: 0.8145948648452759 | auc: 0.7994480729103088 | treshold: 0.5\n"
     ]
    },
    {
     "name": "stderr",
     "output_type": "stream",
     "text": [
      "train... loss:1.1001059412956238:   1%|▌                                                                         | 34/5000 [10:49<24:18:20, 17.62s/it]"
     ]
    },
    {
     "name": "stdout",
     "output_type": "stream",
     "text": [
      "Test update: epoch: 33 |accuracy: 0.7288599014282227 | f1: 0.8148478269577026 | auc: 0.8011957406997681 | treshold: 0.52\n"
     ]
    },
    {
     "name": "stderr",
     "output_type": "stream",
     "text": [
      "train... loss:1.1173394918441772:   1%|▌                                                                         | 35/5000 [11:07<24:33:11, 17.80s/it]"
     ]
    },
    {
     "name": "stdout",
     "output_type": "stream",
     "text": [
      "Test update: epoch: 34 |accuracy: 0.7306976318359375 | f1: 0.8157254457473755 | auc: 0.803502082824707 | treshold: 0.54\n"
     ]
    },
    {
     "name": "stderr",
     "output_type": "stream",
     "text": [
      "train... loss:1.1352059245109558:   1%|▌                                                                         | 36/5000 [11:28<25:37:09, 18.58s/it]"
     ]
    },
    {
     "name": "stdout",
     "output_type": "stream",
     "text": [
      "Test update: epoch: 35 |accuracy: 0.7352436184883118 | f1: 0.8170807361602783 | auc: 0.8063203692436218 | treshold: 0.5700000000000001\n"
     ]
    },
    {
     "name": "stderr",
     "output_type": "stream",
     "text": [
      "train... loss:1.14773428440094:   1%|▌                                                                           | 37/5000 [11:48<26:23:12, 19.14s/it]"
     ]
    },
    {
     "name": "stdout",
     "output_type": "stream",
     "text": [
      "Test update: epoch: 36 |accuracy: 0.7423527836799622 | f1: 0.8195749521255493 | auc: 0.8091937303543091 | treshold: 0.6\n"
     ]
    },
    {
     "name": "stderr",
     "output_type": "stream",
     "text": [
      "train... loss:1.1489765048027039:   1%|▌                                                                         | 38/5000 [12:07<26:10:31, 18.99s/it]"
     ]
    },
    {
     "name": "stdout",
     "output_type": "stream",
     "text": [
      "Test update: epoch: 37 |accuracy: 0.7456655502319336 | f1: 0.8206160068511963 | auc: 0.8116621971130371 | treshold: 0.61\n"
     ]
    },
    {
     "name": "stderr",
     "output_type": "stream",
     "text": [
      "train... loss:1.1397015452384949:   1%|▌                                                                         | 39/5000 [12:25<26:01:36, 18.89s/it]"
     ]
    },
    {
     "name": "stdout",
     "output_type": "stream",
     "text": [
      "Test update: epoch: 38 |accuracy: 0.7413613796234131 | f1: 0.8203982710838318 | auc: 0.8136017322540283 | treshold: 0.56\n"
     ]
    },
    {
     "name": "stderr",
     "output_type": "stream",
     "text": [
      "train... loss:1.122715413570404:   1%|▌                                                                          | 40/5000 [12:43<25:26:59, 18.47s/it]"
     ]
    },
    {
     "name": "stdout",
     "output_type": "stream",
     "text": [
      "Test update: epoch: 39 |accuracy: 0.7446258068084717 | f1: 0.8214811086654663 | auc: 0.8150792121887207 | treshold: 0.56\n"
     ]
    },
    {
     "name": "stderr",
     "output_type": "stream",
     "text": [
      "train... loss:1.1023221611976624:   1%|▌                                                                         | 41/5000 [13:01<25:26:12, 18.47s/it]"
     ]
    },
    {
     "name": "stdout",
     "output_type": "stream",
     "text": [
      "Test update: epoch: 40 |accuracy: 0.7451335787773132 | f1: 0.8218752145767212 | auc: 0.8162029981613159 | treshold: 0.54\n"
     ]
    },
    {
     "name": "stderr",
     "output_type": "stream",
     "text": [
      "train... loss:1.081047773361206:   1%|▋                                                                          | 42/5000 [13:18<24:30:08, 17.79s/it]"
     ]
    },
    {
     "name": "stdout",
     "output_type": "stream",
     "text": [
      "Test update: epoch: 41 |accuracy: 0.7462942600250244 | f1: 0.8218796849250793 | auc: 0.817097544670105 | treshold: 0.53\n"
     ]
    },
    {
     "name": "stderr",
     "output_type": "stream",
     "text": [
      "train... loss:1.062497854232788:   1%|▋                                                                          | 43/5000 [13:34<23:43:57, 17.24s/it]"
     ]
    },
    {
     "name": "stdout",
     "output_type": "stream",
     "text": [
      "Test update: epoch: 42 |accuracy: 0.747986912727356 | f1: 0.8221501708030701 | auc: 0.8178653717041016 | treshold: 0.52\n"
     ]
    },
    {
     "name": "stderr",
     "output_type": "stream",
     "text": [
      "train... loss:1.0490062832832336:   1%|▋                                                                         | 44/5000 [13:51<23:41:08, 17.21s/it]"
     ]
    },
    {
     "name": "stdout",
     "output_type": "stream",
     "text": [
      "Test update: epoch: 43 |accuracy: 0.7496796250343323 | f1: 0.8224661350250244 | auc: 0.8186582326889038 | treshold: 0.51\n"
     ]
    },
    {
     "name": "stderr",
     "output_type": "stream",
     "text": [
      "train... loss:1.0412324666976929:   1%|▋                                                                         | 45/5000 [14:09<23:55:52, 17.39s/it]"
     ]
    },
    {
     "name": "stdout",
     "output_type": "stream",
     "text": [
      "Test update: epoch: 44 |accuracy: 0.7481561899185181 | f1: 0.822641909122467 | auc: 0.8195855617523193 | treshold: 0.48000000000000004\n"
     ]
    },
    {
     "name": "stderr",
     "output_type": "stream",
     "text": [
      "train... loss:1.0404523015022278:   1%|▋                                                                         | 46/5000 [14:27<24:23:25, 17.72s/it]"
     ]
    },
    {
     "name": "stdout",
     "output_type": "stream",
     "text": [
      "Test update: epoch: 45 |accuracy: 0.7498488426208496 | f1: 0.8231412172317505 | auc: 0.8208177089691162 | treshold: 0.47000000000000003\n"
     ]
    },
    {
     "name": "stderr",
     "output_type": "stream",
     "text": [
      "train... loss:1.045511245727539:   1%|▋                                                                          | 47/5000 [14:44<24:12:51, 17.60s/it]"
     ]
    },
    {
     "name": "stdout",
     "output_type": "stream",
     "text": [
      "Test update: epoch: 46 |accuracy: 0.7489783763885498 | f1: 0.8233292102813721 | auc: 0.8224470019340515 | treshold: 0.45\n"
     ]
    },
    {
     "name": "stderr",
     "output_type": "stream",
     "text": [
      "train... loss:1.053820550441742:   1%|▋                                                                          | 48/5000 [15:02<24:03:31, 17.49s/it]"
     ]
    },
    {
     "name": "stdout",
     "output_type": "stream",
     "text": [
      "Test update: epoch: 47 |accuracy: 0.7510579228401184 | f1: 0.8246017694473267 | auc: 0.8244950175285339 | treshold: 0.44\n"
     ]
    },
    {
     "name": "stderr",
     "output_type": "stream",
     "text": [
      "train... loss:1.0635510087013245:   1%|▋                                                                         | 49/5000 [15:21<24:50:32, 18.06s/it]"
     ]
    },
    {
     "name": "stdout",
     "output_type": "stream",
     "text": [
      "Test update: epoch: 48 |accuracy: 0.7542739510536194 | f1: 0.8253771662712097 | auc: 0.8268851041793823 | treshold: 0.44\n"
     ]
    },
    {
     "name": "stderr",
     "output_type": "stream",
     "text": [
      "train... loss:1.0698546767234802:   1%|▋                                                                         | 50/5000 [15:38<24:17:58, 17.67s/it]"
     ]
    },
    {
     "name": "stdout",
     "output_type": "stream",
     "text": [
      "Test update: epoch: 49 |accuracy: 0.7560875415802002 | f1: 0.826513946056366 | auc: 0.8294111490249634 | treshold: 0.43\n"
     ]
    },
    {
     "name": "stderr",
     "output_type": "stream",
     "text": [
      "train... loss:1.071207582950592:   1%|▊                                                                          | 51/5000 [15:54<23:50:30, 17.34s/it]"
     ]
    },
    {
     "name": "stdout",
     "output_type": "stream",
     "text": [
      "Test update: epoch: 50 |accuracy: 0.7587474584579468 | f1: 0.8283467888832092 | auc: 0.8316603302955627 | treshold: 0.42000000000000004\n"
     ]
    },
    {
     "name": "stderr",
     "output_type": "stream",
     "text": [
      "train... loss:1.0674205422401428:   1%|▊                                                                         | 52/5000 [16:10<22:58:06, 16.71s/it]"
     ]
    },
    {
     "name": "stdout",
     "output_type": "stream",
     "text": [
      "Test update: epoch: 51 |accuracy: 0.7602708339691162 | f1: 0.829421877861023 | auc: 0.8334067463874817 | treshold: 0.41000000000000003\n"
     ]
    },
    {
     "name": "stderr",
     "output_type": "stream",
     "text": [
      "train... loss:1.0598145723342896:   1%|▊                                                                         | 53/5000 [16:25<22:17:24, 16.22s/it]"
     ]
    },
    {
     "name": "stdout",
     "output_type": "stream",
     "text": [
      "Test update: epoch: 52 |accuracy: 0.7626163959503174 | f1: 0.8298643231391907 | auc: 0.8347249031066895 | treshold: 0.41000000000000003\n"
     ]
    },
    {
     "name": "stderr",
     "output_type": "stream",
     "text": [
      "train... loss:1.0493194460868835:   1%|▊                                                                         | 54/5000 [16:39<21:43:03, 15.81s/it]"
     ]
    },
    {
     "name": "stdout",
     "output_type": "stream",
     "text": [
      "Test update: epoch: 53 |accuracy: 0.7617700695991516 | f1: 0.8308262825012207 | auc: 0.8358005285263062 | treshold: 0.39\n"
     ]
    },
    {
     "name": "stderr",
     "output_type": "stream",
     "text": [
      "train... loss:1.0377634763717651:   1%|▊                                                                         | 55/5000 [16:54<21:22:46, 15.56s/it]"
     ]
    },
    {
     "name": "stdout",
     "output_type": "stream",
     "text": [
      "Test update: epoch: 54 |accuracy: 0.763511061668396 | f1: 0.831239640712738 | auc: 0.8368393182754517 | treshold: 0.39\n"
     ]
    },
    {
     "name": "stderr",
     "output_type": "stream",
     "text": [
      "train... loss:1.0260982513427734:   1%|▊                                                                         | 56/5000 [17:10<21:25:33, 15.60s/it]"
     ]
    },
    {
     "name": "stdout",
     "output_type": "stream",
     "text": [
      "Test update: epoch: 55 |accuracy: 0.7644299268722534 | f1: 0.8314299583435059 | auc: 0.8380129933357239 | treshold: 0.39\n"
     ]
    },
    {
     "name": "stderr",
     "output_type": "stream",
     "text": [
      "train... loss:1.015479326248169:   1%|▊                                                                          | 57/5000 [17:26<21:31:23, 15.68s/it]"
     ]
    },
    {
     "name": "stdout",
     "output_type": "stream",
     "text": [
      "Test update: epoch: 56 |accuracy: 0.7673557996749878 | f1: 0.8325064182281494 | auc: 0.839445948600769 | treshold: 0.4\n"
     ]
    },
    {
     "name": "stderr",
     "output_type": "stream",
     "text": [
      "train... loss:1.0067316889762878:   1%|▊                                                                         | 58/5000 [17:42<21:38:41, 15.77s/it]"
     ]
    },
    {
     "name": "stdout",
     "output_type": "stream",
     "text": [
      "Test update: epoch: 57 |accuracy: 0.7683472633361816 | f1: 0.8336400985717773 | auc: 0.8412289023399353 | treshold: 0.4\n"
     ]
    },
    {
     "name": "stderr",
     "output_type": "stream",
     "text": [
      "train... loss:1.0007342100143433:   1%|▊                                                                         | 59/5000 [17:57<21:25:52, 15.61s/it]"
     ]
    },
    {
     "name": "stdout",
     "output_type": "stream",
     "text": [
      "Test update: epoch: 58 |accuracy: 0.7685648798942566 | f1: 0.834603488445282 | auc: 0.8433740139007568 | treshold: 0.4\n"
     ]
    },
    {
     "name": "stderr",
     "output_type": "stream",
     "text": [
      "train... loss:0.9993444085121155:   1%|▉                                                                         | 60/5000 [18:13<21:16:48, 15.51s/it]"
     ]
    },
    {
     "name": "stdout",
     "output_type": "stream",
     "text": [
      "Test update: epoch: 59 |accuracy: 0.7704509496688843 | f1: 0.8355535268783569 | auc: 0.8458356857299805 | treshold: 0.42000000000000004\n"
     ]
    },
    {
     "name": "stderr",
     "output_type": "stream",
     "text": [
      "train... loss:1.0013768076896667:   1%|▉                                                                         | 61/5000 [18:28<21:12:40, 15.46s/it]"
     ]
    },
    {
     "name": "stdout",
     "output_type": "stream",
     "text": [
      "Test update: epoch: 60 |accuracy: 0.7723854184150696 | f1: 0.837012767791748 | auc: 0.8484492301940918 | treshold: 0.44\n"
     ]
    },
    {
     "name": "stderr",
     "output_type": "stream",
     "text": [
      "train... loss:1.009111762046814:   1%|▉                                                                          | 62/5000 [18:49<23:41:32, 17.27s/it]"
     ]
    },
    {
     "name": "stdout",
     "output_type": "stream",
     "text": [
      "Test update: epoch: 61 |accuracy: 0.7723370790481567 | f1: 0.8380326628684998 | auc: 0.85102379322052 | treshold: 0.45\n"
     ]
    },
    {
     "name": "stderr",
     "output_type": "stream",
     "text": [
      "train... loss:1.0188881158828735:   1%|▉                                                                         | 63/5000 [19:05<23:13:02, 16.93s/it]"
     ]
    },
    {
     "name": "stdout",
     "output_type": "stream",
     "text": [
      "Test update: epoch: 62 |accuracy: 0.7765929102897644 | f1: 0.8391062617301941 | auc: 0.8533515930175781 | treshold: 0.51\n"
     ]
    },
    {
     "name": "stderr",
     "output_type": "stream",
     "text": [
      "train... loss:1.02867990732193:   1%|▉                                                                           | 64/5000 [19:23<23:19:18, 17.01s/it]"
     ]
    },
    {
     "name": "stdout",
     "output_type": "stream",
     "text": [
      "Test update: epoch: 63 |accuracy: 0.7752629518508911 | f1: 0.8390927910804749 | auc: 0.8551575541496277 | treshold: 0.52\n"
     ]
    },
    {
     "name": "stderr",
     "output_type": "stream",
     "text": [
      "train... loss:1.033511459827423:   1%|▉                                                                          | 65/5000 [19:41<23:51:35, 17.41s/it]"
     ]
    },
    {
     "name": "stdout",
     "output_type": "stream",
     "text": [
      "Test update: epoch: 64 |accuracy: 0.7784548401832581 | f1: 0.8401270508766174 | auc: 0.8562164306640625 | treshold: 0.56\n"
     ]
    },
    {
     "name": "stderr",
     "output_type": "stream",
     "text": [
      "train... loss:1.0322312712669373:   1%|▉                                                                         | 66/5000 [20:00<24:35:26, 17.94s/it]"
     ]
    },
    {
     "name": "stdout",
     "output_type": "stream",
     "text": [
      "Test update: epoch: 65 |accuracy: 0.7781404852867126 | f1: 0.839891791343689 | auc: 0.8565964698791504 | treshold: 0.5700000000000001\n"
     ]
    },
    {
     "name": "stderr",
     "output_type": "stream",
     "text": [
      "train... loss:0.9707278907299042:   1%|█                                                                         | 74/5000 [22:19<24:40:02, 18.03s/it]"
     ]
    },
    {
     "name": "stdout",
     "output_type": "stream",
     "text": [
      "Test update: epoch: 73 |accuracy: 0.7815983295440674 | f1: 0.8409523367881775 | auc: 0.8591984510421753 | treshold: 0.5\n"
     ]
    },
    {
     "name": "stderr",
     "output_type": "stream",
     "text": [
      "train... loss:0.9755141735076904:   2%|█                                                                         | 75/5000 [22:37<24:45:14, 18.09s/it]"
     ]
    },
    {
     "name": "stdout",
     "output_type": "stream",
     "text": [
      "Test update: epoch: 74 |accuracy: 0.784645140171051 | f1: 0.8424664735794067 | auc: 0.8612483739852905 | treshold: 0.49\n"
     ]
    },
    {
     "name": "stderr",
     "output_type": "stream",
     "text": [
      "train... loss:0.982085645198822:   2%|█▏                                                                         | 76/5000 [22:54<24:04:29, 17.60s/it]"
     ]
    },
    {
     "name": "stdout",
     "output_type": "stream",
     "text": [
      "Test update: epoch: 75 |accuracy: 0.7850562334060669 | f1: 0.8433187007904053 | auc: 0.8633599877357483 | treshold: 0.47000000000000003\n"
     ]
    },
    {
     "name": "stderr",
     "output_type": "stream",
     "text": [
      "train... loss:0.9884783923625946:   2%|█▏                                                                        | 77/5000 [23:12<24:25:13, 17.86s/it]"
     ]
    },
    {
     "name": "stdout",
     "output_type": "stream",
     "text": [
      "Test update: epoch: 76 |accuracy: 0.7861443758010864 | f1: 0.8447058796882629 | auc: 0.8651772737503052 | treshold: 0.45\n"
     ]
    },
    {
     "name": "stderr",
     "output_type": "stream",
     "text": [
      "train... loss:0.9917170107364655:   2%|█▏                                                                        | 78/5000 [23:28<23:36:47, 17.27s/it]"
     ]
    },
    {
     "name": "stdout",
     "output_type": "stream",
     "text": [
      "Test update: epoch: 77 |accuracy: 0.78962641954422 | f1: 0.8466365933418274 | auc: 0.8663049936294556 | treshold: 0.44\n"
     ]
    },
    {
     "name": "stderr",
     "output_type": "stream",
     "text": [
      "train... loss:0.992145299911499:   2%|█▏                                                                         | 79/5000 [23:44<23:08:58, 16.94s/it]"
     ]
    },
    {
     "name": "stdout",
     "output_type": "stream",
     "text": [
      "Test update: epoch: 78 |accuracy: 0.7909321784973145 | f1: 0.8470655083656311 | auc: 0.8665825128555298 | treshold: 0.43\n"
     ]
    },
    {
     "name": "stderr",
     "output_type": "stream",
     "text": [
      "train... loss:0.9556407630443573:   2%|█▎                                                                        | 86/5000 [25:30<20:20:09, 14.90s/it]"
     ]
    },
    {
     "name": "stdout",
     "output_type": "stream",
     "text": [
      "Test update: epoch: 85 |accuracy: 0.7889009714126587 | f1: 0.8472921848297119 | auc: 0.8663510084152222 | treshold: 0.37\n"
     ]
    },
    {
     "name": "stderr",
     "output_type": "stream",
     "text": [
      "train... loss:0.9535101056098938:   2%|█▎                                                                        | 87/5000 [25:46<20:31:29, 15.04s/it]"
     ]
    },
    {
     "name": "stdout",
     "output_type": "stream",
     "text": [
      "Test update: epoch: 86 |accuracy: 0.7905452847480774 | f1: 0.848221480846405 | auc: 0.8683338761329651 | treshold: 0.39\n"
     ]
    },
    {
     "name": "stderr",
     "output_type": "stream",
     "text": [
      "train... loss:0.9525629281997681:   2%|█▎                                                                        | 88/5000 [26:09<23:45:04, 17.41s/it]"
     ]
    },
    {
     "name": "stdout",
     "output_type": "stream",
     "text": [
      "Test update: epoch: 87 |accuracy: 0.7945351004600525 | f1: 0.8502599596977234 | auc: 0.870786190032959 | treshold: 0.43\n"
     ]
    },
    {
     "name": "stderr",
     "output_type": "stream",
     "text": [
      "train... loss:0.9545263051986694:   2%|█▎                                                                        | 89/5000 [26:24<22:58:56, 16.85s/it]"
     ]
    },
    {
     "name": "stdout",
     "output_type": "stream",
     "text": [
      "Test update: epoch: 88 |accuracy: 0.7924555540084839 | f1: 0.8504729866981506 | auc: 0.8734299540519714 | treshold: 0.43\n"
     ]
    },
    {
     "name": "stderr",
     "output_type": "stream",
     "text": [
      "train... loss:0.9596739411354065:   2%|█▎                                                                        | 90/5000 [26:40<22:32:36, 16.53s/it]"
     ]
    },
    {
     "name": "stdout",
     "output_type": "stream",
     "text": [
      "Test update: epoch: 89 |accuracy: 0.7955507040023804 | f1: 0.8525076508522034 | auc: 0.8758537769317627 | treshold: 0.47000000000000003\n"
     ]
    },
    {
     "name": "stderr",
     "output_type": "stream",
     "text": [
      "train... loss:0.9657962322235107:   2%|█▎                                                                        | 91/5000 [26:56<22:25:30, 16.45s/it]"
     ]
    },
    {
     "name": "stdout",
     "output_type": "stream",
     "text": [
      "Test update: epoch: 90 |accuracy: 0.7983556985855103 | f1: 0.8533286452293396 | auc: 0.8777104616165161 | treshold: 0.53\n"
     ]
    },
    {
     "name": "stderr",
     "output_type": "stream",
     "text": [
      "train... loss:0.971291184425354:   2%|█▍                                                                         | 92/5000 [27:14<22:43:51, 16.67s/it]"
     ]
    },
    {
     "name": "stdout",
     "output_type": "stream",
     "text": [
      "Test update: epoch: 91 |accuracy: 0.7977511882781982 | f1: 0.8533146381378174 | auc: 0.8788594007492065 | treshold: 0.55\n"
     ]
    },
    {
     "name": "stderr",
     "output_type": "stream",
     "text": [
      "train... loss:0.9736684262752533:   2%|█▍                                                                        | 93/5000 [27:34<24:19:25, 17.85s/it]"
     ]
    },
    {
     "name": "stdout",
     "output_type": "stream",
     "text": [
      "Test update: epoch: 92 |accuracy: 0.7978479266166687 | f1: 0.8531684875488281 | auc: 0.8793643116950989 | treshold: 0.5700000000000001\n"
     ]
    },
    {
     "name": "stderr",
     "output_type": "stream",
     "text": [
      "train... loss:0.9522891640663147:   2%|█▌                                                                       | 106/5000 [31:20<21:42:55, 15.97s/it]"
     ]
    },
    {
     "name": "stdout",
     "output_type": "stream",
     "text": [
      "Test update: epoch: 105 |accuracy: 0.802200436592102 | f1: 0.8545777797698975 | auc: 0.8817148804664612 | treshold: 0.42000000000000004\n"
     ]
    },
    {
     "name": "stderr",
     "output_type": "stream",
     "text": [
      "train... loss:0.9514182806015015:   2%|█▌                                                                       | 107/5000 [31:37<21:50:36, 16.07s/it]"
     ]
    },
    {
     "name": "stdout",
     "output_type": "stream",
     "text": [
      "Test update: epoch: 106 |accuracy: 0.8031193614006042 | f1: 0.8547472357749939 | auc: 0.881960391998291 | treshold: 0.41000000000000003\n"
     ]
    },
    {
     "name": "stderr",
     "output_type": "stream",
     "text": [
      "train... loss:0.9467336535453796:   2%|█▌                                                                       | 108/5000 [31:57<23:39:59, 17.42s/it]"
     ]
    },
    {
     "name": "stdout",
     "output_type": "stream",
     "text": [
      "Test update: epoch: 107 |accuracy: 0.8018860816955566 | f1: 0.8543596267700195 | auc: 0.8821273446083069 | treshold: 0.39\n"
     ]
    },
    {
     "name": "stderr",
     "output_type": "stream",
     "text": [
      "train... loss:0.9404147267341614:   2%|█▌                                                                       | 109/5000 [32:15<23:42:24, 17.45s/it]"
     ]
    },
    {
     "name": "stdout",
     "output_type": "stream",
     "text": [
      "Test update: epoch: 108 |accuracy: 0.8024181127548218 | f1: 0.8545801043510437 | auc: 0.8823025226593018 | treshold: 0.38\n"
     ]
    },
    {
     "name": "stderr",
     "output_type": "stream",
     "text": [
      "train... loss:0.9325533509254456:   2%|█▌                                                                       | 110/5000 [32:32<23:24:46, 17.24s/it]"
     ]
    },
    {
     "name": "stdout",
     "output_type": "stream",
     "text": [
      "Test update: epoch: 109 |accuracy: 0.8020312190055847 | f1: 0.8552024364471436 | auc: 0.8825750350952148 | treshold: 0.36000000000000004\n"
     ]
    },
    {
     "name": "stderr",
     "output_type": "stream",
     "text": [
      "train... loss:0.9239248037338257:   2%|█▌                                                                       | 111/5000 [32:47<22:43:17, 16.73s/it]"
     ]
    },
    {
     "name": "stdout",
     "output_type": "stream",
     "text": [
      "Test update: epoch: 110 |accuracy: 0.8017410039901733 | f1: 0.855276882648468 | auc: 0.8829919099807739 | treshold: 0.35000000000000003\n"
     ]
    },
    {
     "name": "stderr",
     "output_type": "stream",
     "text": [
      "train... loss:0.9163267016410828:   2%|█▋                                                                       | 112/5000 [33:02<21:46:39, 16.04s/it]"
     ]
    },
    {
     "name": "stdout",
     "output_type": "stream",
     "text": [
      "Test update: epoch: 111 |accuracy: 0.8014266490936279 | f1: 0.855707049369812 | auc: 0.8836047649383545 | treshold: 0.34\n"
     ]
    },
    {
     "name": "stderr",
     "output_type": "stream",
     "text": [
      "train... loss:0.9097071588039398:   2%|█▋                                                                       | 113/5000 [33:23<23:46:30, 17.51s/it]"
     ]
    },
    {
     "name": "stdout",
     "output_type": "stream",
     "text": [
      "Test update: epoch: 112 |accuracy: 0.8016926646232605 | f1: 0.8561303615570068 | auc: 0.8844105005264282 | treshold: 0.34\n"
     ]
    },
    {
     "name": "stderr",
     "output_type": "stream",
     "text": [
      "train... loss:0.9041004180908203:   2%|█▋                                                                       | 114/5000 [33:38<22:45:15, 16.77s/it]"
     ]
    },
    {
     "name": "stdout",
     "output_type": "stream",
     "text": [
      "Test update: epoch: 113 |accuracy: 0.8040382266044617 | f1: 0.8568703532218933 | auc: 0.885407567024231 | treshold: 0.37\n"
     ]
    },
    {
     "name": "stderr",
     "output_type": "stream",
     "text": [
      "train... loss:0.9023405313491821:   2%|█▋                                                                       | 115/5000 [33:53<22:22:41, 16.49s/it]"
     ]
    },
    {
     "name": "stdout",
     "output_type": "stream",
     "text": [
      "Test update: epoch: 114 |accuracy: 0.8039414882659912 | f1: 0.8575494289398193 | auc: 0.8865582942962646 | treshold: 0.38\n"
     ]
    },
    {
     "name": "stderr",
     "output_type": "stream",
     "text": [
      "train... loss:0.9040021002292633:   2%|█▋                                                                       | 116/5000 [34:10<22:17:28, 16.43s/it]"
     ]
    },
    {
     "name": "stdout",
     "output_type": "stream",
     "text": [
      "Test update: epoch: 115 |accuracy: 0.8054407238960266 | f1: 0.8584248423576355 | auc: 0.8877787590026855 | treshold: 0.42000000000000004\n"
     ]
    },
    {
     "name": "stderr",
     "output_type": "stream",
     "text": [
      "train... loss:0.9108167290687561:   2%|█▋                                                                       | 117/5000 [34:26<22:26:47, 16.55s/it]"
     ]
    },
    {
     "name": "stdout",
     "output_type": "stream",
     "text": [
      "Test update: epoch: 116 |accuracy: 0.8060210347175598 | f1: 0.8590554594993591 | auc: 0.8889480233192444 | treshold: 0.46\n"
     ]
    },
    {
     "name": "stderr",
     "output_type": "stream",
     "text": [
      "train... loss:0.9232158958911896:   2%|█▋                                                                       | 118/5000 [34:45<23:11:38, 17.10s/it]"
     ]
    },
    {
     "name": "stdout",
     "output_type": "stream",
     "text": [
      "Test update: epoch: 117 |accuracy: 0.8087050914764404 | f1: 0.8604737520217896 | auc: 0.8899149894714355 | treshold: 0.52\n"
     ]
    },
    {
     "name": "stderr",
     "output_type": "stream",
     "text": [
      "train... loss:0.9363009929656982:   2%|█▋                                                                       | 119/5000 [35:03<23:28:40, 17.32s/it]"
     ]
    },
    {
     "name": "stdout",
     "output_type": "stream",
     "text": [
      "Test update: epoch: 118 |accuracy: 0.8082940578460693 | f1: 0.8603635430335999 | auc: 0.8906006217002869 | treshold: 0.56\n"
     ]
    },
    {
     "name": "stderr",
     "output_type": "stream",
     "text": [
      "train... loss:0.9495120942592621:   2%|█▊                                                                       | 120/5000 [35:21<23:45:47, 17.53s/it]"
     ]
    },
    {
     "name": "stdout",
     "output_type": "stream",
     "text": [
      "Test update: epoch: 119 |accuracy: 0.8097206950187683 | f1: 0.8607872724533081 | auc: 0.8910601139068604 | treshold: 0.61\n"
     ]
    },
    {
     "name": "stderr",
     "output_type": "stream",
     "text": [
      "train... loss:0.955514669418335:   2%|█▊                                                                        | 121/5000 [35:40<24:38:00, 18.18s/it]"
     ]
    },
    {
     "name": "stdout",
     "output_type": "stream",
     "text": [
      "Test update: epoch: 120 |accuracy: 0.8143150806427002 | f1: 0.8620893955230713 | auc: 0.8914068341255188 | treshold: 0.67\n"
     ]
    },
    {
     "name": "stderr",
     "output_type": "stream",
     "text": [
      "train... loss:0.9548420310020447:   2%|█▊                                                                       | 122/5000 [36:01<25:25:02, 18.76s/it]"
     ]
    },
    {
     "name": "stdout",
     "output_type": "stream",
     "text": [
      "Test update: epoch: 121 |accuracy: 0.8138314485549927 | f1: 0.8620967864990234 | auc: 0.8917771577835083 | treshold: 0.67\n"
     ]
    },
    {
     "name": "stderr",
     "output_type": "stream",
     "text": [
      "train... loss:0.9475183188915253:   2%|█▊                                                                       | 123/5000 [36:23<27:05:15, 20.00s/it]"
     ]
    },
    {
     "name": "stdout",
     "output_type": "stream",
     "text": [
      "Test update: epoch: 122 |accuracy: 0.8147987127304077 | f1: 0.8626508712768555 | auc: 0.8922531604766846 | treshold: 0.67\n"
     ]
    },
    {
     "name": "stderr",
     "output_type": "stream",
     "text": [
      "train... loss:0.9359597861766815:   2%|█▊                                                                       | 124/5000 [36:42<26:18:49, 19.43s/it]"
     ]
    },
    {
     "name": "stdout",
     "output_type": "stream",
     "text": [
      "Test update: epoch: 123 |accuracy: 0.8168782591819763 | f1: 0.8635716438293457 | auc: 0.8928725719451904 | treshold: 0.67\n"
     ]
    },
    {
     "name": "stderr",
     "output_type": "stream",
     "text": [
      "train... loss:0.9210774004459381:   2%|█▊                                                                       | 125/5000 [37:03<26:57:27, 19.91s/it]"
     ]
    },
    {
     "name": "stdout",
     "output_type": "stream",
     "text": [
      "Test update: epoch: 124 |accuracy: 0.8177487850189209 | f1: 0.8637834191322327 | auc: 0.8936200737953186 | treshold: 0.66\n"
     ]
    },
    {
     "name": "stderr",
     "output_type": "stream",
     "text": [
      "train... loss:0.9068158268928528:   3%|█▊                                                                       | 126/5000 [37:21<26:13:29, 19.37s/it]"
     ]
    },
    {
     "name": "stdout",
     "output_type": "stream",
     "text": [
      "Test update: epoch: 125 |accuracy: 0.8176278471946716 | f1: 0.8644110560417175 | auc: 0.8944523334503174 | treshold: 0.63\n"
     ]
    },
    {
     "name": "stderr",
     "output_type": "stream",
     "text": [
      "train... loss:0.8955234885215759:   3%|█▊                                                                       | 127/5000 [37:39<25:57:13, 19.17s/it]"
     ]
    },
    {
     "name": "stdout",
     "output_type": "stream",
     "text": [
      "Test update: epoch: 126 |accuracy: 0.8182807564735413 | f1: 0.8638167381286621 | auc: 0.8953211307525635 | treshold: 0.62\n"
     ]
    },
    {
     "name": "stderr",
     "output_type": "stream",
     "text": [
      "train... loss:0.8881907165050507:   3%|█▊                                                                       | 128/5000 [37:57<25:16:12, 18.67s/it]"
     ]
    },
    {
     "name": "stdout",
     "output_type": "stream",
     "text": [
      "Test update: epoch: 127 |accuracy: 0.8182565569877625 | f1: 0.8641163110733032 | auc: 0.8961493968963623 | treshold: 0.59\n"
     ]
    },
    {
     "name": "stderr",
     "output_type": "stream",
     "text": [
      "train... loss:0.8857487440109253:   3%|█▉                                                                       | 129/5000 [38:14<24:26:10, 18.06s/it]"
     ]
    },
    {
     "name": "stdout",
     "output_type": "stream",
     "text": [
      "Test update: epoch: 128 |accuracy: 0.8194655776023865 | f1: 0.8645205497741699 | auc: 0.896809458732605 | treshold: 0.5700000000000001\n"
     ]
    },
    {
     "name": "stderr",
     "output_type": "stream",
     "text": [
      "train... loss:0.8884207308292389:   3%|█▉                                                                       | 130/5000 [38:30<23:36:57, 17.46s/it]"
     ]
    },
    {
     "name": "stdout",
     "output_type": "stream",
     "text": [
      "Test update: epoch: 129 |accuracy: 0.8183774352073669 | f1: 0.8640567660331726 | auc: 0.8971682190895081 | treshold: 0.54\n"
     ]
    },
    {
     "name": "stderr",
     "output_type": "stream",
     "text": [
      "train... loss:0.8805975317955017:   3%|██                                                                       | 144/5000 [42:19<22:55:18, 16.99s/it]"
     ]
    },
    {
     "name": "stdout",
     "output_type": "stream",
     "text": [
      "Test update: epoch: 143 |accuracy: 0.8140732645988464 | f1: 0.8635177612304688 | auc: 0.898456335067749 | treshold: 0.39\n"
     ]
    },
    {
     "name": "stderr",
     "output_type": "stream",
     "text": [
      "train... loss:0.8811857998371124:   3%|██                                                                       | 145/5000 [42:37<23:07:17, 17.14s/it]"
     ]
    },
    {
     "name": "stdout",
     "output_type": "stream",
     "text": [
      "Test update: epoch: 144 |accuracy: 0.8136380314826965 | f1: 0.8637545108795166 | auc: 0.8995440006256104 | treshold: 0.42000000000000004\n"
     ]
    },
    {
     "name": "stderr",
     "output_type": "stream",
     "text": [
      "train... loss:0.8849299848079681:   3%|██▏                                                                      | 146/5000 [42:53<22:52:58, 16.97s/it]"
     ]
    },
    {
     "name": "stdout",
     "output_type": "stream",
     "text": [
      "Test update: epoch: 145 |accuracy: 0.8156450390815735 | f1: 0.8649806976318359 | auc: 0.9003074169158936 | treshold: 0.47000000000000003\n"
     ]
    },
    {
     "name": "stderr",
     "output_type": "stream",
     "text": [
      "train... loss:0.8899711966514587:   3%|██▏                                                                      | 147/5000 [43:10<22:37:33, 16.78s/it]"
     ]
    },
    {
     "name": "stdout",
     "output_type": "stream",
     "text": [
      "Test update: epoch: 146 |accuracy: 0.8154999613761902 | f1: 0.86497962474823 | auc: 0.900709867477417 | treshold: 0.51\n"
     ]
    },
    {
     "name": "stderr",
     "output_type": "stream",
     "text": [
      "train... loss:0.8950271308422089:   3%|██▏                                                                      | 148/5000 [43:27<22:58:25, 17.05s/it]"
     ]
    },
    {
     "name": "stdout",
     "output_type": "stream",
     "text": [
      "Test update: epoch: 147 |accuracy: 0.814943790435791 | f1: 0.8647425770759583 | auc: 0.9008210301399231 | treshold: 0.54\n"
     ]
    },
    {
     "name": "stderr",
     "output_type": "stream",
     "text": [
      "train... loss:0.8978214263916016:   3%|██▏                                                                      | 149/5000 [43:44<22:51:40, 16.97s/it]"
     ]
    },
    {
     "name": "stdout",
     "output_type": "stream",
     "text": [
      "Test update: epoch: 148 |accuracy: 0.8174585700035095 | f1: 0.86546790599823 | auc: 0.9007503986358643 | treshold: 0.59\n"
     ]
    },
    {
     "name": "stderr",
     "output_type": "stream",
     "text": [
      "train... loss:0.8964288532733917:   3%|██▏                                                                      | 150/5000 [44:06<24:49:13, 18.42s/it]"
     ]
    },
    {
     "name": "stdout",
     "output_type": "stream",
     "text": [
      "Test update: epoch: 149 |accuracy: 0.8169024586677551 | f1: 0.86522376537323 | auc: 0.9006154537200928 | treshold: 0.6\n"
     ]
    },
    {
     "name": "stderr",
     "output_type": "stream",
     "text": [
      "train... loss:0.8918484151363373:   3%|██▏                                                                      | 151/5000 [44:25<25:18:20, 18.79s/it]"
     ]
    },
    {
     "name": "stdout",
     "output_type": "stream",
     "text": [
      "Test update: epoch: 150 |accuracy: 0.8168057203292847 | f1: 0.8654160499572754 | auc: 0.9005086421966553 | treshold: 0.6\n"
     ]
    },
    {
     "name": "stderr",
     "output_type": "stream",
     "text": [
      "train... loss:0.8838495314121246:   3%|██▏                                                                      | 152/5000 [44:43<24:56:19, 18.52s/it]"
     ]
    },
    {
     "name": "stdout",
     "output_type": "stream",
     "text": [
      "Test update: epoch: 151 |accuracy: 0.8184741735458374 | f1: 0.8659727573394775 | auc: 0.9004935622215271 | treshold: 0.61\n"
     ]
    },
    {
     "name": "stderr",
     "output_type": "stream",
     "text": [
      "train... loss:0.875849187374115:   3%|██▎                                                                       | 153/5000 [45:04<25:52:10, 19.21s/it]"
     ]
    },
    {
     "name": "stdout",
     "output_type": "stream",
     "text": [
      "Test update: epoch: 152 |accuracy: 0.8196590542793274 | f1: 0.8662434220314026 | auc: 0.9005990624427795 | treshold: 0.61\n"
     ]
    },
    {
     "name": "stderr",
     "output_type": "stream",
     "text": [
      "train... loss:0.868717759847641:   3%|██▎                                                                       | 154/5000 [45:22<25:14:38, 18.75s/it]"
     ]
    },
    {
     "name": "stdout",
     "output_type": "stream",
     "text": [
      "Test update: epoch: 153 |accuracy: 0.8188127279281616 | f1: 0.8660217523574829 | auc: 0.9008500576019287 | treshold: 0.59\n"
     ]
    },
    {
     "name": "stderr",
     "output_type": "stream",
     "text": [
      "train... loss:0.8651941418647766:   3%|██▎                                                                      | 155/5000 [45:40<25:00:00, 18.58s/it]"
     ]
    },
    {
     "name": "stdout",
     "output_type": "stream",
     "text": [
      "Test update: epoch: 154 |accuracy: 0.8207471966743469 | f1: 0.8669478893280029 | auc: 0.9012645483016968 | treshold: 0.5800000000000001\n"
     ]
    },
    {
     "name": "stderr",
     "output_type": "stream",
     "text": [
      "train... loss:0.8648441731929779:   3%|██▎                                                                      | 156/5000 [45:59<25:08:56, 18.69s/it]"
     ]
    },
    {
     "name": "stdout",
     "output_type": "stream",
     "text": [
      "Test update: epoch: 155 |accuracy: 0.8209648132324219 | f1: 0.8671547174453735 | auc: 0.901836633682251 | treshold: 0.56\n"
     ]
    },
    {
     "name": "stderr",
     "output_type": "stream",
     "text": [
      "train... loss:0.8693712651729584:   3%|██▎                                                                      | 157/5000 [46:19<25:45:50, 19.15s/it]"
     ]
    },
    {
     "name": "stdout",
     "output_type": "stream",
     "text": [
      "Test update: epoch: 156 |accuracy: 0.8220287561416626 | f1: 0.8679299354553223 | auc: 0.9025269150733948 | treshold: 0.54\n"
     ]
    },
    {
     "name": "stderr",
     "output_type": "stream",
     "text": [
      "train... loss:0.8765720427036285:   3%|██▎                                                                      | 158/5000 [46:38<25:34:14, 19.01s/it]"
     ]
    },
    {
     "name": "stdout",
     "output_type": "stream",
     "text": [
      "Test update: epoch: 157 |accuracy: 0.8220287561416626 | f1: 0.8679062128067017 | auc: 0.903274416923523 | treshold: 0.52\n"
     ]
    },
    {
     "name": "stderr",
     "output_type": "stream",
     "text": [
      "train... loss:0.8839197754859924:   3%|██▎                                                                      | 159/5000 [46:55<25:00:21, 18.60s/it]"
     ]
    },
    {
     "name": "stdout",
     "output_type": "stream",
     "text": [
      "Test update: epoch: 158 |accuracy: 0.8232136368751526 | f1: 0.8688727617263794 | auc: 0.9039386510848999 | treshold: 0.5\n"
     ]
    },
    {
     "name": "stderr",
     "output_type": "stream",
     "text": [
      "train... loss:0.8891028165817261:   3%|██▎                                                                      | 160/5000 [47:12<24:21:28, 18.12s/it]"
     ]
    },
    {
     "name": "stdout",
     "output_type": "stream",
     "text": [
      "Test update: epoch: 159 |accuracy: 0.8253657221794128 | f1: 0.8698175549507141 | auc: 0.9043906331062317 | treshold: 0.49\n"
     ]
    },
    {
     "name": "stderr",
     "output_type": "stream",
     "text": [
      "train... loss:0.8441184163093567:   3%|██▍                                                                      | 169/5000 [49:39<21:04:19, 15.70s/it]"
     ]
    },
    {
     "name": "stdout",
     "output_type": "stream",
     "text": [
      "Test update: epoch: 168 |accuracy: 0.822705864906311 | f1: 0.8691835403442383 | auc: 0.9052132368087769 | treshold: 0.39\n"
     ]
    },
    {
     "name": "stderr",
     "output_type": "stream",
     "text": [
      "train... loss:0.8429279327392578:   3%|██▍                                                                      | 170/5000 [49:54<21:03:54, 15.70s/it]"
     ]
    },
    {
     "name": "stdout",
     "output_type": "stream",
     "text": [
      "Test update: epoch: 169 |accuracy: 0.8233345150947571 | f1: 0.8695077300071716 | auc: 0.9056769609451294 | treshold: 0.4\n"
     ]
    },
    {
     "name": "stderr",
     "output_type": "stream",
     "text": [
      "train... loss:0.8443666994571686:   3%|██▍                                                                      | 171/5000 [50:09<20:43:12, 15.45s/it]"
     ]
    },
    {
     "name": "stdout",
     "output_type": "stream",
     "text": [
      "Test update: epoch: 170 |accuracy: 0.8235037922859192 | f1: 0.8697327971458435 | auc: 0.9062436819076538 | treshold: 0.41000000000000003\n"
     ]
    },
    {
     "name": "stderr",
     "output_type": "stream",
     "text": [
      "train... loss:0.849377453327179:   3%|██▌                                                                       | 172/5000 [50:24<20:38:24, 15.39s/it]"
     ]
    },
    {
     "name": "stdout",
     "output_type": "stream",
     "text": [
      "Test update: epoch: 171 |accuracy: 0.8239148855209351 | f1: 0.8700617551803589 | auc: 0.9068602323532104 | treshold: 0.43\n"
     ]
    },
    {
     "name": "stderr",
     "output_type": "stream",
     "text": [
      "train... loss:0.857347846031189:   3%|██▌                                                                       | 173/5000 [50:42<21:37:41, 16.13s/it]"
     ]
    },
    {
     "name": "stdout",
     "output_type": "stream",
     "text": [
      "Test update: epoch: 172 |accuracy: 0.8224156498908997 | f1: 0.8693145513534546 | auc: 0.9074562191963196 | treshold: 0.45\n"
     ]
    },
    {
     "name": "stderr",
     "output_type": "stream",
     "text": [
      "train... loss:0.866584986448288:   3%|██▌                                                                       | 174/5000 [51:03<23:38:07, 17.63s/it]"
     ]
    },
    {
     "name": "stdout",
     "output_type": "stream",
     "text": [
      "Test update: epoch: 173 |accuracy: 0.8233829140663147 | f1: 0.8699012994766235 | auc: 0.9079440236091614 | treshold: 0.49\n"
     ]
    },
    {
     "name": "stderr",
     "output_type": "stream",
     "text": [
      "train... loss:0.8764532804489136:   4%|██▌                                                                      | 175/5000 [51:22<24:04:53, 17.97s/it]"
     ]
    },
    {
     "name": "stdout",
     "output_type": "stream",
     "text": [
      "Test update: epoch: 174 |accuracy: 0.8240599632263184 | f1: 0.8702706694602966 | auc: 0.9082112312316895 | treshold: 0.53\n"
     ]
    },
    {
     "name": "stderr",
     "output_type": "stream",
     "text": [
      "train... loss:0.8837730884552002:   4%|██▌                                                                      | 176/5000 [51:40<24:03:33, 17.95s/it]"
     ]
    },
    {
     "name": "stdout",
     "output_type": "stream",
     "text": [
      "Test update: epoch: 175 |accuracy: 0.824712872505188 | f1: 0.870417058467865 | auc: 0.9082311987876892 | treshold: 0.5700000000000001\n"
     ]
    },
    {
     "name": "stderr",
     "output_type": "stream",
     "text": [
      "train... loss:0.8881133496761322:   4%|██▌                                                                      | 177/5000 [51:57<23:40:29, 17.67s/it]"
     ]
    },
    {
     "name": "stdout",
     "output_type": "stream",
     "text": [
      "Test update: epoch: 176 |accuracy: 0.824737012386322 | f1: 0.8704511523246765 | auc: 0.9080661535263062 | treshold: 0.59\n"
     ]
    },
    {
     "name": "stderr",
     "output_type": "stream",
     "text": [
      "train... loss:0.8361828327178955:   4%|██▋                                                                      | 184/5000 [54:06<24:23:27, 18.23s/it]"
     ]
    },
    {
     "name": "stdout",
     "output_type": "stream",
     "text": [
      "Test update: epoch: 183 |accuracy: 0.826526403427124 | f1: 0.8696015477180481 | auc: 0.9074713587760925 | treshold: 0.5800000000000001\n"
     ]
    },
    {
     "name": "stderr",
     "output_type": "stream",
     "text": [
      "train... loss:0.8354119956493378:   4%|██▋                                                                      | 185/5000 [54:26<25:13:58, 18.87s/it]"
     ]
    },
    {
     "name": "stdout",
     "output_type": "stream",
     "text": [
      "Test update: epoch: 184 |accuracy: 0.8265989422798157 | f1: 0.8702903389930725 | auc: 0.9077997803688049 | treshold: 0.55\n"
     ]
    },
    {
     "name": "stderr",
     "output_type": "stream",
     "text": [
      "train... loss:0.839733362197876:   4%|██▊                                                                       | 186/5000 [54:46<25:22:56, 18.98s/it]"
     ]
    },
    {
     "name": "stdout",
     "output_type": "stream",
     "text": [
      "Test update: epoch: 185 |accuracy: 0.8292830586433411 | f1: 0.8706912398338318 | auc: 0.9081957936286926 | treshold: 0.55\n"
     ]
    },
    {
     "name": "stderr",
     "output_type": "stream",
     "text": [
      "train... loss:0.8480923175811768:   4%|██▋                                                                      | 187/5000 [55:07<26:11:09, 19.59s/it]"
     ]
    },
    {
     "name": "stdout",
     "output_type": "stream",
     "text": [
      "Test update: epoch: 186 |accuracy: 0.8299843072891235 | f1: 0.8710500001907349 | auc: 0.9086072444915771 | treshold: 0.53\n"
     ]
    },
    {
     "name": "stderr",
     "output_type": "stream",
     "text": [
      "train... loss:0.8580993115901947:   4%|██▋                                                                      | 188/5000 [55:23<24:52:13, 18.61s/it]"
     ]
    },
    {
     "name": "stdout",
     "output_type": "stream",
     "text": [
      "Test update: epoch: 187 |accuracy: 0.830105185508728 | f1: 0.8719238638877869 | auc: 0.9089667201042175 | treshold: 0.5\n"
     ]
    },
    {
     "name": "stderr",
     "output_type": "stream",
     "text": [
      "train... loss:0.831017792224884:   4%|██▉                                                                       | 200/5000 [58:39<23:10:53, 17.39s/it]"
     ]
    },
    {
     "name": "stdout",
     "output_type": "stream",
     "text": [
      "Test update: epoch: 199 |accuracy: 0.8293555974960327 | f1: 0.8736233115196228 | auc: 0.9107182621955872 | treshold: 0.39\n"
     ]
    },
    {
     "name": "stderr",
     "output_type": "stream",
     "text": [
      "train... loss:0.8301112949848175:   4%|██▉                                                                      | 201/5000 [58:56<23:01:39, 17.27s/it]"
     ]
    },
    {
     "name": "stdout",
     "output_type": "stream",
     "text": [
      "Test update: epoch: 200 |accuracy: 0.8281707167625427 | f1: 0.8733468651771545 | auc: 0.9112914800643921 | treshold: 0.4\n"
     ]
    },
    {
     "name": "stderr",
     "output_type": "stream",
     "text": [
      "train... loss:0.8325185477733612:   4%|██▉                                                                      | 202/5000 [59:15<23:30:12, 17.63s/it]"
     ]
    },
    {
     "name": "stdout",
     "output_type": "stream",
     "text": [
      "Test update: epoch: 201 |accuracy: 0.8282432556152344 | f1: 0.87356036901474 | auc: 0.91184401512146 | treshold: 0.43\n"
     ]
    },
    {
     "name": "stderr",
     "output_type": "stream",
     "text": [
      "train... loss:0.839055210351944:   4%|███                                                                       | 203/5000 [59:35<24:22:46, 18.30s/it]"
     ]
    },
    {
     "name": "stdout",
     "output_type": "stream",
     "text": [
      "Test update: epoch: 202 |accuracy: 0.8271793127059937 | f1: 0.8732733726501465 | auc: 0.9122849702835083 | treshold: 0.46\n"
     ]
    },
    {
     "name": "stderr",
     "output_type": "stream",
     "text": [
      "train... loss:0.8513786494731903:   4%|██▉                                                                      | 204/5000 [59:55<25:08:10, 18.87s/it]"
     ]
    },
    {
     "name": "stdout",
     "output_type": "stream",
     "text": [
      "Test update: epoch: 203 |accuracy: 0.8265506029129028 | f1: 0.8727807998657227 | auc: 0.9125288128852844 | treshold: 0.51\n"
     ]
    },
    {
     "name": "stderr",
     "output_type": "stream",
     "text": [
      "train... loss:0.8649165332317352:   4%|██▉                                                                    | 205/5000 [1:00:15<25:51:57, 19.42s/it]"
     ]
    },
    {
     "name": "stdout",
     "output_type": "stream",
     "text": [
      "Test update: epoch: 204 |accuracy: 0.8261153697967529 | f1: 0.8725429177284241 | auc: 0.9125288128852844 | treshold: 0.55\n"
     ]
    },
    {
     "name": "stderr",
     "output_type": "stream",
     "text": [
      "train... loss:0.8376952111721039:   4%|███                                                                    | 214/5000 [1:03:26<28:02:21, 21.09s/it]"
     ]
    },
    {
     "name": "stdout",
     "output_type": "stream",
     "text": [
      "Test update: epoch: 213 |accuracy: 0.8291621208190918 | f1: 0.8724015355110168 | auc: 0.9111179709434509 | treshold: 0.6\n"
     ]
    },
    {
     "name": "stderr",
     "output_type": "stream",
     "text": [
      "train... loss:0.8334027230739594:   4%|███                                                                    | 215/5000 [1:03:48<28:29:34, 21.44s/it]"
     ]
    },
    {
     "name": "stdout",
     "output_type": "stream",
     "text": [
      "Test update: epoch: 214 |accuracy: 0.8296940922737122 | f1: 0.8725502490997314 | auc: 0.9113414883613586 | treshold: 0.5800000000000001\n"
     ]
    },
    {
     "name": "stderr",
     "output_type": "stream",
     "text": [
      "train... loss:0.8332352042198181:   4%|███                                                                    | 216/5000 [1:04:11<28:52:22, 21.73s/it]"
     ]
    },
    {
     "name": "stdout",
     "output_type": "stream",
     "text": [
      "Test update: epoch: 215 |accuracy: 0.8315560221672058 | f1: 0.8728368282318115 | auc: 0.9116211533546448 | treshold: 0.5700000000000001\n"
     ]
    },
    {
     "name": "stderr",
     "output_type": "stream",
     "text": [
      "train... loss:0.8371662795543671:   4%|███                                                                    | 217/5000 [1:04:32<28:45:00, 21.64s/it]"
     ]
    },
    {
     "name": "stdout",
     "output_type": "stream",
     "text": [
      "Test update: epoch: 216 |accuracy: 0.8310965895652771 | f1: 0.8729515075683594 | auc: 0.9119307994842529 | treshold: 0.54\n"
     ]
    },
    {
     "name": "stderr",
     "output_type": "stream",
     "text": [
      "train... loss:0.8436224460601807:   4%|███                                                                    | 218/5000 [1:04:53<28:28:55, 21.44s/it]"
     ]
    },
    {
     "name": "stdout",
     "output_type": "stream",
     "text": [
      "Test update: epoch: 217 |accuracy: 0.8315560221672058 | f1: 0.8730037212371826 | auc: 0.9122084975242615 | treshold: 0.52\n"
     ]
    },
    {
     "name": "stderr",
     "output_type": "stream",
     "text": [
      "train... loss:0.8503575623035431:   4%|███                                                                    | 219/5000 [1:05:13<27:57:41, 21.05s/it]"
     ]
    },
    {
     "name": "stdout",
     "output_type": "stream",
     "text": [
      "Test update: epoch: 218 |accuracy: 0.8326683640480042 | f1: 0.8736349940299988 | auc: 0.9123899936676025 | treshold: 0.5\n"
     ]
    },
    {
     "name": "stderr",
     "output_type": "stream",
     "text": [
      "train... loss:0.8228108882904053:   5%|███▎                                                                   | 231/5000 [1:08:59<25:50:08, 19.50s/it]"
     ]
    },
    {
     "name": "stdout",
     "output_type": "stream",
     "text": [
      "Test update: epoch: 230 |accuracy: 0.8321847319602966 | f1: 0.875680685043335 | auc: 0.9141855835914612 | treshold: 0.39\n"
     ]
    },
    {
     "name": "stderr",
     "output_type": "stream",
     "text": [
      "train... loss:0.8233308494091034:   5%|███▎                                                                   | 232/5000 [1:09:20<26:06:27, 19.71s/it]"
     ]
    },
    {
     "name": "stdout",
     "output_type": "stream",
     "text": [
      "Test update: epoch: 231 |accuracy: 0.8310482501983643 | f1: 0.875278890132904 | auc: 0.9147427082061768 | treshold: 0.41000000000000003\n"
     ]
    },
    {
     "name": "stderr",
     "output_type": "stream",
     "text": [
      "train... loss:0.828074038028717:   5%|███▎                                                                    | 233/5000 [1:09:40<26:26:04, 19.96s/it]"
     ]
    },
    {
     "name": "stdout",
     "output_type": "stream",
     "text": [
      "Test update: epoch: 232 |accuracy: 0.831290066242218 | f1: 0.8755107522010803 | auc: 0.9152544736862183 | treshold: 0.45\n"
     ]
    },
    {
     "name": "stderr",
     "output_type": "stream",
     "text": [
      "train... loss:0.8358600437641144:   5%|███▎                                                                   | 234/5000 [1:10:02<27:09:47, 20.52s/it]"
     ]
    },
    {
     "name": "stdout",
     "output_type": "stream",
     "text": [
      "Test update: epoch: 233 |accuracy: 0.831314206123352 | f1: 0.8757215142250061 | auc: 0.9156399965286255 | treshold: 0.49\n"
     ]
    },
    {
     "name": "stderr",
     "output_type": "stream",
     "text": [
      "train... loss:0.847327709197998:   5%|███▍                                                                    | 235/5000 [1:10:23<27:20:52, 20.66s/it]"
     ]
    },
    {
     "name": "stdout",
     "output_type": "stream",
     "text": [
      "Test update: epoch: 234 |accuracy: 0.8301535248756409 | f1: 0.875399112701416 | auc: 0.9158890843391418 | treshold: 0.52\n"
     ]
    },
    {
     "name": "stderr",
     "output_type": "stream",
     "text": [
      "train... loss:0.8580629229545593:   5%|███▎                                                                   | 236/5000 [1:10:45<27:43:24, 20.95s/it]"
     ]
    },
    {
     "name": "stdout",
     "output_type": "stream",
     "text": [
      "Test update: epoch: 235 |accuracy: 0.8317010998725891 | f1: 0.8761036992073059 | auc: 0.9160093069076538 | treshold: 0.5700000000000001\n"
     ]
    },
    {
     "name": "stderr",
     "output_type": "stream",
     "text": [
      "train... loss:0.8665876090526581:   5%|███▎                                                                   | 237/5000 [1:11:07<28:04:57, 21.23s/it]"
     ]
    },
    {
     "name": "stdout",
     "output_type": "stream",
     "text": [
      "Test update: epoch: 236 |accuracy: 0.8347479104995728 | f1: 0.8771482110023499 | auc: 0.9160505533218384 | treshold: 0.63\n"
     ]
    },
    {
     "name": "stderr",
     "output_type": "stream",
     "text": [
      "train... loss:0.8693079054355621:   5%|███▍                                                                   | 238/5000 [1:11:29<28:24:24, 21.48s/it]"
     ]
    },
    {
     "name": "stdout",
     "output_type": "stream",
     "text": [
      "Test update: epoch: 237 |accuracy: 0.8345302939414978 | f1: 0.8771608471870422 | auc: 0.9160510301589966 | treshold: 0.64\n"
     ]
    },
    {
     "name": "stderr",
     "output_type": "stream",
     "text": [
      "train... loss:0.8668073415756226:   5%|███▍                                                                   | 239/5000 [1:11:50<28:22:33, 21.46s/it]"
     ]
    },
    {
     "name": "stdout",
     "output_type": "stream",
     "text": [
      "Test update: epoch: 238 |accuracy: 0.8363438248634338 | f1: 0.8778163194656372 | auc: 0.9160439968109131 | treshold: 0.66\n"
     ]
    },
    {
     "name": "stderr",
     "output_type": "stream",
     "text": [
      "train... loss:0.8596580624580383:   5%|███▍                                                                   | 240/5000 [1:12:10<27:36:46, 20.88s/it]"
     ]
    },
    {
     "name": "stdout",
     "output_type": "stream",
     "text": [
      "Test update: epoch: 239 |accuracy: 0.8359811305999756 | f1: 0.8778212070465088 | auc: 0.9160466194152832 | treshold: 0.65\n"
     ]
    },
    {
     "name": "stderr",
     "output_type": "stream",
     "text": [
      "train... loss:0.8501764833927155:   5%|███▍                                                                   | 241/5000 [1:12:29<27:06:47, 20.51s/it]"
     ]
    },
    {
     "name": "stdout",
     "output_type": "stream",
     "text": [
      "Test update: epoch: 240 |accuracy: 0.8369725346565247 | f1: 0.8775384426116943 | auc: 0.9160598516464233 | treshold: 0.66\n"
     ]
    },
    {
     "name": "stderr",
     "output_type": "stream",
     "text": [
      "train... loss:0.8402056396007538:   5%|███▍                                                                   | 242/5000 [1:12:52<28:10:37, 21.32s/it]"
     ]
    },
    {
     "name": "stdout",
     "output_type": "stream",
     "text": [
      "Test update: epoch: 241 |accuracy: 0.836875855922699 | f1: 0.877718985080719 | auc: 0.9160709381103516 | treshold: 0.64\n"
     ]
    },
    {
     "name": "stderr",
     "output_type": "stream",
     "text": [
      "train... loss:0.8303392827510834:   5%|███▍                                                                   | 243/5000 [1:13:14<28:07:55, 21.29s/it]"
     ]
    },
    {
     "name": "stdout",
     "output_type": "stream",
     "text": [
      "Test update: epoch: 242 |accuracy: 0.8373594284057617 | f1: 0.8774996995925903 | auc: 0.916067361831665 | treshold: 0.63\n"
     ]
    },
    {
     "name": "stderr",
     "output_type": "stream",
     "text": [
      "train... loss:0.8239375948905945:   5%|███▍                                                                   | 244/5000 [1:13:34<27:57:01, 21.16s/it]"
     ]
    },
    {
     "name": "stdout",
     "output_type": "stream",
     "text": [
      "Test update: epoch: 243 |accuracy: 0.837117612361908 | f1: 0.8771789073944092 | auc: 0.9160240888595581 | treshold: 0.61\n"
     ]
    },
    {
     "name": "stderr",
     "output_type": "stream",
     "text": [
      "train... loss:0.8210149705410004:   5%|███▍                                                                   | 245/5000 [1:13:54<27:23:55, 20.74s/it]"
     ]
    },
    {
     "name": "stdout",
     "output_type": "stream",
     "text": [
      "Test update: epoch: 244 |accuracy: 0.8367791175842285 | f1: 0.8773128986358643 | auc: 0.9159231781959534 | treshold: 0.5800000000000001\n"
     ]
    },
    {
     "name": "stderr",
     "output_type": "stream",
     "text": [
      "train... loss:0.8133311569690704:   5%|███▋                                                                   | 261/5000 [1:19:06<25:30:00, 19.37s/it]"
     ]
    },
    {
     "name": "stdout",
     "output_type": "stream",
     "text": [
      "Test update: epoch: 260 |accuracy: 0.8328617811203003 | f1: 0.8759689927101135 | auc: 0.9159829616546631 | treshold: 0.4\n"
     ]
    },
    {
     "name": "stderr",
     "output_type": "stream",
     "text": [
      "train... loss:0.8150133192539215:   5%|███▋                                                                   | 262/5000 [1:19:27<26:12:11, 19.91s/it]"
     ]
    },
    {
     "name": "stdout",
     "output_type": "stream",
     "text": [
      "Test update: epoch: 261 |accuracy: 0.8330069184303284 | f1: 0.8762498497962952 | auc: 0.916698157787323 | treshold: 0.43\n"
     ]
    },
    {
     "name": "stderr",
     "output_type": "stream",
     "text": [
      "train... loss:0.8207099139690399:   5%|███▋                                                                   | 263/5000 [1:19:49<26:47:59, 20.37s/it]"
     ]
    },
    {
     "name": "stdout",
     "output_type": "stream",
     "text": [
      "Test update: epoch: 262 |accuracy: 0.8344577550888062 | f1: 0.8771268725395203 | auc: 0.9173327088356018 | treshold: 0.48000000000000004\n"
     ]
    },
    {
     "name": "stderr",
     "output_type": "stream",
     "text": [
      "train... loss:0.8287864923477173:   5%|███▋                                                                   | 264/5000 [1:20:10<27:00:38, 20.53s/it]"
     ]
    },
    {
     "name": "stdout",
     "output_type": "stream",
     "text": [
      "Test update: epoch: 263 |accuracy: 0.835086464881897 | f1: 0.8778215646743774 | auc: 0.9178303480148315 | treshold: 0.52\n"
     ]
    },
    {
     "name": "stderr",
     "output_type": "stream",
     "text": [
      "train... loss:0.8398241996765137:   5%|███▊                                                                   | 265/5000 [1:20:32<27:33:13, 20.95s/it]"
     ]
    },
    {
     "name": "stdout",
     "output_type": "stream",
     "text": [
      "Test update: epoch: 264 |accuracy: 0.8365615010261536 | f1: 0.8783280253410339 | auc: 0.9181604385375977 | treshold: 0.5800000000000001\n"
     ]
    },
    {
     "name": "stderr",
     "output_type": "stream",
     "text": [
      "train... loss:0.8492011427879333:   5%|███▊                                                                   | 266/5000 [1:20:54<28:16:48, 21.51s/it]"
     ]
    },
    {
     "name": "stdout",
     "output_type": "stream",
     "text": [
      "Test update: epoch: 265 |accuracy: 0.8366823792457581 | f1: 0.8788389563560486 | auc: 0.9183578491210938 | treshold: 0.6\n"
     ]
    },
    {
     "name": "stderr",
     "output_type": "stream",
     "text": [
      "train... loss:0.8468603193759918:   5%|███▊                                                                   | 270/5000 [1:22:22<28:30:05, 21.69s/it]"
     ]
    },
    {
     "name": "stdout",
     "output_type": "stream",
     "text": [
      "Test update: epoch: 269 |accuracy: 0.8392213582992554 | f1: 0.87899249792099 | auc: 0.9187889099121094 | treshold: 0.67\n"
     ]
    },
    {
     "name": "stderr",
     "output_type": "stream",
     "text": [
      "train... loss:0.8367064595222473:   5%|███▊                                                                   | 271/5000 [1:22:44<28:30:11, 21.70s/it]"
     ]
    },
    {
     "name": "stdout",
     "output_type": "stream",
     "text": [
      "Test update: epoch: 270 |accuracy: 0.8394631743431091 | f1: 0.8790335655212402 | auc: 0.9189426898956299 | treshold: 0.66\n"
     ]
    },
    {
     "name": "stderr",
     "output_type": "stream",
     "text": [
      "train... loss:0.8276247084140778:   5%|███▊                                                                   | 272/5000 [1:23:06<28:43:39, 21.87s/it]"
     ]
    },
    {
     "name": "stdout",
     "output_type": "stream",
     "text": [
      "Test update: epoch: 271 |accuracy: 0.8390520811080933 | f1: 0.8789069652557373 | auc: 0.9191173911094666 | treshold: 0.64\n"
     ]
    },
    {
     "name": "stderr",
     "output_type": "stream",
     "text": [
      "train... loss:0.8191893398761749:   5%|███▉                                                                   | 273/5000 [1:23:28<28:47:37, 21.93s/it]"
     ]
    },
    {
     "name": "stdout",
     "output_type": "stream",
     "text": [
      "Test update: epoch: 272 |accuracy: 0.8387861251831055 | f1: 0.8787575960159302 | auc: 0.9192968010902405 | treshold: 0.62\n"
     ]
    },
    {
     "name": "stderr",
     "output_type": "stream",
     "text": [
      "train... loss:0.8142694234848022:   5%|███▉                                                                   | 274/5000 [1:23:50<28:42:33, 21.87s/it]"
     ]
    },
    {
     "name": "stdout",
     "output_type": "stream",
     "text": [
      "Test update: epoch: 273 |accuracy: 0.8401160836219788 | f1: 0.8790428638458252 | auc: 0.9194651246070862 | treshold: 0.61\n"
     ]
    },
    {
     "name": "stderr",
     "output_type": "stream",
     "text": [
      "train... loss:0.8134748339653015:   6%|███▉                                                                   | 275/5000 [1:24:14<29:27:42, 22.45s/it]"
     ]
    },
    {
     "name": "stdout",
     "output_type": "stream",
     "text": [
      "Test update: epoch: 274 |accuracy: 0.8400435447692871 | f1: 0.8793653845787048 | auc: 0.9195942878723145 | treshold: 0.5800000000000001\n"
     ]
    },
    {
     "name": "stderr",
     "output_type": "stream",
     "text": [
      "train... loss:0.8172514736652374:   6%|███▉                                                                   | 276/5000 [1:24:35<29:01:32, 22.12s/it]"
     ]
    },
    {
     "name": "stdout",
     "output_type": "stream",
     "text": [
      "Test update: epoch: 275 |accuracy: 0.840696394443512 | f1: 0.8795832395553589 | auc: 0.919650673866272 | treshold: 0.56\n"
     ]
    },
    {
     "name": "stderr",
     "output_type": "stream",
     "text": [
      "train... loss:0.8243213593959808:   6%|███▉                                                                   | 277/5000 [1:24:54<27:59:41, 21.34s/it]"
     ]
    },
    {
     "name": "stdout",
     "output_type": "stream",
     "text": [
      "Test update: epoch: 276 |accuracy: 0.8399468064308167 | f1: 0.8794726729393005 | auc: 0.9195881485939026 | treshold: 0.53\n"
     ]
    },
    {
     "name": "stderr",
     "output_type": "stream",
     "text": [
      "train... loss:0.8441714942455292:   6%|████▎                                                                   | 298/5000 [1:28:11<7:50:48,  6.01s/it]"
     ]
    },
    {
     "name": "stdout",
     "output_type": "stream",
     "text": [
      "Test update: epoch: 297 |accuracy: 0.8394873738288879 | f1: 0.8791728615760803 | auc: 0.9194900989532471 | treshold: 0.66\n"
     ]
    },
    {
     "name": "stderr",
     "output_type": "stream",
     "text": [
      "train... loss:0.8377719819545746:   6%|████▎                                                                   | 299/5000 [1:28:18<7:57:42,  6.10s/it]"
     ]
    },
    {
     "name": "stdout",
     "output_type": "stream",
     "text": [
      "Test update: epoch: 298 |accuracy: 0.839269757270813 | f1: 0.8792486190795898 | auc: 0.9196478128433228 | treshold: 0.65\n"
     ]
    },
    {
     "name": "stderr",
     "output_type": "stream",
     "text": [
      "train... loss:0.8285146951675415:   6%|████▎                                                                   | 300/5000 [1:28:24<8:01:08,  6.14s/it]"
     ]
    },
    {
     "name": "stdout",
     "output_type": "stream",
     "text": [
      "Test update: epoch: 299 |accuracy: 0.8402369618415833 | f1: 0.8794893026351929 | auc: 0.9198262691497803 | treshold: 0.65\n"
     ]
    },
    {
     "name": "stderr",
     "output_type": "stream",
     "text": [
      "train... loss:0.8191259205341339:   6%|████▎                                                                   | 301/5000 [1:28:30<8:00:29,  6.14s/it]"
     ]
    },
    {
     "name": "stdout",
     "output_type": "stream",
     "text": [
      "Test update: epoch: 300 |accuracy: 0.8408656716346741 | f1: 0.8797397613525391 | auc: 0.9200195074081421 | treshold: 0.64\n"
     ]
    },
    {
     "name": "stderr",
     "output_type": "stream",
     "text": [
      "train... loss:0.8107978701591492:   6%|████▎                                                                   | 302/5000 [1:28:36<7:58:58,  6.12s/it]"
     ]
    },
    {
     "name": "stdout",
     "output_type": "stream",
     "text": [
      "Test update: epoch: 301 |accuracy: 0.8410107493400574 | f1: 0.8799064755439758 | auc: 0.9202302694320679 | treshold: 0.62\n"
     ]
    },
    {
     "name": "stderr",
     "output_type": "stream",
     "text": [
      "train... loss:0.8052143156528473:   6%|████▎                                                                   | 303/5000 [1:28:42<7:56:10,  6.08s/it]"
     ]
    },
    {
     "name": "stdout",
     "output_type": "stream",
     "text": [
      "Test update: epoch: 302 |accuracy: 0.8401402235031128 | f1: 0.8798240423202515 | auc: 0.9204437136650085 | treshold: 0.59\n"
     ]
    },
    {
     "name": "stderr",
     "output_type": "stream",
     "text": [
      "train... loss:0.8034174740314484:   6%|████▍                                                                   | 304/5000 [1:28:48<7:56:31,  6.09s/it]"
     ]
    },
    {
     "name": "stdout",
     "output_type": "stream",
     "text": [
      "Test update: epoch: 303 |accuracy: 0.8411316871643066 | f1: 0.8798815011978149 | auc: 0.9206440448760986 | treshold: 0.5800000000000001\n"
     ]
    },
    {
     "name": "stderr",
     "output_type": "stream",
     "text": [
      "train... loss:0.8059399127960205:   6%|████▍                                                                   | 305/5000 [1:28:54<7:55:14,  6.07s/it]"
     ]
    },
    {
     "name": "stdout",
     "output_type": "stream",
     "text": [
      "Test update: epoch: 304 |accuracy: 0.841687798500061 | f1: 0.8801157474517822 | auc: 0.9207951426506042 | treshold: 0.56\n"
     ]
    },
    {
     "name": "stderr",
     "output_type": "stream",
     "text": [
      "train... loss:0.8130144774913788:   6%|████▍                                                                   | 306/5000 [1:29:00<7:53:07,  6.05s/it]"
     ]
    },
    {
     "name": "stdout",
     "output_type": "stream",
     "text": [
      "Test update: epoch: 305 |accuracy: 0.8414943814277649 | f1: 0.8797622919082642 | auc: 0.9208654761314392 | treshold: 0.54\n"
     ]
    },
    {
     "name": "stderr",
     "output_type": "stream",
     "text": [
      "train... loss:0.8218072056770325:   6%|████▍                                                                   | 307/5000 [1:29:06<7:52:11,  6.04s/it]"
     ]
    },
    {
     "name": "stdout",
     "output_type": "stream",
     "text": [
      "Test update: epoch: 306 |accuracy: 0.8408173322677612 | f1: 0.8798569440841675 | auc: 0.920804500579834 | treshold: 0.51\n"
     ]
    },
    {
     "name": "stderr",
     "output_type": "stream",
     "text": [
      "train... loss:0.7975560128688812:   6%|████▌                                                                   | 320/5000 [1:30:18<7:19:08,  5.63s/it]"
     ]
    },
    {
     "name": "stdout",
     "output_type": "stream",
     "text": [
      "Test update: epoch: 319 |accuracy: 0.8375529050827026 | f1: 0.8792247772216797 | auc: 0.9205092191696167 | treshold: 0.42000000000000004\n"
     ]
    },
    {
     "name": "stderr",
     "output_type": "stream",
     "text": [
      "train... loss:0.8002020120620728:   6%|████▌                                                                   | 321/5000 [1:30:24<7:29:42,  5.77s/it]"
     ]
    },
    {
     "name": "stdout",
     "output_type": "stream",
     "text": [
      "Test update: epoch: 320 |accuracy: 0.8373836278915405 | f1: 0.8792704343795776 | auc: 0.9208098649978638 | treshold: 0.45\n"
     ]
    },
    {
     "name": "stderr",
     "output_type": "stream",
     "text": [
      "train... loss:0.8057364523410797:   6%|████▋                                                                   | 322/5000 [1:30:30<7:37:40,  5.87s/it]"
     ]
    },
    {
     "name": "stdout",
     "output_type": "stream",
     "text": [
      "Test update: epoch: 321 |accuracy: 0.8376737833023071 | f1: 0.8795161247253418 | auc: 0.9210087656974792 | treshold: 0.49\n"
     ]
    },
    {
     "name": "stderr",
     "output_type": "stream",
     "text": [
      "train... loss:0.8194479942321777:   7%|████▊                                                                   | 337/5000 [1:31:54<7:21:50,  5.69s/it]"
     ]
    },
    {
     "name": "stdout",
     "output_type": "stream",
     "text": [
      "Test update: epoch: 336 |accuracy: 0.8426308631896973 | f1: 0.8801693916320801 | auc: 0.9209774136543274 | treshold: 0.51\n"
     ]
    },
    {
     "name": "stderr",
     "output_type": "stream",
     "text": [
      "train... loss:0.8247212469577789:   7%|████▊                                                                   | 338/5000 [1:32:00<7:31:30,  5.81s/it]"
     ]
    },
    {
     "name": "stdout",
     "output_type": "stream",
     "text": [
      "Test update: epoch: 337 |accuracy: 0.8418329358100891 | f1: 0.8802124261856079 | auc: 0.9210305213928223 | treshold: 0.48000000000000004\n"
     ]
    },
    {
     "name": "stderr",
     "output_type": "stream",
     "text": [
      "train... loss:0.8036523163318634:   7%|█████                                                                   | 351/5000 [1:33:13<7:20:02,  5.68s/it]"
     ]
    },
    {
     "name": "stdout",
     "output_type": "stream",
     "text": [
      "Test update: epoch: 350 |accuracy: 0.8395841121673584 | f1: 0.8803908824920654 | auc: 0.9216197729110718 | treshold: 0.49\n"
     ]
    },
    {
     "name": "stderr",
     "output_type": "stream",
     "text": [
      "train... loss:0.8104525804519653:   7%|█████                                                                   | 352/5000 [1:33:19<7:29:10,  5.80s/it]"
     ]
    },
    {
     "name": "stdout",
     "output_type": "stream",
     "text": [
      "Test update: epoch: 351 |accuracy: 0.8390520811080933 | f1: 0.8802662491798401 | auc: 0.9218895435333252 | treshold: 0.52\n"
     ]
    },
    {
     "name": "stderr",
     "output_type": "stream",
     "text": [
      "train... loss:0.8186159431934357:   7%|█████                                                                   | 353/5000 [1:33:25<7:39:54,  5.94s/it]"
     ]
    },
    {
     "name": "stdout",
     "output_type": "stream",
     "text": [
      "Test update: epoch: 352 |accuracy: 0.8413735032081604 | f1: 0.881206750869751 | auc: 0.9220548868179321 | treshold: 0.5800000000000001\n"
     ]
    },
    {
     "name": "stderr",
     "output_type": "stream",
     "text": [
      "train... loss:0.824579268693924:   7%|█████▏                                                                   | 354/5000 [1:33:31<7:43:59,  5.99s/it]"
     ]
    },
    {
     "name": "stdout",
     "output_type": "stream",
     "text": [
      "Test update: epoch: 353 |accuracy: 0.8400676846504211 | f1: 0.8807514905929565 | auc: 0.9221285581588745 | treshold: 0.59\n"
     ]
    },
    {
     "name": "stderr",
     "output_type": "stream",
     "text": [
      "train... loss:0.8049892783164978:   7%|█████▎                                                                  | 365/5000 [1:34:33<7:19:19,  5.69s/it]"
     ]
    },
    {
     "name": "stdout",
     "output_type": "stream",
     "text": [
      "Test update: epoch: 364 |accuracy: 0.8418570756912231 | f1: 0.8801978230476379 | auc: 0.9216803312301636 | treshold: 0.52\n"
     ]
    },
    {
     "name": "stderr",
     "output_type": "stream",
     "text": [
      "train... loss:0.8128334581851959:   7%|█████▎                                                                  | 366/5000 [1:34:39<7:26:48,  5.79s/it]"
     ]
    },
    {
     "name": "stdout",
     "output_type": "stream",
     "text": [
      "Test update: epoch: 365 |accuracy: 0.8409624099731445 | f1: 0.8800452351570129 | auc: 0.9217315912246704 | treshold: 0.49\n"
     ]
    },
    {
     "name": "stderr",
     "output_type": "stream",
     "text": [
      "train... loss:0.8193208277225494:   7%|█████▎                                                                  | 367/5000 [1:34:45<7:31:34,  5.85s/it]"
     ]
    },
    {
     "name": "stdout",
     "output_type": "stream",
     "text": [
      "Test update: epoch: 366 |accuracy: 0.841687798500061 | f1: 0.8798913955688477 | auc: 0.921785831451416 | treshold: 0.48000000000000004\n"
     ]
    },
    {
     "name": "stderr",
     "output_type": "stream",
     "text": [
      "train... loss:0.8229381740093231:   7%|█████▎                                                                  | 368/5000 [1:34:51<7:36:36,  5.91s/it]"
     ]
    },
    {
     "name": "stdout",
     "output_type": "stream",
     "text": [
      "Test update: epoch: 367 |accuracy: 0.8408898711204529 | f1: 0.8800845742225647 | auc: 0.921805202960968 | treshold: 0.45\n"
     ]
    },
    {
     "name": "stderr",
     "output_type": "stream",
     "text": [
      "train... loss:0.8234756290912628:   7%|█████▎                                                                  | 369/5000 [1:34:58<7:42:18,  5.99s/it]"
     ]
    },
    {
     "name": "stdout",
     "output_type": "stream",
     "text": [
      "Test update: epoch: 368 |accuracy: 0.8418087363243103 | f1: 0.8803409337997437 | auc: 0.9218089580535889 | treshold: 0.44\n"
     ]
    },
    {
     "name": "stderr",
     "output_type": "stream",
     "text": [
      "train... loss:0.8214812874794006:   7%|█████▎                                                                  | 370/5000 [1:35:04<7:42:02,  5.99s/it]"
     ]
    },
    {
     "name": "stdout",
     "output_type": "stream",
     "text": [
      "Test update: epoch: 369 |accuracy: 0.8415911197662354 | f1: 0.8805673718452454 | auc: 0.9218080639839172 | treshold: 0.42000000000000004\n"
     ]
    },
    {
     "name": "stderr",
     "output_type": "stream",
     "text": [
      "train... loss:0.8180453479290009:   7%|█████▎                                                                  | 371/5000 [1:35:10<7:41:46,  5.99s/it]"
     ]
    },
    {
     "name": "stdout",
     "output_type": "stream",
     "text": [
      "Test update: epoch: 370 |accuracy: 0.8419780135154724 | f1: 0.8807547092437744 | auc: 0.9218190908432007 | treshold: 0.41000000000000003\n"
     ]
    },
    {
     "name": "stderr",
     "output_type": "stream",
     "text": [
      "train... loss:0.8136298954486847:   7%|█████▎                                                                  | 372/5000 [1:35:16<7:41:09,  5.98s/it]"
     ]
    },
    {
     "name": "stdout",
     "output_type": "stream",
     "text": [
      "Test update: epoch: 371 |accuracy: 0.8424374461174011 | f1: 0.8811729550361633 | auc: 0.9218541383743286 | treshold: 0.4\n"
     ]
    },
    {
     "name": "stderr",
     "output_type": "stream",
     "text": [
      "train... loss:0.8086160719394684:   7%|█████▎                                                                  | 373/5000 [1:35:21<7:38:34,  5.95s/it]"
     ]
    },
    {
     "name": "stdout",
     "output_type": "stream",
     "text": [
      "Test update: epoch: 372 |accuracy: 0.8425099849700928 | f1: 0.881450355052948 | auc: 0.9219173789024353 | treshold: 0.39\n"
     ]
    },
    {
     "name": "stderr",
     "output_type": "stream",
     "text": [
      "train... loss:0.8030826449394226:   7%|█████▍                                                                  | 374/5000 [1:35:27<7:37:51,  5.94s/it]"
     ]
    },
    {
     "name": "stdout",
     "output_type": "stream",
     "text": [
      "Test update: epoch: 373 |accuracy: 0.841446042060852 | f1: 0.8814092874526978 | auc: 0.9220162630081177 | treshold: 0.37\n"
     ]
    },
    {
     "name": "stderr",
     "output_type": "stream",
     "text": [
      "train... loss:0.7980596125125885:   8%|█████▍                                                                  | 375/5000 [1:35:33<7:39:30,  5.96s/it]"
     ]
    },
    {
     "name": "stdout",
     "output_type": "stream",
     "text": [
      "Test update: epoch: 374 |accuracy: 0.8428484797477722 | f1: 0.8817481994628906 | auc: 0.9221503138542175 | treshold: 0.39\n"
     ]
    },
    {
     "name": "stderr",
     "output_type": "stream",
     "text": [
      "train... loss:0.7945006489753723:   8%|█████▍                                                                  | 376/5000 [1:35:40<7:44:53,  6.03s/it]"
     ]
    },
    {
     "name": "stdout",
     "output_type": "stream",
     "text": [
      "Test update: epoch: 375 |accuracy: 0.842268168926239 | f1: 0.8816732168197632 | auc: 0.9223135113716125 | treshold: 0.39\n"
     ]
    },
    {
     "name": "stderr",
     "output_type": "stream",
     "text": [
      "train... loss:0.7915201187133789:   8%|█████▍                                                                  | 377/5000 [1:35:46<7:43:54,  6.02s/it]"
     ]
    },
    {
     "name": "stdout",
     "output_type": "stream",
     "text": [
      "Test update: epoch: 376 |accuracy: 0.8420021533966064 | f1: 0.8817546963691711 | auc: 0.922497570514679 | treshold: 0.4\n"
     ]
    },
    {
     "name": "stderr",
     "output_type": "stream",
     "text": [
      "train... loss:0.7893469631671906:   8%|█████▍                                                                  | 378/5000 [1:35:52<7:44:02,  6.02s/it]"
     ]
    },
    {
     "name": "stdout",
     "output_type": "stream",
     "text": [
      "Test update: epoch: 377 |accuracy: 0.8419538140296936 | f1: 0.881898045539856 | auc: 0.9226875305175781 | treshold: 0.42000000000000004\n"
     ]
    },
    {
     "name": "stderr",
     "output_type": "stream",
     "text": [
      "train... loss:0.7909867465496063:   8%|█████▍                                                                  | 379/5000 [1:35:58<7:43:08,  6.01s/it]"
     ]
    },
    {
     "name": "stdout",
     "output_type": "stream",
     "text": [
      "Test update: epoch: 378 |accuracy: 0.8407205939292908 | f1: 0.8813815712928772 | auc: 0.9228554964065552 | treshold: 0.44\n"
     ]
    },
    {
     "name": "stderr",
     "output_type": "stream",
     "text": [
      "train... loss:0.7963847517967224:   8%|█████▍                                                                  | 380/5000 [1:36:04<7:41:32,  5.99s/it]"
     ]
    },
    {
     "name": "stdout",
     "output_type": "stream",
     "text": [
      "Test update: epoch: 379 |accuracy: 0.8406480550765991 | f1: 0.881530225276947 | auc: 0.9229860901832581 | treshold: 0.47000000000000003\n"
     ]
    },
    {
     "name": "stderr",
     "output_type": "stream",
     "text": [
      "train... loss:0.8063786327838898:   8%|█████▌                                                                  | 388/5000 [1:36:49<7:20:45,  5.73s/it]"
     ]
    },
    {
     "name": "stdout",
     "output_type": "stream",
     "text": [
      "Test update: epoch: 387 |accuracy: 0.8431870341300964 | f1: 0.8827157020568848 | auc: 0.9233230352401733 | treshold: 0.61\n"
     ]
    },
    {
     "name": "stderr",
     "output_type": "stream",
     "text": [
      "train... loss:0.7981632053852081:   8%|█████▌                                                                  | 389/5000 [1:36:55<7:30:27,  5.86s/it]"
     ]
    },
    {
     "name": "stdout",
     "output_type": "stream",
     "text": [
      "Test update: epoch: 388 |accuracy: 0.8437915444374084 | f1: 0.8823872208595276 | auc: 0.923396110534668 | treshold: 0.61\n"
     ]
    },
    {
     "name": "stderr",
     "output_type": "stream",
     "text": [
      "train... loss:0.7926065027713776:   8%|█████▌                                                                  | 390/5000 [1:37:01<7:37:03,  5.95s/it]"
     ]
    },
    {
     "name": "stdout",
     "output_type": "stream",
     "text": [
      "Test update: epoch: 389 |accuracy: 0.8446137309074402 | f1: 0.8826087117195129 | auc: 0.9234544038772583 | treshold: 0.6\n"
     ]
    },
    {
     "name": "stderr",
     "output_type": "stream",
     "text": [
      "train... loss:0.7896367013454437:   8%|█████▋                                                                  | 391/5000 [1:37:07<7:44:52,  6.05s/it]"
     ]
    },
    {
     "name": "stdout",
     "output_type": "stream",
     "text": [
      "Test update: epoch: 390 |accuracy: 0.8450973033905029 | f1: 0.8823637366294861 | auc: 0.923470139503479 | treshold: 0.59\n"
     ]
    },
    {
     "name": "stderr",
     "output_type": "stream",
     "text": [
      "train... loss:0.7895030081272125:   8%|█████▋                                                                  | 392/5000 [1:37:13<7:46:31,  6.07s/it]"
     ]
    },
    {
     "name": "stdout",
     "output_type": "stream",
     "text": [
      "Test update: epoch: 391 |accuracy: 0.845242440700531 | f1: 0.8823053240776062 | auc: 0.923424482345581 | treshold: 0.5700000000000001\n"
     ]
    },
    {
     "name": "stderr",
     "output_type": "stream",
     "text": [
      "train... loss:0.7867052853107452:   8%|█████▊                                                                  | 404/5000 [1:38:20<7:13:08,  5.65s/it]"
     ]
    },
    {
     "name": "stdout",
     "output_type": "stream",
     "text": [
      "Test update: epoch: 403 |accuracy: 0.841663658618927 | f1: 0.881381094455719 | auc: 0.9232127666473389 | treshold: 0.39\n"
     ]
    },
    {
     "name": "stderr",
     "output_type": "stream",
     "text": [
      "train... loss:0.7829417288303375:   8%|█████▊                                                                  | 405/5000 [1:38:26<7:19:25,  5.74s/it]"
     ]
    },
    {
     "name": "stdout",
     "output_type": "stream",
     "text": [
      "Test update: epoch: 404 |accuracy: 0.8418329358100891 | f1: 0.8815529942512512 | auc: 0.9236176013946533 | treshold: 0.4\n"
     ]
    },
    {
     "name": "stderr",
     "output_type": "stream",
     "text": [
      "train... loss:0.7812277376651764:   8%|█████▊                                                                  | 406/5000 [1:38:32<7:25:07,  5.81s/it]"
     ]
    },
    {
     "name": "stdout",
     "output_type": "stream",
     "text": [
      "Test update: epoch: 405 |accuracy: 0.843670666217804 | f1: 0.8825591802597046 | auc: 0.9240115284919739 | treshold: 0.43\n"
     ]
    },
    {
     "name": "stderr",
     "output_type": "stream",
     "text": [
      "train... loss:0.783220648765564:   8%|█████▉                                                                   | 407/5000 [1:38:38<7:30:44,  5.89s/it]"
     ]
    },
    {
     "name": "stdout",
     "output_type": "stream",
     "text": [
      "Test update: epoch: 406 |accuracy: 0.8431386947631836 | f1: 0.8824754953384399 | auc: 0.9243530035018921 | treshold: 0.45\n"
     ]
    },
    {
     "name": "stderr",
     "output_type": "stream",
     "text": [
      "train... loss:0.787535548210144:   8%|█████▉                                                                   | 408/5000 [1:38:44<7:34:59,  5.95s/it]"
     ]
    },
    {
     "name": "stdout",
     "output_type": "stream",
     "text": [
      "Test update: epoch: 407 |accuracy: 0.8431386947631836 | f1: 0.882649838924408 | auc: 0.9245994091033936 | treshold: 0.48000000000000004\n"
     ]
    },
    {
     "name": "stderr",
     "output_type": "stream",
     "text": [
      "train... loss:0.7955028712749481:   8%|█████▉                                                                  | 409/5000 [1:38:50<7:40:30,  6.02s/it]"
     ]
    },
    {
     "name": "stdout",
     "output_type": "stream",
     "text": [
      "Test update: epoch: 408 |accuracy: 0.8443719148635864 | f1: 0.8832662105560303 | auc: 0.9247166514396667 | treshold: 0.53\n"
     ]
    },
    {
     "name": "stderr",
     "output_type": "stream",
     "text": [
      "train... loss:0.778048038482666:   9%|██████▎                                                                  | 435/5000 [1:41:16<7:07:09,  5.61s/it]"
     ]
    },
    {
     "name": "stdout",
     "output_type": "stream",
     "text": [
      "Test update: epoch: 434 |accuracy: 0.8429936170578003 | f1: 0.8827279806137085 | auc: 0.9248375296592712 | treshold: 0.41000000000000003\n"
     ]
    },
    {
     "name": "stderr",
     "output_type": "stream",
     "text": [
      "train... loss:0.7794515788555145:   9%|██████▎                                                                 | 436/5000 [1:41:22<7:16:11,  5.73s/it]"
     ]
    },
    {
     "name": "stdout",
     "output_type": "stream",
     "text": [
      "Test update: epoch: 435 |accuracy: 0.8423890471458435 | f1: 0.8826177716255188 | auc: 0.9250419735908508 | treshold: 0.43\n"
     ]
    },
    {
     "name": "stderr",
     "output_type": "stream",
     "text": [
      "train... loss:0.7827087044715881:   9%|██████▎                                                                 | 437/5000 [1:41:28<7:22:41,  5.82s/it]"
     ]
    },
    {
     "name": "stdout",
     "output_type": "stream",
     "text": [
      "Test update: epoch: 436 |accuracy: 0.8427518010139465 | f1: 0.8831299543380737 | auc: 0.9251923561096191 | treshold: 0.46\n"
     ]
    },
    {
     "name": "stderr",
     "output_type": "stream",
     "text": [
      "train... loss:0.7891598641872406:   9%|██████▎                                                                 | 438/5000 [1:41:34<7:29:58,  5.92s/it]"
     ]
    },
    {
     "name": "stdout",
     "output_type": "stream",
     "text": [
      "Test update: epoch: 437 |accuracy: 0.8418087363243103 | f1: 0.8827808499336243 | auc: 0.925249457359314 | treshold: 0.49\n"
     ]
    },
    {
     "name": "stderr",
     "output_type": "stream",
     "text": [
      "train... loss:0.797942042350769:   9%|██████▍                                                                  | 439/5000 [1:41:40<7:32:52,  5.96s/it]"
     ]
    },
    {
     "name": "stdout",
     "output_type": "stream",
     "text": [
      "Test update: epoch: 438 |accuracy: 0.8434288501739502 | f1: 0.8830826282501221 | auc: 0.9252073764801025 | treshold: 0.56\n"
     ]
    },
    {
     "name": "stderr",
     "output_type": "stream",
     "text": [
      "train... loss:0.7822786271572113:   9%|██████▋                                                                 | 467/5000 [1:44:17<7:15:33,  5.77s/it]"
     ]
    },
    {
     "name": "stdout",
     "output_type": "stream",
     "text": [
      "Test update: epoch: 466 |accuracy: 0.8438157439231873 | f1: 0.8840207457542419 | auc: 0.9261152744293213 | treshold: 0.5\n"
     ]
    },
    {
     "name": "stderr",
     "output_type": "stream",
     "text": [
      "train... loss:0.788883626461029:   9%|██████▊                                                                  | 468/5000 [1:44:23<7:24:03,  5.88s/it]"
     ]
    },
    {
     "name": "stdout",
     "output_type": "stream",
     "text": [
      "Test update: epoch: 467 |accuracy: 0.8448071479797363 | f1: 0.884372889995575 | auc: 0.9260711669921875 | treshold: 0.55\n"
     ]
    },
    {
     "name": "stderr",
     "output_type": "stream",
     "text": [
      "train... loss:0.7948885262012482:   9%|██████▊                                                                 | 469/5000 [1:44:29<7:25:38,  5.90s/it]"
     ]
    },
    {
     "name": "stdout",
     "output_type": "stream",
     "text": [
      "Test update: epoch: 468 |accuracy: 0.8458952903747559 | f1: 0.8844654560089111 | auc: 0.9259463548660278 | treshold: 0.6\n"
     ]
    },
    {
     "name": "stderr",
     "output_type": "stream",
     "text": [
      "train... loss:0.7994577288627625:   9%|██████▊                                                                 | 470/5000 [1:44:35<7:28:42,  5.94s/it]"
     ]
    },
    {
     "name": "stdout",
     "output_type": "stream",
     "text": [
      "Test update: epoch: 469 |accuracy: 0.8460887670516968 | f1: 0.8846356272697449 | auc: 0.9257833957672119 | treshold: 0.62\n"
     ]
    },
    {
     "name": "stderr",
     "output_type": "stream",
     "text": [
      "train... loss:0.8011761009693146:   9%|██████▊                                                                 | 472/5000 [1:44:47<7:29:15,  5.95s/it]"
     ]
    },
    {
     "name": "stdout",
     "output_type": "stream",
     "text": [
      "Test update: epoch: 471 |accuracy: 0.8465965390205383 | f1: 0.8842546939849854 | auc: 0.9254688024520874 | treshold: 0.65\n"
     ]
    },
    {
     "name": "stderr",
     "output_type": "stream",
     "text": [
      "train... loss:0.7973195612430573:   9%|██████▊                                                                 | 473/5000 [1:44:53<7:34:23,  6.02s/it]"
     ]
    },
    {
     "name": "stdout",
     "output_type": "stream",
     "text": [
      "Test update: epoch: 472 |accuracy: 0.8465723395347595 | f1: 0.8839505910873413 | auc: 0.9253780841827393 | treshold: 0.65\n"
     ]
    },
    {
     "name": "stderr",
     "output_type": "stream",
     "text": [
      "train... loss:0.7931744754314423:   9%|██████▊                                                                 | 474/5000 [1:45:00<7:38:04,  6.07s/it]"
     ]
    },
    {
     "name": "stdout",
     "output_type": "stream",
     "text": [
      "Test update: epoch: 473 |accuracy: 0.8471285104751587 | f1: 0.8838337659835815 | auc: 0.9253466725349426 | treshold: 0.65\n"
     ]
    },
    {
     "name": "stderr",
     "output_type": "stream",
     "text": [
      "train... loss:0.7872727811336517:  10%|██████▊                                                                 | 475/5000 [1:45:06<7:39:33,  6.09s/it]"
     ]
    },
    {
     "name": "stdout",
     "output_type": "stream",
     "text": [
      "Test update: epoch: 474 |accuracy: 0.847660481929779 | f1: 0.8839094638824463 | auc: 0.9253718256950378 | treshold: 0.64\n"
     ]
    },
    {
     "name": "stderr",
     "output_type": "stream",
     "text": [
      "train... loss:0.7832219004631042:  10%|██████▊                                                                 | 476/5000 [1:45:12<7:41:35,  6.12s/it]"
     ]
    },
    {
     "name": "stdout",
     "output_type": "stream",
     "text": [
      "Test update: epoch: 475 |accuracy: 0.8469350934028625 | f1: 0.8839468955993652 | auc: 0.9254540801048279 | treshold: 0.61\n"
     ]
    },
    {
     "name": "stderr",
     "output_type": "stream",
     "text": [
      "train... loss:0.7810205519199371:  10%|██████▊                                                                 | 477/5000 [1:45:18<7:38:42,  6.08s/it]"
     ]
    },
    {
     "name": "stdout",
     "output_type": "stream",
     "text": [
      "Test update: epoch: 476 |accuracy: 0.8472010493278503 | f1: 0.8840358853340149 | auc: 0.9255754947662354 | treshold: 0.59\n"
     ]
    },
    {
     "name": "stderr",
     "output_type": "stream",
     "text": [
      "train... loss:0.7813241183757782:  10%|██████▉                                                                 | 478/5000 [1:45:24<7:38:36,  6.09s/it]"
     ]
    },
    {
     "name": "stdout",
     "output_type": "stream",
     "text": [
      "Test update: epoch: 477 |accuracy: 0.8475396037101746 | f1: 0.8840886354446411 | auc: 0.92569500207901 | treshold: 0.5700000000000001\n"
     ]
    },
    {
     "name": "stderr",
     "output_type": "stream",
     "text": [
      "train... loss:0.7842077612876892:  10%|██████▉                                                                 | 479/5000 [1:45:30<7:38:34,  6.09s/it]"
     ]
    },
    {
     "name": "stdout",
     "output_type": "stream",
     "text": [
      "Test update: epoch: 478 |accuracy: 0.84785395860672 | f1: 0.8840312361717224 | auc: 0.9257642030715942 | treshold: 0.55\n"
     ]
    },
    {
     "name": "stderr",
     "output_type": "stream",
     "text": [
      "train... loss:0.7774071991443634:  11%|███████▋                                                                | 534/5000 [1:50:37<7:11:57,  5.80s/it]"
     ]
    },
    {
     "name": "stdout",
     "output_type": "stream",
     "text": [
      "Test update: epoch: 533 |accuracy: 0.849425733089447 | f1: 0.8857158422470093 | auc: 0.9264430999755859 | treshold: 0.5700000000000001\n"
     ]
    },
    {
     "name": "stderr",
     "output_type": "stream",
     "text": [
      "train... loss:0.7775799334049225:  11%|███████▋                                                                | 535/5000 [1:50:43<7:20:41,  5.92s/it]"
     ]
    },
    {
     "name": "stdout",
     "output_type": "stream",
     "text": [
      "Test update: epoch: 534 |accuracy: 0.8500060439109802 | f1: 0.8853991627693176 | auc: 0.926487147808075 | treshold: 0.56\n"
     ]
    },
    {
     "name": "stderr",
     "output_type": "stream",
     "text": [
      "train... loss:0.7800611853599548:  11%|███████▋                                                                | 536/5000 [1:50:50<7:23:54,  5.97s/it]"
     ]
    },
    {
     "name": "stdout",
     "output_type": "stream",
     "text": [
      "Test update: epoch: 535 |accuracy: 0.849425733089447 | f1: 0.8852271437644958 | auc: 0.9264563322067261 | treshold: 0.53\n"
     ]
    },
    {
     "name": "stderr",
     "output_type": "stream",
     "text": [
      "train... loss:0.7836567461490631:  11%|███████▋                                                                | 537/5000 [1:50:56<7:29:17,  6.04s/it]"
     ]
    },
    {
     "name": "stdout",
     "output_type": "stream",
     "text": [
      "Test update: epoch: 536 |accuracy: 0.8482650518417358 | f1: 0.8847418427467346 | auc: 0.9262831211090088 | treshold: 0.5\n"
     ]
    },
    {
     "name": "stderr",
     "output_type": "stream",
     "text": [
      "train... loss:0.7906584739685059:  11%|████████▏                                                               | 566/5000 [1:53:38<7:04:15,  5.74s/it]"
     ]
    },
    {
     "name": "stdout",
     "output_type": "stream",
     "text": [
      "Test update: epoch: 565 |accuracy: 0.8505864143371582 | f1: 0.886588454246521 | auc: 0.927381694316864 | treshold: 0.49\n"
     ]
    },
    {
     "name": "stderr",
     "output_type": "stream",
     "text": [
      "train... loss:0.7910636067390442:  11%|████████▏                                                               | 567/5000 [1:53:44<7:10:23,  5.83s/it]"
     ]
    },
    {
     "name": "stdout",
     "output_type": "stream",
     "text": [
      "Test update: epoch: 566 |accuracy: 0.8504896759986877 | f1: 0.8862310647964478 | auc: 0.9272629618644714 | treshold: 0.48000000000000004\n"
     ]
    },
    {
     "name": "stderr",
     "output_type": "stream",
     "text": [
      "train... loss:0.7901451587677002:  11%|████████▏                                                               | 568/5000 [1:53:50<7:16:00,  5.90s/it]"
     ]
    },
    {
     "name": "stdout",
     "output_type": "stream",
     "text": [
      "Test update: epoch: 567 |accuracy: 0.8486277461051941 | f1: 0.8857747316360474 | auc: 0.9270635843276978 | treshold: 0.45\n"
     ]
    },
    {
     "name": "stderr",
     "output_type": "stream",
     "text": [
      "train... loss:0.7851732671260834:  11%|████████                                                               | 569/5000 [1:54:01<14:47:59, 12.02s/it]\n"
     ]
    },
    {
     "name": "stdout",
     "output_type": "stream",
     "text": [
      "\n",
      "Evaluating InSlateAttention with explicit embeddings\n"
     ]
    },
    {
     "name": "stderr",
     "output_type": "stream",
     "text": [
      "\r",
      "train:   0%|                                                                                                                 | 0/5000 [00:00<?, ?it/s]"
     ]
    },
    {
     "name": "stdout",
     "output_type": "stream",
     "text": [
      "Test before learning: {'f1': 0.1916753202676773, 'roc-auc': 0.43619197607040405, 'accuracy': 0.36041590571403503}\n"
     ]
    },
    {
     "name": "stderr",
     "output_type": "stream",
     "text": [
      "train... loss:1.4129711985588074:   0%|                                                                            | 1/5000 [00:05<8:12:10,  5.91s/it]"
     ]
    },
    {
     "name": "stdout",
     "output_type": "stream",
     "text": [
      "Test update: epoch: 0 |accuracy: 0.6443235278129578 | f1: 0.7836943864822388 | auc: 0.5372865796089172 | treshold: 0.41000000000000003\n"
     ]
    },
    {
     "name": "stderr",
     "output_type": "stream",
     "text": [
      "train... loss:1.384290337562561:   0%|                                                                             | 2/5000 [00:11<8:10:30,  5.89s/it]"
     ]
    },
    {
     "name": "stdout",
     "output_type": "stream",
     "text": [
      "Test update: epoch: 1 |accuracy: 0.6474428772926331 | f1: 0.7848097681999207 | auc: 0.6039124131202698 | treshold: 0.44\n"
     ]
    },
    {
     "name": "stderr",
     "output_type": "stream",
     "text": [
      "train... loss:1.3580641746520996:   0%|                                                                            | 3/5000 [00:17<8:09:34,  5.88s/it]"
     ]
    },
    {
     "name": "stdout",
     "output_type": "stream",
     "text": [
      "Test update: epoch: 2 |accuracy: 0.6513843536376953 | f1: 0.7858087420463562 | auc: 0.635175347328186 | treshold: 0.45\n"
     ]
    },
    {
     "name": "stderr",
     "output_type": "stream",
     "text": [
      "train... loss:1.3333550095558167:   0%|                                                                            | 4/5000 [00:23<8:06:30,  5.84s/it]"
     ]
    },
    {
     "name": "stdout",
     "output_type": "stream",
     "text": [
      "Test update: epoch: 3 |accuracy: 0.6530044674873352 | f1: 0.7859614491462708 | auc: 0.6509190797805786 | treshold: 0.45\n"
     ]
    },
    {
     "name": "stderr",
     "output_type": "stream",
     "text": [
      "train... loss:1.3092270493507385:   0%|                                                                            | 5/5000 [00:29<8:06:01,  5.84s/it]"
     ]
    },
    {
     "name": "stdout",
     "output_type": "stream",
     "text": [
      "Test update: epoch: 4 |accuracy: 0.6568734049797058 | f1: 0.7858307361602783 | auc: 0.660609781742096 | treshold: 0.46\n"
     ]
    },
    {
     "name": "stderr",
     "output_type": "stream",
     "text": [
      "train... loss:1.2863184213638306:   0%|                                                                            | 6/5000 [00:35<8:09:17,  5.88s/it]"
     ]
    },
    {
     "name": "stdout",
     "output_type": "stream",
     "text": [
      "Test update: epoch: 5 |accuracy: 0.6582759022712708 | f1: 0.7859825491905212 | auc: 0.6679484844207764 | treshold: 0.46\n"
     ]
    },
    {
     "name": "stderr",
     "output_type": "stream",
     "text": [
      "train... loss:1.2648512125015259:   0%|                                                                            | 7/5000 [00:41<8:14:33,  5.94s/it]"
     ]
    },
    {
     "name": "stdout",
     "output_type": "stream",
     "text": [
      "Test update: epoch: 6 |accuracy: 0.6593882441520691 | f1: 0.7861739993095398 | auc: 0.6745595335960388 | treshold: 0.46\n"
     ]
    },
    {
     "name": "stderr",
     "output_type": "stream",
     "text": [
      "train... loss:1.2465699911117554:   0%|                                                                            | 8/5000 [00:47<8:16:47,  5.97s/it]"
     ]
    },
    {
     "name": "stdout",
     "output_type": "stream",
     "text": [
      "Test update: epoch: 7 |accuracy: 0.6617821455001831 | f1: 0.7872278690338135 | auc: 0.6811602115631104 | treshold: 0.46\n"
     ]
    },
    {
     "name": "stderr",
     "output_type": "stream",
     "text": [
      "train... loss:1.2322320342063904:   0%|▏                                                                           | 9/5000 [00:53<8:19:18,  6.00s/it]"
     ]
    },
    {
     "name": "stdout",
     "output_type": "stream",
     "text": [
      "Test update: epoch: 8 |accuracy: 0.6645145416259766 | f1: 0.7884738445281982 | auc: 0.6880161762237549 | treshold: 0.46\n"
     ]
    },
    {
     "name": "stderr",
     "output_type": "stream",
     "text": [
      "train... loss:1.224748134613037:   0%|▏                                                                           | 10/5000 [00:59<8:25:42,  6.08s/it]"
     ]
    },
    {
     "name": "stdout",
     "output_type": "stream",
     "text": [
      "Test update: epoch: 9 |accuracy: 0.6682868003845215 | f1: 0.7893168926239014 | auc: 0.695224404335022 | treshold: 0.47000000000000003\n"
     ]
    },
    {
     "name": "stderr",
     "output_type": "stream",
     "text": [
      "train... loss:1.225709319114685:   0%|▏                                                                           | 11/5000 [01:06<8:35:09,  6.20s/it]"
     ]
    },
    {
     "name": "stdout",
     "output_type": "stream",
     "text": [
      "Test update: epoch: 10 |accuracy: 0.6714544892311096 | f1: 0.7906826138496399 | auc: 0.7029545307159424 | treshold: 0.47000000000000003\n"
     ]
    },
    {
     "name": "stderr",
     "output_type": "stream",
     "text": [
      "train... loss:1.2319691181182861:   0%|▏                                                                          | 12/5000 [01:12<8:39:30,  6.25s/it]"
     ]
    },
    {
     "name": "stdout",
     "output_type": "stream",
     "text": [
      "Test update: epoch: 11 |accuracy: 0.6774029731750488 | f1: 0.7915501594543457 | auc: 0.7112820744514465 | treshold: 0.49\n"
     ]
    },
    {
     "name": "stderr",
     "output_type": "stream",
     "text": [
      "train... loss:1.240871787071228:   0%|▏                                                                           | 13/5000 [01:18<8:37:06,  6.22s/it]"
     ]
    },
    {
     "name": "stdout",
     "output_type": "stream",
     "text": [
      "Test update: epoch: 12 |accuracy: 0.6824809312820435 | f1: 0.7932809591293335 | auc: 0.7200181484222412 | treshold: 0.49\n"
     ]
    },
    {
     "name": "stderr",
     "output_type": "stream",
     "text": [
      "train... loss:1.2436065077781677:   0%|▏                                                                          | 14/5000 [01:24<8:35:01,  6.20s/it]"
     ]
    },
    {
     "name": "stdout",
     "output_type": "stream",
     "text": [
      "Test update: epoch: 13 |accuracy: 0.687147855758667 | f1: 0.7950772643089294 | auc: 0.7286238670349121 | treshold: 0.48000000000000004\n"
     ]
    },
    {
     "name": "stderr",
     "output_type": "stream",
     "text": [
      "train... loss:1.2349560260772705:   0%|▏                                                                          | 15/5000 [01:30<8:31:39,  6.16s/it]"
     ]
    },
    {
     "name": "stdout",
     "output_type": "stream",
     "text": [
      "Test update: epoch: 14 |accuracy: 0.693942666053772 | f1: 0.796815037727356 | auc: 0.7364121675491333 | treshold: 0.48000000000000004\n"
     ]
    },
    {
     "name": "stderr",
     "output_type": "stream",
     "text": [
      "train... loss:1.2176225781440735:   0%|▏                                                                          | 16/5000 [01:37<8:31:42,  6.16s/it]"
     ]
    },
    {
     "name": "stdout",
     "output_type": "stream",
     "text": [
      "Test update: epoch: 15 |accuracy: 0.7009551525115967 | f1: 0.7981260418891907 | auc: 0.7430229187011719 | treshold: 0.48000000000000004\n"
     ]
    },
    {
     "name": "stderr",
     "output_type": "stream",
     "text": [
      "train... loss:1.1969208717346191:   0%|▎                                                                          | 17/5000 [01:43<8:31:34,  6.16s/it]"
     ]
    },
    {
     "name": "stdout",
     "output_type": "stream",
     "text": [
      "Test update: epoch: 16 |accuracy: 0.7033732533454895 | f1: 0.8002735376358032 | auc: 0.7483181953430176 | treshold: 0.44\n"
     ]
    },
    {
     "name": "stderr",
     "output_type": "stream",
     "text": [
      "train... loss:1.1777634620666504:   0%|▎                                                                          | 18/5000 [01:49<8:31:01,  6.15s/it]"
     ]
    },
    {
     "name": "stdout",
     "output_type": "stream",
     "text": [
      "Test update: epoch: 17 |accuracy: 0.7038568258285522 | f1: 0.8012785911560059 | auc: 0.7522839903831482 | treshold: 0.4\n"
     ]
    },
    {
     "name": "stderr",
     "output_type": "stream",
     "text": [
      "train... loss:1.1655758023262024:   0%|▎                                                                          | 19/5000 [01:55<8:29:52,  6.14s/it]"
     ]
    },
    {
     "name": "stdout",
     "output_type": "stream",
     "text": [
      "Test update: epoch: 18 |accuracy: 0.7060573101043701 | f1: 0.8018388152122498 | auc: 0.7549725770950317 | treshold: 0.38\n"
     ]
    },
    {
     "name": "stderr",
     "output_type": "stream",
     "text": [
      "train... loss:1.162648320198059:   0%|▎                                                                           | 20/5000 [02:01<8:31:22,  6.16s/it]"
     ]
    },
    {
     "name": "stdout",
     "output_type": "stream",
     "text": [
      "Test update: epoch: 19 |accuracy: 0.7081851959228516 | f1: 0.8025588393211365 | auc: 0.756534218788147 | treshold: 0.36000000000000004\n"
     ]
    },
    {
     "name": "stderr",
     "output_type": "stream",
     "text": [
      "train... loss:1.1979297995567322:   0%|▎                                                                          | 23/5000 [02:18<8:02:11,  5.81s/it]"
     ]
    },
    {
     "name": "stdout",
     "output_type": "stream",
     "text": [
      "Test update: epoch: 22 |accuracy: 0.7085479497909546 | f1: 0.8044074177742004 | auc: 0.7605974674224854 | treshold: 0.32\n"
     ]
    },
    {
     "name": "stderr",
     "output_type": "stream",
     "text": [
      "train... loss:1.2054869532585144:   0%|▎                                                                          | 24/5000 [02:24<8:06:47,  5.87s/it]"
     ]
    },
    {
     "name": "stdout",
     "output_type": "stream",
     "text": [
      "Test update: epoch: 23 |accuracy: 0.7074356079101562 | f1: 0.805128276348114 | auc: 0.7649370431900024 | treshold: 0.32\n"
     ]
    },
    {
     "name": "stderr",
     "output_type": "stream",
     "text": [
      "train... loss:1.2030677199363708:   0%|▍                                                                          | 25/5000 [02:30<8:10:39,  5.92s/it]"
     ]
    },
    {
     "name": "stdout",
     "output_type": "stream",
     "text": [
      "Test update: epoch: 24 |accuracy: 0.7063233256340027 | f1: 0.8055213093757629 | auc: 0.7709308862686157 | treshold: 0.33\n"
     ]
    },
    {
     "name": "stderr",
     "output_type": "stream",
     "text": [
      "train... loss:1.191499948501587:   1%|▍                                                                           | 26/5000 [02:36<8:13:18,  5.95s/it]"
     ]
    },
    {
     "name": "stdout",
     "output_type": "stream",
     "text": [
      "Test update: epoch: 25 |accuracy: 0.7093700766563416 | f1: 0.8061357736587524 | auc: 0.7773665189743042 | treshold: 0.36000000000000004\n"
     ]
    },
    {
     "name": "stderr",
     "output_type": "stream",
     "text": [
      "train... loss:1.17429780960083:   1%|▍                                                                            | 27/5000 [02:42<8:16:35,  5.99s/it]"
     ]
    },
    {
     "name": "stdout",
     "output_type": "stream",
     "text": [
      "Test update: epoch: 26 |accuracy: 0.7104340195655823 | f1: 0.8070135712623596 | auc: 0.7829015254974365 | treshold: 0.38\n"
     ]
    },
    {
     "name": "stderr",
     "output_type": "stream",
     "text": [
      "train... loss:1.1541525721549988:   1%|▍                                                                          | 28/5000 [02:48<8:18:28,  6.02s/it]"
     ]
    },
    {
     "name": "stdout",
     "output_type": "stream",
     "text": [
      "Test update: epoch: 27 |accuracy: 0.7152218818664551 | f1: 0.8085320591926575 | auc: 0.7867716550827026 | treshold: 0.41000000000000003\n"
     ]
    },
    {
     "name": "stderr",
     "output_type": "stream",
     "text": [
      "train... loss:1.1338439583778381:   1%|▍                                                                          | 29/5000 [02:54<8:21:00,  6.05s/it]"
     ]
    },
    {
     "name": "stdout",
     "output_type": "stream",
     "text": [
      "Test update: epoch: 28 |accuracy: 0.7167935967445374 | f1: 0.8092756867408752 | auc: 0.7888930439949036 | treshold: 0.43\n"
     ]
    },
    {
     "name": "stderr",
     "output_type": "stream",
     "text": [
      "train... loss:1.1165340542793274:   1%|▍                                                                          | 30/5000 [03:00<8:19:59,  6.04s/it]"
     ]
    },
    {
     "name": "stdout",
     "output_type": "stream",
     "text": [
      "Test update: epoch: 29 |accuracy: 0.7184137105941772 | f1: 0.8099241256713867 | auc: 0.7896838784217834 | treshold: 0.45\n"
     ]
    },
    {
     "name": "stderr",
     "output_type": "stream",
     "text": [
      "train... loss:1.1039568781852722:   1%|▍                                                                          | 31/5000 [03:06<8:21:11,  6.05s/it]"
     ]
    },
    {
     "name": "stdout",
     "output_type": "stream",
     "text": [
      "Test update: epoch: 30 |accuracy: 0.7197195291519165 | f1: 0.8102480173110962 | auc: 0.7897141575813293 | treshold: 0.47000000000000003\n"
     ]
    },
    {
     "name": "stderr",
     "output_type": "stream",
     "text": [
      "train... loss:1.098626971244812:   1%|▍                                                                           | 32/5000 [03:13<8:27:32,  6.13s/it]"
     ]
    },
    {
     "name": "stdout",
     "output_type": "stream",
     "text": [
      "Test update: epoch: 31 |accuracy: 0.7186071872711182 | f1: 0.8101414442062378 | auc: 0.7895863056182861 | treshold: 0.48000000000000004\n"
     ]
    },
    {
     "name": "stderr",
     "output_type": "stream",
     "text": [
      "train... loss:1.1026888489723206:   1%|▍                                                                          | 33/5000 [03:19<8:29:00,  6.15s/it]"
     ]
    },
    {
     "name": "stdout",
     "output_type": "stream",
     "text": [
      "Test update: epoch: 32 |accuracy: 0.7183170318603516 | f1: 0.8103787899017334 | auc: 0.7897953391075134 | treshold: 0.49\n"
     ]
    },
    {
     "name": "stderr",
     "output_type": "stream",
     "text": [
      "train... loss:1.116324245929718:   1%|▌                                                                           | 34/5000 [03:25<8:31:31,  6.18s/it]"
     ]
    },
    {
     "name": "stdout",
     "output_type": "stream",
     "text": [
      "Test update: epoch: 33 |accuracy: 0.7227662801742554 | f1: 0.8112850189208984 | auc: 0.7907909154891968 | treshold: 0.52\n"
     ]
    },
    {
     "name": "stderr",
     "output_type": "stream",
     "text": [
      "train... loss:1.137632966041565:   1%|▌                                                                           | 35/5000 [03:31<8:30:33,  6.17s/it]"
     ]
    },
    {
     "name": "stdout",
     "output_type": "stream",
     "text": [
      "Test update: epoch: 34 |accuracy: 0.7264659404754639 | f1: 0.8125414252281189 | auc: 0.7929325103759766 | treshold: 0.54\n"
     ]
    },
    {
     "name": "stderr",
     "output_type": "stream",
     "text": [
      "train... loss:1.1572622060775757:   1%|▌                                                                          | 36/5000 [03:37<8:29:02,  6.15s/it]"
     ]
    },
    {
     "name": "stdout",
     "output_type": "stream",
     "text": [
      "Test update: epoch: 35 |accuracy: 0.7298996448516846 | f1: 0.8138208985328674 | auc: 0.7962497472763062 | treshold: 0.55\n"
     ]
    },
    {
     "name": "stderr",
     "output_type": "stream",
     "text": [
      "train... loss:1.167198896408081:   1%|▌                                                                           | 37/5000 [03:43<8:26:28,  6.12s/it]"
     ]
    },
    {
     "name": "stdout",
     "output_type": "stream",
     "text": [
      "Test update: epoch: 36 |accuracy: 0.7319550514221191 | f1: 0.815179169178009 | auc: 0.8001371622085571 | treshold: 0.54\n"
     ]
    },
    {
     "name": "stderr",
     "output_type": "stream",
     "text": [
      "train... loss:1.163788616657257:   1%|▌                                                                           | 38/5000 [03:50<8:25:38,  6.11s/it]"
     ]
    },
    {
     "name": "stdout",
     "output_type": "stream",
     "text": [
      "Test update: epoch: 37 |accuracy: 0.7361141443252563 | f1: 0.8166590929031372 | auc: 0.8039532899856567 | treshold: 0.54\n"
     ]
    },
    {
     "name": "stderr",
     "output_type": "stream",
     "text": [
      "train... loss:1.148826241493225:   1%|▌                                                                           | 39/5000 [03:56<8:29:46,  6.17s/it]"
     ]
    },
    {
     "name": "stdout",
     "output_type": "stream",
     "text": [
      "Test update: epoch: 38 |accuracy: 0.7403941750526428 | f1: 0.8179289698600769 | auc: 0.8074467778205872 | treshold: 0.54\n"
     ]
    },
    {
     "name": "stderr",
     "output_type": "stream",
     "text": [
      "train... loss:1.1266447305679321:   1%|▌                                                                          | 40/5000 [04:02<8:29:29,  6.16s/it]"
     ]
    },
    {
     "name": "stdout",
     "output_type": "stream",
     "text": [
      "Test update: epoch: 39 |accuracy: 0.7437069416046143 | f1: 0.8191328048706055 | auc: 0.8105449676513672 | treshold: 0.53\n"
     ]
    },
    {
     "name": "stderr",
     "output_type": "stream",
     "text": [
      "train... loss:1.1027807593345642:   1%|▌                                                                          | 41/5000 [04:08<8:27:12,  6.14s/it]"
     ]
    },
    {
     "name": "stdout",
     "output_type": "stream",
     "text": [
      "Test update: epoch: 40 |accuracy: 0.7454479336738586 | f1: 0.8200912475585938 | auc: 0.8132549524307251 | treshold: 0.51\n"
     ]
    },
    {
     "name": "stderr",
     "output_type": "stream",
     "text": [
      "train... loss:1.079407274723053:   1%|▋                                                                           | 42/5000 [04:14<8:25:54,  6.12s/it]"
     ]
    },
    {
     "name": "stdout",
     "output_type": "stream",
     "text": [
      "Test update: epoch: 41 |accuracy: 0.7458590269088745 | f1: 0.821045458316803 | auc: 0.8156348466873169 | treshold: 0.48000000000000004\n"
     ]
    },
    {
     "name": "stderr",
     "output_type": "stream",
     "text": [
      "train... loss:1.0595232844352722:   1%|▋                                                                          | 43/5000 [04:20<8:26:41,  6.13s/it]"
     ]
    },
    {
     "name": "stdout",
     "output_type": "stream",
     "text": [
      "Test update: epoch: 42 |accuracy: 0.7472131252288818 | f1: 0.8219929337501526 | auc: 0.8177364468574524 | treshold: 0.46\n"
     ]
    },
    {
     "name": "stderr",
     "output_type": "stream",
     "text": [
      "train... loss:1.0466488599777222:   1%|▋                                                                         | 44/5000 [04:35<11:47:51,  8.57s/it]"
     ]
    },
    {
     "name": "stdout",
     "output_type": "stream",
     "text": [
      "Test update: epoch: 43 |accuracy: 0.7478660345077515 | f1: 0.8227273225784302 | auc: 0.8196159601211548 | treshold: 0.44\n"
     ]
    },
    {
     "name": "stderr",
     "output_type": "stream",
     "text": [
      "train... loss:1.0407214164733887:   1%|▋                                                                         | 45/5000 [04:50<14:28:07, 10.51s/it]"
     ]
    },
    {
     "name": "stdout",
     "output_type": "stream",
     "text": [
      "Test update: epoch: 44 |accuracy: 0.7509853839874268 | f1: 0.8232345581054688 | auc: 0.8213787078857422 | treshold: 0.44\n"
     ]
    },
    {
     "name": "stderr",
     "output_type": "stream",
     "text": [
      "train... loss:1.0423872470855713:   1%|▋                                                                         | 46/5000 [05:06<16:51:09, 12.25s/it]"
     ]
    },
    {
     "name": "stdout",
     "output_type": "stream",
     "text": [
      "Test update: epoch: 45 |accuracy: 0.7526296973228455 | f1: 0.8240877389907837 | auc: 0.8230994939804077 | treshold: 0.43\n"
     ]
    },
    {
     "name": "stderr",
     "output_type": "stream",
     "text": [
      "train... loss:1.0509586930274963:   1%|▋                                                                         | 47/5000 [05:22<18:33:19, 13.49s/it]"
     ]
    },
    {
     "name": "stdout",
     "output_type": "stream",
     "text": [
      "Test update: epoch: 46 |accuracy: 0.7499697804450989 | f1: 0.8250778317451477 | auc: 0.8248187303543091 | treshold: 0.4\n"
     ]
    },
    {
     "name": "stderr",
     "output_type": "stream",
     "text": [
      "train... loss:1.063783586025238:   1%|▋                                                                          | 48/5000 [05:41<20:49:27, 15.14s/it]"
     ]
    },
    {
     "name": "stdout",
     "output_type": "stream",
     "text": [
      "Test update: epoch: 47 |accuracy: 0.7522428035736084 | f1: 0.826026439666748 | auc: 0.8265730738639832 | treshold: 0.4\n"
     ]
    },
    {
     "name": "stderr",
     "output_type": "stream",
     "text": [
      "train... loss:1.077659249305725:   1%|▋                                                                          | 49/5000 [05:58<21:18:46, 15.50s/it]"
     ]
    },
    {
     "name": "stdout",
     "output_type": "stream",
     "text": [
      "Test update: epoch: 48 |accuracy: 0.7550719380378723 | f1: 0.8258155584335327 | auc: 0.8283796310424805 | treshold: 0.41000000000000003\n"
     ]
    },
    {
     "name": "stderr",
     "output_type": "stream",
     "text": [
      "train... loss:1.0885311365127563:   1%|▋                                                                         | 50/5000 [06:13<21:15:16, 15.46s/it]"
     ]
    },
    {
     "name": "stdout",
     "output_type": "stream",
     "text": [
      "Test update: epoch: 49 |accuracy: 0.7555071711540222 | f1: 0.8272775411605835 | auc: 0.8302119970321655 | treshold: 0.4\n"
     ]
    },
    {
     "name": "stderr",
     "output_type": "stream",
     "text": [
      "train... loss:1.0926119089126587:   1%|▊                                                                         | 51/5000 [06:28<20:58:10, 15.25s/it]"
     ]
    },
    {
     "name": "stdout",
     "output_type": "stream",
     "text": [
      "Test update: epoch: 50 |accuracy: 0.7545883059501648 | f1: 0.8278809189796448 | auc: 0.8319065570831299 | treshold: 0.39\n"
     ]
    },
    {
     "name": "stderr",
     "output_type": "stream",
     "text": [
      "train... loss:1.089314341545105:   1%|▊                                                                          | 52/5000 [06:42<20:30:02, 14.92s/it]"
     ]
    },
    {
     "name": "stdout",
     "output_type": "stream",
     "text": [
      "Test update: epoch: 51 |accuracy: 0.7607060670852661 | f1: 0.8289842009544373 | auc: 0.8332464694976807 | treshold: 0.41000000000000003\n"
     ]
    },
    {
     "name": "stderr",
     "output_type": "stream",
     "text": [
      "train... loss:1.0802772045135498:   1%|▊                                                                         | 53/5000 [06:56<20:01:15, 14.57s/it]"
     ]
    },
    {
     "name": "stdout",
     "output_type": "stream",
     "text": [
      "Test update: epoch: 52 |accuracy: 0.7614315152168274 | f1: 0.8295085430145264 | auc: 0.834273636341095 | treshold: 0.41000000000000003\n"
     ]
    },
    {
     "name": "stderr",
     "output_type": "stream",
     "text": [
      "train... loss:1.0675588846206665:   1%|▊                                                                         | 54/5000 [07:10<19:47:41, 14.41s/it]"
     ]
    },
    {
     "name": "stdout",
     "output_type": "stream",
     "text": [
      "Test update: epoch: 53 |accuracy: 0.7619634866714478 | f1: 0.8299885988235474 | auc: 0.8351234197616577 | treshold: 0.41000000000000003\n"
     ]
    },
    {
     "name": "stderr",
     "output_type": "stream",
     "text": [
      "train... loss:1.0524954795837402:   1%|▊                                                                         | 55/5000 [07:24<19:43:24, 14.36s/it]"
     ]
    },
    {
     "name": "stdout",
     "output_type": "stream",
     "text": [
      "Test update: epoch: 54 |accuracy: 0.764695942401886 | f1: 0.8309680819511414 | auc: 0.8359529972076416 | treshold: 0.42000000000000004\n"
     ]
    },
    {
     "name": "stderr",
     "output_type": "stream",
     "text": [
      "train... loss:1.035668134689331:   1%|▊                                                                          | 56/5000 [07:39<19:51:43, 14.46s/it]"
     ]
    },
    {
     "name": "stdout",
     "output_type": "stream",
     "text": [
      "Test update: epoch: 55 |accuracy: 0.7641397714614868 | f1: 0.8312865495681763 | auc: 0.8368537425994873 | treshold: 0.42000000000000004\n"
     ]
    },
    {
     "name": "stderr",
     "output_type": "stream",
     "text": [
      "train... loss:1.0212462544441223:   1%|▊                                                                         | 57/5000 [07:55<20:29:59, 14.93s/it]"
     ]
    },
    {
     "name": "stdout",
     "output_type": "stream",
     "text": [
      "Test update: epoch: 56 |accuracy: 0.7637770771980286 | f1: 0.8317169547080994 | auc: 0.8378831148147583 | treshold: 0.42000000000000004\n"
     ]
    },
    {
     "name": "stderr",
     "output_type": "stream",
     "text": [
      "train... loss:1.0083423256874084:   1%|▊                                                                         | 58/5000 [08:11<20:58:08, 15.27s/it]"
     ]
    },
    {
     "name": "stdout",
     "output_type": "stream",
     "text": [
      "Test update: epoch: 57 |accuracy: 0.7634627223014832 | f1: 0.8322126865386963 | auc: 0.8390893936157227 | treshold: 0.42000000000000004\n"
     ]
    },
    {
     "name": "stderr",
     "output_type": "stream",
     "text": [
      "train... loss:0.9995287954807281:   1%|▊                                                                         | 59/5000 [08:28<21:52:42, 15.94s/it]"
     ]
    },
    {
     "name": "stdout",
     "output_type": "stream",
     "text": [
      "Test update: epoch: 58 |accuracy: 0.7658324241638184 | f1: 0.8329653739929199 | auc: 0.8405245542526245 | treshold: 0.44\n"
     ]
    },
    {
     "name": "stderr",
     "output_type": "stream",
     "text": [
      "train... loss:0.995452880859375:   1%|▉                                                                          | 60/5000 [08:44<21:39:58, 15.79s/it]"
     ]
    },
    {
     "name": "stdout",
     "output_type": "stream",
     "text": [
      "Test update: epoch: 59 |accuracy: 0.7650344371795654 | f1: 0.833575963973999 | auc: 0.8422470688819885 | treshold: 0.44\n"
     ]
    },
    {
     "name": "stderr",
     "output_type": "stream",
     "text": [
      "train... loss:0.9969619512557983:   1%|▉                                                                         | 61/5000 [08:59<21:20:47, 15.56s/it]"
     ]
    },
    {
     "name": "stdout",
     "output_type": "stream",
     "text": [
      "Test update: epoch: 60 |accuracy: 0.7682263255119324 | f1: 0.8347100019454956 | auc: 0.8442922830581665 | treshold: 0.47000000000000003\n"
     ]
    },
    {
     "name": "stderr",
     "output_type": "stream",
     "text": [
      "train... loss:1.0062472224235535:   1%|▉                                                                         | 62/5000 [09:13<20:49:11, 15.18s/it]"
     ]
    },
    {
     "name": "stdout",
     "output_type": "stream",
     "text": [
      "Test update: epoch: 61 |accuracy: 0.7703300714492798 | f1: 0.8361170291900635 | auc: 0.8466328382492065 | treshold: 0.49\n"
     ]
    },
    {
     "name": "stderr",
     "output_type": "stream",
     "text": [
      "train... loss:1.0195963978767395:   1%|▉                                                                         | 63/5000 [09:28<20:40:57, 15.08s/it]"
     ]
    },
    {
     "name": "stdout",
     "output_type": "stream",
     "text": [
      "Test update: epoch: 62 |accuracy: 0.771273136138916 | f1: 0.8366857171058655 | auc: 0.8491787910461426 | treshold: 0.51\n"
     ]
    },
    {
     "name": "stderr",
     "output_type": "stream",
     "text": [
      "train... loss:1.0337156057357788:   1%|▉                                                                         | 64/5000 [09:43<20:52:31, 15.23s/it]"
     ]
    },
    {
     "name": "stdout",
     "output_type": "stream",
     "text": [
      "Test update: epoch: 63 |accuracy: 0.7719501852989197 | f1: 0.8376121520996094 | auc: 0.8517673015594482 | treshold: 0.52\n"
     ]
    },
    {
     "name": "stderr",
     "output_type": "stream",
     "text": [
      "train... loss:1.0413804054260254:   1%|▉                                                                         | 65/5000 [10:00<21:31:20, 15.70s/it]"
     ]
    },
    {
     "name": "stdout",
     "output_type": "stream",
     "text": [
      "Test update: epoch: 64 |accuracy: 0.774465024471283 | f1: 0.8383563756942749 | auc: 0.8539944887161255 | treshold: 0.55\n"
     ]
    },
    {
     "name": "stderr",
     "output_type": "stream",
     "text": [
      "train... loss:1.0415343046188354:   1%|▉                                                                         | 66/5000 [10:17<22:01:21, 16.07s/it]"
     ]
    },
    {
     "name": "stdout",
     "output_type": "stream",
     "text": [
      "Test update: epoch: 65 |accuracy: 0.7753596901893616 | f1: 0.8385807871818542 | auc: 0.8555543422698975 | treshold: 0.56\n"
     ]
    },
    {
     "name": "stderr",
     "output_type": "stream",
     "text": [
      "train... loss:1.0361608862876892:   1%|▉                                                                         | 67/5000 [10:33<22:05:13, 16.12s/it]"
     ]
    },
    {
     "name": "stdout",
     "output_type": "stream",
     "text": [
      "Test update: epoch: 66 |accuracy: 0.7760125994682312 | f1: 0.8392816781997681 | auc: 0.8564691543579102 | treshold: 0.55\n"
     ]
    },
    {
     "name": "stderr",
     "output_type": "stream",
     "text": [
      "train... loss:1.0242220759391785:   1%|█                                                                         | 68/5000 [10:49<21:44:32, 15.87s/it]"
     ]
    },
    {
     "name": "stdout",
     "output_type": "stream",
     "text": [
      "Test update: epoch: 67 |accuracy: 0.7789384722709656 | f1: 0.8401412963867188 | auc: 0.8569501638412476 | treshold: 0.56\n"
     ]
    },
    {
     "name": "stderr",
     "output_type": "stream",
     "text": [
      "train... loss:1.0085296928882599:   1%|█                                                                         | 69/5000 [11:07<22:42:36, 16.58s/it]"
     ]
    },
    {
     "name": "stdout",
     "output_type": "stream",
     "text": [
      "Test update: epoch: 68 |accuracy: 0.7800024151802063 | f1: 0.8405035138130188 | auc: 0.8572081327438354 | treshold: 0.55\n"
     ]
    },
    {
     "name": "stderr",
     "output_type": "stream",
     "text": [
      "train... loss:0.9932098984718323:   1%|█                                                                         | 70/5000 [11:21<21:54:46, 16.00s/it]"
     ]
    },
    {
     "name": "stdout",
     "output_type": "stream",
     "text": [
      "Test update: epoch: 69 |accuracy: 0.7811630964279175 | f1: 0.8408371210098267 | auc: 0.8574526906013489 | treshold: 0.54\n"
     ]
    },
    {
     "name": "stderr",
     "output_type": "stream",
     "text": [
      "train... loss:0.9793369174003601:   1%|█                                                                         | 71/5000 [11:36<21:27:16, 15.67s/it]"
     ]
    },
    {
     "name": "stdout",
     "output_type": "stream",
     "text": [
      "Test update: epoch: 70 |accuracy: 0.7820578217506409 | f1: 0.8408974409103394 | auc: 0.857858419418335 | treshold: 0.53\n"
     ]
    },
    {
     "name": "stderr",
     "output_type": "stream",
     "text": [
      "train... loss:0.9675783216953278:   1%|█                                                                         | 72/5000 [11:52<21:30:22, 15.71s/it]"
     ]
    },
    {
     "name": "stdout",
     "output_type": "stream",
     "text": [
      "Test update: epoch: 71 |accuracy: 0.780461847782135 | f1: 0.8406661748886108 | auc: 0.8585783243179321 | treshold: 0.5\n"
     ]
    },
    {
     "name": "stderr",
     "output_type": "stream",
     "text": [
      "train... loss:0.9607807099819183:   1%|█                                                                         | 73/5000 [12:08<21:31:50, 15.73s/it]"
     ]
    },
    {
     "name": "stdout",
     "output_type": "stream",
     "text": [
      "Test update: epoch: 72 |accuracy: 0.7823963165283203 | f1: 0.8413853645324707 | auc: 0.8597406148910522 | treshold: 0.49\n"
     ]
    },
    {
     "name": "stderr",
     "output_type": "stream",
     "text": [
      "train... loss:0.9582680463790894:   1%|█                                                                         | 74/5000 [12:25<21:55:58, 16.03s/it]"
     ]
    },
    {
     "name": "stdout",
     "output_type": "stream",
     "text": [
      "Test update: epoch: 73 |accuracy: 0.7839680910110474 | f1: 0.8419991731643677 | auc: 0.8614133596420288 | treshold: 0.48000000000000004\n"
     ]
    },
    {
     "name": "stderr",
     "output_type": "stream",
     "text": [
      "train... loss:0.9617383182048798:   2%|█                                                                         | 75/5000 [12:41<22:13:37, 16.25s/it]"
     ]
    },
    {
     "name": "stdout",
     "output_type": "stream",
     "text": [
      "Test update: epoch: 74 |accuracy: 0.7844275236129761 | f1: 0.8428881168365479 | auc: 0.8635154366493225 | treshold: 0.46\n"
     ]
    },
    {
     "name": "stderr",
     "output_type": "stream",
     "text": [
      "train... loss:0.9683261811733246:   2%|█                                                                         | 76/5000 [12:58<22:12:16, 16.23s/it]"
     ]
    },
    {
     "name": "stdout",
     "output_type": "stream",
     "text": [
      "Test update: epoch: 75 |accuracy: 0.7851771116256714 | f1: 0.8444732427597046 | auc: 0.8657494783401489 | treshold: 0.44\n"
     ]
    },
    {
     "name": "stderr",
     "output_type": "stream",
     "text": [
      "train... loss:0.9776749014854431:   2%|█▏                                                                        | 77/5000 [13:13<21:49:10, 15.96s/it]"
     ]
    },
    {
     "name": "stdout",
     "output_type": "stream",
     "text": [
      "Test update: epoch: 76 |accuracy: 0.7880304455757141 | f1: 0.8455711603164673 | auc: 0.8676870465278625 | treshold: 0.44\n"
     ]
    },
    {
     "name": "stderr",
     "output_type": "stream",
     "text": [
      "train... loss:0.9865919351577759:   2%|█▏                                                                        | 78/5000 [13:28<21:24:37, 15.66s/it]"
     ]
    },
    {
     "name": "stdout",
     "output_type": "stream",
     "text": [
      "Test update: epoch: 77 |accuracy: 0.7894571423530579 | f1: 0.8469852209091187 | auc: 0.8688352108001709 | treshold: 0.43\n"
     ]
    },
    {
     "name": "stderr",
     "output_type": "stream",
     "text": [
      "train... loss:0.9472227096557617:   2%|█▎                                                                        | 90/5000 [16:27<20:30:58, 15.04s/it]"
     ]
    },
    {
     "name": "stdout",
     "output_type": "stream",
     "text": [
      "Test update: epoch: 89 |accuracy: 0.7965905070304871 | f1: 0.8513255715370178 | auc: 0.8693797588348389 | treshold: 0.5\n"
     ]
    },
    {
     "name": "stderr",
     "output_type": "stream",
     "text": [
      "train... loss:0.9487318694591522:   2%|█▎                                                                        | 91/5000 [16:43<20:45:28, 15.22s/it]"
     ]
    },
    {
     "name": "stdout",
     "output_type": "stream",
     "text": [
      "Test update: epoch: 90 |accuracy: 0.7952847480773926 | f1: 0.8520705699920654 | auc: 0.8727236986160278 | treshold: 0.49\n"
     ]
    },
    {
     "name": "stderr",
     "output_type": "stream",
     "text": [
      "train... loss:0.9509803950786591:   2%|█▎                                                                        | 92/5000 [16:59<20:56:32, 15.36s/it]"
     ]
    },
    {
     "name": "stdout",
     "output_type": "stream",
     "text": [
      "Test update: epoch: 91 |accuracy: 0.796421229839325 | f1: 0.8527966737747192 | auc: 0.8753300905227661 | treshold: 0.51\n"
     ]
    },
    {
     "name": "stderr",
     "output_type": "stream",
     "text": [
      "train... loss:0.9537230730056763:   2%|█▍                                                                        | 93/5000 [17:15<21:18:03, 15.63s/it]"
     ]
    },
    {
     "name": "stdout",
     "output_type": "stream",
     "text": [
      "Test update: epoch: 92 |accuracy: 0.7998307347297668 | f1: 0.8542965054512024 | auc: 0.8767942190170288 | treshold: 0.54\n"
     ]
    },
    {
     "name": "stderr",
     "output_type": "stream",
     "text": [
      "train... loss:0.9556045234203339:   2%|█▍                                                                        | 94/5000 [17:32<21:53:24, 16.06s/it]"
     ]
    },
    {
     "name": "stdout",
     "output_type": "stream",
     "text": [
      "Test update: epoch: 93 |accuracy: 0.8018860816955566 | f1: 0.8544682860374451 | auc: 0.8771165609359741 | treshold: 0.5700000000000001\n"
     ]
    },
    {
     "name": "stderr",
     "output_type": "stream",
     "text": [
      "train... loss:0.9180431962013245:   2%|█▍                                                                       | 102/5000 [19:36<21:08:47, 15.54s/it]"
     ]
    },
    {
     "name": "stdout",
     "output_type": "stream",
     "text": [
      "Test update: epoch: 101 |accuracy: 0.8027566075325012 | f1: 0.854942798614502 | auc: 0.878511905670166 | treshold: 0.48000000000000004\n"
     ]
    },
    {
     "name": "stderr",
     "output_type": "stream",
     "text": [
      "train... loss:0.9176027178764343:   2%|█▌                                                                       | 103/5000 [19:52<21:19:32, 15.68s/it]"
     ]
    },
    {
     "name": "stdout",
     "output_type": "stream",
     "text": [
      "Test update: epoch: 102 |accuracy: 0.8030467629432678 | f1: 0.8560267090797424 | auc: 0.8813979625701904 | treshold: 0.46\n"
     ]
    },
    {
     "name": "stderr",
     "output_type": "stream",
     "text": [
      "train... loss:0.9189845025539398:   2%|█▌                                                                       | 104/5000 [20:08<21:34:16, 15.86s/it]"
     ]
    },
    {
     "name": "stdout",
     "output_type": "stream",
     "text": [
      "Test update: epoch: 103 |accuracy: 0.8065530061721802 | f1: 0.8572193384170532 | auc: 0.8844175934791565 | treshold: 0.47000000000000003\n"
     ]
    },
    {
     "name": "stderr",
     "output_type": "stream",
     "text": [
      "train... loss:0.9212077856063843:   2%|█▌                                                                       | 105/5000 [20:24<21:36:46, 15.90s/it]"
     ]
    },
    {
     "name": "stdout",
     "output_type": "stream",
     "text": [
      "Test update: epoch: 104 |accuracy: 0.807762086391449 | f1: 0.8577868342399597 | auc: 0.8869152069091797 | treshold: 0.47000000000000003\n"
     ]
    },
    {
     "name": "stderr",
     "output_type": "stream",
     "text": [
      "train... loss:0.9227513372898102:   2%|█▌                                                                       | 106/5000 [20:39<21:08:34, 15.55s/it]"
     ]
    },
    {
     "name": "stdout",
     "output_type": "stream",
     "text": [
      "Test update: epoch: 105 |accuracy: 0.8083423972129822 | f1: 0.8581146597862244 | auc: 0.8883057832717896 | treshold: 0.47000000000000003\n"
     ]
    },
    {
     "name": "stderr",
     "output_type": "stream",
     "text": [
      "train... loss:0.9137444496154785:   2%|█▋                                                                       | 118/5000 [23:38<19:52:14, 14.65s/it]"
     ]
    },
    {
     "name": "stdout",
     "output_type": "stream",
     "text": [
      "Test update: epoch: 117 |accuracy: 0.8107846975326538 | f1: 0.8605989217758179 | auc: 0.8898552060127258 | treshold: 0.53\n"
     ]
    },
    {
     "name": "stderr",
     "output_type": "stream",
     "text": [
      "train... loss:0.9108350574970245:   2%|█▋                                                                       | 119/5000 [23:53<19:44:38, 14.56s/it]"
     ]
    },
    {
     "name": "stdout",
     "output_type": "stream",
     "text": [
      "Test update: epoch: 118 |accuracy: 0.8134203553199768 | f1: 0.8620960712432861 | auc: 0.8911399245262146 | treshold: 0.54\n"
     ]
    },
    {
     "name": "stderr",
     "output_type": "stream",
     "text": [
      "train... loss:0.9066140651702881:   2%|█▊                                                                       | 120/5000 [24:08<19:57:28, 14.72s/it]"
     ]
    },
    {
     "name": "stdout",
     "output_type": "stream",
     "text": [
      "Test update: epoch: 119 |accuracy: 0.8142425417900085 | f1: 0.8625612854957581 | auc: 0.8918920755386353 | treshold: 0.54\n"
     ]
    },
    {
     "name": "stderr",
     "output_type": "stream",
     "text": [
      "train... loss:0.8990801870822906:   2%|█▊                                                                       | 121/5000 [24:24<20:19:10, 14.99s/it]"
     ]
    },
    {
     "name": "stdout",
     "output_type": "stream",
     "text": [
      "Test update: epoch: 120 |accuracy: 0.8147987127304077 | f1: 0.8626853227615356 | auc: 0.8922386765480042 | treshold: 0.54\n"
     ]
    },
    {
     "name": "stderr",
     "output_type": "stream",
     "text": [
      "train... loss:0.8904828727245331:   2%|█▊                                                                       | 122/5000 [24:39<20:27:57, 15.10s/it]"
     ]
    },
    {
     "name": "stdout",
     "output_type": "stream",
     "text": [
      "Test update: epoch: 121 |accuracy: 0.8142908811569214 | f1: 0.8623113036155701 | auc: 0.8923240900039673 | treshold: 0.53\n"
     ]
    },
    {
     "name": "stderr",
     "output_type": "stream",
     "text": [
      "train... loss:0.8823466897010803:   2%|█▊                                                                       | 123/5000 [24:55<20:40:44, 15.26s/it]"
     ]
    },
    {
     "name": "stdout",
     "output_type": "stream",
     "text": [
      "Test update: epoch: 122 |accuracy: 0.8138798475265503 | f1: 0.8624184727668762 | auc: 0.8923419713973999 | treshold: 0.51\n"
     ]
    },
    {
     "name": "stderr",
     "output_type": "stream",
     "text": [
      "train... loss:0.8737376928329468:   2%|█▊                                                                       | 124/5000 [25:10<20:41:47, 15.28s/it]"
     ]
    },
    {
     "name": "stdout",
     "output_type": "stream",
     "text": [
      "Test update: epoch: 123 |accuracy: 0.8141458034515381 | f1: 0.8624060153961182 | auc: 0.89243483543396 | treshold: 0.5\n"
     ]
    },
    {
     "name": "stderr",
     "output_type": "stream",
     "text": [
      "train... loss:0.8675907254219055:   2%|█▊                                                                       | 125/5000 [25:25<20:44:28, 15.32s/it]"
     ]
    },
    {
     "name": "stdout",
     "output_type": "stream",
     "text": [
      "Test update: epoch: 124 |accuracy: 0.8147987127304077 | f1: 0.8627099394798279 | auc: 0.8927084803581238 | treshold: 0.49\n"
     ]
    },
    {
     "name": "stderr",
     "output_type": "stream",
     "text": [
      "train... loss:0.8640827834606171:   3%|█▊                                                                       | 126/5000 [25:40<20:34:56, 15.20s/it]"
     ]
    },
    {
     "name": "stdout",
     "output_type": "stream",
     "text": [
      "Test update: epoch: 125 |accuracy: 0.8151856064796448 | f1: 0.8628197312355042 | auc: 0.8932594060897827 | treshold: 0.48000000000000004\n"
     ]
    },
    {
     "name": "stderr",
     "output_type": "stream",
     "text": [
      "train... loss:0.8637874722480774:   3%|█▊                                                                       | 127/5000 [25:55<20:22:41, 15.05s/it]"
     ]
    },
    {
     "name": "stdout",
     "output_type": "stream",
     "text": [
      "Test update: epoch: 126 |accuracy: 0.8160802721977234 | f1: 0.8632801175117493 | auc: 0.894122302532196 | treshold: 0.47000000000000003\n"
     ]
    },
    {
     "name": "stderr",
     "output_type": "stream",
     "text": [
      "train... loss:0.8675273358821869:   3%|█▊                                                                       | 128/5000 [26:10<20:15:36, 14.97s/it]"
     ]
    },
    {
     "name": "stdout",
     "output_type": "stream",
     "text": [
      "Test update: epoch: 127 |accuracy: 0.8164913654327393 | f1: 0.8642227053642273 | auc: 0.8952621221542358 | treshold: 0.45\n"
     ]
    },
    {
     "name": "stderr",
     "output_type": "stream",
     "text": [
      "train... loss:0.8749087154865265:   3%|█▉                                                                       | 129/5000 [26:25<20:19:31, 15.02s/it]"
     ]
    },
    {
     "name": "stdout",
     "output_type": "stream",
     "text": [
      "Test update: epoch: 128 |accuracy: 0.818522572517395 | f1: 0.8651658892631531 | auc: 0.8965400457382202 | treshold: 0.45\n"
     ]
    },
    {
     "name": "stderr",
     "output_type": "stream",
     "text": [
      "train... loss:0.8841546773910522:   3%|█▉                                                                       | 130/5000 [26:41<20:37:57, 15.25s/it]"
     ]
    },
    {
     "name": "stdout",
     "output_type": "stream",
     "text": [
      "Test update: epoch: 129 |accuracy: 0.8181114792823792 | f1: 0.8659944534301758 | auc: 0.8977844715118408 | treshold: 0.43\n"
     ]
    },
    {
     "name": "stderr",
     "output_type": "stream",
     "text": [
      "train... loss:0.8930180668830872:   3%|█▉                                                                       | 131/5000 [26:57<20:57:45, 15.50s/it]"
     ]
    },
    {
     "name": "stdout",
     "output_type": "stream",
     "text": [
      "Test update: epoch: 130 |accuracy: 0.8211582899093628 | f1: 0.8672696352005005 | auc: 0.8988173007965088 | treshold: 0.44\n"
     ]
    },
    {
     "name": "stderr",
     "output_type": "stream",
     "text": [
      "train... loss:0.897905707359314:   3%|█▉                                                                        | 132/5000 [27:12<21:05:11, 15.59s/it]"
     ]
    },
    {
     "name": "stdout",
     "output_type": "stream",
     "text": [
      "Test update: epoch: 131 |accuracy: 0.8211824297904968 | f1: 0.867180347442627 | auc: 0.8994907736778259 | treshold: 0.44\n"
     ]
    },
    {
     "name": "stderr",
     "output_type": "stream",
     "text": [
      "train... loss:0.8592978715896606:   3%|██                                                                       | 139/5000 [29:02<20:32:58, 15.22s/it]"
     ]
    },
    {
     "name": "stdout",
     "output_type": "stream",
     "text": [
      "Test update: epoch: 138 |accuracy: 0.8194414377212524 | f1: 0.8672603964805603 | auc: 0.9018529653549194 | treshold: 0.47000000000000003\n"
     ]
    },
    {
     "name": "stderr",
     "output_type": "stream",
     "text": [
      "train... loss:0.8563351631164551:   3%|██                                                                       | 140/5000 [29:16<20:11:31, 14.96s/it]"
     ]
    },
    {
     "name": "stdout",
     "output_type": "stream",
     "text": [
      "Test update: epoch: 139 |accuracy: 0.8211582899093628 | f1: 0.8679191470146179 | auc: 0.9031853675842285 | treshold: 0.5\n"
     ]
    },
    {
     "name": "stderr",
     "output_type": "stream",
     "text": [
      "train... loss:0.8557554185390472:   3%|██                                                                       | 141/5000 [29:31<20:03:41, 14.86s/it]"
     ]
    },
    {
     "name": "stdout",
     "output_type": "stream",
     "text": [
      "Test update: epoch: 140 |accuracy: 0.8218595385551453 | f1: 0.868972897529602 | auc: 0.9046868085861206 | treshold: 0.51\n"
     ]
    },
    {
     "name": "stderr",
     "output_type": "stream",
     "text": [
      "train... loss:0.8582499325275421:   3%|██                                                                       | 142/5000 [29:46<20:17:27, 15.04s/it]"
     ]
    },
    {
     "name": "stdout",
     "output_type": "stream",
     "text": [
      "Test update: epoch: 141 |accuracy: 0.8206746578216553 | f1: 0.8686084747314453 | auc: 0.9061137437820435 | treshold: 0.52\n"
     ]
    },
    {
     "name": "stderr",
     "output_type": "stream",
     "text": [
      "train... loss:0.8641446232795715:   3%|██                                                                       | 143/5000 [30:03<20:58:47, 15.55s/it]"
     ]
    },
    {
     "name": "stdout",
     "output_type": "stream",
     "text": [
      "Test update: epoch: 142 |accuracy: 0.8239874243736267 | f1: 0.8701546788215637 | auc: 0.907216489315033 | treshold: 0.56\n"
     ]
    },
    {
     "name": "stderr",
     "output_type": "stream",
     "text": [
      "train... loss:0.8701517283916473:   3%|██                                                                       | 144/5000 [30:20<21:27:12, 15.90s/it]"
     ]
    },
    {
     "name": "stdout",
     "output_type": "stream",
     "text": [
      "Test update: epoch: 143 |accuracy: 0.8241809010505676 | f1: 0.8704914450645447 | auc: 0.9077500104904175 | treshold: 0.5700000000000001\n"
     ]
    },
    {
     "name": "stderr",
     "output_type": "stream",
     "text": [
      "train... loss:0.8726305663585663:   3%|██▎                                                                      | 160/5000 [34:15<19:11:04, 14.27s/it]"
     ]
    },
    {
     "name": "stdout",
     "output_type": "stream",
     "text": [
      "Test update: epoch: 159 |accuracy: 0.827130913734436 | f1: 0.8720719814300537 | auc: 0.9060308933258057 | treshold: 0.41000000000000003\n"
     ]
    },
    {
     "name": "stderr",
     "output_type": "stream",
     "text": [
      "train... loss:0.864333987236023:   3%|██▍                                                                       | 161/5000 [34:29<19:12:16, 14.29s/it]"
     ]
    },
    {
     "name": "stdout",
     "output_type": "stream",
     "text": [
      "Test update: epoch: 160 |accuracy: 0.8283883333206177 | f1: 0.8725417852401733 | auc: 0.9061613082885742 | treshold: 0.42000000000000004\n"
     ]
    },
    {
     "name": "stderr",
     "output_type": "stream",
     "text": [
      "train... loss:0.8545082807540894:   3%|██▎                                                                      | 162/5000 [34:44<19:17:24, 14.35s/it]"
     ]
    },
    {
     "name": "stdout",
     "output_type": "stream",
     "text": [
      "Test update: epoch: 161 |accuracy: 0.8284125328063965 | f1: 0.8728634119033813 | auc: 0.906327486038208 | treshold: 0.42000000000000004\n"
     ]
    },
    {
     "name": "stderr",
     "output_type": "stream",
     "text": [
      "train... loss:0.8456803262233734:   3%|██▍                                                                      | 163/5000 [34:59<19:29:11, 14.50s/it]"
     ]
    },
    {
     "name": "stdout",
     "output_type": "stream",
     "text": [
      "Test update: epoch: 162 |accuracy: 0.8280981779098511 | f1: 0.8729787468910217 | auc: 0.9066150188446045 | treshold: 0.42000000000000004\n"
     ]
    },
    {
     "name": "stderr",
     "output_type": "stream",
     "text": [
      "train... loss:0.837180882692337:   3%|██▍                                                                       | 164/5000 [35:14<19:53:05, 14.80s/it]"
     ]
    },
    {
     "name": "stdout",
     "output_type": "stream",
     "text": [
      "Test update: epoch: 163 |accuracy: 0.8273727297782898 | f1: 0.8728923797607422 | auc: 0.9070557355880737 | treshold: 0.42000000000000004\n"
     ]
    },
    {
     "name": "stderr",
     "output_type": "stream",
     "text": [
      "train... loss:0.8313317596912384:   3%|██▍                                                                      | 165/5000 [35:31<20:35:18, 15.33s/it]"
     ]
    },
    {
     "name": "stdout",
     "output_type": "stream",
     "text": [
      "Test update: epoch: 164 |accuracy: 0.8272760510444641 | f1: 0.8729116916656494 | auc: 0.9076697826385498 | treshold: 0.43\n"
     ]
    },
    {
     "name": "stderr",
     "output_type": "stream",
     "text": [
      "train... loss:0.8276748061180115:   3%|██▍                                                                      | 166/5000 [35:46<20:39:48, 15.39s/it]"
     ]
    },
    {
     "name": "stdout",
     "output_type": "stream",
     "text": [
      "Test update: epoch: 165 |accuracy: 0.8303470015525818 | f1: 0.8736630082130432 | auc: 0.9084630012512207 | treshold: 0.48000000000000004\n"
     ]
    },
    {
     "name": "stderr",
     "output_type": "stream",
     "text": [
      "train... loss:0.8277575671672821:   3%|██▍                                                                      | 167/5000 [36:04<21:31:48, 16.04s/it]"
     ]
    },
    {
     "name": "stdout",
     "output_type": "stream",
     "text": [
      "Test update: epoch: 166 |accuracy: 0.8294039368629456 | f1: 0.8738579154014587 | auc: 0.9094218015670776 | treshold: 0.48000000000000004\n"
     ]
    },
    {
     "name": "stderr",
     "output_type": "stream",
     "text": [
      "train... loss:0.8304346799850464:   3%|██▍                                                                      | 168/5000 [36:19<21:04:36, 15.70s/it]"
     ]
    },
    {
     "name": "stdout",
     "output_type": "stream",
     "text": [
      "Test update: epoch: 167 |accuracy: 0.8314109444618225 | f1: 0.8746674060821533 | auc: 0.9104657769203186 | treshold: 0.52\n"
     ]
    },
    {
     "name": "stderr",
     "output_type": "stream",
     "text": [
      "train... loss:0.8374344408512115:   3%|██▍                                                                      | 169/5000 [36:34<20:49:02, 15.51s/it]"
     ]
    },
    {
     "name": "stdout",
     "output_type": "stream",
     "text": [
      "Test update: epoch: 168 |accuracy: 0.831507682800293 | f1: 0.8749730587005615 | auc: 0.9114940166473389 | treshold: 0.54\n"
     ]
    },
    {
     "name": "stderr",
     "output_type": "stream",
     "text": [
      "train... loss:0.8448829054832458:   3%|██▍                                                                      | 170/5000 [36:50<20:58:51, 15.64s/it]"
     ]
    },
    {
     "name": "stdout",
     "output_type": "stream",
     "text": [
      "Test update: epoch: 169 |accuracy: 0.8321363925933838 | f1: 0.8752425909042358 | auc: 0.9123710989952087 | treshold: 0.5700000000000001\n"
     ]
    },
    {
     "name": "stderr",
     "output_type": "stream",
     "text": [
      "train... loss:0.8529079258441925:   3%|██▍                                                                      | 171/5000 [37:06<21:20:32, 15.91s/it]"
     ]
    },
    {
     "name": "stdout",
     "output_type": "stream",
     "text": [
      "Test update: epoch: 170 |accuracy: 0.831314206123352 | f1: 0.8749013543128967 | auc: 0.9129567742347717 | treshold: 0.5800000000000001\n"
     ]
    },
    {
     "name": "stderr",
     "output_type": "stream",
     "text": [
      "train... loss:0.8208213150501251:   4%|██▊                                                                       | 194/5000 [41:32<8:06:59,  6.08s/it]"
     ]
    },
    {
     "name": "stdout",
     "output_type": "stream",
     "text": [
      "Test update: epoch: 193 |accuracy: 0.8315560221672058 | f1: 0.8753311038017273 | auc: 0.9119088649749756 | treshold: 0.43\n"
     ]
    },
    {
     "name": "stderr",
     "output_type": "stream",
     "text": [
      "train... loss:0.8197702765464783:   4%|██▉                                                                       | 195/5000 [41:38<8:07:38,  6.09s/it]"
     ]
    },
    {
     "name": "stdout",
     "output_type": "stream",
     "text": [
      "Test update: epoch: 194 |accuracy: 0.8314109444618225 | f1: 0.8753575682640076 | auc: 0.9124339818954468 | treshold: 0.46\n"
     ]
    },
    {
     "name": "stderr",
     "output_type": "stream",
     "text": [
      "train... loss:0.8230714201927185:   4%|██▉                                                                       | 196/5000 [41:44<8:06:41,  6.08s/it]"
     ]
    },
    {
     "name": "stdout",
     "output_type": "stream",
     "text": [
      "Test update: epoch: 195 |accuracy: 0.8315802216529846 | f1: 0.8758533596992493 | auc: 0.913144052028656 | treshold: 0.49\n"
     ]
    },
    {
     "name": "stderr",
     "output_type": "stream",
     "text": [
      "train... loss:0.8299492299556732:   4%|██▉                                                                       | 197/5000 [41:50<8:07:23,  6.09s/it]"
     ]
    },
    {
     "name": "stdout",
     "output_type": "stream",
     "text": [
      "Test update: epoch: 196 |accuracy: 0.833901584148407 | f1: 0.876592218875885 | auc: 0.9139360785484314 | treshold: 0.56\n"
     ]
    },
    {
     "name": "stderr",
     "output_type": "stream",
     "text": [
      "train... loss:0.8415687084197998:   4%|██▉                                                                       | 198/5000 [41:56<8:06:29,  6.08s/it]"
     ]
    },
    {
     "name": "stdout",
     "output_type": "stream",
     "text": [
      "Test update: epoch: 197 |accuracy: 0.8310482501983643 | f1: 0.8760312795639038 | auc: 0.9146716594696045 | treshold: 0.56\n"
     ]
    },
    {
     "name": "stderr",
     "output_type": "stream",
     "text": [
      "train... loss:0.8555214107036591:   4%|██▉                                                                       | 199/5000 [42:02<8:06:12,  6.08s/it]"
     ]
    },
    {
     "name": "stdout",
     "output_type": "stream",
     "text": [
      "Test update: epoch: 198 |accuracy: 0.8349171876907349 | f1: 0.8766865730285645 | auc: 0.9151455760002136 | treshold: 0.65\n"
     ]
    },
    {
     "name": "stderr",
     "output_type": "stream",
     "text": [
      "train... loss:0.8222938776016235:   4%|███▎                                                                      | 222/5000 [44:11<7:31:36,  5.67s/it]"
     ]
    },
    {
     "name": "stdout",
     "output_type": "stream",
     "text": [
      "Test update: epoch: 221 |accuracy: 0.8354249596595764 | f1: 0.8779411911964417 | auc: 0.915867805480957 | treshold: 0.35000000000000003\n"
     ]
    },
    {
     "name": "stderr",
     "output_type": "stream",
     "text": [
      "train... loss:0.8158807754516602:   4%|███▎                                                                      | 223/5000 [44:17<7:39:04,  5.77s/it]"
     ]
    },
    {
     "name": "stdout",
     "output_type": "stream",
     "text": [
      "Test update: epoch: 222 |accuracy: 0.8367549180984497 | f1: 0.8784238696098328 | auc: 0.9163389801979065 | treshold: 0.39\n"
     ]
    },
    {
     "name": "stderr",
     "output_type": "stream",
     "text": [
      "train... loss:0.8116485178470612:   4%|███▎                                                                      | 224/5000 [44:24<7:49:43,  5.90s/it]"
     ]
    },
    {
     "name": "stdout",
     "output_type": "stream",
     "text": [
      "Test update: epoch: 223 |accuracy: 0.8360295295715332 | f1: 0.8782913088798523 | auc: 0.9167513847351074 | treshold: 0.42000000000000004\n"
     ]
    },
    {
     "name": "stderr",
     "output_type": "stream",
     "text": [
      "train... loss:0.8106346130371094:   4%|███▎                                                                      | 225/5000 [44:30<7:50:46,  5.92s/it]"
     ]
    },
    {
     "name": "stdout",
     "output_type": "stream",
     "text": [
      "Test update: epoch: 224 |accuracy: 0.8362712860107422 | f1: 0.8788144588470459 | auc: 0.9170482158660889 | treshold: 0.46\n"
     ]
    },
    {
     "name": "stderr",
     "output_type": "stream",
     "text": [
      "train... loss:0.8159869611263275:   5%|███▎                                                                      | 226/5000 [44:35<7:50:16,  5.91s/it]"
     ]
    },
    {
     "name": "stdout",
     "output_type": "stream",
     "text": [
      "Test update: epoch: 225 |accuracy: 0.8355700373649597 | f1: 0.8784629106521606 | auc: 0.9171798229217529 | treshold: 0.51\n"
     ]
    },
    {
     "name": "stderr",
     "output_type": "stream",
     "text": [
      "train... loss:0.8263115882873535:   5%|███▎                                                                      | 227/5000 [44:41<7:50:40,  5.92s/it]"
     ]
    },
    {
     "name": "stdout",
     "output_type": "stream",
     "text": [
      "Test update: epoch: 226 |accuracy: 0.8338290452957153 | f1: 0.8773776888847351 | auc: 0.9171653985977173 | treshold: 0.56\n"
     ]
    },
    {
     "name": "stderr",
     "output_type": "stream",
     "text": [
      "train... loss:0.8407662212848663:   5%|███▎                                                                      | 228/5000 [44:47<7:51:13,  5.92s/it]"
     ]
    },
    {
     "name": "stdout",
     "output_type": "stream",
     "text": [
      "Test update: epoch: 227 |accuracy: 0.8353040814399719 | f1: 0.8775110244750977 | auc: 0.9170526266098022 | treshold: 0.63\n"
     ]
    },
    {
     "name": "stderr",
     "output_type": "stream",
     "text": [
      "train... loss:0.8612762689590454:   5%|███▍                                                                     | 232/5000 [45:23<11:55:10,  9.00s/it]"
     ]
    },
    {
     "name": "stdout",
     "output_type": "stream",
     "text": [
      "Test update: epoch: 231 |accuracy: 0.8375529050827026 | f1: 0.8773326277732849 | auc: 0.917250394821167 | treshold: 0.7100000000000001\n"
     ]
    },
    {
     "name": "stderr",
     "output_type": "stream",
     "text": [
      "train... loss:0.8535575866699219:   5%|███▍                                                                     | 233/5000 [45:35<13:27:08, 10.16s/it]"
     ]
    },
    {
     "name": "stdout",
     "output_type": "stream",
     "text": [
      "Test update: epoch: 232 |accuracy: 0.8394148349761963 | f1: 0.8778576850891113 | auc: 0.9175981879234314 | treshold: 0.7100000000000001\n"
     ]
    },
    {
     "name": "stderr",
     "output_type": "stream",
     "text": [
      "train... loss:0.8436991274356842:   5%|███▍                                                                     | 234/5000 [45:48<14:21:20, 10.84s/it]"
     ]
    },
    {
     "name": "stdout",
     "output_type": "stream",
     "text": [
      "Test update: epoch: 233 |accuracy: 0.8400918841362 | f1: 0.8783681988716125 | auc: 0.9180163145065308 | treshold: 0.6900000000000001\n"
     ]
    },
    {
     "name": "stderr",
     "output_type": "stream",
     "text": [
      "train... loss:0.8336746990680695:   5%|███▍                                                                     | 235/5000 [46:00<15:01:49, 11.36s/it]"
     ]
    },
    {
     "name": "stdout",
     "output_type": "stream",
     "text": [
      "Test update: epoch: 234 |accuracy: 0.8388586640357971 | f1: 0.8785094618797302 | auc: 0.9184421300888062 | treshold: 0.65\n"
     ]
    },
    {
     "name": "stderr",
     "output_type": "stream",
     "text": [
      "train... loss:0.8264431059360504:   5%|███▍                                                                     | 236/5000 [46:13<15:21:03, 11.60s/it]"
     ]
    },
    {
     "name": "stdout",
     "output_type": "stream",
     "text": [
      "Test update: epoch: 235 |accuracy: 0.8411074876785278 | f1: 0.8790249824523926 | auc: 0.9188127517700195 | treshold: 0.64\n"
     ]
    },
    {
     "name": "stderr",
     "output_type": "stream",
     "text": [
      "train... loss:0.8234845697879791:   5%|███▋                                                                     | 255/5000 [49:48<15:19:59, 11.63s/it]"
     ]
    },
    {
     "name": "stdout",
     "output_type": "stream",
     "text": [
      "Test update: epoch: 254 |accuracy: 0.8378188610076904 | f1: 0.8793205618858337 | auc: 0.9190865159034729 | treshold: 0.53\n"
     ]
    },
    {
     "name": "stderr",
     "output_type": "stream",
     "text": [
      "train... loss:0.8309662342071533:   5%|███▋                                                                     | 256/5000 [50:01<15:48:03, 11.99s/it]"
     ]
    },
    {
     "name": "stdout",
     "output_type": "stream",
     "text": [
      "Test update: epoch: 255 |accuracy: 0.8385201096534729 | f1: 0.8791180849075317 | auc: 0.9188315868377686 | treshold: 0.59\n"
     ]
    },
    {
     "name": "stderr",
     "output_type": "stream",
     "text": [
      "train... loss:0.8118630349636078:   5%|███▊                                                                     | 263/5000 [51:27<16:09:32, 12.28s/it]"
     ]
    },
    {
     "name": "stdout",
     "output_type": "stream",
     "text": [
      "Test update: epoch: 262 |accuracy: 0.8378188610076904 | f1: 0.8777232766151428 | auc: 0.9175977110862732 | treshold: 0.62\n"
     ]
    },
    {
     "name": "stderr",
     "output_type": "stream",
     "text": [
      "train... loss:0.807537317276001:   5%|███▉                                                                      | 264/5000 [51:40<16:17:28, 12.38s/it]"
     ]
    },
    {
     "name": "stdout",
     "output_type": "stream",
     "text": [
      "Test update: epoch: 263 |accuracy: 0.838302493095398 | f1: 0.8780612349510193 | auc: 0.9180279970169067 | treshold: 0.6\n"
     ]
    },
    {
     "name": "stderr",
     "output_type": "stream",
     "text": [
      "train... loss:0.8066709041595459:   5%|███▊                                                                     | 265/5000 [51:52<16:21:27, 12.44s/it]"
     ]
    },
    {
     "name": "stdout",
     "output_type": "stream",
     "text": [
      "Test update: epoch: 264 |accuracy: 0.8379881381988525 | f1: 0.8782792091369629 | auc: 0.9185768365859985 | treshold: 0.5700000000000001\n"
     ]
    },
    {
     "name": "stderr",
     "output_type": "stream",
     "text": [
      "train... loss:0.809613972902298:   5%|███▉                                                                      | 266/5000 [52:05<16:19:10, 12.41s/it]"
     ]
    },
    {
     "name": "stdout",
     "output_type": "stream",
     "text": [
      "Test update: epoch: 265 |accuracy: 0.8400435447692871 | f1: 0.8789148926734924 | auc: 0.9191609621047974 | treshold: 0.56\n"
     ]
    },
    {
     "name": "stderr",
     "output_type": "stream",
     "text": [
      "train... loss:0.8160002529621124:   5%|███▉                                                                     | 267/5000 [52:17<16:09:20, 12.29s/it]"
     ]
    },
    {
     "name": "stdout",
     "output_type": "stream",
     "text": [
      "Test update: epoch: 266 |accuracy: 0.8403337001800537 | f1: 0.879593014717102 | auc: 0.9196783304214478 | treshold: 0.53\n"
     ]
    },
    {
     "name": "stderr",
     "output_type": "stream",
     "text": [
      "train... loss:0.823659211397171:   5%|███▉                                                                      | 268/5000 [52:29<16:00:50, 12.18s/it]"
     ]
    },
    {
     "name": "stdout",
     "output_type": "stream",
     "text": [
      "Test update: epoch: 267 |accuracy: 0.8414701819419861 | f1: 0.8796445727348328 | auc: 0.9200175404548645 | treshold: 0.52\n"
     ]
    },
    {
     "name": "stderr",
     "output_type": "stream",
     "text": [
      "train... loss:0.8358251452445984:   6%|████▏                                                                    | 287/5000 [56:06<15:51:15, 12.11s/it]"
     ]
    },
    {
     "name": "stdout",
     "output_type": "stream",
     "text": [
      "Test update: epoch: 286 |accuracy: 0.8400676846504211 | f1: 0.880276620388031 | auc: 0.9213607907295227 | treshold: 0.63\n"
     ]
    },
    {
     "name": "stderr",
     "output_type": "stream",
     "text": [
      "train... loss:0.8376716673374176:   6%|████▏                                                                    | 288/5000 [56:19<16:15:07, 12.42s/it]"
     ]
    },
    {
     "name": "stdout",
     "output_type": "stream",
     "text": [
      "Test update: epoch: 287 |accuracy: 0.8406238555908203 | f1: 0.8799999952316284 | auc: 0.921272873878479 | treshold: 0.66\n"
     ]
    },
    {
     "name": "stderr",
     "output_type": "stream",
     "text": [
      "train... loss:0.8356615900993347:   6%|████▏                                                                    | 289/5000 [56:31<16:21:33, 12.50s/it]"
     ]
    },
    {
     "name": "stdout",
     "output_type": "stream",
     "text": [
      "Test update: epoch: 288 |accuracy: 0.8408656716346741 | f1: 0.87989342212677 | auc: 0.9212003350257874 | treshold: 0.67\n"
     ]
    },
    {
     "name": "stderr",
     "output_type": "stream",
     "text": [
      "train... loss:0.8301622867584229:   6%|████▏                                                                    | 290/5000 [56:44<16:32:07, 12.64s/it]"
     ]
    },
    {
     "name": "stdout",
     "output_type": "stream",
     "text": [
      "Test update: epoch: 289 |accuracy: 0.8407205939292908 | f1: 0.879608154296875 | auc: 0.9211695194244385 | treshold: 0.67\n"
     ]
    },
    {
     "name": "stderr",
     "output_type": "stream",
     "text": [
      "train... loss:0.8219057619571686:   6%|████▏                                                                    | 291/5000 [56:57<16:35:47, 12.69s/it]"
     ]
    },
    {
     "name": "stdout",
     "output_type": "stream",
     "text": [
      "Test update: epoch: 290 |accuracy: 0.8418087363243103 | f1: 0.8798442482948303 | auc: 0.9212010502815247 | treshold: 0.67\n"
     ]
    },
    {
     "name": "stderr",
     "output_type": "stream",
     "text": [
      "train... loss:0.8139361441135406:   6%|████▎                                                                    | 292/5000 [57:10<16:41:54, 12.77s/it]"
     ]
    },
    {
     "name": "stdout",
     "output_type": "stream",
     "text": [
      "Test update: epoch: 291 |accuracy: 0.8403820395469666 | f1: 0.8796470165252686 | auc: 0.9212938547134399 | treshold: 0.64\n"
     ]
    },
    {
     "name": "stderr",
     "output_type": "stream",
     "text": [
      "train... loss:0.8057137131690979:   6%|████▎                                                                    | 293/5000 [57:22<16:25:44, 12.57s/it]"
     ]
    },
    {
     "name": "stdout",
     "output_type": "stream",
     "text": [
      "Test update: epoch: 292 |accuracy: 0.8405513167381287 | f1: 0.8799082040786743 | auc: 0.9214478135108948 | treshold: 0.62\n"
     ]
    },
    {
     "name": "stderr",
     "output_type": "stream",
     "text": [
      "train... loss:0.7997761368751526:   6%|████▎                                                                    | 294/5000 [57:35<16:20:05, 12.50s/it]"
     ]
    },
    {
     "name": "stdout",
     "output_type": "stream",
     "text": [
      "Test update: epoch: 293 |accuracy: 0.8406722545623779 | f1: 0.8800320625305176 | auc: 0.9216557145118713 | treshold: 0.6\n"
     ]
    },
    {
     "name": "stderr",
     "output_type": "stream",
     "text": [
      "train... loss:0.7973372042179108:   6%|████▎                                                                    | 295/5000 [57:46<16:07:31, 12.34s/it]"
     ]
    },
    {
     "name": "stdout",
     "output_type": "stream",
     "text": [
      "Test update: epoch: 294 |accuracy: 0.8413251042366028 | f1: 0.8803908228874207 | auc: 0.9219102263450623 | treshold: 0.5800000000000001\n"
     ]
    },
    {
     "name": "stderr",
     "output_type": "stream",
     "text": [
      "train... loss:0.7979866862297058:   6%|████▎                                                                    | 296/5000 [57:59<16:11:24, 12.39s/it]"
     ]
    },
    {
     "name": "stdout",
     "output_type": "stream",
     "text": [
      "Test update: epoch: 295 |accuracy: 0.8421714305877686 | f1: 0.8808441758155823 | auc: 0.9221782088279724 | treshold: 0.56\n"
     ]
    },
    {
     "name": "stderr",
     "output_type": "stream",
     "text": [
      "train... loss:0.8020991384983063:   6%|████▎                                                                    | 297/5000 [58:12<16:14:43, 12.44s/it]"
     ]
    },
    {
     "name": "stdout",
     "output_type": "stream",
     "text": [
      "Test update: epoch: 296 |accuracy: 0.842485785484314 | f1: 0.8807876706123352 | auc: 0.9224144816398621 | treshold: 0.54\n"
     ]
    },
    {
     "name": "stderr",
     "output_type": "stream",
     "text": [
      "train... loss:0.8086342811584473:   6%|████▎                                                                    | 298/5000 [58:24<16:03:45, 12.30s/it]"
     ]
    },
    {
     "name": "stdout",
     "output_type": "stream",
     "text": [
      "Test update: epoch: 297 |accuracy: 0.8431628346443176 | f1: 0.8810213804244995 | auc: 0.9225640892982483 | treshold: 0.52\n"
     ]
    },
    {
     "name": "stderr",
     "output_type": "stream",
     "text": [
      "train... loss:0.7901125550270081:   7%|████▊                                                                  | 341/5000 [1:06:43<14:56:35, 11.55s/it]"
     ]
    },
    {
     "name": "stdout",
     "output_type": "stream",
     "text": [
      "Test update: epoch: 340 |accuracy: 0.8424615859985352 | f1: 0.8818954825401306 | auc: 0.9228752851486206 | treshold: 0.4\n"
     ]
    },
    {
     "name": "stderr",
     "output_type": "stream",
     "text": [
      "train... loss:0.7908514440059662:   7%|████▊                                                                  | 342/5000 [1:06:55<15:02:18, 11.62s/it]"
     ]
    },
    {
     "name": "stdout",
     "output_type": "stream",
     "text": [
      "Test update: epoch: 341 |accuracy: 0.842485785484314 | f1: 0.8820098638534546 | auc: 0.9232251644134521 | treshold: 0.42000000000000004\n"
     ]
    },
    {
     "name": "stderr",
     "output_type": "stream",
     "text": [
      "train... loss:0.7923521399497986:   7%|████▊                                                                  | 343/5000 [1:07:07<15:14:41, 11.78s/it]"
     ]
    },
    {
     "name": "stdout",
     "output_type": "stream",
     "text": [
      "Test update: epoch: 342 |accuracy: 0.8427276015281677 | f1: 0.8825101852416992 | auc: 0.923568844795227 | treshold: 0.44\n"
     ]
    },
    {
     "name": "stderr",
     "output_type": "stream",
     "text": [
      "train... loss:0.7968917489051819:   7%|████▉                                                                  | 344/5000 [1:07:18<15:08:19, 11.71s/it]"
     ]
    },
    {
     "name": "stdout",
     "output_type": "stream",
     "text": [
      "Test update: epoch: 343 |accuracy: 0.8425825238227844 | f1: 0.8826942443847656 | auc: 0.9238537549972534 | treshold: 0.47000000000000003\n"
     ]
    },
    {
     "name": "stderr",
     "output_type": "stream",
     "text": [
      "train... loss:0.8031140863895416:   7%|████▉                                                                  | 345/5000 [1:07:30<15:09:53, 11.73s/it]"
     ]
    },
    {
     "name": "stdout",
     "output_type": "stream",
     "text": [
      "Test update: epoch: 344 |accuracy: 0.8417119979858398 | f1: 0.8820880651473999 | auc: 0.9240178465843201 | treshold: 0.51\n"
     ]
    },
    {
     "name": "stderr",
     "output_type": "stream",
     "text": [
      "train... loss:0.7848590314388275:   7%|█████▎                                                                 | 370/5000 [1:12:21<14:39:24, 11.40s/it]"
     ]
    },
    {
     "name": "stdout",
     "output_type": "stream",
     "text": [
      "Test update: epoch: 369 |accuracy: 0.8435013890266418 | f1: 0.8824555277824402 | auc: 0.923673152923584 | treshold: 0.39\n"
     ]
    },
    {
     "name": "stderr",
     "output_type": "stream",
     "text": [
      "train... loss:0.7841184139251709:   7%|█████▎                                                                 | 371/5000 [1:12:33<14:42:48, 11.44s/it]"
     ]
    },
    {
     "name": "stdout",
     "output_type": "stream",
     "text": [
      "Test update: epoch: 370 |accuracy: 0.8430419564247131 | f1: 0.8822665214538574 | auc: 0.9238390922546387 | treshold: 0.4\n"
     ]
    },
    {
     "name": "stderr",
     "output_type": "stream",
     "text": [
      "train... loss:0.7842201888561249:   7%|█████▎                                                                 | 372/5000 [1:12:44<14:46:35, 11.49s/it]"
     ]
    },
    {
     "name": "stdout",
     "output_type": "stream",
     "text": [
      "Test update: epoch: 371 |accuracy: 0.8421714305877686 | f1: 0.8823052048683167 | auc: 0.9240344762802124 | treshold: 0.4\n"
     ]
    },
    {
     "name": "stderr",
     "output_type": "stream",
     "text": [
      "train... loss:0.7859532237052917:   7%|█████▎                                                                 | 373/5000 [1:12:56<14:44:53, 11.47s/it]"
     ]
    },
    {
     "name": "stdout",
     "output_type": "stream",
     "text": [
      "Test update: epoch: 372 |accuracy: 0.8425341844558716 | f1: 0.8825481534004211 | auc: 0.9242294430732727 | treshold: 0.43\n"
     ]
    },
    {
     "name": "stderr",
     "output_type": "stream",
     "text": [
      "train... loss:0.7910929918289185:   7%|█████▎                                                                 | 374/5000 [1:13:08<14:55:25, 11.61s/it]"
     ]
    },
    {
     "name": "stdout",
     "output_type": "stream",
     "text": [
      "Test update: epoch: 373 |accuracy: 0.8432837724685669 | f1: 0.8827499151229858 | auc: 0.9243979454040527 | treshold: 0.48000000000000004\n"
     ]
    },
    {
     "name": "stderr",
     "output_type": "stream",
     "text": [
      "train... loss:0.7978121638298035:   8%|█████▎                                                                 | 375/5000 [1:13:20<15:01:52, 11.70s/it]"
     ]
    },
    {
     "name": "stdout",
     "output_type": "stream",
     "text": [
      "Test update: epoch: 374 |accuracy: 0.8426792621612549 | f1: 0.8826351761817932 | auc: 0.9245094060897827 | treshold: 0.51\n"
     ]
    },
    {
     "name": "stderr",
     "output_type": "stream",
     "text": [
      "train... loss:0.8050346970558167:   8%|█████▎                                                                 | 376/5000 [1:13:32<15:17:37, 11.91s/it]"
     ]
    },
    {
     "name": "stdout",
     "output_type": "stream",
     "text": [
      "Test update: epoch: 375 |accuracy: 0.8436948657035828 | f1: 0.8827413320541382 | auc: 0.9245486855506897 | treshold: 0.5700000000000001\n"
     ]
    },
    {
     "name": "stderr",
     "output_type": "stream",
     "text": [
      "train... loss:0.7825222313404083:   8%|█████▋                                                                 | 400/5000 [1:18:13<14:29:33, 11.34s/it]"
     ]
    },
    {
     "name": "stdout",
     "output_type": "stream",
     "text": [
      "Test update: epoch: 399 |accuracy: 0.8437190055847168 | f1: 0.8831009268760681 | auc: 0.9245571494102478 | treshold: 0.37\n"
     ]
    },
    {
     "name": "stderr",
     "output_type": "stream",
     "text": [
      "train... loss:0.7806113064289093:   8%|█████▋                                                                 | 401/5000 [1:18:25<14:43:00, 11.52s/it]"
     ]
    },
    {
     "name": "stdout",
     "output_type": "stream",
     "text": [
      "Test update: epoch: 400 |accuracy: 0.8434046506881714 | f1: 0.8826045989990234 | auc: 0.9247334003448486 | treshold: 0.39\n"
     ]
    },
    {
     "name": "stderr",
     "output_type": "stream",
     "text": [
      "train... loss:0.7801927626132965:   8%|█████▋                                                                 | 402/5000 [1:18:36<14:36:45, 11.44s/it]"
     ]
    },
    {
     "name": "stdout",
     "output_type": "stream",
     "text": [
      "Test update: epoch: 401 |accuracy: 0.8429210782051086 | f1: 0.8828663229942322 | auc: 0.9249321222305298 | treshold: 0.39\n"
     ]
    },
    {
     "name": "stderr",
     "output_type": "stream",
     "text": [
      "train... loss:0.7816120088100433:   8%|█████▋                                                                 | 403/5000 [1:18:48<14:41:02, 11.50s/it]"
     ]
    },
    {
     "name": "stdout",
     "output_type": "stream",
     "text": [
      "Test update: epoch: 402 |accuracy: 0.8421956300735474 | f1: 0.8826047778129578 | auc: 0.9251248836517334 | treshold: 0.41000000000000003\n"
     ]
    },
    {
     "name": "stderr",
     "output_type": "stream",
     "text": [
      "train... loss:0.785638689994812:   8%|█████▊                                                                  | 404/5000 [1:19:00<14:59:37, 11.74s/it]"
     ]
    },
    {
     "name": "stdout",
     "output_type": "stream",
     "text": [
      "Test update: epoch: 403 |accuracy: 0.8437915444374084 | f1: 0.8834356069564819 | auc: 0.9252848625183105 | treshold: 0.46\n"
     ]
    },
    {
     "name": "stderr",
     "output_type": "stream",
     "text": [
      "train... loss:0.7910557687282562:   8%|█████▊                                                                 | 405/5000 [1:19:12<15:06:32, 11.84s/it]"
     ]
    },
    {
     "name": "stdout",
     "output_type": "stream",
     "text": [
      "Test update: epoch: 404 |accuracy: 0.8428243398666382 | f1: 0.8831271529197693 | auc: 0.9253858327865601 | treshold: 0.49\n"
     ]
    },
    {
     "name": "stderr",
     "output_type": "stream",
     "text": [
      "train... loss:0.7984999418258667:   8%|█████▊                                                                 | 406/5000 [1:19:25<15:39:07, 12.27s/it]"
     ]
    },
    {
     "name": "stdout",
     "output_type": "stream",
     "text": [
      "Test update: epoch: 405 |accuracy: 0.8431386947631836 | f1: 0.8830686807632446 | auc: 0.9254088997840881 | treshold: 0.54\n"
     ]
    },
    {
     "name": "stderr",
     "output_type": "stream",
     "text": [
      "train... loss:0.788064032793045:   8%|█████▉                                                                  | 415/5000 [1:21:01<11:35:04,  9.10s/it]"
     ]
    },
    {
     "name": "stdout",
     "output_type": "stream",
     "text": [
      "Test update: epoch: 414 |accuracy: 0.8460887670516968 | f1: 0.8835166692733765 | auc: 0.9255103468894958 | treshold: 0.61\n"
     ]
    },
    {
     "name": "stderr",
     "output_type": "stream",
     "text": [
      "train... loss:0.7861357033252716:   8%|█████▉                                                                 | 416/5000 [1:21:07<10:24:37,  8.18s/it]"
     ]
    },
    {
     "name": "stdout",
     "output_type": "stream",
     "text": [
      "Test update: epoch: 415 |accuracy: 0.8462338447570801 | f1: 0.883613646030426 | auc: 0.9256366491317749 | treshold: 0.59\n"
     ]
    },
    {
     "name": "stderr",
     "output_type": "stream",
     "text": [
      "train... loss:0.7877471446990967:   8%|██████                                                                  | 417/5000 [1:21:13<9:36:52,  7.55s/it]"
     ]
    },
    {
     "name": "stdout",
     "output_type": "stream",
     "text": [
      "Test update: epoch: 416 |accuracy: 0.8467658162117004 | f1: 0.8838547468185425 | auc: 0.9257529973983765 | treshold: 0.5700000000000001\n"
     ]
    },
    {
     "name": "stderr",
     "output_type": "stream",
     "text": [
      "train... loss:0.7924066781997681:   8%|██████                                                                  | 418/5000 [1:21:19<9:00:20,  7.08s/it]"
     ]
    },
    {
     "name": "stdout",
     "output_type": "stream",
     "text": [
      "Test update: epoch: 417 |accuracy: 0.8470317721366882 | f1: 0.883905291557312 | auc: 0.9258370995521545 | treshold: 0.55\n"
     ]
    },
    {
     "name": "stderr",
     "output_type": "stream",
     "text": [
      "train... loss:0.7982332110404968:   8%|██████                                                                  | 419/5000 [1:21:25<8:34:55,  6.74s/it]"
     ]
    },
    {
     "name": "stdout",
     "output_type": "stream",
     "text": [
      "Test update: epoch: 418 |accuracy: 0.8468866944313049 | f1: 0.8836457133293152 | auc: 0.9258682131767273 | treshold: 0.53\n"
     ]
    },
    {
     "name": "stderr",
     "output_type": "stream",
     "text": [
      "train... loss:0.776638388633728:   9%|██████▎                                                                  | 432/5000 [1:22:35<6:55:54,  5.46s/it]"
     ]
    },
    {
     "name": "stdout",
     "output_type": "stream",
     "text": [
      "Test update: epoch: 431 |accuracy: 0.8438882827758789 | f1: 0.8834783434867859 | auc: 0.9258774518966675 | treshold: 0.39\n"
     ]
    },
    {
     "name": "stderr",
     "output_type": "stream",
     "text": [
      "train... loss:0.7775849997997284:   9%|██████▏                                                                 | 433/5000 [1:22:41<7:04:23,  5.58s/it]"
     ]
    },
    {
     "name": "stdout",
     "output_type": "stream",
     "text": [
      "Test update: epoch: 432 |accuracy: 0.8457744121551514 | f1: 0.8835408687591553 | auc: 0.9260134696960449 | treshold: 0.46\n"
     ]
    },
    {
     "name": "stderr",
     "output_type": "stream",
     "text": [
      "train... loss:0.7817414700984955:   9%|██████▏                                                                 | 434/5000 [1:22:47<7:10:18,  5.65s/it]"
     ]
    },
    {
     "name": "stdout",
     "output_type": "stream",
     "text": [
      "Test update: epoch: 433 |accuracy: 0.844275176525116 | f1: 0.8837209343910217 | auc: 0.9261030554771423 | treshold: 0.45\n"
     ]
    },
    {
     "name": "stderr",
     "output_type": "stream",
     "text": [
      "train... loss:0.7869268357753754:   9%|██████▎                                                                 | 435/5000 [1:22:53<7:16:09,  5.73s/it]"
     ]
    },
    {
     "name": "stdout",
     "output_type": "stream",
     "text": [
      "Test update: epoch: 434 |accuracy: 0.8446137309074402 | f1: 0.883401095867157 | auc: 0.926124095916748 | treshold: 0.51\n"
     ]
    },
    {
     "name": "stderr",
     "output_type": "stream",
     "text": [
      "train... loss:0.7830228805541992:   9%|██████▍                                                                 | 445/5000 [1:23:48<7:12:17,  5.69s/it]"
     ]
    },
    {
     "name": "stdout",
     "output_type": "stream",
     "text": [
      "Test update: epoch: 444 |accuracy: 0.8459436297416687 | f1: 0.8836155533790588 | auc: 0.9260237216949463 | treshold: 0.6\n"
     ]
    },
    {
     "name": "stderr",
     "output_type": "stream",
     "text": [
      "train... loss:0.7810800671577454:   9%|██████▍                                                                 | 446/5000 [1:23:54<7:18:25,  5.78s/it]"
     ]
    },
    {
     "name": "stdout",
     "output_type": "stream",
     "text": [
      "Test update: epoch: 445 |accuracy: 0.8466207385063171 | f1: 0.8836467266082764 | auc: 0.9262356758117676 | treshold: 0.59\n"
     ]
    },
    {
     "name": "stderr",
     "output_type": "stream",
     "text": [
      "train... loss:0.7821415066719055:   9%|██████▍                                                                 | 447/5000 [1:24:00<7:22:42,  5.83s/it]"
     ]
    },
    {
     "name": "stdout",
     "output_type": "stream",
     "text": [
      "Test update: epoch: 446 |accuracy: 0.8468141555786133 | f1: 0.8836867809295654 | auc: 0.9264645576477051 | treshold: 0.5700000000000001\n"
     ]
    },
    {
     "name": "stderr",
     "output_type": "stream",
     "text": [
      "train... loss:0.7867287695407867:   9%|██████▍                                                                 | 448/5000 [1:24:06<7:24:32,  5.86s/it]"
     ]
    },
    {
     "name": "stdout",
     "output_type": "stream",
     "text": [
      "Test update: epoch: 447 |accuracy: 0.8471769094467163 | f1: 0.8838363289833069 | auc: 0.9266761541366577 | treshold: 0.55\n"
     ]
    },
    {
     "name": "stderr",
     "output_type": "stream",
     "text": [
      "train... loss:0.7925892174243927:   9%|██████▍                                                                 | 449/5000 [1:24:12<7:24:53,  5.87s/it]"
     ]
    },
    {
     "name": "stdout",
     "output_type": "stream",
     "text": [
      "Test update: epoch: 448 |accuracy: 0.8470801711082458 | f1: 0.8835787773132324 | auc: 0.9268293380737305 | treshold: 0.53\n"
     ]
    },
    {
     "name": "stderr",
     "output_type": "stream",
     "text": [
      "train... loss:0.7980123460292816:   9%|██████▍                                                                 | 450/5000 [1:24:18<7:25:14,  5.87s/it]"
     ]
    },
    {
     "name": "stdout",
     "output_type": "stream",
     "text": [
      "Test update: epoch: 449 |accuracy: 0.847249448299408 | f1: 0.8836198449134827 | auc: 0.9268838167190552 | treshold: 0.51\n"
     ]
    },
    {
     "name": "stderr",
     "output_type": "stream",
     "text": [
      "train... loss:0.7766115963459015:   9%|██████▋                                                                 | 464/5000 [1:25:33<6:53:15,  5.47s/it]"
     ]
    },
    {
     "name": "stdout",
     "output_type": "stream",
     "text": [
      "Test update: epoch: 463 |accuracy: 0.8449038863182068 | f1: 0.8838422298431396 | auc: 0.9269716739654541 | treshold: 0.47000000000000003\n"
     ]
    },
    {
     "name": "stderr",
     "output_type": "stream",
     "text": [
      "train... loss:0.7956324815750122:  10%|██████▉                                                                 | 479/5000 [1:26:55<7:00:59,  5.59s/it]"
     ]
    },
    {
     "name": "stdout",
     "output_type": "stream",
     "text": [
      "Test update: epoch: 478 |accuracy: 0.8485310077667236 | f1: 0.884445071220398 | auc: 0.9266988039016724 | treshold: 0.51\n"
     ]
    },
    {
     "name": "stderr",
     "output_type": "stream",
     "text": [
      "train... loss:0.7999086380004883:  10%|██████▉                                                                 | 480/5000 [1:27:01<7:06:00,  5.65s/it]"
     ]
    },
    {
     "name": "stdout",
     "output_type": "stream",
     "text": [
      "Test update: epoch: 479 |accuracy: 0.8482650518417358 | f1: 0.8847587704658508 | auc: 0.9267271757125854 | treshold: 0.48000000000000004\n"
     ]
    },
    {
     "name": "stderr",
     "output_type": "stream",
     "text": [
      "train... loss:0.7758655846118927:  10%|███████                                                                 | 487/5000 [1:27:39<6:49:17,  5.44s/it]"
     ]
    },
    {
     "name": "stdout",
     "output_type": "stream",
     "text": [
      "Test update: epoch: 486 |accuracy: 0.8464998006820679 | f1: 0.884870707988739 | auc: 0.9266557693481445 | treshold: 0.38\n"
     ]
    },
    {
     "name": "stderr",
     "output_type": "stream",
     "text": [
      "train... loss:0.7727353870868683:  10%|███████                                                                 | 488/5000 [1:27:44<6:56:55,  5.54s/it]"
     ]
    },
    {
     "name": "stdout",
     "output_type": "stream",
     "text": [
      "Test update: epoch: 487 |accuracy: 0.8469834327697754 | f1: 0.8846266269683838 | auc: 0.9268032312393188 | treshold: 0.4\n"
     ]
    },
    {
     "name": "stderr",
     "output_type": "stream",
     "text": [
      "train... loss:0.7700571417808533:  10%|███████                                                                 | 489/5000 [1:27:50<7:03:18,  5.63s/it]"
     ]
    },
    {
     "name": "stdout",
     "output_type": "stream",
     "text": [
      "Test update: epoch: 488 |accuracy: 0.8462338447570801 | f1: 0.8848028182983398 | auc: 0.926987886428833 | treshold: 0.39\n"
     ]
    },
    {
     "name": "stderr",
     "output_type": "stream",
     "text": [
      "train... loss:0.76943439245224:  10%|███████▎                                                                  | 490/5000 [1:27:56<7:07:54,  5.69s/it]"
     ]
    },
    {
     "name": "stdout",
     "output_type": "stream",
     "text": [
      "Test update: epoch: 489 |accuracy: 0.846451461315155 | f1: 0.8848260641098022 | auc: 0.927198052406311 | treshold: 0.41000000000000003\n"
     ]
    },
    {
     "name": "stderr",
     "output_type": "stream",
     "text": [
      "train... loss:0.7694355249404907:  10%|███████                                                                 | 491/5000 [1:28:02<7:13:14,  5.77s/it]"
     ]
    },
    {
     "name": "stdout",
     "output_type": "stream",
     "text": [
      "Test update: epoch: 490 |accuracy: 0.8466448783874512 | f1: 0.88509202003479 | auc: 0.9274046421051025 | treshold: 0.43\n"
     ]
    },
    {
     "name": "stderr",
     "output_type": "stream",
     "text": [
      "train... loss:0.771679013967514:  10%|███████▏                                                                 | 492/5000 [1:28:08<7:14:03,  5.78s/it]"
     ]
    },
    {
     "name": "stdout",
     "output_type": "stream",
     "text": [
      "Test update: epoch: 491 |accuracy: 0.8463305234909058 | f1: 0.8848752975463867 | auc: 0.9275814294815063 | treshold: 0.46\n"
     ]
    },
    {
     "name": "stderr",
     "output_type": "stream",
     "text": [
      "train... loss:0.7760909795761108:  10%|███████                                                                 | 493/5000 [1:28:14<7:16:54,  5.82s/it]"
     ]
    },
    {
     "name": "stdout",
     "output_type": "stream",
     "text": [
      "Test update: epoch: 492 |accuracy: 0.8456293344497681 | f1: 0.8851509094238281 | auc: 0.927692711353302 | treshold: 0.47000000000000003\n"
     ]
    },
    {
     "name": "stderr",
     "output_type": "stream",
     "text": [
      "train... loss:0.7712457478046417:  10%|███████▍                                                                | 520/5000 [1:30:40<6:49:51,  5.49s/it]"
     ]
    },
    {
     "name": "stdout",
     "output_type": "stream",
     "text": [
      "Test update: epoch: 519 |accuracy: 0.844662070274353 | f1: 0.8843356370925903 | auc: 0.9274675846099854 | treshold: 0.41000000000000003\n"
     ]
    },
    {
     "name": "stderr",
     "output_type": "stream",
     "text": [
      "train... loss:0.7740767598152161:  10%|███████▌                                                                | 521/5000 [1:30:46<6:58:28,  5.61s/it]"
     ]
    },
    {
     "name": "stdout",
     "output_type": "stream",
     "text": [
      "Test update: epoch: 520 |accuracy: 0.8451457023620605 | f1: 0.8842706084251404 | auc: 0.9278373718261719 | treshold: 0.46\n"
     ]
    },
    {
     "name": "stderr",
     "output_type": "stream",
     "text": [
      "train... loss:0.7798688113689423:  10%|███████▌                                                                | 522/5000 [1:30:52<7:04:55,  5.69s/it]"
     ]
    },
    {
     "name": "stdout",
     "output_type": "stream",
     "text": [
      "Test update: epoch: 521 |accuracy: 0.8452907800674438 | f1: 0.8846708536148071 | auc: 0.9281188249588013 | treshold: 0.49\n"
     ]
    },
    {
     "name": "stderr",
     "output_type": "stream",
     "text": [
      "train... loss:0.7858054339885712:  10%|███████▌                                                                | 523/5000 [1:30:58<7:05:32,  5.70s/it]"
     ]
    },
    {
     "name": "stdout",
     "output_type": "stream",
     "text": [
      "Test update: epoch: 522 |accuracy: 0.8463305234909058 | f1: 0.885162353515625 | auc: 0.9282742142677307 | treshold: 0.54\n"
     ]
    },
    {
     "name": "stderr",
     "output_type": "stream",
     "text": [
      "train... loss:0.7721728086471558:  11%|███████▋                                                                | 535/5000 [1:32:03<6:54:34,  5.57s/it]"
     ]
    },
    {
     "name": "stdout",
     "output_type": "stream",
     "text": [
      "Test update: epoch: 534 |accuracy: 0.8501027822494507 | f1: 0.8856209516525269 | auc: 0.9284008741378784 | treshold: 0.54\n"
     ]
    },
    {
     "name": "stderr",
     "output_type": "stream",
     "text": [
      "train... loss:0.7772923409938812:  11%|███████▋                                                                | 536/5000 [1:32:09<7:01:01,  5.66s/it]"
     ]
    },
    {
     "name": "stdout",
     "output_type": "stream",
     "text": [
      "Test update: epoch: 535 |accuracy: 0.8494015336036682 | f1: 0.8853418827056885 | auc: 0.9285350441932678 | treshold: 0.51\n"
     ]
    },
    {
     "name": "stderr",
     "output_type": "stream",
     "text": [
      "train... loss:0.783683568239212:  11%|███████▊                                                                 | 537/5000 [1:32:15<7:09:30,  5.77s/it]"
     ]
    },
    {
     "name": "stdout",
     "output_type": "stream",
     "text": [
      "Test update: epoch: 536 |accuracy: 0.8494982719421387 | f1: 0.8851957321166992 | auc: 0.928538978099823 | treshold: 0.49\n"
     ]
    },
    {
     "name": "stderr",
     "output_type": "stream",
     "text": [
      "train... loss:0.795808881521225:  11%|███████▊                                                                | 539/5000 [1:32:31<12:45:48, 10.30s/it]\n"
     ]
    },
    {
     "name": "stdout",
     "output_type": "stream",
     "text": [
      "\n",
      "Evaluating InSlateAttention with svd embeddings\n"
     ]
    },
    {
     "name": "stderr",
     "output_type": "stream",
     "text": [
      "\r",
      "train:   0%|                                                                                                                 | 0/5000 [00:00<?, ?it/s]"
     ]
    },
    {
     "name": "stdout",
     "output_type": "stream",
     "text": [
      "Test before learning: {'f1': 0.42934972047805786, 'roc-auc': 0.5041868090629578, 'accuracy': 0.4427759647369385}\n"
     ]
    },
    {
     "name": "stderr",
     "output_type": "stream",
     "text": [
      "train... loss:1.3877792954444885:   0%|                                                                            | 1/5000 [00:05<7:43:49,  5.57s/it]"
     ]
    },
    {
     "name": "stdout",
     "output_type": "stream",
     "text": [
      "Test update: epoch: 0 |accuracy: 0.6460161805152893 | f1: 0.7844321131706238 | auc: 0.5828293561935425 | treshold: 0.45\n"
     ]
    },
    {
     "name": "stderr",
     "output_type": "stream",
     "text": [
      "train... loss:1.3640322089195251:   0%|                                                                            | 2/5000 [00:11<7:46:22,  5.60s/it]"
     ]
    },
    {
     "name": "stdout",
     "output_type": "stream",
     "text": [
      "Test update: epoch: 1 |accuracy: 0.6480473875999451 | f1: 0.7847753167152405 | auc: 0.6347019076347351 | treshold: 0.47000000000000003\n"
     ]
    },
    {
     "name": "stderr",
     "output_type": "stream",
     "text": [
      "train... loss:1.3420997858047485:   0%|                                                                            | 3/5000 [00:16<7:46:23,  5.60s/it]"
     ]
    },
    {
     "name": "stdout",
     "output_type": "stream",
     "text": [
      "Test update: epoch: 2 |accuracy: 0.6486518979072571 | f1: 0.7849382758140564 | auc: 0.6577098965644836 | treshold: 0.47000000000000003\n"
     ]
    },
    {
     "name": "stderr",
     "output_type": "stream",
     "text": [
      "train... loss:1.3205482959747314:   0%|                                                                            | 4/5000 [00:22<7:47:33,  5.62s/it]"
     ]
    },
    {
     "name": "stdout",
     "output_type": "stream",
     "text": [
      "Test update: epoch: 3 |accuracy: 0.6537299156188965 | f1: 0.7861729264259338 | auc: 0.6684274673461914 | treshold: 0.48000000000000004\n"
     ]
    },
    {
     "name": "stderr",
     "output_type": "stream",
     "text": [
      "train... loss:1.2987961173057556:   0%|                                                                            | 5/5000 [00:28<7:48:26,  5.63s/it]"
     ]
    },
    {
     "name": "stdout",
     "output_type": "stream",
     "text": [
      "Test update: epoch: 4 |accuracy: 0.6549872756004333 | f1: 0.7865924835205078 | auc: 0.6757944226264954 | treshold: 0.48000000000000004\n"
     ]
    },
    {
     "name": "stderr",
     "output_type": "stream",
     "text": [
      "train... loss:1.2775801420211792:   0%|                                                                            | 6/5000 [00:33<7:49:30,  5.64s/it]"
     ]
    },
    {
     "name": "stdout",
     "output_type": "stream",
     "text": [
      "Test update: epoch: 5 |accuracy: 0.6564865112304688 | f1: 0.7870547771453857 | auc: 0.6828247308731079 | treshold: 0.48000000000000004\n"
     ]
    },
    {
     "name": "stderr",
     "output_type": "stream",
     "text": [
      "train... loss:1.2577738165855408:   0%|                                                                            | 7/5000 [00:39<7:50:37,  5.66s/it]"
     ]
    },
    {
     "name": "stdout",
     "output_type": "stream",
     "text": [
      "Test update: epoch: 6 |accuracy: 0.6585177183151245 | f1: 0.7878878712654114 | auc: 0.6902974247932434 | treshold: 0.48000000000000004\n"
     ]
    },
    {
     "name": "stderr",
     "output_type": "stream",
     "text": [
      "train... loss:1.2398735284805298:   0%|                                                                            | 8/5000 [00:45<7:52:48,  5.68s/it]"
     ]
    },
    {
     "name": "stdout",
     "output_type": "stream",
     "text": [
      "Test update: epoch: 7 |accuracy: 0.6653125286102295 | f1: 0.7891666293144226 | auc: 0.6983567476272583 | treshold: 0.5\n"
     ]
    },
    {
     "name": "stderr",
     "output_type": "stream",
     "text": [
      "train... loss:1.2247146368026733:   0%|▏                                                                           | 9/5000 [00:50<7:52:18,  5.68s/it]"
     ]
    },
    {
     "name": "stdout",
     "output_type": "stream",
     "text": [
      "Test update: epoch: 8 |accuracy: 0.6667875647544861 | f1: 0.7899134159088135 | auc: 0.7070013284683228 | treshold: 0.5\n"
     ]
    },
    {
     "name": "stderr",
     "output_type": "stream",
     "text": [
      "train... loss:1.2138739228248596:   0%|▏                                                                          | 10/5000 [00:56<7:54:07,  5.70s/it]"
     ]
    },
    {
     "name": "stdout",
     "output_type": "stream",
     "text": [
      "Test update: epoch: 9 |accuracy: 0.6698101758956909 | f1: 0.7910642027854919 | auc: 0.7159539461135864 | treshold: 0.5\n"
     ]
    },
    {
     "name": "stderr",
     "output_type": "stream",
     "text": [
      "train... loss:1.208851933479309:   0%|▏                                                                           | 11/5000 [01:02<7:57:26,  5.74s/it]"
     ]
    },
    {
     "name": "stdout",
     "output_type": "stream",
     "text": [
      "Test update: epoch: 10 |accuracy: 0.6785153150558472 | f1: 0.7931351065635681 | auc: 0.7246701717376709 | treshold: 0.52\n"
     ]
    },
    {
     "name": "stderr",
     "output_type": "stream",
     "text": [
      "train... loss:1.2086411118507385:   0%|▏                                                                          | 12/5000 [01:08<8:00:29,  5.78s/it]"
     ]
    },
    {
     "name": "stdout",
     "output_type": "stream",
     "text": [
      "Test update: epoch: 11 |accuracy: 0.6868577003479004 | f1: 0.7956188321113586 | auc: 0.7326568365097046 | treshold: 0.53\n"
     ]
    },
    {
     "name": "stderr",
     "output_type": "stream",
     "text": [
      "train... loss:1.2101407647132874:   0%|▏                                                                          | 13/5000 [01:14<8:02:19,  5.80s/it]"
     ]
    },
    {
     "name": "stdout",
     "output_type": "stream",
     "text": [
      "Test update: epoch: 12 |accuracy: 0.6925885677337646 | f1: 0.7980172038078308 | auc: 0.7396930456161499 | treshold: 0.52\n"
     ]
    },
    {
     "name": "stderr",
     "output_type": "stream",
     "text": [
      "train... loss:1.209204614162445:   0%|▏                                                                           | 14/5000 [01:20<8:01:47,  5.80s/it]"
     ]
    },
    {
     "name": "stdout",
     "output_type": "stream",
     "text": [
      "Test update: epoch: 13 |accuracy: 0.6953693628311157 | f1: 0.7994140982627869 | auc: 0.7456415295600891 | treshold: 0.49\n"
     ]
    },
    {
     "name": "stderr",
     "output_type": "stream",
     "text": [
      "train... loss:1.200948715209961:   0%|▏                                                                           | 15/5000 [01:25<8:00:37,  5.78s/it]"
     ]
    },
    {
     "name": "stdout",
     "output_type": "stream",
     "text": [
      "Test update: epoch: 14 |accuracy: 0.7036392092704773 | f1: 0.8008643984794617 | auc: 0.7504798173904419 | treshold: 0.49\n"
     ]
    },
    {
     "name": "stderr",
     "output_type": "stream",
     "text": [
      "train... loss:1.1900986433029175:   0%|▏                                                                          | 16/5000 [01:31<8:00:30,  5.78s/it]"
     ]
    },
    {
     "name": "stdout",
     "output_type": "stream",
     "text": [
      "Test update: epoch: 15 |accuracy: 0.7003747820854187 | f1: 0.8010468482971191 | auc: 0.754212498664856 | treshold: 0.42000000000000004\n"
     ]
    },
    {
     "name": "stderr",
     "output_type": "stream",
     "text": [
      "train... loss:1.1765710711479187:   0%|▎                                                                          | 17/5000 [01:37<8:01:27,  5.80s/it]"
     ]
    },
    {
     "name": "stdout",
     "output_type": "stream",
     "text": [
      "Test update: epoch: 16 |accuracy: 0.7012211084365845 | f1: 0.8012546300888062 | auc: 0.7568891644477844 | treshold: 0.38\n"
     ]
    },
    {
     "name": "stderr",
     "output_type": "stream",
     "text": [
      "train... loss:1.1652551293373108:   0%|▎                                                                          | 18/5000 [01:43<7:59:41,  5.78s/it]"
     ]
    },
    {
     "name": "stdout",
     "output_type": "stream",
     "text": [
      "Test update: epoch: 17 |accuracy: 0.6998670101165771 | f1: 0.8018075823783875 | auc: 0.7586125135421753 | treshold: 0.32\n"
     ]
    },
    {
     "name": "stderr",
     "output_type": "stream",
     "text": [
      "train... loss:1.159300446510315:   0%|▎                                                                           | 19/5000 [01:48<7:56:56,  5.75s/it]"
     ]
    },
    {
     "name": "stdout",
     "output_type": "stream",
     "text": [
      "Test update: epoch: 18 |accuracy: 0.7009793519973755 | f1: 0.8023906350135803 | auc: 0.7596216201782227 | treshold: 0.29000000000000004\n"
     ]
    },
    {
     "name": "stderr",
     "output_type": "stream",
     "text": [
      "train... loss:1.1593870520591736:   0%|▎                                                                          | 20/5000 [01:54<7:58:18,  5.76s/it]"
     ]
    },
    {
     "name": "stdout",
     "output_type": "stream",
     "text": [
      "Test update: epoch: 19 |accuracy: 0.702309250831604 | f1: 0.8029830455780029 | auc: 0.7604026198387146 | treshold: 0.27\n"
     ]
    },
    {
     "name": "stderr",
     "output_type": "stream",
     "text": [
      "train... loss:1.1646767854690552:   0%|▎                                                                          | 21/5000 [02:00<7:57:30,  5.75s/it]"
     ]
    },
    {
     "name": "stdout",
     "output_type": "stream",
     "text": [
      "Test update: epoch: 20 |accuracy: 0.7044129967689514 | f1: 0.8040711879730225 | auc: 0.7616735100746155 | treshold: 0.26\n"
     ]
    },
    {
     "name": "stderr",
     "output_type": "stream",
     "text": [
      "train... loss:1.1707430481910706:   0%|▎                                                                          | 22/5000 [02:06<7:55:50,  5.74s/it]"
     ]
    },
    {
     "name": "stdout",
     "output_type": "stream",
     "text": [
      "Test update: epoch: 21 |accuracy: 0.7048966288566589 | f1: 0.8053526282310486 | auc: 0.764204204082489 | treshold: 0.25\n"
     ]
    },
    {
     "name": "stderr",
     "output_type": "stream",
     "text": [
      "train... loss:1.1729843616485596:   0%|▎                                                                          | 23/5000 [02:11<7:57:27,  5.76s/it]"
     ]
    },
    {
     "name": "stdout",
     "output_type": "stream",
     "text": [
      "Test update: epoch: 22 |accuracy: 0.7074840068817139 | f1: 0.8061471581459045 | auc: 0.7685002088546753 | treshold: 0.27\n"
     ]
    },
    {
     "name": "stderr",
     "output_type": "stream",
     "text": [
      "train... loss:1.167756974697113:   0%|▎                                                                           | 24/5000 [02:17<7:58:22,  5.77s/it]"
     ]
    },
    {
     "name": "stdout",
     "output_type": "stream",
     "text": [
      "Test update: epoch: 23 |accuracy: 0.7080159783363342 | f1: 0.8074377775192261 | auc: 0.7744516730308533 | treshold: 0.28\n"
     ]
    },
    {
     "name": "stderr",
     "output_type": "stream",
     "text": [
      "train... loss:1.1551896333694458:   0%|▍                                                                          | 25/5000 [02:23<7:58:47,  5.77s/it]"
     ]
    },
    {
     "name": "stdout",
     "output_type": "stream",
     "text": [
      "Test update: epoch: 24 |accuracy: 0.7115705609321594 | f1: 0.8081821799278259 | auc: 0.7813209295272827 | treshold: 0.32\n"
     ]
    },
    {
     "name": "stderr",
     "output_type": "stream",
     "text": [
      "train... loss:1.138369381427765:   1%|▍                                                                           | 26/5000 [02:29<7:59:13,  5.78s/it]"
     ]
    },
    {
     "name": "stdout",
     "output_type": "stream",
     "text": [
      "Test update: epoch: 25 |accuracy: 0.7129005193710327 | f1: 0.8097854852676392 | auc: 0.7879129648208618 | treshold: 0.34\n"
     ]
    },
    {
     "name": "stderr",
     "output_type": "stream",
     "text": [
      "train... loss:1.1195327639579773:   1%|▍                                                                          | 27/5000 [02:35<7:59:29,  5.79s/it]"
     ]
    },
    {
     "name": "stdout",
     "output_type": "stream",
     "text": [
      "Test update: epoch: 26 |accuracy: 0.7167935967445374 | f1: 0.8110541105270386 | auc: 0.79310142993927 | treshold: 0.38\n"
     ]
    },
    {
     "name": "stderr",
     "output_type": "stream",
     "text": [
      "train... loss:1.1032379865646362:   1%|▍                                                                          | 28/5000 [02:40<8:00:29,  5.80s/it]"
     ]
    },
    {
     "name": "stdout",
     "output_type": "stream",
     "text": [
      "Test update: epoch: 27 |accuracy: 0.7233466506004333 | f1: 0.812911868095398 | auc: 0.7961987853050232 | treshold: 0.43\n"
     ]
    },
    {
     "name": "stderr",
     "output_type": "stream",
     "text": [
      "train... loss:1.0923657417297363:   1%|▍                                                                          | 29/5000 [02:46<8:01:04,  5.81s/it]"
     ]
    },
    {
     "name": "stdout",
     "output_type": "stream",
     "text": [
      "Test update: epoch: 28 |accuracy: 0.7237335443496704 | f1: 0.8127325773239136 | auc: 0.7970941066741943 | treshold: 0.46\n"
     ]
    },
    {
     "name": "stderr",
     "output_type": "stream",
     "text": [
      "train... loss:1.0882518887519836:   1%|▍                                                                          | 30/5000 [02:52<8:04:34,  5.85s/it]"
     ]
    },
    {
     "name": "stdout",
     "output_type": "stream",
     "text": [
      "Test update: epoch: 29 |accuracy: 0.7230806350708008 | f1: 0.8128880262374878 | auc: 0.7963211536407471 | treshold: 0.48000000000000004\n"
     ]
    },
    {
     "name": "stderr",
     "output_type": "stream",
     "text": [
      "train... loss:1.1550095081329346:   1%|▌                                                                          | 34/5000 [03:14<7:51:09,  5.69s/it]"
     ]
    },
    {
     "name": "stdout",
     "output_type": "stream",
     "text": [
      "Test update: epoch: 33 |accuracy: 0.7276750206947327 | f1: 0.812892496585846 | auc: 0.7954978942871094 | treshold: 0.5800000000000001\n"
     ]
    },
    {
     "name": "stderr",
     "output_type": "stream",
     "text": [
      "train... loss:1.1673035621643066:   1%|▌                                                                          | 35/5000 [03:20<7:56:34,  5.76s/it]"
     ]
    },
    {
     "name": "stdout",
     "output_type": "stream",
     "text": [
      "Test update: epoch: 34 |accuracy: 0.7309635877609253 | f1: 0.8139589428901672 | auc: 0.7983157634735107 | treshold: 0.59\n"
     ]
    },
    {
     "name": "stderr",
     "output_type": "stream",
     "text": [
      "train... loss:1.1656244397163391:   1%|▌                                                                          | 36/5000 [03:26<8:00:42,  5.81s/it]"
     ]
    },
    {
     "name": "stdout",
     "output_type": "stream",
     "text": [
      "Test update: epoch: 35 |accuracy: 0.7324628233909607 | f1: 0.8151254653930664 | auc: 0.8016051650047302 | treshold: 0.5800000000000001\n"
     ]
    },
    {
     "name": "stderr",
     "output_type": "stream",
     "text": [
      "train... loss:1.1519091129302979:   1%|▌                                                                          | 37/5000 [03:32<8:03:22,  5.84s/it]"
     ]
    },
    {
     "name": "stdout",
     "output_type": "stream",
     "text": [
      "Test update: epoch: 36 |accuracy: 0.7365977764129639 | f1: 0.816322386264801 | auc: 0.8050110340118408 | treshold: 0.5800000000000001\n"
     ]
    },
    {
     "name": "stderr",
     "output_type": "stream",
     "text": [
      "train... loss:1.1297560930252075:   1%|▌                                                                          | 38/5000 [03:38<8:06:19,  5.88s/it]"
     ]
    },
    {
     "name": "stdout",
     "output_type": "stream",
     "text": [
      "Test update: epoch: 37 |accuracy: 0.739789605140686 | f1: 0.8176379799842834 | auc: 0.8083389401435852 | treshold: 0.5700000000000001\n"
     ]
    },
    {
     "name": "stderr",
     "output_type": "stream",
     "text": [
      "train... loss:1.1043848395347595:   1%|▌                                                                          | 39/5000 [03:44<8:06:11,  5.88s/it]"
     ]
    },
    {
     "name": "stdout",
     "output_type": "stream",
     "text": [
      "Test update: epoch: 38 |accuracy: 0.7418692111968994 | f1: 0.8189788460731506 | auc: 0.8114904165267944 | treshold: 0.55\n"
     ]
    },
    {
     "name": "stderr",
     "output_type": "stream",
     "text": [
      "train... loss:1.0791611671447754:   1%|▌                                                                          | 40/5000 [03:50<8:05:01,  5.87s/it]"
     ]
    },
    {
     "name": "stdout",
     "output_type": "stream",
     "text": [
      "Test update: epoch: 39 |accuracy: 0.7451819777488708 | f1: 0.8199432492256165 | auc: 0.8144129514694214 | treshold: 0.54\n"
     ]
    },
    {
     "name": "stderr",
     "output_type": "stream",
     "text": [
      "train... loss:1.0589601397514343:   1%|▌                                                                          | 41/5000 [03:56<8:04:36,  5.86s/it]"
     ]
    },
    {
     "name": "stdout",
     "output_type": "stream",
     "text": [
      "Test update: epoch: 40 |accuracy: 0.746947169303894 | f1: 0.820942759513855 | auc: 0.8170967102050781 | treshold: 0.52\n"
     ]
    },
    {
     "name": "stderr",
     "output_type": "stream",
     "text": [
      "train... loss:1.045105755329132:   1%|▋                                                                           | 42/5000 [04:02<8:06:32,  5.89s/it]"
     ]
    },
    {
     "name": "stdout",
     "output_type": "stream",
     "text": [
      "Test update: epoch: 41 |accuracy: 0.7484705448150635 | f1: 0.8220298290252686 | auc: 0.8195213079452515 | treshold: 0.5\n"
     ]
    },
    {
     "name": "stderr",
     "output_type": "stream",
     "text": [
      "train... loss:1.0399906635284424:   1%|▋                                                                          | 43/5000 [04:07<8:05:45,  5.88s/it]"
     ]
    },
    {
     "name": "stdout",
     "output_type": "stream",
     "text": [
      "Test update: epoch: 42 |accuracy: 0.7492685317993164 | f1: 0.8226763606071472 | auc: 0.8216407299041748 | treshold: 0.48000000000000004\n"
     ]
    },
    {
     "name": "stderr",
     "output_type": "stream",
     "text": [
      "train... loss:1.0429567694664001:   1%|▋                                                                          | 44/5000 [04:13<8:03:43,  5.86s/it]"
     ]
    },
    {
     "name": "stdout",
     "output_type": "stream",
     "text": [
      "Test update: epoch: 43 |accuracy: 0.7526054978370667 | f1: 0.8223507404327393 | auc: 0.8233647346496582 | treshold: 0.48000000000000004\n"
     ]
    },
    {
     "name": "stderr",
     "output_type": "stream",
     "text": [
      "train... loss:1.0529159307479858:   1%|▋                                                                          | 45/5000 [04:19<8:02:30,  5.84s/it]"
     ]
    },
    {
     "name": "stdout",
     "output_type": "stream",
     "text": [
      "Test update: epoch: 44 |accuracy: 0.7520735263824463 | f1: 0.8226646184921265 | auc: 0.8246369361877441 | treshold: 0.46\n"
     ]
    },
    {
     "name": "stderr",
     "output_type": "stream",
     "text": [
      "train... loss:1.0666625499725342:   1%|▋                                                                          | 46/5000 [04:25<8:01:27,  5.83s/it]"
     ]
    },
    {
     "name": "stdout",
     "output_type": "stream",
     "text": [
      "Test update: epoch: 45 |accuracy: 0.7522669434547424 | f1: 0.823711633682251 | auc: 0.8255341053009033 | treshold: 0.44\n"
     ]
    },
    {
     "name": "stderr",
     "output_type": "stream",
     "text": [
      "train... loss:1.0793049335479736:   1%|▋                                                                          | 47/5000 [04:31<8:01:52,  5.84s/it]"
     ]
    },
    {
     "name": "stdout",
     "output_type": "stream",
     "text": [
      "Test update: epoch: 46 |accuracy: 0.7533308863639832 | f1: 0.8237773776054382 | auc: 0.8263288736343384 | treshold: 0.43\n"
     ]
    },
    {
     "name": "stderr",
     "output_type": "stream",
     "text": [
      "train... loss:1.0855336785316467:   1%|▋                                                                          | 48/5000 [04:37<8:00:12,  5.82s/it]"
     ]
    },
    {
     "name": "stdout",
     "output_type": "stream",
     "text": [
      "Test update: epoch: 47 |accuracy: 0.7545883059501648 | f1: 0.8241775631904602 | auc: 0.8271409869194031 | treshold: 0.42000000000000004\n"
     ]
    },
    {
     "name": "stderr",
     "output_type": "stream",
     "text": [
      "train... loss:1.0856008529663086:   1%|▋                                                                          | 49/5000 [04:42<8:00:47,  5.83s/it]"
     ]
    },
    {
     "name": "stdout",
     "output_type": "stream",
     "text": [
      "Test update: epoch: 48 |accuracy: 0.7537661790847778 | f1: 0.8248447775840759 | auc: 0.8280197381973267 | treshold: 0.4\n"
     ]
    },
    {
     "name": "stderr",
     "output_type": "stream",
     "text": [
      "train... loss:1.0800264477729797:   1%|▊                                                                          | 50/5000 [04:48<7:59:25,  5.81s/it]"
     ]
    },
    {
     "name": "stdout",
     "output_type": "stream",
     "text": [
      "Test update: epoch: 49 |accuracy: 0.7530649304389954 | f1: 0.825477659702301 | auc: 0.8290388584136963 | treshold: 0.38\n"
     ]
    },
    {
     "name": "stderr",
     "output_type": "stream",
     "text": [
      "train... loss:1.070435345172882:   1%|▊                                                                           | 51/5000 [04:54<7:57:23,  5.79s/it]"
     ]
    },
    {
     "name": "stdout",
     "output_type": "stream",
     "text": [
      "Test update: epoch: 50 |accuracy: 0.7541772723197937 | f1: 0.8260914087295532 | auc: 0.8302181959152222 | treshold: 0.37\n"
     ]
    },
    {
     "name": "stderr",
     "output_type": "stream",
     "text": [
      "train... loss:1.0576989650726318:   1%|▊                                                                          | 52/5000 [05:00<7:57:46,  5.79s/it]"
     ]
    },
    {
     "name": "stdout",
     "output_type": "stream",
     "text": [
      "Test update: epoch: 51 |accuracy: 0.754322350025177 | f1: 0.8263069987297058 | auc: 0.8315855264663696 | treshold: 0.36000000000000004\n"
     ]
    },
    {
     "name": "stderr",
     "output_type": "stream",
     "text": [
      "train... loss:1.0444198846817017:   1%|▊                                                                          | 53/5000 [05:05<7:57:10,  5.79s/it]"
     ]
    },
    {
     "name": "stdout",
     "output_type": "stream",
     "text": [
      "Test update: epoch: 52 |accuracy: 0.7569822072982788 | f1: 0.8274974226951599 | auc: 0.8331236839294434 | treshold: 0.36000000000000004\n"
     ]
    },
    {
     "name": "stderr",
     "output_type": "stream",
     "text": [
      "train... loss:1.030986249446869:   1%|▊                                                                           | 54/5000 [05:11<7:59:43,  5.82s/it]"
     ]
    },
    {
     "name": "stdout",
     "output_type": "stream",
     "text": [
      "Test update: epoch: 53 |accuracy: 0.7582396268844604 | f1: 0.8281776309013367 | auc: 0.8348217010498047 | treshold: 0.36000000000000004\n"
     ]
    },
    {
     "name": "stderr",
     "output_type": "stream",
     "text": [
      "train... loss:1.0189666748046875:   1%|▊                                                                          | 55/5000 [05:17<7:59:37,  5.82s/it]"
     ]
    },
    {
     "name": "stdout",
     "output_type": "stream",
     "text": [
      "Test update: epoch: 54 |accuracy: 0.7572724223136902 | f1: 0.8286212086677551 | auc: 0.8366696834564209 | treshold: 0.35000000000000003\n"
     ]
    },
    {
     "name": "stderr",
     "output_type": "stream",
     "text": [
      "train... loss:1.0092986822128296:   1%|▊                                                                          | 56/5000 [05:23<7:58:26,  5.81s/it]"
     ]
    },
    {
     "name": "stdout",
     "output_type": "stream",
     "text": [
      "Test update: epoch: 55 |accuracy: 0.758529782295227 | f1: 0.8293633460998535 | auc: 0.8386352062225342 | treshold: 0.36000000000000004\n"
     ]
    },
    {
     "name": "stderr",
     "output_type": "stream",
     "text": [
      "train... loss:1.0044182538986206:   1%|▊                                                                          | 57/5000 [05:29<7:59:20,  5.82s/it]"
     ]
    },
    {
     "name": "stdout",
     "output_type": "stream",
     "text": [
      "Test update: epoch: 56 |accuracy: 0.7600532174110413 | f1: 0.8300943374633789 | auc: 0.8406857848167419 | treshold: 0.38\n"
     ]
    },
    {
     "name": "stderr",
     "output_type": "stream",
     "text": [
      "train... loss:1.0041375756263733:   1%|▊                                                                          | 58/5000 [05:35<7:59:57,  5.83s/it]"
     ]
    },
    {
     "name": "stdout",
     "output_type": "stream",
     "text": [
      "Test update: epoch: 57 |accuracy: 0.7607544660568237 | f1: 0.8309007287025452 | auc: 0.8427457809448242 | treshold: 0.4\n"
     ]
    },
    {
     "name": "stderr",
     "output_type": "stream",
     "text": [
      "train... loss:1.0114968419075012:   1%|▉                                                                          | 59/5000 [05:40<8:00:23,  5.83s/it]"
     ]
    },
    {
     "name": "stdout",
     "output_type": "stream",
     "text": [
      "Test update: epoch: 58 |accuracy: 0.7619151473045349 | f1: 0.831824541091919 | auc: 0.8447416424751282 | treshold: 0.43\n"
     ]
    },
    {
     "name": "stderr",
     "output_type": "stream",
     "text": [
      "train... loss:1.0240444540977478:   1%|▉                                                                          | 60/5000 [05:46<8:02:16,  5.86s/it]"
     ]
    },
    {
     "name": "stdout",
     "output_type": "stream",
     "text": [
      "Test update: epoch: 59 |accuracy: 0.7634143233299255 | f1: 0.8326777815818787 | auc: 0.8466224074363708 | treshold: 0.47000000000000003\n"
     ]
    },
    {
     "name": "stderr",
     "output_type": "stream",
     "text": [
      "train... loss:1.0361884236335754:   1%|▉                                                                          | 61/5000 [05:52<8:02:11,  5.86s/it]"
     ]
    },
    {
     "name": "stdout",
     "output_type": "stream",
     "text": [
      "Test update: epoch: 60 |accuracy: 0.7680087089538574 | f1: 0.8335357308387756 | auc: 0.8482969999313354 | treshold: 0.54\n"
     ]
    },
    {
     "name": "stderr",
     "output_type": "stream",
     "text": [
      "train... loss:1.0462104082107544:   1%|▉                                                                          | 62/5000 [05:58<8:03:14,  5.87s/it]"
     ]
    },
    {
     "name": "stdout",
     "output_type": "stream",
     "text": [
      "Test update: epoch: 61 |accuracy: 0.7688066959381104 | f1: 0.8346162438392639 | auc: 0.8496968150138855 | treshold: 0.56\n"
     ]
    },
    {
     "name": "stderr",
     "output_type": "stream",
     "text": [
      "train... loss:1.0496432185173035:   1%|▉                                                                          | 63/5000 [06:04<8:04:00,  5.88s/it]"
     ]
    },
    {
     "name": "stdout",
     "output_type": "stream",
     "text": [
      "Test update: epoch: 62 |accuracy: 0.769096851348877 | f1: 0.8347209095954895 | auc: 0.8508589267730713 | treshold: 0.5800000000000001\n"
     ]
    },
    {
     "name": "stderr",
     "output_type": "stream",
     "text": [
      "train... loss:1.0439037680625916:   1%|▉                                                                          | 64/5000 [06:10<8:04:29,  5.89s/it]"
     ]
    },
    {
     "name": "stdout",
     "output_type": "stream",
     "text": [
      "Test update: epoch: 63 |accuracy: 0.7696771621704102 | f1: 0.8349763751029968 | auc: 0.8518949151039124 | treshold: 0.59\n"
     ]
    },
    {
     "name": "stderr",
     "output_type": "stream",
     "text": [
      "train... loss:1.0326451659202576:   1%|▉                                                                          | 65/5000 [06:16<8:03:12,  5.87s/it]"
     ]
    },
    {
     "name": "stdout",
     "output_type": "stream",
     "text": [
      "Test update: epoch: 64 |accuracy: 0.7723612785339355 | f1: 0.8360558748245239 | auc: 0.8528778553009033 | treshold: 0.6\n"
     ]
    },
    {
     "name": "stderr",
     "output_type": "stream",
     "text": [
      "train... loss:1.0179287195205688:   1%|▉                                                                          | 66/5000 [06:22<8:02:48,  5.87s/it]"
     ]
    },
    {
     "name": "stdout",
     "output_type": "stream",
     "text": [
      "Test update: epoch: 65 |accuracy: 0.7748035192489624 | f1: 0.8362146019935608 | auc: 0.8538748621940613 | treshold: 0.61\n"
     ]
    },
    {
     "name": "stderr",
     "output_type": "stream",
     "text": [
      "train... loss:1.0017068088054657:   1%|█                                                                          | 67/5000 [06:28<8:01:58,  5.86s/it]"
     ]
    },
    {
     "name": "stdout",
     "output_type": "stream",
     "text": [
      "Test update: epoch: 66 |accuracy: 0.7749727964401245 | f1: 0.8370855450630188 | auc: 0.8549403548240662 | treshold: 0.59\n"
     ]
    },
    {
     "name": "stderr",
     "output_type": "stream",
     "text": [
      "train... loss:0.9882982671260834:   1%|█                                                                          | 68/5000 [06:33<8:03:34,  5.88s/it]"
     ]
    },
    {
     "name": "stdout",
     "output_type": "stream",
     "text": [
      "Test update: epoch: 67 |accuracy: 0.7782130241394043 | f1: 0.8375141620635986 | auc: 0.8560948371887207 | treshold: 0.59\n"
     ]
    },
    {
     "name": "stderr",
     "output_type": "stream",
     "text": [
      "train... loss:0.9790309071540833:   1%|█                                                                          | 69/5000 [06:39<8:03:39,  5.89s/it]"
     ]
    },
    {
     "name": "stdout",
     "output_type": "stream",
     "text": [
      "Test update: epoch: 68 |accuracy: 0.7772941589355469 | f1: 0.838193953037262 | auc: 0.8573564887046814 | treshold: 0.56\n"
     ]
    },
    {
     "name": "stderr",
     "output_type": "stream",
     "text": [
      "train... loss:0.9753851294517517:   1%|█                                                                          | 70/5000 [06:45<8:05:18,  5.91s/it]"
     ]
    },
    {
     "name": "stdout",
     "output_type": "stream",
     "text": [
      "Test update: epoch: 69 |accuracy: 0.7785757184028625 | f1: 0.8391053080558777 | auc: 0.8587275743484497 | treshold: 0.54\n"
     ]
    },
    {
     "name": "stderr",
     "output_type": "stream",
     "text": [
      "train... loss:0.9771262407302856:   1%|█                                                                          | 71/5000 [06:51<8:05:55,  5.92s/it]"
     ]
    },
    {
     "name": "stdout",
     "output_type": "stream",
     "text": [
      "Test update: epoch: 70 |accuracy: 0.7823237776756287 | f1: 0.8402937650680542 | auc: 0.8601253032684326 | treshold: 0.53\n"
     ]
    },
    {
     "name": "stderr",
     "output_type": "stream",
     "text": [
      "train... loss:0.9833511114120483:   1%|█                                                                          | 72/5000 [06:57<8:06:16,  5.92s/it]"
     ]
    },
    {
     "name": "stdout",
     "output_type": "stream",
     "text": [
      "Test update: epoch: 71 |accuracy: 0.7835086584091187 | f1: 0.8410531282424927 | auc: 0.8613883852958679 | treshold: 0.51\n"
     ]
    },
    {
     "name": "stderr",
     "output_type": "stream",
     "text": [
      "train... loss:0.9911423623561859:   1%|█                                                                          | 73/5000 [07:03<8:05:30,  5.91s/it]"
     ]
    },
    {
     "name": "stdout",
     "output_type": "stream",
     "text": [
      "Test update: epoch: 72 |accuracy: 0.7846934795379639 | f1: 0.8417572975158691 | auc: 0.86232590675354 | treshold: 0.49\n"
     ]
    },
    {
     "name": "stderr",
     "output_type": "stream",
     "text": [
      "train... loss:0.9977193176746368:   1%|█                                                                          | 74/5000 [07:09<8:03:41,  5.89s/it]"
     ]
    },
    {
     "name": "stdout",
     "output_type": "stream",
     "text": [
      "Test update: epoch: 73 |accuracy: 0.7867972254753113 | f1: 0.8432115316390991 | auc: 0.8627656698226929 | treshold: 0.47000000000000003\n"
     ]
    },
    {
     "name": "stderr",
     "output_type": "stream",
     "text": [
      "train... loss:1.0011518895626068:   2%|█▏                                                                         | 75/5000 [07:15<8:01:22,  5.86s/it]"
     ]
    },
    {
     "name": "stdout",
     "output_type": "stream",
     "text": [
      "Test update: epoch: 74 |accuracy: 0.7878128290176392 | f1: 0.8439306616783142 | auc: 0.8627354502677917 | treshold: 0.45\n"
     ]
    },
    {
     "name": "stderr",
     "output_type": "stream",
     "text": [
      "train... loss:0.977607011795044:   2%|█▏                                                                          | 80/5000 [07:42<7:32:53,  5.52s/it]"
     ]
    },
    {
     "name": "stdout",
     "output_type": "stream",
     "text": [
      "Test update: epoch: 79 |accuracy: 0.7868456244468689 | f1: 0.8452014923095703 | auc: 0.8622294664382935 | treshold: 0.35000000000000003\n"
     ]
    },
    {
     "name": "stderr",
     "output_type": "stream",
     "text": [
      "train... loss:0.9700495898723602:   2%|█▏                                                                         | 81/5000 [07:47<7:39:07,  5.60s/it]"
     ]
    },
    {
     "name": "stdout",
     "output_type": "stream",
     "text": [
      "Test update: epoch: 80 |accuracy: 0.7859992980957031 | f1: 0.8456143736839294 | auc: 0.8629595041275024 | treshold: 0.33\n"
     ]
    },
    {
     "name": "stderr",
     "output_type": "stream",
     "text": [
      "train... loss:0.9621197581291199:   2%|█▏                                                                         | 82/5000 [07:53<7:44:13,  5.66s/it]"
     ]
    },
    {
     "name": "stdout",
     "output_type": "stream",
     "text": [
      "Test update: epoch: 81 |accuracy: 0.7873291969299316 | f1: 0.8463191986083984 | auc: 0.8640536069869995 | treshold: 0.33\n"
     ]
    },
    {
     "name": "stderr",
     "output_type": "stream",
     "text": [
      "train... loss:0.9561039209365845:   2%|█▏                                                                         | 83/5000 [07:59<7:45:54,  5.69s/it]"
     ]
    },
    {
     "name": "stdout",
     "output_type": "stream",
     "text": [
      "Test update: epoch: 82 |accuracy: 0.785443127155304 | f1: 0.8460590839385986 | auc: 0.8654462099075317 | treshold: 0.32\n"
     ]
    },
    {
     "name": "stderr",
     "output_type": "stream",
     "text": [
      "train... loss:0.9512411653995514:   2%|█▎                                                                         | 84/5000 [08:05<7:50:38,  5.74s/it]"
     ]
    },
    {
     "name": "stdout",
     "output_type": "stream",
     "text": [
      "Test update: epoch: 83 |accuracy: 0.7864103317260742 | f1: 0.8470131754875183 | auc: 0.8670451045036316 | treshold: 0.33\n"
     ]
    },
    {
     "name": "stderr",
     "output_type": "stream",
     "text": [
      "train... loss:0.9484517574310303:   2%|█▎                                                                         | 85/5000 [08:11<7:52:05,  5.76s/it]"
     ]
    },
    {
     "name": "stdout",
     "output_type": "stream",
     "text": [
      "Test update: epoch: 84 |accuracy: 0.7892153263092041 | f1: 0.8481173515319824 | auc: 0.8687126636505127 | treshold: 0.37\n"
     ]
    },
    {
     "name": "stderr",
     "output_type": "stream",
     "text": [
      "train... loss:0.9505142867565155:   2%|█▎                                                                         | 86/5000 [08:17<7:56:40,  5.82s/it]"
     ]
    },
    {
     "name": "stdout",
     "output_type": "stream",
     "text": [
      "Test update: epoch: 85 |accuracy: 0.7881029844284058 | f1: 0.8481571674346924 | auc: 0.870265007019043 | treshold: 0.39\n"
     ]
    },
    {
     "name": "stderr",
     "output_type": "stream",
     "text": [
      "train... loss:0.9557177424430847:   2%|█▎                                                                         | 87/5000 [08:22<7:54:01,  5.79s/it]"
     ]
    },
    {
     "name": "stdout",
     "output_type": "stream",
     "text": [
      "Test update: epoch: 86 |accuracy: 0.7899407744407654 | f1: 0.8489664196968079 | auc: 0.8715845346450806 | treshold: 0.44\n"
     ]
    },
    {
     "name": "stderr",
     "output_type": "stream",
     "text": [
      "train... loss:0.9624935686588287:   2%|█▎                                                                         | 88/5000 [08:28<7:56:36,  5.82s/it]"
     ]
    },
    {
     "name": "stdout",
     "output_type": "stream",
     "text": [
      "Test update: epoch: 87 |accuracy: 0.7904485464096069 | f1: 0.849349856376648 | auc: 0.8726102113723755 | treshold: 0.48000000000000004\n"
     ]
    },
    {
     "name": "stderr",
     "output_type": "stream",
     "text": [
      "train... loss:0.9684279263019562:   2%|█▎                                                                         | 89/5000 [08:34<7:55:05,  5.80s/it]"
     ]
    },
    {
     "name": "stdout",
     "output_type": "stream",
     "text": [
      "Test update: epoch: 88 |accuracy: 0.790230929851532 | f1: 0.8493374586105347 | auc: 0.8733968734741211 | treshold: 0.51\n"
     ]
    },
    {
     "name": "stderr",
     "output_type": "stream",
     "text": [
      "train... loss:0.970554381608963:   2%|█▎                                                                          | 90/5000 [08:40<7:56:14,  5.82s/it]"
     ]
    },
    {
     "name": "stdout",
     "output_type": "stream",
     "text": [
      "Test update: epoch: 89 |accuracy: 0.7907145619392395 | f1: 0.8494651913642883 | auc: 0.8740206956863403 | treshold: 0.54\n"
     ]
    },
    {
     "name": "stderr",
     "output_type": "stream",
     "text": [
      "train... loss:0.9670543372631073:   2%|█▎                                                                         | 91/5000 [08:46<7:57:57,  5.84s/it]"
     ]
    },
    {
     "name": "stdout",
     "output_type": "stream",
     "text": [
      "Test update: epoch: 90 |accuracy: 0.792624831199646 | f1: 0.8499282598495483 | auc: 0.8745445013046265 | treshold: 0.5700000000000001\n"
     ]
    },
    {
     "name": "stderr",
     "output_type": "stream",
     "text": [
      "train... loss:0.9605308473110199:   2%|█▍                                                                         | 92/5000 [08:52<8:01:22,  5.88s/it]"
     ]
    },
    {
     "name": "stdout",
     "output_type": "stream",
     "text": [
      "Test update: epoch: 91 |accuracy: 0.7932777404785156 | f1: 0.8501200675964355 | auc: 0.8750281929969788 | treshold: 0.5800000000000001\n"
     ]
    },
    {
     "name": "stderr",
     "output_type": "stream",
     "text": [
      "train... loss:0.9505711495876312:   2%|█▍                                                                         | 93/5000 [08:58<8:04:47,  5.93s/it]"
     ]
    },
    {
     "name": "stdout",
     "output_type": "stream",
     "text": [
      "Test update: epoch: 92 |accuracy: 0.7953088879585266 | f1: 0.8506290912628174 | auc: 0.8754941821098328 | treshold: 0.59\n"
     ]
    },
    {
     "name": "stderr",
     "output_type": "stream",
     "text": [
      "train... loss:0.9413646459579468:   2%|█▍                                                                         | 94/5000 [09:04<8:05:19,  5.94s/it]"
     ]
    },
    {
     "name": "stdout",
     "output_type": "stream",
     "text": [
      "Test update: epoch: 93 |accuracy: 0.7967113852500916 | f1: 0.8509529232978821 | auc: 0.875969409942627 | treshold: 0.59\n"
     ]
    },
    {
     "name": "stderr",
     "output_type": "stream",
     "text": [
      "train... loss:0.9336759746074677:   2%|█▍                                                                         | 95/5000 [09:10<8:06:59,  5.96s/it]"
     ]
    },
    {
     "name": "stdout",
     "output_type": "stream",
     "text": [
      "Test update: epoch: 94 |accuracy: 0.7955023646354675 | f1: 0.8508544564247131 | auc: 0.8764931559562683 | treshold: 0.5700000000000001\n"
     ]
    },
    {
     "name": "stderr",
     "output_type": "stream",
     "text": [
      "train... loss:0.9289255440235138:   2%|█▍                                                                         | 96/5000 [09:16<8:08:11,  5.97s/it]"
     ]
    },
    {
     "name": "stdout",
     "output_type": "stream",
     "text": [
      "Test update: epoch: 95 |accuracy: 0.7966630458831787 | f1: 0.8513128757476807 | auc: 0.8771169185638428 | treshold: 0.56\n"
     ]
    },
    {
     "name": "stderr",
     "output_type": "stream",
     "text": [
      "train... loss:0.9290779531002045:   2%|█▍                                                                         | 97/5000 [09:22<8:05:45,  5.94s/it]"
     ]
    },
    {
     "name": "stdout",
     "output_type": "stream",
     "text": [
      "Test update: epoch: 96 |accuracy: 0.7983798980712891 | f1: 0.851921558380127 | auc: 0.8778982758522034 | treshold: 0.55\n"
     ]
    },
    {
     "name": "stderr",
     "output_type": "stream",
     "text": [
      "train... loss:0.9333877861499786:   2%|█▍                                                                         | 98/5000 [09:27<8:04:00,  5.92s/it]"
     ]
    },
    {
     "name": "stdout",
     "output_type": "stream",
     "text": [
      "Test update: epoch: 97 |accuracy: 0.7991052865982056 | f1: 0.8515845537185669 | auc: 0.8788809776306152 | treshold: 0.54\n"
     ]
    },
    {
     "name": "stderr",
     "output_type": "stream",
     "text": [
      "train... loss:0.9405187666416168:   2%|█▍                                                                         | 99/5000 [09:33<8:01:11,  5.89s/it]"
     ]
    },
    {
     "name": "stdout",
     "output_type": "stream",
     "text": [
      "Test update: epoch: 98 |accuracy: 0.7993955016136169 | f1: 0.8532772064208984 | auc: 0.8800190687179565 | treshold: 0.51\n"
     ]
    },
    {
     "name": "stderr",
     "output_type": "stream",
     "text": [
      "train... loss:0.9471920132637024:   2%|█▍                                                                        | 100/5000 [09:39<8:00:06,  5.88s/it]"
     ]
    },
    {
     "name": "stdout",
     "output_type": "stream",
     "text": [
      "Test update: epoch: 99 |accuracy: 0.8021037578582764 | f1: 0.8530594706535339 | auc: 0.8811675906181335 | treshold: 0.51\n"
     ]
    },
    {
     "name": "stderr",
     "output_type": "stream",
     "text": [
      "train... loss:0.9516213834285736:   2%|█▍                                                                        | 101/5000 [09:45<8:00:04,  5.88s/it]"
     ]
    },
    {
     "name": "stdout",
     "output_type": "stream",
     "text": [
      "Test update: epoch: 100 |accuracy: 0.8031193614006042 | f1: 0.8541069626808167 | auc: 0.882079005241394 | treshold: 0.49\n"
     ]
    },
    {
     "name": "stderr",
     "output_type": "stream",
     "text": [
      "train... loss:0.9517685174942017:   2%|█▌                                                                        | 102/5000 [09:51<8:00:20,  5.88s/it]"
     ]
    },
    {
     "name": "stdout",
     "output_type": "stream",
     "text": [
      "Test update: epoch: 101 |accuracy: 0.8044492602348328 | f1: 0.854301393032074 | auc: 0.8826147317886353 | treshold: 0.48000000000000004\n"
     ]
    },
    {
     "name": "stderr",
     "output_type": "stream",
     "text": [
      "train... loss:0.947794497013092:   2%|█▌                                                                         | 103/5000 [09:57<7:59:04,  5.87s/it]"
     ]
    },
    {
     "name": "stdout",
     "output_type": "stream",
     "text": [
      "Test update: epoch: 102 |accuracy: 0.8039172887802124 | f1: 0.855529248714447 | auc: 0.8828215599060059 | treshold: 0.45\n"
     ]
    },
    {
     "name": "stderr",
     "output_type": "stream",
     "text": [
      "train... loss:0.9413594305515289:   2%|█▌                                                                        | 104/5000 [10:03<7:57:56,  5.86s/it]"
     ]
    },
    {
     "name": "stdout",
     "output_type": "stream",
     "text": [
      "Test update: epoch: 103 |accuracy: 0.804787814617157 | f1: 0.8555788397789001 | auc: 0.8827897310256958 | treshold: 0.44\n"
     ]
    },
    {
     "name": "stderr",
     "output_type": "stream",
     "text": [
      "train... loss:0.9330872297286987:   2%|█▌                                                                        | 105/5000 [10:08<7:56:27,  5.84s/it]"
     ]
    },
    {
     "name": "stdout",
     "output_type": "stream",
     "text": [
      "Test update: epoch: 104 |accuracy: 0.803989827632904 | f1: 0.85553377866745 | auc: 0.882657527923584 | treshold: 0.42000000000000004\n"
     ]
    },
    {
     "name": "stderr",
     "output_type": "stream",
     "text": [
      "train... loss:0.9240094423294067:   2%|█▌                                                                        | 106/5000 [10:14<7:55:14,  5.83s/it]"
     ]
    },
    {
     "name": "stdout",
     "output_type": "stream",
     "text": [
      "Test update: epoch: 105 |accuracy: 0.8036271333694458 | f1: 0.8558751940727234 | auc: 0.8825148940086365 | treshold: 0.4\n"
     ]
    },
    {
     "name": "stderr",
     "output_type": "stream",
     "text": [
      "train... loss:0.9155628681182861:   2%|█▌                                                                        | 107/5000 [10:20<7:58:22,  5.87s/it]"
     ]
    },
    {
     "name": "stdout",
     "output_type": "stream",
     "text": [
      "Test update: epoch: 106 |accuracy: 0.8049570918083191 | f1: 0.8559797406196594 | auc: 0.882464587688446 | treshold: 0.4\n"
     ]
    },
    {
     "name": "stderr",
     "output_type": "stream",
     "text": [
      "train... loss:0.9084948301315308:   2%|█▌                                                                        | 108/5000 [10:26<7:55:59,  5.84s/it]"
     ]
    },
    {
     "name": "stdout",
     "output_type": "stream",
     "text": [
      "Test update: epoch: 107 |accuracy: 0.804183304309845 | f1: 0.8563012480735779 | auc: 0.8825678825378418 | treshold: 0.38\n"
     ]
    },
    {
     "name": "stderr",
     "output_type": "stream",
     "text": [
      "train... loss:0.9025898873806:   2%|█▋                                                                           | 109/5000 [10:32<7:54:51,  5.83s/it]"
     ]
    },
    {
     "name": "stdout",
     "output_type": "stream",
     "text": [
      "Test update: epoch: 108 |accuracy: 0.8053197860717773 | f1: 0.856873631477356 | auc: 0.8828973770141602 | treshold: 0.38\n"
     ]
    },
    {
     "name": "stderr",
     "output_type": "stream",
     "text": [
      "train... loss:0.9003404378890991:   2%|█▋                                                                        | 110/5000 [10:37<7:53:51,  5.81s/it]"
     ]
    },
    {
     "name": "stdout",
     "output_type": "stream",
     "text": [
      "Test update: epoch: 109 |accuracy: 0.8042558431625366 | f1: 0.8567484617233276 | auc: 0.8834880590438843 | treshold: 0.37\n"
     ]
    },
    {
     "name": "stderr",
     "output_type": "stream",
     "text": [
      "train... loss:0.900469034910202:   2%|█▋                                                                         | 111/5000 [10:43<7:54:18,  5.82s/it]"
     ]
    },
    {
     "name": "stdout",
     "output_type": "stream",
     "text": [
      "Test update: epoch: 110 |accuracy: 0.8038205504417419 | f1: 0.8567948937416077 | auc: 0.8843532800674438 | treshold: 0.37\n"
     ]
    },
    {
     "name": "stderr",
     "output_type": "stream",
     "text": [
      "train... loss:0.9038441479206085:   2%|█▋                                                                        | 112/5000 [10:49<7:53:57,  5.82s/it]"
     ]
    },
    {
     "name": "stdout",
     "output_type": "stream",
     "text": [
      "Test update: epoch: 111 |accuracy: 0.805174708366394 | f1: 0.8576778173446655 | auc: 0.8854261040687561 | treshold: 0.39\n"
     ]
    },
    {
     "name": "stderr",
     "output_type": "stream",
     "text": [
      "train... loss:0.9104098677635193:   2%|█▋                                                                        | 113/5000 [10:55<7:54:05,  5.82s/it]"
     ]
    },
    {
     "name": "stdout",
     "output_type": "stream",
     "text": [
      "Test update: epoch: 112 |accuracy: 0.8042800426483154 | f1: 0.8578503727912903 | auc: 0.8865948915481567 | treshold: 0.4\n"
     ]
    },
    {
     "name": "stderr",
     "output_type": "stream",
     "text": [
      "train... loss:0.9187785089015961:   2%|█▋                                                                        | 114/5000 [11:01<7:54:58,  5.83s/it]"
     ]
    },
    {
     "name": "stdout",
     "output_type": "stream",
     "text": [
      "Test update: epoch: 113 |accuracy: 0.8029500842094421 | f1: 0.8579100370407104 | auc: 0.887697160243988 | treshold: 0.41000000000000003\n"
     ]
    },
    {
     "name": "stderr",
     "output_type": "stream",
     "text": [
      "train... loss:0.9274275898933411:   2%|█▋                                                                        | 115/5000 [11:07<7:56:07,  5.85s/it]"
     ]
    },
    {
     "name": "stdout",
     "output_type": "stream",
     "text": [
      "Test update: epoch: 114 |accuracy: 0.8045217990875244 | f1: 0.8584882616996765 | auc: 0.888533353805542 | treshold: 0.46\n"
     ]
    },
    {
     "name": "stderr",
     "output_type": "stream",
     "text": [
      "train... loss:0.9334767758846283:   2%|█▋                                                                        | 116/5000 [11:13<7:57:45,  5.87s/it]"
     ]
    },
    {
     "name": "stdout",
     "output_type": "stream",
     "text": [
      "Test update: epoch: 115 |accuracy: 0.8048845529556274 | f1: 0.8584510087966919 | auc: 0.8890329599380493 | treshold: 0.5\n"
     ]
    },
    {
     "name": "stderr",
     "output_type": "stream",
     "text": [
      "train... loss:0.883569747209549:   2%|█▊                                                                         | 123/5000 [11:51<7:33:58,  5.59s/it]"
     ]
    },
    {
     "name": "stdout",
     "output_type": "stream",
     "text": [
      "Test update: epoch: 122 |accuracy: 0.8098174333572388 | f1: 0.859199047088623 | auc: 0.8904104232788086 | treshold: 0.56\n"
     ]
    },
    {
     "name": "stderr",
     "output_type": "stream",
     "text": [
      "train... loss:0.8795469403266907:   2%|█▊                                                                        | 124/5000 [11:57<7:41:49,  5.68s/it]"
     ]
    },
    {
     "name": "stdout",
     "output_type": "stream",
     "text": [
      "Test update: epoch: 123 |accuracy: 0.8098416328430176 | f1: 0.8595011830329895 | auc: 0.8908485770225525 | treshold: 0.54\n"
     ]
    },
    {
     "name": "stderr",
     "output_type": "stream",
     "text": [
      "train... loss:0.8820387721061707:   2%|█▊                                                                        | 125/5000 [12:03<7:49:27,  5.78s/it]"
     ]
    },
    {
     "name": "stdout",
     "output_type": "stream",
     "text": [
      "Test update: epoch: 124 |accuracy: 0.8110748529434204 | f1: 0.8598891496658325 | auc: 0.8914278149604797 | treshold: 0.53\n"
     ]
    },
    {
     "name": "stderr",
     "output_type": "stream",
     "text": [
      "train... loss:0.889386773109436:   3%|█▉                                                                         | 126/5000 [12:09<7:53:11,  5.83s/it]"
     ]
    },
    {
     "name": "stdout",
     "output_type": "stream",
     "text": [
      "Test update: epoch: 125 |accuracy: 0.8116068243980408 | f1: 0.8606684803962708 | auc: 0.8921715617179871 | treshold: 0.51\n"
     ]
    },
    {
     "name": "stderr",
     "output_type": "stream",
     "text": [
      "train... loss:0.8996569216251373:   3%|█▉                                                                        | 127/5000 [12:15<7:54:27,  5.84s/it]"
     ]
    },
    {
     "name": "stdout",
     "output_type": "stream",
     "text": [
      "Test update: epoch: 126 |accuracy: 0.8112682700157166 | f1: 0.8608660101890564 | auc: 0.89308762550354 | treshold: 0.49\n"
     ]
    },
    {
     "name": "stderr",
     "output_type": "stream",
     "text": [
      "train... loss:0.9106705784797668:   3%|█▉                                                                        | 128/5000 [12:20<7:54:51,  5.85s/it]"
     ]
    },
    {
     "name": "stdout",
     "output_type": "stream",
     "text": [
      "Test update: epoch: 127 |accuracy: 0.8131785988807678 | f1: 0.8618284463882446 | auc: 0.8941088318824768 | treshold: 0.48000000000000004\n"
     ]
    },
    {
     "name": "stderr",
     "output_type": "stream",
     "text": [
      "train... loss:0.9175627529621124:   3%|█▉                                                                        | 129/5000 [12:26<7:56:31,  5.87s/it]"
     ]
    },
    {
     "name": "stdout",
     "output_type": "stream",
     "text": [
      "Test update: epoch: 128 |accuracy: 0.8154999613761902 | f1: 0.862144947052002 | auc: 0.8950161933898926 | treshold: 0.48000000000000004\n"
     ]
    },
    {
     "name": "stderr",
     "output_type": "stream",
     "text": [
      "train... loss:0.9201163053512573:   3%|█▉                                                                        | 130/5000 [12:32<7:55:45,  5.86s/it]"
     ]
    },
    {
     "name": "stdout",
     "output_type": "stream",
     "text": [
      "Test update: epoch: 129 |accuracy: 0.8149679899215698 | f1: 0.8624087572097778 | auc: 0.8956362009048462 | treshold: 0.46\n"
     ]
    },
    {
     "name": "stderr",
     "output_type": "stream",
     "text": [
      "train... loss:0.9188163876533508:   3%|█▉                                                                        | 131/5000 [12:38<7:55:08,  5.86s/it]"
     ]
    },
    {
     "name": "stdout",
     "output_type": "stream",
     "text": [
      "Test update: epoch: 130 |accuracy: 0.815741777420044 | f1: 0.8627719283103943 | auc: 0.8959817886352539 | treshold: 0.45\n"
     ]
    },
    {
     "name": "stderr",
     "output_type": "stream",
     "text": [
      "train... loss:0.9128042757511139:   3%|█▉                                                                        | 132/5000 [12:44<7:54:19,  5.85s/it]"
     ]
    },
    {
     "name": "stdout",
     "output_type": "stream",
     "text": [
      "Test update: epoch: 131 |accuracy: 0.8166122436523438 | f1: 0.863297164440155 | auc: 0.8961395025253296 | treshold: 0.44\n"
     ]
    },
    {
     "name": "stderr",
     "output_type": "stream",
     "text": [
      "train... loss:0.9051032066345215:   3%|█▉                                                                        | 133/5000 [12:50<7:55:27,  5.86s/it]"
     ]
    },
    {
     "name": "stdout",
     "output_type": "stream",
     "text": [
      "Test update: epoch: 132 |accuracy: 0.8152339458465576 | f1: 0.8630915284156799 | auc: 0.8962140679359436 | treshold: 0.42000000000000004\n"
     ]
    },
    {
     "name": "stderr",
     "output_type": "stream",
     "text": [
      "train... loss:0.8958805501461029:   3%|█▉                                                                        | 134/5000 [12:56<7:55:47,  5.87s/it]"
     ]
    },
    {
     "name": "stdout",
     "output_type": "stream",
     "text": [
      "Test update: epoch: 133 |accuracy: 0.8162012100219727 | f1: 0.8631855845451355 | auc: 0.8962913751602173 | treshold: 0.42000000000000004\n"
     ]
    },
    {
     "name": "stderr",
     "output_type": "stream",
     "text": [
      "train... loss:0.8862054646015167:   3%|█▉                                                                        | 135/5000 [13:02<7:54:51,  5.86s/it]"
     ]
    },
    {
     "name": "stdout",
     "output_type": "stream",
     "text": [
      "Test update: epoch: 134 |accuracy: 0.8164429664611816 | f1: 0.8636306524276733 | auc: 0.8964375257492065 | treshold: 0.41000000000000003\n"
     ]
    },
    {
     "name": "stderr",
     "output_type": "stream",
     "text": [
      "train... loss:0.8771879971027374:   3%|██                                                                        | 136/5000 [13:07<7:53:51,  5.85s/it]"
     ]
    },
    {
     "name": "stdout",
     "output_type": "stream",
     "text": [
      "Test update: epoch: 135 |accuracy: 0.8148228526115417 | f1: 0.8635035157203674 | auc: 0.8966943621635437 | treshold: 0.39\n"
     ]
    },
    {
     "name": "stderr",
     "output_type": "stream",
     "text": [
      "train... loss:0.8692116737365723:   3%|██                                                                        | 137/5000 [13:13<7:53:36,  5.84s/it]"
     ]
    },
    {
     "name": "stdout",
     "output_type": "stream",
     "text": [
      "Test update: epoch: 136 |accuracy: 0.8149921298027039 | f1: 0.8635966777801514 | auc: 0.8970940113067627 | treshold: 0.39\n"
     ]
    },
    {
     "name": "stderr",
     "output_type": "stream",
     "text": [
      "train... loss:0.8646636605262756:   3%|██                                                                        | 138/5000 [13:19<7:53:49,  5.85s/it]"
     ]
    },
    {
     "name": "stdout",
     "output_type": "stream",
     "text": [
      "Test update: epoch: 137 |accuracy: 0.8150646686553955 | f1: 0.8638903498649597 | auc: 0.8976503610610962 | treshold: 0.39\n"
     ]
    },
    {
     "name": "stderr",
     "output_type": "stream",
     "text": [
      "train... loss:0.8629611134529114:   3%|██                                                                        | 139/5000 [13:25<7:53:48,  5.85s/it]"
     ]
    },
    {
     "name": "stdout",
     "output_type": "stream",
     "text": [
      "Test update: epoch: 138 |accuracy: 0.8145326972007751 | f1: 0.8640456795692444 | auc: 0.8983721733093262 | treshold: 0.39\n"
     ]
    },
    {
     "name": "stderr",
     "output_type": "stream",
     "text": [
      "train... loss:0.8646295666694641:   3%|██                                                                        | 140/5000 [13:31<7:52:56,  5.84s/it]"
     ]
    },
    {
     "name": "stdout",
     "output_type": "stream",
     "text": [
      "Test update: epoch: 139 |accuracy: 0.8145326972007751 | f1: 0.864473283290863 | auc: 0.8992276191711426 | treshold: 0.4\n"
     ]
    },
    {
     "name": "stderr",
     "output_type": "stream",
     "text": [
      "train... loss:0.8711029291152954:   3%|██                                                                        | 141/5000 [13:37<7:52:02,  5.83s/it]"
     ]
    },
    {
     "name": "stdout",
     "output_type": "stream",
     "text": [
      "Test update: epoch: 140 |accuracy: 0.8162253499031067 | f1: 0.8652482032775879 | auc: 0.9001387357711792 | treshold: 0.44\n"
     ]
    },
    {
     "name": "stderr",
     "output_type": "stream",
     "text": [
      "train... loss:0.8828144371509552:   3%|██                                                                        | 142/5000 [13:42<7:53:27,  5.85s/it]"
     ]
    },
    {
     "name": "stdout",
     "output_type": "stream",
     "text": [
      "Test update: epoch: 141 |accuracy: 0.8168540596961975 | f1: 0.8660322427749634 | auc: 0.9009937644004822 | treshold: 0.47000000000000003\n"
     ]
    },
    {
     "name": "stderr",
     "output_type": "stream",
     "text": [
      "train... loss:0.8954359591007233:   3%|██                                                                        | 143/5000 [13:48<7:53:43,  5.85s/it]"
     ]
    },
    {
     "name": "stdout",
     "output_type": "stream",
     "text": [
      "Test update: epoch: 142 |accuracy: 0.8154274225234985 | f1: 0.8654100298881531 | auc: 0.9016208648681641 | treshold: 0.5\n"
     ]
    },
    {
     "name": "stderr",
     "output_type": "stream",
     "text": [
      "train... loss:0.9078859090805054:   3%|██▏                                                                       | 144/5000 [13:54<7:58:34,  5.91s/it]"
     ]
    },
    {
     "name": "stdout",
     "output_type": "stream",
     "text": [
      "Test update: epoch: 143 |accuracy: 0.818159818649292 | f1: 0.8666288256645203 | auc: 0.9019393920898438 | treshold: 0.56\n"
     ]
    },
    {
     "name": "stderr",
     "output_type": "stream",
     "text": [
      "train... loss:0.8751324117183685:   3%|██▍                                                                       | 164/5000 [15:43<7:17:53,  5.43s/it]"
     ]
    },
    {
     "name": "stdout",
     "output_type": "stream",
     "text": [
      "Test update: epoch: 163 |accuracy: 0.8227784037590027 | f1: 0.8679292798042297 | auc: 0.903192937374115 | treshold: 0.37\n"
     ]
    },
    {
     "name": "stderr",
     "output_type": "stream",
     "text": [
      "train... loss:0.8662854433059692:   3%|██▍                                                                       | 165/5000 [15:49<7:25:13,  5.53s/it]"
     ]
    },
    {
     "name": "stdout",
     "output_type": "stream",
     "text": [
      "Test update: epoch: 164 |accuracy: 0.8230927586555481 | f1: 0.8685638308525085 | auc: 0.9037725925445557 | treshold: 0.36000000000000004\n"
     ]
    },
    {
     "name": "stderr",
     "output_type": "stream",
     "text": [
      "train... loss:0.8578867018222809:   3%|██▍                                                                       | 166/5000 [15:54<7:30:44,  5.59s/it]"
     ]
    },
    {
     "name": "stdout",
     "output_type": "stream",
     "text": [
      "Test update: epoch: 165 |accuracy: 0.8213517069816589 | f1: 0.8685736656188965 | auc: 0.9044815897941589 | treshold: 0.34\n"
     ]
    },
    {
     "name": "stderr",
     "output_type": "stream",
     "text": [
      "train... loss:0.8500688374042511:   3%|██▍                                                                       | 167/5000 [16:00<7:34:53,  5.65s/it]"
     ]
    },
    {
     "name": "stdout",
     "output_type": "stream",
     "text": [
      "Test update: epoch: 166 |accuracy: 0.8213759064674377 | f1: 0.8690596222877502 | auc: 0.9052758812904358 | treshold: 0.34\n"
     ]
    },
    {
     "name": "stderr",
     "output_type": "stream",
     "text": [
      "train... loss:0.8439712524414062:   3%|██▍                                                                       | 168/5000 [16:06<7:37:19,  5.68s/it]"
     ]
    },
    {
     "name": "stdout",
     "output_type": "stream",
     "text": [
      "Test update: epoch: 167 |accuracy: 0.8216902613639832 | f1: 0.8691114187240601 | auc: 0.9061139822006226 | treshold: 0.36000000000000004\n"
     ]
    },
    {
     "name": "stderr",
     "output_type": "stream",
     "text": [
      "train... loss:0.8412939608097076:   3%|██▌                                                                       | 169/5000 [16:12<7:39:04,  5.70s/it]"
     ]
    },
    {
     "name": "stdout",
     "output_type": "stream",
     "text": [
      "Test update: epoch: 168 |accuracy: 0.8212066292762756 | f1: 0.8690261244773865 | auc: 0.9069400429725647 | treshold: 0.38\n"
     ]
    },
    {
     "name": "stderr",
     "output_type": "stream",
     "text": [
      "train... loss:0.8431985676288605:   3%|██▌                                                                       | 170/5000 [16:17<7:40:20,  5.72s/it]"
     ]
    },
    {
     "name": "stdout",
     "output_type": "stream",
     "text": [
      "Test update: epoch: 169 |accuracy: 0.8210131525993347 | f1: 0.8691532611846924 | auc: 0.907668948173523 | treshold: 0.41000000000000003\n"
     ]
    },
    {
     "name": "stderr",
     "output_type": "stream",
     "text": [
      "train... loss:0.8516832590103149:   3%|██▌                                                                       | 171/5000 [16:23<7:43:05,  5.75s/it]"
     ]
    },
    {
     "name": "stdout",
     "output_type": "stream",
     "text": [
      "Test update: epoch: 170 |accuracy: 0.8220771551132202 | f1: 0.8698758482933044 | auc: 0.908214807510376 | treshold: 0.46\n"
     ]
    },
    {
     "name": "stderr",
     "output_type": "stream",
     "text": [
      "train... loss:0.8644707202911377:   3%|██▌                                                                       | 172/5000 [16:29<7:48:37,  5.82s/it]"
     ]
    },
    {
     "name": "stdout",
     "output_type": "stream",
     "text": [
      "Test update: epoch: 171 |accuracy: 0.8226091265678406 | f1: 0.8698782920837402 | auc: 0.9085016250610352 | treshold: 0.52\n"
     ]
    },
    {
     "name": "stderr",
     "output_type": "stream",
     "text": [
      "train... loss:0.8527760803699493:   4%|██▋                                                                       | 184/5000 [17:35<7:29:55,  5.61s/it]"
     ]
    },
    {
     "name": "stdout",
     "output_type": "stream",
     "text": [
      "Test update: epoch: 183 |accuracy: 0.8300568461418152 | f1: 0.8725749850273132 | auc: 0.9093157052993774 | treshold: 0.54\n"
     ]
    },
    {
     "name": "stderr",
     "output_type": "stream",
     "text": [
      "train... loss:0.8312777280807495:   4%|██▉                                                                       | 196/5000 [18:40<7:16:54,  5.46s/it]"
     ]
    },
    {
     "name": "stdout",
     "output_type": "stream",
     "text": [
      "Test update: epoch: 195 |accuracy: 0.8278080224990845 | f1: 0.8723263144493103 | auc: 0.9097847938537598 | treshold: 0.37\n"
     ]
    },
    {
     "name": "stderr",
     "output_type": "stream",
     "text": [
      "train... loss:0.830808162689209:   4%|██▉                                                                        | 197/5000 [18:46<7:27:34,  5.59s/it]"
     ]
    },
    {
     "name": "stdout",
     "output_type": "stream",
     "text": [
      "Test update: epoch: 196 |accuracy: 0.8280739784240723 | f1: 0.8729358911514282 | auc: 0.9106770753860474 | treshold: 0.38\n"
     ]
    },
    {
     "name": "stderr",
     "output_type": "stream",
     "text": [
      "train... loss:0.8323034048080444:   4%|██▉                                                                       | 198/5000 [18:51<7:32:36,  5.66s/it]"
     ]
    },
    {
     "name": "stdout",
     "output_type": "stream",
     "text": [
      "Test update: epoch: 197 |accuracy: 0.8282432556152344 | f1: 0.8734387159347534 | auc: 0.9116086959838867 | treshold: 0.4\n"
     ]
    },
    {
     "name": "stderr",
     "output_type": "stream",
     "text": [
      "train... loss:0.8381149470806122:   4%|██▉                                                                       | 199/5000 [18:57<7:34:47,  5.68s/it]"
     ]
    },
    {
     "name": "stdout",
     "output_type": "stream",
     "text": [
      "Test update: epoch: 198 |accuracy: 0.8281465172767639 | f1: 0.8737543225288391 | auc: 0.9124608635902405 | treshold: 0.43\n"
     ]
    },
    {
     "name": "stderr",
     "output_type": "stream",
     "text": [
      "train... loss:0.84698885679245:   4%|███                                                                         | 200/5000 [19:03<7:37:24,  5.72s/it]"
     ]
    },
    {
     "name": "stdout",
     "output_type": "stream",
     "text": [
      "Test update: epoch: 199 |accuracy: 0.8286784887313843 | f1: 0.8739973902702332 | auc: 0.913124680519104 | treshold: 0.48000000000000004\n"
     ]
    },
    {
     "name": "stderr",
     "output_type": "stream",
     "text": [
      "train... loss:0.8572520613670349:   4%|██▉                                                                       | 201/5000 [19:09<7:40:33,  5.76s/it]"
     ]
    },
    {
     "name": "stdout",
     "output_type": "stream",
     "text": [
      "Test update: epoch: 200 |accuracy: 0.8285576105117798 | f1: 0.8741121888160706 | auc: 0.9135297536849976 | treshold: 0.52\n"
     ]
    },
    {
     "name": "stderr",
     "output_type": "stream",
     "text": [
      "train... loss:0.8675802648067474:   4%|██▉                                                                       | 202/5000 [19:15<7:42:10,  5.78s/it]"
     ]
    },
    {
     "name": "stdout",
     "output_type": "stream",
     "text": [
      "Test update: epoch: 201 |accuracy: 0.8287752270698547 | f1: 0.8738262057304382 | auc: 0.9137057662010193 | treshold: 0.5700000000000001\n"
     ]
    },
    {
     "name": "stderr",
     "output_type": "stream",
     "text": [
      "train... loss:0.8738011717796326:   4%|███                                                                       | 203/5000 [19:21<7:46:07,  5.83s/it]"
     ]
    },
    {
     "name": "stdout",
     "output_type": "stream",
     "text": [
      "Test update: epoch: 202 |accuracy: 0.8314593434333801 | f1: 0.8748384118080139 | auc: 0.9137294888496399 | treshold: 0.62\n"
     ]
    },
    {
     "name": "stderr",
     "output_type": "stream",
     "text": [
      "train... loss:0.8623585999011993:   4%|███                                                                       | 206/5000 [19:37<7:38:20,  5.74s/it]"
     ]
    },
    {
     "name": "stdout",
     "output_type": "stream",
     "text": [
      "Test update: epoch: 205 |accuracy: 0.8303953409194946 | f1: 0.8741703033447266 | auc: 0.9136292338371277 | treshold: 0.63\n"
     ]
    },
    {
     "name": "stderr",
     "output_type": "stream",
     "text": [
      "train... loss:0.8511256575584412:   4%|███                                                                       | 207/5000 [19:43<7:44:39,  5.82s/it]"
     ]
    },
    {
     "name": "stdout",
     "output_type": "stream",
     "text": [
      "Test update: epoch: 206 |accuracy: 0.8322331309318542 | f1: 0.8749098777770996 | auc: 0.91365647315979 | treshold: 0.63\n"
     ]
    },
    {
     "name": "stderr",
     "output_type": "stream",
     "text": [
      "train... loss:0.8404355049133301:   4%|███                                                                       | 208/5000 [19:49<7:47:15,  5.85s/it]"
     ]
    },
    {
     "name": "stdout",
     "output_type": "stream",
     "text": [
      "Test update: epoch: 207 |accuracy: 0.8321363925933838 | f1: 0.8750540018081665 | auc: 0.9137217998504639 | treshold: 0.61\n"
     ]
    },
    {
     "name": "stderr",
     "output_type": "stream",
     "text": [
      "train... loss:0.8315527439117432:   4%|███                                                                       | 209/5000 [19:55<7:48:44,  5.87s/it]"
     ]
    },
    {
     "name": "stdout",
     "output_type": "stream",
     "text": [
      "Test update: epoch: 208 |accuracy: 0.8321363925933838 | f1: 0.8751034736633301 | auc: 0.913813591003418 | treshold: 0.59\n"
     ]
    },
    {
     "name": "stderr",
     "output_type": "stream",
     "text": [
      "train... loss:0.8268861174583435:   4%|███                                                                       | 210/5000 [20:01<7:49:47,  5.88s/it]"
     ]
    },
    {
     "name": "stdout",
     "output_type": "stream",
     "text": [
      "Test update: epoch: 209 |accuracy: 0.8339257836341858 | f1: 0.8757417798042297 | auc: 0.9139099717140198 | treshold: 0.5800000000000001\n"
     ]
    },
    {
     "name": "stderr",
     "output_type": "stream",
     "text": [
      "train... loss:0.8269323110580444:   4%|███                                                                       | 211/5000 [20:07<7:52:06,  5.91s/it]"
     ]
    },
    {
     "name": "stdout",
     "output_type": "stream",
     "text": [
      "Test update: epoch: 210 |accuracy: 0.834481954574585 | f1: 0.8759132027626038 | auc: 0.9139744639396667 | treshold: 0.56\n"
     ]
    },
    {
     "name": "stderr",
     "output_type": "stream",
     "text": [
      "train... loss:0.8305194079875946:   5%|███▎                                                                      | 228/5000 [21:38<7:14:39,  5.47s/it]"
     ]
    },
    {
     "name": "stdout",
     "output_type": "stream",
     "text": [
      "Test update: epoch: 227 |accuracy: 0.8338290452957153 | f1: 0.8768900036811829 | auc: 0.91512531042099 | treshold: 0.48000000000000004\n"
     ]
    },
    {
     "name": "stderr",
     "output_type": "stream",
     "text": [
      "train... loss:0.8418258726596832:   5%|███▍                                                                      | 229/5000 [21:44<7:25:10,  5.60s/it]"
     ]
    },
    {
     "name": "stdout",
     "output_type": "stream",
     "text": [
      "Test update: epoch: 228 |accuracy: 0.8327892422676086 | f1: 0.8767269849777222 | auc: 0.91572105884552 | treshold: 0.51\n"
     ]
    },
    {
     "name": "stderr",
     "output_type": "stream",
     "text": [
      "train... loss:0.8537509143352509:   5%|███▍                                                                      | 230/5000 [21:50<7:32:05,  5.69s/it]"
     ]
    },
    {
     "name": "stdout",
     "output_type": "stream",
     "text": [
      "Test update: epoch: 229 |accuracy: 0.834481954574585 | f1: 0.877406656742096 | auc: 0.9161859154701233 | treshold: 0.5700000000000001\n"
     ]
    },
    {
     "name": "stderr",
     "output_type": "stream",
     "text": [
      "train... loss:0.8629762828350067:   5%|███▍                                                                      | 231/5000 [21:56<7:37:45,  5.76s/it]"
     ]
    },
    {
     "name": "stdout",
     "output_type": "stream",
     "text": [
      "Test update: epoch: 230 |accuracy: 0.8338290452957153 | f1: 0.8770486116409302 | auc: 0.9165374040603638 | treshold: 0.6\n"
     ]
    },
    {
     "name": "stderr",
     "output_type": "stream",
     "text": [
      "train... loss:0.8673178851604462:   5%|███▍                                                                      | 232/5000 [22:02<7:43:18,  5.83s/it]"
     ]
    },
    {
     "name": "stdout",
     "output_type": "stream",
     "text": [
      "Test update: epoch: 231 |accuracy: 0.8340466618537903 | f1: 0.8768946528434753 | auc: 0.9168194532394409 | treshold: 0.63\n"
     ]
    },
    {
     "name": "stderr",
     "output_type": "stream",
     "text": [
      "train... loss:0.8657855689525604:   5%|███▍                                                                      | 233/5000 [22:08<7:47:08,  5.88s/it]"
     ]
    },
    {
     "name": "stdout",
     "output_type": "stream",
     "text": [
      "Test update: epoch: 232 |accuracy: 0.8358602523803711 | f1: 0.8773444890975952 | auc: 0.917070209980011 | treshold: 0.66\n"
     ]
    },
    {
     "name": "stderr",
     "output_type": "stream",
     "text": [
      "train... loss:0.8595154285430908:   5%|███▍                                                                      | 234/5000 [22:14<7:50:08,  5.92s/it]"
     ]
    },
    {
     "name": "stdout",
     "output_type": "stream",
     "text": [
      "Test update: epoch: 233 |accuracy: 0.8359811305999756 | f1: 0.8773838877677917 | auc: 0.9173015356063843 | treshold: 0.66\n"
     ]
    },
    {
     "name": "stderr",
     "output_type": "stream",
     "text": [
      "train... loss:0.8490546345710754:   5%|███▍                                                                      | 235/5000 [22:20<7:51:05,  5.93s/it]"
     ]
    },
    {
     "name": "stdout",
     "output_type": "stream",
     "text": [
      "Test update: epoch: 234 |accuracy: 0.8360295295715332 | f1: 0.8775307536125183 | auc: 0.9175290465354919 | treshold: 0.65\n"
     ]
    },
    {
     "name": "stderr",
     "output_type": "stream",
     "text": [
      "train... loss:0.8371942937374115:   5%|███▍                                                                      | 236/5000 [22:26<7:50:19,  5.92s/it]"
     ]
    },
    {
     "name": "stdout",
     "output_type": "stream",
     "text": [
      "Test update: epoch: 235 |accuracy: 0.8366340398788452 | f1: 0.8778123259544373 | auc: 0.9177462458610535 | treshold: 0.64\n"
     ]
    },
    {
     "name": "stderr",
     "output_type": "stream",
     "text": [
      "train... loss:0.8273017406463623:   5%|███▌                                                                      | 237/5000 [22:32<7:51:35,  5.94s/it]"
     ]
    },
    {
     "name": "stdout",
     "output_type": "stream",
     "text": [
      "Test update: epoch: 236 |accuracy: 0.8376496434211731 | f1: 0.878144383430481 | auc: 0.9179433584213257 | treshold: 0.63\n"
     ]
    },
    {
     "name": "stderr",
     "output_type": "stream",
     "text": [
      "train... loss:0.819269210100174:   5%|███▌                                                                       | 238/5000 [22:38<7:50:47,  5.93s/it]"
     ]
    },
    {
     "name": "stdout",
     "output_type": "stream",
     "text": [
      "Test update: epoch: 237 |accuracy: 0.8379639983177185 | f1: 0.878276526927948 | auc: 0.9181187152862549 | treshold: 0.61\n"
     ]
    },
    {
     "name": "stderr",
     "output_type": "stream",
     "text": [
      "train... loss:0.8151457607746124:   5%|███▌                                                                      | 239/5000 [22:44<7:48:38,  5.91s/it]"
     ]
    },
    {
     "name": "stdout",
     "output_type": "stream",
     "text": [
      "Test update: epoch: 238 |accuracy: 0.8376979827880859 | f1: 0.878471851348877 | auc: 0.9182524681091309 | treshold: 0.5800000000000001\n"
     ]
    },
    {
     "name": "stderr",
     "output_type": "stream",
     "text": [
      "train... loss:0.8165647983551025:   5%|███▌                                                                      | 240/5000 [22:50<7:49:20,  5.92s/it]"
     ]
    },
    {
     "name": "stdout",
     "output_type": "stream",
     "text": [
      "Test update: epoch: 239 |accuracy: 0.8400193452835083 | f1: 0.8792392015457153 | auc: 0.9183170199394226 | treshold: 0.5700000000000001\n"
     ]
    },
    {
     "name": "stderr",
     "output_type": "stream",
     "text": [
      "train... loss:0.8224026560783386:   5%|███▌                                                                      | 241/5000 [22:56<7:48:55,  5.91s/it]"
     ]
    },
    {
     "name": "stdout",
     "output_type": "stream",
     "text": [
      "Test update: epoch: 240 |accuracy: 0.8393664360046387 | f1: 0.8790664672851562 | auc: 0.9182631969451904 | treshold: 0.54\n"
     ]
    },
    {
     "name": "stderr",
     "output_type": "stream",
     "text": [
      "train... loss:0.8122241795063019:   5%|███▉                                                                      | 267/5000 [25:16<7:20:42,  5.59s/it]"
     ]
    },
    {
     "name": "stdout",
     "output_type": "stream",
     "text": [
      "Test update: epoch: 266 |accuracy: 0.8420746922492981 | f1: 0.8807319402694702 | auc: 0.9195026755332947 | treshold: 0.61\n"
     ]
    },
    {
     "name": "stderr",
     "output_type": "stream",
     "text": [
      "train... loss:0.8112618625164032:   5%|███▉                                                                      | 268/5000 [25:21<7:26:02,  5.66s/it]"
     ]
    },
    {
     "name": "stdout",
     "output_type": "stream",
     "text": [
      "Test update: epoch: 267 |accuracy: 0.8426308631896973 | f1: 0.8809889554977417 | auc: 0.9197273254394531 | treshold: 0.59\n"
     ]
    },
    {
     "name": "stderr",
     "output_type": "stream",
     "text": [
      "train... loss:0.814479649066925:   5%|████                                                                       | 269/5000 [25:27<7:30:52,  5.72s/it]"
     ]
    },
    {
     "name": "stdout",
     "output_type": "stream",
     "text": [
      "Test update: epoch: 268 |accuracy: 0.8430419564247131 | f1: 0.8803965449333191 | auc: 0.9198774695396423 | treshold: 0.5800000000000001\n"
     ]
    },
    {
     "name": "stderr",
     "output_type": "stream",
     "text": [
      "train... loss:0.8211990892887115:   5%|███▉                                                                      | 270/5000 [25:33<7:34:48,  5.77s/it]"
     ]
    },
    {
     "name": "stdout",
     "output_type": "stream",
     "text": [
      "Test update: epoch: 269 |accuracy: 0.8415911197662354 | f1: 0.880480170249939 | auc: 0.9199206233024597 | treshold: 0.54\n"
     ]
    },
    {
     "name": "stderr",
     "output_type": "stream",
     "text": [
      "train... loss:0.8294518887996674:   5%|████                                                                      | 271/5000 [25:39<7:38:22,  5.82s/it]"
     ]
    },
    {
     "name": "stdout",
     "output_type": "stream",
     "text": [
      "Test update: epoch: 270 |accuracy: 0.8415185809135437 | f1: 0.8801258206367493 | auc: 0.9198422431945801 | treshold: 0.52\n"
     ]
    },
    {
     "name": "stderr",
     "output_type": "stream",
     "text": [
      "train... loss:0.8343888819217682:   6%|████▍                                                                     | 301/5000 [28:21<7:14:40,  5.55s/it]"
     ]
    },
    {
     "name": "stdout",
     "output_type": "stream",
     "text": [
      "Test update: epoch: 300 |accuracy: 0.8420746922492981 | f1: 0.8799867630004883 | auc: 0.9194789528846741 | treshold: 0.49\n"
     ]
    },
    {
     "name": "stderr",
     "output_type": "stream",
     "text": [
      "train... loss:0.8316753506660461:   6%|████▍                                                                     | 302/5000 [28:26<7:22:26,  5.65s/it]"
     ]
    },
    {
     "name": "stdout",
     "output_type": "stream",
     "text": [
      "Test update: epoch: 301 |accuracy: 0.8414218425750732 | f1: 0.880485475063324 | auc: 0.9195045828819275 | treshold: 0.46\n"
     ]
    },
    {
     "name": "stderr",
     "output_type": "stream",
     "text": [
      "train... loss:0.8262442648410797:   6%|████▍                                                                     | 303/5000 [28:32<7:28:13,  5.73s/it]"
     ]
    },
    {
     "name": "stdout",
     "output_type": "stream",
     "text": [
      "Test update: epoch: 302 |accuracy: 0.8416152596473694 | f1: 0.8804439306259155 | auc: 0.9194860458374023 | treshold: 0.45\n"
     ]
    },
    {
     "name": "stderr",
     "output_type": "stream",
     "text": [
      "train... loss:0.8199695646762848:   6%|████▍                                                                     | 304/5000 [28:38<7:31:37,  5.77s/it]"
     ]
    },
    {
     "name": "stdout",
     "output_type": "stream",
     "text": [
      "Test update: epoch: 303 |accuracy: 0.8415427207946777 | f1: 0.8802382946014404 | auc: 0.91946941614151 | treshold: 0.44\n"
     ]
    },
    {
     "name": "stderr",
     "output_type": "stream",
     "text": [
      "train... loss:0.8134801983833313:   6%|████▌                                                                     | 305/5000 [28:44<7:33:41,  5.80s/it]"
     ]
    },
    {
     "name": "stdout",
     "output_type": "stream",
     "text": [
      "Test update: epoch: 304 |accuracy: 0.8407689332962036 | f1: 0.8802357316017151 | auc: 0.9194914102554321 | treshold: 0.42000000000000004\n"
     ]
    },
    {
     "name": "stderr",
     "output_type": "stream",
     "text": [
      "train... loss:0.8062890470027924:   6%|████▌                                                                     | 306/5000 [28:50<7:36:21,  5.83s/it]"
     ]
    },
    {
     "name": "stdout",
     "output_type": "stream",
     "text": [
      "Test update: epoch: 305 |accuracy: 0.8413493037223816 | f1: 0.879824161529541 | auc: 0.919563889503479 | treshold: 0.43\n"
     ]
    },
    {
     "name": "stderr",
     "output_type": "stream",
     "text": [
      "train... loss:0.8007104992866516:   6%|████▌                                                                     | 307/5000 [28:56<7:38:53,  5.87s/it]"
     ]
    },
    {
     "name": "stdout",
     "output_type": "stream",
     "text": [
      "Test update: epoch: 306 |accuracy: 0.8413976430892944 | f1: 0.8802424669265747 | auc: 0.919703483581543 | treshold: 0.42000000000000004\n"
     ]
    },
    {
     "name": "stderr",
     "output_type": "stream",
     "text": [
      "train... loss:0.7974725365638733:   6%|████▌                                                                     | 308/5000 [29:02<7:40:00,  5.88s/it]"
     ]
    },
    {
     "name": "stdout",
     "output_type": "stream",
     "text": [
      "Test update: epoch: 307 |accuracy: 0.8398984670639038 | f1: 0.8800565004348755 | auc: 0.9199053049087524 | treshold: 0.4\n"
     ]
    },
    {
     "name": "stderr",
     "output_type": "stream",
     "text": [
      "train... loss:0.794562816619873:   6%|████▋                                                                      | 309/5000 [29:08<7:41:48,  5.91s/it]"
     ]
    },
    {
     "name": "stdout",
     "output_type": "stream",
     "text": [
      "Test update: epoch: 308 |accuracy: 0.8398500680923462 | f1: 0.8799158930778503 | auc: 0.9201646447181702 | treshold: 0.41000000000000003\n"
     ]
    },
    {
     "name": "stderr",
     "output_type": "stream",
     "text": [
      "train... loss:0.7947224080562592:   6%|████▌                                                                     | 310/5000 [29:14<7:41:55,  5.91s/it]"
     ]
    },
    {
     "name": "stdout",
     "output_type": "stream",
     "text": [
      "Test update: epoch: 309 |accuracy: 0.8392213582992554 | f1: 0.8799191117286682 | auc: 0.9204615950584412 | treshold: 0.41000000000000003\n"
     ]
    },
    {
     "name": "stderr",
     "output_type": "stream",
     "text": [
      "train... loss:0.7977314293384552:   6%|████▌                                                                     | 311/5000 [29:20<7:40:49,  5.90s/it]"
     ]
    },
    {
     "name": "stdout",
     "output_type": "stream",
     "text": [
      "Test update: epoch: 310 |accuracy: 0.8389554023742676 | f1: 0.880146861076355 | auc: 0.920770525932312 | treshold: 0.42000000000000004\n"
     ]
    },
    {
     "name": "stderr",
     "output_type": "stream",
     "text": [
      "train... loss:0.8025400340557098:   6%|████▌                                                                     | 312/5000 [29:26<7:40:36,  5.90s/it]"
     ]
    },
    {
     "name": "stdout",
     "output_type": "stream",
     "text": [
      "Test update: epoch: 311 |accuracy: 0.8395357131958008 | f1: 0.8805486559867859 | auc: 0.9210562109947205 | treshold: 0.45\n"
     ]
    },
    {
     "name": "stderr",
     "output_type": "stream",
     "text": [
      "train... loss:0.7988347411155701:   7%|████▉                                                                     | 335/5000 [31:30<7:03:31,  5.45s/it]"
     ]
    },
    {
     "name": "stdout",
     "output_type": "stream",
     "text": [
      "Test update: epoch: 334 |accuracy: 0.8407205939292908 | f1: 0.8805339336395264 | auc: 0.9209867715835571 | treshold: 0.39\n"
     ]
    },
    {
     "name": "stderr",
     "output_type": "stream",
     "text": [
      "train... loss:0.7939361929893494:   7%|████▉                                                                     | 336/5000 [31:36<7:13:11,  5.57s/it]"
     ]
    },
    {
     "name": "stdout",
     "output_type": "stream",
     "text": [
      "Test update: epoch: 335 |accuracy: 0.8405755162239075 | f1: 0.8807624578475952 | auc: 0.9211827516555786 | treshold: 0.38\n"
     ]
    },
    {
     "name": "stderr",
     "output_type": "stream",
     "text": [
      "train... loss:0.7900790870189667:   7%|████▉                                                                     | 337/5000 [31:41<7:19:35,  5.66s/it]"
     ]
    },
    {
     "name": "stdout",
     "output_type": "stream",
     "text": [
      "Test update: epoch: 336 |accuracy: 0.8416152596473694 | f1: 0.8812545537948608 | auc: 0.9214353561401367 | treshold: 0.39\n"
     ]
    },
    {
     "name": "stderr",
     "output_type": "stream",
     "text": [
      "train... loss:0.7872119247913361:   7%|█████                                                                     | 338/5000 [31:47<7:24:24,  5.72s/it]"
     ]
    },
    {
     "name": "stdout",
     "output_type": "stream",
     "text": [
      "Test update: epoch: 337 |accuracy: 0.8411558270454407 | f1: 0.8812952637672424 | auc: 0.9217439293861389 | treshold: 0.39\n"
     ]
    },
    {
     "name": "stderr",
     "output_type": "stream",
     "text": [
      "train... loss:0.7866334915161133:   7%|█████                                                                     | 339/5000 [31:53<7:27:49,  5.76s/it]"
     ]
    },
    {
     "name": "stdout",
     "output_type": "stream",
     "text": [
      "Test update: epoch: 338 |accuracy: 0.841083288192749 | f1: 0.8815514445304871 | auc: 0.9221117496490479 | treshold: 0.4\n"
     ]
    },
    {
     "name": "stderr",
     "output_type": "stream",
     "text": [
      "train... loss:0.7879458367824554:   7%|█████                                                                     | 340/5000 [31:59<7:30:04,  5.80s/it]"
     ]
    },
    {
     "name": "stdout",
     "output_type": "stream",
     "text": [
      "Test update: epoch: 339 |accuracy: 0.8418329358100891 | f1: 0.8819548487663269 | auc: 0.9225223064422607 | treshold: 0.43\n"
     ]
    },
    {
     "name": "stderr",
     "output_type": "stream",
     "text": [
      "train... loss:0.792136013507843:   7%|█████                                                                      | 341/5000 [32:05<7:30:49,  5.81s/it]"
     ]
    },
    {
     "name": "stdout",
     "output_type": "stream",
     "text": [
      "Test update: epoch: 340 |accuracy: 0.8415911197662354 | f1: 0.8823603391647339 | auc: 0.9229462146759033 | treshold: 0.45\n"
     ]
    },
    {
     "name": "stderr",
     "output_type": "stream",
     "text": [
      "train... loss:0.7999295890331268:   7%|█████                                                                     | 342/5000 [32:11<7:33:13,  5.84s/it]"
     ]
    },
    {
     "name": "stdout",
     "output_type": "stream",
     "text": [
      "Test update: epoch: 341 |accuracy: 0.8425341844558716 | f1: 0.8828186988830566 | auc: 0.9233678579330444 | treshold: 0.5\n"
     ]
    },
    {
     "name": "stderr",
     "output_type": "stream",
     "text": [
      "train... loss:0.809814065694809:   7%|█████▏                                                                     | 343/5000 [32:17<7:35:01,  5.86s/it]"
     ]
    },
    {
     "name": "stdout",
     "output_type": "stream",
     "text": [
      "Test update: epoch: 342 |accuracy: 0.8419054746627808 | f1: 0.8828147649765015 | auc: 0.9237300157546997 | treshold: 0.53\n"
     ]
    },
    {
     "name": "stderr",
     "output_type": "stream",
     "text": [
      "train... loss:0.8215585947036743:   7%|█████                                                                     | 344/5000 [32:23<7:36:31,  5.88s/it]"
     ]
    },
    {
     "name": "stdout",
     "output_type": "stream",
     "text": [
      "Test update: epoch: 343 |accuracy: 0.8404304385185242 | f1: 0.8821123242378235 | auc: 0.9240154027938843 | treshold: 0.56\n"
     ]
    },
    {
     "name": "stderr",
     "output_type": "stream",
     "text": [
      "train... loss:0.831332802772522:   7%|█████▏                                                                     | 345/5000 [32:29<7:37:22,  5.90s/it]"
     ]
    },
    {
     "name": "stdout",
     "output_type": "stream",
     "text": [
      "Test update: epoch: 344 |accuracy: 0.8428001403808594 | f1: 0.8828880786895752 | auc: 0.9242292642593384 | treshold: 0.62\n"
     ]
    },
    {
     "name": "stderr",
     "output_type": "stream",
     "text": [
      "train... loss:0.8365288972854614:   7%|█████                                                                     | 346/5000 [32:34<7:38:27,  5.91s/it]"
     ]
    },
    {
     "name": "stdout",
     "output_type": "stream",
     "text": [
      "Test update: epoch: 345 |accuracy: 0.8431628346443176 | f1: 0.8830845952033997 | auc: 0.924390435218811 | treshold: 0.64\n"
     ]
    },
    {
     "name": "stderr",
     "output_type": "stream",
     "text": [
      "train... loss:0.8106031119823456:   8%|█████▌                                                                    | 377/5000 [35:21<7:07:07,  5.54s/it]"
     ]
    },
    {
     "name": "stdout",
     "output_type": "stream",
     "text": [
      "Test update: epoch: 376 |accuracy: 0.8434288501739502 | f1: 0.8832513093948364 | auc: 0.9244807362556458 | treshold: 0.62\n"
     ]
    },
    {
     "name": "stderr",
     "output_type": "stream",
     "text": [
      "train... loss:0.8065516948699951:   8%|█████▌                                                                    | 378/5000 [35:27<7:15:41,  5.66s/it]"
     ]
    },
    {
     "name": "stdout",
     "output_type": "stream",
     "text": [
      "Test update: epoch: 377 |accuracy: 0.8452907800674438 | f1: 0.8841277956962585 | auc: 0.9247225522994995 | treshold: 0.63\n"
     ]
    },
    {
     "name": "stderr",
     "output_type": "stream",
     "text": [
      "train... loss:0.8011407852172852:   8%|█████▌                                                                    | 379/5000 [35:33<7:23:05,  5.75s/it]"
     ]
    },
    {
     "name": "stdout",
     "output_type": "stream",
     "text": [
      "Test update: epoch: 378 |accuracy: 0.8462821841239929 | f1: 0.884437084197998 | auc: 0.9249619245529175 | treshold: 0.63\n"
     ]
    },
    {
     "name": "stderr",
     "output_type": "stream",
     "text": [
      "train... loss:0.7958893179893494:   8%|█████▌                                                                    | 380/5000 [35:39<7:29:33,  5.84s/it]"
     ]
    },
    {
     "name": "stdout",
     "output_type": "stream",
     "text": [
      "Test update: epoch: 379 |accuracy: 0.8480232357978821 | f1: 0.8844945430755615 | auc: 0.9251871109008789 | treshold: 0.64\n"
     ]
    },
    {
     "name": "stderr",
     "output_type": "stream",
     "text": [
      "train... loss:0.7932950258255005:   8%|█████▋                                                                    | 381/5000 [35:45<7:30:17,  5.85s/it]"
     ]
    },
    {
     "name": "stdout",
     "output_type": "stream",
     "text": [
      "Test update: epoch: 380 |accuracy: 0.8481441140174866 | f1: 0.8847113847732544 | auc: 0.9253852963447571 | treshold: 0.62\n"
     ]
    },
    {
     "name": "stderr",
     "output_type": "stream",
     "text": [
      "train... loss:0.7929482758045197:   8%|█████▋                                                                    | 382/5000 [35:51<7:30:15,  5.85s/it]"
     ]
    },
    {
     "name": "stdout",
     "output_type": "stream",
     "text": [
      "Test update: epoch: 381 |accuracy: 0.8478781580924988 | f1: 0.8850895762443542 | auc: 0.9255437850952148 | treshold: 0.59\n"
     ]
    },
    {
     "name": "stderr",
     "output_type": "stream",
     "text": [
      "train... loss:0.7959638833999634:   8%|█████▋                                                                    | 383/5000 [35:57<7:32:57,  5.89s/it]"
     ]
    },
    {
     "name": "stdout",
     "output_type": "stream",
     "text": [
      "Test update: epoch: 382 |accuracy: 0.8479506969451904 | f1: 0.8842883706092834 | auc: 0.9256352186203003 | treshold: 0.5800000000000001\n"
     ]
    },
    {
     "name": "stderr",
     "output_type": "stream",
     "text": [
      "train... loss:0.8012086153030396:   8%|█████▋                                                                    | 384/5000 [36:03<7:31:25,  5.87s/it]"
     ]
    },
    {
     "name": "stdout",
     "output_type": "stream",
     "text": [
      "Test update: epoch: 383 |accuracy: 0.8475396037101746 | f1: 0.8844454884529114 | auc: 0.9256356954574585 | treshold: 0.55\n"
     ]
    },
    {
     "name": "stderr",
     "output_type": "stream",
     "text": [
      "train... loss:0.8092768788337708:   8%|█████▋                                                                    | 388/5000 [36:30<7:13:52,  5.64s/it]\n"
     ]
    }
   ],
   "source": [
    "for embeddings in ['neural','explicit', 'svd',  ]:\n",
    "    print(f\"\\nEvaluating {experiment_name} with {embeddings} embeddings\")\n",
    "\n",
    "    model = AttentionResponseModel(\n",
    "        RecsysEmbedding(train_num_items, r_train_user_item_matrix, embeddings='neural'),\n",
    "        output_dim=1\n",
    "    ).to(device)\n",
    "\n",
    "    _, metrics = train(model, \n",
    "       r_train_loader, r_val_loader, r_test_loader, device=device, lr=1e-3, num_epochs=5000, early_stopping=50,\n",
    "       silent=True, \n",
    "    )\n",
    "    \n",
    "    metrics['embeddings'] = embeddings\n",
    "    rl4rs_results.append(metrics)\n",
    "    \n",
    "pd.DataFrame(rl4rs_results).to_csv(f'results/rl4rs_{experiment_name}.csv')"
   ]
  }
 ],
 "metadata": {
  "kernelspec": {
   "display_name": "Python 3 (ipykernel)",
   "language": "python",
   "name": "python3"
  },
  "language_info": {
   "codemirror_mode": {
    "name": "ipython",
    "version": 3
   },
   "file_extension": ".py",
   "mimetype": "text/x-python",
   "name": "python",
   "nbconvert_exporter": "python",
   "pygments_lexer": "ipython3",
   "version": "3.7.10"
  }
 },
 "nbformat": 4,
 "nbformat_minor": 5
}
