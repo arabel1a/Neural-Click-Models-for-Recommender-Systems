{
 "cells": [
  {
   "cell_type": "code",
   "execution_count": 1,
   "id": "4945fa9f",
   "metadata": {},
   "outputs": [
    {
     "data": {
      "text/plain": [
       "<torch._C.Generator at 0x7f4cbbf2abb0>"
      ]
     },
     "execution_count": 1,
     "metadata": {},
     "output_type": "execute_result"
    }
   ],
   "source": [
    "import os\n",
    "import torch\n",
    "import random\n",
    "import datetime\n",
    "import pandas as pd\n",
    "import numpy as np\n",
    "\n",
    "from torch.utils.data import Dataset\n",
    "from src.datasets import RL4RS, ContentWise, DummyData, OpenCDP\n",
    "from src.utils import train, get_dummy_data, get_train_val_test_tmatrix_tnumitems, get_svd_encoder\n",
    "from src.embeddings import RecsysEmbedding\n",
    "\n",
    "experiment_name = 'SlatewiseAttention'\n",
    "device = 'cuda:0'\n",
    "seed = 123\n",
    "pkl_path = '../pkl/'\n",
    "\n",
    "random.seed(seed)\n",
    "np.random.seed(seed)\n",
    "torch.manual_seed(seed)"
   ]
  },
  {
   "cell_type": "code",
   "execution_count": 2,
   "id": "524f1440",
   "metadata": {},
   "outputs": [
    {
     "data": {
      "text/plain": [
       "'1.12.1'"
      ]
     },
     "execution_count": 2,
     "metadata": {},
     "output_type": "execute_result"
    }
   ],
   "source": [
    "torch.__version__"
   ]
  },
  {
   "cell_type": "markdown",
   "id": "20c87c94",
   "metadata": {},
   "source": [
    "# Модель"
   ]
  },
  {
   "cell_type": "code",
   "execution_count": 3,
   "id": "f7e63c6a",
   "metadata": {},
   "outputs": [],
   "source": [
    "import torch.nn.functional as F\n",
    "torch.autograd.set_detect_anomaly(True)\n",
    "\n",
    "class SlatewiseAttention(torch.nn.Module):\n",
    "    \"\"\"\n",
    "    No recurrent dependency, just slate-wise attention.\n",
    "    \"\"\"\n",
    "    def __init__(self, embedding, nheads=2, output_dim=1):\n",
    "        super().__init__()\n",
    "        self.embedding_dim = embedding.embedding_dim\n",
    "        self.embedding = embedding\n",
    "        self.attention= torch.nn.MultiheadAttention(\n",
    "            2 * embedding.embedding_dim,\n",
    "            num_heads=nheads,\n",
    "            batch_first=True\n",
    "        )\n",
    "        \n",
    "        self.out_layer = torch.nn.Linear(2 * embedding.embedding_dim, output_dim)\n",
    "\n",
    "    def forward(self, batch):\n",
    "        item_embs, user_embs = self.embedding(batch)\n",
    "        shp = item_embs.shape\n",
    "        \n",
    "        # let model attent to first padd token if slate is empty to avoid NaN gradients\n",
    "        # (anyway they does not contrinute into metrics computation)\n",
    "        key_padding_mask = batch['slates_mask'].clone()\n",
    "        key_padding_mask[:,:, 0] = True \n",
    "        \n",
    "        # repeating user embedding for each item embeding\n",
    "        features = torch.cat(\n",
    "            [\n",
    "                item_embs,\n",
    "                user_embs[:, :, None, :].repeat(1, 1, shp[-2], 1).reshape(shp)\n",
    "            ],\n",
    "            dim = -1\n",
    "        )\n",
    "        \n",
    "        # all recomendations in session are scored independently\n",
    "        features = features.flatten(0,1)\n",
    "        \n",
    "        features, attn_map = self.attention(\n",
    "            features, features, features,\n",
    "            key_padding_mask=~key_padding_mask.flatten(0, 1)\n",
    "        )\n",
    "        \n",
    "        # transforming back to sequence shape\n",
    "        shp = list(shp)\n",
    "        shp[-1] *= 2\n",
    "        return self.out_layer(features.reshape(shp)).squeeze(-1)"
   ]
  },
  {
   "cell_type": "markdown",
   "id": "4fecc3ce",
   "metadata": {},
   "source": [
    "# Игрушечный датасет: проверим, что сходится к идеальным метрикам"
   ]
  },
  {
   "cell_type": "code",
   "execution_count": 4,
   "id": "5d7b6f2b",
   "metadata": {},
   "outputs": [
    {
     "name": "stdout",
     "output_type": "stream",
     "text": [
      "biulding affinity matrix...\n"
     ]
    },
    {
     "name": "stderr",
     "output_type": "stream",
     "text": [
      "3it [00:00, 3614.74it/s]\n"
     ]
    },
    {
     "name": "stdout",
     "output_type": "stream",
     "text": [
      "Test before learning: {'f1': 0.0, 'roc-auc': 0.6666666269302368, 'accuracy': 0.75}\n"
     ]
    },
    {
     "data": {
      "application/vnd.jupyter.widget-view+json": {
       "model_id": "7b7a547953bc41aaac7a8760fed1debc",
       "version_major": 2,
       "version_minor": 0
      },
      "text/plain": [
       "train:   0%|          | 0/5000 [00:00<?, ?it/s]"
      ]
     },
     "metadata": {},
     "output_type": "display_data"
    },
    {
     "name": "stdout",
     "output_type": "stream",
     "text": [
      "Val update: epoch: 0 |accuracy: 0.75 | f1: 0.6666666865348816 | auc: 1.0 | treshold: 0.49\n",
      "Test: accuracy: 0.75 | f1: 0.6666666865348816 | auc: 1.0 | \n",
      "Val update: epoch: 4 |accuracy: 1.0 | f1: 1.0 | auc: 1.0 | treshold: 0.51\n",
      "Test: accuracy: 1.0 | f1: 1.0 | auc: 1.0 | \n"
     ]
    },
    {
     "data": {
      "text/plain": [
       "(SlatewiseAttention(\n",
       "   (embedding): RecsysEmbedding(\n",
       "     (item_embeddings): Embedding(5, 32)\n",
       "   )\n",
       "   (attention): MultiheadAttention(\n",
       "     (out_proj): NonDynamicallyQuantizableLinear(in_features=64, out_features=64, bias=True)\n",
       "   )\n",
       "   (out_layer): Linear(in_features=64, out_features=1, bias=True)\n",
       " ),\n",
       " {'f1': 1.0, 'roc-auc': 1.0, 'accuracy': 1.0})"
      ]
     },
     "execution_count": 4,
     "metadata": {},
     "output_type": "execute_result"
    }
   ],
   "source": [
    "d = DummyData()\n",
    "dummy_loader, dummy_matrix = get_dummy_data(d)\n",
    "\n",
    "model = SlatewiseAttention(\n",
    "    RecsysEmbedding(d.n_items, dummy_matrix, embeddings='neural').to('cpu'),\n",
    "    output_dim=1\n",
    ").to('cpu')\n",
    "\n",
    "train(\n",
    "    model, \n",
    "    dummy_loader, dummy_loader, dummy_loader,\n",
    "    device=device, lr=1e-3, num_epochs=5000, dummy=True,\n",
    "    silent=True,\n",
    ")\n"
   ]
  },
  {
   "cell_type": "markdown",
   "id": "83a07300",
   "metadata": {},
   "source": [
    "# ContentWise"
   ]
  },
  {
   "cell_type": "code",
   "execution_count": 5,
   "id": "a85c6e1d",
   "metadata": {},
   "outputs": [
    {
     "name": "stdout",
     "output_type": "stream",
     "text": [
      "20216 data points among 108 batches\n"
     ]
    }
   ],
   "source": [
    "content_wise_results = []\n",
    "dataset = ContentWise.load(os.path.join(pkl_path, 'cw.pkl'))\n",
    "(\n",
    "    train_loader, \n",
    "    val_loader, \n",
    "    test_loader, \n",
    "    train_user_item_matrix, \n",
    "    train_num_items \n",
    ") = get_train_val_test_tmatrix_tnumitems(dataset, batch_size=150)\n",
    "\n",
    "print(f\"{len(dataset)} data points among {len(train_loader)} batches\")"
   ]
  },
  {
   "cell_type": "code",
   "execution_count": 6,
   "id": "a2f92842-6ea6-4275-ae6f-4ef429d9450e",
   "metadata": {},
   "outputs": [
    {
     "name": "stdout",
     "output_type": "stream",
     "text": [
      "\n",
      "Evaluating SlatewiseAttention with svd embeddings\n",
      "Test before learning: {'f1': 0.0, 'roc-auc': 0.5000449419021606, 'accuracy': 0.9026407599449158}\n"
     ]
    },
    {
     "data": {
      "application/vnd.jupyter.widget-view+json": {
       "model_id": "4728384287224940b45cd97943d456f9",
       "version_major": 2,
       "version_minor": 0
      },
      "text/plain": [
       "train:   0%|          | 0/5000 [00:00<?, ?it/s]"
      ]
     },
     "metadata": {},
     "output_type": "display_data"
    },
    {
     "name": "stdout",
     "output_type": "stream",
     "text": [
      "Val update: epoch: 0 |accuracy: 0.09961757063865662 | f1: 0.18118584156036377 | auc: 0.514898419380188 | treshold: 0.01\n",
      "Test: accuracy: 0.09735925495624542 | f1: 0.17744280397891998 | auc: 0.5162686705589294 | \n",
      "Val update: epoch: 1 |accuracy: 0.09961757063865662 | f1: 0.18118584156036377 | auc: 0.5590634346008301 | treshold: 0.03\n",
      "Test: accuracy: 0.09735925495624542 | f1: 0.17744280397891998 | auc: 0.5630252361297607 | \n",
      "Val update: epoch: 2 |accuracy: 0.15103010833263397 | f1: 0.18737085163593292 | auc: 0.568047046661377 | treshold: 0.03\n",
      "Test: accuracy: 0.15901243686676025 | f1: 0.18467168509960175 | auc: 0.5702952742576599 | \n",
      "Val update: epoch: 3 |accuracy: 0.850188136100769 | f1: 0.2064853459596634 | auc: 0.5803830623626709 | treshold: 0.09999999999999999\n",
      "Test: accuracy: 0.8504549860954285 | f1: 0.20918533205986023 | auc: 0.5837557911872864 | \n",
      "Val update: epoch: 4 |accuracy: 0.1452319324016571 | f1: 0.18781502544879913 | auc: 0.5984839797019958 | treshold: 0.06999999999999999\n",
      "Test: accuracy: 0.1512942910194397 | f1: 0.1851769983768463 | auc: 0.6011958122253418 | \n",
      "Val update: epoch: 5 |accuracy: 0.8987478613853455 | f1: 0.12054647505283356 | auc: 0.6150833964347839 | treshold: 0.16\n",
      "Test: accuracy: 0.9008147716522217 | f1: 0.12411924451589584 | auc: 0.6122580766677856 | \n",
      "Val update: epoch: 6 |accuracy: 0.7347952127456665 | f1: 0.22405703365802765 | auc: 0.6215044260025024 | treshold: 0.16\n",
      "Test: accuracy: 0.7418176531791687 | f1: 0.22288933396339417 | auc: 0.6201609969139099 | \n",
      "Val update: epoch: 7 |accuracy: 0.8890482187271118 | f1: 0.18929576873779297 | auc: 0.6290295124053955 | treshold: 0.15000000000000002\n",
      "Test: accuracy: 0.8929278254508972 | f1: 0.18917034566402435 | auc: 0.6260597705841064 | \n",
      "Val update: epoch: 8 |accuracy: 0.7665926218032837 | f1: 0.2397790104150772 | auc: 0.6308218240737915 | treshold: 0.15000000000000002\n",
      "Test: accuracy: 0.7659695148468018 | f1: 0.22907400131225586 | auc: 0.6295719146728516 | \n",
      "Val update: epoch: 9 |accuracy: 0.8917160034179688 | f1: 0.1734934151172638 | auc: 0.6388941407203674 | treshold: 0.15000000000000002\n",
      "Test: accuracy: 0.8962115049362183 | f1: 0.18249939382076263 | auc: 0.6361933946609497 | \n",
      "Val update: epoch: 12 |accuracy: 0.8069794178009033 | f1: 0.25079306960105896 | auc: 0.6394860148429871 | treshold: 0.15000000000000002\n",
      "Test: accuracy: 0.8139356374740601 | f1: 0.2506488561630249 | auc: 0.6401785612106323 | \n",
      "Val update: epoch: 13 |accuracy: 0.88283371925354 | f1: 0.2246938794851303 | auc: 0.6469247937202454 | treshold: 0.14\n",
      "Test: accuracy: 0.8875880241394043 | f1: 0.2250899076461792 | auc: 0.645559549331665 | \n",
      "Val update: epoch: 14 |accuracy: 0.8261318802833557 | f1: 0.2593443989753723 | auc: 0.6504939794540405 | treshold: 0.14\n",
      "Test: accuracy: 0.8291110992431641 | f1: 0.2537023425102234 | auc: 0.650886595249176 | \n",
      "Val update: epoch: 16 |accuracy: 0.8887552618980408 | f1: 0.22960273921489716 | auc: 0.6526501774787903 | treshold: 0.14\n",
      "Test: accuracy: 0.892298698425293 | f1: 0.23062589764595032 | auc: 0.6500035524368286 | \n",
      "Val update: epoch: 17 |accuracy: 0.868569552898407 | f1: 0.25374311208724976 | auc: 0.6543608903884888 | treshold: 0.14\n",
      "Test: accuracy: 0.8715533018112183 | f1: 0.2526560127735138 | auc: 0.6526176929473877 | \n",
      "Val update: epoch: 23 |accuracy: 0.7804558277130127 | f1: 0.25347384810447693 | auc: 0.6549458503723145 | treshold: 0.15000000000000002\n",
      "Test: accuracy: 0.7851805090904236 | f1: 0.2477162778377533 | auc: 0.6566483974456787 | \n",
      "Val update: epoch: 24 |accuracy: 0.8451301455497742 | f1: 0.2709255814552307 | auc: 0.6594164371490479 | treshold: 0.15000000000000002\n",
      "Test: accuracy: 0.8471559286117554 | f1: 0.2643822431564331 | auc: 0.6581827402114868 | \n",
      "Val update: epoch: 25 |accuracy: 0.8778219819068909 | f1: 0.2512049973011017 | auc: 0.6611354351043701 | treshold: 0.15000000000000002\n",
      "Test: accuracy: 0.8823556303977966 | f1: 0.2551248371601105 | auc: 0.6563559770584106 | \n",
      "Val update: epoch: 30 |accuracy: 0.878639280796051 | f1: 0.25061893463134766 | auc: 0.6630319356918335 | treshold: 0.13\n",
      "Test: accuracy: 0.8837519884109497 | f1: 0.25710922479629517 | auc: 0.6597446203231812 | \n",
      "Val update: epoch: 32 |accuracy: 0.8359702825546265 | f1: 0.2770339250564575 | auc: 0.6642950177192688 | treshold: 0.15000000000000002\n",
      "Test: accuracy: 0.8369520306587219 | f1: 0.26545003056526184 | auc: 0.6652079224586487 | \n",
      "Val update: epoch: 36 |accuracy: 0.8748303651809692 | f1: 0.2695941627025604 | auc: 0.6652621030807495 | treshold: 0.14\n",
      "Test: accuracy: 0.8782126903533936 | f1: 0.27456358075141907 | auc: 0.6660228371620178 | \n",
      "Val update: epoch: 37 |accuracy: 0.8741364479064941 | f1: 0.27098962664604187 | auc: 0.6663644909858704 | treshold: 0.14\n",
      "Test: accuracy: 0.8787651062011719 | f1: 0.27546995878219604 | auc: 0.6654495596885681 | \n",
      "Val update: epoch: 41 |accuracy: 0.8734733462333679 | f1: 0.2754966914653778 | auc: 0.6673517823219299 | treshold: 0.14\n",
      "Test: accuracy: 0.8761565685272217 | f1: 0.2743864059448242 | auc: 0.6681151390075684 | \n",
      "Val update: epoch: 42 |accuracy: 0.8727023005485535 | f1: 0.27973127365112305 | auc: 0.6676174402236938 | treshold: 0.15000000000000002\n",
      "Test: accuracy: 0.8756348490715027 | f1: 0.27472037076950073 | auc: 0.6689288020133972 | \n",
      "Val update: epoch: 44 |accuracy: 0.8746916055679321 | f1: 0.2761446535587311 | auc: 0.6681915521621704 | treshold: 0.15000000000000002\n",
      "Test: accuracy: 0.8779364824295044 | f1: 0.28028589487075806 | auc: 0.6675256490707397 | \n",
      "Val update: epoch: 47 |accuracy: 0.8826332092285156 | f1: 0.27188366651535034 | auc: 0.6696493625640869 | treshold: 0.16\n",
      "Test: accuracy: 0.8869282603263855 | f1: 0.27420467138290405 | auc: 0.6685773134231567 | \n",
      "\n",
      "Evaluating SlatewiseAttention with neural embeddings\n",
      "Test before learning: {'f1': 0.17119987308979034, 'roc-auc': 0.497023344039917, 'accuracy': 0.2056129276752472}\n"
     ]
    },
    {
     "data": {
      "application/vnd.jupyter.widget-view+json": {
       "model_id": "a8fdcfdfd0294b60a0d9378fe1c23d1a",
       "version_major": 2,
       "version_minor": 0
      },
      "text/plain": [
       "train:   0%|          | 0/5000 [00:00<?, ?it/s]"
      ]
     },
     "metadata": {},
     "output_type": "display_data"
    },
    {
     "name": "stdout",
     "output_type": "stream",
     "text": [
      "Val update: epoch: 0 |accuracy: 0.09974092990159988 | f1: 0.18120616674423218 | auc: 0.5565532445907593 | treshold: 0.01\n",
      "Test: accuracy: 0.09740528464317322 | f1: 0.1774502545595169 | auc: 0.562368631362915 | \n",
      "Val update: epoch: 1 |accuracy: 0.8137028217315674 | f1: 0.211577370762825 | auc: 0.6212557554244995 | treshold: 0.16\n",
      "Test: accuracy: 0.8170505166053772 | f1: 0.2206680178642273 | auc: 0.6295391917228699 | \n",
      "Val update: epoch: 2 |accuracy: 0.8460245728492737 | f1: 0.22301766276359558 | auc: 0.6559537649154663 | treshold: 0.17\n",
      "Test: accuracy: 0.8494422435760498 | f1: 0.22910119593143463 | auc: 0.6558631658554077 | \n",
      "Val update: epoch: 3 |accuracy: 0.7765544056892395 | f1: 0.27259036898612976 | auc: 0.6870778799057007 | treshold: 0.18000000000000002\n",
      "Test: accuracy: 0.7824952602386475 | f1: 0.27348676323890686 | auc: 0.6818356513977051 | \n",
      "Val update: epoch: 4 |accuracy: 0.5993708372116089 | f1: 0.2574172616004944 | auc: 0.7045162916183472 | treshold: 0.16\n",
      "Test: accuracy: 0.6084914803504944 | f1: 0.2542744278907776 | auc: 0.7013997435569763 | \n",
      "Val update: epoch: 5 |accuracy: 0.8740747570991516 | f1: 0.26019206643104553 | auc: 0.7086670994758606 | treshold: 0.19\n",
      "Test: accuracy: 0.8738702535629272 | f1: 0.2554347813129425 | auc: 0.7064194679260254 | \n",
      "Val update: epoch: 8 |accuracy: 0.8727948665618896 | f1: 0.27583178877830505 | auc: 0.7302869558334351 | treshold: 0.18000000000000002\n",
      "Test: accuracy: 0.8765861988067627 | f1: 0.2759924530982971 | auc: 0.7272847294807434 | \n",
      "Val update: epoch: 9 |accuracy: 0.8545522093772888 | f1: 0.3107278645038605 | auc: 0.7374500036239624 | treshold: 0.19\n",
      "Test: accuracy: 0.8568074703216553 | f1: 0.3036860227584839 | auc: 0.7313424348831177 | \n",
      "Val update: epoch: 11 |accuracy: 0.8697106838226318 | f1: 0.3034050762653351 | auc: 0.7389806509017944 | treshold: 0.19\n",
      "Test: accuracy: 0.8710008859634399 | f1: 0.30075687170028687 | auc: 0.7339979410171509 | \n",
      "Val update: epoch: 14 |accuracy: 0.8576671481132507 | f1: 0.3212237060070038 | auc: 0.7453283667564392 | treshold: 0.18000000000000002\n",
      "Test: accuracy: 0.8601064682006836 | f1: 0.3131168484687805 | auc: 0.7382686734199524 | \n",
      "Val update: epoch: 23 |accuracy: 0.8333333134651184 | f1: 0.3295285403728485 | auc: 0.7467958927154541 | treshold: 0.21000000000000002\n",
      "Test: accuracy: 0.8387473225593567 | f1: 0.3281979262828827 | auc: 0.7401478290557861 | \n"
     ]
    }
   ],
   "source": [
    "for embeddings in ['svd', 'neural']:\n",
    "    print(f\"\\nEvaluating {experiment_name} with {embeddings} embeddings\")\n",
    "    \n",
    "    model = SlatewiseAttention(\n",
    "        RecsysEmbedding(train_num_items, train_user_item_matrix, embeddings=embeddings),\n",
    "        output_dim=1\n",
    "    ).to(device)\n",
    "\n",
    "    _, metrics = train(\n",
    "        model, \n",
    "        train_loader, val_loader, test_loader, \n",
    "        device=device, lr=1e-3, num_epochs=5000, early_stopping=7,\n",
    "       silent=True, \n",
    "    )\n",
    "    \n",
    "    metrics['embeddings'] = embeddings\n",
    "    content_wise_results.append(metrics)"
   ]
  },
  {
   "cell_type": "code",
   "execution_count": 7,
   "id": "2522ab19-c02d-4a5f-8a99-884c124f5138",
   "metadata": {},
   "outputs": [],
   "source": [
    "pd.DataFrame(content_wise_results).to_csv(f'results/cw_{experiment_name}.csv')\n",
    "del dataset, train_loader, val_loader, test_loader, train_user_item_matrix, train_num_items"
   ]
  },
  {
   "cell_type": "markdown",
   "id": "9f1ee60f",
   "metadata": {},
   "source": [
    "# RL4RS"
   ]
  },
  {
   "cell_type": "code",
   "execution_count": 8,
   "id": "3f5653bd",
   "metadata": {},
   "outputs": [
    {
     "name": "stdout",
     "output_type": "stream",
     "text": [
      "45942 data points among 106 batches\n"
     ]
    }
   ],
   "source": [
    "rl4rs_results = []\n",
    "dataset = RL4RS.load(os.path.join(pkl_path, 'rl4rs.pkl'))\n",
    "(\n",
    "    train_loader, \n",
    "    val_loader, \n",
    "    test_loader, \n",
    "    train_user_item_matrix, \n",
    "    train_num_items \n",
    ") = get_train_val_test_tmatrix_tnumitems(dataset, batch_size=350)\n",
    "\n",
    "print(f\"{len(dataset)} data points among {len(train_loader)} batches\")"
   ]
  },
  {
   "cell_type": "code",
   "execution_count": 9,
   "id": "c3951d43-fb42-4aca-b71b-0f6ed7eb6a91",
   "metadata": {},
   "outputs": [
    {
     "name": "stdout",
     "output_type": "stream",
     "text": [
      "\n",
      "Evaluating SlatewiseAttention with neural embeddings\n",
      "Test before learning: {'f1': 0.6059656739234924, 'roc-auc': 0.4744836688041687, 'accuracy': 0.5135050415992737}\n"
     ]
    },
    {
     "data": {
      "application/vnd.jupyter.widget-view+json": {
       "model_id": "d23077df45b1484e98f62ccb812bac91",
       "version_major": 2,
       "version_minor": 0
      },
      "text/plain": [
       "train:   0%|          | 0/5000 [00:00<?, ?it/s]"
      ]
     },
     "metadata": {},
     "output_type": "display_data"
    },
    {
     "name": "stdout",
     "output_type": "stream",
     "text": [
      "Val update: epoch: 0 |accuracy: 0.7714168429374695 | f1: 0.8330300450325012 | auc: 0.8437093496322632 | treshold: 0.42000000000000004\n",
      "Test: accuracy: 0.7773424983024597 | f1: 0.8386260271072388 | auc: 0.8437191247940063 | \n",
      "Val update: epoch: 1 |accuracy: 0.8119527697563171 | f1: 0.8562979102134705 | auc: 0.88646399974823 | treshold: 0.47000000000000003\n",
      "Test: accuracy: 0.8149195909500122 | f1: 0.8595647811889648 | auc: 0.8862824440002441 | \n",
      "Val update: epoch: 2 |accuracy: 0.8252309560775757 | f1: 0.8680760860443115 | auc: 0.9041634202003479 | treshold: 0.46\n",
      "Test: accuracy: 0.828920304775238 | f1: 0.871766984462738 | auc: 0.9027764797210693 | \n",
      "Val update: epoch: 3 |accuracy: 0.8343007564544678 | f1: 0.8750843405723572 | auc: 0.9129236936569214 | treshold: 0.49\n",
      "Test: accuracy: 0.8361987471580505 | f1: 0.8773359656333923 | auc: 0.9113306999206543 | \n",
      "Val update: epoch: 4 |accuracy: 0.8389203548431396 | f1: 0.8757694363594055 | auc: 0.9148886203765869 | treshold: 0.47000000000000003\n",
      "Test: accuracy: 0.8380123376846313 | f1: 0.8758455514907837 | auc: 0.9129513502120972 | \n",
      "Val update: epoch: 5 |accuracy: 0.8400328755378723 | f1: 0.874263346195221 | auc: 0.9183637499809265 | treshold: 0.51\n",
      "Test: accuracy: 0.8386651873588562 | f1: 0.8740799427032471 | auc: 0.9161075353622437 | \n",
      "Val update: epoch: 6 |accuracy: 0.8417984843254089 | f1: 0.8764146566390991 | auc: 0.9200221300125122 | treshold: 0.5\n",
      "Test: accuracy: 0.8417603969573975 | f1: 0.8772094249725342 | auc: 0.9177335500717163 | \n",
      "Val update: epoch: 7 |accuracy: 0.8445073366165161 | f1: 0.87921541929245 | auc: 0.9215285181999207 | treshold: 0.5\n",
      "Test: accuracy: 0.844879686832428 | f1: 0.8805556297302246 | auc: 0.9193198680877686 | \n",
      "Val update: epoch: 9 |accuracy: 0.8466356992721558 | f1: 0.8802613615989685 | auc: 0.9230528473854065 | treshold: 0.51\n",
      "Test: accuracy: 0.8447588086128235 | f1: 0.8795497417449951 | auc: 0.9209467768669128 | \n",
      "Val update: epoch: 11 |accuracy: 0.8476273417472839 | f1: 0.8806546926498413 | auc: 0.925678551197052 | treshold: 0.5\n",
      "Test: accuracy: 0.8480473756790161 | f1: 0.8818085789680481 | auc: 0.9233911633491516 | \n",
      "Val update: epoch: 14 |accuracy: 0.8432738184928894 | f1: 0.8831042051315308 | auc: 0.9262394309043884 | treshold: 0.49\n",
      "Test: accuracy: 0.8460162281990051 | f1: 0.8858740329742432 | auc: 0.9247785806655884 | \n",
      "Val update: epoch: 16 |accuracy: 0.8476998805999756 | f1: 0.8856276273727417 | auc: 0.9278265237808228 | treshold: 0.51\n",
      "Test: accuracy: 0.848240852355957 | f1: 0.8869230151176453 | auc: 0.9254224896430969 | \n",
      "Val update: epoch: 17 |accuracy: 0.8474822044372559 | f1: 0.8848766088485718 | auc: 0.9279689788818359 | treshold: 0.51\n",
      "Test: accuracy: 0.8474670648574829 | f1: 0.8858321905136108 | auc: 0.9255340099334717 | \n",
      "Val update: epoch: 18 |accuracy: 0.8517147898674011 | f1: 0.8877989649772644 | auc: 0.9304004311561584 | treshold: 0.5\n",
      "Test: accuracy: 0.8508765697479248 | f1: 0.8881918787956238 | auc: 0.9279567003250122 | \n",
      "Val update: epoch: 20 |accuracy: 0.8501427173614502 | f1: 0.8875621557235718 | auc: 0.9309501647949219 | treshold: 0.49\n",
      "Test: accuracy: 0.8506589531898499 | f1: 0.8887728452682495 | auc: 0.9281933903694153 | \n",
      "Val update: epoch: 28 |accuracy: 0.8531175851821899 | f1: 0.8888400793075562 | auc: 0.9326564073562622 | treshold: 0.51\n",
      "Test: accuracy: 0.853463888168335 | f1: 0.8899422287940979 | auc: 0.9298874139785767 | \n",
      "\n",
      "Evaluating SlatewiseAttention with explicit embeddings\n",
      "Test before learning: {'f1': 0.33514654636383057, 'roc-auc': 0.503212571144104, 'accuracy': 0.4059484899044037}\n"
     ]
    },
    {
     "data": {
      "application/vnd.jupyter.widget-view+json": {
       "model_id": "45c3d8e4093d4cabae70568777fedd24",
       "version_major": 2,
       "version_minor": 0
      },
      "text/plain": [
       "train:   0%|          | 0/5000 [00:00<?, ?it/s]"
      ]
     },
     "metadata": {},
     "output_type": "display_data"
    },
    {
     "name": "stdout",
     "output_type": "stream",
     "text": [
      "Val update: epoch: 0 |accuracy: 0.7706912159919739 | f1: 0.8448002338409424 | auc: 0.881261944770813 | treshold: 0.44\n",
      "Test: accuracy: 0.7761818170547485 | f1: 0.8490984439849854 | auc: 0.8790509700775146 | \n",
      "Val update: epoch: 1 |accuracy: 0.8186765313148499 | f1: 0.8637924194335938 | auc: 0.8938209414482117 | treshold: 0.45\n",
      "Test: accuracy: 0.8205779194831848 | f1: 0.8659003973007202 | auc: 0.8920583724975586 | \n",
      "Val update: epoch: 3 |accuracy: 0.8254486322402954 | f1: 0.8703540563583374 | auc: 0.903662919998169 | treshold: 0.45\n",
      "Test: accuracy: 0.8279531002044678 | f1: 0.8729759454727173 | auc: 0.9007708430290222 | \n",
      "Val update: epoch: 5 |accuracy: 0.8269965648651123 | f1: 0.8670865893363953 | auc: 0.905689001083374 | treshold: 0.47000000000000003\n",
      "Test: accuracy: 0.8299117684364319 | f1: 0.8703027367591858 | auc: 0.9034794569015503 | \n",
      "Val update: epoch: 8 |accuracy: 0.8260049223899841 | f1: 0.874371349811554 | auc: 0.9137835502624512 | treshold: 0.46\n",
      "Test: accuracy: 0.8281465172767639 | f1: 0.8768006563186646 | auc: 0.9129091501235962 | \n",
      "Val update: epoch: 10 |accuracy: 0.8100178837776184 | f1: 0.8671278953552246 | auc: 0.9138014316558838 | treshold: 0.45\n",
      "Test: accuracy: 0.8130093216896057 | f1: 0.8701885342597961 | auc: 0.9113609194755554 | \n",
      "Val update: epoch: 11 |accuracy: 0.8343733549118042 | f1: 0.8779061436653137 | auc: 0.9152044057846069 | treshold: 0.5\n",
      "Test: accuracy: 0.8358118534088135 | f1: 0.8798527717590332 | auc: 0.9127313494682312 | \n",
      "Val update: epoch: 13 |accuracy: 0.8372514843940735 | f1: 0.8794841766357422 | auc: 0.9191263318061829 | treshold: 0.49\n",
      "Test: accuracy: 0.8393906354904175 | f1: 0.8819074034690857 | auc: 0.918249249458313 | \n",
      "Val update: epoch: 14 |accuracy: 0.8276253938674927 | f1: 0.8754391074180603 | auc: 0.9191288948059082 | treshold: 0.49\n",
      "Test: accuracy: 0.8307580947875977 | f1: 0.8786307573318481 | auc: 0.9171844720840454 | \n",
      "Val update: epoch: 15 |accuracy: 0.8248440027236938 | f1: 0.874762237071991 | auc: 0.9207401871681213 | treshold: 0.47000000000000003\n",
      "Test: accuracy: 0.8276145458221436 | f1: 0.8776914477348328 | auc: 0.918696403503418 | \n",
      "Val update: epoch: 24 |accuracy: 0.8315919041633606 | f1: 0.8781989812850952 | auc: 0.9228092432022095 | treshold: 0.51\n",
      "Test: accuracy: 0.8370450735092163 | f1: 0.8828387260437012 | auc: 0.9220633506774902 | \n",
      "Val update: epoch: 29 |accuracy: 0.8452571034431458 | f1: 0.8849446177482605 | auc: 0.9261244535446167 | treshold: 0.47000000000000003\n",
      "Test: accuracy: 0.8481441140174866 | f1: 0.8879851698875427 | auc: 0.9248820543289185 | \n",
      "\n",
      "Evaluating SlatewiseAttention with svd embeddings\n",
      "Test before learning: {'f1': 0.7899757027626038, 'roc-auc': 0.5150918960571289, 'accuracy': 0.6528593897819519}\n"
     ]
    },
    {
     "data": {
      "application/vnd.jupyter.widget-view+json": {
       "model_id": "6ee80b8906c64f2ea5b9be250792cd4a",
       "version_major": 2,
       "version_minor": 0
      },
      "text/plain": [
       "train:   0%|          | 0/5000 [00:00<?, ?it/s]"
      ]
     },
     "metadata": {},
     "output_type": "display_data"
    },
    {
     "name": "stdout",
     "output_type": "stream",
     "text": [
      "Val update: epoch: 0 |accuracy: 0.7048565745353699 | f1: 0.7989521622657776 | auc: 0.7830830812454224 | treshold: 0.41000000000000003\n",
      "Test: accuracy: 0.7118849158287048 | f1: 0.8049950003623962 | auc: 0.7776916027069092 | \n",
      "Val update: epoch: 1 |accuracy: 0.7304455041885376 | f1: 0.8088040947914124 | auc: 0.8025872111320496 | treshold: 0.42000000000000004\n",
      "Test: accuracy: 0.7311570644378662 | f1: 0.8109569549560547 | auc: 0.797318696975708 | \n",
      "Val update: epoch: 2 |accuracy: 0.7446185946464539 | f1: 0.8131448030471802 | auc: 0.814402163028717 | treshold: 0.42000000000000004\n",
      "Test: accuracy: 0.7455446720123291 | f1: 0.8153697848320007 | auc: 0.8106199502944946 | \n",
      "Val update: epoch: 3 |accuracy: 0.7535432577133179 | f1: 0.8121797442436218 | auc: 0.8219865560531616 | treshold: 0.45\n",
      "Test: accuracy: 0.7544432282447815 | f1: 0.8147269487380981 | auc: 0.818434476852417 | \n",
      "Val update: epoch: 4 |accuracy: 0.7502055764198303 | f1: 0.823005199432373 | auc: 0.8309831619262695 | treshold: 0.43\n",
      "Test: accuracy: 0.7514206171035767 | f1: 0.8253067135810852 | auc: 0.8273332715034485 | \n",
      "Val update: epoch: 5 |accuracy: 0.7312436699867249 | f1: 0.820768415927887 | auc: 0.8415951728820801 | treshold: 0.44\n",
      "Test: accuracy: 0.7348083853721619 | f1: 0.8243340849876404 | auc: 0.839018702507019 | \n",
      "Val update: epoch: 6 |accuracy: 0.7636530995368958 | f1: 0.8323899507522583 | auc: 0.8442003726959229 | treshold: 0.44\n",
      "Test: accuracy: 0.7651069760322571 | f1: 0.8346609473228455 | auc: 0.8423539996147156 | \n",
      "Val update: epoch: 8 |accuracy: 0.78592848777771 | f1: 0.8422309756278992 | auc: 0.8627545833587646 | treshold: 0.44\n",
      "Test: accuracy: 0.7867730855941772 | f1: 0.8437909483909607 | auc: 0.8604143857955933 | \n",
      "Val update: epoch: 9 |accuracy: 0.7908383011817932 | f1: 0.8398221731185913 | auc: 0.8646211624145508 | treshold: 0.44\n",
      "Test: accuracy: 0.7917059659957886 | f1: 0.841526210308075 | auc: 0.8622795939445496 | \n",
      "Val update: epoch: 10 |accuracy: 0.7954095005989075 | f1: 0.8406277894973755 | auc: 0.8685270547866821 | treshold: 0.45\n",
      "Test: accuracy: 0.7918268442153931 | f1: 0.8386105298995972 | auc: 0.865263819694519 | \n",
      "Val update: epoch: 11 |accuracy: 0.7957239151000977 | f1: 0.8483335971832275 | auc: 0.8727142214775085 | treshold: 0.44\n",
      "Test: accuracy: 0.797993004322052 | f1: 0.8508853316307068 | auc: 0.8699046969413757 | \n",
      "Val update: epoch: 12 |accuracy: 0.7872829437255859 | f1: 0.8491397500038147 | auc: 0.8735160231590271 | treshold: 0.43\n",
      "Test: accuracy: 0.7859750986099243 | f1: 0.8494651317596436 | auc: 0.8698278069496155 | \n",
      "Val update: epoch: 13 |accuracy: 0.7729889154434204 | f1: 0.8438892960548401 | auc: 0.874327540397644 | treshold: 0.43\n",
      "Test: accuracy: 0.7734010219573975 | f1: 0.8451713919639587 | auc: 0.8712133765220642 | \n",
      "Val update: epoch: 14 |accuracy: 0.7768828868865967 | f1: 0.8460832834243774 | auc: 0.8752522468566895 | treshold: 0.42000000000000004\n",
      "Test: accuracy: 0.7758674621582031 | f1: 0.8466286063194275 | auc: 0.8723881244659424 | \n",
      "Val update: epoch: 16 |accuracy: 0.8030281066894531 | f1: 0.8472790122032166 | auc: 0.8763453960418701 | treshold: 0.44\n",
      "Test: accuracy: 0.8012332320213318 | f1: 0.8465616106987 | auc: 0.8731995224952698 | \n",
      "Val update: epoch: 17 |accuracy: 0.8036811351776123 | f1: 0.8507547974586487 | auc: 0.876943826675415 | treshold: 0.46\n",
      "Test: accuracy: 0.802998423576355 | f1: 0.8511011600494385 | auc: 0.8747068643569946 | \n",
      "Val update: epoch: 21 |accuracy: 0.8051081299781799 | f1: 0.8517005443572998 | auc: 0.8790221214294434 | treshold: 0.44\n",
      "Test: accuracy: 0.8051505088806152 | f1: 0.8525148034095764 | auc: 0.8765798807144165 | \n",
      "Val update: epoch: 22 |accuracy: 0.7738112807273865 | f1: 0.8452321887016296 | auc: 0.8798726797103882 | treshold: 0.43\n",
      "Test: accuracy: 0.7733043432235718 | f1: 0.8460009694099426 | auc: 0.8766082525253296 | \n",
      "Val update: epoch: 24 |accuracy: 0.8068978786468506 | f1: 0.8532406687736511 | auc: 0.8809924125671387 | treshold: 0.44\n",
      "Test: accuracy: 0.806359589099884 | f1: 0.853687047958374 | auc: 0.878638505935669 | \n",
      "Val update: epoch: 26 |accuracy: 0.7979732155799866 | f1: 0.8542259335517883 | auc: 0.8813632726669312 | treshold: 0.44\n",
      "Test: accuracy: 0.7995889186859131 | f1: 0.856385350227356 | auc: 0.8796855211257935 | \n",
      "Val update: epoch: 27 |accuracy: 0.8086634874343872 | f1: 0.8503773212432861 | auc: 0.8832706212997437 | treshold: 0.45\n",
      "Test: accuracy: 0.8061177730560303 | f1: 0.849143922328949 | auc: 0.8810827732086182 | \n",
      "Val update: epoch: 28 |accuracy: 0.7999081015586853 | f1: 0.856124222278595 | auc: 0.8836925625801086 | treshold: 0.46\n",
      "Test: accuracy: 0.7991052865982056 | f1: 0.8566498756408691 | auc: 0.8814661502838135 | \n",
      "Val update: epoch: 30 |accuracy: 0.810429036617279 | f1: 0.8541387319564819 | auc: 0.8851155638694763 | treshold: 0.46\n",
      "Test: accuracy: 0.8084874749183655 | f1: 0.8533658981323242 | auc: 0.8834037780761719 | \n",
      "Val update: epoch: 33 |accuracy: 0.809582531452179 | f1: 0.8576285243034363 | auc: 0.8861106038093567 | treshold: 0.44\n",
      "Test: accuracy: 0.8092371225357056 | f1: 0.8582415580749512 | auc: 0.884311854839325 | \n",
      "Val update: epoch: 34 |accuracy: 0.8140085935592651 | f1: 0.8572065234184265 | auc: 0.8878082036972046 | treshold: 0.46\n",
      "Test: accuracy: 0.8118486404418945 | f1: 0.8562561273574829 | auc: 0.885897696018219 | \n",
      "Val update: epoch: 37 |accuracy: 0.8136458396911621 | f1: 0.8572540283203125 | auc: 0.888346791267395 | treshold: 0.45\n",
      "Test: accuracy: 0.8132269382476807 | f1: 0.857784628868103 | auc: 0.8874084949493408 | \n",
      "Val update: epoch: 38 |accuracy: 0.814202070236206 | f1: 0.8562930226325989 | auc: 0.8884742259979248 | treshold: 0.49\n",
      "Test: accuracy: 0.8114617466926575 | f1: 0.8549044132232666 | auc: 0.8868568539619446 | \n",
      "Val update: epoch: 40 |accuracy: 0.8084458112716675 | f1: 0.8596391677856445 | auc: 0.8893061876296997 | treshold: 0.45\n",
      "Test: accuracy: 0.8093338012695312 | f1: 0.8612455129623413 | auc: 0.8879884481430054 | \n",
      "Val update: epoch: 44 |accuracy: 0.8147100210189819 | f1: 0.8542843461036682 | auc: 0.8912950754165649 | treshold: 0.47000000000000003\n",
      "Test: accuracy: 0.814556896686554 | f1: 0.8549104332923889 | auc: 0.8905735015869141 | \n",
      "Val update: epoch: 45 |accuracy: 0.7902336120605469 | f1: 0.853923499584198 | auc: 0.892274022102356 | treshold: 0.45\n",
      "Test: accuracy: 0.7915608882904053 | f1: 0.8559443950653076 | auc: 0.8912327885627747 | \n",
      "Val update: epoch: 46 |accuracy: 0.8137183785438538 | f1: 0.8619564771652222 | auc: 0.8926194310188293 | treshold: 0.45\n",
      "Test: accuracy: 0.815741777420044 | f1: 0.864224374294281 | auc: 0.8918857574462891 | \n",
      "Val update: epoch: 47 |accuracy: 0.8179025650024414 | f1: 0.8613213896751404 | auc: 0.8938280940055847 | treshold: 0.49\n",
      "Test: accuracy: 0.8170958757400513 | f1: 0.8615716695785522 | auc: 0.8925484418869019 | \n",
      "Val update: epoch: 51 |accuracy: 0.818652331829071 | f1: 0.8598294854164124 | auc: 0.8945821523666382 | treshold: 0.47000000000000003\n",
      "Test: accuracy: 0.8194897770881653 | f1: 0.8611136674880981 | auc: 0.8941372632980347 | \n",
      "Val update: epoch: 53 |accuracy: 0.8077685832977295 | f1: 0.8616439700126648 | auc: 0.8954704403877258 | treshold: 0.46\n",
      "Test: accuracy: 0.8074235320091248 | f1: 0.8624477386474609 | auc: 0.8940207958221436 | \n",
      "Val update: epoch: 54 |accuracy: 0.8202486038208008 | f1: 0.8599585294723511 | auc: 0.8957226276397705 | treshold: 0.49\n",
      "Test: accuracy: 0.8206987977027893 | f1: 0.8610356450080872 | auc: 0.8955712914466858 | \n",
      "Val update: epoch: 55 |accuracy: 0.812484860420227 | f1: 0.8626353144645691 | auc: 0.8962308168411255 | treshold: 0.48000000000000004\n",
      "Test: accuracy: 0.8139523863792419 | f1: 0.864513635635376 | auc: 0.8949786424636841 | \n",
      "Val update: epoch: 57 |accuracy: 0.8187490701675415 | f1: 0.8641800880432129 | auc: 0.8963781595230103 | treshold: 0.47000000000000003\n",
      "Test: accuracy: 0.8194655776023865 | f1: 0.8654241561889648 | auc: 0.8954184055328369 | \n",
      "Val update: epoch: 59 |accuracy: 0.8210709691047668 | f1: 0.8621576428413391 | auc: 0.8968485593795776 | treshold: 0.48000000000000004\n",
      "Test: accuracy: 0.822318971157074 | f1: 0.8638755083084106 | auc: 0.8959117531776428 | \n",
      "Val update: epoch: 62 |accuracy: 0.8038746118545532 | f1: 0.8602065443992615 | auc: 0.8976012468338013 | treshold: 0.46\n",
      "Test: accuracy: 0.8048845529556274 | f1: 0.8619905114173889 | auc: 0.8964560031890869 | \n",
      "Val update: epoch: 63 |accuracy: 0.8215546607971191 | f1: 0.8624072074890137 | auc: 0.8976603150367737 | treshold: 0.47000000000000003\n",
      "Test: accuracy: 0.8236488699913025 | f1: 0.8645707368850708 | auc: 0.8974378108978271 | \n",
      "Val update: epoch: 64 |accuracy: 0.8163304924964905 | f1: 0.8643347024917603 | auc: 0.8979926109313965 | treshold: 0.48000000000000004\n",
      "Test: accuracy: 0.8173618912696838 | f1: 0.8658556342124939 | auc: 0.8964177966117859 | \n",
      "Val update: epoch: 66 |accuracy: 0.8222076892852783 | f1: 0.8629337549209595 | auc: 0.8983345627784729 | treshold: 0.48000000000000004\n",
      "Test: accuracy: 0.8234796524047852 | f1: 0.8647196292877197 | auc: 0.8972237706184387 | \n",
      "Val update: epoch: 67 |accuracy: 0.8233928084373474 | f1: 0.8642195463180542 | auc: 0.8990015983581543 | treshold: 0.48000000000000004\n",
      "Test: accuracy: 0.8242050409317017 | f1: 0.8655943870544434 | auc: 0.8989135026931763 | \n",
      "Val update: epoch: 71 |accuracy: 0.8096309304237366 | f1: 0.862656831741333 | auc: 0.899896502494812 | treshold: 0.46\n",
      "Test: accuracy: 0.8106879591941833 | f1: 0.8644446134567261 | auc: 0.8987604379653931 | \n",
      "Val update: epoch: 72 |accuracy: 0.8166932463645935 | f1: 0.8645228147506714 | auc: 0.8999631404876709 | treshold: 0.45\n",
      "Test: accuracy: 0.8200701475143433 | f1: 0.867840051651001 | auc: 0.8986681699752808 | \n",
      "Val update: epoch: 75 |accuracy: 0.8225705027580261 | f1: 0.8623175024986267 | auc: 0.900048017501831 | treshold: 0.47000000000000003\n",
      "Test: accuracy: 0.8236247301101685 | f1: 0.8638010025024414 | auc: 0.8986382484436035 | \n",
      "Val update: epoch: 76 |accuracy: 0.8160402178764343 | f1: 0.865451991558075 | auc: 0.9012765884399414 | treshold: 0.48000000000000004\n",
      "Test: accuracy: 0.8180872797966003 | f1: 0.8677878975868225 | auc: 0.8996568322181702 | \n"
     ]
    }
   ],
   "source": [
    "for embeddings in ['neural','explicit', 'svd',  ]:\n",
    "    print(f\"\\nEvaluating {experiment_name} with {embeddings} embeddings\")\n",
    "\n",
    "    model = SlatewiseAttention(\n",
    "        RecsysEmbedding(\n",
    "            train_num_items, \n",
    "            train_user_item_matrix, \n",
    "            embeddings=embeddings,\n",
    "            embedding_dim=40\n",
    "        ),\n",
    "        output_dim=1\n",
    "    ).to(device)\n",
    "\n",
    "    best_model, metrics = train(\n",
    "        model, \n",
    "        train_loader, val_loader, test_loader, \n",
    "        device=device, lr=1e-3, num_epochs=5000, early_stopping=7,\n",
    "        silent=True\n",
    "    )\n",
    "    \n",
    "    metrics['embeddings'] = embeddings\n",
    "    rl4rs_results.append(metrics)"
   ]
  },
  {
   "cell_type": "code",
   "execution_count": 10,
   "id": "2e6fde63-9cc6-4eda-b0a5-a75ca1083c47",
   "metadata": {},
   "outputs": [],
   "source": [
    "pd.DataFrame(rl4rs_results).to_csv(f'results/rl4rs_{experiment_name}.csv')\n",
    "del dataset, train_loader, val_loader, test_loader, train_user_item_matrix, train_num_items"
   ]
  },
  {
   "cell_type": "markdown",
   "id": "e21e5900-91e5-484e-be29-5324ac09623d",
   "metadata": {},
   "source": [
    "# OpenCDP"
   ]
  },
  {
   "cell_type": "code",
   "execution_count": 11,
   "id": "91a39b4d-0f89-40bc-aaac-a4a2cdca1989",
   "metadata": {},
   "outputs": [
    {
     "name": "stdout",
     "output_type": "stream",
     "text": [
      "\n",
      " == cosmetics_10_8.pkl ==\n"
     ]
    },
    {
     "ename": "AttributeError",
     "evalue": "'OpenCDP' object has no attribute 'item_categorical'",
     "output_type": "error",
     "traceback": [
      "\u001b[0;31m---------------------------------------------------------------------------\u001b[0m",
      "\u001b[0;31mAttributeError\u001b[0m                            Traceback (most recent call last)",
      "Cell \u001b[0;32mIn[11], line 14\u001b[0m\n\u001b[1;32m      6\u001b[0m \u001b[38;5;28mprint\u001b[39m(\u001b[38;5;124mf\u001b[39m\u001b[38;5;124m\"\u001b[39m\u001b[38;5;130;01m\\n\u001b[39;00m\u001b[38;5;124m == \u001b[39m\u001b[38;5;132;01m{\u001b[39;00mfilename\u001b[38;5;132;01m}\u001b[39;00m\u001b[38;5;124m ==\u001b[39m\u001b[38;5;124m\"\u001b[39m)\n\u001b[1;32m      7\u001b[0m dataset \u001b[38;5;241m=\u001b[39m OpenCDP\u001b[38;5;241m.\u001b[39mload(os\u001b[38;5;241m.\u001b[39mpath\u001b[38;5;241m.\u001b[39mjoin(pkl_path, filename))\n\u001b[1;32m      8\u001b[0m (\n\u001b[1;32m      9\u001b[0m     train_loader, \n\u001b[1;32m     10\u001b[0m     val_loader,\n\u001b[1;32m     11\u001b[0m     test_loader, \n\u001b[1;32m     12\u001b[0m     train_user_item_matrix, \n\u001b[1;32m     13\u001b[0m     train_num_items\n\u001b[0;32m---> 14\u001b[0m ) \u001b[38;5;241m=\u001b[39m \u001b[43mget_train_val_test_tmatrix_tnumitems\u001b[49m\u001b[43m(\u001b[49m\u001b[43mdataset\u001b[49m\u001b[43m,\u001b[49m\u001b[43m \u001b[49m\u001b[43mbatch_size\u001b[49m\u001b[38;5;241;43m=\u001b[39;49m\u001b[38;5;241;43m800\u001b[39;49m\u001b[43m)\u001b[49m\n\u001b[1;32m     16\u001b[0m \u001b[38;5;28mprint\u001b[39m(\u001b[38;5;124mf\u001b[39m\u001b[38;5;124m\"\u001b[39m\u001b[38;5;132;01m{\u001b[39;00m\u001b[38;5;28mlen\u001b[39m(dataset)\u001b[38;5;132;01m}\u001b[39;00m\u001b[38;5;124m data points among \u001b[39m\u001b[38;5;132;01m{\u001b[39;00m\u001b[38;5;28mlen\u001b[39m(train_loader)\u001b[38;5;132;01m}\u001b[39;00m\u001b[38;5;124m batches\u001b[39m\u001b[38;5;124m\"\u001b[39m)\n\u001b[1;32m     17\u001b[0m \u001b[38;5;28;01mfor\u001b[39;00m embeddings \u001b[38;5;129;01min\u001b[39;00m [\u001b[38;5;124m'\u001b[39m\u001b[38;5;124mneural\u001b[39m\u001b[38;5;124m'\u001b[39m, \u001b[38;5;124m'\u001b[39m\u001b[38;5;124msvd\u001b[39m\u001b[38;5;124m'\u001b[39m]:\n",
      "File \u001b[0;32m~/benchmark/src/utils.py:36\u001b[0m, in \u001b[0;36mget_train_val_test_tmatrix_tnumitems\u001b[0;34m(dataset, train_frac, val_vs_test_frac, batch_size, seed, **kwargs)\u001b[0m\n\u001b[1;32m     30\u001b[0m \u001b[38;5;28;01mdef\u001b[39;00m \u001b[38;5;21mget_train_val_test_tmatrix_tnumitems\u001b[39m(dataset, train_frac\u001b[38;5;241m=\u001b[39m\u001b[38;5;241m0.8\u001b[39m, val_vs_test_frac\u001b[38;5;241m=\u001b[39m\u001b[38;5;241m0.5\u001b[39m, batch_size\u001b[38;5;241m=\u001b[39m\u001b[38;5;241m256\u001b[39m, seed\u001b[38;5;241m=\u001b[39m\u001b[38;5;28;01mNone\u001b[39;00m, \u001b[38;5;241m*\u001b[39m\u001b[38;5;241m*\u001b[39mkwargs):\n\u001b[1;32m     31\u001b[0m \u001b[38;5;250m    \u001b[39m\u001b[38;5;124;03m\"\"\"\u001b[39;00m\n\u001b[1;32m     32\u001b[0m \u001b[38;5;124;03m        Splits datset into train, test and val parts by given fractions.\u001b[39;00m\n\u001b[1;32m     33\u001b[0m \u001b[38;5;124;03m        The `train_frac` of users in dataset will be train set, and the rest is splitted \u001b[39;00m\n\u001b[1;32m     34\u001b[0m \u001b[38;5;124;03m        into val and test in `val_vs_test_frac` proportion.\u001b[39;00m\n\u001b[1;32m     35\u001b[0m \u001b[38;5;124;03m    \"\"\"\u001b[39;00m\n\u001b[0;32m---> 36\u001b[0m     train, rem \u001b[38;5;241m=\u001b[39m \u001b[43mdataset\u001b[49m\u001b[38;5;241;43m.\u001b[39;49m\u001b[43msplit_by_users\u001b[49m\u001b[43m(\u001b[49m\u001b[43mtrain_frac\u001b[49m\u001b[43m,\u001b[49m\u001b[43m \u001b[49m\u001b[43mseed\u001b[49m\u001b[38;5;241;43m=\u001b[39;49m\u001b[43mseed\u001b[49m\u001b[43m)\u001b[49m\n\u001b[1;32m     37\u001b[0m     val, test \u001b[38;5;241m=\u001b[39m rem\u001b[38;5;241m.\u001b[39msplit_by_users(val_vs_test_frac, seed\u001b[38;5;241m=\u001b[39mseed)\n\u001b[1;32m     39\u001b[0m     train_loader \u001b[38;5;241m=\u001b[39m torch\u001b[38;5;241m.\u001b[39mutils\u001b[38;5;241m.\u001b[39mdata\u001b[38;5;241m.\u001b[39mDataLoader(\n\u001b[1;32m     40\u001b[0m         train,\n\u001b[1;32m     41\u001b[0m         batch_size\u001b[38;5;241m=\u001b[39mbatch_size,\n\u001b[0;32m   (...)\u001b[0m\n\u001b[1;32m     44\u001b[0m         \u001b[38;5;241m*\u001b[39m\u001b[38;5;241m*\u001b[39mkwargs\n\u001b[1;32m     45\u001b[0m     )\n",
      "File \u001b[0;32m~/benchmark/src/datasets.py:241\u001b[0m, in \u001b[0;36mRecommendationData.split_by_users\u001b[0;34m(self, ratio, seed, **kwargs)\u001b[0m\n\u001b[1;32m    238\u001b[0m m1 \u001b[38;5;241m=\u001b[39m \u001b[38;5;28mself\u001b[39m\u001b[38;5;241m.\u001b[39mmetadata[\u001b[38;5;28mself\u001b[39m\u001b[38;5;241m.\u001b[39mmetadata[\u001b[38;5;124m'\u001b[39m\u001b[38;5;124muser_id\u001b[39m\u001b[38;5;124m'\u001b[39m]\u001b[38;5;241m.\u001b[39misin(train_users)]\u001b[38;5;241m.\u001b[39mcopy()\n\u001b[1;32m    239\u001b[0m m2 \u001b[38;5;241m=\u001b[39m \u001b[38;5;28mself\u001b[39m\u001b[38;5;241m.\u001b[39mmetadata[\u001b[38;5;28mself\u001b[39m\u001b[38;5;241m.\u001b[39mmetadata[\u001b[38;5;124m'\u001b[39m\u001b[38;5;124muser_id\u001b[39m\u001b[38;5;124m'\u001b[39m]\u001b[38;5;241m.\u001b[39misin(test_users)]\u001b[38;5;241m.\u001b[39mcopy()\n\u001b[1;32m    240\u001b[0m \u001b[38;5;28;01mreturn\u001b[39;00m (\n\u001b[0;32m--> 241\u001b[0m     \u001b[38;5;28;43mself\u001b[39;49m\u001b[38;5;241;43m.\u001b[39;49m\u001b[43m_from_metadata\u001b[49m\u001b[43m(\u001b[49m\u001b[43mm1\u001b[49m\u001b[43m,\u001b[49m\u001b[43m \u001b[49m\u001b[38;5;241;43m*\u001b[39;49m\u001b[38;5;241;43m*\u001b[39;49m\u001b[43mkwargs\u001b[49m\u001b[43m)\u001b[49m, \n\u001b[1;32m    242\u001b[0m     \u001b[38;5;28mself\u001b[39m\u001b[38;5;241m.\u001b[39m_from_metadata(m2, \u001b[38;5;241m*\u001b[39m\u001b[38;5;241m*\u001b[39mkwargs)\n\u001b[1;32m    243\u001b[0m )\n",
      "File \u001b[0;32m~/benchmark/src/datasets.py:169\u001b[0m, in \u001b[0;36mRecommendationData._from_metadata\u001b[0;34m(self, metadata, inplace, **kwargs)\u001b[0m\n\u001b[1;32m    167\u001b[0m \u001b[38;5;28;01mif\u001b[39;00m \u001b[38;5;28mself\u001b[39m\u001b[38;5;241m.\u001b[39mitem_features \u001b[38;5;129;01mis\u001b[39;00m \u001b[38;5;129;01mnot\u001b[39;00m \u001b[38;5;28;01mNone\u001b[39;00m:\n\u001b[1;32m    168\u001b[0m     item_features \u001b[38;5;241m=\u001b[39m \u001b[38;5;28mself\u001b[39m\u001b[38;5;241m.\u001b[39mitem_features[m[\u001b[38;5;124m'\u001b[39m\u001b[38;5;124mitem_feature_idx\u001b[39m\u001b[38;5;124m'\u001b[39m],:]\n\u001b[0;32m--> 169\u001b[0m \u001b[38;5;28;01mif\u001b[39;00m \u001b[38;5;28;43mself\u001b[39;49m\u001b[38;5;241;43m.\u001b[39;49m\u001b[43mitem_categorical\u001b[49m \u001b[38;5;129;01mis\u001b[39;00m \u001b[38;5;129;01mnot\u001b[39;00m \u001b[38;5;28;01mNone\u001b[39;00m:\n\u001b[1;32m    170\u001b[0m     item_categorical \u001b[38;5;241m=\u001b[39m \u001b[38;5;28mself\u001b[39m\u001b[38;5;241m.\u001b[39mitem_categorical[m[\u001b[38;5;124m'\u001b[39m\u001b[38;5;124mitem_feature_idx\u001b[39m\u001b[38;5;124m'\u001b[39m],:]\n\u001b[1;32m    171\u001b[0m \u001b[38;5;28;01mif\u001b[39;00m \u001b[38;5;28mself\u001b[39m\u001b[38;5;241m.\u001b[39muser_features \u001b[38;5;129;01mis\u001b[39;00m \u001b[38;5;129;01mnot\u001b[39;00m \u001b[38;5;28;01mNone\u001b[39;00m:\n",
      "\u001b[0;31mAttributeError\u001b[0m: 'OpenCDP' object has no attribute 'item_categorical'"
     ]
    }
   ],
   "source": [
    "for group in ['cosmetics', 'multi']:\n",
    "    for filename in os.listdir(pkl_path):    \n",
    "        result = []\n",
    "        if not filename.startswith(group):\n",
    "            continue\n",
    "        print(f\"\\n == {filename} ==\")\n",
    "        dataset = OpenCDP.load(os.path.join(pkl_path, filename))\n",
    "        (\n",
    "            train_loader, \n",
    "            val_loader,\n",
    "            test_loader, \n",
    "            train_user_item_matrix, \n",
    "            train_num_items\n",
    "        ) = get_train_val_test_tmatrix_tnumitems(dataset, batch_size=800)\n",
    "    \n",
    "        print(f\"{len(dataset)} data points among {len(train_loader)} batches\")\n",
    "        for embeddings in ['neural', 'svd']:\n",
    "            print(f\"\\nEvaluating {experiment_name} with {embeddings} embeddings\")\n",
    "\n",
    "            model = SlatewiseAttention(\n",
    "                RecsysEmbedding(train_num_items, train_user_item_matrix, embeddings=embeddings),\n",
    "                output_dim=1\n",
    "            ).to(device)\n",
    "\n",
    "            best_model, metrics = train(\n",
    "                model, \n",
    "                train_loader, val_loader, test_loader, \n",
    "                device=device, lr=1e-3, num_epochs=5000, early_stopping=7,\n",
    "                silent=True\n",
    "            )\n",
    "            \n",
    "            print(metrics)\n",
    "            metrics['embeddings'] = embeddings\n",
    "            result.append(metrics)\n",
    "        pd.DataFrame(result).to_csv(f'results/{filename}_{experiment_name}.csv')\n",
    "        del dataset, train_loader, val_loader, test_loader, train_user_item_matrix, train_num_items"
   ]
  }
 ],
 "metadata": {
  "kernelspec": {
   "display_name": "Python 3 (ipykernel)",
   "language": "python",
   "name": "python3"
  },
  "language_info": {
   "codemirror_mode": {
    "name": "ipython",
    "version": 3
   },
   "file_extension": ".py",
   "mimetype": "text/x-python",
   "name": "python",
   "nbconvert_exporter": "python",
   "pygments_lexer": "ipython3",
   "version": "3.10.13"
  }
 },
 "nbformat": 4,
 "nbformat_minor": 5
}
