{
 "cells": [
  {
   "cell_type": "code",
   "execution_count": 1,
   "id": "64321c32",
   "metadata": {},
   "outputs": [
    {
     "data": {
      "text/plain": [
       "<torch._C.Generator at 0x7f3288b82bb0>"
      ]
     },
     "execution_count": 1,
     "metadata": {},
     "output_type": "execute_result"
    }
   ],
   "source": [
    "import os\n",
    "import torch\n",
    "import random\n",
    "import datetime\n",
    "import pandas as pd\n",
    "import numpy as np\n",
    "\n",
    "from torch.utils.data import Dataset\n",
    "from src.datasets import RL4RS, ContentWise, DummyData\n",
    "from src.utils import train, get_dummy_data, get_train_val_test_tmatrix_tnumitems, get_svd_encoder\n",
    "from src.embeddings import RecsysEmbedding\n",
    "\n",
    "experiment_name = 'TRUESessionwiseGRU'\n",
    "device = 'cuda:2'\n",
    "seed = 123\n",
    "pkl_path = '../pkl/'\n",
    "\n",
    "random.seed(seed)\n",
    "np.random.seed(seed)\n",
    "torch.manual_seed(seed)"
   ]
  },
  {
   "cell_type": "code",
   "execution_count": 2,
   "id": "6c3ac807",
   "metadata": {},
   "outputs": [
    {
     "data": {
      "text/plain": [
       "'1.12.1'"
      ]
     },
     "execution_count": 2,
     "metadata": {},
     "output_type": "execute_result"
    }
   ],
   "source": [
    "torch.__version__"
   ]
  },
  {
   "cell_type": "markdown",
   "id": "d983e49b",
   "metadata": {},
   "source": [
    "# Модель"
   ]
  },
  {
   "cell_type": "code",
   "execution_count": 3,
   "id": "4249b6e2",
   "metadata": {},
   "outputs": [],
   "source": [
    "import torch.nn.functional as F\n",
    "torch.autograd.set_detect_anomaly(True)\n",
    "\n",
    "class SessionwiseGRU(torch.nn.Module):\n",
    "    def __init__(self, embedding, output_dim=1, dropout = 0.1):\n",
    "        super().__init__()\n",
    "        self.embedding_dim = embedding.embedding_dim\n",
    "        self.embedding = embedding\n",
    "        self.rnn_layer = torch.nn.GRU(\n",
    "            input_size = embedding.embedding_dim, \n",
    "            hidden_size = embedding.embedding_dim, \n",
    "            batch_first = True,\n",
    "            dropout=dropout\n",
    "        )\n",
    "        self.out_layer = torch.nn.Linear(embedding.embedding_dim, output_dim)\n",
    "\n",
    "\n",
    "    def forward(self, batch):\n",
    "        shp = batch['slates_item_indexes'].shape\n",
    "        slate_size = shp[-1]\n",
    "        item_embs, user_embs = self.embedding(batch)\n",
    "        \n",
    "        # item_embs: batch, session, slate, embedding\n",
    "        item_embs = item_embs.flatten(-3, -2)\n",
    "        hidden =  user_embs[None, ..., 0, :].contiguous()\n",
    "\n",
    "        rnn_out, _ = self.rnn_layer(\n",
    "            item_embs,\n",
    "            hidden,\n",
    "        )\n",
    "        return self.out_layer(rnn_out).reshape(shp)"
   ]
  },
  {
   "cell_type": "markdown",
   "id": "94ff279b",
   "metadata": {},
   "source": [
    "# Игрушечный датасет: проверим, что сходится к идеальным метрикам"
   ]
  },
  {
   "cell_type": "code",
   "execution_count": 4,
   "id": "07532c4d",
   "metadata": {
    "scrolled": true
   },
   "outputs": [
    {
     "name": "stdout",
     "output_type": "stream",
     "text": [
      "biulding affinity matrix...\n"
     ]
    },
    {
     "name": "stderr",
     "output_type": "stream",
     "text": [
      "3it [00:00, 2841.67it/s]\n",
      "/opt/conda/envs/myenv/lib/python3.10/site-packages/torch/nn/modules/rnn.py:62: UserWarning: dropout option adds dropout after all but last recurrent layer, so non-zero dropout expects num_layers greater than 1, but got dropout=0.1 and num_layers=1\n",
      "  warnings.warn(\"dropout option adds dropout after all but last \"\n"
     ]
    },
    {
     "name": "stdout",
     "output_type": "stream",
     "text": [
      "Test before learning: {'f1': 0.4000000059604645, 'roc-auc': 0.3333333134651184, 'accuracy': 0.25}\n"
     ]
    },
    {
     "data": {
      "application/vnd.jupyter.widget-view+json": {
       "model_id": "68c4740768cd45ffbcd4ead47d2f0e23",
       "version_major": 2,
       "version_minor": 0
      },
      "text/plain": [
       "train:   0%|          | 0/5000 [00:00<?, ?it/s]"
      ]
     },
     "metadata": {},
     "output_type": "display_data"
    },
    {
     "name": "stdout",
     "output_type": "stream",
     "text": [
      "Val update: epoch: 0 |accuracy: 0.5 | f1: 0.5 | auc: 0.3333333134651184 | treshold: 0.51\n",
      "Test: accuracy: 0.5 | f1: 0.5 | auc: 0.3333333134651184 | \n",
      "Val update: epoch: 2 |accuracy: 0.25 | f1: 0.4000000059604645 | auc: 0.6666666269302368 | treshold: 0.51\n",
      "Test: accuracy: 0.25 | f1: 0.4000000059604645 | auc: 0.6666666269302368 | \n",
      "Val update: epoch: 3 |accuracy: 0.5 | f1: 0.5 | auc: 1.0 | treshold: 0.52\n",
      "Test: accuracy: 0.5 | f1: 0.5 | auc: 1.0 | \n",
      "Val update: epoch: 4 |accuracy: 1.0 | f1: 1.0 | auc: 1.0 | treshold: 0.53\n",
      "Test: accuracy: 1.0 | f1: 1.0 | auc: 1.0 | \n"
     ]
    },
    {
     "data": {
      "text/plain": [
       "(SessionwiseGRU(\n",
       "   (embedding): RecsysEmbedding(\n",
       "     (item_embeddings): Embedding(5, 32)\n",
       "   )\n",
       "   (rnn_layer): GRU(32, 32, batch_first=True, dropout=0.1)\n",
       "   (out_layer): Linear(in_features=32, out_features=1, bias=True)\n",
       " ),\n",
       " {'f1': 1.0, 'roc-auc': 1.0, 'accuracy': 1.0})"
      ]
     },
     "execution_count": 4,
     "metadata": {},
     "output_type": "execute_result"
    }
   ],
   "source": [
    "d = DummyData()\n",
    "dummy_loader, dummy_matrix = get_dummy_data(d)\n",
    "\n",
    "model = SessionwiseGRU(\n",
    "    RecsysEmbedding(d.n_items, dummy_matrix, embeddings='neural').to('cpu'),\n",
    "    output_dim=1\n",
    ").to('cpu')\n",
    "\n",
    "train(\n",
    "    model, \n",
    "    dummy_loader, dummy_loader, dummy_loader,\n",
    "    device=device, lr=1e-3, num_epochs=5000, dummy=True,\n",
    "    silent=True,\n",
    ")\n"
   ]
  },
  {
   "cell_type": "markdown",
   "id": "cce13141",
   "metadata": {},
   "source": [
    "# ContentWise"
   ]
  },
  {
   "cell_type": "code",
   "execution_count": 5,
   "id": "a7b67d87",
   "metadata": {},
   "outputs": [
    {
     "name": "stdout",
     "output_type": "stream",
     "text": [
      "20216 data points among 108 batches\n"
     ]
    }
   ],
   "source": [
    "content_wise_results = []\n",
    "dataset = ContentWise.load(os.path.join(pkl_path, 'cw.pkl'))\n",
    "(\n",
    "    train_loader, \n",
    "    val_loader, \n",
    "    test_loader, \n",
    "    train_user_item_matrix, \n",
    "    train_num_items \n",
    ") = get_train_val_test_tmatrix_tnumitems(dataset, batch_size=150)\n",
    "\n",
    "print(f\"{len(dataset)} data points among {len(train_loader)} batches\")"
   ]
  },
  {
   "cell_type": "code",
   "execution_count": 6,
   "id": "a0c6d95c",
   "metadata": {},
   "outputs": [
    {
     "name": "stdout",
     "output_type": "stream",
     "text": [
      "\n",
      "Evaluating TRUESessionwiseGRU with svd embeddings\n"
     ]
    },
    {
     "name": "stderr",
     "output_type": "stream",
     "text": [
      "/opt/conda/envs/myenv/lib/python3.10/site-packages/torch/nn/modules/rnn.py:62: UserWarning: dropout option adds dropout after all but last recurrent layer, so non-zero dropout expects num_layers greater than 1, but got dropout=0.1 and num_layers=1\n",
      "  warnings.warn(\"dropout option adds dropout after all but last \"\n"
     ]
    },
    {
     "name": "stdout",
     "output_type": "stream",
     "text": [
      "Test before learning: {'f1': 0.1636270135641098, 'roc-auc': 0.4824480414390564, 'accuracy': 0.31032153964042664}\n"
     ]
    },
    {
     "data": {
      "application/vnd.jupyter.widget-view+json": {
       "model_id": "91000ee769204311a204ff15c16eba5b",
       "version_major": 2,
       "version_minor": 0
      },
      "text/plain": [
       "train:   0%|          | 0/5000 [00:00<?, ?it/s]"
      ]
     },
     "metadata": {},
     "output_type": "display_data"
    },
    {
     "name": "stdout",
     "output_type": "stream",
     "text": [
      "Val update: epoch: 0 |accuracy: 0.0963149219751358 | f1: 0.1757066696882248 | auc: 0.5165818333625793 | treshold: 0.01\n",
      "Test: accuracy: 0.10087374597787857 | f1: 0.18326124548912048 | auc: 0.5269505977630615 | \n",
      "Val update: epoch: 1 |accuracy: 0.0963149219751358 | f1: 0.1757066696882248 | auc: 0.5360655188560486 | treshold: 0.01\n",
      "Test: accuracy: 0.10087374597787857 | f1: 0.18326124548912048 | auc: 0.5486103296279907 | \n",
      "Val update: epoch: 2 |accuracy: 0.8627267479896545 | f1: 0.19119800627231598 | auc: 0.5783790349960327 | treshold: 0.06999999999999999\n",
      "Test: accuracy: 0.8606562614440918 | f1: 0.2106293886899948 | auc: 0.5850542783737183 | \n",
      "Val update: epoch: 3 |accuracy: 0.836736798286438 | f1: 0.2283937782049179 | auc: 0.6159082651138306 | treshold: 0.06999999999999999\n",
      "Test: accuracy: 0.8302794098854065 | f1: 0.24316748976707458 | auc: 0.6196414232254028 | \n",
      "Val update: epoch: 4 |accuracy: 0.8549063801765442 | f1: 0.22610323131084442 | auc: 0.6307203769683838 | treshold: 0.12\n",
      "Test: accuracy: 0.8501744270324707 | f1: 0.2416481077671051 | auc: 0.6323678493499756 | \n",
      "Val update: epoch: 5 |accuracy: 0.8134218454360962 | f1: 0.24132192134857178 | auc: 0.6383159160614014 | treshold: 0.12\n",
      "Test: accuracy: 0.8042084574699402 | f1: 0.2522057592868805 | auc: 0.6394585967063904 | \n",
      "Val update: epoch: 6 |accuracy: 0.7063484191894531 | f1: 0.24052020907402039 | auc: 0.6474851965904236 | treshold: 0.11\n",
      "Test: accuracy: 0.6953043937683105 | f1: 0.24886685609817505 | auc: 0.6503716707229614 | \n",
      "Val update: epoch: 7 |accuracy: 0.788425862789154 | f1: 0.2474784255027771 | auc: 0.6527853608131409 | treshold: 0.11\n",
      "Test: accuracy: 0.7802589535713196 | f1: 0.2576843500137329 | auc: 0.6538290977478027 | \n",
      "Val update: epoch: 9 |accuracy: 0.8550087213516235 | f1: 0.23363980650901794 | auc: 0.6600701808929443 | treshold: 0.12\n",
      "Test: accuracy: 0.8499072790145874 | f1: 0.25271886587142944 | auc: 0.6611073017120361 | \n",
      "Val update: epoch: 14 |accuracy: 0.8578737378120422 | f1: 0.23192985355854034 | auc: 0.660629153251648 | treshold: 0.12\n",
      "Test: accuracy: 0.8516516089439392 | f1: 0.2519809901714325 | auc: 0.6607925891876221 | \n",
      "Val update: epoch: 15 |accuracy: 0.8426276445388794 | f1: 0.2450210452079773 | auc: 0.6612626314163208 | treshold: 0.12\n",
      "Test: accuracy: 0.8337523937225342 | f1: 0.26232481002807617 | auc: 0.6618645191192627 | \n",
      "Val update: epoch: 19 |accuracy: 0.7703000903129578 | f1: 0.250643789768219 | auc: 0.6656512022018433 | treshold: 0.12\n",
      "Test: accuracy: 0.757645308971405 | f1: 0.2574867606163025 | auc: 0.6665083765983582 | \n",
      "Val update: epoch: 25 |accuracy: 0.8254228234291077 | f1: 0.2501412630081177 | auc: 0.667920708656311 | treshold: 0.12\n",
      "Test: accuracy: 0.8139516711235046 | f1: 0.25983119010925293 | auc: 0.6700067520141602 | \n",
      "Val update: epoch: 32 |accuracy: 0.7925918102264404 | f1: 0.25254175066947937 | auc: 0.6683733463287354 | treshold: 0.12\n",
      "Test: accuracy: 0.7810761332511902 | f1: 0.26294904947280884 | auc: 0.6702845692634583 | \n",
      "Val update: epoch: 33 |accuracy: 0.7878265380859375 | f1: 0.2551444470882416 | auc: 0.6691619753837585 | treshold: 0.12\n",
      "Test: accuracy: 0.7762988209724426 | f1: 0.2640748620033264 | auc: 0.6715551614761353 | \n",
      "Val update: epoch: 39 |accuracy: 0.767654299736023 | f1: 0.2523166537284851 | auc: 0.6701378226280212 | treshold: 0.12\n",
      "Test: accuracy: 0.7568281292915344 | f1: 0.2622997760772705 | auc: 0.6739519834518433 | \n",
      "Val update: epoch: 41 |accuracy: 0.7755478024482727 | f1: 0.2556595206260681 | auc: 0.6709722876548767 | treshold: 0.13\n",
      "Test: accuracy: 0.7629883289337158 | f1: 0.26285433769226074 | auc: 0.6753926873207092 | \n",
      "Val update: epoch: 44 |accuracy: 0.8324538469314575 | f1: 0.25319260358810425 | auc: 0.6716789603233337 | treshold: 0.13\n",
      "Test: accuracy: 0.8254549503326416 | f1: 0.26836177706718445 | auc: 0.6734493970870972 | \n",
      "Val update: epoch: 46 |accuracy: 0.8657671809196472 | f1: 0.242888942360878 | auc: 0.6722421646118164 | treshold: 0.13\n",
      "Test: accuracy: 0.8594776391983032 | f1: 0.26123595237731934 | auc: 0.6784681081771851 | \n",
      "\n",
      "Evaluating TRUESessionwiseGRU with neural embeddings\n"
     ]
    },
    {
     "name": "stderr",
     "output_type": "stream",
     "text": [
      "/opt/conda/envs/myenv/lib/python3.10/site-packages/torch/nn/modules/rnn.py:62: UserWarning: dropout option adds dropout after all but last recurrent layer, so non-zero dropout expects num_layers greater than 1, but got dropout=0.1 and num_layers=1\n",
      "  warnings.warn(\"dropout option adds dropout after all but last \"\n"
     ]
    },
    {
     "name": "stdout",
     "output_type": "stream",
     "text": [
      "Test before learning: {'f1': 0.18279023468494415, 'roc-auc': 0.5266836881637573, 'accuracy': 0.36824652552604675}\n"
     ]
    },
    {
     "data": {
      "application/vnd.jupyter.widget-view+json": {
       "model_id": "8ec632c027254ebe9ce44841beffddb4",
       "version_major": 2,
       "version_minor": 0
      },
      "text/plain": [
       "train:   0%|          | 0/5000 [00:00<?, ?it/s]"
      ]
     },
     "metadata": {},
     "output_type": "display_data"
    },
    {
     "name": "stdout",
     "output_type": "stream",
     "text": [
      "Val update: epoch: 0 |accuracy: 0.0963149219751358 | f1: 0.1757066696882248 | auc: 0.6206378936767578 | treshold: 0.05\n",
      "Test: accuracy: 0.10087374597787857 | f1: 0.18326124548912048 | auc: 0.6214832067489624 | \n",
      "Val update: epoch: 1 |accuracy: 0.8456096053123474 | f1: 0.21670126914978027 | auc: 0.648362398147583 | treshold: 0.09999999999999999\n",
      "Test: accuracy: 0.8401326537132263 | f1: 0.24121727049350739 | auc: 0.653434157371521 | \n",
      "Val update: epoch: 2 |accuracy: 0.628363847732544 | f1: 0.24571293592453003 | auc: 0.6786197423934937 | treshold: 0.13\n",
      "Test: accuracy: 0.6129741668701172 | f1: 0.25238296389579773 | auc: 0.6828413009643555 | \n",
      "Val update: epoch: 3 |accuracy: 0.8375407457351685 | f1: 0.26736980676651 | auc: 0.696010947227478 | treshold: 0.15000000000000002\n",
      "Test: accuracy: 0.8315208554267883 | f1: 0.28109702467918396 | auc: 0.698336124420166 | \n",
      "Val update: epoch: 4 |accuracy: 0.8666588664054871 | f1: 0.2532743811607361 | auc: 0.7062798738479614 | treshold: 0.12\n",
      "Test: accuracy: 0.8596504926681519 | f1: 0.2654823660850525 | auc: 0.7091082334518433 | \n",
      "Val update: epoch: 5 |accuracy: 0.7981464862823486 | f1: 0.28550732135772705 | auc: 0.7099109888076782 | treshold: 0.14\n",
      "Test: accuracy: 0.7875349521636963 | f1: 0.2929610013961792 | auc: 0.7113640308380127 | \n",
      "Val update: epoch: 6 |accuracy: 0.7015100121498108 | f1: 0.2731544077396393 | auc: 0.7154050469398499 | treshold: 0.15000000000000002\n",
      "Test: accuracy: 0.6920356750488281 | f1: 0.2823977470397949 | auc: 0.7158854007720947 | \n",
      "Val update: epoch: 7 |accuracy: 0.7652131915092468 | f1: 0.2860063910484314 | auc: 0.7179656028747559 | treshold: 0.15000000000000002\n",
      "Test: accuracy: 0.7551623582839966 | f1: 0.2931034564971924 | auc: 0.7197061777114868 | \n",
      "Val update: epoch: 8 |accuracy: 0.8553887605667114 | f1: 0.2764572501182556 | auc: 0.7182549238204956 | treshold: 0.15000000000000002\n",
      "Test: accuracy: 0.8483986258506775 | f1: 0.2873605787754059 | auc: 0.7208971977233887 | \n",
      "Val update: epoch: 9 |accuracy: 0.8785136938095093 | f1: 0.2534806430339813 | auc: 0.725136399269104 | treshold: 0.15000000000000002\n",
      "Test: accuracy: 0.872725248336792 | f1: 0.2696365714073181 | auc: 0.7263951897621155 | \n",
      "Val update: epoch: 10 |accuracy: 0.863881528377533 | f1: 0.2812596559524536 | auc: 0.7275726795196533 | treshold: 0.14\n",
      "Test: accuracy: 0.8563660979270935 | f1: 0.29464423656463623 | auc: 0.7287294864654541 | \n",
      "Val update: epoch: 12 |accuracy: 0.7962169647216797 | f1: 0.2975056767463684 | auc: 0.7282184958457947 | treshold: 0.15000000000000002\n",
      "Test: accuracy: 0.7880849838256836 | f1: 0.3060058653354645 | auc: 0.7295286655426025 | \n",
      "Val update: epoch: 13 |accuracy: 0.7511657476425171 | f1: 0.293739378452301 | auc: 0.7305231094360352 | treshold: 0.16\n",
      "Test: accuracy: 0.7403118014335632 | f1: 0.30058830976486206 | auc: 0.7309789657592773 | \n",
      "Val update: epoch: 14 |accuracy: 0.7357004284858704 | f1: 0.2916911542415619 | auc: 0.7306159734725952 | treshold: 0.16\n",
      "Test: accuracy: 0.7253355383872986 | f1: 0.2983540892601013 | auc: 0.7320843935012817 | \n",
      "Val update: epoch: 15 |accuracy: 0.7678881883621216 | f1: 0.299775093793869 | auc: 0.7330819368362427 | treshold: 0.17\n",
      "Test: accuracy: 0.7586667537689209 | f1: 0.3061491847038269 | auc: 0.7336112260818481 | \n",
      "Val update: epoch: 16 |accuracy: 0.7747876644134521 | f1: 0.30155491828918457 | auc: 0.7331405878067017 | treshold: 0.16\n",
      "Test: accuracy: 0.7635226249694824 | f1: 0.3075648844242096 | auc: 0.7351391315460205 | \n",
      "Val update: epoch: 17 |accuracy: 0.7939804792404175 | f1: 0.3047553300857544 | auc: 0.7347740530967712 | treshold: 0.16\n",
      "Test: accuracy: 0.7869692444801331 | f1: 0.3131333589553833 | auc: 0.7361234426498413 | \n",
      "Val update: epoch: 19 |accuracy: 0.834997296333313 | f1: 0.3035537898540497 | auc: 0.7362086772918701 | treshold: 0.17\n",
      "Test: accuracy: 0.8269164562225342 | f1: 0.31342723965644836 | auc: 0.7374182939529419 | \n",
      "Val update: epoch: 20 |accuracy: 0.833228588104248 | f1: 0.30858737230300903 | auc: 0.7369871735572815 | treshold: 0.16\n",
      "Test: accuracy: 0.8265706896781921 | f1: 0.3195215165615082 | auc: 0.7381923198699951 | \n",
      "Val update: epoch: 21 |accuracy: 0.8342810273170471 | f1: 0.3052031695842743 | auc: 0.7377891540527344 | treshold: 0.16\n",
      "Test: accuracy: 0.8269478678703308 | f1: 0.31576985120773315 | auc: 0.7378765940666199 | \n",
      "Val update: epoch: 31 |accuracy: 0.7778573632240295 | f1: 0.30705395340919495 | auc: 0.7391239404678345 | treshold: 0.17\n",
      "Test: accuracy: 0.7676399350166321 | f1: 0.3125987946987152 | auc: 0.739973247051239 | \n",
      "Val update: epoch: 32 |accuracy: 0.7465319633483887 | f1: 0.29837340116500854 | auc: 0.739463210105896 | treshold: 0.16\n",
      "Test: accuracy: 0.7385045886039734 | f1: 0.30816563963890076 | auc: 0.7401562333106995 | \n"
     ]
    }
   ],
   "source": [
    "for embeddings in ['svd', 'neural']:\n",
    "    print(f\"\\nEvaluating {experiment_name} with {embeddings} embeddings\")\n",
    "    \n",
    "    model = SessionwiseGRU(\n",
    "        RecsysEmbedding(\n",
    "            train_num_items, \n",
    "            train_user_item_matrix, \n",
    "            embeddings=embeddings\n",
    "        ),\n",
    "        output_dim=1\n",
    "    ).to(device)\n",
    "\n",
    "    _, metrics = train(\n",
    "        model, \n",
    "        train_loader, val_loader, test_loader, \n",
    "        device=device, lr=1e-3, num_epochs=5000, early_stopping=7,\n",
    "       silent=True, \n",
    "    )\n",
    "    \n",
    "    metrics['embeddings'] = embeddings\n",
    "    content_wise_results.append(metrics)"
   ]
  },
  {
   "cell_type": "code",
   "execution_count": 7,
   "id": "104163dd-0b92-416f-ade3-c5f07e2a12f9",
   "metadata": {},
   "outputs": [],
   "source": [
    "pd.DataFrame(content_wise_results).to_csv(f'results/cw_{experiment_name}.csv')\n",
    "del dataset, train_loader, val_loader, test_loader, train_user_item_matrix, train_num_items"
   ]
  },
  {
   "cell_type": "markdown",
   "id": "5adce582",
   "metadata": {},
   "source": [
    "# RL4RS"
   ]
  },
  {
   "cell_type": "code",
   "execution_count": 8,
   "id": "bfe5023e",
   "metadata": {},
   "outputs": [
    {
     "name": "stdout",
     "output_type": "stream",
     "text": [
      "45942 data points among 106 batches\n"
     ]
    }
   ],
   "source": [
    "rl4rs_results = []\n",
    "dataset = RL4RS.load(os.path.join(pkl_path, 'rl4rs.pkl'))\n",
    "(\n",
    "    train_loader, \n",
    "    val_loader, \n",
    "    test_loader, \n",
    "    train_user_item_matrix, \n",
    "    train_num_items \n",
    ") = get_train_val_test_tmatrix_tnumitems(dataset, batch_size=350)\n",
    "\n",
    "print(f\"{len(dataset)} data points among {len(train_loader)} batches\")"
   ]
  },
  {
   "cell_type": "code",
   "execution_count": 9,
   "id": "4565f9e9",
   "metadata": {},
   "outputs": [
    {
     "name": "stdout",
     "output_type": "stream",
     "text": [
      "\n",
      "Evaluating TRUESessionwiseGRU with explicit embeddings\n"
     ]
    },
    {
     "name": "stderr",
     "output_type": "stream",
     "text": [
      "/opt/conda/envs/myenv/lib/python3.10/site-packages/torch/nn/modules/rnn.py:62: UserWarning: dropout option adds dropout after all but last recurrent layer, so non-zero dropout expects num_layers greater than 1, but got dropout=0.1 and num_layers=1\n",
      "  warnings.warn(\"dropout option adds dropout after all but last \"\n"
     ]
    },
    {
     "name": "stdout",
     "output_type": "stream",
     "text": [
      "Test before learning: {'f1': 0.5870500206947327, 'roc-auc': 0.41889268159866333, 'accuracy': 0.48460888862609863}\n"
     ]
    },
    {
     "data": {
      "application/vnd.jupyter.widget-view+json": {
       "model_id": "2b1438aafeda4d2097278e57c51c3a73",
       "version_major": 2,
       "version_minor": 0
      },
      "text/plain": [
       "train:   0%|          | 0/5000 [00:00<?, ?it/s]"
      ]
     },
     "metadata": {},
     "output_type": "display_data"
    },
    {
     "name": "stdout",
     "output_type": "stream",
     "text": [
      "Val update: epoch: 0 |accuracy: 0.7494558095932007 | f1: 0.7997602820396423 | auc: 0.8119739294052124 | treshold: 0.44\n",
      "Test: accuracy: 0.7502115964889526 | f1: 0.801063060760498 | auc: 0.8148013353347778 | \n",
      "Val update: epoch: 1 |accuracy: 0.7542446851730347 | f1: 0.8345625996589661 | auc: 0.8271102905273438 | treshold: 0.39\n",
      "Test: accuracy: 0.7582879662513733 | f1: 0.8378325700759888 | auc: 0.8280985355377197 | \n",
      "Val update: epoch: 2 |accuracy: 0.7855415344238281 | f1: 0.8444413542747498 | auc: 0.8417257070541382 | treshold: 0.37\n",
      "Test: accuracy: 0.7864828705787659 | f1: 0.8457642197608948 | auc: 0.8438141345977783 | \n",
      "Val update: epoch: 3 |accuracy: 0.7637739777565002 | f1: 0.8402074575424194 | auc: 0.8429273962974548 | treshold: 0.33\n",
      "Test: accuracy: 0.7672349214553833 | f1: 0.8432860374450684 | auc: 0.8412854671478271 | \n",
      "Val update: epoch: 4 |accuracy: 0.7784550189971924 | f1: 0.8454425930976868 | auc: 0.8506739139556885 | treshold: 0.38\n",
      "Test: accuracy: 0.7811872959136963 | f1: 0.8479083180427551 | auc: 0.8482667207717896 | \n",
      "Val update: epoch: 5 |accuracy: 0.7905480861663818 | f1: 0.8438176512718201 | auc: 0.8570345044136047 | treshold: 0.37\n",
      "Test: accuracy: 0.7904485464096069 | f1: 0.8443158864974976 | auc: 0.8556255102157593 | \n",
      "Val update: epoch: 8 |accuracy: 0.7738596200942993 | f1: 0.8449059724807739 | auc: 0.857228696346283 | treshold: 0.38\n",
      "Test: accuracy: 0.7746584415435791 | f1: 0.8461931943893433 | auc: 0.8530387878417969 | \n",
      "Val update: epoch: 9 |accuracy: 0.771174967288971 | f1: 0.8439010977745056 | auc: 0.8598183393478394 | treshold: 0.38\n",
      "Test: accuracy: 0.7730141282081604 | f1: 0.8459455370903015 | auc: 0.8557175397872925 | \n",
      "Val update: epoch: 12 |accuracy: 0.7927247881889343 | f1: 0.8455132246017456 | auc: 0.8617109060287476 | treshold: 0.39\n",
      "Test: accuracy: 0.7930117249488831 | f1: 0.845915675163269 | auc: 0.8603588938713074 | \n",
      "Val update: epoch: 13 |accuracy: 0.7913945913314819 | f1: 0.8499086499214172 | auc: 0.862113356590271 | treshold: 0.36000000000000004\n",
      "Test: accuracy: 0.7911739945411682 | f1: 0.8501006960868835 | auc: 0.861076295375824 | \n",
      "Val update: epoch: 14 |accuracy: 0.792434573173523 | f1: 0.8499755263328552 | auc: 0.8623489737510681 | treshold: 0.38\n",
      "Test: accuracy: 0.7908112406730652 | f1: 0.8490200638771057 | auc: 0.8598710298538208 | \n",
      "Val update: epoch: 18 |accuracy: 0.7915880680084229 | f1: 0.8503239750862122 | auc: 0.8633705377578735 | treshold: 0.38\n",
      "Test: accuracy: 0.7929633855819702 | f1: 0.8514934182167053 | auc: 0.8597418069839478 | \n",
      "Val update: epoch: 20 |accuracy: 0.7936680912971497 | f1: 0.8481245040893555 | auc: 0.8642256259918213 | treshold: 0.39\n",
      "Test: accuracy: 0.7927941083908081 | f1: 0.8474805355072021 | auc: 0.8609005212783813 | \n",
      "\n",
      "Evaluating TRUESessionwiseGRU with neural embeddings\n"
     ]
    },
    {
     "name": "stderr",
     "output_type": "stream",
     "text": [
      "/opt/conda/envs/myenv/lib/python3.10/site-packages/torch/nn/modules/rnn.py:62: UserWarning: dropout option adds dropout after all but last recurrent layer, so non-zero dropout expects num_layers greater than 1, but got dropout=0.1 and num_layers=1\n",
      "  warnings.warn(\"dropout option adds dropout after all but last \"\n"
     ]
    },
    {
     "name": "stdout",
     "output_type": "stream",
     "text": [
      "Test before learning: {'f1': 0.21165835857391357, 'roc-auc': 0.5054634213447571, 'accuracy': 0.3884657323360443}\n"
     ]
    },
    {
     "data": {
      "application/vnd.jupyter.widget-view+json": {
       "model_id": "85f32b4a396847fabebbf4e21533c994",
       "version_major": 2,
       "version_minor": 0
      },
      "text/plain": [
       "train:   0%|          | 0/5000 [00:00<?, ?it/s]"
      ]
     },
     "metadata": {},
     "output_type": "display_data"
    },
    {
     "name": "stdout",
     "output_type": "stream",
     "text": [
      "Val update: epoch: 0 |accuracy: 0.7263338565826416 | f1: 0.8199023008346558 | auc: 0.7916935086250305 | treshold: 0.39\n",
      "Test: accuracy: 0.7295852899551392 | f1: 0.8228323459625244 | auc: 0.7917734384536743 | \n",
      "Val update: epoch: 1 |accuracy: 0.7810912728309631 | f1: 0.8387637138366699 | auc: 0.8325304388999939 | treshold: 0.38\n",
      "Test: accuracy: 0.7780196070671082 | f1: 0.8369970321655273 | auc: 0.8320802450180054 | \n",
      "Val update: epoch: 2 |accuracy: 0.7672809958457947 | f1: 0.8413781523704529 | auc: 0.8373182415962219 | treshold: 0.37\n",
      "Test: accuracy: 0.7701124548912048 | f1: 0.8438531756401062 | auc: 0.8365684747695923 | \n",
      "Val update: epoch: 3 |accuracy: 0.7800754904747009 | f1: 0.8455069065093994 | auc: 0.8429388999938965 | treshold: 0.38\n",
      "Test: accuracy: 0.7807762026786804 | f1: 0.846474289894104 | auc: 0.8409845232963562 | \n",
      "Val update: epoch: 4 |accuracy: 0.7873312830924988 | f1: 0.8471394181251526 | auc: 0.8525184392929077 | treshold: 0.35000000000000003\n",
      "Test: accuracy: 0.7866279482841492 | f1: 0.8471081256866455 | auc: 0.8500751256942749 | \n",
      "Val update: epoch: 5 |accuracy: 0.7710056304931641 | f1: 0.84368497133255 | auc: 0.8540130853652954 | treshold: 0.34\n",
      "Test: accuracy: 0.7728448510169983 | f1: 0.8455899357795715 | auc: 0.8516582250595093 | \n",
      "Val update: epoch: 7 |accuracy: 0.7791563868522644 | f1: 0.8468030095100403 | auc: 0.8581044673919678 | treshold: 0.38\n",
      "Test: accuracy: 0.779857337474823 | f1: 0.847682774066925 | auc: 0.8544878959655762 | \n",
      "Val update: epoch: 9 |accuracy: 0.7847917675971985 | f1: 0.8489406704902649 | auc: 0.8591484427452087 | treshold: 0.37\n",
      "Test: accuracy: 0.7853463888168335 | f1: 0.8498350381851196 | auc: 0.8578838109970093 | \n",
      "Val update: epoch: 15 |accuracy: 0.7882987260818481 | f1: 0.8491668105125427 | auc: 0.861188530921936 | treshold: 0.38\n",
      "Test: accuracy: 0.7899891138076782 | f1: 0.8509754538536072 | auc: 0.8594611883163452 | \n"
     ]
    },
    {
     "name": "stderr",
     "output_type": "stream",
     "text": [
      "/opt/conda/envs/myenv/lib/python3.10/site-packages/torchmetrics/utilities/prints.py:43: UserWarning: No negative samples in targets, false positive value should be meaningless. Returning zero tensor in false positive score\n",
      "  warnings.warn(*args, **kwargs)  # noqa: B028\n"
     ]
    },
    {
     "name": "stdout",
     "output_type": "stream",
     "text": [
      "\n",
      "Evaluating TRUESessionwiseGRU with svd embeddings\n",
      "Test before learning: {'f1': 0.0, 'roc-auc': 0.5316640138626099, 'accuracy': 0.35241204500198364}\n"
     ]
    },
    {
     "data": {
      "application/vnd.jupyter.widget-view+json": {
       "model_id": "e134ffc198364c5ab99313e0515b42e6",
       "version_major": 2,
       "version_minor": 0
      },
      "text/plain": [
       "train:   0%|          | 0/5000 [00:00<?, ?it/s]"
      ]
     },
     "metadata": {},
     "output_type": "display_data"
    },
    {
     "name": "stdout",
     "output_type": "stream",
     "text": [
      "Val update: epoch: 0 |accuracy: 0.6406907439231873 | f1: 0.7810012102127075 | auc: 0.6423238515853882 | treshold: 0.01\n",
      "Test: accuracy: 0.6475879549980164 | f1: 0.7861042618751526 | auc: 0.6422170400619507 | \n",
      "Val update: epoch: 1 |accuracy: 0.6406907439231873 | f1: 0.7810012102127075 | auc: 0.6632378697395325 | treshold: 0.01\n",
      "Test: accuracy: 0.6475879549980164 | f1: 0.7861042618751526 | auc: 0.6666902303695679 | \n",
      "Val update: epoch: 2 |accuracy: 0.6406907439231873 | f1: 0.7810012102127075 | auc: 0.761383593082428 | treshold: 0.26\n",
      "Test: accuracy: 0.6475879549980164 | f1: 0.7861042618751526 | auc: 0.7632458209991455 | \n",
      "Val update: epoch: 3 |accuracy: 0.6727615594863892 | f1: 0.7924146056175232 | auc: 0.7762966156005859 | treshold: 0.38\n",
      "Test: accuracy: 0.679385781288147 | f1: 0.7974890470504761 | auc: 0.7775858044624329 | \n",
      "Val update: epoch: 4 |accuracy: 0.7309050559997559 | f1: 0.8097859621047974 | auc: 0.7963799238204956 | treshold: 0.41000000000000003\n",
      "Test: accuracy: 0.7335993051528931 | f1: 0.8123520016670227 | auc: 0.7956058382987976 | \n",
      "Val update: epoch: 5 |accuracy: 0.7464567422866821 | f1: 0.8037075400352478 | auc: 0.8109450340270996 | treshold: 0.4\n",
      "Test: accuracy: 0.7461733818054199 | f1: 0.8040032386779785 | auc: 0.8102637529373169 | \n",
      "Val update: epoch: 6 |accuracy: 0.729840874671936 | f1: 0.819430947303772 | auc: 0.8112794160842896 | treshold: 0.41000000000000003\n",
      "Test: accuracy: 0.7374682426452637 | f1: 0.8248390555381775 | auc: 0.8128001689910889 | \n",
      "Val update: epoch: 8 |accuracy: 0.7468678951263428 | f1: 0.8235254287719727 | auc: 0.8207927942276001 | treshold: 0.37\n",
      "Test: accuracy: 0.7505017518997192 | f1: 0.826780378818512 | auc: 0.8207583427429199 | \n",
      "Val update: epoch: 9 |accuracy: 0.7640158534049988 | f1: 0.8215193748474121 | auc: 0.8267459869384766 | treshold: 0.42000000000000004\n",
      "Test: accuracy: 0.7654213309288025 | f1: 0.8232872486114502 | auc: 0.8254082202911377 | \n",
      "Val update: epoch: 10 |accuracy: 0.7377013564109802 | f1: 0.8249027132987976 | auc: 0.8293095231056213 | treshold: 0.39\n",
      "Test: accuracy: 0.7413130402565002 | f1: 0.8279953598976135 | auc: 0.8284016847610474 | \n",
      "Val update: epoch: 11 |accuracy: 0.7731098532676697 | f1: 0.8280702829360962 | auc: 0.8389654159545898 | treshold: 0.39\n",
      "Test: accuracy: 0.7735219597816467 | f1: 0.8288002014160156 | auc: 0.837812602519989 | \n",
      "Val update: epoch: 13 |accuracy: 0.7748754620552063 | f1: 0.8345656394958496 | auc: 0.8403421640396118 | treshold: 0.38\n",
      "Test: accuracy: 0.7762060165405273 | f1: 0.836116373538971 | auc: 0.8392318487167358 | \n",
      "Val update: epoch: 15 |accuracy: 0.7772940397262573 | f1: 0.8400055766105652 | auc: 0.8427231907844543 | treshold: 0.37\n",
      "Test: accuracy: 0.7780921459197998 | f1: 0.8411926627159119 | auc: 0.841765284538269 | \n",
      "Val update: epoch: 17 |accuracy: 0.7558651566505432 | f1: 0.8343997001647949 | auc: 0.8466018438339233 | treshold: 0.37\n",
      "Test: accuracy: 0.7579494714736938 | f1: 0.8364058136940002 | auc: 0.8454017639160156 | \n",
      "Val update: epoch: 18 |accuracy: 0.7836066484451294 | f1: 0.8388479351997375 | auc: 0.8474316000938416 | treshold: 0.42000000000000004\n",
      "Test: accuracy: 0.7828799486160278 | f1: 0.8388405442237854 | auc: 0.8463298678398132 | \n",
      "Val update: epoch: 20 |accuracy: 0.78401780128479 | f1: 0.8392670750617981 | auc: 0.8509725332260132 | treshold: 0.37\n",
      "Test: accuracy: 0.7843549847602844 | f1: 0.839972734451294 | auc: 0.8497451543807983 | \n",
      "Val update: epoch: 24 |accuracy: 0.788322925567627 | f1: 0.8430359959602356 | auc: 0.8560311794281006 | treshold: 0.37\n",
      "Test: accuracy: 0.78844153881073 | f1: 0.8436533808708191 | auc: 0.8543503284454346 | \n",
      "Val update: epoch: 26 |accuracy: 0.788806676864624 | f1: 0.8432934880256653 | auc: 0.856874942779541 | treshold: 0.39\n",
      "Test: accuracy: 0.7902551293373108 | f1: 0.8449576497077942 | auc: 0.8546769022941589 | \n",
      "Val update: epoch: 28 |accuracy: 0.7882987260818481 | f1: 0.8403581976890564 | auc: 0.8572893142700195 | treshold: 0.4\n",
      "Test: accuracy: 0.7879337668418884 | f1: 0.8407134413719177 | auc: 0.855518102645874 | \n",
      "Val update: epoch: 30 |accuracy: 0.7899675965309143 | f1: 0.8428064584732056 | auc: 0.859750509262085 | treshold: 0.41000000000000003\n",
      "Test: accuracy: 0.7903760075569153 | f1: 0.8435114026069641 | auc: 0.8576533794403076 | \n",
      "Val update: epoch: 36 |accuracy: 0.7875973582267761 | f1: 0.8467525243759155 | auc: 0.8613762855529785 | treshold: 0.42000000000000004\n",
      "Test: accuracy: 0.7897231578826904 | f1: 0.8489071130752563 | auc: 0.8586962223052979 | \n",
      "Val update: epoch: 40 |accuracy: 0.7920234203338623 | f1: 0.846069872379303 | auc: 0.8625925779342651 | treshold: 0.39\n",
      "Test: accuracy: 0.7929875254631042 | f1: 0.8471441268920898 | auc: 0.8611044883728027 | \n",
      "Val update: epoch: 46 |accuracy: 0.7940550446510315 | f1: 0.8446479439735413 | auc: 0.8626458048820496 | treshold: 0.41000000000000003\n",
      "Test: accuracy: 0.7948494553565979 | f1: 0.845683753490448 | auc: 0.8622227907180786 | \n",
      "Val update: epoch: 50 |accuracy: 0.7880085110664368 | f1: 0.8478430509567261 | auc: 0.8635776042938232 | treshold: 0.4\n",
      "Test: accuracy: 0.7920928597450256 | f1: 0.8511684536933899 | auc: 0.861964225769043 | \n",
      "Val update: epoch: 56 |accuracy: 0.7956271171569824 | f1: 0.8455662131309509 | auc: 0.8653277158737183 | treshold: 0.4\n",
      "Test: accuracy: 0.7929875254631042 | f1: 0.844257652759552 | auc: 0.8630051612854004 | \n"
     ]
    }
   ],
   "source": [
    "for embeddings in ['explicit', 'neural', 'svd']:\n",
    "    print(f\"\\nEvaluating {experiment_name} with {embeddings} embeddings\")\n",
    "\n",
    "    model = SessionwiseGRU(\n",
    "        RecsysEmbedding(\n",
    "            train_num_items, \n",
    "            train_user_item_matrix, \n",
    "            embeddings=embeddings,\n",
    "            embedding_dim=40\n",
    "        ),\n",
    "        output_dim=1\n",
    "    ).to(device)\n",
    "\n",
    "\n",
    "    best_model, metrics = train(\n",
    "        model, \n",
    "        train_loader, val_loader, test_loader, \n",
    "        device=device, lr=1e-3, num_epochs=5000, early_stopping=7,\n",
    "        silent=True\n",
    "    )\n",
    "    \n",
    "    metrics['embeddings'] = embeddings\n",
    "    rl4rs_results.append(metrics)"
   ]
  },
  {
   "cell_type": "code",
   "execution_count": 10,
   "id": "e1b6dba5-c7fb-4135-9407-82472dbc18b6",
   "metadata": {},
   "outputs": [],
   "source": [
    "pd.DataFrame(rl4rs_results).to_csv(f'results/rl4rs_{experiment_name}.csv')\n",
    "del dataset, train_loader, val_loader, test_loader, train_user_item_matrix, train_num_items"
   ]
  }
 ],
 "metadata": {
  "kernelspec": {
   "display_name": "Python 3 (ipykernel)",
   "language": "python",
   "name": "python3"
  },
  "language_info": {
   "codemirror_mode": {
    "name": "ipython",
    "version": 3
   },
   "file_extension": ".py",
   "mimetype": "text/x-python",
   "name": "python",
   "nbconvert_exporter": "python",
   "pygments_lexer": "ipython3",
   "version": "3.10.13"
  }
 },
 "nbformat": 4,
 "nbformat_minor": 5
}
