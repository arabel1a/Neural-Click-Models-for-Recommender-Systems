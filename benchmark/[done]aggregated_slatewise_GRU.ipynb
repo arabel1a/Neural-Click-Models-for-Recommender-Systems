{
 "cells": [
  {
   "cell_type": "code",
   "execution_count": 1,
   "id": "64321c32",
   "metadata": {},
   "outputs": [
    {
     "data": {
      "text/plain": [
       "<torch._C.Generator at 0x7efebccfebb0>"
      ]
     },
     "execution_count": 1,
     "metadata": {},
     "output_type": "execute_result"
    }
   ],
   "source": [
    "import os\n",
    "import torch\n",
    "import random\n",
    "import datetime\n",
    "import pandas as pd\n",
    "import numpy as np\n",
    "\n",
    "from torch.utils.data import Dataset\n",
    "from src.datasets import RL4RS, ContentWise, DummyData\n",
    "from src.utils import train, get_dummy_data, get_train_val_test_tmatrix_tnumitems, get_svd_encoder\n",
    "from src.embeddings import RecsysEmbedding\n",
    "\n",
    "experiment_name = 'AGGSlatewiseGRU'\n",
    "device = 'cuda:0'\n",
    "seed = 123\n",
    "pkl_path = '../pkl/'\n",
    "\n",
    "random.seed(seed)\n",
    "np.random.seed(seed)\n",
    "torch.manual_seed(seed)"
   ]
  },
  {
   "cell_type": "code",
   "execution_count": 2,
   "id": "6c3ac807",
   "metadata": {},
   "outputs": [
    {
     "data": {
      "text/plain": [
       "'1.12.1'"
      ]
     },
     "execution_count": 2,
     "metadata": {},
     "output_type": "execute_result"
    }
   ],
   "source": [
    "torch.__version__"
   ]
  },
  {
   "cell_type": "markdown",
   "id": "d983e49b",
   "metadata": {},
   "source": [
    "# Модель"
   ]
  },
  {
   "cell_type": "code",
   "execution_count": 3,
   "id": "4249b6e2",
   "metadata": {},
   "outputs": [],
   "source": [
    "import torch.nn.functional as F\n",
    "torch.autograd.set_detect_anomaly(True)\n",
    "\n",
    "class SessionwiseGRU(torch.nn.Module):\n",
    "    def __init__(self, embedding, output_dim=1, dropout = 0.1):\n",
    "        super().__init__()\n",
    "        self.embedding_dim = embedding.embedding_dim\n",
    "        self.embedding = embedding\n",
    "        self.rnn_layer = torch.nn.GRU(\n",
    "            input_size = embedding.embedding_dim, \n",
    "            hidden_size = embedding.embedding_dim, \n",
    "            batch_first = True,\n",
    "            dropout=dropout\n",
    "        )\n",
    "        self.out_layer = torch.nn.Linear(embedding.embedding_dim, output_dim)\n",
    "\n",
    "\n",
    "    def forward(self, batch):\n",
    "        shp = batch['slates_item_indexes'].shape\n",
    "        slate_size = shp[-1]\n",
    "        # item_embs: batch, session, slate, embedding\n",
    "        # user_embs: batch, session, embedding\n",
    "        item_embs, user_embs = self.embedding(batch)\n",
    "        \n",
    "        session_length = item_embs.shape[-3]\n",
    "        slate_size = item_embs.shape[-2]\n",
    "        hidden = user_embs[None, ..., 0, :].contiguous()\n",
    "        preds = []\n",
    "\n",
    "        for rec in range(session_length):\n",
    "            rnn_out, hidden = self.rnn_layer(\n",
    "                item_embs[..., rec, :, :],\n",
    "                hidden,\n",
    "            )\n",
    "            preds.append(rnn_out[..., None, :, :])\n",
    "            hinned = rnn_out.mean(dim=1)\n",
    "\n",
    "        preds = torch.cat(preds, axis=1)\n",
    "\n",
    "        return self.out_layer(preds).reshape(shp)"
   ]
  },
  {
   "cell_type": "code",
   "execution_count": 4,
   "id": "c099a143-e2c4-41d4-943c-2ac046993192",
   "metadata": {},
   "outputs": [
    {
     "data": {
      "text/plain": [
       "torch.Size([2, 3, 5])"
      ]
     },
     "execution_count": 4,
     "metadata": {},
     "output_type": "execute_result"
    }
   ],
   "source": [
    "a = torch.arange(30).reshape(2,3,5)\n",
    "a.shape"
   ]
  },
  {
   "cell_type": "markdown",
   "id": "94ff279b",
   "metadata": {},
   "source": [
    "# Игрушечный датасет: проверим, что сходится к идеальным метрикам"
   ]
  },
  {
   "cell_type": "code",
   "execution_count": 5,
   "id": "07532c4d",
   "metadata": {
    "scrolled": true
   },
   "outputs": [
    {
     "name": "stdout",
     "output_type": "stream",
     "text": [
      "biulding affinity matrix...\n"
     ]
    },
    {
     "name": "stderr",
     "output_type": "stream",
     "text": [
      "3it [00:00, 2983.85it/s]\n",
      "/opt/conda/envs/myenv/lib/python3.10/site-packages/torch/nn/modules/rnn.py:62: UserWarning: dropout option adds dropout after all but last recurrent layer, so non-zero dropout expects num_layers greater than 1, but got dropout=0.1 and num_layers=1\n",
      "  warnings.warn(\"dropout option adds dropout after all but last \"\n"
     ]
    },
    {
     "name": "stdout",
     "output_type": "stream",
     "text": [
      "Test before learning: {'f1': 0.4000000059604645, 'roc-auc': 0.3333333134651184, 'accuracy': 0.25}\n"
     ]
    },
    {
     "data": {
      "application/vnd.jupyter.widget-view+json": {
       "model_id": "8bfa8954f3f04f5c8209f8c7676f8cd6",
       "version_major": 2,
       "version_minor": 0
      },
      "text/plain": [
       "train:   0%|          | 0/5000 [00:00<?, ?it/s]"
      ]
     },
     "metadata": {},
     "output_type": "display_data"
    },
    {
     "name": "stdout",
     "output_type": "stream",
     "text": [
      "Val update: epoch: 0 |accuracy: 0.5 | f1: 0.5 | auc: 0.3333333134651184 | treshold: 0.51\n",
      "Test: accuracy: 0.5 | f1: 0.5 | auc: 0.3333333134651184 | \n",
      "Val update: epoch: 2 |accuracy: 0.25 | f1: 0.4000000059604645 | auc: 0.6666666269302368 | treshold: 0.51\n",
      "Test: accuracy: 0.25 | f1: 0.4000000059604645 | auc: 0.6666666269302368 | \n",
      "Val update: epoch: 3 |accuracy: 0.5 | f1: 0.5 | auc: 1.0 | treshold: 0.52\n",
      "Test: accuracy: 0.5 | f1: 0.5 | auc: 1.0 | \n",
      "Val update: epoch: 4 |accuracy: 1.0 | f1: 1.0 | auc: 1.0 | treshold: 0.53\n",
      "Test: accuracy: 1.0 | f1: 1.0 | auc: 1.0 | \n"
     ]
    },
    {
     "data": {
      "text/plain": [
       "(SessionwiseGRU(\n",
       "   (embedding): RecsysEmbedding(\n",
       "     (item_embeddings): Embedding(5, 32)\n",
       "   )\n",
       "   (rnn_layer): GRU(32, 32, batch_first=True, dropout=0.1)\n",
       "   (out_layer): Linear(in_features=32, out_features=1, bias=True)\n",
       " ),\n",
       " {'f1': 1.0, 'roc-auc': 1.0, 'accuracy': 1.0})"
      ]
     },
     "execution_count": 5,
     "metadata": {},
     "output_type": "execute_result"
    }
   ],
   "source": [
    "d = DummyData()\n",
    "dummy_loader, dummy_matrix = get_dummy_data(d)\n",
    "\n",
    "model = SessionwiseGRU(\n",
    "    RecsysEmbedding(d.n_items, dummy_matrix, embeddings='neural').to('cpu'),\n",
    "    output_dim=1\n",
    ").to('cpu')\n",
    "\n",
    "train(\n",
    "    model, \n",
    "    dummy_loader, dummy_loader, dummy_loader,\n",
    "    device=device, lr=1e-3, num_epochs=5000, dummy=True,\n",
    "    silent=True,\n",
    ")\n"
   ]
  },
  {
   "cell_type": "markdown",
   "id": "cce13141",
   "metadata": {},
   "source": [
    "# ContentWise"
   ]
  },
  {
   "cell_type": "code",
   "execution_count": 6,
   "id": "a7b67d87",
   "metadata": {},
   "outputs": [
    {
     "name": "stdout",
     "output_type": "stream",
     "text": [
      "20216 data points among 108 batches\n"
     ]
    }
   ],
   "source": [
    "content_wise_results = []\n",
    "dataset = ContentWise.load(os.path.join(pkl_path, 'cw.pkl'))\n",
    "(\n",
    "    train_loader, \n",
    "    val_loader, \n",
    "    test_loader, \n",
    "    train_user_item_matrix, \n",
    "    train_num_items \n",
    ") = get_train_val_test_tmatrix_tnumitems(dataset, batch_size=150)\n",
    "\n",
    "print(f\"{len(dataset)} data points among {len(train_loader)} batches\")"
   ]
  },
  {
   "cell_type": "code",
   "execution_count": 7,
   "id": "a0c6d95c",
   "metadata": {},
   "outputs": [
    {
     "name": "stdout",
     "output_type": "stream",
     "text": [
      "\n",
      "Evaluating AGGSlatewiseGRU with svd embeddings\n"
     ]
    },
    {
     "name": "stderr",
     "output_type": "stream",
     "text": [
      "/opt/conda/envs/myenv/lib/python3.10/site-packages/torch/nn/modules/rnn.py:62: UserWarning: dropout option adds dropout after all but last recurrent layer, so non-zero dropout expects num_layers greater than 1, but got dropout=0.1 and num_layers=1\n",
      "  warnings.warn(\"dropout option adds dropout after all but last \"\n"
     ]
    },
    {
     "name": "stdout",
     "output_type": "stream",
     "text": [
      "Test before learning: {'f1': 0.16523703932762146, 'roc-auc': 0.4882444739341736, 'accuracy': 0.29794561862945557}\n"
     ]
    },
    {
     "data": {
      "application/vnd.jupyter.widget-view+json": {
       "model_id": "7b3583dcab3748efb242543ef8e1e023",
       "version_major": 2,
       "version_minor": 0
      },
      "text/plain": [
       "train:   0%|          | 0/5000 [00:00<?, ?it/s]"
      ]
     },
     "metadata": {},
     "output_type": "display_data"
    },
    {
     "name": "stdout",
     "output_type": "stream",
     "text": [
      "Val update: epoch: 0 |accuracy: 0.09650824218988419 | f1: 0.176028311252594 | auc: 0.5079079866409302 | treshold: 0.01\n",
      "Test: accuracy: 0.09963187575340271 | f1: 0.1812095046043396 | auc: 0.5190438032150269 | \n",
      "Val update: epoch: 1 |accuracy: 0.09650824218988419 | f1: 0.176028311252594 | auc: 0.533918023109436 | treshold: 0.01\n",
      "Test: accuracy: 0.09963187575340271 | f1: 0.1812095046043396 | auc: 0.5390003323554993 | \n",
      "Val update: epoch: 2 |accuracy: 0.09650824218988419 | f1: 0.176028311252594 | auc: 0.5763778686523438 | treshold: 0.01\n",
      "Test: accuracy: 0.09963187575340271 | f1: 0.1812095046043396 | auc: 0.5727401971817017 | \n",
      "Val update: epoch: 3 |accuracy: 0.854554295539856 | f1: 0.2241906374692917 | auc: 0.6165072321891785 | treshold: 0.08\n",
      "Test: accuracy: 0.852140486240387 | f1: 0.220151886343956 | auc: 0.6077097654342651 | \n",
      "Val update: epoch: 4 |accuracy: 0.853158175945282 | f1: 0.22602634131908417 | auc: 0.6270208358764648 | treshold: 0.12\n",
      "Test: accuracy: 0.8507599830627441 | f1: 0.22290925681591034 | auc: 0.6166216135025024 | \n",
      "Val update: epoch: 5 |accuracy: 0.8062193393707275 | f1: 0.24043779075145721 | auc: 0.6340372562408447 | treshold: 0.12\n",
      "Test: accuracy: 0.806451141834259 | f1: 0.2374407798051834 | auc: 0.6240249872207642 | \n",
      "Val update: epoch: 6 |accuracy: 0.6494871377944946 | f1: 0.23429323732852936 | auc: 0.6450258493423462 | treshold: 0.11\n",
      "Test: accuracy: 0.6463305950164795 | f1: 0.23255814611911774 | auc: 0.632967472076416 | \n",
      "Val update: epoch: 7 |accuracy: 0.789377748966217 | f1: 0.24401308596134186 | auc: 0.6486421823501587 | treshold: 0.12\n",
      "Test: accuracy: 0.7881338596343994 | f1: 0.23889510333538055 | auc: 0.6344058513641357 | \n",
      "Val update: epoch: 8 |accuracy: 0.8092026114463806 | f1: 0.23759469389915466 | auc: 0.6494053602218628 | treshold: 0.12\n",
      "Test: accuracy: 0.8099839687347412 | f1: 0.23644497990608215 | auc: 0.6376612186431885 | \n",
      "Val update: epoch: 9 |accuracy: 0.851100742816925 | f1: 0.23335351049900055 | auc: 0.6564606428146362 | treshold: 0.12\n",
      "Test: accuracy: 0.8499287366867065 | f1: 0.2312956154346466 | auc: 0.6431384682655334 | \n",
      "Val update: epoch: 15 |accuracy: 0.8486317992210388 | f1: 0.23839101195335388 | auc: 0.6624851822853088 | treshold: 0.12\n",
      "Test: accuracy: 0.8476576209068298 | f1: 0.2341616302728653 | auc: 0.6476579308509827 | \n",
      "Val update: epoch: 16 |accuracy: 0.8228551149368286 | f1: 0.24520976841449738 | auc: 0.662871241569519 | treshold: 0.12\n",
      "Test: accuracy: 0.82276451587677 | f1: 0.23793719708919525 | auc: 0.6467692852020264 | \n",
      "Val update: epoch: 17 |accuracy: 0.7968873977661133 | f1: 0.2502847909927368 | auc: 0.6629602909088135 | treshold: 0.12\n",
      "Test: accuracy: 0.7956151366233826 | f1: 0.24300400912761688 | auc: 0.6473997831344604 | \n",
      "Val update: epoch: 19 |accuracy: 0.768788754940033 | f1: 0.24955879151821136 | auc: 0.6662642955780029 | treshold: 0.12\n",
      "Test: accuracy: 0.7702469825744629 | f1: 0.2402316927909851 | auc: 0.6491785645484924 | \n",
      "Val update: epoch: 21 |accuracy: 0.7585015892982483 | f1: 0.2520595192909241 | auc: 0.6676172614097595 | treshold: 0.12\n",
      "Test: accuracy: 0.7602571249008179 | f1: 0.24439765512943268 | auc: 0.6498911380767822 | \n",
      "Val update: epoch: 22 |accuracy: 0.7571054697036743 | f1: 0.2509743571281433 | auc: 0.6681949496269226 | treshold: 0.12\n",
      "Test: accuracy: 0.7577633261680603 | f1: 0.24389566481113434 | auc: 0.6521463394165039 | \n",
      "Val update: epoch: 25 |accuracy: 0.773829460144043 | f1: 0.2547215521335602 | auc: 0.6697312593460083 | treshold: 0.13\n",
      "Test: accuracy: 0.7729930877685547 | f1: 0.2452746331691742 | auc: 0.6525335311889648 | \n",
      "Val update: epoch: 26 |accuracy: 0.7524175047874451 | f1: 0.25074493885040283 | auc: 0.6700927019119263 | treshold: 0.12\n",
      "Test: accuracy: 0.7537851929664612 | f1: 0.24132095277309418 | auc: 0.6526331305503845 | \n",
      "Val update: epoch: 28 |accuracy: 0.7323281168937683 | f1: 0.2552947998046875 | auc: 0.6707478761672974 | treshold: 0.12\n",
      "Test: accuracy: 0.7328256964683533 | f1: 0.2506973147392273 | auc: 0.6527806520462036 | \n",
      "Val update: epoch: 29 |accuracy: 0.7290950417518616 | f1: 0.2515631318092346 | auc: 0.672116219997406 | treshold: 0.12\n",
      "Test: accuracy: 0.7318311333656311 | f1: 0.24850249290466309 | auc: 0.655007004737854 | \n",
      "Val update: epoch: 32 |accuracy: 0.7263762950897217 | f1: 0.2505333423614502 | auc: 0.6728866100311279 | treshold: 0.12\n",
      "Test: accuracy: 0.7303467392921448 | f1: 0.24377654492855072 | auc: 0.6546196341514587 | \n",
      "Val update: epoch: 36 |accuracy: 0.7620874047279358 | f1: 0.2547530233860016 | auc: 0.6744083166122437 | treshold: 0.12\n",
      "Test: accuracy: 0.7627063393592834 | f1: 0.24594339728355408 | auc: 0.6555249094963074 | \n",
      "Val update: epoch: 47 |accuracy: 0.8276019096374512 | f1: 0.2541801631450653 | auc: 0.6747574806213379 | treshold: 0.12\n",
      "Test: accuracy: 0.825332522392273 | f1: 0.24303634464740753 | auc: 0.6580122709274292 | \n",
      "Val update: epoch: 48 |accuracy: 0.8404608368873596 | f1: 0.25603070855140686 | auc: 0.6752209663391113 | treshold: 0.12\n",
      "Test: accuracy: 0.8372372388839722 | f1: 0.24290548264980316 | auc: 0.6586151123046875 | \n",
      "Val update: epoch: 49 |accuracy: 0.8551715016365051 | f1: 0.25221943855285645 | auc: 0.6756396293640137 | treshold: 0.12\n",
      "Test: accuracy: 0.851902961730957 | f1: 0.24330678582191467 | auc: 0.6604092717170715 | \n",
      "Val update: epoch: 51 |accuracy: 0.8712341785430908 | f1: 0.23489347100257874 | auc: 0.6768738031387329 | treshold: 0.14\n",
      "Test: accuracy: 0.8698343634605408 | f1: 0.2303168624639511 | auc: 0.6568811535835266 | \n",
      "\n",
      "Evaluating AGGSlatewiseGRU with neural embeddings\n"
     ]
    },
    {
     "name": "stderr",
     "output_type": "stream",
     "text": [
      "/opt/conda/envs/myenv/lib/python3.10/site-packages/torch/nn/modules/rnn.py:62: UserWarning: dropout option adds dropout after all but last recurrent layer, so non-zero dropout expects num_layers greater than 1, but got dropout=0.1 and num_layers=1\n",
      "  warnings.warn(\"dropout option adds dropout after all but last \"\n"
     ]
    },
    {
     "name": "stdout",
     "output_type": "stream",
     "text": [
      "Test before learning: {'f1': 0.19434545934200287, 'roc-auc': 0.5647405385971069, 'accuracy': 0.48987650871276855}\n"
     ]
    },
    {
     "data": {
      "application/vnd.jupyter.widget-view+json": {
       "model_id": "3998eaa614474e6fbf44347f1fb6a466",
       "version_major": 2,
       "version_minor": 0
      },
      "text/plain": [
       "train:   0%|          | 0/5000 [00:00<?, ?it/s]"
      ]
     },
     "metadata": {},
     "output_type": "display_data"
    },
    {
     "name": "stdout",
     "output_type": "stream",
     "text": [
      "Val update: epoch: 0 |accuracy: 0.09650824218988419 | f1: 0.176028311252594 | auc: 0.6249620914459229 | treshold: 0.05\n",
      "Test: accuracy: 0.09963187575340271 | f1: 0.1812095046043396 | auc: 0.6253974437713623 | \n",
      "Val update: epoch: 1 |accuracy: 0.8763630390167236 | f1: 0.21115799248218536 | auc: 0.6574681401252747 | treshold: 0.11\n",
      "Test: accuracy: 0.8730702996253967 | f1: 0.2065509855747223 | auc: 0.6533944606781006 | \n",
      "Val update: epoch: 2 |accuracy: 0.7309319972991943 | f1: 0.26128706336021423 | auc: 0.6858200430870056 | treshold: 0.13\n",
      "Test: accuracy: 0.7237560749053955 | f1: 0.26062771677970886 | auc: 0.6773802042007446 | \n",
      "Val update: epoch: 3 |accuracy: 0.7396907806396484 | f1: 0.2758084833621979 | auc: 0.7020728588104248 | treshold: 0.15000000000000002\n",
      "Test: accuracy: 0.7304357886314392 | f1: 0.2726690173149109 | auc: 0.6918322443962097 | \n",
      "Val update: epoch: 4 |accuracy: 0.8419157862663269 | f1: 0.27391156554222107 | auc: 0.7113100290298462 | treshold: 0.14\n",
      "Test: accuracy: 0.8386029005050659 | f1: 0.2769169509410858 | auc: 0.6996851563453674 | \n",
      "Val update: epoch: 5 |accuracy: 0.8613144159317017 | f1: 0.26668739318847656 | auc: 0.713707447052002 | treshold: 0.13\n",
      "Test: accuracy: 0.8568756580352783 | f1: 0.2628440260887146 | auc: 0.702906608581543 | \n",
      "Val update: epoch: 6 |accuracy: 0.7419098615646362 | f1: 0.2858072519302368 | auc: 0.7167105674743652 | treshold: 0.14\n",
      "Test: accuracy: 0.7361952066421509 | f1: 0.28112611174583435 | auc: 0.7041255831718445 | \n",
      "Val update: epoch: 7 |accuracy: 0.7064779996871948 | f1: 0.27986299991607666 | auc: 0.7207632660865784 | treshold: 0.16\n",
      "Test: accuracy: 0.7008965611457825 | f1: 0.2777777910232544 | auc: 0.7087972164154053 | \n",
      "Val update: epoch: 8 |accuracy: 0.7585603594779968 | f1: 0.29346752166748047 | auc: 0.7245680093765259 | treshold: 0.16\n",
      "Test: accuracy: 0.7512765526771545 | f1: 0.28855299949645996 | auc: 0.7120476961135864 | \n",
      "Val update: epoch: 12 |accuracy: 0.8409752249717712 | f1: 0.2890743017196655 | auc: 0.7286195755004883 | treshold: 0.14\n",
      "Test: accuracy: 0.836999773979187 | f1: 0.28810372948646545 | auc: 0.715680718421936 | \n",
      "Val update: epoch: 13 |accuracy: 0.8547306060791016 | f1: 0.2883881628513336 | auc: 0.7314739227294922 | treshold: 0.16\n",
      "Test: accuracy: 0.8508490920066833 | f1: 0.285754919052124 | auc: 0.7181199789047241 | \n",
      "Val update: epoch: 14 |accuracy: 0.8485142588615417 | f1: 0.29387587308883667 | auc: 0.73294997215271 | treshold: 0.15000000000000002\n",
      "Test: accuracy: 0.8444662094116211 | f1: 0.29058903455734253 | auc: 0.7190488576889038 | \n",
      "Val update: epoch: 15 |accuracy: 0.8464714884757996 | f1: 0.2982468008995056 | auc: 0.7330294847488403 | treshold: 0.15000000000000002\n",
      "Test: accuracy: 0.8424029350280762 | f1: 0.2909236550331116 | auc: 0.7201592326164246 | \n",
      "Val update: epoch: 16 |accuracy: 0.8563912510871887 | f1: 0.29023823142051697 | auc: 0.734633207321167 | treshold: 0.16\n",
      "Test: accuracy: 0.8518584370613098 | f1: 0.28612303733825684 | auc: 0.7223609089851379 | \n",
      "Val update: epoch: 17 |accuracy: 0.8579931259155273 | f1: 0.28870075941085815 | auc: 0.7354460954666138 | treshold: 0.16\n",
      "Test: accuracy: 0.8529272079467773 | f1: 0.2851370871067047 | auc: 0.7227909564971924 | \n",
      "Val update: epoch: 19 |accuracy: 0.8708667755126953 | f1: 0.278037965297699 | auc: 0.735787570476532 | treshold: 0.16\n",
      "Test: accuracy: 0.8665241599082947 | f1: 0.26965561509132385 | auc: 0.7228788137435913 | \n",
      "Val update: epoch: 24 |accuracy: 0.8318049311637878 | f1: 0.3058167099952698 | auc: 0.7373125553131104 | treshold: 0.16\n",
      "Test: accuracy: 0.8255996704101562 | f1: 0.30011317133903503 | auc: 0.7247101068496704 | \n"
     ]
    }
   ],
   "source": [
    "for embeddings in ['svd', 'neural']:\n",
    "    print(f\"\\nEvaluating {experiment_name} with {embeddings} embeddings\")\n",
    "    \n",
    "    model = SessionwiseGRU(\n",
    "        RecsysEmbedding(\n",
    "            train_num_items, \n",
    "            train_user_item_matrix, \n",
    "            embeddings=embeddings\n",
    "        ),\n",
    "        output_dim=1\n",
    "    ).to(device)\n",
    "\n",
    "    _, metrics = train(\n",
    "        model, \n",
    "        train_loader, val_loader, test_loader, \n",
    "        device=device, lr=1e-3, num_epochs=5000, early_stopping=7,\n",
    "       silent=True, \n",
    "    )\n",
    "    \n",
    "    metrics['embeddings'] = embeddings\n",
    "    content_wise_results.append(metrics)"
   ]
  },
  {
   "cell_type": "code",
   "execution_count": 8,
   "id": "104163dd-0b92-416f-ade3-c5f07e2a12f9",
   "metadata": {},
   "outputs": [],
   "source": [
    "pd.DataFrame(content_wise_results).to_csv(f'results/cw_{experiment_name}.csv')\n",
    "del dataset, train_loader, val_loader, test_loader, train_user_item_matrix, train_num_items"
   ]
  },
  {
   "cell_type": "markdown",
   "id": "5adce582",
   "metadata": {},
   "source": [
    "# RL4RS"
   ]
  },
  {
   "cell_type": "code",
   "execution_count": 9,
   "id": "bfe5023e",
   "metadata": {},
   "outputs": [
    {
     "name": "stdout",
     "output_type": "stream",
     "text": [
      "45942 data points among 106 batches\n"
     ]
    }
   ],
   "source": [
    "rl4rs_results = []\n",
    "dataset = RL4RS.load(os.path.join(pkl_path, 'rl4rs.pkl'))\n",
    "(\n",
    "    train_loader, \n",
    "    val_loader, \n",
    "    test_loader, \n",
    "    train_user_item_matrix, \n",
    "    train_num_items \n",
    ") = get_train_val_test_tmatrix_tnumitems(dataset, batch_size=350)\n",
    "\n",
    "print(f\"{len(dataset)} data points among {len(train_loader)} batches\")"
   ]
  },
  {
   "cell_type": "code",
   "execution_count": 10,
   "id": "4565f9e9",
   "metadata": {},
   "outputs": [
    {
     "name": "stdout",
     "output_type": "stream",
     "text": [
      "\n",
      "Evaluating AGGSlatewiseGRU with explicit embeddings\n"
     ]
    },
    {
     "name": "stderr",
     "output_type": "stream",
     "text": [
      "/opt/conda/envs/myenv/lib/python3.10/site-packages/torch/nn/modules/rnn.py:62: UserWarning: dropout option adds dropout after all but last recurrent layer, so non-zero dropout expects num_layers greater than 1, but got dropout=0.1 and num_layers=1\n",
      "  warnings.warn(\"dropout option adds dropout after all but last \"\n"
     ]
    },
    {
     "name": "stdout",
     "output_type": "stream",
     "text": [
      "Test before learning: {'f1': 0.546219527721405, 'roc-auc': 0.41794049739837646, 'accuracy': 0.457526296377182}\n"
     ]
    },
    {
     "data": {
      "application/vnd.jupyter.widget-view+json": {
       "model_id": "0ece5bb7169441d2b4d63b9ed5faa29d",
       "version_major": 2,
       "version_minor": 0
      },
      "text/plain": [
       "train:   0%|          | 0/5000 [00:00<?, ?it/s]"
      ]
     },
     "metadata": {},
     "output_type": "display_data"
    },
    {
     "name": "stdout",
     "output_type": "stream",
     "text": [
      "Val update: epoch: 0 |accuracy: 0.7678856253623962 | f1: 0.8209414482116699 | auc: 0.8182042241096497 | treshold: 0.43\n",
      "Test: accuracy: 0.7606819272041321 | f1: 0.816969633102417 | auc: 0.8090521097183228 | \n",
      "Val update: epoch: 1 |accuracy: 0.7720940113067627 | f1: 0.844692051410675 | auc: 0.8363478779792786 | treshold: 0.39\n",
      "Test: accuracy: 0.7699189782142639 | f1: 0.8438602685928345 | auc: 0.8244601488113403 | \n",
      "Val update: epoch: 2 |accuracy: 0.7909108400344849 | f1: 0.8495134711265564 | auc: 0.8488796949386597 | treshold: 0.35000000000000003\n",
      "Test: accuracy: 0.7850078344345093 | f1: 0.8464660048484802 | auc: 0.8364692330360413 | \n",
      "Val update: epoch: 3 |accuracy: 0.7691916823387146 | f1: 0.8441577553749084 | auc: 0.8511664867401123 | treshold: 0.38\n",
      "Test: accuracy: 0.7678152322769165 | f1: 0.8440828919410706 | auc: 0.837266206741333 | \n",
      "Val update: epoch: 4 |accuracy: 0.7817927002906799 | f1: 0.8487003445625305 | auc: 0.851799488067627 | treshold: 0.38\n",
      "Test: accuracy: 0.7802442312240601 | f1: 0.8484878540039062 | auc: 0.8392534852027893 | \n",
      "Val update: epoch: 5 |accuracy: 0.790523886680603 | f1: 0.8507007360458374 | auc: 0.8600680828094482 | treshold: 0.35000000000000003\n",
      "Test: accuracy: 0.7871357798576355 | f1: 0.8493436574935913 | auc: 0.8495960235595703 | \n",
      "Val update: epoch: 6 |accuracy: 0.7825908064842224 | f1: 0.8492259383201599 | auc: 0.8602889776229858 | treshold: 0.35000000000000003\n",
      "Test: accuracy: 0.7802200317382812 | f1: 0.8486402630805969 | auc: 0.8488990068435669 | \n",
      "Val update: epoch: 7 |accuracy: 0.7731098532676697 | f1: 0.8458162546157837 | auc: 0.8604905605316162 | treshold: 0.37\n",
      "Test: accuracy: 0.7717809081077576 | f1: 0.8458195924758911 | auc: 0.8484236001968384 | \n",
      "Val update: epoch: 9 |accuracy: 0.7933536767959595 | f1: 0.8520160913467407 | auc: 0.860709547996521 | treshold: 0.39\n",
      "Test: accuracy: 0.7873775959014893 | f1: 0.8489097356796265 | auc: 0.8496936559677124 | \n",
      "Val update: epoch: 10 |accuracy: 0.7950950264930725 | f1: 0.8508555889129639 | auc: 0.8624560236930847 | treshold: 0.36000000000000004\n",
      "Test: accuracy: 0.7883931994438171 | f1: 0.8470506072044373 | auc: 0.8524990677833557 | \n",
      "Val update: epoch: 11 |accuracy: 0.7971750497817993 | f1: 0.8510902523994446 | auc: 0.8645696640014648 | treshold: 0.37\n",
      "Test: accuracy: 0.7903276681900024 | f1: 0.8470857739448547 | auc: 0.8561781644821167 | \n",
      "Val update: epoch: 13 |accuracy: 0.7905964255332947 | f1: 0.8527651429176331 | auc: 0.8658758401870728 | treshold: 0.37\n",
      "Test: accuracy: 0.7860234379768372 | f1: 0.850642204284668 | auc: 0.8563963174819946 | \n",
      "Val update: epoch: 15 |accuracy: 0.7936680912971497 | f1: 0.852885901927948 | auc: 0.8670695424079895 | treshold: 0.4\n",
      "Test: accuracy: 0.7887075543403625 | f1: 0.8503152132034302 | auc: 0.8556020259857178 | \n",
      "\n",
      "Evaluating AGGSlatewiseGRU with neural embeddings\n"
     ]
    },
    {
     "name": "stderr",
     "output_type": "stream",
     "text": [
      "/opt/conda/envs/myenv/lib/python3.10/site-packages/torch/nn/modules/rnn.py:62: UserWarning: dropout option adds dropout after all but last recurrent layer, so non-zero dropout expects num_layers greater than 1, but got dropout=0.1 and num_layers=1\n",
      "  warnings.warn(\"dropout option adds dropout after all but last \"\n"
     ]
    },
    {
     "name": "stdout",
     "output_type": "stream",
     "text": [
      "Test before learning: {'f1': 0.6855437755584717, 'roc-auc': 0.47400879859924316, 'accuracy': 0.5617458820343018}\n"
     ]
    },
    {
     "data": {
      "application/vnd.jupyter.widget-view+json": {
       "model_id": "4d64e271ca784567a39c49d03b574e26",
       "version_major": 2,
       "version_minor": 0
      },
      "text/plain": [
       "train:   0%|          | 0/5000 [00:00<?, ?it/s]"
      ]
     },
     "metadata": {},
     "output_type": "display_data"
    },
    {
     "name": "stdout",
     "output_type": "stream",
     "text": [
      "Val update: epoch: 0 |accuracy: 0.7397087812423706 | f1: 0.8263969421386719 | auc: 0.7946990728378296 | treshold: 0.43\n",
      "Test: accuracy: 0.737008810043335 | f1: 0.8256548643112183 | auc: 0.7824895977973938 | \n",
      "Val update: epoch: 1 |accuracy: 0.7815508246421814 | f1: 0.8358474969863892 | auc: 0.8419315814971924 | treshold: 0.38\n",
      "Test: accuracy: 0.7762060165405273 | f1: 0.8331319689750671 | auc: 0.8317563533782959 | \n",
      "Val update: epoch: 2 |accuracy: 0.7757219672203064 | f1: 0.8458071947097778 | auc: 0.847853422164917 | treshold: 0.36000000000000004\n",
      "Test: accuracy: 0.774271547794342 | f1: 0.8456182479858398 | auc: 0.8364748954772949 | \n",
      "Val update: epoch: 3 |accuracy: 0.7779954671859741 | f1: 0.8471211194992065 | auc: 0.848963737487793 | treshold: 0.39\n",
      "Test: accuracy: 0.7767379879951477 | f1: 0.8470927476882935 | auc: 0.8374738693237305 | \n",
      "Val update: epoch: 4 |accuracy: 0.788129448890686 | f1: 0.8410452008247375 | auc: 0.8554973602294922 | treshold: 0.39\n",
      "Test: accuracy: 0.7821061611175537 | f1: 0.8379229307174683 | auc: 0.8455530405044556 | \n",
      "Val update: epoch: 5 |accuracy: 0.7909833788871765 | f1: 0.8489319086074829 | auc: 0.8572357892990112 | treshold: 0.39\n",
      "Test: accuracy: 0.7859508991241455 | f1: 0.84621262550354 | auc: 0.8465343117713928 | \n",
      "Val update: epoch: 6 |accuracy: 0.7859526872634888 | f1: 0.850974977016449 | auc: 0.8627394437789917 | treshold: 0.38\n",
      "Test: accuracy: 0.7818160057067871 | f1: 0.8490809202194214 | auc: 0.8499860167503357 | \n",
      "Val update: epoch: 10 |accuracy: 0.7830261588096619 | f1: 0.8500660061836243 | auc: 0.8627785444259644 | treshold: 0.4\n",
      "Test: accuracy: 0.7811388969421387 | f1: 0.849678635597229 | auc: 0.8491885662078857 | \n",
      "Val update: epoch: 11 |accuracy: 0.7820103764533997 | f1: 0.8499159216880798 | auc: 0.8650495409965515 | treshold: 0.37\n",
      "Test: accuracy: 0.7809696793556213 | f1: 0.8499237895011902 | auc: 0.8511192798614502 | \n"
     ]
    },
    {
     "name": "stderr",
     "output_type": "stream",
     "text": [
      "/opt/conda/envs/myenv/lib/python3.10/site-packages/torchmetrics/utilities/prints.py:43: UserWarning: No negative samples in targets, false positive value should be meaningless. Returning zero tensor in false positive score\n",
      "  warnings.warn(*args, **kwargs)  # noqa: B028\n"
     ]
    },
    {
     "name": "stdout",
     "output_type": "stream",
     "text": [
      "\n",
      "Evaluating AGGSlatewiseGRU with svd embeddings\n",
      "Test before learning: {'f1': 0.09881478548049927, 'roc-auc': 0.478157103061676, 'accuracy': 0.37855157256126404}\n"
     ]
    },
    {
     "data": {
      "application/vnd.jupyter.widget-view+json": {
       "model_id": "09a2480429204ab9bd003e48097c07a7",
       "version_major": 2,
       "version_minor": 0
      },
      "text/plain": [
       "train:   0%|          | 0/5000 [00:00<?, ?it/s]"
      ]
     },
     "metadata": {},
     "output_type": "display_data"
    },
    {
     "name": "stdout",
     "output_type": "stream",
     "text": [
      "Val update: epoch: 0 |accuracy: 0.6442219614982605 | f1: 0.7836191654205322 | auc: 0.6331443786621094 | treshold: 0.01\n",
      "Test: accuracy: 0.6497400403022766 | f1: 0.7876877784729004 | auc: 0.6238398551940918 | \n",
      "Val update: epoch: 1 |accuracy: 0.6442219614982605 | f1: 0.7836191654205322 | auc: 0.6977781057357788 | treshold: 0.17\n",
      "Test: accuracy: 0.6497400403022766 | f1: 0.7876877784729004 | auc: 0.6887626647949219 | \n",
      "Val update: epoch: 2 |accuracy: 0.6444395780563354 | f1: 0.7836529016494751 | auc: 0.7693146467208862 | treshold: 0.37\n",
      "Test: accuracy: 0.6497884392738342 | f1: 0.7876299619674683 | auc: 0.7599225044250488 | \n",
      "Val update: epoch: 3 |accuracy: 0.735185980796814 | f1: 0.8147784471511841 | auc: 0.7960211038589478 | treshold: 0.39\n",
      "Test: accuracy: 0.7297062277793884 | f1: 0.8120080828666687 | auc: 0.7845283150672913 | \n",
      "Val update: epoch: 4 |accuracy: 0.7437962293624878 | f1: 0.816154420375824 | auc: 0.8038568496704102 | treshold: 0.44\n",
      "Test: accuracy: 0.7392576336860657 | f1: 0.814262330532074 | auc: 0.7934060096740723 | \n",
      "Val update: epoch: 5 |accuracy: 0.7099114656448364 | f1: 0.8116934299468994 | auc: 0.813406229019165 | treshold: 0.38\n",
      "Test: accuracy: 0.7119332551956177 | f1: 0.8139088153839111 | auc: 0.8028928637504578 | \n",
      "Val update: epoch: 6 |accuracy: 0.7594930529594421 | f1: 0.8191407918930054 | auc: 0.8245755434036255 | treshold: 0.39\n",
      "Test: accuracy: 0.7522186040878296 | f1: 0.8150661587715149 | auc: 0.8140660524368286 | \n",
      "Val update: epoch: 8 |accuracy: 0.7390074133872986 | f1: 0.8266645073890686 | auc: 0.8359470963478088 | treshold: 0.38\n",
      "Test: accuracy: 0.7402490377426147 | f1: 0.8282269239425659 | auc: 0.8252949714660645 | \n",
      "Val update: epoch: 9 |accuracy: 0.7752624154090881 | f1: 0.8341721296310425 | auc: 0.83984375 | treshold: 0.4\n",
      "Test: accuracy: 0.7683472633361816 | f1: 0.8301358222961426 | auc: 0.8294272422790527 | \n",
      "Val update: epoch: 12 |accuracy: 0.7824457287788391 | f1: 0.837191641330719 | auc: 0.8452041745185852 | treshold: 0.41000000000000003\n",
      "Test: accuracy: 0.7747551798820496 | f1: 0.8325031995773315 | auc: 0.835116982460022 | \n",
      "Val update: epoch: 14 |accuracy: 0.7669907808303833 | f1: 0.8400730490684509 | auc: 0.8503936529159546 | treshold: 0.38\n",
      "Test: accuracy: 0.7658566236495972 | f1: 0.8400957584381104 | auc: 0.8394945859909058 | \n",
      "Val update: epoch: 17 |accuracy: 0.7878392338752747 | f1: 0.8422529101371765 | auc: 0.8520721197128296 | treshold: 0.4\n",
      "Test: accuracy: 0.7798331379890442 | f1: 0.8372159600257874 | auc: 0.8418788909912109 | \n",
      "Val update: epoch: 19 |accuracy: 0.7893871068954468 | f1: 0.8454274535179138 | auc: 0.8536285161972046 | treshold: 0.39\n",
      "Test: accuracy: 0.7821786999702454 | f1: 0.8408705592155457 | auc: 0.8440948724746704 | \n",
      "Val update: epoch: 21 |accuracy: 0.7899675965309143 | f1: 0.8427950739860535 | auc: 0.855004072189331 | treshold: 0.41000000000000003\n",
      "Test: accuracy: 0.7823963165283203 | f1: 0.8379172086715698 | auc: 0.8460403680801392 | \n",
      "Val update: epoch: 22 |accuracy: 0.7759154438972473 | f1: 0.8445704579353333 | auc: 0.8568142652511597 | treshold: 0.4\n",
      "Test: accuracy: 0.7751178741455078 | f1: 0.8447152972221375 | auc: 0.8479520678520203 | \n",
      "Val update: epoch: 25 |accuracy: 0.764475405216217 | f1: 0.8402454257011414 | auc: 0.8570088148117065 | treshold: 0.38\n",
      "Test: accuracy: 0.7649618983268738 | f1: 0.841440737247467 | auc: 0.8479307293891907 | \n",
      "Val update: epoch: 26 |accuracy: 0.7930876016616821 | f1: 0.8451387286186218 | auc: 0.8588377237319946 | treshold: 0.41000000000000003\n",
      "Test: accuracy: 0.7863136529922485 | f1: 0.840840756893158 | auc: 0.8504016399383545 | \n"
     ]
    },
    {
     "name": "stderr",
     "output_type": "stream",
     "text": [
      "/opt/conda/envs/myenv/lib/python3.10/site-packages/torchmetrics/utilities/prints.py:43: UserWarning: No positive samples in targets, true positive value should be meaningless. Returning zero tensor in true positive score\n",
      "  warnings.warn(*args, **kwargs)  # noqa: B028\n"
     ]
    },
    {
     "name": "stdout",
     "output_type": "stream",
     "text": [
      "Val update: epoch: 28 |accuracy: 0.7944661974906921 | f1: 0.8455414772033691 | auc: 0.8591319918632507 | treshold: 0.4\n",
      "Test: accuracy: 0.7851045727729797 | f1: 0.8391755223274231 | auc: 0.851215124130249 | \n",
      "Val update: epoch: 29 |accuracy: 0.772698700428009 | f1: 0.8439544439315796 | auc: 0.859998345375061 | treshold: 0.38\n",
      "Test: accuracy: 0.7725788950920105 | f1: 0.8446096777915955 | auc: 0.8515419960021973 | \n",
      "Val update: epoch: 32 |accuracy: 0.7918782830238342 | f1: 0.8492704629898071 | auc: 0.8609446287155151 | treshold: 0.41000000000000003\n",
      "Test: accuracy: 0.7870874404907227 | f1: 0.8463967442512512 | auc: 0.8534929752349854 | \n",
      "Val update: epoch: 35 |accuracy: 0.796352744102478 | f1: 0.8502845168113708 | auc: 0.8615210056304932 | treshold: 0.4\n",
      "Test: accuracy: 0.7876919507980347 | f1: 0.8445907831192017 | auc: 0.8536247611045837 | \n",
      "Val update: epoch: 39 |accuracy: 0.7934504151344299 | f1: 0.8512765169143677 | auc: 0.8636046648025513 | treshold: 0.42000000000000004\n",
      "Test: accuracy: 0.7881755828857422 | f1: 0.8481065630912781 | auc: 0.85627281665802 | \n",
      "Val update: epoch: 40 |accuracy: 0.7947806119918823 | f1: 0.851283848285675 | auc: 0.8645489811897278 | treshold: 0.38\n",
      "Test: accuracy: 0.7908838391304016 | f1: 0.8489537835121155 | auc: 0.8565088510513306 | \n",
      "Val update: epoch: 50 |accuracy: 0.7804140448570251 | f1: 0.8478643298149109 | auc: 0.8659864664077759 | treshold: 0.43\n",
      "Test: accuracy: 0.7824447154998779 | f1: 0.8498021960258484 | auc: 0.8582726120948792 | \n",
      "Val update: epoch: 58 |accuracy: 0.7910801768302917 | f1: 0.8508890271186829 | auc: 0.8663651943206787 | treshold: 0.43\n",
      "Test: accuracy: 0.7924314141273499 | f1: 0.852336049079895 | auc: 0.8594914674758911 | \n",
      "Val update: epoch: 69 |accuracy: 0.797731339931488 | f1: 0.8521000742912292 | auc: 0.8664171695709229 | treshold: 0.38\n",
      "Test: accuracy: 0.7958650588989258 | f1: 0.8513104319572449 | auc: 0.8599631786346436 | \n"
     ]
    }
   ],
   "source": [
    "for embeddings in ['explicit', 'neural', 'svd']:\n",
    "    print(f\"\\nEvaluating {experiment_name} with {embeddings} embeddings\")\n",
    "\n",
    "    model = SessionwiseGRU(\n",
    "        RecsysEmbedding(\n",
    "            train_num_items, \n",
    "            train_user_item_matrix, \n",
    "            embeddings=embeddings,\n",
    "            embedding_dim=40\n",
    "        ),\n",
    "        output_dim=1\n",
    "    ).to(device)\n",
    "\n",
    "\n",
    "    best_model, metrics = train(\n",
    "        model, \n",
    "        train_loader, val_loader, test_loader, \n",
    "        device=device, lr=1e-3, num_epochs=5000, early_stopping=7,\n",
    "        silent=True\n",
    "    )\n",
    "    \n",
    "    metrics['embeddings'] = embeddings\n",
    "    rl4rs_results.append(metrics)"
   ]
  },
  {
   "cell_type": "code",
   "execution_count": 11,
   "id": "e1b6dba5-c7fb-4135-9407-82472dbc18b6",
   "metadata": {},
   "outputs": [],
   "source": [
    "pd.DataFrame(rl4rs_results).to_csv(f'results/rl4rs_{experiment_name}.csv')\n",
    "del dataset, train_loader, val_loader, test_loader, train_user_item_matrix, train_num_items"
   ]
  }
 ],
 "metadata": {
  "kernelspec": {
   "display_name": "Python 3 (ipykernel)",
   "language": "python",
   "name": "python3"
  },
  "language_info": {
   "codemirror_mode": {
    "name": "ipython",
    "version": 3
   },
   "file_extension": ".py",
   "mimetype": "text/x-python",
   "name": "python",
   "nbconvert_exporter": "python",
   "pygments_lexer": "ipython3",
   "version": "3.10.13"
  }
 },
 "nbformat": 4,
 "nbformat_minor": 5
}
