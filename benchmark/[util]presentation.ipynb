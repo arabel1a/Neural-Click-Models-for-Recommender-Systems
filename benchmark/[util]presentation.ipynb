{
 "cells": [
  {
   "cell_type": "markdown",
   "id": "f84a44a8-6bb7-4299-94bc-b365b502e8c5",
   "metadata": {},
   "source": [
    "# Тетрадка с примерами для презентации"
   ]
  },
  {
   "cell_type": "code",
   "execution_count": 1,
   "id": "b852f227-43a9-43dd-a24b-eeb16f9665b6",
   "metadata": {},
   "outputs": [],
   "source": [
    "import torch\n",
    "import random\n",
    "import datetime\n",
    "import pandas as pd\n",
    "import numpy as np\n",
    "import os\n",
    "\n",
    "from torch.utils.data import Dataset\n",
    "from src.datasets import RL4RS, ContentWise, DummyData, OpenCDP\n",
    "from src.utils import train, get_dummy_data, get_train_val_test_tmatrix_tnumitems\n",
    "from src.embeddings import RecsysEmbedding, IndexItemEmbeddings, CategoricalItemEmbeddings, SVDItemEmbeddings, MixedEmbeddings\n",
    "from src.models import ResponseModel\n",
    "\n",
    "device = 'cuda:0'\n",
    "seed = 7331\n",
    "pkl_path = '../pkl/'"
   ]
  },
  {
   "cell_type": "markdown",
   "id": "14b70851-a949-4c84-95be-2c87fec4b215",
   "metadata": {},
   "source": [
    "### Вынесение split датасета за пределы core-pipeline\n",
    "Вот это происходит не в основном пайплайне, два датасета собраны из разных файлов."
   ]
  },
  {
   "cell_type": "code",
   "execution_count": 2,
   "id": "91471109-814b-45b7-80e6-a37f8c0d8ef4",
   "metadata": {},
   "outputs": [
    {
     "name": "stdout",
     "output_type": "stream",
     "text": [
      "2019-Dec.csv  2019-Nov.csv  2019-Oct.csv  2020-Feb.csv\t2020-Jan.csv\n"
     ]
    }
   ],
   "source": [
    "!ls ../data/recsys/OpenCDP/cosmetics/"
   ]
  },
  {
   "cell_type": "code",
   "execution_count": 3,
   "id": "dca5a6c6-3eda-4f80-afd5-81f2f7955abb",
   "metadata": {},
   "outputs": [],
   "source": [
    "# train_dataset = OpenCDP('../data/recsys/OpenCDP/cosmetics/', files=['2019-Dec.csv'])\n",
    "train_dataset = OpenCDP.load(os.path.join(pkl_path, 'ocdp_train.pkl'))"
   ]
  },
  {
   "cell_type": "markdown",
   "id": "3d80dba0-0961-4077-9686-8cd278be15a7",
   "metadata": {},
   "source": [
    "Нужно только явно указать индексацию айтемов, чтобы было обученные эмбеддинги как-то соотносились с тестовым множеством."
   ]
  },
  {
   "cell_type": "code",
   "execution_count": 4,
   "id": "ae8bdd12-5b5d-4c7e-85d0-71c19a3a9165",
   "metadata": {},
   "outputs": [],
   "source": [
    "# test_dataset = OpenCDP(\n",
    "#     '../data/recsys/OpenCDP/cosmetics/', \n",
    "#     files=['2020-Jan.csv'], \n",
    "#     item_id2index = train_dataset.item_id2index\n",
    "# )\n",
    "test_dataset =OpenCDP.load(os.path.join(pkl_path, 'ocdp_test.pkl'))"
   ]
  },
  {
   "cell_type": "markdown",
   "id": "5606382e-ac74-4ff0-b5a6-541bd9860e67",
   "metadata": {},
   "source": [
    "# Добавление возможности передачи признаков для пользователя/айтема/отдельных действий в сессии, включая категориальные"
   ]
  },
  {
   "cell_type": "code",
   "execution_count": 5,
   "id": "c816f8aa-ec34-47a0-98d0-ed1840a35657",
   "metadata": {},
   "outputs": [],
   "source": [
    "index_embeddings = IndexItemEmbeddings(train_dataset.n_items, embedding_dim = 2)\n",
    "category_embeddings = CategoricalItemEmbeddings(\n",
    "    train_dataset.item_categorical\n",
    ")\n",
    "svd_embeddings = SVDItemEmbeddings(train_dataset.user_item_matrix, embedding_dim=8)\n",
    "\n",
    "mixed_embeddings = MixedEmbeddings(\n",
    "    index_embeddings,\n",
    "    svd_embeddings,\n",
    "    category_embeddings\n",
    ")"
   ]
  },
  {
   "cell_type": "markdown",
   "id": "b085dc25-4db5-4775-93bd-99b45dcf3146",
   "metadata": {},
   "source": [
    "### Fit датасета на части данных с последующим transform дополнительных кусочков "
   ]
  },
  {
   "cell_type": "code",
   "execution_count": 6,
   "id": "5081ec72-7d64-4214-8184-e4586b2cdd19",
   "metadata": {},
   "outputs": [
    {
     "data": {
      "application/vnd.jupyter.widget-view+json": {
       "model_id": "dc57d2c873b94534bdd463bae55bdfc8",
       "version_major": 2,
       "version_minor": 0
      },
      "text/plain": [
       "train:   0%|          | 0/2 [00:00<?, ?it/s]"
      ]
     },
     "metadata": {},
     "output_type": "display_data"
    },
    {
     "data": {
      "application/vnd.jupyter.widget-view+json": {
       "model_id": "c4e1d784664140de8818c30a48d00e56",
       "version_major": 2,
       "version_minor": 0
      },
      "text/plain": [
       "transform...:   0%|          | 0/96 [00:00<?, ?it/s]"
      ]
     },
     "metadata": {},
     "output_type": "display_data"
    }
   ],
   "source": [
    "model = ResponseModel('LogisticRegression', mixed_embeddings)\n",
    "model.fit(train_dataset, batch_size=256, num_epochs=2)\n",
    "test_dataset = model.transform(test_dataset, batch_size=256)"
   ]
  },
  {
   "cell_type": "markdown",
   "id": "95ed9337-d295-4bb7-aecc-2fab7eb7bbd4",
   "metadata": {},
   "source": [
    "### Возврат результатов работы модели отклика в формате, пригодном для последующего подсчета бизнес-метрик \n",
    "\n",
    "что-то около: session_id, user_id, item_id,  <колонки из исходного датафрейма типа timestamp и значений отдельных признаков>, response, response_proba)"
   ]
  },
  {
   "cell_type": "code",
   "execution_count": 7,
   "id": "aa2d70a8-b178-4dd2-b364-3372592cac2e",
   "metadata": {},
   "outputs": [
    {
     "data": {
      "text/html": [
       "<div>\n",
       "<style scoped>\n",
       "    .dataframe tbody tr th:only-of-type {\n",
       "        vertical-align: middle;\n",
       "    }\n",
       "\n",
       "    .dataframe tbody tr th {\n",
       "        vertical-align: top;\n",
       "    }\n",
       "\n",
       "    .dataframe thead th {\n",
       "        text-align: right;\n",
       "    }\n",
       "</style>\n",
       "<table border=\"1\" class=\"dataframe\">\n",
       "  <thead>\n",
       "    <tr style=\"text-align: right;\">\n",
       "      <th></th>\n",
       "      <th>recommendation_idx</th>\n",
       "      <th>item_feature_idx</th>\n",
       "      <th>session_id</th>\n",
       "      <th>user_id</th>\n",
       "      <th>timestamp</th>\n",
       "      <th>user_feature_idx</th>\n",
       "      <th>user_idx</th>\n",
       "      <th>response</th>\n",
       "      <th>predicted_prob</th>\n",
       "      <th>predicted_response</th>\n",
       "      <th>item_categorical</th>\n",
       "    </tr>\n",
       "  </thead>\n",
       "  <tbody>\n",
       "    <tr>\n",
       "      <th>0</th>\n",
       "      <td>0</td>\n",
       "      <td>0</td>\n",
       "      <td>00040372-9fc7-4759-b96e-050e7a8f5c99</td>\n",
       "      <td>598956005</td>\n",
       "      <td>2020-01-09 18:39:29 UTC</td>\n",
       "      <td>0</td>\n",
       "      <td>13419</td>\n",
       "      <td>0</td>\n",
       "      <td>0.504724</td>\n",
       "      <td>1</td>\n",
       "      <td>[0, 0]</td>\n",
       "    </tr>\n",
       "    <tr>\n",
       "      <th>1</th>\n",
       "      <td>0</td>\n",
       "      <td>0</td>\n",
       "      <td>00040372-9fc7-4759-b96e-050e7a8f5c99</td>\n",
       "      <td>598956005</td>\n",
       "      <td>2020-01-09 18:39:29 UTC</td>\n",
       "      <td>0</td>\n",
       "      <td>13419</td>\n",
       "      <td>0</td>\n",
       "      <td>0.466401</td>\n",
       "      <td>1</td>\n",
       "      <td>[0, 127]</td>\n",
       "    </tr>\n",
       "    <tr>\n",
       "      <th>2</th>\n",
       "      <td>0</td>\n",
       "      <td>0</td>\n",
       "      <td>00040372-9fc7-4759-b96e-050e7a8f5c99</td>\n",
       "      <td>598956005</td>\n",
       "      <td>2020-01-09 18:39:29 UTC</td>\n",
       "      <td>0</td>\n",
       "      <td>13419</td>\n",
       "      <td>0</td>\n",
       "      <td>0.425856</td>\n",
       "      <td>1</td>\n",
       "      <td>[0, 158]</td>\n",
       "    </tr>\n",
       "    <tr>\n",
       "      <th>3</th>\n",
       "      <td>0</td>\n",
       "      <td>0</td>\n",
       "      <td>00040372-9fc7-4759-b96e-050e7a8f5c99</td>\n",
       "      <td>598956005</td>\n",
       "      <td>2020-01-09 18:39:29 UTC</td>\n",
       "      <td>0</td>\n",
       "      <td>13419</td>\n",
       "      <td>0</td>\n",
       "      <td>0.479871</td>\n",
       "      <td>1</td>\n",
       "      <td>[0, 127]</td>\n",
       "    </tr>\n",
       "    <tr>\n",
       "      <th>4</th>\n",
       "      <td>0</td>\n",
       "      <td>0</td>\n",
       "      <td>00040372-9fc7-4759-b96e-050e7a8f5c99</td>\n",
       "      <td>598956005</td>\n",
       "      <td>2020-01-09 18:39:29 UTC</td>\n",
       "      <td>0</td>\n",
       "      <td>13419</td>\n",
       "      <td>0</td>\n",
       "      <td>0.466401</td>\n",
       "      <td>1</td>\n",
       "      <td>[0, 127]</td>\n",
       "    </tr>\n",
       "    <tr>\n",
       "      <th>...</th>\n",
       "      <td>...</td>\n",
       "      <td>...</td>\n",
       "      <td>...</td>\n",
       "      <td>...</td>\n",
       "      <td>...</td>\n",
       "      <td>...</td>\n",
       "      <td>...</td>\n",
       "      <td>...</td>\n",
       "      <td>...</td>\n",
       "      <td>...</td>\n",
       "      <td>...</td>\n",
       "    </tr>\n",
       "    <tr>\n",
       "      <th>767465</th>\n",
       "      <td>96690</td>\n",
       "      <td>96690</td>\n",
       "      <td>fffd89d8-4a5d-42a6-8f63-29764a959d43</td>\n",
       "      <td>568871996</td>\n",
       "      <td>2020-01-31 05:13:12 UTC</td>\n",
       "      <td>96690</td>\n",
       "      <td>9193</td>\n",
       "      <td>1</td>\n",
       "      <td>0.582997</td>\n",
       "      <td>1</td>\n",
       "      <td>[0, 0]</td>\n",
       "    </tr>\n",
       "    <tr>\n",
       "      <th>767466</th>\n",
       "      <td>96690</td>\n",
       "      <td>96690</td>\n",
       "      <td>fffd89d8-4a5d-42a6-8f63-29764a959d43</td>\n",
       "      <td>568871996</td>\n",
       "      <td>2020-01-31 05:13:12 UTC</td>\n",
       "      <td>96690</td>\n",
       "      <td>9193</td>\n",
       "      <td>1</td>\n",
       "      <td>0.582997</td>\n",
       "      <td>1</td>\n",
       "      <td>[0, 0]</td>\n",
       "    </tr>\n",
       "    <tr>\n",
       "      <th>767467</th>\n",
       "      <td>96690</td>\n",
       "      <td>96690</td>\n",
       "      <td>fffd89d8-4a5d-42a6-8f63-29764a959d43</td>\n",
       "      <td>568871996</td>\n",
       "      <td>2020-01-31 05:13:12 UTC</td>\n",
       "      <td>96690</td>\n",
       "      <td>9193</td>\n",
       "      <td>1</td>\n",
       "      <td>0.582997</td>\n",
       "      <td>1</td>\n",
       "      <td>[0, 0]</td>\n",
       "    </tr>\n",
       "    <tr>\n",
       "      <th>767468</th>\n",
       "      <td>96690</td>\n",
       "      <td>96690</td>\n",
       "      <td>fffd89d8-4a5d-42a6-8f63-29764a959d43</td>\n",
       "      <td>568871996</td>\n",
       "      <td>2020-01-31 05:13:12 UTC</td>\n",
       "      <td>96690</td>\n",
       "      <td>9193</td>\n",
       "      <td>1</td>\n",
       "      <td>0.582997</td>\n",
       "      <td>1</td>\n",
       "      <td>[0, 0]</td>\n",
       "    </tr>\n",
       "    <tr>\n",
       "      <th>767469</th>\n",
       "      <td>96690</td>\n",
       "      <td>96690</td>\n",
       "      <td>fffd89d8-4a5d-42a6-8f63-29764a959d43</td>\n",
       "      <td>568871996</td>\n",
       "      <td>2020-01-31 05:13:12 UTC</td>\n",
       "      <td>96690</td>\n",
       "      <td>9193</td>\n",
       "      <td>0</td>\n",
       "      <td>0.582997</td>\n",
       "      <td>1</td>\n",
       "      <td>[0, 0]</td>\n",
       "    </tr>\n",
       "  </tbody>\n",
       "</table>\n",
       "<p>767470 rows × 11 columns</p>\n",
       "</div>"
      ],
      "text/plain": [
       "        recommendation_idx  item_feature_idx  \\\n",
       "0                        0                 0   \n",
       "1                        0                 0   \n",
       "2                        0                 0   \n",
       "3                        0                 0   \n",
       "4                        0                 0   \n",
       "...                    ...               ...   \n",
       "767465               96690             96690   \n",
       "767466               96690             96690   \n",
       "767467               96690             96690   \n",
       "767468               96690             96690   \n",
       "767469               96690             96690   \n",
       "\n",
       "                                  session_id    user_id  \\\n",
       "0       00040372-9fc7-4759-b96e-050e7a8f5c99  598956005   \n",
       "1       00040372-9fc7-4759-b96e-050e7a8f5c99  598956005   \n",
       "2       00040372-9fc7-4759-b96e-050e7a8f5c99  598956005   \n",
       "3       00040372-9fc7-4759-b96e-050e7a8f5c99  598956005   \n",
       "4       00040372-9fc7-4759-b96e-050e7a8f5c99  598956005   \n",
       "...                                      ...        ...   \n",
       "767465  fffd89d8-4a5d-42a6-8f63-29764a959d43  568871996   \n",
       "767466  fffd89d8-4a5d-42a6-8f63-29764a959d43  568871996   \n",
       "767467  fffd89d8-4a5d-42a6-8f63-29764a959d43  568871996   \n",
       "767468  fffd89d8-4a5d-42a6-8f63-29764a959d43  568871996   \n",
       "767469  fffd89d8-4a5d-42a6-8f63-29764a959d43  568871996   \n",
       "\n",
       "                      timestamp  user_feature_idx  user_idx  response  \\\n",
       "0       2020-01-09 18:39:29 UTC                 0     13419         0   \n",
       "1       2020-01-09 18:39:29 UTC                 0     13419         0   \n",
       "2       2020-01-09 18:39:29 UTC                 0     13419         0   \n",
       "3       2020-01-09 18:39:29 UTC                 0     13419         0   \n",
       "4       2020-01-09 18:39:29 UTC                 0     13419         0   \n",
       "...                         ...               ...       ...       ...   \n",
       "767465  2020-01-31 05:13:12 UTC             96690      9193         1   \n",
       "767466  2020-01-31 05:13:12 UTC             96690      9193         1   \n",
       "767467  2020-01-31 05:13:12 UTC             96690      9193         1   \n",
       "767468  2020-01-31 05:13:12 UTC             96690      9193         1   \n",
       "767469  2020-01-31 05:13:12 UTC             96690      9193         0   \n",
       "\n",
       "        predicted_prob  predicted_response item_categorical  \n",
       "0             0.504724                   1           [0, 0]  \n",
       "1             0.466401                   1         [0, 127]  \n",
       "2             0.425856                   1         [0, 158]  \n",
       "3             0.479871                   1         [0, 127]  \n",
       "4             0.466401                   1         [0, 127]  \n",
       "...                ...                 ...              ...  \n",
       "767465        0.582997                   1           [0, 0]  \n",
       "767466        0.582997                   1           [0, 0]  \n",
       "767467        0.582997                   1           [0, 0]  \n",
       "767468        0.582997                   1           [0, 0]  \n",
       "767469        0.582997                   1           [0, 0]  \n",
       "\n",
       "[767470 rows x 11 columns]"
      ]
     },
     "execution_count": 7,
     "metadata": {},
     "output_type": "execute_result"
    }
   ],
   "source": [
    "df = test_dataset.to_iteraction_matrix()\n",
    "df"
   ]
  }
 ],
 "metadata": {
  "kernelspec": {
   "display_name": "Python 3 (ipykernel)",
   "language": "python",
   "name": "python3"
  },
  "language_info": {
   "codemirror_mode": {
    "name": "ipython",
    "version": 3
   },
   "file_extension": ".py",
   "mimetype": "text/x-python",
   "name": "python",
   "nbconvert_exporter": "python",
   "pygments_lexer": "ipython3",
   "version": "3.10.13"
  }
 },
 "nbformat": 4,
 "nbformat_minor": 5
}
