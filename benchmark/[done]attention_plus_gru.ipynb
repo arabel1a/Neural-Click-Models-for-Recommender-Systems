{
 "cells": [
  {
   "cell_type": "code",
   "execution_count": 1,
   "id": "abb2d1d8",
   "metadata": {},
   "outputs": [
    {
     "data": {
      "text/plain": [
       "<torch._C.Generator at 0x7f04380aebd0>"
      ]
     },
     "execution_count": 1,
     "metadata": {},
     "output_type": "execute_result"
    }
   ],
   "source": [
    "import os\n",
    "import torch\n",
    "import random\n",
    "import datetime\n",
    "import pandas as pd\n",
    "import numpy as np\n",
    "import torch.nn.functional as F\n",
    "\n",
    "from src.datasets import RL4RS, ContentWise, DummyData\n",
    "from src.utils import train, get_dummy_data, get_train_val_test_tmatrix_tnumitems, get_svd_encoder\n",
    "from src.embeddings import RecsysEmbedding\n",
    "from torch.utils.data import Dataset\n",
    "\n",
    "experiment_name = 'AttentionGRU-FIXED'\n",
    "device = 'cuda:2'\n",
    "seed = 123\n",
    "pkl_path = '../pkl/'\n",
    "\n",
    "random.seed(seed)\n",
    "np.random.seed(seed)\n",
    "torch.manual_seed(seed)"
   ]
  },
  {
   "cell_type": "code",
   "execution_count": 2,
   "id": "1d697da1",
   "metadata": {},
   "outputs": [
    {
     "data": {
      "text/plain": [
       "'1.12.1'"
      ]
     },
     "execution_count": 2,
     "metadata": {},
     "output_type": "execute_result"
    }
   ],
   "source": [
    "torch.__version__"
   ]
  },
  {
   "cell_type": "markdown",
   "id": "506b5c38",
   "metadata": {},
   "source": [
    "# Модель"
   ]
  },
  {
   "cell_type": "code",
   "execution_count": 3,
   "id": "5346b93d",
   "metadata": {},
   "outputs": [],
   "source": [
    "# torch.autograd.set_detect_anomaly(True)\n",
    "\n",
    "class AttentionGRU(torch.nn.Module):\n",
    "    def __init__(self, embedding, nheads=2, output_dim=1):\n",
    "        super().__init__()\n",
    "        self.embedding_dim = embedding.embedding_dim\n",
    "        self.embedding = embedding\n",
    "        self.attention = torch.nn.MultiheadAttention(\n",
    "            2 * embedding.embedding_dim,\n",
    "            num_heads=nheads,\n",
    "            batch_first=True\n",
    "        )\n",
    "\n",
    "        self.rnn_cell = torch.nn.GRUCell(\n",
    "            input_size = 2 * embedding.embedding_dim, \n",
    "            hidden_size = embedding.embedding_dim, \n",
    "        )\n",
    "        \n",
    "        self.out_layer = torch.nn.Linear(3 * embedding.embedding_dim, output_dim)\n",
    "    \n",
    "    \n",
    "    def get_attention_embeddings(self, item_embs, user_embs, slate_mask):\n",
    "        shp = item_embs.shape      \n",
    "        key_padding_mask = slate_mask\n",
    "        key_padding_mask[:,:, 0] = True # let model attent to first padd token if slate is empty \n",
    "        features = torch.cat(\n",
    "            [\n",
    "                item_embs,\n",
    "                user_embs[:, :, None, :].repeat(1, 1, item_embs.size(-2), 1).reshape(shp)\n",
    "            ],\n",
    "            dim = -1\n",
    "        ).flatten(0,1)\n",
    "\n",
    "        features, attn_map = self.attention(\n",
    "            features, features, features,\n",
    "            key_padding_mask=~key_padding_mask.flatten(0, 1)\n",
    "        )\n",
    "        shp = list(shp)\n",
    "        shp[-1] *= 2\n",
    "        features = features.reshape(shp)\n",
    "        return features\n",
    "    \n",
    "    def forward(self, batch):\n",
    "        # consider sequential clicks, hence need to flatten slates\n",
    "        item_embs, user_embs = self.embedding(batch)\n",
    "        slate_mask = batch['slates_mask'].clone()\n",
    "\n",
    "        # item_embs dims: batch, session, slate, embedding\n",
    "        # user_embs dims: batch, session, embedding\n",
    "        session_length = item_embs.shape[-3]\n",
    "        slate_size = item_embs.shape[-2]\n",
    "        hidden = user_embs[..., 0, :]\n",
    "        preds = []\n",
    "        for rec in range(session_length):\n",
    "            # att_features dims: batch, 1, slate, embedding\n",
    "            att_features = self.get_attention_embeddings(\n",
    "                item_embs[..., rec, :, :].unsqueeze(-3), \n",
    "                hidden.unsqueeze(-2), \n",
    "                slate_mask[..., rec, :].unsqueeze(-3)\n",
    "            )\n",
    "            # hidden dims: batch, embedding\n",
    "            hidden = self.rnn_cell(\n",
    "                att_features.squeeze(-3).mean(-2),\n",
    "                hidden\n",
    "            )\n",
    "            features = torch.cat(\n",
    "                [\n",
    "                    att_features, \n",
    "                    hidden[..., None, None ,:].repeat(1, 1, slate_size, 1)\n",
    "                ],\n",
    "                dim=-1\n",
    "            )\n",
    "            preds.append(features)\n",
    "        preds = torch.cat(preds, dim=-3)            \n",
    "        return self.out_layer(preds).squeeze(-1)"
   ]
  },
  {
   "cell_type": "markdown",
   "id": "e63eeea3",
   "metadata": {},
   "source": [
    "# Игрушечный датасет: проверим, что сходится к идеальным метрикам"
   ]
  },
  {
   "cell_type": "code",
   "execution_count": 4,
   "id": "30fbf78d",
   "metadata": {},
   "outputs": [
    {
     "name": "stdout",
     "output_type": "stream",
     "text": [
      "biulding affinity matrix...\n"
     ]
    },
    {
     "name": "stderr",
     "output_type": "stream",
     "text": [
      "3it [00:00, 3498.17it/s]\n"
     ]
    },
    {
     "name": "stdout",
     "output_type": "stream",
     "text": [
      "Test before learning: {'f1': 0.4000000059604645, 'roc-auc': 0.0, 'accuracy': 0.25}\n"
     ]
    },
    {
     "data": {
      "application/vnd.jupyter.widget-view+json": {
       "model_id": "1c790f97281d4964839c284ad3751248",
       "version_major": 2,
       "version_minor": 0
      },
      "text/plain": [
       "train:   0%|          | 0/5000 [00:00<?, ?it/s]"
      ]
     },
     "metadata": {},
     "output_type": "display_data"
    },
    {
     "name": "stdout",
     "output_type": "stream",
     "text": [
      "Val update: epoch: 0 |accuracy: 0.25 | f1: 0.4000000059604645 | auc: 0.3333333134651184 | treshold: 0.01\n",
      "Test: accuracy: 0.25 | f1: 0.4000000059604645 | auc: 0.3333333134651184 | \n",
      "Val update: epoch: 1 |accuracy: 0.25 | f1: 0.4000000059604645 | auc: 1.0 | treshold: 0.01\n",
      "Test: accuracy: 0.25 | f1: 0.4000000059604645 | auc: 1.0 | \n",
      "Val update: epoch: 2 |accuracy: 1.0 | f1: 1.0 | auc: 1.0 | treshold: 0.52\n",
      "Test: accuracy: 1.0 | f1: 1.0 | auc: 1.0 | \n"
     ]
    },
    {
     "data": {
      "text/plain": [
       "(AttentionGRU(\n",
       "   (embedding): RecsysEmbedding(\n",
       "     (item_embeddings): Embedding(5, 32)\n",
       "   )\n",
       "   (attention): MultiheadAttention(\n",
       "     (out_proj): NonDynamicallyQuantizableLinear(in_features=64, out_features=64, bias=True)\n",
       "   )\n",
       "   (rnn_cell): GRUCell(64, 32)\n",
       "   (out_layer): Linear(in_features=96, out_features=1, bias=True)\n",
       " ),\n",
       " {'f1': 1.0, 'roc-auc': 1.0, 'accuracy': 1.0})"
      ]
     },
     "execution_count": 4,
     "metadata": {},
     "output_type": "execute_result"
    }
   ],
   "source": [
    "d = DummyData()\n",
    "dummy_loader, dummy_matrix = get_dummy_data(d)\n",
    "\n",
    "model = AttentionGRU(\n",
    "    RecsysEmbedding(d.n_items, dummy_matrix, embeddings='neural').to('cpu'),\n",
    "    output_dim=1\n",
    ").to('cpu')\n",
    "\n",
    "train(\n",
    "    model, \n",
    "    dummy_loader, dummy_loader, dummy_loader,\n",
    "    device=device, lr=1e-3, num_epochs=5000, dummy=True,\n",
    "    silent=True,\n",
    ")\n"
   ]
  },
  {
   "cell_type": "markdown",
   "id": "3f6d6a4a",
   "metadata": {},
   "source": [
    "# ContentWise"
   ]
  },
  {
   "cell_type": "code",
   "execution_count": 5,
   "id": "5c0fdab4",
   "metadata": {},
   "outputs": [
    {
     "name": "stdout",
     "output_type": "stream",
     "text": [
      "20216 data points among 108 batches\n"
     ]
    }
   ],
   "source": [
    "content_wise_results = []\n",
    "dataset = ContentWise.load(os.path.join(pkl_path, 'cw.pkl'))\n",
    "(\n",
    "    train_loader, \n",
    "    val_loader, \n",
    "    test_loader, \n",
    "    train_user_item_matrix, \n",
    "    train_num_items \n",
    ") = get_train_val_test_tmatrix_tnumitems(dataset, batch_size=150)\n",
    "\n",
    "print(f\"{len(dataset)} data points among {len(train_loader)} batches\")"
   ]
  },
  {
   "cell_type": "code",
   "execution_count": 6,
   "id": "0c6e5873",
   "metadata": {},
   "outputs": [
    {
     "name": "stdout",
     "output_type": "stream",
     "text": [
      "\n",
      "Evaluating AttentionGRU_FIXED with svd embeddings\n",
      "Test before learning: {'f1': 0.0, 'roc-auc': 0.4743947386741638, 'accuracy': 0.9019922018051147}\n"
     ]
    },
    {
     "data": {
      "application/vnd.jupyter.widget-view+json": {
       "model_id": "51688f3f3b45434eb4561b0c2528d730",
       "version_major": 2,
       "version_minor": 0
      },
      "text/plain": [
       "train:   0%|          | 0/5000 [00:00<?, ?it/s]"
      ]
     },
     "metadata": {},
     "output_type": "display_data"
    },
    {
     "name": "stdout",
     "output_type": "stream",
     "text": [
      "Val update: epoch: 0 |accuracy: 0.09937293827533722 | f1: 0.18078112602233887 | auc: 0.4981193542480469 | treshold: 0.01\n",
      "Test: accuracy: 0.09800780564546585 | f1: 0.1785193234682083 | auc: 0.502781867980957 | \n",
      "Val update: epoch: 1 |accuracy: 0.09941849112510681 | f1: 0.18078862130641937 | auc: 0.5313175916671753 | treshold: 0.04\n",
      "Test: accuracy: 0.09800780564546585 | f1: 0.1785193234682083 | auc: 0.5303691625595093 | \n",
      "Val update: epoch: 2 |accuracy: 0.12510818243026733 | f1: 0.18386799097061157 | auc: 0.5338164567947388 | treshold: 0.05\n",
      "Test: accuracy: 0.12855087220668793 | f1: 0.18196755647659302 | auc: 0.536331295967102 | \n",
      "Val update: epoch: 4 |accuracy: 0.15058530867099762 | f1: 0.18588745594024658 | auc: 0.545150637626648 | treshold: 0.05\n",
      "Test: accuracy: 0.15406523644924164 | f1: 0.1843147873878479 | auc: 0.5524570941925049 | \n",
      "Val update: epoch: 6 |accuracy: 0.18500523269176483 | f1: 0.18610504269599915 | auc: 0.5599356889724731 | treshold: 0.060000000000000005\n",
      "Test: accuracy: 0.18615104258060455 | f1: 0.1841541826725006 | auc: 0.5606944561004639 | \n",
      "Val update: epoch: 7 |accuracy: 0.14136920869350433 | f1: 0.18630215525627136 | auc: 0.5742578506469727 | treshold: 0.05\n",
      "Test: accuracy: 0.14378532767295837 | f1: 0.1846306025981903 | auc: 0.5754841566085815 | \n",
      "Val update: epoch: 9 |accuracy: 0.14627332985401154 | f1: 0.1874069720506668 | auc: 0.5943324565887451 | treshold: 0.08\n",
      "Test: accuracy: 0.14658893644809723 | f1: 0.18496324121952057 | auc: 0.5919736623764038 | \n",
      "Val update: epoch: 11 |accuracy: 0.8882225155830383 | f1: 0.15978087484836578 | auc: 0.6016628742218018 | treshold: 0.11\n",
      "Test: accuracy: 0.8896355032920837 | f1: 0.16629314422607422 | auc: 0.6035265922546387 | \n",
      "Val update: epoch: 12 |accuracy: 0.8836979866027832 | f1: 0.19095902144908905 | auc: 0.6071832180023193 | treshold: 0.13\n",
      "Test: accuracy: 0.8853484988212585 | f1: 0.19447629153728485 | auc: 0.6059962511062622 | \n",
      "Val update: epoch: 13 |accuracy: 0.8876607418060303 | f1: 0.1958482712507248 | auc: 0.6206792593002319 | treshold: 0.11\n",
      "Test: accuracy: 0.8889086842536926 | f1: 0.18906334042549133 | auc: 0.6188772320747375 | \n",
      "Val update: epoch: 16 |accuracy: 0.8851251602172852 | f1: 0.20307563245296478 | auc: 0.6208487153053284 | treshold: 0.12\n",
      "Test: accuracy: 0.8868319392204285 | f1: 0.19955933094024658 | auc: 0.6159083843231201 | \n",
      "Val update: epoch: 19 |accuracy: 0.2512032687664032 | f1: 0.1957535594701767 | auc: 0.6247661113739014 | treshold: 0.13\n",
      "Test: accuracy: 0.24821622669696808 | f1: 0.19278797507286072 | auc: 0.6251888871192932 | \n",
      "\n",
      "Evaluating AttentionGRU_FIXED with neural embeddings\n",
      "Test before learning: {'f1': 0.1770605742931366, 'roc-auc': 0.5212584733963013, 'accuracy': 0.10054440796375275}\n"
     ]
    },
    {
     "data": {
      "application/vnd.jupyter.widget-view+json": {
       "model_id": "6dc9ac5a7c3740e4ab96af43fb008383",
       "version_major": 2,
       "version_minor": 0
      },
      "text/plain": [
       "train:   0%|          | 0/5000 [00:00<?, ?it/s]"
      ]
     },
     "metadata": {},
     "output_type": "display_data"
    },
    {
     "name": "stdout",
     "output_type": "stream",
     "text": [
      "Val update: epoch: 1 |accuracy: 0.6821736097335815 | f1: 0.2442687451839447 | auc: 0.6551786661148071 | treshold: 0.060000000000000005\n",
      "Test: accuracy: 0.6829839944839478 | f1: 0.24138298630714417 | auc: 0.653461217880249 | \n",
      "Val update: epoch: 2 |accuracy: 0.8839409351348877 | f1: 0.21551723778247833 | auc: 0.684718132019043 | treshold: 0.14\n",
      "Test: accuracy: 0.885289192199707 | f1: 0.21067674458026886 | auc: 0.6849374771118164 | \n",
      "Val update: epoch: 3 |accuracy: 0.8748766183853149 | f1: 0.23360922932624817 | auc: 0.7008762359619141 | treshold: 0.14\n",
      "Test: accuracy: 0.8788809180259705 | f1: 0.2332613319158554 | auc: 0.700993537902832 | \n",
      "Val update: epoch: 4 |accuracy: 0.5919864177703857 | f1: 0.25845083594322205 | auc: 0.7081881761550903 | treshold: 0.13\n",
      "Test: accuracy: 0.5989497303962708 | f1: 0.2576606273651123 | auc: 0.7096996307373047 | \n",
      "Val update: epoch: 7 |accuracy: 0.7808632850646973 | f1: 0.29824477434158325 | auc: 0.7220767736434937 | treshold: 0.13\n",
      "Test: accuracy: 0.7844777703285217 | f1: 0.301120787858963 | auc: 0.7234678268432617 | \n",
      "Val update: epoch: 9 |accuracy: 0.5814341902732849 | f1: 0.26107001304626465 | auc: 0.723865270614624 | treshold: 0.14\n",
      "Test: accuracy: 0.5881803035736084 | f1: 0.26200222969055176 | auc: 0.7277584075927734 | \n",
      "Val update: epoch: 10 |accuracy: 0.7756099700927734 | f1: 0.30520427227020264 | auc: 0.7289727926254272 | treshold: 0.18000000000000002\n",
      "Test: accuracy: 0.7784551978111267 | f1: 0.308468759059906 | auc: 0.7308510541915894 | \n",
      "Val update: epoch: 11 |accuracy: 0.8837131857872009 | f1: 0.2505137622356415 | auc: 0.7290267944335938 | treshold: 0.15000000000000002\n",
      "Test: accuracy: 0.8863868713378906 | f1: 0.2626359760761261 | auc: 0.7327995300292969 | \n",
      "Val update: epoch: 13 |accuracy: 0.8366002440452576 | f1: 0.30692940950393677 | auc: 0.7301304936408997 | treshold: 0.15000000000000002\n",
      "Test: accuracy: 0.8386809825897217 | f1: 0.3114909827709198 | auc: 0.7340264320373535 | \n",
      "Val update: epoch: 15 |accuracy: 0.8468183875083923 | f1: 0.3160463571548462 | auc: 0.7346696853637695 | treshold: 0.16\n",
      "Test: accuracy: 0.8497322201728821 | f1: 0.3172014057636261 | auc: 0.7373286485671997 | \n"
     ]
    }
   ],
   "source": [
    "for embeddings in ['svd', 'neural']:\n",
    "    print(f\"\\nEvaluating {experiment_name} with {embeddings} embeddings\")\n",
    "    \n",
    "    model = AttentionGRU(\n",
    "        RecsysEmbedding(train_num_items, train_user_item_matrix, embeddings=embeddings),\n",
    "        output_dim=1\n",
    "    ).to(device)\n",
    "\n",
    "    _, metrics = train(\n",
    "        model, \n",
    "        train_loader, val_loader, test_loader, \n",
    "        device=device, lr=1e-3, num_epochs=5000, early_stopping=7,\n",
    "       silent=True, \n",
    "    )\n",
    "    \n",
    "    metrics['embeddings'] = embeddings\n",
    "    content_wise_results.append(metrics)"
   ]
  },
  {
   "cell_type": "code",
   "execution_count": 7,
   "id": "13eb793d-c8e1-4661-8380-f8f91334c69d",
   "metadata": {},
   "outputs": [],
   "source": [
    "pd.DataFrame(content_wise_results).to_csv(f'results/cw_{experiment_name}.csv')\n",
    "del dataset, train_loader, val_loader, test_loader, train_user_item_matrix, train_num_items"
   ]
  },
  {
   "cell_type": "markdown",
   "id": "5d286f07",
   "metadata": {},
   "source": [
    "# RL4RS"
   ]
  },
  {
   "cell_type": "code",
   "execution_count": 8,
   "id": "adc01381",
   "metadata": {},
   "outputs": [
    {
     "name": "stdout",
     "output_type": "stream",
     "text": [
      "45942 data points among 106 batches\n"
     ]
    }
   ],
   "source": [
    "rl4rs_results = []\n",
    "dataset = RL4RS.load(os.path.join(pkl_path, 'rl4rs.pkl'))\n",
    "(\n",
    "    train_loader, \n",
    "    val_loader, \n",
    "    test_loader, \n",
    "    train_user_item_matrix, \n",
    "    train_num_items \n",
    ") = get_train_val_test_tmatrix_tnumitems(dataset, batch_size=350)\n",
    "\n",
    "print(f\"{len(dataset)} data points among {len(train_loader)} batches\")"
   ]
  },
  {
   "cell_type": "code",
   "execution_count": 9,
   "id": "b19aa6cf",
   "metadata": {},
   "outputs": [
    {
     "name": "stdout",
     "output_type": "stream",
     "text": [
      "\n",
      "Evaluating AttentionGRU_FIXED with neural embeddings\n",
      "Test before learning: {'f1': 0.7831947803497314, 'roc-auc': 0.4515891671180725, 'accuracy': 0.6437432169914246}\n"
     ]
    },
    {
     "data": {
      "application/vnd.jupyter.widget-view+json": {
       "model_id": "cfe2bafe88ea4e45b60a1d862c7db005",
       "version_major": 2,
       "version_minor": 0
      },
      "text/plain": [
       "train:   0%|          | 0/5000 [00:00<?, ?it/s]"
      ]
     },
     "metadata": {},
     "output_type": "display_data"
    },
    {
     "name": "stdout",
     "output_type": "stream",
     "text": [
      "Val update: epoch: 0 |accuracy: 0.710491955280304 | f1: 0.8135165572166443 | auc: 0.7544424533843994 | treshold: 0.37\n",
      "Test: accuracy: 0.7043404579162598 | f1: 0.8077062368392944 | auc: 0.7642634510993958 | \n",
      "Val update: epoch: 1 |accuracy: 0.7315096855163574 | f1: 0.8276215195655823 | auc: 0.828403651714325 | treshold: 0.4\n",
      "Test: accuracy: 0.7246040105819702 | f1: 0.8216148614883423 | auc: 0.8362383842468262 | \n",
      "Val update: epoch: 2 |accuracy: 0.7852513194084167 | f1: 0.8383667469024658 | auc: 0.8443363308906555 | treshold: 0.43\n",
      "Test: accuracy: 0.7903760075569153 | f1: 0.8402410745620728 | auc: 0.8540526032447815 | \n",
      "Val update: epoch: 3 |accuracy: 0.7896773815155029 | f1: 0.847202718257904 | auc: 0.8463099002838135 | treshold: 0.4\n",
      "Test: accuracy: 0.7903760075569153 | f1: 0.845815896987915 | auc: 0.8544607758522034 | \n",
      "Val update: epoch: 5 |accuracy: 0.7947322726249695 | f1: 0.8523049354553223 | auc: 0.855345606803894 | treshold: 0.38\n",
      "Test: accuracy: 0.7935194969177246 | f1: 0.8498901128768921 | auc: 0.8607869148254395 | \n",
      "Val update: epoch: 6 |accuracy: 0.7963285446166992 | f1: 0.8535707592964172 | auc: 0.8588137030601501 | treshold: 0.39\n",
      "Test: accuracy: 0.7952122092247009 | f1: 0.8514184355735779 | auc: 0.8628981113433838 | \n",
      "Val update: epoch: 7 |accuracy: 0.7945387959480286 | f1: 0.8563942313194275 | auc: 0.8596171140670776 | treshold: 0.4\n",
      "Test: accuracy: 0.7925764918327332 | f1: 0.8536127805709839 | auc: 0.8674077987670898 | \n",
      "Val update: epoch: 9 |accuracy: 0.8020606637001038 | f1: 0.8551965951919556 | auc: 0.8631548881530762 | treshold: 0.4\n",
      "Test: accuracy: 0.8022729754447937 | f1: 0.8540472984313965 | auc: 0.8701686263084412 | \n",
      "Val update: epoch: 13 |accuracy: 0.8030039072036743 | f1: 0.8602220416069031 | auc: 0.8681691884994507 | treshold: 0.38\n",
      "Test: accuracy: 0.799419641494751 | f1: 0.8562366962432861 | auc: 0.8734320998191833 | \n",
      "Val update: epoch: 23 |accuracy: 0.8053016066551208 | f1: 0.8575674891471863 | auc: 0.8709414005279541 | treshold: 0.42000000000000004\n",
      "Test: accuracy: 0.805174708366394 | f1: 0.8561738133430481 | auc: 0.8761775493621826 | \n",
      "Val update: epoch: 31 |accuracy: 0.8005611300468445 | f1: 0.8615374565124512 | auc: 0.8715670108795166 | treshold: 0.4\n",
      "Test: accuracy: 0.7946801781654358 | f1: 0.8562041521072388 | auc: 0.8759610652923584 | \n",
      "Val update: epoch: 38 |accuracy: 0.8085183501243591 | f1: 0.8610345721244812 | auc: 0.872044026851654 | treshold: 0.44\n",
      "Test: accuracy: 0.8069882988929749 | f1: 0.8586956262588501 | auc: 0.8769413828849792 | \n",
      "Val update: epoch: 44 |accuracy: 0.8016253113746643 | f1: 0.8617702722549438 | auc: 0.8724995851516724 | treshold: 0.43\n",
      "Test: accuracy: 0.7950912714004517 | f1: 0.8559431433677673 | auc: 0.8773476481437683 | \n",
      "Val update: epoch: 51 |accuracy: 0.8081071972846985 | f1: 0.8576401472091675 | auc: 0.8737034201622009 | treshold: 0.44\n",
      "Test: accuracy: 0.8078346252441406 | f1: 0.8557530045509338 | auc: 0.8767022490501404 | \n",
      "\n",
      "Evaluating AttentionGRU_FIXED with explicit embeddings\n",
      "Test before learning: {'f1': 0.6248492002487183, 'roc-auc': 0.4683692157268524, 'accuracy': 0.5187038779258728}\n"
     ]
    },
    {
     "data": {
      "application/vnd.jupyter.widget-view+json": {
       "model_id": "90c139af6f0d46bcba5f6e33c1006de7",
       "version_major": 2,
       "version_minor": 0
      },
      "text/plain": [
       "train:   0%|          | 0/5000 [00:00<?, ?it/s]"
      ]
     },
     "metadata": {},
     "output_type": "display_data"
    },
    {
     "name": "stdout",
     "output_type": "stream",
     "text": [
      "Val update: epoch: 0 |accuracy: 0.7491897940635681 | f1: 0.8236814141273499 | auc: 0.8125873804092407 | treshold: 0.39\n",
      "Test: accuracy: 0.7525087594985962 | f1: 0.8244696259498596 | auc: 0.8222543001174927 | \n",
      "Val update: epoch: 2 |accuracy: 0.7791321873664856 | f1: 0.8502165079116821 | auc: 0.842571496963501 | treshold: 0.38\n",
      "Test: accuracy: 0.7740055322647095 | f1: 0.84546959400177 | auc: 0.8518551588058472 | \n",
      "Val update: epoch: 4 |accuracy: 0.7897499203681946 | f1: 0.8510324954986572 | auc: 0.8438721895217896 | treshold: 0.39\n",
      "Test: accuracy: 0.7886350154876709 | f1: 0.8489571809768677 | auc: 0.8533065319061279 | \n",
      "Val update: epoch: 5 |accuracy: 0.7872103452682495 | f1: 0.8526002168655396 | auc: 0.8444597125053406 | treshold: 0.4\n",
      "Test: accuracy: 0.7821303606033325 | f1: 0.8477731943130493 | auc: 0.85223388671875 | \n",
      "Val update: epoch: 7 |accuracy: 0.7911769151687622 | f1: 0.853248119354248 | auc: 0.8496759533882141 | treshold: 0.37\n",
      "Test: accuracy: 0.7900616526603699 | f1: 0.8511929512023926 | auc: 0.859312117099762 | \n",
      "Val update: epoch: 8 |accuracy: 0.7885890007019043 | f1: 0.8522855639457703 | auc: 0.8500632643699646 | treshold: 0.41000000000000003\n",
      "Test: accuracy: 0.7893120646476746 | f1: 0.851453423500061 | auc: 0.8612267971038818 | \n",
      "Val update: epoch: 9 |accuracy: 0.7963285446166992 | f1: 0.8542802333831787 | auc: 0.8593811988830566 | treshold: 0.38\n",
      "Test: accuracy: 0.7956957817077637 | f1: 0.852771520614624 | auc: 0.8678229451179504 | \n",
      "Val update: epoch: 13 |accuracy: 0.7914429306983948 | f1: 0.8559207320213318 | auc: 0.8597872257232666 | treshold: 0.39\n",
      "Test: accuracy: 0.7893846035003662 | f1: 0.8531147837638855 | auc: 0.8680869936943054 | \n",
      "Val update: epoch: 24 |accuracy: 0.798747181892395 | f1: 0.8557060360908508 | auc: 0.8624211549758911 | treshold: 0.4\n",
      "Test: accuracy: 0.7993229627609253 | f1: 0.8545489311218262 | auc: 0.8704937696456909 | \n",
      "Val update: epoch: 26 |accuracy: 0.8004401922225952 | f1: 0.8551312685012817 | auc: 0.865135669708252 | treshold: 0.39\n",
      "Test: accuracy: 0.8030709624290466 | f1: 0.8557409644126892 | auc: 0.8737713098526001 | \n",
      "Val update: epoch: 32 |accuracy: 0.8021090030670166 | f1: 0.8544024229049683 | auc: 0.865759015083313 | treshold: 0.41000000000000003\n",
      "Test: accuracy: 0.8036271333694458 | f1: 0.8542246222496033 | auc: 0.8717648983001709 | \n",
      "\n",
      "Evaluating AttentionGRU_FIXED with svd embeddings\n",
      "Test before learning: {'f1': 0.0, 'roc-auc': 0.4682241678237915, 'accuracy': 0.3551928400993347}\n"
     ]
    },
    {
     "data": {
      "application/vnd.jupyter.widget-view+json": {
       "model_id": "49195002d8614bb7812002d1fcaff37e",
       "version_major": 2,
       "version_minor": 0
      },
      "text/plain": [
       "train:   0%|          | 0/5000 [00:00<?, ?it/s]"
      ]
     },
     "metadata": {},
     "output_type": "display_data"
    },
    {
     "name": "stdout",
     "output_type": "stream",
     "text": [
      "Val update: epoch: 0 |accuracy: 0.655105710029602 | f1: 0.7916179299354553 | auc: 0.7020512223243713 | treshold: 0.4\n",
      "Test: accuracy: 0.6448071599006653 | f1: 0.7840519547462463 | auc: 0.7108439207077026 | \n",
      "Val update: epoch: 1 |accuracy: 0.6610071063041687 | f1: 0.7918745279312134 | auc: 0.7179774641990662 | treshold: 0.33\n",
      "Test: accuracy: 0.6519647240638733 | f1: 0.7848162055015564 | auc: 0.7310923337936401 | \n",
      "Val update: epoch: 3 |accuracy: 0.7061626315116882 | f1: 0.7789201736450195 | auc: 0.743841290473938 | treshold: 0.42000000000000004\n",
      "Test: accuracy: 0.712658703327179 | f1: 0.7804688811302185 | auc: 0.7573460340499878 | \n",
      "Val update: epoch: 4 |accuracy: 0.7072268128395081 | f1: 0.7813600897789001 | auc: 0.7489835023880005 | treshold: 0.4\n",
      "Test: accuracy: 0.7151009440422058 | f1: 0.784425675868988 | auc: 0.7622102499008179 | \n",
      "Val update: epoch: 5 |accuracy: 0.691650927066803 | f1: 0.7986735105514526 | auc: 0.7617202997207642 | treshold: 0.46\n",
      "Test: accuracy: 0.6893724799156189 | f1: 0.795224130153656 | auc: 0.771888792514801 | \n",
      "Val update: epoch: 6 |accuracy: 0.6991486549377441 | f1: 0.8032021522521973 | auc: 0.7719625234603882 | treshold: 0.41000000000000003\n",
      "Test: accuracy: 0.6945955753326416 | f1: 0.7984038591384888 | auc: 0.7820226550102234 | \n",
      "Val update: epoch: 7 |accuracy: 0.7318724989891052 | f1: 0.8126985430717468 | auc: 0.7841764688491821 | treshold: 0.42000000000000004\n",
      "Test: accuracy: 0.7281102538108826 | f1: 0.8083452582359314 | auc: 0.7920286655426025 | \n",
      "Val update: epoch: 8 |accuracy: 0.7334929704666138 | f1: 0.7895249724388123 | auc: 0.7926672697067261 | treshold: 0.45\n",
      "Test: accuracy: 0.7409502863883972 | f1: 0.7935400605201721 | auc: 0.8006798028945923 | \n",
      "Val update: epoch: 9 |accuracy: 0.7433125376701355 | f1: 0.819048285484314 | auc: 0.8010194897651672 | treshold: 0.4\n",
      "Test: accuracy: 0.7423527836799622 | f1: 0.8165429830551147 | auc: 0.8080976605415344 | \n",
      "Val update: epoch: 10 |accuracy: 0.7500604391098022 | f1: 0.8192598223686218 | auc: 0.8088244199752808 | treshold: 0.39\n",
      "Test: accuracy: 0.7518317103385925 | f1: 0.8183571696281433 | auc: 0.8157217502593994 | \n",
      "Val update: epoch: 11 |accuracy: 0.7506409287452698 | f1: 0.8249397277832031 | auc: 0.8112219572067261 | treshold: 0.39\n",
      "Test: accuracy: 0.7505500912666321 | f1: 0.8234649896621704 | auc: 0.8183879852294922 | \n",
      "Val update: epoch: 12 |accuracy: 0.7273254990577698 | f1: 0.8211668133735657 | auc: 0.815232515335083 | treshold: 0.41000000000000003\n",
      "Test: accuracy: 0.721412181854248 | f1: 0.8154188990592957 | auc: 0.8221994638442993 | \n",
      "Val update: epoch: 13 |accuracy: 0.7578000426292419 | f1: 0.8295663595199585 | auc: 0.8160847425460815 | treshold: 0.38\n",
      "Test: accuracy: 0.7574416399002075 | f1: 0.8275541663169861 | auc: 0.8236904144287109 | \n",
      "Val update: epoch: 15 |accuracy: 0.7446911334991455 | f1: 0.8284581303596497 | auc: 0.8191825151443481 | treshold: 0.37\n",
      "Test: accuracy: 0.739185094833374 | f1: 0.823052704334259 | auc: 0.8261904716491699 | \n",
      "Val update: epoch: 16 |accuracy: 0.7477627992630005 | f1: 0.8309313654899597 | auc: 0.8234496116638184 | treshold: 0.37\n",
      "Test: accuracy: 0.7426671385765076 | f1: 0.8257238268852234 | auc: 0.8300753831863403 | \n",
      "Val update: epoch: 17 |accuracy: 0.7539302706718445 | f1: 0.8331146240234375 | auc: 0.8236335515975952 | treshold: 0.38\n",
      "Test: accuracy: 0.749921441078186 | f1: 0.8286272883415222 | auc: 0.8308701515197754 | \n",
      "Val update: epoch: 20 |accuracy: 0.7640642523765564 | f1: 0.836454451084137 | auc: 0.826514482498169 | treshold: 0.38\n",
      "Test: accuracy: 0.7631967067718506 | f1: 0.834064781665802 | auc: 0.8330314755439758 | \n",
      "Val update: epoch: 21 |accuracy: 0.7650800347328186 | f1: 0.8368796706199646 | auc: 0.8288159370422363 | treshold: 0.37\n",
      "Test: accuracy: 0.7631241679191589 | f1: 0.8338478207588196 | auc: 0.8347917199134827 | \n",
      "Val update: epoch: 22 |accuracy: 0.7734726667404175 | f1: 0.8297214508056641 | auc: 0.8320692181587219 | treshold: 0.39\n",
      "Test: accuracy: 0.7769556045532227 | f1: 0.8308268189430237 | auc: 0.8385975956916809 | \n",
      "Val update: epoch: 26 |accuracy: 0.7553572058677673 | f1: 0.8353115320205688 | auc: 0.8332865834236145 | treshold: 0.38\n",
      "Test: accuracy: 0.7519767880439758 | f1: 0.8312632441520691 | auc: 0.8392890095710754 | \n",
      "Val update: epoch: 28 |accuracy: 0.7773907780647278 | f1: 0.8322702646255493 | auc: 0.8358087539672852 | treshold: 0.4\n",
      "Test: accuracy: 0.7780196070671082 | f1: 0.8311755061149597 | auc: 0.8410568237304688 | \n",
      "Val update: epoch: 29 |accuracy: 0.7764233350753784 | f1: 0.8357614874839783 | auc: 0.8371706008911133 | treshold: 0.39\n",
      "Test: accuracy: 0.7763752937316895 | f1: 0.8338961005210876 | auc: 0.8430357575416565 | \n",
      "Val update: epoch: 30 |accuracy: 0.7631935477256775 | f1: 0.8384616374969482 | auc: 0.8379285931587219 | treshold: 0.37\n",
      "Test: accuracy: 0.7592552304267883 | f1: 0.8342324495315552 | auc: 0.843693733215332 | \n",
      "Val update: epoch: 32 |accuracy: 0.7718279957771301 | f1: 0.8421404957771301 | auc: 0.8396880030632019 | treshold: 0.39\n",
      "Test: accuracy: 0.7697255611419678 | f1: 0.8390488028526306 | auc: 0.8457862138748169 | \n",
      "Val update: epoch: 35 |accuracy: 0.7817201018333435 | f1: 0.8446509838104248 | auc: 0.8410863280296326 | treshold: 0.39\n",
      "Test: accuracy: 0.7806553244590759 | f1: 0.8424380421638489 | auc: 0.8472411632537842 | \n",
      "Val update: epoch: 39 |accuracy: 0.786267101764679 | f1: 0.8455637097358704 | auc: 0.8412193059921265 | treshold: 0.38\n",
      "Test: accuracy: 0.7856365442276001 | f1: 0.8433773517608643 | auc: 0.8480011224746704 | \n",
      "Val update: epoch: 40 |accuracy: 0.7842596769332886 | f1: 0.8394817113876343 | auc: 0.8437016010284424 | treshold: 0.4\n",
      "Test: accuracy: 0.7840648293495178 | f1: 0.8378722071647644 | auc: 0.849305272102356 | \n",
      "Val update: epoch: 41 |accuracy: 0.777850329875946 | f1: 0.8424447178840637 | auc: 0.8440837264060974 | treshold: 0.4\n",
      "Test: accuracy: 0.777245819568634 | f1: 0.8401804566383362 | auc: 0.8493136167526245 | \n",
      "Val update: epoch: 45 |accuracy: 0.7844047546386719 | f1: 0.8387014865875244 | auc: 0.8457891941070557 | treshold: 0.4\n",
      "Test: accuracy: 0.7852013111114502 | f1: 0.8377267718315125 | auc: 0.8519121408462524 | \n",
      "Val update: epoch: 49 |accuracy: 0.7774391770362854 | f1: 0.8446815013885498 | auc: 0.8461180329322815 | treshold: 0.39\n",
      "Test: accuracy: 0.7750453352928162 | f1: 0.8414648771286011 | auc: 0.8533104062080383 | \n",
      "Val update: epoch: 54 |accuracy: 0.7873312830924988 | f1: 0.8435882329940796 | auc: 0.8489289879798889 | treshold: 0.4\n",
      "Test: accuracy: 0.7901583909988403 | f1: 0.8437691330909729 | auc: 0.8565537929534912 | \n",
      "Val update: epoch: 61 |accuracy: 0.789169430732727 | f1: 0.8450503945350647 | auc: 0.8491718769073486 | treshold: 0.42000000000000004\n",
      "Test: accuracy: 0.7883206605911255 | f1: 0.8430282473564148 | auc: 0.8541758060455322 | \n",
      "Val update: epoch: 63 |accuracy: 0.7678130865097046 | f1: 0.8420221209526062 | auc: 0.8497296571731567 | treshold: 0.37\n",
      "Test: accuracy: 0.763293445110321 | f1: 0.837346076965332 | auc: 0.8556795120239258 | \n",
      "Val update: epoch: 64 |accuracy: 0.7901127338409424 | f1: 0.8427613973617554 | auc: 0.8499228358268738 | treshold: 0.41000000000000003\n",
      "Test: accuracy: 0.7886591553688049 | f1: 0.8401843309402466 | auc: 0.8547462224960327 | \n",
      "Val update: epoch: 67 |accuracy: 0.7911769151687622 | f1: 0.8440558910369873 | auc: 0.8528296947479248 | treshold: 0.4\n",
      "Test: accuracy: 0.790835440158844 | f1: 0.8423891067504883 | auc: 0.8588891625404358 | \n"
     ]
    }
   ],
   "source": [
    "for embeddings in ['neural','explicit', 'svd',  ]:\n",
    "    print(f\"\\nEvaluating {experiment_name} with {embeddings} embeddings\")\n",
    "\n",
    "    model = AttentionGRU(\n",
    "        RecsysEmbedding(\n",
    "            train_num_items, \n",
    "            train_user_item_matrix, \n",
    "            embeddings=embeddings,\n",
    "            embedding_dim=40\n",
    "        ),\n",
    "        output_dim=1\n",
    "    ).to(device)\n",
    "\n",
    "    best_model, metrics = train(\n",
    "        model, \n",
    "        train_loader, val_loader, test_loader, \n",
    "        device=device, lr=1e-3, num_epochs=5000, early_stopping=7,\n",
    "        silent=True\n",
    "    )\n",
    "    \n",
    "    metrics['embeddings'] = embeddings\n",
    "    rl4rs_results.append(metrics)"
   ]
  },
  {
   "cell_type": "code",
   "execution_count": 10,
   "id": "a32da431",
   "metadata": {},
   "outputs": [],
   "source": [
    "pd.DataFrame(rl4rs_results).to_csv(f'results/rl4rs_{experiment_name}.csv')\n",
    "del dataset, train_loader, val_loader, test_loader, train_user_item_matrix, train_num_items"
   ]
  }
 ],
 "metadata": {
  "kernelspec": {
   "display_name": "Python 3 (ipykernel)",
   "language": "python",
   "name": "python3"
  },
  "language_info": {
   "codemirror_mode": {
    "name": "ipython",
    "version": 3
   },
   "file_extension": ".py",
   "mimetype": "text/x-python",
   "name": "python",
   "nbconvert_exporter": "python",
   "pygments_lexer": "ipython3",
   "version": "3.10.13"
  }
 },
 "nbformat": 4,
 "nbformat_minor": 5
}
