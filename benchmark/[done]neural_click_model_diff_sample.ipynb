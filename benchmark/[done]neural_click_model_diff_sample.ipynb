{
 "cells": [
  {
   "cell_type": "code",
   "execution_count": 1,
   "id": "5c383908",
   "metadata": {},
   "outputs": [
    {
     "data": {
      "text/plain": [
       "<torch._C.Generator at 0x7efea46aea70>"
      ]
     },
     "execution_count": 1,
     "metadata": {},
     "output_type": "execute_result"
    }
   ],
   "source": [
    "import torch\n",
    "import random\n",
    "import datetime\n",
    "import pandas as pd\n",
    "import numpy as np\n",
    "import os\n",
    "\n",
    "from torch.utils.data import Dataset\n",
    "from src.datasets import RL4RS, ContentWise, DummyData\n",
    "from src.utils import train, get_dummy_data, get_train_val_test_tmatrix_tnumitems, fit_treshold\n",
    "from src.embeddings import RecsysEmbedding\n",
    "from sklearn.linear_model import LogisticRegression\n",
    "\n",
    "experiment_name = 'NeuralClickModelDiffSample'\n",
    "device = 'cuda:0'\n",
    "seed = 7331\n",
    "pkl_path = '../pkl/'\n",
    "\n",
    "\n",
    "random.seed(seed)\n",
    "np.random.seed(seed)\n",
    "torch.manual_seed(seed)"
   ]
  },
  {
   "cell_type": "code",
   "execution_count": 2,
   "id": "8d7ef1f9",
   "metadata": {},
   "outputs": [],
   "source": [
    "def flatten(true, pred, mask, to_cpu=True):\n",
    "    mask = mask.flatten()\n",
    "    nnz_idx = mask.nonzero()[:, 0]\n",
    "    true, pred = [x.flatten()[nnz_idx] for x in [true, pred]]\n",
    "    if to_cpu:\n",
    "        true, pred = [x.cpu().numpy() for x in [true, pred]]\n",
    "    return true, pred"
   ]
  },
  {
   "cell_type": "markdown",
   "id": "0bca4881",
   "metadata": {},
   "source": [
    "# Модель"
   ]
  },
  {
   "cell_type": "code",
   "execution_count": 3,
   "id": "fac4ae1a",
   "metadata": {},
   "outputs": [],
   "source": [
    "import torch.nn as nn\n",
    "import torch.nn.functional as F\n",
    "\n",
    "class SlatewiseGRU(nn.Module):\n",
    "    def __init__(self, embedding, readout=False):\n",
    "        super().__init__()\n",
    "        \n",
    "        self.embedding = embedding\n",
    "        \n",
    "        self.emb_dim = embedding.embedding_dim\n",
    "        self.rnn_layer = nn.GRU(\n",
    "            input_size=self.emb_dim * 2, \n",
    "            hidden_size=self.emb_dim, \n",
    "            batch_first=True\n",
    "        )\n",
    "        self.out_layer = nn.Linear(self.emb_dim, 1)\n",
    "        \n",
    "        self.thr = -1.5\n",
    "        self.readout = readout\n",
    "        self.readout_mode = 'diff_sample' # ['soft' ,'threshold', 'sample', 'diff_sample']\n",
    "        \n",
    "        self.calibration = False\n",
    "        self.w = 1\n",
    "        self.b = 0\n",
    "\n",
    "    def forward(self, batch):\n",
    "        item_embs, user_embs = self.embedding(batch)\n",
    "        shp = item_embs.shape\n",
    "        max_sequence = item_embs.size(1)\n",
    "        # ilya format:\n",
    "        # 'items': (batch, slate, 2*embedding_dim ) 2, нужно для readout, по умолчанию ноли на половине эмбеддинга\n",
    "        # 'clicks': (batch, slate)\n",
    "        # 'users': (1, batch, embedding_dim), \n",
    "        # 'mask': (batch, slate)\n",
    "        \n",
    "        x = {}\n",
    "        x['items'] = torch.cat(\n",
    "            [\n",
    "                item_embs.flatten(0,1),\n",
    "                torch.zeros_like(item_embs.flatten(0,1)),\n",
    "            ],\n",
    "            dim = -1\n",
    "        )\n",
    "                \n",
    "        if self.training:\n",
    "            indices = (batch['length'] - 1)\n",
    "        else:\n",
    "            indices = (batch['in_length'] - 1)\n",
    "        indices[indices<0] = 0\n",
    "        indices = indices[:, None, None].repeat(1, 1, user_embs.size(-1))\n",
    "        user_embs = user_embs.gather(1, indices).squeeze(-2).unsqueeze(0)\n",
    "        x['users'] = user_embs.repeat_interleave(max_sequence, 1)\n",
    "        x['clicks'] = (batch['responses'].flatten(0,1) > 0 ).int().clone()\n",
    "        x['mask'] = batch['slates_mask'].flatten(0,1).clone()\n",
    "        \n",
    "        items = x['items']\n",
    "        h = x['users']\n",
    "        \n",
    "        if self.readout:\n",
    "            res = []\n",
    "            seq_len = items.shape[1]\n",
    "            for i in range(seq_len):\n",
    "#                 print(items[:,[i],:])\n",
    "                output, h = self.rnn_layer(items[:,[i],:], h)\n",
    "                y = self.out_layer(output)[:, :, 0]\n",
    "                \n",
    "                # readout\n",
    "                if i + 1 < seq_len:\n",
    "                    if self.readout_mode == 'threshold':\n",
    "                        items[:, [i+1], self.emb_dim:] *= (y.detach()[:, :, None] > self.thr).to(torch.float32)\n",
    "                    elif self.readout_mode == 'soft':\n",
    "                        items[:, [i+1], self.emb_dim:] *= torch.sigmoid(y)[:, :, None]\n",
    "                    elif self.readout_mode == 'diff_sample' or self.readout_mode == 'sample':\n",
    "                        eps = 1e-8\n",
    "                        gumbel_sample = -( (torch.rand_like(y) + eps).log() / (torch.rand_like(y) + eps).log() + eps).log()\n",
    "                        T = 0.3\n",
    "                        bernoulli_sample = torch.sigmoid( (nn.LogSigmoid()(self.w * y + self.b) + gumbel_sample) / T )\n",
    "                        if self.readout_mode == 'sample':\n",
    "                            bernoulli_sample = bernoulli_sample.detach()\n",
    "                        items[:, [i+1], self.emb_dim:] *= bernoulli_sample[:, :, None]\n",
    "                    else:\n",
    "                        raise\n",
    "                    \n",
    "                res.append(y)\n",
    "        \n",
    "            y = torch.cat(res, axis=1)\n",
    "            \n",
    "        else:\n",
    "            items[:, 1:, self.emb_dim:] *= x['clicks'][:, :-1, None]\n",
    "            rnn_out, _ = self.rnn_layer(items, h)\n",
    "            y = self.out_layer(rnn_out)[:, :, 0]\n",
    "        \n",
    "        \n",
    "        if self.calibration and self.training:\n",
    "            clicks_flat, logits_flat = flatten(x['clicks'], y.detach(), x['mask'])\n",
    "            logreg = LogisticRegression()\n",
    "            logreg.fit(logits_flat[:, None], clicks_flat)\n",
    "            γ = 0.3\n",
    "            self.w = (1 - γ) * self.w + γ * logreg.coef_[0, 0]\n",
    "            self.b = (1 - γ) * self.b + γ * logreg.intercept_[0]\n",
    "            y = self.w * y + self.b\n",
    "        else:\n",
    "            y = self.w * y + self.b\n",
    "            \n",
    "        return y.reshape(shp[:-1])"
   ]
  },
  {
   "cell_type": "markdown",
   "id": "b7f10395",
   "metadata": {},
   "source": [
    "# Игрушечный датасет: проверим, что сходится к идеальным метрикам"
   ]
  },
  {
   "cell_type": "code",
   "execution_count": 4,
   "id": "e3b0c48a",
   "metadata": {},
   "outputs": [
    {
     "name": "stdout",
     "output_type": "stream",
     "text": [
      "biulding affinity matrix...\n"
     ]
    },
    {
     "name": "stderr",
     "output_type": "stream",
     "text": [
      "3it [00:00, 3492.34it/s]\n"
     ]
    },
    {
     "name": "stdout",
     "output_type": "stream",
     "text": [
      "Test before learning: {'f1': 0.0, 'roc-auc': 0.3333333134651184, 'accuracy': 0.75}\n"
     ]
    },
    {
     "data": {
      "application/vnd.jupyter.widget-view+json": {
       "model_id": "c5151effc6fd49489eabe2b3aee089a6",
       "version_major": 2,
       "version_minor": 0
      },
      "text/plain": [
       "train:   0%|          | 0/5000 [00:00<?, ?it/s]"
      ]
     },
     "metadata": {},
     "output_type": "display_data"
    },
    {
     "name": "stdout",
     "output_type": "stream",
     "text": [
      "Val update: epoch: 0 |accuracy: 0.25 | f1: 0.4000000059604645 | auc: 0.3333333134651184 | treshold: 0.01\n",
      "Test: accuracy: 0.25 | f1: 0.4000000059604645 | auc: 0.3333333134651184 | \n",
      "Val update: epoch: 41 |accuracy: 0.25 | f1: 0.4000000059604645 | auc: 0.6666666269302368 | treshold: 0.01\n",
      "Test: accuracy: 0.25 | f1: 0.4000000059604645 | auc: 0.6666666269302368 | \n",
      "Val update: epoch: 44 |accuracy: 0.25 | f1: 0.4000000059604645 | auc: 1.0 | treshold: 0.01\n",
      "Test: accuracy: 0.25 | f1: 0.4000000059604645 | auc: 1.0 | \n",
      "Val update: epoch: 84 |accuracy: 0.75 | f1: 0.6666666865348816 | auc: 1.0 | treshold: 0.36000000000000004\n",
      "Test: accuracy: 0.75 | f1: 0.6666666865348816 | auc: 1.0 | \n",
      "Val update: epoch: 117 |accuracy: 1.0 | f1: 1.0 | auc: 1.0 | treshold: 0.38\n",
      "Test: accuracy: 1.0 | f1: 1.0 | auc: 1.0 | \n"
     ]
    },
    {
     "data": {
      "text/plain": [
       "(SlatewiseGRU(\n",
       "   (embedding): RecsysEmbedding()\n",
       "   (rnn_layer): GRU(4, 2, batch_first=True)\n",
       "   (out_layer): Linear(in_features=2, out_features=1, bias=True)\n",
       " ),\n",
       " {'f1': 1.0, 'roc-auc': 1.0, 'accuracy': 1.0})"
      ]
     },
     "execution_count": 4,
     "metadata": {},
     "output_type": "execute_result"
    }
   ],
   "source": [
    "d = DummyData()\n",
    "dummy_loader, dummy_matrix = get_dummy_data(d)\n",
    "\n",
    "model = SlatewiseGRU(\n",
    "    RecsysEmbedding(d.n_items, dummy_matrix, embeddings='svd', embedding_dim = 2),\n",
    "    readout=False\n",
    ").to('cpu')\n",
    "\n",
    "train(\n",
    "    model, \n",
    "    dummy_loader, dummy_loader, dummy_loader,\n",
    "    device=device, lr=1e-3, num_epochs=5000, dummy=True,\n",
    "    silent=True,\n",
    ")\n"
   ]
  },
  {
   "cell_type": "markdown",
   "id": "d75e3124",
   "metadata": {},
   "source": [
    "# ContentWise"
   ]
  },
  {
   "cell_type": "code",
   "execution_count": 5,
   "id": "cdd02bb7",
   "metadata": {},
   "outputs": [
    {
     "name": "stdout",
     "output_type": "stream",
     "text": [
      "20216 data points among 108 batches\n"
     ]
    }
   ],
   "source": [
    "content_wise_results = []\n",
    "dataset = ContentWise.load(os.path.join(pkl_path, 'cw.pkl'))\n",
    "(\n",
    "    train_loader, \n",
    "    val_loader, \n",
    "    test_loader, \n",
    "    train_user_item_matrix, \n",
    "    train_num_items \n",
    ") = get_train_val_test_tmatrix_tnumitems(dataset, batch_size=150)\n",
    "\n",
    "print(f\"{len(dataset)} data points among {len(train_loader)} batches\")"
   ]
  },
  {
   "cell_type": "code",
   "execution_count": 6,
   "id": "54fb5b28",
   "metadata": {},
   "outputs": [
    {
     "name": "stdout",
     "output_type": "stream",
     "text": [
      "\n",
      "Evaluating NeuralClickModelDiffSample with svd embeddings\n",
      "Test before learning: {'f1': 0.17426511645317078, 'roc-auc': 0.4757869243621826, 'accuracy': 0.11266712099313736}\n"
     ]
    },
    {
     "data": {
      "application/vnd.jupyter.widget-view+json": {
       "model_id": "e2ba73c69f1443a582cf1ed7a58a19c7",
       "version_major": 2,
       "version_minor": 0
      },
      "text/plain": [
       "train:   0%|          | 0/5000 [00:00<?, ?it/s]"
      ]
     },
     "metadata": {},
     "output_type": "display_data"
    },
    {
     "name": "stdout",
     "output_type": "stream",
     "text": [
      "Val update: epoch: 0 |accuracy: 0.4177514910697937 | f1: 0.20474010705947876 | auc: 0.6037461757659912 | treshold: 0.09\n",
      "Test: accuracy: 0.4186418950557709 | f1: 0.2041238397359848 | auc: 0.6021729111671448 | \n",
      "Val update: epoch: 2 |accuracy: 0.7755369544029236 | f1: 0.2239958792924881 | auc: 0.6198201775550842 | treshold: 0.12\n",
      "Test: accuracy: 0.7755268812179565 | f1: 0.21790620684623718 | auc: 0.6188664436340332 | \n",
      "Val update: epoch: 3 |accuracy: 0.8025559186935425 | f1: 0.2338458001613617 | auc: 0.634839653968811 | treshold: 0.12\n",
      "Test: accuracy: 0.8028401136398315 | f1: 0.23125405609607697 | auc: 0.6313900351524353 | \n",
      "Val update: epoch: 4 |accuracy: 0.8038070797920227 | f1: 0.2359628826379776 | auc: 0.6448588967323303 | treshold: 0.13\n",
      "Test: accuracy: 0.8047133684158325 | f1: 0.23422783613204956 | auc: 0.6403693556785583 | \n",
      "Val update: epoch: 5 |accuracy: 0.8056540489196777 | f1: 0.2453441321849823 | auc: 0.6500104069709778 | treshold: 0.13\n",
      "Test: accuracy: 0.8058916926383972 | f1: 0.24163371324539185 | auc: 0.6453246474266052 | \n",
      "Val update: epoch: 6 |accuracy: 0.7885251045227051 | f1: 0.24575009942054749 | auc: 0.6511467695236206 | treshold: 0.13\n",
      "Test: accuracy: 0.787491500377655 | f1: 0.24456259608268738 | auc: 0.6459516882896423 | \n",
      "Val update: epoch: 7 |accuracy: 0.7248800992965698 | f1: 0.2416553795337677 | auc: 0.6534265279769897 | treshold: 0.13\n",
      "Test: accuracy: 0.7161417007446289 | f1: 0.23748072981834412 | auc: 0.6457403302192688 | \n",
      "Val update: epoch: 8 |accuracy: 0.7492329478263855 | f1: 0.24312174320220947 | auc: 0.6546086072921753 | treshold: 0.12\n",
      "Test: accuracy: 0.7496941089630127 | f1: 0.2429060935974121 | auc: 0.650540828704834 | \n",
      "Val update: epoch: 11 |accuracy: 0.8449015617370605 | f1: 0.25679823756217957 | auc: 0.6579000353813171 | treshold: 0.12\n",
      "Test: accuracy: 0.8418309688568115 | f1: 0.2553342878818512 | auc: 0.6477950811386108 | \n",
      "Val update: epoch: 12 |accuracy: 0.8831660151481628 | f1: 0.22780074179172516 | auc: 0.6592611074447632 | treshold: 0.14\n",
      "Test: accuracy: 0.882347583770752 | f1: 0.22599880397319794 | auc: 0.6511152982711792 | \n",
      "Val update: epoch: 14 |accuracy: 0.8265810608863831 | f1: 0.2538929879665375 | auc: 0.6613336801528931 | treshold: 0.14\n",
      "Test: accuracy: 0.8248961567878723 | f1: 0.2552207112312317 | auc: 0.6573743224143982 | \n",
      "Val update: epoch: 15 |accuracy: 0.6986207365989685 | f1: 0.24494364857673645 | auc: 0.6653754711151123 | treshold: 0.12\n",
      "Test: accuracy: 0.6973336338996887 | f1: 0.24193121492862701 | auc: 0.6602156162261963 | \n",
      "Val update: epoch: 16 |accuracy: 0.8684202432632446 | f1: 0.2613712251186371 | auc: 0.6672757863998413 | treshold: 0.14\n",
      "Test: accuracy: 0.8669536709785461 | f1: 0.2604752779006958 | auc: 0.6618975400924683 | \n",
      "Val update: epoch: 30 |accuracy: 0.8890643119812012 | f1: 0.2502516508102417 | auc: 0.6675682067871094 | treshold: 0.15000000000000002\n",
      "Test: accuracy: 0.8885414600372314 | f1: 0.24591168761253357 | auc: 0.6612359285354614 | \n",
      "Val update: epoch: 33 |accuracy: 0.8671393394470215 | f1: 0.2694512605667114 | auc: 0.6708829402923584 | treshold: 0.15000000000000002\n",
      "Test: accuracy: 0.8660019636154175 | f1: 0.268634557723999 | auc: 0.6649541854858398 | \n",
      "Val update: epoch: 38 |accuracy: 0.8782060742378235 | f1: 0.27218514680862427 | auc: 0.6738462448120117 | treshold: 0.16\n",
      "Test: accuracy: 0.8757761120796204 | f1: 0.27454787492752075 | auc: 0.6643280982971191 | \n",
      "Val update: epoch: 43 |accuracy: 0.8828979134559631 | f1: 0.27014482021331787 | auc: 0.6754717826843262 | treshold: 0.15000000000000002\n",
      "Test: accuracy: 0.8816224932670593 | f1: 0.2684839367866516 | auc: 0.6695616245269775 | \n",
      "Val update: epoch: 46 |accuracy: 0.890017569065094 | f1: 0.25922954082489014 | auc: 0.6777468323707581 | treshold: 0.17\n",
      "Test: accuracy: 0.8898255228996277 | f1: 0.25740760564804077 | auc: 0.6717606782913208 | \n",
      "\n",
      "Evaluating NeuralClickModelDiffSample with neural embeddings\n",
      "Test before learning: {'f1': 0.16232433915138245, 'roc-auc': 0.47906073927879333, 'accuracy': 0.33360525965690613}\n"
     ]
    },
    {
     "data": {
      "application/vnd.jupyter.widget-view+json": {
       "model_id": "f467f44dcb6b44aeaeb6bd2e937fcaa2",
       "version_major": 2,
       "version_minor": 0
      },
      "text/plain": [
       "train:   0%|          | 0/5000 [00:00<?, ?it/s]"
      ]
     },
     "metadata": {},
     "output_type": "display_data"
    },
    {
     "name": "stdout",
     "output_type": "stream",
     "text": [
      "Val update: epoch: 0 |accuracy: 0.29635974764823914 | f1: 0.19517181813716888 | auc: 0.611788809299469 | treshold: 0.11\n",
      "Test: accuracy: 0.30129164457321167 | f1: 0.19452813267707825 | auc: 0.6132309436798096 | \n",
      "Val update: epoch: 1 |accuracy: 0.7892847657203674 | f1: 0.24205732345581055 | auc: 0.6545871496200562 | treshold: 0.14\n",
      "Test: accuracy: 0.7893194556236267 | f1: 0.23966851830482483 | auc: 0.6565821170806885 | \n",
      "Val update: epoch: 2 |accuracy: 0.8549703359603882 | f1: 0.2453693002462387 | auc: 0.6861916184425354 | treshold: 0.14\n",
      "Test: accuracy: 0.8545660376548767 | f1: 0.24405182898044586 | auc: 0.6843408346176147 | \n",
      "Val update: epoch: 3 |accuracy: 0.8784592747688293 | f1: 0.2459804117679596 | auc: 0.7051868438720703 | treshold: 0.15000000000000002\n",
      "Test: accuracy: 0.8789334297180176 | f1: 0.246662899851799 | auc: 0.7059399485588074 | \n",
      "Val update: epoch: 4 |accuracy: 0.8829277157783508 | f1: 0.2607223391532898 | auc: 0.7141774892807007 | treshold: 0.16\n",
      "Test: accuracy: 0.8839640617370605 | f1: 0.2590913474559784 | auc: 0.7170026302337646 | \n",
      "Val update: epoch: 5 |accuracy: 0.8757633566856384 | f1: 0.2867892384529114 | auc: 0.7168729305267334 | treshold: 0.18000000000000002\n",
      "Test: accuracy: 0.8745222687721252 | f1: 0.2835949659347534 | auc: 0.7199927568435669 | \n",
      "Val update: epoch: 6 |accuracy: 0.867452085018158 | f1: 0.2993465065956116 | auc: 0.7220472693443298 | treshold: 0.17\n",
      "Test: accuracy: 0.8650804162025452 | f1: 0.28864994645118713 | auc: 0.721616268157959 | \n",
      "Val update: epoch: 9 |accuracy: 0.8899877667427063 | f1: 0.2726019322872162 | auc: 0.7276372909545898 | treshold: 0.21000000000000002\n",
      "Test: accuracy: 0.8913815021514893 | f1: 0.2832934558391571 | auc: 0.7295330166816711 | \n"
     ]
    }
   ],
   "source": [
    "for embeddings in ['svd', 'neural']:\n",
    "    print(f\"\\nEvaluating {experiment_name} with {embeddings} embeddings\")\n",
    "    model = SlatewiseGRU(\n",
    "        RecsysEmbedding(train_num_items, train_user_item_matrix, embeddings=embeddings).to('cpu'),\n",
    "    ).to(device)\n",
    "\n",
    "    _, metrics = train(\n",
    "        model, \n",
    "        train_loader, val_loader, test_loader, \n",
    "        device=device, lr=1e-3, num_epochs=5000, early_stopping=7,\n",
    "       silent=True, \n",
    "    )\n",
    "    \n",
    "    metrics['embeddings'] = embeddings\n",
    "    content_wise_results.append(metrics)"
   ]
  },
  {
   "cell_type": "code",
   "execution_count": 7,
   "id": "dbbe3795-c4a1-46a1-9096-06f0ef40c314",
   "metadata": {},
   "outputs": [],
   "source": [
    "pd.DataFrame(content_wise_results).to_csv(f'results/cw_{experiment_name}.csv')\n",
    "del dataset, train_loader, val_loader, test_loader, train_user_item_matrix, train_num_items"
   ]
  },
  {
   "cell_type": "markdown",
   "id": "75c75010",
   "metadata": {},
   "source": [
    "# RL4RS"
   ]
  },
  {
   "cell_type": "code",
   "execution_count": 8,
   "id": "e63efbd3",
   "metadata": {},
   "outputs": [
    {
     "name": "stdout",
     "output_type": "stream",
     "text": [
      "45942 data points among 106 batches\n"
     ]
    }
   ],
   "source": [
    "rl4rs_results = []\n",
    "dataset = RL4RS.load(os.path.join(pkl_path, 'rl4rs.pkl'))\n",
    "(\n",
    "    train_loader, \n",
    "    val_loader, \n",
    "    test_loader, \n",
    "    train_user_item_matrix, \n",
    "    train_num_items \n",
    ") = get_train_val_test_tmatrix_tnumitems(dataset, batch_size=350)\n",
    "\n",
    "print(f\"{len(dataset)} data points among {len(train_loader)} batches\")"
   ]
  },
  {
   "cell_type": "code",
   "execution_count": 9,
   "id": "44ccc886",
   "metadata": {},
   "outputs": [
    {
     "name": "stdout",
     "output_type": "stream",
     "text": [
      "\n",
      "Evaluating NeuralClickModelDiffSample with explicit embeddings\n",
      "Test before learning: {'f1': 0.37980231642723083, 'roc-auc': 0.42735081911087036, 'accuracy': 0.3976786434650421}\n"
     ]
    },
    {
     "data": {
      "application/vnd.jupyter.widget-view+json": {
       "model_id": "9e12c68952c54066bd0e77c09a628318",
       "version_major": 2,
       "version_minor": 0
      },
      "text/plain": [
       "train:   0%|          | 0/5000 [00:00<?, ?it/s]"
      ]
     },
     "metadata": {},
     "output_type": "display_data"
    },
    {
     "name": "stdout",
     "output_type": "stream",
     "text": [
      "Val update: epoch: 0 |accuracy: 0.7717554569244385 | f1: 0.8202852606773376 | auc: 0.8371963500976562 | treshold: 0.43\n",
      "Test: accuracy: 0.773280143737793 | f1: 0.8214435577392578 | auc: 0.8381221294403076 | \n",
      "Val update: epoch: 1 |accuracy: 0.7920717597007751 | f1: 0.8535808324813843 | auc: 0.8681284189224243 | treshold: 0.37\n",
      "Test: accuracy: 0.7912707328796387 | f1: 0.8526962399482727 | auc: 0.8670390248298645 | \n",
      "Val update: epoch: 2 |accuracy: 0.7967880964279175 | f1: 0.8574289083480835 | auc: 0.8883963823318481 | treshold: 0.36000000000000004\n",
      "Test: accuracy: 0.7965179681777954 | f1: 0.8569437265396118 | auc: 0.8881847858428955 | \n",
      "Val update: epoch: 3 |accuracy: 0.8254728317260742 | f1: 0.8622006773948669 | auc: 0.8992475271224976 | treshold: 0.41000000000000003\n",
      "Test: accuracy: 0.8270100355148315 | f1: 0.8632749915122986 | auc: 0.8994544744491577 | \n",
      "Val update: epoch: 5 |accuracy: 0.8422580361366272 | f1: 0.8798717856407166 | auc: 0.9118956923484802 | treshold: 0.37\n",
      "Test: accuracy: 0.8426308631896973 | f1: 0.8801385164260864 | auc: 0.9120296835899353 | \n",
      "Val update: epoch: 8 |accuracy: 0.8363324403762817 | f1: 0.8681539297103882 | auc: 0.9132731556892395 | treshold: 0.38\n",
      "Test: accuracy: 0.839874267578125 | f1: 0.8710268139839172 | auc: 0.9137048721313477 | \n",
      "Val update: epoch: 11 |accuracy: 0.845716655254364 | f1: 0.8802852630615234 | auc: 0.9154139161109924 | treshold: 0.34\n",
      "Test: accuracy: 0.84785395860672 | f1: 0.8818536996841431 | auc: 0.9157841205596924 | \n",
      "\n",
      "Evaluating NeuralClickModelDiffSample with neural embeddings\n",
      "Test before learning: {'f1': 0.6077771782875061, 'roc-auc': 0.5368686318397522, 'accuracy': 0.5348809361457825}\n"
     ]
    },
    {
     "data": {
      "application/vnd.jupyter.widget-view+json": {
       "model_id": "7efcc3041f9c45ec8de5335f85cd77b9",
       "version_major": 2,
       "version_minor": 0
      },
      "text/plain": [
       "train:   0%|          | 0/5000 [00:00<?, ?it/s]"
      ]
     },
     "metadata": {},
     "output_type": "display_data"
    },
    {
     "name": "stdout",
     "output_type": "stream",
     "text": [
      "Val update: epoch: 0 |accuracy: 0.7641609907150269 | f1: 0.8134172558784485 | auc: 0.8337212800979614 | treshold: 0.4\n",
      "Test: accuracy: 0.7661951184272766 | f1: 0.8146316409111023 | auc: 0.8369123339653015 | \n",
      "Val update: epoch: 1 |accuracy: 0.8060029745101929 | f1: 0.8488457798957825 | auc: 0.8800385594367981 | treshold: 0.39\n",
      "Test: accuracy: 0.8103010654449463 | f1: 0.8518441319465637 | auc: 0.8818862438201904 | \n",
      "Val update: epoch: 2 |accuracy: 0.8223528265953064 | f1: 0.8693455457687378 | auc: 0.9029510021209717 | treshold: 0.37\n",
      "Test: accuracy: 0.8232136368751526 | f1: 0.8698716759681702 | auc: 0.9033089280128479 | \n",
      "Val update: epoch: 4 |accuracy: 0.8277705311775208 | f1: 0.8626111745834351 | auc: 0.9041354656219482 | treshold: 0.43\n",
      "Test: accuracy: 0.8303953409194946 | f1: 0.865027129650116 | auc: 0.9043761491775513 | \n",
      "Val update: epoch: 5 |accuracy: 0.8415808081626892 | f1: 0.8788158893585205 | auc: 0.9145747423171997 | treshold: 0.36000000000000004\n",
      "Test: accuracy: 0.8424132466316223 | f1: 0.8793840408325195 | auc: 0.914000391960144 | \n",
      "Val update: epoch: 9 |accuracy: 0.8453538417816162 | f1: 0.8777157068252563 | auc: 0.9170951843261719 | treshold: 0.36000000000000004\n",
      "Test: accuracy: 0.844855546951294 | f1: 0.8773934841156006 | auc: 0.9155162572860718 | \n",
      "Val update: epoch: 10 |accuracy: 0.8479901552200317 | f1: 0.8812605142593384 | auc: 0.9178137183189392 | treshold: 0.38\n",
      "Test: accuracy: 0.8479990363121033 | f1: 0.8813828229904175 | auc: 0.9162381887435913 | \n",
      "Val update: epoch: 11 |accuracy: 0.8479175567626953 | f1: 0.8840023875236511 | auc: 0.9189368486404419 | treshold: 0.38\n",
      "Test: accuracy: 0.8468141555786133 | f1: 0.8830555081367493 | auc: 0.9167921543121338 | \n",
      "Val update: epoch: 20 |accuracy: 0.850529670715332 | f1: 0.8857333064079285 | auc: 0.920099675655365 | treshold: 0.33\n",
      "Test: accuracy: 0.8478297591209412 | f1: 0.8836547136306763 | auc: 0.9185827970504761 | \n"
     ]
    },
    {
     "name": "stderr",
     "output_type": "stream",
     "text": [
      "/opt/conda/envs/myenv/lib/python3.10/site-packages/torchmetrics/utilities/prints.py:43: UserWarning: No negative samples in targets, false positive value should be meaningless. Returning zero tensor in false positive score\n",
      "  warnings.warn(*args, **kwargs)  # noqa: B028\n"
     ]
    },
    {
     "name": "stdout",
     "output_type": "stream",
     "text": [
      "\n",
      "Evaluating NeuralClickModelDiffSample with svd embeddings\n",
      "Test before learning: {'f1': 0.6839137077331543, 'roc-auc': 0.43305230140686035, 'accuracy': 0.5364526510238647}\n"
     ]
    },
    {
     "data": {
      "application/vnd.jupyter.widget-view+json": {
       "model_id": "2068f20add5b413dbc6adb7ae50da309",
       "version_major": 2,
       "version_minor": 0
      },
      "text/plain": [
       "train:   0%|          | 0/5000 [00:00<?, ?it/s]"
      ]
     },
     "metadata": {},
     "output_type": "display_data"
    },
    {
     "name": "stdout",
     "output_type": "stream",
     "text": [
      "Val update: epoch: 0 |accuracy: 0.7100808024406433 | f1: 0.8049276471138 | auc: 0.7366717457771301 | treshold: 0.22\n",
      "Test: accuracy: 0.7096360921859741 | f1: 0.8042450547218323 | auc: 0.7383829951286316 | \n",
      "Val update: epoch: 1 |accuracy: 0.7064528465270996 | f1: 0.8111531138420105 | auc: 0.7686601877212524 | treshold: 0.31\n",
      "Test: accuracy: 0.7047757506370544 | f1: 0.8098078966140747 | auc: 0.7712188363075256 | \n",
      "Val update: epoch: 2 |accuracy: 0.7042277455329895 | f1: 0.8114641904830933 | auc: 0.7883633375167847 | treshold: 0.36000000000000004\n",
      "Test: accuracy: 0.7022609114646912 | f1: 0.8098701238632202 | auc: 0.790867805480957 | \n",
      "Val update: epoch: 3 |accuracy: 0.7081700563430786 | f1: 0.8136410117149353 | auc: 0.7976177334785461 | treshold: 0.4\n",
      "Test: accuracy: 0.7073147296905518 | f1: 0.8125735521316528 | auc: 0.8012973666191101 | \n",
      "Val update: epoch: 4 |accuracy: 0.7656121253967285 | f1: 0.8246004581451416 | auc: 0.8103487491607666 | treshold: 0.38\n",
      "Test: accuracy: 0.7687099575996399 | f1: 0.8265796303749084 | auc: 0.8134472370147705 | \n",
      "Val update: epoch: 5 |accuracy: 0.7301310896873474 | f1: 0.8229675889015198 | auc: 0.8116938471794128 | treshold: 0.4\n",
      "Test: accuracy: 0.7288840413093567 | f1: 0.8219413161277771 | auc: 0.8171835541725159 | \n",
      "Val update: epoch: 6 |accuracy: 0.760557234287262 | f1: 0.8352087140083313 | auc: 0.8286048173904419 | treshold: 0.39\n",
      "Test: accuracy: 0.7609720826148987 | f1: 0.8353515267372131 | auc: 0.832955002784729 | \n",
      "Val update: epoch: 7 |accuracy: 0.7784791588783264 | f1: 0.8369094729423523 | auc: 0.8351283669471741 | treshold: 0.4\n",
      "Test: accuracy: 0.7807278633117676 | f1: 0.8384925127029419 | auc: 0.8394842147827148 | \n",
      "Val update: epoch: 8 |accuracy: 0.7780196666717529 | f1: 0.829278290271759 | auc: 0.8396783471107483 | treshold: 0.42000000000000004\n",
      "Test: accuracy: 0.7809938192367554 | f1: 0.8315509557723999 | auc: 0.8431116342544556 | \n",
      "Val update: epoch: 9 |accuracy: 0.7817927002906799 | f1: 0.8330125212669373 | auc: 0.8449926376342773 | treshold: 0.41000000000000003\n",
      "Test: accuracy: 0.7856607437133789 | f1: 0.8358944058418274 | auc: 0.8487541079521179 | \n",
      "Val update: epoch: 10 |accuracy: 0.7859768867492676 | f1: 0.8405097126960754 | auc: 0.8510123491287231 | treshold: 0.43\n",
      "Test: accuracy: 0.7886108160018921 | f1: 0.8423842787742615 | auc: 0.8548619747161865 | \n",
      "Val update: epoch: 11 |accuracy: 0.7883471250534058 | f1: 0.8454296588897705 | auc: 0.8558450937271118 | treshold: 0.43\n",
      "Test: accuracy: 0.7904727458953857 | f1: 0.8470081686973572 | auc: 0.8594485521316528 | \n",
      "Val update: epoch: 12 |accuracy: 0.7920717597007751 | f1: 0.8364251852035522 | auc: 0.8573899865150452 | treshold: 0.43\n",
      "Test: accuracy: 0.7940273284912109 | f1: 0.8377029299736023 | auc: 0.8602529764175415 | \n",
      "Val update: epoch: 13 |accuracy: 0.7957480549812317 | f1: 0.8405550718307495 | auc: 0.8617101907730103 | treshold: 0.42000000000000004\n",
      "Test: accuracy: 0.7969532012939453 | f1: 0.8411253690719604 | auc: 0.8642645478248596 | \n",
      "Val update: epoch: 14 |accuracy: 0.8012141585350037 | f1: 0.8448337912559509 | auc: 0.8658363819122314 | treshold: 0.43\n",
      "Test: accuracy: 0.8001450896263123 | f1: 0.8436406254768372 | auc: 0.8683755397796631 | \n",
      "Val update: epoch: 15 |accuracy: 0.7963769435882568 | f1: 0.8375306129455566 | auc: 0.8673387169837952 | treshold: 0.44\n",
      "Test: accuracy: 0.7977269887924194 | f1: 0.8382167816162109 | auc: 0.8692346811294556 | \n",
      "Val update: epoch: 16 |accuracy: 0.7963769435882568 | f1: 0.8369706273078918 | auc: 0.8685262203216553 | treshold: 0.43\n",
      "Test: accuracy: 0.7977027893066406 | f1: 0.8377864956855774 | auc: 0.8705605268478394 | \n",
      "Val update: epoch: 17 |accuracy: 0.7964494824409485 | f1: 0.8364809155464172 | auc: 0.8702976703643799 | treshold: 0.43\n",
      "Test: accuracy: 0.7984524369239807 | f1: 0.8377047181129456 | auc: 0.8723913431167603 | \n",
      "Val update: epoch: 18 |accuracy: 0.7974652647972107 | f1: 0.8370310068130493 | auc: 0.872351884841919 | treshold: 0.43\n",
      "Test: accuracy: 0.7991778254508972 | f1: 0.8379796743392944 | auc: 0.874303936958313 | \n",
      "Val update: epoch: 19 |accuracy: 0.8069462776184082 | f1: 0.8482105731964111 | auc: 0.8760255575180054 | treshold: 0.42000000000000004\n",
      "Test: accuracy: 0.8084633350372314 | f1: 0.8490173816680908 | auc: 0.8780995607376099 | \n",
      "Val update: epoch: 20 |accuracy: 0.7971750497817993 | f1: 0.8556775450706482 | auc: 0.8786970376968384 | treshold: 0.41000000000000003\n",
      "Test: accuracy: 0.8007254004478455 | f1: 0.8581070899963379 | auc: 0.8804030418395996 | \n",
      "Val update: epoch: 21 |accuracy: 0.8155081272125244 | f1: 0.8629290461540222 | auc: 0.881338894367218 | treshold: 0.4\n",
      "Test: accuracy: 0.816346287727356 | f1: 0.8634017109870911 | auc: 0.8833158612251282 | \n",
      "Val update: epoch: 23 |accuracy: 0.814202070236206 | f1: 0.8640209436416626 | auc: 0.884544312953949 | treshold: 0.38\n",
      "Test: accuracy: 0.8156450390815735 | f1: 0.8649471998214722 | auc: 0.8862887620925903 | \n",
      "Val update: epoch: 26 |accuracy: 0.8197165131568909 | f1: 0.8595810532569885 | auc: 0.8858267068862915 | treshold: 0.38\n",
      "Test: accuracy: 0.8191754221916199 | f1: 0.858879029750824 | auc: 0.8871045708656311 | \n",
      "Val update: epoch: 28 |accuracy: 0.8125574588775635 | f1: 0.8651095032691956 | auc: 0.8886168003082275 | treshold: 0.38\n",
      "Test: accuracy: 0.8128400444984436 | f1: 0.8652037382125854 | auc: 0.8903183937072754 | \n",
      "Val update: epoch: 30 |accuracy: 0.8154839873313904 | f1: 0.8516364693641663 | auc: 0.8886814117431641 | treshold: 0.42000000000000004\n",
      "Test: accuracy: 0.816757321357727 | f1: 0.8524072766304016 | auc: 0.889472246170044 | \n",
      "Val update: epoch: 31 |accuracy: 0.8276253938674927 | f1: 0.8664730787277222 | auc: 0.8930192589759827 | treshold: 0.41000000000000003\n",
      "Test: accuracy: 0.8277596235275269 | f1: 0.8665130138397217 | auc: 0.8940950632095337 | \n",
      "Val update: epoch: 33 |accuracy: 0.8278672695159912 | f1: 0.8657802939414978 | auc: 0.894251823425293 | treshold: 0.39\n",
      "Test: accuracy: 0.8278563618659973 | f1: 0.8655803203582764 | auc: 0.8952974677085876 | \n",
      "Val update: epoch: 37 |accuracy: 0.8322933316230774 | f1: 0.8718394041061401 | auc: 0.897681713104248 | treshold: 0.37\n",
      "Test: accuracy: 0.8329827189445496 | f1: 0.8721091747283936 | auc: 0.8987501263618469 | \n",
      "Val update: epoch: 40 |accuracy: 0.8317370414733887 | f1: 0.8690249919891357 | auc: 0.8980300426483154 | treshold: 0.37\n",
      "Test: accuracy: 0.8329343199729919 | f1: 0.8698208332061768 | auc: 0.8991734981536865 | \n",
      "Val update: epoch: 43 |accuracy: 0.8324626088142395 | f1: 0.8689284324645996 | auc: 0.8992825746536255 | treshold: 0.37\n",
      "Test: accuracy: 0.83307945728302 | f1: 0.8691051602363586 | auc: 0.9005594253540039 | \n",
      "Val update: epoch: 47 |accuracy: 0.8328254222869873 | f1: 0.8686281442642212 | auc: 0.9011875987052917 | treshold: 0.39\n",
      "Test: accuracy: 0.8341434001922607 | f1: 0.8693498969078064 | auc: 0.9021480083465576 | \n",
      "Val update: epoch: 49 |accuracy: 0.8364533185958862 | f1: 0.8741063475608826 | auc: 0.9017800092697144 | treshold: 0.38\n",
      "Test: accuracy: 0.8357151746749878 | f1: 0.8733454942703247 | auc: 0.9022284150123596 | \n",
      "Val update: epoch: 52 |accuracy: 0.8337686657905579 | f1: 0.8691579699516296 | auc: 0.9021742343902588 | treshold: 0.39\n",
      "Test: accuracy: 0.8337807059288025 | f1: 0.8688718676567078 | auc: 0.9031082391738892 | \n",
      "Val update: epoch: 61 |accuracy: 0.8395975232124329 | f1: 0.8749952912330627 | auc: 0.9054198861122131 | treshold: 0.42000000000000004\n",
      "Test: accuracy: 0.8395841121673584 | f1: 0.8748868703842163 | auc: 0.9057414531707764 | \n",
      "Val update: epoch: 78 |accuracy: 0.8335993885993958 | f1: 0.8653462529182434 | auc: 0.9056658744812012 | treshold: 0.37\n",
      "Test: accuracy: 0.832499086856842 | f1: 0.864359974861145 | auc: 0.9062240123748779 | \n",
      "Val update: epoch: 81 |accuracy: 0.8351231217384338 | f1: 0.867700457572937 | auc: 0.9059300422668457 | treshold: 0.37\n",
      "Test: accuracy: 0.8346028327941895 | f1: 0.8670192360877991 | auc: 0.9070096015930176 | \n",
      "Val update: epoch: 83 |accuracy: 0.840250551700592 | f1: 0.8743556141853333 | auc: 0.9064010381698608 | treshold: 0.37\n",
      "Test: accuracy: 0.8390037417411804 | f1: 0.8732726573944092 | auc: 0.9068053960800171 | \n",
      "Val update: epoch: 84 |accuracy: 0.8358486890792847 | f1: 0.8678260445594788 | auc: 0.9065454006195068 | treshold: 0.4\n",
      "Test: accuracy: 0.8341192007064819 | f1: 0.8662455081939697 | auc: 0.9068970680236816 | \n",
      "Val update: epoch: 90 |accuracy: 0.8418710231781006 | f1: 0.8763101100921631 | auc: 0.9070045948028564 | treshold: 0.37\n",
      "Test: accuracy: 0.8402611613273621 | f1: 0.8749952912330627 | auc: 0.9080685377120972 | \n",
      "Val update: epoch: 91 |accuracy: 0.8406133651733398 | f1: 0.873851478099823 | auc: 0.907065212726593 | treshold: 0.39\n",
      "Test: accuracy: 0.8396082520484924 | f1: 0.8729772567749023 | auc: 0.9076105356216431 | \n",
      "Val update: epoch: 98 |accuracy: 0.8373240232467651 | f1: 0.8692508339881897 | auc: 0.9072568416595459 | treshold: 0.35000000000000003\n",
      "Test: accuracy: 0.8352557420730591 | f1: 0.8675724267959595 | auc: 0.908454179763794 | \n"
     ]
    }
   ],
   "source": [
    "for embeddings in ['explicit', 'neural', 'svd',  ]:\n",
    "    print(f\"\\nEvaluating {experiment_name} with {embeddings} embeddings\")\n",
    "\n",
    "    model = SlatewiseGRU(\n",
    "        RecsysEmbedding(\n",
    "            train_num_items, \n",
    "            train_user_item_matrix, \n",
    "            embeddings=embeddings,\n",
    "            embedding_dim=40\n",
    "        ),\n",
    "    ).to(device)\n",
    "\n",
    "    best_model, metrics = train(\n",
    "        model, \n",
    "        train_loader, val_loader, test_loader, \n",
    "        device=device, lr=1e-3, num_epochs=5000, early_stopping=7,\n",
    "        silent=True\n",
    "    )\n",
    "    \n",
    "    metrics['embeddings'] = embeddings\n",
    "    rl4rs_results.append(metrics)"
   ]
  },
  {
   "cell_type": "code",
   "execution_count": 10,
   "id": "14b3763b-7bb9-4a41-94af-c0b1b7b2db3b",
   "metadata": {},
   "outputs": [],
   "source": [
    "pd.DataFrame(rl4rs_results).to_csv(f'results/rl4rs_{experiment_name}.csv')\n",
    "del dataset, train_loader, val_loader, test_loader, train_user_item_matrix, train_num_items"
   ]
  },
  {
   "cell_type": "code",
   "execution_count": 11,
   "id": "5734cd9c-c5e5-4699-a62c-217607a9f32c",
   "metadata": {},
   "outputs": [
    {
     "data": {
      "text/plain": [
       "[{'f1': 0.8818536996841431,\n",
       "  'roc-auc': 0.9157841205596924,\n",
       "  'accuracy': 0.84785395860672,\n",
       "  'embeddings': 'explicit'},\n",
       " {'f1': 0.8836547136306763,\n",
       "  'roc-auc': 0.9185827970504761,\n",
       "  'accuracy': 0.8478297591209412,\n",
       "  'embeddings': 'neural'},\n",
       " {'f1': 0.8675724267959595,\n",
       "  'roc-auc': 0.908454179763794,\n",
       "  'accuracy': 0.8352557420730591,\n",
       "  'embeddings': 'svd'}]"
      ]
     },
     "execution_count": 11,
     "metadata": {},
     "output_type": "execute_result"
    }
   ],
   "source": [
    "rl4rs_results"
   ]
  }
 ],
 "metadata": {
  "kernelspec": {
   "display_name": "Python 3 (ipykernel)",
   "language": "python",
   "name": "python3"
  },
  "language_info": {
   "codemirror_mode": {
    "name": "ipython",
    "version": 3
   },
   "file_extension": ".py",
   "mimetype": "text/x-python",
   "name": "python",
   "nbconvert_exporter": "python",
   "pygments_lexer": "ipython3",
   "version": "3.10.13"
  }
 },
 "nbformat": 4,
 "nbformat_minor": 5
}
