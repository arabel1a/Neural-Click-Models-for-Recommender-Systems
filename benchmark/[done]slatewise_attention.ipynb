{
 "cells": [
  {
   "cell_type": "code",
   "execution_count": 1,
   "id": "4945fa9f",
   "metadata": {},
   "outputs": [
    {
     "data": {
      "text/plain": [
       "<torch._C.Generator at 0x7f6bed8b6a50>"
      ]
     },
     "execution_count": 1,
     "metadata": {},
     "output_type": "execute_result"
    }
   ],
   "source": [
    "import os\n",
    "import torch\n",
    "import random\n",
    "import datetime\n",
    "import pandas as pd\n",
    "import numpy as np\n",
    "\n",
    "from torch.utils.data import Dataset\n",
    "from src.datasets import RL4RS, ContentWise, DummyData, OpenCDP\n",
    "from src.utils import train, get_dummy_data, get_train_val_test_tmatrix_tnumitems, get_svd_encoder\n",
    "from src.embeddings import RecsysEmbedding\n",
    "\n",
    "experiment_name = 'SlatewiseAttentionAnorherSeed'\n",
    "device = 'cuda:0'\n",
    "seed = 1234\n",
    "pkl_path = '../pkl/'\n",
    "\n",
    "random.seed(seed)\n",
    "np.random.seed(seed)\n",
    "torch.manual_seed(seed)"
   ]
  },
  {
   "cell_type": "code",
   "execution_count": 2,
   "id": "524f1440",
   "metadata": {},
   "outputs": [
    {
     "data": {
      "text/plain": [
       "'1.12.1'"
      ]
     },
     "execution_count": 2,
     "metadata": {},
     "output_type": "execute_result"
    }
   ],
   "source": [
    "torch.__version__"
   ]
  },
  {
   "cell_type": "markdown",
   "id": "20c87c94",
   "metadata": {},
   "source": [
    "# Модель"
   ]
  },
  {
   "cell_type": "code",
   "execution_count": 3,
   "id": "f7e63c6a",
   "metadata": {},
   "outputs": [],
   "source": [
    "import torch.nn.functional as F\n",
    "torch.autograd.set_detect_anomaly(True)\n",
    "\n",
    "class SlatewiseAttention(torch.nn.Module):\n",
    "    \"\"\"\n",
    "    No recurrent dependency, just slate-wise attention.\n",
    "    \"\"\"\n",
    "    def __init__(self, embedding, nheads=2, output_dim=1):\n",
    "        super().__init__()\n",
    "        self.embedding_dim = embedding.embedding_dim\n",
    "        self.embedding = embedding\n",
    "        self.attention= torch.nn.MultiheadAttention(\n",
    "            2 * embedding.embedding_dim,\n",
    "            num_heads=nheads,\n",
    "            batch_first=True\n",
    "        )\n",
    "        \n",
    "        self.out_layer = torch.nn.Linear(2 * embedding.embedding_dim, output_dim)\n",
    "\n",
    "    def forward(self, batch):\n",
    "        item_embs, user_embs = self.embedding(batch)\n",
    "        shp = item_embs.shape\n",
    "        \n",
    "        # let model attent to first padd token if slate is empty to avoid NaN gradients\n",
    "        # (anyway they does not contrinute into metrics computation)\n",
    "        key_padding_mask = batch['slates_mask'].clone()\n",
    "        key_padding_mask[:,:, 0] = True \n",
    "        \n",
    "        # repeating user embedding for each item embeding\n",
    "        features = torch.cat(\n",
    "            [\n",
    "                item_embs,\n",
    "                user_embs[:, :, None, :].repeat(1, 1, shp[-2], 1).reshape(shp)\n",
    "            ],\n",
    "            dim = -1\n",
    "        )\n",
    "        \n",
    "        # all recomendations in session are scored independently\n",
    "        features = features.flatten(0,1)\n",
    "        \n",
    "        features, attn_map = self.attention(\n",
    "            features, features, features,\n",
    "            key_padding_mask=~key_padding_mask.flatten(0, 1)\n",
    "        )\n",
    "        \n",
    "        # transforming back to sequence shape\n",
    "        shp = list(shp)\n",
    "        shp[-1] *= 2\n",
    "        return self.out_layer(features.reshape(shp)).squeeze(-1)"
   ]
  },
  {
   "cell_type": "markdown",
   "id": "4fecc3ce",
   "metadata": {},
   "source": [
    "# Игрушечный датасет: проверим, что сходится к идеальным метрикам"
   ]
  },
  {
   "cell_type": "code",
   "execution_count": 4,
   "id": "5d7b6f2b",
   "metadata": {},
   "outputs": [
    {
     "name": "stdout",
     "output_type": "stream",
     "text": [
      "biulding affinity matrix...\n"
     ]
    },
    {
     "name": "stderr",
     "output_type": "stream",
     "text": [
      "3it [00:00, 3839.77it/s]\n"
     ]
    },
    {
     "name": "stdout",
     "output_type": "stream",
     "text": [
      "Test before learning: {'f1': 0.0, 'roc-auc': 0.3333333134651184, 'accuracy': 0.75}\n"
     ]
    },
    {
     "data": {
      "application/vnd.jupyter.widget-view+json": {
       "model_id": "02e491a5e416463aa436c50eabfd44b8",
       "version_major": 2,
       "version_minor": 0
      },
      "text/plain": [
       "train:   0%|          | 0/5000 [00:00<?, ?it/s]"
      ]
     },
     "metadata": {},
     "output_type": "display_data"
    },
    {
     "name": "stdout",
     "output_type": "stream",
     "text": [
      "Val update: epoch: 0 |accuracy: 0.25 | f1: 0.4000000059604645 | auc: 1.0 | treshold: 0.01\n",
      "Test: accuracy: 0.25 | f1: 0.4000000059604645 | auc: 1.0 | \n",
      "Val update: epoch: 1 |accuracy: 0.75 | f1: 0.6666666865348816 | auc: 1.0 | treshold: 0.47000000000000003\n",
      "Test: accuracy: 0.75 | f1: 0.6666666865348816 | auc: 1.0 | \n",
      "Val update: epoch: 6 |accuracy: 1.0 | f1: 1.0 | auc: 1.0 | treshold: 0.55\n",
      "Test: accuracy: 1.0 | f1: 1.0 | auc: 1.0 | \n"
     ]
    },
    {
     "data": {
      "text/plain": [
       "(SlatewiseAttention(\n",
       "   (embedding): RecsysEmbedding(\n",
       "     (item_embeddings): Embedding(5, 32)\n",
       "   )\n",
       "   (attention): MultiheadAttention(\n",
       "     (out_proj): NonDynamicallyQuantizableLinear(in_features=64, out_features=64, bias=True)\n",
       "   )\n",
       "   (out_layer): Linear(in_features=64, out_features=1, bias=True)\n",
       " ),\n",
       " {'f1': 1.0, 'roc-auc': 1.0, 'accuracy': 1.0})"
      ]
     },
     "execution_count": 4,
     "metadata": {},
     "output_type": "execute_result"
    }
   ],
   "source": [
    "d = DummyData()\n",
    "dummy_loader, dummy_matrix = get_dummy_data(d)\n",
    "\n",
    "model = SlatewiseAttention(\n",
    "    RecsysEmbedding(d.n_items, dummy_matrix, embeddings='neural').to('cpu'),\n",
    "    output_dim=1\n",
    ").to('cpu')\n",
    "\n",
    "train(\n",
    "    model, \n",
    "    dummy_loader, dummy_loader, dummy_loader,\n",
    "    device=device, lr=1e-3, num_epochs=5000, dummy=True,\n",
    "    silent=True,\n",
    ")\n"
   ]
  },
  {
   "cell_type": "markdown",
   "id": "83a07300",
   "metadata": {},
   "source": [
    "# ContentWise"
   ]
  },
  {
   "cell_type": "code",
   "execution_count": 5,
   "id": "a85c6e1d",
   "metadata": {},
   "outputs": [
    {
     "name": "stdout",
     "output_type": "stream",
     "text": [
      "20216 data points among 108 batches\n"
     ]
    }
   ],
   "source": [
    "content_wise_results = []\n",
    "dataset = ContentWise.load(os.path.join(pkl_path, 'cw.pkl'))\n",
    "(\n",
    "    train_loader, \n",
    "    val_loader, \n",
    "    test_loader, \n",
    "    train_user_item_matrix, \n",
    "    train_num_items \n",
    ") = get_train_val_test_tmatrix_tnumitems(dataset, batch_size=150)\n",
    "\n",
    "print(f\"{len(dataset)} data points among {len(train_loader)} batches\")"
   ]
  },
  {
   "cell_type": "code",
   "execution_count": 6,
   "id": "a2f92842-6ea6-4275-ae6f-4ef429d9450e",
   "metadata": {},
   "outputs": [
    {
     "name": "stdout",
     "output_type": "stream",
     "text": [
      "\n",
      "Evaluating SlatewiseAttentionAnorherSeed with svd embeddings\n",
      "Test before learning: {'f1': 0.16563288867473602, 'roc-auc': 0.5132296085357666, 'accuracy': 0.6031929850578308}\n"
     ]
    },
    {
     "data": {
      "application/vnd.jupyter.widget-view+json": {
       "model_id": "cc299c100c3546fbbb7e29cddf78f5e5",
       "version_major": 2,
       "version_minor": 0
      },
      "text/plain": [
       "train:   0%|          | 0/5000 [00:00<?, ?it/s]"
      ]
     },
     "metadata": {},
     "output_type": "display_data"
    },
    {
     "name": "stdout",
     "output_type": "stream",
     "text": [
      "Val update: epoch: 1 |accuracy: 0.09964753687381744 | f1: 0.1812354177236557 | auc: 0.5591129064559937 | treshold: 0.03\n",
      "Test: accuracy: 0.09974651783704758 | f1: 0.18139910697937012 | auc: 0.5660356283187866 | \n",
      "Val update: epoch: 3 |accuracy: 0.8924036622047424 | f1: 0.16022099554538727 | auc: 0.5834084153175354 | treshold: 0.09999999999999999\n",
      "Test: accuracy: 0.8926787376403809 | f1: 0.1571594923734665 | auc: 0.5913833379745483 | \n",
      "Val update: epoch: 4 |accuracy: 0.1331091672182083 | f1: 0.18575207889080048 | auc: 0.5987430214881897 | treshold: 0.08\n",
      "Test: accuracy: 0.1486043781042099 | f1: 0.18859662115573883 | auc: 0.6025585532188416 | \n",
      "Val update: epoch: 5 |accuracy: 0.8822280168533325 | f1: 0.19300727546215057 | auc: 0.6027600765228271 | treshold: 0.15000000000000002\n",
      "Test: accuracy: 0.8840959668159485 | f1: 0.19416674971580505 | auc: 0.6119797229766846 | \n",
      "Val update: epoch: 6 |accuracy: 0.8933622241020203 | f1: 0.16683949530124664 | auc: 0.6074578166007996 | treshold: 0.16\n",
      "Test: accuracy: 0.8942500352859497 | f1: 0.15832939743995667 | auc: 0.6201021671295166 | \n",
      "Val update: epoch: 7 |accuracy: 0.6827707290649414 | f1: 0.21712705492973328 | auc: 0.6122697591781616 | treshold: 0.14\n",
      "Test: accuracy: 0.7070900201797485 | f1: 0.2228427529335022 | auc: 0.619499921798706 | \n",
      "Val update: epoch: 8 |accuracy: 0.8931557536125183 | f1: 0.17114746570587158 | auc: 0.6232690215110779 | treshold: 0.15000000000000002\n",
      "Test: accuracy: 0.8930789828300476 | f1: 0.1694876253604889 | auc: 0.6340045928955078 | \n",
      "Val update: epoch: 9 |accuracy: 0.6948339939117432 | f1: 0.22570626437664032 | auc: 0.6264844536781311 | treshold: 0.15000000000000002\n",
      "Test: accuracy: 0.7138791084289551 | f1: 0.2326468974351883 | auc: 0.637678861618042 | \n",
      "Val update: epoch: 11 |accuracy: 0.7629223465919495 | f1: 0.2407669723033905 | auc: 0.6346939206123352 | treshold: 0.15000000000000002\n",
      "Test: accuracy: 0.7773380279541016 | f1: 0.24838629364967346 | auc: 0.6419705748558044 | \n",
      "Val update: epoch: 12 |accuracy: 0.8816823959350586 | f1: 0.22550439834594727 | auc: 0.6370248198509216 | treshold: 0.15000000000000002\n",
      "Test: accuracy: 0.8826581239700317 | f1: 0.22695311903953552 | auc: 0.6438875198364258 | \n",
      "Val update: epoch: 14 |accuracy: 0.8761816024780273 | f1: 0.24319452047348022 | auc: 0.6419796943664551 | treshold: 0.17\n",
      "Test: accuracy: 0.8784038424491882 | f1: 0.24556240439414978 | auc: 0.6470777988433838 | \n",
      "Val update: epoch: 15 |accuracy: 0.8916220664978027 | f1: 0.2115652859210968 | auc: 0.6436750888824463 | treshold: 0.14\n",
      "Test: accuracy: 0.8921006321907043 | f1: 0.2150328904390335 | auc: 0.6540539264678955 | \n",
      "Val update: epoch: 17 |accuracy: 0.884277880191803 | f1: 0.22925056517124176 | auc: 0.6439825296401978 | treshold: 0.15000000000000002\n",
      "Test: accuracy: 0.8848371505737305 | f1: 0.23269136250019073 | auc: 0.6504942178726196 | \n",
      "Val update: epoch: 19 |accuracy: 0.8838649988174438 | f1: 0.23935091495513916 | auc: 0.6509305238723755 | treshold: 0.16\n",
      "Test: accuracy: 0.8839329481124878 | f1: 0.24362441897392273 | auc: 0.6584385633468628 | \n",
      "Val update: epoch: 22 |accuracy: 0.8400507569313049 | f1: 0.266765832901001 | auc: 0.6542038917541504 | treshold: 0.16\n",
      "Test: accuracy: 0.8453032374382019 | f1: 0.274471640586853 | auc: 0.6595766544342041 | \n",
      "Val update: epoch: 24 |accuracy: 0.8634694218635559 | f1: 0.2651214599609375 | auc: 0.6554926037788391 | treshold: 0.13\n",
      "Test: accuracy: 0.8665451407432556 | f1: 0.2703622579574585 | auc: 0.6627117395401001 | \n",
      "Val update: epoch: 28 |accuracy: 0.8657995462417603 | f1: 0.27443787455558777 | auc: 0.6586657762527466 | treshold: 0.16\n",
      "Test: accuracy: 0.8665896058082581 | f1: 0.274427592754364 | auc: 0.6661341190338135 | \n",
      "Val update: epoch: 36 |accuracy: 0.8798832297325134 | f1: 0.27913975715637207 | auc: 0.6599177718162537 | treshold: 0.15000000000000002\n",
      "Test: accuracy: 0.8803308606147766 | f1: 0.27211251854896545 | auc: 0.6676583886146545 | \n",
      "Val update: epoch: 37 |accuracy: 0.8846318125724792 | f1: 0.2649628818035126 | auc: 0.6614392399787903 | treshold: 0.14\n",
      "Test: accuracy: 0.8849706053733826 | f1: 0.2622171640396118 | auc: 0.6690548062324524 | \n",
      "Val update: epoch: 38 |accuracy: 0.8640446066856384 | f1: 0.2808331251144409 | auc: 0.6618420481681824 | treshold: 0.16\n",
      "Test: accuracy: 0.8655667901039124 | f1: 0.28539910912513733 | auc: 0.6700500249862671 | \n",
      "Val update: epoch: 43 |accuracy: 0.8845875859260559 | f1: 0.26873481273651123 | auc: 0.6622717380523682 | treshold: 0.15000000000000002\n",
      "Test: accuracy: 0.8856969475746155 | f1: 0.2680588662624359 | auc: 0.6691324710845947 | \n",
      "Val update: epoch: 47 |accuracy: 0.8707250952720642 | f1: 0.2860400676727295 | auc: 0.6653006672859192 | treshold: 0.15000000000000002\n",
      "Test: accuracy: 0.871525764465332 | f1: 0.2829486131668091 | auc: 0.672834038734436 | \n",
      "\n",
      "Evaluating SlatewiseAttentionAnorherSeed with neural embeddings\n",
      "Test before learning: {'f1': 0.09664981812238693, 'roc-auc': 0.5107215642929077, 'accuracy': 0.843717098236084}\n"
     ]
    },
    {
     "data": {
      "application/vnd.jupyter.widget-view+json": {
       "model_id": "b6c51b63349c46cdaa048b3923ea520c",
       "version_major": 2,
       "version_minor": 0
      },
      "text/plain": [
       "train:   0%|          | 0/5000 [00:00<?, ?it/s]"
      ]
     },
     "metadata": {},
     "output_type": "display_data"
    },
    {
     "name": "stdout",
     "output_type": "stream",
     "text": [
      "Val update: epoch: 0 |accuracy: 0.09964753687381744 | f1: 0.1812354177236557 | auc: 0.5952838659286499 | treshold: 0.01\n",
      "Test: accuracy: 0.09974651783704758 | f1: 0.18139910697937012 | auc: 0.6013993620872498 | \n",
      "Val update: epoch: 1 |accuracy: 0.8213068842887878 | f1: 0.20819446444511414 | auc: 0.6128063797950745 | treshold: 0.16\n",
      "Test: accuracy: 0.8266850709915161 | f1: 0.21340151131153107 | auc: 0.6268128752708435 | \n",
      "Val update: epoch: 2 |accuracy: 0.8592517375946045 | f1: 0.21796132624149323 | auc: 0.6665998697280884 | treshold: 0.16\n",
      "Test: accuracy: 0.8604230880737305 | f1: 0.22220386564731598 | auc: 0.6713399887084961 | \n",
      "Val update: epoch: 3 |accuracy: 0.7276320457458496 | f1: 0.25716927647590637 | auc: 0.6741799116134644 | treshold: 0.17\n",
      "Test: accuracy: 0.7276055812835693 | f1: 0.2606421411037445 | auc: 0.6769337058067322 | \n",
      "Val update: epoch: 4 |accuracy: 0.5843177437782288 | f1: 0.2505649924278259 | auc: 0.6914727687835693 | treshold: 0.16\n",
      "Test: accuracy: 0.6007619500160217 | f1: 0.25510966777801514 | auc: 0.695888876914978 | \n",
      "Val update: epoch: 5 |accuracy: 0.8603577613830566 | f1: 0.28107205033302307 | auc: 0.7124796509742737 | treshold: 0.18000000000000002\n",
      "Test: accuracy: 0.8615792989730835 | f1: 0.2724014222621918 | auc: 0.7158604860305786 | \n",
      "Val update: epoch: 6 |accuracy: 0.8613458275794983 | f1: 0.28020212054252625 | auc: 0.7174795866012573 | treshold: 0.18000000000000002\n",
      "Test: accuracy: 0.8612235188484192 | f1: 0.277065634727478 | auc: 0.7183111906051636 | \n",
      "Val update: epoch: 8 |accuracy: 0.7567431926727295 | f1: 0.2974573075771332 | auc: 0.7228698134422302 | treshold: 0.17\n",
      "Test: accuracy: 0.7588087916374207 | f1: 0.29736149311065674 | auc: 0.7195886373519897 | \n",
      "Val update: epoch: 9 |accuracy: 0.8691176772117615 | f1: 0.2780444025993347 | auc: 0.7292518615722656 | treshold: 0.19\n",
      "Test: accuracy: 0.8687241673469543 | f1: 0.27481165528297424 | auc: 0.7280426025390625 | \n",
      "Val update: epoch: 12 |accuracy: 0.7799849510192871 | f1: 0.312330037355423 | auc: 0.7336995601654053 | treshold: 0.18000000000000002\n",
      "Test: accuracy: 0.7803916335105896 | f1: 0.3116026222705841 | auc: 0.7330020666122437 | \n",
      "Val update: epoch: 14 |accuracy: 0.84339839220047 | f1: 0.31290844082832336 | auc: 0.7348038554191589 | treshold: 0.2\n",
      "Test: accuracy: 0.8453032374382019 | f1: 0.3130595088005066 | auc: 0.7339113354682922 | \n",
      "Val update: epoch: 16 |accuracy: 0.8774793744087219 | f1: 0.28280386328697205 | auc: 0.7353199124336243 | treshold: 0.21000000000000002\n",
      "Test: accuracy: 0.8779887557029724 | f1: 0.28618505597114563 | auc: 0.7348636388778687 | \n",
      "Val update: epoch: 20 |accuracy: 0.7996283769607544 | f1: 0.3164461553096771 | auc: 0.7358676791191101 | treshold: 0.19\n",
      "Test: accuracy: 0.8045833706855774 | f1: 0.3181794583797455 | auc: 0.7326865196228027 | \n",
      "Val update: epoch: 25 |accuracy: 0.84339839220047 | f1: 0.3152124881744385 | auc: 0.7361322045326233 | treshold: 0.19\n",
      "Test: accuracy: 0.8468003869056702 | f1: 0.3156082332134247 | auc: 0.7334554195404053 | \n",
      "Val update: epoch: 30 |accuracy: 0.8482502102851868 | f1: 0.31872352957725525 | auc: 0.7370436787605286 | treshold: 0.2\n",
      "Test: accuracy: 0.8493796586990356 | f1: 0.3189221918582916 | auc: 0.7330166101455688 | \n"
     ]
    }
   ],
   "source": [
    "for embeddings in ['svd', 'neural']:\n",
    "    print(f\"\\nEvaluating {experiment_name} with {embeddings} embeddings\")\n",
    "    \n",
    "    model = SlatewiseAttention(\n",
    "        RecsysEmbedding(train_num_items, train_user_item_matrix, embeddings=embeddings),\n",
    "        output_dim=1\n",
    "    ).to(device)\n",
    "\n",
    "    _, metrics = train(\n",
    "        model, \n",
    "        train_loader, val_loader, test_loader, \n",
    "        device=device, lr=1e-3, num_epochs=5000, early_stopping=7,\n",
    "       silent=True, \n",
    "    )\n",
    "    \n",
    "    metrics['embeddings'] = embeddings\n",
    "    content_wise_results.append(metrics)"
   ]
  },
  {
   "cell_type": "code",
   "execution_count": 7,
   "id": "2522ab19-c02d-4a5f-8a99-884c124f5138",
   "metadata": {},
   "outputs": [],
   "source": [
    "pd.DataFrame(content_wise_results).to_csv(f'results/cw_{experiment_name}.csv')\n",
    "del dataset, train_loader, val_loader, test_loader, train_user_item_matrix, train_num_items"
   ]
  },
  {
   "cell_type": "markdown",
   "id": "9f1ee60f",
   "metadata": {},
   "source": [
    "# RL4RS"
   ]
  },
  {
   "cell_type": "code",
   "execution_count": 8,
   "id": "3f5653bd",
   "metadata": {},
   "outputs": [
    {
     "name": "stdout",
     "output_type": "stream",
     "text": [
      "45942 data points among 106 batches\n"
     ]
    }
   ],
   "source": [
    "rl4rs_results = []\n",
    "dataset = RL4RS.load(os.path.join(pkl_path, 'rl4rs.pkl'))\n",
    "(\n",
    "    train_loader, \n",
    "    val_loader, \n",
    "    test_loader, \n",
    "    train_user_item_matrix, \n",
    "    train_num_items \n",
    ") = get_train_val_test_tmatrix_tnumitems(dataset, batch_size=350)\n",
    "\n",
    "print(f\"{len(dataset)} data points among {len(train_loader)} batches\")"
   ]
  },
  {
   "cell_type": "code",
   "execution_count": 9,
   "id": "c3951d43-fb42-4aca-b71b-0f6ed7eb6a91",
   "metadata": {},
   "outputs": [
    {
     "name": "stdout",
     "output_type": "stream",
     "text": [
      "\n",
      "Evaluating SlatewiseAttentionAnorherSeed with neural embeddings\n",
      "Test before learning: {'f1': 0.4759460389614105, 'roc-auc': 0.5111886262893677, 'accuracy': 0.4618546664714813}\n"
     ]
    },
    {
     "data": {
      "application/vnd.jupyter.widget-view+json": {
       "model_id": "c2b541a242504ec9ac55455ad3f63f03",
       "version_major": 2,
       "version_minor": 0
      },
      "text/plain": [
       "train:   0%|          | 0/5000 [00:00<?, ?it/s]"
      ]
     },
     "metadata": {},
     "output_type": "display_data"
    },
    {
     "name": "stdout",
     "output_type": "stream",
     "text": [
      "Val update: epoch: 0 |accuracy: 0.7756010293960571 | f1: 0.8416182994842529 | auc: 0.8531349897384644 | treshold: 0.44\n",
      "Test: accuracy: 0.7743198871612549 | f1: 0.8406223058700562 | auc: 0.846225380897522 | \n",
      "Val update: epoch: 1 |accuracy: 0.8117350935935974 | f1: 0.864120364189148 | auc: 0.8910277485847473 | treshold: 0.49\n",
      "Test: accuracy: 0.8101317882537842 | f1: 0.8629094362258911 | auc: 0.8880918025970459 | \n",
      "Val update: epoch: 2 |accuracy: 0.8037294745445251 | f1: 0.8636294603347778 | auc: 0.9058480262756348 | treshold: 0.46\n",
      "Test: accuracy: 0.8068673610687256 | f1: 0.8659247159957886 | auc: 0.9047122001647949 | \n",
      "Val update: epoch: 3 |accuracy: 0.8079137206077576 | f1: 0.865876317024231 | auc: 0.9062777757644653 | treshold: 0.48000000000000004\n",
      "Test: accuracy: 0.8112199306488037 | f1: 0.8681004643440247 | auc: 0.9060571193695068 | \n",
      "Val update: epoch: 4 |accuracy: 0.8250374794006348 | f1: 0.8746534585952759 | auc: 0.9136700630187988 | treshold: 0.5\n",
      "Test: accuracy: 0.828533411026001 | f1: 0.8769628405570984 | auc: 0.9144936203956604 | \n",
      "Val update: epoch: 5 |accuracy: 0.828786313533783 | f1: 0.8769618272781372 | auc: 0.9162397384643555 | treshold: 0.48000000000000004\n",
      "Test: accuracy: 0.832692563533783 | f1: 0.8793190717697144 | auc: 0.9172353744506836 | \n",
      "Val update: epoch: 6 |accuracy: 0.8357519507408142 | f1: 0.8797094821929932 | auc: 0.9176996946334839 | treshold: 0.49\n",
      "Test: accuracy: 0.8404304385185242 | f1: 0.8826698660850525 | auc: 0.918787956237793 | \n",
      "Val update: epoch: 7 |accuracy: 0.8379770517349243 | f1: 0.8815615177154541 | auc: 0.9197284579277039 | treshold: 0.49\n",
      "Test: accuracy: 0.8412042260169983 | f1: 0.8834750056266785 | auc: 0.9205203652381897 | \n",
      "Val update: epoch: 8 |accuracy: 0.8403714895248413 | f1: 0.8825873732566833 | auc: 0.9207257032394409 | treshold: 0.5\n",
      "Test: accuracy: 0.8431144952774048 | f1: 0.8841759562492371 | auc: 0.9222692251205444 | \n",
      "Val update: epoch: 9 |accuracy: 0.8365742564201355 | f1: 0.8815496563911438 | auc: 0.9212194681167603 | treshold: 0.5\n",
      "Test: accuracy: 0.8401402235031128 | f1: 0.8837462663650513 | auc: 0.9228135347366333 | \n",
      "Val update: epoch: 11 |accuracy: 0.8358486890792847 | f1: 0.8817904591560364 | auc: 0.9226846694946289 | treshold: 0.5\n",
      "Test: accuracy: 0.8393906354904175 | f1: 0.8839784860610962 | auc: 0.9244956970214844 | \n",
      "Val update: epoch: 12 |accuracy: 0.8383156657218933 | f1: 0.8827460408210754 | auc: 0.9230554103851318 | treshold: 0.51\n",
      "Test: accuracy: 0.8433321118354797 | f1: 0.8860514760017395 | auc: 0.9249063730239868 | \n",
      "Val update: epoch: 13 |accuracy: 0.8369854688644409 | f1: 0.8823899030685425 | auc: 0.9237337112426758 | treshold: 0.5\n",
      "Test: accuracy: 0.8406238555908203 | f1: 0.8847143054008484 | auc: 0.9253395795822144 | \n",
      "Val update: epoch: 14 |accuracy: 0.8430803418159485 | f1: 0.8854923844337463 | auc: 0.9252252578735352 | treshold: 0.5\n",
      "Test: accuracy: 0.8469108939170837 | f1: 0.8879250884056091 | auc: 0.926521360874176 | \n",
      "Val update: epoch: 16 |accuracy: 0.8446282744407654 | f1: 0.8856980204582214 | auc: 0.9255422949790955 | treshold: 0.5\n",
      "Test: accuracy: 0.8456776738166809 | f1: 0.8860723376274109 | auc: 0.925923228263855 | \n",
      "Val update: epoch: 18 |accuracy: 0.8410245180130005 | f1: 0.8844997882843018 | auc: 0.9260529279708862 | treshold: 0.5\n",
      "Test: accuracy: 0.845266580581665 | f1: 0.8872045278549194 | auc: 0.9270241260528564 | \n",
      "Val update: epoch: 28 |accuracy: 0.8371789455413818 | f1: 0.881952702999115 | auc: 0.926105260848999 | treshold: 0.49\n",
      "Test: accuracy: 0.8436948657035828 | f1: 0.8862292170524597 | auc: 0.9271959066390991 | \n",
      "Val update: epoch: 29 |accuracy: 0.8432012796401978 | f1: 0.8846585154533386 | auc: 0.9262488484382629 | treshold: 0.48000000000000004\n",
      "Test: accuracy: 0.8471285104751587 | f1: 0.8872762322425842 | auc: 0.9268438220024109 | \n",
      "Val update: epoch: 32 |accuracy: 0.8482319712638855 | f1: 0.8812879323959351 | auc: 0.9263899326324463 | treshold: 0.49\n",
      "Test: accuracy: 0.8476846814155579 | f1: 0.8805673122406006 | auc: 0.9275979995727539 | \n",
      "\n",
      "Evaluating SlatewiseAttentionAnorherSeed with explicit embeddings\n",
      "Test before learning: {'f1': 0.04179824888706207, 'roc-auc': 0.5280756950378418, 'accuracy': 0.3469955325126648}\n"
     ]
    },
    {
     "data": {
      "application/vnd.jupyter.widget-view+json": {
       "model_id": "5e7fe63335ed4a718b687919fc6be570",
       "version_major": 2,
       "version_minor": 0
      },
      "text/plain": [
       "train:   0%|          | 0/5000 [00:00<?, ?it/s]"
      ]
     },
     "metadata": {},
     "output_type": "display_data"
    },
    {
     "name": "stdout",
     "output_type": "stream",
     "text": [
      "Val update: epoch: 0 |accuracy: 0.7906931638717651 | f1: 0.8534611463546753 | auc: 0.8760402202606201 | treshold: 0.44\n",
      "Test: accuracy: 0.7919235825538635 | f1: 0.8544953465461731 | auc: 0.8777675628662109 | \n",
      "Val update: epoch: 1 |accuracy: 0.814540684223175 | f1: 0.8620516061782837 | auc: 0.8868635892868042 | treshold: 0.44\n",
      "Test: accuracy: 0.8220771551132202 | f1: 0.8674759268760681 | auc: 0.8914128541946411 | \n",
      "Val update: epoch: 2 |accuracy: 0.8154597878456116 | f1: 0.8578084111213684 | auc: 0.8890950083732605 | treshold: 0.44\n",
      "Test: accuracy: 0.8200701475143433 | f1: 0.8612763285636902 | auc: 0.8942693471908569 | \n",
      "Val update: epoch: 3 |accuracy: 0.8202728033065796 | f1: 0.8624932765960693 | auc: 0.8928254246711731 | treshold: 0.46\n",
      "Test: accuracy: 0.8241567015647888 | f1: 0.8653832077980042 | auc: 0.898253321647644 | \n",
      "Val update: epoch: 4 |accuracy: 0.8149518966674805 | f1: 0.8683019280433655 | auc: 0.8995446562767029 | treshold: 0.45\n",
      "Test: accuracy: 0.8215935230255127 | f1: 0.8728018999099731 | auc: 0.9031698703765869 | \n",
      "Val update: epoch: 5 |accuracy: 0.8070188164710999 | f1: 0.8650029897689819 | auc: 0.9030343294143677 | treshold: 0.48000000000000004\n",
      "Test: accuracy: 0.8118969798088074 | f1: 0.8683645129203796 | auc: 0.905335545539856 | \n",
      "Val update: epoch: 7 |accuracy: 0.8103081583976746 | f1: 0.8670114278793335 | auc: 0.905430793762207 | treshold: 0.46\n",
      "Test: accuracy: 0.8161770105361938 | f1: 0.8707010746002197 | auc: 0.9078782200813293 | \n",
      "Val update: epoch: 9 |accuracy: 0.8326561450958252 | f1: 0.8728522062301636 | auc: 0.9073262214660645 | treshold: 0.48000000000000004\n",
      "Test: accuracy: 0.8359085917472839 | f1: 0.8751242160797119 | auc: 0.9119020700454712 | \n",
      "Val update: epoch: 14 |accuracy: 0.8279640078544617 | f1: 0.8755489587783813 | auc: 0.909251868724823 | treshold: 0.47000000000000003\n",
      "Test: accuracy: 0.833683967590332 | f1: 0.8793544769287109 | auc: 0.9123624563217163 | \n",
      "Val update: epoch: 16 |accuracy: 0.8369128704071045 | f1: 0.8782082796096802 | auc: 0.9132885336875916 | treshold: 0.48000000000000004\n",
      "Test: accuracy: 0.8401402235031128 | f1: 0.8803547024726868 | auc: 0.9163272380828857 | \n",
      "Val update: epoch: 20 |accuracy: 0.8385091423988342 | f1: 0.8758806586265564 | auc: 0.9149450063705444 | treshold: 0.48000000000000004\n",
      "Test: accuracy: 0.8420021533966064 | f1: 0.8783013820648193 | auc: 0.918505072593689 | \n",
      "Val update: epoch: 22 |accuracy: 0.8316403031349182 | f1: 0.878599226474762 | auc: 0.9166622161865234 | treshold: 0.48000000000000004\n",
      "Test: accuracy: 0.837867259979248 | f1: 0.8827735781669617 | auc: 0.9204673767089844 | \n",
      "Val update: epoch: 27 |accuracy: 0.8419194221496582 | f1: 0.8792358040809631 | auc: 0.9173160791397095 | treshold: 0.5\n",
      "Test: accuracy: 0.8441542983055115 | f1: 0.8806547522544861 | auc: 0.92011559009552 | \n",
      "Val update: epoch: 28 |accuracy: 0.8437575697898865 | f1: 0.8816242814064026 | auc: 0.9196345806121826 | treshold: 0.5\n",
      "Test: accuracy: 0.8479990363121033 | f1: 0.8846055269241333 | auc: 0.9226381778717041 | \n",
      "Val update: epoch: 38 |accuracy: 0.837856113910675 | f1: 0.8826289176940918 | auc: 0.9219009876251221 | treshold: 0.5\n",
      "Test: accuracy: 0.8428001403808594 | f1: 0.8858813047409058 | auc: 0.9238651990890503 | \n",
      "Val update: epoch: 41 |accuracy: 0.8318821787834167 | f1: 0.8799088001251221 | auc: 0.9220929145812988 | treshold: 0.5\n",
      "Test: accuracy: 0.8377221822738647 | f1: 0.8837177157402039 | auc: 0.924200177192688 | \n",
      "\n",
      "Evaluating SlatewiseAttentionAnorherSeed with svd embeddings\n",
      "Test before learning: {'f1': 0.789391279220581, 'roc-auc': 0.5200287699699402, 'accuracy': 0.652061402797699}\n"
     ]
    },
    {
     "data": {
      "application/vnd.jupyter.widget-view+json": {
       "model_id": "58313bb7dae746cf969b8ed750ca1b74",
       "version_major": 2,
       "version_minor": 0
      },
      "text/plain": [
       "train:   0%|          | 0/5000 [00:00<?, ?it/s]"
      ]
     },
     "metadata": {},
     "output_type": "display_data"
    },
    {
     "name": "stdout",
     "output_type": "stream",
     "text": [
      "Val update: epoch: 0 |accuracy: 0.7006723880767822 | f1: 0.8014821410179138 | auc: 0.7732131481170654 | treshold: 0.4\n",
      "Test: accuracy: 0.7059605717658997 | f1: 0.8044576048851013 | auc: 0.774376392364502 | \n",
      "Val update: epoch: 1 |accuracy: 0.7266724705696106 | f1: 0.805017352104187 | auc: 0.7918669581413269 | treshold: 0.41000000000000003\n",
      "Test: accuracy: 0.7310603260993958 | f1: 0.8072978258132935 | auc: 0.7936662435531616 | \n",
      "Val update: epoch: 2 |accuracy: 0.737048327922821 | f1: 0.8111975789070129 | auc: 0.8039286732673645 | treshold: 0.44\n",
      "Test: accuracy: 0.7409986853599548 | f1: 0.813153088092804 | auc: 0.8051149249076843 | \n",
      "Val update: epoch: 3 |accuracy: 0.7462390661239624 | f1: 0.8150537610054016 | auc: 0.8127063512802124 | treshold: 0.44\n",
      "Test: accuracy: 0.7513238787651062 | f1: 0.818457841873169 | auc: 0.815850019454956 | \n",
      "Val update: epoch: 4 |accuracy: 0.7568809390068054 | f1: 0.8116191625595093 | auc: 0.8222173452377319 | treshold: 0.46\n",
      "Test: accuracy: 0.7565469741821289 | f1: 0.811467707157135 | auc: 0.8242648839950562 | \n",
      "Val update: epoch: 5 |accuracy: 0.7490204572677612 | f1: 0.8233612179756165 | auc: 0.8293335437774658 | treshold: 0.44\n",
      "Test: accuracy: 0.7542256116867065 | f1: 0.826677143573761 | auc: 0.8321637511253357 | \n",
      "Val update: epoch: 6 |accuracy: 0.7293329238891602 | f1: 0.8206714391708374 | auc: 0.8379398584365845 | treshold: 0.44\n",
      "Test: accuracy: 0.7334058880805969 | f1: 0.8237550854682922 | auc: 0.8402899503707886 | \n",
      "Val update: epoch: 7 |accuracy: 0.7698689103126526 | f1: 0.826079785823822 | auc: 0.8422635793685913 | treshold: 0.46\n",
      "Test: accuracy: 0.7734252214431763 | f1: 0.82893967628479 | auc: 0.8453205227851868 | \n",
      "Val update: epoch: 8 |accuracy: 0.7714409828186035 | f1: 0.8200411200523376 | auc: 0.8475170135498047 | treshold: 0.46\n",
      "Test: accuracy: 0.7733043432235718 | f1: 0.8215475678443909 | auc: 0.8507416248321533 | \n",
      "Val update: epoch: 11 |accuracy: 0.7700623869895935 | f1: 0.8413305282592773 | auc: 0.8583670258522034 | treshold: 0.43\n",
      "Test: accuracy: 0.7739088535308838 | f1: 0.8437395691871643 | auc: 0.8603007197380066 | \n",
      "Val update: epoch: 12 |accuracy: 0.7734968066215515 | f1: 0.8425388932228088 | auc: 0.8584994077682495 | treshold: 0.43\n",
      "Test: accuracy: 0.7765445709228516 | f1: 0.8443935513496399 | auc: 0.8604302406311035 | \n",
      "Val update: epoch: 13 |accuracy: 0.7889517545700073 | f1: 0.8416333794593811 | auc: 0.8607029914855957 | treshold: 0.43\n",
      "Test: accuracy: 0.790617823600769 | f1: 0.8426237106323242 | auc: 0.8632373213768005 | \n",
      "Val update: epoch: 14 |accuracy: 0.7887099385261536 | f1: 0.835616409778595 | auc: 0.862131655216217 | treshold: 0.45\n",
      "Test: accuracy: 0.7900858521461487 | f1: 0.8365190625190735 | auc: 0.8652554750442505 | \n",
      "Val update: epoch: 15 |accuracy: 0.7876940965652466 | f1: 0.8489156365394592 | auc: 0.8644970655441284 | treshold: 0.45\n",
      "Test: accuracy: 0.7889493703842163 | f1: 0.8498227596282959 | auc: 0.8663736581802368 | \n",
      "Val update: epoch: 16 |accuracy: 0.7783340811729431 | f1: 0.8464387059211731 | auc: 0.8650615811347961 | treshold: 0.43\n",
      "Test: accuracy: 0.781646728515625 | f1: 0.8484797477722168 | auc: 0.8671475648880005 | \n",
      "Val update: epoch: 17 |accuracy: 0.7950224876403809 | f1: 0.8473825454711914 | auc: 0.8663362860679626 | treshold: 0.44\n",
      "Test: accuracy: 0.7962278127670288 | f1: 0.8480827808380127 | auc: 0.8688328266143799 | \n",
      "Val update: epoch: 19 |accuracy: 0.788322925567627 | f1: 0.849212646484375 | auc: 0.866646945476532 | treshold: 0.44\n",
      "Test: accuracy: 0.789432942867279 | f1: 0.8500998616218567 | auc: 0.8680838942527771 | \n",
      "Val update: epoch: 20 |accuracy: 0.777705192565918 | f1: 0.8465942144393921 | auc: 0.8690285682678223 | treshold: 0.43\n",
      "Test: accuracy: 0.7824205160140991 | f1: 0.8495921492576599 | auc: 0.8710722923278809 | \n",
      "Val update: epoch: 22 |accuracy: 0.7989164590835571 | f1: 0.8458143472671509 | auc: 0.8708837032318115 | treshold: 0.44\n",
      "Test: accuracy: 0.799806535243988 | f1: 0.8460665941238403 | auc: 0.8727273344993591 | \n",
      "Val update: epoch: 23 |accuracy: 0.7913461923599243 | f1: 0.8514506816864014 | auc: 0.8718017339706421 | treshold: 0.45\n",
      "Test: accuracy: 0.795236349105835 | f1: 0.8539294600486755 | auc: 0.8738106489181519 | \n",
      "Val update: epoch: 24 |accuracy: 0.7797126770019531 | f1: 0.8479770421981812 | auc: 0.8726661801338196 | treshold: 0.43\n",
      "Test: accuracy: 0.7847176790237427 | f1: 0.8510830402374268 | auc: 0.874464750289917 | \n",
      "Val update: epoch: 26 |accuracy: 0.8000048398971558 | f1: 0.8457995057106018 | auc: 0.8732360601425171 | treshold: 0.45\n",
      "Test: accuracy: 0.8037480115890503 | f1: 0.8482763767242432 | auc: 0.8760061264038086 | \n",
      "Val update: epoch: 27 |accuracy: 0.7839936017990112 | f1: 0.8496844172477722 | auc: 0.8742629289627075 | treshold: 0.45\n",
      "Test: accuracy: 0.7872083187103271 | f1: 0.851811945438385 | auc: 0.8753305673599243 | \n",
      "Val update: epoch: 28 |accuracy: 0.8031006455421448 | f1: 0.853907585144043 | auc: 0.8756290674209595 | treshold: 0.45\n",
      "Test: accuracy: 0.8051989078521729 | f1: 0.8551912307739258 | auc: 0.8779135346412659 | \n",
      "Val update: epoch: 29 |accuracy: 0.8042616248130798 | f1: 0.852546215057373 | auc: 0.8761327862739563 | treshold: 0.46\n",
      "Test: accuracy: 0.807786226272583 | f1: 0.8548896312713623 | auc: 0.8789430856704712 | \n",
      "Val update: epoch: 30 |accuracy: 0.7985778450965881 | f1: 0.8548572659492493 | auc: 0.8773782253265381 | treshold: 0.46\n",
      "Test: accuracy: 0.8025389909744263 | f1: 0.8574968576431274 | auc: 0.8795629739761353 | \n",
      "Val update: epoch: 32 |accuracy: 0.7937406301498413 | f1: 0.8535664081573486 | auc: 0.877485454082489 | treshold: 0.46\n",
      "Test: accuracy: 0.7976061105728149 | f1: 0.8560866713523865 | auc: 0.8801153302192688 | \n",
      "Val update: epoch: 33 |accuracy: 0.8027620315551758 | f1: 0.8563172817230225 | auc: 0.8787778615951538 | treshold: 0.44\n",
      "Test: accuracy: 0.8071091771125793 | f1: 0.8592203259468079 | auc: 0.8815500736236572 | \n",
      "Val update: epoch: 34 |accuracy: 0.805809497833252 | f1: 0.8548757433891296 | auc: 0.8790863752365112 | treshold: 0.47000000000000003\n",
      "Test: accuracy: 0.8095998167991638 | f1: 0.8574015498161316 | auc: 0.8813636302947998 | \n",
      "Val update: epoch: 36 |accuracy: 0.7921443581581116 | f1: 0.8537888526916504 | auc: 0.8802249431610107 | treshold: 0.44\n",
      "Test: accuracy: 0.7974368333816528 | f1: 0.8570306897163391 | auc: 0.8826360106468201 | \n",
      "Val update: epoch: 37 |accuracy: 0.8112514019012451 | f1: 0.8537097573280334 | auc: 0.8826330900192261 | treshold: 0.45\n",
      "Test: accuracy: 0.8139039874076843 | f1: 0.8554795980453491 | auc: 0.8859720230102539 | \n",
      "Val update: epoch: 39 |accuracy: 0.8132830262184143 | f1: 0.8598911166191101 | auc: 0.8846797943115234 | treshold: 0.46\n",
      "Test: accuracy: 0.8156933784484863 | f1: 0.8613173365592957 | auc: 0.8878844976425171 | \n",
      "Val update: epoch: 41 |accuracy: 0.801359236240387 | f1: 0.8581544160842896 | auc: 0.8855087757110596 | treshold: 0.45\n",
      "Test: accuracy: 0.805972695350647 | f1: 0.860969603061676 | auc: 0.8879979848861694 | \n",
      "Val update: epoch: 46 |accuracy: 0.8150244355201721 | f1: 0.8574091792106628 | auc: 0.8865763545036316 | treshold: 0.45\n",
      "Test: accuracy: 0.8178213238716125 | f1: 0.8594560027122498 | auc: 0.8896118402481079 | \n",
      "Val update: epoch: 48 |accuracy: 0.8115416169166565 | f1: 0.8619663715362549 | auc: 0.8876304626464844 | treshold: 0.45\n",
      "Test: accuracy: 0.8138314485549927 | f1: 0.863422691822052 | auc: 0.8912962675094604 | \n",
      "Val update: epoch: 49 |accuracy: 0.8151937127113342 | f1: 0.8607156276702881 | auc: 0.8883048295974731 | treshold: 0.48000000000000004\n",
      "Test: accuracy: 0.8204570412635803 | f1: 0.8642868995666504 | auc: 0.8921092748641968 | \n",
      "Val update: epoch: 50 |accuracy: 0.8054950833320618 | f1: 0.8604594469070435 | auc: 0.8892250061035156 | treshold: 0.43\n",
      "Test: accuracy: 0.8105428814888 | f1: 0.8636086583137512 | auc: 0.8928978443145752 | \n",
      "Val update: epoch: 52 |accuracy: 0.8096309304237366 | f1: 0.8622385859489441 | auc: 0.8897162079811096 | treshold: 0.44\n",
      "Test: accuracy: 0.8126707673072815 | f1: 0.864204466342926 | auc: 0.8932596445083618 | \n",
      "Val update: epoch: 53 |accuracy: 0.8157984018325806 | f1: 0.8618137240409851 | auc: 0.8902462124824524 | treshold: 0.48000000000000004\n",
      "Test: accuracy: 0.8217628002166748 | f1: 0.8657695055007935 | auc: 0.8937444686889648 | \n",
      "Val update: epoch: 54 |accuracy: 0.8099453449249268 | f1: 0.8619368672370911 | auc: 0.8907309770584106 | treshold: 0.44\n",
      "Test: accuracy: 0.8155966401100159 | f1: 0.8655263781547546 | auc: 0.8945239186286926 | \n",
      "Val update: epoch: 56 |accuracy: 0.8091955780982971 | f1: 0.8621214032173157 | auc: 0.8917703628540039 | treshold: 0.45\n",
      "Test: accuracy: 0.813154399394989 | f1: 0.8646025061607361 | auc: 0.8951054811477661 | \n",
      "Val update: epoch: 57 |accuracy: 0.8177816271781921 | f1: 0.8590511083602905 | auc: 0.8919309377670288 | treshold: 0.47000000000000003\n",
      "Test: accuracy: 0.8237214088439941 | f1: 0.8633193373680115 | auc: 0.8957089781761169 | \n",
      "Val update: epoch: 58 |accuracy: 0.8173946738243103 | f1: 0.8630757927894592 | auc: 0.8928017616271973 | treshold: 0.48000000000000004\n",
      "Test: accuracy: 0.8224398493766785 | f1: 0.8661673069000244 | auc: 0.8958429098129272 | \n"
     ]
    }
   ],
   "source": [
    "for embeddings in ['neural','explicit', 'svd',  ]:\n",
    "    print(f\"\\nEvaluating {experiment_name} with {embeddings} embeddings\")\n",
    "\n",
    "    model = SlatewiseAttention(\n",
    "        RecsysEmbedding(\n",
    "            train_num_items, \n",
    "            train_user_item_matrix, \n",
    "            embeddings=embeddings,\n",
    "            embedding_dim=40\n",
    "        ),\n",
    "        output_dim=1\n",
    "    ).to(device)\n",
    "\n",
    "    best_model, metrics = train(\n",
    "        model, \n",
    "        train_loader, val_loader, test_loader, \n",
    "        device=device, lr=1e-3, num_epochs=5000, early_stopping=7,\n",
    "        silent=True\n",
    "    )\n",
    "    \n",
    "    metrics['embeddings'] = embeddings\n",
    "    rl4rs_results.append(metrics)"
   ]
  },
  {
   "cell_type": "code",
   "execution_count": 10,
   "id": "2e6fde63-9cc6-4eda-b0a5-a75ca1083c47",
   "metadata": {},
   "outputs": [],
   "source": [
    "pd.DataFrame(rl4rs_results).to_csv(f'results/rl4rs_{experiment_name}.csv')\n",
    "del dataset, train_loader, val_loader, test_loader, train_user_item_matrix, train_num_items"
   ]
  },
  {
   "cell_type": "markdown",
   "id": "e21e5900-91e5-484e-be29-5324ac09623d",
   "metadata": {},
   "source": [
    "# OpenCDP"
   ]
  },
  {
   "cell_type": "code",
   "execution_count": 11,
   "id": "91a39b4d-0f89-40bc-aaac-a4a2cdca1989",
   "metadata": {},
   "outputs": [
    {
     "name": "stdout",
     "output_type": "stream",
     "text": [
      "\n",
      " == cosmetics_10_8.pkl ==\n"
     ]
    },
    {
     "ename": "AttributeError",
     "evalue": "'OpenCDP' object has no attribute 'item_categorical'",
     "output_type": "error",
     "traceback": [
      "\u001b[0;31m---------------------------------------------------------------------------\u001b[0m",
      "\u001b[0;31mAttributeError\u001b[0m                            Traceback (most recent call last)",
      "Cell \u001b[0;32mIn[11], line 14\u001b[0m\n\u001b[1;32m      6\u001b[0m \u001b[38;5;28mprint\u001b[39m(\u001b[38;5;124mf\u001b[39m\u001b[38;5;124m\"\u001b[39m\u001b[38;5;130;01m\\n\u001b[39;00m\u001b[38;5;124m == \u001b[39m\u001b[38;5;132;01m{\u001b[39;00mfilename\u001b[38;5;132;01m}\u001b[39;00m\u001b[38;5;124m ==\u001b[39m\u001b[38;5;124m\"\u001b[39m)\n\u001b[1;32m      7\u001b[0m dataset \u001b[38;5;241m=\u001b[39m OpenCDP\u001b[38;5;241m.\u001b[39mload(os\u001b[38;5;241m.\u001b[39mpath\u001b[38;5;241m.\u001b[39mjoin(pkl_path, filename))\n\u001b[1;32m      8\u001b[0m (\n\u001b[1;32m      9\u001b[0m     train_loader, \n\u001b[1;32m     10\u001b[0m     val_loader,\n\u001b[1;32m     11\u001b[0m     test_loader, \n\u001b[1;32m     12\u001b[0m     train_user_item_matrix, \n\u001b[1;32m     13\u001b[0m     train_num_items\n\u001b[0;32m---> 14\u001b[0m ) \u001b[38;5;241m=\u001b[39m \u001b[43mget_train_val_test_tmatrix_tnumitems\u001b[49m\u001b[43m(\u001b[49m\u001b[43mdataset\u001b[49m\u001b[43m,\u001b[49m\u001b[43m \u001b[49m\u001b[43mbatch_size\u001b[49m\u001b[38;5;241;43m=\u001b[39;49m\u001b[38;5;241;43m800\u001b[39;49m\u001b[43m)\u001b[49m\n\u001b[1;32m     16\u001b[0m \u001b[38;5;28mprint\u001b[39m(\u001b[38;5;124mf\u001b[39m\u001b[38;5;124m\"\u001b[39m\u001b[38;5;132;01m{\u001b[39;00m\u001b[38;5;28mlen\u001b[39m(dataset)\u001b[38;5;132;01m}\u001b[39;00m\u001b[38;5;124m data points among \u001b[39m\u001b[38;5;132;01m{\u001b[39;00m\u001b[38;5;28mlen\u001b[39m(train_loader)\u001b[38;5;132;01m}\u001b[39;00m\u001b[38;5;124m batches\u001b[39m\u001b[38;5;124m\"\u001b[39m)\n\u001b[1;32m     17\u001b[0m \u001b[38;5;28;01mfor\u001b[39;00m embeddings \u001b[38;5;129;01min\u001b[39;00m [\u001b[38;5;124m'\u001b[39m\u001b[38;5;124mneural\u001b[39m\u001b[38;5;124m'\u001b[39m, \u001b[38;5;124m'\u001b[39m\u001b[38;5;124msvd\u001b[39m\u001b[38;5;124m'\u001b[39m]:\n",
      "File \u001b[0;32m~/benchmark/src/utils.py:36\u001b[0m, in \u001b[0;36mget_train_val_test_tmatrix_tnumitems\u001b[0;34m(dataset, train_frac, val_vs_test_frac, batch_size, seed, **kwargs)\u001b[0m\n\u001b[1;32m     30\u001b[0m \u001b[38;5;28;01mdef\u001b[39;00m \u001b[38;5;21mget_train_val_test_tmatrix_tnumitems\u001b[39m(dataset, train_frac\u001b[38;5;241m=\u001b[39m\u001b[38;5;241m0.8\u001b[39m, val_vs_test_frac\u001b[38;5;241m=\u001b[39m\u001b[38;5;241m0.5\u001b[39m, batch_size\u001b[38;5;241m=\u001b[39m\u001b[38;5;241m256\u001b[39m, seed\u001b[38;5;241m=\u001b[39m\u001b[38;5;28;01mNone\u001b[39;00m, \u001b[38;5;241m*\u001b[39m\u001b[38;5;241m*\u001b[39mkwargs):\n\u001b[1;32m     31\u001b[0m \u001b[38;5;250m    \u001b[39m\u001b[38;5;124;03m\"\"\"\u001b[39;00m\n\u001b[1;32m     32\u001b[0m \u001b[38;5;124;03m        Splits datset into train, test and val parts by given fractions.\u001b[39;00m\n\u001b[1;32m     33\u001b[0m \u001b[38;5;124;03m        The `train_frac` of users in dataset will be train set, and the rest is splitted \u001b[39;00m\n\u001b[1;32m     34\u001b[0m \u001b[38;5;124;03m        into val and test in `val_vs_test_frac` proportion.\u001b[39;00m\n\u001b[1;32m     35\u001b[0m \u001b[38;5;124;03m    \"\"\"\u001b[39;00m\n\u001b[0;32m---> 36\u001b[0m     train, rem \u001b[38;5;241m=\u001b[39m \u001b[43mdataset\u001b[49m\u001b[38;5;241;43m.\u001b[39;49m\u001b[43msplit_by_users\u001b[49m\u001b[43m(\u001b[49m\u001b[43mtrain_frac\u001b[49m\u001b[43m,\u001b[49m\u001b[43m \u001b[49m\u001b[43mseed\u001b[49m\u001b[38;5;241;43m=\u001b[39;49m\u001b[43mseed\u001b[49m\u001b[43m)\u001b[49m\n\u001b[1;32m     37\u001b[0m     val, test \u001b[38;5;241m=\u001b[39m rem\u001b[38;5;241m.\u001b[39msplit_by_users(val_vs_test_frac, seed\u001b[38;5;241m=\u001b[39mseed)\n\u001b[1;32m     39\u001b[0m     train_loader \u001b[38;5;241m=\u001b[39m torch\u001b[38;5;241m.\u001b[39mutils\u001b[38;5;241m.\u001b[39mdata\u001b[38;5;241m.\u001b[39mDataLoader(\n\u001b[1;32m     40\u001b[0m         train,\n\u001b[1;32m     41\u001b[0m         batch_size\u001b[38;5;241m=\u001b[39mbatch_size,\n\u001b[0;32m   (...)\u001b[0m\n\u001b[1;32m     44\u001b[0m         \u001b[38;5;241m*\u001b[39m\u001b[38;5;241m*\u001b[39mkwargs\n\u001b[1;32m     45\u001b[0m     )\n",
      "File \u001b[0;32m~/benchmark/src/datasets.py:241\u001b[0m, in \u001b[0;36mRecommendationData.split_by_users\u001b[0;34m(self, ratio, seed, **kwargs)\u001b[0m\n\u001b[1;32m    238\u001b[0m m1 \u001b[38;5;241m=\u001b[39m \u001b[38;5;28mself\u001b[39m\u001b[38;5;241m.\u001b[39mmetadata[\u001b[38;5;28mself\u001b[39m\u001b[38;5;241m.\u001b[39mmetadata[\u001b[38;5;124m'\u001b[39m\u001b[38;5;124muser_id\u001b[39m\u001b[38;5;124m'\u001b[39m]\u001b[38;5;241m.\u001b[39misin(train_users)]\u001b[38;5;241m.\u001b[39mcopy()\n\u001b[1;32m    239\u001b[0m m2 \u001b[38;5;241m=\u001b[39m \u001b[38;5;28mself\u001b[39m\u001b[38;5;241m.\u001b[39mmetadata[\u001b[38;5;28mself\u001b[39m\u001b[38;5;241m.\u001b[39mmetadata[\u001b[38;5;124m'\u001b[39m\u001b[38;5;124muser_id\u001b[39m\u001b[38;5;124m'\u001b[39m]\u001b[38;5;241m.\u001b[39misin(test_users)]\u001b[38;5;241m.\u001b[39mcopy()\n\u001b[1;32m    240\u001b[0m \u001b[38;5;28;01mreturn\u001b[39;00m (\n\u001b[0;32m--> 241\u001b[0m     \u001b[38;5;28;43mself\u001b[39;49m\u001b[38;5;241;43m.\u001b[39;49m\u001b[43m_from_metadata\u001b[49m\u001b[43m(\u001b[49m\u001b[43mm1\u001b[49m\u001b[43m,\u001b[49m\u001b[43m \u001b[49m\u001b[38;5;241;43m*\u001b[39;49m\u001b[38;5;241;43m*\u001b[39;49m\u001b[43mkwargs\u001b[49m\u001b[43m)\u001b[49m, \n\u001b[1;32m    242\u001b[0m     \u001b[38;5;28mself\u001b[39m\u001b[38;5;241m.\u001b[39m_from_metadata(m2, \u001b[38;5;241m*\u001b[39m\u001b[38;5;241m*\u001b[39mkwargs)\n\u001b[1;32m    243\u001b[0m )\n",
      "File \u001b[0;32m~/benchmark/src/datasets.py:169\u001b[0m, in \u001b[0;36mRecommendationData._from_metadata\u001b[0;34m(self, metadata, inplace, **kwargs)\u001b[0m\n\u001b[1;32m    167\u001b[0m \u001b[38;5;28;01mif\u001b[39;00m \u001b[38;5;28mself\u001b[39m\u001b[38;5;241m.\u001b[39mitem_features \u001b[38;5;129;01mis\u001b[39;00m \u001b[38;5;129;01mnot\u001b[39;00m \u001b[38;5;28;01mNone\u001b[39;00m:\n\u001b[1;32m    168\u001b[0m     item_features \u001b[38;5;241m=\u001b[39m \u001b[38;5;28mself\u001b[39m\u001b[38;5;241m.\u001b[39mitem_features[m[\u001b[38;5;124m'\u001b[39m\u001b[38;5;124mitem_feature_idx\u001b[39m\u001b[38;5;124m'\u001b[39m],:]\n\u001b[0;32m--> 169\u001b[0m \u001b[38;5;28;01mif\u001b[39;00m \u001b[38;5;28;43mself\u001b[39;49m\u001b[38;5;241;43m.\u001b[39;49m\u001b[43mitem_categorical\u001b[49m \u001b[38;5;129;01mis\u001b[39;00m \u001b[38;5;129;01mnot\u001b[39;00m \u001b[38;5;28;01mNone\u001b[39;00m:\n\u001b[1;32m    170\u001b[0m     item_categorical \u001b[38;5;241m=\u001b[39m \u001b[38;5;28mself\u001b[39m\u001b[38;5;241m.\u001b[39mitem_categorical[m[\u001b[38;5;124m'\u001b[39m\u001b[38;5;124mitem_feature_idx\u001b[39m\u001b[38;5;124m'\u001b[39m],:]\n\u001b[1;32m    171\u001b[0m \u001b[38;5;28;01mif\u001b[39;00m \u001b[38;5;28mself\u001b[39m\u001b[38;5;241m.\u001b[39muser_features \u001b[38;5;129;01mis\u001b[39;00m \u001b[38;5;129;01mnot\u001b[39;00m \u001b[38;5;28;01mNone\u001b[39;00m:\n",
      "\u001b[0;31mAttributeError\u001b[0m: 'OpenCDP' object has no attribute 'item_categorical'"
     ]
    }
   ],
   "source": [
    "for group in ['cosmetics', 'multi']:\n",
    "    for filename in os.listdir(pkl_path):    \n",
    "        result = []\n",
    "        if not filename.startswith(group):\n",
    "            continue\n",
    "        print(f\"\\n == {filename} ==\")\n",
    "        dataset = OpenCDP.load(os.path.join(pkl_path, filename))\n",
    "        (\n",
    "            train_loader, \n",
    "            val_loader,\n",
    "            test_loader, \n",
    "            train_user_item_matrix, \n",
    "            train_num_items\n",
    "        ) = get_train_val_test_tmatrix_tnumitems(dataset, batch_size=800)\n",
    "    \n",
    "        print(f\"{len(dataset)} data points among {len(train_loader)} batches\")\n",
    "        for embeddings in ['neural', 'svd']:\n",
    "            print(f\"\\nEvaluating {experiment_name} with {embeddings} embeddings\")\n",
    "\n",
    "            model = SlatewiseAttention(\n",
    "                RecsysEmbedding(train_num_items, train_user_item_matrix, embeddings=embeddings),\n",
    "                output_dim=1\n",
    "            ).to(device)\n",
    "\n",
    "            best_model, metrics = train(\n",
    "                model, \n",
    "                train_loader, val_loader, test_loader, \n",
    "                device=device, lr=1e-3, num_epochs=5000, early_stopping=7,\n",
    "                silent=True\n",
    "            )\n",
    "            \n",
    "            print(metrics)\n",
    "            metrics['embeddings'] = embeddings\n",
    "            result.append(metrics)\n",
    "        pd.DataFrame(result).to_csv(f'results/{filename}_{experiment_name}.csv')\n",
    "        del dataset, train_loader, val_loader, test_loader, train_user_item_matrix, train_num_items"
   ]
  }
 ],
 "metadata": {
  "kernelspec": {
   "display_name": "Python 3 (ipykernel)",
   "language": "python",
   "name": "python3"
  },
  "language_info": {
   "codemirror_mode": {
    "name": "ipython",
    "version": 3
   },
   "file_extension": ".py",
   "mimetype": "text/x-python",
   "name": "python",
   "nbconvert_exporter": "python",
   "pygments_lexer": "ipython3",
   "version": "3.10.13"
  }
 },
 "nbformat": 4,
 "nbformat_minor": 5
}
