{
 "cells": [
  {
   "cell_type": "code",
   "execution_count": 3,
   "id": "05773a36",
   "metadata": {},
   "outputs": [
    {
     "data": {
      "text/plain": [
       "<torch._C.Generator at 0x7fd4f051b4f0>"
      ]
     },
     "execution_count": 3,
     "metadata": {},
     "output_type": "execute_result"
    }
   ],
   "source": [
    "import torch\n",
    "import random\n",
    "import datetime\n",
    "import pandas as pd\n",
    "import numpy as np\n",
    "import os\n",
    "\n",
    "from torch.utils.data import Dataset\n",
    "from src.datasets import RL4RS, ContentWise, DummyData, OpenCDP\n",
    "from src.utils import evaluate_model, get_dummy_data, get_train_val_test_tmatrix_tnumitems\n",
    "from src.embeddings import RecsysEmbedding\n",
    "\n",
    "experiment_name = 'MatrixFactorization'\n",
    "device = 'cuda:0'\n",
    "seed = 7331\n",
    "pkl_path = '../pkl/'\n",
    "\n",
    "random.seed(seed)\n",
    "np.random.seed(seed)\n",
    "torch.manual_seed(seed)"
   ]
  },
  {
   "cell_type": "markdown",
   "id": "a474ce32",
   "metadata": {},
   "source": [
    "# Модель"
   ]
  },
  {
   "cell_type": "code",
   "execution_count": 5,
   "id": "6a8bcd47",
   "metadata": {},
   "outputs": [],
   "source": [
    "class MF(torch.nn.Module):\n",
    "    def __init__(self, embedding):\n",
    "        super().__init__()\n",
    "        self.embedding = embedding\n",
    "    \n",
    "    def forward(self, batch):\n",
    "        item_embs, user_embs = self.embedding(batch)\n",
    "        scores = item_embs * user_embs[:, :, None, :].repeat(1, 1, item_embs.size(-2), 1)\n",
    "        scores = scores.sum(-1)\n",
    "        return scores"
   ]
  },
  {
   "cell_type": "markdown",
   "id": "19c6c5aa",
   "metadata": {},
   "source": [
    "# ContentWise"
   ]
  },
  {
   "cell_type": "code",
   "execution_count": 7,
   "id": "5f00b5b5",
   "metadata": {},
   "outputs": [
    {
     "name": "stdout",
     "output_type": "stream",
     "text": [
      "20216 data points among 108 batches\n"
     ]
    },
    {
     "data": {
      "text/plain": [
       "{'f1': 0.2006726711988449,\n",
       " 'roc-auc': 0.6502835750579834,\n",
       " 'accuracy': 0.26173314452171326,\n",
       " 'embeddings': 'svd'}"
      ]
     },
     "execution_count": 7,
     "metadata": {},
     "output_type": "execute_result"
    }
   ],
   "source": [
    "dataset = ContentWise.load(os.path.join(pkl_path, 'cw.pkl'))\n",
    "(\n",
    "    train_loader, \n",
    "    val_loader, \n",
    "    test_loader, \n",
    "    train_user_item_matrix, \n",
    "    train_num_items\n",
    ") = get_train_val_test_tmatrix_tnumitems(dataset, batch_size=150)\n",
    "\n",
    "print(f\"{len(dataset)} data points among {len(train_loader)} batches\")\n",
    "\n",
    "model = MF(\n",
    "    RecsysEmbedding(dataset.n_items, train_user_item_matrix, embeddings='svd'),\n",
    ").to('cpu')\n",
    "\n",
    "test_scores = evaluate_model(model, test_loader, device='cpu', silent=True, debug=False)\n",
    "test_scores['embeddings'] = 'svd'\n",
    "test_scores"
   ]
  },
  {
   "cell_type": "code",
   "execution_count": 8,
   "id": "36a7cb78",
   "metadata": {},
   "outputs": [],
   "source": [
    "pd.DataFrame({key:[test_scores[key]] for key in test_scores}).to_csv(f'results/cw_MatrixFactorization.csv')\n",
    "del dataset, train_loader, val_loader, test_loader, train_user_item_matrix, train_num_items"
   ]
  },
  {
   "cell_type": "markdown",
   "id": "154472b1",
   "metadata": {},
   "source": [
    "# RL4RS"
   ]
  },
  {
   "cell_type": "code",
   "execution_count": 14,
   "id": "4e394da2",
   "metadata": {},
   "outputs": [
    {
     "name": "stdout",
     "output_type": "stream",
     "text": [
      "45942 data points among 106 batches\n"
     ]
    },
    {
     "data": {
      "text/plain": [
       "{'f1': 0.7611088752746582,\n",
       " 'roc-auc': 0.7190536260604858,\n",
       " 'accuracy': 0.6578406691551208,\n",
       " 'embeddings': 'svd'}"
      ]
     },
     "execution_count": 14,
     "metadata": {},
     "output_type": "execute_result"
    }
   ],
   "source": [
    "dataset = RL4RS.load(os.path.join(pkl_path, 'rl4rs.pkl'))\n",
    "(\n",
    "    train_loader,\n",
    "    val_loader,\n",
    "    test_loader,\n",
    "    train_user_item_matrix,\n",
    "    train_num_items \n",
    ") = get_train_val_test_tmatrix_tnumitems(dataset, batch_size=350)\n",
    "\n",
    "print(f\"{len(dataset)} data points among {len(train_loader)} batches\")\n",
    "\n",
    "model = MF(\n",
    "    RecsysEmbedding(dataset.n_items, train_user_item_matrix, embeddings='svd'),\n",
    ").to('cpu')\n",
    "\n",
    "test_scores = evaluate_model(model, test_loader, device='cpu', silent=True, debug=False)\n",
    "test_scores['embeddings'] = 'svd'\n",
    "test_scores"
   ]
  },
  {
   "cell_type": "code",
   "execution_count": 15,
   "id": "a02bbecd",
   "metadata": {},
   "outputs": [],
   "source": [
    "pd.DataFrame({key:[test_scores[key]] for key in test_scores}).to_csv(f'results/rl4rs_MatrixFactorization.csv')\n",
    "del dataset, train_loader, val_loader, test_loader, train_user_item_matrix, train_num_items"
   ]
  },
  {
   "cell_type": "markdown",
   "id": "1f670c8e-7e85-4e86-88d6-228b9a299432",
   "metadata": {},
   "source": [
    "# OpenCDP"
   ]
  },
  {
   "cell_type": "code",
   "execution_count": 6,
   "id": "30c429b8-8b35-406d-95a5-35310f61cc83",
   "metadata": {},
   "outputs": [
    {
     "name": "stdout",
     "output_type": "stream",
     "text": [
      "\n",
      " == cosmetics_10_8.pkl ==\n",
      "115256 data points among 460 batches\n",
      "{'f1': 0.6125137805938721, 'roc-auc': 0.526435911655426, 'accuracy': 0.5191967487335205, 'embeddings': 'svd'}\n",
      "\n",
      " == cosmetics_10_24.pkl ==\n",
      "115190 data points among 461 batches\n",
      "{'f1': 0.6235707998275757, 'roc-auc': 0.5364035367965698, 'accuracy': 0.5278186798095703, 'embeddings': 'svd'}\n",
      "\n",
      " == cosmetics_5_8.pkl ==\n",
      "121483 data points among 487 batches\n",
      "{'f1': 0.6717410087585449, 'roc-auc': 0.5695322155952454, 'accuracy': 0.5446938872337341, 'embeddings': 'svd'}\n",
      "\n",
      " == cosmetics_20_8.pkl ==\n",
      "89073 data points among 357 batches\n",
      "{'f1': 0.41108468174934387, 'roc-auc': 0.5153679847717285, 'accuracy': 0.4976668357849121, 'embeddings': 'svd'}\n",
      "\n",
      " == cosmetics_10_4.pkl ==\n",
      "115287 data points among 462 batches\n",
      "{'f1': 0.612734854221344, 'roc-auc': 0.5334126949310303, 'accuracy': 0.5211506485939026, 'embeddings': 'svd'}\n",
      "\n",
      " == cosmetics_5_24.pkl ==\n",
      "121463 data points among 484 batches\n",
      "{'f1': 0.6769800186157227, 'roc-auc': 0.5859543681144714, 'accuracy': 0.5573633909225464, 'embeddings': 'svd'}\n",
      "\n",
      " == cosmetics_20_4.pkl ==\n",
      "89272 data points among 358 batches\n",
      "{'f1': 0.4162364602088928, 'roc-auc': 0.5141781568527222, 'accuracy': 0.497362345457077, 'embeddings': 'svd'}\n",
      "\n",
      " == cosmetics_20_1.pkl ==\n",
      "93094 data points among 372 batches\n",
      "{'f1': 0.42070505023002625, 'roc-auc': 0.5103344917297363, 'accuracy': 0.49663469195365906, 'embeddings': 'svd'}\n",
      "\n",
      " == cosmetics_5_4.pkl ==\n",
      "121493 data points among 487 batches\n",
      "{'f1': 0.6764917373657227, 'roc-auc': 0.5694367289543152, 'accuracy': 0.5482617020606995, 'embeddings': 'svd'}\n",
      "\n",
      " == cosmetics_20_24.pkl ==\n",
      "88804 data points among 355 batches\n",
      "{'f1': 0.42127498984336853, 'roc-auc': 0.5182222127914429, 'accuracy': 0.4986930191516876, 'embeddings': 'svd'}\n",
      "\n",
      " == cosmetics_20_2.pkl ==\n",
      "90225 data points among 362 batches\n",
      "{'f1': 0.4126335084438324, 'roc-auc': 0.5134368538856506, 'accuracy': 0.49696189165115356, 'embeddings': 'svd'}\n",
      "\n",
      " == cosmetics_10_2.pkl ==\n",
      "115407 data points among 462 batches\n",
      "{'f1': 0.6156143546104431, 'roc-auc': 0.544649064540863, 'accuracy': 0.5283989906311035, 'embeddings': 'svd'}\n",
      "\n",
      " == cosmetics_5_2.pkl ==\n",
      "121514 data points among 485 batches\n",
      "{'f1': 0.6768272519111633, 'roc-auc': 0.5898310542106628, 'accuracy': 0.5557492971420288, 'embeddings': 'svd'}\n",
      "\n",
      " == cosmetics_10_1.pkl ==\n",
      "115746 data points among 463 batches\n",
      "{'f1': 0.6134238243103027, 'roc-auc': 0.5243567824363708, 'accuracy': 0.516496479511261, 'embeddings': 'svd'}\n",
      "\n",
      " == cosmetics_5_1.pkl ==\n",
      "121585 data points among 485 batches\n",
      "{'f1': 0.6818093061447144, 'roc-auc': 0.5808018445968628, 'accuracy': 0.55584716796875, 'embeddings': 'svd'}\n"
     ]
    }
   ],
   "source": [
    "# cosmetics\n",
    "for filename in os.listdir(pkl_path):\n",
    "    if not filename.startswith('cosmetics'):\n",
    "        continue\n",
    "    print(f\"\\n == {filename} ==\")\n",
    "    dataset = OpenCDP.load(os.path.join(pkl_path, filename))\n",
    "    (\n",
    "        train_loader, \n",
    "        val_loader,\n",
    "        test_loader, \n",
    "        train_user_item_matrix, \n",
    "        train_num_items\n",
    "    ) = get_train_val_test_tmatrix_tnumitems(dataset, batch_size=200)\n",
    "\n",
    "    print(f\"{len(dataset)} data points among {len(train_loader)} batches\")\n",
    "\n",
    "    model = MF(\n",
    "        RecsysEmbedding(dataset.n_items, train_user_item_matrix, embeddings='svd'),\n",
    "    ).to('cpu')\n",
    "    \n",
    "    test_scores = evaluate_model(model, test_loader, device='cpu', silent=True, debug=False)\n",
    "    test_scores['embeddings'] = 'svd'\n",
    "    print(test_scores)\n",
    "    pd.DataFrame({key:[test_scores[key]] for key in test_scores}).to_csv(f'results/{filename}_MatrixFactorization.csv')"
   ]
  }
 ],
 "metadata": {
  "kernelspec": {
   "display_name": "Python 3 (ipykernel)",
   "language": "python",
   "name": "python3"
  },
  "language_info": {
   "codemirror_mode": {
    "name": "ipython",
    "version": 3
   },
   "file_extension": ".py",
   "mimetype": "text/x-python",
   "name": "python",
   "nbconvert_exporter": "python",
   "pygments_lexer": "ipython3",
   "version": "3.10.13"
  }
 },
 "nbformat": 4,
 "nbformat_minor": 5
}
