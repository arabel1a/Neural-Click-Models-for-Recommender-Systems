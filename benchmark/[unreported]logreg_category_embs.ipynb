{
 "cells": [
  {
   "cell_type": "code",
   "execution_count": 1,
   "id": "183295d2",
   "metadata": {},
   "outputs": [
    {
     "data": {
      "text/plain": [
       "<torch._C.Generator at 0x7f53b453ab30>"
      ]
     },
     "execution_count": 1,
     "metadata": {},
     "output_type": "execute_result"
    }
   ],
   "source": [
    "import torch\n",
    "import random\n",
    "import datetime\n",
    "import pandas as pd\n",
    "import numpy as np\n",
    "import os\n",
    "\n",
    "from torch.utils.data import Dataset\n",
    "from src.datasets import RL4RS, ContentWise, DummyData, OpenCDP\n",
    "from src.utils import train, get_dummy_data, get_train_val_test_tmatrix_tnumitems\n",
    "from src.embeddings import RecsysEmbedding, IndexItemEmbeddings, CategoricalItemEmbeddings, SVDItemEmbeddings, MixedEmbeddings\n",
    "\n",
    "experiment_name = 'LogRegCE'\n",
    "device = 'cuda:0'\n",
    "seed = 7331\n",
    "pkl_path = '../pkl/'\n",
    "\n",
    "\n",
    "random.seed(seed)\n",
    "np.random.seed(seed)\n",
    "torch.manual_seed(seed)"
   ]
  },
  {
   "cell_type": "markdown",
   "id": "9b17d656",
   "metadata": {},
   "source": [
    "# Модель"
   ]
  },
  {
   "cell_type": "code",
   "execution_count": 2,
   "id": "6060e71d",
   "metadata": {},
   "outputs": [],
   "source": [
    "class LogisticRegression(torch.nn.Module):\n",
    "    def __init__(self, embedding, output_dim=1):\n",
    "        super().__init__()\n",
    "        self.embedding = embedding\n",
    "        self.linear = torch.nn.Linear(2 * embedding.embedding_dim, output_dim)\n",
    "    \n",
    "    def forward(self, batch):\n",
    "        item_embs, user_embs = self.embedding(batch)\n",
    "\n",
    "        features = torch.cat(\n",
    "            [\n",
    "                item_embs,\n",
    "                user_embs[:, :, None, :].repeat(1, 1, item_embs.size(-2), 1)\n",
    "            ],\n",
    "            dim = -1\n",
    "        )\n",
    "        return self.linear(features).squeeze(-1)"
   ]
  },
  {
   "cell_type": "markdown",
   "id": "ddbef021-2fb8-4434-b94f-2f243db7ba83",
   "metadata": {},
   "source": [
    "# Проверка категориальных фичей\n",
    "\n",
    "### Dummy data"
   ]
  },
  {
   "cell_type": "code",
   "execution_count": 3,
   "id": "c79dced5-600e-46b2-9d65-7d0859f8af73",
   "metadata": {},
   "outputs": [
    {
     "name": "stdout",
     "output_type": "stream",
     "text": [
      "cosmetics_10_1.pkl   cosmetics_20_8.pkl  multi_10_1.pkl   multi_20_8.pkl\n",
      "cosmetics_10_2.pkl   cosmetics_5_1.pkl\t multi_10_2.pkl   multi_5_1.pkl\n",
      "cosmetics_10_24.pkl  cosmetics_5_2.pkl\t multi_10_24.pkl  multi_5_2.pkl\n",
      "cosmetics_10_4.pkl   cosmetics_5_24.pkl  multi_10_4.pkl   multi_5_24.pkl\n",
      "cosmetics_10_8.pkl   cosmetics_5_4.pkl\t multi_10_8.pkl   multi_5_4.pkl\n",
      "cosmetics_20_1.pkl   cosmetics_5_8.pkl\t multi_20_1.pkl   multi_5_8.pkl\n",
      "cosmetics_20_2.pkl   cosmetics_8_24.pkl  multi_20_2.pkl   rl4rs.pkl\n",
      "cosmetics_20_24.pkl  cw.pkl\t\t multi_20_24.pkl\n",
      "cosmetics_20_4.pkl   ilya_pkl\t\t multi_20_4.pkl\n"
     ]
    }
   ],
   "source": [
    "!ls ../pkl"
   ]
  },
  {
   "cell_type": "code",
   "execution_count": 4,
   "id": "88d6af66-7928-425f-9e58-92bb6452654b",
   "metadata": {},
   "outputs": [
    {
     "name": "stdout",
     "output_type": "stream",
     "text": [
      "biulding affinity matrix...\n"
     ]
    },
    {
     "name": "stderr",
     "output_type": "stream",
     "text": [
      "3it [00:00, 4310.69it/s]"
     ]
    },
    {
     "name": "stdout",
     "output_type": "stream",
     "text": [
      "2 data points among 1 batches\n"
     ]
    },
    {
     "name": "stderr",
     "output_type": "stream",
     "text": [
      "\n"
     ]
    },
    {
     "name": "stdout",
     "output_type": "stream",
     "text": [
      "Test before learning: {'f1': 0.0, 'roc-auc': 0.3333333134651184, 'accuracy': 0.5}\n"
     ]
    },
    {
     "name": "stderr",
     "output_type": "stream",
     "text": [
      "train... loss:0.7032778263092041:   0%|                                                                                                    | 1/5000 [00:00<25:30,  3.27it/s]"
     ]
    },
    {
     "name": "stdout",
     "output_type": "stream",
     "text": [
      "Val update: epoch: 0 |accuracy: 0.5 | f1: 0.5 | auc: 0.6666666269302368 | treshold: 0.38\n",
      "Test: accuracy: 0.5 | f1: 0.5 | auc: 0.6666666269302368 | \n"
     ]
    },
    {
     "name": "stderr",
     "output_type": "stream",
     "text": [
      "train... loss:0.6855418086051941:   0%|                                                                                                    | 3/5000 [00:00<23:00,  3.62it/s]"
     ]
    },
    {
     "name": "stdout",
     "output_type": "stream",
     "text": [
      "Val update: epoch: 2 |accuracy: 0.75 | f1: 0.6666666865348816 | auc: 0.6666666269302368 | treshold: 0.42000000000000004\n",
      "Test: accuracy: 0.75 | f1: 0.6666666865348816 | auc: 0.6666666269302368 | \n"
     ]
    },
    {
     "name": "stderr",
     "output_type": "stream",
     "text": [
      "train... loss:0.4575468599796295:   1%|▋                                                                                                  | 34/5000 [00:07<20:03,  4.13it/s]"
     ]
    },
    {
     "name": "stdout",
     "output_type": "stream",
     "text": [
      "Val update: epoch: 33 |accuracy: 0.75 | f1: 0.6666666865348816 | auc: 1.0 | treshold: 0.29000000000000004\n",
      "Test: accuracy: 0.75 | f1: 0.6666666865348816 | auc: 1.0 | \n"
     ]
    },
    {
     "name": "stderr",
     "output_type": "stream",
     "text": [
      "train... loss:0.451371967792511:   1%|▋                                                                                                   | 35/5000 [00:08<19:02,  4.35it/s]"
     ]
    },
    {
     "name": "stdout",
     "output_type": "stream",
     "text": [
      "Val update: epoch: 35 |accuracy: 1.0 | f1: 1.0 | auc: 1.0 | treshold: 0.51\n",
      "Test: accuracy: 1.0 | f1: 1.0 | auc: 1.0 | \n"
     ]
    },
    {
     "name": "stderr",
     "output_type": "stream",
     "text": [
      "\n"
     ]
    },
    {
     "data": {
      "text/plain": [
       "(LogisticRegression(\n",
       "   (embedding): MixedEmbeddings(\n",
       "     (embeddings): ModuleList(\n",
       "       (0): IndexItemEmbeddings(\n",
       "         (embeddings): Embedding(6, 32)\n",
       "       )\n",
       "       (1): SVDItemEmbeddings()\n",
       "       (2): CategoricalItemEmbeddings(\n",
       "         (embeddings): ModuleList(\n",
       "           (0): Embedding(5, 8)\n",
       "           (1): Embedding(5, 8)\n",
       "         )\n",
       "       )\n",
       "     )\n",
       "   )\n",
       "   (linear): Linear(in_features=100, out_features=1, bias=True)\n",
       " ),\n",
       " {'f1': 1.0, 'roc-auc': 1.0, 'accuracy': 1.0})"
      ]
     },
     "execution_count": 4,
     "metadata": {},
     "output_type": "execute_result"
    }
   ],
   "source": [
    "# dataset = #OpenCDP.load(os.path.join(pkl_path, 'cosmetics_10_24.pkl'))\n",
    "dataset=DummyData()\n",
    "train_loader, train_user_item_matrix = get_dummy_data(dataset)\n",
    "# (\n",
    "#     train_loader, \n",
    "#     val_loader,\n",
    "#     test_loader, \n",
    "#     train_user_item_matrix, \n",
    "#     train_num_items\n",
    "# ) = get_train_val_test_tmatrix_tnumitems(dataset, batch_size=800)\n",
    "print(f\"{len(dataset)} data points among {len(train_loader)} batches\")\n",
    "index_embeddings = IndexItemEmbeddings(dataset.n_items, embedding_dim = 32)\n",
    "category_embeddings = CategoricalItemEmbeddings(dataset.item_categorical)\n",
    "svd_embeddings = SVDItemEmbeddings(train_user_item_matrix, embedding_dim=2)\n",
    "\n",
    "me = MixedEmbeddings(\n",
    "    index_embeddings,\n",
    "    svd_embeddings,\n",
    "    category_embeddings\n",
    ")\n",
    "\n",
    "model = LogisticRegression(me, output_dim=1)\n",
    "train(\n",
    "    model, \n",
    "    train_loader, train_loader, train_loader, \n",
    "    device=device, lr=1e-3, num_epochs=5000, early_stopping=7,\n",
    "    silent=True, \n",
    "    )"
   ]
  },
  {
   "cell_type": "markdown",
   "id": "63a11765-07e3-41a5-b869-470065125d5d",
   "metadata": {},
   "source": [
    "# OpenCDP"
   ]
  },
  {
   "cell_type": "code",
   "execution_count": 5,
   "id": "c564c2c2-310d-426e-b68c-335694a21716",
   "metadata": {},
   "outputs": [],
   "source": [
    "dataset = OpenCDP.load(os.path.join(pkl_path, 'cosmetics_8_24.pkl'))\n",
    "(\n",
    "    train_loader, \n",
    "    val_loader,\n",
    "    test_loader, \n",
    "    train_user_item_matrix, \n",
    "    train_num_items\n",
    ") = get_train_val_test_tmatrix_tnumitems(dataset, batch_size=800)"
   ]
  },
  {
   "cell_type": "code",
   "execution_count": 6,
   "id": "f8b39be1-7d83-4ae8-969f-4b47bb91f06c",
   "metadata": {},
   "outputs": [
    {
     "ename": "AttributeError",
     "evalue": "'NoneType' object has no attribute 'shape'",
     "output_type": "error",
     "traceback": [
      "\u001b[0;31m---------------------------------------------------------------------------\u001b[0m",
      "\u001b[0;31mAttributeError\u001b[0m                            Traceback (most recent call last)",
      "Cell \u001b[0;32mIn[6], line 1\u001b[0m\n\u001b[0;32m----> 1\u001b[0m \u001b[43mdataset\u001b[49m\u001b[43m[\u001b[49m\u001b[38;5;241;43m0\u001b[39;49m\u001b[43m]\u001b[49m\u001b[43m[\u001b[49m\u001b[38;5;124;43m'\u001b[39;49m\u001b[38;5;124;43mslates_item_categorical\u001b[39;49m\u001b[38;5;124;43m'\u001b[39;49m\u001b[43m]\u001b[49m\u001b[38;5;241;43m.\u001b[39;49m\u001b[43mshape\u001b[49m\n",
      "\u001b[0;31mAttributeError\u001b[0m: 'NoneType' object has no attribute 'shape'"
     ]
    }
   ],
   "source": [
    "dataset[0]['slates_item_categorical'].shape"
   ]
  },
  {
   "cell_type": "code",
   "execution_count": null,
   "id": "47c57d1d-f53e-42a0-9b46-abd1a1067656",
   "metadata": {},
   "outputs": [],
   "source": [
    "print(f\"{len(dataset)} data points among {len(train_loader)} batches\")\n",
    "\n",
    "index_embeddings = IndexItemEmbeddings(dataset.n_items, embedding_dim = 32)\n",
    "category_embeddings = CategoricalItemEmbeddings(dataset.item_categorical)\n",
    "svd_embeddings = SVDItemEmbeddings(train_user_item_matrix, embedding_dim=32)\n",
    "\n",
    "me = MixedEmbeddings(\n",
    "    index_embeddings,\n",
    "    svd_embeddings,\n",
    "    category_embeddings\n",
    ")\n",
    "\n",
    "model = LogisticRegression(me, output_dim=1)\n",
    "train(\n",
    "    model, \n",
    "    train_loader, val_loader, test_loader, \n",
    "    device=device, lr=1e-3, num_epochs=5000, early_stopping=7,\n",
    "    silent=True, \n",
    ")"
   ]
  }
 ],
 "metadata": {
  "kernelspec": {
   "display_name": "Python 3 (ipykernel)",
   "language": "python",
   "name": "python3"
  },
  "language_info": {
   "codemirror_mode": {
    "name": "ipython",
    "version": 3
   },
   "file_extension": ".py",
   "mimetype": "text/x-python",
   "name": "python",
   "nbconvert_exporter": "python",
   "pygments_lexer": "ipython3",
   "version": "3.10.13"
  }
 },
 "nbformat": 4,
 "nbformat_minor": 5
}
