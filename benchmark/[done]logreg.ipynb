{
 "cells": [
  {
   "cell_type": "code",
   "execution_count": 1,
   "id": "183295d2",
   "metadata": {},
   "outputs": [
    {
     "data": {
      "text/plain": [
       "<torch._C.Generator at 0x7f6b2e50aa70>"
      ]
     },
     "execution_count": 1,
     "metadata": {},
     "output_type": "execute_result"
    }
   ],
   "source": [
    "import torch\n",
    "import random\n",
    "import datetime\n",
    "import pandas as pd\n",
    "import numpy as np\n",
    "import os\n",
    "\n",
    "from torch.utils.data import Dataset\n",
    "from src.datasets import RL4RS, ContentWise, DummyData, OpenCDP\n",
    "from src.utils import train, get_dummy_data, get_train_val_test_tmatrix_tnumitems\n",
    "from src.embeddings import RecsysEmbedding\n",
    "\n",
    "experiment_name = 'LogReg'\n",
    "device = 'cuda:0'\n",
    "seed = 7331\n",
    "pkl_path = '../pkl/'\n",
    "\n",
    "\n",
    "random.seed(seed)\n",
    "np.random.seed(seed)\n",
    "torch.manual_seed(seed)"
   ]
  },
  {
   "cell_type": "markdown",
   "id": "9b17d656",
   "metadata": {},
   "source": [
    "# Модель"
   ]
  },
  {
   "cell_type": "code",
   "execution_count": 2,
   "id": "6060e71d",
   "metadata": {},
   "outputs": [],
   "source": [
    "class LogisticRegression(torch.nn.Module):\n",
    "    def __init__(self, embedding, output_dim=1):\n",
    "        super().__init__()\n",
    "        self.embedding = embedding\n",
    "        self.linear = torch.nn.Linear(2 * embedding.embedding_dim, output_dim)\n",
    "    \n",
    "    def forward(self, batch):\n",
    "        item_embs, user_embs = self.embedding(batch)\n",
    "\n",
    "        features = torch.cat(\n",
    "            [\n",
    "                item_embs,\n",
    "                user_embs[:, :, None, :].repeat(1, 1, item_embs.size(-2), 1)\n",
    "            ],\n",
    "            dim = -1\n",
    "        )\n",
    "        return self.linear(features).squeeze(-1)"
   ]
  },
  {
   "cell_type": "markdown",
   "id": "e35d2d72",
   "metadata": {},
   "source": [
    "# Игрушечный датасет: проверим, что сходится к идеальным метрикам"
   ]
  },
  {
   "cell_type": "code",
   "execution_count": 3,
   "id": "bdcf5f68",
   "metadata": {},
   "outputs": [
    {
     "name": "stdout",
     "output_type": "stream",
     "text": [
      "biulding affinity matrix...\n"
     ]
    },
    {
     "name": "stderr",
     "output_type": "stream",
     "text": [
      "3it [00:00, 3006.67it/s]\n"
     ]
    },
    {
     "name": "stdout",
     "output_type": "stream",
     "text": [
      "Test before learning: {'f1': 0.0, 'roc-auc': 0.0, 'accuracy': 0.75}\n"
     ]
    },
    {
     "name": "stderr",
     "output_type": "stream",
     "text": [
      "train... loss:0.7120252847671509:   0%|                                                                                                    | 2/5000 [00:00<17:45,  4.69it/s]"
     ]
    },
    {
     "name": "stdout",
     "output_type": "stream",
     "text": [
      "Val update: epoch: 0 |accuracy: 0.25 | f1: 0.4000000059604645 | auc: 0.0 | treshold: 0.01\n",
      "Test: accuracy: 0.25 | f1: 0.4000000059604645 | auc: 0.0 | \n"
     ]
    },
    {
     "name": "stderr",
     "output_type": "stream",
     "text": [
      "train... loss:0.6782947182655334:   0%|▏                                                                                                  | 12/5000 [00:02<16:03,  5.18it/s]"
     ]
    },
    {
     "name": "stdout",
     "output_type": "stream",
     "text": [
      "Val update: epoch: 10 |accuracy: 0.25 | f1: 0.4000000059604645 | auc: 0.6666666269302368 | treshold: 0.01\n",
      "Test: accuracy: 0.25 | f1: 0.4000000059604645 | auc: 0.6666666269302368 | \n"
     ]
    },
    {
     "name": "stderr",
     "output_type": "stream",
     "text": [
      "train... loss:0.6717303991317749:   0%|▎                                                                                                  | 14/5000 [00:02<16:41,  4.98it/s]"
     ]
    },
    {
     "name": "stdout",
     "output_type": "stream",
     "text": [
      "Val update: epoch: 12 |accuracy: 0.75 | f1: 0.6666666865348816 | auc: 0.6666666269302368 | treshold: 0.44\n",
      "Test: accuracy: 0.75 | f1: 0.6666666865348816 | auc: 0.6666666269302368 | \n"
     ]
    },
    {
     "name": "stderr",
     "output_type": "stream",
     "text": [
      "train... loss:0.6438579559326172:   0%|▍                                                                                                  | 23/5000 [00:04<16:04,  5.16it/s]"
     ]
    },
    {
     "name": "stdout",
     "output_type": "stream",
     "text": [
      "Val update: epoch: 21 |accuracy: 0.75 | f1: 0.6666666865348816 | auc: 1.0 | treshold: 0.4\n",
      "Test: accuracy: 0.75 | f1: 0.6666666865348816 | auc: 1.0 | \n"
     ]
    },
    {
     "name": "stderr",
     "output_type": "stream",
     "text": [
      "train... loss:0.6351967453956604:   0%|▍                                                                                                  | 25/5000 [00:04<16:32,  5.01it/s]"
     ]
    },
    {
     "name": "stdout",
     "output_type": "stream",
     "text": [
      "Val update: epoch: 25 |accuracy: 1.0 | f1: 1.0 | auc: 1.0 | treshold: 0.47000000000000003\n",
      "Test: accuracy: 1.0 | f1: 1.0 | auc: 1.0 | \n"
     ]
    },
    {
     "name": "stderr",
     "output_type": "stream",
     "text": [
      "\n"
     ]
    },
    {
     "data": {
      "text/plain": [
       "(LogisticRegression(\n",
       "   (embedding): RecsysEmbedding()\n",
       "   (linear): Linear(in_features=4, out_features=1, bias=True)\n",
       " ),\n",
       " {'f1': 1.0, 'roc-auc': 1.0, 'accuracy': 1.0})"
      ]
     },
     "execution_count": 3,
     "metadata": {},
     "output_type": "execute_result"
    }
   ],
   "source": [
    "d = DummyData()\n",
    "dummy_loader, dummy_matrix = get_dummy_data(d)\n",
    "\n",
    "model = LogisticRegression(\n",
    "    RecsysEmbedding(\n",
    "        d.n_items, \n",
    "        dummy_matrix, \n",
    "        embeddings='svd',\n",
    "        embedding_dim=2\n",
    "    ).to('cpu'),\n",
    "    output_dim=1\n",
    ").to('cpu')\n",
    "\n",
    "train(\n",
    "    model, \n",
    "    dummy_loader, dummy_loader, dummy_loader,\n",
    "    device='cpu', lr=1e-2, num_epochs=5000, \n",
    "    silent=True\n",
    ")"
   ]
  },
  {
   "cell_type": "markdown",
   "id": "769a92f3",
   "metadata": {},
   "source": [
    "# ContentWise"
   ]
  },
  {
   "cell_type": "code",
   "execution_count": 4,
   "id": "6394d3a7",
   "metadata": {},
   "outputs": [
    {
     "name": "stdout",
     "output_type": "stream",
     "text": [
      "20216 data points among 108 batches\n"
     ]
    }
   ],
   "source": [
    "content_wise_results = []\n",
    "dataset = ContentWise.load(os.path.join(pkl_path, 'cw.pkl'))\n",
    "(\n",
    "    train_loader, \n",
    "    val_loader, \n",
    "    test_loader, \n",
    "    train_user_item_matrix, \n",
    "    train_num_items \n",
    ") = get_train_val_test_tmatrix_tnumitems(dataset, batch_size=150)\n",
    "\n",
    "print(f\"{len(dataset)} data points among {len(train_loader)} batches\")"
   ]
  },
  {
   "cell_type": "code",
   "execution_count": 5,
   "id": "a62d985f-68a9-46ba-b596-45fb27d595b1",
   "metadata": {},
   "outputs": [
    {
     "name": "stdout",
     "output_type": "stream",
     "text": [
      "\n",
      "Evaluating LogReg with svd embeddings\n",
      "Test before learning: {'f1': 0.15583325922489166, 'roc-auc': 0.5397244691848755, 'accuracy': 0.8541621565818787}\n"
     ]
    },
    {
     "name": "stderr",
     "output_type": "stream",
     "text": [
      "train... loss:34.17369136214256:   0%|▎                                                                                                 | 15/5000 [01:22<6:48:38,  4.92s/it]"
     ]
    },
    {
     "name": "stdout",
     "output_type": "stream",
     "text": [
      "Val update: epoch: 14 |accuracy: 0.4035112261772156 | f1: 0.18607716262340546 | auc: 0.5416983962059021 | treshold: 0.11\n",
      "Test: accuracy: 0.38198941946029663 | f1: 0.18071456253528595 | auc: 0.531307578086853 | \n"
     ]
    },
    {
     "name": "stderr",
     "output_type": "stream",
     "text": [
      "train... loss:33.66252315044403:   0%|▎                                                                                                 | 16/5000 [01:27<6:57:37,  5.03s/it]"
     ]
    },
    {
     "name": "stdout",
     "output_type": "stream",
     "text": [
      "Val update: epoch: 15 |accuracy: 0.4685017168521881 | f1: 0.1889752596616745 | auc: 0.5566744804382324 | treshold: 0.11\n",
      "Test: accuracy: 0.4539448022842407 | f1: 0.1840384602546692 | auc: 0.5457164645195007 | \n"
     ]
    },
    {
     "name": "stderr",
     "output_type": "stream",
     "text": [
      "train... loss:33.26375088095665:   0%|▎                                                                                                 | 17/5000 [01:33<7:04:07,  5.11s/it]"
     ]
    },
    {
     "name": "stdout",
     "output_type": "stream",
     "text": [
      "Val update: epoch: 16 |accuracy: 0.5476056933403015 | f1: 0.19529496133327484 | auc: 0.5739059448242188 | treshold: 0.11\n",
      "Test: accuracy: 0.5218430757522583 | f1: 0.1863102912902832 | auc: 0.5613773465156555 | \n"
     ]
    },
    {
     "name": "stderr",
     "output_type": "stream",
     "text": [
      "train... loss:32.919143080711365:   0%|▎                                                                                                | 18/5000 [01:38<7:07:38,  5.15s/it]"
     ]
    },
    {
     "name": "stdout",
     "output_type": "stream",
     "text": [
      "Val update: epoch: 17 |accuracy: 0.8640527129173279 | f1: 0.21215130388736725 | auc: 0.5914684534072876 | treshold: 0.13\n",
      "Test: accuracy: 0.8666956424713135 | f1: 0.2029111087322235 | auc: 0.5765737295150757 | \n"
     ]
    },
    {
     "name": "stderr",
     "output_type": "stream",
     "text": [
      "train... loss:32.66431283950806:   0%|▎                                                                                                 | 19/5000 [01:43<7:09:10,  5.17s/it]"
     ]
    },
    {
     "name": "stdout",
     "output_type": "stream",
     "text": [
      "Val update: epoch: 18 |accuracy: 0.8542386889457703 | f1: 0.22803398966789246 | auc: 0.6039218902587891 | treshold: 0.12\n",
      "Test: accuracy: 0.8570890426635742 | f1: 0.21802902221679688 | auc: 0.5900336503982544 | \n"
     ]
    },
    {
     "name": "stderr",
     "output_type": "stream",
     "text": [
      "train... loss:32.468343168497086:   0%|▍                                                                                                | 20/5000 [01:48<7:13:47,  5.23s/it]"
     ]
    },
    {
     "name": "stdout",
     "output_type": "stream",
     "text": [
      "Val update: epoch: 19 |accuracy: 0.8394242525100708 | f1: 0.2468215674161911 | auc: 0.6148432493209839 | treshold: 0.11\n",
      "Test: accuracy: 0.8441787958145142 | f1: 0.2321862131357193 | auc: 0.6006901264190674 | \n"
     ]
    },
    {
     "name": "stderr",
     "output_type": "stream",
     "text": [
      "train... loss:32.33807072043419:   0%|▍                                                                                                 | 21/5000 [01:54<7:14:56,  5.24s/it]"
     ]
    },
    {
     "name": "stdout",
     "output_type": "stream",
     "text": [
      "Val update: epoch: 20 |accuracy: 0.8169922232627869 | f1: 0.2515290379524231 | auc: 0.6251468658447266 | treshold: 0.09999999999999999\n",
      "Test: accuracy: 0.8241831660270691 | f1: 0.23953372240066528 | auc: 0.6130882501602173 | \n"
     ]
    },
    {
     "name": "stderr",
     "output_type": "stream",
     "text": [
      "train... loss:32.20621073246002:   0%|▍                                                                                                 | 22/5000 [01:59<7:13:45,  5.23s/it]"
     ]
    },
    {
     "name": "stdout",
     "output_type": "stream",
     "text": [
      "Val update: epoch: 21 |accuracy: 0.7938748002052307 | f1: 0.24954627454280853 | auc: 0.630211591720581 | treshold: 0.09\n",
      "Test: accuracy: 0.8013765215873718 | f1: 0.2420656830072403 | auc: 0.6210165619850159 | \n"
     ]
    },
    {
     "name": "stderr",
     "output_type": "stream",
     "text": [
      "train... loss:32.20301532745361:   0%|▍                                                                                                 | 23/5000 [02:04<7:16:12,  5.26s/it]"
     ]
    },
    {
     "name": "stdout",
     "output_type": "stream",
     "text": [
      "Val update: epoch: 22 |accuracy: 0.8085334897041321 | f1: 0.2543226480484009 | auc: 0.6320985555648804 | treshold: 0.09999999999999999\n",
      "Test: accuracy: 0.815011203289032 | f1: 0.24433264136314392 | auc: 0.6239711046218872 | \n"
     ]
    },
    {
     "name": "stderr",
     "output_type": "stream",
     "text": [
      "train... loss:32.22777020931244:   1%|▌                                                                                                 | 30/5000 [02:44<7:32:58,  5.47s/it]"
     ]
    },
    {
     "name": "stdout",
     "output_type": "stream",
     "text": [
      "Val update: epoch: 30 |accuracy: 0.777315616607666 | f1: 0.24893605709075928 | auc: 0.6327325105667114 | treshold: 0.09\n",
      "Test: accuracy: 0.7843512296676636 | f1: 0.24593403935432434 | auc: 0.625023365020752 | \n",
      "\n",
      "Evaluating LogReg with neural embeddings\n"
     ]
    },
    {
     "name": "stderr",
     "output_type": "stream",
     "text": [
      "\n"
     ]
    },
    {
     "name": "stdout",
     "output_type": "stream",
     "text": [
      "Test before learning: {'f1': 0.14299291372299194, 'roc-auc': 0.4776639938354492, 'accuracy': 0.5949721336364746}\n"
     ]
    },
    {
     "name": "stderr",
     "output_type": "stream",
     "text": [
      "train... loss:38.704011768102646:   0%|                                                                                                  | 2/5000 [00:12<8:48:55,  6.35s/it]"
     ]
    },
    {
     "name": "stdout",
     "output_type": "stream",
     "text": [
      "Val update: epoch: 1 |accuracy: 0.42996230721473694 | f1: 0.19890978932380676 | auc: 0.5792035460472107 | treshold: 0.06999999999999999\n",
      "Test: accuracy: 0.4432224929332733 | f1: 0.19802145659923553 | auc: 0.5794966816902161 | \n"
     ]
    },
    {
     "name": "stderr",
     "output_type": "stream",
     "text": [
      "train... loss:33.37846899032593:   0%|                                                                                                   | 3/5000 [00:19<8:55:43,  6.43s/it]"
     ]
    },
    {
     "name": "stdout",
     "output_type": "stream",
     "text": [
      "Val update: epoch: 2 |accuracy: 0.7189456820487976 | f1: 0.25298112630844116 | auc: 0.6603944301605225 | treshold: 0.11\n",
      "Test: accuracy: 0.7226979732513428 | f1: 0.24789750576019287 | auc: 0.6576807498931885 | \n"
     ]
    },
    {
     "name": "stderr",
     "output_type": "stream",
     "text": [
      "train... loss:32.06228965520859:   0%|                                                                                                   | 4/5000 [00:25<9:03:07,  6.52s/it]"
     ]
    },
    {
     "name": "stdout",
     "output_type": "stream",
     "text": [
      "Val update: epoch: 3 |accuracy: 0.6854846477508545 | f1: 0.2581024467945099 | auc: 0.6747778654098511 | treshold: 0.13\n",
      "Test: accuracy: 0.6902992129325867 | f1: 0.2553651034832001 | auc: 0.6705610156059265 | \n"
     ]
    },
    {
     "name": "stderr",
     "output_type": "stream",
     "text": [
      "train... loss:31.919831156730652:   0%|                                                                                                  | 5/5000 [00:32<9:01:49,  6.51s/it]"
     ]
    },
    {
     "name": "stdout",
     "output_type": "stream",
     "text": [
      "Val update: epoch: 4 |accuracy: 0.7090849876403809 | f1: 0.26594865322113037 | auc: 0.6862286329269409 | treshold: 0.13\n",
      "Test: accuracy: 0.713612973690033 | f1: 0.2610386312007904 | auc: 0.680209219455719 | \n"
     ]
    },
    {
     "name": "stderr",
     "output_type": "stream",
     "text": [
      "train... loss:31.812462240457535:   0%|▏                                                                                                 | 8/5000 [00:51<8:50:58,  6.38s/it]"
     ]
    },
    {
     "name": "stdout",
     "output_type": "stream",
     "text": [
      "Val update: epoch: 7 |accuracy: 0.8118515610694885 | f1: 0.26335692405700684 | auc: 0.6889840960502625 | treshold: 0.13\n",
      "Test: accuracy: 0.814069390296936 | f1: 0.25706344842910767 | auc: 0.6845792531967163 | \n"
     ]
    },
    {
     "name": "stderr",
     "output_type": "stream",
     "text": [
      "train... loss:31.80364418029785:   0%|▏                                                                                                  | 9/5000 [00:57<8:57:17,  6.46s/it]"
     ]
    },
    {
     "name": "stdout",
     "output_type": "stream",
     "text": [
      "Val update: epoch: 8 |accuracy: 0.7420631051063538 | f1: 0.267345130443573 | auc: 0.6895096302032471 | treshold: 0.14\n",
      "Test: accuracy: 0.7408389449119568 | f1: 0.2640112042427063 | auc: 0.6838366389274597 | \n"
     ]
    },
    {
     "name": "stderr",
     "output_type": "stream",
     "text": [
      "train... loss:31.514480710029602:   0%|▏                                                                                                | 11/5000 [01:10<8:53:02,  6.41s/it]"
     ]
    },
    {
     "name": "stdout",
     "output_type": "stream",
     "text": [
      "Val update: epoch: 10 |accuracy: 0.809732973575592 | f1: 0.2637733519077301 | auc: 0.692575216293335 | treshold: 0.14\n",
      "Test: accuracy: 0.8114902377128601 | f1: 0.2575048506259918 | auc: 0.6855150461196899 | \n"
     ]
    },
    {
     "name": "stderr",
     "output_type": "stream",
     "text": [
      "train... loss:31.36906459927559:   0%|▎                                                                                                 | 14/5000 [01:29<8:51:58,  6.40s/it]"
     ]
    },
    {
     "name": "stdout",
     "output_type": "stream",
     "text": [
      "Val update: epoch: 13 |accuracy: 0.8133314847946167 | f1: 0.25870707631111145 | auc: 0.6936290860176086 | treshold: 0.14\n",
      "Test: accuracy: 0.8139680027961731 | f1: 0.2526340186595917 | auc: 0.6886332631111145 | \n"
     ]
    },
    {
     "name": "stderr",
     "output_type": "stream",
     "text": [
      "train... loss:31.201329618692398:   0%|▍                                                                                                | 23/5000 [02:25<8:39:32,  6.26s/it]"
     ]
    },
    {
     "name": "stdout",
     "output_type": "stream",
     "text": [
      "Val update: epoch: 22 |accuracy: 0.7970371246337891 | f1: 0.2761264443397522 | auc: 0.6958919167518616 | treshold: 0.14\n",
      "Test: accuracy: 0.7954937219619751 | f1: 0.2621288299560547 | auc: 0.6899195909500122 | \n"
     ]
    },
    {
     "name": "stderr",
     "output_type": "stream",
     "text": [
      "train... loss:31.132576048374176:   0%|▍                                                                                                | 25/5000 [02:37<8:44:33,  6.33s/it]"
     ]
    },
    {
     "name": "stdout",
     "output_type": "stream",
     "text": [
      "Val update: epoch: 24 |accuracy: 0.7841075658798218 | f1: 0.2786654829978943 | auc: 0.6993419528007507 | treshold: 0.13\n",
      "Test: accuracy: 0.7866261005401611 | f1: 0.26961609721183777 | auc: 0.6893941760063171 | \n"
     ]
    },
    {
     "name": "stderr",
     "output_type": "stream",
     "text": [
      "train... loss:31.210504978895187:   1%|▌                                                                                                | 31/5000 [03:20<8:56:18,  6.48s/it]\n"
     ]
    }
   ],
   "source": [
    "for embeddings in ['svd', 'neural']:\n",
    "    print(f\"\\nEvaluating {experiment_name} with {embeddings} embeddings\")\n",
    "    \n",
    "    model = LogisticRegression(\n",
    "        RecsysEmbedding(train_num_items, train_user_item_matrix, embeddings=embeddings),\n",
    "        output_dim=1\n",
    "    ).to(device)\n",
    "\n",
    "    _, metrics = train(\n",
    "        model, \n",
    "        train_loader, val_loader, test_loader, \n",
    "        device=device, lr=1e-3, num_epochs=5000, early_stopping=7,\n",
    "       silent=True, \n",
    "    )\n",
    "    \n",
    "    metrics['embeddings'] = embeddings\n",
    "    content_wise_results.append(metrics)"
   ]
  },
  {
   "cell_type": "code",
   "execution_count": 6,
   "id": "8891eee2-cc2e-4723-818f-dee640636018",
   "metadata": {},
   "outputs": [],
   "source": [
    "pd.DataFrame(content_wise_results).to_csv(f'results/cw_{experiment_name}.csv')\n",
    "del dataset, train_loader, val_loader, test_loader, train_user_item_matrix, train_num_items"
   ]
  },
  {
   "cell_type": "markdown",
   "id": "17debc10",
   "metadata": {},
   "source": [
    "# RL4RS"
   ]
  },
  {
   "cell_type": "code",
   "execution_count": 7,
   "id": "d203a271",
   "metadata": {},
   "outputs": [
    {
     "name": "stdout",
     "output_type": "stream",
     "text": [
      "45942 data points among 106 batches\n"
     ]
    }
   ],
   "source": [
    "rl4rs_results = []\n",
    "dataset = RL4RS.load(os.path.join(pkl_path, 'rl4rs.pkl'))\n",
    "(\n",
    "    train_loader, \n",
    "    val_loader, \n",
    "    test_loader, \n",
    "    train_user_item_matrix, \n",
    "    train_num_items \n",
    ") = get_train_val_test_tmatrix_tnumitems(dataset, batch_size=350)\n",
    "\n",
    "print(f\"{len(dataset)} data points among {len(train_loader)} batches\")"
   ]
  },
  {
   "cell_type": "code",
   "execution_count": 8,
   "id": "6b4b706b",
   "metadata": {},
   "outputs": [
    {
     "name": "stdout",
     "output_type": "stream",
     "text": [
      "\n",
      "Evaluating LogReg with explicit embeddings\n",
      "Test before learning: {'f1': 0.6076813340187073, 'roc-auc': 0.5514298677444458, 'accuracy': 0.5413129925727844}\n"
     ]
    },
    {
     "name": "stderr",
     "output_type": "stream",
     "text": [
      "train... loss:66.78838258981705:   0%|                                                                                                  | 1/5000 [00:32<45:49:15, 33.00s/it]"
     ]
    },
    {
     "name": "stdout",
     "output_type": "stream",
     "text": [
      "Val update: epoch: 0 |accuracy: 0.6575968861579895 | f1: 0.7916035056114197 | auc: 0.7399385571479797 | treshold: 0.29000000000000004\n",
      "Test: accuracy: 0.6538024544715881 | f1: 0.7886071801185608 | auc: 0.7424671053886414 | \n"
     ]
    },
    {
     "name": "stderr",
     "output_type": "stream",
     "text": [
      "train... loss:60.841500490903854:   0%|                                                                                                 | 2/5000 [00:39<23:56:53, 17.25s/it]"
     ]
    },
    {
     "name": "stdout",
     "output_type": "stream",
     "text": [
      "Val update: epoch: 1 |accuracy: 0.7362985610961914 | f1: 0.818467915058136 | auc: 0.7860544919967651 | treshold: 0.45\n",
      "Test: accuracy: 0.7344214916229248 | f1: 0.8163838386535645 | auc: 0.7836198806762695 | \n"
     ]
    },
    {
     "name": "stderr",
     "output_type": "stream",
     "text": [
      "train... loss:59.34458768367767:   0%|                                                                                                  | 3/5000 [00:45<16:54:07, 12.18s/it]"
     ]
    },
    {
     "name": "stdout",
     "output_type": "stream",
     "text": [
      "Val update: epoch: 2 |accuracy: 0.7406520843505859 | f1: 0.8196329474449158 | auc: 0.7923175096511841 | treshold: 0.44\n",
      "Test: accuracy: 0.7396203875541687 | f1: 0.818230926990509 | auc: 0.790748119354248 | \n"
     ]
    },
    {
     "name": "stderr",
     "output_type": "stream",
     "text": [
      "train... loss:58.800625294446945:   0%|                                                                                                 | 4/5000 [00:51<13:36:47,  9.81s/it]"
     ]
    },
    {
     "name": "stdout",
     "output_type": "stream",
     "text": [
      "Val update: epoch: 3 |accuracy: 0.7437236905097961 | f1: 0.8243892788887024 | auc: 0.798643946647644 | treshold: 0.45\n",
      "Test: accuracy: 0.7423044443130493 | f1: 0.8225696086883545 | auc: 0.7974568605422974 | \n"
     ]
    },
    {
     "name": "stderr",
     "output_type": "stream",
     "text": [
      "train... loss:58.46924132108688:   0%|                                                                                                  | 5/5000 [00:57<11:49:40,  8.52s/it]"
     ]
    },
    {
     "name": "stdout",
     "output_type": "stream",
     "text": [
      "Val update: epoch: 4 |accuracy: 0.7434576749801636 | f1: 0.8264987468719482 | auc: 0.8046751022338867 | treshold: 0.45\n",
      "Test: accuracy: 0.7424011826515198 | f1: 0.8250192999839783 | auc: 0.803893506526947 | \n"
     ]
    },
    {
     "name": "stderr",
     "output_type": "stream",
     "text": [
      "train... loss:58.10058003664017:   0%|                                                                                                  | 6/5000 [01:04<10:44:26,  7.74s/it]"
     ]
    },
    {
     "name": "stdout",
     "output_type": "stream",
     "text": [
      "Val update: epoch: 5 |accuracy: 0.7450781464576721 | f1: 0.82823246717453 | auc: 0.8085511922836304 | treshold: 0.45\n",
      "Test: accuracy: 0.7447225451469421 | f1: 0.8271469473838806 | auc: 0.8083059787750244 | \n"
     ]
    },
    {
     "name": "stderr",
     "output_type": "stream",
     "text": [
      "train... loss:57.9529772400856:   0%|▏                                                                                                  | 7/5000 [01:10<10:06:08,  7.28s/it]"
     ]
    },
    {
     "name": "stdout",
     "output_type": "stream",
     "text": [
      "Val update: epoch: 6 |accuracy: 0.7495042085647583 | f1: 0.8306268453598022 | auc: 0.8117198944091797 | treshold: 0.45\n",
      "Test: accuracy: 0.746342658996582 | f1: 0.827778697013855 | auc: 0.8123809099197388 | \n"
     ]
    },
    {
     "name": "stderr",
     "output_type": "stream",
     "text": [
      "train... loss:57.71561819314957:   0%|▏                                                                                                  | 8/5000 [01:16<9:36:05,  6.92s/it]"
     ]
    },
    {
     "name": "stdout",
     "output_type": "stream",
     "text": [
      "Val update: epoch: 7 |accuracy: 0.7436269521713257 | f1: 0.8296805620193481 | auc: 0.815366268157959 | treshold: 0.43\n",
      "Test: accuracy: 0.7396929264068604 | f1: 0.8266645073890686 | auc: 0.815669059753418 | \n"
     ]
    },
    {
     "name": "stderr",
     "output_type": "stream",
     "text": [
      "train... loss:57.5574027299881:   0%|▏                                                                                                   | 9/5000 [01:22<9:15:02,  6.67s/it]"
     ]
    },
    {
     "name": "stdout",
     "output_type": "stream",
     "text": [
      "Val update: epoch: 8 |accuracy: 0.7507376670837402 | f1: 0.8326023817062378 | auc: 0.8180433511734009 | treshold: 0.45\n",
      "Test: accuracy: 0.7483254671096802 | f1: 0.8305051326751709 | auc: 0.8191884160041809 | \n"
     ]
    },
    {
     "name": "stderr",
     "output_type": "stream",
     "text": [
      "train... loss:57.30749240517616:   0%|▏                                                                                                 | 10/5000 [01:28<9:02:13,  6.52s/it]"
     ]
    },
    {
     "name": "stdout",
     "output_type": "stream",
     "text": [
      "Val update: epoch: 9 |accuracy: 0.7424176335334778 | f1: 0.829708993434906 | auc: 0.8208735585212708 | treshold: 0.43\n",
      "Test: accuracy: 0.7395236492156982 | f1: 0.8274492025375366 | auc: 0.822792649269104 | \n"
     ]
    },
    {
     "name": "stderr",
     "output_type": "stream",
     "text": [
      "train... loss:57.22548973560333:   0%|▏                                                                                                 | 11/5000 [01:34<8:52:58,  6.41s/it]"
     ]
    },
    {
     "name": "stdout",
     "output_type": "stream",
     "text": [
      "Val update: epoch: 10 |accuracy: 0.7539302706718445 | f1: 0.8337364196777344 | auc: 0.8231689929962158 | treshold: 0.45\n",
      "Test: accuracy: 0.7523878812789917 | f1: 0.8323784470558167 | auc: 0.8247584104537964 | \n"
     ]
    },
    {
     "name": "stderr",
     "output_type": "stream",
     "text": [
      "/opt/conda/envs/myenv/lib/python3.10/site-packages/torchmetrics/utilities/prints.py:43: UserWarning: No negative samples in targets, false positive value should be meaningless. Returning zero tensor in false positive score\n",
      "  warnings.warn(*args, **kwargs)  # noqa: B028\n",
      "train... loss:56.946695417165756:   0%|▏                                                                                                | 12/5000 [01:41<8:48:11,  6.35s/it]"
     ]
    },
    {
     "name": "stdout",
     "output_type": "stream",
     "text": [
      "Val update: epoch: 11 |accuracy: 0.7567358613014221 | f1: 0.8352929353713989 | auc: 0.825426459312439 | treshold: 0.45\n",
      "Test: accuracy: 0.7552895545959473 | f1: 0.8340221643447876 | auc: 0.8269048929214478 | \n"
     ]
    },
    {
     "name": "stderr",
     "output_type": "stream",
     "text": [
      "train... loss:57.033108711242676:   0%|▎                                                                                                | 13/5000 [01:47<8:44:08,  6.31s/it]"
     ]
    },
    {
     "name": "stdout",
     "output_type": "stream",
     "text": [
      "Val update: epoch: 12 |accuracy: 0.7503507137298584 | f1: 0.8332417607307434 | auc: 0.8268665075302124 | treshold: 0.44\n",
      "Test: accuracy: 0.7484947443008423 | f1: 0.8317834138870239 | auc: 0.8287556171417236 | \n"
     ]
    },
    {
     "name": "stderr",
     "output_type": "stream",
     "text": [
      "train... loss:56.71606433391571:   0%|▎                                                                                                 | 14/5000 [01:53<8:41:13,  6.27s/it]"
     ]
    },
    {
     "name": "stdout",
     "output_type": "stream",
     "text": [
      "Val update: epoch: 13 |accuracy: 0.7511488199234009 | f1: 0.8338849544525146 | auc: 0.8271574974060059 | treshold: 0.44\n",
      "Test: accuracy: 0.7476484179496765 | f1: 0.8312419056892395 | auc: 0.8284670114517212 | \n"
     ]
    },
    {
     "name": "stderr",
     "output_type": "stream",
     "text": [
      "train... loss:56.59267342090607:   0%|▎                                                                                                 | 15/5000 [01:59<8:40:40,  6.27s/it]"
     ]
    },
    {
     "name": "stdout",
     "output_type": "stream",
     "text": [
      "Val update: epoch: 14 |accuracy: 0.7557684183120728 | f1: 0.8356338143348694 | auc: 0.8289579153060913 | treshold: 0.44\n",
      "Test: accuracy: 0.7531132698059082 | f1: 0.8333224654197693 | auc: 0.8306310772895813 | \n"
     ]
    },
    {
     "name": "stderr",
     "output_type": "stream",
     "text": [
      "train... loss:56.58073675632477:   0%|▎                                                                                                 | 16/5000 [02:05<8:37:13,  6.23s/it]"
     ]
    },
    {
     "name": "stdout",
     "output_type": "stream",
     "text": [
      "Val update: epoch: 15 |accuracy: 0.7584772706031799 | f1: 0.8370431065559387 | auc: 0.829481840133667 | treshold: 0.45\n",
      "Test: accuracy: 0.7550961375236511 | f1: 0.8343690633773804 | auc: 0.830935001373291 | \n"
     ]
    },
    {
     "name": "stderr",
     "output_type": "stream",
     "text": [
      "train... loss:56.5304753780365:   0%|▎                                                                                                  | 17/5000 [02:12<8:33:58,  6.19s/it]"
     ]
    },
    {
     "name": "stdout",
     "output_type": "stream",
     "text": [
      "Val update: epoch: 16 |accuracy: 0.7557684183120728 | f1: 0.8366283774375916 | auc: 0.8327220678329468 | treshold: 0.44\n",
      "Test: accuracy: 0.7532825469970703 | f1: 0.834782600402832 | auc: 0.8346287608146667 | \n"
     ]
    },
    {
     "name": "stderr",
     "output_type": "stream",
     "text": [
      "train... loss:56.24708276987076:   0%|▎                                                                                                 | 18/5000 [02:18<8:33:33,  6.18s/it]"
     ]
    },
    {
     "name": "stdout",
     "output_type": "stream",
     "text": [
      "Val update: epoch: 17 |accuracy: 0.7617907524108887 | f1: 0.8383528590202332 | auc: 0.8330488204956055 | treshold: 0.46\n",
      "Test: accuracy: 0.7585781812667847 | f1: 0.8359513878822327 | auc: 0.8354179263114929 | \n"
     ]
    },
    {
     "name": "stderr",
     "output_type": "stream",
     "text": [
      "train... loss:56.33182084560394:   0%|▎                                                                                                 | 19/5000 [02:24<8:33:47,  6.19s/it]"
     ]
    },
    {
     "name": "stdout",
     "output_type": "stream",
     "text": [
      "Val update: epoch: 18 |accuracy: 0.7562763094902039 | f1: 0.8368704915046692 | auc: 0.8352433443069458 | treshold: 0.45\n",
      "Test: accuracy: 0.7535485625267029 | f1: 0.8347117900848389 | auc: 0.8380123376846313 | \n"
     ]
    },
    {
     "name": "stderr",
     "output_type": "stream",
     "text": [
      "train... loss:56.17942225933075:   0%|▍                                                                                                 | 20/5000 [02:30<8:37:19,  6.23s/it]"
     ]
    },
    {
     "name": "stdout",
     "output_type": "stream",
     "text": [
      "Val update: epoch: 19 |accuracy: 0.7563005089759827 | f1: 0.8372634053230286 | auc: 0.8367669582366943 | treshold: 0.44\n",
      "Test: accuracy: 0.7537177801132202 | f1: 0.8353886008262634 | auc: 0.8396569490432739 | \n"
     ]
    },
    {
     "name": "stderr",
     "output_type": "stream",
     "text": [
      "train... loss:56.023556262254715:   0%|▍                                                                                                | 21/5000 [02:36<8:35:40,  6.21s/it]"
     ]
    },
    {
     "name": "stdout",
     "output_type": "stream",
     "text": [
      "Val update: epoch: 20 |accuracy: 0.7601218819618225 | f1: 0.8389987349510193 | auc: 0.8385093212127686 | treshold: 0.45\n",
      "Test: accuracy: 0.7578043937683105 | f1: 0.8372440934181213 | auc: 0.8407933712005615 | \n"
     ]
    },
    {
     "name": "stderr",
     "output_type": "stream",
     "text": [
      "train... loss:55.8473604619503:   0%|▍                                                                                                  | 22/5000 [02:43<8:35:21,  6.21s/it]"
     ]
    },
    {
     "name": "stdout",
     "output_type": "stream",
     "text": [
      "Val update: epoch: 21 |accuracy: 0.7577274441719055 | f1: 0.8377314209938049 | auc: 0.8386843204498291 | treshold: 0.46\n",
      "Test: accuracy: 0.7546367049217224 | f1: 0.8354068994522095 | auc: 0.840576171875 | \n"
     ]
    },
    {
     "name": "stderr",
     "output_type": "stream",
     "text": [
      "train... loss:55.94011643528938:   0%|▍                                                                                                 | 23/5000 [02:49<8:38:25,  6.25s/it]"
     ]
    },
    {
     "name": "stdout",
     "output_type": "stream",
     "text": [
      "Val update: epoch: 22 |accuracy: 0.7633628249168396 | f1: 0.8400052189826965 | auc: 0.8400929570198059 | treshold: 0.46\n",
      "Test: accuracy: 0.7619634866714478 | f1: 0.838739275932312 | auc: 0.8420632481575012 | \n"
     ]
    },
    {
     "name": "stderr",
     "output_type": "stream",
     "text": [
      "train... loss:55.876691460609436:   0%|▍                                                                                                | 24/5000 [02:55<8:37:33,  6.24s/it]"
     ]
    },
    {
     "name": "stdout",
     "output_type": "stream",
     "text": [
      "Val update: epoch: 23 |accuracy: 0.7602670192718506 | f1: 0.8392578959465027 | auc: 0.8413007855415344 | treshold: 0.45\n",
      "Test: accuracy: 0.7579010725021362 | f1: 0.837398886680603 | auc: 0.8432270288467407 | \n"
     ]
    },
    {
     "name": "stderr",
     "output_type": "stream",
     "text": [
      "train... loss:55.67698577046394:   0%|▍                                                                                                 | 25/5000 [03:02<8:42:50,  6.31s/it]"
     ]
    },
    {
     "name": "stdout",
     "output_type": "stream",
     "text": [
      "Val update: epoch: 24 |accuracy: 0.7611619234085083 | f1: 0.8398916721343994 | auc: 0.8431071639060974 | treshold: 0.45\n",
      "Test: accuracy: 0.7590859532356262 | f1: 0.8382025957107544 | auc: 0.8450133800506592 | \n"
     ]
    },
    {
     "name": "stderr",
     "output_type": "stream",
     "text": [
      "train... loss:55.70100516080856:   1%|▌                                                                                                 | 26/5000 [03:08<8:38:10,  6.25s/it]"
     ]
    },
    {
     "name": "stdout",
     "output_type": "stream",
     "text": [
      "Val update: epoch: 25 |accuracy: 0.760895848274231 | f1: 0.8398665189743042 | auc: 0.843899667263031 | treshold: 0.45\n",
      "Test: accuracy: 0.7588199973106384 | f1: 0.8381842374801636 | auc: 0.8463712334632874 | \n"
     ]
    },
    {
     "name": "stderr",
     "output_type": "stream",
     "text": [
      "train... loss:55.71536919474602:   1%|▌                                                                                                 | 28/5000 [03:20<8:27:13,  6.12s/it]"
     ]
    },
    {
     "name": "stdout",
     "output_type": "stream",
     "text": [
      "Val update: epoch: 27 |accuracy: 0.7621051669120789 | f1: 0.8406661152839661 | auc: 0.8460808396339417 | treshold: 0.46\n",
      "Test: accuracy: 0.7598114013671875 | f1: 0.838794469833374 | auc: 0.8488785028457642 | \n"
     ]
    },
    {
     "name": "stderr",
     "output_type": "stream",
     "text": [
      "train... loss:55.49897760152817:   1%|▌                                                                                                 | 29/5000 [03:26<8:29:50,  6.15s/it]"
     ]
    },
    {
     "name": "stdout",
     "output_type": "stream",
     "text": [
      "Val update: epoch: 28 |accuracy: 0.7638465762138367 | f1: 0.8416014909744263 | auc: 0.8472411632537842 | treshold: 0.45\n",
      "Test: accuracy: 0.7605609893798828 | f1: 0.8391331434249878 | auc: 0.8497267961502075 | \n"
     ]
    },
    {
     "name": "stderr",
     "output_type": "stream",
     "text": [
      "train... loss:55.53916311264038:   1%|▌                                                                                                 | 30/5000 [03:32<8:35:17,  6.22s/it]"
     ]
    },
    {
     "name": "stdout",
     "output_type": "stream",
     "text": [
      "Val update: epoch: 29 |accuracy: 0.7646930813789368 | f1: 0.8418948650360107 | auc: 0.8477448225021362 | treshold: 0.46\n",
      "Test: accuracy: 0.7617700695991516 | f1: 0.83971107006073 | auc: 0.8502284288406372 | \n"
     ]
    },
    {
     "name": "stderr",
     "output_type": "stream",
     "text": [
      "train... loss:55.47441083192825:   1%|▌                                                                                                 | 31/5000 [03:38<8:34:56,  6.22s/it]"
     ]
    },
    {
     "name": "stdout",
     "output_type": "stream",
     "text": [
      "Val update: epoch: 30 |accuracy: 0.7632660865783691 | f1: 0.8415976166725159 | auc: 0.8488799333572388 | treshold: 0.45\n",
      "Test: accuracy: 0.759908139705658 | f1: 0.8390422463417053 | auc: 0.8517367839813232 | \n"
     ]
    },
    {
     "name": "stderr",
     "output_type": "stream",
     "text": [
      "train... loss:55.18578639626503:   1%|▋                                                                                                 | 32/5000 [03:45<8:33:28,  6.20s/it]"
     ]
    },
    {
     "name": "stdout",
     "output_type": "stream",
     "text": [
      "Val update: epoch: 31 |accuracy: 0.7632660865783691 | f1: 0.8414487838745117 | auc: 0.849310040473938 | treshold: 0.46\n",
      "Test: accuracy: 0.76051265001297 | f1: 0.8392938375473022 | auc: 0.8520413637161255 | \n"
     ]
    },
    {
     "name": "stderr",
     "output_type": "stream",
     "text": [
      "train... loss:55.20702236890793:   1%|▋                                                                                                 | 34/5000 [03:57<8:25:36,  6.11s/it]"
     ]
    },
    {
     "name": "stdout",
     "output_type": "stream",
     "text": [
      "Val update: epoch: 33 |accuracy: 0.7650800347328186 | f1: 0.842154860496521 | auc: 0.8501784801483154 | treshold: 0.45\n",
      "Test: accuracy: 0.7633901834487915 | f1: 0.8407829999923706 | auc: 0.8523362874984741 | \n"
     ]
    },
    {
     "name": "stderr",
     "output_type": "stream",
     "text": [
      "train... loss:55.06507354974747:   1%|▋                                                                                                 | 35/5000 [04:03<8:28:10,  6.14s/it]"
     ]
    },
    {
     "name": "stdout",
     "output_type": "stream",
     "text": [
      "Val update: epoch: 34 |accuracy: 0.7648865580558777 | f1: 0.8420454263687134 | auc: 0.8502472043037415 | treshold: 0.45\n",
      "Test: accuracy: 0.7635836005210876 | f1: 0.840835452079773 | auc: 0.8521539568901062 | \n"
     ]
    },
    {
     "name": "stderr",
     "output_type": "stream",
     "text": [
      "train... loss:54.82003262639046:   1%|▊                                                                                                 | 43/5000 [04:49<8:05:12,  5.87s/it]"
     ]
    },
    {
     "name": "stdout",
     "output_type": "stream",
     "text": [
      "Val update: epoch: 42 |accuracy: 0.7794466018676758 | f1: 0.8458716869354248 | auc: 0.8514249324798584 | treshold: 0.46\n",
      "Test: accuracy: 0.778067946434021 | f1: 0.8443562388420105 | auc: 0.8523210287094116 | \n"
     ]
    },
    {
     "name": "stderr",
     "output_type": "stream",
     "text": [
      "train... loss:54.69076317548752:   1%|▉                                                                                                 | 45/5000 [05:01<8:10:29,  5.94s/it]"
     ]
    },
    {
     "name": "stdout",
     "output_type": "stream",
     "text": [
      "Val update: epoch: 44 |accuracy: 0.7797126770019531 | f1: 0.8447641134262085 | auc: 0.8526907563209534 | treshold: 0.46\n",
      "Test: accuracy: 0.7771974205970764 | f1: 0.8425226211547852 | auc: 0.8537248373031616 | \n"
     ]
    },
    {
     "name": "stderr",
     "output_type": "stream",
     "text": [
      "train... loss:54.634985357522964:   1%|▉                                                                                                | 46/5000 [05:07<8:17:41,  6.03s/it]"
     ]
    },
    {
     "name": "stdout",
     "output_type": "stream",
     "text": [
      "Val update: epoch: 45 |accuracy: 0.7799786925315857 | f1: 0.8424680233001709 | auc: 0.8530528545379639 | treshold: 0.48000000000000004\n",
      "Test: accuracy: 0.7778986692428589 | f1: 0.8403580188751221 | auc: 0.853837251663208 | \n"
     ]
    },
    {
     "name": "stderr",
     "output_type": "stream",
     "text": [
      "train... loss:54.59672647714615:   1%|▉                                                                                                 | 47/5000 [05:13<8:21:45,  6.08s/it]"
     ]
    },
    {
     "name": "stdout",
     "output_type": "stream",
     "text": [
      "Val update: epoch: 46 |accuracy: 0.7788419723510742 | f1: 0.843397855758667 | auc: 0.854878306388855 | treshold: 0.47000000000000003\n",
      "Test: accuracy: 0.7779228687286377 | f1: 0.8422860503196716 | auc: 0.8556351661682129 | \n"
     ]
    },
    {
     "name": "stderr",
     "output_type": "stream",
     "text": [
      "train... loss:54.599170207977295:   1%|▉                                                                                                | 48/5000 [05:19<8:23:30,  6.10s/it]"
     ]
    },
    {
     "name": "stdout",
     "output_type": "stream",
     "text": [
      "Val update: epoch: 47 |accuracy: 0.7806559205055237 | f1: 0.8426039814949036 | auc: 0.8556506037712097 | treshold: 0.49\n",
      "Test: accuracy: 0.7783097624778748 | f1: 0.8405675888061523 | auc: 0.8563592433929443 | \n"
     ]
    },
    {
     "name": "stderr",
     "output_type": "stream",
     "text": [
      "train... loss:54.54733595252037:   1%|▉                                                                                                 | 49/5000 [05:26<8:29:28,  6.17s/it]"
     ]
    },
    {
     "name": "stdout",
     "output_type": "stream",
     "text": [
      "Val update: epoch: 48 |accuracy: 0.7789145112037659 | f1: 0.8431779742240906 | auc: 0.8566410541534424 | treshold: 0.48000000000000004\n",
      "Test: accuracy: 0.777850329875946 | f1: 0.842014729976654 | auc: 0.8573917150497437 | \n"
     ]
    },
    {
     "name": "stderr",
     "output_type": "stream",
     "text": [
      "train... loss:54.69377940893173:   1%|▉                                                                                                 | 50/5000 [05:32<8:29:50,  6.18s/it]"
     ]
    },
    {
     "name": "stdout",
     "output_type": "stream",
     "text": [
      "Val update: epoch: 49 |accuracy: 0.7764475345611572 | f1: 0.84360671043396 | auc: 0.8570418357849121 | treshold: 0.47000000000000003\n",
      "Test: accuracy: 0.7755289673805237 | f1: 0.8427649736404419 | auc: 0.8586075305938721 | \n"
     ]
    },
    {
     "name": "stderr",
     "output_type": "stream",
     "text": [
      "train... loss:54.64844083786011:   1%|█                                                                                                 | 52/5000 [05:44<8:23:31,  6.11s/it]"
     ]
    },
    {
     "name": "stdout",
     "output_type": "stream",
     "text": [
      "Val update: epoch: 51 |accuracy: 0.7736661434173584 | f1: 0.8455418944358826 | auc: 0.8583147525787354 | treshold: 0.47000000000000003\n",
      "Test: accuracy: 0.7715874910354614 | f1: 0.843759298324585 | auc: 0.8600301742553711 | \n"
     ]
    },
    {
     "name": "stderr",
     "output_type": "stream",
     "text": [
      "train... loss:54.872882932424545:   1%|█                                                                                                | 53/5000 [05:50<8:25:43,  6.13s/it]"
     ]
    },
    {
     "name": "stdout",
     "output_type": "stream",
     "text": [
      "Val update: epoch: 52 |accuracy: 0.7723358869552612 | f1: 0.8449028730392456 | auc: 0.8594223260879517 | treshold: 0.47000000000000003\n",
      "Test: accuracy: 0.7718293070793152 | f1: 0.8443469405174255 | auc: 0.8612021803855896 | \n"
     ]
    },
    {
     "name": "stderr",
     "output_type": "stream",
     "text": [
      "train... loss:54.642228692770004:   1%|█                                                                                                | 54/5000 [05:56<8:25:44,  6.14s/it]"
     ]
    },
    {
     "name": "stdout",
     "output_type": "stream",
     "text": [
      "Val update: epoch: 53 |accuracy: 0.7711024284362793 | f1: 0.8447557687759399 | auc: 0.8596166968345642 | treshold: 0.47000000000000003\n",
      "Test: accuracy: 0.7710555195808411 | f1: 0.8442353010177612 | auc: 0.8614460229873657 | \n"
     ]
    },
    {
     "name": "stderr",
     "output_type": "stream",
     "text": [
      "train... loss:54.49904242157936:   1%|█                                                                                                 | 55/5000 [06:02<8:26:26,  6.14s/it]"
     ]
    },
    {
     "name": "stdout",
     "output_type": "stream",
     "text": [
      "Val update: epoch: 54 |accuracy: 0.7684661149978638 | f1: 0.8442680239677429 | auc: 0.8603594303131104 | treshold: 0.46\n",
      "Test: accuracy: 0.7683956027030945 | f1: 0.843690812587738 | auc: 0.8623640537261963 | \n"
     ]
    },
    {
     "name": "stderr",
     "output_type": "stream",
     "text": [
      "train... loss:54.31532320380211:   1%|█                                                                                                 | 56/5000 [06:08<8:27:51,  6.16s/it]"
     ]
    },
    {
     "name": "stdout",
     "output_type": "stream",
     "text": [
      "Val update: epoch: 55 |accuracy: 0.7684903144836426 | f1: 0.8440026044845581 | auc: 0.8609824776649475 | treshold: 0.47000000000000003\n",
      "Test: accuracy: 0.7682021260261536 | f1: 0.8433609008789062 | auc: 0.8630249500274658 | \n"
     ]
    },
    {
     "name": "stderr",
     "output_type": "stream",
     "text": [
      "train... loss:54.31682360172272:   1%|█▏                                                                                                | 58/5000 [06:20<8:23:17,  6.11s/it]"
     ]
    },
    {
     "name": "stdout",
     "output_type": "stream",
     "text": [
      "Val update: epoch: 57 |accuracy: 0.7695302963256836 | f1: 0.8446451425552368 | auc: 0.8610156178474426 | treshold: 0.46\n",
      "Test: accuracy: 0.7690001130104065 | f1: 0.8439434766769409 | auc: 0.8632417321205139 | \n"
     ]
    },
    {
     "name": "stderr",
     "output_type": "stream",
     "text": [
      "train... loss:54.37837967276573:   1%|█▎                                                                                                | 67/5000 [07:17<8:56:51,  6.53s/it]\n"
     ]
    },
    {
     "name": "stdout",
     "output_type": "stream",
     "text": [
      "\n",
      "Evaluating LogReg with neural embeddings\n",
      "Test before learning: {'f1': 0.5044280290603638, 'roc-auc': 0.5116968154907227, 'accuracy': 0.4804013967514038}\n"
     ]
    },
    {
     "name": "stderr",
     "output_type": "stream",
     "text": [
      "train... loss:66.50029027462006:   0%|                                                                                                   | 1/5000 [00:06<9:12:15,  6.63s/it]"
     ]
    },
    {
     "name": "stdout",
     "output_type": "stream",
     "text": [
      "Val update: epoch: 0 |accuracy: 0.7189570665359497 | f1: 0.8202796578407288 | auc: 0.7950770854949951 | treshold: 0.36000000000000004\n",
      "Test: accuracy: 0.719018280506134 | f1: 0.8193632364273071 | auc: 0.8050678968429565 | \n"
     ]
    },
    {
     "name": "stderr",
     "output_type": "stream",
     "text": [
      "train... loss:51.59485945105553:   0%|                                                                                                   | 2/5000 [00:13<9:15:07,  6.66s/it]"
     ]
    },
    {
     "name": "stdout",
     "output_type": "stream",
     "text": [
      "Val update: epoch: 1 |accuracy: 0.815556526184082 | f1: 0.8663418292999268 | auc: 0.8889188766479492 | treshold: 0.52\n",
      "Test: accuracy: 0.8216418623924255 | f1: 0.8699209690093994 | auc: 0.8916703462600708 | \n"
     ]
    },
    {
     "name": "stderr",
     "output_type": "stream",
     "text": [
      "train... loss:46.48256340622902:   0%|                                                                                                   | 3/5000 [00:20<9:21:36,  6.74s/it]"
     ]
    },
    {
     "name": "stdout",
     "output_type": "stream",
     "text": [
      "Val update: epoch: 2 |accuracy: 0.8313984274864197 | f1: 0.8736794590950012 | auc: 0.9048557281494141 | treshold: 0.53\n",
      "Test: accuracy: 0.834506094455719 | f1: 0.875735342502594 | auc: 0.9086989760398865 | \n"
     ]
    },
    {
     "name": "stderr",
     "output_type": "stream",
     "text": [
      "train... loss:46.073365569114685:   0%|                                                                                                  | 4/5000 [00:26<9:18:27,  6.71s/it]"
     ]
    },
    {
     "name": "stdout",
     "output_type": "stream",
     "text": [
      "Val update: epoch: 3 |accuracy: 0.8314468264579773 | f1: 0.8749080300331116 | auc: 0.9077257513999939 | treshold: 0.51\n",
      "Test: accuracy: 0.8343852162361145 | f1: 0.876721203327179 | auc: 0.9113152623176575 | \n"
     ]
    },
    {
     "name": "stderr",
     "output_type": "stream",
     "text": [
      "train... loss:45.5411636531353:   0%|                                                                                                    | 6/5000 [00:39<9:08:40,  6.59s/it]"
     ]
    },
    {
     "name": "stdout",
     "output_type": "stream",
     "text": [
      "Val update: epoch: 5 |accuracy: 0.8335509896278381 | f1: 0.8774136304855347 | auc: 0.9090179204940796 | treshold: 0.51\n",
      "Test: accuracy: 0.8358360528945923 | f1: 0.8788997530937195 | auc: 0.9130936861038208 | \n"
     ]
    },
    {
     "name": "stderr",
     "output_type": "stream",
     "text": [
      "train... loss:45.36738595366478:   0%|▏                                                                                                  | 7/5000 [00:46<9:11:01,  6.62s/it]"
     ]
    },
    {
     "name": "stdout",
     "output_type": "stream",
     "text": [
      "Val update: epoch: 6 |accuracy: 0.8348328471183777 | f1: 0.876641571521759 | auc: 0.9096595048904419 | treshold: 0.54\n",
      "Test: accuracy: 0.8405996561050415 | f1: 0.8806921243667603 | auc: 0.9138621687889099 | \n"
     ]
    },
    {
     "name": "stderr",
     "output_type": "stream",
     "text": [
      "train... loss:45.34688559174538:   0%|▏                                                                                                  | 8/5000 [00:53<9:14:33,  6.67s/it]"
     ]
    },
    {
     "name": "stdout",
     "output_type": "stream",
     "text": [
      "Val update: epoch: 7 |accuracy: 0.8364291787147522 | f1: 0.8791609406471252 | auc: 0.9106427431106567 | treshold: 0.53\n",
      "Test: accuracy: 0.8392455577850342 | f1: 0.8809157013893127 | auc: 0.914974570274353 | \n"
     ]
    },
    {
     "name": "stderr",
     "output_type": "stream",
     "text": [
      "train... loss:45.46487247943878:   0%|▏                                                                                                  | 9/5000 [00:59<9:15:49,  6.68s/it]"
     ]
    },
    {
     "name": "stdout",
     "output_type": "stream",
     "text": [
      "Val update: epoch: 8 |accuracy: 0.8342282176017761 | f1: 0.8781987428665161 | auc: 0.9108836650848389 | treshold: 0.52\n",
      "Test: accuracy: 0.8372385501861572 | f1: 0.8802505135536194 | auc: 0.9149665236473083 | \n"
     ]
    },
    {
     "name": "stderr",
     "output_type": "stream",
     "text": [
      "train... loss:45.675480008125305:   0%|▎                                                                                                | 17/5000 [01:55<9:23:19,  6.78s/it]\n"
     ]
    },
    {
     "name": "stdout",
     "output_type": "stream",
     "text": [
      "\n",
      "Evaluating LogReg with svd embeddings\n",
      "Test before learning: {'f1': 0.36094456911087036, 'roc-auc': 0.5141482949256897, 'accuracy': 0.4561963379383087}\n"
     ]
    },
    {
     "name": "stderr",
     "output_type": "stream",
     "text": [
      "train... loss:72.57034122943878:   0%|                                                                                                   | 1/5000 [00:05<8:14:02,  5.93s/it]"
     ]
    },
    {
     "name": "stdout",
     "output_type": "stream",
     "text": [
      "Val update: epoch: 0 |accuracy: 0.6537270545959473 | f1: 0.7901440858840942 | auc: 0.666653573513031 | treshold: 0.43\n",
      "Test: accuracy: 0.6489179134368896 | f1: 0.7866265177726746 | auc: 0.6586708426475525 | \n"
     ]
    },
    {
     "name": "stderr",
     "output_type": "stream",
     "text": [
      "train... loss:70.31583696603775:   0%|                                                                                                   | 2/5000 [00:11<8:17:34,  5.97s/it]"
     ]
    },
    {
     "name": "stdout",
     "output_type": "stream",
     "text": [
      "Val update: epoch: 1 |accuracy: 0.6692546010017395 | f1: 0.7939550280570984 | auc: 0.7031502723693848 | treshold: 0.48000000000000004\n",
      "Test: accuracy: 0.6687462329864502 | f1: 0.7921969294548035 | auc: 0.6979653835296631 | \n"
     ]
    },
    {
     "name": "stderr",
     "output_type": "stream",
     "text": [
      "train... loss:68.61715376377106:   0%|                                                                                                   | 3/5000 [00:18<8:24:00,  6.05s/it]"
     ]
    },
    {
     "name": "stdout",
     "output_type": "stream",
     "text": [
      "Val update: epoch: 2 |accuracy: 0.6759057641029358 | f1: 0.7962101101875305 | auc: 0.7164062261581421 | treshold: 0.49\n",
      "Test: accuracy: 0.6754201650619507 | f1: 0.7944630980491638 | auc: 0.7122016549110413 | \n"
     ]
    },
    {
     "name": "stderr",
     "output_type": "stream",
     "text": [
      "train... loss:67.10874551534653:   0%|                                                                                                   | 4/5000 [00:24<8:24:43,  6.06s/it]"
     ]
    },
    {
     "name": "stdout",
     "output_type": "stream",
     "text": [
      "Val update: epoch: 3 |accuracy: 0.6823634505271912 | f1: 0.7984468936920166 | auc: 0.7248780131340027 | treshold: 0.5\n",
      "Test: accuracy: 0.6796034574508667 | f1: 0.7954615354537964 | auc: 0.7213166952133179 | \n"
     ]
    },
    {
     "name": "stderr",
     "output_type": "stream",
     "text": [
      "train... loss:66.12050771713257:   0%|                                                                                                   | 5/5000 [00:30<8:25:56,  6.08s/it]"
     ]
    },
    {
     "name": "stdout",
     "output_type": "stream",
     "text": [
      "Val update: epoch: 4 |accuracy: 0.6821699738502502 | f1: 0.8005222082138062 | auc: 0.7328662276268005 | treshold: 0.48000000000000004\n",
      "Test: accuracy: 0.6802079677581787 | f1: 0.7981501817703247 | auc: 0.7292448878288269 | \n"
     ]
    },
    {
     "name": "stderr",
     "output_type": "stream",
     "text": [
      "train... loss:65.17115038633347:   0%|                                                                                                   | 6/5000 [00:36<8:31:05,  6.14s/it]"
     ]
    },
    {
     "name": "stdout",
     "output_type": "stream",
     "text": [
      "Val update: epoch: 5 |accuracy: 0.6858946681022644 | f1: 0.8024820685386658 | auc: 0.7395590543746948 | treshold: 0.47000000000000003\n",
      "Test: accuracy: 0.6851650476455688 | f1: 0.8008930683135986 | auc: 0.7351830005645752 | \n"
     ]
    },
    {
     "name": "stderr",
     "output_type": "stream",
     "text": [
      "train... loss:64.62866640090942:   0%|▏                                                                                                  | 7/5000 [00:42<8:32:17,  6.16s/it]"
     ]
    },
    {
     "name": "stdout",
     "output_type": "stream",
     "text": [
      "Val update: epoch: 6 |accuracy: 0.6956174969673157 | f1: 0.8051586151123047 | auc: 0.7459033131599426 | treshold: 0.49\n",
      "Test: accuracy: 0.6919840574264526 | f1: 0.8020082116127014 | auc: 0.7426162958145142 | \n"
     ]
    },
    {
     "name": "stderr",
     "output_type": "stream",
     "text": [
      "train... loss:64.00107771158218:   0%|▏                                                                                                  | 8/5000 [00:48<8:31:17,  6.15s/it]"
     ]
    },
    {
     "name": "stdout",
     "output_type": "stream",
     "text": [
      "Val update: epoch: 7 |accuracy: 0.7010835409164429 | f1: 0.8078662753105164 | auc: 0.7553141117095947 | treshold: 0.48000000000000004\n",
      "Test: accuracy: 0.6967235207557678 | f1: 0.8046539425849915 | auc: 0.7517694234848022 | \n"
     ]
    },
    {
     "name": "stderr",
     "output_type": "stream",
     "text": [
      "train... loss:63.5338933467865:   0%|▏                                                                                                   | 9/5000 [00:55<8:32:36,  6.16s/it]"
     ]
    },
    {
     "name": "stdout",
     "output_type": "stream",
     "text": [
      "Val update: epoch: 8 |accuracy: 0.7077347040176392 | f1: 0.8104292154312134 | auc: 0.7636241316795349 | treshold: 0.49\n",
      "Test: accuracy: 0.7033248543739319 | f1: 0.8070213794708252 | auc: 0.7605876922607422 | \n"
     ]
    },
    {
     "name": "stderr",
     "output_type": "stream",
     "text": [
      "train... loss:63.284188866615295:   0%|▏                                                                                                | 10/5000 [01:01<8:32:12,  6.16s/it]"
     ]
    },
    {
     "name": "stdout",
     "output_type": "stream",
     "text": [
      "Val update: epoch: 9 |accuracy: 0.7093551754951477 | f1: 0.8116546273231506 | auc: 0.770039439201355 | treshold: 0.49\n",
      "Test: accuracy: 0.7048724293708801 | f1: 0.8084318041801453 | auc: 0.766128420829773 | \n"
     ]
    },
    {
     "name": "stderr",
     "output_type": "stream",
     "text": [
      "train... loss:63.022362768650055:   0%|▏                                                                                                | 11/5000 [01:07<8:32:33,  6.16s/it]"
     ]
    },
    {
     "name": "stdout",
     "output_type": "stream",
     "text": [
      "Val update: epoch: 10 |accuracy: 0.7115803360939026 | f1: 0.8124203681945801 | auc: 0.7755657434463501 | treshold: 0.48000000000000004\n",
      "Test: accuracy: 0.7072663307189941 | f1: 0.8093183040618896 | auc: 0.7713885307312012 | \n"
     ]
    },
    {
     "name": "stderr",
     "output_type": "stream",
     "text": [
      "train... loss:62.57123565673828:   0%|▏                                                                                                 | 12/5000 [01:13<8:35:50,  6.21s/it]"
     ]
    },
    {
     "name": "stdout",
     "output_type": "stream",
     "text": [
      "Val update: epoch: 11 |accuracy: 0.7145794034004211 | f1: 0.8141428232192993 | auc: 0.7804737091064453 | treshold: 0.48000000000000004\n",
      "Test: accuracy: 0.7111836671829224 | f1: 0.8113886713981628 | auc: 0.7770614624023438 | \n"
     ]
    },
    {
     "name": "stderr",
     "output_type": "stream",
     "text": [
      "train... loss:62.413492023944855:   0%|▎                                                                                                | 13/5000 [01:19<8:33:59,  6.18s/it]"
     ]
    },
    {
     "name": "stdout",
     "output_type": "stream",
     "text": [
      "Val update: epoch: 12 |accuracy: 0.7186426520347595 | f1: 0.8155044317245483 | auc: 0.7841047048568726 | treshold: 0.49\n",
      "Test: accuracy: 0.7128279805183411 | f1: 0.8113842606544495 | auc: 0.7801039814949036 | \n"
     ]
    },
    {
     "name": "stderr",
     "output_type": "stream",
     "text": [
      "train... loss:62.01795953512192:   0%|▎                                                                                                 | 14/5000 [01:25<8:31:58,  6.16s/it]"
     ]
    },
    {
     "name": "stdout",
     "output_type": "stream",
     "text": [
      "Val update: epoch: 13 |accuracy: 0.721278965473175 | f1: 0.8155097365379333 | auc: 0.7856788039207458 | treshold: 0.49\n",
      "Test: accuracy: 0.7145931720733643 | f1: 0.8110280632972717 | auc: 0.7821155786514282 | \n"
     ]
    },
    {
     "name": "stderr",
     "output_type": "stream",
     "text": [
      "train... loss:61.99519246816635:   0%|▎                                                                                                 | 15/5000 [01:32<8:31:25,  6.16s/it]"
     ]
    },
    {
     "name": "stdout",
     "output_type": "stream",
     "text": [
      "Val update: epoch: 14 |accuracy: 0.7210612893104553 | f1: 0.8171599507331848 | auc: 0.7910075187683105 | treshold: 0.48000000000000004\n",
      "Test: accuracy: 0.7152944207191467 | f1: 0.8132060170173645 | auc: 0.7874780297279358 | \n"
     ]
    },
    {
     "name": "stderr",
     "output_type": "stream",
     "text": [
      "train... loss:61.58006709814072:   0%|▎                                                                                                 | 16/5000 [01:38<8:31:28,  6.16s/it]"
     ]
    },
    {
     "name": "stdout",
     "output_type": "stream",
     "text": [
      "Val update: epoch: 15 |accuracy: 0.7230445742607117 | f1: 0.8177086114883423 | auc: 0.7942401766777039 | treshold: 0.48000000000000004\n",
      "Test: accuracy: 0.71662437915802 | f1: 0.8132757544517517 | auc: 0.7902029752731323 | \n"
     ]
    },
    {
     "name": "stderr",
     "output_type": "stream",
     "text": [
      "train... loss:61.4224408864975:   0%|▎                                                                                                  | 17/5000 [01:44<8:31:55,  6.16s/it]"
     ]
    },
    {
     "name": "stdout",
     "output_type": "stream",
     "text": [
      "Val update: epoch: 16 |accuracy: 0.7256324887275696 | f1: 0.8179250359535217 | auc: 0.7961210608482361 | treshold: 0.49\n",
      "Test: accuracy: 0.7197436690330505 | f1: 0.813779354095459 | auc: 0.7914378643035889 | \n"
     ]
    },
    {
     "name": "stderr",
     "output_type": "stream",
     "text": [
      "train... loss:61.066619634628296:   0%|▎                                                                                                | 18/5000 [01:50<8:31:57,  6.17s/it]"
     ]
    },
    {
     "name": "stdout",
     "output_type": "stream",
     "text": [
      "Val update: epoch: 17 |accuracy: 0.7284380793571472 | f1: 0.8193170428276062 | auc: 0.7999546527862549 | treshold: 0.49\n",
      "Test: accuracy: 0.7217023372650146 | f1: 0.8146072030067444 | auc: 0.795135498046875 | \n"
     ]
    },
    {
     "name": "stderr",
     "output_type": "stream",
     "text": [
      "train... loss:60.93935853242874:   0%|▎                                                                                                 | 19/5000 [01:56<8:33:30,  6.19s/it]"
     ]
    },
    {
     "name": "stdout",
     "output_type": "stream",
     "text": [
      "Val update: epoch: 18 |accuracy: 0.7290427088737488 | f1: 0.8192569017410278 | auc: 0.8019789457321167 | treshold: 0.49\n",
      "Test: accuracy: 0.7229355573654175 | f1: 0.8149129152297974 | auc: 0.7976375818252563 | \n"
     ]
    },
    {
     "name": "stderr",
     "output_type": "stream",
     "text": [
      "train... loss:60.83796280622482:   0%|▍                                                                                                 | 20/5000 [02:02<8:32:26,  6.17s/it]"
     ]
    },
    {
     "name": "stdout",
     "output_type": "stream",
     "text": [
      "Val update: epoch: 19 |accuracy: 0.7283413410186768 | f1: 0.8197631239891052 | auc: 0.8040726780891418 | treshold: 0.48000000000000004\n",
      "Test: accuracy: 0.722234308719635 | f1: 0.8153898119926453 | auc: 0.8002021312713623 | \n"
     ]
    },
    {
     "name": "stderr",
     "output_type": "stream",
     "text": [
      "train... loss:60.51497793197632:   0%|▍                                                                                                 | 21/5000 [02:09<8:32:47,  6.18s/it]"
     ]
    },
    {
     "name": "stdout",
     "output_type": "stream",
     "text": [
      "Val update: epoch: 20 |accuracy: 0.7340975999832153 | f1: 0.8212880492210388 | auc: 0.8060933351516724 | treshold: 0.49\n",
      "Test: accuracy: 0.727239727973938 | f1: 0.8162567019462585 | auc: 0.8021190166473389 | \n"
     ]
    },
    {
     "name": "stderr",
     "output_type": "stream",
     "text": [
      "train... loss:60.36837202310562:   0%|▍                                                                                                 | 22/5000 [02:15<8:34:28,  6.20s/it]"
     ]
    },
    {
     "name": "stdout",
     "output_type": "stream",
     "text": [
      "Val update: epoch: 21 |accuracy: 0.7328641414642334 | f1: 0.821344792842865 | auc: 0.808090329170227 | treshold: 0.49\n",
      "Test: accuracy: 0.7271188497543335 | f1: 0.8170128464698792 | auc: 0.8042067289352417 | \n"
     ]
    },
    {
     "name": "stderr",
     "output_type": "stream",
     "text": [
      "train... loss:60.26496309041977:   0%|▍                                                                                                 | 23/5000 [02:21<8:32:43,  6.18s/it]"
     ]
    },
    {
     "name": "stdout",
     "output_type": "stream",
     "text": [
      "Val update: epoch: 22 |accuracy: 0.7347748279571533 | f1: 0.8220556378364563 | auc: 0.8092167973518372 | treshold: 0.48000000000000004\n",
      "Test: accuracy: 0.7283037304878235 | f1: 0.8172591924667358 | auc: 0.8054871559143066 | \n"
     ]
    },
    {
     "name": "stderr",
     "output_type": "stream",
     "text": [
      "train... loss:60.2112979888916:   0%|▍                                                                                                  | 24/5000 [02:27<8:31:55,  6.17s/it]"
     ]
    },
    {
     "name": "stdout",
     "output_type": "stream",
     "text": [
      "Val update: epoch: 23 |accuracy: 0.7354278564453125 | f1: 0.8226175308227539 | auc: 0.8107553720474243 | treshold: 0.48000000000000004\n",
      "Test: accuracy: 0.7287873029708862 | f1: 0.8178274631500244 | auc: 0.807170033454895 | \n"
     ]
    },
    {
     "name": "stderr",
     "output_type": "stream",
     "text": [
      "train... loss:59.72286880016327:   0%|▍                                                                                                 | 25/5000 [02:33<8:32:07,  6.18s/it]"
     ]
    },
    {
     "name": "stdout",
     "output_type": "stream",
     "text": [
      "Val update: epoch: 24 |accuracy: 0.7384027242660522 | f1: 0.8229207396507263 | auc: 0.8124399781227112 | treshold: 0.49\n",
      "Test: accuracy: 0.7320759296417236 | f1: 0.8184618353843689 | auc: 0.8094058036804199 | \n"
     ]
    },
    {
     "name": "stderr",
     "output_type": "stream",
     "text": [
      "train... loss:59.53567108511925:   1%|▌                                                                                                 | 26/5000 [02:40<8:31:46,  6.17s/it]"
     ]
    },
    {
     "name": "stdout",
     "output_type": "stream",
     "text": [
      "Val update: epoch: 25 |accuracy: 0.7393460273742676 | f1: 0.8233655095100403 | auc: 0.8144262433052063 | treshold: 0.49\n",
      "Test: accuracy: 0.7321242690086365 | f1: 0.8181788325309753 | auc: 0.8108996152877808 | \n"
     ]
    },
    {
     "name": "stderr",
     "output_type": "stream",
     "text": [
      "train... loss:59.581174194812775:   1%|▌                                                                                                | 27/5000 [02:46<8:31:03,  6.17s/it]"
     ]
    },
    {
     "name": "stdout",
     "output_type": "stream",
     "text": [
      "Val update: epoch: 26 |accuracy: 0.7387413382530212 | f1: 0.8238823413848877 | auc: 0.8155748844146729 | treshold: 0.48000000000000004\n",
      "Test: accuracy: 0.7316648364067078 | f1: 0.8187445998191833 | auc: 0.8117625117301941 | \n"
     ]
    },
    {
     "name": "stderr",
     "output_type": "stream",
     "text": [
      "train... loss:59.367072224617004:   1%|▌                                                                                                | 28/5000 [02:52<8:31:54,  6.18s/it]"
     ]
    },
    {
     "name": "stdout",
     "output_type": "stream",
     "text": [
      "Val update: epoch: 27 |accuracy: 0.7390316128730774 | f1: 0.8237849473953247 | auc: 0.8171683549880981 | treshold: 0.48000000000000004\n",
      "Test: accuracy: 0.732607901096344 | f1: 0.8190298676490784 | auc: 0.8133688569068909 | \n"
     ]
    },
    {
     "name": "stderr",
     "output_type": "stream",
     "text": [
      "train... loss:59.320063412189484:   1%|▌                                                                                                | 29/5000 [02:58<8:31:45,  6.18s/it]"
     ]
    },
    {
     "name": "stdout",
     "output_type": "stream",
     "text": [
      "Val update: epoch: 28 |accuracy: 0.7404102087020874 | f1: 0.8240520358085632 | auc: 0.8174031376838684 | treshold: 0.48000000000000004\n",
      "Test: accuracy: 0.7333333492279053 | f1: 0.8190113306045532 | auc: 0.8141927719116211 | \n"
     ]
    },
    {
     "name": "stderr",
     "output_type": "stream",
     "text": [
      "train... loss:58.852929055690765:   1%|▌                                                                                                | 30/5000 [03:04<8:31:15,  6.17s/it]"
     ]
    },
    {
     "name": "stdout",
     "output_type": "stream",
     "text": [
      "Val update: epoch: 29 |accuracy: 0.7401441335678101 | f1: 0.8248907923698425 | auc: 0.8184478282928467 | treshold: 0.47000000000000003\n",
      "Test: accuracy: 0.7326804399490356 | f1: 0.8195131421089172 | auc: 0.8151600360870361 | \n"
     ]
    },
    {
     "name": "stderr",
     "output_type": "stream",
     "text": [
      "train... loss:58.911403119564056:   1%|▌                                                                                                | 31/5000 [03:10<8:31:59,  6.18s/it]"
     ]
    },
    {
     "name": "stdout",
     "output_type": "stream",
     "text": [
      "Val update: epoch: 30 |accuracy: 0.7465534806251526 | f1: 0.8261006474494934 | auc: 0.8212462663650513 | treshold: 0.5\n",
      "Test: accuracy: 0.7366219162940979 | f1: 0.8190938234329224 | auc: 0.8178385496139526 | \n"
     ]
    },
    {
     "name": "stderr",
     "output_type": "stream",
     "text": [
      "train... loss:58.61773991584778:   1%|▋                                                                                                 | 32/5000 [03:17<8:29:44,  6.16s/it]"
     ]
    },
    {
     "name": "stdout",
     "output_type": "stream",
     "text": [
      "Val update: epoch: 31 |accuracy: 0.7407729625701904 | f1: 0.825143575668335 | auc: 0.8215960264205933 | treshold: 0.46\n",
      "Test: accuracy: 0.7343247532844543 | f1: 0.820376992225647 | auc: 0.8184609413146973 | \n"
     ]
    },
    {
     "name": "stderr",
     "output_type": "stream",
     "text": [
      "train... loss:58.61955887079239:   1%|▋                                                                                                 | 33/5000 [03:23<8:29:30,  6.15s/it]"
     ]
    },
    {
     "name": "stdout",
     "output_type": "stream",
     "text": [
      "Val update: epoch: 32 |accuracy: 0.7425869703292847 | f1: 0.8257730603218079 | auc: 0.822952151298523 | treshold: 0.49\n",
      "Test: accuracy: 0.7360416054725647 | f1: 0.8209846019744873 | auc: 0.8201351165771484 | \n"
     ]
    },
    {
     "name": "stderr",
     "output_type": "stream",
     "text": [
      "train... loss:58.15495175123215:   1%|▋                                                                                                 | 35/5000 [03:34<8:19:32,  6.04s/it]"
     ]
    },
    {
     "name": "stdout",
     "output_type": "stream",
     "text": [
      "Val update: epoch: 34 |accuracy: 0.7406036853790283 | f1: 0.826475977897644 | auc: 0.8263354301452637 | treshold: 0.47000000000000003\n",
      "Test: accuracy: 0.7337202429771423 | f1: 0.821378767490387 | auc: 0.8227918148040771 | \n"
     ]
    },
    {
     "name": "stderr",
     "output_type": "stream",
     "text": [
      "train... loss:58.1046159863472:   1%|▋                                                                                                  | 37/5000 [03:46<8:17:21,  6.01s/it]"
     ]
    },
    {
     "name": "stdout",
     "output_type": "stream",
     "text": [
      "Val update: epoch: 36 |accuracy: 0.7425143718719482 | f1: 0.8268605470657349 | auc: 0.8271932005882263 | treshold: 0.46\n",
      "Test: accuracy: 0.7357755899429321 | f1: 0.8219401240348816 | auc: 0.8242511749267578 | \n"
     ]
    },
    {
     "name": "stderr",
     "output_type": "stream",
     "text": [
      "train... loss:57.9128577709198:   1%|▊                                                                                                  | 38/5000 [03:52<8:22:10,  6.07s/it]"
     ]
    },
    {
     "name": "stdout",
     "output_type": "stream",
     "text": [
      "Val update: epoch: 37 |accuracy: 0.7493590712547302 | f1: 0.827734112739563 | auc: 0.8286134004592896 | treshold: 0.49\n",
      "Test: accuracy: 0.741796612739563 | f1: 0.8223531246185303 | auc: 0.8259783983230591 | \n"
     ]
    },
    {
     "name": "stderr",
     "output_type": "stream",
     "text": [
      "train... loss:57.75583040714264:   1%|▊                                                                                                 | 39/5000 [03:59<8:22:51,  6.08s/it]"
     ]
    },
    {
     "name": "stdout",
     "output_type": "stream",
     "text": [
      "Val update: epoch: 38 |accuracy: 0.7489237189292908 | f1: 0.8280636668205261 | auc: 0.8295391798019409 | treshold: 0.47000000000000003\n",
      "Test: accuracy: 0.740587592124939 | f1: 0.8220541477203369 | auc: 0.8269700407981873 | \n"
     ]
    },
    {
     "name": "stderr",
     "output_type": "stream",
     "text": [
      "train... loss:57.75520008802414:   1%|▊                                                                                                 | 40/5000 [04:05<8:29:07,  6.16s/it]"
     ]
    },
    {
     "name": "stdout",
     "output_type": "stream",
     "text": [
      "Val update: epoch: 39 |accuracy: 0.7618874907493591 | f1: 0.8273382782936096 | auc: 0.830809473991394 | treshold: 0.55\n",
      "Test: accuracy: 0.755144476890564 | f1: 0.8222323656082153 | auc: 0.8279042840003967 | \n"
     ]
    },
    {
     "name": "stderr",
     "output_type": "stream",
     "text": [
      "train... loss:57.400261610746384:   1%|▊                                                                                                | 41/5000 [04:11<8:28:10,  6.15s/it]"
     ]
    },
    {
     "name": "stdout",
     "output_type": "stream",
     "text": [
      "Val update: epoch: 40 |accuracy: 0.7498911619186401 | f1: 0.8278995752334595 | auc: 0.8310079574584961 | treshold: 0.47000000000000003\n",
      "Test: accuracy: 0.741772472858429 | f1: 0.8218355178833008 | auc: 0.8281908631324768 | \n"
     ]
    },
    {
     "name": "stderr",
     "output_type": "stream",
     "text": [
      "train... loss:57.4132724404335:   1%|▊                                                                                                  | 42/5000 [04:17<8:28:27,  6.15s/it]"
     ]
    },
    {
     "name": "stdout",
     "output_type": "stream",
     "text": [
      "Val update: epoch: 41 |accuracy: 0.7619116902351379 | f1: 0.8287642598152161 | auc: 0.8328749537467957 | treshold: 0.54\n",
      "Test: accuracy: 0.7557731866836548 | f1: 0.8240663409233093 | auc: 0.830263614654541 | \n"
     ]
    },
    {
     "name": "stderr",
     "output_type": "stream",
     "text": [
      "train... loss:57.00955784320831:   1%|▊                                                                                                 | 44/5000 [04:29<8:22:40,  6.09s/it]"
     ]
    },
    {
     "name": "stdout",
     "output_type": "stream",
     "text": [
      "Val update: epoch: 43 |accuracy: 0.762419581413269 | f1: 0.8302486538887024 | auc: 0.8346717357635498 | treshold: 0.52\n",
      "Test: accuracy: 0.7556764483451843 | f1: 0.8252024054527283 | auc: 0.8325572609901428 | \n"
     ]
    },
    {
     "name": "stderr",
     "output_type": "stream",
     "text": [
      "train... loss:57.05070745944977:   1%|▉                                                                                                 | 45/5000 [04:35<8:26:20,  6.13s/it]"
     ]
    },
    {
     "name": "stdout",
     "output_type": "stream",
     "text": [
      "Val update: epoch: 44 |accuracy: 0.769627034664154 | f1: 0.8314964771270752 | auc: 0.8347294330596924 | treshold: 0.55\n",
      "Test: accuracy: 0.764091432094574 | f1: 0.8271622657775879 | auc: 0.8324923515319824 | \n"
     ]
    },
    {
     "name": "stderr",
     "output_type": "stream",
     "text": [
      "train... loss:56.887736439704895:   1%|▉                                                                                                | 46/5000 [04:42<8:30:04,  6.18s/it]"
     ]
    },
    {
     "name": "stdout",
     "output_type": "stream",
     "text": [
      "Val update: epoch: 45 |accuracy: 0.7696996331214905 | f1: 0.8302249908447266 | auc: 0.835766613483429 | treshold: 0.53\n",
      "Test: accuracy: 0.7649860978126526 | f1: 0.8265610337257385 | auc: 0.8333801627159119 | \n"
     ]
    },
    {
     "name": "stderr",
     "output_type": "stream",
     "text": [
      "train... loss:56.872200191020966:   1%|▉                                                                                                | 47/5000 [04:48<8:31:36,  6.20s/it]"
     ]
    },
    {
     "name": "stdout",
     "output_type": "stream",
     "text": [
      "Val update: epoch: 46 |accuracy: 0.7655153870582581 | f1: 0.8329283595085144 | auc: 0.8374422192573547 | treshold: 0.53\n",
      "Test: accuracy: 0.7591343522071838 | f1: 0.8279827833175659 | auc: 0.8353629112243652 | \n"
     ]
    },
    {
     "name": "stderr",
     "output_type": "stream",
     "text": [
      "train... loss:56.59045368432999:   1%|▉                                                                                                 | 49/5000 [05:00<8:24:57,  6.12s/it]"
     ]
    },
    {
     "name": "stdout",
     "output_type": "stream",
     "text": [
      "Val update: epoch: 48 |accuracy: 0.7706670761108398 | f1: 0.8358720541000366 | auc: 0.8392810821533203 | treshold: 0.52\n",
      "Test: accuracy: 0.763728678226471 | f1: 0.8303086161613464 | auc: 0.8369273543357849 | \n"
     ]
    },
    {
     "name": "stderr",
     "output_type": "stream",
     "text": [
      "train... loss:56.413714557886124:   1%|▉                                                                                                | 50/5000 [05:06<8:26:26,  6.14s/it]"
     ]
    },
    {
     "name": "stdout",
     "output_type": "stream",
     "text": [
      "Val update: epoch: 49 |accuracy: 0.7723842859268188 | f1: 0.8349266052246094 | auc: 0.8393260836601257 | treshold: 0.53\n",
      "Test: accuracy: 0.7673557996749878 | f1: 0.8308336138725281 | auc: 0.837241530418396 | \n"
     ]
    },
    {
     "name": "stderr",
     "output_type": "stream",
     "text": [
      "train... loss:56.46402996778488:   1%|▉                                                                                                 | 51/5000 [05:12<8:28:11,  6.16s/it]"
     ]
    },
    {
     "name": "stdout",
     "output_type": "stream",
     "text": [
      "Val update: epoch: 50 |accuracy: 0.7712959051132202 | f1: 0.8361064791679382 | auc: 0.8399958610534668 | treshold: 0.51\n",
      "Test: accuracy: 0.7654213309288025 | f1: 0.8314540386199951 | auc: 0.8382391929626465 | \n"
     ]
    },
    {
     "name": "stderr",
     "output_type": "stream",
     "text": [
      "train... loss:56.345892906188965:   1%|█                                                                                                | 52/5000 [05:19<8:32:55,  6.22s/it]"
     ]
    },
    {
     "name": "stdout",
     "output_type": "stream",
     "text": [
      "Val update: epoch: 51 |accuracy: 0.7722875475883484 | f1: 0.8368481993675232 | auc: 0.8410638570785522 | treshold: 0.52\n",
      "Test: accuracy: 0.7662435173988342 | f1: 0.8320564031600952 | auc: 0.8395890593528748 | \n"
     ]
    },
    {
     "name": "stderr",
     "output_type": "stream",
     "text": [
      "train... loss:56.05788442492485:   1%|█                                                                                                 | 53/5000 [05:25<8:33:40,  6.23s/it]"
     ]
    },
    {
     "name": "stdout",
     "output_type": "stream",
     "text": [
      "Val update: epoch: 52 |accuracy: 0.7745126485824585 | f1: 0.8370873928070068 | auc: 0.8420113921165466 | treshold: 0.52\n",
      "Test: accuracy: 0.7693870067596436 | f1: 0.8327986001968384 | auc: 0.8402955532073975 | \n"
     ]
    },
    {
     "name": "stderr",
     "output_type": "stream",
     "text": [
      "train... loss:55.9279320538044:   1%|█                                                                                                  | 54/5000 [05:31<8:33:07,  6.22s/it]"
     ]
    },
    {
     "name": "stdout",
     "output_type": "stream",
     "text": [
      "Val update: epoch: 53 |accuracy: 0.7733517289161682 | f1: 0.8388505578041077 | auc: 0.8428874015808105 | treshold: 0.51\n",
      "Test: accuracy: 0.7668480277061462 | f1: 0.8337585926055908 | auc: 0.8411821126937866 | \n"
     ]
    },
    {
     "name": "stderr",
     "output_type": "stream",
     "text": [
      "train... loss:55.8075787127018:   1%|█                                                                                                  | 55/5000 [05:37<8:33:42,  6.23s/it]"
     ]
    },
    {
     "name": "stdout",
     "output_type": "stream",
     "text": [
      "Val update: epoch: 54 |accuracy: 0.7747303247451782 | f1: 0.8373043537139893 | auc: 0.8431060314178467 | treshold: 0.52\n",
      "Test: accuracy: 0.7703784108161926 | f1: 0.8336661458015442 | auc: 0.8413347005844116 | \n"
     ]
    },
    {
     "name": "stderr",
     "output_type": "stream",
     "text": [
      "train... loss:55.92647683620453:   1%|█                                                                                                 | 56/5000 [05:44<8:33:20,  6.23s/it]"
     ]
    },
    {
     "name": "stdout",
     "output_type": "stream",
     "text": [
      "Val update: epoch: 55 |accuracy: 0.7720456719398499 | f1: 0.8389797210693359 | auc: 0.8438708782196045 | treshold: 0.5\n",
      "Test: accuracy: 0.7658324241638184 | f1: 0.8338993787765503 | auc: 0.8423946499824524 | \n"
     ]
    },
    {
     "name": "stderr",
     "output_type": "stream",
     "text": [
      "train... loss:55.63883355259895:   1%|█                                                                                                 | 57/5000 [05:50<8:32:22,  6.22s/it]"
     ]
    },
    {
     "name": "stdout",
     "output_type": "stream",
     "text": [
      "Val update: epoch: 56 |accuracy: 0.7765200734138489 | f1: 0.8380708694458008 | auc: 0.8442990779876709 | treshold: 0.52\n",
      "Test: accuracy: 0.7731834053993225 | f1: 0.8350334167480469 | auc: 0.8433435559272766 | \n"
     ]
    },
    {
     "name": "stderr",
     "output_type": "stream",
     "text": [
      "train... loss:55.667870342731476:   1%|█▏                                                                                               | 58/5000 [05:56<8:34:05,  6.24s/it]"
     ]
    },
    {
     "name": "stdout",
     "output_type": "stream",
     "text": [
      "Val update: epoch: 57 |accuracy: 0.7760847210884094 | f1: 0.8401864171028137 | auc: 0.8454660177230835 | treshold: 0.51\n",
      "Test: accuracy: 0.7709345817565918 | f1: 0.8358659148216248 | auc: 0.8439816236495972 | \n"
     ]
    },
    {
     "name": "stderr",
     "output_type": "stream",
     "text": [
      "train... loss:55.357164174318314:   1%|█▏                                                                                               | 59/5000 [06:02<8:33:43,  6.24s/it]"
     ]
    },
    {
     "name": "stdout",
     "output_type": "stream",
     "text": [
      "Val update: epoch: 58 |accuracy: 0.7778019905090332 | f1: 0.8392953872680664 | auc: 0.8459229469299316 | treshold: 0.52\n",
      "Test: accuracy: 0.7737879157066345 | f1: 0.8358973264694214 | auc: 0.8447328805923462 | \n"
     ]
    },
    {
     "name": "stderr",
     "output_type": "stream",
     "text": [
      "train... loss:55.29407995939255:   1%|█▏                                                                                                | 61/5000 [06:14<8:24:14,  6.13s/it]"
     ]
    },
    {
     "name": "stdout",
     "output_type": "stream",
     "text": [
      "Val update: epoch: 60 |accuracy: 0.7784791588783264 | f1: 0.8395775556564331 | auc: 0.8467580080032349 | treshold: 0.52\n",
      "Test: accuracy: 0.7753596901893616 | f1: 0.8367425799369812 | auc: 0.8458640575408936 | \n"
     ]
    },
    {
     "name": "stderr",
     "output_type": "stream",
     "text": [
      "train... loss:55.21455070376396:   1%|█▏                                                                                                | 62/5000 [06:20<8:26:29,  6.15s/it]"
     ]
    },
    {
     "name": "stdout",
     "output_type": "stream",
     "text": [
      "Val update: epoch: 61 |accuracy: 0.7762298583984375 | f1: 0.8407956957817078 | auc: 0.8475216627120972 | treshold: 0.5\n",
      "Test: accuracy: 0.7709587812423706 | f1: 0.8364019393920898 | auc: 0.8461978435516357 | \n"
     ]
    },
    {
     "name": "stderr",
     "output_type": "stream",
     "text": [
      "train... loss:55.25712338089943:   1%|█▏                                                                                                | 63/5000 [06:27<8:30:30,  6.20s/it]"
     ]
    },
    {
     "name": "stdout",
     "output_type": "stream",
     "text": [
      "Val update: epoch: 62 |accuracy: 0.7788903117179871 | f1: 0.8401580452919006 | auc: 0.8478952050209045 | treshold: 0.52\n",
      "Test: accuracy: 0.7755047678947449 | f1: 0.8371970653533936 | auc: 0.8467180728912354 | \n"
     ]
    },
    {
     "name": "stderr",
     "output_type": "stream",
     "text": [
      "train... loss:55.0919506251812:   1%|█▎                                                                                                 | 64/5000 [06:33<8:32:40,  6.23s/it]"
     ]
    },
    {
     "name": "stdout",
     "output_type": "stream",
     "text": [
      "Val update: epoch: 63 |accuracy: 0.776810348033905 | f1: 0.8423534035682678 | auc: 0.8481788635253906 | treshold: 0.49\n",
      "Test: accuracy: 0.771877646446228 | f1: 0.8381429314613342 | auc: 0.8475067615509033 | \n"
     ]
    },
    {
     "name": "stderr",
     "output_type": "stream",
     "text": [
      "train... loss:54.83475610613823:   1%|█▎                                                                                                | 65/5000 [06:39<8:31:38,  6.22s/it]"
     ]
    },
    {
     "name": "stdout",
     "output_type": "stream",
     "text": [
      "Val update: epoch: 64 |accuracy: 0.7810187339782715 | f1: 0.8414638638496399 | auc: 0.849017322063446 | treshold: 0.52\n",
      "Test: accuracy: 0.7779712080955505 | f1: 0.8387141823768616 | auc: 0.848082423210144 | \n"
     ]
    },
    {
     "name": "stderr",
     "output_type": "stream",
     "text": [
      "train... loss:54.91519179940224:   1%|█▎                                                                                                | 66/5000 [06:45<8:31:03,  6.21s/it]"
     ]
    },
    {
     "name": "stdout",
     "output_type": "stream",
     "text": [
      "Val update: epoch: 65 |accuracy: 0.7791079878807068 | f1: 0.8427215814590454 | auc: 0.8495112657546997 | treshold: 0.5\n",
      "Test: accuracy: 0.7735219597816467 | f1: 0.8379921317100525 | auc: 0.8481875061988831 | \n"
     ]
    },
    {
     "name": "stderr",
     "output_type": "stream",
     "text": [
      "train... loss:54.78616753220558:   1%|█▎                                                                                                | 67/5000 [06:52<8:32:52,  6.24s/it]"
     ]
    },
    {
     "name": "stdout",
     "output_type": "stream",
     "text": [
      "Val update: epoch: 66 |accuracy: 0.7808010578155518 | f1: 0.843300998210907 | auc: 0.8499132394790649 | treshold: 0.5\n",
      "Test: accuracy: 0.7757707834243774 | f1: 0.8391137719154358 | auc: 0.8492485880851746 | \n"
     ]
    },
    {
     "name": "stderr",
     "output_type": "stream",
     "text": [
      "train... loss:54.74215045571327:   1%|█▎                                                                                                | 68/5000 [06:58<8:33:11,  6.24s/it]"
     ]
    },
    {
     "name": "stdout",
     "output_type": "stream",
     "text": [
      "Val update: epoch: 67 |accuracy: 0.7809703350067139 | f1: 0.8428159952163696 | auc: 0.8501732349395752 | treshold: 0.51\n",
      "Test: accuracy: 0.7773666977882385 | f1: 0.8396188616752625 | auc: 0.8496126532554626 | \n"
     ]
    },
    {
     "name": "stderr",
     "output_type": "stream",
     "text": [
      "train... loss:54.553438514471054:   1%|█▎                                                                                               | 69/5000 [07:04<8:32:56,  6.24s/it]"
     ]
    },
    {
     "name": "stdout",
     "output_type": "stream",
     "text": [
      "Val update: epoch: 68 |accuracy: 0.7822038531303406 | f1: 0.8416146039962769 | auc: 0.8512004017829895 | treshold: 0.52\n",
      "Test: accuracy: 0.7780196070671082 | f1: 0.8380380868911743 | auc: 0.8496981859207153 | \n"
     ]
    },
    {
     "name": "stderr",
     "output_type": "stream",
     "text": [
      "train... loss:54.69122514128685:   1%|█▎                                                                                                | 70/5000 [07:10<8:32:01,  6.23s/it]"
     ]
    },
    {
     "name": "stdout",
     "output_type": "stream",
     "text": [
      "Val update: epoch: 69 |accuracy: 0.7808493971824646 | f1: 0.8440420627593994 | auc: 0.851760983467102 | treshold: 0.5\n",
      "Test: accuracy: 0.775674045085907 | f1: 0.839656412601471 | auc: 0.8508645296096802 | \n"
     ]
    },
    {
     "name": "stderr",
     "output_type": "stream",
     "text": [
      "train... loss:54.32506451010704:   1%|█▍                                                                                                | 72/5000 [07:22<8:22:51,  6.12s/it]"
     ]
    },
    {
     "name": "stdout",
     "output_type": "stream",
     "text": [
      "Val update: epoch: 71 |accuracy: 0.7801238298416138 | f1: 0.8439929485321045 | auc: 0.8522734642028809 | treshold: 0.5\n",
      "Test: accuracy: 0.7759883999824524 | f1: 0.8401545882225037 | auc: 0.8516365885734558 | \n"
     ]
    },
    {
     "name": "stderr",
     "output_type": "stream",
     "text": [
      "train... loss:54.30423003435135:   1%|█▍                                                                                                | 73/5000 [07:29<8:22:30,  6.12s/it]"
     ]
    },
    {
     "name": "stdout",
     "output_type": "stream",
     "text": [
      "Val update: epoch: 72 |accuracy: 0.7825424671173096 | f1: 0.8434032797813416 | auc: 0.8526631593704224 | treshold: 0.5\n",
      "Test: accuracy: 0.7794462442398071 | f1: 0.8406171798706055 | auc: 0.8519777059555054 | \n"
     ]
    },
    {
     "name": "stderr",
     "output_type": "stream",
     "text": [
      "train... loss:54.29662615060806:   1%|█▍                                                                                                | 74/5000 [07:35<8:24:53,  6.15s/it]"
     ]
    },
    {
     "name": "stdout",
     "output_type": "stream",
     "text": [
      "Val update: epoch: 73 |accuracy: 0.7803173065185547 | f1: 0.8445889353752136 | auc: 0.8530896902084351 | treshold: 0.5\n",
      "Test: accuracy: 0.7756982445716858 | f1: 0.840519905090332 | auc: 0.8526319265365601 | \n"
     ]
    },
    {
     "name": "stderr",
     "output_type": "stream",
     "text": [
      "train... loss:54.12459447979927:   2%|█▍                                                                                                | 76/5000 [07:47<8:15:08,  6.03s/it]"
     ]
    },
    {
     "name": "stdout",
     "output_type": "stream",
     "text": [
      "Val update: epoch: 75 |accuracy: 0.7789629101753235 | f1: 0.8448308110237122 | auc: 0.853753924369812 | treshold: 0.49\n",
      "Test: accuracy: 0.7754080295562744 | f1: 0.8414692282676697 | auc: 0.8537027835845947 | \n"
     ]
    },
    {
     "name": "stderr",
     "output_type": "stream",
     "text": [
      "train... loss:54.07135212421417:   2%|█▌                                                                                                | 78/5000 [07:58<8:11:14,  5.99s/it]"
     ]
    },
    {
     "name": "stdout",
     "output_type": "stream",
     "text": [
      "Val update: epoch: 77 |accuracy: 0.7801480293273926 | f1: 0.8449810743331909 | auc: 0.8538761734962463 | treshold: 0.5\n",
      "Test: accuracy: 0.7758433222770691 | f1: 0.8410493731498718 | auc: 0.8534034490585327 | \n"
     ]
    },
    {
     "name": "stderr",
     "output_type": "stream",
     "text": [
      "train... loss:53.874949246644974:   2%|█▌                                                                                               | 79/5000 [08:04<8:15:26,  6.04s/it]"
     ]
    },
    {
     "name": "stdout",
     "output_type": "stream",
     "text": [
      "Val update: epoch: 78 |accuracy: 0.7846224308013916 | f1: 0.8436155319213867 | auc: 0.854255199432373 | treshold: 0.5\n",
      "Test: accuracy: 0.7813323736190796 | f1: 0.840615451335907 | auc: 0.853813648223877 | \n"
     ]
    },
    {
     "name": "stderr",
     "output_type": "stream",
     "text": [
      "train... loss:53.841809183359146:   2%|█▌                                                                                               | 80/5000 [08:11<8:18:05,  6.07s/it]"
     ]
    },
    {
     "name": "stdout",
     "output_type": "stream",
     "text": [
      "Val update: epoch: 79 |accuracy: 0.7783098816871643 | f1: 0.8450589776039124 | auc: 0.8550217151641846 | treshold: 0.48000000000000004\n",
      "Test: accuracy: 0.7748035192489624 | f1: 0.8416290879249573 | auc: 0.8553832173347473 | \n"
     ]
    },
    {
     "name": "stderr",
     "output_type": "stream",
     "text": [
      "train... loss:53.53992456197739:   2%|█▋                                                                                                | 83/5000 [08:28<8:11:44,  6.00s/it]"
     ]
    },
    {
     "name": "stdout",
     "output_type": "stream",
     "text": [
      "Val update: epoch: 82 |accuracy: 0.7826634049415588 | f1: 0.8456066846847534 | auc: 0.8558003902435303 | treshold: 0.51\n",
      "Test: accuracy: 0.7803167700767517 | f1: 0.8431755304336548 | auc: 0.8561320304870605 | \n"
     ]
    },
    {
     "name": "stderr",
     "output_type": "stream",
     "text": [
      "train... loss:53.5943249464035:   2%|█▋                                                                                                 | 86/5000 [08:46<8:08:29,  5.96s/it]"
     ]
    },
    {
     "name": "stdout",
     "output_type": "stream",
     "text": [
      "Val update: epoch: 85 |accuracy: 0.7837517261505127 | f1: 0.8459430932998657 | auc: 0.8563148379325867 | treshold: 0.49\n",
      "Test: accuracy: 0.7805101871490479 | f1: 0.8428252339363098 | auc: 0.8561593294143677 | \n"
     ]
    },
    {
     "name": "stderr",
     "output_type": "stream",
     "text": [
      "train... loss:53.481716483831406:   2%|█▋                                                                                               | 87/5000 [08:52<8:13:13,  6.02s/it]"
     ]
    },
    {
     "name": "stdout",
     "output_type": "stream",
     "text": [
      "Val update: epoch: 86 |accuracy: 0.7833889722824097 | f1: 0.8459368348121643 | auc: 0.856452465057373 | treshold: 0.48000000000000004\n",
      "Test: accuracy: 0.7808729410171509 | f1: 0.8433535099029541 | auc: 0.8561910390853882 | \n"
     ]
    },
    {
     "name": "stderr",
     "output_type": "stream",
     "text": [
      "train... loss:53.4592382311821:   2%|█▋                                                                                                 | 88/5000 [08:58<8:16:44,  6.07s/it]"
     ]
    },
    {
     "name": "stdout",
     "output_type": "stream",
     "text": [
      "Val update: epoch: 87 |accuracy: 0.782494068145752 | f1: 0.8461920022964478 | auc: 0.8569533824920654 | treshold: 0.49\n",
      "Test: accuracy: 0.7793253660202026 | f1: 0.8430448770523071 | auc: 0.8570093512535095 | \n"
     ]
    },
    {
     "name": "stderr",
     "output_type": "stream",
     "text": [
      "train... loss:53.28509080410004:   2%|█▊                                                                                                | 90/5000 [09:10<8:12:20,  6.02s/it]"
     ]
    },
    {
     "name": "stdout",
     "output_type": "stream",
     "text": [
      "Val update: epoch: 89 |accuracy: 0.7810670733451843 | f1: 0.8463053703308105 | auc: 0.8578133583068848 | treshold: 0.48000000000000004\n",
      "Test: accuracy: 0.777463436126709 | f1: 0.842831552028656 | auc: 0.8574816584587097 | \n"
     ]
    },
    {
     "name": "stderr",
     "output_type": "stream",
     "text": [
      "train... loss:53.03707009553909:   2%|█▊                                                                                                | 93/5000 [09:27<8:03:54,  5.92s/it]"
     ]
    },
    {
     "name": "stdout",
     "output_type": "stream",
     "text": [
      "Val update: epoch: 92 |accuracy: 0.7821312546730042 | f1: 0.8466984629631042 | auc: 0.8580983877182007 | treshold: 0.49\n",
      "Test: accuracy: 0.7791560888290405 | f1: 0.8437227010726929 | auc: 0.8587409257888794 | \n"
     ]
    },
    {
     "name": "stderr",
     "output_type": "stream",
     "text": [
      "train... loss:53.1026454269886:   2%|█▉                                                                                                 | 95/5000 [09:39<8:04:36,  5.93s/it]"
     ]
    },
    {
     "name": "stdout",
     "output_type": "stream",
     "text": [
      "Val update: epoch: 94 |accuracy: 0.7798578143119812 | f1: 0.8462084531784058 | auc: 0.8585608601570129 | treshold: 0.46\n",
      "Test: accuracy: 0.7767863869667053 | f1: 0.8431409001350403 | auc: 0.8587522506713867 | \n"
     ]
    },
    {
     "name": "stderr",
     "output_type": "stream",
     "text": [
      "train... loss:53.05722451210022:   2%|█▉                                                                                                | 96/5000 [09:45<8:12:28,  6.03s/it]"
     ]
    },
    {
     "name": "stdout",
     "output_type": "stream",
     "text": [
      "Val update: epoch: 95 |accuracy: 0.7829536199569702 | f1: 0.8467554450035095 | auc: 0.8586583137512207 | treshold: 0.49\n",
      "Test: accuracy: 0.7811872959136963 | f1: 0.8446123600006104 | auc: 0.8590643405914307 | \n"
     ]
    },
    {
     "name": "stderr",
     "output_type": "stream",
     "text": [
      "train... loss:52.92889139056206:   2%|█▉                                                                                                | 98/5000 [09:57<8:09:00,  5.99s/it]"
     ]
    },
    {
     "name": "stdout",
     "output_type": "stream",
     "text": [
      "Val update: epoch: 97 |accuracy: 0.7805591821670532 | f1: 0.8464363813400269 | auc: 0.8590519428253174 | treshold: 0.47000000000000003\n",
      "Test: accuracy: 0.7784790396690369 | f1: 0.8440972566604614 | auc: 0.8593906164169312 | \n"
     ]
    },
    {
     "name": "stderr",
     "output_type": "stream",
     "text": [
      "train... loss:52.83093240857124:   2%|█▉                                                                                               | 101/5000 [10:15<8:02:44,  5.91s/it]"
     ]
    },
    {
     "name": "stdout",
     "output_type": "stream",
     "text": [
      "Val update: epoch: 100 |accuracy: 0.782300591468811 | f1: 0.8467158079147339 | auc: 0.859673261642456 | treshold: 0.48000000000000004\n",
      "Test: accuracy: 0.7793495059013367 | f1: 0.8438649773597717 | auc: 0.8602776527404785 | \n"
     ]
    },
    {
     "name": "stderr",
     "output_type": "stream",
     "text": [
      "train... loss:52.563986986875534:   2%|█▉                                                                                              | 104/5000 [10:32<7:59:22,  5.87s/it]"
     ]
    },
    {
     "name": "stdout",
     "output_type": "stream",
     "text": [
      "Val update: epoch: 103 |accuracy: 0.7835099101066589 | f1: 0.8478678464889526 | auc: 0.8604476451873779 | treshold: 0.48000000000000004\n",
      "Test: accuracy: 0.7804135084152222 | f1: 0.8449732661247253 | auc: 0.8610875606536865 | \n"
     ]
    },
    {
     "name": "stderr",
     "output_type": "stream",
     "text": [
      "train... loss:52.78628897666931:   2%|██                                                                                               | 106/5000 [10:44<8:05:35,  5.95s/it]"
     ]
    },
    {
     "name": "stdout",
     "output_type": "stream",
     "text": [
      "Val update: epoch: 105 |accuracy: 0.7830987572669983 | f1: 0.8469572067260742 | auc: 0.8604956269264221 | treshold: 0.47000000000000003\n",
      "Test: accuracy: 0.7807520031929016 | f1: 0.8445274829864502 | auc: 0.8608372211456299 | \n"
     ]
    },
    {
     "name": "stderr",
     "output_type": "stream",
     "text": [
      "train... loss:52.5512321293354:   2%|██                                                                                                | 107/5000 [10:50<8:12:19,  6.04s/it]"
     ]
    },
    {
     "name": "stdout",
     "output_type": "stream",
     "text": [
      "Val update: epoch: 106 |accuracy: 0.789145290851593 | f1: 0.8462705016136169 | auc: 0.8610570430755615 | treshold: 0.53\n",
      "Test: accuracy: 0.788223922252655 | f1: 0.8449746966362 | auc: 0.8617957830429077 | \n"
     ]
    },
    {
     "name": "stderr",
     "output_type": "stream",
     "text": [
      "train... loss:52.36028128862381:   2%|██▏                                                                                              | 110/5000 [11:08<8:06:06,  5.96s/it]"
     ]
    },
    {
     "name": "stdout",
     "output_type": "stream",
     "text": [
      "Val update: epoch: 109 |accuracy: 0.788806676864624 | f1: 0.8466509580612183 | auc: 0.8612309694290161 | treshold: 0.52\n",
      "Test: accuracy: 0.7876919507980347 | f1: 0.8452263474464417 | auc: 0.8616142868995667 | \n"
     ]
    },
    {
     "name": "stderr",
     "output_type": "stream",
     "text": [
      "train... loss:52.312711268663406:   2%|██▏                                                                                             | 112/5000 [11:20<8:05:51,  5.96s/it]"
     ]
    },
    {
     "name": "stdout",
     "output_type": "stream",
     "text": [
      "Val update: epoch: 111 |accuracy: 0.7815750241279602 | f1: 0.8470799326896667 | auc: 0.8614482283592224 | treshold: 0.47000000000000003\n",
      "Test: accuracy: 0.7800507545471191 | f1: 0.8452008366584778 | auc: 0.8623924255371094 | \n"
     ]
    },
    {
     "name": "stderr",
     "output_type": "stream",
     "text": [
      "train... loss:52.12063416838646:   2%|██▏                                                                                              | 115/5000 [11:37<8:03:43,  5.94s/it]"
     ]
    },
    {
     "name": "stdout",
     "output_type": "stream",
     "text": [
      "Val update: epoch: 114 |accuracy: 0.7846708297729492 | f1: 0.847297728061676 | auc: 0.8616825342178345 | treshold: 0.49\n",
      "Test: accuracy: 0.7835086584091187 | f1: 0.8456565737724304 | auc: 0.8623297810554504 | \n"
     ]
    },
    {
     "name": "stderr",
     "output_type": "stream",
     "text": [
      "train... loss:52.140605598688126:   2%|██▎                                                                                             | 118/5000 [11:55<8:03:36,  5.94s/it]"
     ]
    },
    {
     "name": "stdout",
     "output_type": "stream",
     "text": [
      "Val update: epoch: 117 |accuracy: 0.7853721976280212 | f1: 0.8481467366218567 | auc: 0.8621437549591064 | treshold: 0.48000000000000004\n",
      "Test: accuracy: 0.7836053967475891 | f1: 0.8461340069770813 | auc: 0.8630431294441223 | \n"
     ]
    },
    {
     "name": "stderr",
     "output_type": "stream",
     "text": [
      "train... loss:52.150305688381195:   2%|██▎                                                                                             | 119/5000 [12:01<8:11:48,  6.05s/it]"
     ]
    },
    {
     "name": "stdout",
     "output_type": "stream",
     "text": [
      "Val update: epoch: 118 |accuracy: 0.7897982597351074 | f1: 0.846760094165802 | auc: 0.8623231649398804 | treshold: 0.52\n",
      "Test: accuracy: 0.7899407744407654 | f1: 0.8462069630622864 | auc: 0.8633173108100891 | \n"
     ]
    },
    {
     "name": "stderr",
     "output_type": "stream",
     "text": [
      "train... loss:52.31201529502869:   2%|██▎                                                                                              | 121/5000 [12:18<8:16:23,  6.10s/it]\n"
     ]
    }
   ],
   "source": [
    "for embeddings in ['explicit','neural', 'svd']:\n",
    "    print(f\"\\nEvaluating {experiment_name} with {embeddings} embeddings\")\n",
    "\n",
    "    model = LogisticRegression(\n",
    "        RecsysEmbedding(\n",
    "            train_num_items, \n",
    "            train_user_item_matrix, \n",
    "            embeddings=embeddings, \n",
    "            embedding_dim=40\n",
    "        ),\n",
    "        output_dim=1\n",
    "    ).to(device)\n",
    "\n",
    "    best_model, metrics = train(\n",
    "        model, \n",
    "        train_loader, val_loader, test_loader, \n",
    "        device=device, lr=1e-3, num_epochs=5000, early_stopping=7,\n",
    "        silent=True\n",
    "    )\n",
    "    \n",
    "    metrics['embeddings'] = embeddings\n",
    "    rl4rs_results.append(metrics)\n",
    "    \n",
    "pd.DataFrame(rl4rs_results).to_csv(f'results/rl4rs_{experiment_name}.csv')\n",
    "del dataset, train_loader, val_loader, test_loader, train_user_item_matrix, train_num_items"
   ]
  },
  {
   "cell_type": "markdown",
   "id": "125ea87b-fa6a-4b05-b580-d3b89e1c4d2c",
   "metadata": {},
   "source": [
    "# OpenCDP"
   ]
  },
  {
   "cell_type": "code",
   "execution_count": null,
   "id": "a660c8db-f1c3-437e-b4a0-371b0947d64d",
   "metadata": {},
   "outputs": [
    {
     "name": "stdout",
     "output_type": "stream",
     "text": [
      "\n",
      " == cosmetics_10_8.pkl ==\n",
      "115256 data points among 116 batches\n",
      "\n",
      "Evaluating LogReg with neural embeddings\n",
      "Test before learning: {'f1': 0.5768511891365051, 'roc-auc': 0.499575674533844, 'accuracy': 0.511569082736969}\n"
     ]
    },
    {
     "name": "stderr",
     "output_type": "stream",
     "text": [
      "train... loss:80.43690919876099:   0%|                                                                                              | 1/5000 [23:46<1980:23:18, 1426.17s/it]"
     ]
    },
    {
     "name": "stdout",
     "output_type": "stream",
     "text": [
      "Val update: epoch: 0 |accuracy: 0.5287438631057739 | f1: 0.6917363405227661 | auc: 0.5483413934707642 | treshold: 0.16\n",
      "Test: accuracy: 0.5379822254180908 | f1: 0.6995948553085327 | auc: 0.545648455619812 | \n"
     ]
    },
    {
     "name": "stderr",
     "output_type": "stream",
     "text": [
      "train... loss:77.57217019796371:   0%|                                                                                                | 2/5000 [24:01<827:54:45, 596.34s/it]"
     ]
    },
    {
     "name": "stdout",
     "output_type": "stream",
     "text": [
      "Val update: epoch: 1 |accuracy: 0.5628219842910767 | f1: 0.6952658295631409 | auc: 0.6105378866195679 | treshold: 0.38\n",
      "Test: accuracy: 0.5707023739814758 | f1: 0.7025179862976074 | auc: 0.6083998680114746 | \n"
     ]
    },
    {
     "name": "stderr",
     "output_type": "stream",
     "text": [
      "train... loss:73.71864783763885:   0%|                                                                                                | 3/5000 [24:17<459:35:02, 331.10s/it]"
     ]
    },
    {
     "name": "stdout",
     "output_type": "stream",
     "text": [
      "Val update: epoch: 2 |accuracy: 0.5860899090766907 | f1: 0.7001258730888367 | auc: 0.6410965919494629 | treshold: 0.36000000000000004\n",
      "Test: accuracy: 0.591097354888916 | f1: 0.7069956660270691 | auc: 0.638312816619873 | \n"
     ]
    },
    {
     "name": "stderr",
     "output_type": "stream",
     "text": [
      "train... loss:70.67615151405334:   0%|                                                                                                | 4/5000 [24:32<286:33:05, 206.48s/it]"
     ]
    },
    {
     "name": "stdout",
     "output_type": "stream",
     "text": [
      "Val update: epoch: 3 |accuracy: 0.6025512218475342 | f1: 0.6992751359939575 | auc: 0.6524471044540405 | treshold: 0.39\n",
      "Test: accuracy: 0.6074345707893372 | f1: 0.7066959142684937 | auc: 0.6521369814872742 | \n"
     ]
    },
    {
     "name": "stderr",
     "output_type": "stream",
     "text": [
      "train... loss:65.30854642391205:   1%|▋                                                                                                | 36/5000 [32:34<74:51:56, 54.29s/it]\n"
     ]
    },
    {
     "name": "stdout",
     "output_type": "stream",
     "text": [
      "{'f1': 0.7066959142684937, 'roc-auc': 0.6521369814872742, 'accuracy': 0.6074345707893372}\n",
      "\n",
      "Evaluating LogReg with svd embeddings\n",
      "Test before learning: {'f1': 0.6990436315536499, 'roc-auc': 0.5290793180465698, 'accuracy': 0.5380126237869263}\n"
     ]
    },
    {
     "name": "stderr",
     "output_type": "stream",
     "text": [
      "train... loss:79.99026542901993:   0%|                                                                                                  | 1/5000 [00:13<19:05:47, 13.75s/it]"
     ]
    },
    {
     "name": "stdout",
     "output_type": "stream",
     "text": [
      "Val update: epoch: 0 |accuracy: 0.5287811160087585 | f1: 0.6917442083358765 | auc: 0.5511887073516846 | treshold: 0.48000000000000004\n",
      "Test: accuracy: 0.5379822254180908 | f1: 0.6995889544487 | auc: 0.5534696578979492 | \n"
     ]
    },
    {
     "name": "stderr",
     "output_type": "stream",
     "text": [
      "train... loss:79.7643774151802:   0%|                                                                                                   | 4/5000 [00:53<18:43:41, 13.50s/it]"
     ]
    },
    {
     "name": "stdout",
     "output_type": "stream",
     "text": [
      "Val update: epoch: 3 |accuracy: 0.5289302468299866 | f1: 0.6917425394058228 | auc: 0.5517581105232239 | treshold: 0.39\n",
      "Test: accuracy: 0.5381646156311035 | f1: 0.6995887756347656 | auc: 0.5563812255859375 | \n"
     ]
    },
    {
     "name": "stderr",
     "output_type": "stream",
     "text": [
      "train... loss:79.71544045209885:   0%|                                                                                                  | 5/5000 [01:07<19:03:46, 13.74s/it]"
     ]
    },
    {
     "name": "stdout",
     "output_type": "stream",
     "text": [
      "Val update: epoch: 4 |accuracy: 0.5290346145629883 | f1: 0.69173264503479 | auc: 0.553473949432373 | treshold: 0.36000000000000004\n",
      "Test: accuracy: 0.5383697748184204 | f1: 0.6996227502822876 | auc: 0.5576518774032593 | \n"
     ]
    },
    {
     "name": "stderr",
     "output_type": "stream",
     "text": [
      "train... loss:79.69836896657944:   0%|                                                                                                  | 6/5000 [01:22<19:18:28, 13.92s/it]"
     ]
    },
    {
     "name": "stdout",
     "output_type": "stream",
     "text": [
      "Val update: epoch: 5 |accuracy: 0.5289153456687927 | f1: 0.6917538046836853 | auc: 0.5555638074874878 | treshold: 0.35000000000000003\n",
      "Test: accuracy: 0.5381417870521545 | f1: 0.699590265750885 | auc: 0.5583549737930298 | \n"
     ]
    },
    {
     "name": "stderr",
     "output_type": "stream",
     "text": [
      "train... loss:79.65953987836838:   0%|▏                                                                                                 | 7/5000 [01:36<19:28:45, 14.04s/it]"
     ]
    },
    {
     "name": "stdout",
     "output_type": "stream",
     "text": [
      "Val update: epoch: 6 |accuracy: 0.5289153456687927 | f1: 0.6917538046836853 | auc: 0.5566763877868652 | treshold: 0.37\n",
      "Test: accuracy: 0.5382785797119141 | f1: 0.6996495127677917 | auc: 0.5587853789329529 | \n"
     ]
    },
    {
     "name": "stderr",
     "output_type": "stream",
     "text": [
      "train... loss:79.58056056499481:   0%|▏                                                                                                 | 8/5000 [01:50<19:30:53, 14.07s/it]"
     ]
    },
    {
     "name": "stdout",
     "output_type": "stream",
     "text": [
      "Val update: epoch: 7 |accuracy: 0.5289600491523743 | f1: 0.6917439699172974 | auc: 0.5572594404220581 | treshold: 0.34\n",
      "Test: accuracy: 0.5384001731872559 | f1: 0.699690043926239 | auc: 0.5596417188644409 | \n"
     ]
    },
    {
     "name": "stderr",
     "output_type": "stream",
     "text": [
      "train... loss:79.59083884954453:   0%|▏                                                                                                 | 9/5000 [02:04<19:39:04, 14.17s/it]"
     ]
    },
    {
     "name": "stdout",
     "output_type": "stream",
     "text": [
      "Val update: epoch: 8 |accuracy: 0.5288780331611633 | f1: 0.6917399764060974 | auc: 0.5576010942459106 | treshold: 0.35000000000000003\n",
      "Test: accuracy: 0.5382937788963318 | f1: 0.6996623873710632 | auc: 0.5600900650024414 | \n"
     ]
    },
    {
     "name": "stderr",
     "output_type": "stream",
     "text": [
      "train... loss:79.55825835466385:   0%|▏                                                                                                | 10/5000 [02:18<19:34:26, 14.12s/it]"
     ]
    },
    {
     "name": "stdout",
     "output_type": "stream",
     "text": [
      "Val update: epoch: 9 |accuracy: 0.528892993927002 | f1: 0.6917346715927124 | auc: 0.557897686958313 | treshold: 0.37\n",
      "Test: accuracy: 0.5382329821586609 | f1: 0.6996347308158875 | auc: 0.5603097677230835 | \n"
     ]
    },
    {
     "name": "stderr",
     "output_type": "stream",
     "text": [
      "train... loss:79.51033866405487:   0%|▏                                                                                                | 11/5000 [02:33<19:36:53, 14.15s/it]"
     ]
    },
    {
     "name": "stdout",
     "output_type": "stream",
     "text": [
      "Val update: epoch: 10 |accuracy: 0.529064416885376 | f1: 0.6916799545288086 | auc: 0.5584526062011719 | treshold: 0.36000000000000004\n",
      "Test: accuracy: 0.5385141372680664 | f1: 0.6995904445648193 | auc: 0.5608477592468262 | \n"
     ]
    },
    {
     "name": "stderr",
     "output_type": "stream",
     "text": [
      "train... loss:79.50012582540512:   0%|▏                                                                                                | 12/5000 [02:47<19:31:25, 14.09s/it]"
     ]
    },
    {
     "name": "stdout",
     "output_type": "stream",
     "text": [
      "Val update: epoch: 11 |accuracy: 0.5288184285163879 | f1: 0.6917520761489868 | auc: 0.5588715076446533 | treshold: 0.34\n",
      "Test: accuracy: 0.5381569862365723 | f1: 0.6996387243270874 | auc: 0.5609390139579773 | \n"
     ]
    },
    {
     "name": "stderr",
     "output_type": "stream",
     "text": [
      "train... loss:79.48940443992615:   0%|▎                                                                                                | 13/5000 [03:01<19:30:18, 14.08s/it]"
     ]
    },
    {
     "name": "stdout",
     "output_type": "stream",
     "text": [
      "Val update: epoch: 12 |accuracy: 0.5288705825805664 | f1: 0.6917034983634949 | auc: 0.5592314004898071 | treshold: 0.37\n",
      "Test: accuracy: 0.5383697748184204 | f1: 0.6997029185295105 | auc: 0.5611544847488403 | \n"
     ]
    },
    {
     "name": "stderr",
     "output_type": "stream",
     "text": [
      "train... loss:79.43859535455704:   0%|▎                                                                                                | 14/5000 [03:15<19:31:53, 14.10s/it]"
     ]
    },
    {
     "name": "stdout",
     "output_type": "stream",
     "text": [
      "Val update: epoch: 13 |accuracy: 0.5289674997329712 | f1: 0.6916781663894653 | auc: 0.559441089630127 | treshold: 0.35000000000000003\n",
      "Test: accuracy: 0.5383469462394714 | f1: 0.6995856165885925 | auc: 0.561816394329071 | \n"
     ]
    },
    {
     "name": "stderr",
     "output_type": "stream",
     "text": [
      "train... loss:79.23508083820343:   1%|▊                                                                                                | 44/5000 [09:47<18:38:54, 13.55s/it]"
     ]
    },
    {
     "name": "stdout",
     "output_type": "stream",
     "text": [
      "Val update: epoch: 43 |accuracy: 0.5295042991638184 | f1: 0.6916985511779785 | auc: 0.5594658255577087 | treshold: 0.35000000000000003\n",
      "Test: accuracy: 0.5389472842216492 | f1: 0.6996093988418579 | auc: 0.5633159875869751 | \n"
     ]
    },
    {
     "name": "stderr",
     "output_type": "stream",
     "text": [
      "train... loss:79.22396570444107:   1%|█                                                                                                | 53/5000 [11:47<18:30:12, 13.47s/it]"
     ]
    },
    {
     "name": "stdout",
     "output_type": "stream",
     "text": [
      "Val update: epoch: 52 |accuracy: 0.529534101486206 | f1: 0.6917722821235657 | auc: 0.5595414638519287 | treshold: 0.35000000000000003\n",
      "Test: accuracy: 0.5388864874839783 | f1: 0.6996381878852844 | auc: 0.5637372732162476 | \n"
     ]
    },
    {
     "name": "stderr",
     "output_type": "stream",
     "text": [
      "train... loss:79.22041267156601:   1%|█                                                                                                | 56/5000 [12:27<18:44:28, 13.65s/it]"
     ]
    },
    {
     "name": "stdout",
     "output_type": "stream",
     "text": [
      "Val update: epoch: 55 |accuracy: 0.5295639634132385 | f1: 0.691722571849823 | auc: 0.5597460269927979 | treshold: 0.36000000000000004\n",
      "Test: accuracy: 0.5390612483024597 | f1: 0.6996315717697144 | auc: 0.5637086629867554 | \n"
     ]
    },
    {
     "name": "stderr",
     "output_type": "stream",
     "text": [
      "train... loss:79.23132139444351:   1%|█                                                                                                | 56/5000 [12:40<18:39:38, 13.59s/it]\n"
     ]
    },
    {
     "name": "stdout",
     "output_type": "stream",
     "text": [
      "{'f1': 0.6996315717697144, 'roc-auc': 0.5637086629867554, 'accuracy': 0.5390612483024597}\n",
      "\n",
      " == cosmetics_10_24.pkl ==\n",
      "115190 data points among 116 batches\n",
      "\n",
      "Evaluating LogReg with neural embeddings\n",
      "Test before learning: {'f1': 0.5422492027282715, 'roc-auc': 0.5057065486907959, 'accuracy': 0.5045228004455566}\n"
     ]
    },
    {
     "name": "stderr",
     "output_type": "stream",
     "text": [
      "train... loss:80.25107502937317:   0%|                                                                                              | 1/5000 [31:40<2638:26:21, 1900.06s/it]"
     ]
    },
    {
     "name": "stdout",
     "output_type": "stream",
     "text": [
      "Val update: epoch: 0 |accuracy: 0.5245351791381836 | f1: 0.6881247758865356 | auc: 0.5500199794769287 | treshold: 0.19\n",
      "Test: accuracy: 0.5101144313812256 | f1: 0.675597071647644 | auc: 0.5563748478889465 | \n"
     ]
    },
    {
     "name": "stderr",
     "output_type": "stream",
     "text": [
      "train... loss:77.42258220911026:   0%|                                                                                               | 2/5000 [31:55<1098:28:33, 791.22s/it]"
     ]
    },
    {
     "name": "stdout",
     "output_type": "stream",
     "text": [
      "Val update: epoch: 1 |accuracy: 0.5599507093429565 | f1: 0.6906870603561401 | auc: 0.6138576865196228 | treshold: 0.38\n",
      "Test: accuracy: 0.553789496421814 | f1: 0.6822933554649353 | auc: 0.6221842765808105 | \n"
     ]
    },
    {
     "name": "stderr",
     "output_type": "stream",
     "text": [
      "train... loss:73.52461975812912:   0%|                                                                                                | 3/5000 [32:09<606:12:43, 436.73s/it]"
     ]
    },
    {
     "name": "stdout",
     "output_type": "stream",
     "text": [
      "Val update: epoch: 2 |accuracy: 0.5770882368087769 | f1: 0.6954398155212402 | auc: 0.639052152633667 | treshold: 0.35000000000000003\n",
      "Test: accuracy: 0.57780522108078 | f1: 0.6911080479621887 | auc: 0.6488709449768066 | \n"
     ]
    },
    {
     "name": "stderr",
     "output_type": "stream",
     "text": [
      "train... loss:70.11838048696518:   0%|                                                                                                | 4/5000 [32:24<374:57:17, 270.18s/it]"
     ]
    },
    {
     "name": "stdout",
     "output_type": "stream",
     "text": [
      "Val update: epoch: 3 |accuracy: 0.5989559888839722 | f1: 0.6952374577522278 | auc: 0.6528798937797546 | treshold: 0.38\n",
      "Test: accuracy: 0.6003342866897583 | f1: 0.6909084916114807 | auc: 0.6622194051742554 | \n"
     ]
    },
    {
     "name": "stderr",
     "output_type": "stream",
     "text": [
      "train... loss:64.94064658880234:   1%|█▎                                                                                               | 69/5000 [47:39<56:45:34, 41.44s/it]\n"
     ]
    },
    {
     "name": "stdout",
     "output_type": "stream",
     "text": [
      "{'f1': 0.6909084916114807, 'roc-auc': 0.6622194051742554, 'accuracy': 0.6003342866897583}\n",
      "\n",
      "Evaluating LogReg with svd embeddings\n",
      "Test before learning: {'f1': 0.675038754940033, 'roc-auc': 0.5386760234832764, 'accuracy': 0.5098481774330139}\n"
     ]
    },
    {
     "name": "stderr",
     "output_type": "stream",
     "text": [
      "train... loss:79.88110154867172:   0%|                                                                                                  | 1/5000 [00:13<18:25:32, 13.27s/it]"
     ]
    },
    {
     "name": "stdout",
     "output_type": "stream",
     "text": [
      "Val update: epoch: 0 |accuracy: 0.5245428681373596 | f1: 0.6881219148635864 | auc: 0.5489701628684998 | treshold: 0.49\n",
      "Test: accuracy: 0.5101736187934875 | f1: 0.6756171584129333 | auc: 0.5586011409759521 | \n"
     ]
    },
    {
     "name": "stderr",
     "output_type": "stream",
     "text": [
      "train... loss:79.76165652275085:   0%|                                                                                                  | 3/5000 [00:38<17:56:19, 12.92s/it]"
     ]
    },
    {
     "name": "stdout",
     "output_type": "stream",
     "text": [
      "Val update: epoch: 2 |accuracy: 0.5247341990470886 | f1: 0.6881394386291504 | auc: 0.5494394898414612 | treshold: 0.37\n",
      "Test: accuracy: 0.5105138421058655 | f1: 0.6756963133811951 | auc: 0.5607247948646545 | \n"
     ]
    },
    {
     "name": "stderr",
     "output_type": "stream",
     "text": [
      "train... loss:79.72104233503342:   0%|                                                                                                  | 4/5000 [00:52<18:22:29, 13.24s/it]"
     ]
    },
    {
     "name": "stdout",
     "output_type": "stream",
     "text": [
      "Val update: epoch: 3 |accuracy: 0.5247112512588501 | f1: 0.6881603598594666 | auc: 0.5518161058425903 | treshold: 0.38\n",
      "Test: accuracy: 0.510365903377533 | f1: 0.6756428480148315 | auc: 0.5632596015930176 | \n"
     ]
    },
    {
     "name": "stderr",
     "output_type": "stream",
     "text": [
      "train... loss:79.6387168765068:   0%|                                                                                                   | 5/5000 [01:06<18:33:54, 13.38s/it]"
     ]
    },
    {
     "name": "stdout",
     "output_type": "stream",
     "text": [
      "Val update: epoch: 4 |accuracy: 0.5247418880462646 | f1: 0.6876408457756042 | auc: 0.5533192157745361 | treshold: 0.37\n",
      "Test: accuracy: 0.5109206438064575 | f1: 0.6754394173622131 | auc: 0.5644795894622803 | \n"
     ]
    },
    {
     "name": "stderr",
     "output_type": "stream",
     "text": [
      "train... loss:79.57264238595963:   0%|                                                                                                  | 6/5000 [01:19<18:41:38, 13.48s/it]"
     ]
    },
    {
     "name": "stdout",
     "output_type": "stream",
     "text": [
      "Val update: epoch: 5 |accuracy: 0.525002121925354 | f1: 0.6881601810455322 | auc: 0.5553885698318481 | treshold: 0.35000000000000003\n",
      "Test: accuracy: 0.5106913447380066 | f1: 0.6756613850593567 | auc: 0.5667681694030762 | \n"
     ]
    },
    {
     "name": "stderr",
     "output_type": "stream",
     "text": [
      "train... loss:79.53266257047653:   0%|▏                                                                                                 | 7/5000 [01:33<18:43:41, 13.50s/it]"
     ]
    },
    {
     "name": "stdout",
     "output_type": "stream",
     "text": [
      "Val update: epoch: 6 |accuracy: 0.5247265696525574 | f1: 0.6881797909736633 | auc: 0.556483268737793 | treshold: 0.35000000000000003\n",
      "Test: accuracy: 0.5103437304496765 | f1: 0.6756201982498169 | auc: 0.5685970783233643 | \n"
     ]
    },
    {
     "name": "stderr",
     "output_type": "stream",
     "text": [
      "train... loss:79.5509701371193:   0%|▏                                                                                                  | 8/5000 [01:46<18:46:31, 13.54s/it]"
     ]
    },
    {
     "name": "stdout",
     "output_type": "stream",
     "text": [
      "Val update: epoch: 7 |accuracy: 0.5247954726219177 | f1: 0.6881200671195984 | auc: 0.5566767454147339 | treshold: 0.34\n",
      "Test: accuracy: 0.5104472637176514 | f1: 0.6756125092506409 | auc: 0.5685423612594604 | \n"
     ]
    },
    {
     "name": "stderr",
     "output_type": "stream",
     "text": [
      "train... loss:79.41411650180817:   0%|▏                                                                                                | 11/5000 [02:24<17:59:54, 12.99s/it]"
     ]
    },
    {
     "name": "stdout",
     "output_type": "stream",
     "text": [
      "Val update: epoch: 10 |accuracy: 0.5248643159866333 | f1: 0.6881198287010193 | auc: 0.5569382309913635 | treshold: 0.35000000000000003\n",
      "Test: accuracy: 0.5104990005493164 | f1: 0.6755847930908203 | auc: 0.5692428350448608 | \n"
     ]
    },
    {
     "name": "stderr",
     "output_type": "stream",
     "text": [
      "train... loss:79.38038784265518:   0%|▏                                                                                                | 12/5000 [02:38<18:14:12, 13.16s/it]"
     ]
    },
    {
     "name": "stdout",
     "output_type": "stream",
     "text": [
      "Val update: epoch: 11 |accuracy: 0.5248872637748718 | f1: 0.6881929039955139 | auc: 0.557354211807251 | treshold: 0.34\n",
      "Test: accuracy: 0.51047682762146 | f1: 0.6756289005279541 | auc: 0.5694754719734192 | \n"
     ]
    },
    {
     "name": "stderr",
     "output_type": "stream",
     "text": [
      "train... loss:79.41771483421326:   0%|▎                                                                                                | 13/5000 [02:51<18:25:00, 13.29s/it]"
     ]
    },
    {
     "name": "stdout",
     "output_type": "stream",
     "text": [
      "Val update: epoch: 12 |accuracy: 0.5247495174407959 | f1: 0.6881808042526245 | auc: 0.5574512481689453 | treshold: 0.35000000000000003\n",
      "Test: accuracy: 0.5103732943534851 | f1: 0.6756365895271301 | auc: 0.5697721242904663 | \n"
     ]
    },
    {
     "name": "stderr",
     "output_type": "stream",
     "text": [
      "train... loss:79.31644779443741:   0%|▎                                                                                                | 14/5000 [03:05<18:38:55, 13.46s/it]"
     ]
    },
    {
     "name": "stdout",
     "output_type": "stream",
     "text": [
      "Val update: epoch: 13 |accuracy: 0.5250326991081238 | f1: 0.688189685344696 | auc: 0.5576920509338379 | treshold: 0.35000000000000003\n",
      "Test: accuracy: 0.510417640209198 | f1: 0.6755133867263794 | auc: 0.5699114203453064 | \n"
     ]
    },
    {
     "name": "stderr",
     "output_type": "stream",
     "text": [
      "train... loss:79.35555291175842:   0%|▎                                                                                                | 16/5000 [03:31<18:21:05, 13.26s/it]"
     ]
    },
    {
     "name": "stdout",
     "output_type": "stream",
     "text": [
      "Val update: epoch: 15 |accuracy: 0.524803102016449 | f1: 0.6881579756736755 | auc: 0.557716429233551 | treshold: 0.37\n",
      "Test: accuracy: 0.5103585124015808 | f1: 0.6755663752555847 | auc: 0.5704071521759033 | \n"
     ]
    },
    {
     "name": "stderr",
     "output_type": "stream",
     "text": [
      "train... loss:79.28271579742432:   0%|▎                                                                                                | 18/5000 [03:57<18:08:00, 13.10s/it]"
     ]
    },
    {
     "name": "stdout",
     "output_type": "stream",
     "text": [
      "Val update: epoch: 17 |accuracy: 0.5247112512588501 | f1: 0.6881165504455566 | auc: 0.5578501224517822 | treshold: 0.35000000000000003\n",
      "Test: accuracy: 0.5103362798690796 | f1: 0.6755914688110352 | auc: 0.570820152759552 | \n"
     ]
    },
    {
     "name": "stderr",
     "output_type": "stream",
     "text": [
      "train... loss:79.24248158931732:   1%|▋                                                                                                | 33/5000 [07:18<18:18:58, 13.28s/it]\n"
     ]
    },
    {
     "name": "stdout",
     "output_type": "stream",
     "text": [
      "{'f1': 0.6755914688110352, 'roc-auc': 0.570820152759552, 'accuracy': 0.5103362798690796}\n",
      "\n",
      " == cosmetics_5_8.pkl ==\n",
      "121483 data points among 122 batches\n",
      "\n",
      "Evaluating LogReg with neural embeddings\n",
      "Test before learning: {'f1': 0.48644304275512695, 'roc-auc': 0.5023332238197327, 'accuracy': 0.5004333257675171}\n"
     ]
    },
    {
     "name": "stderr",
     "output_type": "stream",
     "text": [
      "train... loss:84.60460084676743:   0%|                                                                                              | 1/5000 [59:29<4956:45:27, 3569.58s/it]"
     ]
    },
    {
     "name": "stdout",
     "output_type": "stream",
     "text": [
      "Val update: epoch: 0 |accuracy: 0.5056868195533752 | f1: 0.6717025637626648 | auc: 0.5822452306747437 | treshold: 0.01\n",
      "Test: accuracy: 0.5108986496925354 | f1: 0.6762844920158386 | auc: 0.5800268650054932 | \n"
     ]
    },
    {
     "name": "stderr",
     "output_type": "stream",
     "text": [
      "train... loss:81.22861105203629:   0%|                                                                                              | 2/5000 [59:44<2052:32:03, 1478.42s/it]"
     ]
    },
    {
     "name": "stdout",
     "output_type": "stream",
     "text": [
      "Val update: epoch: 1 |accuracy: 0.5596789121627808 | f1: 0.6806163787841797 | auc: 0.6400237083435059 | treshold: 0.42000000000000004\n",
      "Test: accuracy: 0.5620572566986084 | f1: 0.6842476725578308 | auc: 0.6359110474586487 | \n"
     ]
    },
    {
     "name": "stderr",
     "output_type": "stream",
     "text": [
      "train... loss:77.19364339113235:   0%|                                                                                               | 3/5000 [59:58<1124:19:02, 809.99s/it]"
     ]
    },
    {
     "name": "stdout",
     "output_type": "stream",
     "text": [
      "Val update: epoch: 2 |accuracy: 0.5988664031028748 | f1: 0.6889917254447937 | auc: 0.6654133796691895 | treshold: 0.41000000000000003\n",
      "Test: accuracy: 0.5962792038917542 | f1: 0.6903497576713562 | auc: 0.6637364625930786 | \n"
     ]
    },
    {
     "name": "stderr",
     "output_type": "stream",
     "text": [
      "train... loss:73.85039335489273:   0%|                                                                                              | 4/5000 [1:00:13<688:22:47, 496.03s/it]"
     ]
    },
    {
     "name": "stdout",
     "output_type": "stream",
     "text": [
      "Val update: epoch: 3 |accuracy: 0.6146485209465027 | f1: 0.6912533044815063 | auc: 0.6795834302902222 | treshold: 0.43\n",
      "Test: accuracy: 0.614035427570343 | f1: 0.6940594911575317 | auc: 0.6769945025444031 | \n"
     ]
    },
    {
     "name": "stderr",
     "output_type": "stream",
     "text": [
      "train... loss:72.33707773685455:   0%|                                                                                              | 5/5000 [1:00:28<447:27:49, 322.50s/it]"
     ]
    },
    {
     "name": "stdout",
     "output_type": "stream",
     "text": [
      "Val update: epoch: 4 |accuracy: 0.6249130368232727 | f1: 0.6869636178016663 | auc: 0.6838973760604858 | treshold: 0.44\n",
      "Test: accuracy: 0.6244536638259888 | f1: 0.690547525882721 | auc: 0.6803183555603027 | \n"
     ]
    },
    {
     "name": "stderr",
     "output_type": "stream",
     "text": [
      "train... loss:69.17016279697418:   1%|▉                                                                                             | 47/5000 [1:10:12<123:18:00, 89.62s/it]\n"
     ]
    },
    {
     "name": "stdout",
     "output_type": "stream",
     "text": [
      "{'f1': 0.690547525882721, 'roc-auc': 0.6803183555603027, 'accuracy': 0.6244536638259888}\n",
      "\n",
      "Evaluating LogReg with svd embeddings\n",
      "Test before learning: {'f1': 0.6288666725158691, 'roc-auc': 0.5249713659286499, 'accuracy': 0.5215994715690613}\n"
     ]
    },
    {
     "name": "stderr",
     "output_type": "stream",
     "text": [
      "train... loss:84.25644910335541:   0%|                                                                                                  | 1/5000 [00:13<18:04:02, 13.01s/it]"
     ]
    },
    {
     "name": "stdout",
     "output_type": "stream",
     "text": [
      "Val update: epoch: 0 |accuracy: 0.5056868195533752 | f1: 0.6717025637626648 | auc: 0.5844075679779053 | treshold: 0.47000000000000003\n",
      "Test: accuracy: 0.5108986496925354 | f1: 0.6762844920158386 | auc: 0.5617055892944336 | \n"
     ]
    },
    {
     "name": "stderr",
     "output_type": "stream",
     "text": [
      "train... loss:84.04490923881531:   0%|                                                                                                  | 2/5000 [00:26<18:05:37, 13.03s/it]"
     ]
    },
    {
     "name": "stdout",
     "output_type": "stream",
     "text": [
      "Val update: epoch: 1 |accuracy: 0.5065798163414001 | f1: 0.6716581583023071 | auc: 0.5844610333442688 | treshold: 0.47000000000000003\n",
      "Test: accuracy: 0.5117558240890503 | f1: 0.6763089299201965 | auc: 0.5696715116500854 | \n"
     ]
    },
    {
     "name": "stderr",
     "output_type": "stream",
     "text": [
      "train... loss:83.87940669059753:   0%|                                                                                                  | 4/5000 [00:51<17:40:27, 12.74s/it]"
     ]
    },
    {
     "name": "stdout",
     "output_type": "stream",
     "text": [
      "Val update: epoch: 3 |accuracy: 0.5059782266616821 | f1: 0.6717875003814697 | auc: 0.5852793455123901 | treshold: 0.37\n",
      "Test: accuracy: 0.5112848281860352 | f1: 0.6763927936553955 | auc: 0.5717090964317322 | \n"
     ]
    },
    {
     "name": "stderr",
     "output_type": "stream",
     "text": [
      "train... loss:83.8129768371582:   0%|                                                                                                   | 5/5000 [01:04<17:50:18, 12.86s/it]"
     ]
    },
    {
     "name": "stdout",
     "output_type": "stream",
     "text": [
      "Val update: epoch: 4 |accuracy: 0.5058184266090393 | f1: 0.6717448830604553 | auc: 0.5879782438278198 | treshold: 0.38\n",
      "Test: accuracy: 0.511152982711792 | f1: 0.6763821840286255 | auc: 0.5712563991546631 | \n"
     ]
    },
    {
     "name": "stderr",
     "output_type": "stream",
     "text": [
      "train... loss:83.73720264434814:   0%|                                                                                                  | 6/5000 [01:17<17:56:00, 12.93s/it]"
     ]
    },
    {
     "name": "stdout",
     "output_type": "stream",
     "text": [
      "Val update: epoch: 5 |accuracy: 0.5058466196060181 | f1: 0.6717082262039185 | auc: 0.5889676809310913 | treshold: 0.35000000000000003\n",
      "Test: accuracy: 0.511171817779541 | f1: 0.6763744950294495 | auc: 0.5706049203872681 | \n"
     ]
    },
    {
     "name": "stderr",
     "output_type": "stream",
     "text": [
      "train... loss:83.70342808961868:   0%|▏                                                                                                 | 7/5000 [01:30<17:58:15, 12.96s/it]"
     ]
    },
    {
     "name": "stdout",
     "output_type": "stream",
     "text": [
      "Val update: epoch: 6 |accuracy: 0.5057432651519775 | f1: 0.6716989874839783 | auc: 0.5896514654159546 | treshold: 0.35000000000000003\n",
      "Test: accuracy: 0.5109551548957825 | f1: 0.676297664642334 | auc: 0.5693227648735046 | \n"
     ]
    },
    {
     "name": "stderr",
     "output_type": "stream",
     "text": [
      "train... loss:83.6583314538002:   0%|▏                                                                                                  | 8/5000 [01:43<18:05:50, 13.05s/it]"
     ]
    },
    {
     "name": "stdout",
     "output_type": "stream",
     "text": [
      "Val update: epoch: 7 |accuracy: 0.505733847618103 | f1: 0.6716456413269043 | auc: 0.5899055004119873 | treshold: 0.39\n",
      "Test: accuracy: 0.511115312576294 | f1: 0.6763411164283752 | auc: 0.5685938000679016 | \n"
     ]
    },
    {
     "name": "stderr",
     "output_type": "stream",
     "text": [
      "train... loss:83.58628952503204:   0%|▏                                                                                                 | 9/5000 [01:56<18:04:43, 13.04s/it]"
     ]
    },
    {
     "name": "stdout",
     "output_type": "stream",
     "text": [
      "Val update: epoch: 8 |accuracy: 0.505715012550354 | f1: 0.671583890914917 | auc: 0.5905236005783081 | treshold: 0.37\n",
      "Test: accuracy: 0.5112848281860352 | f1: 0.6763968467712402 | auc: 0.569060206413269 | \n"
     ]
    },
    {
     "name": "stderr",
     "output_type": "stream",
     "text": [
      "train... loss:83.55128186941147:   0%|▏                                                                                                | 10/5000 [02:09<18:05:43, 13.05s/it]"
     ]
    },
    {
     "name": "stdout",
     "output_type": "stream",
     "text": [
      "Val update: epoch: 9 |accuracy: 0.505733847618103 | f1: 0.6716743111610413 | auc: 0.5906260013580322 | treshold: 0.35000000000000003\n",
      "Test: accuracy: 0.5110588073730469 | f1: 0.6763278841972351 | auc: 0.5693028569221497 | \n"
     ]
    },
    {
     "name": "stderr",
     "output_type": "stream",
     "text": [
      "train... loss:83.56670099496841:   0%|▏                                                                                                | 11/5000 [02:22<18:06:55, 13.07s/it]"
     ]
    },
    {
     "name": "stdout",
     "output_type": "stream",
     "text": [
      "Val update: epoch: 10 |accuracy: 0.5057244300842285 | f1: 0.6716906428337097 | auc: 0.5909292697906494 | treshold: 0.3\n",
      "Test: accuracy: 0.5109928250312805 | f1: 0.676306426525116 | auc: 0.5698843002319336 | \n"
     ]
    },
    {
     "name": "stderr",
     "output_type": "stream",
     "text": [
      "train... loss:83.49326241016388:   0%|▏                                                                                                | 12/5000 [02:35<18:06:59, 13.08s/it]"
     ]
    },
    {
     "name": "stdout",
     "output_type": "stream",
     "text": [
      "Val update: epoch: 11 |accuracy: 0.5056774616241455 | f1: 0.6716327667236328 | auc: 0.5914252996444702 | treshold: 0.31\n",
      "Test: accuracy: 0.5110493302345276 | f1: 0.6763237118721008 | auc: 0.5701912641525269 | \n"
     ]
    },
    {
     "name": "stderr",
     "output_type": "stream",
     "text": [
      "train... loss:83.40422713756561:   0%|▎                                                                                                | 17/5000 [03:36<17:14:25, 12.46s/it]"
     ]
    },
    {
     "name": "stdout",
     "output_type": "stream",
     "text": [
      "Val update: epoch: 16 |accuracy: 0.5056398510932922 | f1: 0.6715954542160034 | auc: 0.591611921787262 | treshold: 0.3\n",
      "Test: accuracy: 0.5110493302345276 | f1: 0.6763237118721008 | auc: 0.5700363516807556 | \n"
     ]
    },
    {
     "name": "stderr",
     "output_type": "stream",
     "text": [
      "train... loss:83.39982932806015:   0%|▎                                                                                                | 18/5000 [03:49<17:30:37, 12.65s/it]"
     ]
    },
    {
     "name": "stdout",
     "output_type": "stream",
     "text": [
      "Val update: epoch: 17 |accuracy: 0.5056586265563965 | f1: 0.6716325879096985 | auc: 0.5916925668716431 | treshold: 0.27\n",
      "Test: accuracy: 0.5110493302345276 | f1: 0.6763317584991455 | auc: 0.569976806640625 | \n"
     ]
    },
    {
     "name": "stderr",
     "output_type": "stream",
     "text": [
      "train... loss:83.34668606519699:   0%|▍                                                                                                | 22/5000 [04:38<17:16:32, 12.49s/it]"
     ]
    },
    {
     "name": "stdout",
     "output_type": "stream",
     "text": [
      "Val update: epoch: 21 |accuracy: 0.5056304335594177 | f1: 0.6716076731681824 | auc: 0.5917830467224121 | treshold: 0.3\n",
      "Test: accuracy: 0.5110493302345276 | f1: 0.6763317584991455 | auc: 0.5703281164169312 | \n"
     ]
    },
    {
     "name": "stderr",
     "output_type": "stream",
     "text": [
      "train... loss:83.31449568271637:   0%|▍                                                                                                | 23/5000 [04:51<17:32:40, 12.69s/it]"
     ]
    },
    {
     "name": "stdout",
     "output_type": "stream",
     "text": [
      "Val update: epoch: 22 |accuracy: 0.5056304335594177 | f1: 0.6716158986091614 | auc: 0.5919234752655029 | treshold: 0.23\n",
      "Test: accuracy: 0.510945737361908 | f1: 0.6762974858283997 | auc: 0.5707110166549683 | \n"
     ]
    },
    {
     "name": "stderr",
     "output_type": "stream",
     "text": [
      "train... loss:83.31721192598343:   0%|▍                                                                                                | 24/5000 [05:04<17:45:26, 12.85s/it]"
     ]
    },
    {
     "name": "stdout",
     "output_type": "stream",
     "text": [
      "Val update: epoch: 23 |accuracy: 0.505715012550354 | f1: 0.6715674996376038 | auc: 0.5921019911766052 | treshold: 0.35000000000000003\n",
      "Test: accuracy: 0.5110870599746704 | f1: 0.6763365268707275 | auc: 0.5708218812942505 | \n"
     ]
    },
    {
     "name": "stderr",
     "output_type": "stream",
     "text": [
      "train... loss:83.3308219909668:   0%|▍                                                                                                 | 25/5000 [05:18<17:53:07, 12.94s/it]"
     ]
    },
    {
     "name": "stdout",
     "output_type": "stream",
     "text": [
      "Val update: epoch: 24 |accuracy: 0.5056304335594177 | f1: 0.6716200113296509 | auc: 0.5925303101539612 | treshold: 0.25\n",
      "Test: accuracy: 0.510945737361908 | f1: 0.6762974858283997 | auc: 0.570978045463562 | \n"
     ]
    },
    {
     "name": "stderr",
     "output_type": "stream",
     "text": [
      "train... loss:83.29994463920593:   1%|▌                                                                                                | 26/5000 [05:31<17:56:37, 12.99s/it]"
     ]
    },
    {
     "name": "stdout",
     "output_type": "stream",
     "text": [
      "Val update: epoch: 25 |accuracy: 0.5056304335594177 | f1: 0.6716158986091614 | auc: 0.5925685167312622 | treshold: 0.24000000000000002\n",
      "Test: accuracy: 0.510945737361908 | f1: 0.6762974858283997 | auc: 0.5712248086929321 | \n"
     ]
    },
    {
     "name": "stderr",
     "output_type": "stream",
     "text": [
      "train... loss:83.22648066282272:   1%|█                                                                                                | 54/5000 [11:07<16:47:20, 12.22s/it]"
     ]
    },
    {
     "name": "stdout",
     "output_type": "stream",
     "text": [
      "Val update: epoch: 53 |accuracy: 0.5059406161308289 | f1: 0.6715492010116577 | auc: 0.5925843715667725 | treshold: 0.33\n",
      "Test: accuracy: 0.5113036632537842 | f1: 0.67637699842453 | auc: 0.5756224393844604 | \n"
     ]
    },
    {
     "name": "stderr",
     "output_type": "stream",
     "text": [
      "train... loss:83.23802757263184:   1%|█▎                                                                                               | 69/5000 [14:05<16:41:25, 12.19s/it]"
     ]
    },
    {
     "name": "stdout",
     "output_type": "stream",
     "text": [
      "Val update: epoch: 68 |accuracy: 0.5059406161308289 | f1: 0.6715245246887207 | auc: 0.5928218960762024 | treshold: 0.32\n",
      "Test: accuracy: 0.5113319754600525 | f1: 0.6763614416122437 | auc: 0.5778012871742249 | \n"
     ]
    },
    {
     "name": "stderr",
     "output_type": "stream",
     "text": [
      "train... loss:83.21240776777267:   2%|█▍                                                                                               | 75/5000 [15:18<16:52:13, 12.33s/it]"
     ]
    },
    {
     "name": "stdout",
     "output_type": "stream",
     "text": [
      "Val update: epoch: 74 |accuracy: 0.5057244300842285 | f1: 0.6715183258056641 | auc: 0.5928791165351868 | treshold: 0.31\n",
      "Test: accuracy: 0.5110493302345276 | f1: 0.6763237118721008 | auc: 0.5781160593032837 | \n"
     ]
    },
    {
     "name": "stderr",
     "output_type": "stream",
     "text": [
      "train... loss:83.18949329853058:   2%|█▍                                                                                               | 76/5000 [15:43<16:59:11, 12.42s/it]"
     ]
    },
    {
     "name": "stdout",
     "output_type": "stream",
     "text": [
      "Val update: epoch: 76 |accuracy: 0.5059594511985779 | f1: 0.6714836359024048 | auc: 0.5928820371627808 | treshold: 0.33\n",
      "Test: accuracy: 0.5114355683326721 | f1: 0.6763634085655212 | auc: 0.5787125825881958 | \n",
      "{'f1': 0.6763634085655212, 'roc-auc': 0.5787125825881958, 'accuracy': 0.5114355683326721}\n"
     ]
    },
    {
     "name": "stderr",
     "output_type": "stream",
     "text": [
      "\n"
     ]
    },
    {
     "name": "stdout",
     "output_type": "stream",
     "text": [
      "\n",
      " == cosmetics_20_8.pkl ==\n",
      "89073 data points among 90 batches\n",
      "\n",
      "Evaluating LogReg with neural embeddings\n",
      "Test before learning: {'f1': 0.4613058567047119, 'roc-auc': 0.4984856843948364, 'accuracy': 0.49396535754203796}\n"
     ]
    },
    {
     "name": "stderr",
     "output_type": "stream",
     "text": [
      "train... loss:62.65571618080139:   0%|                                                                                               | 1/5000 [13:10<1097:22:54, 790.27s/it]"
     ]
    },
    {
     "name": "stdout",
     "output_type": "stream",
     "text": [
      "Val update: epoch: 0 |accuracy: 0.5271862149238586 | f1: 0.6904020309448242 | auc: 0.5362915992736816 | treshold: 0.22\n",
      "Test: accuracy: 0.5234313011169434 | f1: 0.6871718168258667 | auc: 0.5433180332183838 | \n"
     ]
    },
    {
     "name": "stderr",
     "output_type": "stream",
     "text": [
      "train... loss:61.0502764582634:   0%|                                                                                                 | 2/5000 [13:24<463:08:30, 333.60s/it]"
     ]
    },
    {
     "name": "stdout",
     "output_type": "stream",
     "text": [
      "Val update: epoch: 1 |accuracy: 0.5523212552070618 | f1: 0.6914799809455872 | auc: 0.59117192029953 | treshold: 0.39\n",
      "Test: accuracy: 0.5505899786949158 | f1: 0.6892788410186768 | auc: 0.6004019379615784 | \n"
     ]
    },
    {
     "name": "stderr",
     "output_type": "stream",
     "text": [
      "train... loss:58.04167091846466:   0%|                                                                                                | 3/5000 [13:38<260:23:41, 187.60s/it]"
     ]
    },
    {
     "name": "stdout",
     "output_type": "stream",
     "text": [
      "Val update: epoch: 2 |accuracy: 0.579613983631134 | f1: 0.6943923830986023 | auc: 0.6284079551696777 | treshold: 0.36000000000000004\n",
      "Test: accuracy: 0.5811561942100525 | f1: 0.6941103339195251 | auc: 0.6382659673690796 | \n"
     ]
    },
    {
     "name": "stderr",
     "output_type": "stream",
     "text": [
      "train... loss:55.46076375246048:   0%|                                                                                                | 4/5000 [13:51<165:11:49, 119.04s/it]"
     ]
    },
    {
     "name": "stdout",
     "output_type": "stream",
     "text": [
      "Val update: epoch: 3 |accuracy: 0.5839516520500183 | f1: 0.6995872259140015 | auc: 0.6400094628334045 | treshold: 0.36000000000000004\n",
      "Test: accuracy: 0.5869157910346985 | f1: 0.7001678943634033 | auc: 0.6500024795532227 | \n"
     ]
    },
    {
     "name": "stderr",
     "output_type": "stream",
     "text": [
      "train... loss:53.87526434659958:   0%|                                                                                                 | 5/5000 [14:06<112:39:29, 81.20s/it]"
     ]
    },
    {
     "name": "stdout",
     "output_type": "stream",
     "text": [
      "Val update: epoch: 4 |accuracy: 0.5935125350952148 | f1: 0.6975337862968445 | auc: 0.6453934907913208 | treshold: 0.36000000000000004\n",
      "Test: accuracy: 0.5983282327651978 | f1: 0.6994670033454895 | auc: 0.652976930141449 | \n"
     ]
    },
    {
     "name": "stderr",
     "output_type": "stream",
     "text": [
      "train... loss:52.032687306404114:   0%|▏                                                                                                | 7/5000 [14:33<60:31:27, 43.64s/it]"
     ]
    },
    {
     "name": "stdout",
     "output_type": "stream",
     "text": [
      "Val update: epoch: 6 |accuracy: 0.5943251252174377 | f1: 0.7000932097434998 | auc: 0.6472541093826294 | treshold: 0.36000000000000004\n",
      "Test: accuracy: 0.5980700254440308 | f1: 0.7014556527137756 | auc: 0.656594455242157 | \n"
     ]
    },
    {
     "name": "stderr",
     "output_type": "stream",
     "text": [
      "train... loss:49.63895535469055:   1%|█                                                                                                | 55/5000 [25:11<37:44:56, 27.48s/it]\n"
     ]
    },
    {
     "name": "stdout",
     "output_type": "stream",
     "text": [
      "{'f1': 0.7014556527137756, 'roc-auc': 0.656594455242157, 'accuracy': 0.5980700254440308}\n",
      "\n",
      "Evaluating LogReg with svd embeddings\n",
      "Test before learning: {'f1': 0.03296327218413353, 'roc-auc': 0.4957733154296875, 'accuracy': 0.4762992858886719}\n"
     ]
    },
    {
     "name": "stderr",
     "output_type": "stream",
     "text": [
      "train... loss:62.28255009651184:   0%|                                                                                                  | 1/5000 [00:11<16:33:48, 11.93s/it]"
     ]
    },
    {
     "name": "stdout",
     "output_type": "stream",
     "text": [
      "Val update: epoch: 0 |accuracy: 0.5271862149238586 | f1: 0.6904020309448242 | auc: 0.5488195419311523 | treshold: 0.47000000000000003\n",
      "Test: accuracy: 0.5234256386756897 | f1: 0.6871692538261414 | auc: 0.5605835318565369 | \n"
     ]
    },
    {
     "name": "stderr",
     "output_type": "stream",
     "text": [
      "train... loss:62.09319621324539:   0%|                                                                                                  | 2/5000 [00:24<16:50:29, 12.13s/it]"
     ]
    },
    {
     "name": "stdout",
     "output_type": "stream",
     "text": [
      "Val update: epoch: 1 |accuracy: 0.5272422432899475 | f1: 0.690422773361206 | auc: 0.5582414865493774 | treshold: 0.47000000000000003\n",
      "Test: accuracy: 0.5234537124633789 | f1: 0.6871727108955383 | auc: 0.56876140832901 | \n"
     ]
    },
    {
     "name": "stderr",
     "output_type": "stream",
     "text": [
      "train... loss:62.057191610336304:   0%|                                                                                                 | 3/5000 [00:36<16:54:46, 12.18s/it]"
     ]
    },
    {
     "name": "stdout",
     "output_type": "stream",
     "text": [
      "Val update: epoch: 2 |accuracy: 0.5272086262702942 | f1: 0.6904098987579346 | auc: 0.5602902173995972 | treshold: 0.41000000000000003\n",
      "Test: accuracy: 0.5234425067901611 | f1: 0.6871745586395264 | auc: 0.5678310990333557 | \n"
     ]
    },
    {
     "name": "stderr",
     "output_type": "stream",
     "text": [
      "train... loss:61.98293834924698:   0%|                                                                                                  | 4/5000 [00:48<17:06:26, 12.33s/it]"
     ]
    },
    {
     "name": "stdout",
     "output_type": "stream",
     "text": [
      "Val update: epoch: 3 |accuracy: 0.5272254347801208 | f1: 0.6903743147850037 | auc: 0.5617695450782776 | treshold: 0.36000000000000004\n",
      "Test: accuracy: 0.523487389087677 | f1: 0.6871764063835144 | auc: 0.5668741464614868 | \n"
     ]
    },
    {
     "name": "stderr",
     "output_type": "stream",
     "text": [
      "train... loss:61.98208087682724:   0%|                                                                                                  | 5/5000 [01:01<17:05:18, 12.32s/it]"
     ]
    },
    {
     "name": "stdout",
     "output_type": "stream",
     "text": [
      "Val update: epoch: 4 |accuracy: 0.5275561213493347 | f1: 0.69047611951828 | auc: 0.5634416341781616 | treshold: 0.38\n",
      "Test: accuracy: 0.523706316947937 | f1: 0.687235951423645 | auc: 0.5680314302444458 | \n"
     ]
    },
    {
     "name": "stderr",
     "output_type": "stream",
     "text": [
      "train... loss:61.89048480987549:   0%|                                                                                                  | 6/5000 [01:13<17:13:07, 12.41s/it]"
     ]
    },
    {
     "name": "stdout",
     "output_type": "stream",
     "text": [
      "Val update: epoch: 5 |accuracy: 0.5275112390518188 | f1: 0.6904694437980652 | auc: 0.5641648173332214 | treshold: 0.39\n",
      "Test: accuracy: 0.5235660076141357 | f1: 0.6871634125709534 | auc: 0.5691453218460083 | \n"
     ]
    },
    {
     "name": "stderr",
     "output_type": "stream",
     "text": [
      "train... loss:61.8804731965065:   0%|▏                                                                                                  | 7/5000 [01:26<17:18:29, 12.48s/it]"
     ]
    },
    {
     "name": "stdout",
     "output_type": "stream",
     "text": [
      "Val update: epoch: 6 |accuracy: 0.5281053185462952 | f1: 0.6905905604362488 | auc: 0.564185380935669 | treshold: 0.43\n",
      "Test: accuracy: 0.5240824818611145 | f1: 0.6872881650924683 | auc: 0.5695198774337769 | \n"
     ]
    },
    {
     "name": "stderr",
     "output_type": "stream",
     "text": [
      "train... loss:61.824470579624176:   0%|▏                                                                                                | 8/5000 [01:39<17:19:58, 12.50s/it]"
     ]
    },
    {
     "name": "stdout",
     "output_type": "stream",
     "text": [
      "Val update: epoch: 7 |accuracy: 0.5282902717590332 | f1: 0.6903306245803833 | auc: 0.5642837285995483 | treshold: 0.4\n",
      "Test: accuracy: 0.5242396593093872 | f1: 0.6870219707489014 | auc: 0.5700563192367554 | \n"
     ]
    },
    {
     "name": "stderr",
     "output_type": "stream",
     "text": [
      "train... loss:61.83715933561325:   0%|▏                                                                                                 | 9/5000 [01:51<17:16:07, 12.46s/it]"
     ]
    },
    {
     "name": "stdout",
     "output_type": "stream",
     "text": [
      "Val update: epoch: 8 |accuracy: 0.5279819965362549 | f1: 0.6905483603477478 | auc: 0.5651264786720276 | treshold: 0.38\n",
      "Test: accuracy: 0.523925244808197 | f1: 0.6872355937957764 | auc: 0.5714059472084045 | \n"
     ]
    },
    {
     "name": "stderr",
     "output_type": "stream",
     "text": [
      "train... loss:61.785857141017914:   0%|▏                                                                                               | 10/5000 [02:03<17:16:55, 12.47s/it]"
     ]
    },
    {
     "name": "stdout",
     "output_type": "stream",
     "text": [
      "Val update: epoch: 9 |accuracy: 0.5277298092842102 | f1: 0.690481960773468 | auc: 0.5659014582633972 | treshold: 0.38\n",
      "Test: accuracy: 0.5236895084381104 | f1: 0.687193751335144 | auc: 0.5728050470352173 | \n"
     ]
    },
    {
     "name": "stderr",
     "output_type": "stream",
     "text": [
      "train... loss:61.81847071647644:   0%|▏                                                                                                | 11/5000 [02:16<17:17:21, 12.48s/it]"
     ]
    },
    {
     "name": "stdout",
     "output_type": "stream",
     "text": [
      "Val update: epoch: 10 |accuracy: 0.5279651880264282 | f1: 0.6905339360237122 | auc: 0.5664621591567993 | treshold: 0.4\n",
      "Test: accuracy: 0.5238522887229919 | f1: 0.6872372627258301 | auc: 0.5738309621810913 | \n"
     ]
    },
    {
     "name": "stderr",
     "output_type": "stream",
     "text": [
      "train... loss:61.73759716749191:   0%|▏                                                                                                | 12/5000 [02:29<17:20:53, 12.52s/it]"
     ]
    },
    {
     "name": "stdout",
     "output_type": "stream",
     "text": [
      "Val update: epoch: 11 |accuracy: 0.5281949639320374 | f1: 0.6906152367591858 | auc: 0.5666640996932983 | treshold: 0.38\n",
      "Test: accuracy: 0.5239701867103577 | f1: 0.6872374415397644 | auc: 0.5743978023529053 | \n"
     ]
    },
    {
     "name": "stderr",
     "output_type": "stream",
     "text": [
      "train... loss:61.77261108160019:   0%|▎                                                                                                | 13/5000 [02:41<17:21:50, 12.53s/it]"
     ]
    },
    {
     "name": "stdout",
     "output_type": "stream",
     "text": [
      "Val update: epoch: 12 |accuracy: 0.528110921382904 | f1: 0.6905885338783264 | auc: 0.5669315457344055 | treshold: 0.37\n",
      "Test: accuracy: 0.5238972306251526 | f1: 0.6872437000274658 | auc: 0.5751481056213379 | \n"
     ]
    },
    {
     "name": "stderr",
     "output_type": "stream",
     "text": [
      "train... loss:61.72444450855255:   0%|▎                                                                                                | 14/5000 [02:54<17:22:48, 12.55s/it]"
     ]
    },
    {
     "name": "stdout",
     "output_type": "stream",
     "text": [
      "Val update: epoch: 13 |accuracy: 0.527640163898468 | f1: 0.6904277205467224 | auc: 0.567267894744873 | treshold: 0.38\n",
      "Test: accuracy: 0.523706316947937 | f1: 0.6871921420097351 | auc: 0.575953483581543 | \n"
     ]
    },
    {
     "name": "stderr",
     "output_type": "stream",
     "text": [
      "train... loss:61.72884839773178:   0%|▎                                                                                                | 15/5000 [03:06<17:23:38, 12.56s/it]"
     ]
    },
    {
     "name": "stdout",
     "output_type": "stream",
     "text": [
      "Val update: epoch: 14 |accuracy: 0.5282398462295532 | f1: 0.690633237361908 | auc: 0.5674581527709961 | treshold: 0.41000000000000003\n",
      "Test: accuracy: 0.5239589810371399 | f1: 0.6872300505638123 | auc: 0.5766088962554932 | \n"
     ]
    },
    {
     "name": "stderr",
     "output_type": "stream",
     "text": [
      "train... loss:61.68366712331772:   0%|▎                                                                                                | 16/5000 [03:19<17:23:23, 12.56s/it]"
     ]
    },
    {
     "name": "stdout",
     "output_type": "stream",
     "text": [
      "Val update: epoch: 15 |accuracy: 0.5286208987236023 | f1: 0.6903619766235352 | auc: 0.5675547122955322 | treshold: 0.4\n",
      "Test: accuracy: 0.5242564678192139 | f1: 0.6869232654571533 | auc: 0.5769877433776855 | \n"
     ]
    },
    {
     "name": "stderr",
     "output_type": "stream",
     "text": [
      "train... loss:61.714975476264954:   0%|▎                                                                                               | 17/5000 [03:32<17:26:11, 12.60s/it]"
     ]
    },
    {
     "name": "stdout",
     "output_type": "stream",
     "text": [
      "Val update: epoch: 16 |accuracy: 0.5284191370010376 | f1: 0.6906871795654297 | auc: 0.5678131580352783 | treshold: 0.39\n",
      "Test: accuracy: 0.5240094661712646 | f1: 0.6872182488441467 | auc: 0.57755446434021 | \n"
     ]
    },
    {
     "name": "stderr",
     "output_type": "stream",
     "text": [
      "train... loss:61.661983251571655:   0%|▎                                                                                               | 18/5000 [03:44<17:29:26, 12.64s/it]"
     ]
    },
    {
     "name": "stdout",
     "output_type": "stream",
     "text": [
      "Val update: epoch: 17 |accuracy: 0.5279819965362549 | f1: 0.6905551552772522 | auc: 0.5680588483810425 | treshold: 0.4\n",
      "Test: accuracy: 0.5237456560134888 | f1: 0.6871845126152039 | auc: 0.5781692862510681 | \n"
     ]
    },
    {
     "name": "stderr",
     "output_type": "stream",
     "text": [
      "train... loss:61.671718776226044:   0%|▎                                                                                               | 19/5000 [03:57<17:41:21, 12.78s/it]"
     ]
    },
    {
     "name": "stdout",
     "output_type": "stream",
     "text": [
      "Val update: epoch: 18 |accuracy: 0.5287442207336426 | f1: 0.6907844543457031 | auc: 0.5681619644165039 | treshold: 0.43\n",
      "Test: accuracy: 0.5242845416069031 | f1: 0.6872963309288025 | auc: 0.5786224603652954 | \n"
     ]
    },
    {
     "name": "stderr",
     "output_type": "stream",
     "text": [
      "train... loss:61.62340295314789:   0%|▍                                                                                                | 22/5000 [04:34<17:26:14, 12.61s/it]"
     ]
    },
    {
     "name": "stdout",
     "output_type": "stream",
     "text": [
      "Val update: epoch: 21 |accuracy: 0.528161346912384 | f1: 0.6906113624572754 | auc: 0.5684530138969421 | treshold: 0.41000000000000003\n",
      "Test: accuracy: 0.5238691568374634 | f1: 0.687189519405365 | auc: 0.5799331068992615 | \n"
     ]
    },
    {
     "name": "stderr",
     "output_type": "stream",
     "text": [
      "train... loss:61.643400728702545:   0%|▍                                                                                               | 23/5000 [04:47<17:35:31, 12.72s/it]"
     ]
    },
    {
     "name": "stdout",
     "output_type": "stream",
     "text": [
      "Val update: epoch: 22 |accuracy: 0.5292205810546875 | f1: 0.6904538869857788 | auc: 0.5687235593795776 | treshold: 0.43\n",
      "Test: accuracy: 0.5248627662658691 | f1: 0.6870169639587402 | auc: 0.5802798271179199 | \n"
     ]
    },
    {
     "name": "stderr",
     "output_type": "stream",
     "text": [
      "train... loss:61.598474740982056:   0%|▍                                                                                               | 24/5000 [05:01<17:45:47, 12.85s/it]"
     ]
    },
    {
     "name": "stdout",
     "output_type": "stream",
     "text": [
      "Val update: epoch: 23 |accuracy: 0.528957188129425 | f1: 0.6908582448959351 | auc: 0.5687575936317444 | treshold: 0.4\n",
      "Test: accuracy: 0.5244473218917847 | f1: 0.6873607039451599 | auc: 0.5802226662635803 | \n"
     ]
    },
    {
     "name": "stderr",
     "output_type": "stream",
     "text": [
      "train... loss:61.60081946849823:   0%|▍                                                                                                | 25/5000 [05:14<17:54:58, 12.96s/it]"
     ]
    },
    {
     "name": "stdout",
     "output_type": "stream",
     "text": [
      "Val update: epoch: 24 |accuracy: 0.5285088419914246 | f1: 0.6907210350036621 | auc: 0.568861186504364 | treshold: 0.4\n",
      "Test: accuracy: 0.5241329669952393 | f1: 0.6872486472129822 | auc: 0.5806068181991577 | \n"
     ]
    },
    {
     "name": "stderr",
     "output_type": "stream",
     "text": [
      "train... loss:61.56627815961838:   1%|▌                                                                                                | 26/5000 [05:27<17:59:31, 13.02s/it]"
     ]
    },
    {
     "name": "stdout",
     "output_type": "stream",
     "text": [
      "Val update: epoch: 25 |accuracy: 0.5283799171447754 | f1: 0.6906808018684387 | auc: 0.5691031217575073 | treshold: 0.42000000000000004\n",
      "Test: accuracy: 0.5240150690078735 | f1: 0.6872323155403137 | auc: 0.5811585187911987 | \n"
     ]
    },
    {
     "name": "stderr",
     "output_type": "stream",
     "text": [
      "train... loss:61.60094076395035:   1%|▌                                                                                                | 27/5000 [05:40<18:01:24, 13.05s/it]"
     ]
    },
    {
     "name": "stdout",
     "output_type": "stream",
     "text": [
      "Val update: epoch: 26 |accuracy: 0.5289627909660339 | f1: 0.6908016800880432 | auc: 0.5691835880279541 | treshold: 0.43\n",
      "Test: accuracy: 0.5246044993400574 | f1: 0.6873717308044434 | auc: 0.5813643932342529 | \n"
     ]
    },
    {
     "name": "stderr",
     "output_type": "stream",
     "text": [
      "train... loss:61.55712455511093:   1%|▌                                                                                                | 28/5000 [05:53<18:05:56, 13.10s/it]"
     ]
    },
    {
     "name": "stdout",
     "output_type": "stream",
     "text": [
      "Val update: epoch: 27 |accuracy: 0.5289123058319092 | f1: 0.6907947063446045 | auc: 0.5692194700241089 | treshold: 0.4\n",
      "Test: accuracy: 0.5244417190551758 | f1: 0.6873050332069397 | auc: 0.58119136095047 | \n"
     ]
    },
    {
     "name": "stderr",
     "output_type": "stream",
     "text": [
      "train... loss:61.57889652252197:   1%|▌                                                                                                | 29/5000 [06:06<18:01:06, 13.05s/it]"
     ]
    },
    {
     "name": "stdout",
     "output_type": "stream",
     "text": [
      "Val update: epoch: 28 |accuracy: 0.5284583568572998 | f1: 0.6907185912132263 | auc: 0.5693292617797852 | treshold: 0.39\n",
      "Test: accuracy: 0.5241104960441589 | f1: 0.687282383441925 | auc: 0.5814532041549683 | \n"
     ]
    },
    {
     "name": "stderr",
     "output_type": "stream",
     "text": [
      "train... loss:61.56604462862015:   1%|▌                                                                                                | 30/5000 [06:20<18:07:07, 13.12s/it]"
     ]
    },
    {
     "name": "stdout",
     "output_type": "stream",
     "text": [
      "Val update: epoch: 29 |accuracy: 0.5283575057983398 | f1: 0.6906843185424805 | auc: 0.569462776184082 | treshold: 0.41000000000000003\n",
      "Test: accuracy: 0.524031937122345 | f1: 0.6872584223747253 | auc: 0.581731379032135 | \n"
     ]
    },
    {
     "name": "stderr",
     "output_type": "stream",
     "text": [
      "train... loss:61.5645946264267:   1%|▌                                                                                                 | 31/5000 [06:33<18:10:00, 13.16s/it]"
     ]
    },
    {
     "name": "stdout",
     "output_type": "stream",
     "text": [
      "Val update: epoch: 30 |accuracy: 0.529108464717865 | f1: 0.69089275598526 | auc: 0.5695178508758545 | treshold: 0.42000000000000004\n",
      "Test: accuracy: 0.5246213674545288 | f1: 0.6874046921730042 | auc: 0.5817283391952515 | \n"
     ]
    },
    {
     "name": "stderr",
     "output_type": "stream",
     "text": [
      "train... loss:61.53297245502472:   1%|▋                                                                                                | 34/5000 [07:11<17:46:42, 12.89s/it]"
     ]
    },
    {
     "name": "stdout",
     "output_type": "stream",
     "text": [
      "Val update: epoch: 33 |accuracy: 0.5285928845405579 | f1: 0.6907545328140259 | auc: 0.5695886611938477 | treshold: 0.42000000000000004\n",
      "Test: accuracy: 0.5242283940315247 | f1: 0.6873102188110352 | auc: 0.5824583768844604 | \n"
     ]
    },
    {
     "name": "stderr",
     "output_type": "stream",
     "text": [
      "train... loss:61.50028395652771:   1%|▊                                                                                                | 41/5000 [08:37<17:25:05, 12.64s/it]"
     ]
    },
    {
     "name": "stdout",
     "output_type": "stream",
     "text": [
      "Val update: epoch: 40 |accuracy: 0.5281669497489929 | f1: 0.6906207203865051 | auc: 0.5698018074035645 | treshold: 0.38\n",
      "Test: accuracy: 0.5239869952201843 | f1: 0.6872519850730896 | auc: 0.5830829739570618 | \n"
     ]
    },
    {
     "name": "stderr",
     "output_type": "stream",
     "text": [
      "train... loss:61.50971668958664:   1%|▊                                                                                                | 42/5000 [08:51<17:42:57, 12.86s/it]"
     ]
    },
    {
     "name": "stdout",
     "output_type": "stream",
     "text": [
      "Val update: epoch: 41 |accuracy: 0.5283350944519043 | f1: 0.6906786561012268 | auc: 0.5698449611663818 | treshold: 0.41000000000000003\n",
      "Test: accuracy: 0.5240431427955627 | f1: 0.6872634887695312 | auc: 0.5832284688949585 | \n"
     ]
    },
    {
     "name": "stderr",
     "output_type": "stream",
     "text": [
      "train... loss:61.48245143890381:   1%|█▎                                                                                               | 65/5000 [13:49<17:29:22, 12.76s/it]\n"
     ]
    },
    {
     "name": "stdout",
     "output_type": "stream",
     "text": [
      "{'f1': 0.6872634887695312, 'roc-auc': 0.5832284688949585, 'accuracy': 0.5240431427955627}\n",
      "\n",
      " == cosmetics_10_4.pkl ==\n",
      "115287 data points among 116 batches\n",
      "\n",
      "Evaluating LogReg with neural embeddings\n",
      "Test before learning: {'f1': 0.48270902037620544, 'roc-auc': 0.49943795800209045, 'accuracy': 0.4936515986919403}\n"
     ]
    },
    {
     "name": "stderr",
     "output_type": "stream",
     "text": [
      "train... loss:80.64685821533203:   0%|                                                                                              | 1/5000 [32:32<2711:09:54, 1952.43s/it]"
     ]
    },
    {
     "name": "stdout",
     "output_type": "stream",
     "text": [
      "Val update: epoch: 0 |accuracy: 0.534165620803833 | f1: 0.6963597536087036 | auc: 0.5520069599151611 | treshold: 0.15000000000000002\n",
      "Test: accuracy: 0.5322241187095642 | f1: 0.6947079300880432 | auc: 0.5530614852905273 | \n"
     ]
    },
    {
     "name": "stderr",
     "output_type": "stream",
     "text": [
      "train... loss:77.53850895166397:   0%|                                                                                               | 2/5000 [32:47<1128:20:55, 812.74s/it]"
     ]
    },
    {
     "name": "stdout",
     "output_type": "stream",
     "text": [
      "Val update: epoch: 1 |accuracy: 0.5707919597625732 | f1: 0.6987139582633972 | auc: 0.6158738136291504 | treshold: 0.38\n",
      "Test: accuracy: 0.5686690211296082 | f1: 0.6973412036895752 | auc: 0.615617036819458 | \n"
     ]
    },
    {
     "name": "stderr",
     "output_type": "stream",
     "text": [
      "train... loss:73.51961159706116:   0%|                                                                                                | 3/5000 [33:02<622:31:21, 448.49s/it]"
     ]
    },
    {
     "name": "stdout",
     "output_type": "stream",
     "text": [
      "Val update: epoch: 2 |accuracy: 0.5928487777709961 | f1: 0.7013669013977051 | auc: 0.6408334970474243 | treshold: 0.38\n",
      "Test: accuracy: 0.5910624861717224 | f1: 0.7005699276924133 | auc: 0.6397799253463745 | \n"
     ]
    },
    {
     "name": "stderr",
     "output_type": "stream",
     "text": [
      "train... loss:70.5985397696495:   0%|                                                                                                 | 4/5000 [33:17<384:59:54, 277.42s/it]"
     ]
    },
    {
     "name": "stdout",
     "output_type": "stream",
     "text": [
      "Val update: epoch: 3 |accuracy: 0.6013339161872864 | f1: 0.7029465436935425 | auc: 0.6497510671615601 | treshold: 0.38\n",
      "Test: accuracy: 0.6008433699607849 | f1: 0.7030489444732666 | auc: 0.64996737241745 | \n"
     ]
    },
    {
     "name": "stderr",
     "output_type": "stream",
     "text": [
      "train... loss:64.73231357336044:   1%|█▎                                                                                               | 66/5000 [48:03<59:53:10, 43.69s/it]\n"
     ]
    },
    {
     "name": "stdout",
     "output_type": "stream",
     "text": [
      "{'f1': 0.7030489444732666, 'roc-auc': 0.64996737241745, 'accuracy': 0.6008433699607849}\n",
      "\n",
      "Evaluating LogReg with svd embeddings\n",
      "Test before learning: {'f1': 0.6924009323120117, 'roc-auc': 0.5180076360702515, 'accuracy': 0.5300429463386536}\n"
     ]
    },
    {
     "name": "stderr",
     "output_type": "stream",
     "text": [
      "train... loss:80.00961047410965:   0%|                                                                                                  | 1/5000 [00:13<18:31:47, 13.34s/it]"
     ]
    },
    {
     "name": "stdout",
     "output_type": "stream",
     "text": [
      "Val update: epoch: 0 |accuracy: 0.534165620803833 | f1: 0.6963597536087036 | auc: 0.5477550029754639 | treshold: 0.01\n",
      "Test: accuracy: 0.5322241187095642 | f1: 0.6947079300880432 | auc: 0.5415382385253906 | \n"
     ]
    },
    {
     "name": "stderr",
     "output_type": "stream",
     "text": [
      "train... loss:79.86129605770111:   0%|                                                                                                  | 3/5000 [00:40<18:44:26, 13.50s/it]"
     ]
    },
    {
     "name": "stdout",
     "output_type": "stream",
     "text": [
      "Val update: epoch: 2 |accuracy: 0.5342631340026855 | f1: 0.696264386177063 | auc: 0.5489592552185059 | treshold: 0.37\n",
      "Test: accuracy: 0.5325685143470764 | f1: 0.6947482228279114 | auc: 0.5411458015441895 | \n"
     ]
    },
    {
     "name": "stderr",
     "output_type": "stream",
     "text": [
      "train... loss:79.79830664396286:   0%|                                                                                                  | 4/5000 [00:54<18:58:02, 13.67s/it]"
     ]
    },
    {
     "name": "stdout",
     "output_type": "stream",
     "text": [
      "Val update: epoch: 3 |accuracy: 0.534278154373169 | f1: 0.6963098645210266 | auc: 0.5518041849136353 | treshold: 0.37\n",
      "Test: accuracy: 0.5325685143470764 | f1: 0.6947787404060364 | auc: 0.543857991695404 | \n"
     ]
    },
    {
     "name": "stderr",
     "output_type": "stream",
     "text": [
      "train... loss:79.73616153001785:   0%|                                                                                                  | 5/5000 [01:07<18:55:04, 13.63s/it]"
     ]
    },
    {
     "name": "stdout",
     "output_type": "stream",
     "text": [
      "Val update: epoch: 4 |accuracy: 0.5342481136322021 | f1: 0.6962783932685852 | auc: 0.5537240505218506 | treshold: 0.33\n",
      "Test: accuracy: 0.5324001312255859 | f1: 0.6946748495101929 | auc: 0.5453164577484131 | \n"
     ]
    },
    {
     "name": "stderr",
     "output_type": "stream",
     "text": [
      "train... loss:79.73738759756088:   0%|                                                                                                  | 6/5000 [01:21<19:11:38, 13.84s/it]"
     ]
    },
    {
     "name": "stdout",
     "output_type": "stream",
     "text": [
      "Val update: epoch: 5 |accuracy: 0.5342181324958801 | f1: 0.6963182687759399 | auc: 0.5547571778297424 | treshold: 0.32\n",
      "Test: accuracy: 0.5323389172554016 | f1: 0.6946806907653809 | auc: 0.5474306344985962 | \n"
     ]
    },
    {
     "name": "stderr",
     "output_type": "stream",
     "text": [
      "train... loss:79.65244144201279:   0%|▏                                                                                                 | 7/5000 [01:35<19:07:08, 13.78s/it]"
     ]
    },
    {
     "name": "stdout",
     "output_type": "stream",
     "text": [
      "Val update: epoch: 6 |accuracy: 0.5342106223106384 | f1: 0.6963505148887634 | auc: 0.5554320216178894 | treshold: 0.33\n",
      "Test: accuracy: 0.5322930216789246 | f1: 0.6947086453437805 | auc: 0.5491751432418823 | \n"
     ]
    },
    {
     "name": "stderr",
     "output_type": "stream",
     "text": [
      "train... loss:79.61562460660934:   0%|▏                                                                                                 | 8/5000 [01:49<19:17:59, 13.92s/it]"
     ]
    },
    {
     "name": "stdout",
     "output_type": "stream",
     "text": [
      "Val update: epoch: 7 |accuracy: 0.5342181324958801 | f1: 0.696241021156311 | auc: 0.5566459894180298 | treshold: 0.33\n",
      "Test: accuracy: 0.5324307680130005 | f1: 0.6946826577186584 | auc: 0.5503984689712524 | \n"
     ]
    },
    {
     "name": "stderr",
     "output_type": "stream",
     "text": [
      "train... loss:79.60379719734192:   0%|▏                                                                                                 | 9/5000 [02:03<19:10:33, 13.83s/it]"
     ]
    },
    {
     "name": "stdout",
     "output_type": "stream",
     "text": [
      "Val update: epoch: 8 |accuracy: 0.5342031121253967 | f1: 0.6963114142417908 | auc: 0.5568326115608215 | treshold: 0.32\n",
      "Test: accuracy: 0.5323618650436401 | f1: 0.6947368383407593 | auc: 0.5508257150650024 | \n"
     ]
    },
    {
     "name": "stderr",
     "output_type": "stream",
     "text": [
      "train... loss:79.55539220571518:   0%|▏                                                                                                | 10/5000 [02:17<19:21:53, 13.97s/it]"
     ]
    },
    {
     "name": "stdout",
     "output_type": "stream",
     "text": [
      "Val update: epoch: 9 |accuracy: 0.5342031121253967 | f1: 0.6963233351707458 | auc: 0.5569255352020264 | treshold: 0.34\n",
      "Test: accuracy: 0.5323542356491089 | f1: 0.6947333812713623 | auc: 0.5506072044372559 | \n"
     ]
    },
    {
     "name": "stderr",
     "output_type": "stream",
     "text": [
      "train... loss:79.5120924115181:   0%|▏                                                                                                 | 11/5000 [02:31<19:21:52, 13.97s/it]"
     ]
    },
    {
     "name": "stdout",
     "output_type": "stream",
     "text": [
      "Val update: epoch: 10 |accuracy: 0.5343531370162964 | f1: 0.696317195892334 | auc: 0.5577225685119629 | treshold: 0.34\n",
      "Test: accuracy: 0.5325685143470764 | f1: 0.6947329640388489 | auc: 0.5510426163673401 | \n"
     ]
    },
    {
     "name": "stderr",
     "output_type": "stream",
     "text": [
      "train... loss:79.53816276788712:   0%|▏                                                                                                | 12/5000 [02:45<19:22:22, 13.98s/it]"
     ]
    },
    {
     "name": "stdout",
     "output_type": "stream",
     "text": [
      "Val update: epoch: 11 |accuracy: 0.534338116645813 | f1: 0.696351945400238 | auc: 0.5583623051643372 | treshold: 0.34\n",
      "Test: accuracy: 0.5324996113777161 | f1: 0.6947535872459412 | auc: 0.551303505897522 | \n"
     ]
    },
    {
     "name": "stderr",
     "output_type": "stream",
     "text": [
      "train... loss:79.48342663049698:   0%|▎                                                                                                | 13/5000 [02:59<19:26:32, 14.03s/it]"
     ]
    },
    {
     "name": "stdout",
     "output_type": "stream",
     "text": [
      "Val update: epoch: 12 |accuracy: 0.5343681573867798 | f1: 0.6963655948638916 | auc: 0.5587978959083557 | treshold: 0.36000000000000004\n",
      "Test: accuracy: 0.5325378775596619 | f1: 0.6947648525238037 | auc: 0.5515741109848022 | \n"
     ]
    },
    {
     "name": "stderr",
     "output_type": "stream",
     "text": [
      "train... loss:79.46840983629227:   0%|▎                                                                                                | 14/5000 [03:13<19:23:35, 14.00s/it]"
     ]
    },
    {
     "name": "stdout",
     "output_type": "stream",
     "text": [
      "Val update: epoch: 13 |accuracy: 0.5345557332038879 | f1: 0.6963616013526917 | auc: 0.5596027374267578 | treshold: 0.35000000000000003\n",
      "Test: accuracy: 0.5328975915908813 | f1: 0.6948273777961731 | auc: 0.5519089102745056 | \n"
     ]
    },
    {
     "name": "stderr",
     "output_type": "stream",
     "text": [
      "train... loss:79.45711696147919:   0%|▎                                                                                                | 15/5000 [03:28<19:28:32, 14.06s/it]"
     ]
    },
    {
     "name": "stdout",
     "output_type": "stream",
     "text": [
      "Val update: epoch: 14 |accuracy: 0.5343906879425049 | f1: 0.69634610414505 | auc: 0.559706449508667 | treshold: 0.35000000000000003\n",
      "Test: accuracy: 0.5327139496803284 | f1: 0.6948202848434448 | auc: 0.552159309387207 | \n"
     ]
    },
    {
     "name": "stderr",
     "output_type": "stream",
     "text": [
      "train... loss:79.44895726442337:   0%|▎                                                                                                | 16/5000 [03:42<19:25:55, 14.04s/it]"
     ]
    },
    {
     "name": "stdout",
     "output_type": "stream",
     "text": [
      "Val update: epoch: 15 |accuracy: 0.5345256924629211 | f1: 0.6963598728179932 | auc: 0.5598078966140747 | treshold: 0.37\n",
      "Test: accuracy: 0.5328057408332825 | f1: 0.6948161721229553 | auc: 0.5524711012840271 | \n"
     ]
    },
    {
     "name": "stderr",
     "output_type": "stream",
     "text": [
      "train... loss:79.39511901140213:   0%|▎                                                                                                | 17/5000 [03:56<19:30:44, 14.10s/it]"
     ]
    },
    {
     "name": "stdout",
     "output_type": "stream",
     "text": [
      "Val update: epoch: 16 |accuracy: 0.5345782041549683 | f1: 0.6963213086128235 | auc: 0.5601966381072998 | treshold: 0.34\n",
      "Test: accuracy: 0.5329970717430115 | f1: 0.6948481202125549 | auc: 0.5526323318481445 | \n"
     ]
    },
    {
     "name": "stderr",
     "output_type": "stream",
     "text": [
      "train... loss:79.3802301287651:   0%|▍                                                                                                 | 20/5000 [04:35<18:43:22, 13.53s/it]"
     ]
    },
    {
     "name": "stdout",
     "output_type": "stream",
     "text": [
      "Val update: epoch: 19 |accuracy: 0.5345256924629211 | f1: 0.696333110332489 | auc: 0.5602622032165527 | treshold: 0.33\n",
      "Test: accuracy: 0.5327292084693909 | f1: 0.6947478652000427 | auc: 0.5527905821800232 | \n"
     ]
    },
    {
     "name": "stderr",
     "output_type": "stream",
     "text": [
      "train... loss:79.32285934686661:   1%|▊                                                                                                | 42/5000 [09:37<18:56:52, 13.76s/it]\n"
     ]
    },
    {
     "name": "stdout",
     "output_type": "stream",
     "text": [
      "{'f1': 0.6947478652000427, 'roc-auc': 0.5527905821800232, 'accuracy': 0.5327292084693909}\n",
      "\n",
      " == cosmetics_5_24.pkl ==\n",
      "121463 data points among 122 batches\n",
      "\n",
      "Evaluating LogReg with neural embeddings\n",
      "Test before learning: {'f1': 0.5163034796714783, 'roc-auc': 0.5014756321907043, 'accuracy': 0.499985933303833}\n"
     ]
    },
    {
     "name": "stderr",
     "output_type": "stream",
     "text": [
      "train... loss:84.7001935839653:   0%|                                                                                             | 1/5000 [1:00:39<5053:24:35, 3639.18s/it]"
     ]
    },
    {
     "name": "stdout",
     "output_type": "stream",
     "text": [
      "Val update: epoch: 0 |accuracy: 0.5107101798057556 | f1: 0.676119327545166 | auc: 0.558883547782898 | treshold: 0.01\n",
      "Test: accuracy: 0.517697811126709 | f1: 0.682214617729187 | auc: 0.5611268281936646 | \n"
     ]
    },
    {
     "name": "stderr",
     "output_type": "stream",
     "text": [
      "train... loss:81.2572273015976:   0%|                                                                                             | 2/5000 [1:00:54<2092:55:33, 1507.51s/it]"
     ]
    },
    {
     "name": "stdout",
     "output_type": "stream",
     "text": [
      "Val update: epoch: 1 |accuracy: 0.5663321614265442 | f1: 0.675532877445221 | auc: 0.6249406337738037 | treshold: 0.43\n",
      "Test: accuracy: 0.573835551738739 | f1: 0.6834157109260559 | auc: 0.6284937262535095 | \n"
     ]
    },
    {
     "name": "stderr",
     "output_type": "stream",
     "text": [
      "train... loss:77.18747538328171:   0%|                                                                                             | 3/5000 [1:01:09<1146:31:18, 825.99s/it]"
     ]
    },
    {
     "name": "stdout",
     "output_type": "stream",
     "text": [
      "Val update: epoch: 2 |accuracy: 0.588087260723114 | f1: 0.6851664781570435 | auc: 0.6564004421234131 | treshold: 0.41000000000000003\n",
      "Test: accuracy: 0.5944462418556213 | f1: 0.6919842958450317 | auc: 0.6580748558044434 | \n"
     ]
    },
    {
     "name": "stderr",
     "output_type": "stream",
     "text": [
      "train... loss:73.74677413702011:   0%|                                                                                              | 4/5000 [1:01:24<702:14:14, 506.02s/it]"
     ]
    },
    {
     "name": "stdout",
     "output_type": "stream",
     "text": [
      "Val update: epoch: 3 |accuracy: 0.6118706464767456 | f1: 0.6859761476516724 | auc: 0.6697092056274414 | treshold: 0.44\n",
      "Test: accuracy: 0.6163985133171082 | f1: 0.6924222707748413 | auc: 0.6712729930877686 | \n"
     ]
    },
    {
     "name": "stderr",
     "output_type": "stream",
     "text": [
      "train... loss:72.36017543077469:   0%|                                                                                              | 5/5000 [1:01:40<456:28:41, 328.99s/it]"
     ]
    },
    {
     "name": "stdout",
     "output_type": "stream",
     "text": [
      "Val update: epoch: 4 |accuracy: 0.6139083504676819 | f1: 0.6843138933181763 | auc: 0.6711149215698242 | treshold: 0.43\n",
      "Test: accuracy: 0.6201791763305664 | f1: 0.6930919885635376 | auc: 0.6718080043792725 | \n"
     ]
    },
    {
     "name": "stderr",
     "output_type": "stream",
     "text": [
      "train... loss:71.48587089776993:   0%|                                                                                              | 6/5000 [1:01:55<308:27:39, 222.36s/it]"
     ]
    },
    {
     "name": "stdout",
     "output_type": "stream",
     "text": [
      "Val update: epoch: 5 |accuracy: 0.6148746013641357 | f1: 0.6889314651489258 | auc: 0.6730274558067322 | treshold: 0.44\n",
      "Test: accuracy: 0.6187626123428345 | f1: 0.6953125 | auc: 0.671459972858429 | \n"
     ]
    },
    {
     "name": "stderr",
     "output_type": "stream",
     "text": [
      "train... loss:71.06827998161316:   0%|▏                                                                                             | 7/5000 [1:02:10<214:26:32, 154.61s/it]"
     ]
    },
    {
     "name": "stdout",
     "output_type": "stream",
     "text": [
      "Val update: epoch: 6 |accuracy: 0.6056042909622192 | f1: 0.6932412385940552 | auc: 0.6744032502174377 | treshold: 0.43\n",
      "Test: accuracy: 0.6108822822570801 | f1: 0.7004376649856567 | auc: 0.6744233965873718 | \n"
     ]
    },
    {
     "name": "stderr",
     "output_type": "stream",
     "text": [
      "train... loss:69.00220263004303:   1%|▋                                                                                            | 38/5000 [1:09:39<151:34:49, 109.97s/it]\n"
     ]
    },
    {
     "name": "stdout",
     "output_type": "stream",
     "text": [
      "{'f1': 0.7004376649856567, 'roc-auc': 0.6744233965873718, 'accuracy': 0.6108822822570801}\n",
      "\n",
      "Evaluating LogReg with svd embeddings\n",
      "Test before learning: {'f1': 0.6821373701095581, 'roc-auc': 0.4965223968029022, 'accuracy': 0.517613410949707}\n"
     ]
    },
    {
     "name": "stderr",
     "output_type": "stream",
     "text": [
      "train... loss:84.18240839242935:   0%|                                                                                                  | 1/5000 [00:13<18:45:20, 13.51s/it]"
     ]
    },
    {
     "name": "stdout",
     "output_type": "stream",
     "text": [
      "Val update: epoch: 0 |accuracy: 0.5107101798057556 | f1: 0.676119327545166 | auc: 0.5705584287643433 | treshold: 0.01\n",
      "Test: accuracy: 0.517697811126709 | f1: 0.682214617729187 | auc: 0.5736803412437439 | \n"
     ]
    },
    {
     "name": "stderr",
     "output_type": "stream",
     "text": [
      "train... loss:83.31494700908661:   1%|▉                                                                                                | 47/5000 [09:49<17:15:18, 12.54s/it]\n"
     ]
    },
    {
     "name": "stdout",
     "output_type": "stream",
     "text": [
      "{'f1': 0.682214617729187, 'roc-auc': 0.5736803412437439, 'accuracy': 0.517697811126709}\n",
      "\n",
      " == cosmetics_20_4.pkl ==\n",
      "89272 data points among 90 batches\n",
      "\n",
      "Evaluating LogReg with neural embeddings\n",
      "Test before learning: {'f1': 0.5399036407470703, 'roc-auc': 0.5024653673171997, 'accuracy': 0.5038993954658508}\n"
     ]
    },
    {
     "name": "stderr",
     "output_type": "stream",
     "text": [
      "train... loss:62.61851525306702:   0%|                                                                                               | 1/5000 [14:09<1179:45:01, 849.59s/it]"
     ]
    },
    {
     "name": "stdout",
     "output_type": "stream",
     "text": [
      "Val update: epoch: 0 |accuracy: 0.5178819298744202 | f1: 0.6823744773864746 | auc: 0.5445351600646973 | treshold: 0.16\n",
      "Test: accuracy: 0.5343794226646423 | f1: 0.6965414881706238 | auc: 0.5397419929504395 | \n"
     ]
    },
    {
     "name": "stderr",
     "output_type": "stream",
     "text": [
      "train... loss:60.90535753965378:   0%|                                                                                                | 2/5000 [14:24<497:39:49, 358.46s/it]"
     ]
    },
    {
     "name": "stdout",
     "output_type": "stream",
     "text": [
      "Val update: epoch: 1 |accuracy: 0.5451308488845825 | f1: 0.6834675669670105 | auc: 0.6001775860786438 | treshold: 0.4\n",
      "Test: accuracy: 0.5587734580039978 | f1: 0.6969133019447327 | auc: 0.5969785451889038 | \n"
     ]
    },
    {
     "name": "stderr",
     "output_type": "stream",
     "text": [
      "train... loss:58.04938179254532:   0%|                                                                                                | 3/5000 [14:39<279:43:53, 201.53s/it]"
     ]
    },
    {
     "name": "stdout",
     "output_type": "stream",
     "text": [
      "Val update: epoch: 2 |accuracy: 0.5780563950538635 | f1: 0.6860499382019043 | auc: 0.6348373293876648 | treshold: 0.36000000000000004\n",
      "Test: accuracy: 0.5864266753196716 | f1: 0.6976472735404968 | auc: 0.6291801333427429 | \n"
     ]
    },
    {
     "name": "stderr",
     "output_type": "stream",
     "text": [
      "train... loss:54.925047397613525:   0%|                                                                                               | 4/5000 [14:53<177:17:41, 127.75s/it]"
     ]
    },
    {
     "name": "stdout",
     "output_type": "stream",
     "text": [
      "Val update: epoch: 3 |accuracy: 0.5722500085830688 | f1: 0.692966639995575 | auc: 0.642014741897583 | treshold: 0.36000000000000004\n",
      "Test: accuracy: 0.5831397771835327 | f1: 0.7054436802864075 | auc: 0.6358695030212402 | \n"
     ]
    },
    {
     "name": "stderr",
     "output_type": "stream",
     "text": [
      "train... loss:53.3393240571022:   0%|                                                                                                  | 5/5000 [15:08<120:40:16, 86.97s/it]"
     ]
    },
    {
     "name": "stdout",
     "output_type": "stream",
     "text": [
      "Val update: epoch: 4 |accuracy: 0.5879368782043457 | f1: 0.6924266219139099 | auc: 0.6483749151229858 | treshold: 0.36000000000000004\n",
      "Test: accuracy: 0.5953673124313354 | f1: 0.7029932141304016 | auc: 0.642694354057312 | \n"
     ]
    },
    {
     "name": "stderr",
     "output_type": "stream",
     "text": [
      "train... loss:49.49581891298294:   1%|▉                                                                                                | 48/5000 [25:08<43:14:34, 31.44s/it]\n"
     ]
    },
    {
     "name": "stdout",
     "output_type": "stream",
     "text": [
      "{'f1': 0.7029932141304016, 'roc-auc': 0.642694354057312, 'accuracy': 0.5953673124313354}\n",
      "\n",
      "Evaluating LogReg with svd embeddings\n",
      "Test before learning: {'f1': 0.6957374215126038, 'roc-auc': 0.5097310543060303, 'accuracy': 0.5338085293769836}\n"
     ]
    },
    {
     "name": "stderr",
     "output_type": "stream",
     "text": [
      "train... loss:62.12710392475128:   0%|                                                                                                  | 1/5000 [00:12<16:53:43, 12.17s/it]"
     ]
    },
    {
     "name": "stdout",
     "output_type": "stream",
     "text": [
      "Val update: epoch: 0 |accuracy: 0.5178819298744202 | f1: 0.6823744773864746 | auc: 0.5563227534294128 | treshold: 0.01\n",
      "Test: accuracy: 0.5343794226646423 | f1: 0.6965414881706238 | auc: 0.5552839636802673 | \n"
     ]
    },
    {
     "name": "stderr",
     "output_type": "stream",
     "text": [
      "train... loss:62.09783452749252:   0%|                                                                                                  | 2/5000 [00:24<16:56:28, 12.20s/it]"
     ]
    },
    {
     "name": "stdout",
     "output_type": "stream",
     "text": [
      "Val update: epoch: 1 |accuracy: 0.5180399417877197 | f1: 0.6824195384979248 | auc: 0.5573846697807312 | treshold: 0.47000000000000003\n",
      "Test: accuracy: 0.5345069169998169 | f1: 0.6965445280075073 | auc: 0.5588916540145874 | \n"
     ]
    },
    {
     "name": "stderr",
     "output_type": "stream",
     "text": [
      "train... loss:62.01412749290466:   0%|                                                                                                  | 4/5000 [00:48<16:42:05, 12.03s/it]"
     ]
    },
    {
     "name": "stdout",
     "output_type": "stream",
     "text": [
      "Val update: epoch: 3 |accuracy: 0.5182318091392517 | f1: 0.6824963688850403 | auc: 0.5575425624847412 | treshold: 0.4\n",
      "Test: accuracy: 0.5346399545669556 | f1: 0.6965435147285461 | auc: 0.5613864064216614 | \n"
     ]
    },
    {
     "name": "stderr",
     "output_type": "stream",
     "text": [
      "train... loss:61.92524462938309:   0%|                                                                                                  | 5/5000 [01:00<16:52:29, 12.16s/it]"
     ]
    },
    {
     "name": "stdout",
     "output_type": "stream",
     "text": [
      "Val update: epoch: 4 |accuracy: 0.5180907249450684 | f1: 0.682447075843811 | auc: 0.5588524341583252 | treshold: 0.41000000000000003\n",
      "Test: accuracy: 0.5345845222473145 | f1: 0.6965336799621582 | auc: 0.5625120997428894 | \n"
     ]
    },
    {
     "name": "stderr",
     "output_type": "stream",
     "text": [
      "train... loss:61.93267351388931:   0%|                                                                                                  | 6/5000 [01:13<17:03:41, 12.30s/it]"
     ]
    },
    {
     "name": "stdout",
     "output_type": "stream",
     "text": [
      "Val update: epoch: 5 |accuracy: 0.5189653635025024 | f1: 0.6827060580253601 | auc: 0.5600922107696533 | treshold: 0.43\n",
      "Test: accuracy: 0.5350390672683716 | f1: 0.6965910196304321 | auc: 0.5631827712059021 | \n"
     ]
    },
    {
     "name": "stderr",
     "output_type": "stream",
     "text": [
      "train... loss:61.867839336395264:   0%|▏                                                                                                | 7/5000 [01:25<17:11:56, 12.40s/it]"
     ]
    },
    {
     "name": "stdout",
     "output_type": "stream",
     "text": [
      "Val update: epoch: 6 |accuracy: 0.5193208456039429 | f1: 0.6827693581581116 | auc: 0.5607599020004272 | treshold: 0.41000000000000003\n",
      "Test: accuracy: 0.5352551937103271 | f1: 0.6966410279273987 | auc: 0.563666045665741 | \n"
     ]
    },
    {
     "name": "stderr",
     "output_type": "stream",
     "text": [
      "train... loss:61.85698640346527:   0%|▏                                                                                                 | 8/5000 [01:38<17:18:58, 12.49s/it]"
     ]
    },
    {
     "name": "stdout",
     "output_type": "stream",
     "text": [
      "Val update: epoch: 7 |accuracy: 0.518976628780365 | f1: 0.6827796101570129 | auc: 0.5619860887527466 | treshold: 0.41000000000000003\n",
      "Test: accuracy: 0.5350390672683716 | f1: 0.6966019868850708 | auc: 0.5649487376213074 | \n"
     ]
    },
    {
     "name": "stderr",
     "output_type": "stream",
     "text": [
      "train... loss:61.828443586826324:   0%|▏                                                                                                | 9/5000 [01:51<17:24:18, 12.55s/it]"
     ]
    },
    {
     "name": "stdout",
     "output_type": "stream",
     "text": [
      "Val update: epoch: 8 |accuracy: 0.5187904238700867 | f1: 0.6827146410942078 | auc: 0.5630866885185242 | treshold: 0.42000000000000004\n",
      "Test: accuracy: 0.534961462020874 | f1: 0.6965864896774292 | auc: 0.5663068294525146 | \n"
     ]
    },
    {
     "name": "stderr",
     "output_type": "stream",
     "text": [
      "train... loss:61.80133718252182:   0%|▏                                                                                                | 10/5000 [02:03<17:25:36, 12.57s/it]"
     ]
    },
    {
     "name": "stdout",
     "output_type": "stream",
     "text": [
      "Val update: epoch: 9 |accuracy: 0.5186211466789246 | f1: 0.6825534701347351 | auc: 0.5641781091690063 | treshold: 0.39\n",
      "Test: accuracy: 0.5348450541496277 | f1: 0.696489691734314 | auc: 0.5675057768821716 | \n"
     ]
    },
    {
     "name": "stderr",
     "output_type": "stream",
     "text": [
      "train... loss:61.78774011135101:   0%|▏                                                                                                | 11/5000 [02:16<17:26:33, 12.59s/it]"
     ]
    },
    {
     "name": "stdout",
     "output_type": "stream",
     "text": [
      "Val update: epoch: 10 |accuracy: 0.5183277130126953 | f1: 0.6825536489486694 | auc: 0.5647749900817871 | treshold: 0.35000000000000003\n",
      "Test: accuracy: 0.5347286462783813 | f1: 0.6965180039405823 | auc: 0.5681751370429993 | \n"
     ]
    },
    {
     "name": "stderr",
     "output_type": "stream",
     "text": [
      "train... loss:61.75673884153366:   0%|▏                                                                                                | 12/5000 [02:28<17:28:09, 12.61s/it]"
     ]
    },
    {
     "name": "stdout",
     "output_type": "stream",
     "text": [
      "Val update: epoch: 11 |accuracy: 0.5180230140686035 | f1: 0.6824331879615784 | auc: 0.5654911994934082 | treshold: 0.35000000000000003\n",
      "Test: accuracy: 0.5344237685203552 | f1: 0.6963948607444763 | auc: 0.5689994692802429 | \n"
     ]
    },
    {
     "name": "stderr",
     "output_type": "stream",
     "text": [
      "train... loss:61.76648473739624:   0%|▎                                                                                                | 13/5000 [02:41<17:23:24, 12.55s/it]"
     ]
    },
    {
     "name": "stdout",
     "output_type": "stream",
     "text": [
      "Val update: epoch: 12 |accuracy: 0.51790452003479 | f1: 0.6823799014091492 | auc: 0.5661355257034302 | treshold: 0.36000000000000004\n",
      "Test: accuracy: 0.5344182252883911 | f1: 0.6964033246040344 | auc: 0.5697182416915894 | \n"
     ]
    },
    {
     "name": "stderr",
     "output_type": "stream",
     "text": [
      "train... loss:61.73451894521713:   0%|▎                                                                                                | 14/5000 [02:53<17:17:31, 12.49s/it]"
     ]
    },
    {
     "name": "stdout",
     "output_type": "stream",
     "text": [
      "Val update: epoch: 13 |accuracy: 0.5179665684700012 | f1: 0.682405412197113 | auc: 0.5664951205253601 | treshold: 0.34\n",
      "Test: accuracy: 0.5344736576080322 | f1: 0.696417510509491 | auc: 0.5700162649154663 | \n"
     ]
    },
    {
     "name": "stderr",
     "output_type": "stream",
     "text": [
      "train... loss:61.72786062955856:   0%|▎                                                                                                | 15/5000 [03:06<17:20:46, 12.53s/it]"
     ]
    },
    {
     "name": "stdout",
     "output_type": "stream",
     "text": [
      "Val update: epoch: 14 |accuracy: 0.5192023515701294 | f1: 0.6826285123825073 | auc: 0.5668424963951111 | treshold: 0.4\n",
      "Test: accuracy: 0.5354880094528198 | f1: 0.6966217160224915 | auc: 0.5702702403068542 | \n"
     ]
    },
    {
     "name": "stderr",
     "output_type": "stream",
     "text": [
      "train... loss:61.70883786678314:   0%|▎                                                                                                | 16/5000 [03:18<17:22:36, 12.55s/it]"
     ]
    },
    {
     "name": "stdout",
     "output_type": "stream",
     "text": [
      "Val update: epoch: 15 |accuracy: 0.51790452003479 | f1: 0.6823799014091492 | auc: 0.567392110824585 | treshold: 0.34\n",
      "Test: accuracy: 0.5345290899276733 | f1: 0.6964602470397949 | auc: 0.5707815885543823 | \n"
     ]
    },
    {
     "name": "stderr",
     "output_type": "stream",
     "text": [
      "train... loss:61.70439946651459:   0%|▎                                                                                                | 17/5000 [03:31<17:24:13, 12.57s/it]"
     ]
    },
    {
     "name": "stdout",
     "output_type": "stream",
     "text": [
      "Val update: epoch: 16 |accuracy: 0.5184462070465088 | f1: 0.6825385093688965 | auc: 0.5677932500839233 | treshold: 0.39\n",
      "Test: accuracy: 0.5348339676856995 | f1: 0.6965570449829102 | auc: 0.5712138414382935 | \n"
     ]
    },
    {
     "name": "stderr",
     "output_type": "stream",
     "text": [
      "train... loss:61.67590147256851:   0%|▎                                                                                                | 18/5000 [03:44<17:24:49, 12.58s/it]"
     ]
    },
    {
     "name": "stdout",
     "output_type": "stream",
     "text": [
      "Val update: epoch: 17 |accuracy: 0.5195409059524536 | f1: 0.6828306913375854 | auc: 0.5679798126220703 | treshold: 0.41000000000000003\n",
      "Test: accuracy: 0.5355434417724609 | f1: 0.6966689229011536 | auc: 0.5713772177696228 | \n"
     ]
    },
    {
     "name": "stderr",
     "output_type": "stream",
     "text": [
      "train... loss:61.70785629749298:   0%|▎                                                                                                | 19/5000 [03:56<17:30:46, 12.66s/it]"
     ]
    },
    {
     "name": "stdout",
     "output_type": "stream",
     "text": [
      "Val update: epoch: 18 |accuracy: 0.5196255445480347 | f1: 0.6828499436378479 | auc: 0.5683337450027466 | treshold: 0.4\n",
      "Test: accuracy: 0.535598874092102 | f1: 0.6966853737831116 | auc: 0.571708083152771 | \n"
     ]
    },
    {
     "name": "stderr",
     "output_type": "stream",
     "text": [
      "train... loss:61.65619021654129:   0%|▍                                                                                                | 20/5000 [04:09<17:30:18, 12.65s/it]"
     ]
    },
    {
     "name": "stdout",
     "output_type": "stream",
     "text": [
      "Val update: epoch: 19 |accuracy: 0.5188524723052979 | f1: 0.6826670169830322 | auc: 0.5688055157661438 | treshold: 0.4\n",
      "Test: accuracy: 0.5351776480674744 | f1: 0.6966562271118164 | auc: 0.5722252130508423 | \n"
     ]
    },
    {
     "name": "stderr",
     "output_type": "stream",
     "text": [
      "train... loss:61.66668224334717:   0%|▍                                                                                                | 21/5000 [04:22<17:31:39, 12.67s/it]"
     ]
    },
    {
     "name": "stdout",
     "output_type": "stream",
     "text": [
      "Val update: epoch: 20 |accuracy: 0.5196593999862671 | f1: 0.6828534007072449 | auc: 0.56919926404953 | treshold: 0.43\n",
      "Test: accuracy: 0.5356376767158508 | f1: 0.6966788172721863 | auc: 0.5726134777069092 | \n"
     ]
    },
    {
     "name": "stderr",
     "output_type": "stream",
     "text": [
      "train... loss:61.621514201164246:   0%|▍                                                                                               | 22/5000 [04:34<17:30:18, 12.66s/it]"
     ]
    },
    {
     "name": "stdout",
     "output_type": "stream",
     "text": [
      "Val update: epoch: 21 |accuracy: 0.5202293395996094 | f1: 0.6825567483901978 | auc: 0.5695913434028625 | treshold: 0.41000000000000003\n",
      "Test: accuracy: 0.5361087918281555 | f1: 0.6964007019996643 | auc: 0.5729657411575317 | \n"
     ]
    },
    {
     "name": "stderr",
     "output_type": "stream",
     "text": [
      "train... loss:61.662096083164215:   0%|▍                                                                                               | 23/5000 [04:47<17:38:09, 12.76s/it]"
     ]
    },
    {
     "name": "stdout",
     "output_type": "stream",
     "text": [
      "Val update: epoch: 22 |accuracy: 0.5196312069892883 | f1: 0.6828761100769043 | auc: 0.5700874924659729 | treshold: 0.4\n",
      "Test: accuracy: 0.5355656147003174 | f1: 0.696700930595398 | auc: 0.5734754800796509 | \n"
     ]
    },
    {
     "name": "stderr",
     "output_type": "stream",
     "text": [
      "train... loss:61.597170770168304:   0%|▍                                                                                               | 24/5000 [05:00<17:38:57, 12.77s/it]"
     ]
    },
    {
     "name": "stdout",
     "output_type": "stream",
     "text": [
      "Val update: epoch: 23 |accuracy: 0.5193885564804077 | f1: 0.6828187704086304 | auc: 0.5706514120101929 | treshold: 0.42000000000000004\n",
      "Test: accuracy: 0.5354547500610352 | f1: 0.6967054009437561 | auc: 0.573999285697937 | \n"
     ]
    },
    {
     "name": "stderr",
     "output_type": "stream",
     "text": [
      "train... loss:61.65006077289581:   0%|▍                                                                                                | 25/5000 [05:13<17:37:43, 12.76s/it]"
     ]
    },
    {
     "name": "stdout",
     "output_type": "stream",
     "text": [
      "Val update: epoch: 24 |accuracy: 0.5200543999671936 | f1: 0.6828590035438538 | auc: 0.570992112159729 | treshold: 0.44\n",
      "Test: accuracy: 0.5360644459724426 | f1: 0.6966819763183594 | auc: 0.5743985176086426 | \n"
     ]
    },
    {
     "name": "stderr",
     "output_type": "stream",
     "text": [
      "train... loss:61.59949970245361:   1%|▌                                                                                                | 26/5000 [05:26<17:36:27, 12.74s/it]"
     ]
    },
    {
     "name": "stdout",
     "output_type": "stream",
     "text": [
      "Val update: epoch: 25 |accuracy: 0.5205453038215637 | f1: 0.6826046705245972 | auc: 0.5710880756378174 | treshold: 0.42000000000000004\n",
      "Test: accuracy: 0.5364358425140381 | f1: 0.6963823437690735 | auc: 0.5745720863342285 | \n"
     ]
    },
    {
     "name": "stderr",
     "output_type": "stream",
     "text": [
      "train... loss:61.615630745887756:   1%|▌                                                                                               | 27/5000 [05:39<17:39:26, 12.78s/it]"
     ]
    },
    {
     "name": "stdout",
     "output_type": "stream",
     "text": [
      "Val update: epoch: 26 |accuracy: 0.5197553038597107 | f1: 0.6828517317771912 | auc: 0.5714860558509827 | treshold: 0.41000000000000003\n",
      "Test: accuracy: 0.5359259247779846 | f1: 0.6967771053314209 | auc: 0.5750662088394165 | \n"
     ]
    },
    {
     "name": "stderr",
     "output_type": "stream",
     "text": [
      "train... loss:61.59292298555374:   1%|▌                                                                                                | 28/5000 [05:51<17:38:27, 12.77s/it]"
     ]
    },
    {
     "name": "stdout",
     "output_type": "stream",
     "text": [
      "Val update: epoch: 27 |accuracy: 0.5196086168289185 | f1: 0.6828895807266235 | auc: 0.5717761516571045 | treshold: 0.42000000000000004\n",
      "Test: accuracy: 0.5355822443962097 | f1: 0.6967480182647705 | auc: 0.5754296779632568 | \n"
     ]
    },
    {
     "name": "stderr",
     "output_type": "stream",
     "text": [
      "train... loss:61.59626656770706:   1%|▌                                                                                                | 29/5000 [06:04<17:31:16, 12.69s/it]"
     ]
    },
    {
     "name": "stdout",
     "output_type": "stream",
     "text": [
      "Val update: epoch: 28 |accuracy: 0.520409882068634 | f1: 0.6825600862503052 | auc: 0.5717940330505371 | treshold: 0.43\n",
      "Test: accuracy: 0.5365965962409973 | f1: 0.6965327858924866 | auc: 0.575515866279602 | \n"
     ]
    },
    {
     "name": "stderr",
     "output_type": "stream",
     "text": [
      "train... loss:61.58773982524872:   1%|▌                                                                                                | 31/5000 [06:28<17:15:30, 12.50s/it]"
     ]
    },
    {
     "name": "stdout",
     "output_type": "stream",
     "text": [
      "Val update: epoch: 30 |accuracy: 0.5197722315788269 | f1: 0.6828830242156982 | auc: 0.5718708038330078 | treshold: 0.41000000000000003\n",
      "Test: accuracy: 0.5360201597213745 | f1: 0.6968529224395752 | auc: 0.5756293535232544 | \n"
     ]
    },
    {
     "name": "stderr",
     "output_type": "stream",
     "text": [
      "train... loss:61.575646340847015:   1%|▌                                                                                               | 32/5000 [06:41<17:19:28, 12.55s/it]"
     ]
    },
    {
     "name": "stdout",
     "output_type": "stream",
     "text": [
      "Val update: epoch: 31 |accuracy: 0.519681990146637 | f1: 0.6828683018684387 | auc: 0.5720219016075134 | treshold: 0.43\n",
      "Test: accuracy: 0.5359702706336975 | f1: 0.6968368291854858 | auc: 0.5757808685302734 | \n"
     ]
    },
    {
     "name": "stderr",
     "output_type": "stream",
     "text": [
      "train... loss:61.54639559984207:   1%|▋                                                                                                | 35/5000 [07:17<17:01:46, 12.35s/it]"
     ]
    },
    {
     "name": "stdout",
     "output_type": "stream",
     "text": [
      "Val update: epoch: 34 |accuracy: 0.5193547010421753 | f1: 0.6828129291534424 | auc: 0.5722427368164062 | treshold: 0.39\n",
      "Test: accuracy: 0.5356543064117432 | f1: 0.6968269348144531 | auc: 0.5762165784835815 | \n"
     ]
    },
    {
     "name": "stderr",
     "output_type": "stream",
     "text": [
      "train... loss:61.56611925363541:   1%|▋                                                                                                | 36/5000 [07:30<17:14:16, 12.50s/it]"
     ]
    },
    {
     "name": "stdout",
     "output_type": "stream",
     "text": [
      "Val update: epoch: 35 |accuracy: 0.5195634961128235 | f1: 0.6828597784042358 | auc: 0.5724376440048218 | treshold: 0.42000000000000004\n",
      "Test: accuracy: 0.5358039736747742 | f1: 0.6968138217926025 | auc: 0.5764122605323792 | \n"
     ]
    },
    {
     "name": "stderr",
     "output_type": "stream",
     "text": [
      "train... loss:61.54285401105881:   1%|▋                                                                                                | 37/5000 [07:43<17:20:58, 12.58s/it]"
     ]
    },
    {
     "name": "stdout",
     "output_type": "stream",
     "text": [
      "Val update: epoch: 36 |accuracy: 0.5202970504760742 | f1: 0.6829614043235779 | auc: 0.572465181350708 | treshold: 0.42000000000000004\n",
      "Test: accuracy: 0.5363194346427917 | f1: 0.6967431902885437 | auc: 0.576380729675293 | \n"
     ]
    },
    {
     "name": "stderr",
     "output_type": "stream",
     "text": [
      "train... loss:61.55064499378204:   1%|▋                                                                                                | 38/5000 [07:55<17:20:23, 12.58s/it]"
     ]
    },
    {
     "name": "stdout",
     "output_type": "stream",
     "text": [
      "Val update: epoch: 37 |accuracy: 0.5203760266304016 | f1: 0.6829095482826233 | auc: 0.5724755525588989 | treshold: 0.41000000000000003\n",
      "Test: accuracy: 0.5364469289779663 | f1: 0.6967220902442932 | auc: 0.5763498544692993 | \n"
     ]
    },
    {
     "name": "stderr",
     "output_type": "stream",
     "text": [
      "train... loss:61.525229811668396:   1%|▋                                                                                               | 39/5000 [08:08<17:28:13, 12.68s/it]"
     ]
    },
    {
     "name": "stdout",
     "output_type": "stream",
     "text": [
      "Val update: epoch: 38 |accuracy: 0.5196593999862671 | f1: 0.682881772518158 | auc: 0.5726503729820251 | treshold: 0.41000000000000003\n",
      "Test: accuracy: 0.5358815789222717 | f1: 0.6968073844909668 | auc: 0.5765734910964966 | \n"
     ]
    },
    {
     "name": "stderr",
     "output_type": "stream",
     "text": [
      "train... loss:61.56918513774872:   1%|▊                                                                                                | 40/5000 [08:21<17:31:50, 12.72s/it]"
     ]
    },
    {
     "name": "stdout",
     "output_type": "stream",
     "text": [
      "Val update: epoch: 39 |accuracy: 0.5200205445289612 | f1: 0.6829429864883423 | auc: 0.5727773904800415 | treshold: 0.44\n",
      "Test: accuracy: 0.5360977053642273 | f1: 0.6967455148696899 | auc: 0.5767857432365417 | \n"
     ]
    },
    {
     "name": "stderr",
     "output_type": "stream",
     "text": [
      "train... loss:61.497224390506744:   1%|▉                                                                                               | 47/5000 [09:45<16:44:40, 12.17s/it]"
     ]
    },
    {
     "name": "stdout",
     "output_type": "stream",
     "text": [
      "Val update: epoch: 46 |accuracy: 0.5194957852363586 | f1: 0.6828528642654419 | auc: 0.5727969408035278 | treshold: 0.4\n",
      "Test: accuracy: 0.5358039736747742 | f1: 0.6968554854393005 | auc: 0.5765230655670166 | \n"
     ]
    },
    {
     "name": "stderr",
     "output_type": "stream",
     "text": [
      "train... loss:61.540232956409454:   1%|▉                                                                                               | 48/5000 [09:58<17:00:50, 12.37s/it]"
     ]
    },
    {
     "name": "stdout",
     "output_type": "stream",
     "text": [
      "Val update: epoch: 47 |accuracy: 0.5202010869979858 | f1: 0.6827903389930725 | auc: 0.5728652477264404 | treshold: 0.44\n",
      "Test: accuracy: 0.5364136695861816 | f1: 0.6967311501502991 | auc: 0.5765488147735596 | \n"
     ]
    },
    {
     "name": "stderr",
     "output_type": "stream",
     "text": [
      "train... loss:61.53330987691879:   1%|▉                                                                                                | 50/5000 [10:22<17:01:25, 12.38s/it]"
     ]
    },
    {
     "name": "stdout",
     "output_type": "stream",
     "text": [
      "Val update: epoch: 49 |accuracy: 0.5201898217201233 | f1: 0.6828964352607727 | auc: 0.5729759931564331 | treshold: 0.4\n",
      "Test: accuracy: 0.536280632019043 | f1: 0.6967343091964722 | auc: 0.5767204761505127 | \n"
     ]
    },
    {
     "name": "stderr",
     "output_type": "stream",
     "text": [
      "train... loss:61.494475305080414:   1%|▉                                                                                               | 51/5000 [10:35<17:06:03, 12.44s/it]"
     ]
    },
    {
     "name": "stdout",
     "output_type": "stream",
     "text": [
      "Val update: epoch: 50 |accuracy: 0.5195634961128235 | f1: 0.6828810572624207 | auc: 0.5731096267700195 | treshold: 0.4\n",
      "Test: accuracy: 0.5358704924583435 | f1: 0.6968901753425598 | auc: 0.5768113136291504 | \n"
     ]
    },
    {
     "name": "stderr",
     "output_type": "stream",
     "text": [
      "train... loss:61.492132902145386:   1%|█                                                                                               | 53/5000 [10:59<16:58:28, 12.35s/it]"
     ]
    },
    {
     "name": "stdout",
     "output_type": "stream",
     "text": [
      "Val update: epoch: 52 |accuracy: 0.5202462673187256 | f1: 0.6826923489570618 | auc: 0.5731114745140076 | treshold: 0.41000000000000003\n",
      "Test: accuracy: 0.536430299282074 | f1: 0.6966573596000671 | auc: 0.576728343963623 | \n"
     ]
    },
    {
     "name": "stderr",
     "output_type": "stream",
     "text": [
      "train... loss:61.51589369773865:   1%|█                                                                                                | 54/5000 [11:12<17:03:50, 12.42s/it]"
     ]
    },
    {
     "name": "stdout",
     "output_type": "stream",
     "text": [
      "Val update: epoch: 53 |accuracy: 0.5197497010231018 | f1: 0.6828657388687134 | auc: 0.5731312036514282 | treshold: 0.39\n",
      "Test: accuracy: 0.5358704924583435 | f1: 0.6967584490776062 | auc: 0.5767499208450317 | \n"
     ]
    },
    {
     "name": "stderr",
     "output_type": "stream",
     "text": [
      "train... loss:61.48269021511078:   1%|█▏                                                                                               | 59/5000 [12:12<16:46:05, 12.22s/it]"
     ]
    },
    {
     "name": "stdout",
     "output_type": "stream",
     "text": [
      "Val update: epoch: 58 |accuracy: 0.5196424722671509 | f1: 0.6828930377960205 | auc: 0.5733008980751038 | treshold: 0.41000000000000003\n",
      "Test: accuracy: 0.5357651710510254 | f1: 0.696780800819397 | auc: 0.5767035484313965 | \n"
     ]
    },
    {
     "name": "stderr",
     "output_type": "stream",
     "text": [
      "train... loss:61.508622109889984:   1%|█▏                                                                                              | 60/5000 [12:25<16:56:17, 12.34s/it]"
     ]
    },
    {
     "name": "stdout",
     "output_type": "stream",
     "text": [
      "Val update: epoch: 59 |accuracy: 0.5201390385627747 | f1: 0.6827836036682129 | auc: 0.5734191536903381 | treshold: 0.42000000000000004\n",
      "Test: accuracy: 0.5363471508026123 | f1: 0.696740448474884 | auc: 0.5769097805023193 | \n"
     ]
    },
    {
     "name": "stderr",
     "output_type": "stream",
     "text": [
      "train... loss:61.48763048648834:   1%|█▏                                                                                               | 61/5000 [12:38<17:08:03, 12.49s/it]"
     ]
    },
    {
     "name": "stdout",
     "output_type": "stream",
     "text": [
      "Val update: epoch: 60 |accuracy: 0.5201728940010071 | f1: 0.6830329895019531 | auc: 0.5735021233558655 | treshold: 0.38\n",
      "Test: accuracy: 0.5360866189002991 | f1: 0.6967799663543701 | auc: 0.576984167098999 | \n"
     ]
    },
    {
     "name": "stderr",
     "output_type": "stream",
     "text": [
      "train... loss:61.49505972862244:   1%|█▏                                                                                               | 61/5000 [12:50<17:20:12, 12.64s/it]"
     ]
    },
    {
     "name": "stdout",
     "output_type": "stream",
     "text": [
      "Val update: epoch: 61 |accuracy: 0.5196086168289185 | f1: 0.682877779006958 | auc: 0.5735752582550049 | treshold: 0.38\n",
      "Test: accuracy: 0.5357540845870972 | f1: 0.6968130469322205 | auc: 0.5770040154457092 | \n",
      "{'f1': 0.6968130469322205, 'roc-auc': 0.5770040154457092, 'accuracy': 0.5357540845870972}\n",
      "\n",
      " == cosmetics_20_1.pkl ==\n"
     ]
    },
    {
     "name": "stderr",
     "output_type": "stream",
     "text": [
      "\n"
     ]
    },
    {
     "name": "stdout",
     "output_type": "stream",
     "text": [
      "93094 data points among 94 batches\n",
      "\n",
      "Evaluating LogReg with neural embeddings\n",
      "Test before learning: {'f1': 0.4806472957134247, 'roc-auc': 0.5033727884292603, 'accuracy': 0.4964166283607483}\n"
     ]
    },
    {
     "name": "stderr",
     "output_type": "stream",
     "text": [
      "train... loss:65.6738993525505:   0%|                                                                                                | 1/5000 [15:32<1294:43:03, 932.38s/it]"
     ]
    },
    {
     "name": "stdout",
     "output_type": "stream",
     "text": [
      "Val update: epoch: 0 |accuracy: 0.5323876142501831 | f1: 0.6948471665382385 | auc: 0.5439015030860901 | treshold: 0.12\n",
      "Test: accuracy: 0.5364683866500854 | f1: 0.6983135938644409 | auc: 0.5476722717285156 | \n"
     ]
    },
    {
     "name": "stderr",
     "output_type": "stream",
     "text": [
      "train... loss:63.58115005493164:   0%|                                                                                                | 2/5000 [15:47<545:13:39, 392.72s/it]"
     ]
    },
    {
     "name": "stdout",
     "output_type": "stream",
     "text": [
      "Val update: epoch: 1 |accuracy: 0.5555440783500671 | f1: 0.6960638761520386 | auc: 0.5972991585731506 | treshold: 0.38\n",
      "Test: accuracy: 0.5615664720535278 | f1: 0.7003043293952942 | auc: 0.6031914949417114 | \n"
     ]
    },
    {
     "name": "stderr",
     "output_type": "stream",
     "text": [
      "train... loss:60.59352093935013:   0%|                                                                                                | 3/5000 [16:02<305:35:09, 220.15s/it]"
     ]
    },
    {
     "name": "stdout",
     "output_type": "stream",
     "text": [
      "Val update: epoch: 2 |accuracy: 0.5773822665214539 | f1: 0.6990383267402649 | auc: 0.6281077265739441 | treshold: 0.34\n",
      "Test: accuracy: 0.5840436816215515 | f1: 0.7044032216072083 | auc: 0.6326489448547363 | \n"
     ]
    },
    {
     "name": "stderr",
     "output_type": "stream",
     "text": [
      "train... loss:57.88323712348938:   0%|                                                                                                | 4/5000 [16:17<193:04:36, 139.13s/it]"
     ]
    },
    {
     "name": "stdout",
     "output_type": "stream",
     "text": [
      "Val update: epoch: 3 |accuracy: 0.5881351828575134 | f1: 0.7018818855285645 | auc: 0.639336347579956 | treshold: 0.36000000000000004\n",
      "Test: accuracy: 0.5922809839248657 | f1: 0.7057303190231323 | auc: 0.6421763896942139 | \n"
     ]
    },
    {
     "name": "stderr",
     "output_type": "stream",
     "text": [
      "train... loss:56.3807954788208:   0%|                                                                                                  | 5/5000 [16:31<130:42:53, 94.21s/it]"
     ]
    },
    {
     "name": "stdout",
     "output_type": "stream",
     "text": [
      "Val update: epoch: 4 |accuracy: 0.5912073850631714 | f1: 0.7024067640304565 | auc: 0.6400206685066223 | treshold: 0.35000000000000003\n",
      "Test: accuracy: 0.5965049862861633 | f1: 0.707350492477417 | auc: 0.6443889141082764 | \n"
     ]
    },
    {
     "name": "stderr",
     "output_type": "stream",
     "text": [
      "train... loss:55.286524534225464:   0%|                                                                                                 | 6/5000 [16:46<93:13:00, 67.20s/it]"
     ]
    },
    {
     "name": "stdout",
     "output_type": "stream",
     "text": [
      "Val update: epoch: 5 |accuracy: 0.5940045118331909 | f1: 0.7018554210662842 | auc: 0.6403261423110962 | treshold: 0.37\n",
      "Test: accuracy: 0.59807288646698 | f1: 0.7059145569801331 | auc: 0.643586277961731 | \n"
     ]
    },
    {
     "name": "stderr",
     "output_type": "stream",
     "text": [
      "train... loss:54.59932404756546:   0%|▏                                                                                                 | 7/5000 [17:01<69:25:14, 50.05s/it]"
     ]
    },
    {
     "name": "stdout",
     "output_type": "stream",
     "text": [
      "Val update: epoch: 6 |accuracy: 0.5952483415603638 | f1: 0.702459454536438 | auc: 0.6405231952667236 | treshold: 0.36000000000000004\n",
      "Test: accuracy: 0.6000678539276123 | f1: 0.7068510055541992 | auc: 0.6431310176849365 | \n"
     ]
    },
    {
     "name": "stderr",
     "output_type": "stream",
     "text": [
      "train... loss:52.18537175655365:   1%|▊                                                                                                | 44/5000 [25:46<48:22:27, 35.14s/it]\n"
     ]
    },
    {
     "name": "stdout",
     "output_type": "stream",
     "text": [
      "{'f1': 0.7068510055541992, 'roc-auc': 0.6431310176849365, 'accuracy': 0.6000678539276123}\n",
      "\n",
      "Evaluating LogReg with svd embeddings\n",
      "Test before learning: {'f1': 0.6982640027999878, 'roc-auc': 0.47514206171035767, 'accuracy': 0.536409854888916}\n"
     ]
    },
    {
     "name": "stderr",
     "output_type": "stream",
     "text": [
      "train... loss:64.91777497529984:   0%|                                                                                                  | 1/5000 [00:12<17:24:09, 12.53s/it]"
     ]
    },
    {
     "name": "stdout",
     "output_type": "stream",
     "text": [
      "Val update: epoch: 0 |accuracy: 0.5323876142501831 | f1: 0.6948471665382385 | auc: 0.5377355813980103 | treshold: 0.01\n",
      "Test: accuracy: 0.5364683866500854 | f1: 0.6983135938644409 | auc: 0.5462056994438171 | \n"
     ]
    },
    {
     "name": "stderr",
     "output_type": "stream",
     "text": [
      "train... loss:64.8508849143982:   0%|                                                                                                   | 2/5000 [00:25<17:26:00, 12.56s/it]"
     ]
    },
    {
     "name": "stdout",
     "output_type": "stream",
     "text": [
      "Val update: epoch: 1 |accuracy: 0.5323876142501831 | f1: 0.6948449015617371 | auc: 0.5461583137512207 | treshold: 0.4\n",
      "Test: accuracy: 0.5365034341812134 | f1: 0.698329508304596 | auc: 0.5507117509841919 | \n"
     ]
    },
    {
     "name": "stderr",
     "output_type": "stream",
     "text": [
      "train... loss:64.7935157418251:   0%|                                                                                                   | 3/5000 [00:37<17:24:02, 12.54s/it]"
     ]
    },
    {
     "name": "stdout",
     "output_type": "stream",
     "text": [
      "Val update: epoch: 2 |accuracy: 0.5328346490859985 | f1: 0.6949678063392639 | auc: 0.5505931377410889 | treshold: 0.43\n",
      "Test: accuracy: 0.5366672873497009 | f1: 0.6982499957084656 | auc: 0.5532149076461792 | \n"
     ]
    },
    {
     "name": "stderr",
     "output_type": "stream",
     "text": [
      "train... loss:64.75422185659409:   0%|                                                                                                  | 4/5000 [00:50<17:24:57, 12.55s/it]"
     ]
    },
    {
     "name": "stdout",
     "output_type": "stream",
     "text": [
      "Val update: epoch: 3 |accuracy: 0.532742977142334 | f1: 0.694898784160614 | auc: 0.5543906688690186 | treshold: 0.43\n",
      "Test: accuracy: 0.5365794897079468 | f1: 0.6982216238975525 | auc: 0.5556043386459351 | \n"
     ]
    },
    {
     "name": "stderr",
     "output_type": "stream",
     "text": [
      "train... loss:64.73088788986206:   0%|                                                                                                  | 5/5000 [01:02<17:25:38, 12.56s/it]"
     ]
    },
    {
     "name": "stdout",
     "output_type": "stream",
     "text": [
      "Val update: epoch: 4 |accuracy: 0.533528208732605 | f1: 0.6947088241577148 | auc: 0.556171715259552 | treshold: 0.42000000000000004\n",
      "Test: accuracy: 0.5374161005020142 | f1: 0.6979990005493164 | auc: 0.5569213628768921 | \n"
     ]
    },
    {
     "name": "stderr",
     "output_type": "stream",
     "text": [
      "train... loss:64.70211786031723:   0%|                                                                                                  | 6/5000 [01:15<17:31:19, 12.63s/it]"
     ]
    },
    {
     "name": "stdout",
     "output_type": "stream",
     "text": [
      "Val update: epoch: 5 |accuracy: 0.5328059792518616 | f1: 0.6949113607406616 | auc: 0.5582234859466553 | treshold: 0.41000000000000003\n",
      "Test: accuracy: 0.5366906523704529 | f1: 0.6982675790786743 | auc: 0.5582361817359924 | \n"
     ]
    },
    {
     "name": "stderr",
     "output_type": "stream",
     "text": [
      "train... loss:64.70626550912857:   0%|▏                                                                                                 | 7/5000 [01:28<17:29:52, 12.62s/it]"
     ]
    },
    {
     "name": "stdout",
     "output_type": "stream",
     "text": [
      "Val update: epoch: 6 |accuracy: 0.5330181121826172 | f1: 0.6949802041053772 | auc: 0.5599749088287354 | treshold: 0.38\n",
      "Test: accuracy: 0.5369948744773865 | f1: 0.6983484625816345 | auc: 0.5599800944328308 | \n"
     ]
    },
    {
     "name": "stderr",
     "output_type": "stream",
     "text": [
      "train... loss:64.69741517305374:   0%|▏                                                                                                 | 8/5000 [01:40<17:33:37, 12.66s/it]"
     ]
    },
    {
     "name": "stdout",
     "output_type": "stream",
     "text": [
      "Val update: epoch: 7 |accuracy: 0.5330066084861755 | f1: 0.6949933171272278 | auc: 0.5621085166931152 | treshold: 0.36000000000000004\n",
      "Test: accuracy: 0.5369188189506531 | f1: 0.698348343372345 | auc: 0.5614410638809204 | \n"
     ]
    },
    {
     "name": "stderr",
     "output_type": "stream",
     "text": [
      "train... loss:64.62401276826859:   0%|▏                                                                                                 | 9/5000 [01:53<17:32:14, 12.65s/it]"
     ]
    },
    {
     "name": "stdout",
     "output_type": "stream",
     "text": [
      "Val update: epoch: 8 |accuracy: 0.5326512455940247 | f1: 0.6948594450950623 | auc: 0.5638068914413452 | treshold: 0.37\n",
      "Test: accuracy: 0.5365912318229675 | f1: 0.6982406973838806 | auc: 0.5624427795410156 | \n"
     ]
    },
    {
     "name": "stderr",
     "output_type": "stream",
     "text": [
      "train... loss:64.62856024503708:   0%|▏                                                                                                | 10/5000 [02:06<17:30:47, 12.63s/it]"
     ]
    },
    {
     "name": "stdout",
     "output_type": "stream",
     "text": [
      "Val update: epoch: 9 |accuracy: 0.5330811142921448 | f1: 0.695002019405365 | auc: 0.5649169683456421 | treshold: 0.38\n",
      "Test: accuracy: 0.5371236205101013 | f1: 0.6984024047851562 | auc: 0.5637022256851196 | \n"
     ]
    },
    {
     "name": "stderr",
     "output_type": "stream",
     "text": [
      "train... loss:64.61596101522446:   0%|▏                                                                                                | 11/5000 [02:18<17:33:44, 12.67s/it]"
     ]
    },
    {
     "name": "stdout",
     "output_type": "stream",
     "text": [
      "Val update: epoch: 10 |accuracy: 0.5332530736923218 | f1: 0.6950480937957764 | auc: 0.5658352375030518 | treshold: 0.37\n",
      "Test: accuracy: 0.5372757315635681 | f1: 0.6984095573425293 | auc: 0.5648666620254517 | \n"
     ]
    },
    {
     "name": "stderr",
     "output_type": "stream",
     "text": [
      "train... loss:64.56123024225235:   0%|▏                                                                                                | 12/5000 [02:31<17:35:52, 12.70s/it]"
     ]
    },
    {
     "name": "stdout",
     "output_type": "stream",
     "text": [
      "Val update: epoch: 11 |accuracy: 0.5328690409660339 | f1: 0.6949491500854492 | auc: 0.5664803385734558 | treshold: 0.37\n",
      "Test: accuracy: 0.5369948744773865 | f1: 0.6983875036239624 | auc: 0.565078854560852 | \n"
     ]
    },
    {
     "name": "stderr",
     "output_type": "stream",
     "text": [
      "train... loss:64.61437332630157:   0%|▎                                                                                                | 13/5000 [02:44<17:36:59, 12.72s/it]"
     ]
    },
    {
     "name": "stdout",
     "output_type": "stream",
     "text": [
      "Val update: epoch: 12 |accuracy: 0.5332473516464233 | f1: 0.6950226426124573 | auc: 0.5671233534812927 | treshold: 0.42000000000000004\n",
      "Test: accuracy: 0.5373517870903015 | f1: 0.6983636617660522 | auc: 0.5654111504554749 | \n"
     ]
    },
    {
     "name": "stderr",
     "output_type": "stream",
     "text": [
      "train... loss:64.53437930345535:   0%|▎                                                                                                | 14/5000 [02:57<17:37:19, 12.72s/it]"
     ]
    },
    {
     "name": "stdout",
     "output_type": "stream",
     "text": [
      "Val update: epoch: 13 |accuracy: 0.5336256623268127 | f1: 0.6951397061347961 | auc: 0.5678448677062988 | treshold: 0.4\n",
      "Test: accuracy: 0.537556529045105 | f1: 0.6983050107955933 | auc: 0.5662841200828552 | \n"
     ]
    },
    {
     "name": "stderr",
     "output_type": "stream",
     "text": [
      "train... loss:64.56063520908356:   0%|▎                                                                                                | 15/5000 [03:10<17:42:36, 12.79s/it]"
     ]
    },
    {
     "name": "stdout",
     "output_type": "stream",
     "text": [
      "Val update: epoch: 14 |accuracy: 0.5332015156745911 | f1: 0.6950246691703796 | auc: 0.568182110786438 | treshold: 0.39\n",
      "Test: accuracy: 0.5372523069381714 | f1: 0.6983229517936707 | auc: 0.5663237571716309 | \n"
     ]
    },
    {
     "name": "stderr",
     "output_type": "stream",
     "text": [
      "train... loss:64.50950938463211:   0%|▎                                                                                                | 16/5000 [03:22<17:44:50, 12.82s/it]"
     ]
    },
    {
     "name": "stdout",
     "output_type": "stream",
     "text": [
      "Val update: epoch: 15 |accuracy: 0.5331155061721802 | f1: 0.6950039267539978 | auc: 0.5683330297470093 | treshold: 0.41000000000000003\n",
      "Test: accuracy: 0.537164568901062 | f1: 0.698331356048584 | auc: 0.5663526058197021 | \n"
     ]
    },
    {
     "name": "stderr",
     "output_type": "stream",
     "text": [
      "train... loss:64.53320854902267:   0%|▎                                                                                                | 17/5000 [03:35<17:47:16, 12.85s/it]"
     ]
    },
    {
     "name": "stdout",
     "output_type": "stream",
     "text": [
      "Val update: epoch: 16 |accuracy: 0.5344911813735962 | f1: 0.6950576305389404 | auc: 0.5687510371208191 | treshold: 0.44\n",
      "Test: accuracy: 0.5380538105964661 | f1: 0.6981120705604553 | auc: 0.5667592883110046 | \n"
     ]
    },
    {
     "name": "stderr",
     "output_type": "stream",
     "text": [
      "train... loss:64.49270331859589:   0%|▎                                                                                                | 18/5000 [03:48<17:48:22, 12.87s/it]"
     ]
    },
    {
     "name": "stdout",
     "output_type": "stream",
     "text": [
      "Val update: epoch: 17 |accuracy: 0.5339466333389282 | f1: 0.6951644420623779 | auc: 0.5690648555755615 | treshold: 0.41000000000000003\n",
      "Test: accuracy: 0.5379952788352966 | f1: 0.6984358429908752 | auc: 0.567249596118927 | \n"
     ]
    },
    {
     "name": "stderr",
     "output_type": "stream",
     "text": [
      "train... loss:64.49216258525848:   0%|▎                                                                                                | 19/5000 [04:01<17:49:25, 12.88s/it]"
     ]
    },
    {
     "name": "stdout",
     "output_type": "stream",
     "text": [
      "Val update: epoch: 18 |accuracy: 0.5332645773887634 | f1: 0.6950259208679199 | auc: 0.5692389607429504 | treshold: 0.41000000000000003\n",
      "Test: accuracy: 0.537187933921814 | f1: 0.6981900930404663 | auc: 0.5674201250076294 | \n"
     ]
    },
    {
     "name": "stderr",
     "output_type": "stream",
     "text": [
      "train... loss:64.49527662992477:   0%|▍                                                                                                | 20/5000 [04:14<17:48:49, 12.88s/it]"
     ]
    },
    {
     "name": "stdout",
     "output_type": "stream",
     "text": [
      "Val update: epoch: 19 |accuracy: 0.5338205099105835 | f1: 0.6951779723167419 | auc: 0.5695405006408691 | treshold: 0.44\n",
      "Test: accuracy: 0.5378490686416626 | f1: 0.6983968019485474 | auc: 0.5677464008331299 | \n"
     ]
    },
    {
     "name": "stderr",
     "output_type": "stream",
     "text": [
      "train... loss:64.43464875221252:   0%|▍                                                                                                | 21/5000 [04:27<17:49:12, 12.88s/it]"
     ]
    },
    {
     "name": "stdout",
     "output_type": "stream",
     "text": [
      "Val update: epoch: 20 |accuracy: 0.534216046333313 | f1: 0.6952435374259949 | auc: 0.5699338912963867 | treshold: 0.42000000000000004\n",
      "Test: accuracy: 0.5380362868309021 | f1: 0.6983946561813354 | auc: 0.5684165954589844 | \n"
     ]
    },
    {
     "name": "stderr",
     "output_type": "stream",
     "text": [
      "train... loss:64.48339080810547:   0%|▍                                                                                                | 22/5000 [04:40<17:50:40, 12.90s/it]"
     ]
    },
    {
     "name": "stdout",
     "output_type": "stream",
     "text": [
      "Val update: epoch: 21 |accuracy: 0.5337058901786804 | f1: 0.6951441764831543 | auc: 0.5701677799224854 | treshold: 0.4\n",
      "Test: accuracy: 0.5376501083374023 | f1: 0.6983153820037842 | auc: 0.568486213684082 | \n"
     ]
    },
    {
     "name": "stderr",
     "output_type": "stream",
     "text": [
      "train... loss:64.42585450410843:   0%|▍                                                                                                | 23/5000 [04:53<17:49:18, 12.89s/it]"
     ]
    },
    {
     "name": "stdout",
     "output_type": "stream",
     "text": [
      "Val update: epoch: 22 |accuracy: 0.5332416296005249 | f1: 0.6950337886810303 | auc: 0.5703046917915344 | treshold: 0.41000000000000003\n",
      "Test: accuracy: 0.5371001958847046 | f1: 0.6981570720672607 | auc: 0.5683085918426514 | \n"
     ]
    },
    {
     "name": "stderr",
     "output_type": "stream",
     "text": [
      "train... loss:64.45022511482239:   0%|▍                                                                                                | 24/5000 [05:06<17:52:38, 12.93s/it]"
     ]
    },
    {
     "name": "stdout",
     "output_type": "stream",
     "text": [
      "Val update: epoch: 23 |accuracy: 0.5341759324073792 | f1: 0.6952184438705444 | auc: 0.5704027414321899 | treshold: 0.44\n",
      "Test: accuracy: 0.5380128622055054 | f1: 0.6983770728111267 | auc: 0.568293035030365 | \n"
     ]
    },
    {
     "name": "stderr",
     "output_type": "stream",
     "text": [
      "train... loss:64.39921182394028:   0%|▍                                                                                                | 25/5000 [05:19<17:49:05, 12.89s/it]"
     ]
    },
    {
     "name": "stdout",
     "output_type": "stream",
     "text": [
      "Val update: epoch: 24 |accuracy: 0.5341988205909729 | f1: 0.695222020149231 | auc: 0.5705201625823975 | treshold: 0.41000000000000003\n",
      "Test: accuracy: 0.53807133436203 | f1: 0.6983991265296936 | auc: 0.5684943795204163 | \n"
     ]
    },
    {
     "name": "stderr",
     "output_type": "stream",
     "text": [
      "train... loss:64.43568134307861:   1%|▌                                                                                                | 26/5000 [05:32<17:48:45, 12.89s/it]"
     ]
    },
    {
     "name": "stdout",
     "output_type": "stream",
     "text": [
      "Val update: epoch: 25 |accuracy: 0.5336199402809143 | f1: 0.69511878490448 | auc: 0.5705912113189697 | treshold: 0.4\n",
      "Test: accuracy: 0.5375799536705017 | f1: 0.698285698890686 | auc: 0.5684572458267212 | \n"
     ]
    },
    {
     "name": "stderr",
     "output_type": "stream",
     "text": [
      "train... loss:64.39185321331024:   1%|▌                                                                                                | 27/5000 [05:44<17:48:55, 12.90s/it]"
     ]
    },
    {
     "name": "stdout",
     "output_type": "stream",
     "text": [
      "Val update: epoch: 26 |accuracy: 0.5332530736923218 | f1: 0.6950298547744751 | auc: 0.5706630945205688 | treshold: 0.41000000000000003\n",
      "Test: accuracy: 0.5370709300041199 | f1: 0.6981529593467712 | auc: 0.5683865547180176 | \n"
     ]
    },
    {
     "name": "stderr",
     "output_type": "stream",
     "text": [
      "train... loss:64.4235053062439:   1%|▌                                                                                                 | 28/5000 [05:57<17:47:52, 12.89s/it]"
     ]
    },
    {
     "name": "stdout",
     "output_type": "stream",
     "text": [
      "Val update: epoch: 27 |accuracy: 0.5341587066650391 | f1: 0.6952220797538757 | auc: 0.5708757638931274 | treshold: 0.43\n",
      "Test: accuracy: 0.5381123423576355 | f1: 0.6984039545059204 | auc: 0.568608820438385 | \n"
     ]
    },
    {
     "name": "stderr",
     "output_type": "stream",
     "text": [
      "train... loss:64.39333981275558:   1%|▌                                                                                                | 29/5000 [06:10<17:49:59, 12.91s/it]"
     ]
    },
    {
     "name": "stdout",
     "output_type": "stream",
     "text": [
      "Val update: epoch: 28 |accuracy: 0.5340956449508667 | f1: 0.6952322125434875 | auc: 0.5710502862930298 | treshold: 0.4\n",
      "Test: accuracy: 0.5378958582878113 | f1: 0.6983306407928467 | auc: 0.5688595771789551 | \n"
     ]
    },
    {
     "name": "stderr",
     "output_type": "stream",
     "text": [
      "train... loss:64.39602011442184:   1%|▌                                                                                                | 30/5000 [06:23<17:48:07, 12.89s/it]"
     ]
    },
    {
     "name": "stdout",
     "output_type": "stream",
     "text": [
      "Val update: epoch: 29 |accuracy: 0.5334594249725342 | f1: 0.6950801610946655 | auc: 0.5711512565612793 | treshold: 0.4\n",
      "Test: accuracy: 0.5373868942260742 | f1: 0.6982115507125854 | auc: 0.5689339637756348 | \n"
     ]
    },
    {
     "name": "stderr",
     "output_type": "stream",
     "text": [
      "train... loss:64.39199268817902:   1%|▌                                                                                                | 31/5000 [06:36<17:47:09, 12.89s/it]"
     ]
    },
    {
     "name": "stdout",
     "output_type": "stream",
     "text": [
      "Val update: epoch: 30 |accuracy: 0.5335167646408081 | f1: 0.695097029209137 | auc: 0.5711671113967896 | treshold: 0.42000000000000004\n",
      "Test: accuracy: 0.5373517870903015 | f1: 0.6981794834136963 | auc: 0.5689147710800171 | \n"
     ]
    },
    {
     "name": "stderr",
     "output_type": "stream",
     "text": [
      "train... loss:64.3649862408638:   1%|▋                                                                                                 | 32/5000 [06:49<17:45:23, 12.87s/it]"
     ]
    },
    {
     "name": "stdout",
     "output_type": "stream",
     "text": [
      "Val update: epoch: 31 |accuracy: 0.5344739556312561 | f1: 0.6953083276748657 | auc: 0.5713250637054443 | treshold: 0.42000000000000004\n",
      "Test: accuracy: 0.5381123423576355 | f1: 0.6983071565628052 | auc: 0.5690542459487915 | \n"
     ]
    },
    {
     "name": "stderr",
     "output_type": "stream",
     "text": [
      "train... loss:64.41362577676773:   1%|▋                                                                                                | 33/5000 [07:02<17:48:40, 12.91s/it]"
     ]
    },
    {
     "name": "stdout",
     "output_type": "stream",
     "text": [
      "Val update: epoch: 32 |accuracy: 0.5338950753211975 | f1: 0.6951730251312256 | auc: 0.5714589953422546 | treshold: 0.39\n",
      "Test: accuracy: 0.5377671718597412 | f1: 0.6982904076576233 | auc: 0.56913822889328 | \n"
     ]
    },
    {
     "name": "stderr",
     "output_type": "stream",
     "text": [
      "train... loss:64.38377702236176:   1%|▋                                                                                                | 35/5000 [07:27<17:31:19, 12.70s/it]"
     ]
    },
    {
     "name": "stdout",
     "output_type": "stream",
     "text": [
      "Val update: epoch: 34 |accuracy: 0.5339924693107605 | f1: 0.6952058672904968 | auc: 0.5714811086654663 | treshold: 0.43\n",
      "Test: accuracy: 0.5378432273864746 | f1: 0.6983020305633545 | auc: 0.5691516995429993 | \n"
     ]
    },
    {
     "name": "stderr",
     "output_type": "stream",
     "text": [
      "train... loss:64.33959996700287:   1%|▋                                                                                                | 36/5000 [07:40<17:40:14, 12.82s/it]"
     ]
    },
    {
     "name": "stdout",
     "output_type": "stream",
     "text": [
      "Val update: epoch: 35 |accuracy: 0.5339924693107605 | f1: 0.6951990127563477 | auc: 0.5716414451599121 | treshold: 0.4\n",
      "Test: accuracy: 0.5377905368804932 | f1: 0.6982710957527161 | auc: 0.5692852735519409 | \n"
     ]
    },
    {
     "name": "stderr",
     "output_type": "stream",
     "text": [
      "train... loss:64.3874077796936:   1%|▋                                                                                                 | 37/5000 [07:53<17:44:03, 12.86s/it]"
     ]
    },
    {
     "name": "stdout",
     "output_type": "stream",
     "text": [
      "Val update: epoch: 36 |accuracy: 0.5337575078010559 | f1: 0.6951310634613037 | auc: 0.5717363357543945 | treshold: 0.39\n",
      "Test: accuracy: 0.5376442670822144 | f1: 0.6982436180114746 | auc: 0.5693958401679993 | \n"
     ]
    },
    {
     "name": "stderr",
     "output_type": "stream",
     "text": [
      "train... loss:64.364044547081:   1%|▊                                                                                                  | 39/5000 [08:17<17:21:37, 12.60s/it]"
     ]
    },
    {
     "name": "stdout",
     "output_type": "stream",
     "text": [
      "Val update: epoch: 38 |accuracy: 0.5342676043510437 | f1: 0.695283055305481 | auc: 0.5718157291412354 | treshold: 0.43\n",
      "Test: accuracy: 0.5380070209503174 | f1: 0.6982890963554382 | auc: 0.5694850087165833 | \n"
     ]
    },
    {
     "name": "stderr",
     "output_type": "stream",
     "text": [
      "train... loss:64.32196688652039:   1%|▊                                                                                                | 40/5000 [08:30<17:29:23, 12.69s/it]"
     ]
    },
    {
     "name": "stdout",
     "output_type": "stream",
     "text": [
      "Val update: epoch: 39 |accuracy: 0.53438800573349 | f1: 0.6953194737434387 | auc: 0.5720536708831787 | treshold: 0.4\n",
      "Test: accuracy: 0.5380245447158813 | f1: 0.6982809901237488 | auc: 0.5696699619293213 | \n"
     ]
    },
    {
     "name": "stderr",
     "output_type": "stream",
     "text": [
      "train... loss:64.36283677816391:   1%|▊                                                                                                | 41/5000 [08:43<17:32:18, 12.73s/it]"
     ]
    },
    {
     "name": "stdout",
     "output_type": "stream",
     "text": [
      "Val update: epoch: 40 |accuracy: 0.5337517261505127 | f1: 0.6951627135276794 | auc: 0.5721656680107117 | treshold: 0.39\n",
      "Test: accuracy: 0.5374102592468262 | f1: 0.698155403137207 | auc: 0.5696213245391846 | \n"
     ]
    },
    {
     "name": "stderr",
     "output_type": "stream",
     "text": [
      "train... loss:64.3168420791626:   1%|▊                                                                                                 | 44/5000 [09:19<17:05:12, 12.41s/it]"
     ]
    },
    {
     "name": "stdout",
     "output_type": "stream",
     "text": [
      "Val update: epoch: 43 |accuracy: 0.5341243147850037 | f1: 0.6952361464500427 | auc: 0.5722249746322632 | treshold: 0.39\n",
      "Test: accuracy: 0.5379602313041687 | f1: 0.6983184814453125 | auc: 0.5695390701293945 | \n"
     ]
    },
    {
     "name": "stderr",
     "output_type": "stream",
     "text": [
      "train... loss:64.3288523554802:   1%|▉                                                                                                 | 45/5000 [09:32<17:18:45, 12.58s/it]"
     ]
    },
    {
     "name": "stdout",
     "output_type": "stream",
     "text": [
      "Val update: epoch: 44 |accuracy: 0.5337231159210205 | f1: 0.6951542496681213 | auc: 0.5722724795341492 | treshold: 0.39\n",
      "Test: accuracy: 0.5373927354812622 | f1: 0.6981658339500427 | auc: 0.5695694088935852 | \n"
     ]
    },
    {
     "name": "stderr",
     "output_type": "stream",
     "text": [
      "train... loss:64.32403355836868:   1%|▉                                                                                                | 46/5000 [09:45<17:26:00, 12.67s/it]"
     ]
    },
    {
     "name": "stdout",
     "output_type": "stream",
     "text": [
      "Val update: epoch: 45 |accuracy: 0.5335568785667419 | f1: 0.6951061487197876 | auc: 0.5723680257797241 | treshold: 0.41000000000000003\n",
      "Test: accuracy: 0.5372523069381714 | f1: 0.6981226205825806 | auc: 0.5697011947631836 | \n"
     ]
    },
    {
     "name": "stderr",
     "output_type": "stream",
     "text": [
      "train... loss:64.33170419931412:   1%|▉                                                                                                | 47/5000 [09:58<17:34:27, 12.77s/it]"
     ]
    },
    {
     "name": "stdout",
     "output_type": "stream",
     "text": [
      "Val update: epoch: 46 |accuracy: 0.5345083475112915 | f1: 0.6950517296791077 | auc: 0.5724136829376221 | treshold: 0.42000000000000004\n",
      "Test: accuracy: 0.5383872985839844 | f1: 0.69818115234375 | auc: 0.5698839426040649 | \n"
     ]
    },
    {
     "name": "stderr",
     "output_type": "stream",
     "text": [
      "train... loss:64.33620756864548:   1%|▉                                                                                                | 48/5000 [10:11<17:38:08, 12.82s/it]"
     ]
    },
    {
     "name": "stdout",
     "output_type": "stream",
     "text": [
      "Val update: epoch: 47 |accuracy: 0.5339065194129944 | f1: 0.6951850652694702 | auc: 0.5725337266921997 | treshold: 0.38\n",
      "Test: accuracy: 0.5376793742179871 | f1: 0.6982250213623047 | auc: 0.5700243711471558 | \n"
     ]
    },
    {
     "name": "stderr",
     "output_type": "stream",
     "text": [
      "train... loss:64.31132507324219:   1%|▉                                                                                                | 49/5000 [10:24<17:41:14, 12.86s/it]"
     ]
    },
    {
     "name": "stdout",
     "output_type": "stream",
     "text": [
      "Val update: epoch: 48 |accuracy: 0.5332473516464233 | f1: 0.6950409412384033 | auc: 0.572584867477417 | treshold: 0.38\n",
      "Test: accuracy: 0.5370767712593079 | f1: 0.6981049180030823 | auc: 0.570096492767334 | \n"
     ]
    },
    {
     "name": "stderr",
     "output_type": "stream",
     "text": [
      "train... loss:64.34708857536316:   1%|█                                                                                                | 52/5000 [11:01<17:12:23, 12.52s/it]"
     ]
    },
    {
     "name": "stdout",
     "output_type": "stream",
     "text": [
      "Val update: epoch: 51 |accuracy: 0.5342045426368713 | f1: 0.69524747133255 | auc: 0.5726709961891174 | treshold: 0.39\n",
      "Test: accuracy: 0.5379543304443359 | f1: 0.6982558965682983 | auc: 0.5700995922088623 | \n"
     ]
    },
    {
     "name": "stderr",
     "output_type": "stream",
     "text": [
      "train... loss:64.32206928730011:   1%|█                                                                                                | 56/5000 [11:49<16:59:20, 12.37s/it]"
     ]
    },
    {
     "name": "stdout",
     "output_type": "stream",
     "text": [
      "Val update: epoch: 55 |accuracy: 0.5337861180305481 | f1: 0.6951623558998108 | auc: 0.5727701187133789 | treshold: 0.38\n",
      "Test: accuracy: 0.5375272631645203 | f1: 0.6981880068778992 | auc: 0.5701189041137695 | \n"
     ]
    },
    {
     "name": "stderr",
     "output_type": "stream",
     "text": [
      "train... loss:64.30646812915802:   1%|█▏                                                                                               | 63/5000 [13:14<16:45:11, 12.22s/it]"
     ]
    },
    {
     "name": "stdout",
     "output_type": "stream",
     "text": [
      "Val update: epoch: 62 |accuracy: 0.5343994498252869 | f1: 0.6952721476554871 | auc: 0.5729833841323853 | treshold: 0.39\n",
      "Test: accuracy: 0.5382585525512695 | f1: 0.6983461976051331 | auc: 0.57057785987854 | \n"
     ]
    },
    {
     "name": "stderr",
     "output_type": "stream",
     "text": [
      "train... loss:64.28753674030304:   1%|█▏                                                                                               | 63/5000 [13:27<17:34:09, 12.81s/it]"
     ]
    },
    {
     "name": "stdout",
     "output_type": "stream",
     "text": [
      "Val update: epoch: 63 |accuracy: 0.5335855484008789 | f1: 0.6951146125793457 | auc: 0.573095977306366 | treshold: 0.39\n",
      "Test: accuracy: 0.5373225212097168 | f1: 0.6981684565544128 | auc: 0.5706876516342163 | \n",
      "{'f1': 0.6981684565544128, 'roc-auc': 0.5706876516342163, 'accuracy': 0.5373225212097168}\n",
      "\n",
      " == cosmetics_5_4.pkl ==\n"
     ]
    },
    {
     "name": "stderr",
     "output_type": "stream",
     "text": [
      "\n"
     ]
    },
    {
     "name": "stdout",
     "output_type": "stream",
     "text": [
      "121493 data points among 122 batches\n",
      "\n",
      "Evaluating LogReg with neural embeddings\n",
      "Test before learning: {'f1': 0.5431507229804993, 'roc-auc': 0.4972185790538788, 'accuracy': 0.49850937724113464}\n"
     ]
    },
    {
     "name": "stderr",
     "output_type": "stream",
     "text": [
      "train... loss:84.52011197805405:   0%|                                                                                            | 1/5000 [1:00:40<5055:10:17, 3640.45s/it]"
     ]
    },
    {
     "name": "stdout",
     "output_type": "stream",
     "text": [
      "Val update: epoch: 0 |accuracy: 0.5183924436569214 | f1: 0.6828174591064453 | auc: 0.5542773604393005 | treshold: 0.18000000000000002\n",
      "Test: accuracy: 0.4967814087867737 | f1: 0.6637995839118958 | auc: 0.5579588413238525 | \n"
     ]
    },
    {
     "name": "stderr",
     "output_type": "stream",
     "text": [
      "train... loss:81.39827746152878:   0%|                                                                                            | 2/5000 [1:00:55<2093:33:26, 1507.96s/it]"
     ]
    },
    {
     "name": "stdout",
     "output_type": "stream",
     "text": [
      "Val update: epoch: 1 |accuracy: 0.5722658038139343 | f1: 0.6854361295700073 | auc: 0.625103771686554 | treshold: 0.42000000000000004\n",
      "Test: accuracy: 0.5600136518478394 | f1: 0.6695191860198975 | auc: 0.6325184106826782 | \n"
     ]
    },
    {
     "name": "stderr",
     "output_type": "stream",
     "text": [
      "train... loss:77.12508028745651:   0%|                                                                                             | 3/5000 [1:01:11<1147:09:54, 826.45s/it]"
     ]
    },
    {
     "name": "stdout",
     "output_type": "stream",
     "text": [
      "Val update: epoch: 2 |accuracy: 0.5979838967323303 | f1: 0.6935659646987915 | auc: 0.6571481823921204 | treshold: 0.41000000000000003\n",
      "Test: accuracy: 0.5920190811157227 | f1: 0.6805486083030701 | auc: 0.6640634536743164 | \n"
     ]
    },
    {
     "name": "stderr",
     "output_type": "stream",
     "text": [
      "train... loss:73.72869157791138:   0%|                                                                                              | 4/5000 [1:01:26<702:35:55, 506.28s/it]"
     ]
    },
    {
     "name": "stdout",
     "output_type": "stream",
     "text": [
      "Val update: epoch: 3 |accuracy: 0.6094394326210022 | f1: 0.6949959397315979 | auc: 0.666904091835022 | treshold: 0.43\n",
      "Test: accuracy: 0.6054345369338989 | f1: 0.6823462843894958 | auc: 0.675703763961792 | \n"
     ]
    },
    {
     "name": "stderr",
     "output_type": "stream",
     "text": [
      "train... loss:72.27470326423645:   0%|                                                                                              | 5/5000 [1:01:42<456:54:11, 329.30s/it]"
     ]
    },
    {
     "name": "stdout",
     "output_type": "stream",
     "text": [
      "Val update: epoch: 4 |accuracy: 0.6162388324737549 | f1: 0.6934288740158081 | auc: 0.6684458255767822 | treshold: 0.43\n",
      "Test: accuracy: 0.6119476556777954 | f1: 0.6802278161048889 | auc: 0.6754856109619141 | \n"
     ]
    },
    {
     "name": "stderr",
     "output_type": "stream",
     "text": [
      "train... loss:68.66384607553482:   2%|█▋                                                                                             | 89/5000 [1:21:54<75:19:41, 55.22s/it]\n"
     ]
    },
    {
     "name": "stdout",
     "output_type": "stream",
     "text": [
      "{'f1': 0.6802278161048889, 'roc-auc': 0.6754856109619141, 'accuracy': 0.6119476556777954}\n",
      "\n",
      "Evaluating LogReg with svd embeddings\n",
      "Test before learning: {'f1': 0.004836805630475283, 'roc-auc': 0.5142009258270264, 'accuracy': 0.5038262009620667}\n"
     ]
    },
    {
     "name": "stderr",
     "output_type": "stream",
     "text": [
      "train... loss:84.61331236362457:   0%|                                                                                                  | 1/5000 [00:13<18:40:33, 13.45s/it]"
     ]
    },
    {
     "name": "stdout",
     "output_type": "stream",
     "text": [
      "Val update: epoch: 0 |accuracy: 0.5183924436569214 | f1: 0.6828174591064453 | auc: 0.5503115653991699 | treshold: 0.01\n",
      "Test: accuracy: 0.4967814087867737 | f1: 0.6637995839118958 | auc: 0.5721386671066284 | \n"
     ]
    },
    {
     "name": "stderr",
     "output_type": "stream",
     "text": [
      "train... loss:84.0894318819046:   0%|                                                                                                   | 2/5000 [00:26<18:43:24, 13.49s/it]"
     ]
    },
    {
     "name": "stdout",
     "output_type": "stream",
     "text": [
      "Val update: epoch: 1 |accuracy: 0.5183924436569214 | f1: 0.6828174591064453 | auc: 0.5560026168823242 | treshold: 0.01\n",
      "Test: accuracy: 0.4967814087867737 | f1: 0.6637995839118958 | auc: 0.5802510380744934 | \n"
     ]
    },
    {
     "name": "stderr",
     "output_type": "stream",
     "text": [
      "train... loss:83.98119831085205:   0%|                                                                                                  | 3/5000 [00:40<18:38:18, 13.43s/it]"
     ]
    },
    {
     "name": "stdout",
     "output_type": "stream",
     "text": [
      "Val update: epoch: 2 |accuracy: 0.5192743539810181 | f1: 0.6828099489212036 | auc: 0.5607084631919861 | treshold: 0.42000000000000004\n",
      "Test: accuracy: 0.4972371459007263 | f1: 0.6635961532592773 | auc: 0.5834723711013794 | \n"
     ]
    },
    {
     "name": "stderr",
     "output_type": "stream",
     "text": [
      "train... loss:83.86301696300507:   0%|                                                                                                  | 4/5000 [00:53<18:45:27, 13.52s/it]"
     ]
    },
    {
     "name": "stdout",
     "output_type": "stream",
     "text": [
      "Val update: epoch: 3 |accuracy: 0.518591582775116 | f1: 0.6828198432922363 | auc: 0.5634774565696716 | treshold: 0.35000000000000003\n",
      "Test: accuracy: 0.49693334102630615 | f1: 0.6637986898422241 | auc: 0.5829164981842041 | \n"
     ]
    },
    {
     "name": "stderr",
     "output_type": "stream",
     "text": [
      "train... loss:83.64545857906342:   0%|▏                                                                                                 | 7/5000 [01:32<18:07:22, 13.07s/it]"
     ]
    },
    {
     "name": "stdout",
     "output_type": "stream",
     "text": [
      "Val update: epoch: 6 |accuracy: 0.5184208750724792 | f1: 0.6828183531761169 | auc: 0.5636359453201294 | treshold: 0.33\n",
      "Test: accuracy: 0.4968668818473816 | f1: 0.6638374328613281 | auc: 0.5851762294769287 | \n"
     ]
    },
    {
     "name": "stderr",
     "output_type": "stream",
     "text": [
      "train... loss:83.54072403907776:   0%|▏                                                                                                | 10/5000 [02:10<17:52:31, 12.90s/it]"
     ]
    },
    {
     "name": "stdout",
     "output_type": "stream",
     "text": [
      "Val update: epoch: 9 |accuracy: 0.5183924436569214 | f1: 0.6828174591064453 | auc: 0.5650050640106201 | treshold: 0.16\n",
      "Test: accuracy: 0.4967814087867737 | f1: 0.6637995839118958 | auc: 0.5854225158691406 | \n"
     ]
    },
    {
     "name": "stderr",
     "output_type": "stream",
     "text": [
      "train... loss:83.52011579275131:   0%|▏                                                                                                | 12/5000 [02:35<17:54:15, 12.92s/it]"
     ]
    },
    {
     "name": "stdout",
     "output_type": "stream",
     "text": [
      "Val update: epoch: 11 |accuracy: 0.5185062289237976 | f1: 0.682844877243042 | auc: 0.565054178237915 | treshold: 0.31\n",
      "Test: accuracy: 0.4968573749065399 | f1: 0.66382896900177 | auc: 0.5853667259216309 | \n"
     ]
    },
    {
     "name": "stderr",
     "output_type": "stream",
     "text": [
      "train... loss:83.45352303981781:   0%|▎                                                                                                | 13/5000 [02:49<18:05:50, 13.06s/it]"
     ]
    },
    {
     "name": "stdout",
     "output_type": "stream",
     "text": [
      "Val update: epoch: 12 |accuracy: 0.51841139793396 | f1: 0.6828180551528931 | auc: 0.5656348466873169 | treshold: 0.24000000000000002\n",
      "Test: accuracy: 0.4968573749065399 | f1: 0.6638332605361938 | auc: 0.5857210159301758 | \n"
     ]
    },
    {
     "name": "stderr",
     "output_type": "stream",
     "text": [
      "train... loss:83.38565999269485:   0%|▎                                                                                                | 16/5000 [03:27<17:49:10, 12.87s/it]"
     ]
    },
    {
     "name": "stdout",
     "output_type": "stream",
     "text": [
      "Val update: epoch: 15 |accuracy: 0.5183924436569214 | f1: 0.6828174591064453 | auc: 0.5663241147994995 | treshold: 0.09999999999999999\n",
      "Test: accuracy: 0.4967814087867737 | f1: 0.6637995839118958 | auc: 0.5861865878105164 | \n"
     ]
    },
    {
     "name": "stderr",
     "output_type": "stream",
     "text": [
      "train... loss:83.34260302782059:   0%|▎                                                                                                | 19/5000 [04:05<17:46:33, 12.85s/it]"
     ]
    },
    {
     "name": "stdout",
     "output_type": "stream",
     "text": [
      "Val update: epoch: 18 |accuracy: 0.5184019207954407 | f1: 0.6828177571296692 | auc: 0.56675124168396 | treshold: 0.16\n",
      "Test: accuracy: 0.4967814087867737 | f1: 0.6637995839118958 | auc: 0.5867042541503906 | \n"
     ]
    },
    {
     "name": "stderr",
     "output_type": "stream",
     "text": [
      "train... loss:83.21516144275665:   1%|▋                                                                                                | 36/5000 [07:35<17:22:23, 12.60s/it]"
     ]
    },
    {
     "name": "stdout",
     "output_type": "stream",
     "text": [
      "Val update: epoch: 35 |accuracy: 0.5183924436569214 | f1: 0.6828174591064453 | auc: 0.5672792196273804 | treshold: 0.060000000000000005\n",
      "Test: accuracy: 0.4967814087867737 | f1: 0.6637995839118958 | auc: 0.587372899055481 | \n"
     ]
    },
    {
     "name": "stderr",
     "output_type": "stream",
     "text": [
      "train... loss:83.21452844142914:   1%|▊                                                                                                | 42/5000 [08:49<17:30:02, 12.71s/it]"
     ]
    },
    {
     "name": "stdout",
     "output_type": "stream",
     "text": [
      "Val update: epoch: 41 |accuracy: 0.5186864137649536 | f1: 0.6827713251113892 | auc: 0.5673362612724304 | treshold: 0.36000000000000004\n",
      "Test: accuracy: 0.496819406747818 | f1: 0.6635901927947998 | auc: 0.5877065062522888 | \n"
     ]
    },
    {
     "name": "stderr",
     "output_type": "stream",
     "text": [
      "train... loss:83.17832952737808:   1%|▉                                                                                                | 47/5000 [09:52<17:27:02, 12.68s/it]"
     ]
    },
    {
     "name": "stdout",
     "output_type": "stream",
     "text": [
      "Val update: epoch: 46 |accuracy: 0.5186579823493958 | f1: 0.6827744245529175 | auc: 0.5674811601638794 | treshold: 0.35000000000000003\n",
      "Test: accuracy: 0.4968288838863373 | f1: 0.6636200547218323 | auc: 0.5879173278808594 | \n"
     ]
    },
    {
     "name": "stderr",
     "output_type": "stream",
     "text": [
      "train... loss:83.16235733032227:   1%|▉                                                                                                | 50/5000 [10:30<17:34:50, 12.79s/it]"
     ]
    },
    {
     "name": "stdout",
     "output_type": "stream",
     "text": [
      "Val update: epoch: 49 |accuracy: 0.5183924436569214 | f1: 0.6828174591064453 | auc: 0.5675681829452515 | treshold: 0.060000000000000005\n",
      "Test: accuracy: 0.4967814087867737 | f1: 0.6637995839118958 | auc: 0.5881862640380859 | \n"
     ]
    },
    {
     "name": "stderr",
     "output_type": "stream",
     "text": [
      "train... loss:83.18335211277008:   1%|█                                                                                                | 53/5000 [11:08<17:32:26, 12.76s/it]"
     ]
    },
    {
     "name": "stdout",
     "output_type": "stream",
     "text": [
      "Val update: epoch: 52 |accuracy: 0.5185251832008362 | f1: 0.6827661991119385 | auc: 0.5682270526885986 | treshold: 0.32\n",
      "Test: accuracy: 0.49669596552848816 | f1: 0.6636336445808411 | auc: 0.5881386399269104 | \n"
     ]
    },
    {
     "name": "stderr",
     "output_type": "stream",
     "text": [
      "train... loss:83.18700397014618:   1%|█▏                                                                                               | 59/5000 [12:23<17:29:31, 12.74s/it]"
     ]
    },
    {
     "name": "stdout",
     "output_type": "stream",
     "text": [
      "Val update: epoch: 58 |accuracy: 0.5185346603393555 | f1: 0.6827110052108765 | auc: 0.568671703338623 | treshold: 0.34\n",
      "Test: accuracy: 0.4968288838863373 | f1: 0.663637101650238 | auc: 0.5886412858963013 | \n"
     ]
    },
    {
     "name": "stderr",
     "output_type": "stream",
     "text": [
      "train... loss:83.1991383433342:   1%|█▏                                                                                                | 62/5000 [13:01<17:30:04, 12.76s/it]"
     ]
    },
    {
     "name": "stdout",
     "output_type": "stream",
     "text": [
      "Val update: epoch: 61 |accuracy: 0.5183924436569214 | f1: 0.6828174591064453 | auc: 0.5688236355781555 | treshold: 0.060000000000000005\n",
      "Test: accuracy: 0.4967814087867737 | f1: 0.6637995839118958 | auc: 0.5886171460151672 | \n"
     ]
    },
    {
     "name": "stderr",
     "output_type": "stream",
     "text": [
      "train... loss:83.17207843065262:   1%|█▏                                                                                               | 63/5000 [13:27<17:34:01, 12.81s/it]"
     ]
    },
    {
     "name": "stdout",
     "output_type": "stream",
     "text": [
      "Val update: epoch: 63 |accuracy: 0.5183924436569214 | f1: 0.6828174591064453 | auc: 0.5688849091529846 | treshold: 0.060000000000000005\n",
      "Test: accuracy: 0.4967814087867737 | f1: 0.6637995839118958 | auc: 0.5887545347213745 | \n",
      "{'f1': 0.6637995839118958, 'roc-auc': 0.5887545347213745, 'accuracy': 0.4967814087867737}\n"
     ]
    },
    {
     "name": "stderr",
     "output_type": "stream",
     "text": [
      "\n"
     ]
    },
    {
     "name": "stdout",
     "output_type": "stream",
     "text": [
      "\n",
      " == cosmetics_20_24.pkl ==\n",
      "88804 data points among 89 batches\n",
      "\n",
      "Evaluating LogReg with neural embeddings\n",
      "Test before learning: {'f1': 0.47865378856658936, 'roc-auc': 0.49804556369781494, 'accuracy': 0.49560627341270447}\n"
     ]
    },
    {
     "name": "stderr",
     "output_type": "stream",
     "text": [
      "train... loss:62.15423130989075:   0%|                                                                                               | 1/5000 [13:39<1137:58:50, 819.51s/it]"
     ]
    },
    {
     "name": "stdout",
     "output_type": "stream",
     "text": [
      "Val update: epoch: 0 |accuracy: 0.5243965983390808 | f1: 0.6880055069923401 | auc: 0.5427712202072144 | treshold: 0.18000000000000002\n",
      "Test: accuracy: 0.5236793756484985 | f1: 0.6873878836631775 | auc: 0.5376807451248169 | \n"
     ]
    },
    {
     "name": "stderr",
     "output_type": "stream",
     "text": [
      "train... loss:60.33252716064453:   0%|                                                                                                | 2/5000 [13:53<479:54:34, 345.67s/it]"
     ]
    },
    {
     "name": "stdout",
     "output_type": "stream",
     "text": [
      "Val update: epoch: 1 |accuracy: 0.5488241910934448 | f1: 0.6884818077087402 | auc: 0.5944511890411377 | treshold: 0.4\n",
      "Test: accuracy: 0.5454146265983582 | f1: 0.6861050724983215 | auc: 0.5881386399269104 | \n"
     ]
    },
    {
     "name": "stderr",
     "output_type": "stream",
     "text": [
      "train... loss:57.314711689949036:   0%|                                                                                               | 3/5000 [14:07<269:27:48, 194.13s/it]"
     ]
    },
    {
     "name": "stdout",
     "output_type": "stream",
     "text": [
      "Val update: epoch: 2 |accuracy: 0.5738985538482666 | f1: 0.694085419178009 | auc: 0.6313112378120422 | treshold: 0.36000000000000004\n",
      "Test: accuracy: 0.5690662860870361 | f1: 0.6911326050758362 | auc: 0.6231509447097778 | \n"
     ]
    },
    {
     "name": "stderr",
     "output_type": "stream",
     "text": [
      "train... loss:54.620325326919556:   0%|                                                                                               | 4/5000 [14:20<170:31:17, 122.87s/it]"
     ]
    },
    {
     "name": "stdout",
     "output_type": "stream",
     "text": [
      "Val update: epoch: 3 |accuracy: 0.5778414011001587 | f1: 0.6987735033035278 | auc: 0.6442188024520874 | treshold: 0.34\n",
      "Test: accuracy: 0.5742321014404297 | f1: 0.6963799595832825 | auc: 0.6374925374984741 | \n"
     ]
    },
    {
     "name": "stderr",
     "output_type": "stream",
     "text": [
      "train... loss:52.91882413625717:   0%|                                                                                                 | 5/5000 [14:34<115:54:16, 83.53s/it]"
     ]
    },
    {
     "name": "stdout",
     "output_type": "stream",
     "text": [
      "Val update: epoch: 4 |accuracy: 0.593792736530304 | f1: 0.6980137825012207 | auc: 0.6481330990791321 | treshold: 0.36000000000000004\n",
      "Test: accuracy: 0.5899516940116882 | f1: 0.6947337985038757 | auc: 0.6422526240348816 | \n"
     ]
    },
    {
     "name": "stderr",
     "output_type": "stream",
     "text": [
      "train... loss:48.73682898283005:   1%|▊                                                                                                | 45/5000 [23:18<42:47:19, 31.09s/it]\n"
     ]
    },
    {
     "name": "stdout",
     "output_type": "stream",
     "text": [
      "{'f1': 0.6947337985038757, 'roc-auc': 0.6422526240348816, 'accuracy': 0.5899516940116882}\n",
      "\n",
      "Evaluating LogReg with svd embeddings\n",
      "Test before learning: {'f1': 0.6871699690818787, 'roc-auc': 0.5277149677276611, 'accuracy': 0.5234794020652771}\n"
     ]
    },
    {
     "name": "stderr",
     "output_type": "stream",
     "text": [
      "train... loss:61.43060952425003:   0%|                                                                                                  | 1/5000 [00:11<15:56:35, 11.48s/it]"
     ]
    },
    {
     "name": "stdout",
     "output_type": "stream",
     "text": [
      "Val update: epoch: 0 |accuracy: 0.5243965983390808 | f1: 0.6880055069923401 | auc: 0.5484679937362671 | treshold: 0.01\n",
      "Test: accuracy: 0.5236793756484985 | f1: 0.6873878836631775 | auc: 0.546114981174469 | \n"
     ]
    },
    {
     "name": "stderr",
     "output_type": "stream",
     "text": [
      "train... loss:61.373313665390015:   0%|                                                                                                 | 2/5000 [00:23<16:02:47, 11.56s/it]"
     ]
    },
    {
     "name": "stdout",
     "output_type": "stream",
     "text": [
      "Val update: epoch: 1 |accuracy: 0.5244359970092773 | f1: 0.6880002617835999 | auc: 0.5508548021316528 | treshold: 0.43\n",
      "Test: accuracy: 0.5237793922424316 | f1: 0.6874261498451233 | auc: 0.548367440700531 | \n"
     ]
    },
    {
     "name": "stderr",
     "output_type": "stream",
     "text": [
      "train... loss:61.317865669727325:   0%|                                                                                                 | 3/5000 [00:34<16:05:15, 11.59s/it]"
     ]
    },
    {
     "name": "stdout",
     "output_type": "stream",
     "text": [
      "Val update: epoch: 2 |accuracy: 0.5248578190803528 | f1: 0.6881285309791565 | auc: 0.5544970035552979 | treshold: 0.42000000000000004\n",
      "Test: accuracy: 0.5239182114601135 | f1: 0.687427282333374 | auc: 0.5500115752220154 | \n"
     ]
    },
    {
     "name": "stderr",
     "output_type": "stream",
     "text": [
      "train... loss:61.285182893276215:   0%|                                                                                                 | 4/5000 [00:46<16:11:05, 11.66s/it]"
     ]
    },
    {
     "name": "stdout",
     "output_type": "stream",
     "text": [
      "Val update: epoch: 3 |accuracy: 0.5248128175735474 | f1: 0.6881243586540222 | auc: 0.5582507848739624 | treshold: 0.39\n",
      "Test: accuracy: 0.5239071249961853 | f1: 0.6874268651008606 | auc: 0.5518979430198669 | \n"
     ]
    },
    {
     "name": "stderr",
     "output_type": "stream",
     "text": [
      "train... loss:61.25859224796295:   0%|                                                                                                  | 5/5000 [00:58<16:12:53, 11.69s/it]"
     ]
    },
    {
     "name": "stdout",
     "output_type": "stream",
     "text": [
      "Val update: epoch: 4 |accuracy: 0.524790346622467 | f1: 0.6881279945373535 | auc: 0.5606719255447388 | treshold: 0.39\n",
      "Test: accuracy: 0.5238015651702881 | f1: 0.6873883008956909 | auc: 0.5531756281852722 | \n"
     ]
    },
    {
     "name": "stderr",
     "output_type": "stream",
     "text": [
      "train... loss:61.21567142009735:   0%|                                                                                                  | 6/5000 [01:09<16:13:49, 11.70s/it]"
     ]
    },
    {
     "name": "stdout",
     "output_type": "stream",
     "text": [
      "Val update: epoch: 5 |accuracy: 0.5251671671867371 | f1: 0.688213050365448 | auc: 0.5614908933639526 | treshold: 0.37\n",
      "Test: accuracy: 0.5240626335144043 | f1: 0.6874719858169556 | auc: 0.5534327030181885 | \n"
     ]
    },
    {
     "name": "stderr",
     "output_type": "stream",
     "text": [
      "train... loss:61.192665100097656:   0%|▏                                                                                                | 7/5000 [01:21<16:14:53, 11.72s/it]"
     ]
    },
    {
     "name": "stdout",
     "output_type": "stream",
     "text": [
      "Val update: epoch: 6 |accuracy: 0.524846613407135 | f1: 0.6881464719772339 | auc: 0.5615906715393066 | treshold: 0.37\n",
      "Test: accuracy: 0.523807168006897 | f1: 0.6873862743377686 | auc: 0.5530647039413452 | \n"
     ]
    },
    {
     "name": "stderr",
     "output_type": "stream",
     "text": [
      "train... loss:61.138219356536865:   0%|▏                                                                                                | 9/5000 [01:44<15:58:17, 11.52s/it]"
     ]
    },
    {
     "name": "stdout",
     "output_type": "stream",
     "text": [
      "Val update: epoch: 8 |accuracy: 0.5254990458488464 | f1: 0.6883653402328491 | auc: 0.562197208404541 | treshold: 0.36000000000000004\n",
      "Test: accuracy: 0.5244237184524536 | f1: 0.6876053810119629 | auc: 0.5536926984786987 | \n"
     ]
    },
    {
     "name": "stderr",
     "output_type": "stream",
     "text": [
      "train... loss:61.1189621090889:   0%|▏                                                                                                 | 10/5000 [01:55<15:58:24, 11.52s/it]"
     ]
    },
    {
     "name": "stdout",
     "output_type": "stream",
     "text": [
      "Val update: epoch: 9 |accuracy: 0.525223433971405 | f1: 0.688300609588623 | auc: 0.5632679462432861 | treshold: 0.36000000000000004\n",
      "Test: accuracy: 0.5240682363510132 | f1: 0.6874949932098389 | auc: 0.5547792911529541 | \n"
     ]
    },
    {
     "name": "stderr",
     "output_type": "stream",
     "text": [
      "train... loss:61.12271577119827:   0%|▏                                                                                                | 11/5000 [02:07<16:07:08, 11.63s/it]"
     ]
    },
    {
     "name": "stdout",
     "output_type": "stream",
     "text": [
      "Val update: epoch: 10 |accuracy: 0.5254596471786499 | f1: 0.6883797645568848 | auc: 0.5642977952957153 | treshold: 0.39\n",
      "Test: accuracy: 0.5241792798042297 | f1: 0.6875177621841431 | auc: 0.555902361869812 | \n"
     ]
    },
    {
     "name": "stderr",
     "output_type": "stream",
     "text": [
      "train... loss:61.06512671709061:   0%|▏                                                                                                | 12/5000 [02:19<16:02:34, 11.58s/it]"
     ]
    },
    {
     "name": "stdout",
     "output_type": "stream",
     "text": [
      "Val update: epoch: 11 |accuracy: 0.525454044342041 | f1: 0.6883012056350708 | auc: 0.5652604103088379 | treshold: 0.36000000000000004\n",
      "Test: accuracy: 0.5242515206336975 | f1: 0.687470555305481 | auc: 0.5569812655448914 | \n"
     ]
    },
    {
     "name": "stderr",
     "output_type": "stream",
     "text": [
      "train... loss:61.086541175842285:   0%|▏                                                                                               | 13/5000 [02:30<15:59:11, 11.54s/it]"
     ]
    },
    {
     "name": "stdout",
     "output_type": "stream",
     "text": [
      "Val update: epoch: 12 |accuracy: 0.5251165628433228 | f1: 0.6882615089416504 | auc: 0.5658936500549316 | treshold: 0.34\n",
      "Test: accuracy: 0.5240070819854736 | f1: 0.6874628663063049 | auc: 0.5575737357139587 | \n"
     ]
    },
    {
     "name": "stderr",
     "output_type": "stream",
     "text": [
      "train... loss:61.040990352630615:   0%|▎                                                                                               | 14/5000 [02:41<15:54:30, 11.49s/it]"
     ]
    },
    {
     "name": "stdout",
     "output_type": "stream",
     "text": [
      "Val update: epoch: 13 |accuracy: 0.524846613407135 | f1: 0.6881579756736755 | auc: 0.5663591623306274 | treshold: 0.33\n",
      "Test: accuracy: 0.52387934923172 | f1: 0.6874234080314636 | auc: 0.5579240322113037 | \n"
     ]
    },
    {
     "name": "stderr",
     "output_type": "stream",
     "text": [
      "train... loss:61.059301137924194:   0%|▎                                                                                               | 15/5000 [02:53<15:56:17, 11.51s/it]"
     ]
    },
    {
     "name": "stdout",
     "output_type": "stream",
     "text": [
      "Val update: epoch: 14 |accuracy: 0.5253359079360962 | f1: 0.6883537769317627 | auc: 0.566680371761322 | treshold: 0.36000000000000004\n",
      "Test: accuracy: 0.5241681933403015 | f1: 0.6875332593917847 | auc: 0.5581866502761841 | \n"
     ]
    },
    {
     "name": "stderr",
     "output_type": "stream",
     "text": [
      "train... loss:61.00765597820282:   0%|▎                                                                                                | 16/5000 [03:05<15:57:07, 11.52s/it]"
     ]
    },
    {
     "name": "stdout",
     "output_type": "stream",
     "text": [
      "Val update: epoch: 15 |accuracy: 0.5257352590560913 | f1: 0.688488245010376 | auc: 0.5670151114463806 | treshold: 0.36000000000000004\n",
      "Test: accuracy: 0.5244737267494202 | f1: 0.6876438856124878 | auc: 0.558376133441925 | \n"
     ]
    },
    {
     "name": "stderr",
     "output_type": "stream",
     "text": [
      "train... loss:61.00875645875931:   0%|▎                                                                                                | 17/5000 [03:16<16:02:33, 11.59s/it]"
     ]
    },
    {
     "name": "stdout",
     "output_type": "stream",
     "text": [
      "Val update: epoch: 16 |accuracy: 0.525656521320343 | f1: 0.6884756684303284 | auc: 0.5674245357513428 | treshold: 0.37\n",
      "Test: accuracy: 0.5243903994560242 | f1: 0.6876313090324402 | auc: 0.5585875511169434 | \n"
     ]
    },
    {
     "name": "stderr",
     "output_type": "stream",
     "text": [
      "train... loss:61.01035815477371:   0%|▎                                                                                                | 18/5000 [03:28<16:00:57, 11.57s/it]"
     ]
    },
    {
     "name": "stdout",
     "output_type": "stream",
     "text": [
      "Val update: epoch: 17 |accuracy: 0.5257296562194824 | f1: 0.6884925961494446 | auc: 0.5676906108856201 | treshold: 0.4\n",
      "Test: accuracy: 0.5244348049163818 | f1: 0.6876468658447266 | auc: 0.5587761402130127 | \n"
     ]
    },
    {
     "name": "stderr",
     "output_type": "stream",
     "text": [
      "train... loss:60.98671251535416:   0%|▎                                                                                                | 19/5000 [03:39<16:01:24, 11.58s/it]"
     ]
    },
    {
     "name": "stdout",
     "output_type": "stream",
     "text": [
      "Val update: epoch: 18 |accuracy: 0.5259039998054504 | f1: 0.6884725093841553 | auc: 0.5679407715797424 | treshold: 0.4\n",
      "Test: accuracy: 0.5248791575431824 | f1: 0.6877313852310181 | auc: 0.5589834451675415 | \n"
     ]
    },
    {
     "name": "stderr",
     "output_type": "stream",
     "text": [
      "train... loss:60.97503024339676:   0%|▍                                                                                                | 20/5000 [03:51<16:08:01, 11.66s/it]"
     ]
    },
    {
     "name": "stdout",
     "output_type": "stream",
     "text": [
      "Val update: epoch: 19 |accuracy: 0.5261514782905579 | f1: 0.6884093880653381 | auc: 0.5680347681045532 | treshold: 0.4\n",
      "Test: accuracy: 0.5251402258872986 | f1: 0.687758207321167 | auc: 0.5590713620185852 | \n"
     ]
    },
    {
     "name": "stderr",
     "output_type": "stream",
     "text": [
      "train... loss:60.94033217430115:   0%|▍                                                                                                | 21/5000 [04:03<16:07:54, 11.66s/it]"
     ]
    },
    {
     "name": "stdout",
     "output_type": "stream",
     "text": [
      "Val update: epoch: 20 |accuracy: 0.5258252620697021 | f1: 0.6884852051734924 | auc: 0.5682072639465332 | treshold: 0.4\n",
      "Test: accuracy: 0.5247403383255005 | f1: 0.6877187490463257 | auc: 0.5592051148414612 | \n"
     ]
    },
    {
     "name": "stderr",
     "output_type": "stream",
     "text": [
      "train... loss:60.98964637517929:   0%|▍                                                                                                | 22/5000 [04:15<16:09:23, 11.68s/it]"
     ]
    },
    {
     "name": "stdout",
     "output_type": "stream",
     "text": [
      "Val update: epoch: 21 |accuracy: 0.5259321331977844 | f1: 0.6884875297546387 | auc: 0.5684517025947571 | treshold: 0.42000000000000004\n",
      "Test: accuracy: 0.5248680710792542 | f1: 0.6877263188362122 | auc: 0.5594684481620789 | \n"
     ]
    },
    {
     "name": "stderr",
     "output_type": "stream",
     "text": [
      "train... loss:60.9276704788208:   0%|▍                                                                                                 | 23/5000 [04:26<16:07:39, 11.67s/it]"
     ]
    },
    {
     "name": "stdout",
     "output_type": "stream",
     "text": [
      "Val update: epoch: 22 |accuracy: 0.5259265303611755 | f1: 0.6884573101997375 | auc: 0.5687006711959839 | treshold: 0.39\n",
      "Test: accuracy: 0.5248847603797913 | f1: 0.6877156496047974 | auc: 0.5595861673355103 | \n"
     ]
    },
    {
     "name": "stderr",
     "output_type": "stream",
     "text": [
      "train... loss:60.94034892320633:   0%|▍                                                                                                | 24/5000 [04:38<16:01:38, 11.60s/it]"
     ]
    },
    {
     "name": "stdout",
     "output_type": "stream",
     "text": [
      "Val update: epoch: 23 |accuracy: 0.5257183909416199 | f1: 0.6883954405784607 | auc: 0.5689209699630737 | treshold: 0.37\n",
      "Test: accuracy: 0.5248402953147888 | f1: 0.6877411603927612 | auc: 0.559830904006958 | \n"
     ]
    },
    {
     "name": "stderr",
     "output_type": "stream",
     "text": [
      "train... loss:60.899658381938934:   0%|▍                                                                                               | 25/5000 [04:49<16:05:35, 11.65s/it]"
     ]
    },
    {
     "name": "stdout",
     "output_type": "stream",
     "text": [
      "Val update: epoch: 24 |accuracy: 0.5255271792411804 | f1: 0.6884010434150696 | auc: 0.5692005753517151 | treshold: 0.37\n",
      "Test: accuracy: 0.5244848132133484 | f1: 0.6876762509346008 | auc: 0.5601832270622253 | \n"
     ]
    },
    {
     "name": "stderr",
     "output_type": "stream",
     "text": [
      "train... loss:60.948870837688446:   1%|▍                                                                                               | 26/5000 [05:01<16:08:41, 11.69s/it]"
     ]
    },
    {
     "name": "stdout",
     "output_type": "stream",
     "text": [
      "Val update: epoch: 25 |accuracy: 0.525740921497345 | f1: 0.6884125471115112 | auc: 0.56937175989151 | treshold: 0.41000000000000003\n",
      "Test: accuracy: 0.5247958898544312 | f1: 0.6877073645591736 | auc: 0.5604740381240845 | \n"
     ]
    },
    {
     "name": "stderr",
     "output_type": "stream",
     "text": [
      "train... loss:60.88972580432892:   1%|▌                                                                                                | 27/5000 [05:13<16:08:46, 11.69s/it]"
     ]
    },
    {
     "name": "stdout",
     "output_type": "stream",
     "text": [
      "Val update: epoch: 26 |accuracy: 0.5261683464050293 | f1: 0.6878998875617981 | auc: 0.5694445967674255 | treshold: 0.4\n",
      "Test: accuracy: 0.525590181350708 | f1: 0.687475323677063 | auc: 0.5606676340103149 | \n"
     ]
    },
    {
     "name": "stderr",
     "output_type": "stream",
     "text": [
      "train... loss:60.915303170681:   1%|▌                                                                                                  | 28/5000 [05:25<16:07:15, 11.67s/it]"
     ]
    },
    {
     "name": "stdout",
     "output_type": "stream",
     "text": [
      "Val update: epoch: 27 |accuracy: 0.5257577896118164 | f1: 0.68829345703125 | auc: 0.5694764256477356 | treshold: 0.38\n",
      "Test: accuracy: 0.525029182434082 | f1: 0.6877649426460266 | auc: 0.5607634782791138 | \n"
     ]
    },
    {
     "name": "stderr",
     "output_type": "stream",
     "text": [
      "train... loss:60.8638898730278:   1%|▌                                                                                                 | 29/5000 [05:36<16:04:02, 11.64s/it]"
     ]
    },
    {
     "name": "stdout",
     "output_type": "stream",
     "text": [
      "Val update: epoch: 28 |accuracy: 0.5255553126335144 | f1: 0.6883423924446106 | auc: 0.5696491003036499 | treshold: 0.39\n",
      "Test: accuracy: 0.5247181057929993 | f1: 0.6876859068870544 | auc: 0.5610912442207336 | \n"
     ]
    },
    {
     "name": "stderr",
     "output_type": "stream",
     "text": [
      "train... loss:60.91393554210663:   1%|▌                                                                                                | 30/5000 [05:48<16:07:54, 11.69s/it]"
     ]
    },
    {
     "name": "stdout",
     "output_type": "stream",
     "text": [
      "Val update: epoch: 29 |accuracy: 0.5257015228271484 | f1: 0.6882933378219604 | auc: 0.5698150396347046 | treshold: 0.42000000000000004\n",
      "Test: accuracy: 0.5250902771949768 | f1: 0.6877834796905518 | auc: 0.561360239982605 | \n"
     ]
    },
    {
     "name": "stderr",
     "output_type": "stream",
     "text": [
      "train... loss:60.86431747674942:   1%|▌                                                                                                | 31/5000 [05:59<16:03:39, 11.64s/it]"
     ]
    },
    {
     "name": "stdout",
     "output_type": "stream",
     "text": [
      "Val update: epoch: 30 |accuracy: 0.5259490013122559 | f1: 0.6883085370063782 | auc: 0.5699591636657715 | treshold: 0.4\n",
      "Test: accuracy: 0.525112509727478 | f1: 0.6877228021621704 | auc: 0.5614756345748901 | \n"
     ]
    },
    {
     "name": "stderr",
     "output_type": "stream",
     "text": [
      "train... loss:60.88264048099518:   1%|▌                                                                                                | 32/5000 [06:11<16:02:10, 11.62s/it]"
     ]
    },
    {
     "name": "stdout",
     "output_type": "stream",
     "text": [
      "Val update: epoch: 31 |accuracy: 0.5258139967918396 | f1: 0.6883211731910706 | auc: 0.5700594186782837 | treshold: 0.38\n",
      "Test: accuracy: 0.5251235961914062 | f1: 0.6877871155738831 | auc: 0.5615924596786499 | \n"
     ]
    },
    {
     "name": "stderr",
     "output_type": "stream",
     "text": [
      "train... loss:60.84455579519272:   1%|▋                                                                                                | 33/5000 [06:23<16:05:55, 11.67s/it]"
     ]
    },
    {
     "name": "stdout",
     "output_type": "stream",
     "text": [
      "Val update: epoch: 32 |accuracy: 0.5255777835845947 | f1: 0.6883341670036316 | auc: 0.5702266693115234 | treshold: 0.39\n",
      "Test: accuracy: 0.5248402953147888 | f1: 0.6877297759056091 | auc: 0.561927318572998 | \n"
     ]
    },
    {
     "name": "stderr",
     "output_type": "stream",
     "text": [
      "train... loss:60.87586587667465:   1%|▋                                                                                                | 34/5000 [06:35<16:13:07, 11.76s/it]"
     ]
    },
    {
     "name": "stdout",
     "output_type": "stream",
     "text": [
      "Val update: epoch: 33 |accuracy: 0.5258083939552307 | f1: 0.6883025169372559 | auc: 0.5703743100166321 | treshold: 0.42000000000000004\n",
      "Test: accuracy: 0.5250791311264038 | f1: 0.687746524810791 | auc: 0.5621917247772217 | \n"
     ]
    },
    {
     "name": "stderr",
     "output_type": "stream",
     "text": [
      "train... loss:60.82844132184982:   1%|▋                                                                                                | 35/5000 [06:47<16:17:04, 11.81s/it]"
     ]
    },
    {
     "name": "stdout",
     "output_type": "stream",
     "text": [
      "Val update: epoch: 34 |accuracy: 0.5261796116828918 | f1: 0.6878818273544312 | auc: 0.5704500675201416 | treshold: 0.4\n",
      "Test: accuracy: 0.5257512927055359 | f1: 0.6874910593032837 | auc: 0.5621976852416992 | \n"
     ]
    },
    {
     "name": "stderr",
     "output_type": "stream",
     "text": [
      "train... loss:60.86558300256729:   1%|▋                                                                                                | 36/5000 [06:58<16:16:20, 11.80s/it]"
     ]
    },
    {
     "name": "stdout",
     "output_type": "stream",
     "text": [
      "Val update: epoch: 35 |accuracy: 0.525887131690979 | f1: 0.6883150935173035 | auc: 0.5705674886703491 | treshold: 0.38\n",
      "Test: accuracy: 0.5251680016517639 | f1: 0.6877753138542175 | auc: 0.5623790621757507 | \n"
     ]
    },
    {
     "name": "stderr",
     "output_type": "stream",
     "text": [
      "train... loss:60.822307884693146:   1%|▋                                                                                               | 37/5000 [07:10<16:17:52, 11.82s/it]"
     ]
    },
    {
     "name": "stdout",
     "output_type": "stream",
     "text": [
      "Val update: epoch: 36 |accuracy: 0.5256115198135376 | f1: 0.6883586049079895 | auc: 0.5706864595413208 | treshold: 0.38\n",
      "Test: accuracy: 0.5246514678001404 | f1: 0.6876649260520935 | auc: 0.5627599954605103 | \n"
     ]
    },
    {
     "name": "stderr",
     "output_type": "stream",
     "text": [
      "train... loss:60.839570343494415:   1%|▋                                                                                               | 38/5000 [07:22<16:17:13, 11.82s/it]"
     ]
    },
    {
     "name": "stdout",
     "output_type": "stream",
     "text": [
      "Val update: epoch: 37 |accuracy: 0.525858998298645 | f1: 0.6883300542831421 | auc: 0.5707371234893799 | treshold: 0.41000000000000003\n",
      "Test: accuracy: 0.525184690952301 | f1: 0.6878010630607605 | auc: 0.5628581047058105 | \n"
     ]
    },
    {
     "name": "stderr",
     "output_type": "stream",
     "text": [
      "train... loss:60.794484198093414:   1%|▊                                                                                               | 41/5000 [07:56<15:48:39, 11.48s/it]"
     ]
    },
    {
     "name": "stdout",
     "output_type": "stream",
     "text": [
      "Val update: epoch: 40 |accuracy: 0.5256959199905396 | f1: 0.6883369088172913 | auc: 0.5708031058311462 | treshold: 0.39\n",
      "Test: accuracy: 0.5248569846153259 | f1: 0.6877030730247498 | auc: 0.5630112886428833 | \n"
     ]
    },
    {
     "name": "stderr",
     "output_type": "stream",
     "text": [
      "train... loss:60.84054046869278:   1%|▊                                                                                                | 42/5000 [08:08<16:01:52, 11.64s/it]"
     ]
    },
    {
     "name": "stdout",
     "output_type": "stream",
     "text": [
      "Val update: epoch: 41 |accuracy: 0.5260558724403381 | f1: 0.6883108019828796 | auc: 0.5708714127540588 | treshold: 0.42000000000000004\n",
      "Test: accuracy: 0.525112509727478 | f1: 0.6876429319381714 | auc: 0.5630739331245422 | \n"
     ]
    },
    {
     "name": "stderr",
     "output_type": "stream",
     "text": [
      "train... loss:60.785196244716644:   1%|▊                                                                                               | 43/5000 [08:19<16:07:10, 11.71s/it]"
     ]
    },
    {
     "name": "stdout",
     "output_type": "stream",
     "text": [
      "Val update: epoch: 42 |accuracy: 0.5262583494186401 | f1: 0.6878851652145386 | auc: 0.5709348917007446 | treshold: 0.39\n",
      "Test: accuracy: 0.5255457162857056 | f1: 0.6873567700386047 | auc: 0.5630936622619629 | \n"
     ]
    },
    {
     "name": "stderr",
     "output_type": "stream",
     "text": [
      "train... loss:60.820432901382446:   1%|▊                                                                                               | 44/5000 [08:32<16:18:03, 11.84s/it]"
     ]
    },
    {
     "name": "stdout",
     "output_type": "stream",
     "text": [
      "Val update: epoch: 43 |accuracy: 0.5259546041488647 | f1: 0.6883317828178406 | auc: 0.5709456205368042 | treshold: 0.38\n",
      "Test: accuracy: 0.5250791311264038 | f1: 0.6876872181892395 | auc: 0.5633031129837036 | \n"
     ]
    },
    {
     "name": "stderr",
     "output_type": "stream",
     "text": [
      "train... loss:60.808882653713226:   1%|▉                                                                                               | 48/5000 [09:16<15:42:28, 11.42s/it]"
     ]
    },
    {
     "name": "stdout",
     "output_type": "stream",
     "text": [
      "Val update: epoch: 47 |accuracy: 0.5258646607398987 | f1: 0.6883095502853394 | auc: 0.570990264415741 | treshold: 0.37\n",
      "Test: accuracy: 0.5250902771949768 | f1: 0.6877515316009521 | auc: 0.5637671947479248 | \n"
     ]
    },
    {
     "name": "stderr",
     "output_type": "stream",
     "text": [
      "train... loss:60.76496601104736:   1%|▉                                                                                                | 49/5000 [09:28<15:50:17, 11.52s/it]"
     ]
    },
    {
     "name": "stdout",
     "output_type": "stream",
     "text": [
      "Val update: epoch: 48 |accuracy: 0.5257802605628967 | f1: 0.6883335709571838 | auc: 0.5710417628288269 | treshold: 0.39\n",
      "Test: accuracy: 0.5249902606010437 | f1: 0.6877359747886658 | auc: 0.5640368461608887 | \n"
     ]
    },
    {
     "name": "stderr",
     "output_type": "stream",
     "text": [
      "train... loss:60.79442471265793:   1%|▉                                                                                                | 50/5000 [09:40<16:00:25, 11.64s/it]"
     ]
    },
    {
     "name": "stdout",
     "output_type": "stream",
     "text": [
      "Val update: epoch: 49 |accuracy: 0.5261402726173401 | f1: 0.6883143782615662 | auc: 0.5710845589637756 | treshold: 0.41000000000000003\n",
      "Test: accuracy: 0.525112509727478 | f1: 0.6876087188720703 | auc: 0.5640183687210083 | \n"
     ]
    },
    {
     "name": "stderr",
     "output_type": "stream",
     "text": [
      "train... loss:60.762116730213165:   1%|▉                                                                                               | 51/5000 [09:52<16:02:47, 11.67s/it]"
     ]
    },
    {
     "name": "stdout",
     "output_type": "stream",
     "text": [
      "Val update: epoch: 50 |accuracy: 0.5259265303611755 | f1: 0.6882429718971252 | auc: 0.5711230039596558 | treshold: 0.37\n",
      "Test: accuracy: 0.5250569581985474 | f1: 0.6876451969146729 | auc: 0.563862681388855 | \n"
     ]
    },
    {
     "name": "stderr",
     "output_type": "stream",
     "text": [
      "train... loss:60.76667332649231:   1%|█                                                                                                | 55/5000 [10:37<15:53:19, 11.57s/it]"
     ]
    },
    {
     "name": "stdout",
     "output_type": "stream",
     "text": [
      "Val update: epoch: 54 |accuracy: 0.5264833569526672 | f1: 0.6878806948661804 | auc: 0.5711255073547363 | treshold: 0.39\n",
      "Test: accuracy: 0.5257346034049988 | f1: 0.6872981190681458 | auc: 0.564051628112793 | \n"
     ]
    },
    {
     "name": "stderr",
     "output_type": "stream",
     "text": [
      "train... loss:60.767620742321014:   2%|█▊                                                                                              | 94/5000 [17:56<15:36:25, 11.45s/it]\n"
     ]
    },
    {
     "name": "stdout",
     "output_type": "stream",
     "text": [
      "{'f1': 0.6872981190681458, 'roc-auc': 0.564051628112793, 'accuracy': 0.5257346034049988}\n",
      "\n",
      " == cosmetics_20_2.pkl ==\n",
      "90225 data points among 90 batches\n",
      "\n",
      "Evaluating LogReg with neural embeddings\n",
      "Test before learning: {'f1': 0.5532285571098328, 'roc-auc': 0.5006953477859497, 'accuracy': 0.5054828524589539}\n"
     ]
    },
    {
     "name": "stderr",
     "output_type": "stream",
     "text": [
      "train... loss:62.57113927602768:   0%|                                                                                               | 1/5000 [14:04<1172:14:20, 844.18s/it]"
     ]
    },
    {
     "name": "stdout",
     "output_type": "stream",
     "text": [
      "Val update: epoch: 0 |accuracy: 0.5245752930641174 | f1: 0.6881592869758606 | auc: 0.5356482863426208 | treshold: 0.21000000000000002\n",
      "Test: accuracy: 0.5245919823646545 | f1: 0.6881735920906067 | auc: 0.5327925682067871 | \n"
     ]
    },
    {
     "name": "stderr",
     "output_type": "stream",
     "text": [
      "train... loss:61.10937184095383:   0%|                                                                                                | 2/5000 [14:18<494:17:25, 356.03s/it]"
     ]
    },
    {
     "name": "stdout",
     "output_type": "stream",
     "text": [
      "Val update: epoch: 1 |accuracy: 0.5441415905952454 | f1: 0.6895577311515808 | auc: 0.5953245162963867 | treshold: 0.37\n",
      "Test: accuracy: 0.5418270230293274 | f1: 0.6881989240646362 | auc: 0.5915234088897705 | \n"
     ]
    },
    {
     "name": "stderr",
     "output_type": "stream",
     "text": [
      "train... loss:58.592391550540924:   0%|                                                                                               | 3/5000 [14:32<277:29:47, 199.92s/it]"
     ]
    },
    {
     "name": "stdout",
     "output_type": "stream",
     "text": [
      "Val update: epoch: 2 |accuracy: 0.5709347128868103 | f1: 0.6937978863716125 | auc: 0.6285058259963989 | treshold: 0.35000000000000003\n",
      "Test: accuracy: 0.568488359451294 | f1: 0.6921399235725403 | auc: 0.6280362010002136 | \n"
     ]
    },
    {
     "name": "stderr",
     "output_type": "stream",
     "text": [
      "train... loss:55.49308717250824:   0%|                                                                                                | 4/5000 [14:46<175:35:47, 126.53s/it]"
     ]
    },
    {
     "name": "stdout",
     "output_type": "stream",
     "text": [
      "Val update: epoch: 3 |accuracy: 0.5795823931694031 | f1: 0.6984428763389587 | auc: 0.642578661441803 | treshold: 0.35000000000000003\n",
      "Test: accuracy: 0.5785783529281616 | f1: 0.6977667212486267 | auc: 0.6408818960189819 | \n"
     ]
    },
    {
     "name": "stderr",
     "output_type": "stream",
     "text": [
      "train... loss:53.792715430259705:   0%|                                                                                                | 5/5000 [15:00<119:13:34, 85.93s/it]"
     ]
    },
    {
     "name": "stdout",
     "output_type": "stream",
     "text": [
      "Val update: epoch: 4 |accuracy: 0.5961784720420837 | f1: 0.6982133984565735 | auc: 0.6497580409049988 | treshold: 0.37\n",
      "Test: accuracy: 0.5944133996963501 | f1: 0.6969813108444214 | auc: 0.6479302644729614 | \n"
     ]
    },
    {
     "name": "stderr",
     "output_type": "stream",
     "text": [
      "train... loss:49.53760975599289:   1%|█                                                                                                | 55/5000 [26:16<39:22:46, 28.67s/it]\n"
     ]
    },
    {
     "name": "stdout",
     "output_type": "stream",
     "text": [
      "{'f1': 0.6969813108444214, 'roc-auc': 0.6479302644729614, 'accuracy': 0.5944133996963501}\n",
      "\n",
      "Evaluating LogReg with svd embeddings\n",
      "Test before learning: {'f1': 0.6769554018974304, 'roc-auc': 0.481897234916687, 'accuracy': 0.5180493593215942}\n"
     ]
    },
    {
     "name": "stderr",
     "output_type": "stream",
     "text": [
      "train... loss:62.23423993587494:   0%|                                                                                                  | 1/5000 [00:12<16:46:53, 12.09s/it]"
     ]
    },
    {
     "name": "stdout",
     "output_type": "stream",
     "text": [
      "Val update: epoch: 0 |accuracy: 0.5245752930641174 | f1: 0.6881592869758606 | auc: 0.5502514839172363 | treshold: 0.01\n",
      "Test: accuracy: 0.5245919823646545 | f1: 0.6881735920906067 | auc: 0.5501774549484253 | \n"
     ]
    },
    {
     "name": "stderr",
     "output_type": "stream",
     "text": [
      "train... loss:62.075312435626984:   0%|                                                                                                 | 2/5000 [00:24<16:44:20, 12.06s/it]"
     ]
    },
    {
     "name": "stdout",
     "output_type": "stream",
     "text": [
      "Val update: epoch: 1 |accuracy: 0.5245752930641174 | f1: 0.6881592869758606 | auc: 0.5568519234657288 | treshold: 0.01\n",
      "Test: accuracy: 0.5245919823646545 | f1: 0.6881735920906067 | auc: 0.5546348094940186 | \n"
     ]
    },
    {
     "name": "stderr",
     "output_type": "stream",
     "text": [
      "train... loss:61.973279893398285:   0%|                                                                                                 | 4/5000 [00:47<16:34:44, 11.95s/it]"
     ]
    },
    {
     "name": "stdout",
     "output_type": "stream",
     "text": [
      "Val update: epoch: 3 |accuracy: 0.5248158574104309 | f1: 0.6882151961326599 | auc: 0.5582989454269409 | treshold: 0.37\n",
      "Test: accuracy: 0.5246310234069824 | f1: 0.6881319284439087 | auc: 0.5555077791213989 | \n"
     ]
    },
    {
     "name": "stderr",
     "output_type": "stream",
     "text": [
      "train... loss:61.996317744255066:   0%|                                                                                                 | 5/5000 [00:59<16:41:27, 12.03s/it]"
     ]
    },
    {
     "name": "stdout",
     "output_type": "stream",
     "text": [
      "Val update: epoch: 4 |accuracy: 0.5250003933906555 | f1: 0.6882894039154053 | auc: 0.5620037913322449 | treshold: 0.38\n",
      "Test: accuracy: 0.5248708724975586 | f1: 0.6882059574127197 | auc: 0.5588565468788147 | \n"
     ]
    },
    {
     "name": "stderr",
     "output_type": "stream",
     "text": [
      "train... loss:61.89923274517059:   0%|                                                                                                  | 6/5000 [01:12<16:46:54, 12.10s/it]"
     ]
    },
    {
     "name": "stdout",
     "output_type": "stream",
     "text": [
      "Val update: epoch: 5 |accuracy: 0.5249948501586914 | f1: 0.6882960796356201 | auc: 0.5643645524978638 | treshold: 0.4\n",
      "Test: accuracy: 0.5248652696609497 | f1: 0.688219428062439 | auc: 0.5611491799354553 | \n"
     ]
    },
    {
     "name": "stderr",
     "output_type": "stream",
     "text": [
      "train... loss:61.919238209724426:   0%|▏                                                                                                | 7/5000 [01:24<16:51:55, 12.16s/it]"
     ]
    },
    {
     "name": "stdout",
     "output_type": "stream",
     "text": [
      "Val update: epoch: 6 |accuracy: 0.5256325006484985 | f1: 0.6880779266357422 | auc: 0.5663213729858398 | treshold: 0.43\n",
      "Test: accuracy: 0.5255401730537415 | f1: 0.6879736185073853 | auc: 0.5628226399421692 | \n"
     ]
    },
    {
     "name": "stderr",
     "output_type": "stream",
     "text": [
      "train... loss:61.84806787967682:   0%|▏                                                                                                 | 8/5000 [01:36<16:52:49, 12.17s/it]"
     ]
    },
    {
     "name": "stdout",
     "output_type": "stream",
     "text": [
      "Val update: epoch: 7 |accuracy: 0.5253080725669861 | f1: 0.6883139610290527 | auc: 0.5682383179664612 | treshold: 0.39\n",
      "Test: accuracy: 0.5254286527633667 | f1: 0.6883118748664856 | auc: 0.5640280246734619 | \n"
     ]
    },
    {
     "name": "stderr",
     "output_type": "stream",
     "text": [
      "train... loss:61.858276426792145:   0%|▏                                                                                                | 9/5000 [01:48<16:54:28, 12.20s/it]"
     ]
    },
    {
     "name": "stdout",
     "output_type": "stream",
     "text": [
      "Val update: epoch: 8 |accuracy: 0.5251961946487427 | f1: 0.6882886290550232 | auc: 0.5694248080253601 | treshold: 0.38\n",
      "Test: accuracy: 0.5253728628158569 | f1: 0.6883049607276917 | auc: 0.5650750398635864 | \n"
     ]
    },
    {
     "name": "stderr",
     "output_type": "stream",
     "text": [
      "train... loss:61.80134856700897:   0%|▏                                                                                                | 10/5000 [02:01<16:55:38, 12.21s/it]"
     ]
    },
    {
     "name": "stdout",
     "output_type": "stream",
     "text": [
      "Val update: epoch: 9 |accuracy: 0.5249165296554565 | f1: 0.6881897449493408 | auc: 0.5701602697372437 | treshold: 0.39\n",
      "Test: accuracy: 0.5249824523925781 | f1: 0.6882038712501526 | auc: 0.5661760568618774 | \n"
     ]
    },
    {
     "name": "stderr",
     "output_type": "stream",
     "text": [
      "train... loss:61.825589537620544:   0%|▏                                                                                               | 11/5000 [02:13<17:00:34, 12.27s/it]"
     ]
    },
    {
     "name": "stdout",
     "output_type": "stream",
     "text": [
      "Val update: epoch: 10 |accuracy: 0.525179386138916 | f1: 0.688276469707489 | auc: 0.5707323551177979 | treshold: 0.41000000000000003\n",
      "Test: accuracy: 0.525344967842102 | f1: 0.6882649064064026 | auc: 0.5667848587036133 | \n"
     ]
    },
    {
     "name": "stderr",
     "output_type": "stream",
     "text": [
      "train... loss:61.76363182067871:   0%|▏                                                                                                | 12/5000 [02:25<17:02:35, 12.30s/it]"
     ]
    },
    {
     "name": "stdout",
     "output_type": "stream",
     "text": [
      "Val update: epoch: 11 |accuracy: 0.5254423022270203 | f1: 0.6883517503738403 | auc: 0.5712497234344482 | treshold: 0.4\n",
      "Test: accuracy: 0.5256963968276978 | f1: 0.6883278489112854 | auc: 0.5673447251319885 | \n"
     ]
    },
    {
     "name": "stderr",
     "output_type": "stream",
     "text": [
      "train... loss:61.77535104751587:   0%|▎                                                                                                | 13/5000 [02:38<17:04:20, 12.32s/it]"
     ]
    },
    {
     "name": "stdout",
     "output_type": "stream",
     "text": [
      "Val update: epoch: 12 |accuracy: 0.5252130031585693 | f1: 0.6882870197296143 | auc: 0.5718280076980591 | treshold: 0.39\n",
      "Test: accuracy: 0.5252668857574463 | f1: 0.6881908178329468 | auc: 0.5679856538772583 | \n"
     ]
    },
    {
     "name": "stderr",
     "output_type": "stream",
     "text": [
      "train... loss:61.72827106714249:   0%|▎                                                                                                | 14/5000 [02:50<17:03:13, 12.31s/it]"
     ]
    },
    {
     "name": "stdout",
     "output_type": "stream",
     "text": [
      "Val update: epoch: 13 |accuracy: 0.5250787138938904 | f1: 0.6882447004318237 | auc: 0.5723241567611694 | treshold: 0.4\n",
      "Test: accuracy: 0.5249378085136414 | f1: 0.688099205493927 | auc: 0.5686741471290588 | \n"
     ]
    },
    {
     "name": "stderr",
     "output_type": "stream",
     "text": [
      "train... loss:61.763121604919434:   0%|▎                                                                                               | 15/5000 [03:02<17:03:01, 12.31s/it]"
     ]
    },
    {
     "name": "stdout",
     "output_type": "stream",
     "text": [
      "Val update: epoch: 14 |accuracy: 0.5254199504852295 | f1: 0.6883576512336731 | auc: 0.5731093883514404 | treshold: 0.42000000000000004\n",
      "Test: accuracy: 0.5254175066947937 | f1: 0.6882109045982361 | auc: 0.5695545673370361 | \n"
     ]
    },
    {
     "name": "stderr",
     "output_type": "stream",
     "text": [
      "train... loss:61.686303794384:   0%|▎                                                                                                  | 16/5000 [03:15<17:05:37, 12.35s/it]"
     ]
    },
    {
     "name": "stdout",
     "output_type": "stream",
     "text": [
      "Val update: epoch: 15 |accuracy: 0.5254310965538025 | f1: 0.688362717628479 | auc: 0.5737372040748596 | treshold: 0.39\n",
      "Test: accuracy: 0.5253840088844299 | f1: 0.6881935000419617 | auc: 0.5702444911003113 | \n"
     ]
    },
    {
     "name": "stderr",
     "output_type": "stream",
     "text": [
      "train... loss:61.72890371084213:   0%|▎                                                                                                | 17/5000 [03:27<17:05:21, 12.35s/it]"
     ]
    },
    {
     "name": "stdout",
     "output_type": "stream",
     "text": [
      "Val update: epoch: 16 |accuracy: 0.5254255533218384 | f1: 0.6883624792098999 | auc: 0.5742226839065552 | treshold: 0.39\n",
      "Test: accuracy: 0.5253505706787109 | f1: 0.6881943345069885 | auc: 0.5709728002548218 | \n"
     ]
    },
    {
     "name": "stderr",
     "output_type": "stream",
     "text": [
      "train... loss:61.66433274745941:   0%|▎                                                                                                | 18/5000 [03:40<17:09:50, 12.40s/it]"
     ]
    },
    {
     "name": "stdout",
     "output_type": "stream",
     "text": [
      "Val update: epoch: 17 |accuracy: 0.5249276757240295 | f1: 0.6882039308547974 | auc: 0.5743643045425415 | treshold: 0.38\n",
      "Test: accuracy: 0.5246924161911011 | f1: 0.6880066394805908 | auc: 0.5712316036224365 | \n"
     ]
    },
    {
     "name": "stderr",
     "output_type": "stream",
     "text": [
      "train... loss:61.69754993915558:   0%|▎                                                                                                | 19/5000 [03:52<17:02:50, 12.32s/it]"
     ]
    },
    {
     "name": "stdout",
     "output_type": "stream",
     "text": [
      "Val update: epoch: 18 |accuracy: 0.525811493396759 | f1: 0.6884568929672241 | auc: 0.5747264623641968 | treshold: 0.43\n",
      "Test: accuracy: 0.5256907939910889 | f1: 0.6882522106170654 | auc: 0.57170569896698 | \n"
     ]
    },
    {
     "name": "stderr",
     "output_type": "stream",
     "text": [
      "train... loss:61.64522296190262:   0%|▍                                                                                                | 20/5000 [04:04<17:07:00, 12.37s/it]"
     ]
    },
    {
     "name": "stdout",
     "output_type": "stream",
     "text": [
      "Val update: epoch: 19 |accuracy: 0.5262086391448975 | f1: 0.6885793209075928 | auc: 0.5751502513885498 | treshold: 0.41000000000000003\n",
      "Test: accuracy: 0.52568519115448 | f1: 0.6881513595581055 | auc: 0.5720813274383545 | \n"
     ]
    },
    {
     "name": "stderr",
     "output_type": "stream",
     "text": [
      "train... loss:61.66485959291458:   0%|▍                                                                                                | 21/5000 [04:17<17:05:54, 12.36s/it]"
     ]
    },
    {
     "name": "stdout",
     "output_type": "stream",
     "text": [
      "Val update: epoch: 20 |accuracy: 0.5260240435600281 | f1: 0.6885644793510437 | auc: 0.5752639770507812 | treshold: 0.4\n",
      "Test: accuracy: 0.5256907939910889 | f1: 0.6882933378219604 | auc: 0.5722308158874512 | \n"
     ]
    },
    {
     "name": "stderr",
     "output_type": "stream",
     "text": [
      "train... loss:61.63361203670502:   0%|▍                                                                                                | 22/5000 [04:29<17:07:44, 12.39s/it]"
     ]
    },
    {
     "name": "stdout",
     "output_type": "stream",
     "text": [
      "Val update: epoch: 21 |accuracy: 0.5255038142204285 | f1: 0.6884161829948425 | auc: 0.5752941966056824 | treshold: 0.41000000000000003\n",
      "Test: accuracy: 0.525344967842102 | f1: 0.6882169246673584 | auc: 0.5724022388458252 | \n"
     ]
    },
    {
     "name": "stderr",
     "output_type": "stream",
     "text": [
      "train... loss:61.64736586809158:   0%|▍                                                                                                | 23/5000 [04:42<17:13:01, 12.45s/it]"
     ]
    },
    {
     "name": "stdout",
     "output_type": "stream",
     "text": [
      "Val update: epoch: 22 |accuracy: 0.5264267921447754 | f1: 0.6886299848556519 | auc: 0.5754382610321045 | treshold: 0.43\n",
      "Test: accuracy: 0.5256685018539429 | f1: 0.6881049275398254 | auc: 0.5726186037063599 | \n"
     ]
    },
    {
     "name": "stderr",
     "output_type": "stream",
     "text": [
      "train... loss:61.60484480857849:   0%|▍                                                                                                | 24/5000 [04:54<17:12:49, 12.45s/it]"
     ]
    },
    {
     "name": "stdout",
     "output_type": "stream",
     "text": [
      "Val update: epoch: 23 |accuracy: 0.5263932347297668 | f1: 0.6886101961135864 | auc: 0.5754501819610596 | treshold: 0.4\n",
      "Test: accuracy: 0.5256573557853699 | f1: 0.6881113052368164 | auc: 0.572800874710083 | \n"
     ]
    },
    {
     "name": "stderr",
     "output_type": "stream",
     "text": [
      "train... loss:61.50033229589462:   1%|█▏                                                                                               | 63/5000 [12:35<16:26:34, 11.99s/it]\n"
     ]
    },
    {
     "name": "stdout",
     "output_type": "stream",
     "text": [
      "{'f1': 0.6881113052368164, 'roc-auc': 0.572800874710083, 'accuracy': 0.5256573557853699}\n",
      "\n",
      " == cosmetics_10_2.pkl ==\n",
      "115407 data points among 117 batches\n",
      "\n",
      "Evaluating LogReg with neural embeddings\n",
      "Test before learning: {'f1': 0.554220974445343, 'roc-auc': 0.4978613555431366, 'accuracy': 0.5058721303939819}\n"
     ]
    },
    {
     "name": "stderr",
     "output_type": "stream",
     "text": [
      "train... loss:81.17746031284332:   0%|                                                                                              | 1/5000 [29:30<2458:50:11, 1770.72s/it]"
     ]
    },
    {
     "name": "stdout",
     "output_type": "stream",
     "text": [
      "Val update: epoch: 0 |accuracy: 0.5264711976051331 | f1: 0.6897885799407959 | auc: 0.5435337424278259 | treshold: 0.17\n",
      "Test: accuracy: 0.5359230041503906 | f1: 0.6978514194488525 | auc: 0.5431305170059204 | \n"
     ]
    },
    {
     "name": "stderr",
     "output_type": "stream",
     "text": [
      "train... loss:78.23326432704926:   0%|                                                                                               | 2/5000 [29:45<1024:25:25, 737.88s/it]"
     ]
    },
    {
     "name": "stdout",
     "output_type": "stream",
     "text": [
      "Val update: epoch: 1 |accuracy: 0.562734842300415 | f1: 0.692225456237793 | auc: 0.607083261013031 | treshold: 0.38\n",
      "Test: accuracy: 0.570761501789093 | f1: 0.6988939642906189 | auc: 0.6082023978233337 | \n"
     ]
    },
    {
     "name": "stderr",
     "output_type": "stream",
     "text": [
      "train... loss:74.1804912686348:   0%|                                                                                                 | 3/5000 [30:00<565:53:59, 407.69s/it]"
     ]
    },
    {
     "name": "stdout",
     "output_type": "stream",
     "text": [
      "Val update: epoch: 2 |accuracy: 0.5853718519210815 | f1: 0.6974326372146606 | auc: 0.6368082761764526 | treshold: 0.36000000000000004\n",
      "Test: accuracy: 0.5918287038803101 | f1: 0.7035301327705383 | auc: 0.6375600695610046 | \n"
     ]
    },
    {
     "name": "stderr",
     "output_type": "stream",
     "text": [
      "train... loss:70.88475775718689:   0%|                                                                                                | 4/5000 [30:15<350:38:03, 252.66s/it]"
     ]
    },
    {
     "name": "stdout",
     "output_type": "stream",
     "text": [
      "Val update: epoch: 3 |accuracy: 0.5919666290283203 | f1: 0.6970266103744507 | auc: 0.6446477174758911 | treshold: 0.38\n",
      "Test: accuracy: 0.5987774729728699 | f1: 0.7039350271224976 | auc: 0.6481130123138428 | \n"
     ]
    },
    {
     "name": "stderr",
     "output_type": "stream",
     "text": [
      "train... loss:69.52511018514633:   0%|                                                                                                | 5/5000 [30:30<231:40:36, 166.97s/it]"
     ]
    },
    {
     "name": "stdout",
     "output_type": "stream",
     "text": [
      "Val update: epoch: 4 |accuracy: 0.6001334190368652 | f1: 0.698145866394043 | auc: 0.6469956636428833 | treshold: 0.38\n",
      "Test: accuracy: 0.6041250824928284 | f1: 0.7034452557563782 | auc: 0.6488337516784668 | \n"
     ]
    },
    {
     "name": "stderr",
     "output_type": "stream",
     "text": [
      "train... loss:65.67257446050644:   1%|▋                                                                                                | 36/5000 [37:50<86:57:34, 63.07s/it]\n"
     ]
    },
    {
     "name": "stdout",
     "output_type": "stream",
     "text": [
      "{'f1': 0.7034452557563782, 'roc-auc': 0.6488337516784668, 'accuracy': 0.6041250824928284}\n",
      "\n",
      "Evaluating LogReg with svd embeddings\n",
      "Test before learning: {'f1': 0.6952738165855408, 'roc-auc': 0.5140035152435303, 'accuracy': 0.5348818898200989}\n"
     ]
    },
    {
     "name": "stderr",
     "output_type": "stream",
     "text": [
      "train... loss:80.72025513648987:   0%|                                                                                                  | 1/5000 [00:12<17:45:49, 12.79s/it]"
     ]
    },
    {
     "name": "stdout",
     "output_type": "stream",
     "text": [
      "Val update: epoch: 0 |accuracy: 0.5264711976051331 | f1: 0.6897885799407959 | auc: 0.5426937341690063 | treshold: 0.46\n",
      "Test: accuracy: 0.5359230041503906 | f1: 0.6978514194488525 | auc: 0.5389086008071899 | \n"
     ]
    },
    {
     "name": "stderr",
     "output_type": "stream",
     "text": [
      "train... loss:80.59671467542648:   0%|                                                                                                  | 2/5000 [00:25<17:56:51, 12.93s/it]"
     ]
    },
    {
     "name": "stdout",
     "output_type": "stream",
     "text": [
      "Val update: epoch: 1 |accuracy: 0.5264788269996643 | f1: 0.6897826790809631 | auc: 0.5481326580047607 | treshold: 0.44\n",
      "Test: accuracy: 0.5359545946121216 | f1: 0.6978626251220703 | auc: 0.5437580943107605 | \n"
     ]
    },
    {
     "name": "stderr",
     "output_type": "stream",
     "text": [
      "train... loss:80.5142389535904:   0%|                                                                                                   | 3/5000 [00:39<18:10:14, 13.09s/it]"
     ]
    },
    {
     "name": "stdout",
     "output_type": "stream",
     "text": [
      "Val update: epoch: 2 |accuracy: 0.5266245603561401 | f1: 0.6898298263549805 | auc: 0.5484291315078735 | treshold: 0.37\n",
      "Test: accuracy: 0.5360019207000732 | f1: 0.6978655457496643 | auc: 0.5450831055641174 | \n"
     ]
    },
    {
     "name": "stderr",
     "output_type": "stream",
     "text": [
      "train... loss:80.52236211299896:   0%|                                                                                                  | 4/5000 [00:52<18:17:01, 13.17s/it]"
     ]
    },
    {
     "name": "stdout",
     "output_type": "stream",
     "text": [
      "Val update: epoch: 3 |accuracy: 0.5268622636795044 | f1: 0.6898126006126404 | auc: 0.5499810576438904 | treshold: 0.37\n",
      "Test: accuracy: 0.5363331437110901 | f1: 0.6979199051856995 | auc: 0.5468069314956665 | \n"
     ]
    },
    {
     "name": "stderr",
     "output_type": "stream",
     "text": [
      "train... loss:80.43258780241013:   0%|                                                                                                  | 5/5000 [01:05<18:22:21, 13.24s/it]"
     ]
    },
    {
     "name": "stdout",
     "output_type": "stream",
     "text": [
      "Val update: epoch: 4 |accuracy: 0.5265555381774902 | f1: 0.6898142099380493 | auc: 0.5524036288261414 | treshold: 0.34\n",
      "Test: accuracy: 0.5359703302383423 | f1: 0.6978635787963867 | auc: 0.5483140349388123 | \n"
     ]
    },
    {
     "name": "stderr",
     "output_type": "stream",
     "text": [
      "train... loss:80.34012758731842:   0%|                                                                                                  | 6/5000 [01:18<18:21:42, 13.24s/it]"
     ]
    },
    {
     "name": "stdout",
     "output_type": "stream",
     "text": [
      "Val update: epoch: 5 |accuracy: 0.5267702341079712 | f1: 0.6898146271705627 | auc: 0.5545955896377563 | treshold: 0.34\n",
      "Test: accuracy: 0.5362148284912109 | f1: 0.6979281902313232 | auc: 0.5503182411193848 | \n"
     ]
    },
    {
     "name": "stderr",
     "output_type": "stream",
     "text": [
      "train... loss:80.28647845983505:   0%|▏                                                                                                 | 7/5000 [01:32<18:25:47, 13.29s/it]"
     ]
    },
    {
     "name": "stdout",
     "output_type": "stream",
     "text": [
      "Val update: epoch: 6 |accuracy: 0.5265861749649048 | f1: 0.6898031234741211 | auc: 0.5566053986549377 | treshold: 0.34\n",
      "Test: accuracy: 0.5360413193702698 | f1: 0.6978772282600403 | auc: 0.5520339012145996 | \n"
     ]
    },
    {
     "name": "stderr",
     "output_type": "stream",
     "text": [
      "train... loss:80.26241493225098:   0%|▏                                                                                                 | 8/5000 [01:45<18:27:07, 13.31s/it]"
     ]
    },
    {
     "name": "stdout",
     "output_type": "stream",
     "text": [
      "Val update: epoch: 7 |accuracy: 0.5265555381774902 | f1: 0.6897861361503601 | auc: 0.557299792766571 | treshold: 0.36000000000000004\n",
      "Test: accuracy: 0.5359939932823181 | f1: 0.6978557109832764 | auc: 0.5532388687133789 | \n"
     ]
    },
    {
     "name": "stderr",
     "output_type": "stream",
     "text": [
      "train... loss:80.17756712436676:   0%|▎                                                                                                | 14/5000 [02:59<17:33:25, 12.68s/it]"
     ]
    },
    {
     "name": "stdout",
     "output_type": "stream",
     "text": [
      "Val update: epoch: 13 |accuracy: 0.5268545746803284 | f1: 0.6899088621139526 | auc: 0.5575484037399292 | treshold: 0.35000000000000003\n",
      "Test: accuracy: 0.5361675024032593 | f1: 0.697881817817688 | auc: 0.5541111826896667 | \n"
     ]
    },
    {
     "name": "stderr",
     "output_type": "stream",
     "text": [
      "train... loss:80.02689707279205:   0%|▎                                                                                                | 15/5000 [03:13<17:55:32, 12.95s/it]"
     ]
    },
    {
     "name": "stdout",
     "output_type": "stream",
     "text": [
      "Val update: epoch: 14 |accuracy: 0.5276980996131897 | f1: 0.6901253461837769 | auc: 0.5576452016830444 | treshold: 0.37\n",
      "Test: accuracy: 0.5368695259094238 | f1: 0.6979713439941406 | auc: 0.554304838180542 | \n"
     ]
    },
    {
     "name": "stderr",
     "output_type": "stream",
     "text": [
      "train... loss:80.0830870270729:   0%|▎                                                                                                 | 16/5000 [03:26<18:11:56, 13.15s/it]"
     ]
    },
    {
     "name": "stdout",
     "output_type": "stream",
     "text": [
      "Val update: epoch: 15 |accuracy: 0.5270769596099854 | f1: 0.6899876594543457 | auc: 0.5579824447631836 | treshold: 0.37\n",
      "Test: accuracy: 0.5363331437110901 | f1: 0.6978825926780701 | auc: 0.5541574954986572 | \n"
     ]
    },
    {
     "name": "stderr",
     "output_type": "stream",
     "text": [
      "train... loss:80.13555306196213:   0%|▎                                                                                                | 17/5000 [03:40<18:22:18, 13.27s/it]"
     ]
    },
    {
     "name": "stdout",
     "output_type": "stream",
     "text": [
      "Val update: epoch: 16 |accuracy: 0.5278974771499634 | f1: 0.6901906728744507 | auc: 0.5579922199249268 | treshold: 0.39\n",
      "Test: accuracy: 0.5369641780853271 | f1: 0.6980175375938416 | auc: 0.5542891025543213 | \n"
     ]
    },
    {
     "name": "stderr",
     "output_type": "stream",
     "text": [
      "train... loss:80.03501677513123:   0%|▎                                                                                                | 19/5000 [04:06<18:11:40, 13.15s/it]"
     ]
    },
    {
     "name": "stdout",
     "output_type": "stream",
     "text": [
      "Val update: epoch: 18 |accuracy: 0.5275447368621826 | f1: 0.6901743412017822 | auc: 0.5580552816390991 | treshold: 0.37\n",
      "Test: accuracy: 0.5366249680519104 | f1: 0.6979687809944153 | auc: 0.5542014837265015 | \n"
     ]
    },
    {
     "name": "stderr",
     "output_type": "stream",
     "text": [
      "train... loss:80.06448149681091:   0%|▍                                                                                                | 21/5000 [04:32<18:01:52, 13.04s/it]"
     ]
    },
    {
     "name": "stdout",
     "output_type": "stream",
     "text": [
      "Val update: epoch: 20 |accuracy: 0.5277057886123657 | f1: 0.6901257038116455 | auc: 0.5585525035858154 | treshold: 0.37\n",
      "Test: accuracy: 0.5367196202278137 | f1: 0.6979404091835022 | auc: 0.5546311736106873 | \n"
     ]
    },
    {
     "name": "stderr",
     "output_type": "stream",
     "text": [
      "train... loss:80.08680200576782:   0%|▍                                                                                                | 22/5000 [04:45<18:10:48, 13.15s/it]"
     ]
    },
    {
     "name": "stdout",
     "output_type": "stream",
     "text": [
      "Val update: epoch: 21 |accuracy: 0.5271613001823425 | f1: 0.6900226473808289 | auc: 0.5587033033370972 | treshold: 0.37\n",
      "Test: accuracy: 0.5363726019859314 | f1: 0.6978881359100342 | auc: 0.5544901490211487 | \n"
     ]
    },
    {
     "name": "stderr",
     "output_type": "stream",
     "text": [
      "train... loss:79.93893045186996:   1%|▋                                                                                                | 34/5000 [07:26<18:07:06, 13.13s/it]\n"
     ]
    },
    {
     "name": "stdout",
     "output_type": "stream",
     "text": [
      "{'f1': 0.6978881359100342, 'roc-auc': 0.5544901490211487, 'accuracy': 0.5363726019859314}\n",
      "\n",
      " == cosmetics_5_2.pkl ==\n",
      "121514 data points among 122 batches\n",
      "\n",
      "Evaluating LogReg with neural embeddings\n",
      "Test before learning: {'f1': 0.5238063335418701, 'roc-auc': 0.5068255662918091, 'accuracy': 0.5046188235282898}\n"
     ]
    },
    {
     "name": "stderr",
     "output_type": "stream",
     "text": [
      "train:   0%|                                                                                                                                       | 0/5000 [00:00<?, ?it/s]"
     ]
    }
   ],
   "source": [
    "for group in ['cosmetics', 'multi']:\n",
    "    for filename in os.listdir(pkl_path):    \n",
    "        result = []\n",
    "        if not filename.startswith(group):\n",
    "            continue\n",
    "        print(f\"\\n == {filename} ==\")\n",
    "        dataset = OpenCDP.load(os.path.join(pkl_path, filename))\n",
    "        (\n",
    "            train_loader, \n",
    "            val_loader,\n",
    "            test_loader, \n",
    "            train_user_item_matrix, \n",
    "            train_num_items\n",
    "        ) = get_train_val_test_tmatrix_tnumitems(dataset, batch_size=800)\n",
    "    \n",
    "        print(f\"{len(dataset)} data points among {len(train_loader)} batches\")\n",
    "        for embeddings in ['neural', 'svd']:\n",
    "            print(f\"\\nEvaluating {experiment_name} with {embeddings} embeddings\")\n",
    "        \n",
    "            model = LogisticRegression(\n",
    "                RecsysEmbedding(train_num_items, train_user_item_matrix, embeddings=embeddings),\n",
    "                output_dim=1\n",
    "            ).to(device)\n",
    "        \n",
    "            best_model, metrics = train(\n",
    "                model, \n",
    "                train_loader, val_loader, test_loader, \n",
    "                device=device, lr=1e-3, num_epochs=5000, early_stopping=7,\n",
    "                silent=True\n",
    "            )\n",
    "            \n",
    "            print(metrics)\n",
    "            metrics['embeddings'] = embeddings\n",
    "            result.append(metrics)\n",
    "        pd.DataFrame(result).to_csv(f'results/{filename}_{experiment_name}.csv')\n",
    "        del dataset, train_loader, val_loader, test_loader, train_user_item_matrix, train_num_items"
   ]
  }
 ],
 "metadata": {
  "kernelspec": {
   "display_name": "Python 3 (ipykernel)",
   "language": "python",
   "name": "python3"
  },
  "language_info": {
   "codemirror_mode": {
    "name": "ipython",
    "version": 3
   },
   "file_extension": ".py",
   "mimetype": "text/x-python",
   "name": "python",
   "nbconvert_exporter": "python",
   "pygments_lexer": "ipython3",
   "version": "3.10.13"
  }
 },
 "nbformat": 4,
 "nbformat_minor": 5
}
