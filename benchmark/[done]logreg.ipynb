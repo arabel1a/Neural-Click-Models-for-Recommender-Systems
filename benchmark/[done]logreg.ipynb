{
 "cells": [
  {
   "cell_type": "code",
   "execution_count": 1,
   "id": "183295d2",
   "metadata": {},
   "outputs": [
    {
     "data": {
      "text/plain": [
       "<torch._C.Generator at 0x7f2a2ee1eb50>"
      ]
     },
     "execution_count": 1,
     "metadata": {},
     "output_type": "execute_result"
    }
   ],
   "source": [
    "import torch\n",
    "import random\n",
    "import datetime\n",
    "import pandas as pd\n",
    "import numpy as np\n",
    "import os\n",
    "\n",
    "from torch.utils.data import Dataset\n",
    "from src.datasets import RL4RS, ContentWise, DummyData, OpenCDP\n",
    "from src.utils import train, get_dummy_data, get_train_val_test_tmatrix_tnumitems\n",
    "from src.embeddings import RecsysEmbedding\n",
    "\n",
    "experiment_name = 'LogReg'\n",
    "device = 'cuda:0'\n",
    "seed = 7331\n",
    "pkl_path = '../pkl/'\n",
    "\n",
    "\n",
    "random.seed(seed)\n",
    "np.random.seed(seed)\n",
    "torch.manual_seed(seed)"
   ]
  },
  {
   "cell_type": "markdown",
   "id": "9b17d656",
   "metadata": {},
   "source": [
    "# Модель"
   ]
  },
  {
   "cell_type": "code",
   "execution_count": 2,
   "id": "6060e71d",
   "metadata": {},
   "outputs": [],
   "source": [
    "class LogisticRegression(torch.nn.Module):\n",
    "    def __init__(self, embedding, output_dim=1):\n",
    "        super().__init__()\n",
    "        self.embedding = embedding\n",
    "        self.linear = torch.nn.Linear(2 * embedding.embedding_dim, output_dim)\n",
    "    \n",
    "    def forward(self, batch):\n",
    "        item_embs, user_embs = self.embedding(batch)\n",
    "\n",
    "        features = torch.cat(\n",
    "            [\n",
    "                item_embs,\n",
    "                user_embs[:, :, None, :].repeat(1, 1, item_embs.size(-2), 1)\n",
    "            ],\n",
    "            dim = -1\n",
    "        )\n",
    "        return self.linear(features).squeeze(-1)"
   ]
  },
  {
   "cell_type": "markdown",
   "id": "e35d2d72",
   "metadata": {},
   "source": [
    "# Игрушечный датасет: проверим, что сходится к идеальным метрикам"
   ]
  },
  {
   "cell_type": "code",
   "execution_count": 3,
   "id": "bdcf5f68",
   "metadata": {},
   "outputs": [
    {
     "name": "stdout",
     "output_type": "stream",
     "text": [
      "biulding affinity matrix...\n"
     ]
    },
    {
     "name": "stderr",
     "output_type": "stream",
     "text": [
      "3it [00:00, 3084.05it/s]"
     ]
    },
    {
     "name": "stdout",
     "output_type": "stream",
     "text": [
      "Test before learning: {'f1': 0.0, 'roc-auc': 0.0, 'accuracy': 0.75}\n"
     ]
    },
    {
     "name": "stderr",
     "output_type": "stream",
     "text": [
      "\n"
     ]
    },
    {
     "data": {
      "application/vnd.jupyter.widget-view+json": {
       "model_id": "30ebb0d5deaf4caa95e6bd74d42db25e",
       "version_major": 2,
       "version_minor": 0
      },
      "text/plain": [
       "train:   0%|          | 0/5000 [00:00<?, ?it/s]"
      ]
     },
     "metadata": {},
     "output_type": "display_data"
    },
    {
     "name": "stdout",
     "output_type": "stream",
     "text": [
      "Val update: epoch: 0 |accuracy: 0.25 | f1: 0.4000000059604645 | auc: 0.0 | treshold: 0.01\n",
      "Test: accuracy: 0.25 | f1: 0.4000000059604645 | auc: 0.0 | \n",
      "Val update: epoch: 10 |accuracy: 0.25 | f1: 0.4000000059604645 | auc: 0.6666666269302368 | treshold: 0.01\n",
      "Test: accuracy: 0.25 | f1: 0.4000000059604645 | auc: 0.6666666269302368 | \n",
      "Val update: epoch: 12 |accuracy: 0.75 | f1: 0.6666666865348816 | auc: 0.6666666269302368 | treshold: 0.44\n",
      "Test: accuracy: 0.75 | f1: 0.6666666865348816 | auc: 0.6666666269302368 | \n",
      "Val update: epoch: 21 |accuracy: 0.75 | f1: 0.6666666865348816 | auc: 1.0 | treshold: 0.4\n",
      "Test: accuracy: 0.75 | f1: 0.6666666865348816 | auc: 1.0 | \n",
      "Val update: epoch: 25 |accuracy: 1.0 | f1: 1.0 | auc: 1.0 | treshold: 0.47000000000000003\n",
      "Test: accuracy: 1.0 | f1: 1.0 | auc: 1.0 | \n"
     ]
    },
    {
     "data": {
      "text/plain": [
       "(LogisticRegression(\n",
       "   (embedding): RecsysEmbedding()\n",
       "   (linear): Linear(in_features=4, out_features=1, bias=True)\n",
       " ),\n",
       " {'f1': 1.0, 'roc-auc': 1.0, 'accuracy': 1.0})"
      ]
     },
     "execution_count": 3,
     "metadata": {},
     "output_type": "execute_result"
    }
   ],
   "source": [
    "d = DummyData()\n",
    "dummy_loader, dummy_matrix = get_dummy_data(d)\n",
    "\n",
    "model = LogisticRegression(\n",
    "    RecsysEmbedding(\n",
    "        d.n_items, \n",
    "        dummy_matrix, \n",
    "        embeddings='svd',\n",
    "        embedding_dim=2\n",
    "    ).to('cpu'),\n",
    "    output_dim=1\n",
    ").to('cpu')\n",
    "\n",
    "train(\n",
    "    model, \n",
    "    dummy_loader, dummy_loader, dummy_loader,\n",
    "    device='cpu', lr=1e-2, num_epochs=5000, \n",
    "    silent=True\n",
    ")"
   ]
  },
  {
   "cell_type": "markdown",
   "id": "769a92f3",
   "metadata": {},
   "source": [
    "# ContentWise"
   ]
  },
  {
   "cell_type": "code",
   "execution_count": 4,
   "id": "6394d3a7",
   "metadata": {},
   "outputs": [
    {
     "name": "stdout",
     "output_type": "stream",
     "text": [
      "20216 data points among 108 batches\n"
     ]
    }
   ],
   "source": [
    "content_wise_results = []\n",
    "dataset = ContentWise.load(os.path.join(pkl_path, 'cw.pkl'))\n",
    "(\n",
    "    train_loader, \n",
    "    val_loader, \n",
    "    test_loader, \n",
    "    train_user_item_matrix, \n",
    "    train_num_items \n",
    ") = get_train_val_test_tmatrix_tnumitems(dataset, batch_size=150)\n",
    "\n",
    "print(f\"{len(dataset)} data points among {len(train_loader)} batches\")"
   ]
  },
  {
   "cell_type": "code",
   "execution_count": 5,
   "id": "a62d985f-68a9-46ba-b596-45fb27d595b1",
   "metadata": {},
   "outputs": [
    {
     "name": "stdout",
     "output_type": "stream",
     "text": [
      "\n",
      "Evaluating LogReg with svd embeddings\n",
      "Test before learning: {'f1': 0.15713582932949066, 'roc-auc': 0.5370557904243469, 'accuracy': 0.8466743230819702}\n"
     ]
    },
    {
     "data": {
      "application/vnd.jupyter.widget-view+json": {
       "model_id": "16d90b3320a64437bc472e5d5092cf6e",
       "version_major": 2,
       "version_minor": 0
      },
      "text/plain": [
       "train:   0%|          | 0/5000 [00:00<?, ?it/s]"
      ]
     },
     "metadata": {},
     "output_type": "display_data"
    },
    {
     "name": "stdout",
     "output_type": "stream",
     "text": [
      "Val update: epoch: 14 |accuracy: 0.3955571949481964 | f1: 0.1861746609210968 | auc: 0.5461916923522949 | treshold: 0.11\n",
      "Test: accuracy: 0.39641425013542175 | f1: 0.18501228094100952 | auc: 0.5385094881057739 | \n",
      "Val update: epoch: 15 |accuracy: 0.46515989303588867 | f1: 0.1906258761882782 | auc: 0.5612063407897949 | treshold: 0.11\n",
      "Test: accuracy: 0.46350914239883423 | f1: 0.18828357756137848 | auc: 0.5512282252311707 | \n",
      "Val update: epoch: 16 |accuracy: 0.5251049995422363 | f1: 0.19633254408836365 | auc: 0.5784597396850586 | treshold: 0.11\n",
      "Test: accuracy: 0.5319602489471436 | f1: 0.19356495141983032 | auc: 0.5666322708129883 | \n",
      "Val update: epoch: 17 |accuracy: 0.8673363327980042 | f1: 0.2142857164144516 | auc: 0.5931597948074341 | treshold: 0.13\n",
      "Test: accuracy: 0.8617118000984192 | f1: 0.207261860370636 | auc: 0.5813994407653809 | \n",
      "Val update: epoch: 18 |accuracy: 0.8557875752449036 | f1: 0.23852010071277618 | auc: 0.6028863191604614 | treshold: 0.12\n",
      "Test: accuracy: 0.8481795787811279 | f1: 0.22773103415966034 | auc: 0.5917229056358337 | \n",
      "Val update: epoch: 19 |accuracy: 0.8387821912765503 | f1: 0.24648602306842804 | auc: 0.6151214838027954 | treshold: 0.11\n",
      "Test: accuracy: 0.8312195539474487 | f1: 0.23896244168281555 | auc: 0.6055455207824707 | \n",
      "Val update: epoch: 20 |accuracy: 0.8230789303779602 | f1: 0.2504761219024658 | auc: 0.6231371164321899 | treshold: 0.09999999999999999\n",
      "Test: accuracy: 0.814408540725708 | f1: 0.24154941737651825 | auc: 0.613182544708252 | \n",
      "Val update: epoch: 21 |accuracy: 0.8130338191986084 | f1: 0.2512880861759186 | auc: 0.62953782081604 | treshold: 0.09999999999999999\n",
      "Test: accuracy: 0.8044084310531616 | f1: 0.24400921165943146 | auc: 0.6203819513320923 | \n",
      "Val update: epoch: 30 |accuracy: 0.7784029841423035 | f1: 0.2468784600496292 | auc: 0.6333543658256531 | treshold: 0.09\n",
      "Test: accuracy: 0.769027829170227 | f1: 0.24059192836284637 | auc: 0.626372218132019 | \n",
      "\n",
      "Evaluating LogReg with neural embeddings\n",
      "Test before learning: {'f1': 0.1573585867881775, 'roc-auc': 0.4676697850227356, 'accuracy': 0.4378455579280853}\n"
     ]
    },
    {
     "data": {
      "application/vnd.jupyter.widget-view+json": {
       "model_id": "a18be826c419407199b630bb79909615",
       "version_major": 2,
       "version_minor": 0
      },
      "text/plain": [
       "train:   0%|          | 0/5000 [00:00<?, ?it/s]"
      ]
     },
     "metadata": {},
     "output_type": "display_data"
    },
    {
     "name": "stdout",
     "output_type": "stream",
     "text": [
      "Val update: epoch: 0 |accuracy: 0.10476057976484299 | f1: 0.18142904341220856 | auc: 0.4712187349796295 | treshold: 0.04\n",
      "Test: accuracy: 0.10611186176538467 | f1: 0.18468020856380463 | auc: 0.47093233466148376 | \n",
      "Val update: epoch: 1 |accuracy: 0.2082035094499588 | f1: 0.18665605783462524 | auc: 0.5641592741012573 | treshold: 0.04\n",
      "Test: accuracy: 0.20617297291755676 | f1: 0.18809542059898376 | auc: 0.5634668469429016 | \n",
      "Val update: epoch: 2 |accuracy: 0.7537552714347839 | f1: 0.24882961809635162 | auc: 0.6608912348747253 | treshold: 0.12\n",
      "Test: accuracy: 0.7466430068016052 | f1: 0.2493155598640442 | auc: 0.6521070599555969 | \n",
      "Val update: epoch: 3 |accuracy: 0.7342851161956787 | f1: 0.2638608515262604 | auc: 0.6731790900230408 | treshold: 0.13\n",
      "Test: accuracy: 0.7243773937225342 | f1: 0.26177549362182617 | auc: 0.6614862084388733 | \n",
      "Val update: epoch: 4 |accuracy: 0.604489266872406 | f1: 0.25104209780693054 | auc: 0.675378680229187 | treshold: 0.12\n",
      "Test: accuracy: 0.593898594379425 | f1: 0.24873866140842438 | auc: 0.6663601398468018 | \n",
      "Val update: epoch: 5 |accuracy: 0.5613635182380676 | f1: 0.24406924843788147 | auc: 0.6768282651901245 | treshold: 0.12\n",
      "Test: accuracy: 0.5469679236412048 | f1: 0.240733340382576 | auc: 0.6697965860366821 | \n",
      "Val update: epoch: 6 |accuracy: 0.7417259812355042 | f1: 0.256504088640213 | auc: 0.676895260810852 | treshold: 0.13\n",
      "Test: accuracy: 0.7317844033241272 | f1: 0.2512792646884918 | auc: 0.6632168292999268 | \n",
      "Val update: epoch: 7 |accuracy: 0.834953248500824 | f1: 0.23529411852359772 | auc: 0.6880479454994202 | treshold: 0.13\n",
      "Test: accuracy: 0.8295354843139648 | f1: 0.22757968306541443 | auc: 0.677472710609436 | \n",
      "Val update: epoch: 11 |accuracy: 0.8204281330108643 | f1: 0.2559095621109009 | auc: 0.6889004111289978 | treshold: 0.15000000000000002\n",
      "Test: accuracy: 0.8121283650398254 | f1: 0.24928537011146545 | auc: 0.6773799061775208 | \n",
      "Val update: epoch: 14 |accuracy: 0.7920135259628296 | f1: 0.263409286737442 | auc: 0.6892441511154175 | treshold: 0.13\n",
      "Test: accuracy: 0.7827836275100708 | f1: 0.2604901194572449 | auc: 0.6780433654785156 | \n",
      "Val update: epoch: 20 |accuracy: 0.8041358590126038 | f1: 0.27011725306510925 | auc: 0.6922193765640259 | treshold: 0.14\n",
      "Test: accuracy: 0.8015469908714294 | f1: 0.2717129588127136 | auc: 0.6829952001571655 | \n",
      "Val update: epoch: 22 |accuracy: 0.7665132284164429 | f1: 0.275865375995636 | auc: 0.6927164793014526 | treshold: 0.13\n",
      "Test: accuracy: 0.758625328540802 | f1: 0.27476266026496887 | auc: 0.6845482587814331 | \n"
     ]
    }
   ],
   "source": [
    "for embeddings in ['svd', 'neural']:\n",
    "    print(f\"\\nEvaluating {experiment_name} with {embeddings} embeddings\")\n",
    "    \n",
    "    model = LogisticRegression(\n",
    "        RecsysEmbedding(train_num_items, train_user_item_matrix, embeddings=embeddings),\n",
    "        output_dim=1\n",
    "    ).to(device)\n",
    "\n",
    "    _, metrics = train(\n",
    "        model, \n",
    "        train_loader, val_loader, test_loader, \n",
    "        device=device, lr=1e-3, num_epochs=5000, early_stopping=7,\n",
    "       silent=True, \n",
    "    )\n",
    "    \n",
    "    metrics['embeddings'] = embeddings\n",
    "    content_wise_results.append(metrics)"
   ]
  },
  {
   "cell_type": "code",
   "execution_count": 6,
   "id": "8891eee2-cc2e-4723-818f-dee640636018",
   "metadata": {},
   "outputs": [],
   "source": [
    "pd.DataFrame(content_wise_results).to_csv(f'results/cw_{experiment_name}.csv')\n",
    "del dataset, train_loader, val_loader, test_loader, train_user_item_matrix, train_num_items"
   ]
  },
  {
   "cell_type": "markdown",
   "id": "17debc10",
   "metadata": {},
   "source": [
    "# RL4RS"
   ]
  },
  {
   "cell_type": "code",
   "execution_count": 7,
   "id": "d203a271",
   "metadata": {},
   "outputs": [
    {
     "name": "stdout",
     "output_type": "stream",
     "text": [
      "45942 data points among 106 batches\n"
     ]
    }
   ],
   "source": [
    "rl4rs_results = []\n",
    "dataset = RL4RS.load(os.path.join(pkl_path, 'rl4rs.pkl'))\n",
    "(\n",
    "    train_loader, \n",
    "    val_loader, \n",
    "    test_loader, \n",
    "    train_user_item_matrix, \n",
    "    train_num_items \n",
    ") = get_train_val_test_tmatrix_tnumitems(dataset, batch_size=350)\n",
    "\n",
    "print(f\"{len(dataset)} data points among {len(train_loader)} batches\")"
   ]
  },
  {
   "cell_type": "code",
   "execution_count": 8,
   "id": "6b4b706b",
   "metadata": {},
   "outputs": [
    {
     "name": "stdout",
     "output_type": "stream",
     "text": [
      "\n",
      "Evaluating LogReg with explicit embeddings\n",
      "Test before learning: {'f1': 0.588447630405426, 'roc-auc': 0.5688874125480652, 'accuracy': 0.5313746929168701}\n"
     ]
    },
    {
     "data": {
      "application/vnd.jupyter.widget-view+json": {
       "model_id": "81541cfc120147da81e6a1da6e10740a",
       "version_major": 2,
       "version_minor": 0
      },
      "text/plain": [
       "train:   0%|          | 0/5000 [00:00<?, ?it/s]"
      ]
     },
     "metadata": {},
     "output_type": "display_data"
    },
    {
     "name": "stdout",
     "output_type": "stream",
     "text": [
      "Val update: epoch: 0 |accuracy: 0.7282687425613403 | f1: 0.8226267099380493 | auc: 0.8072115182876587 | treshold: 0.43\n",
      "Test: accuracy: 0.7341071367263794 | f1: 0.8261061906814575 | auc: 0.8071073889732361 | \n",
      "Val update: epoch: 1 |accuracy: 0.7938373684883118 | f1: 0.8516533374786377 | auc: 0.8437247276306152 | treshold: 0.51\n",
      "Test: accuracy: 0.7947285771369934 | f1: 0.8524652719497681 | auc: 0.8442938923835754 | \n",
      "Val update: epoch: 2 |accuracy: 0.7999323010444641 | f1: 0.8559386730194092 | auc: 0.8604885339736938 | treshold: 0.5\n",
      "Test: accuracy: 0.8031193614006042 | f1: 0.8586261868476868 | auc: 0.8609044551849365 | \n",
      "Val update: epoch: 3 |accuracy: 0.8070430159568787 | f1: 0.8585962653160095 | auc: 0.8689801692962646 | treshold: 0.51\n",
      "Test: accuracy: 0.808003842830658 | f1: 0.8596478700637817 | auc: 0.868678867816925 | \n",
      "Val update: epoch: 4 |accuracy: 0.8091713786125183 | f1: 0.8589509725570679 | auc: 0.8732187151908875 | treshold: 0.5\n",
      "Test: accuracy: 0.8104944825172424 | f1: 0.8601559400558472 | auc: 0.8728827238082886 | \n",
      "Val update: epoch: 5 |accuracy: 0.812484860420227 | f1: 0.8602786064147949 | auc: 0.875943660736084 | treshold: 0.51\n",
      "Test: accuracy: 0.8121145963668823 | f1: 0.860136091709137 | auc: 0.8754055500030518 | \n",
      "Val update: epoch: 6 |accuracy: 0.8151211738586426 | f1: 0.8630156517028809 | auc: 0.8808712959289551 | treshold: 0.5\n",
      "Test: accuracy: 0.8153306841850281 | f1: 0.8633052110671997 | auc: 0.8806232213973999 | \n",
      "Val update: epoch: 7 |accuracy: 0.815750002861023 | f1: 0.8641244173049927 | auc: 0.8827618360519409 | treshold: 0.49\n",
      "Test: accuracy: 0.8143876194953918 | f1: 0.8633190989494324 | auc: 0.882300853729248 | \n",
      "Val update: epoch: 9 |accuracy: 0.8139360547065735 | f1: 0.8631065487861633 | auc: 0.8842964172363281 | treshold: 0.51\n",
      "Test: accuracy: 0.8139281868934631 | f1: 0.8634306788444519 | auc: 0.8840419054031372 | \n",
      "Val update: epoch: 10 |accuracy: 0.8127509355545044 | f1: 0.8638793230056763 | auc: 0.88628089427948 | treshold: 0.5\n",
      "Test: accuracy: 0.8120420575141907 | f1: 0.8635382056236267 | auc: 0.8857065439224243 | \n",
      "Val update: epoch: 11 |accuracy: 0.8162820935249329 | f1: 0.8644055724143982 | auc: 0.8866466283798218 | treshold: 0.51\n",
      "Test: accuracy: 0.818135678768158 | f1: 0.8661004900932312 | auc: 0.8860048651695251 | \n",
      "Val update: epoch: 12 |accuracy: 0.8187974691390991 | f1: 0.8654985427856445 | auc: 0.8881598114967346 | treshold: 0.52\n",
      "Test: accuracy: 0.8220287561416626 | f1: 0.8683975338935852 | auc: 0.887967586517334 | \n",
      "Val update: epoch: 13 |accuracy: 0.8214337825775146 | f1: 0.8658977150917053 | auc: 0.8885790109634399 | treshold: 0.52\n",
      "Test: accuracy: 0.8244226574897766 | f1: 0.8684863448143005 | auc: 0.8884499073028564 | \n",
      "Val update: epoch: 14 |accuracy: 0.8220384120941162 | f1: 0.8650749921798706 | auc: 0.8893869519233704 | treshold: 0.53\n",
      "Test: accuracy: 0.8230443596839905 | f1: 0.8659166693687439 | auc: 0.8888554573059082 | \n",
      "Val update: epoch: 15 |accuracy: 0.8218932747840881 | f1: 0.8645925521850586 | auc: 0.8906186819076538 | treshold: 0.53\n",
      "Test: accuracy: 0.8229960203170776 | f1: 0.8654658794403076 | auc: 0.8900421857833862 | \n",
      "Val update: epoch: 16 |accuracy: 0.8221351504325867 | f1: 0.8676242828369141 | auc: 0.8920153379440308 | treshold: 0.52\n",
      "Test: accuracy: 0.8202877640724182 | f1: 0.866369366645813 | auc: 0.8911821842193604 | \n",
      "Val update: epoch: 17 |accuracy: 0.818845808506012 | f1: 0.8682126998901367 | auc: 0.8931971192359924 | treshold: 0.52\n",
      "Test: accuracy: 0.8191996216773987 | f1: 0.8686378598213196 | auc: 0.8926459550857544 | \n",
      "Val update: epoch: 18 |accuracy: 0.8125574588775635 | f1: 0.8663977384567261 | auc: 0.8949800729751587 | treshold: 0.51\n",
      "Test: accuracy: 0.8128883838653564 | f1: 0.8669623732566833 | auc: 0.8945305347442627 | \n",
      "Val update: epoch: 24 |accuracy: 0.8237072229385376 | f1: 0.870622456073761 | auc: 0.895594596862793 | treshold: 0.52\n",
      "Test: accuracy: 0.8237698078155518 | f1: 0.8709174394607544 | auc: 0.8948583602905273 | \n",
      "Val update: epoch: 26 |accuracy: 0.8189184069633484 | f1: 0.8688814640045166 | auc: 0.8963190317153931 | treshold: 0.51\n",
      "Test: accuracy: 0.8203119039535522 | f1: 0.8700805902481079 | auc: 0.8962287902832031 | \n",
      "Val update: epoch: 27 |accuracy: 0.8228849172592163 | f1: 0.868723452091217 | auc: 0.8965438008308411 | treshold: 0.52\n",
      "Test: accuracy: 0.8248337507247925 | f1: 0.8703604340553284 | auc: 0.8966464400291443 | \n",
      "Val update: epoch: 28 |accuracy: 0.8230300545692444 | f1: 0.866801381111145 | auc: 0.8968440890312195 | treshold: 0.53\n",
      "Test: accuracy: 0.8258010149002075 | f1: 0.8692464232444763 | auc: 0.8963419198989868 | \n",
      "Val update: epoch: 29 |accuracy: 0.8232477307319641 | f1: 0.8657209873199463 | auc: 0.8975752592086792 | treshold: 0.54\n",
      "Test: accuracy: 0.8267682194709778 | f1: 0.8685697317123413 | auc: 0.8971656560897827 | \n"
     ]
    },
    {
     "name": "stderr",
     "output_type": "stream",
     "text": [
      "/opt/conda/envs/myenv/lib/python3.10/site-packages/torchmetrics/utilities/prints.py:43: UserWarning: No positive samples in targets, true positive value should be meaningless. Returning zero tensor in true positive score\n",
      "  warnings.warn(*args, **kwargs)  # noqa: B028\n"
     ]
    },
    {
     "name": "stdout",
     "output_type": "stream",
     "text": [
      "Val update: epoch: 30 |accuracy: 0.8269240260124207 | f1: 0.8689521551132202 | auc: 0.8980323076248169 | treshold: 0.54\n",
      "Test: accuracy: 0.828896164894104 | f1: 0.8707107901573181 | auc: 0.8978813886642456 | \n",
      "Val update: epoch: 32 |accuracy: 0.824481189250946 | f1: 0.8721210956573486 | auc: 0.8992319107055664 | treshold: 0.51\n",
      "Test: accuracy: 0.824350118637085 | f1: 0.8721621632575989 | auc: 0.898556113243103 | \n",
      "Val update: epoch: 33 |accuracy: 0.820708155632019 | f1: 0.8707072734832764 | auc: 0.8998627662658691 | treshold: 0.5\n",
      "Test: accuracy: 0.8216902613639832 | f1: 0.871671736240387 | auc: 0.899205207824707 | \n",
      "Val update: epoch: 34 |accuracy: 0.8157016634941101 | f1: 0.8685300350189209 | auc: 0.9012598991394043 | treshold: 0.5\n",
      "Test: accuracy: 0.8168298602104187 | f1: 0.8695787191390991 | auc: 0.9004025459289551 | \n",
      "Val update: epoch: 43 |accuracy: 0.8292942643165588 | f1: 0.8734581470489502 | auc: 0.9015151262283325 | treshold: 0.55\n",
      "Test: accuracy: 0.8308306336402893 | f1: 0.8748076558113098 | auc: 0.900994062423706 | \n",
      "Val update: epoch: 44 |accuracy: 0.8203212022781372 | f1: 0.8703603744506836 | auc: 0.9019086360931396 | treshold: 0.52\n",
      "Test: accuracy: 0.8220771551132202 | f1: 0.8720036149024963 | auc: 0.9013786315917969 | \n",
      "Val update: epoch: 45 |accuracy: 0.8185797929763794 | f1: 0.8703706860542297 | auc: 0.9031258225440979 | treshold: 0.5\n",
      "Test: accuracy: 0.8200701475143433 | f1: 0.8716825842857361 | auc: 0.9025557041168213 | \n",
      "\n",
      "Evaluating LogReg with neural embeddings\n",
      "Test before learning: {'f1': 0.49677833914756775, 'roc-auc': 0.5137325525283813, 'accuracy': 0.4712126851081848}\n"
     ]
    },
    {
     "data": {
      "application/vnd.jupyter.widget-view+json": {
       "model_id": "511d97e98f3447ba99f24753dbce832d",
       "version_major": 2,
       "version_minor": 0
      },
      "text/plain": [
       "train:   0%|          | 0/5000 [00:00<?, ?it/s]"
      ]
     },
     "metadata": {},
     "output_type": "display_data"
    },
    {
     "name": "stdout",
     "output_type": "stream",
     "text": [
      "Val update: epoch: 0 |accuracy: 0.6970444321632385 | f1: 0.8070905208587646 | auc: 0.793698787689209 | treshold: 0.35000000000000003\n",
      "Test: accuracy: 0.703711748123169 | f1: 0.8111989498138428 | auc: 0.8031184673309326 | \n",
      "Val update: epoch: 1 |accuracy: 0.8126541972160339 | f1: 0.8641195893287659 | auc: 0.8828929662704468 | treshold: 0.52\n",
      "Test: accuracy: 0.8162737488746643 | f1: 0.8667765259742737 | auc: 0.8840545415878296 | \n",
      "Val update: epoch: 2 |accuracy: 0.8323900699615479 | f1: 0.8738669753074646 | auc: 0.9059879779815674 | treshold: 0.53\n",
      "Test: accuracy: 0.8342642784118652 | f1: 0.8752502799034119 | auc: 0.9057952761650085 | \n",
      "Val update: epoch: 3 |accuracy: 0.832704484462738 | f1: 0.8752232193946838 | auc: 0.9097120761871338 | treshold: 0.51\n",
      "Test: accuracy: 0.8361504077911377 | f1: 0.8779231309890747 | auc: 0.9095450639724731 | \n",
      "Val update: epoch: 4 |accuracy: 0.8351956605911255 | f1: 0.8766607642173767 | auc: 0.9111686944961548 | treshold: 0.54\n",
      "Test: accuracy: 0.8376979827880859 | f1: 0.8786344528198242 | auc: 0.9107236266136169 | \n",
      "Val update: epoch: 5 |accuracy: 0.8337445259094238 | f1: 0.8773332238197327 | auc: 0.9124939441680908 | treshold: 0.52\n",
      "Test: accuracy: 0.8366581797599792 | f1: 0.8794202208518982 | auc: 0.9119160175323486 | \n",
      "\n",
      "Evaluating LogReg with svd embeddings\n",
      "Test before learning: {'f1': 0.7265371680259705, 'roc-auc': 0.5808873176574707, 'accuracy': 0.5978962779045105}\n"
     ]
    },
    {
     "data": {
      "application/vnd.jupyter.widget-view+json": {
       "model_id": "edccd36e64a54c4cbf7c1f5be4420ed5",
       "version_major": 2,
       "version_minor": 0
      },
      "text/plain": [
       "train:   0%|          | 0/5000 [00:00<?, ?it/s]"
      ]
     },
     "metadata": {},
     "output_type": "display_data"
    },
    {
     "name": "stdout",
     "output_type": "stream",
     "text": [
      "Val update: epoch: 0 |accuracy: 0.6653364300727844 | f1: 0.7936839461326599 | auc: 0.6785668134689331 | treshold: 0.49\n",
      "Test: accuracy: 0.6706081628799438 | f1: 0.7967411875724792 | auc: 0.6895123720169067 | \n",
      "Val update: epoch: 1 |accuracy: 0.6717941164970398 | f1: 0.7956632971763611 | auc: 0.703956127166748 | treshold: 0.49\n",
      "Test: accuracy: 0.6776931285858154 | f1: 0.7991682887077332 | auc: 0.7143428921699524 | \n",
      "Val update: epoch: 2 |accuracy: 0.6733420491218567 | f1: 0.7957412004470825 | auc: 0.7146733403205872 | treshold: 0.49\n",
      "Test: accuracy: 0.679144024848938 | f1: 0.7990306615829468 | auc: 0.7260066866874695 | \n",
      "Val update: epoch: 3 |accuracy: 0.6783244013786316 | f1: 0.7979337573051453 | auc: 0.7221701741218567 | treshold: 0.49\n",
      "Test: accuracy: 0.6836416125297546 | f1: 0.8008099794387817 | auc: 0.7336980104446411 | \n",
      "Val update: epoch: 4 |accuracy: 0.6792192459106445 | f1: 0.7983028292655945 | auc: 0.7301320433616638 | treshold: 0.48000000000000004\n",
      "Test: accuracy: 0.6846330761909485 | f1: 0.8011587262153625 | auc: 0.741629958152771 | \n",
      "Val update: epoch: 5 |accuracy: 0.6869104504585266 | f1: 0.8006467819213867 | auc: 0.7378991842269897 | treshold: 0.49\n",
      "Test: accuracy: 0.6954177021980286 | f1: 0.8050698041915894 | auc: 0.7502759695053101 | \n",
      "Val update: epoch: 6 |accuracy: 0.6915783882141113 | f1: 0.8028813600540161 | auc: 0.746039628982544 | treshold: 0.48000000000000004\n",
      "Test: accuracy: 0.6994075775146484 | f1: 0.8068550825119019 | auc: 0.7580777406692505 | \n",
      "Val update: epoch: 7 |accuracy: 0.7004063129425049 | f1: 0.8062078356742859 | auc: 0.7531094551086426 | treshold: 0.49\n",
      "Test: accuracy: 0.707290530204773 | f1: 0.8097745180130005 | auc: 0.7650748491287231 | \n",
      "Val update: epoch: 8 |accuracy: 0.7030184268951416 | f1: 0.8074697852134705 | auc: 0.7626522183418274 | treshold: 0.49\n",
      "Test: accuracy: 0.7088381052017212 | f1: 0.8102733492851257 | auc: 0.7734266519546509 | \n",
      "Val update: epoch: 9 |accuracy: 0.7058724164962769 | f1: 0.8084791302680969 | auc: 0.7678976058959961 | treshold: 0.49\n",
      "Test: accuracy: 0.7143271565437317 | f1: 0.8130163550376892 | auc: 0.7780824899673462 | \n",
      "Val update: epoch: 10 |accuracy: 0.706718921661377 | f1: 0.8095552325248718 | auc: 0.7729352116584778 | treshold: 0.48000000000000004\n",
      "Test: accuracy: 0.7151009440422058 | f1: 0.8139997720718384 | auc: 0.7827879786491394 | \n",
      "Val update: epoch: 11 |accuracy: 0.7079282402992249 | f1: 0.810501217842102 | auc: 0.7783617973327637 | treshold: 0.48000000000000004\n",
      "Test: accuracy: 0.7158263921737671 | f1: 0.8146898150444031 | auc: 0.7875924110412598 | \n",
      "Val update: epoch: 12 |accuracy: 0.7174575328826904 | f1: 0.8113067150115967 | auc: 0.7822210788726807 | treshold: 0.51\n",
      "Test: accuracy: 0.7230080962181091 | f1: 0.8144548535346985 | auc: 0.7918347716331482 | \n",
      "Val update: epoch: 13 |accuracy: 0.7177478075027466 | f1: 0.8129627704620361 | auc: 0.7861152291297913 | treshold: 0.5\n",
      "Test: accuracy: 0.7242897152900696 | f1: 0.8166114687919617 | auc: 0.7956518530845642 | \n",
      "Val update: epoch: 14 |accuracy: 0.7210128903388977 | f1: 0.8140146136283875 | auc: 0.7894911766052246 | treshold: 0.5\n",
      "Test: accuracy: 0.7268044948577881 | f1: 0.8172140717506409 | auc: 0.7982248663902283 | \n",
      "Val update: epoch: 15 |accuracy: 0.7196584939956665 | f1: 0.8143806457519531 | auc: 0.7925551533699036 | treshold: 0.49\n",
      "Test: accuracy: 0.7263450622558594 | f1: 0.8180517554283142 | auc: 0.8011759519577026 | \n",
      "Val update: epoch: 16 |accuracy: 0.7220045328140259 | f1: 0.8154404163360596 | auc: 0.7944319248199463 | treshold: 0.49\n",
      "Test: accuracy: 0.7282553315162659 | f1: 0.8189171552658081 | auc: 0.8027180433273315 | \n",
      "Val update: epoch: 17 |accuracy: 0.7242538332939148 | f1: 0.816340982913971 | auc: 0.7977033853530884 | treshold: 0.49\n",
      "Test: accuracy: 0.7302623391151428 | f1: 0.8197288513183594 | auc: 0.8057073950767517 | \n",
      "Val update: epoch: 18 |accuracy: 0.7237943410873413 | f1: 0.8166816234588623 | auc: 0.7996575832366943 | treshold: 0.48000000000000004\n",
      "Test: accuracy: 0.7294402122497559 | f1: 0.8197503089904785 | auc: 0.8078395128250122 | \n",
      "Val update: epoch: 19 |accuracy: 0.7257050275802612 | f1: 0.8168413639068604 | auc: 0.8012148141860962 | treshold: 0.49\n",
      "Test: accuracy: 0.7328980565071106 | f1: 0.8209086060523987 | auc: 0.8091009855270386 | \n",
      "Val update: epoch: 20 |accuracy: 0.728317141532898 | f1: 0.8175305724143982 | auc: 0.8043222427368164 | treshold: 0.49\n",
      "Test: accuracy: 0.7361383438110352 | f1: 0.8220134377479553 | auc: 0.8121249675750732 | \n",
      "Val update: epoch: 21 |accuracy: 0.7259469032287598 | f1: 0.8181190490722656 | auc: 0.8066785335540771 | treshold: 0.47000000000000003\n",
      "Test: accuracy: 0.7320517301559448 | f1: 0.8215131163597107 | auc: 0.8138673901557922 | \n",
      "Val update: epoch: 22 |accuracy: 0.731074333190918 | f1: 0.8182486891746521 | auc: 0.8071632981300354 | treshold: 0.5\n",
      "Test: accuracy: 0.7384838461875916 | f1: 0.8224458694458008 | auc: 0.8146839141845703 | \n",
      "Val update: epoch: 23 |accuracy: 0.7282204031944275 | f1: 0.8183097243309021 | auc: 0.8094473481178284 | treshold: 0.47000000000000003\n",
      "Test: accuracy: 0.7358239889144897 | f1: 0.8226086497306824 | auc: 0.8165852427482605 | \n",
      "Val update: epoch: 24 |accuracy: 0.7306389808654785 | f1: 0.8194127082824707 | auc: 0.8116253614425659 | treshold: 0.49\n",
      "Test: accuracy: 0.7384355068206787 | f1: 0.8237900733947754 | auc: 0.8184831142425537 | \n",
      "Val update: epoch: 25 |accuracy: 0.7344362139701843 | f1: 0.8191937804222107 | auc: 0.8118554353713989 | treshold: 0.49\n",
      "Test: accuracy: 0.7430540323257446 | f1: 0.8241950869560242 | auc: 0.8189785480499268 | \n",
      "Val update: epoch: 26 |accuracy: 0.7296715378761292 | f1: 0.8197868466377258 | auc: 0.814289927482605 | treshold: 0.47000000000000003\n",
      "Test: accuracy: 0.7372022867202759 | f1: 0.8240911364555359 | auc: 0.8212741613388062 | \n",
      "Val update: epoch: 27 |accuracy: 0.7354520559310913 | f1: 0.8213387131690979 | auc: 0.8153499960899353 | treshold: 0.48000000000000004\n",
      "Test: accuracy: 0.7434651255607605 | f1: 0.8257877826690674 | auc: 0.8221577405929565 | \n",
      "Val update: epoch: 28 |accuracy: 0.7322111129760742 | f1: 0.8205568790435791 | auc: 0.8170373439788818 | treshold: 0.47000000000000003\n",
      "Test: accuracy: 0.7408294081687927 | f1: 0.8255533576011658 | auc: 0.8238757848739624 | \n",
      "Val update: epoch: 29 |accuracy: 0.7361534237861633 | f1: 0.8217512965202332 | auc: 0.8183638453483582 | treshold: 0.48000000000000004\n",
      "Test: accuracy: 0.7441421747207642 | f1: 0.8261390924453735 | auc: 0.8247503042221069 | \n",
      "Val update: epoch: 30 |accuracy: 0.7378222942352295 | f1: 0.8223533034324646 | auc: 0.8193203806877136 | treshold: 0.48000000000000004\n",
      "Test: accuracy: 0.745351254940033 | f1: 0.8265388607978821 | auc: 0.8258396983146667 | \n",
      "Val update: epoch: 31 |accuracy: 0.7379915714263916 | f1: 0.8230104446411133 | auc: 0.8211472630500793 | treshold: 0.48000000000000004\n",
      "Test: accuracy: 0.7463667988777161 | f1: 0.8276451230049133 | auc: 0.8279120922088623 | \n",
      "Val update: epoch: 32 |accuracy: 0.7357906699180603 | f1: 0.8227371573448181 | auc: 0.8226433396339417 | treshold: 0.46\n",
      "Test: accuracy: 0.7436585426330566 | f1: 0.8271397352218628 | auc: 0.8292357921600342 | \n",
      "Val update: epoch: 33 |accuracy: 0.7389832139015198 | f1: 0.8234408497810364 | auc: 0.8236556053161621 | treshold: 0.48000000000000004\n",
      "Test: accuracy: 0.7467778921127319 | f1: 0.8277744650840759 | auc: 0.8300372958183289 | \n",
      "Val update: epoch: 34 |accuracy: 0.7359841465950012 | f1: 0.8226367235183716 | auc: 0.8244889974594116 | treshold: 0.46\n",
      "Test: accuracy: 0.7444807291030884 | f1: 0.8274071216583252 | auc: 0.8308728933334351 | \n",
      "Val update: epoch: 35 |accuracy: 0.7381125092506409 | f1: 0.8230024576187134 | auc: 0.8254302144050598 | treshold: 0.47000000000000003\n",
      "Test: accuracy: 0.7472373247146606 | f1: 0.828242301940918 | auc: 0.831935465335846 | \n",
      "Val update: epoch: 36 |accuracy: 0.7387413382530212 | f1: 0.8236638307571411 | auc: 0.8269891142845154 | treshold: 0.47000000000000003\n",
      "Test: accuracy: 0.7468020915985107 | f1: 0.8281611800193787 | auc: 0.8330785036087036 | \n",
      "Val update: epoch: 37 |accuracy: 0.7411841750144958 | f1: 0.8244385123252869 | auc: 0.828671932220459 | treshold: 0.47000000000000003\n",
      "Test: accuracy: 0.7493894100189209 | f1: 0.8291967511177063 | auc: 0.8344408273696899 | \n",
      "Val update: epoch: 38 |accuracy: 0.7420064806938171 | f1: 0.8249561190605164 | auc: 0.8292388916015625 | treshold: 0.47000000000000003\n",
      "Test: accuracy: 0.7495103478431702 | f1: 0.82925945520401 | auc: 0.8353835940361023 | \n",
      "Val update: epoch: 39 |accuracy: 0.7573646903038025 | f1: 0.8242835998535156 | auc: 0.8302396535873413 | treshold: 0.54\n",
      "Test: accuracy: 0.7648652195930481 | f1: 0.8292357325553894 | auc: 0.8365523815155029 | \n",
      "Val update: epoch: 40 |accuracy: 0.7657814621925354 | f1: 0.826476514339447 | auc: 0.8314661979675293 | treshold: 0.55\n",
      "Test: accuracy: 0.7708378434181213 | f1: 0.8297616243362427 | auc: 0.8372796773910522 | \n",
      "Val update: epoch: 41 |accuracy: 0.7578242421150208 | f1: 0.8261118531227112 | auc: 0.8326785564422607 | treshold: 0.54\n",
      "Test: accuracy: 0.7653487920761108 | f1: 0.8309407830238342 | auc: 0.8382916450500488 | \n",
      "Val update: epoch: 42 |accuracy: 0.766531229019165 | f1: 0.825326144695282 | auc: 0.8332220315933228 | treshold: 0.55\n",
      "Test: accuracy: 0.7723854184150696 | f1: 0.8293602466583252 | auc: 0.838990330696106 | \n",
      "Val update: epoch: 43 |accuracy: 0.7611377239227295 | f1: 0.828636884689331 | auc: 0.8350909948348999 | treshold: 0.54\n",
      "Test: accuracy: 0.7688308358192444 | f1: 0.8335422873497009 | auc: 0.8407484889030457 | \n",
      "Val update: epoch: 44 |accuracy: 0.7688047289848328 | f1: 0.8282145857810974 | auc: 0.8354198932647705 | treshold: 0.54\n",
      "Test: accuracy: 0.7745133638381958 | f1: 0.83217853307724 | auc: 0.8410859107971191 | \n",
      "Val update: epoch: 45 |accuracy: 0.7600493431091309 | f1: 0.8293983340263367 | auc: 0.8369971513748169 | treshold: 0.53\n",
      "Test: accuracy: 0.7679603695869446 | f1: 0.834528923034668 | auc: 0.8427003622055054 | \n",
      "Val update: epoch: 47 |accuracy: 0.7600493431091309 | f1: 0.8299480676651001 | auc: 0.838591992855072 | treshold: 0.52\n",
      "Test: accuracy: 0.7681295871734619 | f1: 0.8352716565132141 | auc: 0.8436992168426514 | \n",
      "Val update: epoch: 49 |accuracy: 0.7600976824760437 | f1: 0.8308059573173523 | auc: 0.8395068645477295 | treshold: 0.51\n",
      "Test: accuracy: 0.7685406804084778 | f1: 0.8363425135612488 | auc: 0.8451392650604248 | \n",
      "Val update: epoch: 50 |accuracy: 0.7701833248138428 | f1: 0.8324162364006042 | auc: 0.840391993522644 | treshold: 0.53\n",
      "Test: accuracy: 0.7766896486282349 | f1: 0.8368979692459106 | auc: 0.8458085060119629 | \n",
      "Val update: epoch: 51 |accuracy: 0.767547070980072 | f1: 0.8345697522163391 | auc: 0.841795802116394 | treshold: 0.51\n",
      "Test: accuracy: 0.7757223844528198 | f1: 0.8400448560714722 | auc: 0.8471331000328064 | \n",
      "Val update: epoch: 52 |accuracy: 0.7721666097640991 | f1: 0.8348701000213623 | auc: 0.842711865901947 | treshold: 0.53\n",
      "Test: accuracy: 0.779639720916748 | f1: 0.8400526642799377 | auc: 0.8480742573738098 | \n",
      "Val update: epoch: 53 |accuracy: 0.7666279673576355 | f1: 0.8346499800682068 | auc: 0.8429893255233765 | treshold: 0.5\n",
      "Test: accuracy: 0.7749002575874329 | f1: 0.8402080535888672 | auc: 0.8482537269592285 | \n",
      "Val update: epoch: 54 |accuracy: 0.7690707445144653 | f1: 0.835356593132019 | auc: 0.8430695533752441 | treshold: 0.51\n",
      "Test: accuracy: 0.7765687108039856 | f1: 0.8404861092567444 | auc: 0.8484013676643372 | \n",
      "Val update: epoch: 55 |accuracy: 0.7689740061759949 | f1: 0.836095929145813 | auc: 0.844170093536377 | treshold: 0.5\n",
      "Test: accuracy: 0.7778261303901672 | f1: 0.8419296145439148 | auc: 0.849418580532074 | \n",
      "Val update: epoch: 56 |accuracy: 0.769820511341095 | f1: 0.8368784785270691 | auc: 0.8454045057296753 | treshold: 0.5\n",
      "Test: accuracy: 0.7776810526847839 | f1: 0.8421359658241272 | auc: 0.8505796194076538 | \n",
      "Val update: epoch: 57 |accuracy: 0.7728196382522583 | f1: 0.8377804160118103 | auc: 0.8462252616882324 | treshold: 0.51\n",
      "Test: accuracy: 0.7797122597694397 | f1: 0.8424420356750488 | auc: 0.8514232635498047 | \n",
      "Val update: epoch: 58 |accuracy: 0.7729163765907288 | f1: 0.8372874855995178 | auc: 0.8464053869247437 | treshold: 0.51\n",
      "Test: accuracy: 0.780074954032898 | f1: 0.8421692252159119 | auc: 0.8514662981033325 | \n",
      "Val update: epoch: 60 |accuracy: 0.773932158946991 | f1: 0.8381611704826355 | auc: 0.8475581407546997 | treshold: 0.51\n",
      "Test: accuracy: 0.7813565731048584 | f1: 0.8432005047798157 | auc: 0.8524861335754395 | \n",
      "Val update: epoch: 61 |accuracy: 0.7735936045646667 | f1: 0.8390170335769653 | auc: 0.848418116569519 | treshold: 0.5\n",
      "Test: accuracy: 0.7808729410171509 | f1: 0.8439039587974548 | auc: 0.8532775640487671 | \n",
      "Val update: epoch: 63 |accuracy: 0.7731823921203613 | f1: 0.8391754627227783 | auc: 0.8487967252731323 | treshold: 0.5\n",
      "Test: accuracy: 0.7805585861206055 | f1: 0.8441979885101318 | auc: 0.8537101745605469 | \n",
      "Val update: epoch: 64 |accuracy: 0.7767619490623474 | f1: 0.8393720984458923 | auc: 0.8495478630065918 | treshold: 0.51\n",
      "Test: accuracy: 0.7837020754814148 | f1: 0.8441556096076965 | auc: 0.8545414209365845 | \n",
      "Val update: epoch: 65 |accuracy: 0.7714409828186035 | f1: 0.838896632194519 | auc: 0.8499030470848083 | treshold: 0.49\n",
      "Test: accuracy: 0.7792044281959534 | f1: 0.844109058380127 | auc: 0.855039656162262 | \n",
      "Val update: epoch: 66 |accuracy: 0.7779954671859741 | f1: 0.8404290676116943 | auc: 0.8507802486419678 | treshold: 0.51\n",
      "Test: accuracy: 0.7853463888168335 | f1: 0.8453834652900696 | auc: 0.8553987741470337 | \n",
      "Val update: epoch: 67 |accuracy: 0.7770280241966248 | f1: 0.8407028913497925 | auc: 0.8511695265769958 | treshold: 0.5\n",
      "Test: accuracy: 0.7837988138198853 | f1: 0.8452605605125427 | auc: 0.8561038970947266 | \n",
      "Val update: epoch: 68 |accuracy: 0.7767619490623474 | f1: 0.8407027721405029 | auc: 0.8516346216201782 | treshold: 0.51\n",
      "Test: accuracy: 0.7837020754814148 | f1: 0.8453626036643982 | auc: 0.8565064668655396 | \n",
      "Val update: epoch: 69 |accuracy: 0.779059648513794 | f1: 0.8414145112037659 | auc: 0.8522588610649109 | treshold: 0.5\n",
      "Test: accuracy: 0.7857816219329834 | f1: 0.8458580374717712 | auc: 0.8566775918006897 | \n",
      "Val update: epoch: 70 |accuracy: 0.7791079878807068 | f1: 0.8424882888793945 | auc: 0.8529701828956604 | treshold: 0.51\n",
      "Test: accuracy: 0.7847902178764343 | f1: 0.8462707996368408 | auc: 0.8573944568634033 | \n",
      "Val update: epoch: 72 |accuracy: 0.7776084542274475 | f1: 0.8415392637252808 | auc: 0.8535729646682739 | treshold: 0.51\n",
      "Test: accuracy: 0.7849111557006836 | f1: 0.846492350101471 | auc: 0.8582759499549866 | \n",
      "Val update: epoch: 74 |accuracy: 0.7763507962226868 | f1: 0.8415714502334595 | auc: 0.8541229963302612 | treshold: 0.5\n",
      "Test: accuracy: 0.783073365688324 | f1: 0.8462790846824646 | auc: 0.8586808443069458 | \n",
      "Val update: epoch: 76 |accuracy: 0.7755768299102783 | f1: 0.8414577841758728 | auc: 0.8547201156616211 | treshold: 0.49\n",
      "Test: accuracy: 0.7832668423652649 | f1: 0.8468255996704102 | auc: 0.8591523170471191 | \n",
      "Val update: epoch: 77 |accuracy: 0.7814056873321533 | f1: 0.8423072695732117 | auc: 0.8550111055374146 | treshold: 0.51\n",
      "Test: accuracy: 0.7877160906791687 | f1: 0.8465933799743652 | auc: 0.8596165776252747 | \n",
      "Val update: epoch: 78 |accuracy: 0.7765684723854065 | f1: 0.8417879939079285 | auc: 0.8551114201545715 | treshold: 0.48000000000000004\n",
      "Test: accuracy: 0.7841857075691223 | f1: 0.8470725417137146 | auc: 0.8600320219993591 | \n",
      "Val update: epoch: 79 |accuracy: 0.7794466018676758 | f1: 0.8428652882575989 | auc: 0.8557581901550293 | treshold: 0.51\n",
      "Test: accuracy: 0.785854160785675 | f1: 0.8471205830574036 | auc: 0.8602616190910339 | \n",
      "Val update: epoch: 81 |accuracy: 0.7753833532333374 | f1: 0.8422161340713501 | auc: 0.857140839099884 | treshold: 0.49\n",
      "Test: accuracy: 0.7835569977760315 | f1: 0.8478781580924988 | auc: 0.8617768883705139 | \n",
      "Val update: epoch: 84 |accuracy: 0.7803899049758911 | f1: 0.8429391980171204 | auc: 0.8572544455528259 | treshold: 0.51\n",
      "Test: accuracy: 0.787619411945343 | f1: 0.847842276096344 | auc: 0.8620156049728394 | \n",
      "Val update: epoch: 86 |accuracy: 0.7749722003936768 | f1: 0.8423531651496887 | auc: 0.8577666282653809 | treshold: 0.48000000000000004\n",
      "Test: accuracy: 0.7826864719390869 | f1: 0.847618579864502 | auc: 0.8619848489761353 | \n",
      "Val update: epoch: 88 |accuracy: 0.7797126770019531 | f1: 0.8436663150787354 | auc: 0.8581480383872986 | treshold: 0.47000000000000003\n",
      "Test: accuracy: 0.7865554094314575 | f1: 0.8484193086624146 | auc: 0.8627587556838989 | \n",
      "Val update: epoch: 89 |accuracy: 0.7808735966682434 | f1: 0.8445382714271545 | auc: 0.8594013452529907 | treshold: 0.5\n",
      "Test: accuracy: 0.7878612279891968 | f1: 0.8493672609329224 | auc: 0.8633532524108887 | \n",
      "Val update: epoch: 94 |accuracy: 0.7785033583641052 | f1: 0.8439810276031494 | auc: 0.8604601621627808 | treshold: 0.49\n",
      "Test: accuracy: 0.7864587306976318 | f1: 0.8494775891304016 | auc: 0.8648492097854614 | \n",
      "Val update: epoch: 97 |accuracy: 0.7780922055244446 | f1: 0.8440977931022644 | auc: 0.8604913949966431 | treshold: 0.48000000000000004\n",
      "Test: accuracy: 0.7850078344345093 | f1: 0.8489851355552673 | auc: 0.8650557994842529 | \n",
      "Val update: epoch: 100 |accuracy: 0.7786242961883545 | f1: 0.8442546129226685 | auc: 0.8607736825942993 | treshold: 0.48000000000000004\n",
      "Test: accuracy: 0.7866279482841492 | f1: 0.8499268889427185 | auc: 0.8653262257575989 | \n",
      "Val update: epoch: 102 |accuracy: 0.7796159386634827 | f1: 0.8445316553115845 | auc: 0.8610585927963257 | treshold: 0.47000000000000003\n",
      "Test: accuracy: 0.7865070700645447 | f1: 0.8493319153785706 | auc: 0.865053117275238 | \n",
      "Val update: epoch: 103 |accuracy: 0.7823973298072815 | f1: 0.8449354767799377 | auc: 0.8617034554481506 | treshold: 0.5\n",
      "Test: accuracy: 0.7896022200584412 | f1: 0.8499491214752197 | auc: 0.8656272888183594 | \n",
      "Val update: epoch: 106 |accuracy: 0.7845015525817871 | f1: 0.8452748656272888 | auc: 0.8617144227027893 | treshold: 0.51\n",
      "Test: accuracy: 0.7903276681900024 | f1: 0.8494434952735901 | auc: 0.8658584356307983 | \n",
      "Val update: epoch: 108 |accuracy: 0.7822280526161194 | f1: 0.8451377749443054 | auc: 0.8618679046630859 | treshold: 0.48000000000000004\n",
      "Test: accuracy: 0.7895780205726624 | f1: 0.8504656553268433 | auc: 0.8660097122192383 | \n",
      "Val update: epoch: 109 |accuracy: 0.7811880111694336 | f1: 0.844593346118927 | auc: 0.862741231918335 | treshold: 0.48000000000000004\n",
      "Test: accuracy: 0.7897231578826904 | f1: 0.8506509065628052 | auc: 0.8669370412826538 | \n",
      "Val update: epoch: 111 |accuracy: 0.7825424671173096 | f1: 0.8456931114196777 | auc: 0.8628044128417969 | treshold: 0.48000000000000004\n",
      "Test: accuracy: 0.788223922252655 | f1: 0.8498748540878296 | auc: 0.8665516972541809 | \n",
      "Val update: epoch: 112 |accuracy: 0.7881052494049072 | f1: 0.8459874987602234 | auc: 0.8629258871078491 | treshold: 0.52\n",
      "Test: accuracy: 0.7941240668296814 | f1: 0.8502901196479797 | auc: 0.867180347442627 | \n",
      "Val update: epoch: 114 |accuracy: 0.7852271199226379 | f1: 0.8453877568244934 | auc: 0.8631460666656494 | treshold: 0.52\n",
      "Test: accuracy: 0.7917785048484802 | f1: 0.8500792384147644 | auc: 0.867255449295044 | \n",
      "Val update: epoch: 115 |accuracy: 0.7871378064155579 | f1: 0.8458101749420166 | auc: 0.8631986975669861 | treshold: 0.5\n",
      "Test: accuracy: 0.7933744192123413 | f1: 0.8502217531204224 | auc: 0.8671663999557495 | \n",
      "Val update: epoch: 116 |accuracy: 0.7837033867835999 | f1: 0.8456373810768127 | auc: 0.863397479057312 | treshold: 0.47000000000000003\n",
      "Test: accuracy: 0.7908112406730652 | f1: 0.850816547870636 | auc: 0.8674558401107788 | \n",
      "Val update: epoch: 123 |accuracy: 0.7839694023132324 | f1: 0.8459203243255615 | auc: 0.8640022277832031 | treshold: 0.5\n",
      "Test: accuracy: 0.7907629013061523 | f1: 0.8509002923965454 | auc: 0.86803138256073 | \n",
      "Val update: epoch: 127 |accuracy: 0.7903304100036621 | f1: 0.8465473651885986 | auc: 0.8640174865722656 | treshold: 0.51\n",
      "Test: accuracy: 0.7951154708862305 | f1: 0.8498786091804504 | auc: 0.8679734468460083 | \n",
      "Val update: epoch: 135 |accuracy: 0.7842838764190674 | f1: 0.8463698029518127 | auc: 0.864240288734436 | treshold: 0.48000000000000004\n",
      "Test: accuracy: 0.7905210852622986 | f1: 0.8509693741798401 | auc: 0.8680275678634644 | \n"
     ]
    }
   ],
   "source": [
    "for embeddings in ['explicit','neural', 'svd']:\n",
    "    print(f\"\\nEvaluating {experiment_name} with {embeddings} embeddings\")\n",
    "\n",
    "    model = LogisticRegression(\n",
    "        RecsysEmbedding(\n",
    "            train_num_items, \n",
    "            train_user_item_matrix, \n",
    "            embeddings=embeddings, \n",
    "            embedding_dim=40\n",
    "        ),\n",
    "        output_dim=1\n",
    "    ).to(device)\n",
    "\n",
    "    best_model, metrics = train(\n",
    "        model, \n",
    "        train_loader, val_loader, test_loader, \n",
    "        device=device, lr=1e-3, num_epochs=5000, early_stopping=7,\n",
    "        silent=True\n",
    "    )\n",
    "    \n",
    "    metrics['embeddings'] = embeddings\n",
    "    rl4rs_results.append(metrics)\n",
    "    \n",
    "pd.DataFrame(rl4rs_results).to_csv(f'results/rl4rs_{experiment_name}.csv')\n",
    "del dataset, train_loader, val_loader, test_loader, train_user_item_matrix, train_num_items"
   ]
  },
  {
   "cell_type": "markdown",
   "id": "125ea87b-fa6a-4b05-b580-d3b89e1c4d2c",
   "metadata": {},
   "source": [
    "# OpenCDP"
   ]
  },
  {
   "cell_type": "code",
   "execution_count": 9,
   "id": "a660c8db-f1c3-437e-b4a0-371b0947d64d",
   "metadata": {},
   "outputs": [
    {
     "name": "stdout",
     "output_type": "stream",
     "text": [
      "\n",
      " == cosmetics_10_8.pkl ==\n"
     ]
    },
    {
     "ename": "AttributeError",
     "evalue": "'OpenCDP' object has no attribute 'item_categorical'",
     "output_type": "error",
     "traceback": [
      "\u001b[0;31m---------------------------------------------------------------------------\u001b[0m",
      "\u001b[0;31mAttributeError\u001b[0m                            Traceback (most recent call last)",
      "Cell \u001b[0;32mIn[9], line 14\u001b[0m\n\u001b[1;32m      6\u001b[0m \u001b[38;5;28mprint\u001b[39m(\u001b[38;5;124mf\u001b[39m\u001b[38;5;124m\"\u001b[39m\u001b[38;5;130;01m\\n\u001b[39;00m\u001b[38;5;124m == \u001b[39m\u001b[38;5;132;01m{\u001b[39;00mfilename\u001b[38;5;132;01m}\u001b[39;00m\u001b[38;5;124m ==\u001b[39m\u001b[38;5;124m\"\u001b[39m)\n\u001b[1;32m      7\u001b[0m dataset \u001b[38;5;241m=\u001b[39m OpenCDP\u001b[38;5;241m.\u001b[39mload(os\u001b[38;5;241m.\u001b[39mpath\u001b[38;5;241m.\u001b[39mjoin(pkl_path, filename))\n\u001b[1;32m      8\u001b[0m (\n\u001b[1;32m      9\u001b[0m     train_loader, \n\u001b[1;32m     10\u001b[0m     val_loader,\n\u001b[1;32m     11\u001b[0m     test_loader, \n\u001b[1;32m     12\u001b[0m     train_user_item_matrix, \n\u001b[1;32m     13\u001b[0m     train_num_items\n\u001b[0;32m---> 14\u001b[0m ) \u001b[38;5;241m=\u001b[39m \u001b[43mget_train_val_test_tmatrix_tnumitems\u001b[49m\u001b[43m(\u001b[49m\u001b[43mdataset\u001b[49m\u001b[43m,\u001b[49m\u001b[43m \u001b[49m\u001b[43mbatch_size\u001b[49m\u001b[38;5;241;43m=\u001b[39;49m\u001b[38;5;241;43m800\u001b[39;49m\u001b[43m)\u001b[49m\n\u001b[1;32m     16\u001b[0m \u001b[38;5;28mprint\u001b[39m(\u001b[38;5;124mf\u001b[39m\u001b[38;5;124m\"\u001b[39m\u001b[38;5;132;01m{\u001b[39;00m\u001b[38;5;28mlen\u001b[39m(dataset)\u001b[38;5;132;01m}\u001b[39;00m\u001b[38;5;124m data points among \u001b[39m\u001b[38;5;132;01m{\u001b[39;00m\u001b[38;5;28mlen\u001b[39m(train_loader)\u001b[38;5;132;01m}\u001b[39;00m\u001b[38;5;124m batches\u001b[39m\u001b[38;5;124m\"\u001b[39m)\n\u001b[1;32m     17\u001b[0m \u001b[38;5;28;01mfor\u001b[39;00m embeddings \u001b[38;5;129;01min\u001b[39;00m [\u001b[38;5;124m'\u001b[39m\u001b[38;5;124mneural\u001b[39m\u001b[38;5;124m'\u001b[39m, \u001b[38;5;124m'\u001b[39m\u001b[38;5;124msvd\u001b[39m\u001b[38;5;124m'\u001b[39m]:\n",
      "File \u001b[0;32m~/benchmark/src/utils.py:36\u001b[0m, in \u001b[0;36mget_train_val_test_tmatrix_tnumitems\u001b[0;34m(dataset, train_frac, val_vs_test_frac, batch_size, seed, **kwargs)\u001b[0m\n\u001b[1;32m     30\u001b[0m \u001b[38;5;28;01mdef\u001b[39;00m \u001b[38;5;21mget_train_val_test_tmatrix_tnumitems\u001b[39m(dataset, train_frac\u001b[38;5;241m=\u001b[39m\u001b[38;5;241m0.8\u001b[39m, val_vs_test_frac\u001b[38;5;241m=\u001b[39m\u001b[38;5;241m0.5\u001b[39m, batch_size\u001b[38;5;241m=\u001b[39m\u001b[38;5;241m256\u001b[39m, seed\u001b[38;5;241m=\u001b[39m\u001b[38;5;28;01mNone\u001b[39;00m, \u001b[38;5;241m*\u001b[39m\u001b[38;5;241m*\u001b[39mkwargs):\n\u001b[1;32m     31\u001b[0m \u001b[38;5;250m    \u001b[39m\u001b[38;5;124;03m\"\"\"\u001b[39;00m\n\u001b[1;32m     32\u001b[0m \u001b[38;5;124;03m        Splits datset into train, test and val parts by given fractions.\u001b[39;00m\n\u001b[1;32m     33\u001b[0m \u001b[38;5;124;03m        The `train_frac` of users in dataset will be train set, and the rest is splitted \u001b[39;00m\n\u001b[1;32m     34\u001b[0m \u001b[38;5;124;03m        into val and test in `val_vs_test_frac` proportion.\u001b[39;00m\n\u001b[1;32m     35\u001b[0m \u001b[38;5;124;03m    \"\"\"\u001b[39;00m\n\u001b[0;32m---> 36\u001b[0m     train, rem \u001b[38;5;241m=\u001b[39m \u001b[43mdataset\u001b[49m\u001b[38;5;241;43m.\u001b[39;49m\u001b[43msplit_by_users\u001b[49m\u001b[43m(\u001b[49m\u001b[43mtrain_frac\u001b[49m\u001b[43m,\u001b[49m\u001b[43m \u001b[49m\u001b[43mseed\u001b[49m\u001b[38;5;241;43m=\u001b[39;49m\u001b[43mseed\u001b[49m\u001b[43m)\u001b[49m\n\u001b[1;32m     37\u001b[0m     val, test \u001b[38;5;241m=\u001b[39m rem\u001b[38;5;241m.\u001b[39msplit_by_users(val_vs_test_frac, seed\u001b[38;5;241m=\u001b[39mseed)\n\u001b[1;32m     39\u001b[0m     train_loader \u001b[38;5;241m=\u001b[39m torch\u001b[38;5;241m.\u001b[39mutils\u001b[38;5;241m.\u001b[39mdata\u001b[38;5;241m.\u001b[39mDataLoader(\n\u001b[1;32m     40\u001b[0m         train,\n\u001b[1;32m     41\u001b[0m         batch_size\u001b[38;5;241m=\u001b[39mbatch_size,\n\u001b[0;32m   (...)\u001b[0m\n\u001b[1;32m     44\u001b[0m         \u001b[38;5;241m*\u001b[39m\u001b[38;5;241m*\u001b[39mkwargs\n\u001b[1;32m     45\u001b[0m     )\n",
      "File \u001b[0;32m~/benchmark/src/datasets.py:241\u001b[0m, in \u001b[0;36mRecommendationData.split_by_users\u001b[0;34m(self, ratio, seed, **kwargs)\u001b[0m\n\u001b[1;32m    238\u001b[0m m1 \u001b[38;5;241m=\u001b[39m \u001b[38;5;28mself\u001b[39m\u001b[38;5;241m.\u001b[39mmetadata[\u001b[38;5;28mself\u001b[39m\u001b[38;5;241m.\u001b[39mmetadata[\u001b[38;5;124m'\u001b[39m\u001b[38;5;124muser_id\u001b[39m\u001b[38;5;124m'\u001b[39m]\u001b[38;5;241m.\u001b[39misin(train_users)]\u001b[38;5;241m.\u001b[39mcopy()\n\u001b[1;32m    239\u001b[0m m2 \u001b[38;5;241m=\u001b[39m \u001b[38;5;28mself\u001b[39m\u001b[38;5;241m.\u001b[39mmetadata[\u001b[38;5;28mself\u001b[39m\u001b[38;5;241m.\u001b[39mmetadata[\u001b[38;5;124m'\u001b[39m\u001b[38;5;124muser_id\u001b[39m\u001b[38;5;124m'\u001b[39m]\u001b[38;5;241m.\u001b[39misin(test_users)]\u001b[38;5;241m.\u001b[39mcopy()\n\u001b[1;32m    240\u001b[0m \u001b[38;5;28;01mreturn\u001b[39;00m (\n\u001b[0;32m--> 241\u001b[0m     \u001b[38;5;28;43mself\u001b[39;49m\u001b[38;5;241;43m.\u001b[39;49m\u001b[43m_from_metadata\u001b[49m\u001b[43m(\u001b[49m\u001b[43mm1\u001b[49m\u001b[43m,\u001b[49m\u001b[43m \u001b[49m\u001b[38;5;241;43m*\u001b[39;49m\u001b[38;5;241;43m*\u001b[39;49m\u001b[43mkwargs\u001b[49m\u001b[43m)\u001b[49m, \n\u001b[1;32m    242\u001b[0m     \u001b[38;5;28mself\u001b[39m\u001b[38;5;241m.\u001b[39m_from_metadata(m2, \u001b[38;5;241m*\u001b[39m\u001b[38;5;241m*\u001b[39mkwargs)\n\u001b[1;32m    243\u001b[0m )\n",
      "File \u001b[0;32m~/benchmark/src/datasets.py:169\u001b[0m, in \u001b[0;36mRecommendationData._from_metadata\u001b[0;34m(self, metadata, inplace, **kwargs)\u001b[0m\n\u001b[1;32m    167\u001b[0m \u001b[38;5;28;01mif\u001b[39;00m \u001b[38;5;28mself\u001b[39m\u001b[38;5;241m.\u001b[39mitem_features \u001b[38;5;129;01mis\u001b[39;00m \u001b[38;5;129;01mnot\u001b[39;00m \u001b[38;5;28;01mNone\u001b[39;00m:\n\u001b[1;32m    168\u001b[0m     item_features \u001b[38;5;241m=\u001b[39m \u001b[38;5;28mself\u001b[39m\u001b[38;5;241m.\u001b[39mitem_features[m[\u001b[38;5;124m'\u001b[39m\u001b[38;5;124mitem_feature_idx\u001b[39m\u001b[38;5;124m'\u001b[39m],:]\n\u001b[0;32m--> 169\u001b[0m \u001b[38;5;28;01mif\u001b[39;00m \u001b[38;5;28;43mself\u001b[39;49m\u001b[38;5;241;43m.\u001b[39;49m\u001b[43mitem_categorical\u001b[49m \u001b[38;5;129;01mis\u001b[39;00m \u001b[38;5;129;01mnot\u001b[39;00m \u001b[38;5;28;01mNone\u001b[39;00m:\n\u001b[1;32m    170\u001b[0m     item_categorical \u001b[38;5;241m=\u001b[39m \u001b[38;5;28mself\u001b[39m\u001b[38;5;241m.\u001b[39mitem_categorical[m[\u001b[38;5;124m'\u001b[39m\u001b[38;5;124mitem_feature_idx\u001b[39m\u001b[38;5;124m'\u001b[39m],:]\n\u001b[1;32m    171\u001b[0m \u001b[38;5;28;01mif\u001b[39;00m \u001b[38;5;28mself\u001b[39m\u001b[38;5;241m.\u001b[39muser_features \u001b[38;5;129;01mis\u001b[39;00m \u001b[38;5;129;01mnot\u001b[39;00m \u001b[38;5;28;01mNone\u001b[39;00m:\n",
      "\u001b[0;31mAttributeError\u001b[0m: 'OpenCDP' object has no attribute 'item_categorical'"
     ]
    }
   ],
   "source": [
    "for group in ['cosmetics', 'multi']:\n",
    "    for filename in os.listdir(pkl_path):    \n",
    "        result = []\n",
    "        if not filename.startswith(group):\n",
    "            continue\n",
    "        print(f\"\\n == {filename} ==\")\n",
    "        dataset = OpenCDP.load(os.path.join(pkl_path, filename))\n",
    "        (\n",
    "            train_loader, \n",
    "            val_loader,\n",
    "            test_loader, \n",
    "            train_user_item_matrix, \n",
    "            train_num_items\n",
    "        ) = get_train_val_test_tmatrix_tnumitems(dataset, batch_size=800)\n",
    "    \n",
    "        print(f\"{len(dataset)} data points among {len(train_loader)} batches\")\n",
    "        for embeddings in ['neural', 'svd']:\n",
    "            print(f\"\\nEvaluating {experiment_name} with {embeddings} embeddings\")\n",
    "        \n",
    "            model = LogisticRegression(\n",
    "                RecsysEmbedding(train_num_items, train_user_item_matrix, embeddings=embeddings),\n",
    "                output_dim=1\n",
    "            ).to(device)\n",
    "        \n",
    "            best_model, metrics = train(\n",
    "                model, \n",
    "                train_loader, val_loader, test_loader, \n",
    "                device=device, lr=1e-3, num_epochs=5000, early_stopping=7,\n",
    "                silent=True\n",
    "            )\n",
    "            \n",
    "            print(metrics)\n",
    "            metrics['embeddings'] = embeddings\n",
    "            result.append(metrics)\n",
    "        pd.DataFrame(result).to_csv(f'results/{filename}_{experiment_name}.csv')\n",
    "        del dataset, train_loader, val_loader, test_loader, train_user_item_matrix, train_num_items"
   ]
  }
 ],
 "metadata": {
  "kernelspec": {
   "display_name": "Python 3 (ipykernel)",
   "language": "python",
   "name": "python3"
  },
  "language_info": {
   "codemirror_mode": {
    "name": "ipython",
    "version": 3
   },
   "file_extension": ".py",
   "mimetype": "text/x-python",
   "name": "python",
   "nbconvert_exporter": "python",
   "pygments_lexer": "ipython3",
   "version": "3.10.13"
  }
 },
 "nbformat": 4,
 "nbformat_minor": 5
}
