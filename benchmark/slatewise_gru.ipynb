{
 "cells": [
  {
   "cell_type": "code",
   "execution_count": 1,
   "id": "5c383908",
   "metadata": {},
   "outputs": [
    {
     "data": {
      "text/plain": [
       "<torch._C.Generator at 0x7f2ddc42ab30>"
      ]
     },
     "execution_count": 1,
     "metadata": {},
     "output_type": "execute_result"
    }
   ],
   "source": [
    "import torch\n",
    "import random\n",
    "import datetime\n",
    "import pandas as pd\n",
    "import numpy as np\n",
    "import os\n",
    "\n",
    "from torch.utils.data import Dataset\n",
    "from src.datasets import RL4RS, ContentWise, DummyData\n",
    "from src.utils import train, get_dummy_data, get_train_val_test_tmatrix_tnumitems, fit_treshold\n",
    "from src.embeddings import RecsysEmbedding\n",
    "from sklearn.linear_model import LogisticRegression\n",
    "\n",
    "experiment_name = 'SlatewiseGRU'\n",
    "device = 'cuda:2'\n",
    "seed = 7331\n",
    "pkl_path = '../pkl/'\n",
    "\n",
    "\n",
    "random.seed(seed)\n",
    "np.random.seed(seed)\n",
    "torch.manual_seed(seed)"
   ]
  },
  {
   "cell_type": "code",
   "execution_count": 2,
   "id": "8d7ef1f9",
   "metadata": {},
   "outputs": [],
   "source": [
    "def flatten(true, pred, mask, to_cpu=True):\n",
    "    mask = mask.flatten()\n",
    "    nnz_idx = mask.nonzero()[:, 0]\n",
    "    true, pred = [x.flatten()[nnz_idx] for x in [true, pred]]\n",
    "    if to_cpu:\n",
    "        true, pred = [x.cpu().numpy() for x in [true, pred]]\n",
    "    return true, pred"
   ]
  },
  {
   "cell_type": "markdown",
   "id": "0bca4881",
   "metadata": {},
   "source": [
    "# Модель"
   ]
  },
  {
   "cell_type": "code",
   "execution_count": 3,
   "id": "fac4ae1a",
   "metadata": {},
   "outputs": [],
   "source": [
    "import torch.nn as nn\n",
    "import torch.nn.functional as F\n",
    "\n",
    "class SlatewiseGRU(nn.Module):\n",
    "    def __init__(self, embedding, readout=False):\n",
    "        super().__init__()\n",
    "        \n",
    "        self.embedding = embedding\n",
    "        \n",
    "        self.emb_dim = embedding.embedding_dim\n",
    "        self.rnn_layer = nn.GRU(\n",
    "            input_size=self.emb_dim * 2, \n",
    "            hidden_size=self.emb_dim, \n",
    "            batch_first=True\n",
    "        )\n",
    "        self.out_layer = nn.Linear(self.emb_dim, 1)\n",
    "        \n",
    "        self.thr = -1.5\n",
    "        self.readout = readout\n",
    "        self.readout_mode = 'threshold' # ['soft' ,'threshold', 'sample', 'diff_sample']\n",
    "        \n",
    "        self.calibration = False\n",
    "        self.w = 1\n",
    "        self.b = 0\n",
    "\n",
    "    def forward(self, batch):\n",
    "        item_embs, user_embs = self.embedding(batch)\n",
    "        shp = item_embs.shape\n",
    "        max_sequence = item_embs.size(1)\n",
    "        # ilya format:\n",
    "        # 'items': (batch, slate, 2*embedding_dim ) 2, нужно для readout, по умолчанию ноли на половине эмбеддинга\n",
    "        # 'clicks': (batch, slate)\n",
    "        # 'users': (1, batch, embedding_dim), \n",
    "        # 'mask': (batch, slate)\n",
    "        \n",
    "        x = {}\n",
    "        x['items'] = torch.cat(\n",
    "            [\n",
    "                item_embs.flatten(0,1),\n",
    "                torch.zeros_like(item_embs.flatten(0,1)),\n",
    "            ],\n",
    "            dim = -1\n",
    "        )\n",
    "                \n",
    "        if self.training:\n",
    "            indices = (batch['length'] - 1)\n",
    "        else:\n",
    "            indices = (batch['in_length'] - 1)\n",
    "        indices[indices<0] = 0\n",
    "        indices = indices[:, None, None].repeat(1, 1, user_embs.size(-1))\n",
    "        user_embs = user_embs.gather(1, indices).squeeze(-2).unsqueeze(0)\n",
    "        x['users'] = user_embs.repeat_interleave(max_sequence, 1)\n",
    "        x['clicks'] = (batch['responses'].flatten(0,1) > 0 ).int().clone()\n",
    "        x['mask'] = batch['slates_mask'].flatten(0,1).clone()\n",
    "        \n",
    "        items = x['items']\n",
    "        h = x['users']\n",
    "        \n",
    "        if self.readout:\n",
    "            res = []\n",
    "            seq_len = items.shape[1]\n",
    "            for i in range(seq_len):\n",
    "#                 print(items[:,[i],:])\n",
    "                output, h = self.rnn_layer(items[:,[i],:], h)\n",
    "                y = self.out_layer(output)[:, :, 0]\n",
    "                \n",
    "                # readout\n",
    "                if i + 1 < seq_len:\n",
    "                    if self.readout_mode == 'threshold':\n",
    "                        items[:, [i+1], self.emb_dim:] *= (y.detach()[:, :, None] > self.thr).to(torch.float32)\n",
    "                    elif self.readout_mode == 'soft':\n",
    "                        items[:, [i+1], self.emb_dim:] *= torch.sigmoid(y)[:, :, None]\n",
    "                    elif self.readout_mode == 'diff_sample' or self.readout_mode == 'sample':\n",
    "                        eps = 1e-8\n",
    "                        gumbel_sample = -( (torch.rand_like(y) + eps).log() / (torch.rand_like(y) + eps).log() + eps).log()\n",
    "                        T = 0.3\n",
    "                        bernoulli_sample = torch.sigmoid( (nn.LogSigmoid()(self.w * y + self.b) + gumbel_sample) / T )\n",
    "                        if self.readout_mode == 'sample':\n",
    "                            bernoulli_sample = bernoulli_sample.detach()\n",
    "                        items[:, [i+1], self.emb_dim:] *= bernoulli_sample[:, :, None]\n",
    "                    else:\n",
    "                        raise\n",
    "                    \n",
    "                res.append(y)\n",
    "        \n",
    "            y = torch.cat(res, axis=1)\n",
    "            \n",
    "        else:\n",
    "            items[:, 1:, self.emb_dim:] *= x['clicks'][:, :-1, None]\n",
    "            rnn_out, _ = self.rnn_layer(items, h)\n",
    "            y = self.out_layer(rnn_out)[:, :, 0]\n",
    "        \n",
    "        \n",
    "        if self.calibration and self.training:\n",
    "            clicks_flat, logits_flat = flatten(x['clicks'], y.detach(), x['mask'])\n",
    "            logreg = LogisticRegression()\n",
    "            logreg.fit(logits_flat[:, None], clicks_flat)\n",
    "            γ = 0.3\n",
    "            self.w = (1 - γ) * self.w + γ * logreg.coef_[0, 0]\n",
    "            self.b = (1 - γ) * self.b + γ * logreg.intercept_[0]\n",
    "            y = self.w * y + self.b\n",
    "        else:\n",
    "            y = self.w * y + self.b\n",
    "            \n",
    "        return y.reshape(shp[:-1])"
   ]
  },
  {
   "cell_type": "markdown",
   "id": "b7f10395",
   "metadata": {},
   "source": [
    "# Игрушечный датасет: проверим, что сходится к идеальным метрикам"
   ]
  },
  {
   "cell_type": "code",
   "execution_count": 4,
   "id": "e3b0c48a",
   "metadata": {},
   "outputs": [
    {
     "name": "stdout",
     "output_type": "stream",
     "text": [
      "biulding affinity matrix...\n"
     ]
    },
    {
     "name": "stderr",
     "output_type": "stream",
     "text": [
      "3it [00:00, 3458.74it/s]\n"
     ]
    },
    {
     "name": "stdout",
     "output_type": "stream",
     "text": [
      "Test before learning: {'f1': 0.0, 'roc-auc': 0.3333333134651184, 'accuracy': 0.75}\n"
     ]
    },
    {
     "name": "stderr",
     "output_type": "stream",
     "text": [
      "train... loss:0.7181857228279114:   0%|                                                                                                    | 1/5000 [00:00<26:43,  3.12it/s]"
     ]
    },
    {
     "name": "stdout",
     "output_type": "stream",
     "text": [
      "Val update: epoch: 0 |accuracy: 0.25 | f1: 0.4000000059604645 | auc: 0.3333333134651184 | treshold: 0.01\n",
      "Test: accuracy: 0.25 | f1: 0.4000000059604645 | auc: 0.3333333134651184 | \n"
     ]
    },
    {
     "name": "stderr",
     "output_type": "stream",
     "text": [
      "train... loss:0.7011198401451111:   1%|▊                                                                                                  | 42/5000 [00:09<21:07,  3.91it/s]"
     ]
    },
    {
     "name": "stdout",
     "output_type": "stream",
     "text": [
      "Val update: epoch: 41 |accuracy: 0.25 | f1: 0.4000000059604645 | auc: 0.6666666269302368 | treshold: 0.01\n",
      "Test: accuracy: 0.25 | f1: 0.4000000059604645 | auc: 0.6666666269302368 | \n"
     ]
    },
    {
     "name": "stderr",
     "output_type": "stream",
     "text": [
      "train... loss:0.6998206377029419:   1%|▉                                                                                                  | 45/5000 [00:10<21:54,  3.77it/s]"
     ]
    },
    {
     "name": "stdout",
     "output_type": "stream",
     "text": [
      "Val update: epoch: 44 |accuracy: 0.25 | f1: 0.4000000059604645 | auc: 1.0 | treshold: 0.01\n",
      "Test: accuracy: 0.25 | f1: 0.4000000059604645 | auc: 1.0 | \n"
     ]
    },
    {
     "name": "stderr",
     "output_type": "stream",
     "text": [
      "train... loss:0.6820520758628845:   2%|█▋                                                                                                 | 85/5000 [00:19<20:37,  3.97it/s]"
     ]
    },
    {
     "name": "stdout",
     "output_type": "stream",
     "text": [
      "Val update: epoch: 84 |accuracy: 0.75 | f1: 0.6666666865348816 | auc: 1.0 | treshold: 0.36000000000000004\n",
      "Test: accuracy: 0.75 | f1: 0.6666666865348816 | auc: 1.0 | \n"
     ]
    },
    {
     "name": "stderr",
     "output_type": "stream",
     "text": [
      "train... loss:0.6675306558609009:   2%|██▎                                                                                               | 117/5000 [00:26<18:25,  4.42it/s]"
     ]
    },
    {
     "name": "stdout",
     "output_type": "stream",
     "text": [
      "Val update: epoch: 117 |accuracy: 1.0 | f1: 1.0 | auc: 1.0 | treshold: 0.38\n",
      "Test: accuracy: 1.0 | f1: 1.0 | auc: 1.0 | \n"
     ]
    },
    {
     "name": "stderr",
     "output_type": "stream",
     "text": [
      "\n"
     ]
    },
    {
     "data": {
      "text/plain": [
       "(SlatewiseGRU(\n",
       "   (embedding): RecsysEmbedding()\n",
       "   (rnn_layer): GRU(4, 2, batch_first=True)\n",
       "   (out_layer): Linear(in_features=2, out_features=1, bias=True)\n",
       " ),\n",
       " {'f1': 1.0, 'roc-auc': 1.0, 'accuracy': 1.0})"
      ]
     },
     "execution_count": 4,
     "metadata": {},
     "output_type": "execute_result"
    }
   ],
   "source": [
    "d = DummyData()\n",
    "dummy_loader, dummy_matrix = get_dummy_data(d)\n",
    "\n",
    "model = SlatewiseGRU(\n",
    "    RecsysEmbedding(d.n_items, dummy_matrix, embeddings='svd', embedding_dim = 2),\n",
    "    readout=False\n",
    ").to('cpu')\n",
    "\n",
    "train(\n",
    "    model, \n",
    "    dummy_loader, dummy_loader, dummy_loader,\n",
    "    device=device, lr=1e-3, num_epochs=5000, dummy=True,\n",
    "    silent=True,\n",
    ")\n"
   ]
  },
  {
   "cell_type": "markdown",
   "id": "d75e3124",
   "metadata": {},
   "source": [
    "# ContentWise"
   ]
  },
  {
   "cell_type": "code",
   "execution_count": 5,
   "id": "cdd02bb7",
   "metadata": {},
   "outputs": [
    {
     "name": "stdout",
     "output_type": "stream",
     "text": [
      "20216 data points among 108 batches\n"
     ]
    }
   ],
   "source": [
    "content_wise_results = []\n",
    "dataset = ContentWise.load(os.path.join(pkl_path, 'cw.pkl'))\n",
    "(\n",
    "    train_loader, \n",
    "    val_loader, \n",
    "    test_loader, \n",
    "    train_user_item_matrix, \n",
    "    train_num_items \n",
    ") = get_train_val_test_tmatrix_tnumitems(dataset, batch_size=150)\n",
    "\n",
    "print(f\"{len(dataset)} data points among {len(train_loader)} batches\")"
   ]
  },
  {
   "cell_type": "code",
   "execution_count": 6,
   "id": "54fb5b28",
   "metadata": {},
   "outputs": [
    {
     "name": "stdout",
     "output_type": "stream",
     "text": [
      "\n",
      "Evaluating SlatewiseGRU with svd embeddings\n",
      "Test before learning: {'f1': 0.17239901423454285, 'roc-auc': 0.4641438126564026, 'accuracy': 0.11004862934350967}\n"
     ]
    },
    {
     "name": "stderr",
     "output_type": "stream",
     "text": [
      "train... loss:49.18179851770401:   0%|                                                                                                  | 1/5000 [00:39<55:26:15, 39.92s/it]"
     ]
    },
    {
     "name": "stdout",
     "output_type": "stream",
     "text": [
      "Val update: epoch: 0 |accuracy: 0.1531217247247696 | f1: 0.18792562186717987 | auc: 0.6076698899269104 | treshold: 0.09\n",
      "Test: accuracy: 0.17369838058948517 | f1: 0.1841088980436325 | auc: 0.6171619892120361 | \n"
     ]
    },
    {
     "name": "stderr",
     "output_type": "stream",
     "text": [
      "train... loss:34.75427806377411:   0%|                                                                                                  | 2/5000 [00:47<29:18:44, 21.11s/it]"
     ]
    },
    {
     "name": "stdout",
     "output_type": "stream",
     "text": [
      "Val update: epoch: 1 |accuracy: 0.7042703628540039 | f1: 0.23013544082641602 | auc: 0.608708381652832 | treshold: 0.13\n",
      "Test: accuracy: 0.7140371203422546 | f1: 0.2277820110321045 | auc: 0.6147950887680054 | \n"
     ]
    },
    {
     "name": "stderr",
     "output_type": "stream",
     "text": [
      "train... loss:33.50057601928711:   0%|                                                                                                  | 3/5000 [00:55<20:54:11, 15.06s/it]"
     ]
    },
    {
     "name": "stdout",
     "output_type": "stream",
     "text": [
      "Val update: epoch: 2 |accuracy: 0.8128049373626709 | f1: 0.23322582244873047 | auc: 0.6253132820129395 | treshold: 0.13\n",
      "Test: accuracy: 0.8206504583358765 | f1: 0.23027826845645905 | auc: 0.6287914514541626 | \n"
     ]
    },
    {
     "name": "stderr",
     "output_type": "stream",
     "text": [
      "train... loss:32.839709997177124:   0%|                                                                                                 | 4/5000 [01:03<16:57:21, 12.22s/it]"
     ]
    },
    {
     "name": "stdout",
     "output_type": "stream",
     "text": [
      "Val update: epoch: 3 |accuracy: 0.8089298009872437 | f1: 0.241201713681221 | auc: 0.6412267088890076 | treshold: 0.13\n",
      "Test: accuracy: 0.8171557188034058 | f1: 0.23751938343048096 | auc: 0.6442759037017822 | \n"
     ]
    },
    {
     "name": "stderr",
     "output_type": "stream",
     "text": [
      "train... loss:32.555352568626404:   0%|                                                                                                 | 5/5000 [01:11<14:46:46, 10.65s/it]"
     ]
    },
    {
     "name": "stdout",
     "output_type": "stream",
     "text": [
      "Val update: epoch: 4 |accuracy: 0.7933675050735474 | f1: 0.2504480183124542 | auc: 0.6517706513404846 | treshold: 0.12\n",
      "Test: accuracy: 0.802328884601593 | f1: 0.24520158767700195 | auc: 0.6563292741775513 | \n"
     ]
    },
    {
     "name": "stderr",
     "output_type": "stream",
     "text": [
      "train... loss:32.29015788435936:   0%|                                                                                                  | 6/5000 [01:19<13:26:58,  9.70s/it]"
     ]
    },
    {
     "name": "stdout",
     "output_type": "stream",
     "text": [
      "Val update: epoch: 5 |accuracy: 0.7607762813568115 | f1: 0.24923688173294067 | auc: 0.6570345163345337 | treshold: 0.12\n",
      "Test: accuracy: 0.7719316482543945 | f1: 0.2461659461259842 | auc: 0.6631274819374084 | \n"
     ]
    },
    {
     "name": "stderr",
     "output_type": "stream",
     "text": [
      "train... loss:31.412767827510834:   0%|▏                                                                                               | 12/5000 [02:03<10:46:23,  7.78s/it]"
     ]
    },
    {
     "name": "stdout",
     "output_type": "stream",
     "text": [
      "Val update: epoch: 11 |accuracy: 0.7911597490310669 | f1: 0.2581848204135895 | auc: 0.65810626745224 | treshold: 0.12\n",
      "Test: accuracy: 0.7994586825370789 | f1: 0.26283279061317444 | auc: 0.668986439704895 | \n"
     ]
    },
    {
     "name": "stderr",
     "output_type": "stream",
     "text": [
      "train... loss:31.35055923461914:   0%|▎                                                                                                | 13/5000 [02:11<10:49:41,  7.82s/it]"
     ]
    },
    {
     "name": "stdout",
     "output_type": "stream",
     "text": [
      "Val update: epoch: 12 |accuracy: 0.8794695138931274 | f1: 0.2327272742986679 | auc: 0.663524329662323 | treshold: 0.15000000000000002\n",
      "Test: accuracy: 0.8852073550224304 | f1: 0.22848576307296753 | auc: 0.6673926711082458 | \n"
     ]
    },
    {
     "name": "stderr",
     "output_type": "stream",
     "text": [
      "train... loss:31.134289383888245:   0%|▎                                                                                               | 14/5000 [02:19<10:50:15,  7.82s/it]"
     ]
    },
    {
     "name": "stdout",
     "output_type": "stream",
     "text": [
      "Val update: epoch: 13 |accuracy: 0.869974672794342 | f1: 0.24425700306892395 | auc: 0.6640497446060181 | treshold: 0.13\n",
      "Test: accuracy: 0.8761358261108398 | f1: 0.24123166501522064 | auc: 0.6726142168045044 | \n"
     ]
    },
    {
     "name": "stderr",
     "output_type": "stream",
     "text": [
      "train... loss:31.147396057844162:   0%|▎                                                                                               | 15/5000 [02:27<10:51:55,  7.85s/it]"
     ]
    },
    {
     "name": "stdout",
     "output_type": "stream",
     "text": [
      "Val update: epoch: 14 |accuracy: 0.8480361700057983 | f1: 0.2621992230415344 | auc: 0.6647053956985474 | treshold: 0.14\n",
      "Test: accuracy: 0.8570111393928528 | f1: 0.2589595317840576 | auc: 0.6712898015975952 | \n"
     ]
    },
    {
     "name": "stderr",
     "output_type": "stream",
     "text": [
      "train... loss:31.132243365049362:   0%|▎                                                                                               | 16/5000 [02:35<10:52:17,  7.85s/it]"
     ]
    },
    {
     "name": "stdout",
     "output_type": "stream",
     "text": [
      "Val update: epoch: 15 |accuracy: 0.7881800532341003 | f1: 0.2650524973869324 | auc: 0.666884183883667 | treshold: 0.13\n",
      "Test: accuracy: 0.7963654398918152 | f1: 0.2663809359073639 | auc: 0.6734336614608765 | \n"
     ]
    },
    {
     "name": "stderr",
     "output_type": "stream",
     "text": [
      "train... loss:30.956328779459:   0%|▎                                                                                                  | 18/5000 [02:50<10:45:13,  7.77s/it]"
     ]
    },
    {
     "name": "stdout",
     "output_type": "stream",
     "text": [
      "Val update: epoch: 17 |accuracy: 0.8699901103973389 | f1: 0.2648625075817108 | auc: 0.6687343120574951 | treshold: 0.14\n",
      "Test: accuracy: 0.875734269618988 | f1: 0.2505829632282257 | auc: 0.6749803423881531 | \n"
     ]
    },
    {
     "name": "stderr",
     "output_type": "stream",
     "text": [
      "train... loss:30.77937039732933:   0%|▎                                                                                                | 19/5000 [02:58<10:48:20,  7.81s/it]"
     ]
    },
    {
     "name": "stdout",
     "output_type": "stream",
     "text": [
      "Val update: epoch: 18 |accuracy: 0.88271164894104 | f1: 0.24430517852306366 | auc: 0.6701903939247131 | treshold: 0.16\n",
      "Test: accuracy: 0.8883006572723389 | f1: 0.23567721247673035 | auc: 0.6745896339416504 | \n"
     ]
    },
    {
     "name": "stderr",
     "output_type": "stream",
     "text": [
      "train... loss:30.456127643585205:   0%|▍                                                                                               | 23/5000 [03:28<10:34:06,  7.64s/it]"
     ]
    },
    {
     "name": "stdout",
     "output_type": "stream",
     "text": [
      "Val update: epoch: 22 |accuracy: 0.8794540762901306 | f1: 0.2549618184566498 | auc: 0.6710207462310791 | treshold: 0.14\n",
      "Test: accuracy: 0.8843894600868225 | f1: 0.24801702797412872 | auc: 0.6725579500198364 | \n"
     ]
    },
    {
     "name": "stderr",
     "output_type": "stream",
     "text": [
      "train... loss:30.083432763814926:   1%|▍                                                                                               | 26/5000 [03:51<10:32:18,  7.63s/it]"
     ]
    },
    {
     "name": "stdout",
     "output_type": "stream",
     "text": [
      "Val update: epoch: 25 |accuracy: 0.8552924394607544 | f1: 0.2777221202850342 | auc: 0.6739699840545654 | treshold: 0.14\n",
      "Test: accuracy: 0.8624540567398071 | f1: 0.26914262771606445 | auc: 0.6788731217384338 | \n"
     ]
    },
    {
     "name": "stderr",
     "output_type": "stream",
     "text": [
      "train... loss:29.995643123984337:   1%|▋                                                                                               | 33/5000 [04:43<10:29:39,  7.61s/it]"
     ]
    },
    {
     "name": "stdout",
     "output_type": "stream",
     "text": [
      "Val update: epoch: 32 |accuracy: 0.7833940386772156 | f1: 0.2799958884716034 | auc: 0.6755121946334839 | treshold: 0.13\n",
      "Test: accuracy: 0.7856282591819763 | f1: 0.26927560567855835 | auc: 0.6755298972129822 | \n"
     ]
    },
    {
     "name": "stderr",
     "output_type": "stream",
     "text": [
      "train... loss:29.87032163143158:   1%|▋                                                                                                | 35/5000 [04:59<10:37:21,  7.70s/it]"
     ]
    },
    {
     "name": "stdout",
     "output_type": "stream",
     "text": [
      "Val update: epoch: 34 |accuracy: 0.8797783255577087 | f1: 0.27190276980400085 | auc: 0.6760849952697754 | treshold: 0.14\n",
      "Test: accuracy: 0.8857873678207397 | f1: 0.26153847575187683 | auc: 0.67588210105896 | \n"
     ]
    },
    {
     "name": "stderr",
     "output_type": "stream",
     "text": [
      "train... loss:29.62252241373062:   1%|▋                                                                                                | 37/5000 [05:14<10:36:34,  7.70s/it]"
     ]
    },
    {
     "name": "stdout",
     "output_type": "stream",
     "text": [
      "Val update: epoch: 36 |accuracy: 0.8637065291404724 | f1: 0.27981725335121155 | auc: 0.6765272617340088 | treshold: 0.15000000000000002\n",
      "Test: accuracy: 0.8710200190544128 | f1: 0.27646616101264954 | auc: 0.680415689945221 | \n"
     ]
    },
    {
     "name": "stderr",
     "output_type": "stream",
     "text": [
      "train... loss:29.62823587656021:   1%|▋                                                                                                | 38/5000 [05:22<10:41:51,  7.76s/it]"
     ]
    },
    {
     "name": "stdout",
     "output_type": "stream",
     "text": [
      "Val update: epoch: 37 |accuracy: 0.8845025897026062 | f1: 0.26678428053855896 | auc: 0.6772441267967224 | treshold: 0.16\n",
      "Test: accuracy: 0.8896390795707703 | f1: 0.25199073553085327 | auc: 0.6794477105140686 | \n"
     ]
    },
    {
     "name": "stderr",
     "output_type": "stream",
     "text": [
      "train... loss:29.56452512741089:   1%|▊                                                                                                | 40/5000 [05:37<10:40:57,  7.75s/it]"
     ]
    },
    {
     "name": "stdout",
     "output_type": "stream",
     "text": [
      "Val update: epoch: 39 |accuracy: 0.8257426023483276 | f1: 0.2882905602455139 | auc: 0.6812461614608765 | treshold: 0.14\n",
      "Test: accuracy: 0.8320122361183167 | f1: 0.2793160676956177 | auc: 0.6825573444366455 | \n"
     ]
    },
    {
     "name": "stderr",
     "output_type": "stream",
     "text": [
      "train... loss:29.593356609344482:   1%|▉                                                                                               | 49/5000 [06:52<11:35:24,  8.43s/it]\n"
     ]
    },
    {
     "name": "stdout",
     "output_type": "stream",
     "text": [
      "\n",
      "Evaluating SlatewiseGRU with neural embeddings\n",
      "Test before learning: {'f1': 0.1642305850982666, 'roc-auc': 0.525184154510498, 'accuracy': 0.6215962767601013}\n"
     ]
    },
    {
     "name": "stderr",
     "output_type": "stream",
     "text": [
      "train... loss:44.94625923037529:   0%|                                                                                                  | 1/5000 [00:10<14:02:29, 10.11s/it]"
     ]
    },
    {
     "name": "stdout",
     "output_type": "stream",
     "text": [
      "Val update: epoch: 0 |accuracy: 0.1853424310684204 | f1: 0.19218933582305908 | auc: 0.62271648645401 | treshold: 0.09999999999999999\n",
      "Test: accuracy: 0.19773061573505402 | f1: 0.18699419498443604 | auc: 0.6265320777893066 | \n"
     ]
    },
    {
     "name": "stderr",
     "output_type": "stream",
     "text": [
      "train... loss:33.257901936769485:   0%|                                                                                                 | 2/5000 [00:20<13:55:09, 10.03s/it]"
     ]
    },
    {
     "name": "stdout",
     "output_type": "stream",
     "text": [
      "Val update: epoch: 1 |accuracy: 0.8082504868507385 | f1: 0.2585960030555725 | auc: 0.6666598916053772 | treshold: 0.15000000000000002\n",
      "Test: accuracy: 0.815623939037323 | f1: 0.2503325641155243 | auc: 0.6668229103088379 | \n"
     ]
    },
    {
     "name": "stderr",
     "output_type": "stream",
     "text": [
      "train... loss:31.76764327287674:   0%|                                                                                                  | 3/5000 [00:30<13:52:31, 10.00s/it]"
     ]
    },
    {
     "name": "stdout",
     "output_type": "stream",
     "text": [
      "Val update: epoch: 2 |accuracy: 0.8633051514625549 | f1: 0.26044103503227234 | auc: 0.6961171627044678 | treshold: 0.14\n",
      "Test: accuracy: 0.8675698637962341 | f1: 0.2466796338558197 | auc: 0.6978551149368286 | \n"
     ]
    },
    {
     "name": "stderr",
     "output_type": "stream",
     "text": [
      "train... loss:30.985296338796616:   0%|                                                                                                 | 4/5000 [00:40<13:51:51,  9.99s/it]"
     ]
    },
    {
     "name": "stdout",
     "output_type": "stream",
     "text": [
      "Val update: epoch: 3 |accuracy: 0.8812912702560425 | f1: 0.23893892765045166 | auc: 0.7141842842102051 | treshold: 0.16\n",
      "Test: accuracy: 0.8865755796432495 | f1: 0.22936242818832397 | auc: 0.713141918182373 | \n"
     ]
    },
    {
     "name": "stderr",
     "output_type": "stream",
     "text": [
      "train... loss:30.275600731372833:   0%|                                                                                                 | 5/5000 [00:49<13:45:49,  9.92s/it]"
     ]
    },
    {
     "name": "stdout",
     "output_type": "stream",
     "text": [
      "Val update: epoch: 4 |accuracy: 0.8560952544212341 | f1: 0.29080119729042053 | auc: 0.7161807417869568 | treshold: 0.16\n",
      "Test: accuracy: 0.8590931296348572 | f1: 0.2744467556476593 | auc: 0.7144386172294617 | \n"
     ]
    },
    {
     "name": "stderr",
     "output_type": "stream",
     "text": [
      "train... loss:29.802046537399292:   0%|                                                                                                 | 6/5000 [00:59<13:47:41,  9.94s/it]"
     ]
    },
    {
     "name": "stdout",
     "output_type": "stream",
     "text": [
      "Val update: epoch: 5 |accuracy: 0.8415210247039795 | f1: 0.30963748693466187 | auc: 0.7247567176818848 | treshold: 0.16\n",
      "Test: accuracy: 0.8452180624008179 | f1: 0.2974213659763336 | auc: 0.7236754298210144 | \n"
     ]
    },
    {
     "name": "stderr",
     "output_type": "stream",
     "text": [
      "train... loss:28.193827345967293:   0%|▏                                                                                               | 10/5000 [01:38<13:25:55,  9.69s/it]"
     ]
    },
    {
     "name": "stdout",
     "output_type": "stream",
     "text": [
      "Val update: epoch: 9 |accuracy: 0.8868029117584229 | f1: 0.27117297053337097 | auc: 0.728812575340271 | treshold: 0.2\n",
      "Test: accuracy: 0.8917359709739685 | f1: 0.2575973868370056 | auc: 0.7287331223487854 | \n"
     ]
    },
    {
     "name": "stderr",
     "output_type": "stream",
     "text": [
      "train... loss:27.960309609770775:   0%|▏                                                                                               | 11/5000 [01:48<13:36:36,  9.82s/it]"
     ]
    },
    {
     "name": "stdout",
     "output_type": "stream",
     "text": [
      "Val update: epoch: 10 |accuracy: 0.8797783255577087 | f1: 0.29637661576271057 | auc: 0.7294415235519409 | treshold: 0.19\n",
      "Test: accuracy: 0.8848801851272583 | f1: 0.2837049961090088 | auc: 0.7288740873336792 | \n"
     ]
    },
    {
     "name": "stderr",
     "output_type": "stream",
     "text": [
      "train... loss:26.77064834535122:   0%|▎                                                                                                | 16/5000 [02:36<13:28:21,  9.73s/it]"
     ]
    },
    {
     "name": "stdout",
     "output_type": "stream",
     "text": [
      "Val update: epoch: 15 |accuracy: 0.8843481540679932 | f1: 0.2902889549732208 | auc: 0.730168342590332 | treshold: 0.22\n",
      "Test: accuracy: 0.8881370425224304 | f1: 0.28005358576774597 | auc: 0.7283613681793213 | \n"
     ]
    },
    {
     "name": "stderr",
     "output_type": "stream",
     "text": [
      "train... loss:25.189408838748932:   1%|▋                                                                                               | 37/5000 [06:05<13:37:07,  9.88s/it]\n"
     ]
    }
   ],
   "source": [
    "for embeddings in ['svd', 'neural']:\n",
    "    print(f\"\\nEvaluating {experiment_name} with {embeddings} embeddings\")\n",
    "    model = SlatewiseGRU(\n",
    "        RecsysEmbedding(train_num_items, train_user_item_matrix, embeddings=embeddings).to('cpu'),\n",
    "    ).to(device)\n",
    "\n",
    "    _, metrics = train(\n",
    "        model, \n",
    "        train_loader, val_loader, test_loader, \n",
    "        device=device, lr=1e-3, num_epochs=5000, early_stopping=7,\n",
    "       silent=True, \n",
    "    )\n",
    "    \n",
    "    metrics['embeddings'] = embeddings\n",
    "    content_wise_results.append(metrics)"
   ]
  },
  {
   "cell_type": "code",
   "execution_count": 7,
   "id": "dbbe3795-c4a1-46a1-9096-06f0ef40c314",
   "metadata": {},
   "outputs": [],
   "source": [
    "pd.DataFrame(content_wise_results).to_csv(f'results/cw_{experiment_name}.csv')\n",
    "del dataset, train_loader, val_loader, test_loader, train_user_item_matrix, train_num_items"
   ]
  },
  {
   "cell_type": "markdown",
   "id": "75c75010",
   "metadata": {},
   "source": [
    "# RL4RS"
   ]
  },
  {
   "cell_type": "code",
   "execution_count": 8,
   "id": "e63efbd3",
   "metadata": {},
   "outputs": [
    {
     "name": "stdout",
     "output_type": "stream",
     "text": [
      "45942 data points among 106 batches\n"
     ]
    }
   ],
   "source": [
    "rl4rs_results = []\n",
    "dataset = RL4RS.load(os.path.join(pkl_path, 'rl4rs.pkl'))\n",
    "(\n",
    "    train_loader, \n",
    "    val_loader, \n",
    "    test_loader, \n",
    "    train_user_item_matrix, \n",
    "    train_num_items \n",
    ") = get_train_val_test_tmatrix_tnumitems(dataset, batch_size=350)\n",
    "\n",
    "print(f\"{len(dataset)} data points among {len(train_loader)} batches\")"
   ]
  },
  {
   "cell_type": "code",
   "execution_count": 9,
   "id": "44ccc886",
   "metadata": {},
   "outputs": [
    {
     "name": "stdout",
     "output_type": "stream",
     "text": [
      "\n",
      "Evaluating SlatewiseGRU with neural embeddings\n",
      "Test before learning: {'f1': 0.16593550145626068, 'roc-auc': 0.48787927627563477, 'accuracy': 0.3701607882976532}\n"
     ]
    },
    {
     "name": "stderr",
     "output_type": "stream",
     "text": [
      "train... loss:63.73415842652321:   0%|                                                                                                  | 1/5000 [01:03<87:35:14, 63.08s/it]"
     ]
    },
    {
     "name": "stdout",
     "output_type": "stream",
     "text": [
      "Val update: epoch: 0 |accuracy: 0.7681758999824524 | f1: 0.8368760347366333 | auc: 0.8075522184371948 | treshold: 0.39\n",
      "Test: accuracy: 0.7684923410415649 | f1: 0.8374698758125305 | auc: 0.8102037906646729 | \n"
     ]
    },
    {
     "name": "stderr",
     "output_type": "stream",
     "text": [
      "train... loss:48.87808521091938:   0%|                                                                                                  | 2/5000 [01:09<41:34:08, 29.94s/it]"
     ]
    },
    {
     "name": "stdout",
     "output_type": "stream",
     "text": [
      "Val update: epoch: 1 |accuracy: 0.8034634590148926 | f1: 0.8563498854637146 | auc: 0.8670310974121094 | treshold: 0.41000000000000003\n",
      "Test: accuracy: 0.7996131181716919 | f1: 0.8537545204162598 | auc: 0.8656007051467896 | \n"
     ]
    },
    {
     "name": "stderr",
     "output_type": "stream",
     "text": [
      "train... loss:41.56733526289463:   0%|                                                                                                  | 3/5000 [01:16<26:58:36, 19.43s/it]"
     ]
    },
    {
     "name": "stdout",
     "output_type": "stream",
     "text": [
      "Val update: epoch: 2 |accuracy: 0.8006578683853149 | f1: 0.8590484857559204 | auc: 0.887866735458374 | treshold: 0.42000000000000004\n",
      "Test: accuracy: 0.7945109605789185 | f1: 0.8547151684761047 | auc: 0.8860260844230652 | \n"
     ]
    },
    {
     "name": "stderr",
     "output_type": "stream",
     "text": [
      "train... loss:36.58666281402111:   0%|                                                                                                  | 4/5000 [01:23<20:03:45, 14.46s/it]"
     ]
    },
    {
     "name": "stdout",
     "output_type": "stream",
     "text": [
      "Val update: epoch: 3 |accuracy: 0.8312049508094788 | f1: 0.8686652183532715 | auc: 0.9035803079605103 | treshold: 0.38\n",
      "Test: accuracy: 0.8259944319725037 | f1: 0.8644003868103027 | auc: 0.8993576169013977 | \n"
     ]
    },
    {
     "name": "stderr",
     "output_type": "stream",
     "text": [
      "train... loss:34.54479628801346:   0%|                                                                                                  | 5/5000 [01:30<16:14:55, 11.71s/it]"
     ]
    },
    {
     "name": "stdout",
     "output_type": "stream",
     "text": [
      "Val update: epoch: 4 |accuracy: 0.8371063470840454 | f1: 0.8786508440971375 | auc: 0.9099557399749756 | treshold: 0.44\n",
      "Test: accuracy: 0.8349897265434265 | f1: 0.8767563700675964 | auc: 0.9076763391494751 | \n"
     ]
    },
    {
     "name": "stderr",
     "output_type": "stream",
     "text": [
      "train... loss:32.81495387852192:   0%|                                                                                                  | 6/5000 [01:37<13:56:27, 10.05s/it]"
     ]
    },
    {
     "name": "stdout",
     "output_type": "stream",
     "text": [
      "Val update: epoch: 5 |accuracy: 0.8348812460899353 | f1: 0.8683494925498962 | auc: 0.9105205535888672 | treshold: 0.4\n",
      "Test: accuracy: 0.8310965895652771 | f1: 0.8650841116905212 | auc: 0.9077848792076111 | \n"
     ]
    },
    {
     "name": "stderr",
     "output_type": "stream",
     "text": [
      "train... loss:30.442696809768677:   0%|▏                                                                                                | 9/5000 [01:56<10:33:48,  7.62s/it]"
     ]
    },
    {
     "name": "stdout",
     "output_type": "stream",
     "text": [
      "Val update: epoch: 8 |accuracy: 0.8324142694473267 | f1: 0.8638783693313599 | auc: 0.9106537103652954 | treshold: 0.4\n",
      "Test: accuracy: 0.8292346596717834 | f1: 0.8608582615852356 | auc: 0.9097559452056885 | \n"
     ]
    },
    {
     "name": "stderr",
     "output_type": "stream",
     "text": [
      "train... loss:30.013588160276413:   0%|▏                                                                                               | 10/5000 [02:03<10:11:59,  7.36s/it]"
     ]
    },
    {
     "name": "stdout",
     "output_type": "stream",
     "text": [
      "Val update: epoch: 9 |accuracy: 0.8489575982093811 | f1: 0.8829845190048218 | auc: 0.918175995349884 | treshold: 0.36000000000000004\n",
      "Test: accuracy: 0.8487486243247986 | f1: 0.8826960325241089 | auc: 0.9174371957778931 | \n"
     ]
    },
    {
     "name": "stderr",
     "output_type": "stream",
     "text": [
      "train... loss:27.834611371159554:   0%|▎                                                                                                | 17/5000 [02:47<9:05:09,  6.56s/it]"
     ]
    },
    {
     "name": "stdout",
     "output_type": "stream",
     "text": [
      "Val update: epoch: 16 |accuracy: 0.8505780696868896 | f1: 0.8832356929779053 | auc: 0.919102668762207 | treshold: 0.37\n",
      "Test: accuracy: 0.8501511216163635 | f1: 0.8826969861984253 | auc: 0.9197525978088379 | \n"
     ]
    },
    {
     "name": "stderr",
     "output_type": "stream",
     "text": [
      "train... loss:25.706352680921555:   1%|▋                                                                                                | 36/5000 [04:47<8:39:01,  6.27s/it]/opt/conda/envs/myenv/lib/python3.10/site-packages/torchmetrics/utilities/prints.py:43: UserWarning: No negative samples in targets, false positive value should be meaningless. Returning zero tensor in false positive score\n",
      "  warnings.warn(*args, **kwargs)  # noqa: B028\n",
      "train... loss:22.061962768435478:   2%|█▉                                                                                              | 101/5000 [11:40<9:26:08,  6.93s/it]\n"
     ]
    },
    {
     "name": "stdout",
     "output_type": "stream",
     "text": [
      "\n",
      "Evaluating SlatewiseGRU with explicit embeddings\n"
     ]
    },
    {
     "ename": "RuntimeError",
     "evalue": "input.size(-1) must be equal to input_size. Expected 64, got 80",
     "output_type": "error",
     "traceback": [
      "\u001b[0;31m---------------------------------------------------------------------------\u001b[0m",
      "\u001b[0;31mRuntimeError\u001b[0m                              Traceback (most recent call last)",
      "Cell \u001b[0;32mIn[9], line 8\u001b[0m\n\u001b[1;32m      2\u001b[0m \u001b[38;5;28mprint\u001b[39m(\u001b[38;5;124mf\u001b[39m\u001b[38;5;124m\"\u001b[39m\u001b[38;5;130;01m\\n\u001b[39;00m\u001b[38;5;124mEvaluating \u001b[39m\u001b[38;5;132;01m{\u001b[39;00mexperiment_name\u001b[38;5;132;01m}\u001b[39;00m\u001b[38;5;124m with \u001b[39m\u001b[38;5;132;01m{\u001b[39;00membeddings\u001b[38;5;132;01m}\u001b[39;00m\u001b[38;5;124m embeddings\u001b[39m\u001b[38;5;124m\"\u001b[39m)\n\u001b[1;32m      4\u001b[0m model \u001b[38;5;241m=\u001b[39m SlatewiseGRU(\n\u001b[1;32m      5\u001b[0m     RecsysEmbedding(train_num_items, train_user_item_matrix, embeddings\u001b[38;5;241m=\u001b[39membeddings),\n\u001b[1;32m      6\u001b[0m )\u001b[38;5;241m.\u001b[39mto(device)\n\u001b[0;32m----> 8\u001b[0m best_model, metrics \u001b[38;5;241m=\u001b[39m \u001b[43mtrain\u001b[49m\u001b[43m(\u001b[49m\n\u001b[1;32m      9\u001b[0m \u001b[43m    \u001b[49m\u001b[43mmodel\u001b[49m\u001b[43m,\u001b[49m\u001b[43m \u001b[49m\n\u001b[1;32m     10\u001b[0m \u001b[43m    \u001b[49m\u001b[43mtrain_loader\u001b[49m\u001b[43m,\u001b[49m\u001b[43m \u001b[49m\u001b[43mval_loader\u001b[49m\u001b[43m,\u001b[49m\u001b[43m \u001b[49m\u001b[43mtest_loader\u001b[49m\u001b[43m,\u001b[49m\u001b[43m \u001b[49m\n\u001b[1;32m     11\u001b[0m \u001b[43m    \u001b[49m\u001b[43mdevice\u001b[49m\u001b[38;5;241;43m=\u001b[39;49m\u001b[43mdevice\u001b[49m\u001b[43m,\u001b[49m\u001b[43m \u001b[49m\u001b[43mlr\u001b[49m\u001b[38;5;241;43m=\u001b[39;49m\u001b[38;5;241;43m1e-3\u001b[39;49m\u001b[43m,\u001b[49m\u001b[43m \u001b[49m\u001b[43mnum_epochs\u001b[49m\u001b[38;5;241;43m=\u001b[39;49m\u001b[38;5;241;43m5000\u001b[39;49m\u001b[43m,\u001b[49m\u001b[43m \u001b[49m\u001b[43mearly_stopping\u001b[49m\u001b[38;5;241;43m=\u001b[39;49m\u001b[38;5;241;43m7\u001b[39;49m\u001b[43m,\u001b[49m\n\u001b[1;32m     12\u001b[0m \u001b[43m    \u001b[49m\u001b[43msilent\u001b[49m\u001b[38;5;241;43m=\u001b[39;49m\u001b[38;5;28;43;01mTrue\u001b[39;49;00m\n\u001b[1;32m     13\u001b[0m \u001b[43m\u001b[49m\u001b[43m)\u001b[49m\n\u001b[1;32m     15\u001b[0m metrics[\u001b[38;5;124m'\u001b[39m\u001b[38;5;124membeddings\u001b[39m\u001b[38;5;124m'\u001b[39m] \u001b[38;5;241m=\u001b[39m embeddings\n\u001b[1;32m     16\u001b[0m rl4rs_results\u001b[38;5;241m.\u001b[39mappend(metrics)\n",
      "File \u001b[0;32m~/benchmark/src/utils.py:271\u001b[0m, in \u001b[0;36mtrain\u001b[0;34m(model, train_loader, val_loader, test_loader, device, lr, num_epochs, silent, early_stopping, debug, **kwargs)\u001b[0m\n\u001b[1;32m    269\u001b[0m optimizer \u001b[38;5;241m=\u001b[39m torch\u001b[38;5;241m.\u001b[39moptim\u001b[38;5;241m.\u001b[39mAdam(model\u001b[38;5;241m.\u001b[39mparameters(), lr\u001b[38;5;241m=\u001b[39mlr)\n\u001b[1;32m    270\u001b[0m epochs_without_improvement \u001b[38;5;241m=\u001b[39m \u001b[38;5;241m0\u001b[39m\n\u001b[0;32m--> 271\u001b[0m best_val_scores \u001b[38;5;241m=\u001b[39m \u001b[43mevaluate_model\u001b[49m\u001b[43m(\u001b[49m\u001b[43mmodel\u001b[49m\u001b[43m,\u001b[49m\u001b[43m \u001b[49m\u001b[43mval_loader\u001b[49m\u001b[43m,\u001b[49m\u001b[43m \u001b[49m\u001b[43mdevice\u001b[49m\u001b[38;5;241;43m=\u001b[39;49m\u001b[43mdevice\u001b[49m\u001b[43m,\u001b[49m\u001b[43m \u001b[49m\u001b[43msilent\u001b[49m\u001b[38;5;241;43m=\u001b[39;49m\u001b[43msilent\u001b[49m\u001b[43m,\u001b[49m\u001b[43m \u001b[49m\u001b[43mdebug\u001b[49m\u001b[38;5;241;43m=\u001b[39;49m\u001b[43mdebug\u001b[49m\u001b[43m)\u001b[49m\n\u001b[1;32m    272\u001b[0m best_test_scores \u001b[38;5;241m=\u001b[39m evaluate_model(model, test_loader, device\u001b[38;5;241m=\u001b[39mdevice, silent\u001b[38;5;241m=\u001b[39msilent, debug\u001b[38;5;241m=\u001b[39mdebug)\n\u001b[1;32m    273\u001b[0m best_loss \u001b[38;5;241m=\u001b[39m \u001b[38;5;241m999.\u001b[39m\n",
      "File \u001b[0;32m~/benchmark/src/utils.py:230\u001b[0m, in \u001b[0;36mevaluate_model\u001b[0;34m(model, data_loader, device, threshold, silent, debug, **kwargs)\u001b[0m\n\u001b[1;32m    228\u001b[0m batch \u001b[38;5;241m=\u001b[39m {k:v\u001b[38;5;241m.\u001b[39mto(device) \u001b[38;5;28;01mfor\u001b[39;00m k, v \u001b[38;5;129;01min\u001b[39;00m batch\u001b[38;5;241m.\u001b[39mitems()}\n\u001b[1;32m    229\u001b[0m \u001b[38;5;28;01mwith\u001b[39;00m torch\u001b[38;5;241m.\u001b[39mno_grad():\n\u001b[0;32m--> 230\u001b[0m     prediction_scores \u001b[38;5;241m=\u001b[39m torch\u001b[38;5;241m.\u001b[39msigmoid(\u001b[43mmodel\u001b[49m\u001b[43m(\u001b[49m\u001b[43mbatch\u001b[49m\u001b[43m)\u001b[49m)\n\u001b[1;32m    231\u001b[0m corrects \u001b[38;5;241m=\u001b[39m (batch[\u001b[38;5;124m'\u001b[39m\u001b[38;5;124mresponses\u001b[39m\u001b[38;5;124m'\u001b[39m] \u001b[38;5;241m>\u001b[39m \u001b[38;5;241m0\u001b[39m)\u001b[38;5;241m.\u001b[39mfloat()\n\u001b[1;32m    232\u001b[0m mask \u001b[38;5;241m=\u001b[39m batch[\u001b[38;5;124m'\u001b[39m\u001b[38;5;124mout_mask\u001b[39m\u001b[38;5;124m'\u001b[39m]\n",
      "File \u001b[0;32m/opt/conda/envs/myenv/lib/python3.10/site-packages/torch/nn/modules/module.py:1130\u001b[0m, in \u001b[0;36mModule._call_impl\u001b[0;34m(self, *input, **kwargs)\u001b[0m\n\u001b[1;32m   1126\u001b[0m \u001b[38;5;66;03m# If we don't have any hooks, we want to skip the rest of the logic in\u001b[39;00m\n\u001b[1;32m   1127\u001b[0m \u001b[38;5;66;03m# this function, and just call forward.\u001b[39;00m\n\u001b[1;32m   1128\u001b[0m \u001b[38;5;28;01mif\u001b[39;00m \u001b[38;5;129;01mnot\u001b[39;00m (\u001b[38;5;28mself\u001b[39m\u001b[38;5;241m.\u001b[39m_backward_hooks \u001b[38;5;129;01mor\u001b[39;00m \u001b[38;5;28mself\u001b[39m\u001b[38;5;241m.\u001b[39m_forward_hooks \u001b[38;5;129;01mor\u001b[39;00m \u001b[38;5;28mself\u001b[39m\u001b[38;5;241m.\u001b[39m_forward_pre_hooks \u001b[38;5;129;01mor\u001b[39;00m _global_backward_hooks\n\u001b[1;32m   1129\u001b[0m         \u001b[38;5;129;01mor\u001b[39;00m _global_forward_hooks \u001b[38;5;129;01mor\u001b[39;00m _global_forward_pre_hooks):\n\u001b[0;32m-> 1130\u001b[0m     \u001b[38;5;28;01mreturn\u001b[39;00m \u001b[43mforward_call\u001b[49m\u001b[43m(\u001b[49m\u001b[38;5;241;43m*\u001b[39;49m\u001b[38;5;28;43minput\u001b[39;49m\u001b[43m,\u001b[49m\u001b[43m \u001b[49m\u001b[38;5;241;43m*\u001b[39;49m\u001b[38;5;241;43m*\u001b[39;49m\u001b[43mkwargs\u001b[49m\u001b[43m)\u001b[49m\n\u001b[1;32m   1131\u001b[0m \u001b[38;5;66;03m# Do not call functions when jit is used\u001b[39;00m\n\u001b[1;32m   1132\u001b[0m full_backward_hooks, non_full_backward_hooks \u001b[38;5;241m=\u001b[39m [], []\n",
      "Cell \u001b[0;32mIn[3], line 90\u001b[0m, in \u001b[0;36mSlatewiseGRU.forward\u001b[0;34m(self, batch)\u001b[0m\n\u001b[1;32m     88\u001b[0m \u001b[38;5;28;01melse\u001b[39;00m:\n\u001b[1;32m     89\u001b[0m     items[:, \u001b[38;5;241m1\u001b[39m:, \u001b[38;5;28mself\u001b[39m\u001b[38;5;241m.\u001b[39memb_dim:] \u001b[38;5;241m*\u001b[39m\u001b[38;5;241m=\u001b[39m x[\u001b[38;5;124m'\u001b[39m\u001b[38;5;124mclicks\u001b[39m\u001b[38;5;124m'\u001b[39m][:, :\u001b[38;5;241m-\u001b[39m\u001b[38;5;241m1\u001b[39m, \u001b[38;5;28;01mNone\u001b[39;00m]\n\u001b[0;32m---> 90\u001b[0m     rnn_out, _ \u001b[38;5;241m=\u001b[39m \u001b[38;5;28;43mself\u001b[39;49m\u001b[38;5;241;43m.\u001b[39;49m\u001b[43mrnn_layer\u001b[49m\u001b[43m(\u001b[49m\u001b[43mitems\u001b[49m\u001b[43m,\u001b[49m\u001b[43m \u001b[49m\u001b[43mh\u001b[49m\u001b[43m)\u001b[49m\n\u001b[1;32m     91\u001b[0m     y \u001b[38;5;241m=\u001b[39m \u001b[38;5;28mself\u001b[39m\u001b[38;5;241m.\u001b[39mout_layer(rnn_out)[:, :, \u001b[38;5;241m0\u001b[39m]\n\u001b[1;32m     94\u001b[0m \u001b[38;5;28;01mif\u001b[39;00m \u001b[38;5;28mself\u001b[39m\u001b[38;5;241m.\u001b[39mcalibration \u001b[38;5;129;01mand\u001b[39;00m \u001b[38;5;28mself\u001b[39m\u001b[38;5;241m.\u001b[39mtraining:\n",
      "File \u001b[0;32m/opt/conda/envs/myenv/lib/python3.10/site-packages/torch/nn/modules/module.py:1130\u001b[0m, in \u001b[0;36mModule._call_impl\u001b[0;34m(self, *input, **kwargs)\u001b[0m\n\u001b[1;32m   1126\u001b[0m \u001b[38;5;66;03m# If we don't have any hooks, we want to skip the rest of the logic in\u001b[39;00m\n\u001b[1;32m   1127\u001b[0m \u001b[38;5;66;03m# this function, and just call forward.\u001b[39;00m\n\u001b[1;32m   1128\u001b[0m \u001b[38;5;28;01mif\u001b[39;00m \u001b[38;5;129;01mnot\u001b[39;00m (\u001b[38;5;28mself\u001b[39m\u001b[38;5;241m.\u001b[39m_backward_hooks \u001b[38;5;129;01mor\u001b[39;00m \u001b[38;5;28mself\u001b[39m\u001b[38;5;241m.\u001b[39m_forward_hooks \u001b[38;5;129;01mor\u001b[39;00m \u001b[38;5;28mself\u001b[39m\u001b[38;5;241m.\u001b[39m_forward_pre_hooks \u001b[38;5;129;01mor\u001b[39;00m _global_backward_hooks\n\u001b[1;32m   1129\u001b[0m         \u001b[38;5;129;01mor\u001b[39;00m _global_forward_hooks \u001b[38;5;129;01mor\u001b[39;00m _global_forward_pre_hooks):\n\u001b[0;32m-> 1130\u001b[0m     \u001b[38;5;28;01mreturn\u001b[39;00m \u001b[43mforward_call\u001b[49m\u001b[43m(\u001b[49m\u001b[38;5;241;43m*\u001b[39;49m\u001b[38;5;28;43minput\u001b[39;49m\u001b[43m,\u001b[49m\u001b[43m \u001b[49m\u001b[38;5;241;43m*\u001b[39;49m\u001b[38;5;241;43m*\u001b[39;49m\u001b[43mkwargs\u001b[49m\u001b[43m)\u001b[49m\n\u001b[1;32m   1131\u001b[0m \u001b[38;5;66;03m# Do not call functions when jit is used\u001b[39;00m\n\u001b[1;32m   1132\u001b[0m full_backward_hooks, non_full_backward_hooks \u001b[38;5;241m=\u001b[39m [], []\n",
      "File \u001b[0;32m/opt/conda/envs/myenv/lib/python3.10/site-packages/torch/nn/modules/rnn.py:948\u001b[0m, in \u001b[0;36mGRU.forward\u001b[0;34m(self, input, hx)\u001b[0m\n\u001b[1;32m    943\u001b[0m \u001b[38;5;28;01melse\u001b[39;00m:\n\u001b[1;32m    944\u001b[0m     \u001b[38;5;66;03m# Each batch of the hidden state should match the input sequence that\u001b[39;00m\n\u001b[1;32m    945\u001b[0m     \u001b[38;5;66;03m# the user believes he/she is passing in.\u001b[39;00m\n\u001b[1;32m    946\u001b[0m     hx \u001b[38;5;241m=\u001b[39m \u001b[38;5;28mself\u001b[39m\u001b[38;5;241m.\u001b[39mpermute_hidden(hx, sorted_indices)\n\u001b[0;32m--> 948\u001b[0m \u001b[38;5;28;43mself\u001b[39;49m\u001b[38;5;241;43m.\u001b[39;49m\u001b[43mcheck_forward_args\u001b[49m\u001b[43m(\u001b[49m\u001b[38;5;28;43minput\u001b[39;49m\u001b[43m,\u001b[49m\u001b[43m \u001b[49m\u001b[43mhx\u001b[49m\u001b[43m,\u001b[49m\u001b[43m \u001b[49m\u001b[43mbatch_sizes\u001b[49m\u001b[43m)\u001b[49m\n\u001b[1;32m    949\u001b[0m \u001b[38;5;28;01mif\u001b[39;00m batch_sizes \u001b[38;5;129;01mis\u001b[39;00m \u001b[38;5;28;01mNone\u001b[39;00m:\n\u001b[1;32m    950\u001b[0m     result \u001b[38;5;241m=\u001b[39m _VF\u001b[38;5;241m.\u001b[39mgru(\u001b[38;5;28minput\u001b[39m, hx, \u001b[38;5;28mself\u001b[39m\u001b[38;5;241m.\u001b[39m_flat_weights, \u001b[38;5;28mself\u001b[39m\u001b[38;5;241m.\u001b[39mbias, \u001b[38;5;28mself\u001b[39m\u001b[38;5;241m.\u001b[39mnum_layers,\n\u001b[1;32m    951\u001b[0m                      \u001b[38;5;28mself\u001b[39m\u001b[38;5;241m.\u001b[39mdropout, \u001b[38;5;28mself\u001b[39m\u001b[38;5;241m.\u001b[39mtraining, \u001b[38;5;28mself\u001b[39m\u001b[38;5;241m.\u001b[39mbidirectional, \u001b[38;5;28mself\u001b[39m\u001b[38;5;241m.\u001b[39mbatch_first)\n",
      "File \u001b[0;32m/opt/conda/envs/myenv/lib/python3.10/site-packages/torch/nn/modules/rnn.py:229\u001b[0m, in \u001b[0;36mRNNBase.check_forward_args\u001b[0;34m(self, input, hidden, batch_sizes)\u001b[0m\n\u001b[1;32m    228\u001b[0m \u001b[38;5;28;01mdef\u001b[39;00m \u001b[38;5;21mcheck_forward_args\u001b[39m(\u001b[38;5;28mself\u001b[39m, \u001b[38;5;28minput\u001b[39m: Tensor, hidden: Tensor, batch_sizes: Optional[Tensor]):\n\u001b[0;32m--> 229\u001b[0m     \u001b[38;5;28;43mself\u001b[39;49m\u001b[38;5;241;43m.\u001b[39;49m\u001b[43mcheck_input\u001b[49m\u001b[43m(\u001b[49m\u001b[38;5;28;43minput\u001b[39;49m\u001b[43m,\u001b[49m\u001b[43m \u001b[49m\u001b[43mbatch_sizes\u001b[49m\u001b[43m)\u001b[49m\n\u001b[1;32m    230\u001b[0m     expected_hidden_size \u001b[38;5;241m=\u001b[39m \u001b[38;5;28mself\u001b[39m\u001b[38;5;241m.\u001b[39mget_expected_hidden_size(\u001b[38;5;28minput\u001b[39m, batch_sizes)\n\u001b[1;32m    232\u001b[0m     \u001b[38;5;28mself\u001b[39m\u001b[38;5;241m.\u001b[39mcheck_hidden_size(hidden, expected_hidden_size)\n",
      "File \u001b[0;32m/opt/conda/envs/myenv/lib/python3.10/site-packages/torch/nn/modules/rnn.py:205\u001b[0m, in \u001b[0;36mRNNBase.check_input\u001b[0;34m(self, input, batch_sizes)\u001b[0m\n\u001b[1;32m    201\u001b[0m     \u001b[38;5;28;01mraise\u001b[39;00m \u001b[38;5;167;01mRuntimeError\u001b[39;00m(\n\u001b[1;32m    202\u001b[0m         \u001b[38;5;124m'\u001b[39m\u001b[38;5;124minput must have \u001b[39m\u001b[38;5;132;01m{}\u001b[39;00m\u001b[38;5;124m dimensions, got \u001b[39m\u001b[38;5;132;01m{}\u001b[39;00m\u001b[38;5;124m'\u001b[39m\u001b[38;5;241m.\u001b[39mformat(\n\u001b[1;32m    203\u001b[0m             expected_input_dim, \u001b[38;5;28minput\u001b[39m\u001b[38;5;241m.\u001b[39mdim()))\n\u001b[1;32m    204\u001b[0m \u001b[38;5;28;01mif\u001b[39;00m \u001b[38;5;28mself\u001b[39m\u001b[38;5;241m.\u001b[39minput_size \u001b[38;5;241m!=\u001b[39m \u001b[38;5;28minput\u001b[39m\u001b[38;5;241m.\u001b[39msize(\u001b[38;5;241m-\u001b[39m\u001b[38;5;241m1\u001b[39m):\n\u001b[0;32m--> 205\u001b[0m     \u001b[38;5;28;01mraise\u001b[39;00m \u001b[38;5;167;01mRuntimeError\u001b[39;00m(\n\u001b[1;32m    206\u001b[0m         \u001b[38;5;124m'\u001b[39m\u001b[38;5;124minput.size(-1) must be equal to input_size. Expected \u001b[39m\u001b[38;5;132;01m{}\u001b[39;00m\u001b[38;5;124m, got \u001b[39m\u001b[38;5;132;01m{}\u001b[39;00m\u001b[38;5;124m'\u001b[39m\u001b[38;5;241m.\u001b[39mformat(\n\u001b[1;32m    207\u001b[0m             \u001b[38;5;28mself\u001b[39m\u001b[38;5;241m.\u001b[39minput_size, \u001b[38;5;28minput\u001b[39m\u001b[38;5;241m.\u001b[39msize(\u001b[38;5;241m-\u001b[39m\u001b[38;5;241m1\u001b[39m)))\n",
      "\u001b[0;31mRuntimeError\u001b[0m: input.size(-1) must be equal to input_size. Expected 64, got 80"
     ]
    }
   ],
   "source": [
    "for embeddings in ['neural','explicit', 'svd',  ]:\n",
    "    print(f\"\\nEvaluating {experiment_name} with {embeddings} embeddings\")\n",
    "\n",
    "    model = SlatewiseGRU(\n",
    "        RecsysEmbedding(train_num_items, train_user_item_matrix, embeddings=embeddings),\n",
    "    ).to(device)\n",
    "\n",
    "    best_model, metrics = train(\n",
    "        model, \n",
    "        train_loader, val_loader, test_loader, \n",
    "        device=device, lr=1e-3, num_epochs=5000, early_stopping=7,\n",
    "        silent=True\n",
    "    )\n",
    "    \n",
    "    metrics['embeddings'] = embeddings\n",
    "    rl4rs_results.append(metrics)"
   ]
  },
  {
   "cell_type": "code",
   "execution_count": null,
   "id": "14b3763b-7bb9-4a41-94af-c0b1b7b2db3b",
   "metadata": {},
   "outputs": [],
   "source": [
    "pd.DataFrame(rl4rs_results).to_csv(f'results/rl4rs_{experiment_name}.csv')\n",
    "del dataset, train_loader, val_loader, test_loader, train_user_item_matrix, train_num_items"
   ]
  }
 ],
 "metadata": {
  "kernelspec": {
   "display_name": "Python 3 (ipykernel)",
   "language": "python",
   "name": "python3"
  },
  "language_info": {
   "codemirror_mode": {
    "name": "ipython",
    "version": 3
   },
   "file_extension": ".py",
   "mimetype": "text/x-python",
   "name": "python",
   "nbconvert_exporter": "python",
   "pygments_lexer": "ipython3",
   "version": "3.10.13"
  }
 },
 "nbformat": 4,
 "nbformat_minor": 5
}
