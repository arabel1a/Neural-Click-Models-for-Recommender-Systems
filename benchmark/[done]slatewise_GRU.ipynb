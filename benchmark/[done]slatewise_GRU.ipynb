{
 "cells": [
  {
   "cell_type": "code",
   "execution_count": 1,
   "id": "64321c32",
   "metadata": {},
   "outputs": [
    {
     "data": {
      "text/plain": [
       "<torch._C.Generator at 0x7fccf88fab30>"
      ]
     },
     "execution_count": 1,
     "metadata": {},
     "output_type": "execute_result"
    }
   ],
   "source": [
    "import os\n",
    "import torch\n",
    "import random\n",
    "import datetime\n",
    "import pandas as pd\n",
    "import numpy as np\n",
    "\n",
    "from torch.utils.data import Dataset\n",
    "from src.datasets import RL4RS, ContentWise, DummyData\n",
    "from src.utils import train, get_dummy_data, get_train_val_test_tmatrix_tnumitems, get_svd_encoder\n",
    "from src.embeddings import RecsysEmbedding\n",
    "\n",
    "experiment_name = 'TRUESlatewiseGRU'\n",
    "device = 'cuda:2'\n",
    "seed = 1337\n",
    "pkl_path = '../pkl/'\n",
    "\n",
    "random.seed(seed)\n",
    "np.random.seed(seed)\n",
    "torch.manual_seed(seed)"
   ]
  },
  {
   "cell_type": "code",
   "execution_count": 2,
   "id": "6c3ac807",
   "metadata": {},
   "outputs": [
    {
     "data": {
      "text/plain": [
       "'1.12.1'"
      ]
     },
     "execution_count": 2,
     "metadata": {},
     "output_type": "execute_result"
    }
   ],
   "source": [
    "torch.__version__"
   ]
  },
  {
   "cell_type": "markdown",
   "id": "d983e49b",
   "metadata": {},
   "source": [
    "# Модель"
   ]
  },
  {
   "cell_type": "code",
   "execution_count": 3,
   "id": "4249b6e2",
   "metadata": {},
   "outputs": [],
   "source": [
    "import torch.nn.functional as F\n",
    "torch.autograd.set_detect_anomaly(True)\n",
    "\n",
    "class SessionwiseGRU(torch.nn.Module):\n",
    "    def __init__(self, embedding, output_dim=1, dropout = 0.1):\n",
    "        super().__init__()\n",
    "        self.embedding_dim = embedding.embedding_dim\n",
    "        self.embedding = embedding\n",
    "        self.rnn_layer = torch.nn.GRU(\n",
    "            input_size = embedding.embedding_dim, \n",
    "            hidden_size = embedding.embedding_dim, \n",
    "            batch_first = True,\n",
    "            dropout=dropout\n",
    "        )\n",
    "        self.out_layer = torch.nn.Linear(embedding.embedding_dim, output_dim)\n",
    "\n",
    "\n",
    "    def forward(self, batch):\n",
    "        shp = batch['slates_item_indexes'].shape\n",
    "        slate_size = shp[-1]\n",
    "        # item_embs: batch, session, slate, embedding\n",
    "        # user_embs: batch, session, embedding\n",
    "        item_embs, user_embs = self.embedding(batch)\n",
    "        \n",
    "        item_embs = item_embs.flatten(0, 1)\n",
    "        hidden =  user_embs.flatten(0,1)[None, ...].contiguous()\n",
    "\n",
    "        rnn_out, _ = self.rnn_layer(\n",
    "            item_embs,\n",
    "            hidden,\n",
    "        )\n",
    "        return self.out_layer(rnn_out).reshape(shp)"
   ]
  },
  {
   "cell_type": "code",
   "execution_count": 4,
   "id": "c099a143-e2c4-41d4-943c-2ac046993192",
   "metadata": {},
   "outputs": [
    {
     "data": {
      "text/plain": [
       "torch.Size([2, 3, 5])"
      ]
     },
     "execution_count": 4,
     "metadata": {},
     "output_type": "execute_result"
    }
   ],
   "source": [
    "a = torch.arange(30).reshape(2,3,5)\n",
    "a.shape"
   ]
  },
  {
   "cell_type": "markdown",
   "id": "94ff279b",
   "metadata": {},
   "source": [
    "# Игрушечный датасет: проверим, что сходится к идеальным метрикам"
   ]
  },
  {
   "cell_type": "code",
   "execution_count": 5,
   "id": "07532c4d",
   "metadata": {
    "scrolled": true
   },
   "outputs": [
    {
     "name": "stdout",
     "output_type": "stream",
     "text": [
      "biulding affinity matrix...\n"
     ]
    },
    {
     "name": "stderr",
     "output_type": "stream",
     "text": [
      "3it [00:00, 2879.38it/s]\n",
      "/opt/conda/envs/myenv/lib/python3.10/site-packages/torch/nn/modules/rnn.py:62: UserWarning: dropout option adds dropout after all but last recurrent layer, so non-zero dropout expects num_layers greater than 1, but got dropout=0.1 and num_layers=1\n",
      "  warnings.warn(\"dropout option adds dropout after all but last \"\n"
     ]
    },
    {
     "name": "stdout",
     "output_type": "stream",
     "text": [
      "Test before learning: {'f1': 0.0, 'roc-auc': 1.0, 'accuracy': 0.75}\n"
     ]
    },
    {
     "data": {
      "application/vnd.jupyter.widget-view+json": {
       "model_id": "65963ea7437b4da99ae75495f23cc736",
       "version_major": 2,
       "version_minor": 0
      },
      "text/plain": [
       "train:   0%|          | 0/5000 [00:00<?, ?it/s]"
      ]
     },
     "metadata": {},
     "output_type": "display_data"
    },
    {
     "name": "stdout",
     "output_type": "stream",
     "text": [
      "Val update: epoch: 0 |accuracy: 0.75 | f1: 0.6666666865348816 | auc: 1.0 | treshold: 0.45\n",
      "Test: accuracy: 0.75 | f1: 0.6666666865348816 | auc: 1.0 | \n",
      "Val update: epoch: 1 |accuracy: 1.0 | f1: 1.0 | auc: 1.0 | treshold: 0.46\n",
      "Test: accuracy: 1.0 | f1: 1.0 | auc: 1.0 | \n"
     ]
    },
    {
     "data": {
      "text/plain": [
       "(SessionwiseGRU(\n",
       "   (embedding): RecsysEmbedding(\n",
       "     (item_embeddings): Embedding(5, 32)\n",
       "   )\n",
       "   (rnn_layer): GRU(32, 32, batch_first=True, dropout=0.1)\n",
       "   (out_layer): Linear(in_features=32, out_features=1, bias=True)\n",
       " ),\n",
       " {'f1': 1.0, 'roc-auc': 1.0, 'accuracy': 1.0})"
      ]
     },
     "execution_count": 5,
     "metadata": {},
     "output_type": "execute_result"
    }
   ],
   "source": [
    "d = DummyData()\n",
    "dummy_loader, dummy_matrix = get_dummy_data(d)\n",
    "\n",
    "model = SessionwiseGRU(\n",
    "    RecsysEmbedding(d.n_items, dummy_matrix, embeddings='neural').to('cpu'),\n",
    "    output_dim=1\n",
    ").to('cpu')\n",
    "\n",
    "train(\n",
    "    model, \n",
    "    dummy_loader, dummy_loader, dummy_loader,\n",
    "    device=device, lr=1e-3, num_epochs=5000, dummy=True,\n",
    "    silent=True,\n",
    ")\n"
   ]
  },
  {
   "cell_type": "markdown",
   "id": "cce13141",
   "metadata": {},
   "source": [
    "# ContentWise"
   ]
  },
  {
   "cell_type": "code",
   "execution_count": 6,
   "id": "a7b67d87",
   "metadata": {},
   "outputs": [
    {
     "name": "stdout",
     "output_type": "stream",
     "text": [
      "20216 data points among 108 batches\n"
     ]
    }
   ],
   "source": [
    "content_wise_results = []\n",
    "dataset = ContentWise.load(os.path.join(pkl_path, 'cw.pkl'))\n",
    "(\n",
    "    train_loader, \n",
    "    val_loader, \n",
    "    test_loader, \n",
    "    train_user_item_matrix, \n",
    "    train_num_items \n",
    ") = get_train_val_test_tmatrix_tnumitems(dataset, batch_size=150)\n",
    "\n",
    "print(f\"{len(dataset)} data points among {len(train_loader)} batches\")"
   ]
  },
  {
   "cell_type": "code",
   "execution_count": 7,
   "id": "a0c6d95c",
   "metadata": {},
   "outputs": [
    {
     "name": "stdout",
     "output_type": "stream",
     "text": [
      "\n",
      "Evaluating TRUESlatewiseGRU with svd embeddings\n"
     ]
    },
    {
     "name": "stderr",
     "output_type": "stream",
     "text": [
      "/opt/conda/envs/myenv/lib/python3.10/site-packages/torch/nn/modules/rnn.py:62: UserWarning: dropout option adds dropout after all but last recurrent layer, so non-zero dropout expects num_layers greater than 1, but got dropout=0.1 and num_layers=1\n",
      "  warnings.warn(\"dropout option adds dropout after all but last \"\n"
     ]
    },
    {
     "name": "stdout",
     "output_type": "stream",
     "text": [
      "Test before learning: {'f1': 0.0, 'roc-auc': 0.44752010703086853, 'accuracy': 0.8990721106529236}\n"
     ]
    },
    {
     "data": {
      "application/vnd.jupyter.widget-view+json": {
       "model_id": "b4f47760a2ea46ccbca92058cee2c4d1",
       "version_major": 2,
       "version_minor": 0
      },
      "text/plain": [
       "train:   0%|          | 0/5000 [00:00<?, ?it/s]"
      ]
     },
     "metadata": {},
     "output_type": "display_data"
    },
    {
     "name": "stdout",
     "output_type": "stream",
     "text": [
      "Val update: epoch: 0 |accuracy: 0.4337197244167328 | f1: 0.2125655561685562 | auc: 0.6119330525398254 | treshold: 0.13\n",
      "Test: accuracy: 0.4342195689678192 | f1: 0.2128186672925949 | auc: 0.609704852104187 | \n",
      "Val update: epoch: 1 |accuracy: 0.7074616551399231 | f1: 0.22924356162548065 | auc: 0.6173497438430786 | treshold: 0.13\n",
      "Test: accuracy: 0.7068232893943787 | f1: 0.22689075767993927 | auc: 0.6124050617218018 | \n",
      "Val update: epoch: 2 |accuracy: 0.7347403764724731 | f1: 0.23202745616436005 | auc: 0.6306021809577942 | treshold: 0.12\n",
      "Test: accuracy: 0.7327699065208435 | f1: 0.22610269486904144 | auc: 0.6224696040153503 | \n",
      "Val update: epoch: 3 |accuracy: 0.7102633714675903 | f1: 0.23810872435569763 | auc: 0.6441982984542847 | treshold: 0.12\n",
      "Test: accuracy: 0.7069638967514038 | f1: 0.22862781584262848 | auc: 0.6319550275802612 | \n",
      "Val update: epoch: 4 |accuracy: 0.699040949344635 | f1: 0.24546507000923157 | auc: 0.6534899473190308 | treshold: 0.13\n",
      "Test: accuracy: 0.6970444917678833 | f1: 0.23422569036483765 | auc: 0.6419417858123779 | \n",
      "Val update: epoch: 5 |accuracy: 0.653242826461792 | f1: 0.24308612942695618 | auc: 0.658532977104187 | treshold: 0.12\n",
      "Test: accuracy: 0.6500250101089478 | f1: 0.23384173214435577 | auc: 0.6460654139518738 | \n",
      "Val update: epoch: 7 |accuracy: 0.8461952805519104 | f1: 0.25088101625442505 | auc: 0.6595510244369507 | treshold: 0.13\n",
      "Test: accuracy: 0.8454136252403259 | f1: 0.2422664612531662 | auc: 0.6496754884719849 | \n",
      "Val update: epoch: 8 |accuracy: 0.8797241449356079 | f1: 0.23693719506263733 | auc: 0.6618629097938538 | treshold: 0.14\n",
      "Test: accuracy: 0.880217432975769 | f1: 0.22934673726558685 | auc: 0.6511387228965759 | \n",
      "Val update: epoch: 10 |accuracy: 0.7947166562080383 | f1: 0.2594546675682068 | auc: 0.6633381843566895 | treshold: 0.14\n",
      "Test: accuracy: 0.7950356006622314 | f1: 0.2510417401790619 | auc: 0.6542353630065918 | \n",
      "Val update: epoch: 12 |accuracy: 0.8475345969200134 | f1: 0.26012250781059265 | auc: 0.6652475595474243 | treshold: 0.12\n",
      "Test: accuracy: 0.8468195199966431 | f1: 0.24927270412445068 | auc: 0.6542473435401917 | \n",
      "Val update: epoch: 13 |accuracy: 0.8853122591972351 | f1: 0.23574066162109375 | auc: 0.666012704372406 | treshold: 0.15000000000000002\n",
      "Test: accuracy: 0.8863409161567688 | f1: 0.22907395660877228 | auc: 0.656673014163971 | \n",
      "Val update: epoch: 15 |accuracy: 0.7523360848426819 | f1: 0.2615441083908081 | auc: 0.6699954271316528 | treshold: 0.13\n",
      "Test: accuracy: 0.7508903741836548 | f1: 0.2511387765407562 | auc: 0.6594270467758179 | \n",
      "Val update: epoch: 16 |accuracy: 0.8599424362182617 | f1: 0.2685319185256958 | auc: 0.6718124747276306 | treshold: 0.13\n",
      "Test: accuracy: 0.8598787784576416 | f1: 0.2636677026748657 | auc: 0.6620817184448242 | \n",
      "Val update: epoch: 18 |accuracy: 0.7763204574584961 | f1: 0.2697024643421173 | auc: 0.6746160387992859 | treshold: 0.13\n",
      "Test: accuracy: 0.7769932746887207 | f1: 0.26138246059417725 | auc: 0.6638164520263672 | \n",
      "Val update: epoch: 25 |accuracy: 0.8200249671936035 | f1: 0.2755158841609955 | auc: 0.6779346466064453 | treshold: 0.14\n",
      "Test: accuracy: 0.820138692855835 | f1: 0.2685808539390564 | auc: 0.6698275804519653 | \n",
      "Val update: epoch: 26 |accuracy: 0.8042765259742737 | f1: 0.27843359112739563 | auc: 0.6812262535095215 | treshold: 0.12\n",
      "Test: accuracy: 0.7999562621116638 | f1: 0.2660476863384247 | auc: 0.6714903116226196 | \n",
      "Val update: epoch: 28 |accuracy: 0.8398528099060059 | f1: 0.28506630659103394 | auc: 0.6820636987686157 | treshold: 0.15000000000000002\n",
      "Test: accuracy: 0.841274082660675 | f1: 0.2760242223739624 | auc: 0.6726030111312866 | \n",
      "Val update: epoch: 30 |accuracy: 0.8752443790435791 | f1: 0.2772029936313629 | auc: 0.6839020252227783 | treshold: 0.15000000000000002\n",
      "Test: accuracy: 0.8767339587211609 | f1: 0.27385663986206055 | auc: 0.6758040189743042 | \n",
      "Val update: epoch: 32 |accuracy: 0.8575255274772644 | f1: 0.28856945037841797 | auc: 0.6860415935516357 | treshold: 0.13\n",
      "Test: accuracy: 0.8583322763442993 | f1: 0.27995234727859497 | auc: 0.6735069751739502 | \n",
      "Val update: epoch: 34 |accuracy: 0.7906525731086731 | f1: 0.2801333963871002 | auc: 0.6871151328086853 | treshold: 0.13\n",
      "Test: accuracy: 0.7886465787887573 | f1: 0.27069857716560364 | auc: 0.6776940822601318 | \n",
      "Val update: epoch: 36 |accuracy: 0.8461490869522095 | f1: 0.2925102710723877 | auc: 0.6895958185195923 | treshold: 0.15000000000000002\n",
      "Test: accuracy: 0.8471163511276245 | f1: 0.2808435559272766 | auc: 0.6785158514976501 | \n",
      "Val update: epoch: 38 |accuracy: 0.8835419416427612 | f1: 0.27821773290634155 | auc: 0.6908853054046631 | treshold: 0.15000000000000002\n",
      "Test: accuracy: 0.885200560092926 | f1: 0.27445948123931885 | auc: 0.6804676055908203 | \n",
      "Val update: epoch: 40 |accuracy: 0.869625449180603 | f1: 0.2840476930141449 | auc: 0.6917396187782288 | treshold: 0.13\n",
      "Test: accuracy: 0.870954155921936 | f1: 0.2812146544456482 | auc: 0.6822275519371033 | \n",
      "Val update: epoch: 42 |accuracy: 0.8033375144004822 | f1: 0.2868307828903198 | auc: 0.6923813819885254 | treshold: 0.12\n",
      "Test: accuracy: 0.8039552569389343 | f1: 0.2796464264392853 | auc: 0.6795356273651123 | \n",
      "\n",
      "Evaluating TRUESlatewiseGRU with neural embeddings\n"
     ]
    },
    {
     "name": "stderr",
     "output_type": "stream",
     "text": [
      "/opt/conda/envs/myenv/lib/python3.10/site-packages/torch/nn/modules/rnn.py:62: UserWarning: dropout option adds dropout after all but last recurrent layer, so non-zero dropout expects num_layers greater than 1, but got dropout=0.1 and num_layers=1\n",
      "  warnings.warn(\"dropout option adds dropout after all but last \"\n"
     ]
    },
    {
     "name": "stdout",
     "output_type": "stream",
     "text": [
      "Test before learning: {'f1': 0.17243482172489166, 'roc-auc': 0.5262157917022705, 'accuracy': 0.660834789276123}\n"
     ]
    },
    {
     "data": {
      "application/vnd.jupyter.widget-view+json": {
       "model_id": "cbfda28fd9be4234bc464fd01a4e888b",
       "version_major": 2,
       "version_minor": 0
      },
      "text/plain": [
       "train:   0%|          | 0/5000 [00:00<?, ?it/s]"
      ]
     },
     "metadata": {},
     "output_type": "display_data"
    },
    {
     "name": "stdout",
     "output_type": "stream",
     "text": [
      "Val update: epoch: 0 |accuracy: 0.37526747584342957 | f1: 0.20583170652389526 | auc: 0.627719521522522 | treshold: 0.12\n",
      "Test: accuracy: 0.3800143599510193 | f1: 0.20591825246810913 | auc: 0.6218335628509521 | \n",
      "Val update: epoch: 1 |accuracy: 0.8291691541671753 | f1: 0.24402207136154175 | auc: 0.6715437173843384 | treshold: 0.15000000000000002\n",
      "Test: accuracy: 0.8294644951820374 | f1: 0.24559463560581207 | auc: 0.6640679836273193 | \n",
      "Val update: epoch: 2 |accuracy: 0.8528456687927246 | f1: 0.2590496838092804 | auc: 0.701005220413208 | treshold: 0.14\n",
      "Test: accuracy: 0.853083610534668 | f1: 0.25880685448646545 | auc: 0.6903328895568848 | \n",
      "Val update: epoch: 3 |accuracy: 0.8659154176712036 | f1: 0.26386070251464844 | auc: 0.713590145111084 | treshold: 0.14\n",
      "Test: accuracy: 0.8668457865715027 | f1: 0.26668959856033325 | auc: 0.7048497796058655 | \n",
      "Val update: epoch: 4 |accuracy: 0.8726889491081238 | f1: 0.27059444785118103 | auc: 0.7221726179122925 | treshold: 0.16\n",
      "Test: accuracy: 0.8725631237030029 | f1: 0.27303510904312134 | auc: 0.7115591764450073 | \n",
      "Val update: epoch: 5 |accuracy: 0.8601271510124207 | f1: 0.2837773859500885 | auc: 0.724684476852417 | treshold: 0.15000000000000002\n",
      "Test: accuracy: 0.8592227101325989 | f1: 0.2877015471458435 | auc: 0.713992178440094 | \n",
      "Val update: epoch: 6 |accuracy: 0.864021897315979 | f1: 0.2943197190761566 | auc: 0.7329761981964111 | treshold: 0.15000000000000002\n",
      "Test: accuracy: 0.8648306727409363 | f1: 0.30581629276275635 | auc: 0.7246257662773132 | \n",
      "Val update: epoch: 7 |accuracy: 0.8719654083251953 | f1: 0.28529688715934753 | auc: 0.7352123260498047 | treshold: 0.17\n",
      "Test: accuracy: 0.8732972741127014 | f1: 0.28969261050224304 | auc: 0.7271414995193481 | \n",
      "Val update: epoch: 8 |accuracy: 0.8531535267829895 | f1: 0.32072919607162476 | auc: 0.7390459179878235 | treshold: 0.18000000000000002\n",
      "Test: accuracy: 0.8526618480682373 | f1: 0.32192668318748474 | auc: 0.7320656776428223 | \n",
      "Val update: epoch: 9 |accuracy: 0.8286303877830505 | f1: 0.3318127393722534 | auc: 0.7449852824211121 | treshold: 0.18000000000000002\n",
      "Test: accuracy: 0.8281992077827454 | f1: 0.32988056540489197 | auc: 0.7361454963684082 | \n",
      "Val update: epoch: 13 |accuracy: 0.881201982498169 | f1: 0.3062123656272888 | auc: 0.7487248182296753 | treshold: 0.2\n",
      "Test: accuracy: 0.880795419216156 | f1: 0.30481916666030884 | auc: 0.7408004403114319 | \n",
      "Val update: epoch: 17 |accuracy: 0.838144063949585 | f1: 0.3331218957901001 | auc: 0.7506337761878967 | treshold: 0.18000000000000002\n",
      "Test: accuracy: 0.8346663117408752 | f1: 0.32594573497772217 | auc: 0.7384545803070068 | \n",
      "Val update: epoch: 18 |accuracy: 0.8815560340881348 | f1: 0.3228304982185364 | auc: 0.7548574209213257 | treshold: 0.2\n",
      "Test: accuracy: 0.8815608620643616 | f1: 0.3227938413619995 | auc: 0.745108962059021 | \n",
      "Val update: epoch: 21 |accuracy: 0.8615434169769287 | f1: 0.336529940366745 | auc: 0.7549149990081787 | treshold: 0.19\n",
      "Test: accuracy: 0.8603473901748657 | f1: 0.33103862404823303 | auc: 0.7439576983451843 | \n"
     ]
    }
   ],
   "source": [
    "for embeddings in ['svd', 'neural']:\n",
    "    print(f\"\\nEvaluating {experiment_name} with {embeddings} embeddings\")\n",
    "    \n",
    "    model = SessionwiseGRU(\n",
    "        RecsysEmbedding(\n",
    "            train_num_items, \n",
    "            train_user_item_matrix, \n",
    "            embeddings=embeddings\n",
    "        ),\n",
    "        output_dim=1\n",
    "    ).to(device)\n",
    "\n",
    "    _, metrics = train(\n",
    "        model, \n",
    "        train_loader, val_loader, test_loader, \n",
    "        device=device, lr=1e-3, num_epochs=5000, early_stopping=7,\n",
    "       silent=True, \n",
    "    )\n",
    "    \n",
    "    metrics['embeddings'] = embeddings\n",
    "    content_wise_results.append(metrics)"
   ]
  },
  {
   "cell_type": "code",
   "execution_count": 8,
   "id": "104163dd-0b92-416f-ade3-c5f07e2a12f9",
   "metadata": {},
   "outputs": [],
   "source": [
    "pd.DataFrame(content_wise_results).to_csv(f'results/cw_{experiment_name}.csv')\n",
    "del dataset, train_loader, val_loader, test_loader, train_user_item_matrix, train_num_items"
   ]
  },
  {
   "cell_type": "markdown",
   "id": "5adce582",
   "metadata": {},
   "source": [
    "# RL4RS"
   ]
  },
  {
   "cell_type": "code",
   "execution_count": 9,
   "id": "bfe5023e",
   "metadata": {},
   "outputs": [
    {
     "name": "stdout",
     "output_type": "stream",
     "text": [
      "45942 data points among 106 batches\n"
     ]
    }
   ],
   "source": [
    "rl4rs_results = []\n",
    "dataset = RL4RS.load(os.path.join(pkl_path, 'rl4rs.pkl'))\n",
    "(\n",
    "    train_loader, \n",
    "    val_loader, \n",
    "    test_loader, \n",
    "    train_user_item_matrix, \n",
    "    train_num_items \n",
    ") = get_train_val_test_tmatrix_tnumitems(dataset, batch_size=350)\n",
    "\n",
    "print(f\"{len(dataset)} data points among {len(train_loader)} batches\")"
   ]
  },
  {
   "cell_type": "code",
   "execution_count": 10,
   "id": "4565f9e9",
   "metadata": {},
   "outputs": [
    {
     "name": "stdout",
     "output_type": "stream",
     "text": [
      "\n",
      "Evaluating TRUESlatewiseGRU with explicit embeddings\n"
     ]
    },
    {
     "name": "stderr",
     "output_type": "stream",
     "text": [
      "/opt/conda/envs/myenv/lib/python3.10/site-packages/torch/nn/modules/rnn.py:62: UserWarning: dropout option adds dropout after all but last recurrent layer, so non-zero dropout expects num_layers greater than 1, but got dropout=0.1 and num_layers=1\n",
      "  warnings.warn(\"dropout option adds dropout after all but last \"\n"
     ]
    },
    {
     "name": "stdout",
     "output_type": "stream",
     "text": [
      "Test before learning: {'f1': 0.2676520347595215, 'roc-auc': 0.43421342968940735, 'accuracy': 0.3817676305770874}\n"
     ]
    },
    {
     "data": {
      "application/vnd.jupyter.widget-view+json": {
       "model_id": "2262517cbf5140f7b2e18383f8cb516f",
       "version_major": 2,
       "version_minor": 0
      },
      "text/plain": [
       "train:   0%|          | 0/5000 [00:00<?, ?it/s]"
      ]
     },
     "metadata": {},
     "output_type": "display_data"
    },
    {
     "name": "stdout",
     "output_type": "stream",
     "text": [
      "Val update: epoch: 0 |accuracy: 0.7791321873664856 | f1: 0.8349717855453491 | auc: 0.8269665241241455 | treshold: 0.43\n",
      "Test: accuracy: 0.7721920013427734 | f1: 0.8283627033233643 | auc: 0.8236024379730225 | \n",
      "Val update: epoch: 1 |accuracy: 0.7724568247795105 | f1: 0.8476042151451111 | auc: 0.8690252304077148 | treshold: 0.41000000000000003\n",
      "Test: accuracy: 0.7645508646965027 | f1: 0.841228187084198 | auc: 0.8673510551452637 | \n",
      "Val update: epoch: 2 |accuracy: 0.8170560598373413 | f1: 0.8595096468925476 | auc: 0.8870288133621216 | treshold: 0.47000000000000003\n",
      "Test: accuracy: 0.8150888681411743 | f1: 0.8563863039016724 | auc: 0.8864738941192627 | \n",
      "Val update: epoch: 3 |accuracy: 0.8222802877426147 | f1: 0.8724615573883057 | auc: 0.9022289514541626 | treshold: 0.42000000000000004\n",
      "Test: accuracy: 0.8184983730316162 | f1: 0.8686246275901794 | auc: 0.9018782377243042 | \n",
      "Val update: epoch: 4 |accuracy: 0.825497031211853 | f1: 0.8741386532783508 | auc: 0.9056365489959717 | treshold: 0.54\n",
      "Test: accuracy: 0.820916473865509 | f1: 0.8697319626808167 | auc: 0.9057185649871826 | \n",
      "Val update: epoch: 7 |accuracy: 0.8304551839828491 | f1: 0.8762096762657166 | auc: 0.9083821177482605 | treshold: 0.55\n",
      "Test: accuracy: 0.8265506029129028 | f1: 0.8722870349884033 | auc: 0.9083808064460754 | \n",
      "Val update: epoch: 8 |accuracy: 0.8402747511863708 | f1: 0.8800494074821472 | auc: 0.9127400517463684 | treshold: 0.55\n",
      "Test: accuracy: 0.8398017287254333 | f1: 0.8783488273620605 | auc: 0.9136135578155518 | \n",
      "Val update: epoch: 9 |accuracy: 0.8424273133277893 | f1: 0.879932165145874 | auc: 0.9140896797180176 | treshold: 0.53\n",
      "Test: accuracy: 0.8398017287254333 | f1: 0.8767005801200867 | auc: 0.9140335321426392 | \n",
      "Val update: epoch: 11 |accuracy: 0.8408310413360596 | f1: 0.8771123886108398 | auc: 0.9157072305679321 | treshold: 0.51\n",
      "Test: accuracy: 0.8412042260169983 | f1: 0.8759655952453613 | auc: 0.9161584973335266 | \n",
      "Val update: epoch: 12 |accuracy: 0.8433705568313599 | f1: 0.8799050450325012 | auc: 0.9167810678482056 | treshold: 0.53\n",
      "Test: accuracy: 0.8426792621612549 | f1: 0.8781237006187439 | auc: 0.9170114994049072 | \n",
      "Val update: epoch: 13 |accuracy: 0.8499975800514221 | f1: 0.8866966366767883 | auc: 0.9193376302719116 | treshold: 0.56\n",
      "Test: accuracy: 0.847660481929779 | f1: 0.883561909198761 | auc: 0.9201754331588745 | \n",
      "Val update: epoch: 20 |accuracy: 0.8330914974212646 | f1: 0.8802886605262756 | auc: 0.9205608367919922 | treshold: 0.49\n",
      "Test: accuracy: 0.8309757113456726 | f1: 0.8776646256446838 | auc: 0.921359121799469 | \n",
      "Val update: epoch: 26 |accuracy: 0.8379287123680115 | f1: 0.8824818730354309 | auc: 0.920620322227478 | treshold: 0.53\n",
      "Test: accuracy: 0.8361262083053589 | f1: 0.880207896232605 | auc: 0.9222670793533325 | \n",
      "Val update: epoch: 31 |accuracy: 0.8484980463981628 | f1: 0.8872894644737244 | auc: 0.9221978187561035 | treshold: 0.54\n",
      "Test: accuracy: 0.8453149795532227 | f1: 0.8838450908660889 | auc: 0.9234388470649719 | \n",
      "\n",
      "Evaluating TRUESlatewiseGRU with neural embeddings\n"
     ]
    },
    {
     "name": "stderr",
     "output_type": "stream",
     "text": [
      "/opt/conda/envs/myenv/lib/python3.10/site-packages/torch/nn/modules/rnn.py:62: UserWarning: dropout option adds dropout after all but last recurrent layer, so non-zero dropout expects num_layers greater than 1, but got dropout=0.1 and num_layers=1\n",
      "  warnings.warn(\"dropout option adds dropout after all but last \"\n"
     ]
    },
    {
     "name": "stdout",
     "output_type": "stream",
     "text": [
      "Test before learning: {'f1': 0.6257887482643127, 'roc-auc': 0.49290725588798523, 'accuracy': 0.528207004070282}\n"
     ]
    },
    {
     "data": {
      "application/vnd.jupyter.widget-view+json": {
       "model_id": "a74377fcd8964835b73331dd6f370e0f",
       "version_major": 2,
       "version_minor": 0
      },
      "text/plain": [
       "train:   0%|          | 0/5000 [00:00<?, ?it/s]"
      ]
     },
     "metadata": {},
     "output_type": "display_data"
    },
    {
     "name": "stdout",
     "output_type": "stream",
     "text": [
      "Val update: epoch: 0 |accuracy: 0.777003824710846 | f1: 0.837870180606842 | auc: 0.8240405321121216 | treshold: 0.43\n",
      "Test: accuracy: 0.7653971910476685 | f1: 0.8290637731552124 | auc: 0.8172584772109985 | \n",
      "Val update: epoch: 1 |accuracy: 0.7622503042221069 | f1: 0.8419512510299683 | auc: 0.8727391958236694 | treshold: 0.4\n",
      "Test: accuracy: 0.75275057554245 | f1: 0.8346405625343323 | auc: 0.8690912127494812 | \n",
      "Val update: epoch: 2 |accuracy: 0.8216272592544556 | f1: 0.8616244792938232 | auc: 0.8971524238586426 | treshold: 0.49\n",
      "Test: accuracy: 0.8198283314704895 | f1: 0.8590400815010071 | auc: 0.8946620225906372 | \n",
      "Val update: epoch: 3 |accuracy: 0.8243844509124756 | f1: 0.8733494877815247 | auc: 0.9056565761566162 | treshold: 0.48000000000000004\n",
      "Test: accuracy: 0.8163946270942688 | f1: 0.8666748404502869 | auc: 0.9035195112228394 | \n",
      "Val update: epoch: 4 |accuracy: 0.8211677074432373 | f1: 0.8726708889007568 | auc: 0.9086782336235046 | treshold: 0.52\n",
      "Test: accuracy: 0.8145810961723328 | f1: 0.8668749928474426 | auc: 0.9078906178474426 | \n",
      "Val update: epoch: 6 |accuracy: 0.8341798186302185 | f1: 0.8721372485160828 | auc: 0.9101035594940186 | treshold: 0.54\n",
      "Test: accuracy: 0.8317978382110596 | f1: 0.8691890835762024 | auc: 0.9082318544387817 | \n",
      "Val update: epoch: 8 |accuracy: 0.8322691321372986 | f1: 0.8770368099212646 | auc: 0.9124841094017029 | treshold: 0.52\n",
      "Test: accuracy: 0.8293313980102539 | f1: 0.8737297654151917 | auc: 0.9106905460357666 | \n",
      "Val update: epoch: 9 |accuracy: 0.834083080291748 | f1: 0.8793188333511353 | auc: 0.9165224432945251 | treshold: 0.53\n",
      "Test: accuracy: 0.8310482501983643 | f1: 0.8761016726493835 | auc: 0.9164771437644958 | \n",
      "Val update: epoch: 10 |accuracy: 0.8327770233154297 | f1: 0.8791301250457764 | auc: 0.917539119720459 | treshold: 0.49\n",
      "Test: accuracy: 0.8276387453079224 | f1: 0.8742724061012268 | auc: 0.915795087814331 | \n",
      "Val update: epoch: 11 |accuracy: 0.8391138315200806 | f1: 0.8820734620094299 | auc: 0.9192885160446167 | treshold: 0.5700000000000001\n",
      "Test: accuracy: 0.8334421515464783 | f1: 0.876894474029541 | auc: 0.9185720086097717 | \n",
      "Val update: epoch: 12 |accuracy: 0.8375416994094849 | f1: 0.8820440769195557 | auc: 0.9206665754318237 | treshold: 0.5\n",
      "Test: accuracy: 0.834506094455719 | f1: 0.8786696791648865 | auc: 0.9206726551055908 | \n",
      "Val update: epoch: 15 |accuracy: 0.8335268497467041 | f1: 0.8803768157958984 | auc: 0.9208927154541016 | treshold: 0.51\n",
      "Test: accuracy: 0.8295248746871948 | f1: 0.8764068484306335 | auc: 0.9214192628860474 | \n",
      "Val update: epoch: 20 |accuracy: 0.8485947847366333 | f1: 0.8849941492080688 | auc: 0.922073245048523 | treshold: 0.53\n",
      "Test: accuracy: 0.8478781580924988 | f1: 0.8832513689994812 | auc: 0.9225042462348938 | \n",
      "Val update: epoch: 32 |accuracy: 0.8363807797431946 | f1: 0.8822064995765686 | auc: 0.9223721623420715 | treshold: 0.49\n",
      "Test: accuracy: 0.8314593434333801 | f1: 0.877461314201355 | auc: 0.9222434759140015 | \n",
      "Val update: epoch: 36 |accuracy: 0.8370580077171326 | f1: 0.8826695084571838 | auc: 0.924528181552887 | treshold: 0.51\n",
      "Test: accuracy: 0.8321363925933838 | f1: 0.8780350685119629 | auc: 0.9239128828048706 | \n",
      "\n",
      "Evaluating TRUESlatewiseGRU with svd embeddings\n",
      "Test before learning: {'f1': 0.0, 'roc-auc': 0.5440253019332886, 'accuracy': 0.35942450165748596}\n"
     ]
    },
    {
     "data": {
      "application/vnd.jupyter.widget-view+json": {
       "model_id": "daef110e693544b1beb6996c41f16707",
       "version_major": 2,
       "version_minor": 0
      },
      "text/plain": [
       "train:   0%|          | 0/5000 [00:00<?, ?it/s]"
      ]
     },
     "metadata": {},
     "output_type": "display_data"
    },
    {
     "name": "stdout",
     "output_type": "stream",
     "text": [
      "Val update: epoch: 0 |accuracy: 0.712209165096283 | f1: 0.7969765663146973 | auc: 0.7191197872161865 | treshold: 0.41000000000000003\n",
      "Test: accuracy: 0.7047273516654968 | f1: 0.7905668616294861 | auc: 0.7130021452903748 | \n",
      "Val update: epoch: 1 |accuracy: 0.7306389808654785 | f1: 0.8051438927650452 | auc: 0.7578662633895874 | treshold: 0.32\n",
      "Test: accuracy: 0.7229838967323303 | f1: 0.7986714243888855 | auc: 0.7517884969711304 | \n",
      "Val update: epoch: 2 |accuracy: 0.7362260222434998 | f1: 0.8036582469940186 | auc: 0.7726535797119141 | treshold: 0.35000000000000003\n",
      "Test: accuracy: 0.7303590774536133 | f1: 0.7982413172721863 | auc: 0.7667707204818726 | \n",
      "Val update: epoch: 3 |accuracy: 0.7436269521713257 | f1: 0.8058323860168457 | auc: 0.7852849960327148 | treshold: 0.37\n",
      "Test: accuracy: 0.7380486130714417 | f1: 0.8004568219184875 | auc: 0.7795764207839966 | \n",
      "Val update: epoch: 4 |accuracy: 0.7450539469718933 | f1: 0.800499677658081 | auc: 0.7969678044319153 | treshold: 0.42000000000000004\n",
      "Test: accuracy: 0.7419417500495911 | f1: 0.7967392802238464 | auc: 0.7925527691841125 | \n",
      "Val update: epoch: 5 |accuracy: 0.7597349286079407 | f1: 0.8175171613693237 | auc: 0.8076671361923218 | treshold: 0.39\n",
      "Test: accuracy: 0.7539837956428528 | f1: 0.8115856051445007 | auc: 0.8033930659294128 | \n",
      "Val update: epoch: 6 |accuracy: 0.7637739777565002 | f1: 0.8193671107292175 | auc: 0.8154116272926331 | treshold: 0.41000000000000003\n",
      "Test: accuracy: 0.7592068910598755 | f1: 0.8143687844276428 | auc: 0.811956524848938 | \n",
      "Val update: epoch: 7 |accuracy: 0.7772215008735657 | f1: 0.8333182334899902 | auc: 0.8300507068634033 | treshold: 0.41000000000000003\n",
      "Test: accuracy: 0.7725063562393188 | f1: 0.8286837935447693 | auc: 0.826667070388794 | \n",
      "Val update: epoch: 8 |accuracy: 0.7855657339096069 | f1: 0.8465824723243713 | auc: 0.8468457460403442 | treshold: 0.45\n",
      "Test: accuracy: 0.7801716923713684 | f1: 0.8414130210876465 | auc: 0.8453029990196228 | \n",
      "Val update: epoch: 9 |accuracy: 0.75932377576828 | f1: 0.8390821218490601 | auc: 0.853300929069519 | treshold: 0.44\n",
      "Test: accuracy: 0.7505984902381897 | f1: 0.8320633172988892 | auc: 0.8527980446815491 | \n",
      "Val update: epoch: 10 |accuracy: 0.7811396718025208 | f1: 0.8490349054336548 | auc: 0.8594526052474976 | treshold: 0.47000000000000003\n",
      "Test: accuracy: 0.7747309803962708 | f1: 0.8432599902153015 | auc: 0.8594955205917358 | \n",
      "Val update: epoch: 11 |accuracy: 0.7997387647628784 | f1: 0.8529411554336548 | auc: 0.8646758794784546 | treshold: 0.47000000000000003\n",
      "Test: accuracy: 0.7954540252685547 | f1: 0.8483424782752991 | auc: 0.8626827001571655 | \n",
      "Val update: epoch: 13 |accuracy: 0.8052048683166504 | f1: 0.8538877367973328 | auc: 0.8696315288543701 | treshold: 0.44\n",
      "Test: accuracy: 0.802176296710968 | f1: 0.8499422073364258 | auc: 0.8689068555831909 | \n",
      "Val update: epoch: 14 |accuracy: 0.8069462776184082 | f1: 0.8576269745826721 | auc: 0.8735573291778564 | treshold: 0.46\n",
      "Test: accuracy: 0.8032402396202087 | f1: 0.8533266186714172 | auc: 0.8724724054336548 | \n",
      "Val update: epoch: 16 |accuracy: 0.7948773503303528 | f1: 0.8566114902496338 | auc: 0.8758958578109741 | treshold: 0.46\n",
      "Test: accuracy: 0.7905452847480774 | f1: 0.8523858189582825 | auc: 0.8759802579879761 | \n",
      "Val update: epoch: 17 |accuracy: 0.8096309304237366 | f1: 0.8603962063789368 | auc: 0.8785255551338196 | treshold: 0.48000000000000004\n",
      "Test: accuracy: 0.8062628507614136 | f1: 0.8564003109931946 | auc: 0.8783608675003052 | \n",
      "Val update: epoch: 18 |accuracy: 0.8105499744415283 | f1: 0.8631192445755005 | auc: 0.8825352191925049 | treshold: 0.46\n",
      "Test: accuracy: 0.8067464828491211 | f1: 0.8588035702705383 | auc: 0.8823856115341187 | \n",
      "Val update: epoch: 21 |accuracy: 0.7961108684539795 | f1: 0.8583526611328125 | auc: 0.8834978938102722 | treshold: 0.47000000000000003\n",
      "Test: accuracy: 0.7903760075569153 | f1: 0.8532046675682068 | auc: 0.8834000825881958 | \n",
      "Val update: epoch: 22 |accuracy: 0.8008513450622559 | f1: 0.8604264855384827 | auc: 0.8856172561645508 | treshold: 0.45\n",
      "Test: accuracy: 0.7960826754570007 | f1: 0.8557252883911133 | auc: 0.8849462866783142 | \n",
      "Val update: epoch: 23 |accuracy: 0.8167416453361511 | f1: 0.8634700775146484 | auc: 0.8863431811332703 | treshold: 0.5\n",
      "Test: accuracy: 0.8140732645988464 | f1: 0.8598049283027649 | auc: 0.8854162693023682 | \n",
      "Val update: epoch: 24 |accuracy: 0.817950963973999 | f1: 0.8621554970741272 | auc: 0.8882032036781311 | treshold: 0.48000000000000004\n",
      "Test: accuracy: 0.8153064846992493 | f1: 0.8583929538726807 | auc: 0.8875135779380798 | \n",
      "Val update: epoch: 25 |accuracy: 0.8189426064491272 | f1: 0.8640836477279663 | auc: 0.8888912200927734 | treshold: 0.46\n",
      "Test: accuracy: 0.8152097463607788 | f1: 0.8596407175064087 | auc: 0.8880767226219177 | \n",
      "Val update: epoch: 27 |accuracy: 0.8205388784408569 | f1: 0.8651889562606812 | auc: 0.8910152316093445 | treshold: 0.46\n",
      "Test: accuracy: 0.8199250102043152 | f1: 0.8630285859107971 | auc: 0.8904502391815186 | \n",
      "Val update: epoch: 30 |accuracy: 0.8211919069290161 | f1: 0.8661682605743408 | auc: 0.8918581008911133 | treshold: 0.47000000000000003\n",
      "Test: accuracy: 0.8177245855331421 | f1: 0.8618655204772949 | auc: 0.8905812501907349 | \n",
      "Val update: epoch: 31 |accuracy: 0.8215305209159851 | f1: 0.8635010123252869 | auc: 0.893193781375885 | treshold: 0.48000000000000004\n",
      "Test: accuracy: 0.817942202091217 | f1: 0.8590787649154663 | auc: 0.8916231989860535 | \n",
      "Val update: epoch: 32 |accuracy: 0.8204179406166077 | f1: 0.868488609790802 | auc: 0.8933084011077881 | treshold: 0.47000000000000003\n",
      "Test: accuracy: 0.8165881037712097 | f1: 0.8641387224197388 | auc: 0.8923851847648621 | \n",
      "Val update: epoch: 34 |accuracy: 0.8256663084030151 | f1: 0.87082439661026 | auc: 0.8955538868904114 | treshold: 0.51\n",
      "Test: accuracy: 0.8219320774078369 | f1: 0.8664296865463257 | auc: 0.8945059776306152 | \n",
      "Val update: epoch: 37 |accuracy: 0.8242393732070923 | f1: 0.8663589358329773 | auc: 0.896483302116394 | treshold: 0.48000000000000004\n",
      "Test: accuracy: 0.8206746578216553 | f1: 0.8619919419288635 | auc: 0.8947688341140747 | \n",
      "Val update: epoch: 39 |accuracy: 0.8190876841545105 | f1: 0.86994469165802 | auc: 0.897255539894104 | treshold: 0.49\n",
      "Test: accuracy: 0.8147261738777161 | f1: 0.865375816822052 | auc: 0.8956335783004761 | \n",
      "Val update: epoch: 41 |accuracy: 0.8230300545692444 | f1: 0.8633230328559875 | auc: 0.8976681232452393 | treshold: 0.5\n",
      "Test: accuracy: 0.8201426863670349 | f1: 0.8597397804260254 | auc: 0.895750880241394 | \n",
      "Val update: epoch: 42 |accuracy: 0.8241667747497559 | f1: 0.8713365197181702 | auc: 0.8978773355484009 | treshold: 0.49\n",
      "Test: accuracy: 0.818135678768158 | f1: 0.8653911352157593 | auc: 0.8959734439849854 | \n",
      "Val update: epoch: 44 |accuracy: 0.8269240260124207 | f1: 0.8691964745521545 | auc: 0.899131178855896 | treshold: 0.49\n",
      "Test: accuracy: 0.8230443596839905 | f1: 0.8647319674491882 | auc: 0.8974918723106384 | \n",
      "Val update: epoch: 45 |accuracy: 0.8283026218414307 | f1: 0.870496392250061 | auc: 0.8997936248779297 | treshold: 0.51\n",
      "Test: accuracy: 0.8232378363609314 | f1: 0.8650892972946167 | auc: 0.8980575799942017 | \n",
      "Val update: epoch: 48 |accuracy: 0.8307453989982605 | f1: 0.8744077682495117 | auc: 0.901789128780365 | treshold: 0.51\n",
      "Test: accuracy: 0.8245677947998047 | f1: 0.8683661222457886 | auc: 0.8996225595474243 | \n",
      "Val update: epoch: 56 |accuracy: 0.8311807513237 | f1: 0.8725858926773071 | auc: 0.9032419919967651 | treshold: 0.48000000000000004\n",
      "Test: accuracy: 0.8272034525871277 | f1: 0.868130624294281 | auc: 0.900878369808197 | \n",
      "Val update: epoch: 59 |accuracy: 0.8311807513237 | f1: 0.8727067112922668 | auc: 0.903664767742157 | treshold: 0.5\n",
      "Test: accuracy: 0.8256075382232666 | f1: 0.8671431541442871 | auc: 0.9013422131538391 | \n"
     ]
    }
   ],
   "source": [
    "for embeddings in ['explicit', 'neural', 'svd']:\n",
    "    print(f\"\\nEvaluating {experiment_name} with {embeddings} embeddings\")\n",
    "\n",
    "    model = SessionwiseGRU(\n",
    "        RecsysEmbedding(\n",
    "            train_num_items, \n",
    "            train_user_item_matrix, \n",
    "            embeddings=embeddings,\n",
    "            embedding_dim=40\n",
    "        ),\n",
    "        output_dim=1\n",
    "    ).to(device)\n",
    "\n",
    "\n",
    "    best_model, metrics = train(\n",
    "        model, \n",
    "        train_loader, val_loader, test_loader, \n",
    "        device=device, lr=1e-3, num_epochs=5000, early_stopping=7,\n",
    "        silent=True\n",
    "    )\n",
    "    \n",
    "    metrics['embeddings'] = embeddings\n",
    "    rl4rs_results.append(metrics)"
   ]
  },
  {
   "cell_type": "code",
   "execution_count": 11,
   "id": "e1b6dba5-c7fb-4135-9407-82472dbc18b6",
   "metadata": {},
   "outputs": [],
   "source": [
    "pd.DataFrame(rl4rs_results).to_csv(f'results/rl4rs_{experiment_name}.csv')\n",
    "del dataset, train_loader, val_loader, test_loader, train_user_item_matrix, train_num_items"
   ]
  }
 ],
 "metadata": {
  "kernelspec": {
   "display_name": "Python 3 (ipykernel)",
   "language": "python",
   "name": "python3"
  },
  "language_info": {
   "codemirror_mode": {
    "name": "ipython",
    "version": 3
   },
   "file_extension": ".py",
   "mimetype": "text/x-python",
   "name": "python",
   "nbconvert_exporter": "python",
   "pygments_lexer": "ipython3",
   "version": "3.10.13"
  }
 },
 "nbformat": 4,
 "nbformat_minor": 5
}
