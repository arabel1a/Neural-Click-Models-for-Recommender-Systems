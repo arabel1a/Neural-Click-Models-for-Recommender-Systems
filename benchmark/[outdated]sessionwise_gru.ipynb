{
 "cells": [
  {
   "cell_type": "code",
   "execution_count": 1,
   "id": "64321c32",
   "metadata": {},
   "outputs": [
    {
     "data": {
      "text/plain": [
       "<torch._C.Generator at 0x7f3ac8deebb0>"
      ]
     },
     "execution_count": 1,
     "metadata": {},
     "output_type": "execute_result"
    }
   ],
   "source": [
    "import os\n",
    "import torch\n",
    "import random\n",
    "import datetime\n",
    "import pandas as pd\n",
    "import numpy as np\n",
    "\n",
    "from torch.utils.data import Dataset\n",
    "from src.datasets import RL4RS, ContentWise, DummyData\n",
    "from src.utils import train, get_dummy_data, get_train_val_test_tmatrix_tnumitems, get_svd_encoder\n",
    "from src.embeddings import RecsysEmbedding\n",
    "\n",
    "experiment_name = 'SessionwiseGRU'\n",
    "device = 'cuda:2'\n",
    "seed = 123\n",
    "pkl_path = '../pkl/'\n",
    "\n",
    "random.seed(seed)\n",
    "np.random.seed(seed)\n",
    "torch.manual_seed(seed)"
   ]
  },
  {
   "cell_type": "code",
   "execution_count": 2,
   "id": "6c3ac807",
   "metadata": {},
   "outputs": [
    {
     "data": {
      "text/plain": [
       "'1.12.1'"
      ]
     },
     "execution_count": 2,
     "metadata": {},
     "output_type": "execute_result"
    }
   ],
   "source": [
    "torch.__version__"
   ]
  },
  {
   "cell_type": "markdown",
   "id": "d983e49b",
   "metadata": {},
   "source": [
    "# Модель"
   ]
  },
  {
   "cell_type": "code",
   "execution_count": 3,
   "id": "4249b6e2",
   "metadata": {},
   "outputs": [],
   "source": [
    "import torch.nn.functional as F\n",
    "torch.autograd.set_detect_anomaly(True)\n",
    "\n",
    "class SessionwiseGRU(torch.nn.Module):\n",
    "    def __init__(self, embedding, output_dim=1, dropout = 0.1):\n",
    "        super().__init__()\n",
    "        self.embedding_dim = embedding.embedding_dim\n",
    "        self.embedding = embedding\n",
    "        self.rnn_layer = torch.nn.GRU(\n",
    "            input_size = embedding.embedding_dim, \n",
    "            hidden_size = embedding.embedding_dim, \n",
    "            batch_first = True,\n",
    "            dropout=dropout\n",
    "        )\n",
    "        self.out_layer = torch.nn.Linear(embedding.embedding_dim, output_dim)\n",
    "\n",
    "\n",
    "    def forward(self, batch):\n",
    "        shp = batch['slates_item_indexes'].shape\n",
    "        item_embs, user_embs = self.embedding(batch)\n",
    "        item_embs = item_embs.flatten(-3, -2)\n",
    "        \n",
    "        # while training, let out model see the future \n",
    "        # while testing, it can see only the \n",
    "        if self.training:\n",
    "            indices = (batch['length'] - 1)\n",
    "        else:\n",
    "            indices = (batch['in_length'] - 1)\n",
    "        \n",
    "        indices[indices<0] = 0\n",
    "        indices = indices[:, None, None].repeat(1, 1, user_embs.size(-1))\n",
    "        user_embs = user_embs.gather(1, indices).squeeze(-2).unsqueeze(0)\n",
    "\n",
    "#         print(indices.shape, user_embs.shape, item_embs.shape, )\n",
    "        rnn_out, _ = self.rnn_layer(\n",
    "            item_embs,\n",
    "            user_embs,\n",
    "        )\n",
    "        return self.out_layer(rnn_out).reshape(shp)"
   ]
  },
  {
   "cell_type": "markdown",
   "id": "94ff279b",
   "metadata": {},
   "source": [
    "# Игрушечный датасет: проверим, что сходится к идеальным метрикам"
   ]
  },
  {
   "cell_type": "code",
   "execution_count": 4,
   "id": "07532c4d",
   "metadata": {
    "scrolled": true
   },
   "outputs": [
    {
     "name": "stdout",
     "output_type": "stream",
     "text": [
      "biulding affinity matrix...\n"
     ]
    },
    {
     "name": "stderr",
     "output_type": "stream",
     "text": [
      "3it [00:00, 3610.59it/s]\n",
      "/opt/conda/envs/myenv/lib/python3.10/site-packages/torch/nn/modules/rnn.py:62: UserWarning: dropout option adds dropout after all but last recurrent layer, so non-zero dropout expects num_layers greater than 1, but got dropout=0.1 and num_layers=1\n",
      "  warnings.warn(\"dropout option adds dropout after all but last \"\n"
     ]
    },
    {
     "name": "stdout",
     "output_type": "stream",
     "text": [
      "Test before learning: {'f1': 0.4000000059604645, 'roc-auc': 0.3333333134651184, 'accuracy': 0.25}\n"
     ]
    },
    {
     "data": {
      "application/vnd.jupyter.widget-view+json": {
       "model_id": "679d132de9c1404abbcd1779f79678b0",
       "version_major": 2,
       "version_minor": 0
      },
      "text/plain": [
       "train:   0%|          | 0/5000 [00:00<?, ?it/s]"
      ]
     },
     "metadata": {},
     "output_type": "display_data"
    },
    {
     "name": "stdout",
     "output_type": "stream",
     "text": [
      "Val update: epoch: 0 |accuracy: 0.5 | f1: 0.5 | auc: 0.3333333134651184 | treshold: 0.51\n",
      "Test: accuracy: 0.5 | f1: 0.5 | auc: 0.3333333134651184 | \n",
      "Val update: epoch: 3 |accuracy: 1.0 | f1: 1.0 | auc: 1.0 | treshold: 0.54\n",
      "Test: accuracy: 1.0 | f1: 1.0 | auc: 1.0 | \n"
     ]
    },
    {
     "data": {
      "text/plain": [
       "(SessionwiseGRU(\n",
       "   (embedding): RecsysEmbedding(\n",
       "     (item_embeddings): Embedding(5, 32)\n",
       "   )\n",
       "   (rnn_layer): GRU(32, 32, batch_first=True, dropout=0.1)\n",
       "   (out_layer): Linear(in_features=32, out_features=1, bias=True)\n",
       " ),\n",
       " {'f1': 1.0, 'roc-auc': 1.0, 'accuracy': 1.0})"
      ]
     },
     "execution_count": 4,
     "metadata": {},
     "output_type": "execute_result"
    }
   ],
   "source": [
    "d = DummyData()\n",
    "dummy_loader, dummy_matrix = get_dummy_data(d)\n",
    "\n",
    "model = SessionwiseGRU(\n",
    "    RecsysEmbedding(d.n_items, dummy_matrix, embeddings='neural').to('cpu'),\n",
    "    output_dim=1\n",
    ").to('cpu')\n",
    "\n",
    "train(\n",
    "    model, \n",
    "    dummy_loader, dummy_loader, dummy_loader,\n",
    "    device=device, lr=1e-3, num_epochs=5000, dummy=True,\n",
    "    silent=True,\n",
    ")\n"
   ]
  },
  {
   "cell_type": "markdown",
   "id": "cce13141",
   "metadata": {},
   "source": [
    "# ContentWise"
   ]
  },
  {
   "cell_type": "code",
   "execution_count": 5,
   "id": "a7b67d87",
   "metadata": {},
   "outputs": [
    {
     "name": "stdout",
     "output_type": "stream",
     "text": [
      "20216 data points among 108 batches\n"
     ]
    }
   ],
   "source": [
    "content_wise_results = []\n",
    "dataset = ContentWise.load(os.path.join(pkl_path, 'cw.pkl'))\n",
    "(\n",
    "    train_loader, \n",
    "    val_loader, \n",
    "    test_loader, \n",
    "    train_user_item_matrix, \n",
    "    train_num_items \n",
    ") = get_train_val_test_tmatrix_tnumitems(dataset, batch_size=150)\n",
    "\n",
    "print(f\"{len(dataset)} data points among {len(train_loader)} batches\")"
   ]
  },
  {
   "cell_type": "code",
   "execution_count": 6,
   "id": "a0c6d95c",
   "metadata": {},
   "outputs": [
    {
     "name": "stdout",
     "output_type": "stream",
     "text": [
      "\n",
      "Evaluating SessionwiseGRU with svd embeddings\n"
     ]
    },
    {
     "name": "stderr",
     "output_type": "stream",
     "text": [
      "/opt/conda/envs/myenv/lib/python3.10/site-packages/torch/nn/modules/rnn.py:62: UserWarning: dropout option adds dropout after all but last recurrent layer, so non-zero dropout expects num_layers greater than 1, but got dropout=0.1 and num_layers=1\n",
      "  warnings.warn(\"dropout option adds dropout after all but last \"\n"
     ]
    },
    {
     "name": "stdout",
     "output_type": "stream",
     "text": [
      "Test before learning: {'f1': 0.17910169064998627, 'roc-auc': 0.5107409954071045, 'accuracy': 0.10133212804794312}\n"
     ]
    },
    {
     "data": {
      "application/vnd.jupyter.widget-view+json": {
       "model_id": "9830cd2df5f047c886d1140f1ed79c40",
       "version_major": 2,
       "version_minor": 0
      },
      "text/plain": [
       "train:   0%|          | 0/5000 [00:00<?, ?it/s]"
      ]
     },
     "metadata": {},
     "output_type": "display_data"
    },
    {
     "name": "stdout",
     "output_type": "stream",
     "text": [
      "Val update: epoch: 0 |accuracy: 0.10012787580490112 | f1: 0.18202951550483704 | auc: 0.555400550365448 | treshold: 0.01\n",
      "Test: accuracy: 0.09851612895727158 | f1: 0.1793621927499771 | auc: 0.5454712510108948 | \n",
      "Val update: epoch: 1 |accuracy: 0.10012787580490112 | f1: 0.18202951550483704 | auc: 0.5753637552261353 | treshold: 0.060000000000000005\n",
      "Test: accuracy: 0.09851612895727158 | f1: 0.1793621927499771 | auc: 0.5669745206832886 | \n",
      "Val update: epoch: 2 |accuracy: 0.8400392532348633 | f1: 0.23419703543186188 | auc: 0.5863630771636963 | treshold: 0.06999999999999999\n",
      "Test: accuracy: 0.8422603607177734 | f1: 0.22795115411281586 | auc: 0.5774627327919006 | \n",
      "Val update: epoch: 3 |accuracy: 0.822583019733429 | f1: 0.2441403716802597 | auc: 0.614797055721283 | treshold: 0.13\n",
      "Test: accuracy: 0.8254081606864929 | f1: 0.24323298037052155 | auc: 0.6134625673294067 | \n",
      "Val update: epoch: 4 |accuracy: 0.7833288908004761 | f1: 0.24473929405212402 | auc: 0.6311878561973572 | treshold: 0.13\n",
      "Test: accuracy: 0.7855318784713745 | f1: 0.23637591302394867 | auc: 0.6250616908073425 | \n",
      "Val update: epoch: 5 |accuracy: 0.8171260952949524 | f1: 0.24716900289058685 | auc: 0.6389983296394348 | treshold: 0.12\n",
      "Test: accuracy: 0.8204765319824219 | f1: 0.2450607419013977 | auc: 0.6319981217384338 | \n",
      "Val update: epoch: 6 |accuracy: 0.8401135802268982 | f1: 0.24914461374282837 | auc: 0.6443421840667725 | treshold: 0.11\n",
      "Test: accuracy: 0.8415016531944275 | f1: 0.24703679978847504 | auc: 0.6371355056762695 | \n",
      "Val update: epoch: 7 |accuracy: 0.865896463394165 | f1: 0.2353539615869522 | auc: 0.6527267694473267 | treshold: 0.12\n",
      "Test: accuracy: 0.8664954900741577 | f1: 0.2286292314529419 | auc: 0.6440905928611755 | \n",
      "Val update: epoch: 11 |accuracy: 0.7952092289924622 | f1: 0.25426390767097473 | auc: 0.6539484262466431 | treshold: 0.12\n",
      "Test: accuracy: 0.798313319683075 | f1: 0.24911728501319885 | auc: 0.6469983458518982 | \n",
      "Val update: epoch: 12 |accuracy: 0.7823029160499573 | f1: 0.25804489850997925 | auc: 0.6601506471633911 | treshold: 0.12\n",
      "Test: accuracy: 0.7836205363273621 | f1: 0.253122478723526 | auc: 0.6537305116653442 | \n",
      "Val update: epoch: 16 |accuracy: 0.7630624175071716 | f1: 0.25526943802833557 | auc: 0.661574125289917 | treshold: 0.12\n",
      "Test: accuracy: 0.7626829147338867 | f1: 0.2500806748867035 | auc: 0.6544597148895264 | \n",
      "Val update: epoch: 18 |accuracy: 0.7416808009147644 | f1: 0.2560061812400818 | auc: 0.6619666218757629 | treshold: 0.12\n",
      "Test: accuracy: 0.738331139087677 | f1: 0.24779801070690155 | auc: 0.6558555960655212 | \n",
      "Val update: epoch: 20 |accuracy: 0.759583055973053 | f1: 0.2541630268096924 | auc: 0.6621136665344238 | treshold: 0.12\n",
      "Test: accuracy: 0.7567883133888245 | f1: 0.2462581992149353 | auc: 0.6555668115615845 | \n",
      "Val update: epoch: 22 |accuracy: 0.7508252263069153 | f1: 0.25612571835517883 | auc: 0.6642922759056091 | treshold: 0.12\n",
      "Test: accuracy: 0.7487926483154297 | f1: 0.24833005666732788 | auc: 0.6576055288314819 | \n",
      "Val update: epoch: 24 |accuracy: 0.7355547547340393 | f1: 0.2566974461078644 | auc: 0.6647142171859741 | treshold: 0.12\n",
      "Test: accuracy: 0.7334286570549011 | f1: 0.250061571598053 | auc: 0.6592838764190674 | \n",
      "Val update: epoch: 31 |accuracy: 0.7273321747779846 | f1: 0.2590706944465637 | auc: 0.6653099656105042 | treshold: 0.12\n",
      "Test: accuracy: 0.7242657542228699 | f1: 0.250911682844162 | auc: 0.6611448526382446 | \n",
      "Val update: epoch: 33 |accuracy: 0.7454277873039246 | f1: 0.25879907608032227 | auc: 0.6665431261062622 | treshold: 0.12\n",
      "Test: accuracy: 0.744853138923645 | f1: 0.25253260135650635 | auc: 0.6603981256484985 | \n",
      "Val update: epoch: 71 |accuracy: 0.7928152680397034 | f1: 0.2645413279533386 | auc: 0.6684739589691162 | treshold: 0.14\n",
      "Test: accuracy: 0.7904197573661804 | f1: 0.26088300347328186 | auc: 0.6655526161193848 | \n",
      "Val update: epoch: 78 |accuracy: 0.838254988193512 | f1: 0.2659918963909149 | auc: 0.6702770590782166 | treshold: 0.13\n",
      "Test: accuracy: 0.8393276333808899 | f1: 0.259548157453537 | auc: 0.6669323444366455 | \n",
      "Val update: epoch: 88 |accuracy: 0.8615100979804993 | f1: 0.25902944803237915 | auc: 0.6708272695541382 | treshold: 0.14\n",
      "Test: accuracy: 0.861826479434967 | f1: 0.2555031478404999 | auc: 0.6658096313476562 | \n",
      "\n",
      "Evaluating SessionwiseGRU with neural embeddings\n"
     ]
    },
    {
     "name": "stderr",
     "output_type": "stream",
     "text": [
      "/opt/conda/envs/myenv/lib/python3.10/site-packages/torch/nn/modules/rnn.py:62: UserWarning: dropout option adds dropout after all but last recurrent layer, so non-zero dropout expects num_layers greater than 1, but got dropout=0.1 and num_layers=1\n",
      "  warnings.warn(\"dropout option adds dropout after all but last \"\n"
     ]
    },
    {
     "name": "stdout",
     "output_type": "stream",
     "text": [
      "Test before learning: {'f1': 0.15120254456996918, 'roc-auc': 0.4822978973388672, 'accuracy': 0.583422064781189}\n"
     ]
    },
    {
     "data": {
      "application/vnd.jupyter.widget-view+json": {
       "model_id": "fa389701cf1c43139aac5037f8d957a1",
       "version_major": 2,
       "version_minor": 0
      },
      "text/plain": [
       "train:   0%|          | 0/5000 [00:00<?, ?it/s]"
      ]
     },
     "metadata": {},
     "output_type": "display_data"
    },
    {
     "name": "stdout",
     "output_type": "stream",
     "text": [
      "Val update: epoch: 0 |accuracy: 0.10012787580490112 | f1: 0.18202951550483704 | auc: 0.6200113296508789 | treshold: 0.01\n",
      "Test: accuracy: 0.09851612895727158 | f1: 0.1793621927499771 | auc: 0.6115891933441162 | \n",
      "Val update: epoch: 1 |accuracy: 0.671290934085846 | f1: 0.2415342926979065 | auc: 0.6553618907928467 | treshold: 0.09\n",
      "Test: accuracy: 0.6666034460067749 | f1: 0.23644991219043732 | auc: 0.6487568020820618 | \n",
      "Val update: epoch: 2 |accuracy: 0.790584921836853 | f1: 0.26980507373809814 | auc: 0.6845998764038086 | treshold: 0.15000000000000002\n",
      "Test: accuracy: 0.7944322228431702 | f1: 0.27365055680274963 | auc: 0.6808114051818848 | \n",
      "Val update: epoch: 3 |accuracy: 0.8634876608848572 | f1: 0.25774112343788147 | auc: 0.6984960436820984 | treshold: 0.13\n",
      "Test: accuracy: 0.8657951354980469 | f1: 0.2498776763677597 | auc: 0.6953215003013611 | \n",
      "Val update: epoch: 4 |accuracy: 0.6519463658332825 | f1: 0.2686828374862671 | auc: 0.7068164944648743 | treshold: 0.14\n",
      "Test: accuracy: 0.6529757380485535 | f1: 0.2666049897670746 | auc: 0.7045803070068359 | \n",
      "Val update: epoch: 5 |accuracy: 0.8161893486976624 | f1: 0.29133227467536926 | auc: 0.7092470526695251 | treshold: 0.14\n",
      "Test: accuracy: 0.8169747591018677 | f1: 0.2860557734966278 | auc: 0.7056903839111328 | \n",
      "Val update: epoch: 6 |accuracy: 0.8600380420684814 | f1: 0.2794151306152344 | auc: 0.7127883434295654 | treshold: 0.13\n",
      "Test: accuracy: 0.8622496128082275 | f1: 0.2707963287830353 | auc: 0.7111892700195312 | \n",
      "Val update: epoch: 7 |accuracy: 0.7951348423957825 | f1: 0.29818663001060486 | auc: 0.7155283093452454 | treshold: 0.14\n",
      "Test: accuracy: 0.7943154573440552 | f1: 0.29178598523139954 | auc: 0.7136869430541992 | \n",
      "Val update: epoch: 8 |accuracy: 0.6943379044532776 | f1: 0.2840525209903717 | auc: 0.7189491987228394 | treshold: 0.15000000000000002\n",
      "Test: accuracy: 0.6942819356918335 | f1: 0.28304535150527954 | auc: 0.717902421951294 | \n",
      "Val update: epoch: 10 |accuracy: 0.8498528003692627 | f1: 0.29845768213272095 | auc: 0.7227574586868286 | treshold: 0.14\n",
      "Test: accuracy: 0.8511898517608643 | f1: 0.2892187535762787 | auc: 0.7211644649505615 | \n",
      "Val update: epoch: 11 |accuracy: 0.8632497787475586 | f1: 0.2874409258365631 | auc: 0.7252594232559204 | treshold: 0.15000000000000002\n",
      "Test: accuracy: 0.8654887080192566 | f1: 0.28004685044288635 | auc: 0.7238141894340515 | \n",
      "Val update: epoch: 13 |accuracy: 0.7582002282142639 | f1: 0.3012203574180603 | auc: 0.7268939018249512 | treshold: 0.15000000000000002\n",
      "Test: accuracy: 0.7598085999488831 | f1: 0.30162903666496277 | auc: 0.7263059616088867 | \n",
      "Val update: epoch: 14 |accuracy: 0.7258899211883545 | f1: 0.29430004954338074 | auc: 0.7273452281951904 | treshold: 0.16\n",
      "Test: accuracy: 0.7270817160606384 | f1: 0.2974120080471039 | auc: 0.7268474698066711 | \n",
      "Val update: epoch: 15 |accuracy: 0.732357919216156 | f1: 0.30053624510765076 | auc: 0.731043815612793 | treshold: 0.16\n",
      "Test: accuracy: 0.7302187085151672 | f1: 0.29770585894584656 | auc: 0.7303295731544495 | \n",
      "Val update: epoch: 18 |accuracy: 0.8562167286872864 | f1: 0.30028942227363586 | auc: 0.731071949005127 | treshold: 0.15000000000000002\n",
      "Test: accuracy: 0.8588645458221436 | f1: 0.29798969626426697 | auc: 0.7258762121200562 | \n",
      "Val update: epoch: 19 |accuracy: 0.8435929417610168 | f1: 0.3125285804271698 | auc: 0.734555721282959 | treshold: 0.16\n",
      "Test: accuracy: 0.8456891775131226 | f1: 0.3092096745967865 | auc: 0.7290502786636353 | \n",
      "Val update: epoch: 20 |accuracy: 0.8213935494422913 | f1: 0.323038786649704 | auc: 0.7350494265556335 | treshold: 0.16\n",
      "Test: accuracy: 0.8209434151649475 | f1: 0.31280097365379333 | auc: 0.7316188812255859 | \n",
      "Val update: epoch: 22 |accuracy: 0.7889196276664734 | f1: 0.3174999952316284 | auc: 0.7357267141342163 | treshold: 0.17\n",
      "Test: accuracy: 0.7888147830963135 | f1: 0.31095877289772034 | auc: 0.7310658693313599 | \n",
      "Val update: epoch: 26 |accuracy: 0.7573824524879456 | f1: 0.31230244040489197 | auc: 0.7367652058601379 | treshold: 0.16\n",
      "Test: accuracy: 0.7579264044761658 | f1: 0.3042147159576416 | auc: 0.7317582964897156 | \n"
     ]
    }
   ],
   "source": [
    "for embeddings in ['svd', 'neural']:\n",
    "    print(f\"\\nEvaluating {experiment_name} with {embeddings} embeddings\")\n",
    "    \n",
    "    model = SessionwiseGRU(\n",
    "        RecsysEmbedding(\n",
    "            train_num_items, \n",
    "            train_user_item_matrix, \n",
    "            embeddings=embeddings\n",
    "        ),\n",
    "        output_dim=1\n",
    "    ).to(device)\n",
    "\n",
    "    _, metrics = train(\n",
    "        model, \n",
    "        train_loader, val_loader, test_loader, \n",
    "        device=device, lr=1e-3, num_epochs=5000, early_stopping=7,\n",
    "       silent=True, \n",
    "    )\n",
    "    \n",
    "    metrics['embeddings'] = embeddings\n",
    "    content_wise_results.append(metrics)"
   ]
  },
  {
   "cell_type": "code",
   "execution_count": 7,
   "id": "104163dd-0b92-416f-ade3-c5f07e2a12f9",
   "metadata": {},
   "outputs": [],
   "source": [
    "pd.DataFrame(content_wise_results).to_csv(f'results/cw_{experiment_name}.csv')\n",
    "del dataset, train_loader, val_loader, test_loader, train_user_item_matrix, train_num_items"
   ]
  },
  {
   "cell_type": "markdown",
   "id": "5adce582",
   "metadata": {},
   "source": [
    "# RL4RS"
   ]
  },
  {
   "cell_type": "code",
   "execution_count": 8,
   "id": "bfe5023e",
   "metadata": {},
   "outputs": [
    {
     "name": "stdout",
     "output_type": "stream",
     "text": [
      "45942 data points among 106 batches\n"
     ]
    }
   ],
   "source": [
    "rl4rs_results = []\n",
    "dataset = RL4RS.load(os.path.join(pkl_path, 'rl4rs.pkl'))\n",
    "(\n",
    "    train_loader, \n",
    "    val_loader, \n",
    "    test_loader, \n",
    "    train_user_item_matrix, \n",
    "    train_num_items \n",
    ") = get_train_val_test_tmatrix_tnumitems(dataset, batch_size=350)\n",
    "\n",
    "print(f\"{len(dataset)} data points among {len(train_loader)} batches\")"
   ]
  },
  {
   "cell_type": "code",
   "execution_count": 9,
   "id": "4565f9e9",
   "metadata": {},
   "outputs": [
    {
     "name": "stdout",
     "output_type": "stream",
     "text": [
      "\n",
      "Evaluating SessionwiseGRU with explicit embeddings\n"
     ]
    },
    {
     "name": "stderr",
     "output_type": "stream",
     "text": [
      "/opt/conda/envs/myenv/lib/python3.10/site-packages/torch/nn/modules/rnn.py:62: UserWarning: dropout option adds dropout after all but last recurrent layer, so non-zero dropout expects num_layers greater than 1, but got dropout=0.1 and num_layers=1\n",
      "  warnings.warn(\"dropout option adds dropout after all but last \"\n"
     ]
    },
    {
     "name": "stdout",
     "output_type": "stream",
     "text": [
      "Test before learning: {'f1': 0.7154248356819153, 'roc-auc': 0.4887523353099823, 'accuracy': 0.584040641784668}\n"
     ]
    },
    {
     "data": {
      "application/vnd.jupyter.widget-view+json": {
       "model_id": "a33699efff7344e6960194ef560df856",
       "version_major": 2,
       "version_minor": 0
      },
      "text/plain": [
       "train:   0%|          | 0/5000 [00:00<?, ?it/s]"
      ]
     },
     "metadata": {},
     "output_type": "display_data"
    },
    {
     "name": "stdout",
     "output_type": "stream",
     "text": [
      "Val update: epoch: 0 |accuracy: 0.7557684183120728 | f1: 0.8053059577941895 | auc: 0.8257359266281128 | treshold: 0.46\n",
      "Test: accuracy: 0.7563776969909668 | f1: 0.807188093662262 | auc: 0.8237989544868469 | \n",
      "Val update: epoch: 1 |accuracy: 0.7912736535072327 | f1: 0.839400053024292 | auc: 0.8547525405883789 | treshold: 0.32\n",
      "Test: accuracy: 0.7886108160018921 | f1: 0.8380451202392578 | auc: 0.8492683172225952 | \n",
      "Val update: epoch: 3 |accuracy: 0.8001983165740967 | f1: 0.8592602610588074 | auc: 0.8781238198280334 | treshold: 0.37\n",
      "Test: accuracy: 0.7990086078643799 | f1: 0.859046995639801 | auc: 0.8736324310302734 | \n",
      "Val update: epoch: 5 |accuracy: 0.8118802309036255 | f1: 0.854142427444458 | auc: 0.8925448060035706 | treshold: 0.39\n",
      "Test: accuracy: 0.8080522418022156 | f1: 0.8516926765441895 | auc: 0.8877182006835938 | \n",
      "Val update: epoch: 6 |accuracy: 0.822401225566864 | f1: 0.8596441149711609 | auc: 0.9006321430206299 | treshold: 0.38\n",
      "Test: accuracy: 0.8147987127304077 | f1: 0.8541059494018555 | auc: 0.8942195177078247 | \n",
      "Val update: epoch: 7 |accuracy: 0.8309389352798462 | f1: 0.8775832056999207 | auc: 0.9163250923156738 | treshold: 0.36000000000000004\n",
      "Test: accuracy: 0.8306371569633484 | f1: 0.8780003190040588 | auc: 0.9121040105819702 | \n",
      "Val update: epoch: 10 |accuracy: 0.8487399220466614 | f1: 0.88474440574646 | auc: 0.9200044274330139 | treshold: 0.37\n",
      "Test: accuracy: 0.847636342048645 | f1: 0.884306788444519 | auc: 0.9173041582107544 | \n",
      "Val update: epoch: 14 |accuracy: 0.8498766422271729 | f1: 0.8863956928253174 | auc: 0.921433687210083 | treshold: 0.39\n",
      "Test: accuracy: 0.8499093055725098 | f1: 0.8868595361709595 | auc: 0.9189263582229614 | \n",
      "Val update: epoch: 23 |accuracy: 0.8489575982093811 | f1: 0.8806498050689697 | auc: 0.9214435815811157 | treshold: 0.44\n",
      "Test: accuracy: 0.8471285104751587 | f1: 0.8800106048583984 | auc: 0.9189454913139343 | \n",
      "Val update: epoch: 30 |accuracy: 0.8525129556655884 | f1: 0.8848956227302551 | auc: 0.9227390289306641 | treshold: 0.43\n",
      "Test: accuracy: 0.8479990363121033 | f1: 0.8818909525871277 | auc: 0.9196926951408386 | \n",
      "Val update: epoch: 34 |accuracy: 0.8531659841537476 | f1: 0.8859328031539917 | auc: 0.9227606058120728 | treshold: 0.4\n",
      "Test: accuracy: 0.849667489528656 | f1: 0.8837183117866516 | auc: 0.919224739074707 | \n",
      "\n",
      "Evaluating SessionwiseGRU with neural embeddings\n"
     ]
    },
    {
     "name": "stderr",
     "output_type": "stream",
     "text": [
      "/opt/conda/envs/myenv/lib/python3.10/site-packages/torch/nn/modules/rnn.py:62: UserWarning: dropout option adds dropout after all but last recurrent layer, so non-zero dropout expects num_layers greater than 1, but got dropout=0.1 and num_layers=1\n",
      "  warnings.warn(\"dropout option adds dropout after all but last \"\n"
     ]
    },
    {
     "name": "stdout",
     "output_type": "stream",
     "text": [
      "Test before learning: {'f1': 0.5974403619766235, 'roc-auc': 0.5178562998771667, 'accuracy': 0.524628221988678}\n"
     ]
    },
    {
     "data": {
      "application/vnd.jupyter.widget-view+json": {
       "model_id": "7a1a3d40fe0343328884ac5f70da5711",
       "version_major": 2,
       "version_minor": 0
      },
      "text/plain": [
       "train:   0%|          | 0/5000 [00:00<?, ?it/s]"
      ]
     },
     "metadata": {},
     "output_type": "display_data"
    },
    {
     "name": "stdout",
     "output_type": "stream",
     "text": [
      "Val update: epoch: 0 |accuracy: 0.7555265426635742 | f1: 0.8329477310180664 | auc: 0.8019580841064453 | treshold: 0.41000000000000003\n",
      "Test: accuracy: 0.7569096684455872 | f1: 0.8347606062889099 | auc: 0.7968358993530273 | \n",
      "Val update: epoch: 1 |accuracy: 0.775431752204895 | f1: 0.8462468385696411 | auc: 0.8512120246887207 | treshold: 0.33\n",
      "Test: accuracy: 0.7755773067474365 | f1: 0.8470122814178467 | auc: 0.8489636182785034 | \n",
      "Val update: epoch: 2 |accuracy: 0.792095959186554 | f1: 0.8337137699127197 | auc: 0.874822735786438 | treshold: 0.35000000000000003\n",
      "Test: accuracy: 0.7839196920394897 | f1: 0.8280943632125854 | auc: 0.8681647777557373 | \n",
      "Val update: epoch: 4 |accuracy: 0.822957456111908 | f1: 0.8607994318008423 | auc: 0.9023512601852417 | treshold: 0.34\n",
      "Test: accuracy: 0.8164913654327393 | f1: 0.8561245203018188 | auc: 0.8961309194564819 | \n",
      "Val update: epoch: 5 |accuracy: 0.8322691321372986 | f1: 0.8730806708335876 | auc: 0.9116961359977722 | treshold: 0.38\n",
      "Test: accuracy: 0.8288719654083252 | f1: 0.8708882927894592 | auc: 0.9064127206802368 | \n",
      "Val update: epoch: 6 |accuracy: 0.8331398367881775 | f1: 0.876168966293335 | auc: 0.9126802682876587 | treshold: 0.33\n",
      "Test: accuracy: 0.8295732140541077 | f1: 0.8738635778427124 | auc: 0.9072712659835815 | \n",
      "Val update: epoch: 7 |accuracy: 0.838533341884613 | f1: 0.8795033097267151 | auc: 0.9133523106575012 | treshold: 0.43\n",
      "Test: accuracy: 0.8366340398788452 | f1: 0.8784192204475403 | auc: 0.9090512990951538 | \n",
      "Val update: epoch: 8 |accuracy: 0.8467324376106262 | f1: 0.882849931716919 | auc: 0.9197168350219727 | treshold: 0.37\n",
      "Test: accuracy: 0.8432353734970093 | f1: 0.8805439472198486 | auc: 0.9154658317565918 | \n",
      "Val update: epoch: 9 |accuracy: 0.8512310981750488 | f1: 0.8876262903213501 | auc: 0.9224987030029297 | treshold: 0.4\n",
      "Test: accuracy: 0.8471527099609375 | f1: 0.8850204348564148 | auc: 0.9183301329612732 | \n",
      "Val update: epoch: 15 |accuracy: 0.8526096940040588 | f1: 0.8836445808410645 | auc: 0.9228127002716064 | treshold: 0.38\n",
      "Test: accuracy: 0.8498851656913757 | f1: 0.8820130825042725 | auc: 0.9206599593162537 | \n",
      "Val update: epoch: 16 |accuracy: 0.8503119945526123 | f1: 0.8878743648529053 | auc: 0.9238215684890747 | treshold: 0.4\n",
      "Test: accuracy: 0.8480957746505737 | f1: 0.8867863416671753 | auc: 0.9216666221618652 | \n",
      "Val update: epoch: 20 |accuracy: 0.852246880531311 | f1: 0.8871191143989563 | auc: 0.9241529107093811 | treshold: 0.42000000000000004\n",
      "Test: accuracy: 0.8509249091148376 | f1: 0.8864954710006714 | auc: 0.9217913746833801 | \n"
     ]
    },
    {
     "name": "stderr",
     "output_type": "stream",
     "text": [
      "/opt/conda/envs/myenv/lib/python3.10/site-packages/torchmetrics/utilities/prints.py:43: UserWarning: No negative samples in targets, false positive value should be meaningless. Returning zero tensor in false positive score\n",
      "  warnings.warn(*args, **kwargs)  # noqa: B028\n"
     ]
    },
    {
     "name": "stdout",
     "output_type": "stream",
     "text": [
      "\n",
      "Evaluating SessionwiseGRU with svd embeddings\n",
      "Test before learning: {'f1': 0.479218453168869, 'roc-auc': 0.5180301666259766, 'accuracy': 0.49341070652008057}\n"
     ]
    },
    {
     "data": {
      "application/vnd.jupyter.widget-view+json": {
       "model_id": "d351df27d8184065a4f04a71104ec911",
       "version_major": 2,
       "version_minor": 0
      },
      "text/plain": [
       "train:   0%|          | 0/5000 [00:00<?, ?it/s]"
      ]
     },
     "metadata": {},
     "output_type": "display_data"
    },
    {
     "name": "stdout",
     "output_type": "stream",
     "text": [
      "Val update: epoch: 0 |accuracy: 0.6453344821929932 | f1: 0.7844417095184326 | auc: 0.6615904569625854 | treshold: 0.01\n",
      "Test: accuracy: 0.650852382183075 | f1: 0.7885046601295471 | auc: 0.6532622575759888 | \n",
      "Val update: epoch: 1 |accuracy: 0.6453344821929932 | f1: 0.7844417095184326 | auc: 0.7502915859222412 | treshold: 0.22\n",
      "Test: accuracy: 0.650852382183075 | f1: 0.7885046601295471 | auc: 0.7426897287368774 | \n",
      "Val update: epoch: 2 |accuracy: 0.6459391713142395 | f1: 0.7845273017883301 | auc: 0.7784627676010132 | treshold: 0.29000000000000004\n",
      "Test: accuracy: 0.6514085531234741 | f1: 0.788621723651886 | auc: 0.7729441523551941 | \n",
      "Val update: epoch: 3 |accuracy: 0.7024863362312317 | f1: 0.8060238361358643 | auc: 0.7925496101379395 | treshold: 0.42000000000000004\n",
      "Test: accuracy: 0.7035908699035645 | f1: 0.8075788021087646 | auc: 0.7875521183013916 | \n",
      "Val update: epoch: 5 |accuracy: 0.731896698474884 | f1: 0.8174015879631042 | auc: 0.8075422048568726 | treshold: 0.41000000000000003\n",
      "Test: accuracy: 0.7332849502563477 | f1: 0.8192277550697327 | auc: 0.8037902116775513 | \n",
      "Val update: epoch: 6 |accuracy: 0.757122814655304 | f1: 0.8253990411758423 | auc: 0.8232430815696716 | treshold: 0.38\n",
      "Test: accuracy: 0.7571514844894409 | f1: 0.8261163234710693 | auc: 0.8201242685317993 | \n",
      "Val update: epoch: 7 |accuracy: 0.7642335295677185 | f1: 0.8230081796646118 | auc: 0.8291586637496948 | treshold: 0.37\n",
      "Test: accuracy: 0.7610688209533691 | f1: 0.8214588761329651 | auc: 0.8260160088539124 | \n",
      "Val update: epoch: 9 |accuracy: 0.7600735425949097 | f1: 0.8344182968139648 | auc: 0.8394196033477783 | treshold: 0.39\n",
      "Test: accuracy: 0.7608270049095154 | f1: 0.8357276916503906 | auc: 0.83711177110672 | \n",
      "Val update: epoch: 10 |accuracy: 0.7729405760765076 | f1: 0.8361605405807495 | auc: 0.8402643203735352 | treshold: 0.41000000000000003\n",
      "Test: accuracy: 0.7722162008285522 | f1: 0.8362023830413818 | auc: 0.8361910581588745 | \n",
      "Val update: epoch: 11 |accuracy: 0.7883471250534058 | f1: 0.8444017767906189 | auc: 0.849826455116272 | treshold: 0.4\n",
      "Test: accuracy: 0.784645140171051 | f1: 0.8420754075050354 | auc: 0.8445589542388916 | \n",
      "Val update: epoch: 12 |accuracy: 0.7879117727279663 | f1: 0.8385171890258789 | auc: 0.8534110188484192 | treshold: 0.39\n",
      "Test: accuracy: 0.7850078344345093 | f1: 0.8363609313964844 | auc: 0.8470602035522461 | \n",
      "Val update: epoch: 14 |accuracy: 0.7824457287788391 | f1: 0.8468023538589478 | auc: 0.8574239015579224 | treshold: 0.4\n",
      "Test: accuracy: 0.7814532518386841 | f1: 0.8464074730873108 | auc: 0.8510184288024902 | \n",
      "Val update: epoch: 15 |accuracy: 0.7855657339096069 | f1: 0.8447883725166321 | auc: 0.8578020334243774 | treshold: 0.39\n",
      "Test: accuracy: 0.7842340469360352 | f1: 0.8441261053085327 | auc: 0.8506399393081665 | \n",
      "Val update: epoch: 16 |accuracy: 0.79705411195755 | f1: 0.8460112810134888 | auc: 0.8650416135787964 | treshold: 0.4\n",
      "Test: accuracy: 0.7931326031684875 | f1: 0.8434096574783325 | auc: 0.8596023321151733 | \n",
      "Val update: epoch: 17 |accuracy: 0.7775843143463135 | f1: 0.8456321954727173 | auc: 0.8658875226974487 | treshold: 0.39\n",
      "Test: accuracy: 0.779035210609436 | f1: 0.8470166921615601 | auc: 0.8587045073509216 | \n",
      "Val update: epoch: 18 |accuracy: 0.7964252829551697 | f1: 0.8438607454299927 | auc: 0.8678315877914429 | treshold: 0.4\n",
      "Test: accuracy: 0.7913432717323303 | f1: 0.8404607176780701 | auc: 0.8612949252128601 | \n",
      "Val update: epoch: 19 |accuracy: 0.7875973582267761 | f1: 0.8488520383834839 | auc: 0.8707396984100342 | treshold: 0.39\n",
      "Test: accuracy: 0.7868456244468689 | f1: 0.8488485813140869 | auc: 0.8651363849639893 | \n",
      "Val update: epoch: 20 |accuracy: 0.7945387959480286 | f1: 0.8533043265342712 | auc: 0.8788716793060303 | treshold: 0.38\n",
      "Test: accuracy: 0.7955265641212463 | f1: 0.8544878959655762 | auc: 0.8737006187438965 | \n",
      "Val update: epoch: 22 |accuracy: 0.8062206506729126 | f1: 0.84711092710495 | auc: 0.8808639049530029 | treshold: 0.4\n",
      "Test: accuracy: 0.8014266490936279 | f1: 0.8438605070114136 | auc: 0.8757200241088867 | \n",
      "Val update: epoch: 23 |accuracy: 0.8053258061408997 | f1: 0.8587870001792908 | auc: 0.8881761431694031 | treshold: 0.4\n",
      "Test: accuracy: 0.8058759570121765 | f1: 0.8595815896987915 | auc: 0.8826295733451843 | \n",
      "Val update: epoch: 24 |accuracy: 0.8006094694137573 | f1: 0.8580334186553955 | auc: 0.8907233476638794 | treshold: 0.39\n",
      "Test: accuracy: 0.8007254004478455 | f1: 0.8585454821586609 | auc: 0.884925127029419 | \n",
      "Val update: epoch: 25 |accuracy: 0.8055434823036194 | f1: 0.8600083589553833 | auc: 0.8922927379608154 | treshold: 0.41000000000000003\n",
      "Test: accuracy: 0.8054648637771606 | f1: 0.8604485988616943 | auc: 0.8870270252227783 | \n",
      "Val update: epoch: 26 |accuracy: 0.802181601524353 | f1: 0.8593199253082275 | auc: 0.8951723575592041 | treshold: 0.39\n",
      "Test: accuracy: 0.8036513328552246 | f1: 0.8608397841453552 | auc: 0.8902745246887207 | \n",
      "Val update: epoch: 27 |accuracy: 0.8227397799491882 | f1: 0.8673363924026489 | auc: 0.8963906168937683 | treshold: 0.43\n",
      "Test: accuracy: 0.8182082176208496 | f1: 0.8645698428153992 | auc: 0.8905185461044312 | \n",
      "Val update: epoch: 28 |accuracy: 0.8253035545349121 | f1: 0.866079568862915 | auc: 0.8974863886833191 | treshold: 0.41000000000000003\n",
      "Test: accuracy: 0.8212549686431885 | f1: 0.8635557889938354 | auc: 0.8928819894790649 | \n",
      "Val update: epoch: 29 |accuracy: 0.8284477591514587 | f1: 0.869755208492279 | auc: 0.9015694856643677 | treshold: 0.42000000000000004\n",
      "Test: accuracy: 0.8250030279159546 | f1: 0.8677086234092712 | auc: 0.896122932434082 | \n",
      "Val update: epoch: 32 |accuracy: 0.8215305209159851 | f1: 0.8692339062690735 | auc: 0.9036061763763428 | treshold: 0.42000000000000004\n",
      "Test: accuracy: 0.8221738338470459 | f1: 0.8702861070632935 | auc: 0.8993661403656006 | \n",
      "Val update: epoch: 33 |accuracy: 0.8215063214302063 | f1: 0.869204580783844 | auc: 0.9036142230033875 | treshold: 0.41000000000000003\n",
      "Test: accuracy: 0.8213275074958801 | f1: 0.8696204423904419 | auc: 0.8996821641921997 | \n",
      "Val update: epoch: 35 |accuracy: 0.8309630751609802 | f1: 0.8730496168136597 | auc: 0.9060345888137817 | treshold: 0.43\n",
      "Test: accuracy: 0.828315794467926 | f1: 0.8715490102767944 | auc: 0.9026909470558167 | \n",
      "Val update: epoch: 37 |accuracy: 0.8299956321716309 | f1: 0.8737812042236328 | auc: 0.9070978164672852 | treshold: 0.4\n",
      "Test: accuracy: 0.8289687037467957 | f1: 0.873486340045929 | auc: 0.9030462503433228 | \n",
      "Val update: epoch: 38 |accuracy: 0.8360905647277832 | f1: 0.8735091686248779 | auc: 0.9076793193817139 | treshold: 0.42000000000000004\n",
      "Test: accuracy: 0.8322572708129883 | f1: 0.8711720108985901 | auc: 0.9036003351211548 | \n",
      "Val update: epoch: 43 |accuracy: 0.8384850025177002 | f1: 0.8759151101112366 | auc: 0.9083834886550903 | treshold: 0.43\n",
      "Test: accuracy: 0.8349897265434265 | f1: 0.8739424347877502 | auc: 0.9049925804138184 | \n",
      "Val update: epoch: 44 |accuracy: 0.8333091735839844 | f1: 0.8756764531135559 | auc: 0.9104641675949097 | treshold: 0.43\n",
      "Test: accuracy: 0.8350380659103394 | f1: 0.8776234984397888 | auc: 0.9085988998413086 | \n",
      "Val update: epoch: 48 |accuracy: 0.8413873314857483 | f1: 0.879753589630127 | auc: 0.9134684801101685 | treshold: 0.42000000000000004\n",
      "Test: accuracy: 0.8407931327819824 | f1: 0.8801252841949463 | auc: 0.9112260341644287 | \n",
      "Val update: epoch: 49 |accuracy: 0.8446524739265442 | f1: 0.8816102147102356 | auc: 0.9144015312194824 | treshold: 0.4\n",
      "Test: accuracy: 0.8408656716346741 | f1: 0.8795196413993835 | auc: 0.9118666648864746 | \n",
      "Val update: epoch: 53 |accuracy: 0.8456440567970276 | f1: 0.8818498253822327 | auc: 0.9157235622406006 | treshold: 0.4\n",
      "Test: accuracy: 0.8425099849700928 | f1: 0.8801766037940979 | auc: 0.9126666188240051 | \n",
      "Val update: epoch: 62 |accuracy: 0.8461761474609375 | f1: 0.8831354975700378 | auc: 0.9169781804084778 | treshold: 0.42000000000000004\n",
      "Test: accuracy: 0.8432595729827881 | f1: 0.8816375732421875 | auc: 0.9142919778823853 | \n",
      "Val update: epoch: 67 |accuracy: 0.8482078313827515 | f1: 0.8801832795143127 | auc: 0.9178168177604675 | treshold: 0.41000000000000003\n",
      "Test: accuracy: 0.8448313474655151 | f1: 0.8781450986862183 | auc: 0.9159353971481323 | \n",
      "Val update: epoch: 93 |accuracy: 0.8476515412330627 | f1: 0.8786202669143677 | auc: 0.9180469512939453 | treshold: 0.43\n",
      "Test: accuracy: 0.8448071479797363 | f1: 0.8769271969795227 | auc: 0.9169148206710815 | \n",
      "Val update: epoch: 95 |accuracy: 0.8497073650360107 | f1: 0.8828254342079163 | auc: 0.9182596206665039 | treshold: 0.42000000000000004\n",
      "Test: accuracy: 0.8482166528701782 | f1: 0.8821198344230652 | auc: 0.9170651435852051 | \n"
     ]
    }
   ],
   "source": [
    "for embeddings in ['explicit', 'neural', 'svd']:\n",
    "    print(f\"\\nEvaluating {experiment_name} with {embeddings} embeddings\")\n",
    "\n",
    "    model = SessionwiseGRU(\n",
    "        RecsysEmbedding(\n",
    "            train_num_items, \n",
    "            train_user_item_matrix, \n",
    "            embeddings=embeddings,\n",
    "            embedding_dim=40\n",
    "        ),\n",
    "        output_dim=1\n",
    "    ).to(device)\n",
    "\n",
    "\n",
    "    best_model, metrics = train(\n",
    "        model, \n",
    "        train_loader, val_loader, test_loader, \n",
    "        device=device, lr=1e-3, num_epochs=5000, early_stopping=7,\n",
    "        silent=True\n",
    "    )\n",
    "    \n",
    "    metrics['embeddings'] = embeddings\n",
    "    rl4rs_results.append(metrics)"
   ]
  },
  {
   "cell_type": "code",
   "execution_count": 10,
   "id": "e1b6dba5-c7fb-4135-9407-82472dbc18b6",
   "metadata": {},
   "outputs": [],
   "source": [
    "pd.DataFrame(rl4rs_results).to_csv(f'results/rl4rs_{experiment_name}.csv')\n",
    "del dataset, train_loader, val_loader, test_loader, train_user_item_matrix, train_num_items"
   ]
  }
 ],
 "metadata": {
  "kernelspec": {
   "display_name": "Python 3 (ipykernel)",
   "language": "python",
   "name": "python3"
  },
  "language_info": {
   "codemirror_mode": {
    "name": "ipython",
    "version": 3
   },
   "file_extension": ".py",
   "mimetype": "text/x-python",
   "name": "python",
   "nbconvert_exporter": "python",
   "pygments_lexer": "ipython3",
   "version": "3.10.13"
  }
 },
 "nbformat": 4,
 "nbformat_minor": 5
}
